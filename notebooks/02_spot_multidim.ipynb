{
 "cells": [
  {
   "cell_type": "raw",
   "metadata": {},
   "source": [
    "---\n",
    "title: \"Introduction to SPOT: Multi-dim Functions\"\n",
    "format: html\n",
    "---"
   ]
  },
  {
   "attachments": {},
   "cell_type": "markdown",
   "metadata": {},
   "source": [
    "# Introduction to Sequential Parameter Optimization\n",
    "## Multi-dimensional Functions"
   ]
  },
  {
   "attachments": {},
   "cell_type": "markdown",
   "metadata": {},
   "source": [
    "* This notebook illustrates how high-dimensional functions can be analyzed."
   ]
  },
  {
   "attachments": {},
   "cell_type": "markdown",
   "metadata": {},
   "source": [
    "## 1 Example: `Spot` and the 3-dim Sphere Function"
   ]
  },
  {
   "cell_type": "code",
   "execution_count": null,
   "metadata": {},
   "outputs": [],
   "source": [
    "import numpy as np\n",
    "from math import inf\n",
    "from spotPython.fun.objectivefunctions import analytical\n",
    "from spotPython.spot import spot\n",
    "from scipy.optimize import shgo\n",
    "from scipy.optimize import direct\n",
    "from scipy.optimize import differential_evolution\n",
    "import matplotlib.pyplot as plt\n",
    "import pylab\n",
    "from numpy import append, ndarray, multiply, isinf, linspace, meshgrid, ravel\n",
    "from numpy import array"
   ]
  },
  {
   "attachments": {},
   "cell_type": "markdown",
   "metadata": {},
   "source": [
    "### The Objective Function: 3-dim Sphere\n",
    "\n",
    "* The `spotPython` package provides several classes of objective functions.\n",
    "* We will use an analytical objective function, i.e., a function that can be described by a (closed) formula:\n",
    "   $$f(x) = \\sum_i^n x_i^2 $$"
   ]
  },
  {
   "attachments": {},
   "cell_type": "markdown",
   "metadata": {},
   "source": [
    "* Here we will use $n=3$."
   ]
  },
  {
   "cell_type": "code",
   "execution_count": null,
   "metadata": {},
   "outputs": [],
   "source": [
    "fun = analytical().fun_sphere\n"
   ]
  },
  {
   "attachments": {},
   "cell_type": "markdown",
   "metadata": {},
   "source": [
    "* The size of the `lower` bound vector determines the problem dimension.\n",
    "* Here we will use `np.array([-1, -1, -1])`, i.e., a three-dim function.\n",
    "* We will use three different `theta` values (one for each dimension), i.e., we set\n",
    "  \n",
    "  `surrogate_control={\"n_theta\": 3}`."
   ]
  },
  {
   "cell_type": "code",
   "execution_count": null,
   "metadata": {},
   "outputs": [],
   "source": [
    "spot_3 = spot.Spot(fun=fun,\n",
    "                   lower = -1.0*np.ones(3),\n",
    "                   upper = np.ones(3),\n",
    "                   var_name=[\"Pressure\", \"Temp\", \"Lambda\"],\n",
    "                   show_progress=True,\n",
    "                   surrogate_control={\"n_theta\": 3})\n",
    "\n",
    "spot_3.run()"
   ]
  },
  {
   "attachments": {},
   "cell_type": "markdown",
   "metadata": {},
   "source": [
    "### Results"
   ]
  },
  {
   "cell_type": "code",
   "execution_count": null,
   "metadata": {},
   "outputs": [],
   "source": [
    "spot_3.print_results()"
   ]
  },
  {
   "cell_type": "code",
   "execution_count": null,
   "metadata": {},
   "outputs": [],
   "source": [
    "spot_3.plot_progress()"
   ]
  },
  {
   "attachments": {},
   "cell_type": "markdown",
   "metadata": {},
   "source": [
    "### A Contour Plot\n",
    "\n",
    "* We can select two dimensions, say $i=0$ and $j=1$, and generate a contour plot as follows.\n",
    "  * Note: We have specified identical `min_z` and `max_z` values to generate comparable plots!\n"
   ]
  },
  {
   "cell_type": "code",
   "execution_count": null,
   "metadata": {},
   "outputs": [],
   "source": [
    "spot_3.plot_contour(i=0, j=1, min_z=0, max_z=2.25)"
   ]
  },
  {
   "attachments": {},
   "cell_type": "markdown",
   "metadata": {},
   "source": [
    "* In a similar manner, we can plot dimension $i=0$ and $j=2$:"
   ]
  },
  {
   "cell_type": "code",
   "execution_count": null,
   "metadata": {},
   "outputs": [],
   "source": [
    "spot_3.plot_contour(i=0, j=2, min_z=0, max_z=2.25)"
   ]
  },
  {
   "attachments": {},
   "cell_type": "markdown",
   "metadata": {},
   "source": [
    "* The final combination is $i=1$ and $j=2$:"
   ]
  },
  {
   "cell_type": "code",
   "execution_count": null,
   "metadata": {},
   "outputs": [],
   "source": [
    "spot_3.plot_contour(i=1, j=2, min_z=0, max_z=2.25)"
   ]
  },
  {
   "attachments": {},
   "cell_type": "markdown",
   "metadata": {},
   "source": [
    "* The three plots look very similar, because the `fun_sphere` is symmetric.\n",
    "* This can also be seen from the variable importance:"
   ]
  },
  {
   "cell_type": "code",
   "execution_count": null,
   "metadata": {},
   "outputs": [],
   "source": [
    "spot_3.print_importance()"
   ]
  },
  {
   "attachments": {},
   "cell_type": "markdown",
   "metadata": {},
   "source": [
    "## Conclusion:\n",
    "\n",
    "* Based on this quick analysis, we can conclude that all three dimensions are equally important (as expected, because the analytical function is known)."
   ]
  },
  {
   "attachments": {},
   "cell_type": "markdown",
   "metadata": {},
   "source": [
    "# Exercises"
   ]
  },
  {
   "attachments": {},
   "cell_type": "markdown",
   "metadata": {},
   "source": [
    "* Important:\n",
    "    * Results from these exercises should be added to this document, i.e., you should submit an updated version of this notebook.\n",
    "    * Please combine your results using this notebook.\n",
    "    * Only one notebook from each group!\n",
    "    * Presentation is based on this notebook. No addtional slides are required!\n",
    "    * spotPython version `0.16.11` (or greater) is required (see http://www.gm.fh-koeln.de/~bartz/site/download/)"
   ]
  },
  {
   "attachments": {},
   "cell_type": "markdown",
   "metadata": {},
   "source": [
    "## Exercise 1\n",
    "\n",
    "* Each team member should choose one of the following objective functions.\n",
    "* Please add your name to the section title!"
   ]
  },
  {
   "attachments": {},
   "cell_type": "markdown",
   "metadata": {},
   "source": [
    "### 1. The Three Dimensional `fun_cubed`\n",
    "\n",
    "* The input dimension is `3`. The search range is  $-1 \\leq x \\leq 1$ for all dimensions.\n",
    "* Generate contour plots\n",
    "* Calculate the variable importance.\n",
    "* Discuss the variable importance: \n",
    "  * Are all variables equally important? \n",
    "  * If not: \n",
    "    * Which is the most important variable?\n",
    "    * Which is the least important variable?\n",
    "\n",
    "### 2. The Ten Dimensional `fun_wing_wt`\n",
    "\n",
    "* The input dimension is `10`. The search range is  $0 \\leq x \\leq 1$ for all dimensions.\n",
    "* Calculate the variable importance.\n",
    "* Discuss the variable importance: \n",
    "  * Are all variables equally important? \n",
    "  * If not: \n",
    "    * Which is the most important variable?\n",
    "    * Which is the least important variable?\n",
    "  * Generate contour plots for the three most important variables. Do they confirm your selection?\n",
    "\n",
    "### 3. The Three Dimensional `fun_runge`\n",
    "\n",
    "* The input dimension is `3`. The search range is  $-5 \\leq x \\leq 5$ for all dimensions.\n",
    "* Generate contour plots\n",
    "* Calculate the variable importance.\n",
    "* Discuss the variable importance: \n",
    "  * Are all variables equally important? \n",
    "  * If not: \n",
    "    * Which is the most important variable?\n",
    "    * Which is the least important variable?\n",
    "\n",
    "### 4. The Three Dimensional `fun_linear`\n",
    "\n",
    "* The input dimension is `3`. The search range is  $-5 \\leq x \\leq 5$ for all dimensions.\n",
    "* Generate contour plots\n",
    "* Calculate the variable importance.\n",
    "* Discuss the variable importance: \n",
    "  * Are all variables equally important? \n",
    "  * If not: \n",
    "    * Which is the most important variable?\n",
    "    * Which is the least important variable?"
   ]
  }
 ],
 "metadata": {
  "kernelspec": {
   "display_name": "spotCondaEnv",
   "language": "python",
   "name": "python3"
  },
  "language_info": {
   "codemirror_mode": {
    "name": "ipython",
    "version": 3
   },
   "file_extension": ".py",
   "mimetype": "text/x-python",
   "name": "python",
   "nbconvert_exporter": "python",
   "pygments_lexer": "ipython3",
   "version": "3.10.6"
  },
  "orig_nbformat": 4,
  "vscode": {
   "interpreter": {
    "hash": "81c77de872def749acd68d9955e19f0df6803301f4c1f66c3444af66334112ae"
   }
  }
 },
 "nbformat": 4,
 "nbformat_minor": 2
}
