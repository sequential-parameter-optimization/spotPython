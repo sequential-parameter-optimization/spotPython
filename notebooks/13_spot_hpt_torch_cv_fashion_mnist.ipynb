{
 "cells": [
  {
   "cell_type": "raw",
   "metadata": {},
   "source": [
    "---\n",
    "title: \"pytorch Hyperparameter Tuning with SPOT: fashionMNIST\"\n",
    "format: html\n",
    "---"
   ]
  },
  {
   "cell_type": "code",
   "execution_count": 1,
   "metadata": {},
   "outputs": [],
   "source": [
    "MAX_TIME = 600\n",
    "INIT_SIZE = 20"
   ]
  },
  {
   "cell_type": "code",
   "execution_count": 2,
   "metadata": {},
   "outputs": [
    {
     "data": {
      "text/plain": [
       "'13-torch_p040025_10min_5init_2023-05-05_18-16-21'"
      ]
     },
     "execution_count": 2,
     "metadata": {},
     "output_type": "execute_result"
    }
   ],
   "source": [
    "import pickle\n",
    "import socket\n",
    "from datetime import datetime\n",
    "from dateutil.tz import tzlocal\n",
    "start_time = datetime.now(tzlocal())\n",
    "HOSTNAME = socket.gethostname().split(\".\")[0]\n",
    "experiment_name = '13-torch' + \"_\" + HOSTNAME + \"_\" + str(MAX_TIME) + \"min_\" + str(INIT_SIZE) + \"init_\" + str(start_time).split(\".\", 1)[0].replace(' ', '_')\n",
    "experiment_name = experiment_name.replace(':', '-')\n",
    "experiment_name"
   ]
  },
  {
   "attachments": {},
   "cell_type": "markdown",
   "metadata": {},
   "source": [
    "# Chapter 13: Sequential Parameter Optimization\n",
    "## Hyperparameter Tuning: pytorch cross validation  with fashionMNIST Data"
   ]
  },
  {
   "attachments": {},
   "cell_type": "markdown",
   "metadata": {},
   "source": [
    "* This notebook exemplifies hyperparameter tuning with SPOT (spotPython).\n",
    "* The hyperparameter software SPOT was developed in R (statistical programming language), see Open Access book \"Hyperparameter Tuning for Machine and Deep Learning with R - A Practical Guide\", available here: [https://link.springer.com/book/10.1007/978-981-19-5170-1](https://link.springer.com/book/10.1007/978-981-19-5170-1).\n"
   ]
  },
  {
   "cell_type": "code",
   "execution_count": 3,
   "metadata": {},
   "outputs": [
    {
     "name": "stdout",
     "output_type": "stream",
     "text": [
      "spotPython                                0.0.49\n",
      "spotRiver                                 0.0.92\n",
      "Note: you may need to restart the kernel to use updated packages.\n"
     ]
    }
   ],
   "source": [
    "pip list | grep  \"spot[RiverPython]\""
   ]
  },
  {
   "cell_type": "code",
   "execution_count": 4,
   "metadata": {},
   "outputs": [],
   "source": [
    "# import sys\n",
    "# !{sys.executable} -m pip install --upgrade build\n",
    "# !{sys.executable} -m pip install --upgrade --force-reinstall spotPython\n"
   ]
  },
  {
   "cell_type": "code",
   "execution_count": 5,
   "metadata": {},
   "outputs": [],
   "source": [
    "import torch\n",
    "from tabulate import tabulate\n",
    "import copy\n",
    "import warnings\n",
    "import numbers\n",
    "import json\n",
    "import calendar\n",
    "import math\n",
    "import datetime as dt\n",
    "import numpy as np\n",
    "from math import inf\n",
    "import pandas as pd\n",
    "\n",
    "from scipy.optimize import differential_evolution\n",
    "\n",
    "import matplotlib.pyplot as plt\n",
    "\n",
    "from spotPython.spot import spot\n",
    "from spotPython.hyperparameters.values import (\n",
    "    add_core_model_to_fun_control,\n",
    "    assign_values,\n",
    "    convert_keys,\n",
    "    get_bound_values,\n",
    "    get_default_hyperparameters_for_core_model,\n",
    "    get_default_values,\n",
    "    get_dict_with_levels_and_types,\n",
    "    get_values_from_dict,\n",
    "    get_var_name,\n",
    "    get_var_type,\n",
    "    iterate_dict_values,\n",
    "    modify_hyper_parameter_levels,\n",
    "    modify_hyper_parameter_bounds,\n",
    "    replace_levels_with_positions,\n",
    "    return_conf_list_from_var_dict,\n",
    "    get_one_core_model_from_X,\n",
    "    transform_hyper_parameter_values,\n",
    "    get_dict_with_levels_and_types,\n",
    "    convert_keys,\n",
    "    iterate_dict_values,\n",
    ")\n",
    "\n",
    "from spotPython.utils.convert import class_for_name\n",
    "from spotPython.utils.eda import (\n",
    "    get_stars,\n",
    "    gen_design_table)\n",
    "from spotPython.utils.transform import transform_hyper_parameter_values\n",
    "\n",
    "from spotPython.data.torch_hyper_dict import TorchHyperDict\n",
    "from spotPython.fun.hypertorch import HyperTorch\n",
    "from spotPython.utils.convert import get_Xy_from_df\n",
    "from spotPython.plot.validation import plot_cv_predictions, plot_roc, plot_confusion_matrix\n",
    "from spotPython.torch.netcvfashionMNIST import Net_CV_fashionMNIST\n",
    "\n",
    "import torch\n",
    "from torch import nn\n",
    "from torch.utils.data import DataLoader\n",
    "from torchvision import datasets\n",
    "from torchvision.transforms import ToTensor\n",
    "from functools import partial\n",
    "import torch.nn.functional as F\n",
    "import torch.optim as optim\n",
    "from torch.utils.data import random_split\n",
    "import torchvision\n",
    "import torchvision.transforms as transforms\n",
    "\n",
    "warnings.filterwarnings(\"ignore\")"
   ]
  },
  {
   "cell_type": "code",
   "execution_count": 6,
   "metadata": {},
   "outputs": [
    {
     "name": "stdout",
     "output_type": "stream",
     "text": [
      "2.0.0\n",
      "MPS device:  mps\n"
     ]
    }
   ],
   "source": [
    "print(torch.__version__)\n",
    "# Check that MPS is available\n",
    "if not torch.backends.mps.is_available():\n",
    "    if not torch.backends.mps.is_built():\n",
    "        print(\"MPS not available because the current PyTorch install was not \"\n",
    "              \"built with MPS enabled.\")\n",
    "    else:\n",
    "        print(\"MPS not available because the current MacOS version is not 12.3+ \"\n",
    "              \"and/or you do not have an MPS-enabled device on this machine.\")\n",
    "\n",
    "else:\n",
    "    mps_device = torch.device(\"mps\")\n",
    "    print(\"MPS device: \", mps_device)"
   ]
  },
  {
   "attachments": {},
   "cell_type": "markdown",
   "metadata": {},
   "source": [
    "## 0. Initialization of the Empty `fun_control` Dictionary"
   ]
  },
  {
   "cell_type": "code",
   "execution_count": 7,
   "metadata": {},
   "outputs": [],
   "source": [
    "fun_control = {}"
   ]
  },
  {
   "attachments": {},
   "cell_type": "markdown",
   "metadata": {},
   "source": [
    "## 1. Load fashionMNIST Data"
   ]
  },
  {
   "cell_type": "code",
   "execution_count": 8,
   "metadata": {},
   "outputs": [],
   "source": [
    "def load_data(data_dir=\"./data\"):\n",
    "    # Download training data from open datasets.\n",
    "    training_data = datasets.FashionMNIST(\n",
    "        root=data_dir,\n",
    "        train=True,\n",
    "        download=True,\n",
    "        transform=ToTensor(),\n",
    "    )\n",
    "    # Download test data from open datasets.\n",
    "    test_data = datasets.FashionMNIST(\n",
    "        root=data_dir,\n",
    "        train=False,\n",
    "        download=True,\n",
    "        transform=ToTensor(),\n",
    "    )\n",
    "    return training_data, test_data"
   ]
  },
  {
   "cell_type": "code",
   "execution_count": 9,
   "metadata": {},
   "outputs": [],
   "source": [
    "train, test = load_data()"
   ]
  },
  {
   "cell_type": "code",
   "execution_count": 10,
   "metadata": {},
   "outputs": [
    {
     "data": {
      "text/plain": [
       "Dataset FashionMNIST\n",
       "    Number of datapoints: 60000\n",
       "    Root location: ./data\n",
       "    Split: Train\n",
       "    StandardTransform\n",
       "Transform: ToTensor()"
      ]
     },
     "execution_count": 10,
     "metadata": {},
     "output_type": "execute_result"
    }
   ],
   "source": [
    "train.data.shape, test.data.shape\n",
    "train"
   ]
  },
  {
   "cell_type": "code",
   "execution_count": 11,
   "metadata": {},
   "outputs": [],
   "source": [
    "n_samples = len(train)\n",
    "# add the dataset to the fun_control\n",
    "fun_control.update({\"data\": None, # dataset,\n",
    "               \"train\": train,\n",
    "               \"test\": test,\n",
    "               \"n_samples\": n_samples,\n",
    "               \"target_column\": None})\n"
   ]
  },
  {
   "attachments": {},
   "cell_type": "markdown",
   "metadata": {},
   "source": [
    "## 2. Specification of the Preprocessing Model"
   ]
  },
  {
   "cell_type": "code",
   "execution_count": 12,
   "metadata": {},
   "outputs": [],
   "source": [
    "# categorical_columns = []\n",
    "# one_hot_encoder = OneHotEncoder(handle_unknown=\"ignore\", sparse_output=False)\n",
    "# prep_model = ColumnTransformer(\n",
    "#         transformers=[\n",
    "#             (\"categorical\", one_hot_encoder, categorical_columns),\n",
    "#         ],\n",
    "#         remainder=StandardScaler(),\n",
    "#     )\n",
    "prep_model = None\n",
    "fun_control.update({\"prep_model\": prep_model})"
   ]
  },
  {
   "attachments": {},
   "cell_type": "markdown",
   "metadata": {},
   "source": [
    "## 3. Select `algorithm` and `core_model_hyper_dict`"
   ]
  },
  {
   "cell_type": "code",
   "execution_count": 13,
   "metadata": {},
   "outputs": [],
   "source": [
    "# core_model  = RidgeCV\n",
    "core_model = Net_CV_fashionMNIST\n",
    "fun_control = add_core_model_to_fun_control(core_model=core_model,\n",
    "                              fun_control=fun_control,\n",
    "                              hyper_dict=TorchHyperDict,\n",
    "                              filename=None)"
   ]
  },
  {
   "attachments": {},
   "cell_type": "markdown",
   "metadata": {},
   "source": [
    "## 4. Modify `hyper_dict` Hyperparameters for the Selected Algorithm aka `core_model`"
   ]
  },
  {
   "attachments": {},
   "cell_type": "markdown",
   "metadata": {},
   "source": [
    "### Modify hyperparameter of type factor"
   ]
  },
  {
   "cell_type": "code",
   "execution_count": 14,
   "metadata": {},
   "outputs": [],
   "source": [
    "# fun_control = modify_hyper_parameter_levels(fun_control, \"leaf_model\", [\"LinearRegression\"])\n",
    "# fun_control[\"core_model_hyper_dict\"]"
   ]
  },
  {
   "attachments": {},
   "cell_type": "markdown",
   "metadata": {},
   "source": [
    "### Modify hyperparameter of type numeric and integer (boolean)"
   ]
  },
  {
   "cell_type": "code",
   "execution_count": 15,
   "metadata": {},
   "outputs": [],
   "source": [
    "# fun_control = modify_hyper_parameter_bounds(fun_control, \"delta\", bounds=[1e-10, 1e-6])\n",
    "# fun_control = modify_hyper_parameter_bounds(fun_control, \"min_samples_split\", bounds=[3, 20])\n",
    "#fun_control = modify_hyper_parameter_bounds(fun_control, \"merit_preprune\", bounds=[0, 0])\n",
    "# fun_control[\"core_model_hyper_dict\"]\n",
    "fun_control = modify_hyper_parameter_bounds(fun_control, \"k_folds\", bounds=[2, 2])"
   ]
  },
  {
   "attachments": {},
   "cell_type": "markdown",
   "metadata": {},
   "source": [
    "## 5. Selection of the Objective (Loss) Function"
   ]
  },
  {
   "attachments": {},
   "cell_type": "markdown",
   "metadata": {},
   "source": [
    "There are two metrics:\n",
    "\n",
    "    1. `metric` is used for the river based evaluation via `eval_oml_iter_progressive`.\n",
    "    2. `metric_sklearn` is used for the sklearn based evaluation."
   ]
  },
  {
   "cell_type": "code",
   "execution_count": 16,
   "metadata": {},
   "outputs": [],
   "source": [
    "fun = HyperTorch(seed=123, log_level=50).fun_torch\n",
    "weights = -1.0\n",
    "horizon = 7*24\n",
    "oml_grace_period = 2\n",
    "step = 100\n",
    "weight_coeff = 1.0\n",
    "\n",
    "fun_control.update({\n",
    "               \"data_dir\": None,\n",
    "               \"checkpoint_dir\": None,\n",
    "               \"horizon\": horizon,\n",
    "               \"oml_grace_period\": oml_grace_period,\n",
    "               \"weights\": weights,\n",
    "               \"step\": step,\n",
    "               \"log_level\": 50,\n",
    "               \"weight_coeff\": weight_coeff,\n",
    "               \"metric\": None,\n",
    "               \"metric_sklearn\": None\n",
    "               })"
   ]
  },
  {
   "attachments": {},
   "cell_type": "markdown",
   "metadata": {},
   "source": [
    "## 6. Calling the SPOT Function"
   ]
  },
  {
   "attachments": {},
   "cell_type": "markdown",
   "metadata": {},
   "source": [
    "### Prepare the SPOT Parameters"
   ]
  },
  {
   "attachments": {},
   "cell_type": "markdown",
   "metadata": {},
   "source": [
    "* Get types and variable names as well as lower and upper bounds for the hyperparameters."
   ]
  },
  {
   "cell_type": "code",
   "execution_count": 17,
   "metadata": {},
   "outputs": [],
   "source": [
    "var_type = get_var_type(fun_control)\n",
    "var_name = get_var_name(fun_control)\n",
    "fun_control.update({\"var_type\": var_type,\n",
    "                    \"var_name\": var_name})\n",
    "\n",
    "lower = get_bound_values(fun_control, \"lower\")\n",
    "upper = get_bound_values(fun_control, \"upper\")"
   ]
  },
  {
   "cell_type": "code",
   "execution_count": 18,
   "metadata": {},
   "outputs": [
    {
     "name": "stdout",
     "output_type": "stream",
     "text": [
      "| name       | type   |   default |   lower |   upper | transform             |\n",
      "|------------|--------|-----------|---------|---------|-----------------------|\n",
      "| l1         | int    |     5     |  2      |     9   | transform_power_2_int |\n",
      "| l2         | int    |     5     |  2      |     9   | transform_power_2_int |\n",
      "| lr         | float  |     0.001 |  0.0001 |     0.1 | None                  |\n",
      "| batch_size | int    |     4     |  1      |     4   | transform_power_2_int |\n",
      "| epochs     | int    |     3     |  1      |     4   | transform_power_2_int |\n",
      "| k_folds    | int    |     2     |  2      |     2   | None                  |\n"
     ]
    }
   ],
   "source": [
    "print(gen_design_table(fun_control))"
   ]
  },
  {
   "attachments": {},
   "cell_type": "markdown",
   "metadata": {},
   "source": [
    "### Run the `Spot` Optimizer\n",
    "\n",
    "* Run SPOT for approx. x mins (`max_time`).\n",
    "* Note: the run takes longer, because the evaluation time of initial design (here: `initi_size`, 20 points) is not considered."
   ]
  },
  {
   "cell_type": "code",
   "execution_count": 19,
   "metadata": {},
   "outputs": [
    {
     "name": "stdout",
     "output_type": "stream",
     "text": [
      "Using mps device\n",
      "Fold 0\n",
      "[1,  2000] loss: 2.327\n",
      "[2,  2000] loss: 2.329\n",
      "[3,  2000] loss: 2.328\n",
      "[4,  2000] loss: 2.331\n",
      "Accuracy for fold 0: 10 %\n",
      "--------------------------------\n",
      "Fold 1\n",
      "[1,  2000] loss: 2.329\n",
      "[2,  2000] loss: 2.329\n",
      "[3,  2000] loss: 2.332\n",
      "[4,  2000] loss: 2.328\n",
      "Accuracy for fold 1: 9 %\n",
      "--------------------------------\n",
      "k-fold CV results for 2 folds\n",
      "--------------------------------\n",
      "Fold 0: 10.106666666666667 %\n",
      "Fold 1: 9.893333333333333 %\n",
      "Average: 10.0 %\n",
      "Using mps device\n",
      "Fold 0\n",
      "[1,  2000] loss: 2.364\n",
      "[1,  4000] loss: 1.182\n",
      "[1,  6000] loss: 0.787\n",
      "[1,  8000] loss: 0.592\n",
      "[1, 10000] loss: 0.473\n",
      "[1, 12000] loss: 0.394\n",
      "[1, 14000] loss: 0.337\n",
      "[2,  2000] loss: 2.363\n",
      "[2,  4000] loss: 1.186\n",
      "[2,  6000] loss: 0.788\n",
      "[2,  8000] loss: 0.590\n",
      "[2, 10000] loss: 0.473\n",
      "[2, 12000] loss: 0.394\n",
      "[2, 14000] loss: 0.337\n",
      "[3,  2000] loss: 2.361\n",
      "[3,  4000] loss: 1.186\n",
      "[3,  6000] loss: 0.789\n",
      "[3,  8000] loss: 0.591\n",
      "[3, 10000] loss: 0.471\n",
      "[3, 12000] loss: 0.395\n",
      "[3, 14000] loss: 0.338\n",
      "[4,  2000] loss: 2.365\n",
      "[4,  4000] loss: 1.183\n",
      "[4,  6000] loss: 0.788\n",
      "[4,  8000] loss: 0.591\n",
      "[4, 10000] loss: 0.474\n",
      "[4, 12000] loss: 0.394\n",
      "[4, 14000] loss: 0.338\n",
      "[5,  2000] loss: 2.363\n",
      "[5,  4000] loss: 1.184\n",
      "[5,  6000] loss: 0.788\n",
      "[5,  8000] loss: 0.591\n",
      "[5, 10000] loss: 0.474\n",
      "[5, 12000] loss: 0.394\n",
      "[5, 14000] loss: 0.338\n",
      "[6,  2000] loss: 2.367\n",
      "[6,  4000] loss: 1.183\n",
      "[6,  6000] loss: 0.788\n",
      "[6,  8000] loss: 0.591\n",
      "[6, 10000] loss: 0.473\n",
      "[6, 12000] loss: 0.394\n",
      "[6, 14000] loss: 0.338\n",
      "[7,  2000] loss: 2.366\n",
      "[7,  4000] loss: 1.182\n",
      "[7,  6000] loss: 0.788\n",
      "[7,  8000] loss: 0.590\n",
      "[7, 10000] loss: 0.473\n",
      "[7, 12000] loss: 0.394\n",
      "[7, 14000] loss: 0.338\n",
      "[8,  2000] loss: 2.367\n",
      "[8,  4000] loss: 1.182\n",
      "[8,  6000] loss: 0.788\n",
      "[8,  8000] loss: 0.591\n",
      "[8, 10000] loss: 0.472\n",
      "[8, 12000] loss: 0.393\n",
      "[8, 14000] loss: 0.338\n",
      "Accuracy for fold 0: 10 %\n",
      "--------------------------------\n",
      "Fold 1\n",
      "[1,  2000] loss: 2.364\n",
      "[1,  4000] loss: 1.180\n",
      "[1,  6000] loss: 0.789\n",
      "[1,  8000] loss: 0.591\n",
      "[1, 10000] loss: 0.474\n",
      "[1, 12000] loss: 0.393\n",
      "[1, 14000] loss: 0.338\n",
      "[2,  2000] loss: 2.359\n",
      "[2,  4000] loss: 1.183\n",
      "[2,  6000] loss: 0.788\n",
      "[2,  8000] loss: 0.590\n",
      "[2, 10000] loss: 0.473\n",
      "[2, 12000] loss: 0.395\n",
      "[2, 14000] loss: 0.336\n",
      "[3,  2000] loss: 2.367\n",
      "[3,  4000] loss: 1.182\n",
      "[3,  6000] loss: 0.786\n",
      "[3,  8000] loss: 0.590\n",
      "[3, 10000] loss: 0.473\n",
      "[3, 12000] loss: 0.394\n",
      "[3, 14000] loss: 0.338\n",
      "[4,  2000] loss: 2.366\n",
      "[4,  4000] loss: 1.184\n",
      "[4,  6000] loss: 0.787\n",
      "[4,  8000] loss: 0.590\n",
      "[4, 10000] loss: 0.472\n",
      "[4, 12000] loss: 0.395\n",
      "[4, 14000] loss: 0.338\n",
      "[5,  2000] loss: 2.363\n",
      "[5,  4000] loss: 1.184\n",
      "[5,  6000] loss: 0.789\n",
      "[5,  8000] loss: 0.592\n",
      "[5, 10000] loss: 0.473\n",
      "[5, 12000] loss: 0.394\n",
      "[5, 14000] loss: 0.338\n",
      "[6,  2000] loss: 2.364\n",
      "[6,  4000] loss: 1.185\n",
      "[6,  6000] loss: 0.787\n",
      "[6,  8000] loss: 0.591\n",
      "[6, 10000] loss: 0.472\n",
      "[6, 12000] loss: 0.394\n",
      "[6, 14000] loss: 0.338\n",
      "[7,  2000] loss: 2.369\n",
      "[7,  4000] loss: 1.182\n",
      "[7,  6000] loss: 0.785\n",
      "[7,  8000] loss: 0.591\n",
      "[7, 10000] loss: 0.472\n",
      "[7, 12000] loss: 0.394\n",
      "[7, 14000] loss: 0.337\n",
      "[8,  2000] loss: 2.364\n",
      "[8,  4000] loss: 1.181\n",
      "[8,  6000] loss: 0.790\n",
      "[8,  8000] loss: 0.592\n",
      "[8, 10000] loss: 0.474\n",
      "[8, 12000] loss: 0.394\n",
      "[8, 14000] loss: 0.338\n",
      "Accuracy for fold 1: 9 %\n",
      "--------------------------------\n",
      "k-fold CV results for 2 folds\n",
      "--------------------------------\n",
      "Fold 0: 10.226666666666667 %\n",
      "Fold 1: 9.966666666666667 %\n",
      "Average: 10.096666666666668 %\n",
      "Using mps device\n",
      "Fold 0\n",
      "[1,  2000] loss: 0.762\n",
      "[2,  2000] loss: 0.440\n",
      "[3,  2000] loss: 0.385\n",
      "[4,  2000] loss: 0.356\n",
      "[5,  2000] loss: 0.332\n",
      "[6,  2000] loss: 0.322\n",
      "[7,  2000] loss: 0.299\n",
      "[8,  2000] loss: 0.286\n",
      "[9,  2000] loss: 0.272\n",
      "[10,  2000] loss: 0.268\n",
      "[11,  2000] loss: 0.256\n",
      "[12,  2000] loss: 0.244\n",
      "[13,  2000] loss: 0.237\n",
      "[14,  2000] loss: 0.226\n",
      "[15,  2000] loss: 0.221\n",
      "[16,  2000] loss: 0.213\n",
      "Accuracy for fold 0: 88 %\n",
      "--------------------------------\n",
      "Fold 1\n",
      "[1,  2000] loss: 0.345\n",
      "[2,  2000] loss: 0.307\n",
      "[3,  2000] loss: 0.285\n",
      "[4,  2000] loss: 0.261\n",
      "[5,  2000] loss: 0.253\n",
      "[6,  2000] loss: 0.242\n",
      "[7,  2000] loss: 0.232\n",
      "[8,  2000] loss: 0.225\n",
      "[9,  2000] loss: 0.218\n",
      "[10,  2000] loss: 0.207\n",
      "[11,  2000] loss: 0.196\n",
      "[12,  2000] loss: 0.194\n",
      "[13,  2000] loss: 0.182\n",
      "[14,  2000] loss: 0.183\n",
      "[15,  2000] loss: 0.180\n",
      "[16,  2000] loss: 0.165\n",
      "Accuracy for fold 1: 89 %\n",
      "--------------------------------\n",
      "k-fold CV results for 2 folds\n",
      "--------------------------------\n",
      "Fold 0: 88.42333333333333 %\n",
      "Fold 1: 89.87333333333333 %\n",
      "Average: 89.14833333333334 %\n",
      "Using mps device\n",
      "Fold 0\n",
      "[1,  2000] loss: 1.887\n",
      "[1,  4000] loss: 1.094\n",
      "[1,  6000] loss: 0.623\n",
      "[2,  2000] loss: 2.280\n",
      "[2,  4000] loss: 1.161\n",
      "[2,  6000] loss: 0.774\n",
      "[3,  2000] loss: 2.321\n",
      "[3,  4000] loss: 1.160\n",
      "[3,  6000] loss: 0.774\n",
      "[4,  2000] loss: 2.322\n",
      "[4,  4000] loss: 1.160\n",
      "[4,  6000] loss: 0.774\n",
      "Accuracy for fold 0: 9 %\n",
      "--------------------------------\n",
      "Fold 1\n",
      "[1,  2000] loss: 2.323\n",
      "[1,  4000] loss: 1.161\n",
      "[1,  6000] loss: 0.775\n",
      "[2,  2000] loss: 2.324\n",
      "[2,  4000] loss: 1.161\n",
      "[2,  6000] loss: 0.774\n",
      "[3,  2000] loss: 2.323\n",
      "[3,  4000] loss: 1.161\n",
      "[3,  6000] loss: 0.775\n",
      "[4,  2000] loss: 2.323\n",
      "[4,  4000] loss: 1.162\n",
      "[4,  6000] loss: 0.774\n",
      "Accuracy for fold 1: 9 %\n",
      "--------------------------------\n",
      "k-fold CV results for 2 folds\n",
      "--------------------------------\n",
      "Fold 0: 9.893333333333333 %\n",
      "Fold 1: 9.946666666666665 %\n",
      "Average: 9.919999999999998 %\n",
      "Using mps device\n",
      "Fold 0\n",
      "Accuracy for fold 0: 35 %\n",
      "--------------------------------\n",
      "Fold 1\n",
      "Accuracy for fold 1: 9 %\n",
      "--------------------------------\n",
      "k-fold CV results for 2 folds\n",
      "--------------------------------\n",
      "Fold 0: 35.03333333333333 %\n",
      "Fold 1: 9.93 %\n",
      "Average: 22.481666666666666 %\n",
      "Using mps device\n",
      "Fold 0\n",
      "[1,  2000] loss: 0.787\n",
      "[2,  2000] loss: 0.447\n",
      "[3,  2000] loss: 0.405\n",
      "[4,  2000] loss: 0.361\n",
      "[5,  2000] loss: 0.337\n",
      "[6,  2000] loss: 0.329\n",
      "[7,  2000] loss: 0.310\n",
      "[8,  2000] loss: 0.286\n",
      "[9,  2000] loss: 0.282\n",
      "[10,  2000] loss: 0.269\n",
      "[11,  2000] loss: 0.260\n",
      "[12,  2000] loss: 0.245\n",
      "[13,  2000] loss: 0.240\n",
      "[14,  2000] loss: 0.231\n",
      "[15,  2000] loss: 0.222\n",
      "[16,  2000] loss: 0.210\n",
      "Accuracy for fold 0: 88 %\n",
      "--------------------------------\n",
      "Fold 1\n",
      "[1,  2000] loss: 0.345\n",
      "[2,  2000] loss: 0.295\n",
      "[3,  2000] loss: 0.274\n",
      "[4,  2000] loss: 0.262\n",
      "[5,  2000] loss: 0.246\n",
      "[6,  2000] loss: 0.238\n",
      "[7,  2000] loss: 0.228\n",
      "[8,  2000] loss: 0.217\n",
      "[9,  2000] loss: 0.208\n",
      "[10,  2000] loss: 0.204\n",
      "[11,  2000] loss: 0.192\n",
      "[12,  2000] loss: 0.184\n",
      "[13,  2000] loss: 0.182\n",
      "[14,  2000] loss: 0.173\n",
      "[15,  2000] loss: 0.165\n",
      "[16,  2000] loss: 0.167\n",
      "Accuracy for fold 1: 89 %\n",
      "--------------------------------\n",
      "k-fold CV results for 2 folds\n",
      "--------------------------------\n",
      "Fold 0: 88.10333333333334 %\n",
      "Fold 1: 89.72666666666666 %\n",
      "Average: 88.91499999999999 %\n",
      "Using mps deviceg: [#####-----] 51.40% \n",
      "Fold 0\n",
      "[1,  2000] loss: 0.996\n",
      "[2,  2000] loss: 0.503\n",
      "[3,  2000] loss: 0.434\n",
      "[4,  2000] loss: 0.407\n",
      "[5,  2000] loss: 0.375\n",
      "[6,  2000] loss: 0.359\n",
      "[7,  2000] loss: 0.338\n",
      "[8,  2000] loss: 0.329\n",
      "[9,  2000] loss: 0.310\n",
      "[10,  2000] loss: 0.295\n",
      "[11,  2000] loss: 0.284\n",
      "[12,  2000] loss: 0.278\n",
      "[13,  2000] loss: 0.260\n",
      "[14,  2000] loss: 0.262\n",
      "[15,  2000] loss: 0.249\n",
      "[16,  2000] loss: 0.241\n",
      "Accuracy for fold 0: 88 %\n",
      "--------------------------------\n",
      "Fold 1\n",
      "[1,  2000] loss: 0.340\n",
      "[2,  2000] loss: 0.302\n",
      "[3,  2000] loss: 0.288\n",
      "[4,  2000] loss: 0.272\n",
      "[5,  2000] loss: 0.264\n",
      "[6,  2000] loss: 0.252\n",
      "[7,  2000] loss: 0.244\n",
      "[8,  2000] loss: 0.234\n",
      "[9,  2000] loss: 0.224\n",
      "[10,  2000] loss: 0.223\n",
      "[11,  2000] loss: 0.213\n",
      "[12,  2000] loss: 0.199\n",
      "[13,  2000] loss: 0.203\n",
      "[14,  2000] loss: 0.192\n",
      "[15,  2000] loss: 0.191\n",
      "[16,  2000] loss: 0.187\n",
      "Accuracy for fold 1: 90 %\n",
      "--------------------------------\n",
      "k-fold CV results for 2 folds\n",
      "--------------------------------\n",
      "Fold 0: 88.36333333333334 %\n",
      "Fold 1: 90.43333333333334 %\n",
      "Average: 89.39833333333334 %\n",
      "spotPython tuning: [##########] 100.00% Done...\n",
      "\r"
     ]
    },
    {
     "data": {
      "text/plain": [
       "<spotPython.spot.spot.Spot at 0x1083daec0>"
      ]
     },
     "execution_count": 19,
     "metadata": {},
     "output_type": "execute_result"
    }
   ],
   "source": [
    "spot_torch = spot.Spot(fun=fun,\n",
    "                   lower = lower,\n",
    "                   upper = upper,\n",
    "                   fun_evals = inf,\n",
    "                   fun_repeats = 1,\n",
    "                   max_time = MAX_TIME,\n",
    "                   noise = False,\n",
    "                   tolerance_x = np.sqrt(np.spacing(1)),\n",
    "                   var_type = var_type,\n",
    "                   var_name = var_name,\n",
    "                   infill_criterion = \"y\",\n",
    "                   n_points = 1,\n",
    "                   seed=123,\n",
    "                   log_level = 50,\n",
    "                   show_models= False,\n",
    "                   show_progress= True,\n",
    "                   fun_control = fun_control,\n",
    "                   design_control={\"init_size\": INIT_SIZE,\n",
    "                                   \"repeats\": 1},\n",
    "                   surrogate_control={\"noise\": True,\n",
    "                                      \"cod_type\": \"norm\",\n",
    "                                      \"min_theta\": -4,\n",
    "                                      \"max_theta\": 3,\n",
    "                                      \"n_theta\": len(var_name),\n",
    "                                      \"model_optimizer\": differential_evolution,\n",
    "                                      \"model_fun_evals\": 10_000,\n",
    "                                      \"log_level\": 50\n",
    "                                      })\n",
    "spot_torch.run()"
   ]
  },
  {
   "attachments": {},
   "cell_type": "markdown",
   "metadata": {},
   "source": [
    "### 4 Results"
   ]
  },
  {
   "cell_type": "code",
   "execution_count": 20,
   "metadata": {},
   "outputs": [],
   "source": [
    "SAVE = True\n",
    "LOAD = False\n",
    "\n",
    "if SAVE:\n",
    "    result_file_name = \"res_\" + experiment_name + \".pkl\"\n",
    "    with open(result_file_name, 'wb') as f:\n",
    "        pickle.dump(spot_torch, f)\n",
    "\n",
    "if LOAD:\n",
    "    result_file_name = \"res_ch10-friedman-hpt-0_maans03_60min_20init_1K_2023-04-14_10-11-19.pkl\"\n",
    "    with open(result_file_name, 'rb') as f:\n",
    "        spot_torch =  pickle.load(f)"
   ]
  },
  {
   "attachments": {},
   "cell_type": "markdown",
   "metadata": {},
   "source": [
    "* Show the Progress of the hyperparameter tuning:"
   ]
  },
  {
   "cell_type": "code",
   "execution_count": 21,
   "metadata": {},
   "outputs": [
    {
     "data": {
      "image/png": "[encoded data removed]",
      "text/plain": [
       "<Figure size 900x600 with 1 Axes>"
      ]
     },
     "metadata": {},
     "output_type": "display_data"
    }
   ],
   "source": [
    "spot_torch.plot_progress(log_y=False, filename=\"../Figures.d/\" + experiment_name+\"_progress.pdf\")"
   ]
  },
  {
   "attachments": {},
   "cell_type": "markdown",
   "metadata": {},
   "source": [
    "\n",
    "\n",
    "* Print the Results"
   ]
  },
  {
   "cell_type": "code",
   "execution_count": 22,
   "metadata": {},
   "outputs": [
    {
     "name": "stdout",
     "output_type": "stream",
     "text": [
      "| Parameter   |      Value |\n",
      "|-------------|------------|\n",
      "| l1          |          8 |\n",
      "| l2          |          7 |\n",
      "| lr          | 0.00126535 |\n",
      "| batch_size  |          3 |\n",
      "| epochs      |          4 |\n",
      "| k_folds     |          2 |\n"
     ]
    }
   ],
   "source": [
    "res = spot_torch.print_results(print_screen=False)\n",
    "print(tabulate(\n",
    "   res,\n",
    "   headers=[\"Parameter\", \"Value\"],\n",
    "   numalign=\"right\",\n",
    "   tablefmt=\"github\")\n",
    ")"
   ]
  },
  {
   "attachments": {},
   "cell_type": "markdown",
   "metadata": {},
   "source": [
    "## Show variable importance"
   ]
  },
  {
   "cell_type": "code",
   "execution_count": 23,
   "metadata": {},
   "outputs": [
    {
     "data": {
      "image/png": "[encoded data removed]",
      "text/plain": [
       "<Figure size 640x480 with 1 Axes>"
      ]
     },
     "metadata": {},
     "output_type": "display_data"
    }
   ],
   "source": [
    "spot_torch.plot_importance(threshold=0.025, filename=\"../Figures.d/\" + experiment_name+\"_importance.pdf\")"
   ]
  },
  {
   "cell_type": "code",
   "execution_count": 24,
   "metadata": {},
   "outputs": [
    {
     "name": "stdout",
     "output_type": "stream",
     "text": [
      "| name       | type   |   default |   lower |   upper |                 tuned | transform             |   importance | stars   |\n",
      "|------------|--------|-----------|---------|---------|-----------------------|-----------------------|--------------|---------|\n",
      "| l1         | int    |       5.0 |     2.0 |     9.0 |                   8.0 | transform_power_2_int |         0.00 |         |\n",
      "| l2         | int    |       5.0 |     2.0 |     9.0 |                   7.0 | transform_power_2_int |         0.00 |         |\n",
      "| lr         | float  |     0.001 |  0.0001 |     0.1 | 0.0012653470190692987 | None                  |         0.00 |         |\n",
      "| batch_size | int    |       4.0 |     1.0 |     4.0 |                   3.0 | transform_power_2_int |         0.00 |         |\n",
      "| epochs     | int    |       3.0 |     1.0 |     4.0 |                   4.0 | transform_power_2_int |       100.00 | ***     |\n",
      "| k_folds    | int    |       2.0 |     2.0 |     2.0 |                   2.0 | None                  |              |         |\n"
     ]
    }
   ],
   "source": [
    "print(gen_design_table(fun_control=fun_control, spot=spot_torch))"
   ]
  },
  {
   "attachments": {},
   "cell_type": "markdown",
   "metadata": {},
   "source": [
    "## Get Default Hyperparameters"
   ]
  },
  {
   "cell_type": "code",
   "execution_count": 25,
   "metadata": {},
   "outputs": [
    {
     "data": {
      "text/plain": [
       "{'l1': 32, 'l2': 32, 'lr': 0.001, 'batch_size': 16, 'epochs': 8, 'k_folds': 2}"
      ]
     },
     "execution_count": 25,
     "metadata": {},
     "output_type": "execute_result"
    }
   ],
   "source": [
    "values_default = get_default_hyperparameters_for_core_model(fun_control=fun_control)\n",
    "values_default"
   ]
  },
  {
   "cell_type": "code",
   "execution_count": 26,
   "metadata": {},
   "outputs": [
    {
     "data": {
      "text/plain": [
       "Net_CV_fashionMNIST(\n",
       "  (flatten): Flatten(start_dim=1, end_dim=-1)\n",
       "  (linear_relu_stack): Sequential(\n",
       "    (0): Linear(in_features=784, out_features=32, bias=True)\n",
       "    (1): ReLU()\n",
       "    (2): Linear(in_features=32, out_features=32, bias=True)\n",
       "    (3): ReLU()\n",
       "    (4): Linear(in_features=32, out_features=10, bias=True)\n",
       "  )\n",
       ")"
      ]
     },
     "execution_count": 26,
     "metadata": {},
     "output_type": "execute_result"
    }
   ],
   "source": [
    "model_default = fun_control[\"core_model\"](**values_default)\n",
    "model_default\n"
   ]
  },
  {
   "attachments": {},
   "cell_type": "markdown",
   "metadata": {},
   "source": [
    "## Get SPOT Results"
   ]
  },
  {
   "cell_type": "code",
   "execution_count": 27,
   "metadata": {},
   "outputs": [
    {
     "name": "stdout",
     "output_type": "stream",
     "text": [
      "[[8.00000000e+00 7.00000000e+00 1.26534702e-03 3.00000000e+00\n",
      "  4.00000000e+00 2.00000000e+00]]\n"
     ]
    }
   ],
   "source": [
    "X = spot_torch.to_all_dim(spot_torch.min_X.reshape(1,-1))\n",
    "print(X)\n"
   ]
  },
  {
   "cell_type": "code",
   "execution_count": 28,
   "metadata": {},
   "outputs": [
    {
     "data": {
      "text/plain": [
       "Net_CV_fashionMNIST(\n",
       "  (flatten): Flatten(start_dim=1, end_dim=-1)\n",
       "  (linear_relu_stack): Sequential(\n",
       "    (0): Linear(in_features=784, out_features=256, bias=True)\n",
       "    (1): ReLU()\n",
       "    (2): Linear(in_features=256, out_features=128, bias=True)\n",
       "    (3): ReLU()\n",
       "    (4): Linear(in_features=128, out_features=10, bias=True)\n",
       "  )\n",
       ")"
      ]
     },
     "execution_count": 28,
     "metadata": {},
     "output_type": "execute_result"
    }
   ],
   "source": [
    "model_spot = get_one_core_model_from_X(X, fun_control)\n",
    "model_spot"
   ]
  },
  {
   "attachments": {},
   "cell_type": "markdown",
   "metadata": {},
   "source": [
    "## Test Set Accuracy"
   ]
  },
  {
   "cell_type": "code",
   "execution_count": 29,
   "metadata": {},
   "outputs": [
    {
     "data": {
      "text/plain": [
       "torch.Size([10000, 28, 28])"
      ]
     },
     "execution_count": 29,
     "metadata": {},
     "output_type": "execute_result"
    }
   ],
   "source": [
    "testset = fun_control[\"test\"]\n",
    "testset.data.shape"
   ]
  },
  {
   "cell_type": "code",
   "execution_count": 30,
   "metadata": {},
   "outputs": [
    {
     "name": "stdout",
     "output_type": "stream",
     "text": [
      "Using mps device\n",
      "Fold 0\n",
      "Accuracy for fold 0: 77 %\n",
      "--------------------------------\n",
      "Fold 1\n",
      "Accuracy for fold 1: 80 %\n",
      "--------------------------------\n",
      "k-fold CV results for 2 folds\n",
      "--------------------------------\n",
      "Fold 0: 77.5 %\n",
      "Fold 1: 80.96 %\n",
      "Average: 79.22999999999999 %\n"
     ]
    },
    {
     "data": {
      "text/plain": [
       "(79.22999999999999, nan)"
      ]
     },
     "execution_count": 30,
     "metadata": {},
     "output_type": "execute_result"
    }
   ],
   "source": [
    "model_default.evaluate_cv(dataset = testset)"
   ]
  },
  {
   "cell_type": "code",
   "execution_count": 31,
   "metadata": {},
   "outputs": [
    {
     "name": "stdout",
     "output_type": "stream",
     "text": [
      "Using mps device\n",
      "Fold 0\n",
      "Accuracy for fold 0: 83 %\n",
      "--------------------------------\n",
      "Fold 1\n",
      "Accuracy for fold 1: 84 %\n",
      "--------------------------------\n",
      "k-fold CV results for 2 folds\n",
      "--------------------------------\n",
      "Fold 0: 83.8 %\n",
      "Fold 1: 84.88 %\n",
      "Average: 84.34 %\n"
     ]
    },
    {
     "data": {
      "text/plain": [
       "(84.34, nan)"
      ]
     },
     "execution_count": 31,
     "metadata": {},
     "output_type": "execute_result"
    }
   ],
   "source": [
    "model_spot.evaluate_cv(dataset = testset)"
   ]
  },
  {
   "cell_type": "code",
   "execution_count": 32,
   "metadata": {},
   "outputs": [
    {
     "data": {
      "text/plain": [
       "(-89.39833333333334, -9.919999999999998)"
      ]
     },
     "execution_count": 32,
     "metadata": {},
     "output_type": "execute_result"
    }
   ],
   "source": [
    "min(spot_torch.y), max(spot_torch.y)"
   ]
  },
  {
   "attachments": {},
   "cell_type": "markdown",
   "metadata": {},
   "source": [
    "## Detailed Hyperparameter Plots"
   ]
  },
  {
   "attachments": {},
   "cell_type": "markdown",
   "metadata": {},
   "source": [
    "* For productive use, you might want to select:\n",
    "  * `min_z=min(spot_torch.y)` and\n",
    "  * `max_z = max(spot_torch.y)`\n",
    "* These settings are not so colorful as visualizations that use `None` for the ranges, but give better insights."
   ]
  },
  {
   "cell_type": "code",
   "execution_count": 33,
   "metadata": {},
   "outputs": [
    {
     "name": "stdout",
     "output_type": "stream",
     "text": [
      "epochs:  100.0\n"
     ]
    }
   ],
   "source": [
    "threshold = 0.025\n",
    "impo = spot_torch.print_importance(threshold=threshold, print_screen=True)\n",
    "var_plots = [i for i, x in enumerate(impo) if x[1] > threshold]\n",
    "min_z = min(spot_torch.y)\n",
    "max_z = max(spot_torch.y)\n",
    "n = spot_torch.k\n",
    "for i in var_plots:\n",
    "    for j in var_plots:\n",
    "        if j > i:\n",
    "            filename = \"../Figures.d/\" + experiment_name+\"_contour_\"+str(i)+\"_\"+str(j)+\".pdf\"\n",
    "            spot_torch.plot_contour(i=i, j=j, min_z=min_z, max_z = max_z, filename=filename)"
   ]
  },
  {
   "attachments": {},
   "cell_type": "markdown",
   "metadata": {},
   "source": [
    "## Parallel Coordinates Plot"
   ]
  },
  {
   "cell_type": "code",
   "execution_count": 34,
   "metadata": {},
   "outputs": [
    {
     "data": {
      "application/vnd.plotly.v1+json": {
       "config": {
        "plotlyServerURL": "https://plot.ly"
       },
       "data": [
        {
         "dimensions": [
          {
           "label": "l1",
           "range": [
            3,
            8
           ],
           "values": [
            7,
            4,
            8,
            3,
            6,
            8,
            8
           ]
          },
          {
           "label": "l2",
           "range": [
            3,
            9
           ],
           "values": [
            3,
            4,
            7,
            5,
            9,
            7,
            7
           ]
          },
          {
           "label": "lr",
           "range": [
            0.0012653470190692987,
            0.09559720974200323
           ],
           "values": [
            0.09559720974200323,
            0.05451404353201382,
            0.003611652909973722,
            0.03542647439164376,
            0.07007417640941407,
            0.003638894742104965,
            0.0012653470190692987
           ]
          },
          {
           "label": "batch_size",
           "range": [
            1,
            4
           ],
           "values": [
            3,
            1,
            3,
            2,
            4,
            3,
            3
           ]
          },
          {
           "label": "epochs",
           "range": [
            1,
            4
           ],
           "values": [
            2,
            3,
            4,
            2,
            1,
            4,
            4
           ]
          }
         ],
         "line": {
          "cmax": -9.919999999999998,
          "cmin": -89.39833333333334,
          "color": [
           -10,
           -10.096666666666668,
           -89.14833333333334,
           -9.919999999999998,
           -22.481666666666666,
           -88.91499999999999,
           -89.39833333333334
          ],
          "colorscale": [
           [
            0,
            "rgb(0,0,131)"
           ],
           [
            0.2,
            "rgb(0,60,170)"
           ],
           [
            0.4,
            "rgb(5,255,255)"
           ],
           [
            0.6,
            "rgb(255,255,0)"
           ],
           [
            0.8,
            "rgb(250,0,0)"
           ],
           [
            1,
            "rgb(128,0,0)"
           ]
          ],
          "showscale": true
         },
         "type": "parcoords"
        }
       ],
       "layout": {
        "template": {
         "data": {
          "bar": [
           {
            "error_x": {
             "color": "#2a3f5f"
            },
            "error_y": {
             "color": "#2a3f5f"
            },
            "marker": {
             "line": {
              "color": "#E5ECF6",
              "width": 0.5
             },
             "pattern": {
              "fillmode": "overlay",
              "size": 10,
              "solidity": 0.2
             }
            },
            "type": "bar"
           }
          ],
          "barpolar": [
           {
            "marker": {
             "line": {
              "color": "#E5ECF6",
              "width": 0.5
             },
             "pattern": {
              "fillmode": "overlay",
              "size": 10,
              "solidity": 0.2
             }
            },
            "type": "barpolar"
           }
          ],
          "carpet": [
           {
            "aaxis": {
             "endlinecolor": "#2a3f5f",
             "gridcolor": "white",
             "linecolor": "white",
             "minorgridcolor": "white",
             "startlinecolor": "#2a3f5f"
            },
            "baxis": {
             "endlinecolor": "#2a3f5f",
             "gridcolor": "white",
             "linecolor": "white",
             "minorgridcolor": "white",
             "startlinecolor": "#2a3f5f"
            },
            "type": "carpet"
           }
          ],
          "choropleth": [
           {
            "colorbar": {
             "outlinewidth": 0,
             "ticks": ""
            },
            "type": "choropleth"
           }
          ],
          "contour": [
           {
            "colorbar": {
             "outlinewidth": 0,
             "ticks": ""
            },
            "colorscale": [
             [
              0,
              "#0d0887"
             ],
             [
              0.1111111111111111,
              "#46039f"
             ],
             [
              0.2222222222222222,
              "#7201a8"
             ],
             [
              0.3333333333333333,
              "#9c179e"
             ],
             [
              0.4444444444444444,
              "#bd3786"
             ],
             [
              0.5555555555555556,
              "#d8576b"
             ],
             [
              0.6666666666666666,
              "#ed7953"
             ],
             [
              0.7777777777777778,
              "#fb9f3a"
             ],
             [
              0.8888888888888888,
              "#fdca26"
             ],
             [
              1,
              "#f0f921"
             ]
            ],
            "type": "contour"
           }
          ],
          "contourcarpet": [
           {
            "colorbar": {
             "outlinewidth": 0,
             "ticks": ""
            },
            "type": "contourcarpet"
           }
          ],
          "heatmap": [
           {
            "colorbar": {
             "outlinewidth": 0,
             "ticks": ""
            },
            "colorscale": [
             [
              0,
              "#0d0887"
             ],
             [
              0.1111111111111111,
              "#46039f"
             ],
             [
              0.2222222222222222,
              "#7201a8"
             ],
             [
              0.3333333333333333,
              "#9c179e"
             ],
             [
              0.4444444444444444,
              "#bd3786"
             ],
             [
              0.5555555555555556,
              "#d8576b"
             ],
             [
              0.6666666666666666,
              "#ed7953"
             ],
             [
              0.7777777777777778,
              "#fb9f3a"
             ],
             [
              0.8888888888888888,
              "#fdca26"
             ],
             [
              1,
              "#f0f921"
             ]
            ],
            "type": "heatmap"
           }
          ],
          "heatmapgl": [
           {
            "colorbar": {
             "outlinewidth": 0,
             "ticks": ""
            },
            "colorscale": [
             [
              0,
              "#0d0887"
             ],
             [
              0.1111111111111111,
              "#46039f"
             ],
             [
              0.2222222222222222,
              "#7201a8"
             ],
             [
              0.3333333333333333,
              "#9c179e"
             ],
             [
              0.4444444444444444,
              "#bd3786"
             ],
             [
              0.5555555555555556,
              "#d8576b"
             ],
             [
              0.6666666666666666,
              "#ed7953"
             ],
             [
              0.7777777777777778,
              "#fb9f3a"
             ],
             [
              0.8888888888888888,
              "#fdca26"
             ],
             [
              1,
              "#f0f921"
             ]
            ],
            "type": "heatmapgl"
           }
          ],
          "histogram": [
           {
            "marker": {
             "pattern": {
              "fillmode": "overlay",
              "size": 10,
              "solidity": 0.2
             }
            },
            "type": "histogram"
           }
          ],
          "histogram2d": [
           {
            "colorbar": {
             "outlinewidth": 0,
             "ticks": ""
            },
            "colorscale": [
             [
              0,
              "#0d0887"
             ],
             [
              0.1111111111111111,
              "#46039f"
             ],
             [
              0.2222222222222222,
              "#7201a8"
             ],
             [
              0.3333333333333333,
              "#9c179e"
             ],
             [
              0.4444444444444444,
              "#bd3786"
             ],
             [
              0.5555555555555556,
              "#d8576b"
             ],
             [
              0.6666666666666666,
              "#ed7953"
             ],
             [
              0.7777777777777778,
              "#fb9f3a"
             ],
             [
              0.8888888888888888,
              "#fdca26"
             ],
             [
              1,
              "#f0f921"
             ]
            ],
            "type": "histogram2d"
           }
          ],
          "histogram2dcontour": [
           {
            "colorbar": {
             "outlinewidth": 0,
             "ticks": ""
            },
            "colorscale": [
             [
              0,
              "#0d0887"
             ],
             [
              0.1111111111111111,
              "#46039f"
             ],
             [
              0.2222222222222222,
              "#7201a8"
             ],
             [
              0.3333333333333333,
              "#9c179e"
             ],
             [
              0.4444444444444444,
              "#bd3786"
             ],
             [
              0.5555555555555556,
              "#d8576b"
             ],
             [
              0.6666666666666666,
              "#ed7953"
             ],
             [
              0.7777777777777778,
              "#fb9f3a"
             ],
             [
              0.8888888888888888,
              "#fdca26"
             ],
             [
              1,
              "#f0f921"
             ]
            ],
            "type": "histogram2dcontour"
           }
          ],
          "mesh3d": [
           {
            "colorbar": {
             "outlinewidth": 0,
             "ticks": ""
            },
            "type": "mesh3d"
           }
          ],
          "parcoords": [
           {
            "line": {
             "colorbar": {
              "outlinewidth": 0,
              "ticks": ""
             }
            },
            "type": "parcoords"
           }
          ],
          "pie": [
           {
            "automargin": true,
            "type": "pie"
           }
          ],
          "scatter": [
           {
            "fillpattern": {
             "fillmode": "overlay",
             "size": 10,
             "solidity": 0.2
            },
            "type": "scatter"
           }
          ],
          "scatter3d": [
           {
            "line": {
             "colorbar": {
              "outlinewidth": 0,
              "ticks": ""
             }
            },
            "marker": {
             "colorbar": {
              "outlinewidth": 0,
              "ticks": ""
             }
            },
            "type": "scatter3d"
           }
          ],
          "scattercarpet": [
           {
            "marker": {
             "colorbar": {
              "outlinewidth": 0,
              "ticks": ""
             }
            },
            "type": "scattercarpet"
           }
          ],
          "scattergeo": [
           {
            "marker": {
             "colorbar": {
              "outlinewidth": 0,
              "ticks": ""
             }
            },
            "type": "scattergeo"
           }
          ],
          "scattergl": [
           {
            "marker": {
             "colorbar": {
              "outlinewidth": 0,
              "ticks": ""
             }
            },
            "type": "scattergl"
           }
          ],
          "scattermapbox": [
           {
            "marker": {
             "colorbar": {
              "outlinewidth": 0,
              "ticks": ""
             }
            },
            "type": "scattermapbox"
           }
          ],
          "scatterpolar": [
           {
            "marker": {
             "colorbar": {
              "outlinewidth": 0,
              "ticks": ""
             }
            },
            "type": "scatterpolar"
           }
          ],
          "scatterpolargl": [
           {
            "marker": {
             "colorbar": {
              "outlinewidth": 0,
              "ticks": ""
             }
            },
            "type": "scatterpolargl"
           }
          ],
          "scatterternary": [
           {
            "marker": {
             "colorbar": {
              "outlinewidth": 0,
              "ticks": ""
             }
            },
            "type": "scatterternary"
           }
          ],
          "surface": [
           {
            "colorbar": {
             "outlinewidth": 0,
             "ticks": ""
            },
            "colorscale": [
             [
              0,
              "#0d0887"
             ],
             [
              0.1111111111111111,
              "#46039f"
             ],
             [
              0.2222222222222222,
              "#7201a8"
             ],
             [
              0.3333333333333333,
              "#9c179e"
             ],
             [
              0.4444444444444444,
              "#bd3786"
             ],
             [
              0.5555555555555556,
              "#d8576b"
             ],
             [
              0.6666666666666666,
              "#ed7953"
             ],
             [
              0.7777777777777778,
              "#fb9f3a"
             ],
             [
              0.8888888888888888,
              "#fdca26"
             ],
             [
              1,
              "#f0f921"
             ]
            ],
            "type": "surface"
           }
          ],
          "table": [
           {
            "cells": {
             "fill": {
              "color": "#EBF0F8"
             },
             "line": {
              "color": "white"
             }
            },
            "header": {
             "fill": {
              "color": "#C8D4E3"
             },
             "line": {
              "color": "white"
             }
            },
            "type": "table"
           }
          ]
         },
         "layout": {
          "annotationdefaults": {
           "arrowcolor": "#2a3f5f",
           "arrowhead": 0,
           "arrowwidth": 1
          },
          "autotypenumbers": "strict",
          "coloraxis": {
           "colorbar": {
            "outlinewidth": 0,
            "ticks": ""
           }
          },
          "colorscale": {
           "diverging": [
            [
             0,
             "#8e0152"
            ],
            [
             0.1,
             "#c51b7d"
            ],
            [
             0.2,
             "#de77ae"
            ],
            [
             0.3,
             "#f1b6da"
            ],
            [
             0.4,
             "#fde0ef"
            ],
            [
             0.5,
             "#f7f7f7"
            ],
            [
             0.6,
             "#e6f5d0"
            ],
            [
             0.7,
             "#b8e186"
            ],
            [
             0.8,
             "#7fbc41"
            ],
            [
             0.9,
             "#4d9221"
            ],
            [
             1,
             "#276419"
            ]
           ],
           "sequential": [
            [
             0,
             "#0d0887"
            ],
            [
             0.1111111111111111,
             "#46039f"
            ],
            [
             0.2222222222222222,
             "#7201a8"
            ],
            [
             0.3333333333333333,
             "#9c179e"
            ],
            [
             0.4444444444444444,
             "#bd3786"
            ],
            [
             0.5555555555555556,
             "#d8576b"
            ],
            [
             0.6666666666666666,
             "#ed7953"
            ],
            [
             0.7777777777777778,
             "#fb9f3a"
            ],
            [
             0.8888888888888888,
             "#fdca26"
            ],
            [
             1,
             "#f0f921"
            ]
           ],
           "sequentialminus": [
            [
             0,
             "#0d0887"
            ],
            [
             0.1111111111111111,
             "#46039f"
            ],
            [
             0.2222222222222222,
             "#7201a8"
            ],
            [
             0.3333333333333333,
             "#9c179e"
            ],
            [
             0.4444444444444444,
             "#bd3786"
            ],
            [
             0.5555555555555556,
             "#d8576b"
            ],
            [
             0.6666666666666666,
             "#ed7953"
            ],
            [
             0.7777777777777778,
             "#fb9f3a"
            ],
            [
             0.8888888888888888,
             "#fdca26"
            ],
            [
             1,
             "#f0f921"
            ]
           ]
          },
          "colorway": [
           "#636efa",
           "#EF553B",
           "#00cc96",
           "#ab63fa",
           "#FFA15A",
           "#19d3f3",
           "#FF6692",
           "#B6E880",
           "#FF97FF",
           "#FECB52"
          ],
          "font": {
           "color": "#2a3f5f"
          },
          "geo": {
           "bgcolor": "white",
           "lakecolor": "white",
           "landcolor": "#E5ECF6",
           "showlakes": true,
           "showland": true,
           "subunitcolor": "white"
          },
          "hoverlabel": {
           "align": "left"
          },
          "hovermode": "closest",
          "mapbox": {
           "style": "light"
          },
          "paper_bgcolor": "white",
          "plot_bgcolor": "#E5ECF6",
          "polar": {
           "angularaxis": {
            "gridcolor": "white",
            "linecolor": "white",
            "ticks": ""
           },
           "bgcolor": "#E5ECF6",
           "radialaxis": {
            "gridcolor": "white",
            "linecolor": "white",
            "ticks": ""
           }
          },
          "scene": {
           "xaxis": {
            "backgroundcolor": "#E5ECF6",
            "gridcolor": "white",
            "gridwidth": 2,
            "linecolor": "white",
            "showbackground": true,
            "ticks": "",
            "zerolinecolor": "white"
           },
           "yaxis": {
            "backgroundcolor": "#E5ECF6",
            "gridcolor": "white",
            "gridwidth": 2,
            "linecolor": "white",
            "showbackground": true,
            "ticks": "",
            "zerolinecolor": "white"
           },
           "zaxis": {
            "backgroundcolor": "#E5ECF6",
            "gridcolor": "white",
            "gridwidth": 2,
            "linecolor": "white",
            "showbackground": true,
            "ticks": "",
            "zerolinecolor": "white"
           }
          },
          "shapedefaults": {
           "line": {
            "color": "#2a3f5f"
           }
          },
          "ternary": {
           "aaxis": {
            "gridcolor": "white",
            "linecolor": "white",
            "ticks": ""
           },
           "baxis": {
            "gridcolor": "white",
            "linecolor": "white",
            "ticks": ""
           },
           "bgcolor": "#E5ECF6",
           "caxis": {
            "gridcolor": "white",
            "linecolor": "white",
            "ticks": ""
           }
          },
          "title": {
           "x": 0.05
          },
          "xaxis": {
           "automargin": true,
           "gridcolor": "white",
           "linecolor": "white",
           "ticks": "",
           "title": {
            "standoff": 15
           },
           "zerolinecolor": "white",
           "zerolinewidth": 2
          },
          "yaxis": {
           "automargin": true,
           "gridcolor": "white",
           "linecolor": "white",
           "ticks": "",
           "title": {
            "standoff": 15
           },
           "zerolinecolor": "white",
           "zerolinewidth": 2
          }
         }
        }
       }
      }
     },
     "metadata": {},
     "output_type": "display_data"
    }
   ],
   "source": [
    "spot_torch.parallel_plot()"
   ]
  },
  {
   "attachments": {},
   "cell_type": "markdown",
   "metadata": {},
   "source": [
    "## Plot all Combinations of Hyperparameters\n",
    "\n",
    "* Warning: this may take a while."
   ]
  },
  {
   "cell_type": "code",
   "execution_count": 35,
   "metadata": {},
   "outputs": [],
   "source": [
    "PLOT_ALL = False\n",
    "if PLOT_ALL:\n",
    "    n = spot_torch.k\n",
    "    for i in range(n-1):\n",
    "        for j in range(i+1, n):\n",
    "            spot_torch.plot_contour(i=i, j=j, min_z=min_z, max_z = max_z)"
   ]
  },
  {
   "cell_type": "code",
   "execution_count": 37,
   "metadata": {},
   "outputs": [
    {
     "data": {
      "image/png": "[encoded data removed]",
      "text/plain": [
       "<Figure size 640x480 with 1 Axes>"
      ]
     },
     "metadata": {},
     "output_type": "display_data"
    }
   ],
   "source": [
    "import pandas as pd\n",
    "import matplotlib.pyplot as plt\n",
    "from pandas.plotting import parallel_coordinates\n",
    "\n",
    "X = spot_torch.X\n",
    "y = spot_torch.y\n",
    "df = pd.DataFrame(np.concatenate((X, y.reshape(-1,1)), axis=1), columns=spot_torch.var_name + [\"y\"])\n",
    "\n",
    "# Create parallel coordinates plot\n",
    "parallel_coordinates(df, 'y', colormap='jet')\n",
    "plt.show()"
   ]
  },
  {
   "cell_type": "code",
   "execution_count": null,
   "metadata": {},
   "outputs": [],
   "source": []
  }
 ],
 "metadata": {
  "kernelspec": {
   "display_name": "spotCondaEnv",
   "language": "python",
   "name": "python3"
  },
  "language_info": {
   "codemirror_mode": {
    "name": "ipython",
    "version": 3
   },
   "file_extension": ".py",
   "mimetype": "text/x-python",
   "name": "python",
   "nbconvert_exporter": "python",
   "pygments_lexer": "ipython3",
   "version": "3.10.6"
  },
  "vscode": {
   "interpreter": {
    "hash": "81c77de872def749acd68d9955e19f0df6803301f4c1f66c3444af66334112ae"
   }
  }
 },
 "nbformat": 4,
 "nbformat_minor": 4
}
