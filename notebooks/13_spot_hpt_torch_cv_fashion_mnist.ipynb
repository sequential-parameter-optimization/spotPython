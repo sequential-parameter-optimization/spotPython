{
 "cells": [
  {
   "cell_type": "raw",
   "metadata": {},
   "source": [
    "---\n",
    "title: \"pytorch Hyperparameter Tuning with SPOT: fashionMNIST\"\n",
    "format: html\n",
    "---"
   ]
  },
  {
   "cell_type": "code",
   "execution_count": 1,
   "metadata": {},
   "outputs": [],
   "source": [
    "MAX_TIME = 1\n",
    "INIT_SIZE = 5"
   ]
  },
  {
   "cell_type": "code",
   "execution_count": 2,
   "metadata": {},
   "outputs": [
    {
     "data": {
      "text/plain": [
       "'13-torch_bartz09_1min_5init_2023-05-01_20-47-14'"
      ]
     },
     "execution_count": 2,
     "metadata": {},
     "output_type": "execute_result"
    }
   ],
   "source": [
    "import pickle\n",
    "import socket\n",
    "from datetime import datetime\n",
    "from dateutil.tz import tzlocal\n",
    "start_time = datetime.now(tzlocal())\n",
    "HOSTNAME = socket.gethostname().split(\".\")[0]\n",
    "experiment_name = '13-torch' + \"_\" + HOSTNAME + \"_\" + str(MAX_TIME) + \"min_\" + str(INIT_SIZE) + \"init_\" + str(start_time).split(\".\", 1)[0].replace(' ', '_')\n",
    "experiment_name = experiment_name.replace(':', '-')\n",
    "experiment_name"
   ]
  },
  {
   "attachments": {},
   "cell_type": "markdown",
   "metadata": {},
   "source": [
    "# Chapter 13: Sequential Parameter Optimization\n",
    "## Hyperparameter Tuning: pytorch cross validation  with fashionMNIST Data"
   ]
  },
  {
   "attachments": {},
   "cell_type": "markdown",
   "metadata": {},
   "source": [
    "* This notebook exemplifies hyperparameter tuning with SPOT (spotPython).\n",
    "* The hyperparameter software SPOT was developed in R (statistical programming language), see Open Access book \"Hyperparameter Tuning for Machine and Deep Learning with R - A Practical Guide\", available here: [https://link.springer.com/book/10.1007/978-981-19-5170-1](https://link.springer.com/book/10.1007/978-981-19-5170-1).\n"
   ]
  },
  {
   "cell_type": "code",
   "execution_count": 3,
   "metadata": {},
   "outputs": [
    {
     "name": "stdout",
     "output_type": "stream",
     "text": [
      "spotPython                                0.0.46\n",
      "spotRiver                                 0.0.92\n",
      "Note: you may need to restart the kernel to use updated packages.\n"
     ]
    }
   ],
   "source": [
    "pip list | grep  \"spot[RiverPython]\""
   ]
  },
  {
   "cell_type": "code",
   "execution_count": 4,
   "metadata": {},
   "outputs": [],
   "source": [
    "# import sys\n",
    "# !{sys.executable} -m pip install --upgrade build\n",
    "# !{sys.executable} -m pip install --upgrade --force-reinstall spotPython\n"
   ]
  },
  {
   "cell_type": "code",
   "execution_count": 5,
   "metadata": {},
   "outputs": [],
   "source": [
    "import torch\n",
    "from tabulate import tabulate\n",
    "import copy\n",
    "import warnings\n",
    "import numbers\n",
    "import json\n",
    "import calendar\n",
    "import math\n",
    "import datetime as dt\n",
    "import numpy as np\n",
    "from math import inf\n",
    "import pandas as pd\n",
    "\n",
    "from scipy.optimize import differential_evolution\n",
    "\n",
    "import matplotlib.pyplot as plt\n",
    "\n",
    "from spotPython.spot import spot\n",
    "from spotPython.hyperparameters.values import (\n",
    "    add_core_model_to_fun_control,\n",
    "    assign_values,\n",
    "    convert_keys,\n",
    "    get_bound_values,\n",
    "    get_default_hyperparameters_for_core_model,\n",
    "    get_default_hyperparameters_for_fun,\n",
    "    get_default_values,\n",
    "    get_dict_with_levels_and_types,\n",
    "    get_values_from_dict,\n",
    "    get_var_name,\n",
    "    get_var_type,\n",
    "    iterate_dict_values,\n",
    "    modify_hyper_parameter_levels,\n",
    "    modify_hyper_parameter_bounds,\n",
    "    replace_levels_with_positions,\n",
    "    return_conf_list_from_var_dict,\n",
    "    get_one_core_model_from_X)\n",
    "from spotPython.hyperparameters.prepare import (\n",
    "    transform_hyper_parameter_values,\n",
    "    get_dict_with_levels_and_types,\n",
    "    convert_keys,\n",
    "    iterate_dict_values,\n",
    ")\n",
    "\n",
    "from spotPython.utils.convert import class_for_name\n",
    "from spotPython.utils.eda import (\n",
    "    get_stars,\n",
    "    gen_design_table)\n",
    "from spotPython.utils.transform import transform_hyper_parameter_values\n",
    "\n",
    "from spotPython.data.torch_hyper_dict import TorchHyperDict\n",
    "from spotPython.fun.hypertorch import HyperTorch\n",
    "from spotPython.utils.convert import get_Xy_from_df\n",
    "from spotPython.plot.validation import plot_cv_predictions, plot_roc, plot_confusion_matrix\n",
    "from spotPython.torch.netcvfashionMNIST import Net_CV_fashionMNIST\n",
    "\n",
    "import torch\n",
    "from torch import nn\n",
    "from torch.utils.data import DataLoader\n",
    "from torchvision import datasets\n",
    "from torchvision.transforms import ToTensor\n",
    "from functools import partial\n",
    "import torch.nn.functional as F\n",
    "import torch.optim as optim\n",
    "from torch.utils.data import random_split\n",
    "import torchvision\n",
    "import torchvision.transforms as transforms\n",
    "\n",
    "warnings.filterwarnings(\"ignore\")"
   ]
  },
  {
   "cell_type": "code",
   "execution_count": 6,
   "metadata": {},
   "outputs": [
    {
     "name": "stdout",
     "output_type": "stream",
     "text": [
      "2.0.0\n",
      "MPS device:  mps\n"
     ]
    }
   ],
   "source": [
    "print(torch.__version__)\n",
    "# Check that MPS is available\n",
    "if not torch.backends.mps.is_available():\n",
    "    if not torch.backends.mps.is_built():\n",
    "        print(\"MPS not available because the current PyTorch install was not \"\n",
    "              \"built with MPS enabled.\")\n",
    "    else:\n",
    "        print(\"MPS not available because the current MacOS version is not 12.3+ \"\n",
    "              \"and/or you do not have an MPS-enabled device on this machine.\")\n",
    "\n",
    "else:\n",
    "    mps_device = torch.device(\"mps\")\n",
    "    print(\"MPS device: \", mps_device)"
   ]
  },
  {
   "attachments": {},
   "cell_type": "markdown",
   "metadata": {},
   "source": [
    "## 0. Initialization of the Empty `fun_control` Dictionary"
   ]
  },
  {
   "cell_type": "code",
   "execution_count": 7,
   "metadata": {},
   "outputs": [],
   "source": [
    "fun_control = {}"
   ]
  },
  {
   "attachments": {},
   "cell_type": "markdown",
   "metadata": {},
   "source": [
    "## 1. Load fashionMNIST Data"
   ]
  },
  {
   "cell_type": "code",
   "execution_count": 8,
   "metadata": {},
   "outputs": [],
   "source": [
    "def load_data(data_dir=\"./data\"):\n",
    "    # Download training data from open datasets.\n",
    "    training_data = datasets.FashionMNIST(\n",
    "        root=data_dir,\n",
    "        train=True,\n",
    "        download=True,\n",
    "        transform=ToTensor(),\n",
    "    )\n",
    "    # Download test data from open datasets.\n",
    "    test_data = datasets.FashionMNIST(\n",
    "        root=data_dir,\n",
    "        train=False,\n",
    "        download=True,\n",
    "        transform=ToTensor(),\n",
    "    )\n",
    "    return training_data, test_data"
   ]
  },
  {
   "cell_type": "code",
   "execution_count": 9,
   "metadata": {},
   "outputs": [],
   "source": [
    "train, test = load_data()"
   ]
  },
  {
   "cell_type": "code",
   "execution_count": 10,
   "metadata": {},
   "outputs": [
    {
     "data": {
      "text/plain": [
       "Dataset FashionMNIST\n",
       "    Number of datapoints: 60000\n",
       "    Root location: ./data\n",
       "    Split: Train\n",
       "    StandardTransform\n",
       "Transform: ToTensor()"
      ]
     },
     "execution_count": 10,
     "metadata": {},
     "output_type": "execute_result"
    }
   ],
   "source": [
    "train.data.shape, test.data.shape\n",
    "train"
   ]
  },
  {
   "cell_type": "code",
   "execution_count": 11,
   "metadata": {},
   "outputs": [],
   "source": [
    "n_samples = len(train)\n",
    "# add the dataset to the fun_control\n",
    "fun_control.update({\"data\": None, # dataset,\n",
    "               \"train\": train,\n",
    "               \"test\": test,\n",
    "               \"n_samples\": n_samples,\n",
    "               \"target_column\": None})\n"
   ]
  },
  {
   "attachments": {},
   "cell_type": "markdown",
   "metadata": {},
   "source": [
    "## 2. Specification of the Preprocessing Model"
   ]
  },
  {
   "cell_type": "code",
   "execution_count": 12,
   "metadata": {},
   "outputs": [],
   "source": [
    "# categorical_columns = []\n",
    "# one_hot_encoder = OneHotEncoder(handle_unknown=\"ignore\", sparse_output=False)\n",
    "# prep_model = ColumnTransformer(\n",
    "#         transformers=[\n",
    "#             (\"categorical\", one_hot_encoder, categorical_columns),\n",
    "#         ],\n",
    "#         remainder=StandardScaler(),\n",
    "#     )\n",
    "prep_model = None\n",
    "fun_control.update({\"prep_model\": prep_model})"
   ]
  },
  {
   "attachments": {},
   "cell_type": "markdown",
   "metadata": {},
   "source": [
    "## 3. Select `algorithm` and `core_model_hyper_dict`"
   ]
  },
  {
   "cell_type": "code",
   "execution_count": 13,
   "metadata": {},
   "outputs": [],
   "source": [
    "# core_model  = RidgeCV\n",
    "core_model = Net_CV_fashionMNIST\n",
    "fun_control = add_core_model_to_fun_control(core_model=core_model,\n",
    "                              fun_control=fun_control,\n",
    "                              hyper_dict=TorchHyperDict,\n",
    "                              filename=None)"
   ]
  },
  {
   "attachments": {},
   "cell_type": "markdown",
   "metadata": {},
   "source": [
    "## 4. Modify `hyper_dict` Hyperparameters for the Selected Algorithm aka `core_model`"
   ]
  },
  {
   "cell_type": "markdown",
   "metadata": {},
   "source": [
    "### Modify hyperparameter of type factor"
   ]
  },
  {
   "cell_type": "code",
   "execution_count": 14,
   "metadata": {},
   "outputs": [],
   "source": [
    "# fun_control = modify_hyper_parameter_levels(fun_control, \"leaf_model\", [\"LinearRegression\"])\n",
    "# fun_control[\"core_model_hyper_dict\"]"
   ]
  },
  {
   "attachments": {},
   "cell_type": "markdown",
   "metadata": {},
   "source": [
    "### Modify hyperparameter of type numeric and integer (boolean)"
   ]
  },
  {
   "cell_type": "code",
   "execution_count": 15,
   "metadata": {},
   "outputs": [],
   "source": [
    "# fun_control = modify_hyper_parameter_bounds(fun_control, \"delta\", bounds=[1e-10, 1e-6])\n",
    "# fun_control = modify_hyper_parameter_bounds(fun_control, \"min_samples_split\", bounds=[3, 20])\n",
    "#fun_control = modify_hyper_parameter_bounds(fun_control, \"merit_preprune\", bounds=[0, 0])\n",
    "# fun_control[\"core_model_hyper_dict\"]"
   ]
  },
  {
   "attachments": {},
   "cell_type": "markdown",
   "metadata": {},
   "source": [
    "## 5. Selection of the Objective (Loss) Function"
   ]
  },
  {
   "attachments": {},
   "cell_type": "markdown",
   "metadata": {},
   "source": [
    "There are two metrics:\n",
    "\n",
    "    1. `metric` is used for the river based evaluation via `eval_oml_iter_progressive`.\n",
    "    2. `metric_sklearn` is used for the sklearn based evaluation."
   ]
  },
  {
   "cell_type": "code",
   "execution_count": 16,
   "metadata": {},
   "outputs": [],
   "source": [
    "fun = HyperTorch(seed=123, log_level=50).fun_torch\n",
    "weights = 1.0\n",
    "horizon = 7*24\n",
    "oml_grace_period = 2\n",
    "step = 100\n",
    "weight_coeff = 1.0\n",
    "\n",
    "fun_control.update({\n",
    "               \"data_dir\": None,\n",
    "               \"checkpoint_dir\": None,\n",
    "               \"horizon\": horizon,\n",
    "               \"oml_grace_period\": oml_grace_period,\n",
    "               \"weights\": weights,\n",
    "               \"step\": step,\n",
    "               \"log_level\": 50,\n",
    "               \"weight_coeff\": weight_coeff,\n",
    "               \"metric\": None,\n",
    "               \"metric_sklearn\": None\n",
    "               })"
   ]
  },
  {
   "attachments": {},
   "cell_type": "markdown",
   "metadata": {},
   "source": [
    "## 6. Calling the SPOT Function"
   ]
  },
  {
   "attachments": {},
   "cell_type": "markdown",
   "metadata": {},
   "source": [
    "### Prepare the SPOT Parameters"
   ]
  },
  {
   "attachments": {},
   "cell_type": "markdown",
   "metadata": {},
   "source": [
    "* Get types and variable names as well as lower and upper bounds for the hyperparameters."
   ]
  },
  {
   "cell_type": "code",
   "execution_count": 17,
   "metadata": {},
   "outputs": [],
   "source": [
    "var_type = get_var_type(fun_control)\n",
    "var_name = get_var_name(fun_control)\n",
    "fun_control.update({\"var_type\": var_type,\n",
    "                    \"var_name\": var_name})\n",
    "\n",
    "lower = get_bound_values(fun_control, \"lower\")\n",
    "upper = get_bound_values(fun_control, \"upper\")"
   ]
  },
  {
   "cell_type": "code",
   "execution_count": 18,
   "metadata": {},
   "outputs": [
    {
     "name": "stdout",
     "output_type": "stream",
     "text": [
      "| name       | type   |   default |   lower |   upper |\n",
      "|------------|--------|-----------|---------|---------|\n",
      "| l1         | int    |     5     |  2      |     9   |\n",
      "| l2         | int    |     5     |  2      |     9   |\n",
      "| lr         | float  |     0.001 |  0.0001 |     0.1 |\n",
      "| batch_size | int    |     4     |  1      |     4   |\n",
      "| epochs     | int    |     3     |  1      |     4   |\n",
      "| k_folds    | int    |     2     |  2      |     3   |\n"
     ]
    }
   ],
   "source": [
    "print(gen_design_table(fun_control))"
   ]
  },
  {
   "attachments": {},
   "cell_type": "markdown",
   "metadata": {},
   "source": [
    "### Run the `Spot` Optimizer\n",
    "\n",
    "* Run SPOT for approx. x mins (`max_time`).\n",
    "* Note: the run takes longer, because the evaluation time of initial design (here: `initi_size`, 20 points) is not considered."
   ]
  },
  {
   "cell_type": "code",
   "execution_count": 19,
   "metadata": {},
   "outputs": [
    {
     "name": "stdout",
     "output_type": "stream",
     "text": [
      "Using mps device\n",
      "Fold 0\n",
      "[1,  2000] loss: 2.163\n",
      "[1,  4000] loss: 1.162\n",
      "[1,  6000] loss: 0.775\n",
      "[2,  2000] loss: 2.323\n",
      "[2,  4000] loss: 1.161\n",
      "[2,  6000] loss: 0.774\n",
      "[3,  2000] loss: 2.320\n",
      "[3,  4000] loss: 1.162\n",
      "[3,  6000] loss: 0.775\n",
      "[4,  2000] loss: 2.324\n",
      "[4,  4000] loss: 1.161\n",
      "[4,  6000] loss: 0.775\n",
      "[5,  2000] loss: 2.322\n",
      "[5,  4000] loss: 1.160\n",
      "[5,  6000] loss: 0.774\n",
      "[6,  2000] loss: 2.323\n",
      "[6,  4000] loss: 1.162\n",
      "[6,  6000] loss: 0.775\n",
      "[7,  2000] loss: 2.324\n",
      "[7,  4000] loss: 1.161\n",
      "[7,  6000] loss: 0.774\n",
      "[8,  2000] loss: 2.324\n",
      "[8,  4000] loss: 1.161\n",
      "[8,  6000] loss: 0.774\n",
      "[9,  2000] loss: 2.320\n",
      "[9,  4000] loss: 1.161\n",
      "[9,  6000] loss: 0.774\n",
      "[10,  2000] loss: 2.321\n",
      "[10,  4000] loss: 1.162\n",
      "[10,  6000] loss: 0.774\n",
      "[11,  2000] loss: 2.322\n",
      "[11,  4000] loss: 1.161\n",
      "[11,  6000] loss: 0.774\n",
      "[12,  2000] loss: 2.322\n",
      "[12,  4000] loss: 1.160\n",
      "[12,  6000] loss: 0.775\n",
      "[13,  2000] loss: 2.317\n",
      "[13,  4000] loss: 1.160\n",
      "[13,  6000] loss: 0.774\n",
      "[14,  2000] loss: 2.322\n",
      "[14,  4000] loss: 1.161\n",
      "[14,  6000] loss: 0.774\n",
      "[15,  2000] loss: 2.322\n",
      "[15,  4000] loss: 1.163\n",
      "[15,  6000] loss: 0.775\n",
      "[16,  2000] loss: 2.322\n",
      "[16,  4000] loss: 1.161\n",
      "[16,  6000] loss: 0.773\n",
      "Accuracy for fold 0: 10 %\n",
      "--------------------------------\n",
      "Fold 1\n",
      "[1,  2000] loss: 2.323\n",
      "[1,  4000] loss: 1.162\n",
      "[1,  6000] loss: 0.775\n",
      "[2,  2000] loss: 2.323\n",
      "[2,  4000] loss: 1.161\n",
      "[2,  6000] loss: 0.774\n",
      "[3,  2000] loss: 2.322\n",
      "[3,  4000] loss: 1.162\n",
      "[3,  6000] loss: 0.775\n",
      "[4,  2000] loss: 2.323\n",
      "[4,  4000] loss: 1.160\n",
      "[4,  6000] loss: 0.774\n",
      "[5,  2000] loss: 2.323\n",
      "[5,  4000] loss: 1.162\n",
      "[5,  6000] loss: 0.774\n",
      "[6,  2000] loss: 2.322\n",
      "[6,  4000] loss: 1.161\n",
      "[6,  6000] loss: 0.774\n",
      "[7,  2000] loss: 2.323\n",
      "[7,  4000] loss: 1.161\n",
      "[7,  6000] loss: 0.774\n",
      "[8,  2000] loss: 2.322\n",
      "[8,  4000] loss: 1.161\n",
      "[8,  6000] loss: 0.773\n",
      "[9,  2000] loss: 2.323\n",
      "[9,  4000] loss: 1.162\n",
      "[9,  6000] loss: 0.774\n",
      "[10,  2000] loss: 2.324\n",
      "[10,  4000] loss: 1.161\n",
      "[10,  6000] loss: 0.774\n",
      "[11,  2000] loss: 2.321\n",
      "[11,  4000] loss: 1.162\n",
      "[11,  6000] loss: 0.775\n",
      "[12,  2000] loss: 2.324\n",
      "[12,  4000] loss: 1.161\n",
      "[12,  6000] loss: 0.774\n",
      "[13,  2000] loss: 2.323\n",
      "[13,  4000] loss: 1.162\n",
      "[13,  6000] loss: 0.774\n",
      "[14,  2000] loss: 2.323\n",
      "[14,  4000] loss: 1.162\n",
      "[14,  6000] loss: 0.774\n",
      "[15,  2000] loss: 2.324\n",
      "[15,  4000] loss: 1.160\n",
      "[15,  6000] loss: 0.774\n",
      "[16,  2000] loss: 2.323\n",
      "[16,  4000] loss: 1.161\n",
      "[16,  6000] loss: 0.775\n",
      "Accuracy for fold 1: 10 %\n",
      "--------------------------------\n",
      "K-FOLD CROSS VALIDATION RESULTS FOR 2 FOLDS\n",
      "--------------------------------\n",
      "Fold 0: 10.07 %\n",
      "Fold 1: 10.040000000000001 %\n",
      "Average: 10.055 %\n",
      "Accuracy of the network on the validation data: 0.1004\n",
      "Using mps device\n",
      "Fold 0\n",
      "[1,  2000] loss: 2.269\n",
      "[1,  4000] loss: 1.169\n",
      "[1,  6000] loss: 0.780\n",
      "[2,  2000] loss: 2.340\n",
      "[2,  4000] loss: 1.169\n",
      "[2,  6000] loss: 0.779\n",
      "[3,  2000] loss: 2.339\n",
      "[3,  4000] loss: 1.168\n",
      "[3,  6000] loss: 0.779\n",
      "[4,  2000] loss: 2.336\n",
      "[4,  4000] loss: 1.172\n",
      "[4,  6000] loss: 0.780\n",
      "[5,  2000] loss: 2.335\n",
      "[5,  4000] loss: 1.170\n",
      "[5,  6000] loss: 0.779\n",
      "[6,  2000] loss: 2.337\n",
      "[6,  4000] loss: 1.170\n",
      "[6,  6000] loss: 0.780\n",
      "[7,  2000] loss: 2.339\n",
      "[7,  4000] loss: 1.170\n",
      "[7,  6000] loss: 0.779\n",
      "[8,  2000] loss: 2.337\n",
      "[8,  4000] loss: 1.171\n",
      "[8,  6000] loss: 0.780\n",
      "Accuracy for fold 0: 9 %\n",
      "--------------------------------\n",
      "Fold 1\n",
      "[1,  2000] loss: 2.335\n",
      "[1,  4000] loss: 1.170\n",
      "[1,  6000] loss: 0.779\n",
      "[2,  2000] loss: 2.339\n",
      "[2,  4000] loss: 1.170\n",
      "[2,  6000] loss: 0.780\n",
      "[3,  2000] loss: 2.337\n",
      "[3,  4000] loss: 1.170\n",
      "[3,  6000] loss: 0.779\n",
      "[4,  2000] loss: 2.342\n",
      "[4,  4000] loss: 1.170\n",
      "[4,  6000] loss: 0.779\n",
      "[5,  2000] loss: 2.341\n",
      "[5,  4000] loss: 1.172\n",
      "[5,  6000] loss: 0.779\n",
      "[6,  2000] loss: 2.340\n",
      "[6,  4000] loss: 1.169\n",
      "[6,  6000] loss: 0.779\n",
      "[7,  2000] loss: 2.338\n",
      "[7,  4000] loss: 1.170\n",
      "[7,  6000] loss: 0.781\n",
      "[8,  2000] loss: 2.338\n",
      "[8,  4000] loss: 1.170\n",
      "[8,  6000] loss: 0.781\n",
      "Accuracy for fold 1: 10 %\n",
      "--------------------------------\n",
      "K-FOLD CROSS VALIDATION RESULTS FOR 2 FOLDS\n",
      "--------------------------------\n",
      "Fold 0: 9.969999999999999 %\n",
      "Fold 1: 10.100000000000001 %\n",
      "Average: 10.035 %\n",
      "Accuracy of the network on the validation data: 0.101\n",
      "Using mps device\n",
      "Fold 0\n",
      "[1,  2000] loss: 1.592\n",
      "[2,  2000] loss: 1.788\n",
      "Accuracy for fold 0: 19 %\n",
      "--------------------------------\n",
      "Fold 1\n",
      "[1,  2000] loss: 1.755\n",
      "[2,  2000] loss: 1.774\n",
      "Accuracy for fold 1: 19 %\n",
      "--------------------------------\n",
      "Fold 2\n",
      "[1,  2000] loss: 1.821\n",
      "[2,  2000] loss: 2.216\n",
      "Accuracy for fold 2: 10 %\n",
      "--------------------------------\n",
      "K-FOLD CROSS VALIDATION RESULTS FOR 3 FOLDS\n",
      "--------------------------------\n",
      "Fold 0: 19.939999999999998 %\n",
      "Fold 1: 19.7 %\n",
      "Fold 2: 10.005 %\n",
      "Average: 16.548333333333336 %\n",
      "Accuracy of the network on the validation data: 0.10005\n",
      "Using mps device\n",
      "Fold 0\n",
      "[1,  2000] loss: 2.324\n",
      "[1,  4000] loss: 1.169\n",
      "[1,  6000] loss: 0.778\n",
      "[1,  8000] loss: 0.584\n",
      "[1, 10000] loss: 0.467\n",
      "[2,  2000] loss: 2.335\n",
      "[2,  4000] loss: 1.166\n",
      "[2,  6000] loss: 0.778\n",
      "[2,  8000] loss: 0.584\n",
      "[2, 10000] loss: 0.467\n",
      "[3,  2000] loss: 2.332\n",
      "[3,  4000] loss: 1.168\n",
      "[3,  6000] loss: 0.778\n",
      "[3,  8000] loss: 0.584\n",
      "[3, 10000] loss: 0.467\n",
      "[4,  2000] loss: 2.334\n",
      "[4,  4000] loss: 1.167\n",
      "[4,  6000] loss: 0.778\n",
      "[4,  8000] loss: 0.583\n",
      "[4, 10000] loss: 0.467\n",
      "Accuracy for fold 0: 9 %\n",
      "--------------------------------\n",
      "Fold 1\n",
      "[1,  2000] loss: 2.332\n",
      "[1,  4000] loss: 1.169\n",
      "[1,  6000] loss: 0.779\n",
      "[1,  8000] loss: 0.583\n",
      "[1, 10000] loss: 0.466\n",
      "[2,  2000] loss: 2.333\n",
      "[2,  4000] loss: 1.165\n",
      "[2,  6000] loss: 0.778\n",
      "[2,  8000] loss: 0.583\n",
      "[2, 10000] loss: 0.466\n",
      "[3,  2000] loss: 2.336\n",
      "[3,  4000] loss: 1.168\n",
      "[3,  6000] loss: 0.778\n",
      "[3,  8000] loss: 0.583\n",
      "[3, 10000] loss: 0.467\n",
      "[4,  2000] loss: 2.334\n",
      "[4,  4000] loss: 1.166\n",
      "[4,  6000] loss: 0.776\n",
      "[4,  8000] loss: 0.583\n",
      "[4, 10000] loss: 0.467\n",
      "Accuracy for fold 1: 10 %\n",
      "--------------------------------\n",
      "Fold 2\n",
      "[1,  2000] loss: 2.335\n",
      "[1,  4000] loss: 1.167\n",
      "[1,  6000] loss: 0.779\n",
      "[1,  8000] loss: 0.584\n",
      "[1, 10000] loss: 0.466\n",
      "[2,  2000] loss: 2.330\n",
      "[2,  4000] loss: 1.168\n",
      "[2,  6000] loss: 0.778\n",
      "[2,  8000] loss: 0.583\n",
      "[2, 10000] loss: 0.467\n",
      "[3,  2000] loss: 2.336\n",
      "[3,  4000] loss: 1.166\n",
      "[3,  6000] loss: 0.778\n",
      "[3,  8000] loss: 0.584\n",
      "[3, 10000] loss: 0.466\n",
      "[4,  2000] loss: 2.330\n",
      "[4,  4000] loss: 1.167\n",
      "[4,  6000] loss: 0.778\n",
      "[4,  8000] loss: 0.584\n",
      "[4, 10000] loss: 0.467\n",
      "Accuracy for fold 2: 10 %\n",
      "--------------------------------\n",
      "K-FOLD CROSS VALIDATION RESULTS FOR 3 FOLDS\n",
      "--------------------------------\n",
      "Fold 0: 9.82 %\n",
      "Fold 1: 10.100000000000001 %\n",
      "Fold 2: 10.015 %\n",
      "Average: 9.978333333333333 %\n",
      "Accuracy of the network on the validation data: 0.10015\n",
      "Using mps device\n",
      "Fold 0\n",
      "[1,  2000] loss: 0.699\n",
      "[2,  2000] loss: 0.458\n",
      "[3,  2000] loss: 0.412\n",
      "[4,  2000] loss: 0.386\n",
      "Accuracy for fold 0: 85 %\n",
      "--------------------------------\n",
      "Fold 1\n",
      "[1,  2000] loss: 0.419\n",
      "[2,  2000] loss: 0.380\n",
      "[3,  2000] loss: 0.358\n",
      "[4,  2000] loss: 0.343\n",
      "Accuracy for fold 1: 86 %\n",
      "--------------------------------\n",
      "K-FOLD CROSS VALIDATION RESULTS FOR 2 FOLDS\n",
      "--------------------------------\n",
      "Fold 0: 85.83666666666666 %\n",
      "Fold 1: 86.90333333333334 %\n",
      "Average: 86.37 %\n",
      "Accuracy of the network on the validation data: 0.8690333333333333\n",
      "Using mps device\n",
      "Fold 0\n",
      "[1,  2000] loss: 2.334\n",
      "[1,  4000] loss: 1.167\n",
      "[1,  6000] loss: 0.778\n",
      "[1,  8000] loss: 0.583\n",
      "[1, 10000] loss: 0.467\n",
      "[2,  2000] loss: 2.333\n",
      "[2,  4000] loss: 1.167\n",
      "[2,  6000] loss: 0.778\n",
      "[2,  8000] loss: 0.583\n",
      "[2, 10000] loss: 0.467\n",
      "Accuracy for fold 0: 10 %\n",
      "--------------------------------\n",
      "Fold 1\n",
      "[1,  2000] loss: 2.334\n",
      "[1,  4000] loss: 1.166\n",
      "[1,  6000] loss: 0.778\n",
      "[1,  8000] loss: 0.584\n",
      "[1, 10000] loss: 0.467\n",
      "[2,  2000] loss: 2.337\n",
      "[2,  4000] loss: 1.168\n",
      "[2,  6000] loss: 0.778\n",
      "[2,  8000] loss: 0.584\n",
      "[2, 10000] loss: 0.467\n",
      "Accuracy for fold 1: 9 %\n",
      "--------------------------------\n",
      "Fold 2\n",
      "[1,  2000] loss: 2.333\n",
      "[1,  4000] loss: 1.168\n",
      "[1,  6000] loss: 0.778\n",
      "[1,  8000] loss: 0.584\n",
      "[1, 10000] loss: 0.467\n",
      "[2,  2000] loss: 2.336\n",
      "[2,  4000] loss: 1.168\n",
      "[2,  6000] loss: 0.778\n",
      "[2,  8000] loss: 0.583\n",
      "[2, 10000] loss: 0.467\n",
      "Accuracy for fold 2: 9 %\n",
      "--------------------------------\n",
      "K-FOLD CROSS VALIDATION RESULTS FOR 3 FOLDS\n",
      "--------------------------------\n",
      "Fold 0: 10.165000000000001 %\n",
      "Fold 1: 9.955 %\n",
      "Fold 2: 9.93 %\n",
      "Average: 10.016666666666667 %\n",
      "Accuracy of the network on the validation data: 0.0993\n",
      "spotPython tuning: [##########] 100.00% Done...\n",
      "\r"
     ]
    },
    {
     "data": {
      "text/plain": [
       "<spotPython.spot.spot.Spot at 0x2c0fe7040>"
      ]
     },
     "execution_count": 19,
     "metadata": {},
     "output_type": "execute_result"
    }
   ],
   "source": [
    "spot_torch = spot.Spot(fun=fun,\n",
    "                   lower = lower,\n",
    "                   upper = upper,\n",
    "                   fun_evals = inf,\n",
    "                   fun_repeats = 1,\n",
    "                   max_time = MAX_TIME,\n",
    "                   noise = False,\n",
    "                   tolerance_x = np.sqrt(np.spacing(1)),\n",
    "                   var_type = var_type,\n",
    "                   var_name = var_name,\n",
    "                   infill_criterion = \"y\",\n",
    "                   n_points = 1,\n",
    "                   seed=123,\n",
    "                   log_level = 50,\n",
    "                   show_models= False,\n",
    "                   show_progress= True,\n",
    "                   fun_control = fun_control,\n",
    "                   design_control={\"init_size\": INIT_SIZE,\n",
    "                                   \"repeats\": 1},\n",
    "                   surrogate_control={\"noise\": True,\n",
    "                                      \"cod_type\": \"norm\",\n",
    "                                      \"min_theta\": -4,\n",
    "                                      \"max_theta\": 3,\n",
    "                                      \"n_theta\": len(var_name),\n",
    "                                      \"model_optimizer\": differential_evolution,\n",
    "                                      \"model_fun_evals\": 10_000,\n",
    "                                      \"log_level\": 50\n",
    "                                      })\n",
    "spot_torch.run()"
   ]
  },
  {
   "attachments": {},
   "cell_type": "markdown",
   "metadata": {},
   "source": [
    "### 4 Results"
   ]
  },
  {
   "cell_type": "code",
   "execution_count": 20,
   "metadata": {},
   "outputs": [],
   "source": [
    "SAVE = True\n",
    "LOAD = False\n",
    "\n",
    "if SAVE:\n",
    "    result_file_name = \"res_\" + experiment_name + \".pkl\"\n",
    "    with open(result_file_name, 'wb') as f:\n",
    "        pickle.dump(spot_torch, f)\n",
    "\n",
    "if LOAD:\n",
    "    result_file_name = \"res_ch10-friedman-hpt-0_maans03_60min_20init_1K_2023-04-14_10-11-19.pkl\"\n",
    "    with open(result_file_name, 'rb') as f:\n",
    "        spot_torch =  pickle.load(f)"
   ]
  },
  {
   "attachments": {},
   "cell_type": "markdown",
   "metadata": {},
   "source": [
    "* Show the Progress of the hyperparameter tuning:"
   ]
  },
  {
   "cell_type": "code",
   "execution_count": 21,
   "metadata": {},
   "outputs": [
    {
     "data": {
      "image/png": "[encoded data removed]",
      "text/plain": [
       "<Figure size 900x600 with 1 Axes>"
      ]
     },
     "metadata": {},
     "output_type": "display_data"
    }
   ],
   "source": [
    "spot_torch.plot_progress(log_y=False, filename=\"../Figures.d/\" + experiment_name+\"_progress.pdf\")"
   ]
  },
  {
   "cell_type": "markdown",
   "metadata": {},
   "source": [
    "\n",
    "\n",
    "* Print the Results"
   ]
  },
  {
   "cell_type": "code",
   "execution_count": 22,
   "metadata": {},
   "outputs": [
    {
     "name": "stdout",
     "output_type": "stream",
     "text": [
      "| Parameter   |     Value |\n",
      "|-------------|-----------|\n",
      "| l1          |         4 |\n",
      "| l2          |         4 |\n",
      "| lr          | 0.0554135 |\n",
      "| batch_size  |         2 |\n",
      "| epochs      |         2 |\n",
      "| k_folds     |         3 |\n"
     ]
    }
   ],
   "source": [
    "res = spot_torch.print_results(print_screen=False)\n",
    "print(tabulate(\n",
    "   res,\n",
    "   headers=[\"Parameter\", \"Value\"],\n",
    "   numalign=\"right\",\n",
    "   tablefmt=\"github\")\n",
    ")"
   ]
  },
  {
   "attachments": {},
   "cell_type": "markdown",
   "metadata": {},
   "source": [
    "## Show variable importance"
   ]
  },
  {
   "cell_type": "code",
   "execution_count": 23,
   "metadata": {},
   "outputs": [
    {
     "data": {
      "image/png": "[encoded data removed]",
      "text/plain": [
       "<Figure size 640x480 with 1 Axes>"
      ]
     },
     "metadata": {},
     "output_type": "display_data"
    }
   ],
   "source": [
    "spot_torch.plot_importance(threshold=0.025, filename=\"../Figures.d/\" + experiment_name+\"_importance.pdf\")"
   ]
  },
  {
   "cell_type": "code",
   "execution_count": 24,
   "metadata": {},
   "outputs": [
    {
     "name": "stdout",
     "output_type": "stream",
     "text": [
      "| name       | type   |   default |   lower |   upper |             tuned |   importance | stars   |\n",
      "|------------|--------|-----------|---------|---------|-------------------|--------------|---------|\n",
      "| l1         | int    |       5.0 |     2.0 |     9.0 |               4.0 |         0.00 |         |\n",
      "| l2         | int    |       5.0 |     2.0 |     9.0 |               4.0 |         0.00 |         |\n",
      "| lr         | float  |     0.001 |  0.0001 |     0.1 | 0.055413518616155 |         0.00 |         |\n",
      "| batch_size | int    |       4.0 |     1.0 |     4.0 |               2.0 |       100.00 | ***     |\n",
      "| epochs     | int    |       3.0 |     1.0 |     4.0 |               2.0 |         0.00 |         |\n",
      "| k_folds    | int    |       2.0 |     2.0 |     3.0 |               3.0 |         0.00 |         |\n"
     ]
    }
   ],
   "source": [
    "print(gen_design_table(fun_control=fun_control, spot=spot_torch))"
   ]
  },
  {
   "attachments": {},
   "cell_type": "markdown",
   "metadata": {},
   "source": [
    "## Get Default Hyperparameters"
   ]
  },
  {
   "cell_type": "code",
   "execution_count": 25,
   "metadata": {},
   "outputs": [
    {
     "data": {
      "text/plain": [
       "{'l1': 32, 'l2': 32, 'lr': 0.001, 'batch_size': 16, 'epochs': 8, 'k_folds': 2}"
      ]
     },
     "execution_count": 25,
     "metadata": {},
     "output_type": "execute_result"
    }
   ],
   "source": [
    "values_default = get_default_hyperparameters_for_core_model(fun_control=fun_control,\n",
    "                                                   hyper_dict=TorchHyperDict)\n",
    "values_default"
   ]
  },
  {
   "cell_type": "code",
   "execution_count": 26,
   "metadata": {},
   "outputs": [
    {
     "data": {
      "text/plain": [
       "Net_CV_fashionMNIST(\n",
       "  (flatten): Flatten(start_dim=1, end_dim=-1)\n",
       "  (linear_relu_stack): Sequential(\n",
       "    (0): Linear(in_features=784, out_features=32, bias=True)\n",
       "    (1): ReLU()\n",
       "    (2): Linear(in_features=32, out_features=32, bias=True)\n",
       "    (3): ReLU()\n",
       "    (4): Linear(in_features=32, out_features=10, bias=True)\n",
       "  )\n",
       ")"
      ]
     },
     "execution_count": 26,
     "metadata": {},
     "output_type": "execute_result"
    }
   ],
   "source": [
    "model_default = fun_control[\"core_model\"](**values_default)\n",
    "model_default\n"
   ]
  },
  {
   "attachments": {},
   "cell_type": "markdown",
   "metadata": {},
   "source": [
    "## Get SPOT Results"
   ]
  },
  {
   "cell_type": "code",
   "execution_count": 27,
   "metadata": {},
   "outputs": [
    {
     "name": "stdout",
     "output_type": "stream",
     "text": [
      "[[4.         4.         0.05541352 2.         2.         3.        ]]\n"
     ]
    }
   ],
   "source": [
    "X = spot_torch.to_all_dim(spot_torch.min_X.reshape(1,-1))\n",
    "print(X)\n"
   ]
  },
  {
   "cell_type": "code",
   "execution_count": 28,
   "metadata": {},
   "outputs": [
    {
     "data": {
      "text/plain": [
       "Net_CV_fashionMNIST(\n",
       "  (flatten): Flatten(start_dim=1, end_dim=-1)\n",
       "  (linear_relu_stack): Sequential(\n",
       "    (0): Linear(in_features=784, out_features=16, bias=True)\n",
       "    (1): ReLU()\n",
       "    (2): Linear(in_features=16, out_features=16, bias=True)\n",
       "    (3): ReLU()\n",
       "    (4): Linear(in_features=16, out_features=10, bias=True)\n",
       "  )\n",
       ")"
      ]
     },
     "execution_count": 28,
     "metadata": {},
     "output_type": "execute_result"
    }
   ],
   "source": [
    "model_spot = get_one_core_model_from_X(X, fun_control)\n",
    "model_spot"
   ]
  },
  {
   "attachments": {},
   "cell_type": "markdown",
   "metadata": {},
   "source": [
    "## Test Set Accuracy"
   ]
  },
  {
   "cell_type": "code",
   "execution_count": 29,
   "metadata": {},
   "outputs": [
    {
     "name": "stdout",
     "output_type": "stream",
     "text": [
      "Using mps device\n"
     ]
    },
    {
     "data": {
      "text/plain": [
       "0.0905"
      ]
     },
     "execution_count": 29,
     "metadata": {},
     "output_type": "execute_result"
    }
   ],
   "source": [
    "model_default.test_accuracy(fun_control=fun_control)"
   ]
  },
  {
   "cell_type": "code",
   "execution_count": 30,
   "metadata": {},
   "outputs": [],
   "source": [
    "def test_accuracy(x, fun_control):\n",
    "    device = \"cuda\" if torch.cuda.is_available() else \"mps\" if torch.backends.mps.is_available() else \"cpu\"\n",
    "    print(f\"Using {device} device\")\n",
    "    x.to(device)\n",
    "\n",
    "    # trainset, testset = load_data()\n",
    "    testset = fun_control[\"test\"]\n",
    "\n",
    "    testloader = torch.utils.data.DataLoader(testset, batch_size=x.batch_size, shuffle=False, num_workers=2)\n",
    "\n",
    "    correct = 0\n",
    "    total = 0\n",
    "    with torch.no_grad():\n",
    "        for data in testloader:\n",
    "            images, labels = data\n",
    "            images, labels = images.to(device), labels.to(device)\n",
    "            outputs = x(images)\n",
    "            _, predicted = torch.max(outputs.data, 1)\n",
    "            total += labels.size(0)\n",
    "            correct += (predicted == labels).sum().item()\n",
    "\n",
    "    return correct / total"
   ]
  },
  {
   "cell_type": "code",
   "execution_count": 31,
   "metadata": {},
   "outputs": [
    {
     "name": "stdout",
     "output_type": "stream",
     "text": [
      "Using mps device\n"
     ]
    },
    {
     "data": {
      "text/plain": [
       "0.0977"
      ]
     },
     "execution_count": 31,
     "metadata": {},
     "output_type": "execute_result"
    }
   ],
   "source": [
    "model_spot.test_accuracy(fun_control=fun_control)"
   ]
  },
  {
   "cell_type": "code",
   "execution_count": 32,
   "metadata": {},
   "outputs": [
    {
     "data": {
      "text/plain": [
       "(9.978333333333333, 86.37)"
      ]
     },
     "execution_count": 32,
     "metadata": {},
     "output_type": "execute_result"
    }
   ],
   "source": [
    "min(spot_torch.y), max(spot_torch.y)"
   ]
  },
  {
   "attachments": {},
   "cell_type": "markdown",
   "metadata": {},
   "source": [
    "## Detailed Hyperparameter Plots"
   ]
  },
  {
   "attachments": {},
   "cell_type": "markdown",
   "metadata": {},
   "source": [
    "* For productive use, you might want to select:\n",
    "  * `min_z=min(spot_torch.y)` and\n",
    "  * `max_z = max(spot_torch.y)`\n",
    "* These settings are not so colorful as visualizations that use `None` for the ranges, but give better insights."
   ]
  },
  {
   "cell_type": "code",
   "execution_count": 33,
   "metadata": {},
   "outputs": [
    {
     "name": "stdout",
     "output_type": "stream",
     "text": [
      "batch_size:  100.0\n"
     ]
    }
   ],
   "source": [
    "threshold = 0.025\n",
    "impo = spot_torch.print_importance(threshold=threshold, print_screen=True)\n",
    "var_plots = [i for i, x in enumerate(impo) if x[1] > threshold]\n",
    "min_z = min(spot_torch.y)\n",
    "max_z = max(spot_torch.y)\n",
    "n = spot_torch.k\n",
    "for i in var_plots:\n",
    "    for j in var_plots:\n",
    "        if j > i:\n",
    "            filename = \"../Figures.d/\" + experiment_name+\"_contour_\"+str(i)+\"_\"+str(j)+\".pdf\"\n",
    "            spot_torch.plot_contour(i=i, j=j, min_z=min_z, max_z = max_z, filename=filename)"
   ]
  },
  {
   "attachments": {},
   "cell_type": "markdown",
   "metadata": {},
   "source": [
    "## Plot all Combinations of Hyperparameters\n",
    "\n",
    "* Warning: this may take a while."
   ]
  },
  {
   "cell_type": "code",
   "execution_count": 34,
   "metadata": {},
   "outputs": [],
   "source": [
    "PLOT_ALL = False\n",
    "if PLOT_ALL:\n",
    "    n = spot_torch.k\n",
    "    for i in range(n-1):\n",
    "        for j in range(i+1, n):\n",
    "            spot_torch.plot_contour(i=i, j=j, min_z=min_z, max_z = max_z)"
   ]
  }
 ],
 "metadata": {
  "kernelspec": {
   "display_name": "spotCondaEnv",
   "language": "python",
   "name": "python3"
  },
  "language_info": {
   "codemirror_mode": {
    "name": "ipython",
    "version": 3
   },
   "file_extension": ".py",
   "mimetype": "text/x-python",
   "name": "python",
   "nbconvert_exporter": "python",
   "pygments_lexer": "ipython3",
   "version": "3.10.6"
  },
  "vscode": {
   "interpreter": {
    "hash": "81c77de872def749acd68d9955e19f0df6803301f4c1f66c3444af66334112ae"
   }
  }
 },
 "nbformat": 4,
 "nbformat_minor": 4
}
