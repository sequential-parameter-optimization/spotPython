{
 "cells": [
  {
   "cell_type": "raw",
   "metadata": {},
   "source": [
    "---\n",
    "title: \"Scikit-learn Hyperparameter Tuning With spotPython - A Tutorial for Classification: SVC\"\n",
    "format: html\n",
    "---"
   ]
  },
  {
   "cell_type": "code",
   "execution_count": 1,
   "metadata": {},
   "outputs": [],
   "source": [
    "MAX_TIME = 60 # Time in minutes. Counter starts, after the initial design is evaluated. So, runtime can be larger.\n",
    "INIT_SIZE = 20 # Initial number of designs to evaluate, before the surrogate is build.\n",
    "ORIGINAL = False # If True, the original data is used."
   ]
  },
  {
   "cell_type": "code",
   "execution_count": 2,
   "metadata": {},
   "outputs": [
    {
     "name": "stdout",
     "output_type": "stream",
     "text": [
      "18-sklearnSVC_maans05_60min_20init_2023-05-30_13-50-21\n"
     ]
    }
   ],
   "source": [
    "import socket\n",
    "import os\n",
    "from datetime import datetime\n",
    "from dateutil.tz import tzlocal\n",
    "start_time = datetime.now(tzlocal())\n",
    "HOSTNAME = socket.gethostname().split(\".\")[0]\n",
    "experiment_name = '18-sklearnSVC' + \"_\" + HOSTNAME + \"_\" + str(MAX_TIME) + \"min_\" + str(INIT_SIZE) + \"init_\" + str(start_time).split(\".\", 1)[0].replace(' ', '_')\n",
    "experiment_name = experiment_name.replace(':', '-')\n",
    "print(experiment_name)\n",
    "if not os.path.exists('./figures'):\n",
    "    os.makedirs('./figures')"
   ]
  },
  {
   "attachments": {},
   "cell_type": "markdown",
   "metadata": {},
   "source": [
    "# Chapter 18: Sequential Parameter Optimization\n",
    "## Hyperparameter Tuning: sklearn SVC"
   ]
  },
  {
   "attachments": {},
   "cell_type": "markdown",
   "metadata": {},
   "source": [
    "* This notebook exemplifies hyperparameter tuning with SPOT (spotPython).\n",
    "* The hyperparameter software SPOT was developed in R (statistical programming language), see Open Access book \"Hyperparameter Tuning for Machine and Deep Learning with R - A Practical Guide\", available here: [https://link.springer.com/book/10.1007/978-981-19-5170-1](https://link.springer.com/book/10.1007/978-981-19-5170-1).\n"
   ]
  },
  {
   "cell_type": "code",
   "execution_count": 3,
   "metadata": {},
   "outputs": [
    {
     "name": "stdout",
     "output_type": "stream",
     "text": [
      "spotPython               0.2.3\n",
      "Note: you may need to restart the kernel to use updated packages.\n"
     ]
    }
   ],
   "source": [
    "pip list | grep  \"spot[RiverPython]\""
   ]
  },
  {
   "cell_type": "code",
   "execution_count": 4,
   "metadata": {},
   "outputs": [],
   "source": [
    "# import sys\n",
    "# !{sys.executable} -m pip install --upgrade build\n",
    "# !{sys.executable} -m pip install --upgrade --force-reinstall spotPython"
   ]
  },
  {
   "cell_type": "code",
   "execution_count": 5,
   "metadata": {},
   "outputs": [],
   "source": [
    "from tabulate import tabulate\n",
    "import warnings\n",
    "import numpy as np\n",
    "from math import inf\n",
    "import pandas as pd\n",
    "\n",
    "from scipy.optimize import differential_evolution\n",
    "\n",
    "import matplotlib.pyplot as plt\n",
    "\n",
    "from sklearn.preprocessing import OneHotEncoder , MinMaxScaler, StandardScaler\n",
    "from sklearn.preprocessing import OrdinalEncoder\n",
    "from sklearn.linear_model import RidgeCV\n",
    "from sklearn.pipeline import make_pipeline , Pipeline\n",
    "from sklearn.compose import ColumnTransformer\n",
    "from sklearn.ensemble import HistGradientBoostingRegressor\n",
    "from sklearn.model_selection import cross_validate\n",
    "from sklearn.datasets import fetch_openml\n",
    "from sklearn.metrics import mean_absolute_error, accuracy_score, roc_curve, roc_auc_score, log_loss, mean_squared_error\n",
    "from sklearn.tree import DecisionTreeRegressor\n",
    "from sklearn.datasets import make_regression\n",
    "from sklearn.preprocessing import OneHotEncoder\n",
    "from sklearn.preprocessing import MinMaxScaler\n",
    "from sklearn.datasets import make_classification\n",
    "from sklearn.model_selection import train_test_split\n",
    "from sklearn.datasets import make_moons, make_circles, make_classification\n",
    "from sklearn.linear_model import RidgeCV\n",
    "from sklearn.ensemble import RandomForestClassifier\n",
    "from sklearn.svm import SVC\n",
    "from sklearn.linear_model import LogisticRegression\n",
    "from sklearn.neighbors import KNeighborsClassifier\n",
    "from sklearn.ensemble import GradientBoostingClassifier\n",
    "from sklearn.ensemble import HistGradientBoostingClassifier\n",
    "from sklearn.ensemble import GradientBoostingRegressor\n",
    "from sklearn.linear_model import ElasticNet\n",
    "from sklearn.metrics import top_k_accuracy_score\n",
    "\n",
    "warnings.filterwarnings(\"ignore\")\n",
    "\n",
    "from spotPython.spot import spot\n",
    "from spotPython.hyperparameters.values import (\n",
    "    add_core_model_to_fun_control,\n",
    "    assign_values,\n",
    "    convert_keys,\n",
    "    get_bound_values,\n",
    "    get_default_hyperparameters_for_core_model,\n",
    "    get_default_values,\n",
    "    get_default_hyperparameters_as_array,\n",
    "    get_dict_with_levels_and_types,\n",
    "    get_values_from_dict,\n",
    "    get_var_name,\n",
    "    get_var_type,\n",
    "    iterate_dict_values,\n",
    "    modify_hyper_parameter_levels,\n",
    "    modify_hyper_parameter_bounds,\n",
    "    replace_levels_with_positions,\n",
    "    return_conf_list_from_var_dict,\n",
    "    get_one_core_model_from_X,\n",
    "    transform_hyper_parameter_values,\n",
    "    get_dict_with_levels_and_types,\n",
    "    convert_keys,\n",
    "    iterate_dict_values,\n",
    "    get_one_sklearn_model_from_X\n",
    ")\n",
    "\n",
    "from spotPython.utils.convert import class_for_name\n",
    "from spotPython.utils.eda import (\n",
    "    get_stars,\n",
    "    gen_design_table)\n",
    "from spotPython.utils.transform import transform_hyper_parameter_values\n",
    "from spotPython.utils.convert import get_Xy_from_df\n",
    "from spotPython.plot.validation import plot_cv_predictions, plot_roc, plot_confusion_matrix\n",
    "from spotPython.utils.init import fun_control_init\n",
    "\n",
    "from spotPython.data.sklearn_hyper_dict import SklearnHyperDict\n",
    "from spotPython.fun.hypersklearn import HyperSklearn\n",
    "from spotPython.utils.metrics import mapk_score"
   ]
  },
  {
   "attachments": {},
   "cell_type": "markdown",
   "metadata": {},
   "source": [
    "## 0. Initialization of the Empty `fun_control` Dictionary"
   ]
  },
  {
   "cell_type": "code",
   "execution_count": 6,
   "metadata": {},
   "outputs": [],
   "source": [
    "fun_control = fun_control_init()"
   ]
  },
  {
   "attachments": {},
   "cell_type": "markdown",
   "metadata": {},
   "source": [
    "## 1. Load Data: Classification"
   ]
  },
  {
   "attachments": {},
   "cell_type": "markdown",
   "metadata": {},
   "source": [
    "## Vector Borne Disease Prediction Data"
   ]
  },
  {
   "cell_type": "code",
   "execution_count": 7,
   "metadata": {},
   "outputs": [],
   "source": [
    "if ORIGINAL == True:\n",
    "    train_df = pd.read_csv('./data/VBDP/trainn.csv')\n",
    "    test_df = pd.read_csv('./data/VBDP/testt.csv')\n",
    "else:\n",
    "    train_df = pd.read_csv('./data/VBDP/train.csv')\n",
    "    # remove the id column\n",
    "    train_df = train_df.drop(columns=['id'])"
   ]
  },
  {
   "cell_type": "code",
   "execution_count": 8,
   "metadata": {},
   "outputs": [
    {
     "name": "stdout",
     "output_type": "stream",
     "text": [
      "(707, 65)\n"
     ]
    },
    {
     "data": {
      "text/html": [
       "<div>\n",
       "<style scoped>\n",
       "    .dataframe tbody tr th:only-of-type {\n",
       "        vertical-align: middle;\n",
       "    }\n",
       "\n",
       "    .dataframe tbody tr th {\n",
       "        vertical-align: top;\n",
       "    }\n",
       "\n",
       "    .dataframe thead th {\n",
       "        text-align: right;\n",
       "    }\n",
       "</style>\n",
       "<table border=\"1\" class=\"dataframe\">\n",
       "  <thead>\n",
       "    <tr style=\"text-align: right;\">\n",
       "      <th></th>\n",
       "      <th>x1</th>\n",
       "      <th>x2</th>\n",
       "      <th>x3</th>\n",
       "      <th>x4</th>\n",
       "      <th>x5</th>\n",
       "      <th>x6</th>\n",
       "      <th>x7</th>\n",
       "      <th>x8</th>\n",
       "      <th>x9</th>\n",
       "      <th>x10</th>\n",
       "      <th>...</th>\n",
       "      <th>x56</th>\n",
       "      <th>x57</th>\n",
       "      <th>x58</th>\n",
       "      <th>x59</th>\n",
       "      <th>x60</th>\n",
       "      <th>x61</th>\n",
       "      <th>x62</th>\n",
       "      <th>x63</th>\n",
       "      <th>x64</th>\n",
       "      <th>prognosis</th>\n",
       "    </tr>\n",
       "  </thead>\n",
       "  <tbody>\n",
       "    <tr>\n",
       "      <th>0</th>\n",
       "      <td>1.0</td>\n",
       "      <td>1.0</td>\n",
       "      <td>0.0</td>\n",
       "      <td>1.0</td>\n",
       "      <td>1.0</td>\n",
       "      <td>1.0</td>\n",
       "      <td>1.0</td>\n",
       "      <td>0.0</td>\n",
       "      <td>1.0</td>\n",
       "      <td>1.0</td>\n",
       "      <td>...</td>\n",
       "      <td>0.0</td>\n",
       "      <td>0.0</td>\n",
       "      <td>0.0</td>\n",
       "      <td>0.0</td>\n",
       "      <td>0.0</td>\n",
       "      <td>0.0</td>\n",
       "      <td>0.0</td>\n",
       "      <td>0.0</td>\n",
       "      <td>0.0</td>\n",
       "      <td>3.0</td>\n",
       "    </tr>\n",
       "    <tr>\n",
       "      <th>1</th>\n",
       "      <td>0.0</td>\n",
       "      <td>0.0</td>\n",
       "      <td>0.0</td>\n",
       "      <td>0.0</td>\n",
       "      <td>0.0</td>\n",
       "      <td>0.0</td>\n",
       "      <td>1.0</td>\n",
       "      <td>0.0</td>\n",
       "      <td>1.0</td>\n",
       "      <td>0.0</td>\n",
       "      <td>...</td>\n",
       "      <td>0.0</td>\n",
       "      <td>0.0</td>\n",
       "      <td>0.0</td>\n",
       "      <td>0.0</td>\n",
       "      <td>0.0</td>\n",
       "      <td>0.0</td>\n",
       "      <td>0.0</td>\n",
       "      <td>0.0</td>\n",
       "      <td>0.0</td>\n",
       "      <td>7.0</td>\n",
       "    </tr>\n",
       "    <tr>\n",
       "      <th>2</th>\n",
       "      <td>0.0</td>\n",
       "      <td>1.0</td>\n",
       "      <td>1.0</td>\n",
       "      <td>1.0</td>\n",
       "      <td>0.0</td>\n",
       "      <td>1.0</td>\n",
       "      <td>1.0</td>\n",
       "      <td>1.0</td>\n",
       "      <td>1.0</td>\n",
       "      <td>1.0</td>\n",
       "      <td>...</td>\n",
       "      <td>1.0</td>\n",
       "      <td>1.0</td>\n",
       "      <td>1.0</td>\n",
       "      <td>1.0</td>\n",
       "      <td>1.0</td>\n",
       "      <td>0.0</td>\n",
       "      <td>1.0</td>\n",
       "      <td>1.0</td>\n",
       "      <td>1.0</td>\n",
       "      <td>3.0</td>\n",
       "    </tr>\n",
       "    <tr>\n",
       "      <th>3</th>\n",
       "      <td>0.0</td>\n",
       "      <td>0.0</td>\n",
       "      <td>1.0</td>\n",
       "      <td>1.0</td>\n",
       "      <td>1.0</td>\n",
       "      <td>1.0</td>\n",
       "      <td>0.0</td>\n",
       "      <td>1.0</td>\n",
       "      <td>0.0</td>\n",
       "      <td>1.0</td>\n",
       "      <td>...</td>\n",
       "      <td>0.0</td>\n",
       "      <td>0.0</td>\n",
       "      <td>0.0</td>\n",
       "      <td>0.0</td>\n",
       "      <td>0.0</td>\n",
       "      <td>0.0</td>\n",
       "      <td>0.0</td>\n",
       "      <td>0.0</td>\n",
       "      <td>0.0</td>\n",
       "      <td>10.0</td>\n",
       "    </tr>\n",
       "    <tr>\n",
       "      <th>4</th>\n",
       "      <td>0.0</td>\n",
       "      <td>0.0</td>\n",
       "      <td>0.0</td>\n",
       "      <td>0.0</td>\n",
       "      <td>0.0</td>\n",
       "      <td>0.0</td>\n",
       "      <td>0.0</td>\n",
       "      <td>0.0</td>\n",
       "      <td>1.0</td>\n",
       "      <td>0.0</td>\n",
       "      <td>...</td>\n",
       "      <td>0.0</td>\n",
       "      <td>1.0</td>\n",
       "      <td>0.0</td>\n",
       "      <td>0.0</td>\n",
       "      <td>1.0</td>\n",
       "      <td>1.0</td>\n",
       "      <td>1.0</td>\n",
       "      <td>0.0</td>\n",
       "      <td>0.0</td>\n",
       "      <td>6.0</td>\n",
       "    </tr>\n",
       "  </tbody>\n",
       "</table>\n",
       "<p>5 rows × 65 columns</p>\n",
       "</div>"
      ],
      "text/plain": [
       "    x1   x2   x3   x4   x5   x6   x7   x8   x9  x10  ...  x56  x57  x58  x59   \n",
       "0  1.0  1.0  0.0  1.0  1.0  1.0  1.0  0.0  1.0  1.0  ...  0.0  0.0  0.0  0.0  \\\n",
       "1  0.0  0.0  0.0  0.0  0.0  0.0  1.0  0.0  1.0  0.0  ...  0.0  0.0  0.0  0.0   \n",
       "2  0.0  1.0  1.0  1.0  0.0  1.0  1.0  1.0  1.0  1.0  ...  1.0  1.0  1.0  1.0   \n",
       "3  0.0  0.0  1.0  1.0  1.0  1.0  0.0  1.0  0.0  1.0  ...  0.0  0.0  0.0  0.0   \n",
       "4  0.0  0.0  0.0  0.0  0.0  0.0  0.0  0.0  1.0  0.0  ...  0.0  1.0  0.0  0.0   \n",
       "\n",
       "   x60  x61  x62  x63  x64  prognosis  \n",
       "0  0.0  0.0  0.0  0.0  0.0        3.0  \n",
       "1  0.0  0.0  0.0  0.0  0.0        7.0  \n",
       "2  1.0  0.0  1.0  1.0  1.0        3.0  \n",
       "3  0.0  0.0  0.0  0.0  0.0       10.0  \n",
       "4  1.0  1.0  1.0  0.0  0.0        6.0  \n",
       "\n",
       "[5 rows x 65 columns]"
      ]
     },
     "execution_count": 8,
     "metadata": {},
     "output_type": "execute_result"
    }
   ],
   "source": [
    "n_samples = train_df.shape[0]\n",
    "n_features = train_df.shape[1] - 1\n",
    "target_column = \"prognosis\"\n",
    "# Encoder our prognosis labels as integers for easier decoding later\n",
    "enc = OrdinalEncoder()\n",
    "train_df[target_column] = enc.fit_transform(train_df[[target_column]])\n",
    "train_df.columns = [f\"x{i}\" for i in range(1, n_features+1)] + [target_column]\n",
    "print(train_df.shape)\n",
    "train_df.head()"
   ]
  },
  {
   "attachments": {},
   "cell_type": "markdown",
   "metadata": {},
   "source": [
    "The full data set `train_df` 64 features. The target column is labeled as `prognosis`.\n",
    "\n",
    "## Holdout Train and Test Data\n",
    "\n",
    "We split out a hold-out test set (25% of the data) so we can calculate an example MAP@K"
   ]
  },
  {
   "cell_type": "code",
   "execution_count": 9,
   "metadata": {},
   "outputs": [
    {
     "name": "stdout",
     "output_type": "stream",
     "text": [
      "(530, 65)\n",
      "(177, 65)\n"
     ]
    },
    {
     "data": {
      "text/html": [
       "<div>\n",
       "<style scoped>\n",
       "    .dataframe tbody tr th:only-of-type {\n",
       "        vertical-align: middle;\n",
       "    }\n",
       "\n",
       "    .dataframe tbody tr th {\n",
       "        vertical-align: top;\n",
       "    }\n",
       "\n",
       "    .dataframe thead th {\n",
       "        text-align: right;\n",
       "    }\n",
       "</style>\n",
       "<table border=\"1\" class=\"dataframe\">\n",
       "  <thead>\n",
       "    <tr style=\"text-align: right;\">\n",
       "      <th></th>\n",
       "      <th>x1</th>\n",
       "      <th>x2</th>\n",
       "      <th>x3</th>\n",
       "      <th>x4</th>\n",
       "      <th>x5</th>\n",
       "      <th>x6</th>\n",
       "      <th>x7</th>\n",
       "      <th>x8</th>\n",
       "      <th>x9</th>\n",
       "      <th>x10</th>\n",
       "      <th>...</th>\n",
       "      <th>x56</th>\n",
       "      <th>x57</th>\n",
       "      <th>x58</th>\n",
       "      <th>x59</th>\n",
       "      <th>x60</th>\n",
       "      <th>x61</th>\n",
       "      <th>x62</th>\n",
       "      <th>x63</th>\n",
       "      <th>x64</th>\n",
       "      <th>prognosis</th>\n",
       "    </tr>\n",
       "  </thead>\n",
       "  <tbody>\n",
       "    <tr>\n",
       "      <th>0</th>\n",
       "      <td>1.0</td>\n",
       "      <td>0.0</td>\n",
       "      <td>0.0</td>\n",
       "      <td>0.0</td>\n",
       "      <td>0.0</td>\n",
       "      <td>0.0</td>\n",
       "      <td>0.0</td>\n",
       "      <td>0.0</td>\n",
       "      <td>0.0</td>\n",
       "      <td>0.0</td>\n",
       "      <td>...</td>\n",
       "      <td>0.0</td>\n",
       "      <td>0.0</td>\n",
       "      <td>0.0</td>\n",
       "      <td>0.0</td>\n",
       "      <td>0.0</td>\n",
       "      <td>0.0</td>\n",
       "      <td>0.0</td>\n",
       "      <td>0.0</td>\n",
       "      <td>0.0</td>\n",
       "      <td>2.0</td>\n",
       "    </tr>\n",
       "    <tr>\n",
       "      <th>1</th>\n",
       "      <td>0.0</td>\n",
       "      <td>1.0</td>\n",
       "      <td>1.0</td>\n",
       "      <td>1.0</td>\n",
       "      <td>1.0</td>\n",
       "      <td>1.0</td>\n",
       "      <td>1.0</td>\n",
       "      <td>1.0</td>\n",
       "      <td>1.0</td>\n",
       "      <td>0.0</td>\n",
       "      <td>...</td>\n",
       "      <td>0.0</td>\n",
       "      <td>0.0</td>\n",
       "      <td>0.0</td>\n",
       "      <td>0.0</td>\n",
       "      <td>0.0</td>\n",
       "      <td>0.0</td>\n",
       "      <td>0.0</td>\n",
       "      <td>0.0</td>\n",
       "      <td>0.0</td>\n",
       "      <td>4.0</td>\n",
       "    </tr>\n",
       "    <tr>\n",
       "      <th>2</th>\n",
       "      <td>0.0</td>\n",
       "      <td>0.0</td>\n",
       "      <td>0.0</td>\n",
       "      <td>1.0</td>\n",
       "      <td>1.0</td>\n",
       "      <td>1.0</td>\n",
       "      <td>0.0</td>\n",
       "      <td>0.0</td>\n",
       "      <td>0.0</td>\n",
       "      <td>0.0</td>\n",
       "      <td>...</td>\n",
       "      <td>0.0</td>\n",
       "      <td>0.0</td>\n",
       "      <td>0.0</td>\n",
       "      <td>0.0</td>\n",
       "      <td>1.0</td>\n",
       "      <td>1.0</td>\n",
       "      <td>1.0</td>\n",
       "      <td>0.0</td>\n",
       "      <td>1.0</td>\n",
       "      <td>1.0</td>\n",
       "    </tr>\n",
       "    <tr>\n",
       "      <th>3</th>\n",
       "      <td>1.0</td>\n",
       "      <td>1.0</td>\n",
       "      <td>0.0</td>\n",
       "      <td>1.0</td>\n",
       "      <td>1.0</td>\n",
       "      <td>1.0</td>\n",
       "      <td>0.0</td>\n",
       "      <td>0.0</td>\n",
       "      <td>0.0</td>\n",
       "      <td>0.0</td>\n",
       "      <td>...</td>\n",
       "      <td>0.0</td>\n",
       "      <td>0.0</td>\n",
       "      <td>0.0</td>\n",
       "      <td>0.0</td>\n",
       "      <td>0.0</td>\n",
       "      <td>0.0</td>\n",
       "      <td>0.0</td>\n",
       "      <td>0.0</td>\n",
       "      <td>0.0</td>\n",
       "      <td>6.0</td>\n",
       "    </tr>\n",
       "    <tr>\n",
       "      <th>4</th>\n",
       "      <td>0.0</td>\n",
       "      <td>0.0</td>\n",
       "      <td>0.0</td>\n",
       "      <td>1.0</td>\n",
       "      <td>0.0</td>\n",
       "      <td>0.0</td>\n",
       "      <td>1.0</td>\n",
       "      <td>1.0</td>\n",
       "      <td>0.0</td>\n",
       "      <td>0.0</td>\n",
       "      <td>...</td>\n",
       "      <td>0.0</td>\n",
       "      <td>0.0</td>\n",
       "      <td>0.0</td>\n",
       "      <td>0.0</td>\n",
       "      <td>0.0</td>\n",
       "      <td>0.0</td>\n",
       "      <td>0.0</td>\n",
       "      <td>0.0</td>\n",
       "      <td>0.0</td>\n",
       "      <td>5.0</td>\n",
       "    </tr>\n",
       "  </tbody>\n",
       "</table>\n",
       "<p>5 rows × 65 columns</p>\n",
       "</div>"
      ],
      "text/plain": [
       "    x1   x2   x3   x4   x5   x6   x7   x8   x9  x10  ...  x56  x57  x58  x59   \n",
       "0  1.0  0.0  0.0  0.0  0.0  0.0  0.0  0.0  0.0  0.0  ...  0.0  0.0  0.0  0.0  \\\n",
       "1  0.0  1.0  1.0  1.0  1.0  1.0  1.0  1.0  1.0  0.0  ...  0.0  0.0  0.0  0.0   \n",
       "2  0.0  0.0  0.0  1.0  1.0  1.0  0.0  0.0  0.0  0.0  ...  0.0  0.0  0.0  0.0   \n",
       "3  1.0  1.0  0.0  1.0  1.0  1.0  0.0  0.0  0.0  0.0  ...  0.0  0.0  0.0  0.0   \n",
       "4  0.0  0.0  0.0  1.0  0.0  0.0  1.0  1.0  0.0  0.0  ...  0.0  0.0  0.0  0.0   \n",
       "\n",
       "   x60  x61  x62  x63  x64  prognosis  \n",
       "0  0.0  0.0  0.0  0.0  0.0        2.0  \n",
       "1  0.0  0.0  0.0  0.0  0.0        4.0  \n",
       "2  1.0  1.0  1.0  0.0  1.0        1.0  \n",
       "3  0.0  0.0  0.0  0.0  0.0        6.0  \n",
       "4  0.0  0.0  0.0  0.0  0.0        5.0  \n",
       "\n",
       "[5 rows x 65 columns]"
      ]
     },
     "execution_count": 9,
     "metadata": {},
     "output_type": "execute_result"
    }
   ],
   "source": [
    "X_train, X_test, y_train, y_test = train_test_split(train_df.drop(target_column, axis=1), train_df[target_column],\n",
    "                                                    random_state=42,\n",
    "                                                    test_size=0.25,\n",
    "                                                    stratify=train_df[target_column])\n",
    "train = pd.DataFrame(np.hstack((X_train, np.array(y_train).reshape(-1, 1))))\n",
    "test = pd.DataFrame(np.hstack((X_test, np.array(y_test).reshape(-1, 1))))\n",
    "train.columns = [f\"x{i}\" for i in range(1, n_features+1)] + [target_column]\n",
    "test.columns = [f\"x{i}\" for i in range(1, n_features+1)] + [target_column]\n",
    "print(train.shape)\n",
    "print(test.shape)\n",
    "train.head()"
   ]
  },
  {
   "cell_type": "code",
   "execution_count": 10,
   "metadata": {},
   "outputs": [],
   "source": [
    "# add the dataset to the fun_control\n",
    "fun_control.update({\"data\": train_df, # full dataset,\n",
    "               \"train\": train,\n",
    "               \"test\": test,\n",
    "               \"n_samples\": n_samples,\n",
    "               \"target_column\": target_column})"
   ]
  },
  {
   "attachments": {},
   "cell_type": "markdown",
   "metadata": {},
   "source": [
    "## 2. Specification of the Preprocessing Model"
   ]
  },
  {
   "attachments": {},
   "cell_type": "markdown",
   "metadata": {},
   "source": [
    "Data preprocesssing can be very simple, e.g., you can ignore it. Then you would choose the `prep_model` \"None\":"
   ]
  },
  {
   "cell_type": "code",
   "execution_count": 11,
   "metadata": {},
   "outputs": [],
   "source": [
    "prep_model = None\n",
    "fun_control.update({\"prep_model\": prep_model})"
   ]
  },
  {
   "attachments": {},
   "cell_type": "markdown",
   "metadata": {},
   "source": [
    "A default approach for numerical data is the `StandardScaler` (mean 0, variance 1).  This can be selected as follows:"
   ]
  },
  {
   "cell_type": "code",
   "execution_count": 12,
   "metadata": {},
   "outputs": [],
   "source": [
    "# prep_model = StandardScaler()\n",
    "# fun_control.update({\"prep_model\": prep_model})"
   ]
  },
  {
   "attachments": {},
   "cell_type": "markdown",
   "metadata": {},
   "source": [
    "Even more complicated pre-processing steps are possible, e.g., the follwing pipeline:"
   ]
  },
  {
   "cell_type": "code",
   "execution_count": 13,
   "metadata": {},
   "outputs": [],
   "source": [
    "# categorical_columns = []\n",
    "# one_hot_encoder = OneHotEncoder(handle_unknown=\"ignore\", sparse_output=False)\n",
    "# prep_model = ColumnTransformer(\n",
    "#         transformers=[\n",
    "#             (\"categorical\", one_hot_encoder, categorical_columns),\n",
    "#         ],\n",
    "#         remainder=StandardScaler(),\n",
    "#     )"
   ]
  },
  {
   "attachments": {},
   "cell_type": "markdown",
   "metadata": {},
   "source": [
    "## 3. Select `algorithm` and `core_model_hyper_dict`"
   ]
  },
  {
   "attachments": {},
   "cell_type": "markdown",
   "metadata": {},
   "source": [
    "The selection of the algorithm (ML model) that should be tuned is done by specifying the its name from the `sklearn` implementation.  For example, the `SVC` support vector machine classifier is selected as follows:\n",
    "\n",
    "`fun_control = add_core_model_to_fun_control(SVC, fun_control, SklearnHyperDict)`\n"
   ]
  },
  {
   "attachments": {},
   "cell_type": "markdown",
   "metadata": {},
   "source": [
    "Other core_models are, e.g.,:\n",
    "\n",
    "* RidgeCV\n",
    "* GradientBoostingRegressor\n",
    "* ElasticNet\n",
    "* RandomForestClassifier\n",
    "* LogisticRegression\n",
    "* KNeighborsClassifier\n",
    "* GradientBoostingClassifier\n",
    "* HistGradientBoostingClassifier"
   ]
  },
  {
   "attachments": {},
   "cell_type": "markdown",
   "metadata": {},
   "source": [
    "We will use the `SVC` classifier in this example."
   ]
  },
  {
   "cell_type": "code",
   "execution_count": 14,
   "metadata": {},
   "outputs": [],
   "source": [
    "fun_control = add_core_model_to_fun_control(core_model=SVC,\n",
    "                              fun_control=fun_control,\n",
    "                              hyper_dict=SklearnHyperDict,\n",
    "                              filename=None)"
   ]
  },
  {
   "attachments": {},
   "cell_type": "markdown",
   "metadata": {},
   "source": [
    "Now `fun_control` has the information from the JSON file. The available hyperparameters are:"
   ]
  },
  {
   "cell_type": "code",
   "execution_count": 15,
   "metadata": {},
   "outputs": [
    {
     "name": "stdout",
     "output_type": "stream",
     "text": [
      "C\n",
      "kernel\n",
      "degree\n",
      "gamma\n",
      "coef0\n",
      "shrinking\n",
      "probability\n",
      "tol\n",
      "cache_size\n",
      "break_ties\n"
     ]
    }
   ],
   "source": [
    "print(*fun_control[\"core_model_hyper_dict\"].keys(), sep=\"\\n\")"
   ]
  },
  {
   "attachments": {},
   "cell_type": "markdown",
   "metadata": {},
   "source": [
    "## 4. Modify `hyper_dict` Hyperparameters for the Selected Algorithm aka `core_model`"
   ]
  },
  {
   "attachments": {},
   "cell_type": "markdown",
   "metadata": {},
   "source": [
    "### Modify hyperparameter of type factor\n",
    "\n",
    "Factors can be modified with the `modify_hyper_parameter_levels` function.  For example, to exclude the `sigmoid` kernel from the tuning, the `kernel` hyperparameter of the `SVC` model can be modified as follows:\n",
    "\n",
    "`fun_control = modify_hyper_parameter_levels(fun_control, \"kernel\", [\"linear\", \"rbf\"])`\n",
    "\n",
    "The new setting can be controlled via:\n",
    "\n",
    "`fun_control[\"core_model_hyper_dict\"][\"kernel\"]`"
   ]
  },
  {
   "cell_type": "code",
   "execution_count": 16,
   "metadata": {},
   "outputs": [],
   "source": [
    "# XGBoost:\n",
    "# fun_control = modify_hyper_parameter_levels(fun_control, \"loss\", [\"log_loss\"])\n",
    "# SVC:\n",
    "# fun_control = modify_hyper_parameter_levels(fun_control, \"kernel\", [\"linear\", \"rbf\"])\n",
    "fun_control = modify_hyper_parameter_levels(fun_control, \"kernel\", [\"rbf\"])"
   ]
  },
  {
   "attachments": {},
   "cell_type": "markdown",
   "metadata": {},
   "source": [
    "### Modify hyperparameter of type numeric and integer (boolean)"
   ]
  },
  {
   "attachments": {},
   "cell_type": "markdown",
   "metadata": {},
   "source": [
    "Numeric and boolean values can be modified using the `modify_hyper_parameter_bounds` method.  For example, to change the `tol` hyperparameter of the `SVC` model to the interval [1e-3, 1e-2], the following code can be used:\n",
    "\n",
    "`fun_control = modify_hyper_parameter_bounds(fun_control, \"tol\", bounds=[1e-3, 1e-2])`"
   ]
  },
  {
   "cell_type": "code",
   "execution_count": 17,
   "metadata": {},
   "outputs": [],
   "source": [
    "# fun_control = modify_hyper_parameter_bounds(fun_control, \"tol\", bounds=[1e-3, 1e-2])\n",
    "# fun_control = modify_hyper_parameter_bounds(fun_control, \"min_samples_split\", bounds=[3, 20])\n",
    "# fun_control = modify_hyper_parameter_bounds(fun_control, \"dual\", bounds=[0, 0])\n",
    "fun_control = modify_hyper_parameter_bounds(fun_control, \"probability\", bounds=[1, 1])\n",
    "# fun_control[\"core_model_hyper_dict\"][\"tol\"]\n",
    "# fun_control = modify_hyper_parameter_bounds(fun_control, \"min_samples_leaf\", bounds=[1, 25])\n",
    "# fun_control = modify_hyper_parameter_bounds(fun_control, \"n_estimators\", bounds=[5, 10])"
   ]
  },
  {
   "attachments": {},
   "cell_type": "markdown",
   "metadata": {},
   "source": [
    "## 5. Selection of the Objective: Metric and Loss Functions"
   ]
  },
  {
   "attachments": {},
   "cell_type": "markdown",
   "metadata": {},
   "source": [
    "* Machine learning models are optimized with respect to a metric, for example, the `accuracy` function.\n",
    "* Deep learning, e.g., neural networks are optimized with respect to a loss function, for example, the `cross_entropy` function and evaluated with respect to a metric, for example, the `accuracy` function.\n",
    "\n",
    "### Loss Function\n",
    "\n",
    "The loss function, that is usually used in deep learning for optimizing the weights of the net, is stored in the `fun_control` dictionary as `\"loss_function\"`.\n",
    "\n",
    "### Metric Function\n",
    "\n",
    "There are three different types of metrics in `spotPython`:\n",
    "\n",
    "1. `\"metric_river\"` is used for the river based evaluation via `eval_oml_iter_progressive`.\n",
    "2. `\"metric_sklearn\"` is used for the sklearn based evaluation.\n",
    "3. `\"metric_pytorch\"` is used for the pytorch based evaluation."
   ]
  },
  {
   "attachments": {},
   "cell_type": "markdown",
   "metadata": {},
   "source": [
    "We will consider multi-class classification metrics, e.g., `mapk_score` and `top_k_accuracy_score`.\n",
    "\n",
    "::: {.callout-note}\n",
    "#### Predict Probabilities\n",
    "In this multi-class classification example the machine learning algorithm should return the probabilities of the specific classes (`\"predict_proba\"`) instead  of the  predicted values.\n",
    ":::\n",
    "\n",
    "We set `\"predict_proba\"` to `True` in the `fun_control` dictionary.\n",
    "\n",
    "#### The MAPK Metric\n",
    "\n",
    "To select the MAPK metric, the following two entries can be added to the `fun_control` dictionary:\n",
    "\n",
    "`\"metric_sklearn\": mapk_score\"`\n",
    "\n",
    "`\"metric_params\": {\"k\": 3}`.\n",
    "\n",
    "#### Other Metrics\n",
    "\n",
    "Alternatively, other metrics for multi-class classification can be used, e.g.,:\n",
    "* top_k_accuracy_score or\n",
    "* roc_auc_score\n",
    "\n",
    "The metric `roc_auc_score` requires the parameter `\"multi_class\"`, e.g., \n",
    "\n",
    "`\"multi_class\": \"ovr\"`.  \n",
    "\n",
    "This is set in the `fun_control` dictionary.\n",
    "\n",
    "::: {.callout-note}\n",
    "#### Weights\n",
    "\n",
    "`spotPython` performs a minimization, therefore, metrics that should be maximized have to be multiplied by -1.  This is done by setting `\"weights\"` to `-1`.\n",
    "\n",
    ":::"
   ]
  },
  {
   "attachments": {},
   "cell_type": "markdown",
   "metadata": {},
   "source": [
    "* The complete setup for the metric in our example is:"
   ]
  },
  {
   "cell_type": "code",
   "execution_count": 18,
   "metadata": {},
   "outputs": [],
   "source": [
    "fun_control.update({\n",
    "               \"weights\": -1,\n",
    "               \"metric_sklearn\": mapk_score,\n",
    "               \"predict_proba\": True,\n",
    "               \"metric_params\": {\"k\": 3},\n",
    "               })"
   ]
  },
  {
   "attachments": {},
   "cell_type": "markdown",
   "metadata": {},
   "source": [
    "## Evaluation on Hold-out Data\n",
    "\n",
    "* The default method for computing the performance is `\"eval_holdout\"`.\n",
    "* Alternatively, cross-validation can be used for every machine learning model.\n",
    "* Specifically for RandomForests, the OOB-score can be used."
   ]
  },
  {
   "cell_type": "code",
   "execution_count": 19,
   "metadata": {},
   "outputs": [],
   "source": [
    "fun_control.update({\n",
    "    \"eval\": \"train_hold_out\",\n",
    "})"
   ]
  },
  {
   "attachments": {},
   "cell_type": "markdown",
   "metadata": {},
   "source": [
    "#### Cross Validation"
   ]
  },
  {
   "attachments": {},
   "cell_type": "markdown",
   "metadata": {},
   "source": [
    "Instead of using the hold-out data, the classical cross validation can be used.  The number of folds is set by the key `\"k_folds\"`.  For example, to use 5-fold cross validation, the key `\"k_folds\"` is set to `5`.\n",
    "Uncomment the following line to use cross validation:"
   ]
  },
  {
   "cell_type": "code",
   "execution_count": 20,
   "metadata": {},
   "outputs": [],
   "source": [
    "# fun_control.update({\n",
    "#      \"eval\": \"train_cv\",\n",
    "#      \"k_folds\": 10,\n",
    "# })"
   ]
  },
  {
   "attachments": {},
   "cell_type": "markdown",
   "metadata": {},
   "source": [
    "## 6. Calling the SPOT Function"
   ]
  },
  {
   "attachments": {},
   "cell_type": "markdown",
   "metadata": {},
   "source": [
    "### Prepare the SPOT Parameters"
   ]
  },
  {
   "attachments": {},
   "cell_type": "markdown",
   "metadata": {},
   "source": [
    "* Get types and variable names as well as lower and upper bounds for the hyperparameters."
   ]
  },
  {
   "cell_type": "code",
   "execution_count": 21,
   "metadata": {},
   "outputs": [],
   "source": [
    "var_type = get_var_type(fun_control)\n",
    "var_name = get_var_name(fun_control)\n",
    "fun_control.update({\"var_type\": var_type,\n",
    "                    \"var_name\": var_name})\n",
    "\n",
    "lower = get_bound_values(fun_control, \"lower\")\n",
    "upper = get_bound_values(fun_control, \"upper\")"
   ]
  },
  {
   "cell_type": "code",
   "execution_count": 22,
   "metadata": {},
   "outputs": [
    {
     "name": "stdout",
     "output_type": "stream",
     "text": [
      "| name        | type   | default   |    lower |   upper | transform   |\n",
      "|-------------|--------|-----------|----------|---------|-------------|\n",
      "| C           | float  | 1.0       |   0.1    |   10    | None        |\n",
      "| kernel      | factor | rbf       |   0      |    0    | None        |\n",
      "| degree      | int    | 3         |   3      |    3    | None        |\n",
      "| gamma       | factor | scale     |   0      |    1    | None        |\n",
      "| coef0       | float  | 0.0       |   0      |    0    | None        |\n",
      "| shrinking   | factor | 0         |   0      |    1    | None        |\n",
      "| probability | factor | 0         |   1      |    1    | None        |\n",
      "| tol         | float  | 0.001     |   0.0001 |    0.01 | None        |\n",
      "| cache_size  | float  | 200.0     | 100      |  400    | None        |\n",
      "| break_ties  | factor | 0         |   0      |    1    | None        |\n"
     ]
    }
   ],
   "source": [
    "print(gen_design_table(fun_control))"
   ]
  },
  {
   "attachments": {},
   "cell_type": "markdown",
   "metadata": {},
   "source": [
    "### Run the `Spot` Optimizer\n",
    "\n",
    "* Run SPOT for approx. x mins (`max_time`).\n",
    "* Note: the run takes longer, because the evaluation time of initial design (here: `initi_size`, 20 points) is not considered."
   ]
  },
  {
   "cell_type": "code",
   "execution_count": 23,
   "metadata": {},
   "outputs": [
    {
     "data": {
      "text/plain": [
       "array([[1.e+00, 2.e+00, 3.e+00, 0.e+00, 0.e+00, 0.e+00, 0.e+00, 1.e-03,\n",
       "        2.e+02, 0.e+00]])"
      ]
     },
     "execution_count": 23,
     "metadata": {},
     "output_type": "execute_result"
    }
   ],
   "source": [
    "hyper_dict=SklearnHyperDict().load()\n",
    "X_start = get_default_hyperparameters_as_array(fun_control, hyper_dict)\n",
    "X_start"
   ]
  },
  {
   "attachments": {},
   "cell_type": "markdown",
   "metadata": {},
   "source": [
    "The interface from the sklearn setting to SPOT is provided by the function `fun_sklearn`."
   ]
  },
  {
   "cell_type": "code",
   "execution_count": 24,
   "metadata": {},
   "outputs": [],
   "source": [
    "fun = HyperSklearn(seed=123, log_level=50).fun_sklearn"
   ]
  },
  {
   "cell_type": "code",
   "execution_count": 25,
   "metadata": {},
   "outputs": [
    {
     "name": "stdout",
     "output_type": "stream",
     "text": [
      "spotPython tuning: [##########] 100.00% Done...\n",
      "\r"
     ]
    },
    {
     "data": {
      "text/plain": [
       "<spotPython.spot.spot.Spot at 0x10e4fd7b0>"
      ]
     },
     "execution_count": 25,
     "metadata": {},
     "output_type": "execute_result"
    }
   ],
   "source": [
    "spot_tuner = spot.Spot(fun=fun,\n",
    "                   lower = lower,\n",
    "                   upper = upper,\n",
    "                   fun_evals = inf,\n",
    "                   fun_repeats = 1,\n",
    "                   max_time = MAX_TIME,\n",
    "                   noise = False,\n",
    "                   tolerance_x = np.sqrt(np.spacing(1)),\n",
    "                   var_type = var_type,\n",
    "                   var_name = var_name,\n",
    "                   infill_criterion = \"y\",\n",
    "                   n_points = 1,\n",
    "                   seed=123,\n",
    "                   log_level = 50,\n",
    "                   show_models= False,\n",
    "                   show_progress= True,\n",
    "                   fun_control = fun_control,\n",
    "                   design_control={\"init_size\": INIT_SIZE,\n",
    "                                   \"repeats\": 1},\n",
    "                   surrogate_control={\"noise\": True,\n",
    "                                      \"cod_type\": \"norm\",\n",
    "                                      \"min_theta\": -4,\n",
    "                                      \"max_theta\": 3,\n",
    "                                      \"n_theta\": len(var_name),\n",
    "                                      \"model_optimizer\": differential_evolution,\n",
    "                                      \"model_fun_evals\": 10_000,\n",
    "                                      \"log_level\": 50\n",
    "                                      })\n",
    "spot_tuner.run(X_start=X_start)"
   ]
  },
  {
   "attachments": {},
   "cell_type": "markdown",
   "metadata": {},
   "source": [
    "### 4 Results"
   ]
  },
  {
   "attachments": {},
   "cell_type": "markdown",
   "metadata": {},
   "source": [
    "* Show the Progress of the hyperparameter tuning:"
   ]
  },
  {
   "cell_type": "code",
   "execution_count": 26,
   "metadata": {},
   "outputs": [
    {
     "data": {
      "image/png": "[encoded data removed]",
      "text/plain": [
       "<Figure size 900x600 with 1 Axes>"
      ]
     },
     "metadata": {},
     "output_type": "display_data"
    }
   ],
   "source": [
    "spot_tuner.plot_progress(log_y=False, filename=\"../Figures.d/\" + experiment_name+\"_progress.pdf\")"
   ]
  },
  {
   "attachments": {},
   "cell_type": "markdown",
   "metadata": {},
   "source": [
    "\n",
    "\n",
    "* Print the Results"
   ]
  },
  {
   "cell_type": "code",
   "execution_count": 27,
   "metadata": {},
   "outputs": [
    {
     "name": "stdout",
     "output_type": "stream",
     "text": [
      "| name        | type   | default   |   lower |   upper |              tuned | transform   |   importance | stars   |\n",
      "|-------------|--------|-----------|---------|---------|--------------------|-------------|--------------|---------|\n",
      "| C           | float  | 1.0       |     0.1 |    10.0 |  2.233939693149817 | None        |        40.57 | *       |\n",
      "| kernel      | factor | rbf       |     0.0 |     0.0 |                0.0 | None        |         0.00 |         |\n",
      "| degree      | int    | 3         |     3.0 |     3.0 |                3.0 | None        |         0.00 |         |\n",
      "| gamma       | factor | scale     |     0.0 |     1.0 |                1.0 | None        |       100.00 | ***     |\n",
      "| coef0       | float  | 0.0       |     0.0 |     0.0 |                0.0 | None        |         0.00 |         |\n",
      "| shrinking   | factor | 0         |     0.0 |     1.0 |                0.0 | None        |         0.00 |         |\n",
      "| probability | factor | 0         |     1.0 |     1.0 |                1.0 | None        |         0.00 |         |\n",
      "| tol         | float  | 0.001     |  0.0001 |    0.01 |             0.0001 | None        |         0.00 |         |\n",
      "| cache_size  | float  | 200.0     |   100.0 |   400.0 | 381.15861554952994 | None        |         0.00 |         |\n",
      "| break_ties  | factor | 0         |     0.0 |     1.0 |                0.0 | None        |         0.00 |         |\n"
     ]
    }
   ],
   "source": [
    "print(gen_design_table(fun_control=fun_control, spot=spot_tuner))"
   ]
  },
  {
   "attachments": {},
   "cell_type": "markdown",
   "metadata": {},
   "source": [
    "## Show variable importance"
   ]
  },
  {
   "cell_type": "code",
   "execution_count": 28,
   "metadata": {},
   "outputs": [
    {
     "data": {
      "image/png": "[encoded data removed]",
      "text/plain": [
       "<Figure size 640x480 with 1 Axes>"
      ]
     },
     "metadata": {},
     "output_type": "display_data"
    }
   ],
   "source": [
    "spot_tuner.plot_importance(threshold=1.0, filename=\"../Figures.d/\" + experiment_name+\"_importance.pdf\")"
   ]
  },
  {
   "attachments": {},
   "cell_type": "markdown",
   "metadata": {},
   "source": [
    "## Get Default Hyperparameters"
   ]
  },
  {
   "cell_type": "code",
   "execution_count": 29,
   "metadata": {},
   "outputs": [
    {
     "data": {
      "text/plain": [
       "{'C': 1.0,\n",
       " 'kernel': 'rbf',\n",
       " 'degree': 3,\n",
       " 'gamma': 'scale',\n",
       " 'coef0': 0.0,\n",
       " 'shrinking': 0,\n",
       " 'probability': 0,\n",
       " 'tol': 0.001,\n",
       " 'cache_size': 200.0,\n",
       " 'break_ties': 0}"
      ]
     },
     "execution_count": 29,
     "metadata": {},
     "output_type": "execute_result"
    }
   ],
   "source": [
    "values_default = get_default_values(fun_control)\n",
    "values_default = transform_hyper_parameter_values(fun_control=fun_control, hyper_parameter_values=values_default)\n",
    "values_default"
   ]
  },
  {
   "attachments": {},
   "cell_type": "markdown",
   "metadata": {},
   "source": [
    "* Default value for \"probability\" is False, but we need it to be True for the metric \"mapk_score\"."
   ]
  },
  {
   "cell_type": "code",
   "execution_count": 30,
   "metadata": {},
   "outputs": [],
   "source": [
    "values_default.update({\"probability\": 1})"
   ]
  },
  {
   "cell_type": "code",
   "execution_count": 31,
   "metadata": {},
   "outputs": [
    {
     "data": {
      "text/html": [
       "<style>#sk-container-id-1 {color: black;background-color: white;}#sk-container-id-1 pre{padding: 0;}#sk-container-id-1 div.sk-toggleable {background-color: white;}#sk-container-id-1 label.sk-toggleable__label {cursor: pointer;display: block;width: 100%;margin-bottom: 0;padding: 0.3em;box-sizing: border-box;text-align: center;}#sk-container-id-1 label.sk-toggleable__label-arrow:before {content: \"▸\";float: left;margin-right: 0.25em;color: #696969;}#sk-container-id-1 label.sk-toggleable__label-arrow:hover:before {color: black;}#sk-container-id-1 div.sk-estimator:hover label.sk-toggleable__label-arrow:before {color: black;}#sk-container-id-1 div.sk-toggleable__content {max-height: 0;max-width: 0;overflow: hidden;text-align: left;background-color: #f0f8ff;}#sk-container-id-1 div.sk-toggleable__content pre {margin: 0.2em;color: black;border-radius: 0.25em;background-color: #f0f8ff;}#sk-container-id-1 input.sk-toggleable__control:checked~div.sk-toggleable__content {max-height: 200px;max-width: 100%;overflow: auto;}#sk-container-id-1 input.sk-toggleable__control:checked~label.sk-toggleable__label-arrow:before {content: \"▾\";}#sk-container-id-1 div.sk-estimator input.sk-toggleable__control:checked~label.sk-toggleable__label {background-color: #d4ebff;}#sk-container-id-1 div.sk-label input.sk-toggleable__control:checked~label.sk-toggleable__label {background-color: #d4ebff;}#sk-container-id-1 input.sk-hidden--visually {border: 0;clip: rect(1px 1px 1px 1px);clip: rect(1px, 1px, 1px, 1px);height: 1px;margin: -1px;overflow: hidden;padding: 0;position: absolute;width: 1px;}#sk-container-id-1 div.sk-estimator {font-family: monospace;background-color: #f0f8ff;border: 1px dotted black;border-radius: 0.25em;box-sizing: border-box;margin-bottom: 0.5em;}#sk-container-id-1 div.sk-estimator:hover {background-color: #d4ebff;}#sk-container-id-1 div.sk-parallel-item::after {content: \"\";width: 100%;border-bottom: 1px solid gray;flex-grow: 1;}#sk-container-id-1 div.sk-label:hover label.sk-toggleable__label {background-color: #d4ebff;}#sk-container-id-1 div.sk-serial::before {content: \"\";position: absolute;border-left: 1px solid gray;box-sizing: border-box;top: 0;bottom: 0;left: 50%;z-index: 0;}#sk-container-id-1 div.sk-serial {display: flex;flex-direction: column;align-items: center;background-color: white;padding-right: 0.2em;padding-left: 0.2em;position: relative;}#sk-container-id-1 div.sk-item {position: relative;z-index: 1;}#sk-container-id-1 div.sk-parallel {display: flex;align-items: stretch;justify-content: center;background-color: white;position: relative;}#sk-container-id-1 div.sk-item::before, #sk-container-id-1 div.sk-parallel-item::before {content: \"\";position: absolute;border-left: 1px solid gray;box-sizing: border-box;top: 0;bottom: 0;left: 50%;z-index: -1;}#sk-container-id-1 div.sk-parallel-item {display: flex;flex-direction: column;z-index: 1;position: relative;background-color: white;}#sk-container-id-1 div.sk-parallel-item:first-child::after {align-self: flex-end;width: 50%;}#sk-container-id-1 div.sk-parallel-item:last-child::after {align-self: flex-start;width: 50%;}#sk-container-id-1 div.sk-parallel-item:only-child::after {width: 0;}#sk-container-id-1 div.sk-dashed-wrapped {border: 1px dashed gray;margin: 0 0.4em 0.5em 0.4em;box-sizing: border-box;padding-bottom: 0.4em;background-color: white;}#sk-container-id-1 div.sk-label label {font-family: monospace;font-weight: bold;display: inline-block;line-height: 1.2em;}#sk-container-id-1 div.sk-label-container {text-align: center;}#sk-container-id-1 div.sk-container {/* jupyter's `normalize.less` sets `[hidden] { display: none; }` but bootstrap.min.css set `[hidden] { display: none !important; }` so we also need the `!important` here to be able to override the default hidden behavior on the sphinx rendered scikit-learn.org. See: https://github.com/scikit-learn/scikit-learn/issues/21755 */display: inline-block !important;position: relative;}#sk-container-id-1 div.sk-text-repr-fallback {display: none;}</style><div id=\"sk-container-id-1\" class=\"sk-top-container\"><div class=\"sk-text-repr-fallback\"><pre>Pipeline(steps=[(&#x27;nonetype&#x27;, None),\n",
       "                (&#x27;svc&#x27;,\n",
       "                 SVC(break_ties=0, cache_size=200.0, probability=1,\n",
       "                     shrinking=0))])</pre><b>In a Jupyter environment, please rerun this cell to show the HTML representation or trust the notebook. <br />On GitHub, the HTML representation is unable to render, please try loading this page with nbviewer.org.</b></div><div class=\"sk-container\" hidden><div class=\"sk-item sk-dashed-wrapped\"><div class=\"sk-label-container\"><div class=\"sk-label sk-toggleable\"><input class=\"sk-toggleable__control sk-hidden--visually\" id=\"sk-estimator-id-1\" type=\"checkbox\" ><label for=\"sk-estimator-id-1\" class=\"sk-toggleable__label sk-toggleable__label-arrow\">Pipeline</label><div class=\"sk-toggleable__content\"><pre>Pipeline(steps=[(&#x27;nonetype&#x27;, None),\n",
       "                (&#x27;svc&#x27;,\n",
       "                 SVC(break_ties=0, cache_size=200.0, probability=1,\n",
       "                     shrinking=0))])</pre></div></div></div><div class=\"sk-serial\"><div class=\"sk-item\"><div class=\"sk-estimator sk-toggleable\"><input class=\"sk-toggleable__control sk-hidden--visually\" id=\"sk-estimator-id-2\" type=\"checkbox\" ><label for=\"sk-estimator-id-2\" class=\"sk-toggleable__label sk-toggleable__label-arrow\">None</label><div class=\"sk-toggleable__content\"><pre>None</pre></div></div></div><div class=\"sk-item\"><div class=\"sk-estimator sk-toggleable\"><input class=\"sk-toggleable__control sk-hidden--visually\" id=\"sk-estimator-id-3\" type=\"checkbox\" ><label for=\"sk-estimator-id-3\" class=\"sk-toggleable__label sk-toggleable__label-arrow\">SVC</label><div class=\"sk-toggleable__content\"><pre>SVC(break_ties=0, cache_size=200.0, probability=1, shrinking=0)</pre></div></div></div></div></div></div></div>"
      ],
      "text/plain": [
       "Pipeline(steps=[('nonetype', None),\n",
       "                ('svc',\n",
       "                 SVC(break_ties=0, cache_size=200.0, probability=1,\n",
       "                     shrinking=0))])"
      ]
     },
     "execution_count": 31,
     "metadata": {},
     "output_type": "execute_result"
    }
   ],
   "source": [
    "model_default = make_pipeline(fun_control[\"prep_model\"], fun_control[\"core_model\"](**values_default))\n",
    "model_default"
   ]
  },
  {
   "attachments": {},
   "cell_type": "markdown",
   "metadata": {},
   "source": [
    "## Get SPOT Results"
   ]
  },
  {
   "cell_type": "code",
   "execution_count": 32,
   "metadata": {},
   "outputs": [
    {
     "name": "stdout",
     "output_type": "stream",
     "text": [
      "[[2.23393969e+00 0.00000000e+00 3.00000000e+00 1.00000000e+00\n",
      "  0.00000000e+00 0.00000000e+00 1.00000000e+00 1.00000000e-04\n",
      "  3.81158616e+02 0.00000000e+00]]\n"
     ]
    }
   ],
   "source": [
    "X = spot_tuner.to_all_dim(spot_tuner.min_X.reshape(1,-1))\n",
    "print(X)"
   ]
  },
  {
   "cell_type": "code",
   "execution_count": 33,
   "metadata": {},
   "outputs": [
    {
     "data": {
      "text/plain": [
       "[{'C': 2.233939693149817,\n",
       "  'kernel': 'rbf',\n",
       "  'degree': 3,\n",
       "  'gamma': 'auto',\n",
       "  'coef0': 0.0,\n",
       "  'shrinking': 0,\n",
       "  'probability': 1,\n",
       "  'tol': 0.0001,\n",
       "  'cache_size': 381.15861554952994,\n",
       "  'break_ties': 0}]"
      ]
     },
     "execution_count": 33,
     "metadata": {},
     "output_type": "execute_result"
    }
   ],
   "source": [
    "v_dict = assign_values(X, fun_control[\"var_name\"])\n",
    "return_conf_list_from_var_dict(var_dict=v_dict, fun_control=fun_control)"
   ]
  },
  {
   "cell_type": "code",
   "execution_count": 34,
   "metadata": {},
   "outputs": [
    {
     "data": {
      "text/html": [
       "<style>#sk-container-id-2 {color: black;background-color: white;}#sk-container-id-2 pre{padding: 0;}#sk-container-id-2 div.sk-toggleable {background-color: white;}#sk-container-id-2 label.sk-toggleable__label {cursor: pointer;display: block;width: 100%;margin-bottom: 0;padding: 0.3em;box-sizing: border-box;text-align: center;}#sk-container-id-2 label.sk-toggleable__label-arrow:before {content: \"▸\";float: left;margin-right: 0.25em;color: #696969;}#sk-container-id-2 label.sk-toggleable__label-arrow:hover:before {color: black;}#sk-container-id-2 div.sk-estimator:hover label.sk-toggleable__label-arrow:before {color: black;}#sk-container-id-2 div.sk-toggleable__content {max-height: 0;max-width: 0;overflow: hidden;text-align: left;background-color: #f0f8ff;}#sk-container-id-2 div.sk-toggleable__content pre {margin: 0.2em;color: black;border-radius: 0.25em;background-color: #f0f8ff;}#sk-container-id-2 input.sk-toggleable__control:checked~div.sk-toggleable__content {max-height: 200px;max-width: 100%;overflow: auto;}#sk-container-id-2 input.sk-toggleable__control:checked~label.sk-toggleable__label-arrow:before {content: \"▾\";}#sk-container-id-2 div.sk-estimator input.sk-toggleable__control:checked~label.sk-toggleable__label {background-color: #d4ebff;}#sk-container-id-2 div.sk-label input.sk-toggleable__control:checked~label.sk-toggleable__label {background-color: #d4ebff;}#sk-container-id-2 input.sk-hidden--visually {border: 0;clip: rect(1px 1px 1px 1px);clip: rect(1px, 1px, 1px, 1px);height: 1px;margin: -1px;overflow: hidden;padding: 0;position: absolute;width: 1px;}#sk-container-id-2 div.sk-estimator {font-family: monospace;background-color: #f0f8ff;border: 1px dotted black;border-radius: 0.25em;box-sizing: border-box;margin-bottom: 0.5em;}#sk-container-id-2 div.sk-estimator:hover {background-color: #d4ebff;}#sk-container-id-2 div.sk-parallel-item::after {content: \"\";width: 100%;border-bottom: 1px solid gray;flex-grow: 1;}#sk-container-id-2 div.sk-label:hover label.sk-toggleable__label {background-color: #d4ebff;}#sk-container-id-2 div.sk-serial::before {content: \"\";position: absolute;border-left: 1px solid gray;box-sizing: border-box;top: 0;bottom: 0;left: 50%;z-index: 0;}#sk-container-id-2 div.sk-serial {display: flex;flex-direction: column;align-items: center;background-color: white;padding-right: 0.2em;padding-left: 0.2em;position: relative;}#sk-container-id-2 div.sk-item {position: relative;z-index: 1;}#sk-container-id-2 div.sk-parallel {display: flex;align-items: stretch;justify-content: center;background-color: white;position: relative;}#sk-container-id-2 div.sk-item::before, #sk-container-id-2 div.sk-parallel-item::before {content: \"\";position: absolute;border-left: 1px solid gray;box-sizing: border-box;top: 0;bottom: 0;left: 50%;z-index: -1;}#sk-container-id-2 div.sk-parallel-item {display: flex;flex-direction: column;z-index: 1;position: relative;background-color: white;}#sk-container-id-2 div.sk-parallel-item:first-child::after {align-self: flex-end;width: 50%;}#sk-container-id-2 div.sk-parallel-item:last-child::after {align-self: flex-start;width: 50%;}#sk-container-id-2 div.sk-parallel-item:only-child::after {width: 0;}#sk-container-id-2 div.sk-dashed-wrapped {border: 1px dashed gray;margin: 0 0.4em 0.5em 0.4em;box-sizing: border-box;padding-bottom: 0.4em;background-color: white;}#sk-container-id-2 div.sk-label label {font-family: monospace;font-weight: bold;display: inline-block;line-height: 1.2em;}#sk-container-id-2 div.sk-label-container {text-align: center;}#sk-container-id-2 div.sk-container {/* jupyter's `normalize.less` sets `[hidden] { display: none; }` but bootstrap.min.css set `[hidden] { display: none !important; }` so we also need the `!important` here to be able to override the default hidden behavior on the sphinx rendered scikit-learn.org. See: https://github.com/scikit-learn/scikit-learn/issues/21755 */display: inline-block !important;position: relative;}#sk-container-id-2 div.sk-text-repr-fallback {display: none;}</style><div id=\"sk-container-id-2\" class=\"sk-top-container\"><div class=\"sk-text-repr-fallback\"><pre>SVC(C=2.233939693149817, break_ties=0, cache_size=381.15861554952994,\n",
       "    gamma=&#x27;auto&#x27;, probability=1, shrinking=0, tol=0.0001)</pre><b>In a Jupyter environment, please rerun this cell to show the HTML representation or trust the notebook. <br />On GitHub, the HTML representation is unable to render, please try loading this page with nbviewer.org.</b></div><div class=\"sk-container\" hidden><div class=\"sk-item\"><div class=\"sk-estimator sk-toggleable\"><input class=\"sk-toggleable__control sk-hidden--visually\" id=\"sk-estimator-id-4\" type=\"checkbox\" checked><label for=\"sk-estimator-id-4\" class=\"sk-toggleable__label sk-toggleable__label-arrow\">SVC</label><div class=\"sk-toggleable__content\"><pre>SVC(C=2.233939693149817, break_ties=0, cache_size=381.15861554952994,\n",
       "    gamma=&#x27;auto&#x27;, probability=1, shrinking=0, tol=0.0001)</pre></div></div></div></div></div>"
      ],
      "text/plain": [
       "SVC(C=2.233939693149817, break_ties=0, cache_size=381.15861554952994,\n",
       "    gamma='auto', probability=1, shrinking=0, tol=0.0001)"
      ]
     },
     "execution_count": 34,
     "metadata": {},
     "output_type": "execute_result"
    }
   ],
   "source": [
    "model_spot = get_one_sklearn_model_from_X(X, fun_control)\n",
    "model_spot"
   ]
  },
  {
   "attachments": {},
   "cell_type": "markdown",
   "metadata": {},
   "source": [
    "## Evaluate SPOT Results"
   ]
  },
  {
   "attachments": {},
   "cell_type": "markdown",
   "metadata": {},
   "source": [
    "* Fetch the data."
   ]
  },
  {
   "cell_type": "code",
   "execution_count": 35,
   "metadata": {},
   "outputs": [
    {
     "data": {
      "text/plain": [
       "((177, 64), (177,))"
      ]
     },
     "execution_count": 35,
     "metadata": {},
     "output_type": "execute_result"
    }
   ],
   "source": [
    "X_train, y_train = get_Xy_from_df(fun_control[\"train\"], fun_control[\"target_column\"])\n",
    "X_test, y_test = get_Xy_from_df(fun_control[\"test\"], fun_control[\"target_column\"])\n",
    "X_test.shape, y_test.shape"
   ]
  },
  {
   "attachments": {},
   "cell_type": "markdown",
   "metadata": {},
   "source": [
    "* Fit the model with the tuned hyperparameters. This gives one result:"
   ]
  },
  {
   "cell_type": "code",
   "execution_count": 36,
   "metadata": {},
   "outputs": [
    {
     "data": {
      "text/plain": [
       "0.4011299435028249"
      ]
     },
     "execution_count": 36,
     "metadata": {},
     "output_type": "execute_result"
    }
   ],
   "source": [
    "model_spot.fit(X_train, y_train)\n",
    "y_pred = model_spot.predict_proba(X_test)\n",
    "res = mapk_score(y_true=y_test, y_pred=y_pred, k=3)\n",
    "res"
   ]
  },
  {
   "cell_type": "code",
   "execution_count": 37,
   "metadata": {},
   "outputs": [],
   "source": [
    "def repeated_eval(n, model):\n",
    "    res_values = []\n",
    "    for i in range(n):\n",
    "        model.fit(X_train, y_train)\n",
    "        y_pred = model.predict_proba(X_test)\n",
    "        res = mapk_score(y_true=y_test, y_pred=y_pred, k=3)\n",
    "        res_values.append(res)\n",
    "    mean_res = np.mean(res_values)\n",
    "    print(f\"mean_res: {mean_res}\")\n",
    "    std_res = np.std(res_values)\n",
    "    print(f\"std_res: {std_res}\")\n",
    "    min_res = np.min(res_values)\n",
    "    print(f\"min_res: {min_res}\")\n",
    "    max_res = np.max(res_values)\n",
    "    print(f\"max_res: {max_res}\")\n",
    "    median_res = np.median(res_values)\n",
    "    print(f\"median_res: {median_res}\")\n",
    "    return mean_res, std_res, min_res, max_res, median_res"
   ]
  },
  {
   "attachments": {},
   "cell_type": "markdown",
   "metadata": {},
   "source": [
    "### Handling Non-deterministic Results\n",
    "\n",
    "* Because the model is non-determinstic, we perform $n=30$ runs and calculate the mean and standard deviation of the performance metric."
   ]
  },
  {
   "cell_type": "code",
   "execution_count": 38,
   "metadata": {},
   "outputs": [
    {
     "name": "stdout",
     "output_type": "stream",
     "text": [
      "mean_res: 0.37758945386064025\n",
      "std_res: 0.005649717514124297\n",
      "min_res: 0.3672316384180791\n",
      "max_res: 0.38888888888888895\n",
      "median_res: 0.37664783427495285\n"
     ]
    }
   ],
   "source": [
    "_ = repeated_eval(30, model_spot)"
   ]
  },
  {
   "attachments": {},
   "cell_type": "markdown",
   "metadata": {},
   "source": [
    "### Evalution of the Default Hyperparameters\n"
   ]
  },
  {
   "attachments": {},
   "cell_type": "markdown",
   "metadata": {},
   "source": [
    "We have to use the name from the pipeline, which does not contain any capial letters: \"SVC\" is named \"svc\" in the pipeline."
   ]
  },
  {
   "cell_type": "code",
   "execution_count": 39,
   "metadata": {},
   "outputs": [
    {
     "data": {
      "text/html": [
       "<style>#sk-container-id-3 {color: black;background-color: white;}#sk-container-id-3 pre{padding: 0;}#sk-container-id-3 div.sk-toggleable {background-color: white;}#sk-container-id-3 label.sk-toggleable__label {cursor: pointer;display: block;width: 100%;margin-bottom: 0;padding: 0.3em;box-sizing: border-box;text-align: center;}#sk-container-id-3 label.sk-toggleable__label-arrow:before {content: \"▸\";float: left;margin-right: 0.25em;color: #696969;}#sk-container-id-3 label.sk-toggleable__label-arrow:hover:before {color: black;}#sk-container-id-3 div.sk-estimator:hover label.sk-toggleable__label-arrow:before {color: black;}#sk-container-id-3 div.sk-toggleable__content {max-height: 0;max-width: 0;overflow: hidden;text-align: left;background-color: #f0f8ff;}#sk-container-id-3 div.sk-toggleable__content pre {margin: 0.2em;color: black;border-radius: 0.25em;background-color: #f0f8ff;}#sk-container-id-3 input.sk-toggleable__control:checked~div.sk-toggleable__content {max-height: 200px;max-width: 100%;overflow: auto;}#sk-container-id-3 input.sk-toggleable__control:checked~label.sk-toggleable__label-arrow:before {content: \"▾\";}#sk-container-id-3 div.sk-estimator input.sk-toggleable__control:checked~label.sk-toggleable__label {background-color: #d4ebff;}#sk-container-id-3 div.sk-label input.sk-toggleable__control:checked~label.sk-toggleable__label {background-color: #d4ebff;}#sk-container-id-3 input.sk-hidden--visually {border: 0;clip: rect(1px 1px 1px 1px);clip: rect(1px, 1px, 1px, 1px);height: 1px;margin: -1px;overflow: hidden;padding: 0;position: absolute;width: 1px;}#sk-container-id-3 div.sk-estimator {font-family: monospace;background-color: #f0f8ff;border: 1px dotted black;border-radius: 0.25em;box-sizing: border-box;margin-bottom: 0.5em;}#sk-container-id-3 div.sk-estimator:hover {background-color: #d4ebff;}#sk-container-id-3 div.sk-parallel-item::after {content: \"\";width: 100%;border-bottom: 1px solid gray;flex-grow: 1;}#sk-container-id-3 div.sk-label:hover label.sk-toggleable__label {background-color: #d4ebff;}#sk-container-id-3 div.sk-serial::before {content: \"\";position: absolute;border-left: 1px solid gray;box-sizing: border-box;top: 0;bottom: 0;left: 50%;z-index: 0;}#sk-container-id-3 div.sk-serial {display: flex;flex-direction: column;align-items: center;background-color: white;padding-right: 0.2em;padding-left: 0.2em;position: relative;}#sk-container-id-3 div.sk-item {position: relative;z-index: 1;}#sk-container-id-3 div.sk-parallel {display: flex;align-items: stretch;justify-content: center;background-color: white;position: relative;}#sk-container-id-3 div.sk-item::before, #sk-container-id-3 div.sk-parallel-item::before {content: \"\";position: absolute;border-left: 1px solid gray;box-sizing: border-box;top: 0;bottom: 0;left: 50%;z-index: -1;}#sk-container-id-3 div.sk-parallel-item {display: flex;flex-direction: column;z-index: 1;position: relative;background-color: white;}#sk-container-id-3 div.sk-parallel-item:first-child::after {align-self: flex-end;width: 50%;}#sk-container-id-3 div.sk-parallel-item:last-child::after {align-self: flex-start;width: 50%;}#sk-container-id-3 div.sk-parallel-item:only-child::after {width: 0;}#sk-container-id-3 div.sk-dashed-wrapped {border: 1px dashed gray;margin: 0 0.4em 0.5em 0.4em;box-sizing: border-box;padding-bottom: 0.4em;background-color: white;}#sk-container-id-3 div.sk-label label {font-family: monospace;font-weight: bold;display: inline-block;line-height: 1.2em;}#sk-container-id-3 div.sk-label-container {text-align: center;}#sk-container-id-3 div.sk-container {/* jupyter's `normalize.less` sets `[hidden] { display: none; }` but bootstrap.min.css set `[hidden] { display: none !important; }` so we also need the `!important` here to be able to override the default hidden behavior on the sphinx rendered scikit-learn.org. See: https://github.com/scikit-learn/scikit-learn/issues/21755 */display: inline-block !important;position: relative;}#sk-container-id-3 div.sk-text-repr-fallback {display: none;}</style><div id=\"sk-container-id-3\" class=\"sk-top-container\"><div class=\"sk-text-repr-fallback\"><pre>SVC(break_ties=0, cache_size=200.0, probability=1, shrinking=0)</pre><b>In a Jupyter environment, please rerun this cell to show the HTML representation or trust the notebook. <br />On GitHub, the HTML representation is unable to render, please try loading this page with nbviewer.org.</b></div><div class=\"sk-container\" hidden><div class=\"sk-item\"><div class=\"sk-estimator sk-toggleable\"><input class=\"sk-toggleable__control sk-hidden--visually\" id=\"sk-estimator-id-5\" type=\"checkbox\" checked><label for=\"sk-estimator-id-5\" class=\"sk-toggleable__label sk-toggleable__label-arrow\">SVC</label><div class=\"sk-toggleable__content\"><pre>SVC(break_ties=0, cache_size=200.0, probability=1, shrinking=0)</pre></div></div></div></div></div>"
      ],
      "text/plain": [
       "SVC(break_ties=0, cache_size=200.0, probability=1, shrinking=0)"
      ]
     },
     "execution_count": 39,
     "metadata": {},
     "output_type": "execute_result"
    }
   ],
   "source": [
    "model_default.fit(X_train, y_train)[\"svc\"]"
   ]
  },
  {
   "attachments": {},
   "cell_type": "markdown",
   "metadata": {},
   "source": [
    "* One evaluation of the default hyperparameters is performed on the hold-out test set."
   ]
  },
  {
   "cell_type": "code",
   "execution_count": 40,
   "metadata": {},
   "outputs": [
    {
     "data": {
      "text/plain": [
       "0.3813559322033898"
      ]
     },
     "execution_count": 40,
     "metadata": {},
     "output_type": "execute_result"
    }
   ],
   "source": [
    "y_pred = model_default.predict_proba(X_test)\n",
    "mapk_score(y_true=y_test, y_pred=y_pred, k=3)"
   ]
  },
  {
   "attachments": {},
   "cell_type": "markdown",
   "metadata": {},
   "source": [
    "Since one single evaluation is not meaningful, we perform, similar to the evaluation of the SPOT results,  $n=30$ runs of the default setting and and calculate the mean and standard deviation of the performance metric."
   ]
  },
  {
   "cell_type": "code",
   "execution_count": 41,
   "metadata": {},
   "outputs": [
    {
     "name": "stdout",
     "output_type": "stream",
     "text": [
      "mean_res: 0.3859070935342121\n",
      "std_res: 0.003943451661497266\n",
      "min_res: 0.3785310734463277\n",
      "max_res: 0.3964218455743879\n",
      "median_res: 0.3860640301318267\n"
     ]
    }
   ],
   "source": [
    "_ = repeated_eval(30, model_default)"
   ]
  },
  {
   "attachments": {},
   "cell_type": "markdown",
   "metadata": {},
   "source": [
    "## Plot: Compare Predictions"
   ]
  },
  {
   "cell_type": "code",
   "execution_count": 42,
   "metadata": {},
   "outputs": [
    {
     "data": {
      "image/png": "[encoded data removed]",
      "text/plain": [
       "<Figure size 1000x500 with 2 Axes>"
      ]
     },
     "metadata": {},
     "output_type": "display_data"
    }
   ],
   "source": [
    "plot_confusion_matrix(model_default, fun_control, title = \"Default\")"
   ]
  },
  {
   "cell_type": "code",
   "execution_count": 43,
   "metadata": {},
   "outputs": [
    {
     "data": {
      "image/png": "[encoded data removed]",
      "text/plain": [
       "<Figure size 1000x500 with 2 Axes>"
      ]
     },
     "metadata": {},
     "output_type": "display_data"
    }
   ],
   "source": [
    "plot_confusion_matrix(model_spot, fun_control, title=\"SPOT\")"
   ]
  },
  {
   "cell_type": "code",
   "execution_count": 44,
   "metadata": {},
   "outputs": [
    {
     "data": {
      "text/plain": [
       "(-0.3997493734335839, -0.33458646616541354)"
      ]
     },
     "execution_count": 44,
     "metadata": {},
     "output_type": "execute_result"
    }
   ],
   "source": [
    "min(spot_tuner.y), max(spot_tuner.y)"
   ]
  },
  {
   "attachments": {},
   "cell_type": "markdown",
   "metadata": {},
   "source": [
    "## Cross-validated Evaluations"
   ]
  },
  {
   "cell_type": "code",
   "execution_count": 45,
   "metadata": {},
   "outputs": [
    {
     "data": {
      "text/plain": [
       "(0.3581761006289308, None)"
      ]
     },
     "execution_count": 45,
     "metadata": {},
     "output_type": "execute_result"
    }
   ],
   "source": [
    "from spotPython.sklearn.traintest import evaluate_cv\n",
    "fun_control.update({\n",
    "     \"eval\": \"train_cv\",\n",
    "     \"k_folds\": 10,\n",
    "})\n",
    "evaluate_cv(model=model_spot, fun_control=fun_control, verbose=0)"
   ]
  },
  {
   "cell_type": "code",
   "execution_count": 46,
   "metadata": {},
   "outputs": [
    {
     "data": {
      "text/plain": [
       "(0.3585511982570806, None)"
      ]
     },
     "execution_count": 46,
     "metadata": {},
     "output_type": "execute_result"
    }
   ],
   "source": [
    "fun_control.update({\n",
    "     \"eval\": \"test_cv\",\n",
    "     \"k_folds\": 10,\n",
    "})\n",
    "evaluate_cv(model=model_spot, fun_control=fun_control, verbose=0)"
   ]
  },
  {
   "attachments": {},
   "cell_type": "markdown",
   "metadata": {},
   "source": [
    "* This is the evaluation that will be used in the comparison:"
   ]
  },
  {
   "cell_type": "code",
   "execution_count": 47,
   "metadata": {},
   "outputs": [
    {
     "data": {
      "text/plain": [
       "(0.36011066398390346, None)"
      ]
     },
     "execution_count": 47,
     "metadata": {},
     "output_type": "execute_result"
    }
   ],
   "source": [
    "fun_control.update({\n",
    "     \"eval\": \"data_cv\",\n",
    "     \"k_folds\": 10,\n",
    "})\n",
    "evaluate_cv(model=model_spot, fun_control=fun_control, verbose=0)"
   ]
  },
  {
   "attachments": {},
   "cell_type": "markdown",
   "metadata": {},
   "source": [
    "## Detailed Hyperparameter Contour Plots"
   ]
  },
  {
   "attachments": {},
   "cell_type": "markdown",
   "metadata": {},
   "source": [
    "* For productive use, you might want to select:\n",
    "  * `min_z=min(spot_tuner.y)` and\n",
    "  * `max_z = max(spot_tuner.y)`\n",
    "* These settings are not so colorful as visualizations that use `None` for the ranges, but give better insights."
   ]
  },
  {
   "cell_type": "code",
   "execution_count": 48,
   "metadata": {},
   "outputs": [
    {
     "name": "stdout",
     "output_type": "stream",
     "text": [
      "C:  40.5722117357427\n",
      "gamma:  100.0\n"
     ]
    },
    {
     "data": {
      "image/png": "[encoded data removed]",
      "text/plain": [
       "<Figure size 900x600 with 3 Axes>"
      ]
     },
     "metadata": {},
     "output_type": "display_data"
    }
   ],
   "source": [
    "spot_tuner.plot_important_hyperparameter_contour(threshold=0.025)"
   ]
  },
  {
   "attachments": {},
   "cell_type": "markdown",
   "metadata": {},
   "source": [
    "## Parallel Coordinates Plot"
   ]
  },
  {
   "cell_type": "code",
   "execution_count": 49,
   "metadata": {},
   "outputs": [
    {
     "data": {
      "application/vnd.plotly.v1+json": {
       "config": {
        "plotlyServerURL": "https://plot.ly"
       },
       "data": [
        {
         "dimensions": [
          {
           "label": "C",
           "range": [
            0.20046344117418508,
            9.816527673242055
           ],
           "values": [
            5.702235827692169,
            2.612944225976607,
            4.14700040993178,
            8.119433061333059,
            3.473752696222903,
            2.121024326588937,
            0.20046344117418508,
            6.417236332183339,
            7.279132588311306,
            5.259942823401701,
            7.772754058600007,
            3.827671359856859,
            6.827747464903902,
            1.867233991385048,
            9.354341257092683,
            8.608004505295778,
            1.5099883172554431,
            4.6249942763281195,
            0.7493912852769857,
            9.816527673242055,
            3.158803833464265,
            3.7740734852359363,
            2.50508509129088,
            3.345375983785864,
            4.938772589683175,
            2.6093727062074485,
            3.9613926657642375,
            6.1768953724668725,
            2.595324943396297,
            0.6547309964371563,
            2.0479346682127177,
            2.23222026418304,
            7.779007699718463,
            4.236609372694403,
            4.458076380819814,
            2.2555863237577185,
            4.1615669312980605,
            2.186767839673741,
            4.16386032524016,
            2.1520046315027854,
            2.1622620796746514,
            2.152366630809942,
            2.1584164827657206,
            2.1465728593936153,
            2.1378471871671305,
            2.336399611928536,
            2.4004552048041585,
            2.390769402862954,
            2.372908112635972,
            2.3593018433163992,
            2.373486455924936,
            2.373741489703364,
            2.34288900025548,
            2.3209522614482068,
            2.3214501293512426,
            2.319244962252951,
            2.325646969415244,
            2.3687091138925513,
            2.3809754517465223,
            2.428055101104931,
            2.464082905017216,
            2.355066059084436,
            2.3527102890197287,
            2.356999391837479,
            2.360725084106388,
            2.356970963536205,
            2.322999373260315,
            2.357358697713361,
            2.3403941886195225,
            2.3269470721212833,
            2.327738302286071,
            2.3242224880076323,
            2.3222762616590127,
            2.326468783791898,
            2.323737863808338,
            2.3232211001335523,
            2.3194922382279755,
            2.323357640486471,
            2.3225240750661156,
            2.3209348805844563,
            2.3251274550411503,
            2.3240857309210594,
            2.3234226183466293,
            2.3222686148024714,
            2.321249123580623,
            2.3199301819620515,
            4.33394320971536,
            2.350531968285963,
            2.33871976502033,
            2.3279679758124128,
            2.324357341388958,
            2.332808735677941,
            2.333170734044598,
            2.3258475489645454,
            2.3241046269898615,
            2.3240789319688426,
            2.3278274272209876,
            2.3289195019816367,
            2.3274862855577987,
            2.334691920991439,
            2.336641137760594,
            2.3446350379449483,
            2.3498377495479508,
            2.350436886753133,
            2.3649470399475137,
            2.3660131658122974,
            2.337139246118796,
            2.336875689928638,
            2.332815105689606,
            2.328171071677912,
            2.325334794857687,
            2.2576521948135446,
            2.3335975497710866,
            2.335697068589056,
            2.2575618681017318,
            2.3075597610767398,
            2.3188091238238586,
            2.3167802898442673,
            2.315772778211598,
            2.3178579957547676,
            2.3218899036454017,
            2.3207429319441393,
            2.3286511507513152,
            2.3304671719925065,
            2.3272128936447016,
            2.3282828036473457,
            2.331597435416659,
            2.329868390705208,
            2.3269791703972773,
            2.3271802100252073,
            2.3263516703654488,
            2.3252485204712703,
            2.3282803850596565,
            2.329803504639082,
            2.327933495163639,
            2.3255957432718186,
            2.3263693384501036,
            2.3284927343122233,
            2.3279553091439937,
            2.3275629938456537,
            2.327813433527186,
            2.3257327104748264,
            2.326695506071636,
            2.328241933416361,
            2.3261048182396884,
            2.3249400059322243,
            2.3249204161686676,
            2.3254555689480236,
            2.32655561131834,
            2.325637201113102,
            2.3251090116021427,
            2.3269323456822777,
            2.3280790808199345,
            2.3280596774451747,
            2.3288617288402347,
            2.3270613716361312,
            2.326614199828547,
            2.3306311208762516,
            2.3323958058194476,
            2.330510244974342,
            2.334078150567127,
            2.336427525458019,
            2.324824565860921,
            2.3242451703750886,
            2.3237923639528892,
            2.323952998359599,
            2.3230223781087544,
            2.3224014783545224,
            2.3219167305939203,
            2.3210264377657537,
            2.319485462767333,
            2.3203746154297913,
            2.320019693451388,
            2.318240369345971,
            2.314670465728648,
            2.315099839810603,
            2.3163489169990195,
            2.3256247385775484,
            2.3252589577911804,
            2.3262379430608604,
            2.325147048911581,
            2.324885294692619,
            2.324588273000776,
            2.324687296330345,
            2.324305312597869,
            2.3250789792551556,
            2.3255351893056266,
            2.3256364957148636,
            2.324559677400633,
            2.325297114197085,
            2.3252339178527244,
            2.3248855825728887,
            2.3251690522181607,
            2.3250956192395695,
            2.324616546358273,
            2.3246884467464897,
            2.3244086155356576,
            2.32428761193124,
            2.3225993562427805,
            2.322582097825758,
            2.3241182935518423,
            2.3236593873594846,
            2.322586161242053,
            2.3226162191470046,
            2.3222017803141535,
            2.3207719633534354,
            2.3234109736447093,
            2.323295366214304,
            2.322583019310874,
            2.322565783098312,
            2.3225752810563454,
            2.322547803036319,
            2.3225365842325867,
            2.3225582724395046,
            2.322535879240962,
            2.3225257373535704,
            2.320337543798728,
            2.3205557625944127,
            2.3203203589318377,
            2.320149861849135,
            2.3203526869423854,
            2.3186872094098607,
            2.3160125480084415,
            2.3113172550093206,
            2.3090768848260823,
            2.3089298067609727,
            2.3040510434112162,
            2.305126851670911,
            2.313663066660416,
            2.310532676671748,
            2.3073831864800356,
            2.3106557796962477,
            2.266715302157689,
            2.3083811389069147,
            2.3044628321701177,
            2.297652601640176,
            2.273060965327892,
            2.2835726880014833,
            2.2650731274061284,
            2.2317788943350347,
            2.2512448812075245,
            2.233939693149817,
            2.2505448080592427,
            2.249651829262772,
            2.2464644466720607,
            2.246993307939877,
            2.249655947969918,
            2.2474947579864204,
            2.24781081096167,
            2.2441260566959036,
            2.246817965396865,
            2.2484441766310863,
            2.245834496538608,
            2.2425234166517494,
            2.2425987773290306,
            2.2479831357497853,
            2.247517888472307,
            2.2476820464662146,
            2.248124502181439,
            2.246814117474318,
            2.246991542675651,
            2.2468709874944124,
            2.246158140362042,
            2.2454839078421935,
            2.24761522419135,
            2.2487253959997116,
            2.246756771028053,
            2.2441948974024033,
            2.242674530729736,
            2.2398409217271134,
            2.2427064630477194,
            2.2408887857797364,
            2.239921715770791,
            2.2374090199234375,
            2.2383126377416,
            2.235056485622604,
            2.2382955892153036,
            2.245318686242711,
            2.245083442703643,
            2.246858887363807,
            2.2471406055810705,
            2.2472410466492803,
            2.247002151972965,
            2.246788083413927,
            2.24715903012668,
            2.2471625309807934,
            2.246733022392799,
            2.246080277299908,
            2.245455451529441,
            2.246683172601636,
            2.2459288552244154,
            2.246751890327152,
            2.246721896391172,
            2.246028093964271,
            2.2461565466001128,
            2.2462409423765672,
            2.2457091624640695,
            2.2448974161752733,
            2.2439924805016203,
            2.2424346717358064,
            2.2436115161059966,
            2.244016401131164,
            2.2438999472044605,
            2.2446181254105806,
            2.245304133618384,
            2.2455476256094626,
            2.2452615729479595,
            2.244972234783043,
            2.245796047356836,
            2.2463221297526896,
            2.2461667282079545,
            2.2464928533904223,
            2.2461727571553443,
            2.2459541882396605,
            2.2458038145585775,
            2.2464024474941535,
            2.2473503081376185,
            2.250772224763268,
            2.2523817848919268,
            2.249969218899373,
            2.2475207104827577,
            2.245999855689926,
            2.2458976994338835,
            2.2461095335702335,
            2.2458084139121635,
            2.246081080507758,
            2.247075281295077,
            2.2469268874937383,
            2.24626507279121,
            2.2479097214144943,
            2.2457032453056973,
            2.2459440687675047,
            2.2478191715588625,
            2.2493355649693063,
            2.2506023552183807,
            2.2484136041208673,
            2.246893684259302,
            2.2462777170389527,
            2.247324653886283,
            2.249269029450689,
            2.2500002993803574,
            2.2492257752160714,
            2.2503958525624506,
            2.2509255269134862,
            2.2507909672981086,
            2.2513974786106545,
            2.2518678228396127,
            2.2527795744952748,
            2.2541583670981695,
            2.253256415633044,
            2.2527706577578495,
            2.2518795419575373,
            2.2489852557680283,
            2.248453634418617,
            2.247474602377989,
            2.246719549036802,
            2.250421874456785,
            2.250889603064768,
            2.2516481994045106,
            2.2533473052030657,
            2.2546551300186444,
            2.253811345607428,
            2.254762150975198,
            2.254293888421222,
            2.253835885244792,
            2.253426972086469,
            2.253467709889268,
            2.2544876340686315,
            2.2551770944336806,
            2.255229245593664,
            2.2563162235525005,
            2.2563567420411905,
            2.2569713051454805,
            2.254934473296516,
            2.2543574191769293,
            2.2542505856532564,
            2.2541417251652693,
            2.253716827207394,
            2.2526896163206915,
            2.251702750643822,
            2.2514543608531605,
            2.2528404138395914,
            2.2527274449316668,
            2.253411531125817,
            2.2536192184105355,
            2.255156642334978,
            2.2550638452177427,
            2.2544096308152093,
            2.2521368783336544,
            2.2515609421875853,
            2.2524142064015513,
            2.251978144352606,
            2.251551365992452,
            2.2503646659236614,
            2.2523503845696617,
            2.252715495590274,
            2.2526132250684117,
            2.2510098734873942,
            2.250099877868787,
            2.250844253085701,
            2.251616006360098,
            2.2508101970937395,
            2.250554296092853,
            2.2496503725384676,
            2.2502189204796137,
            2.2494802563427005,
            2.2493894259291976,
            2.2494585994534697,
            2.2500723197937957,
            2.250503578202175,
            2.249514063106947,
            2.2497420432411954,
            2.249371988944541,
            2.249735955808097,
            2.249497978548902,
            2.250484582026268,
            2.2502201103036548,
            2.249870989787478,
            2.2496021440688896,
            2.2506021056264056,
            2.248582084315047,
            2.2481897155734263,
            2.247791042516795,
            2.2464759472165983,
            2.2474977401677725,
            2.24650767830177,
            2.2464376783828466,
            2.246671747550731,
            2.246754797141932,
            2.246836831065976,
            2.2463830134229696,
            2.247146524810982,
            2.247216380422001,
            2.247748985381538,
            2.2479688789235346,
            2.2483395087968865,
            2.247670171790335,
            2.2493457410356217,
            2.2498468745722286
           ]
          },
          {
           "label": "gamma",
           "range": [
            0,
            1
           ],
           "values": [
            0,
            1,
            1,
            1,
            0,
            1,
            0,
            1,
            0,
            0,
            1,
            1,
            1,
            1,
            0,
            0,
            0,
            0,
            0,
            1,
            1,
            1,
            1,
            1,
            1,
            1,
            1,
            0,
            1,
            1,
            1,
            0,
            0,
            1,
            1,
            1,
            1,
            1,
            1,
            1,
            1,
            1,
            1,
            1,
            1,
            1,
            1,
            1,
            1,
            1,
            1,
            1,
            1,
            1,
            1,
            1,
            1,
            1,
            1,
            1,
            1,
            1,
            1,
            1,
            1,
            1,
            1,
            1,
            1,
            1,
            1,
            1,
            1,
            1,
            1,
            1,
            1,
            1,
            1,
            1,
            1,
            1,
            1,
            1,
            1,
            1,
            1,
            1,
            1,
            1,
            1,
            1,
            1,
            1,
            1,
            1,
            1,
            1,
            1,
            1,
            1,
            1,
            1,
            1,
            1,
            1,
            1,
            1,
            1,
            1,
            1,
            1,
            1,
            1,
            1,
            1,
            1,
            1,
            1,
            1,
            1,
            1,
            1,
            1,
            1,
            1,
            1,
            1,
            1,
            1,
            1,
            1,
            1,
            1,
            1,
            1,
            1,
            1,
            1,
            1,
            1,
            1,
            1,
            1,
            1,
            1,
            1,
            1,
            1,
            1,
            1,
            1,
            1,
            1,
            1,
            1,
            1,
            1,
            1,
            1,
            1,
            1,
            1,
            1,
            1,
            1,
            1,
            1,
            1,
            1,
            1,
            1,
            1,
            1,
            1,
            1,
            1,
            1,
            1,
            1,
            1,
            1,
            1,
            1,
            1,
            1,
            1,
            1,
            1,
            1,
            1,
            1,
            1,
            1,
            1,
            1,
            1,
            1,
            1,
            1,
            1,
            1,
            1,
            1,
            1,
            1,
            1,
            1,
            1,
            1,
            1,
            1,
            1,
            1,
            1,
            1,
            1,
            1,
            1,
            1,
            1,
            1,
            1,
            1,
            1,
            1,
            1,
            1,
            1,
            1,
            1,
            1,
            1,
            1,
            1,
            1,
            1,
            1,
            1,
            1,
            1,
            1,
            1,
            1,
            1,
            1,
            1,
            1,
            1,
            1,
            1,
            1,
            1,
            1,
            1,
            1,
            1,
            1,
            1,
            1,
            1,
            1,
            1,
            1,
            1,
            1,
            1,
            1,
            1,
            1,
            1,
            1,
            1,
            1,
            1,
            1,
            1,
            1,
            1,
            1,
            1,
            1,
            1,
            1,
            1,
            1,
            1,
            1,
            1,
            1,
            1,
            1,
            1,
            1,
            1,
            1,
            1,
            1,
            1,
            1,
            1,
            1,
            1,
            1,
            1,
            1,
            1,
            1,
            1,
            1,
            1,
            1,
            1,
            1,
            1,
            1,
            1,
            1,
            1,
            1,
            1,
            1,
            1,
            1,
            1,
            1,
            1,
            1,
            1,
            1,
            1,
            1,
            1,
            1,
            1,
            1,
            1,
            1,
            1,
            1,
            1,
            1,
            1,
            1,
            1,
            1,
            1,
            1,
            1,
            1,
            1,
            1,
            1,
            1,
            1,
            1,
            1,
            1,
            1,
            1,
            1,
            1,
            1,
            1,
            1,
            1,
            1,
            1,
            1,
            1,
            1,
            1,
            1,
            1,
            1,
            1,
            1,
            1,
            1,
            1,
            1,
            1,
            1,
            1,
            1,
            1,
            1,
            1,
            1,
            1,
            1,
            1,
            1,
            1,
            1,
            1,
            1,
            1,
            1,
            1,
            1,
            1,
            1,
            1,
            1,
            1,
            1,
            1,
            1,
            1,
            1,
            1,
            1,
            1,
            1,
            1,
            1,
            1,
            1,
            1,
            1,
            1,
            1,
            1,
            1,
            1,
            1,
            1,
            1,
            1,
            1,
            1,
            1,
            1,
            1,
            1,
            1,
            1,
            1
           ]
          },
          {
           "label": "shrinking",
           "range": [
            0,
            1
           ],
           "values": [
            1,
            1,
            0,
            0,
            0,
            0,
            0,
            1,
            0,
            1,
            0,
            1,
            1,
            1,
            1,
            1,
            0,
            0,
            0,
            1,
            0,
            0,
            0,
            0,
            0,
            0,
            0,
            0,
            0,
            0,
            0,
            0,
            0,
            0,
            0,
            0,
            0,
            0,
            0,
            0,
            1,
            0,
            1,
            0,
            0,
            1,
            1,
            1,
            0,
            0,
            1,
            1,
            0,
            0,
            0,
            0,
            0,
            0,
            1,
            0,
            0,
            1,
            1,
            1,
            1,
            1,
            0,
            1,
            1,
            0,
            0,
            0,
            0,
            0,
            0,
            0,
            0,
            0,
            0,
            0,
            0,
            0,
            0,
            0,
            0,
            0,
            1,
            0,
            0,
            0,
            0,
            0,
            0,
            0,
            0,
            0,
            0,
            1,
            1,
            0,
            0,
            0,
            1,
            0,
            0,
            0,
            0,
            0,
            0,
            0,
            1,
            0,
            0,
            0,
            0,
            1,
            0,
            0,
            0,
            0,
            0,
            0,
            0,
            0,
            0,
            0,
            0,
            0,
            0,
            0,
            0,
            0,
            0,
            0,
            0,
            0,
            0,
            0,
            0,
            0,
            0,
            0,
            0,
            0,
            0,
            0,
            0,
            0,
            0,
            0,
            0,
            0,
            0,
            0,
            0,
            0,
            0,
            0,
            0,
            0,
            0,
            0,
            0,
            0,
            0,
            0,
            0,
            0,
            0,
            0,
            0,
            0,
            0,
            0,
            0,
            0,
            0,
            0,
            0,
            0,
            0,
            0,
            0,
            0,
            0,
            0,
            0,
            0,
            0,
            0,
            0,
            0,
            0,
            0,
            0,
            0,
            0,
            0,
            0,
            0,
            0,
            0,
            0,
            0,
            0,
            0,
            0,
            0,
            0,
            0,
            0,
            0,
            0,
            0,
            0,
            0,
            0,
            0,
            0,
            0,
            0,
            0,
            0,
            1,
            1,
            1,
            1,
            1,
            0,
            0,
            1,
            0,
            1,
            0,
            0,
            0,
            1,
            1,
            0,
            0,
            0,
            0,
            1,
            1,
            1,
            0,
            1,
            1,
            1,
            1,
            1,
            1,
            1,
            1,
            1,
            1,
            1,
            1,
            1,
            1,
            1,
            1,
            1,
            1,
            1,
            1,
            1,
            1,
            1,
            1,
            1,
            1,
            1,
            1,
            1,
            0,
            0,
            1,
            1,
            1,
            0,
            1,
            1,
            1,
            1,
            1,
            1,
            1,
            1,
            1,
            1,
            1,
            1,
            1,
            1,
            1,
            1,
            1,
            1,
            1,
            1,
            1,
            1,
            1,
            1,
            0,
            0,
            1,
            0,
            1,
            1,
            1,
            1,
            1,
            1,
            1,
            1,
            1,
            0,
            0,
            0,
            0,
            1,
            1,
            0,
            0,
            0,
            0,
            0,
            0,
            1,
            1,
            0,
            0,
            1,
            0,
            1,
            1,
            0,
            0,
            0,
            0,
            0,
            1,
            1,
            1,
            1,
            1,
            0,
            1,
            0,
            1,
            0,
            0,
            0,
            0,
            0,
            0,
            1,
            0,
            0,
            0,
            0,
            1,
            0,
            0,
            0,
            0,
            1,
            1,
            0,
            0,
            0,
            0,
            0,
            0,
            0,
            0,
            1,
            0,
            0,
            1,
            1,
            0,
            0,
            0,
            0,
            0,
            1,
            1,
            1,
            1,
            1,
            0,
            1,
            0,
            1,
            0,
            0,
            1,
            1,
            1,
            1,
            1,
            0,
            1,
            1,
            1,
            1,
            1,
            1,
            1,
            1,
            1,
            1,
            0,
            1,
            1,
            1,
            0,
            0,
            0,
            0,
            0,
            0,
            0,
            0,
            0,
            0,
            0,
            1,
            0,
            0,
            0,
            0,
            0,
            0,
            0,
            1
           ]
          },
          {
           "label": "tol",
           "range": [
            0.0001,
            0.01
           ],
           "values": [
            0.00495873595370416,
            0.0006495031169099631,
            0.003253179598728108,
            0.009422877523345833,
            0.007659519552549287,
            0.00808626692178457,
            0.008749114168405004,
            0.005885192583155871,
            0.004427506560069786,
            0.006724836830551957,
            0.0053284670210291575,
            0.006319513590318085,
            0.00035325000355440416,
            0.0022005429097777516,
            0.0029121570835264803,
            0.003946791789886076,
            0.009985004142501898,
            0.007207947581267873,
            0.0014398752649045757,
            0.0018103658769051405,
            0.003976817446550662,
            0.008175474822870463,
            0.007862299408428558,
            0.0066480225724108236,
            0.008521046343764022,
            0.008867207778964745,
            0.003248884681668209,
            0.0032343321150019627,
            0.0032041756026425254,
            0.008167736078488773,
            0.008334106062630948,
            0.0076158750797701525,
            0.005334330050780524,
            0.00299743574009675,
            0.002495321882497328,
            0.007410688949607442,
            0.003202926499195734,
            0.007996206050505902,
            0.0030271048984027993,
            0.00790122477950749,
            0.007917386310979607,
            0.007931233967377485,
            0.007920428361042012,
            0.007948707969641682,
            0.008001998509963148,
            0.0058416418517706035,
            0.0035696569774669265,
            0.004169172279344488,
            0.004787234983819702,
            0.005224539973428807,
            0.004512283055279426,
            0.004350081721415533,
            0.0059658548392900355,
            0.006397069912628243,
            0.0063024060109576905,
            0.006222556245014917,
            0.006016404210669706,
            0.005443696485726642,
            0.00500486783638281,
            0.003548908146993454,
            0.0020078896889243504,
            0.007923289180747545,
            0.007789841386900504,
            0.00840333983088408,
            0.009170434312906307,
            0.01,
            0.006541097274378958,
            0.0077265652945700735,
            0.006125978212727615,
            0.007087172893331831,
            0.007172032971064041,
            0.006519583104855966,
            0.006415122594412547,
            0.0063033038342004835,
            0.006492167612901404,
            0.006396678198147296,
            0.006484907954886855,
            0.006378382697585883,
            0.006326842124450533,
            0.006444036304431602,
            0.007100788040492454,
            0.006994685184372468,
            0.006948933588347861,
            0.00686455284676131,
            0.006760573833177493,
            0.006617904683791066,
            0.004100547884442561,
            0.006817384071374291,
            0.006564733549601993,
            0.006544607913870703,
            0.006605128736901568,
            0.006844777267456362,
            0.0068940498315049285,
            0.00646011997901458,
            0.00649387612839404,
            0.006413899434413577,
            0.006228811032575226,
            0.0060834541502942565,
            0.005730264712946197,
            0.005683853166500049,
            0.005387454947989894,
            0.004533614066040498,
            0.0037917854104323025,
            0.0035139668583993432,
            0.0010835386425339915,
            0.0009313526067891995,
            0.006480111301839888,
            0.0066824760280280344,
            0.00630110501652262,
            0.006377118443628488,
            0.006328305174939802,
            0.008633664035861197,
            0.005729722001004375,
            0.005455110508240592,
            0.00880365158256196,
            0.0077180041820864385,
            0.0061786196291955635,
            0.005993205969085815,
            0.00597186211152745,
            0.006197794185847844,
            0.006405869909583671,
            0.006404600381379316,
            0.006334788542073053,
            0.006268906432493798,
            0.006383686098548271,
            0.006365934419933443,
            0.006318074658942541,
            0.006357243140822422,
            0.006404026071776319,
            0.006374022940592772,
            0.006362067987082048,
            0.006400198126914335,
            0.0064502617074241745,
            0.006460038138692345,
            0.006478621123933657,
            0.00638578958488481,
            0.006385808433023557,
            0.006376674343702462,
            0.00637758262798285,
            0.00638855258935982,
            0.006385632252359271,
            0.006393564302041967,
            0.006430897227054454,
            0.006458908503865055,
            0.006420083286774226,
            0.006360472524854866,
            0.006362636557947748,
            0.006359868690138028,
            0.006355792451148663,
            0.006361587113243492,
            0.006352997142742534,
            0.00634308412314928,
            0.006293382181673073,
            0.006265863379355792,
            0.006200761737933911,
            0.006306794328673193,
            0.006297741718898898,
            0.006177345934070336,
            0.0060552684861613255,
            0.006144491043495662,
            0.0059344208205482155,
            0.005763904214348934,
            0.006939458558795477,
            0.006910515970765547,
            0.007085969755469249,
            0.006954136668993046,
            0.007204036149650173,
            0.007391843488869944,
            0.00730708416955548,
            0.008096770853641317,
            0.01,
            0.00844113300248678,
            0.008481419536139763,
            0.01,
            0.01,
            0.01,
            0.01,
            0.006568200389063828,
            0.006557551906912197,
            0.006559747915199423,
            0.006561678604665333,
            0.0065431773537791985,
            0.0065400571686587,
            0.006535805649360519,
            0.006511210261328204,
            0.006502188171986272,
            0.006473755061293327,
            0.0064640864166558955,
            0.0064406508577392425,
            0.006353769257089961,
            0.0062665919786882495,
            0.00625857986528831,
            0.00605706230891116,
            0.0058599572980826764,
            0.005998198677683505,
            0.0056268790370190185,
            0.005438215562762418,
            0.0048793188735854085,
            0.0037647082869702924,
            0.003709657878293927,
            0.005015110790175601,
            0.005044612481379426,
            0.0037673783733445316,
            0.0013447865356591075,
            0.0001,
            0.0001,
            0.0001,
            0.0017588402282291704,
            0.0037355871370342015,
            0.0037119837955305306,
            0.0037315958852606503,
            0.0037506084545574692,
            0.0037271216864713844,
            0.003781517063563217,
            0.0037501421608871236,
            0.0037521516645617073,
            0.004180551651172369,
            0.004241966137040644,
            0.004481440624555594,
            0.004931401575072334,
            0.005222175995579765,
            0.0041403892237402585,
            0.0016456806760478233,
            0.0001,
            0.0001,
            0.0001,
            0.0001,
            0.0001,
            0.0001,
            0.0001,
            0.0001,
            0.0001,
            0.0001,
            0.0001,
            0.0001,
            0.0001,
            0.0001,
            0.0001,
            0.0001,
            0.0001,
            0.0001,
            0.0001,
            0.0001,
            0.0001,
            0.0001,
            0.0001,
            0.0001,
            0.0001,
            0.0001,
            0.0001,
            0.0001,
            0.0001,
            0.0001,
            0.0001,
            0.0001,
            0.0001,
            0.0001,
            0.0001,
            0.0001,
            0.0001,
            0.0001,
            0.0001,
            0.0001,
            0.0001,
            0.0001,
            0.0001,
            0.0001,
            0.0001,
            0.0001,
            0.0001,
            0.0001,
            0.0001,
            0.0001,
            0.0001,
            0.0001,
            0.0001,
            0.0001,
            0.0001,
            0.0001,
            0.0001,
            0.0001,
            0.0001,
            0.0001,
            0.0001,
            0.0001,
            0.0001,
            0.0001,
            0.0001,
            0.0001,
            0.0001,
            0.0001,
            0.0001,
            0.0001,
            0.0001,
            0.0001,
            0.0001,
            0.0001,
            0.0001,
            0.0001,
            0.0001,
            0.0001,
            0.0001,
            0.0001,
            0.0001,
            0.0001,
            0.0001,
            0.0001,
            0.0001,
            0.0001,
            0.0001,
            0.0001,
            0.0001,
            0.0001,
            0.0001,
            0.0001,
            0.0001,
            0.0001,
            0.0001,
            0.0001,
            0.0001,
            0.0001,
            0.0001,
            0.0001,
            0.0001,
            0.0001,
            0.0001,
            0.0001,
            0.0001,
            0.0001,
            0.0001,
            0.0001,
            0.0001,
            0.0001,
            0.0001,
            0.0001,
            0.0001,
            0.0001,
            0.0001,
            0.0001,
            0.0001,
            0.0001,
            0.0001,
            0.0001,
            0.0001,
            0.0001,
            0.0001,
            0.0001,
            0.0001,
            0.0001,
            0.0001,
            0.0001,
            0.0001,
            0.0001,
            0.0001,
            0.0001,
            0.0001,
            0.0001,
            0.0001,
            0.0001,
            0.0001,
            0.0001,
            0.0001,
            0.0001,
            0.0001,
            0.0001,
            0.0001,
            0.0001,
            0.0001,
            0.0001,
            0.0001,
            0.0001,
            0.0001,
            0.0001,
            0.0001,
            0.0001,
            0.0001,
            0.0001,
            0.0001,
            0.0001,
            0.0001,
            0.0001,
            0.0001,
            0.0001,
            0.0001,
            0.0001,
            0.0001,
            0.0001,
            0.0001,
            0.0001,
            0.0001,
            0.0001,
            0.0001,
            0.0001,
            0.0001,
            0.0001,
            0.0001,
            0.0001,
            0.0001,
            0.0001,
            0.0001,
            0.0001,
            0.0001,
            0.0001,
            0.0001,
            0.0001,
            0.0001,
            0.0001,
            0.0001,
            0.0001,
            0.0001,
            0.0001,
            0.0001,
            0.0001,
            0.0001,
            0.0001,
            0.0001,
            0.0001,
            0.0001,
            0.0001,
            0.0001,
            0.0001,
            0.0001,
            0.0001,
            0.0001,
            0.0001,
            0.0001,
            0.0001,
            0.0001,
            0.0001,
            0.0001,
            0.0001,
            0.0001,
            0.0001,
            0.0001,
            0.0001,
            0.0001,
            0.0001,
            0.0001,
            0.0001
           ]
          },
          {
           "label": "cache_size",
           "range": [
            103.75535342663638,
            399.0704904003754
           ],
           "values": [
            262.3614114837245,
            302.30544317155704,
            191.0888911221225,
            377.5331654725331,
            146.22099262339685,
            329.0387209544312,
            128.92769790064904,
            144.782882848149,
            219.95228336060032,
            321.00874131983085,
            289.0576833337387,
            362.7153789538001,
            390.847827575474,
            188.83636044702138,
            236.5334756661061,
            232.93488302886598,
            346.61125484299504,
            161.0338097558236,
            276.34382343144387,
            103.75535342663638,
            296.10272948599095,
            364.676204453801,
            366.50450686824445,
            364.81832034908336,
            354.57896510329806,
            352.94195708702244,
            322.41197954754966,
            139.645624056171,
            269.26962459636877,
            308.6454317490562,
            360.1697463017968,
            299.8183953179389,
            253.12598699692103,
            289.94090694324757,
            191.31822670732117,
            309.9267985406958,
            167.3779952486869,
            134.79640940983535,
            207.95531647708967,
            320.7621395287163,
            191.9008168420803,
            107.90394464844735,
            393.74729864528064,
            200.00631281989618,
            193.89939785802216,
            252.0441337663078,
            161.93494329331455,
            161.9349515083064,
            299.1327683136314,
            291.4659576755491,
            274.58162485506125,
            274.58163053094637,
            140.91007016126667,
            259.10709391694746,
            259.10709391069804,
            259.1070939222625,
            259.10709869183836,
            323.2923912534912,
            274.58163082819107,
            303.5412008895026,
            151.45990040019782,
            391.07112560939953,
            391.07112424592344,
            391.07112425163064,
            391.0711250425212,
            360.8030217492399,
            292.6723828050237,
            391.07112163069917,
            399.0704904003754,
            259.10709370750084,
            259.10708896964223,
            259.10709175647895,
            259.1070954002807,
            259.1070937041239,
            259.107093774756,
            259.10709172301705,
            259.1070938632139,
            259.1070935862544,
            259.1070971280449,
            259.1070892388959,
            259.1070939376323,
            259.1070935862544,
            259.1070939243242,
            259.10709392281905,
            259.107093928888,
            259.1070990307528,
            213.4989456510177,
            259.1070850457466,
            259.1070940816699,
            259.1070940014782,
            259.1070881940796,
            259.10710020009964,
            259.1070877705865,
            259.1070942068751,
            259.10709395495564,
            259.10708802063004,
            259.10709416368246,
            171.81398422441254,
            120.34951958133409,
            259.10709402051486,
            259.1070935862544,
            340.71210826349204,
            167.21797081192133,
            259.1070854860206,
            259.1070935862544,
            247.44281858297356,
            259.10708617038495,
            297.2924798980188,
            232.64920171001557,
            259.1070868383782,
            255.87305952622117,
            278.71561188199456,
            259.1070940285048,
            259.10708567553024,
            278.7156110745265,
            280.48557317787913,
            259.107101380905,
            215.89081206616115,
            215.8908195953473,
            259.1071012125867,
            259.1070885049458,
            259.1070939602202,
            259.1070940343316,
            259.10709404291134,
            259.10708622732056,
            259.1070940254068,
            259.1070848593164,
            259.1071029063986,
            259.1071014414631,
            259.1071095777035,
            259.1070940001141,
            259.1070871091383,
            259.10709402785164,
            259.1070940364319,
            259.1070940217975,
            259.1070939979292,
            259.10709400817734,
            259.10708583671175,
            259.1070856619807,
            259.1071018057278,
            259.10708580766305,
            259.1070865600234,
            259.10709400857473,
            259.1070940212763,
            259.1070868418273,
            259.10708006303287,
            259.10710112459617,
            259.10709399298065,
            259.10708616662765,
            259.10709399398473,
            259.1070939837899,
            259.10709400861475,
            259.1071023097249,
            259.1070940168138,
            259.1070940218798,
            259.1070940062358,
            259.1070939992687,
            259.1070940286997,
            259.1070851408695,
            259.10709402444826,
            259.1070940344465,
            259.10709403641965,
            326.3223135104209,
            326.3223208371189,
            271.8093857238925,
            326.3223069182097,
            271.80939136808803,
            271.8093857161876,
            271.80938571681315,
            271.8093800161559,
            259.1070886560516,
            271.80938608281144,
            259.10709980840045,
            271.8093912461519,
            215.89081496894823,
            259.1070897600097,
            259.10710298354417,
            259.10708772631426,
            271.8093796876839,
            271.8093793576174,
            271.8093921201983,
            259.107093959433,
            271.80938573215695,
            271.80939142802293,
            271.8093857246122,
            271.80938573596006,
            259.1070943434793,
            271.80937975985927,
            271.8093857255705,
            259.1071001306816,
            259.1070881969137,
            259.1070939522482,
            259.10708817690556,
            259.1070881445243,
            259.10709394914915,
            259.10708823344373,
            259.1070943209173,
            259.10708799017203,
            259.1070935918055,
            259.1070935973566,
            259.1070939563614,
            259.10709430036616,
            259.1070935973566,
            259.1071037280679,
            259.1070983337323,
            259.10709563935654,
            259.1070904744976,
            259.1070829903686,
            259.10709360290775,
            259.1070935918055,
            259.1070935973566,
            259.1070935973566,
            259.1070935918055,
            259.1070935973566,
            259.1070935918055,
            259.1070935973566,
            259.10708701401916,
            259.1070870106236,
            259.1070939864065,
            259.10710082362647,
            259.10708779757266,
            259.1070869885102,
            259.1070939801083,
            280.485573488009,
            280.48557697152086,
            280.4855663907996,
            280.4855719566446,
            280.485573251381,
            259.1070942804704,
            197.33582040252404,
            280.48557125170646,
            259.1070939078525,
            250.1465264822529,
            259.1070939182909,
            259.1070898167003,
            257.80750242943225,
            299.64562042636254,
            210.9047119775527,
            272.24382127899315,
            381.1586157783866,
            130.4861505161678,
            381.15861554952994,
            362.17153883481154,
            317.9104111064056,
            207.70319973026628,
            212.66746844089164,
            317.9104110514242,
            272.2971776925773,
            187.10836538216515,
            247.03613725966676,
            272.29717769506,
            394.07056414724593,
            272.29717768633225,
            247.03613730324957,
            247.0361372947927,
            182.19832182793934,
            187.1083654300517,
            187.10836543264298,
            182.19832183668942,
            187.10836539934363,
            187.10836540142634,
            368.9374668107968,
            272.2971776818645,
            272.2971777050894,
            145.10518893091495,
            145.1051888828019,
            368.93746682123646,
            272.2971777242781,
            272.2971777102055,
            329.0465151941562,
            272.2971776998126,
            272.29717771495234,
            329.04651517716206,
            247.03613732134724,
            329.0465152447113,
            281.00145976123656,
            324.09580961634504,
            272.2971777271267,
            272.2971777041798,
            187.10836542918963,
            277.8825491676475,
            145.10518889490842,
            145.10518884121447,
            182.19832182910542,
            145.1051888736337,
            145.1051889297342,
            394.07056415142733,
            302.46304173279304,
            272.2971777358641,
            145.105188946197,
            302.4630416862653,
            145.10518892622483,
            145.10518887360232,
            302.46304189412183,
            218.94044143276744,
            218.94044141098945,
            112.90488299482665,
            272.29717764285607,
            272.2971776205048,
            272.2971776260605,
            272.29717764347123,
            272.29717762107,
            272.2971776307065,
            272.29717761537927,
            272.297177592166,
            168.78671406522994,
            317.07629095057456,
            272.29717762970625,
            168.78671414195202,
            145.1051888269239,
            145.10518877902808,
            145.1051887963521,
            145.10518879473352,
            182.19832179267388,
            260.7495193233363,
            250.9863625036981,
            365.6425051111466,
            204.9760300036843,
            243.44628503975136,
            265.293045217232,
            265.2930453831979,
            126.65330089257381,
            349.054432802297,
            392.59459989355327,
            339.1446734653746,
            357.81887948901243,
            265.29304511343395,
            243.56236894213404,
            243.56236892084925,
            265.2930453529609,
            349.0544327910874,
            224.31377730943996,
            265.29304535332955,
            388.4340178405989,
            204.97602968993186,
            265.2930450973619,
            236.32640338288115,
            236.3264034863115,
            265.2930453087977,
            265.2930451371361,
            267.30888621072586,
            265.2930450972771,
            265.2930452009901,
            204.9760297191564,
            204.97602957127359,
            394.80595643909504,
            282.1632708528771,
            367.46946359137655,
            315.7783539184561,
            276.0926312101993,
            318.3021733294351,
            186.47967786048392,
            265.29304517663115,
            265.29304507143667,
            271.0813367372841,
            195.74287518598425,
            265.29304497883976,
            234.89430119878432,
            282.16327078139267,
            287.01941474849343,
            315.7783537037473,
            287.0194150530158,
            315.7783538491369,
            211.10521739807294,
            310.4674914407098,
            322.07587119125174,
            322.0758709998089,
            310.4674913540211,
            226.93648576408896,
            226.9364856116491,
            366.13174291388987,
            366.13174288020576,
            274.42710767606667,
            197.28574946671483,
            197.2857493671906,
            197.28574919091332,
            197.28574924921898,
            197.28574912296992,
            287.8913026662408,
            307.3454942187261,
            204.72176976024835,
            287.8913029341933,
            287.8913031266627,
            197.28574922787803,
            197.28574952248243,
            310.46749148673115,
            310.4674912544816,
            315.7783535648126,
            335.04230422577695,
            168.52584883003755,
            335.04230431851136,
            338.8598698558454,
            378.7020396239467,
            265.29304538168395,
            335.0423041397072,
            286.1147761391925,
            335.04230435975626,
            174.01540527515246,
            265.29304537631225,
            226.93648606673594,
            378.7020397260786,
            204.97602991856658,
            204.9760297824184,
            346.61600777052394,
            265.29304538260044,
            346.6160087993788,
            346.61600859603345,
            346.6160086265757,
            346.6160081823154,
            252.01408058489017,
            346.6160085529759,
            346.6160083932758,
            346.6160077991953,
            346.6160078935917,
            346.6160092023718,
            249.94167308171754,
            346.6160083794082,
            346.6160086184923,
            346.61600756257803,
            249.94167324235775,
            248.22050713900177,
            248.2205070667361,
            248.22050689265848,
            324.73025888135186,
            248.22050722771934,
            324.7302588396295,
            324.7302591145375,
            324.73025894607554,
            324.73025895397603,
            324.73025907381174,
            267.8621332846827,
            324.7302590048254,
            324.7302590224636,
            241.9650093288109,
            241.96500932675264,
            248.22050718517713,
            241.96500944205047,
            248.22050728153033,
            378.59665226441297
           ]
          },
          {
           "label": "break_ties",
           "range": [
            0,
            1
           ],
           "values": [
            0,
            0,
            0,
            1,
            1,
            1,
            0,
            0,
            1,
            0,
            0,
            0,
            1,
            0,
            1,
            0,
            1,
            1,
            1,
            1,
            0,
            0,
            1,
            0,
            1,
            0,
            0,
            0,
            0,
            1,
            1,
            1,
            0,
            0,
            0,
            1,
            0,
            1,
            0,
            1,
            1,
            1,
            1,
            1,
            1,
            1,
            1,
            1,
            1,
            1,
            1,
            1,
            1,
            1,
            1,
            1,
            1,
            1,
            1,
            1,
            1,
            1,
            1,
            1,
            1,
            1,
            1,
            1,
            1,
            1,
            1,
            1,
            1,
            1,
            1,
            1,
            1,
            1,
            1,
            1,
            1,
            1,
            1,
            1,
            1,
            1,
            0,
            1,
            1,
            1,
            1,
            1,
            1,
            1,
            1,
            1,
            1,
            1,
            1,
            1,
            1,
            1,
            1,
            1,
            1,
            1,
            1,
            1,
            1,
            1,
            1,
            1,
            1,
            1,
            1,
            1,
            1,
            1,
            1,
            1,
            1,
            1,
            1,
            1,
            1,
            1,
            1,
            1,
            1,
            1,
            1,
            1,
            1,
            1,
            1,
            1,
            1,
            1,
            1,
            1,
            1,
            1,
            1,
            1,
            1,
            1,
            1,
            1,
            1,
            1,
            1,
            1,
            1,
            1,
            1,
            1,
            1,
            1,
            1,
            1,
            1,
            1,
            1,
            1,
            1,
            1,
            1,
            1,
            1,
            1,
            1,
            1,
            1,
            1,
            1,
            1,
            1,
            1,
            1,
            1,
            1,
            1,
            1,
            1,
            1,
            1,
            1,
            1,
            1,
            1,
            1,
            1,
            1,
            1,
            1,
            1,
            1,
            1,
            1,
            1,
            1,
            1,
            1,
            1,
            1,
            1,
            1,
            1,
            1,
            1,
            1,
            1,
            1,
            1,
            1,
            1,
            1,
            1,
            1,
            1,
            1,
            1,
            1,
            1,
            1,
            1,
            1,
            1,
            1,
            1,
            1,
            1,
            1,
            1,
            1,
            1,
            1,
            1,
            0,
            0,
            0,
            0,
            0,
            1,
            0,
            0,
            1,
            1,
            1,
            1,
            1,
            1,
            1,
            1,
            1,
            0,
            1,
            1,
            0,
            1,
            1,
            0,
            1,
            1,
            1,
            1,
            0,
            1,
            1,
            1,
            1,
            1,
            1,
            1,
            1,
            1,
            0,
            1,
            1,
            1,
            1,
            1,
            1,
            0,
            1,
            1,
            1,
            1,
            1,
            1,
            1,
            1,
            1,
            1,
            1,
            1,
            0,
            1,
            1,
            1,
            1,
            1,
            1,
            1,
            1,
            1,
            1,
            1,
            1,
            1,
            1,
            1,
            1,
            0,
            1,
            1,
            1,
            1,
            1,
            0,
            0,
            1,
            0,
            1,
            0,
            0,
            0,
            1,
            1,
            0,
            0,
            1,
            0,
            0,
            1,
            0,
            1,
            1,
            0,
            0,
            0,
            0,
            0,
            1,
            1,
            1,
            1,
            1,
            1,
            1,
            1,
            1,
            0,
            0,
            1,
            1,
            0,
            1,
            1,
            0,
            1,
            0,
            1,
            1,
            1,
            0,
            0,
            1,
            1,
            1,
            1,
            1,
            0,
            0,
            0,
            0,
            0,
            0,
            0,
            0,
            1,
            0,
            0,
            0,
            0,
            1,
            1,
            1,
            1,
            1,
            1,
            0,
            1,
            0,
            1,
            0,
            1,
            0,
            0,
            1,
            1,
            1,
            1,
            0,
            0,
            0,
            0,
            0,
            0,
            1,
            0,
            0,
            0,
            0,
            0,
            0,
            0,
            0,
            0,
            0,
            1,
            1,
            1,
            1,
            1,
            1,
            1,
            1,
            1,
            1,
            1,
            1,
            1,
            0,
            0,
            1,
            0,
            1,
            1
           ]
          }
         ],
         "line": {
          "cmax": -0.33458646616541354,
          "cmin": -0.3997493734335839,
          "color": [
           -0.3609022556390977,
           -0.37343358395989973,
           -0.38596491228070173,
           -0.3746867167919799,
           -0.36967418546365916,
           -0.38345864661654133,
           -0.3446115288220551,
           -0.3596491228070175,
           -0.3609022556390977,
           -0.35839598997493727,
           -0.38095238095238093,
           -0.3684210526315789,
           -0.36466165413533835,
           -0.35087719298245607,
           -0.35463659147869675,
           -0.34962406015037595,
           -0.37969924812030076,
           -0.3621553884711779,
           -0.37343358395989973,
           -0.3408521303258145,
           -0.3558897243107769,
           -0.37593984962406013,
           -0.3746867167919799,
           -0.3684210526315789,
           -0.37593984962406013,
           -0.3533834586466165,
           -0.37593984962406013,
           -0.3446115288220551,
           -0.3734335839598998,
           -0.33458646616541354,
           -0.37969924812030076,
           -0.36842105263157887,
           -0.35463659147869675,
           -0.38345864661654133,
           -0.3684210526315789,
           -0.38095238095238093,
           -0.38095238095238093,
           -0.38721804511278196,
           -0.3696741854636591,
           -0.3809523809523809,
           -0.39348370927318294,
           -0.37719298245614036,
           -0.3746867167919799,
           -0.3659147869674185,
           -0.35463659147869675,
           -0.38596491228070173,
           -0.37593984962406013,
           -0.3746867167919799,
           -0.3746867167919799,
           -0.37969924812030076,
           -0.37719298245614036,
           -0.37092731829573933,
           -0.36967418546365916,
           -0.3771929824561404,
           -0.37593984962406013,
           -0.3809523809523809,
           -0.3972431077694235,
           -0.380952380952381,
           -0.38847117794486213,
           -0.38345864661654133,
           -0.36466165413533835,
           -0.3771929824561404,
           -0.38095238095238093,
           -0.3809523809523809,
           -0.38471177944862156,
           -0.3696741854636591,
           -0.3696741854636592,
           -0.3671679197994987,
           -0.3596491228070175,
           -0.37969924812030076,
           -0.3659147869674186,
           -0.3746867167919799,
           -0.39097744360902253,
           -0.3696741854636592,
           -0.37844611528822053,
           -0.37218045112781956,
           -0.3884711779448622,
           -0.3771929824561404,
           -0.37092731829573933,
           -0.3483709273182957,
           -0.3746867167919799,
           -0.37593984962406013,
           -0.3746867167919799,
           -0.3734335839598998,
           -0.3684210526315789,
           -0.36967418546365916,
           -0.35463659147869675,
           -0.3684210526315789,
           -0.3659147869674185,
           -0.3684210526315789,
           -0.39473684210526316,
           -0.3784461152882206,
           -0.3634085213032582,
           -0.37218045112781956,
           -0.37969924812030076,
           -0.3897243107769423,
           -0.37969924812030076,
           -0.39223057644110276,
           -0.37092731829573933,
           -0.3796992481203007,
           -0.38596491228070173,
           -0.38095238095238093,
           -0.3771929824561403,
           -0.38596491228070173,
           -0.37719298245614036,
           -0.3634085213032581,
           -0.3771929824561403,
           -0.37092731829573933,
           -0.362155388471178,
           -0.3634085213032582,
           -0.3634085213032581,
           -0.37343358395989973,
           -0.38095238095238093,
           -0.36466165413533835,
           -0.3822055137844611,
           -0.362155388471178,
           -0.38471177944862156,
           -0.37593984962406013,
           -0.3684210526315789,
           -0.3634085213032582,
           -0.3771929824561403,
           -0.3483709273182957,
           -0.38095238095238093,
           -0.3696741854636592,
           -0.38095238095238093,
           -0.3859649122807018,
           -0.37218045112781956,
           -0.37218045112781956,
           -0.3734335839598997,
           -0.3734335839598998,
           -0.3533834586466165,
           -0.39097744360902253,
           -0.3809523809523809,
           -0.3734335839598998,
           -0.3609022556390977,
           -0.38095238095238093,
           -0.38721804511278196,
           -0.37593984962406013,
           -0.37593984962406013,
           -0.37969924812030076,
           -0.3583959899749373,
           -0.38471177944862156,
           -0.38471177944862156,
           -0.3659147869674185,
           -0.35714285714285715,
           -0.37969924812030076,
           -0.38345864661654133,
           -0.3859649122807018,
           -0.37218045112781956,
           -0.3771929824561403,
           -0.3884711779448621,
           -0.37969924812030076,
           -0.3809523809523809,
           -0.38095238095238093,
           -0.36967418546365916,
           -0.3759398496240601,
           -0.39348370927318294,
           -0.3822055137844611,
           -0.37218045112781956,
           -0.38596491228070173,
           -0.38095238095238093,
           -0.3533834586466165,
           -0.37468671679197996,
           -0.37969924812030076,
           -0.37343358395989973,
           -0.38095238095238093,
           -0.37844611528822053,
           -0.3746867167919799,
           -0.38596491228070173,
           -0.39097744360902253,
           -0.3696741854636591,
           -0.37593984962406013,
           -0.38847117794486213,
           -0.38721804511278196,
           -0.3746867167919799,
           -0.37218045112781956,
           -0.35463659147869675,
           -0.3759398496240601,
           -0.38721804511278196,
           -0.3659147869674186,
           -0.37719298245614036,
           -0.37844611528822053,
           -0.38345864661654133,
           -0.3784461152882206,
           -0.38847117794486213,
           -0.38596491228070173,
           -0.37218045112781956,
           -0.380952380952381,
           -0.3872180451127819,
           -0.38095238095238093,
           -0.37593984962406013,
           -0.38471177944862156,
           -0.38095238095238093,
           -0.37343358395989973,
           -0.38471177944862156,
           -0.37844611528822053,
           -0.3822055137844611,
           -0.3809523809523809,
           -0.38345864661654133,
           -0.3659147869674185,
           -0.37593984962406013,
           -0.3822055137844611,
           -0.3897243107769423,
           -0.3897243107769423,
           -0.3822055137844611,
           -0.3659147869674185,
           -0.3696741854636592,
           -0.37218045112781956,
           -0.37969924812030076,
           -0.3734335839598997,
           -0.3734335839598998,
           -0.37969924812030076,
           -0.3684210526315789,
           -0.38095238095238093,
           -0.37593984962406013,
           -0.3746867167919799,
           -0.3759398496240601,
           -0.3746867167919799,
           -0.3734335839598997,
           -0.3734335839598998,
           -0.38972431077694236,
           -0.39097744360902253,
           -0.38847117794486213,
           -0.37969924812030076,
           -0.37593984962406013,
           -0.38345864661654133,
           -0.3746867167919799,
           -0.3671679197994987,
           -0.3822055137844611,
           -0.38095238095238093,
           -0.37218045112781956,
           -0.37593984962406013,
           -0.37719298245614036,
           -0.38220551378446116,
           -0.38471177944862156,
           -0.3972431077694235,
           -0.37343358395989973,
           -0.3684210526315789,
           -0.37719298245614036,
           -0.36591478696741847,
           -0.39223057644110276,
           -0.3997493734335839,
           -0.37969924812030076,
           -0.38471177944862156,
           -0.37719298245614036,
           -0.37218045112781956,
           -0.38345864661654133,
           -0.3771929824561404,
           -0.38721804511278196,
           -0.37218045112781956,
           -0.3734335839598998,
           -0.38596491228070173,
           -0.38721804511278196,
           -0.37844611528822053,
           -0.3634085213032581,
           -0.37969924812030076,
           -0.3771929824561403,
           -0.37593984962406013,
           -0.38345864661654133,
           -0.37719298245614036,
           -0.37844611528822053,
           -0.380952380952381,
           -0.380952380952381,
           -0.3684210526315789,
           -0.37092731829573933,
           -0.3897243107769423,
           -0.39097744360902253,
           -0.3847117794486216,
           -0.3897243107769423,
           -0.3684210526315789,
           -0.38596491228070173,
           -0.3822055137844611,
           -0.38847117794486213,
           -0.37593984962406013,
           -0.39097744360902253,
           -0.3684210526315789,
           -0.34962406015037595,
           -0.37969924812030076,
           -0.36466165413533835,
           -0.37343358395989973,
           -0.37719298245614036,
           -0.38095238095238093,
           -0.3809523809523809,
           -0.37218045112781956,
           -0.3771929824561403,
           -0.38345864661654133,
           -0.38471177944862156,
           -0.3847117794486215,
           -0.36466165413533835,
           -0.38721804511278196,
           -0.3671679197994987,
           -0.37844611528822053,
           -0.3872180451127819,
           -0.37593984962406013,
           -0.3771929824561404,
           -0.38471177944862156,
           -0.38721804511278196,
           -0.38721804511278196,
           -0.39097744360902253,
           -0.36967418546365916,
           -0.37468671679197996,
           -0.37969924812030076,
           -0.37218045112781956,
           -0.36967418546365916,
           -0.37468671679197996,
           -0.3822055137844611,
           -0.3822055137844611,
           -0.3659147869674185,
           -0.36466165413533835,
           -0.38220551378446116,
           -0.3696741854636591,
           -0.38471177944862156,
           -0.38471177944862156,
           -0.343358395989975,
           -0.37218045112781956,
           -0.37343358395989973,
           -0.362155388471178,
           -0.36967418546365916,
           -0.3897243107769423,
           -0.3897243107769423,
           -0.38471177944862156,
           -0.38596491228070173,
           -0.3822055137844611,
           -0.3771929824561404,
           -0.37468671679197996,
           -0.3634085213032581,
           -0.37844611528822053,
           -0.3809523809523809,
           -0.3696741854636592,
           -0.3972431077694235,
           -0.3684210526315789,
           -0.3684210526315789,
           -0.36967418546365916,
           -0.3709273182957394,
           -0.3897243107769423,
           -0.38596491228070173,
           -0.38095238095238093,
           -0.37218045112781956,
           -0.3671679197994987,
           -0.3734335839598998,
           -0.3822055137844611,
           -0.37092731829573933,
           -0.3746867167919799,
           -0.37844611528822053,
           -0.37343358395989973,
           -0.3746867167919799,
           -0.37218045112781956,
           -0.3684210526315789,
           -0.38345864661654133,
           -0.380952380952381,
           -0.38345864661654133,
           -0.39598997493734334,
           -0.3809523809523809,
           -0.38345864661654133,
           -0.3822055137844611,
           -0.3558897243107769,
           -0.3746867167919799,
           -0.37218045112781956,
           -0.3659147869674186,
           -0.3684210526315789,
           -0.38345864661654133,
           -0.37092731829573933,
           -0.38095238095238093,
           -0.38095238095238093,
           -0.38095238095238093,
           -0.37719298245614036,
           -0.3696741854636592,
           -0.37218045112781956,
           -0.37719298245614036,
           -0.3684210526315789,
           -0.37719298245614036,
           -0.37218045112781956,
           -0.39473684210526316,
           -0.3822055137844611,
           -0.37844611528822053,
           -0.37844611528822053,
           -0.38095238095238093,
           -0.38596491228070173,
           -0.38471177944862156,
           -0.37969924812030076,
           -0.3671679197994987,
           -0.37844611528822053,
           -0.37218045112781956,
           -0.37593984962406013,
           -0.36466165413533835,
           -0.37844611528822053,
           -0.38345864661654133,
           -0.3959899749373433,
           -0.3822055137844611,
           -0.37092731829573933,
           -0.3809523809523809,
           -0.38095238095238093,
           -0.38721804511278196,
           -0.362155388471178,
           -0.3746867167919799,
           -0.37844611528822053,
           -0.39097744360902253,
           -0.38471177944862156,
           -0.37218045112781956,
           -0.37092731829573933,
           -0.38471177944862156,
           -0.37969924812030076,
           -0.3847117794486216,
           -0.3734335839598998,
           -0.38345864661654133,
           -0.37844611528822053,
           -0.37719298245614036,
           -0.37343358395989973,
           -0.37343358395989973,
           -0.38596491228070173,
           -0.37593984962406013,
           -0.38095238095238093,
           -0.3746867167919799,
           -0.37969924812030076,
           -0.36967418546365916,
           -0.37969924812030076,
           -0.38095238095238093,
           -0.37969924812030076,
           -0.36967418546365916,
           -0.39473684210526316,
           -0.3809523809523809,
           -0.38095238095238093,
           -0.3884711779448621,
           -0.36967418546365916,
           -0.38596491228070173,
           -0.37844611528822053,
           -0.37593984962406013,
           -0.3771929824561404,
           -0.3771929824561404,
           -0.3847117794486216,
           -0.3684210526315789,
           -0.37719298245614036,
           -0.37343358395989973,
           -0.37593984962406013,
           -0.3746867167919799,
           -0.38345864661654133,
           -0.3634085213032581,
           -0.37218045112781956,
           -0.37218045112781956
          ],
          "colorscale": [
           [
            0,
            "rgb(0,0,131)"
           ],
           [
            0.2,
            "rgb(0,60,170)"
           ],
           [
            0.4,
            "rgb(5,255,255)"
           ],
           [
            0.6,
            "rgb(255,255,0)"
           ],
           [
            0.8,
            "rgb(250,0,0)"
           ],
           [
            1,
            "rgb(128,0,0)"
           ]
          ],
          "showscale": true
         },
         "type": "parcoords"
        }
       ],
       "layout": {
        "template": {
         "data": {
          "bar": [
           {
            "error_x": {
             "color": "#2a3f5f"
            },
            "error_y": {
             "color": "#2a3f5f"
            },
            "marker": {
             "line": {
              "color": "#E5ECF6",
              "width": 0.5
             },
             "pattern": {
              "fillmode": "overlay",
              "size": 10,
              "solidity": 0.2
             }
            },
            "type": "bar"
           }
          ],
          "barpolar": [
           {
            "marker": {
             "line": {
              "color": "#E5ECF6",
              "width": 0.5
             },
             "pattern": {
              "fillmode": "overlay",
              "size": 10,
              "solidity": 0.2
             }
            },
            "type": "barpolar"
           }
          ],
          "carpet": [
           {
            "aaxis": {
             "endlinecolor": "#2a3f5f",
             "gridcolor": "white",
             "linecolor": "white",
             "minorgridcolor": "white",
             "startlinecolor": "#2a3f5f"
            },
            "baxis": {
             "endlinecolor": "#2a3f5f",
             "gridcolor": "white",
             "linecolor": "white",
             "minorgridcolor": "white",
             "startlinecolor": "#2a3f5f"
            },
            "type": "carpet"
           }
          ],
          "choropleth": [
           {
            "colorbar": {
             "outlinewidth": 0,
             "ticks": ""
            },
            "type": "choropleth"
           }
          ],
          "contour": [
           {
            "colorbar": {
             "outlinewidth": 0,
             "ticks": ""
            },
            "colorscale": [
             [
              0,
              "#0d0887"
             ],
             [
              0.1111111111111111,
              "#46039f"
             ],
             [
              0.2222222222222222,
              "#7201a8"
             ],
             [
              0.3333333333333333,
              "#9c179e"
             ],
             [
              0.4444444444444444,
              "#bd3786"
             ],
             [
              0.5555555555555556,
              "#d8576b"
             ],
             [
              0.6666666666666666,
              "#ed7953"
             ],
             [
              0.7777777777777778,
              "#fb9f3a"
             ],
             [
              0.8888888888888888,
              "#fdca26"
             ],
             [
              1,
              "#f0f921"
             ]
            ],
            "type": "contour"
           }
          ],
          "contourcarpet": [
           {
            "colorbar": {
             "outlinewidth": 0,
             "ticks": ""
            },
            "type": "contourcarpet"
           }
          ],
          "heatmap": [
           {
            "colorbar": {
             "outlinewidth": 0,
             "ticks": ""
            },
            "colorscale": [
             [
              0,
              "#0d0887"
             ],
             [
              0.1111111111111111,
              "#46039f"
             ],
             [
              0.2222222222222222,
              "#7201a8"
             ],
             [
              0.3333333333333333,
              "#9c179e"
             ],
             [
              0.4444444444444444,
              "#bd3786"
             ],
             [
              0.5555555555555556,
              "#d8576b"
             ],
             [
              0.6666666666666666,
              "#ed7953"
             ],
             [
              0.7777777777777778,
              "#fb9f3a"
             ],
             [
              0.8888888888888888,
              "#fdca26"
             ],
             [
              1,
              "#f0f921"
             ]
            ],
            "type": "heatmap"
           }
          ],
          "heatmapgl": [
           {
            "colorbar": {
             "outlinewidth": 0,
             "ticks": ""
            },
            "colorscale": [
             [
              0,
              "#0d0887"
             ],
             [
              0.1111111111111111,
              "#46039f"
             ],
             [
              0.2222222222222222,
              "#7201a8"
             ],
             [
              0.3333333333333333,
              "#9c179e"
             ],
             [
              0.4444444444444444,
              "#bd3786"
             ],
             [
              0.5555555555555556,
              "#d8576b"
             ],
             [
              0.6666666666666666,
              "#ed7953"
             ],
             [
              0.7777777777777778,
              "#fb9f3a"
             ],
             [
              0.8888888888888888,
              "#fdca26"
             ],
             [
              1,
              "#f0f921"
             ]
            ],
            "type": "heatmapgl"
           }
          ],
          "histogram": [
           {
            "marker": {
             "pattern": {
              "fillmode": "overlay",
              "size": 10,
              "solidity": 0.2
             }
            },
            "type": "histogram"
           }
          ],
          "histogram2d": [
           {
            "colorbar": {
             "outlinewidth": 0,
             "ticks": ""
            },
            "colorscale": [
             [
              0,
              "#0d0887"
             ],
             [
              0.1111111111111111,
              "#46039f"
             ],
             [
              0.2222222222222222,
              "#7201a8"
             ],
             [
              0.3333333333333333,
              "#9c179e"
             ],
             [
              0.4444444444444444,
              "#bd3786"
             ],
             [
              0.5555555555555556,
              "#d8576b"
             ],
             [
              0.6666666666666666,
              "#ed7953"
             ],
             [
              0.7777777777777778,
              "#fb9f3a"
             ],
             [
              0.8888888888888888,
              "#fdca26"
             ],
             [
              1,
              "#f0f921"
             ]
            ],
            "type": "histogram2d"
           }
          ],
          "histogram2dcontour": [
           {
            "colorbar": {
             "outlinewidth": 0,
             "ticks": ""
            },
            "colorscale": [
             [
              0,
              "#0d0887"
             ],
             [
              0.1111111111111111,
              "#46039f"
             ],
             [
              0.2222222222222222,
              "#7201a8"
             ],
             [
              0.3333333333333333,
              "#9c179e"
             ],
             [
              0.4444444444444444,
              "#bd3786"
             ],
             [
              0.5555555555555556,
              "#d8576b"
             ],
             [
              0.6666666666666666,
              "#ed7953"
             ],
             [
              0.7777777777777778,
              "#fb9f3a"
             ],
             [
              0.8888888888888888,
              "#fdca26"
             ],
             [
              1,
              "#f0f921"
             ]
            ],
            "type": "histogram2dcontour"
           }
          ],
          "mesh3d": [
           {
            "colorbar": {
             "outlinewidth": 0,
             "ticks": ""
            },
            "type": "mesh3d"
           }
          ],
          "parcoords": [
           {
            "line": {
             "colorbar": {
              "outlinewidth": 0,
              "ticks": ""
             }
            },
            "type": "parcoords"
           }
          ],
          "pie": [
           {
            "automargin": true,
            "type": "pie"
           }
          ],
          "scatter": [
           {
            "fillpattern": {
             "fillmode": "overlay",
             "size": 10,
             "solidity": 0.2
            },
            "type": "scatter"
           }
          ],
          "scatter3d": [
           {
            "line": {
             "colorbar": {
              "outlinewidth": 0,
              "ticks": ""
             }
            },
            "marker": {
             "colorbar": {
              "outlinewidth": 0,
              "ticks": ""
             }
            },
            "type": "scatter3d"
           }
          ],
          "scattercarpet": [
           {
            "marker": {
             "colorbar": {
              "outlinewidth": 0,
              "ticks": ""
             }
            },
            "type": "scattercarpet"
           }
          ],
          "scattergeo": [
           {
            "marker": {
             "colorbar": {
              "outlinewidth": 0,
              "ticks": ""
             }
            },
            "type": "scattergeo"
           }
          ],
          "scattergl": [
           {
            "marker": {
             "colorbar": {
              "outlinewidth": 0,
              "ticks": ""
             }
            },
            "type": "scattergl"
           }
          ],
          "scattermapbox": [
           {
            "marker": {
             "colorbar": {
              "outlinewidth": 0,
              "ticks": ""
             }
            },
            "type": "scattermapbox"
           }
          ],
          "scatterpolar": [
           {
            "marker": {
             "colorbar": {
              "outlinewidth": 0,
              "ticks": ""
             }
            },
            "type": "scatterpolar"
           }
          ],
          "scatterpolargl": [
           {
            "marker": {
             "colorbar": {
              "outlinewidth": 0,
              "ticks": ""
             }
            },
            "type": "scatterpolargl"
           }
          ],
          "scatterternary": [
           {
            "marker": {
             "colorbar": {
              "outlinewidth": 0,
              "ticks": ""
             }
            },
            "type": "scatterternary"
           }
          ],
          "surface": [
           {
            "colorbar": {
             "outlinewidth": 0,
             "ticks": ""
            },
            "colorscale": [
             [
              0,
              "#0d0887"
             ],
             [
              0.1111111111111111,
              "#46039f"
             ],
             [
              0.2222222222222222,
              "#7201a8"
             ],
             [
              0.3333333333333333,
              "#9c179e"
             ],
             [
              0.4444444444444444,
              "#bd3786"
             ],
             [
              0.5555555555555556,
              "#d8576b"
             ],
             [
              0.6666666666666666,
              "#ed7953"
             ],
             [
              0.7777777777777778,
              "#fb9f3a"
             ],
             [
              0.8888888888888888,
              "#fdca26"
             ],
             [
              1,
              "#f0f921"
             ]
            ],
            "type": "surface"
           }
          ],
          "table": [
           {
            "cells": {
             "fill": {
              "color": "#EBF0F8"
             },
             "line": {
              "color": "white"
             }
            },
            "header": {
             "fill": {
              "color": "#C8D4E3"
             },
             "line": {
              "color": "white"
             }
            },
            "type": "table"
           }
          ]
         },
         "layout": {
          "annotationdefaults": {
           "arrowcolor": "#2a3f5f",
           "arrowhead": 0,
           "arrowwidth": 1
          },
          "autotypenumbers": "strict",
          "coloraxis": {
           "colorbar": {
            "outlinewidth": 0,
            "ticks": ""
           }
          },
          "colorscale": {
           "diverging": [
            [
             0,
             "#8e0152"
            ],
            [
             0.1,
             "#c51b7d"
            ],
            [
             0.2,
             "#de77ae"
            ],
            [
             0.3,
             "#f1b6da"
            ],
            [
             0.4,
             "#fde0ef"
            ],
            [
             0.5,
             "#f7f7f7"
            ],
            [
             0.6,
             "#e6f5d0"
            ],
            [
             0.7,
             "#b8e186"
            ],
            [
             0.8,
             "#7fbc41"
            ],
            [
             0.9,
             "#4d9221"
            ],
            [
             1,
             "#276419"
            ]
           ],
           "sequential": [
            [
             0,
             "#0d0887"
            ],
            [
             0.1111111111111111,
             "#46039f"
            ],
            [
             0.2222222222222222,
             "#7201a8"
            ],
            [
             0.3333333333333333,
             "#9c179e"
            ],
            [
             0.4444444444444444,
             "#bd3786"
            ],
            [
             0.5555555555555556,
             "#d8576b"
            ],
            [
             0.6666666666666666,
             "#ed7953"
            ],
            [
             0.7777777777777778,
             "#fb9f3a"
            ],
            [
             0.8888888888888888,
             "#fdca26"
            ],
            [
             1,
             "#f0f921"
            ]
           ],
           "sequentialminus": [
            [
             0,
             "#0d0887"
            ],
            [
             0.1111111111111111,
             "#46039f"
            ],
            [
             0.2222222222222222,
             "#7201a8"
            ],
            [
             0.3333333333333333,
             "#9c179e"
            ],
            [
             0.4444444444444444,
             "#bd3786"
            ],
            [
             0.5555555555555556,
             "#d8576b"
            ],
            [
             0.6666666666666666,
             "#ed7953"
            ],
            [
             0.7777777777777778,
             "#fb9f3a"
            ],
            [
             0.8888888888888888,
             "#fdca26"
            ],
            [
             1,
             "#f0f921"
            ]
           ]
          },
          "colorway": [
           "#636efa",
           "#EF553B",
           "#00cc96",
           "#ab63fa",
           "#FFA15A",
           "#19d3f3",
           "#FF6692",
           "#B6E880",
           "#FF97FF",
           "#FECB52"
          ],
          "font": {
           "color": "#2a3f5f"
          },
          "geo": {
           "bgcolor": "white",
           "lakecolor": "white",
           "landcolor": "#E5ECF6",
           "showlakes": true,
           "showland": true,
           "subunitcolor": "white"
          },
          "hoverlabel": {
           "align": "left"
          },
          "hovermode": "closest",
          "mapbox": {
           "style": "light"
          },
          "paper_bgcolor": "white",
          "plot_bgcolor": "#E5ECF6",
          "polar": {
           "angularaxis": {
            "gridcolor": "white",
            "linecolor": "white",
            "ticks": ""
           },
           "bgcolor": "#E5ECF6",
           "radialaxis": {
            "gridcolor": "white",
            "linecolor": "white",
            "ticks": ""
           }
          },
          "scene": {
           "xaxis": {
            "backgroundcolor": "#E5ECF6",
            "gridcolor": "white",
            "gridwidth": 2,
            "linecolor": "white",
            "showbackground": true,
            "ticks": "",
            "zerolinecolor": "white"
           },
           "yaxis": {
            "backgroundcolor": "#E5ECF6",
            "gridcolor": "white",
            "gridwidth": 2,
            "linecolor": "white",
            "showbackground": true,
            "ticks": "",
            "zerolinecolor": "white"
           },
           "zaxis": {
            "backgroundcolor": "#E5ECF6",
            "gridcolor": "white",
            "gridwidth": 2,
            "linecolor": "white",
            "showbackground": true,
            "ticks": "",
            "zerolinecolor": "white"
           }
          },
          "shapedefaults": {
           "line": {
            "color": "#2a3f5f"
           }
          },
          "ternary": {
           "aaxis": {
            "gridcolor": "white",
            "linecolor": "white",
            "ticks": ""
           },
           "baxis": {
            "gridcolor": "white",
            "linecolor": "white",
            "ticks": ""
           },
           "bgcolor": "#E5ECF6",
           "caxis": {
            "gridcolor": "white",
            "linecolor": "white",
            "ticks": ""
           }
          },
          "title": {
           "x": 0.05
          },
          "xaxis": {
           "automargin": true,
           "gridcolor": "white",
           "linecolor": "white",
           "ticks": "",
           "title": {
            "standoff": 15
           },
           "zerolinecolor": "white",
           "zerolinewidth": 2
          },
          "yaxis": {
           "automargin": true,
           "gridcolor": "white",
           "linecolor": "white",
           "ticks": "",
           "title": {
            "standoff": 15
           },
           "zerolinecolor": "white",
           "zerolinewidth": 2
          }
         }
        }
       }
      }
     },
     "metadata": {},
     "output_type": "display_data"
    }
   ],
   "source": [
    "spot_tuner.parallel_plot()"
   ]
  },
  {
   "attachments": {},
   "cell_type": "markdown",
   "metadata": {},
   "source": [
    "## Plot all Combinations of Hyperparameters\n",
    "\n",
    "* Warning: this may take a while."
   ]
  },
  {
   "cell_type": "code",
   "execution_count": 50,
   "metadata": {},
   "outputs": [],
   "source": [
    "PLOT_ALL = False\n",
    "if PLOT_ALL:\n",
    "    n = spot_tuner.k\n",
    "    for i in range(n-1):\n",
    "        for j in range(i+1, n):\n",
    "            spot_tuner.plot_contour(i=i, j=j, min_z=min_z, max_z = max_z)"
   ]
  }
 ],
 "metadata": {
  "kernelspec": {
   "display_name": "spotCondaEnv",
   "language": "python",
   "name": "python3"
  },
  "language_info": {
   "codemirror_mode": {
    "name": "ipython",
    "version": 3
   },
   "file_extension": ".py",
   "mimetype": "text/x-python",
   "name": "python",
   "nbconvert_exporter": "python",
   "pygments_lexer": "ipython3",
   "version": "3.10.11"
  },
  "vscode": {
   "interpreter": {
    "hash": "81c77de872def749acd68d9955e19f0df6803301f4c1f66c3444af66334112ae"
   }
  }
 },
 "nbformat": 4,
 "nbformat_minor": 4
}
