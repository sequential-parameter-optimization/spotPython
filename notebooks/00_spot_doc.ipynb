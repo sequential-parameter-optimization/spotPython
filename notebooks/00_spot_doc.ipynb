{
 "cells": [
  {
   "cell_type": "raw",
   "metadata": {},
   "source": [
    "---\n",
    "title: \"SPOT Documentation\"\n",
    "format: html\n",
    "---"
   ]
  },
  {
   "attachments": {},
   "cell_type": "markdown",
   "metadata": {},
   "source": [
    "# Documentation of the Sequential Parameter Optimization"
   ]
  },
  {
   "attachments": {},
   "cell_type": "markdown",
   "metadata": {},
   "source": [
    "* This document describes the `Spot` features."
   ]
  },
  {
   "cell_type": "markdown",
   "metadata": {},
   "source": [
    "## Example: spot"
   ]
  },
  {
   "cell_type": "code",
   "execution_count": 1,
   "metadata": {},
   "outputs": [],
   "source": [
    "import numpy as np\n",
    "from math import inf\n",
    "from spotPython.fun.objectivefunctions import analytical\n",
    "from spotPython.spot import spot\n",
    "from scipy.optimize import shgo\n",
    "from scipy.optimize import direct\n",
    "from scipy.optimize import differential_evolution\n",
    "import matplotlib.pyplot as plt"
   ]
  },
  {
   "attachments": {},
   "cell_type": "markdown",
   "metadata": {},
   "source": [
    "### The Objective Function\n",
    "\n",
    "* The `spotPython` package provides several classes of objective functions.\n",
    "* We will use an analytical objective function, i.e., a function that can be described by a (closed) formula:\n",
    "   $$f(x) = x^2$$"
   ]
  },
  {
   "cell_type": "code",
   "execution_count": 2,
   "metadata": {},
   "outputs": [],
   "source": [
    "fun = analytical().fun_sphere"
   ]
  },
  {
   "cell_type": "code",
   "execution_count": 3,
   "metadata": {},
   "outputs": [
    {
     "data": {
      "image/png": "[encoded data removed]",
      "text/plain": [
       "<Figure size 640x480 with 1 Axes>"
      ]
     },
     "metadata": {},
     "output_type": "display_data"
    }
   ],
   "source": [
    "x = np.linspace(-1,1,100).reshape(-1,1)\n",
    "y = fun(x)\n",
    "plt.figure()\n",
    "plt.plot(x,y, \"k\")\n",
    "plt.show()"
   ]
  },
  {
   "cell_type": "code",
   "execution_count": 4,
   "metadata": {},
   "outputs": [],
   "source": [
    "spot_1 = spot.Spot(fun=fun,\n",
    "                   lower = np.array([-10]),\n",
    "                   upper = np.array([100]),\n",
    "                   fun_evals = 7,\n",
    "                   fun_repeats = 1,\n",
    "                   max_time = inf,\n",
    "                   noise = False,\n",
    "                   tolerance_x = np.sqrt(np.spacing(1)),\n",
    "                   var_type=[\"num\"],\n",
    "                   infill_criterion = \"y\",\n",
    "                   n_points = 1,\n",
    "                   seed=123,\n",
    "                   log_level = 50,\n",
    "                   show_models=True,\n",
    "                   fun_control = {},\n",
    "                   design_control={\"init_size\": 5,\n",
    "                                   \"repeats\": 1},\n",
    "                   surrogate_control={\"noise\": False,\n",
    "                                      \"cod_type\": \"norm\",\n",
    "                                      \"min_theta\": -4,\n",
    "                                      \"max_theta\": 3,\n",
    "                                      \"n_theta\": 1,\n",
    "                                      \"model_optimizer\": differential_evolution,\n",
    "                                      \"model_fun_evals\": 1000,\n",
    "                                      })"
   ]
  },
  {
   "attachments": {},
   "cell_type": "markdown",
   "metadata": {},
   "source": [
    "* `spot`'s  `__init__` method sets the control parameters. There are two parameter groups:\n",
    "\n",
    "1. external parameters can be specified by the user\n",
    "2. internal parameters, which are handled by `spot`.\n",
    "\n",
    "\n",
    "### External Parameters\n",
    "\n",
    "|external parameter| type | description | default | mandatory |\n",
    "| -- | -- | -- |-- |-- |\n",
    "| `fun` | object |objective function | | yes |\n",
    "| `lower` | array | lower bound | | yes |\n",
    "| `upper` | array | upper bound | | yes |\n",
    "| `fun_evals`| int | number of function evaluations | 15 | no |\n",
    "| `fun_evals`| int | number of function evaluations | 15 | no |\n",
    "| `fun_control` | dict | noise etc. | {} | n |\n",
    "| `max_time` | int | max run time budget | `inf` | no |\n",
    "| `noise`| bool | if repeated evaluations of `fun` results in different values, then `noise` should be set to `True`. | `False`| no|\n",
    "| `tolerance_x`| float | tolerance for new x solutions. Minimum distance of new solutions, generated by `suggest_new_X`, to already existing solutions. If zero (which is the default), every new solution is accepted. | `0` | no|\n",
    "| `var_type` | list | list of type information, can be either `\"num\"` or `\"factor\"` | `[\"num\"]` | no |\n",
    "| `infill_criterion`| string | Can be `\"y\"`, `\"s\"`, `\"ei\"` (negative expected improvement), or `\"all\"`| `\"y\"` | no|\n",
    "| `n_points`| int | number of infill points | 1 | no |\n",
    "| `seed` | int | initial seed. If `Spot.run()` is called twice, different results will be generated. To reproduce results, the `seed` can be used. | `123` | no |\n",
    "| `log_level`| int | log level with the following settings: `NOTSET` (`0`), `DEBUG` (`10`: Detailed information, typically of interest only when diagnosing problems.), `INFO` (`20`: Confirmation that things are working as expected.), `WARNING` (`30`: An indication that something unexpected happened, or indicative of some problem in the near future (e.g. ‘disk space low’). The software is still working as expected.), `ERROR` (`40`: Due to a more serious problem, the software has not been able to perform some function.), and `CRITICAL` (`50`: A serious error, indicating that the program itself may be unable to continue running.)| `50` | no |\n",
    "| `show_models` | bool | Plot model. Currently only 1-dim functions are supported | `False` | no|\n",
    "| `design`| object | experimental design | `None` | no |\n",
    "| `design_control` | dict | control parameters | see below | no|\n",
    "| `surrogate` | | surrogate model | `kriging` | no |\n",
    "| `surrogate_control` | dict | control parameters | see below | no|\n",
    "| `optimizer` | object | optimizer | see below | no|\n",
    "| `optimizer_control` | dict | control parameters | see below | no|\n",
    "\n",
    "* Besides these single parameters, the following parameter dictionaries can be specified by the user:\n",
    "  * `fun_control`\n",
    "  * `design_control`\n",
    "  * `surrogate_control`\n",
    "  * `optimizer_control`"
   ]
  },
  {
   "attachments": {},
   "cell_type": "markdown",
   "metadata": {},
   "source": [
    "## The `fun_control` Dictionary\n",
    "\n",
    "|external parameter| type | description | default | mandatory |\n",
    "| -- | -- | -- |-- |-- |\n",
    "| `sigma` | float | noise: standard deviation | `0` | yes |\n",
    "| `seed` | int | seed for rng | `124` | yes |\n"
   ]
  },
  {
   "attachments": {},
   "cell_type": "markdown",
   "metadata": {},
   "source": [
    "## The `design_control` Dictionary\n",
    "\n",
    "|external parameter| type | description | default | mandatory |\n",
    "| -- | -- | -- |-- |-- |\n",
    "| `init_size` | int | initial sample size | `10` | yes |\n",
    "| `repeats` | int | number of repeats of the initial sammples | `1` | yes |\n"
   ]
  },
  {
   "attachments": {},
   "cell_type": "markdown",
   "metadata": {},
   "source": [
    "## The `surrogate_control` Dictionary\n",
    "\n",
    "|external parameter| type | description | default | mandatory |\n",
    "| -- | -- | -- |-- |-- |\n",
    "| `noise`\n",
    "| `model_optimizer` | object | optimizer | `differential_evolution` | no |\n",
    "| `model_fun_evals` | | | | |\n",
    "| `min_theta` | | | `-3.`| |\n",
    "| `max_theta` | | | `3.` | |\n",
    "| `n_theta`   | | | `1` | |\n",
    "| `n_p`       | | | `1` | | \n",
    "| `optim_p`   | | | `False` | |\n",
    "| `cod_type`  | | | `\"norm\"` | |\n",
    "| `var_type`  | | | | |\n",
    "| `use_cod_y` | bool | |`False`| |"
   ]
  },
  {
   "attachments": {},
   "cell_type": "markdown",
   "metadata": {},
   "source": [
    "## The `optimizer_control` Dictionary\n",
    "\n",
    "|external parameter| type | description | default | mandatory |\n",
    "| -- | -- | -- |-- |-- |\n",
    "| `max_iter` | int | max number of iterations. Note: these are the cheap evaluations on the surrogate. | `1000` | no |"
   ]
  },
  {
   "attachments": {},
   "cell_type": "markdown",
   "metadata": {},
   "source": [
    "## Run"
   ]
  },
  {
   "cell_type": "code",
   "execution_count": 5,
   "metadata": {},
   "outputs": [
    {
     "data": {
      "image/png": "[encoded data removed]",
      "text/plain": [
       "<Figure size 640x480 with 1 Axes>"
      ]
     },
     "metadata": {},
     "output_type": "display_data"
    },
    {
     "data": {
      "image/png": "[encoded data removed]",
      "text/plain": [
       "<Figure size 640x480 with 1 Axes>"
      ]
     },
     "metadata": {},
     "output_type": "display_data"
    },
    {
     "data": {
      "image/png": "[encoded data removed]",
      "text/plain": [
       "<Figure size 640x480 with 1 Axes>"
      ]
     },
     "metadata": {},
     "output_type": "display_data"
    },
    {
     "data": {
      "text/plain": [
       "<spotPython.spot.spot.Spot at 0x299493d00>"
      ]
     },
     "execution_count": 5,
     "metadata": {},
     "output_type": "execute_result"
    }
   ],
   "source": [
    "spot_1.run()"
   ]
  },
  {
   "attachments": {},
   "cell_type": "markdown",
   "metadata": {},
   "source": [
    "## Print the Results"
   ]
  },
  {
   "cell_type": "code",
   "execution_count": 6,
   "metadata": {},
   "outputs": [
    {
     "name": "stdout",
     "output_type": "stream",
     "text": [
      "min y: 0.30656551286610595\n",
      "x0: -0.5536835855126157\n"
     ]
    },
    {
     "data": {
      "text/plain": [
       "[['x0', -0.5536835855126157]]"
      ]
     },
     "execution_count": 6,
     "metadata": {},
     "output_type": "execute_result"
    }
   ],
   "source": [
    "spot_1.print_results()"
   ]
  },
  {
   "attachments": {},
   "cell_type": "markdown",
   "metadata": {},
   "source": [
    "## Show the Progress"
   ]
  },
  {
   "cell_type": "code",
   "execution_count": 7,
   "metadata": {},
   "outputs": [
    {
     "data": {
      "image/png": "[encoded data removed]",
      "text/plain": [
       "<Figure size 900x600 with 1 Axes>"
      ]
     },
     "metadata": {},
     "output_type": "display_data"
    }
   ],
   "source": [
    "spot_1.plot_progress()"
   ]
  },
  {
   "attachments": {},
   "cell_type": "markdown",
   "metadata": {},
   "source": [
    "## Visualize the Surrogate"
   ]
  },
  {
   "attachments": {},
   "cell_type": "markdown",
   "metadata": {},
   "source": [
    "* The plot method of the `kriging` surrogate is used.\n",
    "* Note: the plot uses the interval defined by the ranges of the natural variables."
   ]
  },
  {
   "cell_type": "code",
   "execution_count": 8,
   "metadata": {},
   "outputs": [
    {
     "data": {
      "text/plain": [
       "<Figure size 900x600 with 0 Axes>"
      ]
     },
     "metadata": {},
     "output_type": "display_data"
    },
    {
     "data": {
      "image/png": "[encoded data removed]",
      "text/plain": [
       "<Figure size 640x480 with 1 Axes>"
      ]
     },
     "metadata": {},
     "output_type": "display_data"
    }
   ],
   "source": [
    "spot_1.surrogate.plot()"
   ]
  },
  {
   "cell_type": "markdown",
   "metadata": {},
   "source": [
    "## 1. Init: Build Initial Design"
   ]
  },
  {
   "cell_type": "code",
   "execution_count": 9,
   "metadata": {},
   "outputs": [
    {
     "name": "stdout",
     "output_type": "stream",
     "text": [
      "[[ 8.97647221 13.41926847]\n",
      " [ 0.66946019  1.22344228]\n",
      " [ 5.23614115 13.78185824]\n",
      " [ 5.6149825  11.5851384 ]\n",
      " [-1.72963184  1.66516096]\n",
      " [-4.26945568  7.1325531 ]\n",
      " [ 1.26363761 10.17935555]\n",
      " [ 2.88779942  8.05508969]\n",
      " [-3.39111089  4.15213772]\n",
      " [ 7.30131231  5.22275244]]\n",
      "[128.95676449  31.73474356 172.89678121 126.71295908  64.34349975\n",
      "  70.16178611  48.71407916  31.77322887  76.91788181  30.69410529]\n"
     ]
    }
   ],
   "source": [
    "from spotPython.design.spacefilling import spacefilling\n",
    "from spotPython.build.kriging import Kriging\n",
    "from spotPython.fun.objectivefunctions import analytical\n",
    "gen = spacefilling(2)\n",
    "rng = np.random.RandomState(1)\n",
    "lower = np.array([-5,-0])\n",
    "upper = np.array([10,15])\n",
    "fun = analytical().fun_branin\n",
    "fun_control = {\"sigma\": 0,\n",
    "               \"seed\": 123}\n",
    "\n",
    "X = gen.scipy_lhd(10, lower=lower, upper = upper)\n",
    "print(X)\n",
    "y = fun(X, fun_control=fun_control)\n",
    "print(y)"
   ]
  },
  {
   "attachments": {},
   "cell_type": "markdown",
   "metadata": {},
   "source": [
    "## Replicability\n",
    "\n",
    "* Seed"
   ]
  },
  {
   "cell_type": "code",
   "execution_count": 10,
   "metadata": {},
   "outputs": [
    {
     "data": {
      "text/plain": [
       "(array([[0.77254938, 0.31539299],\n",
       "        [0.59321338, 0.93854273],\n",
       "        [0.27469803, 0.3959685 ]]),\n",
       " array([[0.78373509, 0.86811887],\n",
       "        [0.06692621, 0.6058029 ],\n",
       "        [0.41374778, 0.00525456]]),\n",
       " array([[0.121357  , 0.69043832],\n",
       "        [0.41906219, 0.32838498],\n",
       "        [0.86742658, 0.52910374]]),\n",
       " array([[0.77254938, 0.31539299],\n",
       "        [0.59321338, 0.93854273],\n",
       "        [0.27469803, 0.3959685 ]]))"
      ]
     },
     "execution_count": 10,
     "metadata": {},
     "output_type": "execute_result"
    }
   ],
   "source": [
    "gen = spacefilling(2, seed=123)\n",
    "X0 = gen.scipy_lhd(3)\n",
    "gen = spacefilling(2, seed=345)\n",
    "X1 = gen.scipy_lhd(3)\n",
    "X2 = gen.scipy_lhd(3)\n",
    "gen = spacefilling(2, seed=123)\n",
    "X3 = gen.scipy_lhd(3)\n",
    "X0, X1, X2, X3"
   ]
  },
  {
   "attachments": {},
   "cell_type": "markdown",
   "metadata": {},
   "source": [
    "## Surrogates"
   ]
  },
  {
   "cell_type": "markdown",
   "metadata": {},
   "source": [
    "### A Simple Predictor\n",
    "\n",
    "The code below shows how to use a simple model for prediction.\n",
    "\n",
    "* Assume that only two (very costly) measurements are available:\n",
    "  \n",
    "  1. f(0) = 0.5\n",
    "  2. f(2) = 2.5\n",
    "\n",
    "* We are interested in the value at $x_0 = 1$, i.e., $f(x_0 = 1)$, but cannot run an additional, third experiment."
   ]
  },
  {
   "cell_type": "code",
   "execution_count": 11,
   "metadata": {},
   "outputs": [
    {
     "name": "stdout",
     "output_type": "stream",
     "text": [
      "[1.5]\n"
     ]
    }
   ],
   "source": [
    "from sklearn import linear_model\n",
    "X = np.array([[0], [2]])\n",
    "y = np.array([0.5, 2.5])\n",
    "S_lm = linear_model.LinearRegression()\n",
    "S_lm = S_lm.fit(X, y)\n",
    "X0 = np.array([[1]])\n",
    "y0 = S_lm.predict(X0)\n",
    "print(y0)\n"
   ]
  },
  {
   "cell_type": "markdown",
   "metadata": {},
   "source": [
    "* Central Idea:\n",
    "  * Evaluation of the surrogate model `S_lm` is much cheaper (or / and much faster) than running the real-world experiment $f$."
   ]
  },
  {
   "cell_type": "markdown",
   "metadata": {},
   "source": []
  },
  {
   "attachments": {},
   "cell_type": "markdown",
   "metadata": {},
   "source": [
    "## Demo/Test: Objective Function Fails"
   ]
  },
  {
   "attachments": {},
   "cell_type": "markdown",
   "metadata": {},
   "source": [
    "* SPOT expects `np.nan` values from failed objective function values.\n",
    "* These are handled.\n",
    "* Note: SPOT's counter considers only successful executions of the objective function."
   ]
  },
  {
   "cell_type": "code",
   "execution_count": 12,
   "metadata": {},
   "outputs": [
    {
     "name": "stdout",
     "output_type": "stream",
     "text": [
      "[ 0.53176481 -0.9053821  -0.02203599 -0.21843718  0.78240941 -0.58120945\n",
      "         nan  0.67234256  0.31802454 -0.68898927 -0.75129705  0.97550354\n",
      "  0.41757584  0.0786237          nan  0.23700598 -0.49274073 -0.82319082\n",
      " -0.17991251  0.1481835 ]\n",
      "[-1.]\n",
      "[0.95541987]\n",
      "[0.17335968]\n",
      "[-0.58552368]\n",
      "[-0.20126111]\n",
      "[-0.60100809]\n",
      "[-0.97897336]\n",
      "[nan]\n",
      "[-0.2748985]\n",
      "[0.8359486]\n",
      "[0.99035591]\n",
      "[0.01641232]\n",
      "[0.5629346]\n"
     ]
    }
   ],
   "source": [
    "import numpy as np\n",
    "from spotPython.fun.objectivefunctions import analytical\n",
    "from spotPython.spot import spot\n",
    "import numpy as np\n",
    "from math import inf\n",
    "# number of initial points:\n",
    "ni = 20\n",
    "# number of points\n",
    "n = 30\n",
    "\n",
    "fun = analytical().fun_random_error\n",
    "lower = np.array([-1])\n",
    "upper = np.array([1])\n",
    "design_control={\"init_size\": ni}\n",
    "\n",
    "spot_1 = spot.Spot(fun=fun,\n",
    "            lower = lower,\n",
    "            upper= upper,\n",
    "            fun_evals = n,\n",
    "            show_progress=False,\n",
    "            design_control=design_control,)\n",
    "spot_1.run()\n",
    "# To check whether the run was successfully completed,\n",
    "# we compare the number of evaluated points to the specified\n",
    "# number of points.\n",
    "assert spot_1.y.shape[0] == n\n"
   ]
  },
  {
   "attachments": {},
   "cell_type": "markdown",
   "metadata": {},
   "source": [
    "# Tests and Experiments"
   ]
  },
  {
   "cell_type": "code",
   "execution_count": 13,
   "metadata": {},
   "outputs": [],
   "source": [
    "def one_hot_encode(strings):\n",
    "    # unique_strings = sorted(set(strings))\n",
    "    n = len(strings)\n",
    "    encoding_dict = {}\n",
    "    for i, string in enumerate(strings):\n",
    "        one_hot_encoded_value = [0] * n\n",
    "        one_hot_encoded_value[i] = 1\n",
    "        encoding_dict[string] = one_hot_encoded_value\n",
    "    return encoding_dict"
   ]
  },
  {
   "cell_type": "code",
   "execution_count": 14,
   "metadata": {},
   "outputs": [
    {
     "data": {
      "text/plain": [
       "{'gini': [1, 0, 0], 'info_gain': [0, 1, 0], 'hellinger': [0, 0, 1]}"
      ]
     },
     "execution_count": 14,
     "metadata": {},
     "output_type": "execute_result"
    }
   ],
   "source": [
    "res_dict = one_hot_encode([\"gini\", \"info_gain\", \"hellinger\"])\n",
    "res_dict"
   ]
  },
  {
   "cell_type": "code",
   "execution_count": 15,
   "metadata": {},
   "outputs": [],
   "source": [
    "def sum_encoded_values_2(strings, encoding_dict):\n",
    "    result = [0] * len(list(encoding_dict.values())[0])\n",
    "    for string in strings:\n",
    "        encoded_value = encoding_dict.get(string)\n",
    "        if encoded_value:\n",
    "            result = [sum(x) for x in zip(result, encoded_value)]\n",
    "    return result"
   ]
  },
  {
   "cell_type": "code",
   "execution_count": 16,
   "metadata": {},
   "outputs": [
    {
     "data": {
      "text/plain": [
       "[0, 0, 0]"
      ]
     },
     "execution_count": 16,
     "metadata": {},
     "output_type": "execute_result"
    }
   ],
   "source": [
    "sum_encoded_values_2([\"a\", \"b\"], res_dict)"
   ]
  },
  {
   "cell_type": "code",
   "execution_count": 17,
   "metadata": {},
   "outputs": [],
   "source": [
    "def sum_encoded_values(strings, encoding_dict):\n",
    "    result = [0] * len(list(encoding_dict.values())[0])\n",
    "    for string in strings:\n",
    "        encoded_value = encoding_dict.get(string)\n",
    "        if encoded_value:\n",
    "            result = [sum(x) for x in zip(result, encoded_value)]\n",
    "    decimal_result = 0\n",
    "    for i, value in enumerate(result[::-1]):\n",
    "        decimal_result += value * (2 ** i)\n",
    "    return decimal_result"
   ]
  },
  {
   "cell_type": "code",
   "execution_count": 18,
   "metadata": {},
   "outputs": [
    {
     "data": {
      "text/plain": [
       "0"
      ]
     },
     "execution_count": 18,
     "metadata": {},
     "output_type": "execute_result"
    }
   ],
   "source": [
    "sum_encoded_values([\"a\", \"b\"], res_dict)"
   ]
  },
  {
   "cell_type": "code",
   "execution_count": 19,
   "metadata": {},
   "outputs": [],
   "source": [
    "def find_closest_key(integer_value, encoding_dict):\n",
    "    binary_value = [int(x) for x in format(integer_value, f'0{len(list(encoding_dict.values())[0])}b')]\n",
    "    min_distance = float('inf')\n",
    "    closest_key = None\n",
    "    for key, encoded_value in encoding_dict.items():\n",
    "        distance = sum([x != y for x, y in zip(binary_value, encoded_value)])\n",
    "        if distance < min_distance:\n",
    "            min_distance = distance\n",
    "            closest_key = key\n",
    "    return closest_key"
   ]
  },
  {
   "cell_type": "code",
   "execution_count": 20,
   "metadata": {},
   "outputs": [
    {
     "data": {
      "text/plain": [
       "'info_gain'"
      ]
     },
     "execution_count": 20,
     "metadata": {},
     "output_type": "execute_result"
    }
   ],
   "source": [
    "res = find_closest_key(3, res_dict)\n",
    "res"
   ]
  },
  {
   "cell_type": "code",
   "execution_count": 21,
   "metadata": {},
   "outputs": [
    {
     "data": {
      "text/plain": [
       "0"
      ]
     },
     "execution_count": 21,
     "metadata": {},
     "output_type": "execute_result"
    }
   ],
   "source": [
    "sum_encoded_values(res, res_dict)"
   ]
  },
  {
   "cell_type": "code",
   "execution_count": 22,
   "metadata": {},
   "outputs": [],
   "source": [
    "from spotPython.utils.convert import class_for_name\n",
    "shgo_class = class_for_name(\"scipy.optimize\", \"shgo\")"
   ]
  },
  {
   "cell_type": "code",
   "execution_count": 23,
   "metadata": {},
   "outputs": [
    {
     "data": {
      "text/plain": [
       " message: Optimization terminated successfully.\n",
       " success: True\n",
       "     fun: 2.920392374190081e-18\n",
       "    funl: [ 2.920e-18]\n",
       "       x: [ 1.000e+00  1.000e+00  1.000e+00  1.000e+00  1.000e+00]\n",
       "      xl: [[ 1.000e+00  1.000e+00  1.000e+00  1.000e+00  1.000e+00]]\n",
       "     nit: 2\n",
       "    nfev: 50\n",
       "   nlfev: 17\n",
       "   nljev: 1\n",
       "   nlhev: 0"
      ]
     },
     "execution_count": 23,
     "metadata": {},
     "output_type": "execute_result"
    }
   ],
   "source": [
    "import numpy as np\n",
    "from scipy.optimize import rosen\n",
    "bounds = [(0,2), (0, 2), (0, 2), (0, 2), (0, 2)]\n",
    "shgo_class(rosen, bounds)"
   ]
  },
  {
   "attachments": {},
   "cell_type": "markdown",
   "metadata": {},
   "source": [
    "# Tests"
   ]
  },
  {
   "cell_type": "code",
   "execution_count": 24,
   "metadata": {},
   "outputs": [],
   "source": [
    "from spotPython.fun.objectivefunctions import analytical\n",
    "from spotPython.design.factorial import factorial\n",
    "from spotPython.build.kriging import Kriging\n",
    "import numpy as np\n",
    "\n",
    "gen = factorial(3)\n",
    "rng = np.random.RandomState(1)\n",
    "lower = np.array([-1,-1])\n",
    "upper = np.array([0,0])\n",
    "fun = analytical().fun_linear\n",
    "X = gen.full_factorial(3)\n",
    "X = 10*X\n",
    "y = fun(X)\n",
    "\n",
    "S = Kriging(name='kriging',  seed=123)\n",
    "S.fit(X,y)\n",
    "X2 = 2*X\n",
    "\n",
    "Y = np.empty_like(X2)\n",
    "T = np.empty_like(X2)\n",
    "for i in range(S.n):\n",
    "    T[i] = S.nat_to_cod_x(X2[i])\n",
    "    Y[i] = S.cod_to_nat_x(T[i])"
   ]
  },
  {
   "cell_type": "code",
   "execution_count": 25,
   "metadata": {},
   "outputs": [],
   "source": [
    "def fit(self, nat_X, nat_y):\n",
    "    self.nat_X = copy.deepcopy(nat_X)\n",
    "    self.nat_y = copy.deepcopy(nat_y)\n",
    "    self.n = self.nat_X.shape[0]\n",
    "    self.k = self.nat_X.shape[1]\n",
    "    self.cod_X = empty_like(self.nat_X)\n",
    "    self.cod_y = empty_like(self.nat_y)\n",
    "    if len(self.var_type) < self.k:\n",
    "        self.var_type = self.var_type * self.k\n",
    "        logger.warning(\"Warning: All variable types forced to 'num'.\")\n",
    "    self.num_mask = array(list(map(lambda x: x == \"num\", self.var_type)))\n",
    "    self.factor_mask = array(list(map(lambda x: x == \"factor\", self.var_type)))\n",
    "    self.int_mask = array(list(map(lambda x: x == \"int\", self.var_type)))\n",
    "    self.ordered_mask = array(list(map(lambda x: x == \"int\" or x == \"num\" or x == \"float\", self.var_type)))\n",
    "    self.nat_to_cod_init()\n",
    "    if self.n_theta > self.k:\n",
    "        self.n_theta = self.k\n",
    "        logger.warning(\"More theta values than dimensions. `n_theta` set to `k`.\")\n",
    "    self.theta = zeros(self.n_theta)\n",
    "    self.x0_theta = ones((self.n_theta,)) * self.n / (100 * self.k)\n",
    "    self.p = ones(self.n_p) * 2.0\n",
    "    self.pen_val = self.n * log(var(self.nat_y)) + 1e4\n",
    "    self.negLnLike = None\n",
    "    self.gen = spacefilling(k=self.k, seed=self.seed)\n",
    "    self.LnDetPsi = None\n",
    "    self.Psi = zeros((self.n, self.n), dtype=float64)\n",
    "    self.psi = zeros((self.n, 1))\n",
    "    self.one = ones(self.n)\n",
    "    self.mu = None\n",
    "    self.U = None\n",
    "    self.SigmaSqr = None\n",
    "    self.Lambda = None\n",
    "    self.set_de_bounds()\n",
    "    new_theta_p_Lambda = self.optimize_model()\n",
    "    self.extract_from_bounds(new_theta_p_Lambda)\n",
    "    self.build_Psi()\n",
    "    self.build_U()\n",
    "    self.likelihood()\n",
    "    self.update_log()"
   ]
  },
  {
   "attachments": {},
   "cell_type": "markdown",
   "metadata": {},
   "source": [
    "## Test return_conf_list_from_var_dict"
   ]
  },
  {
   "cell_type": "code",
   "execution_count": 26,
   "metadata": {},
   "outputs": [],
   "source": [
    "import numpy as np\n",
    "from spotPython.hyperparameters.values import (\n",
    "    return_conf_list_from_var_dict,\n",
    "    add_core_model_to_fun_control,\n",
    "    get_var_name,\n",
    "    get_var_type,\n",
    "    assign_values,\n",
    ")\n",
    "from river.tree import HoeffdingAdaptiveTreeRegressor\n",
    "from spotRiver.data.river_hyper_dict import RiverHyperDict\n",
    "\n",
    "fun_control = {}\n",
    "core_model  = HoeffdingAdaptiveTreeRegressor\n",
    "fun_control = add_core_model_to_fun_control(core_model=core_model,\n",
    "                              fun_control=fun_control,\n",
    "                              hyper_dict=RiverHyperDict,\n",
    "                              filename=None)\n",
    "var_type = get_var_type(fun_control)\n",
    "var_name = get_var_name(fun_control)\n",
    "fun_control.update({\"var_type\": var_type,\n",
    "                    \"var_name\": var_name})"
   ]
  },
  {
   "cell_type": "code",
   "execution_count": 27,
   "metadata": {},
   "outputs": [
    {
     "data": {
      "text/plain": [
       "{'grace_period': 758,\n",
       " 'max_depth': 524288,\n",
       " 'delta': 1e-06,\n",
       " 'tau': 0.1,\n",
       " 'leaf_prediction': 'model',\n",
       " 'leaf_model': LinearRegression (\n",
       "   optimizer=SGD (\n",
       "     lr=Constant (\n",
       "       learning_rate=0.01\n",
       "     )\n",
       "   )\n",
       "   loss=Squared ()\n",
       "   l2=0.\n",
       "   l1=0.\n",
       "   intercept_init=0.\n",
       "   intercept_lr=Constant (\n",
       "     learning_rate=0.01\n",
       "   )\n",
       "   clip_gradient=1e+12\n",
       "   initializer=Zeros ()\n",
       " ),\n",
       " 'model_selector_decay': 0.9,\n",
       " 'splitter': TEBSTSplitter (\n",
       "   digits=1\n",
       " ),\n",
       " 'min_samples_split': 8,\n",
       " 'bootstrap_sampling': 0,\n",
       " 'drift_window_threshold': 101,\n",
       " 'switch_significance': 0.1,\n",
       " 'binary_split': 0,\n",
       " 'max_size': 789.801988,\n",
       " 'memory_estimate_period': 938558,\n",
       " 'stop_mem_management': 1,\n",
       " 'remove_poor_attrs': 0,\n",
       " 'merit_preprune': 0}"
      ]
     },
     "execution_count": 27,
     "metadata": {},
     "output_type": "execute_result"
    }
   ],
   "source": [
    "\n",
    "X = np.array([[7.58e+02,\n",
    "              1.90e+01,\n",
    "              1.00e-06,\n",
    "              1.00e-01,\n",
    "              1.00e+00,\n",
    "              0.00e+00,\n",
    "              9.00e-01,\n",
    "              1.00e+00,\n",
    "              8.00e+00,\n",
    "              0.00e+00,\n",
    "              1.01e+02,\n",
    "              1.00e-01,\n",
    "              0.00e+00,\n",
    "              7.89801988e+02,\n",
    "              9.38558000e+05,\n",
    "              1.00e+00,\n",
    "              0.00e+00,\n",
    "              0.00e+00]])\n",
    "var_dict = assign_values(X, fun_control[\"var_name\"])\n",
    "fun_control.update({\"var_type\": var_type,\n",
    "                    \"var_name\": var_name})\n",
    "return_conf_list_from_var_dict(var_dict, fun_control)[0]"
   ]
  },
  {
   "attachments": {},
   "cell_type": "markdown",
   "metadata": {},
   "source": [
    "# Test Designs"
   ]
  },
  {
   "cell_type": "code",
   "execution_count": 28,
   "metadata": {},
   "outputs": [
    {
     "data": {
      "text/plain": [
       "array([[0.66352963, 0.5892358 ],\n",
       "       [0.66352963, 0.5892358 ],\n",
       "       [0.55592803, 0.96312564],\n",
       "       [0.55592803, 0.96312564],\n",
       "       [0.16481882, 0.0375811 ],\n",
       "       [0.16481882, 0.0375811 ],\n",
       "       [0.215331  , 0.34468512],\n",
       "       [0.215331  , 0.34468512],\n",
       "       [0.83604909, 0.62202146],\n",
       "       [0.83604909, 0.62202146]])"
      ]
     },
     "execution_count": 28,
     "metadata": {},
     "output_type": "execute_result"
    }
   ],
   "source": [
    "import numpy as np\n",
    "from spotPython.design.spacefilling import spacefilling\n",
    "lhd = spacefilling(k=2, seed=123)\n",
    "lhd.scipy_lhd(n=5, repeats=2, lower=np.array([0,0]), upper=np.array([1,1]))"
   ]
  },
  {
   "attachments": {},
   "cell_type": "markdown",
   "metadata": {},
   "source": [
    "# TK Tests (Please ignore)"
   ]
  },
  {
   "cell_type": "code",
   "execution_count": 29,
   "metadata": {},
   "outputs": [],
   "source": [
    "import tkinter as tk\n",
    "import json\n",
    "\n",
    "def add_item():\n",
    "    item = item_entry.get()\n",
    "    parameter = parameter_entry.get()\n",
    "    levels = levels_entry.get().split(',')\n",
    "    if item and parameter and levels:\n",
    "        if item not in data:\n",
    "            data[item] = {}\n",
    "        data[item][parameter] = levels\n",
    "        print(f'Added {item} with {parameter} and levels {levels}')\n",
    "    else:\n",
    "        print('Please enter valid values for item, parameter and levels')\n",
    "\n",
    "def save_data():\n",
    "    with open('data.json', 'w') as f:\n",
    "        json.dump(data, f)\n",
    "    print(f'Saved data to data.json')\n",
    "\n",
    "def load_data():\n",
    "    global data\n",
    "    with open('data.json', 'r') as f:\n",
    "        data = json.load(f)\n",
    "    print(f'Loaded data from data.json')\n",
    "\n",
    "def display_data():\n",
    "    display_window = tk.Toplevel(root)\n",
    "    text = tk.Text(display_window)\n",
    "    for item_key, item_value in data.items():\n",
    "        text.insert(tk.END, f'{item_key}:\\n')\n",
    "        for parameter_key, parameter_value in item_value.items():\n",
    "            text.insert(tk.END, f'\\t{parameter_key}: {parameter_value}\\n')\n",
    "    text.pack()\n",
    "\n",
    "def edit_item():\n",
    "    item = item_entry.get()\n",
    "    parameter = parameter_entry.get()\n",
    "    levels = levels_entry.get().split(',')\n",
    "    if item and parameter and levels:\n",
    "        if item in data:\n",
    "            data[item][parameter] = levels\n",
    "            print(f'Edited {item} with {parameter} and levels {levels}')\n",
    "        else:\n",
    "            print(f'Item {item} does not exist')\n",
    "    else:\n",
    "        print('Please enter valid values for item, parameter and levels')\n",
    "\n",
    "def exit_gui():\n",
    "    root.destroy()\n",
    "\n",
    "# data = {}\n",
    "\n",
    "# root = tk.Tk()\n",
    "\n",
    "# item_label = tk.Label(root, text='Item:')\n",
    "# item_label.pack()\n",
    "\n",
    "# item_entry = tk.Entry(root)\n",
    "# item_entry.pack()\n",
    "\n",
    "# parameter_label = tk.Label(root, text='Parameter:')\n",
    "# parameter_label.pack()\n",
    "\n",
    "# parameter_entry = tk.Entry(root)\n",
    "# parameter_entry.pack()\n",
    "\n",
    "# levels_label = tk.Label(root, text='Levels (comma-separated):')\n",
    "# levels_label.pack()\n",
    "\n",
    "# levels_entry = tk.Entry(root)\n",
    "# levels_entry.pack()\n",
    "\n",
    "# add_button = tk.Button(root, text='Add', command=add_item)\n",
    "# add_button.pack()\n",
    "\n",
    "# save_button = tk.Button(root, text='Save', command=save_data)\n",
    "# save_button.pack()\n",
    "\n",
    "# load_button = tk.Button(root,text='Load',command=load_data)\n",
    "# load_button.pack()\n",
    "\n",
    "# display_button=tk.Button(root,text='Display',command=display_data)\n",
    "# display_button.pack()\n",
    "\n",
    "# edit_button = tk.Button(root, text='Edit', command=edit_item)\n",
    "# edit_button.pack()\n",
    "\n",
    "# exit_button=tk.Button(root,text='Exit',command=exit_gui) \n",
    "# exit_button.pack() \n",
    "\n",
    "# root.mainloop()"
   ]
  },
  {
   "cell_type": "code",
   "execution_count": 30,
   "metadata": {},
   "outputs": [],
   "source": [
    "def apk(actual, predicted, k=10):\n",
    "    \"\"\"\n",
    "    Computes the average precision at k.\n",
    "    This function computes the average precision at k between two lists of\n",
    "    items.\n",
    "    Parameters\n",
    "    ----------\n",
    "    actual : list\n",
    "             A list of elements that are to be predicted (order doesn't matter)\n",
    "    predicted : list\n",
    "                A list of predicted elements (order does matter)\n",
    "    k : int, optional\n",
    "        The maximum number of predicted elements\n",
    "    Returns\n",
    "    -------\n",
    "    score : double\n",
    "            The average precision at k over the input lists\n",
    "    \"\"\"\n",
    "    if len(predicted) > k:\n",
    "        predicted = predicted[:k]\n",
    "\n",
    "    score = 0.0\n",
    "    num_hits = 0.0\n",
    "\n",
    "    for i, p in enumerate(predicted):\n",
    "        if p in actual and p not in predicted[:i]:\n",
    "            num_hits += 1.0\n",
    "            score += num_hits / (i + 1.0)\n",
    "\n",
    "    if not actual:\n",
    "        return 0.0\n",
    "\n",
    "    return score / min(len(actual), k)\n",
    "\n",
    "\n",
    "def mapk(actual, predicted, k=10):\n",
    "    \"\"\"\n",
    "    Computes the mean average precision at k.\n",
    "    This function computes the mean average precision at k between two lists\n",
    "    of lists of items.\n",
    "    Parameters\n",
    "    ----------\n",
    "    actual : list\n",
    "             A list of lists of elements that are to be predicted\n",
    "             (order doesn't matter in the lists)\n",
    "    predicted : list\n",
    "                A list of lists of predicted elements\n",
    "                (order matters in the lists)\n",
    "    k : int, optional\n",
    "        The maximum number of predicted elements\n",
    "    Returns\n",
    "    -------\n",
    "    score : double\n",
    "            The mean average precision at k over the input lists\n",
    "    \"\"\"\n",
    "    return np.mean([apk(a, p, k) for a, p in zip(actual, predicted)])\n",
    "\n",
    "\n",
    "def mapk_score(y_true, y_pred, k=3):\n",
    "    \"\"\" Wrapper for mapk func using numpy arrays\n",
    "     Args:\n",
    "            y_true (np.array): array of true values\n",
    "            y_pred (np.array): array of predicted values\n",
    "            k (int): number of predictions\n",
    "    Returns:\n",
    "            score (float): mean average precision at k\n",
    "    Examples:\n",
    "            >>> y_true = np.array([0, 1, 2, 2])\n",
    "            >>> y_pred = np.array([[0.5, 0.2, 0.2],  # 0 is in top 2\n",
    "                     [0.3, 0.4, 0.2],  # 1 is in top 2\n",
    "                     [0.2, 0.4, 0.3],  # 2 is in top 2\n",
    "                     [0.7, 0.2, 0.1]]) # 2 isn't in top 2\n",
    "            >>> mapk_score(y_true, y_pred, k=1)\n",
    "            0.33333333333333331\n",
    "            >>> mapk_score(y_true, y_pred, k=2)\n",
    "            0.75\n",
    "            >>> mapk_score(y_true, y_pred, k=3)\n",
    "            0.3611111111111111\n",
    "            >>> mapk_score(y_true, y_pred, k=4)\n",
    "            0.34722222222222221\n",
    "            >>> mapk_score(y_true, y_pred, k=5)\n",
    "            0.34722222222222221\n",
    "       \"\"\"\n",
    "    sorted_prediction_ids = np.argsort(-y_pred, axis=1)\n",
    "    top_k_prediction_ids = sorted_prediction_ids[:, :k]\n",
    "    score = mapk(y_true.reshape(-1, 1), top_k_prediction_ids, k=k)\n",
    "    return score"
   ]
  },
  {
   "cell_type": "code",
   "execution_count": 31,
   "metadata": {},
   "outputs": [
    {
     "data": {
      "text/plain": [
       "0.75"
      ]
     },
     "execution_count": 31,
     "metadata": {},
     "output_type": "execute_result"
    }
   ],
   "source": [
    "import numpy as np\n",
    "# rom spotPython.utils.metrics import mapk_score\n",
    "from sklearn.metrics import top_k_accuracy_score\n",
    "\n",
    "y_true = np.array([0, 1, 2, 2])\n",
    "y_pred = np.array([[0.5, 0.2, 0.2],  # 0 is in top 2\n",
    "            [0.3, 0.4, 0.2],  # 1 is in top 2\n",
    "            [0.2, 0.4, 0.3],  # 2 is in top 2\n",
    "            [0.7, 0.2, 0.1]]) # 2 isn't in top 2\n",
    "top_k_accuracy_score(y_true, y_pred, k=2)\n",
    "#mapk_score(y_true, y_pred, k=2)\n"
   ]
  },
  {
   "cell_type": "code",
   "execution_count": 32,
   "metadata": {},
   "outputs": [
    {
     "data": {
      "text/plain": [
       "0.4583333333333333"
      ]
     },
     "execution_count": 32,
     "metadata": {},
     "output_type": "execute_result"
    }
   ],
   "source": [
    "mapk_score(y_true, y_pred, k=5)"
   ]
  },
  {
   "cell_type": "code",
   "execution_count": 33,
   "metadata": {},
   "outputs": [
    {
     "data": {
      "text/plain": [
       "(4,)"
      ]
     },
     "execution_count": 33,
     "metadata": {},
     "output_type": "execute_result"
    }
   ],
   "source": [
    "y_true.shape"
   ]
  },
  {
   "cell_type": "code",
   "execution_count": 34,
   "metadata": {},
   "outputs": [
    {
     "data": {
      "text/plain": [
       "numpy.ndarray"
      ]
     },
     "execution_count": 34,
     "metadata": {},
     "output_type": "execute_result"
    }
   ],
   "source": [
    "type(y_true)"
   ]
  },
  {
   "cell_type": "code",
   "execution_count": 35,
   "metadata": {},
   "outputs": [
    {
     "data": {
      "text/plain": [
       "array([[0],\n",
       "       [1],\n",
       "       [2],\n",
       "       [2]])"
      ]
     },
     "execution_count": 35,
     "metadata": {},
     "output_type": "execute_result"
    }
   ],
   "source": [
    "y_true.reshape(-1, 1)"
   ]
  },
  {
   "cell_type": "code",
   "execution_count": 36,
   "metadata": {},
   "outputs": [
    {
     "data": {
      "text/plain": [
       "array([0, 1, 2, 2])"
      ]
     },
     "execution_count": 36,
     "metadata": {},
     "output_type": "execute_result"
    }
   ],
   "source": [
    "y_true"
   ]
  },
  {
   "cell_type": "code",
   "execution_count": 37,
   "metadata": {},
   "outputs": [
    {
     "data": {
      "text/plain": [
       "array([[0, 1, 2],\n",
       "       [1, 0, 2],\n",
       "       [1, 2, 0],\n",
       "       [0, 1, 2]])"
      ]
     },
     "execution_count": 37,
     "metadata": {},
     "output_type": "execute_result"
    }
   ],
   "source": [
    "np.argsort(-y_pred, axis=1)"
   ]
  },
  {
   "cell_type": "code",
   "execution_count": null,
   "metadata": {},
   "outputs": [],
   "source": []
  }
 ],
 "metadata": {
  "kernelspec": {
   "display_name": "spotCondaEnv",
   "language": "python",
   "name": "python3"
  },
  "language_info": {
   "codemirror_mode": {
    "name": "ipython",
    "version": 3
   },
   "file_extension": ".py",
   "mimetype": "text/x-python",
   "name": "python",
   "nbconvert_exporter": "python",
   "pygments_lexer": "ipython3",
   "version": "3.10.10"
  },
  "orig_nbformat": 4,
  "vscode": {
   "interpreter": {
    "hash": "81c77de872def749acd68d9955e19f0df6803301f4c1f66c3444af66334112ae"
   }
  }
 },
 "nbformat": 4,
 "nbformat_minor": 2
}
