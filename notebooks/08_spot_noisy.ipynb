{
 "cells": [
  {
   "cell_type": "raw",
   "metadata": {},
   "source": [
    "---\n",
    "title: \"Introduction to SPOT: Noise\"\n",
    "format: html\n",
    "---"
   ]
  },
  {
   "attachments": {},
   "cell_type": "markdown",
   "metadata": {},
   "source": [
    "# Introduction to Sequential Parameter Optimization\n",
    "## Noise\n",
    "\n",
    "* This notebook demonstrates how noisy functions can be handled by `Spot`."
   ]
  },
  {
   "attachments": {},
   "cell_type": "markdown",
   "metadata": {},
   "source": [
    "## 1 Example: `Spot` and the Noisy Sphere Function"
   ]
  },
  {
   "cell_type": "code",
   "execution_count": null,
   "metadata": {},
   "outputs": [],
   "source": [
    "import numpy as np\n",
    "from math import inf\n",
    "from spotPython.fun.objectivefunctions import analytical\n",
    "from spotPython.spot import spot\n",
    "from scipy.optimize import shgo\n",
    "from scipy.optimize import direct\n",
    "from scipy.optimize import differential_evolution\n",
    "import matplotlib.pyplot as plt"
   ]
  },
  {
   "attachments": {},
   "cell_type": "markdown",
   "metadata": {},
   "source": [
    "### The Objective Function: Noisy Sphere\n",
    "\n",
    "* The `spotPython` package provides several classes of objective functions.\n",
    "* We will use an analytical objective function with noise, i.e., a function that can be described by a (closed) formula:\n",
    "   $$f(x) = x^2 + \\epsilon$$"
   ]
  },
  {
   "attachments": {},
   "cell_type": "markdown",
   "metadata": {},
   "source": [
    "* Since `sigma` is set to `0.1`, noise is added to the function:"
   ]
  },
  {
   "cell_type": "code",
   "execution_count": null,
   "metadata": {},
   "outputs": [],
   "source": [
    "fun = analytical().fun_sphere\n",
    "fun_control = {\"sigma\": 0.1,\n",
    "               \"seed\": 123}"
   ]
  },
  {
   "attachments": {},
   "cell_type": "markdown",
   "metadata": {},
   "source": [
    "* A plot illustrates the noise:"
   ]
  },
  {
   "cell_type": "code",
   "execution_count": null,
   "metadata": {},
   "outputs": [],
   "source": [
    "x = np.linspace(-1,1,100).reshape(-1,1)\n",
    "y = fun(x, fun_control=fun_control)\n",
    "plt.figure()\n",
    "plt.plot(x,y, \"k\")\n",
    "plt.show()"
   ]
  },
  {
   "attachments": {},
   "cell_type": "markdown",
   "metadata": {},
   "source": [
    "`Spot` is adopted as follows to cope with noisy functions:\n",
    "\n",
    "1. `fun_repeats` is set to a value larger than 1 (here: 2)\n",
    "2. `noise` is set to `true`. Therefore, a nugget (`Lambda`) term is added to the correlation matrix\n",
    "3.  `init size` (of the `design_control` dictionary) is set to a value larger than 1 (here: 2)"
   ]
  },
  {
   "cell_type": "code",
   "execution_count": null,
   "metadata": {},
   "outputs": [],
   "source": [
    "spot_1_noisy = spot.Spot(fun=fun,\n",
    "                   lower = np.array([-1]),\n",
    "                   upper = np.array([1]),\n",
    "                   fun_evals = 10,\n",
    "                   fun_repeats = 2,\n",
    "                   noise = True,\n",
    "                   seed=123,\n",
    "                   show_models=True,\n",
    "                   fun_control = fun_control,\n",
    "                   design_control={\"init_size\": 3,\n",
    "                                   \"repeats\": 2},\n",
    "                   surrogate_control={\"noise\": True})"
   ]
  },
  {
   "cell_type": "code",
   "execution_count": null,
   "metadata": {},
   "outputs": [],
   "source": [
    "spot_1_noisy.run()"
   ]
  },
  {
   "attachments": {},
   "cell_type": "markdown",
   "metadata": {},
   "source": [
    "## Print the Results"
   ]
  },
  {
   "cell_type": "code",
   "execution_count": null,
   "metadata": {},
   "outputs": [],
   "source": [
    "spot_1_noisy.print_results()"
   ]
  },
  {
   "cell_type": "code",
   "execution_count": null,
   "metadata": {},
   "outputs": [],
   "source": [
    "spot_1_noisy.plot_progress(log_y=False)"
   ]
  },
  {
   "attachments": {},
   "cell_type": "markdown",
   "metadata": {},
   "source": [
    "# 2 Noise and Surrogates: The Nugget Effect"
   ]
  },
  {
   "attachments": {},
   "cell_type": "markdown",
   "metadata": {},
   "source": [
    "## 2.1 The Noisy Sphere"
   ]
  },
  {
   "attachments": {},
   "cell_type": "markdown",
   "metadata": {},
   "source": [
    "### The Data"
   ]
  },
  {
   "attachments": {},
   "cell_type": "markdown",
   "metadata": {},
   "source": [
    "* We prepare some data first:"
   ]
  },
  {
   "cell_type": "code",
   "execution_count": null,
   "metadata": {},
   "outputs": [],
   "source": [
    "import numpy as np\n",
    "import spotPython\n",
    "from spotPython.fun.objectivefunctions import analytical\n",
    "from spotPython.spot import spot\n",
    "from spotPython.design.spacefilling import spacefilling\n",
    "from spotPython.build.kriging import Kriging\n",
    "import matplotlib.pyplot as plt\n",
    "\n",
    "gen = spacefilling(1)\n",
    "rng = np.random.RandomState(1)\n",
    "lower = np.array([-10])\n",
    "upper = np.array([10])\n",
    "fun = analytical().fun_sphere\n",
    "fun_control = {\"sigma\": 2,\n",
    "               \"seed\": 125}\n",
    "X = gen.scipy_lhd(10, lower=lower, upper = upper)\n",
    "y = fun(X, fun_control=fun_control)\n",
    "X_train = X.reshape(-1,1)\n",
    "y_train = y\n"
   ]
  },
  {
   "attachments": {},
   "cell_type": "markdown",
   "metadata": {},
   "source": [
    "* A surrogate without nugget is fitted to these data:"
   ]
  },
  {
   "cell_type": "code",
   "execution_count": null,
   "metadata": {},
   "outputs": [],
   "source": [
    "S = Kriging(name='kriging',\n",
    "            seed=123,\n",
    "            log_level=50,\n",
    "            n_theta=1,\n",
    "            noise=False)\n",
    "S.fit(X_train, y_train)\n",
    "\n",
    "X_axis = np.linspace(start=-13, stop=13, num=1000).reshape(-1, 1)\n",
    "mean_prediction, std_prediction, ei = S.predict(X_axis, return_val=\"all\")\n",
    "\n",
    "plt.scatter(X_train, y_train, label=\"Observations\")\n",
    "plt.plot(X_axis, mean_prediction, label=\"mue\")\n",
    "plt.legend()\n",
    "plt.xlabel(\"$x$\")\n",
    "plt.ylabel(\"$f(x)$\")\n",
    "_ = plt.title(\"Sphere: Gaussian process regression on noisy dataset\")"
   ]
  },
  {
   "attachments": {},
   "cell_type": "markdown",
   "metadata": {},
   "source": [
    "* In comparison to the surrogate without nugget, we fit a surrogate with nugget to the data:"
   ]
  },
  {
   "cell_type": "code",
   "execution_count": null,
   "metadata": {},
   "outputs": [],
   "source": [
    "S_nug = Kriging(name='kriging',\n",
    "            seed=123,\n",
    "            log_level=50,\n",
    "            n_theta=1,\n",
    "            noise=True)\n",
    "S_nug.fit(X_train, y_train)\n",
    "X_axis = np.linspace(start=-13, stop=13, num=1000).reshape(-1, 1)\n",
    "mean_prediction, std_prediction, ei = S_nug.predict(X_axis, return_val=\"all\")\n",
    "plt.scatter(X_train, y_train, label=\"Observations\")\n",
    "plt.plot(X_axis, mean_prediction, label=\"mue\")\n",
    "plt.legend()\n",
    "plt.xlabel(\"$x$\")\n",
    "plt.ylabel(\"$f(x)$\")\n",
    "_ = plt.title(\"Sphere: Gaussian process regression with nugget on noisy dataset\")"
   ]
  },
  {
   "attachments": {},
   "cell_type": "markdown",
   "metadata": {},
   "source": [
    "* The value of the nugget term can be extracted from the model as follows:"
   ]
  },
  {
   "cell_type": "code",
   "execution_count": null,
   "metadata": {},
   "outputs": [],
   "source": [
    "S.Lambda"
   ]
  },
  {
   "cell_type": "code",
   "execution_count": null,
   "metadata": {},
   "outputs": [],
   "source": [
    "S_nug.Lambda"
   ]
  },
  {
   "attachments": {},
   "cell_type": "markdown",
   "metadata": {},
   "source": [
    "* We see:\n",
    "    * the first model `S` has no nugget, \n",
    "    * whereas the second model has a nugget value (`Lambda`) larger than zero."
   ]
  },
  {
   "attachments": {},
   "cell_type": "markdown",
   "metadata": {},
   "source": [
    "# Exercises\n",
    "\n",
    "* Important:\n",
    "    * Results from these exercises should be added to this document, i.e., you should submit an updated version of this notebook.\n",
    "    * Please combine your results using this notebook.\n",
    "    * Only one notebook from each group!\n",
    "    * Presentation is based on this notebook. No addtional slides are required!\n",
    "    * spotPython version `0.16.11` (or greater) is required (see http://www.gm.fh-koeln.de/~bartz/site/download/)"
   ]
  },
  {
   "attachments": {},
   "cell_type": "markdown",
   "metadata": {},
   "source": [
    "## Exercise 1\n",
    "\n",
    "* Each team member should choose one of the following optimization algorithms.\n",
    "* Please add your name to the section title!"
   ]
  },
  {
   "attachments": {},
   "cell_type": "markdown",
   "metadata": {},
   "source": [
    "### 1. Noisy `fun_cubed`\n",
    "\n",
    "* Analyse the effect of noise on the `fun_cubed` function with the following settings:\n"
   ]
  },
  {
   "cell_type": "code",
   "execution_count": null,
   "metadata": {},
   "outputs": [],
   "source": [
    "fun = analytical().fun_cubed\n",
    "fun_control = {\"sigma\": 10,\n",
    "               \"seed\": 123}\n",
    "lower = np.array([-10])\n",
    "upper = np.array([10])"
   ]
  },
  {
   "attachments": {},
   "cell_type": "markdown",
   "metadata": {},
   "source": [
    "### 2. `fun_runge`\n",
    "\n",
    "* Analyse the effect of noise on the `fun_runge` function with the following settings:"
   ]
  },
  {
   "cell_type": "code",
   "execution_count": null,
   "metadata": {},
   "outputs": [],
   "source": [
    "lower = np.array([-10])\n",
    "upper = np.array([10])\n",
    "fun = analytical().fun_runge\n",
    "fun_control = {\"sigma\": 0.25,\n",
    "               \"seed\": 123}"
   ]
  },
  {
   "attachments": {},
   "cell_type": "markdown",
   "metadata": {},
   "source": [
    "\n",
    "### 3. `fun_forrester`\n",
    "\n",
    "* Analyse the effect of noise on the `fun_forrester` function with the following settings: \n"
   ]
  },
  {
   "cell_type": "code",
   "execution_count": null,
   "metadata": {},
   "outputs": [],
   "source": [
    "lower = np.array([0])\n",
    "upper = np.array([1])\n",
    "fun = analytical().fun_forrester\n",
    "fun_control = {\"sigma\": 5,\n",
    "               \"seed\": 123}"
   ]
  },
  {
   "attachments": {},
   "cell_type": "markdown",
   "metadata": {},
   "source": [
    "\n",
    "### 4. `fun_xsin`\n",
    "\n",
    "* Analyse the effect of noise on the `fun_xsin` function with the following settings: "
   ]
  },
  {
   "cell_type": "code",
   "execution_count": null,
   "metadata": {},
   "outputs": [],
   "source": [
    "lower = np.array([-1.])\n",
    "upper = np.array([1.])\n",
    "fun = analytical().fun_xsin\n",
    "fun_control = {\"sigma\": 0.5,\n",
    "               \"seed\": 123}"
   ]
  }
 ],
 "metadata": {
  "kernelspec": {
   "display_name": "spotCondaEnv",
   "language": "python",
   "name": "python3"
  },
  "language_info": {
   "codemirror_mode": {
    "name": "ipython",
    "version": 3
   },
   "file_extension": ".py",
   "mimetype": "text/x-python",
   "name": "python",
   "nbconvert_exporter": "python",
   "pygments_lexer": "ipython3",
   "version": "3.10.6"
  },
  "orig_nbformat": 4,
  "vscode": {
   "interpreter": {
    "hash": "81c77de872def749acd68d9955e19f0df6803301f4c1f66c3444af66334112ae"
   }
  }
 },
 "nbformat": 4,
 "nbformat_minor": 2
}
