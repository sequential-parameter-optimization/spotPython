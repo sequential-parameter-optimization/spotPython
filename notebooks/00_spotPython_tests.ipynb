{
  "cells": [
    {
      "cell_type": "raw",
      "metadata": {},
      "source": [
        "---\n",
        "execute:\n",
        "  cache: false\n",
        "  eval: true\n",
        "  echo: true\n",
        "  warning: false\n",
        "title: 'spotPython Tests'\n",
        "---"
      ]
    },
    {
      "cell_type": "markdown",
      "metadata": {},
      "source": [
        "# fun_control_init"
      ]
    },
    {
      "cell_type": "code",
      "execution_count": 1,
      "metadata": {},
      "outputs": [
        {
          "name": "stderr",
          "output_type": "stream",
          "text": [
            "Seed set to 42\n"
          ]
        },
        {
          "data": {
            "text/plain": [
              "{'CHECKPOINT_PATH': 'runs/saved_models/',\n",
              " 'DATASET_PATH': 'data/',\n",
              " 'RESULTS_PATH': 'results/',\n",
              " 'TENSORBOARD_PATH': 'runs/',\n",
              " '_L_in': 64,\n",
              " '_L_out': 11,\n",
              " 'data': None,\n",
              " 'data_dir': './data',\n",
              " 'device': None,\n",
              " 'enable_progress_bar': False,\n",
              " 'eval': None,\n",
              " 'k_folds': 3,\n",
              " 'loss_function': None,\n",
              " 'metric_river': None,\n",
              " 'metric_sklearn': None,\n",
              " 'metric_torch': None,\n",
              " 'metric_params': {},\n",
              " 'model_dict': {},\n",
              " 'n_samples': None,\n",
              " 'num_workers': 0,\n",
              " 'optimizer': None,\n",
              " 'path': None,\n",
              " 'prep_model': None,\n",
              " 'save_model': False,\n",
              " 'seed': 1234,\n",
              " 'show_batch_interval': 1000000,\n",
              " 'shuffle': None,\n",
              " 'sigma': 0.0,\n",
              " 'target_column': None,\n",
              " 'train': None,\n",
              " 'test': None,\n",
              " 'task': 'classification',\n",
              " 'spot_tensorboard_path': None,\n",
              " 'weights': 1.0,\n",
              " 'spot_writer': None}"
            ]
          },
          "execution_count": 1,
          "metadata": {},
          "output_type": "execute_result"
        }
      ],
      "source": [
        "from spotPython.utils.init import fun_control_init\n",
        "fun_control = fun_control_init(_L_in=64, _L_out=11, num_workers=0, device=None)\n",
        "fun_control"
      ]
    },
    {
      "cell_type": "code",
      "execution_count": null,
      "metadata": {},
      "outputs": [],
      "source": []
    }
  ],
  "metadata": {
    "kernelspec": {
      "display_name": "Python 3 (ipykernel)",
      "language": "python",
      "name": "python3"
    },
    "language_info": {
      "codemirror_mode": {
        "name": "ipython",
        "version": 3
      },
      "file_extension": ".py",
      "mimetype": "text/x-python",
      "name": "python",
      "nbconvert_exporter": "python",
      "pygments_lexer": "ipython3",
      "version": "3.11.6"
    }
  },
  "nbformat": 4,
  "nbformat_minor": 4
}
