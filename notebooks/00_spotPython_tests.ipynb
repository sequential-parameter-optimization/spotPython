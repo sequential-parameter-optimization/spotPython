{
  "cells": [
    {
      "cell_type": "raw",
      "metadata": {},
      "source": [
        "---\n",
        "execute:\n",
        "  cache: false\n",
        "  eval: true\n",
        "  echo: true\n",
        "  warning: false\n",
        "title: 'spotPython Tests'\n",
        "---"
      ]
    },
    {
      "cell_type": "markdown",
      "metadata": {},
      "source": [
        "# fun_control_init"
      ]
    },
    {
      "cell_type": "code",
      "execution_count": 1,
      "metadata": {},
      "outputs": [
        {
          "name": "stderr",
          "output_type": "stream",
          "text": [
            "Seed set to 42\n"
          ]
        },
        {
          "data": {
            "text/plain": [
              "{'CHECKPOINT_PATH': 'runs/saved_models/',\n",
              " 'DATASET_PATH': 'data/',\n",
              " 'RESULTS_PATH': 'results/',\n",
              " 'TENSORBOARD_PATH': 'runs/',\n",
              " '_L_in': 64,\n",
              " '_L_out': 11,\n",
              " 'data': None,\n",
              " 'data_dir': './data',\n",
              " 'device': None,\n",
              " 'enable_progress_bar': False,\n",
              " 'eval': None,\n",
              " 'k_folds': 3,\n",
              " 'loss_function': None,\n",
              " 'metric_river': None,\n",
              " 'metric_sklearn': None,\n",
              " 'metric_torch': None,\n",
              " 'metric_params': {},\n",
              " 'model_dict': {},\n",
              " 'n_samples': None,\n",
              " 'num_workers': 0,\n",
              " 'optimizer': None,\n",
              " 'path': None,\n",
              " 'prep_model': None,\n",
              " 'save_model': False,\n",
              " 'seed': 1234,\n",
              " 'show_batch_interval': 1000000,\n",
              " 'shuffle': None,\n",
              " 'sigma': 0.0,\n",
              " 'target_column': None,\n",
              " 'train': None,\n",
              " 'test': None,\n",
              " 'task': 'classification',\n",
              " 'spot_tensorboard_path': None,\n",
              " 'weights': 1.0,\n",
              " 'spot_writer': None}"
            ]
          },
          "execution_count": 1,
          "metadata": {},
          "output_type": "execute_result"
        }
      ],
      "source": [
        "from spotPython.utils.init import fun_control_init\n",
        "fun_control = fun_control_init(_L_in=64, _L_out=11, num_workers=0, device=None)\n",
        "fun_control"
      ]
    },
    {
      "cell_type": "code",
      "execution_count": 2,
      "metadata": {},
      "outputs": [
        {
          "name": "stdout",
          "output_type": "stream",
          "text": [
            "  Attribute Name Attribute Value\n",
            "0            age              30\n",
            "1           name            John\n",
            "2         salary           50000\n"
          ]
        }
      ],
      "source": [
        "import pandas as pd\n",
        "\n",
        "def class_attributes_to_dataframe(class_obj):\n",
        "    # Get the attributes and their values of the class object\n",
        "    attributes = [attr for attr in dir(class_obj) if not callable(getattr(class_obj, attr)) and not attr.startswith(\"__\")]\n",
        "    values = [getattr(class_obj, attr) for attr in attributes]\n",
        "    \n",
        "    # Create a DataFrame from the attributes and values\n",
        "    df = pd.DataFrame({'Attribute Name': attributes, 'Attribute Value': values})\n",
        "    \n",
        "    return df\n",
        "\n",
        "# Example usage:\n",
        "class MyClass:\n",
        "    def __init__(self):\n",
        "        self.name = \"John\"\n",
        "        self.age = 30\n",
        "        self.salary = 50000\n",
        "\n",
        "my_instance = MyClass()\n",
        "df = class_attributes_to_dataframe(my_instance)\n",
        "print(df)\n",
        "\n"
      ]
    },
    {
      "cell_type": "code",
      "execution_count": 3,
      "metadata": {},
      "outputs": [
        {
          "name": "stdout",
          "output_type": "stream",
          "text": [
            "spotPython tuning: 2.3692002778610106e-10 [########--] 80.00% \n",
            "spotPython tuning: 2.3692002778610106e-10 [#########-] 90.00% \n",
            "spotPython tuning: 2.3692002778610106e-10 [##########] 100.00% Done...\n",
            "\n"
          ]
        },
        {
          "data": {
            "text/plain": [
              "<spotPython.spot.spot.Spot at 0x17717ddd0>"
            ]
          },
          "execution_count": 3,
          "metadata": {},
          "output_type": "execute_result"
        }
      ],
      "source": [
        "import numpy as np\n",
        "from math import inf\n",
        "from spotPython.fun.objectivefunctions import analytical\n",
        "from spotPython.spot import spot\n",
        "# number of initial points:\n",
        "ni = 7\n",
        "# number of points\n",
        "n = 10\n",
        "\n",
        "fun = analytical().fun_sphere\n",
        "lower = np.array([-1])\n",
        "upper = np.array([1])\n",
        "design_control={\"init_size\": ni}\n",
        "\n",
        "spot_1 = spot.Spot(fun=fun,\n",
        "            lower = lower,\n",
        "            upper= upper,\n",
        "            fun_evals = n,\n",
        "            show_progress=True,\n",
        "            design_control=design_control,)\n",
        "spot_1.run()\n"
      ]
    },
    {
      "cell_type": "code",
      "execution_count": 13,
      "metadata": {},
      "outputs": [
        {
          "name": "stdout",
          "output_type": "stream",
          "text": [
            "       Attribute Name                                                                                                                                                                                                                                                          Attribute Value\n",
            "0                   X                               [[-0.3378148180708981], [0.698908280342222], [0.07989717920782535], [-0.7669633744853341], [0.3783125996899912], [0.7679729980983505], [-0.6923842851505875], [1.5392206722432657e-05], [3.219839249186828e-05], [2.5933080782055762e-05]]\n",
            "1           all_lower                                                                                                                                                                                                                                                                     [-1]\n",
            "2           all_upper                                                                                                                                                                                                                                                                      [1]\n",
            "3        all_var_name                                                                                                                                                                                                                                                                     [x0]\n",
            "4        all_var_type                                                                                                                                                                                                                                                                    [num]\n",
            "5             counter                                                                                                                                                                                                                                                                       10\n",
            "6           de_bounds                                                                                                                                                                                                                                                                [[-1, 1]]\n",
            "7              design                                                                                                                                                                                                      <spotPython.design.spacefilling.spacefilling object at 0x1773d88d0>\n",
            "8      design_control                                                                                                                                                                                                                                           {'init_size': 7, 'repeats': 1}\n",
            "9                 eps                                                                                                                                                                                                                                                                      0.0\n",
            "10        fun_control                                                                                                                                                                                                                                               {'sigma': 0, 'seed': None}\n",
            "11          fun_evals                                                                                                                                                                                                                                                                       10\n",
            "12        fun_repeats                                                                                                                                                                                                                                                                        1\n",
            "13              ident                                                                                                                                                                                                                                                                  [False]\n",
            "14   infill_criterion                                                                                                                                                                                                                                                                        y\n",
            "15                  k                                                                                                                                                                                                                                                                        1\n",
            "16          log_level                                                                                                                                                                                                                                                                       50\n",
            "17              lower                                                                                                                                                                                                                                                                     [-1]\n",
            "18           max_time                                                                                                                                                                                                                                                                      inf\n",
            "19             mean_X                                                                                                                                                                                                                                                                     None\n",
            "20             mean_y                                                                                                                                                                                                                                                                     None\n",
            "21              min_X                                                                                                                                                                                                                                                 [1.5392206722432657e-05]\n",
            "22         min_mean_X                                                                                                                                                                                                                                                                     None\n",
            "23         min_mean_y                                                                                                                                                                                                                                                                     None\n",
            "24              min_y                                                                                                                                                                                                                                                                      0.0\n",
            "25           n_points                                                                                                                                                                                                                                                                        1\n",
            "26              noise                                                                                                                                                                                                                                                                    False\n",
            "27         ocba_delta                                                                                                                                                                                                                                                                        0\n",
            "28  optimizer_control                                                                                                                                                                                                                                          {'max_iter': 1000, 'seed': 125}\n",
            "29            red_dim                                                                                                                                                                                                                                                                    False\n",
            "30                rng                                                                                                                                                                                                                                                         Generator(PCG64)\n",
            "31               seed                                                                                                                                                                                                                                                                      123\n",
            "32        show_models                                                                                                                                                                                                                                                                    False\n",
            "33      show_progress                                                                                                                                                                                                                                                                     True\n",
            "34        spot_writer                                                                                                                                                                                                                                                                     None\n",
            "35          surrogate                                                                                                                                                                                                                 <spotPython.build.kriging.Kriging object at 0x17733b090>\n",
            "36  surrogate_control  {'noise': False, 'model_optimizer': <function differential_evolution at 0x169b6f420>, 'model_fun_evals': None, 'min_theta': -3.0, 'max_theta': 3.0, 'n_theta': 1, 'n_p': 1, 'optim_p': False, 'cod_type': 'norm', 'var_type': ['num'], 'seed': 124, 'use_cod_y': False}\n",
            "37        tolerance_x                                                                                                                                                                                                                                                                        0\n",
            "38              upper                                                                                                                                                                                                                                                                      [1]\n",
            "39           var_name                                                                                                                                                                                                                                                                     [x0]\n",
            "40           var_type                                                                                                                                                                                                                                                                    [num]\n",
            "41              var_y                                                                                                                                                                                                                                                                     None\n",
            "42                  y                                                     [0.11411885130827397, 0.48847278433092195, 0.00638355924536736, 0.5882328178019309, 0.14312042308419953, 0.589782525808169, 0.47939599832349, 2.3692002778610106e-10, 1.0367364790603999e-09, 6.725246788486299e-10]"
          ]
        },
        {
          "data": {
            "text/plain": [
              "12627"
            ]
          },
          "execution_count": 13,
          "metadata": {},
          "output_type": "execute_result"
        }
      ],
      "source": [
        "from sys import stdout\n",
        "df = spot_1.class_attributes_to_dataframe()\n",
        "stdout.write(df.to_string())"
      ]
    },
    {
      "cell_type": "code",
      "execution_count": 5,
      "metadata": {},
      "outputs": [
        {
          "data": {
            "text/plain": [
              "Accuracy: 89.28%"
            ]
          },
          "execution_count": 5,
          "metadata": {},
          "output_type": "execute_result"
        }
      ],
      "source": [
        "from river import datasets\n",
        "from river import evaluate\n",
        "from river.linear_model import LogisticRegression\n",
        "from river import metrics\n",
        "from river import optim\n",
        "from river import preprocessing\n",
        "\n",
        "dataset = datasets.Phishing()\n",
        "\n",
        "model = (\n",
        "    preprocessing.StandardScaler() |\n",
        "    LogisticRegression()\n",
        ")\n",
        "\n",
        "metric = metrics.Accuracy()\n",
        "\n",
        "evaluate.progressive_val_score(dataset, model, metric)\n"
      ]
    },
    {
      "cell_type": "code",
      "execution_count": null,
      "metadata": {},
      "outputs": [],
      "source": []
    }
  ],
  "metadata": {
    "kernelspec": {
      "display_name": "Python 3 (ipykernel)",
      "language": "python",
      "name": "python3"
    },
    "language_info": {
      "codemirror_mode": {
        "name": "ipython",
        "version": 3
      },
      "file_extension": ".py",
      "mimetype": "text/x-python",
      "name": "python",
      "nbconvert_exporter": "python",
      "pygments_lexer": "ipython3",
      "version": "3.11.6"
    }
  },
  "nbformat": 4,
  "nbformat_minor": 4
}
