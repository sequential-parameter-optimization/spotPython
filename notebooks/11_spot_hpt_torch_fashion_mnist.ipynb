{
 "cells": [
  {
   "cell_type": "raw",
   "metadata": {},
   "source": [
    "---\n",
    "title: \"pytorch Hyperparameter Tuning with SPOT: fashionMNIST with Hold Out Data\"\n",
    "format: html\n",
    "---"
   ]
  },
  {
   "cell_type": "code",
   "execution_count": 1,
   "metadata": {},
   "outputs": [],
   "source": [
    "MAX_TIME = 600\n",
    "INIT_SIZE = 20"
   ]
  },
  {
   "cell_type": "code",
   "execution_count": 2,
   "metadata": {},
   "outputs": [
    {
     "data": {
      "text/plain": [
       "'11-torch_s7cfd16_600min_20init_2023-05-06_21-28-07'"
      ]
     },
     "execution_count": 2,
     "metadata": {},
     "output_type": "execute_result"
    }
   ],
   "source": [
    "import pickle\n",
    "import socket\n",
    "from datetime import datetime\n",
    "from dateutil.tz import tzlocal\n",
    "start_time = datetime.now(tzlocal())\n",
    "HOSTNAME = socket.gethostname().split(\".\")[0]\n",
    "experiment_name = '11-torch' + \"_\" + HOSTNAME + \"_\" + str(MAX_TIME) + \"min_\" + str(INIT_SIZE) + \"init_\" + str(start_time).split(\".\", 1)[0].replace(' ', '_')\n",
    "experiment_name = experiment_name.replace(':', '-')\n",
    "experiment_name"
   ]
  },
  {
   "attachments": {},
   "cell_type": "markdown",
   "metadata": {},
   "source": [
    "# Chapter 11: Sequential Parameter Optimization\n",
    "## Hyperparameter Tuning: pytorch with fashionMNIST Data "
   ]
  },
  {
   "attachments": {},
   "cell_type": "markdown",
   "metadata": {},
   "source": [
    "* This notebook exemplifies hyperparameter tuning with SPOT (spotPython).\n",
    "* The hyperparameter software SPOT was developed in R (statistical programming language), see Open Access book \"Hyperparameter Tuning for Machine and Deep Learning with R - A Practical Guide\", available here: [https://link.springer.com/book/10.1007/978-981-19-5170-1](https://link.springer.com/book/10.1007/978-981-19-5170-1).\n"
   ]
  },
  {
   "cell_type": "code",
   "execution_count": 3,
   "metadata": {},
   "outputs": [
    {
     "name": "stdout",
     "output_type": "stream",
     "text": [
      "spotPython                   0.0.54\n",
      "spotRiver                    0.0.79\n",
      "Note: you may need to restart the kernel to use updated packages.\n"
     ]
    }
   ],
   "source": [
    "pip list | grep  \"spot[RiverPython]\""
   ]
  },
  {
   "cell_type": "code",
   "execution_count": 4,
   "metadata": {},
   "outputs": [],
   "source": [
    "# import sys\n",
    "# !{sys.executable} -m pip install --upgrade build\n",
    "# !{sys.executable} -m pip install --upgrade --force-reinstall spotPython\n"
   ]
  },
  {
   "cell_type": "code",
   "execution_count": 5,
   "metadata": {},
   "outputs": [],
   "source": [
    "from tabulate import tabulate\n",
    "import copy\n",
    "import warnings\n",
    "import numbers\n",
    "import json\n",
    "import calendar\n",
    "import math\n",
    "import datetime as dt\n",
    "import numpy as np\n",
    "from math import inf\n",
    "import pandas as pd\n",
    "\n",
    "from scipy.optimize import differential_evolution\n",
    "\n",
    "import matplotlib.pyplot as plt\n",
    "\n",
    "import torch\n",
    "from torch import nn\n",
    "from torch.utils.data import DataLoader\n",
    "from torchvision import datasets\n",
    "from torchvision.transforms import ToTensor\n",
    "from functools import partial\n",
    "import torch.nn.functional as F\n",
    "import torch.optim as optim\n",
    "from torch.utils.data import random_split\n",
    "import torchvision\n",
    "import torchvision.transforms as transforms\n",
    "\n",
    "from spotPython.spot import spot\n",
    "from spotPython.hyperparameters.values import (\n",
    "    add_core_model_to_fun_control,\n",
    "    assign_values,\n",
    "    convert_keys,\n",
    "    get_bound_values,\n",
    "    get_default_hyperparameters_for_core_model,\n",
    "    get_default_values,\n",
    "    get_dict_with_levels_and_types,\n",
    "    get_values_from_dict,\n",
    "    get_var_name,\n",
    "    get_var_type,\n",
    "    iterate_dict_values,\n",
    "    modify_hyper_parameter_levels,\n",
    "    modify_hyper_parameter_bounds,\n",
    "    replace_levels_with_positions,\n",
    "    return_conf_list_from_var_dict,\n",
    "    get_one_core_model_from_X,\n",
    "    transform_hyper_parameter_values,\n",
    "    get_dict_with_levels_and_types,\n",
    "    convert_keys,\n",
    "    iterate_dict_values,\n",
    ")\n",
    "\n",
    "from spotPython.utils.convert import class_for_name\n",
    "from spotPython.utils.eda import (\n",
    "    get_stars,\n",
    "    gen_design_table)\n",
    "from spotPython.utils.transform import transform_hyper_parameter_values\n",
    "\n",
    "from spotPython.utils.convert import get_Xy_from_df\n",
    "from spotPython.utils.init import fun_control_init\n",
    "from spotPython.plot.validation import plot_cv_predictions, plot_roc, plot_confusion_matrix\n",
    "\n",
    "from spotPython.data.torch_hyper_dict import TorchHyperDict\n",
    "from spotPython.fun.hypertorch import HyperTorch\n",
    "\n",
    "warnings.filterwarnings(\"ignore\")\n",
    "\n",
    "# Neural Net specific imports:\n",
    "from spotPython.torch.netcvfashionMNIST import Net_CV_fashionMNIST"
   ]
  },
  {
   "cell_type": "code",
   "execution_count": 6,
   "metadata": {},
   "outputs": [
    {
     "name": "stdout",
     "output_type": "stream",
     "text": [
      "2.0.0+cu117\n",
      "MPS not available because the current PyTorch install was not built with MPS enabled.\n"
     ]
    }
   ],
   "source": [
    "print(torch.__version__)\n",
    "# Check that MPS is available\n",
    "if not torch.backends.mps.is_available():\n",
    "    if not torch.backends.mps.is_built():\n",
    "        print(\"MPS not available because the current PyTorch install was not \"\n",
    "              \"built with MPS enabled.\")\n",
    "    else:\n",
    "        print(\"MPS not available because the current MacOS version is not 12.3+ \"\n",
    "              \"and/or you do not have an MPS-enabled device on this machine.\")\n",
    "\n",
    "else:\n",
    "    mps_device = torch.device(\"mps\")\n",
    "    print(\"MPS device: \", mps_device)"
   ]
  },
  {
   "attachments": {},
   "cell_type": "markdown",
   "metadata": {},
   "source": [
    "## 0. Initialization of the Empty `fun_control` Dictionary"
   ]
  },
  {
   "cell_type": "code",
   "execution_count": 7,
   "metadata": {},
   "outputs": [],
   "source": [
    "fun_control = fun_control_init()"
   ]
  },
  {
   "attachments": {},
   "cell_type": "markdown",
   "metadata": {},
   "source": [
    "## 1. Load fashionMNIST Data"
   ]
  },
  {
   "cell_type": "code",
   "execution_count": 8,
   "metadata": {},
   "outputs": [],
   "source": [
    "def load_data(data_dir=\"./data\"):\n",
    "    # Download training data from open datasets.\n",
    "    training_data = datasets.FashionMNIST(\n",
    "        root=data_dir,\n",
    "        train=True,\n",
    "        download=True,\n",
    "        transform=ToTensor(),\n",
    "    )\n",
    "    # Download test data from open datasets.\n",
    "    test_data = datasets.FashionMNIST(\n",
    "        root=data_dir,\n",
    "        train=False,\n",
    "        download=True,\n",
    "        transform=ToTensor(),\n",
    "    )\n",
    "    return training_data, test_data"
   ]
  },
  {
   "cell_type": "code",
   "execution_count": 9,
   "metadata": {},
   "outputs": [
    {
     "data": {
      "text/plain": [
       "(torch.Size([60000, 28, 28]), torch.Size([10000, 28, 28]))"
      ]
     },
     "execution_count": 9,
     "metadata": {},
     "output_type": "execute_result"
    }
   ],
   "source": [
    "train, test = load_data()\n",
    "train.data.shape, test.data.shape"
   ]
  },
  {
   "cell_type": "code",
   "execution_count": 10,
   "metadata": {},
   "outputs": [],
   "source": [
    "n_samples = len(train)\n",
    "# add the dataset to the fun_control\n",
    "fun_control.update({\"data\": None,\n",
    "               \"train\": train,\n",
    "               \"test\": test,\n",
    "               \"n_samples\": n_samples,\n",
    "               \"target_column\": None})"
   ]
  },
  {
   "attachments": {},
   "cell_type": "markdown",
   "metadata": {},
   "source": [
    "## 2. Specification of the Preprocessing Model"
   ]
  },
  {
   "cell_type": "code",
   "execution_count": 11,
   "metadata": {},
   "outputs": [],
   "source": [
    "# categorical_columns = []\n",
    "# one_hot_encoder = OneHotEncoder(handle_unknown=\"ignore\", sparse_output=False)\n",
    "# prep_model = ColumnTransformer(\n",
    "#         transformers=[\n",
    "#             (\"categorical\", one_hot_encoder, categorical_columns),\n",
    "#         ],\n",
    "#         remainder=StandardScaler(),\n",
    "#     )\n",
    "prep_model = None\n",
    "fun_control.update({\"prep_model\": prep_model})"
   ]
  },
  {
   "attachments": {},
   "cell_type": "markdown",
   "metadata": {},
   "source": [
    "## 3. Select `algorithm` and `core_model_hyper_dict`"
   ]
  },
  {
   "cell_type": "code",
   "execution_count": 12,
   "metadata": {},
   "outputs": [],
   "source": [
    "# core_model  = RidgeCV\n",
    "core_model = Net_CV_fashionMNIST\n",
    "fun_control = add_core_model_to_fun_control(core_model=core_model,\n",
    "                              fun_control=fun_control,\n",
    "                              hyper_dict=TorchHyperDict,\n",
    "                              filename=None)"
   ]
  },
  {
   "attachments": {},
   "cell_type": "markdown",
   "metadata": {},
   "source": [
    "## 4. Modify `hyper_dict` Hyperparameters for the Selected Algorithm aka `core_model`"
   ]
  },
  {
   "cell_type": "markdown",
   "metadata": {},
   "source": [
    "### Modify hyperparameter of type factor"
   ]
  },
  {
   "cell_type": "code",
   "execution_count": 13,
   "metadata": {},
   "outputs": [],
   "source": [
    "# fun_control = modify_hyper_parameter_levels(fun_control, \"leaf_model\", [\"LinearRegression\"])\n",
    "# fun_control[\"core_model_hyper_dict\"]"
   ]
  },
  {
   "attachments": {},
   "cell_type": "markdown",
   "metadata": {},
   "source": [
    "### Modify hyperparameter of type numeric and integer (boolean)"
   ]
  },
  {
   "cell_type": "code",
   "execution_count": 14,
   "metadata": {},
   "outputs": [],
   "source": [
    "# fun_control = modify_hyper_parameter_bounds(fun_control, \"delta\", bounds=[1e-10, 1e-6])\n",
    "# fun_control = modify_hyper_parameter_bounds(fun_control, \"min_samples_split\", bounds=[3, 20])\n",
    "#fun_control = modify_hyper_parameter_bounds(fun_control, \"merit_preprune\", bounds=[0, 0])\n",
    "# fun_control[\"core_model_hyper_dict\"]\n",
    "fun_control = modify_hyper_parameter_bounds(fun_control, \"k_folds\", bounds=[0, 0])"
   ]
  },
  {
   "attachments": {},
   "cell_type": "markdown",
   "metadata": {},
   "source": [
    "## 5. Selection of the Objective (Loss) Function"
   ]
  },
  {
   "attachments": {},
   "cell_type": "markdown",
   "metadata": {},
   "source": [
    "There are two metrics:\n",
    "\n",
    "    1. `metric` is used for the river based evaluation via `eval_oml_iter_progressive`.\n",
    "    2. `metric_sklearn` is used for the sklearn based evaluation."
   ]
  },
  {
   "attachments": {},
   "cell_type": "markdown",
   "metadata": {},
   "source": [
    "**Important**:\n",
    "\n",
    "* `spotPython` performs minimization by default.\n",
    "* If accuracy should be maximized, then the objective function has to be multiplied by -1. Therefore, `weights` is set to -1 in this case."
   ]
  },
  {
   "cell_type": "code",
   "execution_count": 15,
   "metadata": {},
   "outputs": [],
   "source": [
    "fun = HyperTorch(seed=123, log_level=50).fun_torch\n",
    "weights = 1.0\n",
    "shuffle = True\n",
    "\n",
    "fun_control.update({\n",
    "               \"data_dir\": None,\n",
    "               \"checkpoint_dir\": None,\n",
    "               \"horizon\": None,\n",
    "               \"oml_grace_period\": None,\n",
    "               \"weights\": weights,\n",
    "               \"step\": None,\n",
    "               \"log_level\": 50,\n",
    "               \"weight_coeff\": None,\n",
    "               \"metric\": None,\n",
    "               \"metric_sklearn\": None,\n",
    "               \"shuffle\": shuffle,\n",
    "               })"
   ]
  },
  {
   "attachments": {},
   "cell_type": "markdown",
   "metadata": {},
   "source": [
    "## 6. Calling the SPOT Function"
   ]
  },
  {
   "attachments": {},
   "cell_type": "markdown",
   "metadata": {},
   "source": [
    "### Prepare the SPOT Parameters"
   ]
  },
  {
   "attachments": {},
   "cell_type": "markdown",
   "metadata": {},
   "source": [
    "* Get types and variable names as well as lower and upper bounds for the hyperparameters."
   ]
  },
  {
   "cell_type": "code",
   "execution_count": 16,
   "metadata": {},
   "outputs": [],
   "source": [
    "var_type = get_var_type(fun_control)\n",
    "var_name = get_var_name(fun_control)\n",
    "fun_control.update({\"var_type\": var_type,\n",
    "                    \"var_name\": var_name})\n",
    "\n",
    "lower = get_bound_values(fun_control, \"lower\")\n",
    "upper = get_bound_values(fun_control, \"upper\")"
   ]
  },
  {
   "cell_type": "code",
   "execution_count": 17,
   "metadata": {},
   "outputs": [
    {
     "name": "stdout",
     "output_type": "stream",
     "text": [
      "| name       | type   |   default |   lower |   upper | transform             |\n",
      "|------------|--------|-----------|---------|---------|-----------------------|\n",
      "| l1         | int    |     5     |  2      |     9   | transform_power_2_int |\n",
      "| l2         | int    |     5     |  2      |     9   | transform_power_2_int |\n",
      "| lr         | float  |     0.001 |  0.0001 |     0.1 | None                  |\n",
      "| batch_size | int    |     4     |  1      |     4   | transform_power_2_int |\n",
      "| epochs     | int    |     3     |  1      |     4   | transform_power_2_int |\n",
      "| k_folds    | int    |     2     |  0      |     0   | None                  |\n"
     ]
    }
   ],
   "source": [
    "print(gen_design_table(fun_control))"
   ]
  },
  {
   "attachments": {},
   "cell_type": "markdown",
   "metadata": {},
   "source": [
    "### Run the `Spot` Optimizer\n",
    "\n",
    "* Run SPOT for approx. x mins (`max_time`).\n",
    "* Note: the run takes longer, because the evaluation time of initial design (here: `initi_size`, 20 points) is not considered."
   ]
  },
  {
   "cell_type": "code",
   "execution_count": 18,
   "metadata": {},
   "outputs": [
    {
     "data": {
      "text/plain": [
       "array([[5.e+00, 5.e+00, 1.e-03, 4.e+00, 3.e+00, 2.e+00]])"
      ]
     },
     "execution_count": 18,
     "metadata": {},
     "output_type": "execute_result"
    }
   ],
   "source": [
    "X0 = get_default_values(fun_control)\n",
    "river_hyper_dict_default = fun_control[\"core_model_hyper_dict\"]\n",
    "X0 = replace_levels_with_positions(river_hyper_dict_default, X0)\n",
    "X0 = get_values_from_dict(X0)\n",
    "X_start = np.array([X0])\n",
    "X_start"
   ]
  },
  {
   "cell_type": "code",
   "execution_count": 19,
   "metadata": {},
   "outputs": [
    {
     "data": {
      "text/plain": [
       "array([[5.e+00, 5.e+00, 1.e-03, 4.e+00, 3.e+00, 2.e+00]])"
      ]
     },
     "execution_count": 19,
     "metadata": {},
     "output_type": "execute_result"
    }
   ],
   "source": [
    "from spotPython.hyperparameters.values import get_default_hyperparameters_as_array\n",
    "hyper_dict=TorchHyperDict().load()\n",
    "X_start = get_default_hyperparameters_as_array(fun_control, hyper_dict)\n",
    "X_start"
   ]
  },
  {
   "cell_type": "code",
   "execution_count": 20,
   "metadata": {},
   "outputs": [
    {
     "name": "stdout",
     "output_type": "stream",
     "text": [
      "[1,  2000] loss: 2.348\n",
      "[1,  4000] loss: 1.165\n",
      "[1,  6000] loss: 0.778\n",
      "[1,  8000] loss: 0.583\n",
      "[2,  2000] loss: 2.330\n",
      "[2,  4000] loss: 1.166\n",
      "[2,  6000] loss: 0.778\n",
      "[2,  8000] loss: 0.583\n",
      "[3,  2000] loss: 2.333\n",
      "[3,  4000] loss: 1.166\n",
      "[3,  6000] loss: 0.778\n",
      "[3,  8000] loss: 0.583\n",
      "[4,  2000] loss: 2.329\n",
      "[4,  4000] loss: 1.165\n",
      "[4,  6000] loss: 0.778\n",
      "[4,  8000] loss: 0.582\n",
      "[5,  2000] loss: 2.332\n",
      "[5,  4000] loss: 1.166\n",
      "[5,  6000] loss: 0.778\n",
      "[5,  8000] loss: 0.583\n",
      "[6,  2000] loss: 2.330\n",
      "[6,  4000] loss: 1.167\n",
      "[6,  6000] loss: 0.778\n",
      "[6,  8000] loss: 0.583\n",
      "[7,  2000] loss: 2.332\n",
      "[7,  4000] loss: 1.166\n",
      "[7,  6000] loss: 0.778\n",
      "[7,  8000] loss: 0.583\n",
      "[8,  2000] loss: 2.330\n",
      "[8,  4000] loss: 1.167\n",
      "[8,  6000] loss: 0.778\n",
      "[8,  8000] loss: 0.583\n",
      "Accuracy on hold-out set: 0.09933333333333333\n",
      "Loss on hold-out set: 2.3348651004831\n",
      "[1,  2000] loss: 1.051\n",
      "[2,  2000] loss: 1.208\n",
      "[3,  2000] loss: 1.226\n",
      "[4,  2000] loss: 1.218\n",
      "[5,  2000] loss: 1.299\n",
      "[6,  2000] loss: 1.368\n",
      "[7,  2000] loss: 1.366\n",
      "[8,  2000] loss: 1.343\n",
      "Accuracy on hold-out set: 0.44445833333333334\n",
      "Loss on hold-out set: 1.4429961559176445\n",
      "[1,  2000] loss: 2.477\n",
      "[1,  4000] loss: 1.164\n",
      "[1,  6000] loss: 0.775\n",
      "[1,  8000] loss: 0.581\n",
      "[2,  2000] loss: 2.323\n",
      "[2,  4000] loss: 1.162\n",
      "[2,  6000] loss: 0.775\n",
      "[2,  8000] loss: 0.581\n",
      "Accuracy on hold-out set: 0.0995\n",
      "Loss on hold-out set: 2.311900102853775\n",
      "[1,  2000] loss: 1.644\n",
      "[1,  4000] loss: 0.759\n",
      "[1,  6000] loss: 0.522\n",
      "[1,  8000] loss: 0.393\n",
      "[2,  2000] loss: 1.466\n",
      "[2,  4000] loss: 0.766\n",
      "[2,  6000] loss: 0.504\n",
      "[2,  8000] loss: 0.381\n",
      "[3,  2000] loss: 1.470\n",
      "[3,  4000] loss: 0.730\n",
      "[3,  6000] loss: 0.536\n",
      "[3,  8000] loss: 0.418\n",
      "[4,  2000] loss: 1.582\n",
      "[4,  4000] loss: 0.888\n",
      "[4,  6000] loss: 0.535\n",
      "[4,  8000] loss: 0.377\n",
      "[5,  2000] loss: 1.683\n",
      "[5,  4000] loss: 0.839\n",
      "[5,  6000] loss: 0.584\n",
      "[5,  8000] loss: 0.423\n",
      "[6,  2000] loss: 1.676\n",
      "[6,  4000] loss: 0.840\n",
      "[6,  6000] loss: 0.500\n",
      "[6,  8000] loss: 0.355\n",
      "[7,  2000] loss: 1.372\n",
      "[7,  4000] loss: 0.692\n",
      "[7,  6000] loss: 0.470\n",
      "[7,  8000] loss: 0.358\n",
      "[8,  2000] loss: 1.565\n",
      "[8,  4000] loss: 0.780\n",
      "[8,  6000] loss: 0.494\n",
      "[8,  8000] loss: 0.382\n",
      "[9,  2000] loss: 1.511\n",
      "[9,  4000] loss: 0.745\n",
      "[9,  6000] loss: 0.500\n",
      "[9,  8000] loss: 0.379\n",
      "[10,  2000] loss: 1.510\n",
      "[10,  4000] loss: 0.765\n",
      "[10,  6000] loss: 0.501\n",
      "[10,  8000] loss: 0.375\n",
      "[11,  2000] loss: 1.515\n",
      "[11,  4000] loss: 0.766\n",
      "[11,  6000] loss: 0.497\n",
      "[11,  8000] loss: 0.386\n",
      "[12,  2000] loss: 1.557\n",
      "[12,  4000] loss: 0.764\n",
      "[12,  6000] loss: 0.513\n",
      "[12,  8000] loss: 0.408\n",
      "[13,  2000] loss: 1.610\n",
      "[13,  4000] loss: 0.809\n",
      "[13,  6000] loss: 0.531\n",
      "[13,  8000] loss: 0.410\n",
      "[14,  2000] loss: 1.588\n",
      "[14,  4000] loss: 0.791\n",
      "[14,  6000] loss: 0.536\n",
      "[14,  8000] loss: 0.403\n",
      "[15,  2000] loss: 1.631\n",
      "[15,  4000] loss: 0.821\n",
      "[15,  6000] loss: 0.563\n",
      "[15,  8000] loss: 0.401\n",
      "[16,  2000] loss: 1.643\n",
      "[16,  4000] loss: 0.796\n",
      "[16,  6000] loss: 0.530\n",
      "[16,  8000] loss: 0.415\n",
      "Accuracy on hold-out set: 0.35304166666666664\n",
      "Loss on hold-out set: 1.651909640817127\n",
      "[1,  2000] loss: 2.911\n",
      "[1,  4000] loss: 1.158\n",
      "[2,  2000] loss: 2.316\n",
      "[2,  4000] loss: 1.158\n",
      "[3,  2000] loss: 2.316\n",
      "[3,  4000] loss: 1.159\n",
      "[4,  2000] loss: 2.316\n",
      "[4,  4000] loss: 1.158\n",
      "[5,  2000] loss: 2.318\n",
      "[5,  4000] loss: 1.158\n",
      "[6,  2000] loss: 2.317\n",
      "[6,  4000] loss: 1.159\n",
      "[7,  2000] loss: 2.316\n",
      "[7,  4000] loss: 1.159\n",
      "[8,  2000] loss: 2.316\n",
      "[8,  4000] loss: 1.158\n",
      "Accuracy on hold-out set: 0.0995\n",
      "Loss on hold-out set: 2.3159285152753193\n",
      "[1,  2000] loss: 2.328\n",
      "[1,  4000] loss: 1.163\n",
      "[2,  2000] loss: 2.327\n",
      "[2,  4000] loss: 1.162\n",
      "[3,  2000] loss: 2.324\n",
      "[3,  4000] loss: 1.162\n",
      "[4,  2000] loss: 2.323\n",
      "[4,  4000] loss: 1.162\n",
      "[5,  2000] loss: 2.325\n",
      "[5,  4000] loss: 1.162\n",
      "[6,  2000] loss: 2.325\n",
      "[6,  4000] loss: 1.163\n",
      "[7,  2000] loss: 2.325\n",
      "[7,  4000] loss: 1.162\n",
      "[8,  2000] loss: 2.327\n",
      "[8,  4000] loss: 1.162\n",
      "Accuracy on hold-out set: 0.097875\n",
      "Loss on hold-out set: 2.318961398681005\n",
      "[1,  2000] loss: 2.377\n",
      "[2,  2000] loss: 2.316\n",
      "[3,  2000] loss: 2.315\n",
      "[4,  2000] loss: 2.314\n",
      "[5,  2000] loss: 2.315\n",
      "[6,  2000] loss: 2.315\n",
      "[7,  2000] loss: 2.315\n",
      "[8,  2000] loss: 2.316\n",
      "Accuracy on hold-out set: 0.10095833333333333\n",
      "Loss on hold-out set: 2.306847927729289\n",
      "[1,  2000] loss: 4.918\n",
      "[1,  4000] loss: 1.171\n",
      "[1,  6000] loss: 0.781\n",
      "[1,  8000] loss: 0.767\n",
      "[1, 10000] loss: 0.468\n",
      "[1, 12000] loss: 0.390\n",
      "[1, 14000] loss: 0.334\n",
      "[1, 16000] loss: 0.292\n",
      "[1, 18000] loss: 0.260\n",
      "[2,  2000] loss: 2.341\n",
      "[2,  4000] loss: 1.168\n",
      "[2,  6000] loss: 0.782\n",
      "[2,  8000] loss: 0.583\n",
      "[2, 10000] loss: 0.468\n",
      "[2, 12000] loss: 0.390\n",
      "[2, 14000] loss: 0.335\n",
      "[2, 16000] loss: 0.293\n",
      "[2, 18000] loss: 0.260\n",
      "[3,  2000] loss: 2.343\n",
      "[3,  4000] loss: 1.171\n",
      "[3,  6000] loss: 0.781\n",
      "[3,  8000] loss: 0.585\n",
      "[3, 10000] loss: 0.468\n",
      "[3, 12000] loss: 0.390\n",
      "[3, 14000] loss: 0.334\n",
      "[3, 16000] loss: 0.293\n",
      "[3, 18000] loss: 0.260\n",
      "[4,  2000] loss: 2.338\n",
      "[4,  4000] loss: 1.170\n",
      "[4,  6000] loss: 0.779\n",
      "[4,  8000] loss: 0.585\n",
      "[4, 10000] loss: 0.468\n",
      "[4, 12000] loss: 0.390\n",
      "[4, 14000] loss: 0.335\n",
      "[4, 16000] loss: 0.293\n",
      "[4, 18000] loss: 0.259\n",
      "[5,  2000] loss: 2.339\n",
      "[5,  4000] loss: 1.167\n",
      "[5,  6000] loss: 0.780\n",
      "[5,  8000] loss: 0.586\n",
      "[5, 10000] loss: 0.468\n",
      "[5, 12000] loss: 0.390\n",
      "[5, 14000] loss: 0.334\n",
      "[5, 16000] loss: 0.292\n",
      "[5, 18000] loss: 0.260\n",
      "[6,  2000] loss: 2.343\n",
      "[6,  4000] loss: 1.169\n",
      "[6,  6000] loss: 0.778\n",
      "[6,  8000] loss: 0.585\n",
      "[6, 10000] loss: 0.469\n",
      "[6, 12000] loss: 0.390\n",
      "[6, 14000] loss: 0.333\n",
      "[6, 16000] loss: 0.292\n",
      "[6, 18000] loss: 0.260\n",
      "[7,  2000] loss: 2.343\n",
      "[7,  4000] loss: 1.169\n",
      "[7,  6000] loss: 0.779\n",
      "[7,  8000] loss: 0.585\n",
      "[7, 10000] loss: 0.467\n",
      "[7, 12000] loss: 0.391\n",
      "[7, 14000] loss: 0.334\n",
      "[7, 16000] loss: 0.293\n",
      "[7, 18000] loss: 0.260\n",
      "[8,  2000] loss: 2.337\n",
      "[8,  4000] loss: 1.170\n",
      "[8,  6000] loss: 0.780\n",
      "[8,  8000] loss: 0.584\n",
      "[8, 10000] loss: 0.468\n",
      "[8, 12000] loss: 0.390\n",
      "[8, 14000] loss: 0.334\n",
      "[8, 16000] loss: 0.293\n",
      "[8, 18000] loss: 0.261\n",
      "Accuracy on hold-out set: 0.09991666666666667\n",
      "Loss on hold-out set: 2.335110106408596\n",
      "[1,  2000] loss: 3.578\n",
      "[1,  4000] loss: 1.187\n",
      "[1,  6000] loss: 0.777\n",
      "[1,  8000] loss: 0.583\n",
      "[2,  2000] loss: 2.331\n",
      "[2,  4000] loss: 1.167\n",
      "[2,  6000] loss: 0.778\n",
      "[2,  8000] loss: 0.583\n",
      "[3,  2000] loss: 2.333\n",
      "[3,  4000] loss: 1.167\n",
      "[3,  6000] loss: 0.779\n",
      "[3,  8000] loss: 0.584\n",
      "[4,  2000] loss: 2.333\n",
      "[4,  4000] loss: 1.167\n",
      "[4,  6000] loss: 0.779\n",
      "[4,  8000] loss: 0.583\n",
      "Accuracy on hold-out set: 0.101375\n",
      "Loss on hold-out set: 2.320873484690984\n",
      "[1,  2000] loss: 2.314\n",
      "[1,  4000] loss: 1.154\n",
      "[1,  6000] loss: 0.769\n",
      "[1,  8000] loss: 0.577\n",
      "[2,  2000] loss: 2.307\n",
      "[2,  4000] loss: 1.154\n",
      "[2,  6000] loss: 0.770\n",
      "[2,  8000] loss: 0.577\n",
      "Accuracy on hold-out set: 0.102375\n",
      "Loss on hold-out set: 2.3057273806730905\n",
      "[1,  2000] loss: 1.665\n",
      "[1,  4000] loss: 0.847\n",
      "[2,  2000] loss: 1.906\n",
      "[2,  4000] loss: 0.939\n",
      "[3,  2000] loss: 1.806\n",
      "[3,  4000] loss: 0.892\n",
      "[4,  2000] loss: 1.815\n",
      "[4,  4000] loss: 0.888\n",
      "Accuracy on hold-out set: 0.19583333333333333\n",
      "Loss on hold-out set: 1.7446358592112858\n",
      "[1,  2000] loss: 2.328\n",
      "[1,  4000] loss: 1.160\n",
      "[1,  6000] loss: 0.773\n",
      "[1,  8000] loss: 0.579\n",
      "[1, 10000] loss: 0.464\n",
      "[1, 12000] loss: 0.387\n",
      "[1, 14000] loss: 0.331\n",
      "[1, 16000] loss: 0.290\n",
      "[1, 18000] loss: 0.258\n",
      "[2,  2000] loss: 2.317\n",
      "[2,  4000] loss: 1.159\n",
      "[2,  6000] loss: 0.773\n",
      "[2,  8000] loss: 0.580\n",
      "[2, 10000] loss: 0.465\n",
      "[2, 12000] loss: 0.387\n",
      "[2, 14000] loss: 0.332\n",
      "[2, 16000] loss: 0.290\n",
      "[2, 18000] loss: 0.257\n",
      "[3,  2000] loss: 2.322\n",
      "[3,  4000] loss: 1.159\n",
      "[3,  6000] loss: 0.773\n",
      "[3,  8000] loss: 0.580\n",
      "[3, 10000] loss: 0.464\n",
      "[3, 12000] loss: 0.387\n",
      "[3, 14000] loss: 0.331\n",
      "[3, 16000] loss: 0.290\n",
      "[3, 18000] loss: 0.258\n",
      "[4,  2000] loss: 2.322\n",
      "[4,  4000] loss: 1.161\n",
      "[4,  6000] loss: 0.773\n",
      "[4,  8000] loss: 0.580\n",
      "[4, 10000] loss: 0.464\n",
      "[4, 12000] loss: 0.387\n",
      "[4, 14000] loss: 0.332\n",
      "[4, 16000] loss: 0.290\n",
      "[4, 18000] loss: 0.258\n",
      "Accuracy on hold-out set: 0.10083333333333333\n",
      "Loss on hold-out set: 2.3296370136638482\n",
      "[1,  2000] loss: 2.314\n",
      "[1,  4000] loss: 1.155\n",
      "[2,  2000] loss: 2.311\n",
      "[2,  4000] loss: 1.155\n",
      "[3,  2000] loss: 2.309\n",
      "[3,  4000] loss: 1.155\n",
      "[4,  2000] loss: 2.311\n",
      "[4,  4000] loss: 1.155\n",
      "[5,  2000] loss: 2.310\n",
      "[5,  4000] loss: 1.155\n",
      "[6,  2000] loss: 2.310\n",
      "[6,  4000] loss: 1.155\n",
      "[7,  2000] loss: 2.310\n",
      "[7,  4000] loss: 1.155\n",
      "[8,  2000] loss: 2.310\n",
      "[8,  4000] loss: 1.155\n",
      "[9,  2000] loss: 2.310\n",
      "[9,  4000] loss: 1.155\n",
      "[10,  2000] loss: 2.310\n",
      "[10,  4000] loss: 1.155\n",
      "[11,  2000] loss: 2.310\n",
      "[11,  4000] loss: 1.154\n",
      "[12,  2000] loss: 2.309\n",
      "[12,  4000] loss: 1.155\n",
      "[13,  2000] loss: 2.310\n",
      "[13,  4000] loss: 1.155\n",
      "[14,  2000] loss: 2.309\n",
      "[14,  4000] loss: 1.155\n",
      "[15,  2000] loss: 2.310\n",
      "[15,  4000] loss: 1.155\n",
      "[16,  2000] loss: 2.310\n",
      "[16,  4000] loss: 1.155\n",
      "Accuracy on hold-out set: 0.09791666666666667\n",
      "Loss on hold-out set: 2.3093962224324542\n",
      "[1,  2000] loss: 2.386\n",
      "[2,  2000] loss: 2.320\n",
      "[3,  2000] loss: 2.319\n",
      "[4,  2000] loss: 2.320\n",
      "[5,  2000] loss: 2.320\n",
      "[6,  2000] loss: 2.319\n",
      "[7,  2000] loss: 2.318\n",
      "[8,  2000] loss: 2.319\n",
      "Accuracy on hold-out set: 0.09925\n",
      "Loss on hold-out set: 2.3201836312611896\n",
      "[1,  2000] loss: 1.018\n",
      "[1,  4000] loss: 0.418\n",
      "[1,  6000] loss: 0.258\n",
      "[1,  8000] loss: 0.184\n",
      "[1, 10000] loss: 0.156\n",
      "[1, 12000] loss: 0.123\n",
      "[1, 14000] loss: 0.100\n",
      "[1, 16000] loss: 0.090\n",
      "[1, 18000] loss: 0.079\n",
      "[2,  2000] loss: 0.652\n",
      "[2,  4000] loss: 0.318\n",
      "[2,  6000] loss: 0.222\n",
      "[2,  8000] loss: 0.162\n",
      "[2, 10000] loss: 0.134\n",
      "[2, 12000] loss: 0.108\n",
      "[2, 14000] loss: 0.097\n",
      "[2, 16000] loss: 0.084\n",
      "[2, 18000] loss: 0.075\n",
      "[3,  2000] loss: 0.606\n",
      "[3,  4000] loss: 0.309\n",
      "[3,  6000] loss: 0.228\n",
      "[3,  8000] loss: 0.167\n",
      "[3, 10000] loss: 0.127\n",
      "[3, 12000] loss: 0.103\n",
      "[3, 14000] loss: 0.094\n",
      "[3, 16000] loss: 0.076\n",
      "[3, 18000] loss: 0.068\n",
      "[4,  2000] loss: 0.607\n",
      "[4,  4000] loss: 0.300\n",
      "[4,  6000] loss: 0.196\n",
      "[4,  8000] loss: 0.152\n",
      "[4, 10000] loss: 0.110\n",
      "[4, 12000] loss: 0.108\n",
      "[4, 14000] loss: 0.088\n",
      "[4, 16000] loss: 0.077\n",
      "[4, 18000] loss: 0.068\n",
      "Accuracy on hold-out set: 0.85475\n",
      "Loss on hold-out set: 0.709115148159605\n",
      "[1,  2000] loss: 1.089\n",
      "[1,  4000] loss: 0.409\n",
      "[2,  2000] loss: 0.739\n",
      "[2,  4000] loss: 0.368\n",
      "Accuracy on hold-out set: 0.7623333333333333\n",
      "Loss on hold-out set: 0.7576360034629082\n",
      "[1,  2000] loss: 0.794\n",
      "[1,  4000] loss: 0.330\n",
      "[2,  2000] loss: 0.645\n",
      "[2,  4000] loss: 0.303\n",
      "[3,  2000] loss: 0.602\n",
      "[3,  4000] loss: 0.311\n",
      "[4,  2000] loss: 0.610\n",
      "[4,  4000] loss: 0.301\n",
      "Accuracy on hold-out set: 0.8117083333333334\n",
      "Loss on hold-out set: 0.5754812591251879\n",
      "[1,  2000] loss: 2.343\n",
      "[1,  4000] loss: 1.164\n",
      "[2,  2000] loss: 2.329\n",
      "[2,  4000] loss: 1.164\n",
      "[3,  2000] loss: 2.329\n",
      "[3,  4000] loss: 1.164\n",
      "[4,  2000] loss: 2.329\n",
      "[4,  4000] loss: 1.164\n",
      "[5,  2000] loss: 2.330\n",
      "[5,  4000] loss: 1.164\n",
      "[6,  2000] loss: 2.328\n",
      "[6,  4000] loss: 1.165\n",
      "[7,  2000] loss: 2.328\n",
      "[7,  4000] loss: 1.164\n",
      "[8,  2000] loss: 2.330\n",
      "[8,  4000] loss: 1.164\n",
      "[9,  2000] loss: 2.327\n",
      "[9,  4000] loss: 1.164\n",
      "[10,  2000] loss: 2.326\n",
      "[10,  4000] loss: 1.165\n",
      "[11,  2000] loss: 2.327\n",
      "[11,  4000] loss: 1.165\n",
      "[12,  2000] loss: 2.329\n",
      "[12,  4000] loss: 1.164\n",
      "[13,  2000] loss: 2.328\n",
      "[13,  4000] loss: 1.165\n",
      "[14,  2000] loss: 2.328\n",
      "[14,  4000] loss: 1.164\n",
      "[15,  2000] loss: 2.329\n",
      "[15,  4000] loss: 1.165\n",
      "[16,  2000] loss: 2.329\n",
      "[16,  4000] loss: 1.164\n",
      "Accuracy on hold-out set: 0.10075\n",
      "Loss on hold-out set: 2.329746807495753\n",
      "[1,  2000] loss: 2.377\n",
      "[1,  4000] loss: 1.163\n",
      "[1,  6000] loss: 0.776\n",
      "[1,  8000] loss: 0.581\n",
      "[2,  2000] loss: 2.328\n",
      "[2,  4000] loss: 1.163\n",
      "[2,  6000] loss: 0.776\n",
      "[2,  8000] loss: 0.582\n",
      "[3,  2000] loss: 2.326\n",
      "[3,  4000] loss: 1.161\n",
      "[3,  6000] loss: 0.776\n",
      "[3,  8000] loss: 0.581\n",
      "[4,  2000] loss: 2.326\n",
      "[4,  4000] loss: 1.163\n",
      "[4,  6000] loss: 0.775\n",
      "[4,  8000] loss: 0.581\n",
      "Accuracy on hold-out set: 0.09929166666666667\n",
      "Loss on hold-out set: 2.326240884224574\n",
      "[1,  2000] loss: 2.240\n",
      "[1,  4000] loss: 1.160\n",
      "[1,  6000] loss: 0.773\n",
      "[1,  8000] loss: 0.580\n",
      "[2,  2000] loss: 2.320\n",
      "[2,  4000] loss: 1.161\n",
      "[2,  6000] loss: 0.773\n",
      "[2,  8000] loss: 0.580\n",
      "[3,  2000] loss: 2.318\n",
      "[3,  4000] loss: 1.160\n",
      "[3,  6000] loss: 0.773\n",
      "[3,  8000] loss: 0.580\n",
      "[4,  2000] loss: 2.318\n",
      "[4,  4000] loss: 1.160\n",
      "[4,  6000] loss: 0.773\n",
      "[4,  8000] loss: 0.579\n",
      "Accuracy on hold-out set: 0.10125\n",
      "Loss on hold-out set: 2.317868604461352\n",
      "[1,  2000] loss: 0.759\n",
      "[1,  4000] loss: 0.267\n",
      "[2,  2000] loss: 0.475\n",
      "[2,  4000] loss: 0.235\n",
      "[3,  2000] loss: 0.433\n",
      "[3,  4000] loss: 0.215\n",
      "[4,  2000] loss: 0.410\n",
      "[4,  4000] loss: 0.207\n",
      "Accuracy on hold-out set: 0.857625\n",
      "Loss on hold-out set: 0.42063696272310336\n",
      "[1,  2000] loss: 1.335--------] 0.21% \n",
      "[2,  2000] loss: 0.705\n",
      "[3,  2000] loss: 0.593\n",
      "[4,  2000] loss: 0.541\n",
      "Accuracy on hold-out set: 0.8189583333333333\n",
      "Loss on hold-out set: 0.5317084591885408\n",
      "[1,  2000] loss: 1.876--------] 0.33% \n",
      "[1,  4000] loss: 0.582\n",
      "[1,  6000] loss: 0.311\n",
      "[1,  8000] loss: 0.209\n",
      "[1, 10000] loss: 0.158\n",
      "[1, 12000] loss: 0.138\n",
      "[1, 14000] loss: 0.110\n",
      "[1, 16000] loss: 0.094\n",
      "[1, 18000] loss: 0.076\n",
      "[2,  2000] loss: 0.728\n",
      "[2,  4000] loss: 0.363\n",
      "[2,  6000] loss: 0.237\n",
      "[2,  8000] loss: 0.171\n",
      "[2, 10000] loss: 0.136\n",
      "[2, 12000] loss: 0.113\n",
      "[2, 14000] loss: 0.093\n",
      "[2, 16000] loss: 0.085\n",
      "[2, 18000] loss: 0.074\n",
      "[3,  2000] loss: 0.663\n",
      "[3,  4000] loss: 0.326\n",
      "[3,  6000] loss: 0.218\n",
      "[3,  8000] loss: 0.162\n",
      "[3, 10000] loss: 0.126\n",
      "[3, 12000] loss: 0.108\n",
      "[3, 14000] loss: 0.097\n",
      "[3, 16000] loss: 0.084\n",
      "[3, 18000] loss: 0.077\n",
      "[4,  2000] loss: 0.639\n",
      "[4,  4000] loss: 0.315\n",
      "[4,  6000] loss: 0.224\n",
      "[4,  8000] loss: 0.160\n",
      "[4, 10000] loss: 0.126\n",
      "[4, 12000] loss: 0.105\n",
      "[4, 14000] loss: 0.096\n",
      "[4, 16000] loss: 0.081\n",
      "[4, 18000] loss: 0.070\n",
      "Accuracy on hold-out set: 0.8325416666666666\n",
      "Loss on hold-out set: 0.6284251182139875\n",
      "[1,  2000] loss: 0.580--------] 1.09% \n",
      "[2,  2000] loss: 0.410\n",
      "[3,  2000] loss: 0.367\n",
      "[4,  2000] loss: 0.336\n",
      "Accuracy on hold-out set: 0.862125\n",
      "Loss on hold-out set: 0.3967570789170762\n",
      "[1,  2000] loss: 0.813--------] 1.21% \n",
      "[2,  2000] loss: 0.507\n",
      "[3,  2000] loss: 0.455\n",
      "[4,  2000] loss: 0.423\n",
      "[5,  2000] loss: 0.401\n",
      "[6,  2000] loss: 0.384\n",
      "[7,  2000] loss: 0.368\n",
      "[8,  2000] loss: 0.355\n",
      "Accuracy on hold-out set: 0.872\n",
      "Loss on hold-out set: 0.368858978168418\n",
      "[1,  2000] loss: 0.813--------] 1.43% \n",
      "[2,  2000] loss: 0.498\n",
      "[3,  2000] loss: 0.449\n",
      "[4,  2000] loss: 0.419\n",
      "[5,  2000] loss: 0.399\n",
      "[6,  2000] loss: 0.382\n",
      "[7,  2000] loss: 0.364\n",
      "[8,  2000] loss: 0.352\n",
      "Accuracy on hold-out set: 0.8632083333333334\n",
      "Loss on hold-out set: 0.38687136775131026\n",
      "[1,  2000] loss: 0.787--------] 1.64% \n",
      "[2,  2000] loss: 0.483\n",
      "[3,  2000] loss: 0.434\n",
      "[4,  2000] loss: 0.406\n",
      "[5,  2000] loss: 0.382\n",
      "[6,  2000] loss: 0.364\n",
      "[7,  2000] loss: 0.350\n",
      "[8,  2000] loss: 0.334\n",
      "[9,  2000] loss: 0.325\n",
      "[10,  2000] loss: 0.312\n",
      "[11,  2000] loss: 0.302\n",
      "[12,  2000] loss: 0.296\n",
      "[13,  2000] loss: 0.289\n",
      "[14,  2000] loss: 0.276\n",
      "[15,  2000] loss: 0.271\n",
      "[16,  2000] loss: 0.266\n",
      "Accuracy on hold-out set: 0.8819166666666667\n",
      "Loss on hold-out set: 0.3383371886989723\n",
      "[1,  2000] loss: 0.801--------] 2.05% \n",
      "[2,  2000] loss: 0.487\n",
      "[3,  2000] loss: 0.435\n",
      "[4,  2000] loss: 0.403\n",
      "[5,  2000] loss: 0.381\n",
      "[6,  2000] loss: 0.364\n",
      "[7,  2000] loss: 0.347\n",
      "[8,  2000] loss: 0.335\n",
      "[9,  2000] loss: 0.323\n",
      "[10,  2000] loss: 0.311\n",
      "[11,  2000] loss: 0.300\n",
      "[12,  2000] loss: 0.293\n",
      "[13,  2000] loss: 0.284\n",
      "[14,  2000] loss: 0.276\n",
      "[15,  2000] loss: 0.268\n",
      "[16,  2000] loss: 0.260\n",
      "Accuracy on hold-out set: 0.8870416666666666\n",
      "Loss on hold-out set: 0.33198336880405743\n",
      "[1,  2000] loss: 0.912--------] 2.46% \n",
      "[1,  4000] loss: 0.273\n",
      "[2,  2000] loss: 0.487\n",
      "[2,  4000] loss: 0.234\n",
      "[3,  2000] loss: 0.434\n",
      "[3,  4000] loss: 0.217\n",
      "[4,  2000] loss: 0.402\n",
      "[4,  4000] loss: 0.205\n",
      "[5,  2000] loss: 0.385\n",
      "[5,  4000] loss: 0.191\n",
      "[6,  2000] loss: 0.368\n",
      "[6,  4000] loss: 0.180\n",
      "[7,  2000] loss: 0.355\n",
      "[7,  4000] loss: 0.173\n",
      "[8,  2000] loss: 0.340\n",
      "[8,  4000] loss: 0.166\n",
      "[9,  2000] loss: 0.322\n",
      "[9,  4000] loss: 0.161\n",
      "[10,  2000] loss: 0.316\n",
      "[10,  4000] loss: 0.151\n",
      "[11,  2000] loss: 0.296\n",
      "[11,  4000] loss: 0.151\n",
      "[12,  2000] loss: 0.287\n",
      "[12,  4000] loss: 0.149\n",
      "[13,  2000] loss: 0.283\n",
      "[13,  4000] loss: 0.145\n",
      "[14,  2000] loss: 0.279\n",
      "[14,  4000] loss: 0.138\n",
      "[15,  2000] loss: 0.260\n",
      "[15,  4000] loss: 0.138\n",
      "[16,  2000] loss: 0.267\n",
      "[16,  4000] loss: 0.132\n",
      "Accuracy on hold-out set: 0.885625\n",
      "Loss on hold-out set: 0.3627034509691924\n",
      "[1,  2000] loss: 0.649--------] 3.31% \n",
      "[2,  2000] loss: 0.433\n",
      "[3,  2000] loss: 0.385\n",
      "[4,  2000] loss: 0.350\n",
      "[5,  2000] loss: 0.326\n",
      "[6,  2000] loss: 0.311\n",
      "[7,  2000] loss: 0.293\n",
      "[8,  2000] loss: 0.281\n",
      "[9,  2000] loss: 0.269\n",
      "[10,  2000] loss: 0.261\n",
      "[11,  2000] loss: 0.247\n",
      "[12,  2000] loss: 0.241\n",
      "[13,  2000] loss: 0.228\n",
      "[14,  2000] loss: 0.220\n",
      "[15,  2000] loss: 0.211\n",
      "[16,  2000] loss: 0.203\n",
      "Accuracy on hold-out set: 0.8924166666666666\n",
      "Loss on hold-out set: 0.34815566031989875\n",
      "[1,  2000] loss: 0.916--------] 3.73% \n",
      "[1,  4000] loss: 0.280\n",
      "[2,  2000] loss: 0.496\n",
      "[2,  4000] loss: 0.234\n",
      "[3,  2000] loss: 0.435\n",
      "[3,  4000] loss: 0.217\n",
      "[4,  2000] loss: 0.398\n",
      "[4,  4000] loss: 0.208\n",
      "[5,  2000] loss: 0.397\n",
      "[5,  4000] loss: 0.191\n",
      "[6,  2000] loss: 0.371\n",
      "[6,  4000] loss: 0.183\n",
      "[7,  2000] loss: 0.351\n",
      "[7,  4000] loss: 0.177\n",
      "[8,  2000] loss: 0.340\n",
      "[8,  4000] loss: 0.172\n",
      "[9,  2000] loss: 0.325\n",
      "[9,  4000] loss: 0.166\n",
      "[10,  2000] loss: 0.308\n",
      "[10,  4000] loss: 0.164\n",
      "[11,  2000] loss: 0.306\n",
      "[11,  4000] loss: 0.155\n",
      "[12,  2000] loss: 0.295\n",
      "[12,  4000] loss: 0.150\n",
      "[13,  2000] loss: 0.282\n",
      "[13,  4000] loss: 0.149\n",
      "[14,  2000] loss: 0.269\n",
      "[14,  4000] loss: 0.144\n",
      "[15,  2000] loss: 0.269\n",
      "[15,  4000] loss: 0.137\n",
      "[16,  2000] loss: 0.271\n",
      "[16,  4000] loss: 0.128\n",
      "Accuracy on hold-out set: 0.8788333333333334\n",
      "Loss on hold-out set: 0.3952988524808194\n",
      "[1,  2000] loss: 0.617--------] 4.49% \n",
      "[2,  2000] loss: 0.417\n",
      "[3,  2000] loss: 0.367\n",
      "[4,  2000] loss: 0.335\n",
      "[5,  2000] loss: 0.315\n",
      "[6,  2000] loss: 0.295\n",
      "[7,  2000] loss: 0.283\n",
      "[8,  2000] loss: 0.269\n",
      "[9,  2000] loss: 0.256\n",
      "[10,  2000] loss: 0.248\n",
      "[11,  2000] loss: 0.237\n",
      "[12,  2000] loss: 0.228\n",
      "[13,  2000] loss: 0.224\n",
      "[14,  2000] loss: 0.211\n",
      "[15,  2000] loss: 0.204\n",
      "[16,  2000] loss: 0.194\n",
      "Accuracy on hold-out set: 0.8888333333333334\n",
      "Loss on hold-out set: 0.3551850287487808\n",
      "[1,  2000] loss: 0.596--------] 4.91% \n",
      "[2,  2000] loss: 0.408\n",
      "[3,  2000] loss: 0.365\n",
      "[4,  2000] loss: 0.338\n",
      "[5,  2000] loss: 0.314\n",
      "[6,  2000] loss: 0.303\n",
      "[7,  2000] loss: 0.281\n",
      "[8,  2000] loss: 0.267\n",
      "[9,  2000] loss: 0.255\n",
      "[10,  2000] loss: 0.248\n",
      "[11,  2000] loss: 0.234\n",
      "[12,  2000] loss: 0.234\n",
      "[13,  2000] loss: 0.220\n",
      "[14,  2000] loss: 0.210\n",
      "[15,  2000] loss: 0.203\n",
      "[16,  2000] loss: 0.194\n",
      "Accuracy on hold-out set: 0.886\n",
      "Loss on hold-out set: 0.35466981028392913\n",
      "[1,  2000] loss: 0.598--------] 5.34% \n",
      "[2,  2000] loss: 0.455\n",
      "[3,  2000] loss: 0.412\n",
      "[4,  2000] loss: 0.394\n",
      "[5,  2000] loss: 0.378\n",
      "[6,  2000] loss: 0.361\n",
      "[7,  2000] loss: 0.359\n",
      "[8,  2000] loss: 0.337\n",
      "[9,  2000] loss: 0.339\n",
      "[10,  2000] loss: 0.335\n",
      "[11,  2000] loss: 0.326\n",
      "[12,  2000] loss: 0.326\n",
      "[13,  2000] loss: 0.318\n",
      "[14,  2000] loss: 0.309\n",
      "[15,  2000] loss: 0.306\n",
      "[16,  2000] loss: 0.303\n",
      "Accuracy on hold-out set: 0.8720416666666667\n",
      "Loss on hold-out set: 0.4393510251638169\n",
      "[1,  2000] loss: 1.243--------] 5.77% \n",
      "[1,  4000] loss: 0.358\n",
      "[2,  2000] loss: 0.575\n",
      "[2,  4000] loss: 0.267\n",
      "[3,  2000] loss: 0.506\n",
      "[3,  4000] loss: 0.239\n",
      "[4,  2000] loss: 0.468\n",
      "[4,  4000] loss: 0.229\n",
      "[5,  2000] loss: 0.449\n",
      "[5,  4000] loss: 0.217\n",
      "[6,  2000] loss: 0.442\n",
      "[6,  4000] loss: 0.212\n",
      "[7,  2000] loss: 0.419\n",
      "[7,  4000] loss: 0.212\n",
      "[8,  2000] loss: 0.409\n",
      "[8,  4000] loss: 0.208\n",
      "[9,  2000] loss: 0.411\n",
      "[9,  4000] loss: 0.197\n",
      "[10,  2000] loss: 0.395\n",
      "[10,  4000] loss: 0.198\n",
      "[11,  2000] loss: 0.400\n",
      "[11,  4000] loss: 0.190\n",
      "[12,  2000] loss: 0.379\n",
      "[12,  4000] loss: 0.192\n",
      "[13,  2000] loss: 0.379\n",
      "[13,  4000] loss: 0.187\n",
      "[14,  2000] loss: 0.369\n",
      "[14,  4000] loss: 0.188\n",
      "[15,  2000] loss: 0.360\n",
      "[15,  4000] loss: 0.187\n",
      "[16,  2000] loss: 0.362\n",
      "[16,  4000] loss: 0.179\n",
      "Accuracy on hold-out set: 0.8739166666666667\n",
      "Loss on hold-out set: 0.38511975363832124\n",
      "[1,  2000] loss: 0.616--------] 6.56% \n",
      "[2,  2000] loss: 0.426\n",
      "[3,  2000] loss: 0.372\n",
      "[4,  2000] loss: 0.345\n",
      "[5,  2000] loss: 0.324\n",
      "[6,  2000] loss: 0.306\n",
      "[7,  2000] loss: 0.292\n",
      "[8,  2000] loss: 0.274\n",
      "[9,  2000] loss: 0.263\n",
      "[10,  2000] loss: 0.252\n",
      "[11,  2000] loss: 0.242\n",
      "[12,  2000] loss: 0.232\n",
      "[13,  2000] loss: 0.228\n",
      "[14,  2000] loss: 0.218\n",
      "[15,  2000] loss: 0.210\n",
      "[16,  2000] loss: 0.201\n",
      "Accuracy on hold-out set: 0.8882083333333334\n",
      "Loss on hold-out set: 0.37532234959971783\n",
      "[1,  2000] loss: 0.777--------] 7.00% \n",
      "[2,  2000] loss: 0.484\n",
      "[3,  2000] loss: 0.438\n",
      "[4,  2000] loss: 0.402\n",
      "[5,  2000] loss: 0.383\n",
      "[6,  2000] loss: 0.366\n",
      "[7,  2000] loss: 0.355\n",
      "[8,  2000] loss: 0.341\n",
      "[9,  2000] loss: 0.330\n",
      "[10,  2000] loss: 0.320\n",
      "[11,  2000] loss: 0.305\n",
      "[12,  2000] loss: 0.298\n",
      "[13,  2000] loss: 0.290\n",
      "[14,  2000] loss: 0.284\n",
      "[15,  2000] loss: 0.276\n",
      "[16,  2000] loss: 0.267\n",
      "Accuracy on hold-out set: 0.8795\n",
      "Loss on hold-out set: 0.3449152569503834\n",
      "[1,  2000] loss: 0.788--------] 7.42% \n",
      "[2,  2000] loss: 0.487\n",
      "[3,  2000] loss: 0.435\n",
      "[4,  2000] loss: 0.407\n",
      "[5,  2000] loss: 0.385\n",
      "[6,  2000] loss: 0.367\n",
      "[7,  2000] loss: 0.354\n",
      "[8,  2000] loss: 0.340\n",
      "[9,  2000] loss: 0.328\n",
      "[10,  2000] loss: 0.317\n",
      "[11,  2000] loss: 0.308\n",
      "[12,  2000] loss: 0.300\n",
      "[13,  2000] loss: 0.289\n",
      "[14,  2000] loss: 0.283\n",
      "[15,  2000] loss: 0.279\n",
      "[16,  2000] loss: 0.271\n",
      "Accuracy on hold-out set: 0.8817916666666666\n",
      "Loss on hold-out set: 0.3397377951964736\n",
      "[1,  2000] loss: 0.801--------] 7.86% \n",
      "[2,  2000] loss: 0.489\n",
      "[3,  2000] loss: 0.433\n",
      "[4,  2000] loss: 0.409\n",
      "[5,  2000] loss: 0.388\n",
      "[6,  2000] loss: 0.375\n",
      "[7,  2000] loss: 0.361\n",
      "[8,  2000] loss: 0.344\n",
      "[9,  2000] loss: 0.331\n",
      "[10,  2000] loss: 0.324\n",
      "[11,  2000] loss: 0.315\n",
      "[12,  2000] loss: 0.304\n",
      "[13,  2000] loss: 0.295\n",
      "[14,  2000] loss: 0.290\n",
      "[15,  2000] loss: 0.281\n",
      "[16,  2000] loss: 0.272\n",
      "Accuracy on hold-out set: 0.8828333333333334\n",
      "Loss on hold-out set: 0.3420454707300911\n",
      "[1,  2000] loss: 0.787--------] 8.29% \n",
      "[2,  2000] loss: 0.485\n",
      "[3,  2000] loss: 0.442\n",
      "[4,  2000] loss: 0.413\n",
      "[5,  2000] loss: 0.392\n",
      "[6,  2000] loss: 0.374\n",
      "[7,  2000] loss: 0.363\n",
      "[8,  2000] loss: 0.348\n",
      "[9,  2000] loss: 0.333\n",
      "[10,  2000] loss: 0.322\n",
      "[11,  2000] loss: 0.315\n",
      "[12,  2000] loss: 0.304\n",
      "[13,  2000] loss: 0.295\n",
      "[14,  2000] loss: 0.283\n",
      "[15,  2000] loss: 0.276\n",
      "[16,  2000] loss: 0.267\n",
      "Accuracy on hold-out set: 0.8865\n",
      "Loss on hold-out set: 0.3286387387557576\n",
      "[1,  2000] loss: 2.347--------] 8.72% \n",
      "[1,  4000] loss: 1.159\n",
      "[1,  6000] loss: 0.774\n",
      "[1,  8000] loss: 0.580\n",
      "[2,  2000] loss: 2.320\n",
      "[2,  4000] loss: 1.159\n",
      "[2,  6000] loss: 0.773\n",
      "[2,  8000] loss: 0.580\n",
      "[3,  2000] loss: 2.320\n",
      "[3,  4000] loss: 1.159\n",
      "[3,  6000] loss: 0.773\n",
      "[3,  8000] loss: 0.580\n",
      "[4,  2000] loss: 2.318\n",
      "[4,  4000] loss: 1.160\n",
      "[4,  6000] loss: 0.773\n",
      "[4,  8000] loss: 0.579\n",
      "[5,  2000] loss: 2.319\n",
      "[5,  4000] loss: 1.159\n",
      "[5,  6000] loss: 0.773\n",
      "[5,  8000] loss: 0.580\n",
      "[6,  2000] loss: 2.318\n",
      "[6,  4000] loss: 1.160\n",
      "[6,  6000] loss: 0.773\n",
      "[6,  8000] loss: 0.579\n",
      "[7,  2000] loss: 2.320\n",
      "[7,  4000] loss: 1.159\n",
      "[7,  6000] loss: 0.773\n",
      "[7,  8000] loss: 0.580\n",
      "[8,  2000] loss: 2.321\n",
      "[8,  4000] loss: 1.159\n",
      "[8,  6000] loss: 0.773\n",
      "[8,  8000] loss: 0.580\n",
      "Accuracy on hold-out set: 0.10316666666666667\n",
      "Loss on hold-out set: 2.3119436688820523\n",
      "[1,  2000] loss: 0.796--------] 9.46% \n",
      "[2,  2000] loss: 0.485\n",
      "[3,  2000] loss: 0.432\n",
      "[4,  2000] loss: 0.405\n",
      "[5,  2000] loss: 0.386\n",
      "[6,  2000] loss: 0.368\n",
      "[7,  2000] loss: 0.353\n",
      "[8,  2000] loss: 0.342\n",
      "[9,  2000] loss: 0.329\n",
      "[10,  2000] loss: 0.319\n",
      "[11,  2000] loss: 0.310\n",
      "[12,  2000] loss: 0.301\n",
      "[13,  2000] loss: 0.293\n",
      "[14,  2000] loss: 0.286\n",
      "[15,  2000] loss: 0.280\n",
      "[16,  2000] loss: 0.272\n",
      "Accuracy on hold-out set: 0.8790416666666667\n",
      "Loss on hold-out set: 0.3404407291462024\n",
      "[1,  2000] loss: 0.815--------] 9.90% \n",
      "[2,  2000] loss: 0.497\n",
      "[3,  2000] loss: 0.448\n",
      "[4,  2000] loss: 0.418\n",
      "[5,  2000] loss: 0.397\n",
      "[6,  2000] loss: 0.379\n",
      "[7,  2000] loss: 0.366\n",
      "[8,  2000] loss: 0.352\n",
      "[9,  2000] loss: 0.339\n",
      "[10,  2000] loss: 0.333\n",
      "[11,  2000] loss: 0.318\n",
      "[12,  2000] loss: 0.315\n",
      "[13,  2000] loss: 0.303\n",
      "[14,  2000] loss: 0.298\n",
      "[15,  2000] loss: 0.289\n",
      "[16,  2000] loss: 0.280\n",
      "Accuracy on hold-out set: 0.8775833333333334\n",
      "Loss on hold-out set: 0.3614578330771377\n",
      "[1,  2000] loss: 0.823--------] 10.32% \n",
      "[2,  2000] loss: 0.492\n",
      "[3,  2000] loss: 0.438\n",
      "[4,  2000] loss: 0.414\n",
      "[5,  2000] loss: 0.392\n",
      "[6,  2000] loss: 0.376\n",
      "[7,  2000] loss: 0.357\n",
      "[8,  2000] loss: 0.347\n",
      "[9,  2000] loss: 0.335\n",
      "[10,  2000] loss: 0.327\n",
      "[11,  2000] loss: 0.312\n",
      "[12,  2000] loss: 0.307\n",
      "[13,  2000] loss: 0.297\n",
      "[14,  2000] loss: 0.290\n",
      "[15,  2000] loss: 0.283\n",
      "[16,  2000] loss: 0.275\n",
      "Accuracy on hold-out set: 0.8862083333333334\n",
      "Loss on hold-out set: 0.32679448776412756\n",
      "[1,  2000] loss: 0.803--------] 10.76% \n",
      "[2,  2000] loss: 0.488\n",
      "[3,  2000] loss: 0.438\n",
      "[4,  2000] loss: 0.407\n",
      "[5,  2000] loss: 0.383\n",
      "[6,  2000] loss: 0.367\n",
      "[7,  2000] loss: 0.353\n",
      "[8,  2000] loss: 0.338\n",
      "[9,  2000] loss: 0.327\n",
      "[10,  2000] loss: 0.316\n",
      "[11,  2000] loss: 0.307\n",
      "[12,  2000] loss: 0.300\n",
      "[13,  2000] loss: 0.289\n",
      "[14,  2000] loss: 0.283\n",
      "[15,  2000] loss: 0.276\n",
      "[16,  2000] loss: 0.268\n",
      "Accuracy on hold-out set: 0.8829583333333333\n",
      "Loss on hold-out set: 0.3332958299120267\n",
      "[1,  2000] loss: 0.811--------] 11.19% \n",
      "[2,  2000] loss: 0.495\n",
      "[3,  2000] loss: 0.442\n",
      "[4,  2000] loss: 0.415\n",
      "[5,  2000] loss: 0.392\n",
      "[6,  2000] loss: 0.376\n",
      "[7,  2000] loss: 0.361\n",
      "[8,  2000] loss: 0.349\n",
      "[9,  2000] loss: 0.336\n",
      "[10,  2000] loss: 0.326\n",
      "[11,  2000] loss: 0.316\n",
      "[12,  2000] loss: 0.304\n",
      "[13,  2000] loss: 0.298\n",
      "[14,  2000] loss: 0.291\n",
      "[15,  2000] loss: 0.282\n",
      "[16,  2000] loss: 0.277\n",
      "Accuracy on hold-out set: 0.8837083333333333\n",
      "Loss on hold-out set: 0.3398837250346939\n",
      "[1,  2000] loss: 0.620--------] 11.64% \n",
      "[2,  2000] loss: 0.463\n",
      "[3,  2000] loss: 0.418\n",
      "[4,  2000] loss: 0.391\n",
      "Accuracy on hold-out set: 0.8610416666666667\n",
      "Loss on hold-out set: 0.4352701027476384\n",
      "[1,  2000] loss: 0.817--------] 11.77% \n",
      "[2,  2000] loss: 0.491\n",
      "[3,  2000] loss: 0.447\n",
      "[4,  2000] loss: 0.417\n",
      "[5,  2000] loss: 0.393\n",
      "[6,  2000] loss: 0.376\n",
      "[7,  2000] loss: 0.359\n",
      "[8,  2000] loss: 0.347\n",
      "[9,  2000] loss: 0.334\n",
      "[10,  2000] loss: 0.324\n",
      "[11,  2000] loss: 0.317\n",
      "[12,  2000] loss: 0.305\n",
      "[13,  2000] loss: 0.297\n",
      "[14,  2000] loss: 0.287\n",
      "[15,  2000] loss: 0.281\n",
      "[16,  2000] loss: 0.274\n",
      "Accuracy on hold-out set: 0.886\n",
      "Loss on hold-out set: 0.326192466577515\n",
      "[1,  2000] loss: 0.807--------] 12.21% \n",
      "[2,  2000] loss: 0.494\n",
      "[3,  2000] loss: 0.441\n",
      "[4,  2000] loss: 0.414\n",
      "[5,  2000] loss: 0.394\n",
      "[6,  2000] loss: 0.374\n",
      "[7,  2000] loss: 0.362\n",
      "[8,  2000] loss: 0.345\n",
      "[9,  2000] loss: 0.333\n",
      "[10,  2000] loss: 0.321\n",
      "[11,  2000] loss: 0.315\n",
      "[12,  2000] loss: 0.306\n",
      "[13,  2000] loss: 0.295\n",
      "[14,  2000] loss: 0.286\n",
      "[15,  2000] loss: 0.279\n",
      "[16,  2000] loss: 0.272\n",
      "Accuracy on hold-out set: 0.8814166666666666\n",
      "Loss on hold-out set: 0.3497979060492168\n",
      "[1,  2000] loss: 2.330--------] 12.65% \n",
      "[1,  4000] loss: 1.157\n",
      "[2,  2000] loss: 2.314\n",
      "[2,  4000] loss: 1.157\n",
      "[3,  2000] loss: 2.314\n",
      "[3,  4000] loss: 1.157\n",
      "[4,  2000] loss: 2.314\n",
      "[4,  4000] loss: 1.156\n",
      "[5,  2000] loss: 2.312\n",
      "[5,  4000] loss: 1.157\n",
      "[6,  2000] loss: 2.313\n",
      "[6,  4000] loss: 1.156\n",
      "[7,  2000] loss: 2.315\n",
      "[7,  4000] loss: 1.157\n",
      "[8,  2000] loss: 2.314\n",
      "[8,  4000] loss: 1.157\n",
      "Accuracy on hold-out set: 0.09841666666666667\n",
      "Loss on hold-out set: 2.330913918733597\n",
      "[1,  2000] loss: 2.618--------] 13.04% \n",
      "[1,  4000] loss: 1.161\n",
      "[2,  2000] loss: 2.320\n",
      "[2,  4000] loss: 1.160\n",
      "[3,  2000] loss: 2.322\n",
      "[3,  4000] loss: 1.161\n",
      "[4,  2000] loss: 2.322\n",
      "[4,  4000] loss: 1.161\n",
      "[5,  2000] loss: 2.322\n",
      "[5,  4000] loss: 1.161\n",
      "[6,  2000] loss: 2.321\n",
      "[6,  4000] loss: 1.161\n",
      "[7,  2000] loss: 2.322\n",
      "[7,  4000] loss: 1.161\n",
      "[8,  2000] loss: 2.321\n",
      "[8,  4000] loss: 1.160\n",
      "Accuracy on hold-out set: 0.09791666666666667\n",
      "Loss on hold-out set: 2.3193782132466634\n",
      "[1,  2000] loss: 0.796--------] 13.47% \n",
      "[2,  2000] loss: 0.490\n",
      "[3,  2000] loss: 0.440\n",
      "[4,  2000] loss: 0.409\n",
      "[5,  2000] loss: 0.392\n",
      "[6,  2000] loss: 0.374\n",
      "[7,  2000] loss: 0.356\n",
      "[8,  2000] loss: 0.343\n",
      "[9,  2000] loss: 0.330\n",
      "[10,  2000] loss: 0.319\n",
      "[11,  2000] loss: 0.309\n",
      "[12,  2000] loss: 0.301\n",
      "[13,  2000] loss: 0.293\n",
      "[14,  2000] loss: 0.285\n",
      "[15,  2000] loss: 0.277\n",
      "[16,  2000] loss: 0.272\n",
      "Accuracy on hold-out set: 0.8806666666666667\n",
      "Loss on hold-out set: 0.341435780706505\n",
      "[1,  2000] loss: 2.365--------] 13.91% \n",
      "[2,  2000] loss: 2.320\n",
      "[3,  2000] loss: 2.318\n",
      "[4,  2000] loss: 2.320\n",
      "[5,  2000] loss: 2.319\n",
      "[6,  2000] loss: 2.321\n",
      "[7,  2000] loss: 2.320\n",
      "[8,  2000] loss: 2.319\n",
      "[9,  2000] loss: 2.320\n",
      "[10,  2000] loss: 2.319\n",
      "[11,  2000] loss: 2.320\n",
      "[12,  2000] loss: 2.320\n",
      "[13,  2000] loss: 2.319\n",
      "[14,  2000] loss: 2.320\n",
      "[15,  2000] loss: 2.320\n",
      "[16,  2000] loss: 2.319\n",
      "Accuracy on hold-out set: 0.10020833333333333\n",
      "Loss on hold-out set: 2.3175337621370953\n",
      "[1,  2000] loss: 0.816--------] 14.35% \n",
      "[2,  2000] loss: 0.495\n",
      "[3,  2000] loss: 0.448\n",
      "[4,  2000] loss: 0.415\n",
      "[5,  2000] loss: 0.400\n",
      "[6,  2000] loss: 0.379\n",
      "[7,  2000] loss: 0.362\n",
      "[8,  2000] loss: 0.351\n",
      "[9,  2000] loss: 0.336\n",
      "[10,  2000] loss: 0.328\n",
      "[11,  2000] loss: 0.315\n",
      "[12,  2000] loss: 0.308\n",
      "[13,  2000] loss: 0.297\n",
      "[14,  2000] loss: 0.291\n",
      "[15,  2000] loss: 0.282\n",
      "[16,  2000] loss: 0.276\n",
      "Accuracy on hold-out set: 0.877125\n",
      "Loss on hold-out set: 0.3566245049337546\n",
      "[1,  2000] loss: 2.181--------] 14.77% \n",
      "[1,  4000] loss: 1.122\n",
      "[1,  6000] loss: 0.669\n",
      "[1,  8000] loss: 0.498\n",
      "[2,  2000] loss: 1.905\n",
      "[2,  4000] loss: 0.922\n",
      "[2,  6000] loss: 0.613\n",
      "[2,  8000] loss: 0.467\n",
      "[3,  2000] loss: 2.081\n",
      "[3,  4000] loss: 1.048\n",
      "[3,  6000] loss: 0.671\n",
      "[3,  8000] loss: 0.484\n",
      "[4,  2000] loss: 1.961\n",
      "[4,  4000] loss: 1.036\n",
      "[4,  6000] loss: 0.712\n",
      "[4,  8000] loss: 0.505\n",
      "Accuracy on hold-out set: 0.19025\n",
      "Loss on hold-out set: 1.9715071577827137\n",
      "[1,  2000] loss: 2.730--------] 15.19% \n",
      "[1,  4000] loss: 1.169\n",
      "[1,  6000] loss: 0.781\n",
      "[1,  8000] loss: 0.585\n",
      "[2,  2000] loss: 2.341\n",
      "[2,  4000] loss: 1.169\n",
      "[2,  6000] loss: 0.780\n",
      "[2,  8000] loss: 0.585\n",
      "[3,  2000] loss: 2.342\n",
      "[3,  4000] loss: 1.169\n",
      "[3,  6000] loss: 0.779\n",
      "[3,  8000] loss: 0.585\n",
      "[4,  2000] loss: 2.338\n",
      "[4,  4000] loss: 1.171\n",
      "[4,  6000] loss: 0.779\n",
      "[4,  8000] loss: 0.584\n",
      "[5,  2000] loss: 2.336\n",
      "[5,  4000] loss: 1.169\n",
      "[5,  6000] loss: 0.780\n",
      "[5,  8000] loss: 0.584\n",
      "[6,  2000] loss: 2.341\n",
      "[6,  4000] loss: 1.171\n",
      "[6,  6000] loss: 0.780\n",
      "[6,  8000] loss: 0.584\n",
      "[7,  2000] loss: 2.342\n",
      "[7,  4000] loss: 1.169\n",
      "[7,  6000] loss: 0.780\n",
      "[7,  8000] loss: 0.585\n",
      "[8,  2000] loss: 2.340\n",
      "[8,  4000] loss: 1.169\n",
      "[8,  6000] loss: 0.780\n",
      "[8,  8000] loss: 0.584\n",
      "Accuracy on hold-out set: 0.10091666666666667\n",
      "Loss on hold-out set: 2.3287111370166143\n",
      "[1,  2000] loss: 0.793--------] 16.00% \n",
      "[2,  2000] loss: 0.482\n",
      "[3,  2000] loss: 0.430\n",
      "[4,  2000] loss: 0.399\n",
      "[5,  2000] loss: 0.384\n",
      "[6,  2000] loss: 0.364\n",
      "[7,  2000] loss: 0.349\n",
      "[8,  2000] loss: 0.334\n",
      "[9,  2000] loss: 0.326\n",
      "[10,  2000] loss: 0.317\n",
      "[11,  2000] loss: 0.311\n",
      "[12,  2000] loss: 0.301\n",
      "[13,  2000] loss: 0.291\n",
      "[14,  2000] loss: 0.286\n",
      "[15,  2000] loss: 0.278\n",
      "[16,  2000] loss: 0.270\n",
      "Accuracy on hold-out set: 0.8841666666666667\n",
      "Loss on hold-out set: 0.3404167211114739\n",
      "[1,  2000] loss: 0.808--------] 16.46% \n",
      "[2,  2000] loss: 0.499\n",
      "[3,  2000] loss: 0.447\n",
      "[4,  2000] loss: 0.422\n",
      "[5,  2000] loss: 0.398\n",
      "[6,  2000] loss: 0.380\n",
      "[7,  2000] loss: 0.366\n",
      "[8,  2000] loss: 0.351\n",
      "[9,  2000] loss: 0.337\n",
      "[10,  2000] loss: 0.328\n",
      "[11,  2000] loss: 0.320\n",
      "[12,  2000] loss: 0.311\n",
      "[13,  2000] loss: 0.300\n",
      "[14,  2000] loss: 0.297\n",
      "[15,  2000] loss: 0.285\n",
      "[16,  2000] loss: 0.276\n",
      "Accuracy on hold-out set: 0.8875416666666667\n",
      "Loss on hold-out set: 0.3240084103991588\n",
      "[1,  2000] loss: 2.283--------] 16.91% \n",
      "[1,  4000] loss: 1.161\n",
      "[1,  6000] loss: 0.774\n",
      "[1,  8000] loss: 0.581\n",
      "[2,  2000] loss: 2.321\n",
      "[2,  4000] loss: 1.162\n",
      "[2,  6000] loss: 0.774\n",
      "[2,  8000] loss: 0.581\n",
      "Accuracy on hold-out set: 0.09975\n",
      "Loss on hold-out set: 2.3122478129466373\n",
      "[1,  2000] loss: 2.579--------] 17.16% \n",
      "[1,  4000] loss: 1.158\n",
      "[2,  2000] loss: 2.316\n",
      "[2,  4000] loss: 1.158\n",
      "[3,  2000] loss: 2.316\n",
      "[3,  4000] loss: 1.158\n",
      "[4,  2000] loss: 2.316\n",
      "[4,  4000] loss: 1.159\n",
      "Accuracy on hold-out set: 0.09983333333333333\n",
      "Loss on hold-out set: 2.3133362692197164\n",
      "[1,  2000] loss: 0.823--------] 17.39% \n",
      "[2,  2000] loss: 0.493\n",
      "[3,  2000] loss: 0.445\n",
      "[4,  2000] loss: 0.417\n",
      "[5,  2000] loss: 0.399\n",
      "[6,  2000] loss: 0.380\n",
      "[7,  2000] loss: 0.364\n",
      "[8,  2000] loss: 0.354\n",
      "[9,  2000] loss: 0.341\n",
      "[10,  2000] loss: 0.332\n",
      "[11,  2000] loss: 0.323\n",
      "[12,  2000] loss: 0.311\n",
      "[13,  2000] loss: 0.302\n",
      "[14,  2000] loss: 0.295\n",
      "[15,  2000] loss: 0.287\n",
      "[16,  2000] loss: 0.282\n",
      "Accuracy on hold-out set: 0.8775\n",
      "Loss on hold-out set: 0.34641111686453224\n",
      "[1,  2000] loss: 0.822--------] 17.87% \n",
      "[2,  2000] loss: 0.505\n",
      "[3,  2000] loss: 0.454\n",
      "[4,  2000] loss: 0.422\n",
      "[5,  2000] loss: 0.398\n",
      "[6,  2000] loss: 0.382\n",
      "[7,  2000] loss: 0.365\n",
      "[8,  2000] loss: 0.356\n",
      "[9,  2000] loss: 0.345\n",
      "[10,  2000] loss: 0.334\n",
      "[11,  2000] loss: 0.324\n",
      "[12,  2000] loss: 0.314\n",
      "[13,  2000] loss: 0.307\n",
      "[14,  2000] loss: 0.301\n",
      "[15,  2000] loss: 0.294\n",
      "[16,  2000] loss: 0.285\n",
      "Accuracy on hold-out set: 0.8718333333333333\n",
      "Loss on hold-out set: 0.3801847609275331\n",
      "[1,  2000] loss: 0.812--------] 18.35% \n",
      "[2,  2000] loss: 0.498\n",
      "[3,  2000] loss: 0.449\n",
      "[4,  2000] loss: 0.420\n",
      "[5,  2000] loss: 0.401\n",
      "[6,  2000] loss: 0.381\n",
      "[7,  2000] loss: 0.369\n",
      "[8,  2000] loss: 0.355\n",
      "[9,  2000] loss: 0.341\n",
      "[10,  2000] loss: 0.330\n",
      "[11,  2000] loss: 0.321\n",
      "[12,  2000] loss: 0.311\n",
      "[13,  2000] loss: 0.305\n",
      "[14,  2000] loss: 0.296\n",
      "[15,  2000] loss: 0.289\n",
      "[16,  2000] loss: 0.281\n",
      "Accuracy on hold-out set: 0.8782083333333334\n",
      "Loss on hold-out set: 0.35080854525479177\n",
      "[1,  2000] loss: 0.827--------] 18.84% \n",
      "[2,  2000] loss: 0.492\n",
      "[3,  2000] loss: 0.438\n",
      "[4,  2000] loss: 0.409\n",
      "[5,  2000] loss: 0.386\n",
      "[6,  2000] loss: 0.370\n",
      "[7,  2000] loss: 0.355\n",
      "[8,  2000] loss: 0.343\n",
      "[9,  2000] loss: 0.331\n",
      "[10,  2000] loss: 0.325\n",
      "[11,  2000] loss: 0.314\n",
      "[12,  2000] loss: 0.301\n",
      "[13,  2000] loss: 0.289\n",
      "[14,  2000] loss: 0.286\n",
      "[15,  2000] loss: 0.279\n",
      "[16,  2000] loss: 0.269\n",
      "Accuracy on hold-out set: 0.8826666666666667\n",
      "Loss on hold-out set: 0.3429628966435169\n",
      "[1,  2000] loss: 0.842--------] 20.39% \n",
      "[2,  2000] loss: 0.493\n",
      "[3,  2000] loss: 0.444\n",
      "[4,  2000] loss: 0.412\n",
      "[5,  2000] loss: 0.395\n",
      "[6,  2000] loss: 0.369\n",
      "[7,  2000] loss: 0.359\n",
      "[8,  2000] loss: 0.344\n",
      "[9,  2000] loss: 0.332\n",
      "[10,  2000] loss: 0.323\n",
      "[11,  2000] loss: 0.315\n",
      "[12,  2000] loss: 0.301\n",
      "[13,  2000] loss: 0.295\n",
      "[14,  2000] loss: 0.290\n",
      "[15,  2000] loss: 0.280\n",
      "[16,  2000] loss: 0.274\n",
      "Accuracy on hold-out set: 0.879375\n",
      "Loss on hold-out set: 0.3413015340430041\n",
      "[1,  2000] loss: 2.318--------] 21.75% \n",
      "[1,  4000] loss: 1.155\n",
      "[1,  6000] loss: 0.770\n",
      "[1,  8000] loss: 0.577\n",
      "[2,  2000] loss: 2.310\n",
      "[2,  4000] loss: 1.154\n",
      "[2,  6000] loss: 0.770\n",
      "[2,  8000] loss: 0.577\n",
      "[3,  2000] loss: 2.309\n",
      "[3,  4000] loss: 1.155\n",
      "[3,  6000] loss: 0.770\n",
      "[3,  8000] loss: 0.577\n",
      "[4,  2000] loss: 2.309\n",
      "[4,  4000] loss: 1.154\n",
      "[4,  6000] loss: 0.769\n",
      "[4,  8000] loss: 0.577\n",
      "Accuracy on hold-out set: 0.10066666666666667\n",
      "Loss on hold-out set: 2.309092919309934\n",
      "[1,  2000] loss: 0.758--------] 23.10% \n",
      "[1,  4000] loss: 0.302\n",
      "[2,  2000] loss: 0.529\n",
      "[2,  4000] loss: 0.254\n",
      "Accuracy on hold-out set: 0.8504583333333333\n",
      "Loss on hold-out set: 0.46791810245168747\n",
      "[1,  2000] loss: 0.736--------] 23.96% \n",
      "[2,  2000] loss: 0.468\n",
      "[3,  2000] loss: 0.419\n",
      "[4,  2000] loss: 0.391\n",
      "[5,  2000] loss: 0.371\n",
      "[6,  2000] loss: 0.353\n",
      "[7,  2000] loss: 0.335\n",
      "[8,  2000] loss: 0.321\n",
      "[9,  2000] loss: 0.312\n",
      "[10,  2000] loss: 0.297\n",
      "[11,  2000] loss: 0.287\n",
      "[12,  2000] loss: 0.281\n",
      "[13,  2000] loss: 0.271\n",
      "[14,  2000] loss: 0.261\n",
      "[15,  2000] loss: 0.255\n",
      "[16,  2000] loss: 0.252\n",
      "Accuracy on hold-out set: 0.87275\n",
      "Loss on hold-out set: 0.3765097367397199\n",
      "[1,  2000] loss: 1.797#-------] 25.58% \n",
      "[2,  2000] loss: 1.291\n",
      "[3,  2000] loss: 1.003\n",
      "[4,  2000] loss: 0.647\n",
      "[5,  2000] loss: 0.554\n",
      "[6,  2000] loss: 0.503\n",
      "[7,  2000] loss: 0.473\n",
      "[8,  2000] loss: 0.447\n",
      "[9,  2000] loss: 0.429\n",
      "[10,  2000] loss: 0.408\n",
      "[11,  2000] loss: 0.396\n",
      "[12,  2000] loss: 0.386\n",
      "[13,  2000] loss: 0.376\n",
      "[14,  2000] loss: 0.366\n",
      "[15,  2000] loss: 0.359\n",
      "[16,  2000] loss: 0.350\n",
      "Accuracy on hold-out set: 0.8642083333333334\n",
      "Loss on hold-out set: 0.4007605499755591\n",
      "[1,  2000] loss: 0.733#-------] 27.12% \n",
      "[2,  2000] loss: 0.466\n",
      "[3,  2000] loss: 0.416\n",
      "[4,  2000] loss: 0.391\n",
      "[5,  2000] loss: 0.363\n",
      "[6,  2000] loss: 0.344\n",
      "[7,  2000] loss: 0.328\n",
      "[8,  2000] loss: 0.313\n",
      "[9,  2000] loss: 0.300\n",
      "[10,  2000] loss: 0.288\n",
      "[11,  2000] loss: 0.278\n",
      "[12,  2000] loss: 0.273\n",
      "[13,  2000] loss: 0.262\n",
      "[14,  2000] loss: 0.251\n",
      "[15,  2000] loss: 0.243\n",
      "[16,  2000] loss: 0.235\n",
      "Accuracy on hold-out set: 0.8909166666666667\n",
      "Loss on hold-out set: 0.3255965523078727\n",
      "[1,  2000] loss: 0.716#-------] 28.87% \n",
      "[2,  2000] loss: 0.461\n",
      "[3,  2000] loss: 0.413\n",
      "[4,  2000] loss: 0.387\n",
      "[5,  2000] loss: 0.358\n",
      "[6,  2000] loss: 0.342\n",
      "[7,  2000] loss: 0.324\n",
      "[8,  2000] loss: 0.311\n",
      "[9,  2000] loss: 0.300\n",
      "[10,  2000] loss: 0.289\n",
      "[11,  2000] loss: 0.278\n",
      "[12,  2000] loss: 0.270\n",
      "[13,  2000] loss: 0.260\n",
      "[14,  2000] loss: 0.254\n",
      "[15,  2000] loss: 0.242\n",
      "[16,  2000] loss: 0.235\n",
      "Accuracy on hold-out set: 0.877125\n",
      "Loss on hold-out set: 0.3631789903982232\n",
      "[1,  2000] loss: 0.741#-------] 30.62% \n",
      "[1,  4000] loss: 0.249\n",
      "[2,  2000] loss: 0.438\n",
      "[2,  4000] loss: 0.207\n",
      "[3,  2000] loss: 0.377\n",
      "[3,  4000] loss: 0.188\n",
      "[4,  2000] loss: 0.349\n",
      "[4,  4000] loss: 0.169\n",
      "[5,  2000] loss: 0.321\n",
      "[5,  4000] loss: 0.164\n",
      "[6,  2000] loss: 0.308\n",
      "[6,  4000] loss: 0.152\n",
      "[7,  2000] loss: 0.290\n",
      "[7,  4000] loss: 0.150\n",
      "[8,  2000] loss: 0.278\n",
      "[8,  4000] loss: 0.140\n",
      "[9,  2000] loss: 0.265\n",
      "[9,  4000] loss: 0.134\n",
      "[10,  2000] loss: 0.249\n",
      "[10,  4000] loss: 0.131\n",
      "[11,  2000] loss: 0.249\n",
      "[11,  4000] loss: 0.125\n",
      "[12,  2000] loss: 0.239\n",
      "[12,  4000] loss: 0.119\n",
      "[13,  2000] loss: 0.230\n",
      "[13,  4000] loss: 0.116\n",
      "[14,  2000] loss: 0.221\n",
      "[14,  4000] loss: 0.112\n",
      "[15,  2000] loss: 0.212\n",
      "[15,  4000] loss: 0.109\n",
      "[16,  2000] loss: 0.207\n",
      "[16,  4000] loss: 0.105\n",
      "Accuracy on hold-out set: 0.8962916666666667\n",
      "Loss on hold-out set: 0.4017640524182337\n",
      "[1,  2000] loss: 0.731#-------] 32.69% \n",
      "[2,  2000] loss: 0.466\n",
      "[3,  2000] loss: 0.418\n",
      "[4,  2000] loss: 0.389\n",
      "[5,  2000] loss: 0.363\n",
      "[6,  2000] loss: 0.347\n",
      "[7,  2000] loss: 0.331\n",
      "[8,  2000] loss: 0.316\n",
      "[9,  2000] loss: 0.301\n",
      "[10,  2000] loss: 0.293\n",
      "[11,  2000] loss: 0.281\n",
      "[12,  2000] loss: 0.272\n",
      "[13,  2000] loss: 0.262\n",
      "[14,  2000] loss: 0.252\n",
      "[15,  2000] loss: 0.249\n",
      "[16,  2000] loss: 0.243\n",
      "Accuracy on hold-out set: 0.888875\n",
      "Loss on hold-out set: 0.32445312035518387\n",
      "[1,  2000] loss: 0.662#-------] 34.47% \n",
      "[2,  2000] loss: 0.445\n",
      "[3,  2000] loss: 0.394\n",
      "[4,  2000] loss: 0.359\n",
      "[5,  2000] loss: 0.335\n",
      "[6,  2000] loss: 0.313\n",
      "[7,  2000] loss: 0.299\n",
      "[8,  2000] loss: 0.284\n",
      "[9,  2000] loss: 0.274\n",
      "[10,  2000] loss: 0.262\n",
      "[11,  2000] loss: 0.250\n",
      "[12,  2000] loss: 0.239\n",
      "[13,  2000] loss: 0.230\n",
      "[14,  2000] loss: 0.220\n",
      "[15,  2000] loss: 0.213\n",
      "[16,  2000] loss: 0.205\n",
      "Accuracy on hold-out set: 0.8881666666666667\n",
      "Loss on hold-out set: 0.3450541783591422\n",
      "[1,  2000] loss: 1.887##------] 36.37% \n",
      "[1,  4000] loss: 0.630\n",
      "[2,  2000] loss: 0.893\n",
      "[2,  4000] loss: 0.386\n",
      "[3,  2000] loss: 0.705\n",
      "[3,  4000] loss: 0.333\n",
      "[4,  2000] loss: 0.636\n",
      "[4,  4000] loss: 0.297\n",
      "[5,  2000] loss: 0.576\n",
      "[5,  4000] loss: 0.278\n",
      "[6,  2000] loss: 0.532\n",
      "[6,  4000] loss: 0.259\n",
      "[7,  2000] loss: 0.496\n",
      "[7,  4000] loss: 0.244\n",
      "[8,  2000] loss: 0.471\n",
      "[8,  4000] loss: 0.233\n",
      "[9,  2000] loss: 0.444\n",
      "[9,  4000] loss: 0.225\n",
      "[10,  2000] loss: 0.433\n",
      "[10,  4000] loss: 0.218\n",
      "[11,  2000] loss: 0.422\n",
      "[11,  4000] loss: 0.211\n",
      "[12,  2000] loss: 0.404\n",
      "[12,  4000] loss: 0.207\n",
      "[13,  2000] loss: 0.390\n",
      "[13,  4000] loss: 0.203\n",
      "[14,  2000] loss: 0.391\n",
      "[14,  4000] loss: 0.195\n",
      "[15,  2000] loss: 0.386\n",
      "[15,  4000] loss: 0.185\n",
      "[16,  2000] loss: 0.385\n",
      "[16,  4000] loss: 0.184\n",
      "Accuracy on hold-out set: 0.8657916666666666\n",
      "Loss on hold-out set: 0.42355148064064757\n",
      "[1,  2000] loss: 0.716##------] 38.77% \n",
      "[2,  2000] loss: 0.459\n",
      "[3,  2000] loss: 0.411\n",
      "[4,  2000] loss: 0.379\n",
      "[5,  2000] loss: 0.362\n",
      "[6,  2000] loss: 0.339\n",
      "[7,  2000] loss: 0.323\n",
      "[8,  2000] loss: 0.307\n",
      "[9,  2000] loss: 0.294\n",
      "[10,  2000] loss: 0.282\n",
      "[11,  2000] loss: 0.273\n",
      "[12,  2000] loss: 0.267\n",
      "[13,  2000] loss: 0.254\n",
      "[14,  2000] loss: 0.247\n",
      "[15,  2000] loss: 0.239\n",
      "[16,  2000] loss: 0.232\n",
      "Accuracy on hold-out set: 0.8854166666666666\n",
      "Loss on hold-out set: 0.33172818956462047\n",
      "[1,  2000] loss: 0.735##------] 40.93% \n",
      "[2,  2000] loss: 0.471\n",
      "[3,  2000] loss: 0.424\n",
      "[4,  2000] loss: 0.391\n",
      "[5,  2000] loss: 0.369\n",
      "[6,  2000] loss: 0.353\n",
      "[7,  2000] loss: 0.334\n",
      "[8,  2000] loss: 0.321\n",
      "[9,  2000] loss: 0.308\n",
      "[10,  2000] loss: 0.298\n",
      "[11,  2000] loss: 0.287\n",
      "[12,  2000] loss: 0.275\n",
      "[13,  2000] loss: 0.266\n",
      "[14,  2000] loss: 0.258\n",
      "[15,  2000] loss: 0.250\n",
      "[16,  2000] loss: 0.243\n",
      "Accuracy on hold-out set: 0.890625\n",
      "Loss on hold-out set: 0.3302030007125189\n",
      "[1,  2000] loss: 0.733##------] 42.98% \n",
      "[2,  2000] loss: 0.464\n",
      "[3,  2000] loss: 0.414\n",
      "[4,  2000] loss: 0.384\n",
      "[5,  2000] loss: 0.363\n",
      "[6,  2000] loss: 0.342\n",
      "[7,  2000] loss: 0.327\n",
      "[8,  2000] loss: 0.315\n",
      "[9,  2000] loss: 0.304\n",
      "[10,  2000] loss: 0.291\n",
      "[11,  2000] loss: 0.283\n",
      "[12,  2000] loss: 0.272\n",
      "[13,  2000] loss: 0.261\n",
      "[14,  2000] loss: 0.252\n",
      "[15,  2000] loss: 0.242\n",
      "[16,  2000] loss: 0.238\n",
      "Accuracy on hold-out set: 0.8871666666666667\n",
      "Loss on hold-out set: 0.3359976706410137\n",
      "[1,  2000] loss: 0.740###-----] 45.11% \n",
      "[2,  2000] loss: 0.468\n",
      "[3,  2000] loss: 0.423\n",
      "[4,  2000] loss: 0.392\n",
      "[5,  2000] loss: 0.367\n",
      "[6,  2000] loss: 0.350\n",
      "[7,  2000] loss: 0.332\n",
      "[8,  2000] loss: 0.317\n",
      "[9,  2000] loss: 0.307\n",
      "[10,  2000] loss: 0.295\n",
      "[11,  2000] loss: 0.283\n",
      "[12,  2000] loss: 0.274\n",
      "[13,  2000] loss: 0.265\n",
      "[14,  2000] loss: 0.254\n",
      "[15,  2000] loss: 0.249\n",
      "[16,  2000] loss: 0.240\n",
      "Accuracy on hold-out set: 0.8900416666666666\n",
      "Loss on hold-out set: 0.3200008515960847\n",
      "[1,  2000] loss: 0.738###-----] 47.34% \n",
      "[2,  2000] loss: 0.468\n",
      "[3,  2000] loss: 0.421\n",
      "[4,  2000] loss: 0.390\n",
      "[5,  2000] loss: 0.369\n",
      "[6,  2000] loss: 0.347\n",
      "[7,  2000] loss: 0.327\n",
      "[8,  2000] loss: 0.317\n",
      "[9,  2000] loss: 0.305\n",
      "[10,  2000] loss: 0.291\n",
      "[11,  2000] loss: 0.285\n",
      "[12,  2000] loss: 0.270\n",
      "[13,  2000] loss: 0.263\n",
      "[14,  2000] loss: 0.256\n",
      "[15,  2000] loss: 0.246\n",
      "[16,  2000] loss: 0.241\n",
      "Accuracy on hold-out set: 0.892125\n",
      "Loss on hold-out set: 0.3138867894515085\n",
      "[1,  2000] loss: 0.713###-----] 49.39% \n",
      "[2,  2000] loss: 0.461\n",
      "[3,  2000] loss: 0.416\n",
      "[4,  2000] loss: 0.380\n",
      "[5,  2000] loss: 0.357\n",
      "[6,  2000] loss: 0.337\n",
      "[7,  2000] loss: 0.322\n",
      "[8,  2000] loss: 0.310\n",
      "[9,  2000] loss: 0.297\n",
      "[10,  2000] loss: 0.284\n",
      "[11,  2000] loss: 0.278\n",
      "[12,  2000] loss: 0.266\n",
      "[13,  2000] loss: 0.257\n",
      "[14,  2000] loss: 0.248\n",
      "[15,  2000] loss: 0.240\n",
      "[16,  2000] loss: 0.235\n",
      "Accuracy on hold-out set: 0.8894583333333334\n",
      "Loss on hold-out set: 0.33155021716794\n",
      "[1,  2000] loss: 0.723###-----] 51.63% \n",
      "[2,  2000] loss: 0.467\n",
      "[3,  2000] loss: 0.415\n",
      "[4,  2000] loss: 0.387\n",
      "[5,  2000] loss: 0.364\n",
      "[6,  2000] loss: 0.344\n",
      "[7,  2000] loss: 0.326\n",
      "[8,  2000] loss: 0.316\n",
      "[9,  2000] loss: 0.302\n",
      "[10,  2000] loss: 0.290\n",
      "[11,  2000] loss: 0.281\n",
      "[12,  2000] loss: 0.270\n",
      "[13,  2000] loss: 0.263\n",
      "[14,  2000] loss: 0.252\n",
      "[15,  2000] loss: 0.246\n",
      "[16,  2000] loss: 0.240\n",
      "Accuracy on hold-out set: 0.8842083333333334\n",
      "Loss on hold-out set: 0.3419755874758897\n",
      "[1,  2000] loss: 0.713###-----] 54.12% \n",
      "[2,  2000] loss: 0.455\n",
      "[3,  2000] loss: 0.413\n",
      "[4,  2000] loss: 0.382\n",
      "[5,  2000] loss: 0.357\n",
      "[6,  2000] loss: 0.341\n",
      "[7,  2000] loss: 0.324\n",
      "[8,  2000] loss: 0.308\n",
      "[9,  2000] loss: 0.296\n",
      "[10,  2000] loss: 0.283\n",
      "[11,  2000] loss: 0.275\n",
      "[12,  2000] loss: 0.263\n",
      "[13,  2000] loss: 0.256\n",
      "[14,  2000] loss: 0.244\n",
      "[15,  2000] loss: 0.241\n",
      "[16,  2000] loss: 0.232\n",
      "Accuracy on hold-out set: 0.891\n",
      "Loss on hold-out set: 0.32685406697712216\n",
      "[1,  2000] loss: 0.731####----] 56.40% \n",
      "[2,  2000] loss: 0.464\n",
      "[3,  2000] loss: 0.414\n",
      "[4,  2000] loss: 0.382\n",
      "[5,  2000] loss: 0.364\n",
      "[6,  2000] loss: 0.343\n",
      "[7,  2000] loss: 0.326\n",
      "[8,  2000] loss: 0.313\n",
      "[9,  2000] loss: 0.298\n",
      "[10,  2000] loss: 0.287\n",
      "[11,  2000] loss: 0.278\n",
      "[12,  2000] loss: 0.266\n",
      "[13,  2000] loss: 0.260\n",
      "[14,  2000] loss: 0.253\n",
      "[15,  2000] loss: 0.243\n",
      "[16,  2000] loss: 0.237\n",
      "Accuracy on hold-out set: 0.8872083333333334\n",
      "Loss on hold-out set: 0.34901511614063446\n",
      "[1,  2000] loss: 0.716####----] 58.78% \n",
      "[1,  4000] loss: 0.260\n",
      "[2,  2000] loss: 0.465\n",
      "[2,  4000] loss: 0.230\n",
      "[3,  2000] loss: 0.427\n",
      "[3,  4000] loss: 0.215\n",
      "[4,  2000] loss: 0.406\n",
      "[4,  4000] loss: 0.202\n",
      "[5,  2000] loss: 0.405\n",
      "[5,  4000] loss: 0.195\n",
      "[6,  2000] loss: 0.382\n",
      "[6,  4000] loss: 0.198\n",
      "[7,  2000] loss: 0.366\n",
      "[7,  4000] loss: 0.190\n",
      "[8,  2000] loss: 0.367\n",
      "[8,  4000] loss: 0.190\n",
      "[9,  2000] loss: 0.360\n",
      "[9,  4000] loss: 0.187\n",
      "[10,  2000] loss: 0.358\n",
      "[10,  4000] loss: 0.180\n",
      "[11,  2000] loss: 0.347\n",
      "[11,  4000] loss: 0.179\n",
      "[12,  2000] loss: 0.336\n",
      "[12,  4000] loss: 0.181\n",
      "[13,  2000] loss: 0.339\n",
      "[13,  4000] loss: 0.175\n",
      "[14,  2000] loss: 0.340\n",
      "[14,  4000] loss: 0.175\n",
      "[15,  2000] loss: 0.334\n",
      "[15,  4000] loss: 0.170\n",
      "[16,  2000] loss: 0.326\n",
      "[16,  4000] loss: 0.167\n",
      "Accuracy on hold-out set: 0.8701666666666666\n",
      "Loss on hold-out set: 0.43352567622332694\n",
      "[1,  2000] loss: 2.337####----] 61.11% \n",
      "[1,  4000] loss: 1.167\n",
      "[1,  6000] loss: 0.777\n",
      "[1,  8000] loss: 0.583\n",
      "[2,  2000] loss: 2.332\n",
      "[2,  4000] loss: 1.166\n",
      "[2,  6000] loss: 0.777\n",
      "[2,  8000] loss: 0.583\n",
      "Accuracy on hold-out set: 0.10108333333333333\n",
      "Loss on hold-out set: 2.315009616692861\n",
      "[1,  2000] loss: 1.725####----] 62.86% \n",
      "[2,  2000] loss: 1.606\n",
      "[3,  2000] loss: 1.411\n",
      "[4,  2000] loss: 1.350\n",
      "[5,  2000] loss: 1.323\n",
      "[6,  2000] loss: 1.363\n",
      "[7,  2000] loss: 1.348\n",
      "[8,  2000] loss: 1.354\n",
      "[9,  2000] loss: 1.351\n",
      "[10,  2000] loss: 1.315\n",
      "[11,  2000] loss: 1.345\n",
      "[12,  2000] loss: 1.367\n",
      "[13,  2000] loss: 1.333\n",
      "[14,  2000] loss: 1.319\n",
      "[15,  2000] loss: 1.303\n",
      "[16,  2000] loss: 1.369\n",
      "Accuracy on hold-out set: 0.44416666666666665\n",
      "Loss on hold-out set: 1.5052500132719675\n",
      "[1,  2000] loss: 2.335#####---] 65.04% \n",
      "[1,  4000] loss: 1.161\n",
      "[1,  6000] loss: 0.775\n",
      "[1,  8000] loss: 0.581\n",
      "[2,  2000] loss: 2.325\n",
      "[2,  4000] loss: 1.162\n",
      "[2,  6000] loss: 0.775\n",
      "[2,  8000] loss: 0.582\n",
      "[3,  2000] loss: 2.327\n",
      "[3,  4000] loss: 1.163\n",
      "[3,  6000] loss: 0.774\n",
      "[3,  8000] loss: 0.581\n",
      "[4,  2000] loss: 2.326\n",
      "[4,  4000] loss: 1.161\n",
      "[4,  6000] loss: 0.775\n",
      "[4,  8000] loss: 0.581\n",
      "[5,  2000] loss: 2.326\n",
      "[5,  4000] loss: 1.161\n",
      "[5,  6000] loss: 0.775\n",
      "[5,  8000] loss: 0.582\n",
      "[6,  2000] loss: 2.323\n",
      "[6,  4000] loss: 1.161\n",
      "[6,  6000] loss: 0.775\n",
      "[6,  8000] loss: 0.581\n",
      "[7,  2000] loss: 2.325\n",
      "[7,  4000] loss: 1.162\n",
      "[7,  6000] loss: 0.776\n",
      "[7,  8000] loss: 0.581\n",
      "[8,  2000] loss: 2.324\n",
      "[8,  4000] loss: 1.162\n",
      "[8,  6000] loss: 0.775\n",
      "[8,  8000] loss: 0.581\n",
      "[9,  2000] loss: 2.326\n",
      "[9,  4000] loss: 1.161\n",
      "[9,  6000] loss: 0.775\n",
      "[9,  8000] loss: 0.581\n",
      "[10,  2000] loss: 2.324\n",
      "[10,  4000] loss: 1.163\n",
      "[10,  6000] loss: 0.775\n",
      "[10,  8000] loss: 0.581\n",
      "[11,  2000] loss: 2.324\n",
      "[11,  4000] loss: 1.162\n",
      "[11,  6000] loss: 0.774\n",
      "[11,  8000] loss: 0.580\n",
      "[12,  2000] loss: 2.325\n",
      "[12,  4000] loss: 1.163\n",
      "[12,  6000] loss: 0.775\n",
      "[12,  8000] loss: 0.582\n",
      "[13,  2000] loss: 2.324\n",
      "[13,  4000] loss: 1.163\n",
      "[13,  6000] loss: 0.775\n",
      "[13,  8000] loss: 0.581\n",
      "[14,  2000] loss: 2.324\n",
      "[14,  4000] loss: 1.163\n",
      "[14,  6000] loss: 0.775\n",
      "[14,  8000] loss: 0.581\n",
      "[15,  2000] loss: 2.322\n",
      "[15,  4000] loss: 1.162\n",
      "[15,  6000] loss: 0.774\n",
      "[15,  8000] loss: 0.582\n",
      "[16,  2000] loss: 2.324\n",
      "[16,  4000] loss: 1.163\n",
      "[16,  6000] loss: 0.775\n",
      "[16,  8000] loss: 0.581\n",
      "Accuracy on hold-out set: 0.09708333333333333\n",
      "Loss on hold-out set: 2.3217372725009917\n",
      "[1,  2000] loss: 0.713#####---] 68.21% \n",
      "[2,  2000] loss: 0.461\n",
      "[3,  2000] loss: 0.418\n",
      "[4,  2000] loss: 0.390\n",
      "[5,  2000] loss: 0.365\n",
      "[6,  2000] loss: 0.346\n",
      "[7,  2000] loss: 0.329\n",
      "[8,  2000] loss: 0.314\n",
      "[9,  2000] loss: 0.300\n",
      "[10,  2000] loss: 0.292\n",
      "[11,  2000] loss: 0.280\n",
      "[12,  2000] loss: 0.271\n",
      "[13,  2000] loss: 0.260\n",
      "[14,  2000] loss: 0.250\n",
      "[15,  2000] loss: 0.246\n",
      "[16,  2000] loss: 0.238\n",
      "Accuracy on hold-out set: 0.8872916666666667\n",
      "Loss on hold-out set: 0.3278689228463918\n",
      "[1,  2000] loss: 1.963#####---] 70.61% \n",
      "[1,  4000] loss: 0.930\n",
      "[1,  6000] loss: 0.749\n",
      "[1,  8000] loss: 0.580\n",
      "[2,  2000] loss: 2.281\n",
      "[2,  4000] loss: 0.982\n",
      "[2,  6000] loss: 0.648\n",
      "[2,  8000] loss: 0.514\n",
      "[3,  2000] loss: 2.002\n",
      "[3,  4000] loss: 1.130\n",
      "[3,  6000] loss: 0.774\n",
      "[3,  8000] loss: 0.580\n",
      "[4,  2000] loss: 2.322\n",
      "[4,  4000] loss: 1.162\n",
      "[4,  6000] loss: 0.774\n",
      "[4,  8000] loss: 0.581\n",
      "[5,  2000] loss: 2.321\n",
      "[5,  4000] loss: 1.160\n",
      "[5,  6000] loss: 0.774\n",
      "[5,  8000] loss: 0.581\n",
      "[6,  2000] loss: 2.322\n",
      "[6,  4000] loss: 1.160\n",
      "[6,  6000] loss: 0.774\n",
      "[6,  8000] loss: 0.581\n",
      "[7,  2000] loss: 2.322\n",
      "[7,  4000] loss: 1.160\n",
      "[7,  6000] loss: 0.773\n",
      "[7,  8000] loss: 0.580\n",
      "[8,  2000] loss: 2.322\n",
      "[8,  4000] loss: 1.161\n",
      "[8,  6000] loss: 0.774\n",
      "[8,  8000] loss: 0.580\n",
      "Accuracy on hold-out set: 0.10075\n",
      "Loss on hold-out set: 2.3114212586085\n",
      "[1,  2000] loss: 0.665#####---] 73.08% \n",
      "[1,  4000] loss: 0.235\n",
      "[2,  2000] loss: 0.409\n",
      "[2,  4000] loss: 0.202\n",
      "[3,  2000] loss: 0.369\n",
      "[3,  4000] loss: 0.182\n",
      "[4,  2000] loss: 0.346\n",
      "[4,  4000] loss: 0.166\n",
      "[5,  2000] loss: 0.320\n",
      "[5,  4000] loss: 0.162\n",
      "[6,  2000] loss: 0.303\n",
      "[6,  4000] loss: 0.147\n",
      "[7,  2000] loss: 0.288\n",
      "[7,  4000] loss: 0.145\n",
      "[8,  2000] loss: 0.266\n",
      "[8,  4000] loss: 0.141\n",
      "[9,  2000] loss: 0.263\n",
      "[9,  4000] loss: 0.133\n",
      "[10,  2000] loss: 0.256\n",
      "[10,  4000] loss: 0.127\n",
      "[11,  2000] loss: 0.233\n",
      "[11,  4000] loss: 0.124\n",
      "[12,  2000] loss: 0.224\n",
      "[12,  4000] loss: 0.123\n",
      "[13,  2000] loss: 0.224\n",
      "[13,  4000] loss: 0.114\n",
      "[14,  2000] loss: 0.218\n",
      "[14,  4000] loss: 0.108\n",
      "[15,  2000] loss: 0.214\n",
      "[15,  4000] loss: 0.104\n",
      "[16,  2000] loss: 0.206\n",
      "[16,  4000] loss: 0.100\n",
      "Accuracy on hold-out set: 0.8886666666666667\n",
      "Loss on hold-out set: 0.44965731067333037\n",
      "[1,  2000] loss: 0.657######--] 75.38% \n",
      "[2,  2000] loss: 0.435\n",
      "[3,  2000] loss: 0.390\n",
      "[4,  2000] loss: 0.355\n",
      "[5,  2000] loss: 0.332\n",
      "[6,  2000] loss: 0.312\n",
      "[7,  2000] loss: 0.295\n",
      "[8,  2000] loss: 0.283\n",
      "[9,  2000] loss: 0.268\n",
      "[10,  2000] loss: 0.258\n",
      "[11,  2000] loss: 0.245\n",
      "[12,  2000] loss: 0.238\n",
      "[13,  2000] loss: 0.229\n",
      "[14,  2000] loss: 0.219\n",
      "[15,  2000] loss: 0.213\n",
      "[16,  2000] loss: 0.206\n",
      "Accuracy on hold-out set: 0.879375\n",
      "Loss on hold-out set: 0.36631993464628854\n",
      "[1,  2000] loss: 0.665######--] 77.94% \n",
      "[2,  2000] loss: 0.441\n",
      "[3,  2000] loss: 0.394\n",
      "[4,  2000] loss: 0.360\n",
      "[5,  2000] loss: 0.335\n",
      "[6,  2000] loss: 0.316\n",
      "[7,  2000] loss: 0.299\n",
      "[8,  2000] loss: 0.284\n",
      "[9,  2000] loss: 0.268\n",
      "[10,  2000] loss: 0.259\n",
      "[11,  2000] loss: 0.248\n",
      "[12,  2000] loss: 0.241\n",
      "[13,  2000] loss: 0.230\n",
      "[14,  2000] loss: 0.224\n",
      "[15,  2000] loss: 0.212\n",
      "[16,  2000] loss: 0.207\n",
      "Accuracy on hold-out set: 0.891625\n",
      "Loss on hold-out set: 0.3392787606876033\n",
      "[1,  2000] loss: 0.693######--] 79.95% \n",
      "[2,  2000] loss: 0.456\n",
      "[3,  2000] loss: 0.407\n",
      "[4,  2000] loss: 0.375\n",
      "[5,  2000] loss: 0.351\n",
      "[6,  2000] loss: 0.333\n",
      "[7,  2000] loss: 0.314\n",
      "[8,  2000] loss: 0.299\n",
      "[9,  2000] loss: 0.286\n",
      "[10,  2000] loss: 0.276\n",
      "[11,  2000] loss: 0.266\n",
      "[12,  2000] loss: 0.254\n",
      "[13,  2000] loss: 0.247\n",
      "[14,  2000] loss: 0.235\n",
      "[15,  2000] loss: 0.228\n",
      "[16,  2000] loss: 0.221\n",
      "Accuracy on hold-out set: 0.8946666666666667\n",
      "Loss on hold-out set: 0.31296861279429866\n",
      "[1,  2000] loss: 0.662######--] 82.15% \n",
      "[2,  2000] loss: 0.443\n",
      "[3,  2000] loss: 0.393\n",
      "[4,  2000] loss: 0.361\n",
      "[5,  2000] loss: 0.333\n",
      "[6,  2000] loss: 0.315\n",
      "[7,  2000] loss: 0.299\n",
      "[8,  2000] loss: 0.286\n",
      "[9,  2000] loss: 0.274\n",
      "[10,  2000] loss: 0.265\n",
      "[11,  2000] loss: 0.252\n",
      "[12,  2000] loss: 0.242\n",
      "[13,  2000] loss: 0.235\n",
      "[14,  2000] loss: 0.224\n",
      "[15,  2000] loss: 0.216\n",
      "[16,  2000] loss: 0.207\n",
      "Accuracy on hold-out set: 0.8911666666666667\n",
      "Loss on hold-out set: 0.33588693430682176\n",
      "[1,  2000] loss: 0.654######--] 84.30% \n",
      "[2,  2000] loss: 0.429\n",
      "[3,  2000] loss: 0.382\n",
      "[4,  2000] loss: 0.349\n",
      "[5,  2000] loss: 0.326\n",
      "[6,  2000] loss: 0.308\n",
      "[7,  2000] loss: 0.291\n",
      "[8,  2000] loss: 0.277\n",
      "[9,  2000] loss: 0.269\n",
      "[10,  2000] loss: 0.255\n",
      "[11,  2000] loss: 0.247\n",
      "[12,  2000] loss: 0.235\n",
      "[13,  2000] loss: 0.227\n",
      "[14,  2000] loss: 0.223\n",
      "[15,  2000] loss: 0.211\n",
      "[16,  2000] loss: 0.204\n",
      "Accuracy on hold-out set: 0.8915416666666667\n",
      "Loss on hold-out set: 0.3452864433695407\n",
      "[1,  2000] loss: 0.654#######-] 86.42% \n",
      "[2,  2000] loss: 0.436\n",
      "[3,  2000] loss: 0.386\n",
      "[4,  2000] loss: 0.354\n",
      "[5,  2000] loss: 0.325\n",
      "[6,  2000] loss: 0.305\n",
      "[7,  2000] loss: 0.288\n",
      "[8,  2000] loss: 0.278\n",
      "[9,  2000] loss: 0.266\n",
      "[10,  2000] loss: 0.253\n",
      "[11,  2000] loss: 0.245\n",
      "[12,  2000] loss: 0.238\n",
      "[13,  2000] loss: 0.227\n",
      "[14,  2000] loss: 0.217\n",
      "[15,  2000] loss: 0.209\n",
      "[16,  2000] loss: 0.201\n",
      "Accuracy on hold-out set: 0.88925\n",
      "Loss on hold-out set: 0.3413935966663994\n",
      "[1,  2000] loss: 0.722#######-] 88.68% \n",
      "[2,  2000] loss: 0.459\n",
      "[3,  2000] loss: 0.414\n",
      "[4,  2000] loss: 0.387\n",
      "[5,  2000] loss: 0.361\n",
      "[6,  2000] loss: 0.343\n",
      "[7,  2000] loss: 0.327\n",
      "[8,  2000] loss: 0.313\n",
      "[9,  2000] loss: 0.300\n",
      "[10,  2000] loss: 0.289\n",
      "[11,  2000] loss: 0.279\n",
      "[12,  2000] loss: 0.273\n",
      "[13,  2000] loss: 0.262\n",
      "[14,  2000] loss: 0.255\n",
      "[15,  2000] loss: 0.246\n",
      "[16,  2000] loss: 0.237\n",
      "Accuracy on hold-out set: 0.889\n",
      "Loss on hold-out set: 0.33247187366057185\n",
      "[1,  2000] loss: 0.718#######-] 91.35% \n",
      "[2,  2000] loss: 0.458\n",
      "[3,  2000] loss: 0.413\n",
      "[4,  2000] loss: 0.382\n",
      "[5,  2000] loss: 0.362\n",
      "[6,  2000] loss: 0.344\n",
      "[7,  2000] loss: 0.324\n",
      "[8,  2000] loss: 0.309\n",
      "[9,  2000] loss: 0.301\n",
      "[10,  2000] loss: 0.283\n",
      "[11,  2000] loss: 0.273\n",
      "[12,  2000] loss: 0.269\n",
      "[13,  2000] loss: 0.258\n",
      "[14,  2000] loss: 0.248\n",
      "[15,  2000] loss: 0.241\n",
      "[16,  2000] loss: 0.235\n",
      "Accuracy on hold-out set: 0.890875\n",
      "Loss on hold-out set: 0.32410630107546845\n",
      "[1,  2000] loss: 2.154#######-] 93.63% \n",
      "[1,  4000] loss: 1.157\n",
      "[1,  6000] loss: 0.772\n",
      "[1,  8000] loss: 0.579\n",
      "[1, 10000] loss: 0.463\n",
      "[1, 12000] loss: 0.386\n",
      "[1, 14000] loss: 0.331\n",
      "[1, 16000] loss: 0.290\n",
      "[1, 18000] loss: 0.258\n",
      "[2,  2000] loss: 2.316\n",
      "[2,  4000] loss: 1.159\n",
      "[2,  6000] loss: 0.773\n",
      "[2,  8000] loss: 0.579\n",
      "[2, 10000] loss: 0.464\n",
      "[2, 12000] loss: 0.386\n",
      "[2, 14000] loss: 0.331\n",
      "[2, 16000] loss: 0.290\n",
      "[2, 18000] loss: 0.258\n",
      "Accuracy on hold-out set: 0.09858333333333333\n",
      "Loss on hold-out set: 2.3112219488620758\n",
      "[1,  2000] loss: 0.727########] 95.85% \n",
      "[2,  2000] loss: 0.468\n",
      "[3,  2000] loss: 0.420\n",
      "[4,  2000] loss: 0.387\n",
      "[5,  2000] loss: 0.367\n",
      "[6,  2000] loss: 0.345\n",
      "[7,  2000] loss: 0.333\n",
      "[8,  2000] loss: 0.317\n",
      "[9,  2000] loss: 0.306\n",
      "[10,  2000] loss: 0.290\n",
      "[11,  2000] loss: 0.281\n",
      "[12,  2000] loss: 0.274\n",
      "[13,  2000] loss: 0.262\n",
      "[14,  2000] loss: 0.253\n",
      "[15,  2000] loss: 0.245\n",
      "[16,  2000] loss: 0.239\n",
      "Accuracy on hold-out set: 0.891125\n",
      "Loss on hold-out set: 0.32629870082624257\n",
      "[1,  2000] loss: 0.730########] 98.23% \n",
      "[2,  2000] loss: 0.464\n",
      "[3,  2000] loss: 0.419\n",
      "[4,  2000] loss: 0.382\n",
      "[5,  2000] loss: 0.364\n",
      "[6,  2000] loss: 0.346\n",
      "[7,  2000] loss: 0.326\n",
      "[8,  2000] loss: 0.309\n",
      "[9,  2000] loss: 0.300\n",
      "[10,  2000] loss: 0.291\n",
      "[11,  2000] loss: 0.282\n",
      "[12,  2000] loss: 0.272\n",
      "[13,  2000] loss: 0.260\n",
      "[14,  2000] loss: 0.252\n",
      "[15,  2000] loss: 0.245\n",
      "[16,  2000] loss: 0.238\n",
      "Accuracy on hold-out set: 0.8829583333333333\n",
      "Loss on hold-out set: 0.3549852753352995\n",
      "spotPython tuning: [##########] 100.00% Done...\n",
      "\r"
     ]
    },
    {
     "data": {
      "text/plain": [
       "<spotPython.spot.spot.Spot at 0x7f3464b022f0>"
      ]
     },
     "execution_count": 20,
     "metadata": {},
     "output_type": "execute_result"
    }
   ],
   "source": [
    "spot_torch = spot.Spot(fun=fun,\n",
    "                   lower = lower,\n",
    "                   upper = upper,\n",
    "                   fun_evals = inf,\n",
    "                   fun_repeats = 1,\n",
    "                   max_time = MAX_TIME,\n",
    "                   noise = False,\n",
    "                   tolerance_x = np.sqrt(np.spacing(1)),\n",
    "                   var_type = var_type,\n",
    "                   var_name = var_name,\n",
    "                   infill_criterion = \"y\",\n",
    "                   n_points = 1,\n",
    "                   seed=123,\n",
    "                   log_level = 50,\n",
    "                   show_models= False,\n",
    "                   show_progress= True,\n",
    "                   fun_control = fun_control,\n",
    "                   design_control={\"init_size\": INIT_SIZE,\n",
    "                                   \"repeats\": 1},\n",
    "                   surrogate_control={\"noise\": True,\n",
    "                                      \"cod_type\": \"norm\",\n",
    "                                      \"min_theta\": -4,\n",
    "                                      \"max_theta\": 3,\n",
    "                                      \"n_theta\": len(var_name),\n",
    "                                      \"model_optimizer\": differential_evolution,\n",
    "                                      \"model_fun_evals\": 10_000,\n",
    "                                      \"log_level\": 50\n",
    "                                      })\n",
    "spot_torch.run(X_start=X_start)"
   ]
  },
  {
   "attachments": {},
   "cell_type": "markdown",
   "metadata": {},
   "source": [
    "### 4 Results"
   ]
  },
  {
   "cell_type": "code",
   "execution_count": 21,
   "metadata": {},
   "outputs": [],
   "source": [
    "SAVE = False\n",
    "LOAD = False\n",
    "\n",
    "if SAVE:\n",
    "    result_file_name = \"res_\" + experiment_name + \".pkl\"\n",
    "    with open(result_file_name, 'wb') as f:\n",
    "        pickle.dump(spot_torch, f)\n",
    "\n",
    "if LOAD:\n",
    "    result_file_name = \"res_ch10-friedman-hpt-0_maans03_60min_20init_1K_2023-04-14_10-11-19.pkl\"\n",
    "    with open(result_file_name, 'rb') as f:\n",
    "        spot_torch =  pickle.load(f)"
   ]
  },
  {
   "attachments": {},
   "cell_type": "markdown",
   "metadata": {},
   "source": [
    "* Show the Progress of the hyperparameter tuning:"
   ]
  },
  {
   "cell_type": "code",
   "execution_count": 22,
   "metadata": {},
   "outputs": [
    {
     "data": {
      "image/png": "[encoded data removed]",
      "text/plain": [
       "<Figure size 900x600 with 1 Axes>"
      ]
     },
     "metadata": {},
     "output_type": "display_data"
    }
   ],
   "source": [
    "spot_torch.plot_progress(log_y=False, filename=\"../Figures.d/\" + experiment_name+\"_progress.pdf\")"
   ]
  },
  {
   "cell_type": "markdown",
   "metadata": {},
   "source": [
    "\n",
    "\n",
    "* Print the Results"
   ]
  },
  {
   "cell_type": "code",
   "execution_count": 23,
   "metadata": {},
   "outputs": [
    {
     "name": "stdout",
     "output_type": "stream",
     "text": [
      "| name       | type   |   default |   lower |   upper |                  tuned | transform             |   importance | stars   |\n",
      "|------------|--------|-----------|---------|---------|------------------------|-----------------------|--------------|---------|\n",
      "| l1         | int    |       5.0 |     2.0 |     9.0 |                    9.0 | transform_power_2_int |         0.22 | .       |\n",
      "| l2         | int    |       5.0 |     2.0 |     9.0 |                    8.0 | transform_power_2_int |         0.00 |         |\n",
      "| lr         | float  |     0.001 |  0.0001 |     0.1 | 0.00010046494466506295 | None                  |       100.00 | ***     |\n",
      "| batch_size | int    |       4.0 |     1.0 |     4.0 |                    4.0 | transform_power_2_int |        66.30 | **      |\n",
      "| epochs     | int    |       3.0 |     1.0 |     4.0 |                    4.0 | transform_power_2_int |         0.00 |         |\n",
      "| k_folds    | int    |       2.0 |     0.0 |     0.0 |                    0.0 | None                  |              |         |\n"
     ]
    }
   ],
   "source": [
    "print(gen_design_table(fun_control=fun_control, spot=spot_torch))"
   ]
  },
  {
   "attachments": {},
   "cell_type": "markdown",
   "metadata": {},
   "source": [
    "## Show variable importance"
   ]
  },
  {
   "cell_type": "code",
   "execution_count": 24,
   "metadata": {},
   "outputs": [
    {
     "data": {
      "image/png": "[encoded data removed]",
      "text/plain": [
       "<Figure size 640x480 with 1 Axes>"
      ]
     },
     "metadata": {},
     "output_type": "display_data"
    }
   ],
   "source": [
    "spot_torch.plot_importance(threshold=0.025, filename=\"../Figures.d/\" + experiment_name+\"_importance.pdf\")"
   ]
  },
  {
   "attachments": {},
   "cell_type": "markdown",
   "metadata": {},
   "source": [
    "## Get Default Hyperparameters"
   ]
  },
  {
   "cell_type": "code",
   "execution_count": 26,
   "metadata": {},
   "outputs": [
    {
     "data": {
      "text/plain": [
       "{'l1': 32, 'l2': 32, 'lr': 0.001, 'batch_size': 16, 'epochs': 8, 'k_folds': 2}"
      ]
     },
     "execution_count": 26,
     "metadata": {},
     "output_type": "execute_result"
    }
   ],
   "source": [
    "values_default = get_default_hyperparameters_for_core_model(fun_control=fun_control)\n",
    "values_default"
   ]
  },
  {
   "cell_type": "code",
   "execution_count": 28,
   "metadata": {},
   "outputs": [
    {
     "data": {
      "text/plain": [
       "Net_CV_fashionMNIST(\n",
       "  (flatten): Flatten(start_dim=1, end_dim=-1)\n",
       "  (linear_relu_stack): Sequential(\n",
       "    (0): Linear(in_features=784, out_features=32, bias=True)\n",
       "    (1): ReLU()\n",
       "    (2): Linear(in_features=32, out_features=32, bias=True)\n",
       "    (3): ReLU()\n",
       "    (4): Linear(in_features=32, out_features=10, bias=True)\n",
       "  )\n",
       ")"
      ]
     },
     "execution_count": 28,
     "metadata": {},
     "output_type": "execute_result"
    }
   ],
   "source": [
    "model_default = fun_control[\"core_model\"](**values_default)\n",
    "model_default"
   ]
  },
  {
   "attachments": {},
   "cell_type": "markdown",
   "metadata": {},
   "source": [
    "## Get SPOT Results"
   ]
  },
  {
   "cell_type": "code",
   "execution_count": 29,
   "metadata": {},
   "outputs": [
    {
     "name": "stdout",
     "output_type": "stream",
     "text": [
      "[[9.00000000e+00 8.00000000e+00 1.00464945e-04 4.00000000e+00\n",
      "  4.00000000e+00 0.00000000e+00]]\n"
     ]
    }
   ],
   "source": [
    "X = spot_torch.to_all_dim(spot_torch.min_X.reshape(1,-1))\n",
    "print(X)"
   ]
  },
  {
   "cell_type": "code",
   "execution_count": 30,
   "metadata": {},
   "outputs": [
    {
     "data": {
      "text/plain": [
       "[{'l1': 512,\n",
       "  'l2': 256,\n",
       "  'lr': 0.00010046494466506295,\n",
       "  'batch_size': 16,\n",
       "  'epochs': 16,\n",
       "  'k_folds': 0}]"
      ]
     },
     "execution_count": 30,
     "metadata": {},
     "output_type": "execute_result"
    }
   ],
   "source": [
    "v_dict = assign_values(X, fun_control[\"var_name\"])\n",
    "return_conf_list_from_var_dict(var_dict=v_dict, fun_control=fun_control)"
   ]
  },
  {
   "cell_type": "code",
   "execution_count": 31,
   "metadata": {},
   "outputs": [
    {
     "data": {
      "text/plain": [
       "Net_CV_fashionMNIST(\n",
       "  (flatten): Flatten(start_dim=1, end_dim=-1)\n",
       "  (linear_relu_stack): Sequential(\n",
       "    (0): Linear(in_features=784, out_features=512, bias=True)\n",
       "    (1): ReLU()\n",
       "    (2): Linear(in_features=512, out_features=256, bias=True)\n",
       "    (3): ReLU()\n",
       "    (4): Linear(in_features=256, out_features=10, bias=True)\n",
       "  )\n",
       ")"
      ]
     },
     "execution_count": 31,
     "metadata": {},
     "output_type": "execute_result"
    }
   ],
   "source": [
    "model_spot = get_one_core_model_from_X(X, fun_control)\n",
    "model_spot"
   ]
  },
  {
   "attachments": {},
   "cell_type": "markdown",
   "metadata": {},
   "source": [
    "## Test Set Accuracy"
   ]
  },
  {
   "cell_type": "code",
   "execution_count": 32,
   "metadata": {},
   "outputs": [
    {
     "data": {
      "text/plain": [
       "torch.Size([10000, 28, 28])"
      ]
     },
     "execution_count": 32,
     "metadata": {},
     "output_type": "execute_result"
    }
   ],
   "source": [
    "testset = fun_control[\"test\"]\n",
    "testset.data.shape"
   ]
  },
  {
   "cell_type": "code",
   "execution_count": 34,
   "metadata": {},
   "outputs": [
    {
     "name": "stdout",
     "output_type": "stream",
     "text": [
      "Accuracy on hold-out set: 0.825\n",
      "Loss on hold-out set: 0.5287756632119417\n"
     ]
    },
    {
     "data": {
      "text/plain": [
       "(0.5287756632119417, nan)"
      ]
     },
     "execution_count": 34,
     "metadata": {},
     "output_type": "execute_result"
    }
   ],
   "source": [
    "model_default.evaluate_hold_out(dataset = testset, shuffle=False)"
   ]
  },
  {
   "cell_type": "code",
   "execution_count": 35,
   "metadata": {},
   "outputs": [
    {
     "name": "stdout",
     "output_type": "stream",
     "text": [
      "Accuracy on hold-out set: 0.83725\n",
      "Loss on hold-out set: 0.4810692861676216\n"
     ]
    },
    {
     "data": {
      "text/plain": [
       "(0.4810692861676216, nan)"
      ]
     },
     "execution_count": 35,
     "metadata": {},
     "output_type": "execute_result"
    }
   ],
   "source": [
    "model_spot.evaluate_hold_out(dataset = testset, shuffle=False)"
   ]
  },
  {
   "cell_type": "code",
   "execution_count": 36,
   "metadata": {},
   "outputs": [
    {
     "data": {
      "text/plain": [
       "(0.31296861279429866, 2.335110106408596)"
      ]
     },
     "execution_count": 36,
     "metadata": {},
     "output_type": "execute_result"
    }
   ],
   "source": [
    "min(spot_torch.y), max(spot_torch.y)"
   ]
  },
  {
   "attachments": {},
   "cell_type": "markdown",
   "metadata": {},
   "source": [
    "## Detailed Hyperparameter Plots"
   ]
  },
  {
   "attachments": {},
   "cell_type": "markdown",
   "metadata": {},
   "source": [
    "* For productive use, you might want to select:\n",
    "  * `min_z=min(spot_torch.y)` and\n",
    "  * `max_z = max(spot_torch.y)`\n",
    "* These settings are not so colorful as visualizations that use `None` for the ranges, but give better insights."
   ]
  },
  {
   "cell_type": "code",
   "execution_count": 37,
   "metadata": {},
   "outputs": [
    {
     "name": "stdout",
     "output_type": "stream",
     "text": [
      "l1:  0.21983401435134045\n",
      "lr:  100.00000000000001\n",
      "batch_size:  66.29682925397123\n"
     ]
    },
    {
     "data": {
      "image/png": "[encoded data removed]",
      "text/plain": [
       "<Figure size 900x600 with 3 Axes>"
      ]
     },
     "metadata": {},
     "output_type": "display_data"
    },
    {
     "data": {
      "image/png": "[encoded data removed]",
      "text/plain": [
       "<Figure size 900x600 with 3 Axes>"
      ]
     },
     "metadata": {},
     "output_type": "display_data"
    },
    {
     "data": {
      "image/png": "[encoded data removed]",
      "text/plain": [
       "<Figure size 900x600 with 3 Axes>"
      ]
     },
     "metadata": {},
     "output_type": "display_data"
    }
   ],
   "source": [
    "threshold = 0.025\n",
    "impo = spot_torch.print_importance(threshold=threshold, print_screen=True)\n",
    "var_plots = [i for i, x in enumerate(impo) if x[1] > threshold]\n",
    "min_z = min(spot_torch.y)\n",
    "max_z = max(spot_torch.y)\n",
    "n = spot_torch.k\n",
    "for i in var_plots:\n",
    "    for j in var_plots:\n",
    "        if j > i:\n",
    "            filename = \"../Figures.d/\" + experiment_name+\"_contour_\"+str(i)+\"_\"+str(j)+\".pdf\"\n",
    "            spot_torch.plot_contour(i=i, j=j, min_z=min_z, max_z = max_z, filename=filename)"
   ]
  },
  {
   "attachments": {},
   "cell_type": "markdown",
   "metadata": {},
   "source": [
    "## Parallel Coordinates Plot"
   ]
  },
  {
   "cell_type": "code",
   "execution_count": 38,
   "metadata": {},
   "outputs": [
    {
     "data": {
      "application/vnd.plotly.v1+json": {
       "config": {
        "plotlyServerURL": "https://plot.ly"
       },
       "data": [
        {
         "dimensions": [
          {
           "label": "l1",
           "range": [
            2,
            9
           ],
           "values": [
            6,
            6,
            8,
            5,
            8,
            4,
            3,
            9,
            7,
            8,
            5,
            7,
            2,
            5,
            6,
            9,
            4,
            3,
            2,
            4,
            4,
            4,
            3,
            8,
            9,
            9,
            9,
            9,
            9,
            9,
            9,
            9,
            9,
            9,
            6,
            9,
            9,
            9,
            9,
            9,
            3,
            9,
            9,
            9,
            9,
            9,
            9,
            9,
            9,
            8,
            9,
            9,
            5,
            9,
            6,
            4,
            9,
            9,
            3,
            8,
            9,
            9,
            9,
            9,
            9,
            8,
            9,
            8,
            9,
            9,
            9,
            9,
            9,
            9,
            8,
            9,
            9,
            9,
            9,
            9,
            9,
            9,
            9,
            9,
            5,
            2,
            7,
            4,
            9,
            5,
            9,
            9,
            9,
            9,
            9,
            9,
            9,
            9,
            9,
            6,
            9,
            9
           ]
          },
          {
           "label": "l2",
           "range": [
            2,
            9
           ],
           "values": [
            2,
            6,
            4,
            9,
            8,
            3,
            8,
            7,
            6,
            3,
            3,
            4,
            8,
            5,
            6,
            7,
            5,
            4,
            8,
            4,
            5,
            5,
            5,
            5,
            5,
            5,
            5,
            5,
            5,
            5,
            5,
            5,
            5,
            6,
            5,
            5,
            5,
            5,
            5,
            5,
            9,
            5,
            5,
            5,
            5,
            5,
            5,
            5,
            5,
            3,
            5,
            5,
            5,
            5,
            7,
            9,
            5,
            5,
            5,
            7,
            5,
            5,
            5,
            5,
            5,
            4,
            6,
            8,
            2,
            7,
            7,
            9,
            7,
            9,
            2,
            7,
            7,
            7,
            7,
            7,
            7,
            7,
            7,
            7,
            4,
            4,
            5,
            4,
            7,
            7,
            6,
            9,
            9,
            8,
            9,
            9,
            9,
            7,
            7,
            4,
            7,
            7
           ]
          },
          {
           "label": "lr",
           "range": [
            0.0001,
            0.09967323837825674
           ],
           "values": [
            0.07891930243550081,
            0.038678510883003454,
            0.055922913227493425,
            0.023916618597910937,
            0.05255854410235353,
            0.08637242457572461,
            0.06894037634811631,
            0.07070321754434554,
            0.08382665753385006,
            0.014922403151575085,
            0.04503911035907991,
            0.031985626199206106,
            0.02724238501379804,
            0.09189032578122026,
            0.0030540880549393807,
            0.016364323858938316,
            0.009702508028858109,
            0.09840722147922175,
            0.06176185054082966,
            0.04568800162080369,
            0.0012270534391238994,
            0.0001003314768034877,
            0.00010307144579502908,
            0.0011059835763960928,
            0.0001,
            0.00010060881924911502,
            0.00010715012767194276,
            0.00010643371255779355,
            0.00010046197072559326,
            0.0003001244628733399,
            0.00010138910243620569,
            0.0004927906170700193,
            0.0006044177948819866,
            0.005096903365432654,
            0.00010037017101306722,
            0.0005346421631235146,
            0.00010405864380270968,
            0.00010049428219585654,
            0.00010031550647881388,
            0.00010088680988456361,
            0.0432618224127331,
            0.0001006878715394885,
            0.00010022637560131581,
            0.00010028553381052907,
            0.00010012684113343273,
            0.00010007826454748459,
            0.004693807799860876,
            0.00010000196616485879,
            0.00010018165571996918,
            0.04128586333674936,
            0.07202035831250854,
            0.00010150288304099087,
            0.09256907756169623,
            0.00010107813616711675,
            0.04077382629676784,
            0.09967323837825674,
            0.00010070390611722352,
            0.00010167798766011482,
            0.05512032939003219,
            0.05253911851222756,
            0.00010276619679996934,
            0.00010052464869819006,
            0.00010041336010304519,
            0.00010026331802846788,
            0.00010035788141662255,
            0.016337935516542806,
            0.006351666201225022,
            0.00010307243665309829,
            0.00010006969449613545,
            0.00010021872106179969,
            0.00010036200498764192,
            0.00010146429792533967,
            0.00010000268623990005,
            0.00010053144441217465,
            0.0001067649825787706,
            0.00010414638207449645,
            0.00010223100118656597,
            0.00010010208039097634,
            0.00010025284780447452,
            0.0001006786055171155,
            0.00010029170596841802,
            0.00010046089281301462,
            0.0001003332334197568,
            0.00010037756138045473,
            0.0027947035666634513,
            0.07925873399662398,
            0.031414793582166915,
            0.05854444264717949,
            0.00010155448050955945,
            0.051818890800102824,
            0.0004350139018097152,
            0.00010030230521591854,
            0.00010073749976723806,
            0.00010046494466506295,
            0.00010065225329895094,
            0.00010095340200913516,
            0.0001006881919983979,
            0.0001012487814270463,
            0.00010200848138570279,
            0.027852359306451958,
            0.00010018714091919456,
            0.00010039544123022909
           ]
          },
          {
           "label": "batch_size",
           "range": [
            1,
            4
           ],
           "values": [
            2,
            4,
            2,
            2,
            3,
            3,
            4,
            1,
            2,
            2,
            3,
            1,
            3,
            4,
            1,
            3,
            3,
            3,
            2,
            2,
            3,
            4,
            1,
            4,
            4,
            4,
            4,
            4,
            3,
            4,
            3,
            4,
            4,
            4,
            3,
            4,
            4,
            4,
            4,
            4,
            2,
            4,
            4,
            4,
            4,
            4,
            4,
            4,
            4,
            3,
            3,
            4,
            4,
            4,
            2,
            2,
            4,
            4,
            2,
            3,
            4,
            4,
            4,
            4,
            4,
            2,
            3,
            4,
            4,
            4,
            4,
            3,
            4,
            4,
            3,
            4,
            4,
            4,
            4,
            4,
            4,
            4,
            4,
            4,
            3,
            2,
            4,
            2,
            4,
            2,
            3,
            4,
            4,
            4,
            4,
            4,
            4,
            4,
            4,
            1,
            4,
            4
           ]
          },
          {
           "label": "epochs",
           "range": [
            1,
            4
           ],
           "values": [
            3,
            3,
            1,
            4,
            3,
            3,
            3,
            3,
            2,
            1,
            2,
            2,
            4,
            3,
            2,
            1,
            2,
            4,
            2,
            2,
            2,
            2,
            2,
            2,
            3,
            3,
            4,
            4,
            4,
            4,
            4,
            4,
            4,
            4,
            4,
            4,
            4,
            4,
            4,
            4,
            3,
            4,
            4,
            4,
            4,
            4,
            2,
            4,
            4,
            3,
            3,
            4,
            4,
            4,
            2,
            3,
            4,
            4,
            1,
            2,
            4,
            4,
            4,
            4,
            4,
            2,
            1,
            4,
            4,
            4,
            4,
            4,
            4,
            4,
            4,
            4,
            4,
            4,
            4,
            4,
            4,
            4,
            4,
            4,
            4,
            1,
            4,
            4,
            4,
            3,
            4,
            4,
            4,
            4,
            4,
            4,
            4,
            4,
            4,
            1,
            4,
            4
           ]
          }
         ],
         "line": {
          "cmax": 2.335110106408596,
          "cmin": 0.31296861279429866,
          "color": [
           2.3348651004831,
           1.4429961559176445,
           2.311900102853775,
           1.651909640817127,
           2.3159285152753193,
           2.318961398681005,
           2.306847927729289,
           2.335110106408596,
           2.320873484690984,
           2.3057273806730905,
           1.7446358592112858,
           2.3296370136638482,
           2.3093962224324542,
           2.3201836312611896,
           0.709115148159605,
           0.7576360034629082,
           0.5754812591251879,
           2.329746807495753,
           2.326240884224574,
           2.317868604461352,
           0.42063696272310336,
           0.5317084591885408,
           0.6284251182139875,
           0.3967570789170762,
           0.368858978168418,
           0.38687136775131026,
           0.3383371886989723,
           0.33198336880405743,
           0.3627034509691924,
           0.34815566031989875,
           0.3952988524808194,
           0.3551850287487808,
           0.35466981028392913,
           0.4393510251638169,
           0.38511975363832124,
           0.37532234959971783,
           0.3449152569503834,
           0.3397377951964736,
           0.3420454707300911,
           0.3286387387557576,
           2.3119436688820523,
           0.3404407291462024,
           0.3614578330771377,
           0.32679448776412756,
           0.3332958299120267,
           0.3398837250346939,
           0.4352701027476384,
           0.326192466577515,
           0.3497979060492168,
           2.330913918733597,
           2.3193782132466634,
           0.341435780706505,
           2.3175337621370953,
           0.3566245049337546,
           1.9715071577827137,
           2.3287111370166143,
           0.3404167211114739,
           0.3240084103991588,
           2.3122478129466373,
           2.3133362692197164,
           0.34641111686453224,
           0.3801847609275331,
           0.35080854525479177,
           0.3429628966435169,
           0.3413015340430041,
           2.309092919309934,
           0.46791810245168747,
           0.3765097367397199,
           0.4007605499755591,
           0.3255965523078727,
           0.3631789903982232,
           0.4017640524182337,
           0.32445312035518387,
           0.3450541783591422,
           0.42355148064064757,
           0.33172818956462047,
           0.3302030007125189,
           0.3359976706410137,
           0.3200008515960847,
           0.3138867894515085,
           0.33155021716794,
           0.3419755874758897,
           0.32685406697712216,
           0.34901511614063446,
           0.43352567622332694,
           2.315009616692861,
           1.5052500132719675,
           2.3217372725009917,
           0.3278689228463918,
           2.3114212586085,
           0.44965731067333037,
           0.36631993464628854,
           0.3392787606876033,
           0.31296861279429866,
           0.33588693430682176,
           0.3452864433695407,
           0.3413935966663994,
           0.33247187366057185,
           0.32410630107546845,
           2.3112219488620758,
           0.32629870082624257,
           0.3549852753352995
          ],
          "colorscale": [
           [
            0,
            "rgb(0,0,131)"
           ],
           [
            0.2,
            "rgb(0,60,170)"
           ],
           [
            0.4,
            "rgb(5,255,255)"
           ],
           [
            0.6,
            "rgb(255,255,0)"
           ],
           [
            0.8,
            "rgb(250,0,0)"
           ],
           [
            1,
            "rgb(128,0,0)"
           ]
          ],
          "showscale": true
         },
         "type": "parcoords"
        }
       ],
       "layout": {
        "template": {
         "data": {
          "bar": [
           {
            "error_x": {
             "color": "#2a3f5f"
            },
            "error_y": {
             "color": "#2a3f5f"
            },
            "marker": {
             "line": {
              "color": "#E5ECF6",
              "width": 0.5
             },
             "pattern": {
              "fillmode": "overlay",
              "size": 10,
              "solidity": 0.2
             }
            },
            "type": "bar"
           }
          ],
          "barpolar": [
           {
            "marker": {
             "line": {
              "color": "#E5ECF6",
              "width": 0.5
             },
             "pattern": {
              "fillmode": "overlay",
              "size": 10,
              "solidity": 0.2
             }
            },
            "type": "barpolar"
           }
          ],
          "carpet": [
           {
            "aaxis": {
             "endlinecolor": "#2a3f5f",
             "gridcolor": "white",
             "linecolor": "white",
             "minorgridcolor": "white",
             "startlinecolor": "#2a3f5f"
            },
            "baxis": {
             "endlinecolor": "#2a3f5f",
             "gridcolor": "white",
             "linecolor": "white",
             "minorgridcolor": "white",
             "startlinecolor": "#2a3f5f"
            },
            "type": "carpet"
           }
          ],
          "choropleth": [
           {
            "colorbar": {
             "outlinewidth": 0,
             "ticks": ""
            },
            "type": "choropleth"
           }
          ],
          "contour": [
           {
            "colorbar": {
             "outlinewidth": 0,
             "ticks": ""
            },
            "colorscale": [
             [
              0,
              "#0d0887"
             ],
             [
              0.1111111111111111,
              "#46039f"
             ],
             [
              0.2222222222222222,
              "#7201a8"
             ],
             [
              0.3333333333333333,
              "#9c179e"
             ],
             [
              0.4444444444444444,
              "#bd3786"
             ],
             [
              0.5555555555555556,
              "#d8576b"
             ],
             [
              0.6666666666666666,
              "#ed7953"
             ],
             [
              0.7777777777777778,
              "#fb9f3a"
             ],
             [
              0.8888888888888888,
              "#fdca26"
             ],
             [
              1,
              "#f0f921"
             ]
            ],
            "type": "contour"
           }
          ],
          "contourcarpet": [
           {
            "colorbar": {
             "outlinewidth": 0,
             "ticks": ""
            },
            "type": "contourcarpet"
           }
          ],
          "heatmap": [
           {
            "colorbar": {
             "outlinewidth": 0,
             "ticks": ""
            },
            "colorscale": [
             [
              0,
              "#0d0887"
             ],
             [
              0.1111111111111111,
              "#46039f"
             ],
             [
              0.2222222222222222,
              "#7201a8"
             ],
             [
              0.3333333333333333,
              "#9c179e"
             ],
             [
              0.4444444444444444,
              "#bd3786"
             ],
             [
              0.5555555555555556,
              "#d8576b"
             ],
             [
              0.6666666666666666,
              "#ed7953"
             ],
             [
              0.7777777777777778,
              "#fb9f3a"
             ],
             [
              0.8888888888888888,
              "#fdca26"
             ],
             [
              1,
              "#f0f921"
             ]
            ],
            "type": "heatmap"
           }
          ],
          "heatmapgl": [
           {
            "colorbar": {
             "outlinewidth": 0,
             "ticks": ""
            },
            "colorscale": [
             [
              0,
              "#0d0887"
             ],
             [
              0.1111111111111111,
              "#46039f"
             ],
             [
              0.2222222222222222,
              "#7201a8"
             ],
             [
              0.3333333333333333,
              "#9c179e"
             ],
             [
              0.4444444444444444,
              "#bd3786"
             ],
             [
              0.5555555555555556,
              "#d8576b"
             ],
             [
              0.6666666666666666,
              "#ed7953"
             ],
             [
              0.7777777777777778,
              "#fb9f3a"
             ],
             [
              0.8888888888888888,
              "#fdca26"
             ],
             [
              1,
              "#f0f921"
             ]
            ],
            "type": "heatmapgl"
           }
          ],
          "histogram": [
           {
            "marker": {
             "pattern": {
              "fillmode": "overlay",
              "size": 10,
              "solidity": 0.2
             }
            },
            "type": "histogram"
           }
          ],
          "histogram2d": [
           {
            "colorbar": {
             "outlinewidth": 0,
             "ticks": ""
            },
            "colorscale": [
             [
              0,
              "#0d0887"
             ],
             [
              0.1111111111111111,
              "#46039f"
             ],
             [
              0.2222222222222222,
              "#7201a8"
             ],
             [
              0.3333333333333333,
              "#9c179e"
             ],
             [
              0.4444444444444444,
              "#bd3786"
             ],
             [
              0.5555555555555556,
              "#d8576b"
             ],
             [
              0.6666666666666666,
              "#ed7953"
             ],
             [
              0.7777777777777778,
              "#fb9f3a"
             ],
             [
              0.8888888888888888,
              "#fdca26"
             ],
             [
              1,
              "#f0f921"
             ]
            ],
            "type": "histogram2d"
           }
          ],
          "histogram2dcontour": [
           {
            "colorbar": {
             "outlinewidth": 0,
             "ticks": ""
            },
            "colorscale": [
             [
              0,
              "#0d0887"
             ],
             [
              0.1111111111111111,
              "#46039f"
             ],
             [
              0.2222222222222222,
              "#7201a8"
             ],
             [
              0.3333333333333333,
              "#9c179e"
             ],
             [
              0.4444444444444444,
              "#bd3786"
             ],
             [
              0.5555555555555556,
              "#d8576b"
             ],
             [
              0.6666666666666666,
              "#ed7953"
             ],
             [
              0.7777777777777778,
              "#fb9f3a"
             ],
             [
              0.8888888888888888,
              "#fdca26"
             ],
             [
              1,
              "#f0f921"
             ]
            ],
            "type": "histogram2dcontour"
           }
          ],
          "mesh3d": [
           {
            "colorbar": {
             "outlinewidth": 0,
             "ticks": ""
            },
            "type": "mesh3d"
           }
          ],
          "parcoords": [
           {
            "line": {
             "colorbar": {
              "outlinewidth": 0,
              "ticks": ""
             }
            },
            "type": "parcoords"
           }
          ],
          "pie": [
           {
            "automargin": true,
            "type": "pie"
           }
          ],
          "scatter": [
           {
            "fillpattern": {
             "fillmode": "overlay",
             "size": 10,
             "solidity": 0.2
            },
            "type": "scatter"
           }
          ],
          "scatter3d": [
           {
            "line": {
             "colorbar": {
              "outlinewidth": 0,
              "ticks": ""
             }
            },
            "marker": {
             "colorbar": {
              "outlinewidth": 0,
              "ticks": ""
             }
            },
            "type": "scatter3d"
           }
          ],
          "scattercarpet": [
           {
            "marker": {
             "colorbar": {
              "outlinewidth": 0,
              "ticks": ""
             }
            },
            "type": "scattercarpet"
           }
          ],
          "scattergeo": [
           {
            "marker": {
             "colorbar": {
              "outlinewidth": 0,
              "ticks": ""
             }
            },
            "type": "scattergeo"
           }
          ],
          "scattergl": [
           {
            "marker": {
             "colorbar": {
              "outlinewidth": 0,
              "ticks": ""
             }
            },
            "type": "scattergl"
           }
          ],
          "scattermapbox": [
           {
            "marker": {
             "colorbar": {
              "outlinewidth": 0,
              "ticks": ""
             }
            },
            "type": "scattermapbox"
           }
          ],
          "scatterpolar": [
           {
            "marker": {
             "colorbar": {
              "outlinewidth": 0,
              "ticks": ""
             }
            },
            "type": "scatterpolar"
           }
          ],
          "scatterpolargl": [
           {
            "marker": {
             "colorbar": {
              "outlinewidth": 0,
              "ticks": ""
             }
            },
            "type": "scatterpolargl"
           }
          ],
          "scatterternary": [
           {
            "marker": {
             "colorbar": {
              "outlinewidth": 0,
              "ticks": ""
             }
            },
            "type": "scatterternary"
           }
          ],
          "surface": [
           {
            "colorbar": {
             "outlinewidth": 0,
             "ticks": ""
            },
            "colorscale": [
             [
              0,
              "#0d0887"
             ],
             [
              0.1111111111111111,
              "#46039f"
             ],
             [
              0.2222222222222222,
              "#7201a8"
             ],
             [
              0.3333333333333333,
              "#9c179e"
             ],
             [
              0.4444444444444444,
              "#bd3786"
             ],
             [
              0.5555555555555556,
              "#d8576b"
             ],
             [
              0.6666666666666666,
              "#ed7953"
             ],
             [
              0.7777777777777778,
              "#fb9f3a"
             ],
             [
              0.8888888888888888,
              "#fdca26"
             ],
             [
              1,
              "#f0f921"
             ]
            ],
            "type": "surface"
           }
          ],
          "table": [
           {
            "cells": {
             "fill": {
              "color": "#EBF0F8"
             },
             "line": {
              "color": "white"
             }
            },
            "header": {
             "fill": {
              "color": "#C8D4E3"
             },
             "line": {
              "color": "white"
             }
            },
            "type": "table"
           }
          ]
         },
         "layout": {
          "annotationdefaults": {
           "arrowcolor": "#2a3f5f",
           "arrowhead": 0,
           "arrowwidth": 1
          },
          "autotypenumbers": "strict",
          "coloraxis": {
           "colorbar": {
            "outlinewidth": 0,
            "ticks": ""
           }
          },
          "colorscale": {
           "diverging": [
            [
             0,
             "#8e0152"
            ],
            [
             0.1,
             "#c51b7d"
            ],
            [
             0.2,
             "#de77ae"
            ],
            [
             0.3,
             "#f1b6da"
            ],
            [
             0.4,
             "#fde0ef"
            ],
            [
             0.5,
             "#f7f7f7"
            ],
            [
             0.6,
             "#e6f5d0"
            ],
            [
             0.7,
             "#b8e186"
            ],
            [
             0.8,
             "#7fbc41"
            ],
            [
             0.9,
             "#4d9221"
            ],
            [
             1,
             "#276419"
            ]
           ],
           "sequential": [
            [
             0,
             "#0d0887"
            ],
            [
             0.1111111111111111,
             "#46039f"
            ],
            [
             0.2222222222222222,
             "#7201a8"
            ],
            [
             0.3333333333333333,
             "#9c179e"
            ],
            [
             0.4444444444444444,
             "#bd3786"
            ],
            [
             0.5555555555555556,
             "#d8576b"
            ],
            [
             0.6666666666666666,
             "#ed7953"
            ],
            [
             0.7777777777777778,
             "#fb9f3a"
            ],
            [
             0.8888888888888888,
             "#fdca26"
            ],
            [
             1,
             "#f0f921"
            ]
           ],
           "sequentialminus": [
            [
             0,
             "#0d0887"
            ],
            [
             0.1111111111111111,
             "#46039f"
            ],
            [
             0.2222222222222222,
             "#7201a8"
            ],
            [
             0.3333333333333333,
             "#9c179e"
            ],
            [
             0.4444444444444444,
             "#bd3786"
            ],
            [
             0.5555555555555556,
             "#d8576b"
            ],
            [
             0.6666666666666666,
             "#ed7953"
            ],
            [
             0.7777777777777778,
             "#fb9f3a"
            ],
            [
             0.8888888888888888,
             "#fdca26"
            ],
            [
             1,
             "#f0f921"
            ]
           ]
          },
          "colorway": [
           "#636efa",
           "#EF553B",
           "#00cc96",
           "#ab63fa",
           "#FFA15A",
           "#19d3f3",
           "#FF6692",
           "#B6E880",
           "#FF97FF",
           "#FECB52"
          ],
          "font": {
           "color": "#2a3f5f"
          },
          "geo": {
           "bgcolor": "white",
           "lakecolor": "white",
           "landcolor": "#E5ECF6",
           "showlakes": true,
           "showland": true,
           "subunitcolor": "white"
          },
          "hoverlabel": {
           "align": "left"
          },
          "hovermode": "closest",
          "mapbox": {
           "style": "light"
          },
          "paper_bgcolor": "white",
          "plot_bgcolor": "#E5ECF6",
          "polar": {
           "angularaxis": {
            "gridcolor": "white",
            "linecolor": "white",
            "ticks": ""
           },
           "bgcolor": "#E5ECF6",
           "radialaxis": {
            "gridcolor": "white",
            "linecolor": "white",
            "ticks": ""
           }
          },
          "scene": {
           "xaxis": {
            "backgroundcolor": "#E5ECF6",
            "gridcolor": "white",
            "gridwidth": 2,
            "linecolor": "white",
            "showbackground": true,
            "ticks": "",
            "zerolinecolor": "white"
           },
           "yaxis": {
            "backgroundcolor": "#E5ECF6",
            "gridcolor": "white",
            "gridwidth": 2,
            "linecolor": "white",
            "showbackground": true,
            "ticks": "",
            "zerolinecolor": "white"
           },
           "zaxis": {
            "backgroundcolor": "#E5ECF6",
            "gridcolor": "white",
            "gridwidth": 2,
            "linecolor": "white",
            "showbackground": true,
            "ticks": "",
            "zerolinecolor": "white"
           }
          },
          "shapedefaults": {
           "line": {
            "color": "#2a3f5f"
           }
          },
          "ternary": {
           "aaxis": {
            "gridcolor": "white",
            "linecolor": "white",
            "ticks": ""
           },
           "baxis": {
            "gridcolor": "white",
            "linecolor": "white",
            "ticks": ""
           },
           "bgcolor": "#E5ECF6",
           "caxis": {
            "gridcolor": "white",
            "linecolor": "white",
            "ticks": ""
           }
          },
          "title": {
           "x": 0.05
          },
          "xaxis": {
           "automargin": true,
           "gridcolor": "white",
           "linecolor": "white",
           "ticks": "",
           "title": {
            "standoff": 15
           },
           "zerolinecolor": "white",
           "zerolinewidth": 2
          },
          "yaxis": {
           "automargin": true,
           "gridcolor": "white",
           "linecolor": "white",
           "ticks": "",
           "title": {
            "standoff": 15
           },
           "zerolinecolor": "white",
           "zerolinewidth": 2
          }
         }
        }
       }
      }
     },
     "metadata": {},
     "output_type": "display_data"
    }
   ],
   "source": [
    "spot_torch.parallel_plot()"
   ]
  },
  {
   "attachments": {},
   "cell_type": "markdown",
   "metadata": {},
   "source": [
    "## Plot all Combinations of Hyperparameters\n",
    "\n",
    "* Warning: this may take a while."
   ]
  },
  {
   "cell_type": "code",
   "execution_count": 39,
   "metadata": {},
   "outputs": [],
   "source": [
    "PLOT_ALL = False\n",
    "if PLOT_ALL:\n",
    "    n = spot_torch.k\n",
    "    for i in range(n-1):\n",
    "        for j in range(i+1, n):\n",
    "            spot_torch.plot_contour(i=i, j=j, min_z=min_z, max_z = max_z)"
   ]
  }
 ],
 "metadata": {
  "kernelspec": {
   "display_name": "spotCondaEnv",
   "language": "python",
   "name": "python3"
  },
  "language_info": {
   "codemirror_mode": {
    "name": "ipython",
    "version": 3
   },
   "file_extension": ".py",
   "mimetype": "text/x-python",
   "name": "python",
   "nbconvert_exporter": "python",
   "pygments_lexer": "ipython3",
   "version": "3.10.6"
  },
  "vscode": {
   "interpreter": {
    "hash": "81c77de872def749acd68d9955e19f0df6803301f4c1f66c3444af66334112ae"
   }
  }
 },
 "nbformat": 4,
 "nbformat_minor": 4
}
