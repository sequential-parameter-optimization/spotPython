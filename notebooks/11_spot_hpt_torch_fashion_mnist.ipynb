{
 "cells": [
  {
   "cell_type": "raw",
   "metadata": {},
   "source": [
    "---\n",
    "title: \"pytorch Hyperparameter Tuning with SPOT: fashionMNIST with Hold Out Data\"\n",
    "format: html\n",
    "---"
   ]
  },
  {
   "cell_type": "code",
   "execution_count": 1,
   "metadata": {},
   "outputs": [],
   "source": [
    "MAX_TIME = 1\n",
    "INIT_SIZE = 5\n",
    "DEVICE = \"cpu\" # \"cuda:0\""
   ]
  },
  {
   "cell_type": "code",
   "execution_count": 2,
   "metadata": {},
   "outputs": [
    {
     "data": {
      "text/plain": [
       "'11-torch_bartz09_1min_5init_2023-05-12_19-23-58'"
      ]
     },
     "execution_count": 2,
     "metadata": {},
     "output_type": "execute_result"
    }
   ],
   "source": [
    "import pickle\n",
    "import socket\n",
    "from datetime import datetime\n",
    "from dateutil.tz import tzlocal\n",
    "start_time = datetime.now(tzlocal())\n",
    "HOSTNAME = socket.gethostname().split(\".\")[0]\n",
    "experiment_name = '11-torch' + \"_\" + HOSTNAME + \"_\" + str(MAX_TIME) + \"min_\" + str(INIT_SIZE) + \"init_\" + str(start_time).split(\".\", 1)[0].replace(' ', '_')\n",
    "experiment_name = experiment_name.replace(':', '-')\n",
    "experiment_name"
   ]
  },
  {
   "attachments": {},
   "cell_type": "markdown",
   "metadata": {},
   "source": [
    "# Chapter 11: Sequential Parameter Optimization\n",
    "## Hyperparameter Tuning: pytorch with fashionMNIST Data Using Hold-out Data Sets"
   ]
  },
  {
   "attachments": {},
   "cell_type": "markdown",
   "metadata": {},
   "source": [
    "* This notebook exemplifies hyperparameter tuning with SPOT (spotPython).\n",
    "* The hyperparameter software SPOT was developed in R (statistical programming language), see Open Access book \"Hyperparameter Tuning for Machine and Deep Learning with R - A Practical Guide\", available here: [https://link.springer.com/book/10.1007/978-981-19-5170-1](https://link.springer.com/book/10.1007/978-981-19-5170-1).\n"
   ]
  },
  {
   "cell_type": "code",
   "execution_count": 3,
   "metadata": {},
   "outputs": [
    {
     "name": "stdout",
     "output_type": "stream",
     "text": [
      "spotPython               0.0.69\n",
      "Note: you may need to restart the kernel to use updated packages.\n"
     ]
    }
   ],
   "source": [
    "pip list | grep  \"spot[RiverPython]\""
   ]
  },
  {
   "cell_type": "code",
   "execution_count": 4,
   "metadata": {},
   "outputs": [],
   "source": [
    "# import sys\n",
    "# !{sys.executable} -m pip install --upgrade build\n",
    "# !{sys.executable} -m pip install --upgrade --force-reinstall spotPython\n"
   ]
  },
  {
   "cell_type": "code",
   "execution_count": 5,
   "metadata": {},
   "outputs": [],
   "source": [
    "from tabulate import tabulate\n",
    "import copy\n",
    "import warnings\n",
    "import numbers\n",
    "import json\n",
    "import calendar\n",
    "import math\n",
    "import datetime as dt\n",
    "import numpy as np\n",
    "from math import inf\n",
    "import pandas as pd\n",
    "\n",
    "from scipy.optimize import differential_evolution\n",
    "\n",
    "import matplotlib.pyplot as plt\n",
    "\n",
    "import torch\n",
    "from torch import nn\n",
    "from torch.utils.data import DataLoader\n",
    "from torchvision import datasets\n",
    "from torchvision.transforms import ToTensor\n",
    "from functools import partial\n",
    "import torch.nn.functional as F\n",
    "import torch.optim as optim\n",
    "from torch.utils.data import random_split\n",
    "import torchvision\n",
    "import torchvision.transforms as transforms\n",
    "\n",
    "from spotPython.spot import spot\n",
    "from spotPython.hyperparameters.values import (\n",
    "    add_core_model_to_fun_control,\n",
    "    assign_values,\n",
    "    convert_keys,\n",
    "    get_bound_values,\n",
    "    get_default_hyperparameters_for_core_model,\n",
    "    get_default_values,\n",
    "    get_dict_with_levels_and_types,\n",
    "    get_values_from_dict,\n",
    "    get_var_name,\n",
    "    get_var_type,\n",
    "    iterate_dict_values,\n",
    "    modify_hyper_parameter_levels,\n",
    "    modify_hyper_parameter_bounds,\n",
    "    replace_levels_with_positions,\n",
    "    return_conf_list_from_var_dict,\n",
    "    get_one_core_model_from_X,\n",
    "    transform_hyper_parameter_values,\n",
    "    get_dict_with_levels_and_types,\n",
    "    convert_keys,\n",
    "    iterate_dict_values,\n",
    ")\n",
    "\n",
    "from spotPython.torch.traintest import evaluate_cv, evaluate_hold_out\n",
    "from spotPython.utils.convert import class_for_name\n",
    "from spotPython.utils.eda import (\n",
    "    get_stars,\n",
    "    gen_design_table)\n",
    "from spotPython.utils.transform import transform_hyper_parameter_values\n",
    "\n",
    "from spotPython.utils.convert import get_Xy_from_df\n",
    "from spotPython.utils.init import fun_control_init\n",
    "from spotPython.plot.validation import plot_cv_predictions, plot_roc, plot_confusion_matrix\n",
    "\n",
    "from spotPython.data.torch_hyper_dict import TorchHyperDict\n",
    "from spotPython.fun.hypertorch import HyperTorch\n",
    "\n",
    "warnings.filterwarnings(\"ignore\")\n",
    "\n",
    "# Neural Net specific imports:\n",
    "from spotPython.torch.netfashionMNIST import Net_fashionMNIST"
   ]
  },
  {
   "cell_type": "code",
   "execution_count": 6,
   "metadata": {},
   "outputs": [
    {
     "name": "stdout",
     "output_type": "stream",
     "text": [
      "2.0.1\n",
      "MPS device:  mps\n"
     ]
    }
   ],
   "source": [
    "print(torch.__version__)\n",
    "# Check that MPS is available\n",
    "if not torch.backends.mps.is_available():\n",
    "    if not torch.backends.mps.is_built():\n",
    "        print(\"MPS not available because the current PyTorch install was not \"\n",
    "              \"built with MPS enabled.\")\n",
    "    else:\n",
    "        print(\"MPS not available because the current MacOS version is not 12.3+ \"\n",
    "              \"and/or you do not have an MPS-enabled device on this machine.\")\n",
    "\n",
    "else:\n",
    "    mps_device = torch.device(\"mps\")\n",
    "    print(\"MPS device: \", mps_device)"
   ]
  },
  {
   "attachments": {},
   "cell_type": "markdown",
   "metadata": {},
   "source": [
    "## 0. Initialization of the Empty `fun_control` Dictionary"
   ]
  },
  {
   "cell_type": "code",
   "execution_count": 7,
   "metadata": {},
   "outputs": [],
   "source": [
    "fun_control = fun_control_init()"
   ]
  },
  {
   "attachments": {},
   "cell_type": "markdown",
   "metadata": {},
   "source": [
    "## 1. Load fashionMNIST Data"
   ]
  },
  {
   "cell_type": "code",
   "execution_count": 8,
   "metadata": {},
   "outputs": [],
   "source": [
    "def load_data(data_dir=\"./data\"):\n",
    "    # Download training data from open datasets.\n",
    "    training_data = datasets.FashionMNIST(\n",
    "        root=data_dir,\n",
    "        train=True,\n",
    "        download=True,\n",
    "        transform=ToTensor(),\n",
    "    )\n",
    "    # Download test data from open datasets.\n",
    "    test_data = datasets.FashionMNIST(\n",
    "        root=data_dir,\n",
    "        train=False,\n",
    "        download=True,\n",
    "        transform=ToTensor(),\n",
    "    )\n",
    "    return training_data, test_data"
   ]
  },
  {
   "cell_type": "code",
   "execution_count": 9,
   "metadata": {},
   "outputs": [
    {
     "data": {
      "text/plain": [
       "(torch.Size([60000, 28, 28]), torch.Size([10000, 28, 28]))"
      ]
     },
     "execution_count": 9,
     "metadata": {},
     "output_type": "execute_result"
    }
   ],
   "source": [
    "train, test = load_data()\n",
    "train.data.shape, test.data.shape"
   ]
  },
  {
   "cell_type": "code",
   "execution_count": 10,
   "metadata": {},
   "outputs": [],
   "source": [
    "n_samples = len(train)\n",
    "# add the dataset to the fun_control\n",
    "fun_control.update({\"data\": None,\n",
    "               \"train\": train,\n",
    "               \"test\": test,\n",
    "               \"n_samples\": n_samples,\n",
    "               \"target_column\": None})"
   ]
  },
  {
   "attachments": {},
   "cell_type": "markdown",
   "metadata": {},
   "source": [
    "## 2. Specification of the Preprocessing Model"
   ]
  },
  {
   "cell_type": "code",
   "execution_count": 11,
   "metadata": {},
   "outputs": [],
   "source": [
    "# categorical_columns = []\n",
    "# one_hot_encoder = OneHotEncoder(handle_unknown=\"ignore\", sparse_output=False)\n",
    "# prep_model = ColumnTransformer(\n",
    "#         transformers=[\n",
    "#             (\"categorical\", one_hot_encoder, categorical_columns),\n",
    "#         ],\n",
    "#         remainder=StandardScaler(),\n",
    "#     )\n",
    "prep_model = None\n",
    "fun_control.update({\"prep_model\": prep_model})"
   ]
  },
  {
   "attachments": {},
   "cell_type": "markdown",
   "metadata": {},
   "source": [
    "## 3. Select `algorithm` and `core_model_hyper_dict`"
   ]
  },
  {
   "attachments": {},
   "cell_type": "markdown",
   "metadata": {},
   "source": [
    "`spotPython` implements a class which is similar to the class described in the PyTorch tutorial. The class is called `Net_fashionMNIST`  and is implemented in the file `netcifar10.py`. The class is imported here.\n",
    "\n",
    "Note: In addition to the class Net from the PyTorch tutorial, the class Net_CIFAR10 has additional attributes, namely:\n",
    "\n",
    "* learning rate (`lr`),\n",
    "* batchsize (`batch_size`),\n",
    "* epochs (`epochs`), and\n",
    "* k_folds (`k_folds`).\n",
    "\n",
    "Further attributes can be easily added to the class, e.g., `optimizer` or `loss_function`."
   ]
  },
  {
   "cell_type": "code",
   "execution_count": 12,
   "metadata": {},
   "outputs": [],
   "source": [
    "core_model = Net_fashionMNIST\n",
    "fun_control = add_core_model_to_fun_control(core_model=core_model,\n",
    "                              fun_control=fun_control,\n",
    "                              hyper_dict=TorchHyperDict,\n",
    "                              filename=None)"
   ]
  },
  {
   "attachments": {},
   "cell_type": "markdown",
   "metadata": {},
   "source": [
    "## 4. Modify `hyper_dict` Hyperparameters for the Selected Algorithm aka `core_model`"
   ]
  },
  {
   "cell_type": "markdown",
   "metadata": {},
   "source": [
    "### Modify hyperparameter of type factor"
   ]
  },
  {
   "cell_type": "code",
   "execution_count": 13,
   "metadata": {},
   "outputs": [],
   "source": [
    "# fun_control = modify_hyper_parameter_levels(fun_control, \"leaf_model\", [\"LinearRegression\"])\n",
    "# fun_control[\"core_model_hyper_dict\"]"
   ]
  },
  {
   "attachments": {},
   "cell_type": "markdown",
   "metadata": {},
   "source": [
    "### Modify hyperparameter of type numeric and integer (boolean)"
   ]
  },
  {
   "cell_type": "code",
   "execution_count": 14,
   "metadata": {},
   "outputs": [],
   "source": [
    "# fun_control = modify_hyper_parameter_bounds(fun_control, \"delta\", bounds=[1e-10, 1e-6])\n",
    "# fun_control = modify_hyper_parameter_bounds(fun_control, \"min_samples_split\", bounds=[3, 20])\n",
    "#fun_control = modify_hyper_parameter_bounds(fun_control, \"merit_preprune\", bounds=[0, 0])\n",
    "# fun_control[\"core_model_hyper_dict\"]\n",
    "fun_control = modify_hyper_parameter_bounds(fun_control, \"k_folds\", bounds=[0, 0])\n",
    "fun_control = modify_hyper_parameter_bounds(fun_control, \"patience\", bounds=[2, 2])"
   ]
  },
  {
   "attachments": {},
   "cell_type": "markdown",
   "metadata": {},
   "source": [
    "## 5. Selection of the Objective (Loss) Function"
   ]
  },
  {
   "attachments": {},
   "cell_type": "markdown",
   "metadata": {},
   "source": [
    "There are two metrics:\n",
    "\n",
    "    1. `metric` is used for the river based evaluation via `eval_oml_iter_progressive`.\n",
    "    2. `metric_sklearn` is used for the sklearn based evaluation."
   ]
  },
  {
   "attachments": {},
   "cell_type": "markdown",
   "metadata": {},
   "source": [
    "**Important**:\n",
    "\n",
    "* `spotPython` performs minimization by default.\n",
    "* If accuracy should be maximized, then the objective function has to be multiplied by -1. Therefore, `weights` is set to -1 in this case."
   ]
  },
  {
   "cell_type": "code",
   "execution_count": 15,
   "metadata": {},
   "outputs": [],
   "source": [
    "fun = HyperTorch(seed=123, log_level=50).fun_torch\n",
    "weights = 1.0\n",
    "shuffle = True\n",
    "eval = \"train_hold_out\"\n",
    "device = DEVICE\n",
    "show_batch_interval = 100_000\n",
    "\n",
    "fun_control.update({\n",
    "                \"data_dir\": None,\n",
    "                \"checkpoint_dir\": None,\n",
    "                \"horizon\": None,\n",
    "                \"oml_grace_period\": None,\n",
    "                \"weights\": weights,\n",
    "                \"step\": None,\n",
    "                \"log_level\": 50,\n",
    "                \"weight_coeff\": None,\n",
    "                \"metric\": None,\n",
    "                \"metric_sklearn\": None,\n",
    "                \"shuffle\": shuffle,\n",
    "                \"eval\": eval,\n",
    "                \"device\": device,\n",
    "                \"show_batch_interval\": show_batch_interval,\n",
    "               })"
   ]
  },
  {
   "cell_type": "code",
   "execution_count": 16,
   "metadata": {},
   "outputs": [
    {
     "data": {
      "text/plain": [
       "{'data': None,\n",
       " 'train': Dataset FashionMNIST\n",
       "     Number of datapoints: 60000\n",
       "     Root location: ./data\n",
       "     Split: Train\n",
       "     StandardTransform\n",
       " Transform: ToTensor(),\n",
       " 'test': Dataset FashionMNIST\n",
       "     Number of datapoints: 10000\n",
       "     Root location: ./data\n",
       "     Split: Test\n",
       "     StandardTransform\n",
       " Transform: ToTensor(),\n",
       " 'n_samples': 60000,\n",
       " 'target_column': None,\n",
       " 'shuffle': True,\n",
       " 'eval': 'train_hold_out',\n",
       " 'k_folds': None,\n",
       " 'device': 'cpu',\n",
       " 'metric_params': {},\n",
       " 'prep_model': None,\n",
       " 'core_model': spotPython.torch.netfashionMNIST.Net_fashionMNIST,\n",
       " 'core_model_hyper_dict': {'l1': {'type': 'int',\n",
       "   'default': 5,\n",
       "   'transform': 'transform_power_2_int',\n",
       "   'lower': 2,\n",
       "   'upper': 9},\n",
       "  'l2': {'type': 'int',\n",
       "   'default': 5,\n",
       "   'transform': 'transform_power_2_int',\n",
       "   'lower': 2,\n",
       "   'upper': 9},\n",
       "  'lr': {'type': 'float',\n",
       "   'default': 0.001,\n",
       "   'transform': 'None',\n",
       "   'lower': 1e-05,\n",
       "   'upper': 0.01},\n",
       "  'batch_size': {'type': 'int',\n",
       "   'default': 4,\n",
       "   'transform': 'transform_power_2_int',\n",
       "   'lower': 1,\n",
       "   'upper': 4},\n",
       "  'epochs': {'type': 'int',\n",
       "   'default': 3,\n",
       "   'transform': 'transform_power_2_int',\n",
       "   'lower': 3,\n",
       "   'upper': 4},\n",
       "  'k_folds': {'type': 'int',\n",
       "   'default': 2,\n",
       "   'transform': 'None',\n",
       "   'lower': 0,\n",
       "   'upper': 0},\n",
       "  'patience': {'type': 'int',\n",
       "   'default': 5,\n",
       "   'transform': 'None',\n",
       "   'lower': 2,\n",
       "   'upper': 2}},\n",
       " 'data_dir': None,\n",
       " 'checkpoint_dir': None,\n",
       " 'horizon': None,\n",
       " 'oml_grace_period': None,\n",
       " 'weights': 1.0,\n",
       " 'step': None,\n",
       " 'log_level': 50,\n",
       " 'weight_coeff': None,\n",
       " 'metric': None,\n",
       " 'metric_sklearn': None,\n",
       " 'show_batch_interval': 100000}"
      ]
     },
     "execution_count": 16,
     "metadata": {},
     "output_type": "execute_result"
    }
   ],
   "source": [
    "fun_control"
   ]
  },
  {
   "attachments": {},
   "cell_type": "markdown",
   "metadata": {},
   "source": [
    "## 6. Calling the SPOT Function"
   ]
  },
  {
   "attachments": {},
   "cell_type": "markdown",
   "metadata": {},
   "source": [
    "### Prepare the SPOT Parameters"
   ]
  },
  {
   "attachments": {},
   "cell_type": "markdown",
   "metadata": {},
   "source": [
    "* Get types and variable names as well as lower and upper bounds for the hyperparameters."
   ]
  },
  {
   "cell_type": "code",
   "execution_count": 17,
   "metadata": {},
   "outputs": [],
   "source": [
    "var_type = get_var_type(fun_control)\n",
    "var_name = get_var_name(fun_control)\n",
    "fun_control.update({\"var_type\": var_type,\n",
    "                    \"var_name\": var_name})\n",
    "\n",
    "lower = get_bound_values(fun_control, \"lower\")\n",
    "upper = get_bound_values(fun_control, \"upper\")"
   ]
  },
  {
   "cell_type": "code",
   "execution_count": 18,
   "metadata": {},
   "outputs": [
    {
     "name": "stdout",
     "output_type": "stream",
     "text": [
      "| name       | type   |   default |   lower |   upper | transform             |\n",
      "|------------|--------|-----------|---------|---------|-----------------------|\n",
      "| l1         | int    |     5     |   2     |    9    | transform_power_2_int |\n",
      "| l2         | int    |     5     |   2     |    9    | transform_power_2_int |\n",
      "| lr         | float  |     0.001 |   1e-05 |    0.01 | None                  |\n",
      "| batch_size | int    |     4     |   1     |    4    | transform_power_2_int |\n",
      "| epochs     | int    |     3     |   3     |    4    | transform_power_2_int |\n",
      "| k_folds    | int    |     2     |   0     |    0    | None                  |\n",
      "| patience   | int    |     5     |   2     |    2    | None                  |\n"
     ]
    }
   ],
   "source": [
    "print(gen_design_table(fun_control))"
   ]
  },
  {
   "attachments": {},
   "cell_type": "markdown",
   "metadata": {},
   "source": [
    "### Run the `Spot` Optimizer\n",
    "\n",
    "* Run SPOT for approx. x mins (`max_time`).\n",
    "* Note: the run takes longer, because the evaluation time of initial design (here: `initi_size`, 20 points) is not considered."
   ]
  },
  {
   "cell_type": "code",
   "execution_count": 19,
   "metadata": {},
   "outputs": [
    {
     "data": {
      "text/plain": [
       "array([[5.e+00, 5.e+00, 1.e-03, 4.e+00, 3.e+00, 2.e+00, 5.e+00]])"
      ]
     },
     "execution_count": 19,
     "metadata": {},
     "output_type": "execute_result"
    }
   ],
   "source": [
    "from spotPython.hyperparameters.values import get_default_hyperparameters_as_array\n",
    "hyper_dict=TorchHyperDict().load()\n",
    "X_start = get_default_hyperparameters_as_array(fun_control, hyper_dict)\n",
    "X_start"
   ]
  },
  {
   "cell_type": "code",
   "execution_count": 20,
   "metadata": {},
   "outputs": [
    {
     "name": "stdout",
     "output_type": "stream",
     "text": [
      "Epoch: 1\n",
      "Loss on hold-out set: 0.5389746008454822\n",
      "Accuracy on hold-out set: 0.8054583333333334\n",
      "Epoch: 2\n",
      "Loss on hold-out set: 0.4371267797664429\n",
      "Accuracy on hold-out set: 0.8490416666666667\n",
      "Epoch: 3\n",
      "Loss on hold-out set: 0.4774947090567245\n",
      "Accuracy on hold-out set: 0.835125\n",
      "Epoch: 4\n",
      "Loss on hold-out set: 0.4884754823929591\n",
      "Accuracy on hold-out set: 0.8433333333333334\n",
      "Early stopping at epoch 3\n",
      "Returned to Spot: Validation loss: 0.4884754823929591\n",
      "----------------------------------------------\n",
      "Epoch: 1\n",
      "Loss on hold-out set: 0.6798561049282774\n",
      "Accuracy on hold-out set: 0.8269583333333334\n",
      "Epoch: 2\n",
      "Loss on hold-out set: 0.6115119234814416\n",
      "Accuracy on hold-out set: 0.83275\n",
      "Epoch: 3\n",
      "Loss on hold-out set: 0.5812838604033355\n",
      "Accuracy on hold-out set: 0.8265\n",
      "Epoch: 4\n",
      "Loss on hold-out set: 0.5480841256562925\n",
      "Accuracy on hold-out set: 0.8530833333333333\n",
      "Epoch: 5\n",
      "Loss on hold-out set: 0.5736717010172033\n",
      "Accuracy on hold-out set: 0.84975\n",
      "Epoch: 6\n",
      "Loss on hold-out set: 0.5420166823719886\n",
      "Accuracy on hold-out set: 0.8535833333333334\n",
      "Epoch: 7\n",
      "Loss on hold-out set: 0.5255786695930921\n",
      "Accuracy on hold-out set: 0.8572916666666667\n",
      "Epoch: 8\n",
      "Loss on hold-out set: 0.5476385013252997\n",
      "Accuracy on hold-out set: 0.8597916666666666\n",
      "Epoch: 9\n",
      "Loss on hold-out set: 0.6151022609605928\n",
      "Accuracy on hold-out set: 0.8522083333333333\n",
      "Early stopping at epoch 8\n",
      "Returned to Spot: Validation loss: 0.6151022609605928\n",
      "----------------------------------------------\n",
      "Epoch: 1\n",
      "Loss on hold-out set: 0.9182182119786739\n",
      "Accuracy on hold-out set: 0.6767916666666667\n",
      "Epoch: 2\n",
      "Loss on hold-out set: 0.7473852695648869\n",
      "Accuracy on hold-out set: 0.7271666666666666\n",
      "Epoch: 3\n",
      "Loss on hold-out set: 0.6759215561722716\n",
      "Accuracy on hold-out set: 0.76725\n",
      "Epoch: 4\n",
      "Loss on hold-out set: 0.6303672785684467\n",
      "Accuracy on hold-out set: 0.7822916666666667\n",
      "Epoch: 5\n",
      "Loss on hold-out set: 0.595643665585667\n",
      "Accuracy on hold-out set: 0.7907916666666667\n",
      "Epoch: 6\n",
      "Loss on hold-out set: 0.564020166271987\n",
      "Accuracy on hold-out set: 0.8065\n",
      "Epoch: 7\n",
      "Loss on hold-out set: 0.5498421901868036\n",
      "Accuracy on hold-out set: 0.8100833333333334\n",
      "Epoch: 8\n",
      "Loss on hold-out set: 0.5353727308083326\n",
      "Accuracy on hold-out set: 0.816375\n",
      "Epoch: 9\n",
      "Loss on hold-out set: 0.5415699492534622\n",
      "Accuracy on hold-out set: 0.8130833333333334\n",
      "Epoch: 10\n",
      "Loss on hold-out set: 0.5118999650971964\n",
      "Accuracy on hold-out set: 0.824\n",
      "Epoch: 11\n",
      "Loss on hold-out set: 0.5052533571653378\n",
      "Accuracy on hold-out set: 0.8263333333333334\n",
      "Epoch: 12\n",
      "Loss on hold-out set: 0.5018517648633569\n",
      "Accuracy on hold-out set: 0.82825\n",
      "Epoch: 13\n",
      "Loss on hold-out set: 0.495938787787687\n",
      "Accuracy on hold-out set: 0.8295\n",
      "Epoch: 14\n",
      "Loss on hold-out set: 0.4862094202426573\n",
      "Accuracy on hold-out set: 0.8312916666666667\n",
      "Epoch: 15\n",
      "Loss on hold-out set: 0.4773384490944445\n",
      "Accuracy on hold-out set: 0.8375833333333333\n",
      "Epoch: 16\n",
      "Loss on hold-out set: 0.47724512272980063\n",
      "Accuracy on hold-out set: 0.8376666666666667\n",
      "Returned to Spot: Validation loss: 0.47724512272980063\n",
      "----------------------------------------------\n",
      "Epoch: 1\n",
      "Loss on hold-out set: 0.6591462857747683\n",
      "Accuracy on hold-out set: 0.788\n",
      "Epoch: 2\n",
      "Loss on hold-out set: 0.5809884184195592\n",
      "Accuracy on hold-out set: 0.8234166666666667\n",
      "Epoch: 3\n",
      "Loss on hold-out set: 0.8390525759556646\n",
      "Accuracy on hold-out set: 0.775125\n",
      "Epoch: 4\n",
      "Loss on hold-out set: 0.6413050469826991\n",
      "Accuracy on hold-out set: 0.816\n",
      "Early stopping at epoch 3\n",
      "Returned to Spot: Validation loss: 0.6413050469826991\n",
      "----------------------------------------------\n",
      "Epoch: 1\n",
      "Loss on hold-out set: 0.5595405943940083\n",
      "Accuracy on hold-out set: 0.8042083333333333\n",
      "Epoch: 2\n",
      "Loss on hold-out set: 0.4271092703342438\n",
      "Accuracy on hold-out set: 0.8491666666666666\n",
      "Epoch: 3\n",
      "Loss on hold-out set: 0.4096014040472607\n",
      "Accuracy on hold-out set: 0.8525\n",
      "Epoch: 4\n",
      "Loss on hold-out set: 0.3882904768648247\n",
      "Accuracy on hold-out set: 0.8592916666666667\n",
      "Epoch: 5\n",
      "Loss on hold-out set: 0.37208436041449505\n",
      "Accuracy on hold-out set: 0.8688333333333333\n",
      "Epoch: 6\n",
      "Loss on hold-out set: 0.4294272622490923\n",
      "Accuracy on hold-out set: 0.8424166666666667\n",
      "Epoch: 7\n",
      "Loss on hold-out set: 0.4261551162774364\n",
      "Accuracy on hold-out set: 0.8523333333333334\n",
      "Early stopping at epoch 6\n",
      "Returned to Spot: Validation loss: 0.4261551162774364\n",
      "----------------------------------------------\n",
      "Epoch: 1\n",
      "Loss on hold-out set: 2.257342200756073\n",
      "Accuracy on hold-out set: 0.224875\n",
      "Epoch: 2\n",
      "Loss on hold-out set: 2.2207045623461403\n",
      "Accuracy on hold-out set: 0.3157083333333333\n",
      "Epoch: 3\n",
      "Loss on hold-out set: 2.1802982862790428\n",
      "Accuracy on hold-out set: 0.41558333333333336\n",
      "Epoch: 4\n",
      "Loss on hold-out set: 2.1356308484077453\n",
      "Accuracy on hold-out set: 0.49391666666666667\n",
      "Epoch: 5\n",
      "Loss on hold-out set: 2.086555330753326\n",
      "Accuracy on hold-out set: 0.5392916666666666\n",
      "Epoch: 6\n",
      "Loss on hold-out set: 2.0327015761534373\n",
      "Accuracy on hold-out set: 0.5648333333333333\n",
      "Epoch: 7\n",
      "Loss on hold-out set: 1.9754634061654408\n",
      "Accuracy on hold-out set: 0.582125\n",
      "Epoch: 8\n",
      "Loss on hold-out set: 1.9153931349118551\n",
      "Accuracy on hold-out set: 0.5941666666666666\n",
      "Epoch: 9\n",
      "Loss on hold-out set: 1.853845824877421\n",
      "Accuracy on hold-out set: 0.60375\n",
      "Epoch: 10\n",
      "Loss on hold-out set: 1.792050906896591\n",
      "Accuracy on hold-out set: 0.6117083333333333\n",
      "Epoch: 11\n",
      "Loss on hold-out set: 1.7321654767195385\n",
      "Accuracy on hold-out set: 0.6182916666666667\n",
      "Epoch: 12\n",
      "Loss on hold-out set: 1.6743245494365693\n",
      "Accuracy on hold-out set: 0.6270833333333333\n",
      "Epoch: 13\n",
      "Loss on hold-out set: 1.619522040049235\n",
      "Accuracy on hold-out set: 0.6320416666666666\n",
      "Epoch: 14\n",
      "Loss on hold-out set: 1.5680971457958222\n",
      "Accuracy on hold-out set: 0.6355416666666667\n",
      "Epoch: 15\n",
      "Loss on hold-out set: 1.5205527159372965\n",
      "Accuracy on hold-out set: 0.6378333333333334\n",
      "Epoch: 16\n",
      "Loss on hold-out set: 1.4766221304734548\n",
      "Accuracy on hold-out set: 0.6395416666666667\n",
      "Returned to Spot: Validation loss: 1.4766221304734548\n",
      "----------------------------------------------\n",
      "spotPython tuning: [##########] 100.00% Done...\n",
      "\r"
     ]
    },
    {
     "data": {
      "text/plain": [
       "<spotPython.spot.spot.Spot at 0x106bca860>"
      ]
     },
     "execution_count": 20,
     "metadata": {},
     "output_type": "execute_result"
    }
   ],
   "source": [
    "spot_tuner = spot.Spot(fun=fun,\n",
    "                   lower = lower,\n",
    "                   upper = upper,\n",
    "                   fun_evals = inf,\n",
    "                   fun_repeats = 1,\n",
    "                   max_time = MAX_TIME,\n",
    "                   noise = False,\n",
    "                   tolerance_x = np.sqrt(np.spacing(1)),\n",
    "                   var_type = var_type,\n",
    "                   var_name = var_name,\n",
    "                   infill_criterion = \"y\",\n",
    "                   n_points = 1,\n",
    "                   seed=123,\n",
    "                   log_level = 50,\n",
    "                   show_models= False,\n",
    "                   show_progress= True,\n",
    "                   fun_control = fun_control,\n",
    "                   design_control={\"init_size\": INIT_SIZE,\n",
    "                                   \"repeats\": 1},\n",
    "                   surrogate_control={\"noise\": True,\n",
    "                                      \"cod_type\": \"norm\",\n",
    "                                      \"min_theta\": -4,\n",
    "                                      \"max_theta\": 3,\n",
    "                                      \"n_theta\": len(var_name),\n",
    "                                      \"model_optimizer\": differential_evolution,\n",
    "                                      \"model_fun_evals\": 10_000,\n",
    "                                      \"log_level\": 50\n",
    "                                      })\n",
    "spot_tuner.run(X_start=X_start)"
   ]
  },
  {
   "attachments": {},
   "cell_type": "markdown",
   "metadata": {},
   "source": [
    "### 4 Results"
   ]
  },
  {
   "cell_type": "code",
   "execution_count": 21,
   "metadata": {},
   "outputs": [],
   "source": [
    "SAVE = False\n",
    "LOAD = False\n",
    "\n",
    "if SAVE:\n",
    "    result_file_name = \"res_\" + experiment_name + \".pkl\"\n",
    "    with open(result_file_name, 'wb') as f:\n",
    "        pickle.dump(spot_tuner, f)\n",
    "\n",
    "if LOAD:\n",
    "    result_file_name = \"res_ch10-friedman-hpt-0_maans03_60min_20init_1K_2023-04-14_10-11-19.pkl\"\n",
    "    with open(result_file_name, 'rb') as f:\n",
    "        spot_tuner =  pickle.load(f)"
   ]
  },
  {
   "attachments": {},
   "cell_type": "markdown",
   "metadata": {},
   "source": [
    "* Show the Progress of the hyperparameter tuning:"
   ]
  },
  {
   "cell_type": "code",
   "execution_count": 22,
   "metadata": {},
   "outputs": [
    {
     "data": {
      "text/plain": [
       "array([0.48847548, 0.61510226, 0.47724512, 0.64130505, 0.42615512,\n",
       "       1.47662213])"
      ]
     },
     "execution_count": 22,
     "metadata": {},
     "output_type": "execute_result"
    }
   ],
   "source": [
    "spot_tuner.y"
   ]
  },
  {
   "cell_type": "code",
   "execution_count": 23,
   "metadata": {},
   "outputs": [
    {
     "data": {
      "image/png": "[encoded data removed]",
      "text/plain": [
       "<Figure size 900x600 with 1 Axes>"
      ]
     },
     "metadata": {},
     "output_type": "display_data"
    }
   ],
   "source": [
    "spot_tuner.plot_progress(log_y=False, filename=\"../Figures.d/\" + experiment_name+\"_progress.pdf\")"
   ]
  },
  {
   "cell_type": "markdown",
   "metadata": {},
   "source": [
    "\n",
    "\n",
    "* Print the Results"
   ]
  },
  {
   "cell_type": "code",
   "execution_count": 24,
   "metadata": {},
   "outputs": [
    {
     "name": "stdout",
     "output_type": "stream",
     "text": [
      "| name       | type   |   default |   lower |   upper |                tuned | transform             |   importance | stars   |\n",
      "|------------|--------|-----------|---------|---------|----------------------|-----------------------|--------------|---------|\n",
      "| l1         | int    |       5.0 |     2.0 |     9.0 |                  6.0 | transform_power_2_int |         1.03 | *       |\n",
      "| l2         | int    |       5.0 |     2.0 |     9.0 |                  9.0 | transform_power_2_int |         0.00 |         |\n",
      "| lr         | float  |     0.001 |   1e-05 |    0.01 | 0.007007417640941408 | None                  |         0.00 |         |\n",
      "| batch_size | int    |       4.0 |     1.0 |     4.0 |                  4.0 | transform_power_2_int |       100.00 | ***     |\n",
      "| epochs     | int    |       3.0 |     3.0 |     4.0 |                  3.0 | transform_power_2_int |         0.00 |         |\n",
      "| k_folds    | int    |       2.0 |     0.0 |     0.0 |                  0.0 | None                  |         0.00 |         |\n",
      "| patience   | int    |       5.0 |     2.0 |     2.0 |                  2.0 | None                  |         0.00 |         |\n"
     ]
    }
   ],
   "source": [
    "print(gen_design_table(fun_control=fun_control, spot=spot_tuner))"
   ]
  },
  {
   "attachments": {},
   "cell_type": "markdown",
   "metadata": {},
   "source": [
    "## Show variable importance"
   ]
  },
  {
   "cell_type": "code",
   "execution_count": 25,
   "metadata": {},
   "outputs": [
    {
     "data": {
      "image/png": "[encoded data removed]",
      "text/plain": [
       "<Figure size 640x480 with 1 Axes>"
      ]
     },
     "metadata": {},
     "output_type": "display_data"
    }
   ],
   "source": [
    "spot_tuner.plot_importance(threshold=0.025, filename=\"../Figures.d/\" + experiment_name+\"_importance.pdf\")"
   ]
  },
  {
   "attachments": {},
   "cell_type": "markdown",
   "metadata": {},
   "source": [
    "## Get Default Hyperparameters"
   ]
  },
  {
   "cell_type": "code",
   "execution_count": 26,
   "metadata": {},
   "outputs": [
    {
     "data": {
      "text/plain": [
       "{'l1': 32,\n",
       " 'l2': 32,\n",
       " 'lr': 0.001,\n",
       " 'batch_size': 16,\n",
       " 'epochs': 8,\n",
       " 'k_folds': 2,\n",
       " 'patience': 5}"
      ]
     },
     "execution_count": 26,
     "metadata": {},
     "output_type": "execute_result"
    }
   ],
   "source": [
    "values_default = get_default_hyperparameters_for_core_model(fun_control=fun_control)\n",
    "values_default"
   ]
  },
  {
   "cell_type": "code",
   "execution_count": 27,
   "metadata": {},
   "outputs": [
    {
     "data": {
      "text/plain": [
       "Net_fashionMNIST(\n",
       "  (flatten): Flatten(start_dim=1, end_dim=-1)\n",
       "  (linear_relu_stack): Sequential(\n",
       "    (0): Linear(in_features=784, out_features=32, bias=True)\n",
       "    (1): ReLU()\n",
       "    (2): Linear(in_features=32, out_features=32, bias=True)\n",
       "    (3): ReLU()\n",
       "    (4): Linear(in_features=32, out_features=10, bias=True)\n",
       "  )\n",
       ")"
      ]
     },
     "execution_count": 27,
     "metadata": {},
     "output_type": "execute_result"
    }
   ],
   "source": [
    "model_default = fun_control[\"core_model\"](**values_default)\n",
    "model_default"
   ]
  },
  {
   "attachments": {},
   "cell_type": "markdown",
   "metadata": {},
   "source": [
    "## Get SPOT Results"
   ]
  },
  {
   "cell_type": "code",
   "execution_count": 28,
   "metadata": {},
   "outputs": [
    {
     "name": "stdout",
     "output_type": "stream",
     "text": [
      "[[6.00000000e+00 9.00000000e+00 7.00741764e-03 4.00000000e+00\n",
      "  3.00000000e+00 0.00000000e+00 2.00000000e+00]]\n"
     ]
    }
   ],
   "source": [
    "X = spot_tuner.to_all_dim(spot_tuner.min_X.reshape(1,-1))\n",
    "print(X)"
   ]
  },
  {
   "cell_type": "code",
   "execution_count": 29,
   "metadata": {},
   "outputs": [
    {
     "data": {
      "text/plain": [
       "[{'l1': 64,\n",
       "  'l2': 512,\n",
       "  'lr': 0.007007417640941408,\n",
       "  'batch_size': 16,\n",
       "  'epochs': 8,\n",
       "  'k_folds': 0,\n",
       "  'patience': 2}]"
      ]
     },
     "execution_count": 29,
     "metadata": {},
     "output_type": "execute_result"
    }
   ],
   "source": [
    "v_dict = assign_values(X, fun_control[\"var_name\"])\n",
    "return_conf_list_from_var_dict(var_dict=v_dict, fun_control=fun_control)"
   ]
  },
  {
   "cell_type": "code",
   "execution_count": 30,
   "metadata": {},
   "outputs": [
    {
     "data": {
      "text/plain": [
       "Net_fashionMNIST(\n",
       "  (flatten): Flatten(start_dim=1, end_dim=-1)\n",
       "  (linear_relu_stack): Sequential(\n",
       "    (0): Linear(in_features=784, out_features=64, bias=True)\n",
       "    (1): ReLU()\n",
       "    (2): Linear(in_features=64, out_features=512, bias=True)\n",
       "    (3): ReLU()\n",
       "    (4): Linear(in_features=512, out_features=10, bias=True)\n",
       "  )\n",
       ")"
      ]
     },
     "execution_count": 30,
     "metadata": {},
     "output_type": "execute_result"
    }
   ],
   "source": [
    "model_spot = get_one_core_model_from_X(X, fun_control)\n",
    "model_spot"
   ]
  },
  {
   "attachments": {},
   "cell_type": "markdown",
   "metadata": {},
   "source": [
    "## Test Set Accuracy"
   ]
  },
  {
   "cell_type": "code",
   "execution_count": 31,
   "metadata": {},
   "outputs": [
    {
     "data": {
      "text/plain": [
       "torch.Size([10000, 28, 28])"
      ]
     },
     "execution_count": 31,
     "metadata": {},
     "output_type": "execute_result"
    }
   ],
   "source": [
    "testset = fun_control[\"test\"]\n",
    "testset.data.shape"
   ]
  },
  {
   "cell_type": "code",
   "execution_count": 32,
   "metadata": {},
   "outputs": [
    {
     "name": "stdout",
     "output_type": "stream",
     "text": [
      "Epoch: 1\n",
      "Loss on hold-out set: 1.7142033228874207\n",
      "Accuracy on hold-out set: 0.44575\n",
      "Epoch: 2\n",
      "Loss on hold-out set: 1.2240822904109956\n",
      "Accuracy on hold-out set: 0.592\n",
      "Epoch: 3\n",
      "Loss on hold-out set: 1.0154373679161073\n",
      "Accuracy on hold-out set: 0.634\n",
      "Epoch: 4\n",
      "Loss on hold-out set: 0.9083883502483368\n",
      "Accuracy on hold-out set: 0.65475\n",
      "Epoch: 5\n",
      "Loss on hold-out set: 0.8470570294857025\n",
      "Accuracy on hold-out set: 0.669\n",
      "Epoch: 6\n",
      "Loss on hold-out set: 0.8074139983654022\n",
      "Accuracy on hold-out set: 0.68325\n",
      "Epoch: 7\n",
      "Loss on hold-out set: 0.7784403505325317\n",
      "Accuracy on hold-out set: 0.70175\n",
      "Epoch: 8\n",
      "Loss on hold-out set: 0.7550702829360962\n",
      "Accuracy on hold-out set: 0.7165\n",
      "Returned to Spot: Validation loss: 0.7550702829360962\n",
      "----------------------------------------------\n"
     ]
    },
    {
     "data": {
      "text/plain": [
       "(0.7550702829360962, nan)"
      ]
     },
     "execution_count": 32,
     "metadata": {},
     "output_type": "execute_result"
    }
   ],
   "source": [
    "evaluate_hold_out(model_default, dataset = testset, shuffle=False, show_batch_interval=fun_control[\"show_batch_interval\"])"
   ]
  },
  {
   "cell_type": "code",
   "execution_count": 33,
   "metadata": {},
   "outputs": [
    {
     "name": "stdout",
     "output_type": "stream",
     "text": [
      "Epoch: 1\n",
      "Loss on hold-out set: 0.8050161796808243\n",
      "Accuracy on hold-out set: 0.69025\n",
      "Epoch: 2\n",
      "Loss on hold-out set: 0.6616386849880218\n",
      "Accuracy on hold-out set: 0.76225\n",
      "Epoch: 3\n",
      "Loss on hold-out set: 0.6100356443524361\n",
      "Accuracy on hold-out set: 0.779\n",
      "Epoch: 4\n",
      "Loss on hold-out set: 0.5958852154314518\n",
      "Accuracy on hold-out set: 0.7845\n",
      "Epoch: 5\n",
      "Loss on hold-out set: 0.5885721771419048\n",
      "Accuracy on hold-out set: 0.787\n",
      "Epoch: 6\n",
      "Loss on hold-out set: 0.5845690662860871\n",
      "Accuracy on hold-out set: 0.79075\n",
      "Epoch: 7\n",
      "Loss on hold-out set: 0.580982905894518\n",
      "Accuracy on hold-out set: 0.79575\n",
      "Epoch: 8\n",
      "Loss on hold-out set: 0.5779622244238853\n",
      "Accuracy on hold-out set: 0.80225\n",
      "Returned to Spot: Validation loss: 0.5779622244238853\n",
      "----------------------------------------------\n"
     ]
    },
    {
     "data": {
      "text/plain": [
       "(0.5779622244238853, nan)"
      ]
     },
     "execution_count": 33,
     "metadata": {},
     "output_type": "execute_result"
    }
   ],
   "source": [
    "evaluate_hold_out(model_spot, dataset = testset, shuffle=False, show_batch_interval=fun_control[\"show_batch_interval\"])"
   ]
  },
  {
   "cell_type": "code",
   "execution_count": 34,
   "metadata": {},
   "outputs": [
    {
     "data": {
      "text/plain": [
       "(0.4261551162774364, 1.4766221304734548)"
      ]
     },
     "execution_count": 34,
     "metadata": {},
     "output_type": "execute_result"
    }
   ],
   "source": [
    "min(spot_tuner.y), max(spot_tuner.y)"
   ]
  },
  {
   "attachments": {},
   "cell_type": "markdown",
   "metadata": {},
   "source": [
    "## Detailed Hyperparameter Plots"
   ]
  },
  {
   "attachments": {},
   "cell_type": "markdown",
   "metadata": {},
   "source": [
    "* For productive use, you might want to select:\n",
    "  * `min_z=min(spot_tuner.y)` and\n",
    "  * `max_z = max(spot_tuner.y)`\n",
    "* These settings are not so colorful as visualizations that use `None` for the ranges, but give better insights."
   ]
  },
  {
   "cell_type": "code",
   "execution_count": 35,
   "metadata": {},
   "outputs": [
    {
     "name": "stdout",
     "output_type": "stream",
     "text": [
      "l1:  1.033410131015437\n",
      "batch_size:  100.0\n"
     ]
    },
    {
     "data": {
      "image/png": "[encoded data removed]",
      "text/plain": [
       "<Figure size 900x600 with 3 Axes>"
      ]
     },
     "metadata": {},
     "output_type": "display_data"
    }
   ],
   "source": [
    "threshold = 0.025\n",
    "impo = spot_tuner.print_importance(threshold=threshold, print_screen=True)\n",
    "var_plots = [i for i, x in enumerate(impo) if x[1] > threshold]\n",
    "min_z = min(spot_tuner.y)\n",
    "max_z = max(spot_tuner.y)\n",
    "n = spot_tuner.k\n",
    "for i in var_plots:\n",
    "    for j in var_plots:\n",
    "        if j > i:\n",
    "            filename = \"../Figures.d/\" + experiment_name+\"_contour_\"+str(i)+\"_\"+str(j)+\".pdf\"\n",
    "            spot_tuner.plot_contour(i=i, j=j, min_z=min_z, max_z = max_z, filename=filename)"
   ]
  },
  {
   "attachments": {},
   "cell_type": "markdown",
   "metadata": {},
   "source": [
    "## Parallel Coordinates Plot"
   ]
  },
  {
   "cell_type": "code",
   "execution_count": 36,
   "metadata": {},
   "outputs": [
    {
     "data": {
      "application/vnd.plotly.v1+json": {
       "config": {
        "plotlyServerURL": "https://plot.ly"
       },
       "data": [
        {
         "dimensions": [
          {
           "label": "l1",
           "range": [
            3,
            9
           ],
           "values": [
            7,
            4,
            8,
            3,
            6,
            9
           ]
          },
          {
           "label": "l2",
           "range": [
            3,
            9
           ],
           "values": [
            3,
            4,
            7,
            5,
            9,
            9
           ]
          },
          {
           "label": "lr",
           "range": [
            0.00001,
            0.009559720974200322
           ],
           "values": [
            0.009559720974200322,
            0.005451404353201381,
            0.00036116529099737224,
            0.0035426474391643753,
            0.007007417640941408,
            0.00001
           ]
          },
          {
           "label": "batch_size",
           "range": [
            1,
            4
           ],
           "values": [
            3,
            1,
            3,
            2,
            4,
            4
           ]
          },
          {
           "label": "epochs",
           "range": [
            3,
            4
           ],
           "values": [
            3,
            4,
            4,
            3,
            3,
            4
           ]
          }
         ],
         "line": {
          "cmax": 1.4766221304734548,
          "cmin": 0.4261551162774364,
          "color": [
           0.4884754823929591,
           0.6151022609605928,
           0.47724512272980063,
           0.6413050469826991,
           0.4261551162774364,
           1.4766221304734548
          ],
          "colorscale": [
           [
            0,
            "rgb(0,0,131)"
           ],
           [
            0.2,
            "rgb(0,60,170)"
           ],
           [
            0.4,
            "rgb(5,255,255)"
           ],
           [
            0.6,
            "rgb(255,255,0)"
           ],
           [
            0.8,
            "rgb(250,0,0)"
           ],
           [
            1,
            "rgb(128,0,0)"
           ]
          ],
          "showscale": true
         },
         "type": "parcoords"
        }
       ],
       "layout": {
        "template": {
         "data": {
          "bar": [
           {
            "error_x": {
             "color": "#2a3f5f"
            },
            "error_y": {
             "color": "#2a3f5f"
            },
            "marker": {
             "line": {
              "color": "#E5ECF6",
              "width": 0.5
             },
             "pattern": {
              "fillmode": "overlay",
              "size": 10,
              "solidity": 0.2
             }
            },
            "type": "bar"
           }
          ],
          "barpolar": [
           {
            "marker": {
             "line": {
              "color": "#E5ECF6",
              "width": 0.5
             },
             "pattern": {
              "fillmode": "overlay",
              "size": 10,
              "solidity": 0.2
             }
            },
            "type": "barpolar"
           }
          ],
          "carpet": [
           {
            "aaxis": {
             "endlinecolor": "#2a3f5f",
             "gridcolor": "white",
             "linecolor": "white",
             "minorgridcolor": "white",
             "startlinecolor": "#2a3f5f"
            },
            "baxis": {
             "endlinecolor": "#2a3f5f",
             "gridcolor": "white",
             "linecolor": "white",
             "minorgridcolor": "white",
             "startlinecolor": "#2a3f5f"
            },
            "type": "carpet"
           }
          ],
          "choropleth": [
           {
            "colorbar": {
             "outlinewidth": 0,
             "ticks": ""
            },
            "type": "choropleth"
           }
          ],
          "contour": [
           {
            "colorbar": {
             "outlinewidth": 0,
             "ticks": ""
            },
            "colorscale": [
             [
              0,
              "#0d0887"
             ],
             [
              0.1111111111111111,
              "#46039f"
             ],
             [
              0.2222222222222222,
              "#7201a8"
             ],
             [
              0.3333333333333333,
              "#9c179e"
             ],
             [
              0.4444444444444444,
              "#bd3786"
             ],
             [
              0.5555555555555556,
              "#d8576b"
             ],
             [
              0.6666666666666666,
              "#ed7953"
             ],
             [
              0.7777777777777778,
              "#fb9f3a"
             ],
             [
              0.8888888888888888,
              "#fdca26"
             ],
             [
              1,
              "#f0f921"
             ]
            ],
            "type": "contour"
           }
          ],
          "contourcarpet": [
           {
            "colorbar": {
             "outlinewidth": 0,
             "ticks": ""
            },
            "type": "contourcarpet"
           }
          ],
          "heatmap": [
           {
            "colorbar": {
             "outlinewidth": 0,
             "ticks": ""
            },
            "colorscale": [
             [
              0,
              "#0d0887"
             ],
             [
              0.1111111111111111,
              "#46039f"
             ],
             [
              0.2222222222222222,
              "#7201a8"
             ],
             [
              0.3333333333333333,
              "#9c179e"
             ],
             [
              0.4444444444444444,
              "#bd3786"
             ],
             [
              0.5555555555555556,
              "#d8576b"
             ],
             [
              0.6666666666666666,
              "#ed7953"
             ],
             [
              0.7777777777777778,
              "#fb9f3a"
             ],
             [
              0.8888888888888888,
              "#fdca26"
             ],
             [
              1,
              "#f0f921"
             ]
            ],
            "type": "heatmap"
           }
          ],
          "heatmapgl": [
           {
            "colorbar": {
             "outlinewidth": 0,
             "ticks": ""
            },
            "colorscale": [
             [
              0,
              "#0d0887"
             ],
             [
              0.1111111111111111,
              "#46039f"
             ],
             [
              0.2222222222222222,
              "#7201a8"
             ],
             [
              0.3333333333333333,
              "#9c179e"
             ],
             [
              0.4444444444444444,
              "#bd3786"
             ],
             [
              0.5555555555555556,
              "#d8576b"
             ],
             [
              0.6666666666666666,
              "#ed7953"
             ],
             [
              0.7777777777777778,
              "#fb9f3a"
             ],
             [
              0.8888888888888888,
              "#fdca26"
             ],
             [
              1,
              "#f0f921"
             ]
            ],
            "type": "heatmapgl"
           }
          ],
          "histogram": [
           {
            "marker": {
             "pattern": {
              "fillmode": "overlay",
              "size": 10,
              "solidity": 0.2
             }
            },
            "type": "histogram"
           }
          ],
          "histogram2d": [
           {
            "colorbar": {
             "outlinewidth": 0,
             "ticks": ""
            },
            "colorscale": [
             [
              0,
              "#0d0887"
             ],
             [
              0.1111111111111111,
              "#46039f"
             ],
             [
              0.2222222222222222,
              "#7201a8"
             ],
             [
              0.3333333333333333,
              "#9c179e"
             ],
             [
              0.4444444444444444,
              "#bd3786"
             ],
             [
              0.5555555555555556,
              "#d8576b"
             ],
             [
              0.6666666666666666,
              "#ed7953"
             ],
             [
              0.7777777777777778,
              "#fb9f3a"
             ],
             [
              0.8888888888888888,
              "#fdca26"
             ],
             [
              1,
              "#f0f921"
             ]
            ],
            "type": "histogram2d"
           }
          ],
          "histogram2dcontour": [
           {
            "colorbar": {
             "outlinewidth": 0,
             "ticks": ""
            },
            "colorscale": [
             [
              0,
              "#0d0887"
             ],
             [
              0.1111111111111111,
              "#46039f"
             ],
             [
              0.2222222222222222,
              "#7201a8"
             ],
             [
              0.3333333333333333,
              "#9c179e"
             ],
             [
              0.4444444444444444,
              "#bd3786"
             ],
             [
              0.5555555555555556,
              "#d8576b"
             ],
             [
              0.6666666666666666,
              "#ed7953"
             ],
             [
              0.7777777777777778,
              "#fb9f3a"
             ],
             [
              0.8888888888888888,
              "#fdca26"
             ],
             [
              1,
              "#f0f921"
             ]
            ],
            "type": "histogram2dcontour"
           }
          ],
          "mesh3d": [
           {
            "colorbar": {
             "outlinewidth": 0,
             "ticks": ""
            },
            "type": "mesh3d"
           }
          ],
          "parcoords": [
           {
            "line": {
             "colorbar": {
              "outlinewidth": 0,
              "ticks": ""
             }
            },
            "type": "parcoords"
           }
          ],
          "pie": [
           {
            "automargin": true,
            "type": "pie"
           }
          ],
          "scatter": [
           {
            "fillpattern": {
             "fillmode": "overlay",
             "size": 10,
             "solidity": 0.2
            },
            "type": "scatter"
           }
          ],
          "scatter3d": [
           {
            "line": {
             "colorbar": {
              "outlinewidth": 0,
              "ticks": ""
             }
            },
            "marker": {
             "colorbar": {
              "outlinewidth": 0,
              "ticks": ""
             }
            },
            "type": "scatter3d"
           }
          ],
          "scattercarpet": [
           {
            "marker": {
             "colorbar": {
              "outlinewidth": 0,
              "ticks": ""
             }
            },
            "type": "scattercarpet"
           }
          ],
          "scattergeo": [
           {
            "marker": {
             "colorbar": {
              "outlinewidth": 0,
              "ticks": ""
             }
            },
            "type": "scattergeo"
           }
          ],
          "scattergl": [
           {
            "marker": {
             "colorbar": {
              "outlinewidth": 0,
              "ticks": ""
             }
            },
            "type": "scattergl"
           }
          ],
          "scattermapbox": [
           {
            "marker": {
             "colorbar": {
              "outlinewidth": 0,
              "ticks": ""
             }
            },
            "type": "scattermapbox"
           }
          ],
          "scatterpolar": [
           {
            "marker": {
             "colorbar": {
              "outlinewidth": 0,
              "ticks": ""
             }
            },
            "type": "scatterpolar"
           }
          ],
          "scatterpolargl": [
           {
            "marker": {
             "colorbar": {
              "outlinewidth": 0,
              "ticks": ""
             }
            },
            "type": "scatterpolargl"
           }
          ],
          "scatterternary": [
           {
            "marker": {
             "colorbar": {
              "outlinewidth": 0,
              "ticks": ""
             }
            },
            "type": "scatterternary"
           }
          ],
          "surface": [
           {
            "colorbar": {
             "outlinewidth": 0,
             "ticks": ""
            },
            "colorscale": [
             [
              0,
              "#0d0887"
             ],
             [
              0.1111111111111111,
              "#46039f"
             ],
             [
              0.2222222222222222,
              "#7201a8"
             ],
             [
              0.3333333333333333,
              "#9c179e"
             ],
             [
              0.4444444444444444,
              "#bd3786"
             ],
             [
              0.5555555555555556,
              "#d8576b"
             ],
             [
              0.6666666666666666,
              "#ed7953"
             ],
             [
              0.7777777777777778,
              "#fb9f3a"
             ],
             [
              0.8888888888888888,
              "#fdca26"
             ],
             [
              1,
              "#f0f921"
             ]
            ],
            "type": "surface"
           }
          ],
          "table": [
           {
            "cells": {
             "fill": {
              "color": "#EBF0F8"
             },
             "line": {
              "color": "white"
             }
            },
            "header": {
             "fill": {
              "color": "#C8D4E3"
             },
             "line": {
              "color": "white"
             }
            },
            "type": "table"
           }
          ]
         },
         "layout": {
          "annotationdefaults": {
           "arrowcolor": "#2a3f5f",
           "arrowhead": 0,
           "arrowwidth": 1
          },
          "autotypenumbers": "strict",
          "coloraxis": {
           "colorbar": {
            "outlinewidth": 0,
            "ticks": ""
           }
          },
          "colorscale": {
           "diverging": [
            [
             0,
             "#8e0152"
            ],
            [
             0.1,
             "#c51b7d"
            ],
            [
             0.2,
             "#de77ae"
            ],
            [
             0.3,
             "#f1b6da"
            ],
            [
             0.4,
             "#fde0ef"
            ],
            [
             0.5,
             "#f7f7f7"
            ],
            [
             0.6,
             "#e6f5d0"
            ],
            [
             0.7,
             "#b8e186"
            ],
            [
             0.8,
             "#7fbc41"
            ],
            [
             0.9,
             "#4d9221"
            ],
            [
             1,
             "#276419"
            ]
           ],
           "sequential": [
            [
             0,
             "#0d0887"
            ],
            [
             0.1111111111111111,
             "#46039f"
            ],
            [
             0.2222222222222222,
             "#7201a8"
            ],
            [
             0.3333333333333333,
             "#9c179e"
            ],
            [
             0.4444444444444444,
             "#bd3786"
            ],
            [
             0.5555555555555556,
             "#d8576b"
            ],
            [
             0.6666666666666666,
             "#ed7953"
            ],
            [
             0.7777777777777778,
             "#fb9f3a"
            ],
            [
             0.8888888888888888,
             "#fdca26"
            ],
            [
             1,
             "#f0f921"
            ]
           ],
           "sequentialminus": [
            [
             0,
             "#0d0887"
            ],
            [
             0.1111111111111111,
             "#46039f"
            ],
            [
             0.2222222222222222,
             "#7201a8"
            ],
            [
             0.3333333333333333,
             "#9c179e"
            ],
            [
             0.4444444444444444,
             "#bd3786"
            ],
            [
             0.5555555555555556,
             "#d8576b"
            ],
            [
             0.6666666666666666,
             "#ed7953"
            ],
            [
             0.7777777777777778,
             "#fb9f3a"
            ],
            [
             0.8888888888888888,
             "#fdca26"
            ],
            [
             1,
             "#f0f921"
            ]
           ]
          },
          "colorway": [
           "#636efa",
           "#EF553B",
           "#00cc96",
           "#ab63fa",
           "#FFA15A",
           "#19d3f3",
           "#FF6692",
           "#B6E880",
           "#FF97FF",
           "#FECB52"
          ],
          "font": {
           "color": "#2a3f5f"
          },
          "geo": {
           "bgcolor": "white",
           "lakecolor": "white",
           "landcolor": "#E5ECF6",
           "showlakes": true,
           "showland": true,
           "subunitcolor": "white"
          },
          "hoverlabel": {
           "align": "left"
          },
          "hovermode": "closest",
          "mapbox": {
           "style": "light"
          },
          "paper_bgcolor": "white",
          "plot_bgcolor": "#E5ECF6",
          "polar": {
           "angularaxis": {
            "gridcolor": "white",
            "linecolor": "white",
            "ticks": ""
           },
           "bgcolor": "#E5ECF6",
           "radialaxis": {
            "gridcolor": "white",
            "linecolor": "white",
            "ticks": ""
           }
          },
          "scene": {
           "xaxis": {
            "backgroundcolor": "#E5ECF6",
            "gridcolor": "white",
            "gridwidth": 2,
            "linecolor": "white",
            "showbackground": true,
            "ticks": "",
            "zerolinecolor": "white"
           },
           "yaxis": {
            "backgroundcolor": "#E5ECF6",
            "gridcolor": "white",
            "gridwidth": 2,
            "linecolor": "white",
            "showbackground": true,
            "ticks": "",
            "zerolinecolor": "white"
           },
           "zaxis": {
            "backgroundcolor": "#E5ECF6",
            "gridcolor": "white",
            "gridwidth": 2,
            "linecolor": "white",
            "showbackground": true,
            "ticks": "",
            "zerolinecolor": "white"
           }
          },
          "shapedefaults": {
           "line": {
            "color": "#2a3f5f"
           }
          },
          "ternary": {
           "aaxis": {
            "gridcolor": "white",
            "linecolor": "white",
            "ticks": ""
           },
           "baxis": {
            "gridcolor": "white",
            "linecolor": "white",
            "ticks": ""
           },
           "bgcolor": "#E5ECF6",
           "caxis": {
            "gridcolor": "white",
            "linecolor": "white",
            "ticks": ""
           }
          },
          "title": {
           "x": 0.05
          },
          "xaxis": {
           "automargin": true,
           "gridcolor": "white",
           "linecolor": "white",
           "ticks": "",
           "title": {
            "standoff": 15
           },
           "zerolinecolor": "white",
           "zerolinewidth": 2
          },
          "yaxis": {
           "automargin": true,
           "gridcolor": "white",
           "linecolor": "white",
           "ticks": "",
           "title": {
            "standoff": 15
           },
           "zerolinecolor": "white",
           "zerolinewidth": 2
          }
         }
        }
       }
      }
     },
     "metadata": {},
     "output_type": "display_data"
    }
   ],
   "source": [
    "spot_tuner.parallel_plot()"
   ]
  },
  {
   "attachments": {},
   "cell_type": "markdown",
   "metadata": {},
   "source": [
    "## Plot all Combinations of Hyperparameters\n",
    "\n",
    "* Warning: this may take a while."
   ]
  },
  {
   "cell_type": "code",
   "execution_count": 37,
   "metadata": {},
   "outputs": [],
   "source": [
    "PLOT_ALL = False\n",
    "if PLOT_ALL:\n",
    "    n = spot_tuner.k\n",
    "    for i in range(n-1):\n",
    "        for j in range(i+1, n):\n",
    "            spot_tuner.plot_contour(i=i, j=j, min_z=min_z, max_z = max_z)"
   ]
  }
 ],
 "metadata": {
  "kernelspec": {
   "display_name": "spotCondaEnv",
   "language": "python",
   "name": "python3"
  },
  "language_info": {
   "codemirror_mode": {
    "name": "ipython",
    "version": 3
   },
   "file_extension": ".py",
   "mimetype": "text/x-python",
   "name": "python",
   "nbconvert_exporter": "python",
   "pygments_lexer": "ipython3",
   "version": "3.10.10"
  },
  "vscode": {
   "interpreter": {
    "hash": "81c77de872def749acd68d9955e19f0df6803301f4c1f66c3444af66334112ae"
   }
  }
 },
 "nbformat": 4,
 "nbformat_minor": 4
}
