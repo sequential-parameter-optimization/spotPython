{
 "cells": [
  {
   "cell_type": "markdown",
   "metadata": {},
   "source": [
    "# Test Functions for Kriging"
   ]
  },
  {
   "cell_type": "code",
   "execution_count": null,
   "metadata": {},
   "outputs": [],
   "source": [
    "from spotPython.build.kriging import Kriging\n",
    "import numpy as np\n",
    "import matplotlib.pyplot as plt\n",
    "from numpy import linspace, arange\n",
    "rng = np.random.RandomState(1)\n",
    "X = linspace(start=0, stop=10, num=1_000).reshape(-1, 1)\n",
    "y = np.squeeze(X * np.sin(X))\n",
    "training_indices = rng.choice(arange(y.size), size=6, replace=False)\n",
    "X_train, y_train = X[training_indices], y[training_indices]\n",
    "S = Kriging(name='kriging', seed=124)\n",
    "S.fit(X_train, y_train)\n",
    "mean_prediction, std_prediction, s_ei = S.predict(X, return_val=\"all\")\n",
    "plt.plot(X, y, label=r\"$f(x)$\", linestyle=\"dotted\")\n",
    "plt.scatter(X_train, y_train, label=\"Observations\")\n",
    "plt.plot(X, mean_prediction, label=\"Mean prediction\")\n",
    "plt.fill_between(\n",
    "    X.ravel(),\n",
    "    mean_prediction - 1.96 * std_prediction,\n",
    "    mean_prediction + 1.96 * std_prediction,\n",
    "    alpha=0.5,\n",
    "    label=r\"95% confidence interval\",\n",
    "    )\n",
    "plt.legend()\n",
    "plt.xlabel(\"$x$\")\n",
    "plt.ylabel(\"$f(x)$\")\n",
    "_ = plt.title(\"Gaussian process regression on noise-free dataset\")\n",
    "plt.show()"
   ]
  },
  {
   "cell_type": "code",
   "execution_count": null,
   "metadata": {},
   "outputs": [],
   "source": [
    "from spotPython.build.kriging import Kriging\n",
    "import numpy as np\n",
    "import matplotlib.pyplot as plt\n",
    "from numpy import linspace, arange\n",
    "rng = np.random.RandomState(1)\n",
    "X = linspace(start=0, stop=10, num=1_0).reshape(-1, 1)\n",
    "y = np.squeeze(X * np.sin(X))\n",
    "training_indices = rng.choice(arange(y.size), size=6, replace=False)\n",
    "X_train, y_train = X[training_indices], y[training_indices]\n",
    "S = Kriging(name='kriging', seed=124)\n",
    "S.fit(X_train, y_train)\n",
    "mean_prediction, std_prediction, s_ei = S.predict(X, return_val=\"all\")\n",
    "# Kriging is a interpolator, so the mean prediction should be equal to the training points:\n",
    "# check if the difference between the mean prediction and the true value in the training points is smaller than 1e-6\n",
    "assert np.allclose(mean_prediction[training_indices], y[training_indices], atol=1e-6)\n"
   ]
  },
  {
   "cell_type": "markdown",
   "metadata": {},
   "source": [
    "## Expected Improvement"
   ]
  },
  {
   "cell_type": "code",
   "execution_count": null,
   "metadata": {},
   "outputs": [],
   "source": [
    "from spotPython.build.kriging import Kriging\n",
    "from math import erf\n",
    "import numpy as np\n",
    "S = Kriging(name='kriging', seed=124)\n",
    "S.aggregated_mean_y = [0.0, 0.0, 0.0, 0.0, 0.0]\n",
    "# asset that the S.exp_imp(1.0, 0.0) is equal to 0.0\n",
    "assert 0.0 == S.exp_imp(1.0, 0.0)\n",
    "# assert that the S.exp_imp(0.0, 1.0) is equal to 1/sqrt(2 pi)\n",
    "# assert S.exp_imp(0.0, 1.0) == 1/np.sqrt(2*np.pi)\n",
    "# play safe and use np.allclose\n",
    "assert np.allclose(S.exp_imp(0.0, 1.0), 1/np.sqrt(2*np.pi), atol=1e-6)\n",
    "assert np.allclose(S.exp_imp(1.0, 1.0), -(0.5 + 0.5*erf(-1/np.sqrt(2))) + 1/np.sqrt(2*np.pi)*np.exp(-1/2), atol=1e-6)"
   ]
  },
  {
   "cell_type": "markdown",
   "metadata": {},
   "source": [
    "# set_de_bounds"
   ]
  },
  {
   "cell_type": "code",
   "execution_count": null,
   "metadata": {},
   "outputs": [],
   "source": [
    "from spotPython.build.kriging import Kriging\n",
    "S = Kriging(name='kriging', seed=124)\n",
    "S.set_de_bounds()\n",
    "assert S.de_bounds == [[-3, 2]]\n",
    "from spotPython.build.kriging import Kriging\n",
    "n = 10\n",
    "S = Kriging(name='kriging', seed=124, n_theta=n)\n",
    "S.set_de_bounds()\n",
    "assert len(S.de_bounds) == n\n",
    "n=2\n",
    "p=4\n",
    "S = Kriging(name='kriging', seed=124, n_theta=n, n_p=p, optim_p=True)\n",
    "S.set_de_bounds()\n",
    "assert len(S.de_bounds) == n+p\n",
    "S = Kriging(name='kriging', seed=124, n_theta=n, n_p=p, optim_p=False)\n",
    "S.set_de_bounds()\n",
    "assert len(S.de_bounds) == n"
   ]
  },
  {
   "cell_type": "markdown",
   "metadata": {},
   "source": [
    "## extract_from_bounds"
   ]
  },
  {
   "cell_type": "code",
   "execution_count": null,
   "metadata": {},
   "outputs": [],
   "source": [
    "import numpy as np\n",
    "from spotPython.build.kriging import Kriging\n",
    "n=2\n",
    "p=2\n",
    "S = Kriging(name='kriging', seed=124, n_theta=n, n_p=p, optim_p=True, noise=False)\n",
    "S.extract_from_bounds(np.array([1, 2, 3]))\n",
    "assert len(S.theta) == n"
   ]
  },
  {
   "cell_type": "markdown",
   "metadata": {},
   "source": [
    "## optimize_model"
   ]
  },
  {
   "cell_type": "code",
   "execution_count": null,
   "metadata": {},
   "outputs": [],
   "source": [
    "from spotPython.build.kriging import Kriging\n",
    "import numpy as np\n",
    "nat_X = np.array([[1, 2], [3, 4]])\n",
    "nat_y = np.array([1, 2])\n",
    "n=2\n",
    "p=2\n",
    "S=Kriging(name='kriging', seed=124, n_theta=n, n_p=p, optim_p=True, noise=True)\n",
    "S.initialize_variables(nat_X, nat_y)\n",
    "S.set_variable_types()\n",
    "S.set_theta_values()\n",
    "S.initialize_matrices()\n",
    "S.set_de_bounds()\n",
    "new_theta_p_Lambda = S.optimize_model()\n",
    "assert len(new_theta_p_Lambda) == n+p+1\n",
    "# no noise, so Lambda is not considered\n",
    "S=Kriging(name='kriging', seed=124, n_theta=n, n_p=p, optim_p=True, noise=False)\n",
    "S.initialize_variables(nat_X, nat_y)\n",
    "S.set_variable_types()\n",
    "S.set_theta_values()\n",
    "S.initialize_matrices()\n",
    "S.set_de_bounds()\n",
    "new_theta_p_Lambda = S.optimize_model()\n",
    "assert len(new_theta_p_Lambda) == n+p"
   ]
  },
  {
   "cell_type": "markdown",
   "metadata": {},
   "source": [
    "## update_log"
   ]
  },
  {
   "cell_type": "code",
   "execution_count": null,
   "metadata": {},
   "outputs": [],
   "source": [
    "from spotPython.build.kriging import Kriging\n",
    "import numpy as np\n",
    "nat_X = np.array([[1, 2], [3, 4]])\n",
    "nat_y = np.array([1, 2])\n",
    "n=2\n",
    "p=2\n",
    "S=Kriging(name='kriging', seed=124, n_theta=n, n_p=p, optim_p=True, noise=True)\n",
    "S.initialize_variables(nat_X, nat_y)\n",
    "S.set_variable_types()\n",
    "S.set_theta_values()\n",
    "S.initialize_matrices()\n",
    "S.set_de_bounds()\n",
    "new_theta_p_Lambda = S.optimize_model()\n",
    "S.update_log()\n",
    "print(S.log)\n",
    "assert len(S.log[\"negLnLike\"]) == 1\n",
    "assert len(S.log[\"theta\"]) == n\n",
    "assert len(S.log[\"p\"]) == p\n",
    "assert len(S.log[\"Lambda\"]) == 1\n",
    "S.update_log()\n",
    "print(S.log)\n",
    "assert len(S.log[\"negLnLike\"]) == 2\n",
    "assert len(S.log[\"theta\"]) == 2*n\n",
    "assert len(S.log[\"p\"]) == 2*p\n",
    "assert len(S.log[\"Lambda\"]) == 2"
   ]
  },
  {
   "cell_type": "markdown",
   "metadata": {},
   "source": [
    "## fit"
   ]
  },
  {
   "cell_type": "code",
   "execution_count": null,
   "metadata": {},
   "outputs": [],
   "source": [
    "from spotPython.build.kriging import Kriging\n",
    "import numpy as np\n",
    "nat_X = np.array([[.1, 0], [0, .1]])\n",
    "nat_y = np.array([1, 2])\n",
    "S = Kriging()\n",
    "S.fit(nat_X, nat_y)\n",
    "assert S.Psi.shape == (2, 2)\n",
    "assert len(S.log[\"negLnLike\"]) == 1\n",
    "print(S.Psi)"
   ]
  },
  {
   "cell_type": "markdown",
   "metadata": {},
   "source": [
    "## initialize_variables"
   ]
  },
  {
   "cell_type": "code",
   "execution_count": null,
   "metadata": {},
   "outputs": [],
   "source": [
    "from spotPython.build.kriging import Kriging\n",
    "import numpy as np\n",
    "nat_X = np.array([[1, 2], [3, 4]])\n",
    "nat_y = np.array([1, 2])\n",
    "S = Kriging()\n",
    "S.initialize_variables(nat_X, nat_y)\n",
    "assert S.nat_X.all() == nat_X.all()\n",
    "assert S.nat_y.all() == nat_y.all()\n",
    "assert S.nat_X.shape == (2, 2)\n",
    "assert S.nat_y.shape == (2,)"
   ]
  },
  {
   "cell_type": "markdown",
   "metadata": {},
   "source": [
    "## set_variable_types"
   ]
  },
  {
   "cell_type": "code",
   "execution_count": null,
   "metadata": {},
   "outputs": [],
   "source": [
    "from spotPython.build.kriging import Kriging\n",
    "import numpy as np\n",
    "nat_X = np.array([[1, 2], [3, 4]])\n",
    "nat_y = np.array([1, 2])\n",
    "n=2\n",
    "p=2\n",
    "S=Kriging(name='kriging', seed=124, n_theta=n, n_p=p, optim_p=True, noise=True)\n",
    "S.initialize_variables(nat_X, nat_y)\n",
    "S.set_variable_types()\n",
    "assert S.var_type == ['num', 'num']\n",
    "assert S.num_mask.all() == True\n",
    "assert S.factor_mask.all() == False\n",
    "assert S.int_mask.all() == False\n",
    "assert S.ordered_mask.all() == True\n",
    "S.num_mask"
   ]
  },
  {
   "cell_type": "code",
   "execution_count": null,
   "metadata": {},
   "outputs": [],
   "source": [
    "\n",
    "\n",
    "nat_X = np.array([[1, 2, 3], [4, 5, 6]])\n",
    "nat_y = np.array([1, 2])\n",
    "n=3\n",
    "p=1\n",
    "S=Kriging(name='kriging', seed=124, n_theta=n, n_p=p, optim_p=True, noise=True)\n",
    "S.initialize_variables(nat_X, nat_y)\n",
    "S.set_variable_types()\n",
    "S.var_type\n",
    "assert S.var_type == ['num', 'num', 'num']"
   ]
  },
  {
   "cell_type": "markdown",
   "metadata": {},
   "source": [
    "## set_theta_values"
   ]
  },
  {
   "cell_type": "code",
   "execution_count": null,
   "metadata": {},
   "outputs": [],
   "source": [
    "from spotPython.build.kriging import Kriging\n",
    "import numpy as np\n",
    "from numpy import array\n",
    "nat_X = np.array([[1, 2], [3, 4]])\n",
    "nat_y = np.array([1, 2])\n",
    "n=2\n",
    "p=2\n",
    "S=Kriging(name='kriging', seed=124, n_theta=n, n_p=p, optim_p=True, noise=True)\n",
    "S.initialize_variables(nat_X, nat_y)\n",
    "S.set_variable_types()\n",
    "S.set_theta_values()\n",
    "assert S.theta.all() == array([0., 0.]).all()\n",
    "nat_X = np.array([[1, 2], [3, 4]])\n",
    "nat_y = np.array([1, 2])\n",
    "# n is set to 3, but the number of columns of nat_X is 2\n",
    "n=3\n",
    "p=2\n",
    "S=Kriging(name='kriging', seed=124, n_theta=n, n_p=p, optim_p=True, noise=True)\n",
    "S.initialize_variables(nat_X, nat_y)\n",
    "S.set_variable_types()\n",
    "snt = S.n_theta\n",
    "S.set_theta_values()\n",
    "# since snt == 3, it is not equal to S.n_theta, which is 2 because \n",
    "# of the correction in the set_theta_values method\n",
    "assert S.n_theta != snt\n"
   ]
  },
  {
   "cell_type": "markdown",
   "metadata": {},
   "source": [
    "## initialize_matrices"
   ]
  },
  {
   "cell_type": "code",
   "execution_count": null,
   "metadata": {},
   "outputs": [],
   "source": [
    "from spotPython.build.kriging import Kriging\n",
    "import numpy as np\n",
    "from numpy import log, var\n",
    "nat_X = np.array([[1, 2], [3, 4], [5, 6]])\n",
    "nat_y = np.array([1, 2, 3])\n",
    "n=3\n",
    "p=1\n",
    "S=Kriging(name='kriging', seed=124, n_theta=n, n_p=p, optim_p=True, noise=True)\n",
    "S.initialize_variables(nat_X, nat_y)\n",
    "S.set_variable_types()\n",
    "S.set_theta_values()\n",
    "S.initialize_matrices()\n",
    "# if var(self.nat_y) is > 0, then self.pen_val = self.n * log(var(self.nat_y)) + 1e4\n",
    "# else self.pen_val = self.n * var(self.nat_y) + 1e4\n",
    "assert S.pen_val == nat_X.shape[0] * log(var(S.nat_y)) + 1e4\n",
    "assert S.Psi.shape == (n, n)\n",
    "#\n",
    "# use a zero variance, then the penalty should be computed without log()\n",
    "nat_y = np.array([1, 1, 1])\n",
    "n=3\n",
    "p=1\n",
    "S=Kriging(name='kriging', seed=124, n_theta=n, n_p=p, optim_p=True, noise=True)\n",
    "S.initialize_variables(nat_X, nat_y)\n",
    "S.set_variable_types()\n",
    "S.set_theta_values()\n",
    "S.initialize_matrices()\n",
    "# if var(self.nat_y) is > 0, then self.pen_val = self.n * log(var(self.nat_y)) + 1e4\n",
    "# else self.pen_val = self.n * var(self.nat_y) + 1e4\n",
    "assert S.pen_val == nat_X.shape[0] * (var(S.nat_y)) + 1e4\n",
    "assert S.Psi.shape == (n, n)\n"
   ]
  },
  {
   "cell_type": "markdown",
   "metadata": {},
   "source": [
    "## fun_likelihood"
   ]
  },
  {
   "cell_type": "code",
   "execution_count": null,
   "metadata": {},
   "outputs": [],
   "source": [
    "from spotPython.build.kriging import Kriging\n",
    "import numpy as np\n",
    "nat_X = np.array([[0], [1]])\n",
    "nat_y = np.array([0, 1])\n",
    "n=1\n",
    "p=1\n",
    "S=Kriging(name='kriging', seed=124, n_theta=n, n_p=p, optim_p=True, noise=False)\n",
    "S.initialize_variables(nat_X, nat_y)\n",
    "S.set_variable_types()\n",
    "print(S.nat_X)\n",
    "print(S.nat_y)\n",
    "S.set_theta_values()\n",
    "print(f\"S.theta: {S.theta}\")\n",
    "S.initialize_matrices()\n",
    "S.set_de_bounds()\n",
    "new_theta_p_Lambda = S.optimize_model()\n",
    "S.extract_from_bounds(new_theta_p_Lambda)\n",
    "print(f\"S.theta: {S.theta}\")\n",
    "S.build_Psi()\n",
    "print(f\"S.Psi: {S.Psi}\")\n",
    "S.build_U()\n",
    "print(f\"S.U:{S.U}\")\n",
    "S.likelihood()\n",
    "# assert S.negLnLike < 0\n",
    "S.negLnLike"
   ]
  },
  {
   "cell_type": "code",
   "execution_count": null,
   "metadata": {},
   "outputs": [],
   "source": [
    "from spotPython.build.kriging import Kriging\n",
    "import numpy as np\n",
    "nat_X = np.array([[0,1], [1, 0]])\n",
    "nat_y = np.array([0, 10])\n",
    "n=2\n",
    "p=1\n",
    "S=Kriging(name='kriging', seed=124, n_theta=n, n_p=p, optim_p=True, noise=False)\n",
    "S.initialize_variables(nat_X, nat_y)\n",
    "S.set_variable_types()\n",
    "print(S.nat_X)\n",
    "print(S.nat_y)\n",
    "S.set_theta_values()\n",
    "print(f\"S.theta: {S.theta}\")\n",
    "S.initialize_matrices()\n",
    "print(f\"S.mu: {S.mu}\")\n",
    "S.set_de_bounds()\n",
    "new_theta_p_Lambda = S.optimize_model()\n",
    "print(f\"S.mu: {S.mu}\")\n",
    "S.extract_from_bounds(new_theta_p_Lambda)\n",
    "print(f\"S.theta: {S.theta}\")\n",
    "S.build_Psi()\n",
    "print(f\"S.Psi: {S.Psi}\")\n",
    "S.build_U()\n",
    "print(f\"S.U:{S.U}\")\n",
    "print(f\"S.mu: {S.mu}\")\n",
    "S.likelihood()\n",
    "print(f\"S.mu: {S.mu}\")\n",
    "# assert S.negLnLike < 0\n",
    "S.negLnLike"
   ]
  },
  {
   "cell_type": "markdown",
   "metadata": {},
   "source": [
    "## Kriging Example 1D"
   ]
  },
  {
   "cell_type": "code",
   "execution_count": null,
   "metadata": {},
   "outputs": [],
   "source": [
    "from spotPython.build.kriging import Kriging\n",
    "import numpy as np\n",
    "nat_X = np.array([[1], [2]])\n",
    "nat_y = np.array([5, 10])\n",
    "n=2\n",
    "p=1\n",
    "S=Kriging(name='kriging', seed=124, n_theta=n, n_p=p, optim_p=True, noise=False, theta_init_zero=True)\n",
    "S.initialize_variables(nat_X, nat_y)\n",
    "S.set_variable_types()\n",
    "S.set_theta_values()\n",
    "S.initialize_matrices()\n",
    "S.build_Psi()\n",
    "S.build_U()\n",
    "S.likelihood()\n",
    "# assert S.mu is close to 7.5 with a tolerance of 1e-6\n",
    "assert np.allclose(S.mu, 7.5, atol=1e-6)\n",
    "E = np.exp(1)\n",
    "sigma2 = E/(E**2 -1) * (25/4 + 25/4*E)\n",
    "# asssert S.SigmaSqr is close to sigma2 with a tolerance of 1e-6\n",
    "assert np.allclose(S.SigmaSqr, sigma2, atol=1e-6)\n"
   ]
  },
  {
   "cell_type": "markdown",
   "metadata": {},
   "source": [
    "## Test spot initialize_design()"
   ]
  },
  {
   "cell_type": "code",
   "execution_count": null,
   "metadata": {},
   "outputs": [],
   "source": [
    "import numpy as np\n",
    "from math import inf\n",
    "from spotPython.fun.objectivefunctions import analytical\n",
    "from spotPython.spot import spot\n",
    "# number of initial points:\n",
    "ni = 3\n",
    "# additional start point\n",
    "X_start = np.array([[10, 10]])\n",
    "# number of points\n",
    "n = 10\n",
    "\n",
    "fun = analytical().fun_sphere\n",
    "lower = np.array([1, 1])\n",
    "upper = np.array([10, 100])\n",
    "design_control={\"init_size\": ni}\n",
    "\n",
    "spot_1 = spot.Spot(fun=fun,\n",
    "            lower = lower,\n",
    "            upper= upper,\n",
    "            fun_evals = n,\n",
    "            show_progress=True,\n",
    "            design_control=design_control,)\n",
    "spot_1.initialize_design(X_start=X_start)\n",
    "spot_1.X"
   ]
  },
  {
   "cell_type": "markdown",
   "metadata": {},
   "source": [
    "## test build_psi_vec()"
   ]
  },
  {
   "cell_type": "code",
   "execution_count": null,
   "metadata": {},
   "outputs": [],
   "source": [
    "import numpy as np\n",
    "from spotPython.build.kriging import Kriging\n",
    "\n",
    "X_train = np.array([[1., 2.],\n",
    "                    [2., 4.],\n",
    "                    [3., 6.]])\n",
    "y_train = np.array([1., 2., 3.])\n",
    "\n",
    "S = Kriging(name='kriging',\n",
    "            seed=123,\n",
    "            log_level=50,\n",
    "            n_theta=1,\n",
    "            noise=False,\n",
    "            cod_type=\"norm\")\n",
    "S.fit(X_train, y_train)\n",
    "\n",
    "# force theta to simple values:\n",
    "S.theta = np.array([0.0])\n",
    "nat_X = np.array([1., 0.])\n",
    "S.psi = np.zeros((S.n, 1))\n",
    "S.build_psi_vec(nat_X)\n",
    "res = np.array([[np.exp(-4)],\n",
    "    [np.exp(-17)],\n",
    "    [np.exp(-40)]])\n",
    "\n",
    "# assert np.array_equal(S.psi, res)\n",
    "\n",
    "S.psi, res\n"
   ]
  },
  {
   "cell_type": "markdown",
   "metadata": {},
   "source": [
    "## spot: test update_ranges():"
   ]
  },
  {
   "cell_type": "code",
   "execution_count": null,
   "metadata": {},
   "outputs": [],
   "source": [
    "import numpy as np\n",
    "from math import inf\n",
    "from spotPython.fun.objectivefunctions import analytical\n",
    "from spotPython.spot import spot\n",
    "# number of initial points:\n",
    "ni = 2\n",
    "# additional start point\n",
    "X_start = np.array([[10, 10]])\n",
    "# number of points\n",
    "n = 10\n",
    "\n",
    "fun = analytical().fun_sphere\n",
    "lower = np.array([1, 1])\n",
    "upper = np.array([10, 100])\n",
    "design_control={\"init_size\": ni}\n",
    "\n",
    "spot_1 = spot.Spot(fun=fun,\n",
    "            lower = lower,\n",
    "            upper= upper,\n",
    "            fun_evals = n,\n",
    "            show_progress=True,\n",
    "            var_type=['int', 'int'],\n",
    "            design_control=design_control,)\n",
    "spot_1.initialize_design(X_start=X_start)\n",
    "spot_1. update_stats()\n",
    "print(f\"spot_1.X: {spot_1.X}\")\n",
    "print(f\"spot_1.lower: {spot_1.lower}\")\n",
    "print(f\"spot_1.upper: {spot_1.upper}\")\n",
    "# spot_1.X has entries like:\n",
    "# [\n",
    "#  [10, 10]\n",
    "#  [ 7, 97]\n",
    "#  [ 5, 41]\n",
    "# ]\n",
    "# spot_1.range_X has entries like:\n",
    "# [\n",
    "#  [ 5, 10] # min values for all dimensions (lower)\n",
    "#  [10, 97] # max values for all dimensions (upper)\n",
    "# ]\n",
    "# check if the first entries in spot_1.X values are in the interval spot_1.range_X[0]\n",
    "assert np.all(spot_1.X[:, 0] >= spot_1.lower[0])\n",
    "assert np.all(spot_1.X[:, 0] <= spot_1.upper[0])\n",
    "# check if the second entries in spot_1.X values are in the interval spot_1.range_X[1]\n",
    "assert np.all(spot_1.X[:, 1] >= spot_1.lower[1])\n",
    "assert np.all(spot_1.X[:, 1] <= spot_1.upper[1])"
   ]
  },
  {
   "cell_type": "markdown",
   "metadata": {},
   "source": [
    "# test spot plot()"
   ]
  },
  {
   "cell_type": "code",
   "execution_count": null,
   "metadata": {},
   "outputs": [],
   "source": [
    "import numpy as np\n",
    "from spotPython.fun.objectivefunctions import analytical\n",
    "from spotPython.spot import spot\n",
    "# number of initial points:\n",
    "ni = 5\n",
    "# additional start point\n",
    "X_start = np.array([10])\n",
    "# number of points\n",
    "n = 7\n",
    "\n",
    "fun = analytical().fun_sphere\n",
    "lower = np.array([-1])\n",
    "upper = np.array([10])\n",
    "design_control={\"init_size\": ni}\n",
    "\n",
    "spot_1 = spot.Spot(fun=fun,\n",
    "            lower = lower,\n",
    "            upper= upper,\n",
    "            cod_type=\"norm\",\n",
    "            fun_evals = n,\n",
    "            show_progress=True,\n",
    "            var_type=['num'],\n",
    "            design_control=design_control,)\n",
    "spot_1.run()\n",
    "np.min([np.min(spot_1.y), np.min(spot_1.y)])\n",
    "#spot_1.plot_model(y_min=0, y_max=100)\n",
    "#spot_1.get_spot_attributes_as_df()\n",
    "print(f\"spot_1.X: {spot_1.X}\")\n",
    "print(f\"spot_1.y: {spot_1.y}\")\n",
    "\n",
    "\n"
   ]
  },
  {
   "cell_type": "markdown",
   "metadata": {},
   "source": [
    "## spot test_evaluate_new_x"
   ]
  },
  {
   "cell_type": "code",
   "execution_count": null,
   "metadata": {},
   "outputs": [],
   "source": [
    "import numpy as np\n",
    "from spotPython.spot import spot\n",
    "from spotPython.fun.objectivefunctions import analytical\n",
    "\n",
    "nn = 3\n",
    "fun_sphere = analytical().fun_sphere\n",
    "spot_1 = spot.Spot(\n",
    "    fun=fun_sphere,\n",
    "    lower=np.array([-1, -1]),\n",
    "    upper=np.array([1, 1]),\n",
    "    n_points=nn,\n",
    ")\n",
    "\n",
    "# (S-2) Initial Design:\n",
    "spot_1.X = spot_1.design.scipy_lhd(\n",
    "    spot_1.design_control[\"init_size\"], lower=spot_1.lower, upper=spot_1.upper\n",
    ")\n",
    "print(spot_1.X)\n",
    "\n",
    "# (S-3): Eval initial design:\n",
    "spot_1.y = spot_1.fun(spot_1.X)\n",
    "print(spot_1.y)\n",
    "\n",
    "spot_1.fit_surrogate()\n",
    "X0 = spot_1.suggest_new_X()\n",
    "X0.size\n",
    "assert X0.size == spot_1.n_points * spot_1.k\n",
    "assert X0.ndim == 2\n",
    "assert X0.shape[0] == nn\n",
    "assert X0.shape[1] == 2\n"
   ]
  },
  {
   "cell_type": "markdown",
   "metadata": {},
   "source": [
    "# spot run()"
   ]
  },
  {
   "cell_type": "code",
   "execution_count": 23,
   "metadata": {},
   "outputs": [
    {
     "name": "stdout",
     "output_type": "stream",
     "text": [
      "spotPython tuning: 4.128863312623387 [########--] 75.00% \n",
      "spotPython tuning: 0.0 [#########-] 87.50% \n",
      "spotPython tuning: 0.0 [##########] 100.00% Done...\n",
      "\n"
     ]
    },
    {
     "data": {
      "image/png": "[encoded data removed]",
      "text/plain": [
       "<Figure size 900x600 with 1 Axes>"
      ]
     },
     "metadata": {},
     "output_type": "display_data"
    },
    {
     "data": {
      "image/png": "[encoded data removed]",
      "text/plain": [
       "<Figure size 900x600 with 3 Axes>"
      ]
     },
     "metadata": {},
     "output_type": "display_data"
    },
    {
     "data": {
      "image/png": "[encoded data removed]",
      "text/plain": [
       "<Figure size 640x480 with 1 Axes>"
      ]
     },
     "metadata": {},
     "output_type": "display_data"
    }
   ],
   "source": [
    "import numpy as np\n",
    "from math import inf\n",
    "from spotPython.spot import spot\n",
    "def objective_function(X, fun_control=None):\n",
    "    if not isinstance(X, np.ndarray):\n",
    "        X = np.array(X)\n",
    "    if X.shape[1] != 2:\n",
    "        raise Exception\n",
    "    x0 = X[:, 0]\n",
    "    x1 = X[:, 1]\n",
    "    y = x0**2 + 10*x1**2\n",
    "    return y\n",
    "lower = np.array([0, 0])\n",
    "upper = np.array([10, 10])\n",
    "spot = spot.Spot(fun=objective_function,\n",
    "            lower=lower,\n",
    "            upper=upper,\n",
    "            fun_evals=8,\n",
    "            fun_repeats=1,\n",
    "            max_time=inf,\n",
    "            noise=False,\n",
    "            tolerance_x=0,\n",
    "            ocba_delta=0,\n",
    "            var_type=[\"num\", \"num\"],\n",
    "            infill_criterion=\"ei\",\n",
    "            n_points=1,\n",
    "            seed=123,\n",
    "            log_level=20,\n",
    "            show_models=False,\n",
    "            show_progress=True,\n",
    "            design_control={\"init_size\": 5, \"repeats\": 1},\n",
    "            surrogate_control={\"model_fun_evals\": 1000,\n",
    "                               \"min_theta\": -3.,\n",
    "                               \"max_theta\": 3.,\n",
    "                               \"n_theta\": 2,\n",
    "                               \"theta_init_zero\": True,\n",
    "                               \"n_p\": 1,\n",
    "                               \"optim_p\": False,\n",
    "                               \"var_type\": [\"num\", \"num\"],\n",
    "                               \"seed\": 124,},\n",
    "            optimizer_control={\"max_iter\": 1000})\n",
    "spot.run()\n",
    "spot.plot_progress()\n",
    "spot.plot_contour(i=0, j=1)\n",
    "spot.plot_importance()"
   ]
  },
  {
   "cell_type": "code",
   "execution_count": null,
   "metadata": {},
   "outputs": [],
   "source": []
  }
 ],
 "metadata": {
  "kernelspec": {
   "display_name": "spotCondaEnv",
   "language": "python",
   "name": "python3"
  },
  "language_info": {
   "codemirror_mode": {
    "name": "ipython",
    "version": 3
   },
   "file_extension": ".py",
   "mimetype": "text/x-python",
   "name": "python",
   "nbconvert_exporter": "python",
   "pygments_lexer": "ipython3",
   "version": "3.11.6"
  }
 },
 "nbformat": 4,
 "nbformat_minor": 2
}
