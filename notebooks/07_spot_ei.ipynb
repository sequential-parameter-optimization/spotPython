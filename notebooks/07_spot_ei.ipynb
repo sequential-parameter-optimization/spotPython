{
 "cells": [
  {
   "cell_type": "raw",
   "metadata": {},
   "source": [
    "---\n",
    "title: \"Introduction to SPOT: Multi-dim Functions\"\n",
    "format: html\n",
    "---"
   ]
  },
  {
   "attachments": {},
   "cell_type": "markdown",
   "metadata": {},
   "source": [
    "# Introduction to Sequential Parameter Optimization\n",
    "## Expected Improvement"
   ]
  },
  {
   "attachments": {},
   "cell_type": "markdown",
   "metadata": {},
   "source": [
    "## 1 Example: `Spot` and the 1-dim Sphere Function"
   ]
  },
  {
   "cell_type": "code",
   "execution_count": null,
   "metadata": {},
   "outputs": [],
   "source": [
    "import numpy as np\n",
    "from math import inf\n",
    "from spotPython.fun.objectivefunctions import analytical\n",
    "from spotPython.spot import spot\n",
    "from scipy.optimize import shgo\n",
    "from scipy.optimize import direct\n",
    "from scipy.optimize import differential_evolution\n",
    "import matplotlib.pyplot as plt"
   ]
  },
  {
   "attachments": {},
   "cell_type": "markdown",
   "metadata": {},
   "source": [
    "### The Objective Function: 1-dim Sphere\n",
    "\n",
    "* The `spotPython` package provides several classes of objective functions.\n",
    "* We will use an analytical objective function, i.e., a function that can be described by a (closed) formula:\n",
    "   $$f(x) = x^2 $$"
   ]
  },
  {
   "cell_type": "code",
   "execution_count": null,
   "metadata": {},
   "outputs": [],
   "source": [
    "fun = analytical().fun_sphere"
   ]
  },
  {
   "cell_type": "code",
   "execution_count": null,
   "metadata": {},
   "outputs": [],
   "source": [
    "fun = analytical().fun_sphere\n",
    "fun_control = {\"sigma\": 0,\n",
    "               \"seed\": 123}"
   ]
  },
  {
   "attachments": {},
   "cell_type": "markdown",
   "metadata": {},
   "source": [
    "* The size of the `lower` bound vector determines the problem dimension.\n",
    "* Here we will use `np.array([-1])`, i.e., a one-dim function."
   ]
  },
  {
   "cell_type": "code",
   "execution_count": null,
   "metadata": {},
   "outputs": [],
   "source": [
    "spot_1 = spot.Spot(fun=fun,\n",
    "                   lower = np.array([-1]),\n",
    "                   upper = np.array([1]))\n",
    "\n",
    "spot_1.run()"
   ]
  },
  {
   "attachments": {},
   "cell_type": "markdown",
   "metadata": {},
   "source": [
    "### Results"
   ]
  },
  {
   "cell_type": "code",
   "execution_count": null,
   "metadata": {},
   "outputs": [],
   "source": [
    "spot_1.print_results()"
   ]
  },
  {
   "cell_type": "code",
   "execution_count": null,
   "metadata": {},
   "outputs": [],
   "source": [
    "spot_1.plot_progress(log_y=True)"
   ]
  },
  {
   "attachments": {},
   "cell_type": "markdown",
   "metadata": {},
   "source": [
    "## 2 Same, but with EI as infill_criterion"
   ]
  },
  {
   "cell_type": "code",
   "execution_count": null,
   "metadata": {},
   "outputs": [],
   "source": [
    "spot_1_ei = spot.Spot(fun=fun,\n",
    "                   lower = np.array([-1]),\n",
    "                   upper = np.array([1]),\n",
    "                   infill_criterion = \"ei\")\n",
    "spot_1_ei.run()"
   ]
  },
  {
   "cell_type": "code",
   "execution_count": null,
   "metadata": {},
   "outputs": [],
   "source": [
    "spot_1_ei.plot_progress(log_y=True)"
   ]
  },
  {
   "cell_type": "code",
   "execution_count": null,
   "metadata": {},
   "outputs": [],
   "source": [
    "spot_1_ei.print_results()"
   ]
  },
  {
   "attachments": {},
   "cell_type": "markdown",
   "metadata": {},
   "source": [
    "# Non-isotropic Kriging"
   ]
  },
  {
   "cell_type": "code",
   "execution_count": null,
   "metadata": {},
   "outputs": [],
   "source": [
    "spot_2_ei_noniso = spot.Spot(fun=fun,\n",
    "                   lower = np.array([-1, -1]),\n",
    "                   upper = np.array([1, 1]),\n",
    "                   fun_evals = 20,\n",
    "                   fun_repeats = 1,\n",
    "                   max_time = inf,\n",
    "                   noise = False,\n",
    "                   tolerance_x = np.sqrt(np.spacing(1)),\n",
    "                   var_type=[\"num\"],\n",
    "                   infill_criterion = \"ei\",\n",
    "                   n_points = 1,\n",
    "                   seed=123,\n",
    "                   log_level = 50,\n",
    "                   show_models=True,\n",
    "                   fun_control = fun_control,\n",
    "                   design_control={\"init_size\": 10,\n",
    "                                   \"repeats\": 1},\n",
    "                   surrogate_control={\"noise\": False,\n",
    "                                      \"cod_type\": \"norm\",\n",
    "                                      \"min_theta\": -4,\n",
    "                                      \"max_theta\": 3,\n",
    "                                      \"n_theta\": 2,\n",
    "                                      \"model_optimizer\": differential_evolution,\n",
    "                                      \"model_fun_evals\": 1000,\n",
    "                                      })\n",
    "spot_2_ei_noniso.run()"
   ]
  },
  {
   "cell_type": "code",
   "execution_count": null,
   "metadata": {},
   "outputs": [],
   "source": [
    "spot_2_ei_noniso.plot_progress(log_y=True)"
   ]
  },
  {
   "cell_type": "code",
   "execution_count": null,
   "metadata": {},
   "outputs": [],
   "source": [
    "spot_2_ei_noniso.print_results()"
   ]
  },
  {
   "cell_type": "code",
   "execution_count": null,
   "metadata": {},
   "outputs": [],
   "source": [
    "spot_2_ei_noniso.surrogate.plot()"
   ]
  },
  {
   "attachments": {},
   "cell_type": "markdown",
   "metadata": {},
   "source": [
    "# Using `sklearn` Surrogates"
   ]
  },
  {
   "cell_type": "markdown",
   "metadata": {},
   "source": [
    "# The spot Loop"
   ]
  },
  {
   "cell_type": "markdown",
   "metadata": {},
   "source": [
    "The `spot` loop consists of the following steps:\n",
    "\n",
    "1. Init: Build initial design $X$\n",
    "2. Evaluate initial design on real objective $f$: $y = f(X)$\n",
    "3. Build surrogate: $S = S(X,y)$\n",
    "4. Optimize on surrogate: $X_0 =  \\text{optimize}(S)$\n",
    "5. Evaluate on real objective: $y_0 = f(X_0)$\n",
    "6. Impute (Infill) new points: $X = X \\cup X_0$, $y = y \\cup y_0$.\n",
    "7. Got 3."
   ]
  },
  {
   "cell_type": "markdown",
   "metadata": {},
   "source": [
    "The `spot` loop is implemented in `R` as follows:"
   ]
  },
  {
   "cell_type": "markdown",
   "metadata": {},
   "source": [
    "![Visual representation of the model based search with SPOT. Taken from: Bartz-Beielstein, T., and Zaefferer, M. Hyperparameter tuning approaches. In Hyperparameter Tuning for Machine and Deep Learning with R - A Practical Guide, E. Bartz, T. Bartz-Beielstein, M. Zaefferer, and O. Mersmann, Eds. Springer, 2022, ch. 4, pp. 67–114. ](figures/spotModel.png)"
   ]
  },
  {
   "cell_type": "markdown",
   "metadata": {},
   "source": [
    "# spot: The Initial Model"
   ]
  },
  {
   "cell_type": "markdown",
   "metadata": {},
   "source": [
    "#### Example: Modifying the initial design size\n",
    "\n",
    "This is the \"Example: Modifying the initial design size\"  from Chapter 4.5.1 in [bart21i]."
   ]
  },
  {
   "cell_type": "code",
   "execution_count": null,
   "metadata": {},
   "outputs": [],
   "source": [
    "spot_ei = spot.Spot(fun=fun,\n",
    "               lower = np.array([-1,-1]),\n",
    "               upper= np.array([1,1]),\n",
    "               design_control={\"init_size\": 5})\n",
    "spot_ei.run()"
   ]
  },
  {
   "cell_type": "code",
   "execution_count": null,
   "metadata": {},
   "outputs": [],
   "source": [
    "spot_ei.plot_progress()"
   ]
  },
  {
   "cell_type": "code",
   "execution_count": null,
   "metadata": {},
   "outputs": [],
   "source": [
    "np.min(spot_1.y), np.min(spot_ei.y)"
   ]
  },
  {
   "cell_type": "markdown",
   "metadata": {},
   "source": [
    "## 1. Init: Build Initial Design"
   ]
  },
  {
   "cell_type": "code",
   "execution_count": null,
   "metadata": {},
   "outputs": [],
   "source": [
    "from spotPython.design.spacefilling import spacefilling\n",
    "from spotPython.build.kriging import Kriging\n",
    "from spotPython.fun.objectivefunctions import analytical\n",
    "gen = spacefilling(2)\n",
    "rng = np.random.RandomState(1)\n",
    "lower = np.array([-5,-0])\n",
    "upper = np.array([10,15])\n",
    "fun = analytical().fun_branin\n",
    "fun_control = {\"sigma\": 0,\n",
    "               \"seed\": 123}\n",
    "\n",
    "X = gen.scipy_lhd(10, lower=lower, upper = upper)\n",
    "print(X)\n",
    "y = fun(X, fun_control=fun_control)\n",
    "print(y)"
   ]
  },
  {
   "cell_type": "code",
   "execution_count": null,
   "metadata": {},
   "outputs": [],
   "source": [
    "S = Kriging(name='kriging',  seed=123)\n",
    "S.fit(X, y)\n",
    "S.plot()\n"
   ]
  },
  {
   "cell_type": "code",
   "execution_count": null,
   "metadata": {},
   "outputs": [],
   "source": [
    "gen = spacefilling(2, seed=123)\n",
    "X0 = gen.scipy_lhd(3)\n",
    "gen = spacefilling(2, seed=345)\n",
    "X1 = gen.scipy_lhd(3)\n",
    "X2 = gen.scipy_lhd(3)\n",
    "gen = spacefilling(2, seed=123)\n",
    "X3 = gen.scipy_lhd(3)\n",
    "X0, X1, X2, X3"
   ]
  },
  {
   "cell_type": "markdown",
   "metadata": {},
   "source": [
    "## 2. Evaluate "
   ]
  },
  {
   "cell_type": "markdown",
   "metadata": {},
   "source": [
    "## 3. Build Surrogate"
   ]
  },
  {
   "cell_type": "markdown",
   "metadata": {},
   "source": [
    "### A Simple Predictor\n",
    "\n",
    "The code below shows how to use a simple model for prediction.\n",
    "\n",
    "* Assume that only two (very costly) measurements are available:\n",
    "  \n",
    "  1. f(0) = 0.5\n",
    "  2. f(2) = 2.5\n",
    "\n",
    "* We are interested in the value at $x_0 = 1$, i.e., $f(x_0 = 1)$, but cannot run an additional, third experiment."
   ]
  },
  {
   "cell_type": "code",
   "execution_count": null,
   "metadata": {},
   "outputs": [],
   "source": [
    "from sklearn import linear_model\n",
    "X = np.array([[0], [2]])\n",
    "y = np.array([0.5, 2.5])\n",
    "S_lm = linear_model.LinearRegression()\n",
    "S_lm = S_lm.fit(X, y)\n",
    "X0 = np.array([[1]])\n",
    "y0 = S_lm.predict(X0)\n",
    "print(y0)\n"
   ]
  },
  {
   "cell_type": "markdown",
   "metadata": {},
   "source": [
    "* Central Idea:\n",
    "  * Evaluation of the surrogate model `S_lm` is much cheaper (or / and much faster) than running the real-world experiment $f$."
   ]
  },
  {
   "cell_type": "markdown",
   "metadata": {},
   "source": [
    "### Gaussian Processes regression: basic introductory example\n",
    "\n",
    "* Example from [scikit-learn](https://scikit-learn.org/stable/auto_examples/gaussian_process/plot_gpr_noisy_targets.html)"
   ]
  },
  {
   "cell_type": "markdown",
   "metadata": {},
   "source": [
    "* After fitting our model, we see that the hyperparameters of the kernel have been optimized. Now, we will use our kernel to compute the mean prediction of the full dataset and plot the 95% confidence interval."
   ]
  },
  {
   "cell_type": "code",
   "execution_count": null,
   "metadata": {},
   "outputs": [],
   "source": [
    "import numpy as np\n",
    "import matplotlib.pyplot as plt\n",
    "import math as m\n",
    "from sklearn.gaussian_process import GaussianProcessRegressor\n",
    "from sklearn.gaussian_process.kernels import RBF\n",
    "\n",
    "X = np.linspace(start=0, stop=10, num=1_000).reshape(-1, 1)\n",
    "y = np.squeeze(X * np.sin(X))\n",
    "rng = np.random.RandomState(1)\n",
    "training_indices = rng.choice(np.arange(y.size), size=6, replace=False)\n",
    "X_train, y_train = X[training_indices], y[training_indices]\n",
    "\n",
    "kernel = 1 * RBF(length_scale=1.0, length_scale_bounds=(1e-2, 1e2))\n",
    "gaussian_process = GaussianProcessRegressor(kernel=kernel, n_restarts_optimizer=9)\n",
    "gaussian_process.fit(X_train, y_train)\n",
    "gaussian_process.kernel_\n",
    "\n",
    "mean_prediction, std_prediction = gaussian_process.predict(X, return_std=True)\n",
    "\n",
    "plt.plot(X, y, label=r\"$f(x) = x \\sin(x)$\", linestyle=\"dotted\")\n",
    "plt.scatter(X_train, y_train, label=\"Observations\")\n",
    "plt.plot(X, mean_prediction, label=\"Mean prediction\")\n",
    "plt.fill_between(\n",
    "    X.ravel(),\n",
    "    mean_prediction - 1.96 * std_prediction,\n",
    "    mean_prediction + 1.96 * std_prediction,\n",
    "    alpha=0.5,\n",
    "    label=r\"95% confidence interval\",\n",
    ")\n",
    "plt.legend()\n",
    "plt.xlabel(\"$x$\")\n",
    "plt.ylabel(\"$f(x)$\")\n",
    "_ = plt.title(\"sk-learn Version: Gaussian process regression on noise-free dataset\")"
   ]
  },
  {
   "cell_type": "code",
   "execution_count": null,
   "metadata": {},
   "outputs": [],
   "source": [
    "from spotPython.build.kriging import Kriging\n",
    "import numpy as np\n",
    "import matplotlib.pyplot as plt\n",
    "rng = np.random.RandomState(1)\n",
    "X = np.linspace(start=0, stop=10, num=1_000).reshape(-1, 1)\n",
    "y = np.squeeze(X * np.sin(X))\n",
    "training_indices = rng.choice(np.arange(y.size), size=6, replace=False)\n",
    "X_train, y_train = X[training_indices], y[training_indices]\n",
    "\n",
    "\n",
    "S = Kriging(name='kriging',  seed=123, log_level=50, cod_type=\"norm\")\n",
    "S.fit(X_train, y_train)\n",
    "\n",
    "mean_prediction, std_prediction, ei = S.predict(X, return_val=\"all\")\n",
    "\n",
    "std_prediction\n",
    "\n",
    "plt.plot(X, y, label=r\"$f(x) = x \\sin(x)$\", linestyle=\"dotted\")\n",
    "plt.scatter(X_train, y_train, label=\"Observations\")\n",
    "plt.plot(X, mean_prediction, label=\"Mean prediction\")\n",
    "plt.fill_between(\n",
    "    X.ravel(),\n",
    "    mean_prediction - 1.96 * std_prediction,\n",
    "    mean_prediction + 1.96 * std_prediction,\n",
    "    alpha=0.5,\n",
    "    label=r\"95% confidence interval\",\n",
    ")\n",
    "plt.legend()\n",
    "plt.xlabel(\"$x$\")\n",
    "plt.ylabel(\"$f(x)$\")\n",
    "_ = plt.title(\"spotPython Version: Gaussian process regression on noise-free dataset\")"
   ]
  },
  {
   "cell_type": "markdown",
   "metadata": {},
   "source": [
    "## The Surrogate: Using scikit-learn models\n",
    "\n",
    "* Default is the internal `kriging` surrogate."
   ]
  },
  {
   "cell_type": "code",
   "execution_count": null,
   "metadata": {},
   "outputs": [],
   "source": [
    "S_0 = Kriging(name='kriging', seed=123)"
   ]
  },
  {
   "cell_type": "markdown",
   "metadata": {},
   "source": [
    "* Models from `scikit-learn` can be selected, e.g., Gaussian Process:"
   ]
  },
  {
   "cell_type": "code",
   "execution_count": null,
   "metadata": {},
   "outputs": [],
   "source": [
    "# Needed for the sklearn surrogates:\n",
    "from sklearn.gaussian_process import GaussianProcessRegressor\n",
    "from sklearn.gaussian_process.kernels import RBF\n",
    "from sklearn.tree import DecisionTreeRegressor\n",
    "from sklearn.ensemble import RandomForestRegressor\n",
    "from sklearn import linear_model\n",
    "from sklearn import tree\n",
    "import pandas as pd"
   ]
  },
  {
   "cell_type": "code",
   "execution_count": null,
   "metadata": {},
   "outputs": [],
   "source": [
    "kernel = 1 * RBF(length_scale=1.0, length_scale_bounds=(1e-2, 1e2))\n",
    "S_GP = GaussianProcessRegressor(kernel=kernel, n_restarts_optimizer=9)"
   ]
  },
  {
   "cell_type": "markdown",
   "metadata": {},
   "source": [
    "* and many more:"
   ]
  },
  {
   "cell_type": "code",
   "execution_count": null,
   "metadata": {},
   "outputs": [],
   "source": [
    "S_Tree = DecisionTreeRegressor(random_state=0)\n",
    "S_LM = linear_model.LinearRegression()\n",
    "S_Ridge = linear_model.Ridge()\n",
    "S_RF = RandomForestRegressor(max_depth=2, random_state=0) \n"
   ]
  },
  {
   "cell_type": "markdown",
   "metadata": {},
   "source": [
    "* The scikit-learn GP model `S_GP` is selected."
   ]
  },
  {
   "cell_type": "code",
   "execution_count": null,
   "metadata": {},
   "outputs": [],
   "source": [
    "S = S_GP\n"
   ]
  },
  {
   "cell_type": "code",
   "execution_count": null,
   "metadata": {},
   "outputs": [],
   "source": [
    "isinstance(S, GaussianProcessRegressor)\n",
    " "
   ]
  },
  {
   "cell_type": "code",
   "execution_count": null,
   "metadata": {},
   "outputs": [],
   "source": [
    "from spotPython.fun.objectivefunctions import analytical\n",
    "fun = analytical().fun_branin\n",
    "lower = np.array([-5,-0])\n",
    "upper = np.array([10,15])\n",
    "design_control={\"init_size\": 5}\n",
    "surrogate_control={\n",
    "            \"infill_criterion\": None,\n",
    "            \"n_points\": 1,\n",
    "        }\n",
    "spot_GP = spot.Spot(fun=fun, lower = lower, upper= upper, surrogate=S, \n",
    "                    fun_evals = 15, noise = False, log_level = 50,\n",
    "                    design_control=design_control,\n",
    "                    surrogate_control=surrogate_control)\n",
    "\n",
    "spot_GP.run()"
   ]
  },
  {
   "cell_type": "code",
   "execution_count": null,
   "metadata": {},
   "outputs": [],
   "source": [
    "spot_GP.y"
   ]
  },
  {
   "cell_type": "code",
   "execution_count": null,
   "metadata": {},
   "outputs": [],
   "source": [
    "spot_GP.plot_progress()"
   ]
  },
  {
   "cell_type": "code",
   "execution_count": null,
   "metadata": {},
   "outputs": [],
   "source": [
    "spot_GP.print_results()"
   ]
  },
  {
   "cell_type": "markdown",
   "metadata": {},
   "source": [
    "## Additional Examples"
   ]
  },
  {
   "cell_type": "code",
   "execution_count": null,
   "metadata": {},
   "outputs": [],
   "source": [
    "# Needed for the sklearn surrogates:\n",
    "from sklearn.gaussian_process import GaussianProcessRegressor\n",
    "from sklearn.gaussian_process.kernels import RBF\n",
    "from sklearn.tree import DecisionTreeRegressor\n",
    "from sklearn.ensemble import RandomForestRegressor\n",
    "from sklearn import linear_model\n",
    "from sklearn import tree\n",
    "import pandas as pd"
   ]
  },
  {
   "cell_type": "code",
   "execution_count": null,
   "metadata": {},
   "outputs": [],
   "source": [
    "kernel = 1 * RBF(length_scale=1.0, length_scale_bounds=(1e-2, 1e2))\n",
    "S_GP = GaussianProcessRegressor(kernel=kernel, n_restarts_optimizer=9)"
   ]
  },
  {
   "cell_type": "code",
   "execution_count": null,
   "metadata": {},
   "outputs": [],
   "source": [
    "from spotPython.build.kriging import Kriging\n",
    "import numpy as np\n",
    "import spotPython\n",
    "from spotPython.fun.objectivefunctions import analytical\n",
    "from spotPython.spot import spot\n",
    "\n",
    "S_K = Kriging(name='kriging',\n",
    "              seed=123,\n",
    "              log_level=50,\n",
    "              infill_criterion = \"y\",\n",
    "              n_theta=1,\n",
    "              noise=False,\n",
    "              cod_type=\"norm\")\n",
    "fun = analytical().fun_sphere\n",
    "lower = np.array([-1,-1])\n",
    "upper = np.array([1,1])\n",
    "\n",
    "design_control={\"init_size\": 10}\n",
    "surrogate_control={\n",
    "            \"n_points\": 1,\n",
    "        }\n",
    "spot_S_K = spot.Spot(fun=fun,\n",
    "                     lower = lower,\n",
    "                     upper= upper,\n",
    "                     surrogate=S_K,\n",
    "                     fun_evals = 25,\n",
    "                     noise = False,\n",
    "                     log_level = 50,\n",
    "                     design_control=design_control,\n",
    "                     surrogate_control=surrogate_control)\n",
    "\n",
    "spot_S_K.run()"
   ]
  },
  {
   "cell_type": "code",
   "execution_count": null,
   "metadata": {},
   "outputs": [],
   "source": [
    "spot_S_K.plot_progress(log_y=True)"
   ]
  },
  {
   "cell_type": "code",
   "execution_count": null,
   "metadata": {},
   "outputs": [],
   "source": [
    "spot_S_K.surrogate.plot()"
   ]
  },
  {
   "cell_type": "code",
   "execution_count": null,
   "metadata": {},
   "outputs": [],
   "source": [
    "spot_S_K.print_results()"
   ]
  },
  {
   "cell_type": "markdown",
   "metadata": {},
   "source": [
    "## 4. Optimize on Surrogate"
   ]
  },
  {
   "cell_type": "markdown",
   "metadata": {},
   "source": [
    "## 5. Evaluate on Real Objective"
   ]
  },
  {
   "cell_type": "markdown",
   "metadata": {},
   "source": [
    "## 6. Impute / Infill new Points"
   ]
  },
  {
   "cell_type": "markdown",
   "metadata": {},
   "source": [
    "# Tests\n"
   ]
  },
  {
   "cell_type": "code",
   "execution_count": null,
   "metadata": {},
   "outputs": [],
   "source": [
    "import numpy as np\n",
    "from spotPython.spot import spot\n",
    "from spotPython.fun.objectivefunctions import analytical\n",
    "\n",
    "fun_sphere = analytical().fun_sphere\n",
    "spot_1 = spot.Spot(\n",
    "    fun=fun_sphere,\n",
    "    lower=np.array([-1, -1]),\n",
    "    upper=np.array([1, 1]),\n",
    "    n_points = 2\n",
    ")\n",
    "\n",
    "# (S-2) Initial Design:\n",
    "spot_1.X = spot_1.design.scipy_lhd(\n",
    "    spot_1.design_control[\"init_size\"], lower=spot_1.lower, upper=spot_1.upper\n",
    ")\n",
    "print(spot_1.X)\n",
    "\n",
    "# (S-3): Eval initial design:\n",
    "spot_1.y = spot_1.fun(spot_1.X)\n",
    "print(spot_1.y)\n",
    "\n",
    "spot_1.surrogate.fit(spot_1.X, spot_1.y)\n",
    "X0 = spot_1.suggest_new_X()\n",
    "print(X0)\n",
    "assert X0.size == spot_1.n_points * spot_1.k"
   ]
  },
  {
   "attachments": {},
   "cell_type": "markdown",
   "metadata": {},
   "source": [
    "# EI: The Famous Schonlau Example"
   ]
  },
  {
   "cell_type": "code",
   "execution_count": null,
   "metadata": {},
   "outputs": [],
   "source": [
    "X_train0 = np.array([1, 2, 3, 4, 12]).reshape(-1,1)\n",
    "X_train = np.linspace(start=0, stop=10, num=5).reshape(-1, 1)"
   ]
  },
  {
   "cell_type": "code",
   "execution_count": null,
   "metadata": {},
   "outputs": [],
   "source": [
    "from spotPython.build.kriging import Kriging\n",
    "import numpy as np\n",
    "import matplotlib.pyplot as plt\n",
    "\n",
    "X_train = np.array([1., 2., 3., 4., 12.]).reshape(-1,1)\n",
    "y_train = np.array([0., -1.75, -2, -0.5, 5.])\n",
    "\n",
    "S = Kriging(name='kriging',  seed=123, log_level=50, n_theta=1, noise=False, cod_type=\"norm\")\n",
    "S.fit(X_train, y_train)\n",
    "\n",
    "X = np.linspace(start=0, stop=13, num=1000).reshape(-1, 1)\n",
    "mean_prediction, std_prediction, ei = S.predict(X, return_val=\"all\")\n",
    "\n",
    "plt.scatter(X_train, y_train, label=\"Observations\")\n",
    "plt.plot(X, mean_prediction, label=\"Mean prediction\")\n",
    "if True:\n",
    "    plt.fill_between(\n",
    "        X.ravel(),\n",
    "        mean_prediction - 2 * std_prediction,\n",
    "        mean_prediction + 2 * std_prediction,\n",
    "        alpha=0.5,\n",
    "        label=r\"95% confidence interval\",\n",
    "    )\n",
    "plt.legend()\n",
    "plt.xlabel(\"$x$\")\n",
    "plt.ylabel(\"$f(x)$\")\n",
    "_ = plt.title(\"Gaussian process regression on noise-free dataset\")"
   ]
  },
  {
   "cell_type": "code",
   "execution_count": null,
   "metadata": {},
   "outputs": [],
   "source": [
    "#plt.plot(X, y, label=r\"$f(x) = x \\sin(x)$\", linestyle=\"dotted\")\n",
    "# plt.scatter(X_train, y_train, label=\"Observations\")\n",
    "plt.plot(X, -ei, label=\"Expected Improvement\")\n",
    "plt.legend()\n",
    "plt.xlabel(\"$x$\")\n",
    "plt.ylabel(\"$f(x)$\")\n",
    "_ = plt.title(\"Gaussian process regression on noise-free dataset\")"
   ]
  },
  {
   "cell_type": "code",
   "execution_count": null,
   "metadata": {},
   "outputs": [],
   "source": [
    "S.log"
   ]
  },
  {
   "attachments": {},
   "cell_type": "markdown",
   "metadata": {},
   "source": [
    "# EI: The Forrester Example"
   ]
  },
  {
   "cell_type": "code",
   "execution_count": null,
   "metadata": {},
   "outputs": [],
   "source": [
    "from spotPython.build.kriging import Kriging\n",
    "import numpy as np\n",
    "import matplotlib.pyplot as plt\n",
    "import spotPython\n",
    "from spotPython.fun.objectivefunctions import analytical\n",
    "from spotPython.spot import spot\n",
    "\n",
    "# exact x locations are unknown:\n",
    "X_train = np.array([0.0, 0.175, 0.225, 0.3, 0.35, 0.375, 0.5,1]).reshape(-1,1)\n",
    "\n",
    "fun = analytical().fun_forrester\n",
    "fun_control = {\"sigma\": 1.0,\n",
    "               \"seed\": 123}\n",
    "y_train = fun(X_train, fun_control=fun_control)\n",
    "\n",
    "S = Kriging(name='kriging',  seed=123, log_level=50, n_theta=1, noise=False, cod_type=\"norm\")\n",
    "S.fit(X_train, y_train)\n",
    "\n",
    "X = np.linspace(start=0, stop=1, num=1000).reshape(-1, 1)\n",
    "mean_prediction, std_prediction, ei = S.predict(X, return_val=\"all\")\n",
    "\n",
    "plt.scatter(X_train, y_train, label=\"Observations\")\n",
    "plt.plot(X, mean_prediction, label=\"Mean prediction\")\n",
    "if True:\n",
    "    plt.fill_between(\n",
    "        X.ravel(),\n",
    "        mean_prediction - 2 * std_prediction,\n",
    "        mean_prediction + 2 * std_prediction,\n",
    "        alpha=0.5,\n",
    "        label=r\"95% confidence interval\",\n",
    "    )\n",
    "plt.legend()\n",
    "plt.xlabel(\"$x$\")\n",
    "plt.ylabel(\"$f(x)$\")\n",
    "_ = plt.title(\"Gaussian process regression on noise-free dataset\")"
   ]
  },
  {
   "cell_type": "code",
   "execution_count": null,
   "metadata": {},
   "outputs": [],
   "source": [
    "#plt.plot(X, y, label=r\"$f(x) = x \\sin(x)$\", linestyle=\"dotted\")\n",
    "# plt.scatter(X_train, y_train, label=\"Observations\")\n",
    "plt.plot(X, -ei, label=\"Expected Improvement\")\n",
    "plt.legend()\n",
    "plt.xlabel(\"$x$\")\n",
    "plt.ylabel(\"$f(x)$\")\n",
    "_ = plt.title(\"Gaussian process regression on noise-free dataset\")"
   ]
  },
  {
   "cell_type": "markdown",
   "metadata": {},
   "source": [
    "# Noise"
   ]
  },
  {
   "cell_type": "code",
   "execution_count": null,
   "metadata": {},
   "outputs": [],
   "source": [
    "import numpy as np\n",
    "import spotPython\n",
    "from spotPython.fun.objectivefunctions import analytical\n",
    "from spotPython.spot import spot\n",
    "from spotPython.design.spacefilling import spacefilling\n",
    "from spotPython.build.kriging import Kriging\n",
    "import matplotlib.pyplot as plt\n",
    "\n",
    "gen = spacefilling(1)\n",
    "rng = np.random.RandomState(1)\n",
    "lower = np.array([-10])\n",
    "upper = np.array([10])\n",
    "fun = analytical().fun_sphere\n",
    "fun_control = {\"sigma\": 2,\n",
    "               \"seed\": 125}\n",
    "X = gen.scipy_lhd(10, lower=lower, upper = upper)\n",
    "print(X)\n",
    "y = fun(X, fun_control=fun_control)\n",
    "print(y)\n",
    "y.shape\n",
    "X_train = X.reshape(-1,1)\n",
    "y_train = y\n",
    "\n",
    "S = Kriging(name='kriging',\n",
    "            seed=123,\n",
    "            log_level=50,\n",
    "            n_theta=1,\n",
    "            noise=False)\n",
    "S.fit(X_train, y_train)\n",
    "\n",
    "X_axis = np.linspace(start=-13, stop=13, num=1000).reshape(-1, 1)\n",
    "mean_prediction, std_prediction, ei = S.predict(X_axis, return_val=\"all\")\n",
    "\n",
    "#plt.plot(X, y, label=r\"$f(x) = x \\sin(x)$\", linestyle=\"dotted\")\n",
    "plt.scatter(X_train, y_train, label=\"Observations\")\n",
    "#plt.plot(X, ei, label=\"Expected Improvement\")\n",
    "plt.plot(X_axis, mean_prediction, label=\"mue\")\n",
    "plt.legend()\n",
    "plt.xlabel(\"$x$\")\n",
    "plt.ylabel(\"$f(x)$\")\n",
    "_ = plt.title(\"Sphere: Gaussian process regression on noisy dataset\")"
   ]
  },
  {
   "cell_type": "code",
   "execution_count": null,
   "metadata": {},
   "outputs": [],
   "source": [
    "S.log"
   ]
  },
  {
   "cell_type": "code",
   "execution_count": null,
   "metadata": {},
   "outputs": [],
   "source": [
    "S = Kriging(name='kriging',\n",
    "            seed=123,\n",
    "            log_level=50,\n",
    "            n_theta=1,\n",
    "            noise=True)\n",
    "S.fit(X_train, y_train)\n",
    "\n",
    "X_axis = np.linspace(start=-13, stop=13, num=1000).reshape(-1, 1)\n",
    "mean_prediction, std_prediction, ei = S.predict(X_axis, return_val=\"all\")\n",
    "\n",
    "#plt.plot(X, y, label=r\"$f(x) = x \\sin(x)$\", linestyle=\"dotted\")\n",
    "plt.scatter(X_train, y_train, label=\"Observations\")\n",
    "#plt.plot(X, ei, label=\"Expected Improvement\")\n",
    "plt.plot(X_axis, mean_prediction, label=\"mue\")\n",
    "plt.legend()\n",
    "plt.xlabel(\"$x$\")\n",
    "plt.ylabel(\"$f(x)$\")\n",
    "_ = plt.title(\"Sphere: Gaussian process regression with nugget on noisy dataset\")"
   ]
  },
  {
   "cell_type": "code",
   "execution_count": null,
   "metadata": {},
   "outputs": [],
   "source": [
    "S.log"
   ]
  },
  {
   "cell_type": "markdown",
   "metadata": {},
   "source": [
    "## Cubic Function"
   ]
  },
  {
   "cell_type": "code",
   "execution_count": null,
   "metadata": {},
   "outputs": [],
   "source": [
    "import numpy as np\n",
    "import spotPython\n",
    "from spotPython.fun.objectivefunctions import analytical\n",
    "from spotPython.spot import spot\n",
    "from spotPython.design.spacefilling import spacefilling\n",
    "from spotPython.build.kriging import Kriging\n",
    "import matplotlib.pyplot as plt\n",
    "\n",
    "gen = spacefilling(1)\n",
    "rng = np.random.RandomState(1)\n",
    "lower = np.array([-10])\n",
    "upper = np.array([10])\n",
    "fun = analytical().fun_cubed\n",
    "fun_control = {\"sigma\": 10,\n",
    "               \"seed\": 123}\n",
    "\n",
    "X = gen.scipy_lhd(10, lower=lower, upper = upper)\n",
    "print(X)\n",
    "y = fun(X, fun_control=fun_control)\n",
    "print(y)\n",
    "y.shape\n",
    "X_train = X.reshape(-1,1)\n",
    "y_train = y\n",
    "\n",
    "S = Kriging(name='kriging',  seed=123, log_level=50, n_theta=1, noise=False)\n",
    "S.fit(X_train, y_train)\n",
    "\n",
    "X_axis = np.linspace(start=-13, stop=13, num=1000).reshape(-1, 1)\n",
    "mean_prediction, std_prediction, ei = S.predict(X_axis, return_val=\"all\")\n",
    "\n",
    "plt.scatter(X_train, y_train, label=\"Observations\")\n",
    "#plt.plot(X, ei, label=\"Expected Improvement\")\n",
    "plt.plot(X_axis, mean_prediction, label=\"mue\")\n",
    "plt.legend()\n",
    "plt.xlabel(\"$x$\")\n",
    "plt.ylabel(\"$f(x)$\")\n",
    "_ = plt.title(\"Cubed: Gaussian process regression on noisy dataset\")"
   ]
  },
  {
   "cell_type": "code",
   "execution_count": null,
   "metadata": {},
   "outputs": [],
   "source": [
    "S = Kriging(name='kriging',  seed=123, log_level=0, n_theta=1, noise=True)\n",
    "S.fit(X_train, y_train)\n",
    "\n",
    "X_axis = np.linspace(start=-13, stop=13, num=1000).reshape(-1, 1)\n",
    "mean_prediction, std_prediction, ei = S.predict(X_axis, return_val=\"all\")\n",
    "\n",
    "plt.scatter(X_train, y_train, label=\"Observations\")\n",
    "#plt.plot(X, ei, label=\"Expected Improvement\")\n",
    "plt.plot(X_axis, mean_prediction, label=\"mue\")\n",
    "plt.legend()\n",
    "plt.xlabel(\"$x$\")\n",
    "plt.ylabel(\"$f(x)$\")\n",
    "_ = plt.title(\"Cubed: Gaussian process with nugget regression on noisy dataset\")"
   ]
  },
  {
   "cell_type": "code",
   "execution_count": null,
   "metadata": {},
   "outputs": [],
   "source": [
    "import numpy as np\n",
    "import spotPython\n",
    "from spotPython.fun.objectivefunctions import analytical\n",
    "from spotPython.spot import spot\n",
    "from spotPython.design.spacefilling import spacefilling\n",
    "from spotPython.build.kriging import Kriging\n",
    "import matplotlib.pyplot as plt\n",
    "\n",
    "gen = spacefilling(1)\n",
    "rng = np.random.RandomState(1)\n",
    "lower = np.array([-10])\n",
    "upper = np.array([10])\n",
    "fun = analytical().fun_runge\n",
    "fun_control = {\"sigma\": 0.25,\n",
    "               \"seed\": 123}\n",
    "\n",
    "X = gen.scipy_lhd(10, lower=lower, upper = upper)\n",
    "print(X)\n",
    "y = fun(X, fun_control=fun_control)\n",
    "print(y)\n",
    "y.shape\n",
    "X_train = X.reshape(-1,1)\n",
    "y_train = y\n",
    "\n",
    "S = Kriging(name='kriging',  seed=123, log_level=50, n_theta=1, noise=False)\n",
    "S.fit(X_train, y_train)\n",
    "\n",
    "X_axis = np.linspace(start=-13, stop=13, num=1000).reshape(-1, 1)\n",
    "mean_prediction, std_prediction, ei = S.predict(X_axis, return_val=\"all\")\n",
    "\n",
    "plt.scatter(X_train, y_train, label=\"Observations\")\n",
    "#plt.plot(X, ei, label=\"Expected Improvement\")\n",
    "plt.plot(X_axis, mean_prediction, label=\"mue\")\n",
    "plt.legend()\n",
    "plt.xlabel(\"$x$\")\n",
    "plt.ylabel(\"$f(x)$\")\n",
    "_ = plt.title(\"Gaussian process regression on noisy dataset\")"
   ]
  },
  {
   "cell_type": "code",
   "execution_count": null,
   "metadata": {},
   "outputs": [],
   "source": [
    "S = Kriging(name='kriging',\n",
    "            seed=123,\n",
    "            log_level=50,\n",
    "            n_theta=1,\n",
    "            noise=True)\n",
    "S.fit(X_train, y_train)\n",
    "\n",
    "X_axis = np.linspace(start=-13, stop=13, num=1000).reshape(-1, 1)\n",
    "mean_prediction, std_prediction, ei = S.predict(X_axis, return_val=\"all\")\n",
    "\n",
    "plt.scatter(X_train, y_train, label=\"Observations\")\n",
    "#plt.plot(X, ei, label=\"Expected Improvement\")\n",
    "plt.plot(X_axis, mean_prediction, label=\"mue\")\n",
    "plt.legend()\n",
    "plt.xlabel(\"$x$\")\n",
    "plt.ylabel(\"$f(x)$\")\n",
    "_ = plt.title(\"Gaussian process regression with nugget on noisy dataset\")"
   ]
  },
  {
   "cell_type": "markdown",
   "metadata": {},
   "source": [
    "# Factors"
   ]
  },
  {
   "cell_type": "code",
   "execution_count": null,
   "metadata": {},
   "outputs": [],
   "source": [
    "[\"num\"] * 3"
   ]
  },
  {
   "cell_type": "code",
   "execution_count": null,
   "metadata": {},
   "outputs": [],
   "source": [
    "from spotPython.design.spacefilling import spacefilling\n",
    "from spotPython.build.kriging import Kriging\n",
    "from spotPython.fun.objectivefunctions import analytical\n",
    "import numpy as np"
   ]
  },
  {
   "cell_type": "code",
   "execution_count": null,
   "metadata": {},
   "outputs": [],
   "source": [
    "gen = spacefilling(2)\n",
    "n = 30\n",
    "rng = np.random.RandomState(1)\n",
    "lower = np.array([-5,-0])\n",
    "upper = np.array([10,15])\n",
    "fun = analytical().fun_branin_factor\n",
    "#fun = analytical(sigma=0).fun_sphere\n",
    "\n",
    "X0 = gen.scipy_lhd(n, lower=lower, upper = upper)\n",
    "X1 = np.random.randint(low=1, high=3, size=(n,))\n",
    "X = np.c_[X0, X1]\n",
    "y = fun(X)\n",
    "S = Kriging(name='kriging',  seed=123, log_level=50, n_theta=3, noise=False, var_type=[\"num\", \"num\", \"num\"])\n",
    "S.fit(X, y)\n",
    "Sf = Kriging(name='kriging',  seed=123, log_level=50, n_theta=3, noise=False, var_type=[\"num\", \"num\", \"factor\"])\n",
    "Sf.fit(X, y)\n",
    "n = 50\n",
    "X0 = gen.scipy_lhd(n, lower=lower, upper = upper)\n",
    "X1 = np.random.randint(low=1, high=3, size=(n,))\n",
    "X = np.c_[X0, X1]\n",
    "y = fun(X)\n",
    "s=np.sum(np.abs(S.predict(X)[0] - y))\n",
    "sf=np.sum(np.abs(Sf.predict(X)[0] - y))\n",
    "sf - s"
   ]
  },
  {
   "cell_type": "code",
   "execution_count": null,
   "metadata": {},
   "outputs": [],
   "source": [
    "vars(S)"
   ]
  },
  {
   "cell_type": "code",
   "execution_count": null,
   "metadata": {},
   "outputs": [],
   "source": [
    "vars(Sf)"
   ]
  },
  {
   "cell_type": "code",
   "execution_count": null,
   "metadata": {},
   "outputs": [],
   "source": []
  }
 ],
 "metadata": {
  "kernelspec": {
   "display_name": "spotCondaEnv",
   "language": "python",
   "name": "python3"
  },
  "language_info": {
   "codemirror_mode": {
    "name": "ipython",
    "version": 3
   },
   "file_extension": ".py",
   "mimetype": "text/x-python",
   "name": "python",
   "nbconvert_exporter": "python",
   "pygments_lexer": "ipython3",
   "version": "3.10.6"
  },
  "orig_nbformat": 4,
  "vscode": {
   "interpreter": {
    "hash": "81c77de872def749acd68d9955e19f0df6803301f4c1f66c3444af66334112ae"
   }
  }
 },
 "nbformat": 4,
 "nbformat_minor": 2
}
