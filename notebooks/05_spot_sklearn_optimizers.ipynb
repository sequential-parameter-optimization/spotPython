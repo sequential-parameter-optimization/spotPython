{
 "cells": [
  {
   "cell_type": "raw",
   "metadata": {},
   "source": [
    "---\n",
    "title: \"SPOT: Using Optimizers on the Surrogate\"\n",
    "format: html\n",
    "---"
   ]
  },
  {
   "attachments": {},
   "cell_type": "markdown",
   "metadata": {},
   "source": [
    "# Sequential Parameter Optimization\n",
    "## Using `scipy` Optimizers"
   ]
  },
  {
   "attachments": {},
   "cell_type": "markdown",
   "metadata": {},
   "source": [
    "* This notebook describes how different optimizers form the `scipy optimize` package can be used on the surrogate.\n",
    "* The optimization algorithms are available from [https://docs.scipy.org/doc/scipy/reference/optimize.html](https://docs.scipy.org/doc/scipy/reference/optimize.html)"
   ]
  },
  {
   "cell_type": "code",
   "execution_count": null,
   "metadata": {},
   "outputs": [],
   "source": [
    "import numpy as np\n",
    "from math import inf\n",
    "from spotPython.fun.objectivefunctions import analytical\n",
    "from spotPython.spot import spot\n",
    "from scipy.optimize import shgo\n",
    "from scipy.optimize import direct\n",
    "from scipy.optimize import differential_evolution\n",
    "from scipy.optimize import dual_annealing\n",
    "from scipy.optimize import basinhopping\n",
    "import matplotlib.pyplot as plt"
   ]
  },
  {
   "attachments": {},
   "cell_type": "markdown",
   "metadata": {},
   "source": [
    "### The Objective Function Branin\n",
    "\n",
    "* The `spotPython` package provides several classes of objective functions.\n",
    "* We will use an analytical objective function, i.e., a function that can be described by a (closed) formula.\n",
    "* Here we will use the Branin function. The 2-dim Branin function is\n",
    "\n",
    "    $$y = a * (x2 - b * x1**2 + c * x1 - r) ** 2 + s * (1 - t) * cos(x1) + s,$$ \n",
    "    where values of a, b, c, r, s and t are: \n",
    "    $a = 1, b = 5.1 / (4*pi**2), c = 5 / pi, r = 6, s = 10$ and $t = 1 / (8*pi)$.\n",
    "\n",
    "* It has three global minima:\n",
    "    \n",
    "    $f(x) = 0.397887$ at $(-\\pi, 12.275)$, $(\\pi, 2.275)$, and $(9.42478, 2.475)$.\n",
    "\n",
    "* Input Domain: This function is usually evaluated on the square  x1 in  [-5, 10] x x2 in [0, 15]."
   ]
  },
  {
   "cell_type": "code",
   "execution_count": null,
   "metadata": {},
   "outputs": [],
   "source": [
    "from spotPython.fun.objectivefunctions import analytical\n",
    "lower = np.array([-5,-0])\n",
    "upper = np.array([10,15])"
   ]
  },
  {
   "cell_type": "code",
   "execution_count": null,
   "metadata": {},
   "outputs": [],
   "source": [
    "fun = analytical(seed=123).fun_branin"
   ]
  },
  {
   "attachments": {},
   "cell_type": "markdown",
   "metadata": {},
   "source": [
    "## The Optimizer\n",
    "\n",
    "* Differential Evalution from the `scikit.optimize` package, see [https://docs.scipy.org/doc/scipy/reference/generated/scipy.optimize.differential_evolution.html#scipy.optimize.differential_evolution](https://docs.scipy.org/doc/scipy/reference/generated/scipy.optimize.differential_evolution.html#scipy.optimize.differential_evolution) is the default optimizer for the search on the surrogate.\n",
    "* Other optimiers that are available in `spotPython`:\n",
    "    * `dual_annealing`\n",
    "    *  `direct`\n",
    "    * `shgo`\n",
    "    * `basinhopping`, see [https://docs.scipy.org/doc/scipy/reference/optimize.html#global-optimization](https://docs.scipy.org/doc/scipy/reference/optimize.html#global-optimization).\n",
    "\n",
    "* These can be selected as follows:\n",
    "\n",
    "    ` surrogate_control = \"model_optimizer\": differential_evolution`\n"
   ]
  },
  {
   "attachments": {},
   "cell_type": "markdown",
   "metadata": {},
   "source": [
    "* We will use `differential_evolution`.\n",
    "* The optimizer can use `1000` evaluations. This value will be passed to the `differential_evolution` method, which has the argument `maxiter` (int). It defines the maximum number of generations over which the entire differential evolution population is evolved, see [https://docs.scipy.org/doc/scipy/reference/generated/scipy.optimize.differential_evolution.html#scipy.optimize.differential_evolution](https://docs.scipy.org/doc/scipy/reference/generated/scipy.optimize.differential_evolution.html#scipy.optimize.differential_evolution)"
   ]
  },
  {
   "cell_type": "code",
   "execution_count": null,
   "metadata": {},
   "outputs": [],
   "source": [
    "spot_de = spot.Spot(fun=fun,\n",
    "                   lower = lower,\n",
    "                   upper = upper,\n",
    "                   fun_evals = 20,\n",
    "                   max_time = inf,\n",
    "                   seed=125,\n",
    "                   noise=False,\n",
    "                   show_models= False,\n",
    "                   design_control={\"init_size\": 10},\n",
    "                   surrogate_control={\"n_theta\": 2,\n",
    "                                      \"model_optimizer\": differential_evolution,\n",
    "                                      \"model_fun_evals\": 1000,\n",
    "                                      })\n",
    "spot_de.run()"
   ]
  },
  {
   "attachments": {},
   "cell_type": "markdown",
   "metadata": {},
   "source": [
    "## Print the Results"
   ]
  },
  {
   "cell_type": "code",
   "execution_count": null,
   "metadata": {},
   "outputs": [],
   "source": [
    "spot_de.print_results()"
   ]
  },
  {
   "attachments": {},
   "cell_type": "markdown",
   "metadata": {},
   "source": [
    "## Show the Progress"
   ]
  },
  {
   "cell_type": "code",
   "execution_count": null,
   "metadata": {},
   "outputs": [],
   "source": [
    "spot_de.plot_progress(log_y=True)"
   ]
  },
  {
   "cell_type": "code",
   "execution_count": null,
   "metadata": {},
   "outputs": [],
   "source": [
    "spot_de.surrogate.plot()"
   ]
  },
  {
   "attachments": {},
   "cell_type": "markdown",
   "metadata": {},
   "source": [
    "# Exercises\n",
    "\n",
    "* Important:\n",
    "    * Results from these exercises should be added to this document, i.e., you should submit an updated version of this notebook.\n",
    "    * Please combine your results using this notebook.\n",
    "    * Only one notebook from each group!\n",
    "    * Presentation is based on this notebook. No addtional slides are required!\n",
    "    * spotPython version `0.16.11` (or greater) is required (see http://www.gm.fh-koeln.de/~bartz/site/download/ "
   ]
  },
  {
   "attachments": {},
   "cell_type": "markdown",
   "metadata": {},
   "source": [
    "## Exercise 1\n",
    "\n",
    "* Each team member should choose one of the following optimization algorithms.\n",
    "* Please add your name to the section title!"
   ]
  },
  {
   "attachments": {},
   "cell_type": "markdown",
   "metadata": {},
   "source": [
    "### 1. `dual_annealing`\n",
    "\n",
    "* Describe the optimization algorithm\n",
    "* Use the algorithm as an optimizer on the surrogate\n",
    "\n",
    "### 2. `direct`\n",
    "\n",
    "* Describe the optimization algorithm\n",
    "* Use the algorithm as an optimizer on the surrogate\n",
    "\n",
    "### 3. `shgo`\n",
    "\n",
    "* Describe the optimization algorithm\n",
    "* Use the algorithm as an optimizer on the surrogate\n",
    "\n",
    "### 4. `basinhopping`\n",
    "\n",
    "* Describe the optimization algorithm\n",
    "* Use the algorithm as an optimizer on the surrogate\n",
    "\n"
   ]
  },
  {
   "attachments": {},
   "cell_type": "markdown",
   "metadata": {},
   "source": [
    "## Exercise 2\n",
    "\n",
    "(All group members): \n",
    "* Compare the performance and run time of the 5 different optimizers:\n",
    "    * `differential_evolution`\n",
    "    * `dual_annealing`\n",
    "    *  `direct`\n",
    "    * `shgo`\n",
    "    * `basinhopping`.\n",
    "* The Branin function has three global minima:\n",
    "  * $f(x) = 0.397887$  at \n",
    "    * $(-\\pi, 12.275)$, \n",
    "    * $(\\pi, 2.275)$, and \n",
    "    * $(9.42478, 2.475)$.\n",
    "  * Which optima are found by the optimizers? Does the `seed` change this behavior?"
   ]
  }
 ],
 "metadata": {
  "kernelspec": {
   "display_name": "spotCondaEnv",
   "language": "python",
   "name": "python3"
  },
  "language_info": {
   "codemirror_mode": {
    "name": "ipython",
    "version": 3
   },
   "file_extension": ".py",
   "mimetype": "text/x-python",
   "name": "python",
   "nbconvert_exporter": "python",
   "pygments_lexer": "ipython3",
   "version": "3.10.6"
  },
  "orig_nbformat": 4,
  "vscode": {
   "interpreter": {
    "hash": "81c77de872def749acd68d9955e19f0df6803301f4c1f66c3444af66334112ae"
   }
  }
 },
 "nbformat": 4,
 "nbformat_minor": 2
}
