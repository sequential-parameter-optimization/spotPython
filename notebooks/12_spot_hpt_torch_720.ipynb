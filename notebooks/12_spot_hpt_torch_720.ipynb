{
 "cells": [
  {
   "cell_type": "raw",
   "metadata": {},
   "source": [
    "---\n",
    "title: \"pytorch Hyperparameter Tuning with SPOT \"\n",
    "format: html\n",
    "---"
   ]
  },
  {
   "cell_type": "code",
   "execution_count": 1,
   "metadata": {},
   "outputs": [],
   "source": [
    "MAX_TIME = 1\n",
    "INIT_SIZE = 5\n",
    "CLASSIFICATION = True\n",
    "REGRESSION = False\n",
    "MOONS = False\n",
    "MAKE_CLF = False"
   ]
  },
  {
   "cell_type": "code",
   "execution_count": 2,
   "metadata": {},
   "outputs": [
    {
     "data": {
      "text/plain": [
       "'12-torch_p040025_1min_5init_2023-04-28_10-23-47'"
      ]
     },
     "execution_count": 2,
     "metadata": {},
     "output_type": "execute_result"
    }
   ],
   "source": [
    "import pickle\n",
    "import socket\n",
    "from datetime import datetime\n",
    "from dateutil.tz import tzlocal\n",
    "start_time = datetime.now(tzlocal())\n",
    "HOSTNAME = socket.gethostname().split(\".\")[0]\n",
    "experiment_name = '12-torch' + \"_\" + HOSTNAME + \"_\" + str(MAX_TIME) + \"min_\" + str(INIT_SIZE) + \"init_\" + str(start_time).split(\".\", 1)[0].replace(' ', '_')\n",
    "experiment_name = experiment_name.replace(':', '-')\n",
    "experiment_name"
   ]
  },
  {
   "attachments": {},
   "cell_type": "markdown",
   "metadata": {},
   "source": [
    "# Chapter 11: Sequential Parameter Optimization\n",
    "## Hyperparameter Tuning: pytorch wth cifar10 Data "
   ]
  },
  {
   "attachments": {},
   "cell_type": "markdown",
   "metadata": {},
   "source": [
    "* This notebook exemplifies hyperparameter tuning with SPOT (spotPython).\n",
    "* The hyperparameter software SPOT was developed in R (statistical programming language), see Open Access book \"Hyperparameter Tuning for Machine and Deep Learning with R - A Practical Guide\", available here: [https://link.springer.com/book/10.1007/978-981-19-5170-1](https://link.springer.com/book/10.1007/978-981-19-5170-1).\n"
   ]
  },
  {
   "cell_type": "code",
   "execution_count": 3,
   "metadata": {},
   "outputs": [
    {
     "name": "stdout",
     "output_type": "stream",
     "text": [
      "spotPython                                0.0.45\n",
      "spotRiver                                 0.0.92\n",
      "Note: you may need to restart the kernel to use updated packages.\n"
     ]
    }
   ],
   "source": [
    "pip list | grep  \"spot[RiverPython]\""
   ]
  },
  {
   "cell_type": "code",
   "execution_count": 4,
   "metadata": {},
   "outputs": [],
   "source": [
    "# import sys\n",
    "# !{sys.executable} -m pip install --upgrade build\n",
    "# !{sys.executable} -m pip install --upgrade --force-reinstall spotPython\n"
   ]
  },
  {
   "attachments": {},
   "cell_type": "markdown",
   "metadata": {},
   "source": [
    "## Example 1: HATR Hyperparameter"
   ]
  },
  {
   "cell_type": "code",
   "execution_count": 5,
   "metadata": {},
   "outputs": [],
   "source": [
    "import torch\n",
    "from tabulate import tabulate\n",
    "import copy\n",
    "import warnings\n",
    "import numbers\n",
    "import json\n",
    "import calendar\n",
    "import math\n",
    "import datetime as dt\n",
    "import numpy as np\n",
    "from math import inf\n",
    "import pandas as pd\n",
    "\n",
    "from scipy.optimize import differential_evolution\n",
    "\n",
    "import matplotlib.pyplot as plt\n",
    "\n",
    "from spotPython.spot import spot\n",
    "from spotPython.hyperparameters.values import (\n",
    "    add_core_model_to_fun_control,\n",
    "    assign_values,\n",
    "    convert_keys,\n",
    "    get_bound_values,\n",
    "    get_default_hyperparameters_for_core_model,\n",
    "    get_default_hyperparameters_for_fun,\n",
    "    get_default_values,\n",
    "    get_dict_with_levels_and_types,\n",
    "    get_values_from_dict,\n",
    "    get_var_name,\n",
    "    get_var_type,\n",
    "    iterate_dict_values,\n",
    "    modify_hyper_parameter_levels,\n",
    "    modify_hyper_parameter_bounds,\n",
    "    replace_levels_with_positions,\n",
    "    return_conf_list_from_var_dict,\n",
    "    get_one_sklearn_model_from_X)\n",
    "from spotPython.hyperparameters.prepare import (\n",
    "    transform_hyper_parameter_values,\n",
    "    get_dict_with_levels_and_types,\n",
    "    convert_keys,\n",
    "    iterate_dict_values,\n",
    ")\n",
    "\n",
    "from spotPython.utils.convert import class_for_name\n",
    "from spotPython.utils.eda import (\n",
    "    get_stars,\n",
    "    gen_design_table)\n",
    "from spotPython.utils.transform import transform_hyper_parameter_values\n",
    "\n",
    "from spotPython.data.torch_hyper_dict import TorchHyperDict\n",
    "from spotPython.fun.hypertorch import HyperTorch\n",
    "from spotPython.utils.convert import get_Xy_from_df\n",
    "from spotPython.plot.validation import plot_cv_predictions, plot_roc, plot_confusion_matrix\n",
    "from spotPython.torch.netcifar10 import Net_CIFAR10\n",
    "\n",
    "warnings.filterwarnings(\"ignore\")"
   ]
  },
  {
   "cell_type": "code",
   "execution_count": 6,
   "metadata": {},
   "outputs": [
    {
     "name": "stdout",
     "output_type": "stream",
     "text": [
      "2.0.0\n",
      "MPS device:  mps\n"
     ]
    }
   ],
   "source": [
    "print(torch.__version__)\n",
    "# Check that MPS is available\n",
    "if not torch.backends.mps.is_available():\n",
    "    if not torch.backends.mps.is_built():\n",
    "        print(\"MPS not available because the current PyTorch install was not \"\n",
    "              \"built with MPS enabled.\")\n",
    "    else:\n",
    "        print(\"MPS not available because the current MacOS version is not 12.3+ \"\n",
    "              \"and/or you do not have an MPS-enabled device on this machine.\")\n",
    "\n",
    "else:\n",
    "    mps_device = torch.device(\"mps\")\n",
    "    print(\"MPS device: \", mps_device)"
   ]
  },
  {
   "attachments": {},
   "cell_type": "markdown",
   "metadata": {},
   "source": [
    "## 0. Initialization of the Empty `fun_control` Dictionary"
   ]
  },
  {
   "cell_type": "code",
   "execution_count": 7,
   "metadata": {},
   "outputs": [],
   "source": [
    "fun_control = {}"
   ]
  },
  {
   "attachments": {},
   "cell_type": "markdown",
   "metadata": {},
   "source": [
    "## 1. Load Data: Random Data"
   ]
  },
  {
   "attachments": {},
   "cell_type": "markdown",
   "metadata": {},
   "source": [
    "## Regression"
   ]
  },
  {
   "cell_type": "code",
   "execution_count": 8,
   "metadata": {},
   "outputs": [],
   "source": [
    "if REGRESSION:\n",
    "    n_samples = 250\n",
    "    target_column = \"y\"\n",
    "    n_train = 0.6 * n_samples\n",
    "    n_features = 50\n",
    "    # Create a random dataset\n",
    "    X, y = make_regression(n_samples=n_samples, n_features=n_features, noise=1, random_state=42)\n",
    "    # take X and y and make a pandas dataframe with column names X1, X2, y\n",
    "    df = pd.DataFrame(np.hstack((X, y.reshape(-1, 1))))\n",
    "    df.columns = [f\"x{i}\" for i in range(1, n_features+1)] + [target_column]\n",
    "    # split into train and test\n",
    "    train = df.iloc[:int(n_train), :]\n",
    "    test = df.iloc[int(n_train):, :]"
   ]
  },
  {
   "attachments": {},
   "cell_type": "markdown",
   "metadata": {},
   "source": [
    "## Classification"
   ]
  },
  {
   "cell_type": "code",
   "execution_count": 9,
   "metadata": {},
   "outputs": [],
   "source": [
    "if MOONS:\n",
    "    n_features = 2\n",
    "    n_samples = 250\n",
    "    ds =  make_moons(n_samples, noise=0.5, random_state=0)\n",
    "    X, y = ds\n",
    "    X_train, X_test, y_train, y_test = train_test_split(\n",
    "        X, y, test_size=0.4, random_state=42\n",
    "    )\n",
    "    train = pd.DataFrame(np.hstack((X_train, y_train.reshape(-1, 1))))\n",
    "    test = pd.DataFrame(np.hstack((X_test, y_test.reshape(-1, 1))))\n",
    "    train.columns = [f\"x{i}\" for i in range(1, n_features+1)] + [target_column]\n",
    "    test.columns = [f\"x{i}\" for i in range(1, n_features+1)] + [target_column]\n",
    "    train.head()"
   ]
  },
  {
   "cell_type": "code",
   "execution_count": 10,
   "metadata": {},
   "outputs": [],
   "source": [
    "if MAKE_CLF:\n",
    "    X, y = make_classification(\n",
    "        n_samples=n_samples,\n",
    "        n_features=n_features,\n",
    "        n_informative=40,\n",
    "        n_redundant=2,\n",
    "        n_repeated=1,\n",
    "        n_classes=2,\n",
    "        flip_y=0.25,\n",
    "        random_state=0,\n",
    "        class_sep=0.025,\n",
    "        shuffle=False,\n",
    "    )\n",
    "    X_train, X_test, y_train, y_test = train_test_split(X, y, stratify=y, random_state=42)\n",
    "\n",
    "    train = pd.DataFrame(np.hstack((X_train, y_train.reshape(-1, 1))))\n",
    "    test = pd.DataFrame(np.hstack((X_test, y_test.reshape(-1, 1))))\n",
    "    train.columns = [f\"x{i}\" for i in range(1, n_features+1)] + [target_column]\n",
    "    test.columns = [f\"x{i}\" for i in range(1, n_features+1)] + [target_column]\n",
    "    train.head()\n"
   ]
  },
  {
   "attachments": {},
   "cell_type": "markdown",
   "metadata": {},
   "source": [
    "## Load CIFAR Data "
   ]
  },
  {
   "cell_type": "code",
   "execution_count": 11,
   "metadata": {},
   "outputs": [],
   "source": [
    "from functools import partial\n",
    "import numpy as np\n",
    "import os\n",
    "import torch\n",
    "import torch.nn as nn\n",
    "import torch.nn.functional as F\n",
    "import torch.optim as optim\n",
    "from torch.utils.data import random_split\n",
    "import torchvision\n",
    "import torchvision.transforms as transforms"
   ]
  },
  {
   "cell_type": "code",
   "execution_count": 12,
   "metadata": {},
   "outputs": [],
   "source": [
    "def load_data(data_dir=\"./data\"):\n",
    "    transform = transforms.Compose([\n",
    "        transforms.ToTensor(),\n",
    "        transforms.Normalize((0.5, 0.5, 0.5), (0.5, 0.5, 0.5))\n",
    "    ])\n",
    "\n",
    "    trainset = torchvision.datasets.CIFAR10(\n",
    "        root=data_dir, train=True, download=True, transform=transform)\n",
    "\n",
    "    testset = torchvision.datasets.CIFAR10(\n",
    "        root=data_dir, train=False, download=True, transform=transform)\n",
    "\n",
    "    return trainset, testset"
   ]
  },
  {
   "cell_type": "code",
   "execution_count": 13,
   "metadata": {},
   "outputs": [
    {
     "name": "stdout",
     "output_type": "stream",
     "text": [
      "Files already downloaded and verified\n",
      "Files already downloaded and verified\n"
     ]
    }
   ],
   "source": [
    "train, test = load_data()"
   ]
  },
  {
   "cell_type": "code",
   "execution_count": 14,
   "metadata": {},
   "outputs": [
    {
     "data": {
      "text/plain": [
       "Dataset CIFAR10\n",
       "    Number of datapoints: 50000\n",
       "    Root location: ./data\n",
       "    Split: Train\n",
       "    StandardTransform\n",
       "Transform: Compose(\n",
       "               ToTensor()\n",
       "               Normalize(mean=(0.5, 0.5, 0.5), std=(0.5, 0.5, 0.5))\n",
       "           )"
      ]
     },
     "execution_count": 14,
     "metadata": {},
     "output_type": "execute_result"
    }
   ],
   "source": [
    "train.data.shape, test.data.shape\n",
    "train"
   ]
  },
  {
   "cell_type": "code",
   "execution_count": 15,
   "metadata": {},
   "outputs": [],
   "source": [
    "n_samples = len(train)\n",
    "# add the dataset to the fun_control\n",
    "fun_control.update({\"data\": None, # dataset,\n",
    "               \"train\": train,\n",
    "               \"test\": test,\n",
    "               \"n_samples\": n_samples,\n",
    "               \"target_column\": None})\n"
   ]
  },
  {
   "attachments": {},
   "cell_type": "markdown",
   "metadata": {},
   "source": [
    "## 2. Specification of the Preprocessing Model"
   ]
  },
  {
   "cell_type": "code",
   "execution_count": 16,
   "metadata": {},
   "outputs": [],
   "source": [
    "# categorical_columns = []\n",
    "# one_hot_encoder = OneHotEncoder(handle_unknown=\"ignore\", sparse_output=False)\n",
    "# prep_model = ColumnTransformer(\n",
    "#         transformers=[\n",
    "#             (\"categorical\", one_hot_encoder, categorical_columns),\n",
    "#         ],\n",
    "#         remainder=StandardScaler(),\n",
    "#     )\n",
    "prep_model = None\n",
    "fun_control.update({\"prep_model\": prep_model})"
   ]
  },
  {
   "attachments": {},
   "cell_type": "markdown",
   "metadata": {},
   "source": [
    "## 3. Select `algorithm` and `core_model_hyper_dict`"
   ]
  },
  {
   "cell_type": "code",
   "execution_count": 17,
   "metadata": {},
   "outputs": [],
   "source": [
    "# core_model  = RidgeCV\n",
    "core_model = Net_CIFAR10\n",
    "fun_control = add_core_model_to_fun_control(core_model=core_model,\n",
    "                              fun_control=fun_control,\n",
    "                              hyper_dict=TorchHyperDict,\n",
    "                              filename=None)"
   ]
  },
  {
   "attachments": {},
   "cell_type": "markdown",
   "metadata": {},
   "source": [
    "## 4. Modify `hyper_dict` Hyperparameters for the Selected Algorithm aka `core_model`"
   ]
  },
  {
   "cell_type": "markdown",
   "metadata": {},
   "source": [
    "### Modify hyperparameter of type factor"
   ]
  },
  {
   "cell_type": "code",
   "execution_count": 18,
   "metadata": {},
   "outputs": [],
   "source": [
    "# fun_control = modify_hyper_parameter_levels(fun_control, \"leaf_model\", [\"LinearRegression\"])\n",
    "# fun_control[\"core_model_hyper_dict\"]"
   ]
  },
  {
   "attachments": {},
   "cell_type": "markdown",
   "metadata": {},
   "source": [
    "### Modify hyperparameter of type numeric and integer (boolean)"
   ]
  },
  {
   "cell_type": "code",
   "execution_count": 19,
   "metadata": {},
   "outputs": [],
   "source": [
    "# fun_control = modify_hyper_parameter_bounds(fun_control, \"delta\", bounds=[1e-10, 1e-6])\n",
    "# fun_control = modify_hyper_parameter_bounds(fun_control, \"min_samples_split\", bounds=[3, 20])\n",
    "#fun_control = modify_hyper_parameter_bounds(fun_control, \"merit_preprune\", bounds=[0, 0])\n",
    "# fun_control[\"core_model_hyper_dict\"]"
   ]
  },
  {
   "attachments": {},
   "cell_type": "markdown",
   "metadata": {},
   "source": [
    "## 5. Selection of the Objective (Loss) Function"
   ]
  },
  {
   "attachments": {},
   "cell_type": "markdown",
   "metadata": {},
   "source": [
    "There are two metrics:\n",
    "\n",
    "    1. `metric` is used for the river based evaluation via `eval_oml_iter_progressive`.\n",
    "    2. `metric_sklearn` is used for the sklearn based evaluation."
   ]
  },
  {
   "cell_type": "code",
   "execution_count": 20,
   "metadata": {},
   "outputs": [],
   "source": [
    "fun = HyperTorch(seed=123, log_level=50).fun_torch\n",
    "weights = 1.0\n",
    "horizon = 7*24\n",
    "oml_grace_period = 2\n",
    "step = 100\n",
    "weight_coeff = 1.0\n",
    "\n",
    "fun_control.update({\n",
    "               \"data_dir\": None,\n",
    "               \"checkpoint_dir\": None,\n",
    "               \"horizon\": horizon,\n",
    "               \"oml_grace_period\": oml_grace_period,\n",
    "               \"weights\": weights,\n",
    "               \"step\": step,\n",
    "               \"log_level\": 50,\n",
    "               \"weight_coeff\": weight_coeff,\n",
    "               \"metric\": None,\n",
    "               \"metric_sklearn\": None\n",
    "               })"
   ]
  },
  {
   "attachments": {},
   "cell_type": "markdown",
   "metadata": {},
   "source": [
    "## 6. Calling the SPOT Function"
   ]
  },
  {
   "attachments": {},
   "cell_type": "markdown",
   "metadata": {},
   "source": [
    "### Prepare the SPOT Parameters"
   ]
  },
  {
   "attachments": {},
   "cell_type": "markdown",
   "metadata": {},
   "source": [
    "* Get types and variable names as well as lower and upper bounds for the hyperparameters."
   ]
  },
  {
   "cell_type": "code",
   "execution_count": 21,
   "metadata": {},
   "outputs": [],
   "source": [
    "var_type = get_var_type(fun_control)\n",
    "var_name = get_var_name(fun_control)\n",
    "fun_control.update({\"var_type\": var_type,\n",
    "                    \"var_name\": var_name})\n",
    "\n",
    "lower = get_bound_values(fun_control, \"lower\")\n",
    "upper = get_bound_values(fun_control, \"upper\")"
   ]
  },
  {
   "cell_type": "code",
   "execution_count": 22,
   "metadata": {},
   "outputs": [
    {
     "name": "stdout",
     "output_type": "stream",
     "text": [
      "| name       | type   |   default |   lower |   upper |\n",
      "|------------|--------|-----------|---------|---------|\n",
      "| l1         | int    |     5     |  2      |     9   |\n",
      "| l2         | int    |     5     |  2      |     9   |\n",
      "| lr         | float  |     0.001 |  0.0001 |     0.1 |\n",
      "| batch_size | int    |     4     |  1      |     4   |\n",
      "| epochs     | int    |     3     |  1      |     4   |\n"
     ]
    }
   ],
   "source": [
    "print(gen_design_table(fun_control))"
   ]
  },
  {
   "attachments": {},
   "cell_type": "markdown",
   "metadata": {},
   "source": [
    "### Run the `Spot` Optimizer\n",
    "\n",
    "* Run SPOT for approx. x mins (`max_time`).\n",
    "* Note: the run takes longer, because the evaluation time of initial design (here: `initi_size`, 20 points) is not considered."
   ]
  },
  {
   "cell_type": "code",
   "execution_count": 23,
   "metadata": {},
   "outputs": [
    {
     "name": "stdout",
     "output_type": "stream",
     "text": [
      "Using mps device\n",
      "[1,  2000] loss: 2.329\n",
      "[1,  4000] loss: 1.165\n",
      "[2,  2000] loss: 2.329\n",
      "[2,  4000] loss: 1.165\n",
      "[3,  2000] loss: 2.330\n",
      "[3,  4000] loss: 1.166\n",
      "[4,  2000] loss: 2.330\n",
      "[4,  4000] loss: 1.164\n",
      "Accuracy of the network on the validation data: 0.106\n",
      "Using mps device\n",
      "[1,  2000] loss: 2.365\n",
      "[1,  4000] loss: 1.183\n",
      "[1,  6000] loss: 0.788\n",
      "[1,  8000] loss: 0.591\n",
      "[1, 10000] loss: 0.472\n",
      "[1, 12000] loss: 0.394\n",
      "[1, 14000] loss: 0.337\n",
      "[1, 16000] loss: 0.295\n",
      "[1, 18000] loss: 0.262\n",
      "[1, 20000] loss: 0.237\n",
      "[2,  2000] loss: 2.367\n",
      "[2,  4000] loss: 1.181\n",
      "[2,  6000] loss: 0.787\n",
      "[2,  8000] loss: 0.590\n",
      "[2, 10000] loss: 0.473\n",
      "[2, 12000] loss: 0.393\n",
      "[2, 14000] loss: 0.338\n",
      "[2, 16000] loss: 0.295\n",
      "[2, 18000] loss: 0.263\n",
      "[2, 20000] loss: 0.237\n",
      "[3,  2000] loss: 2.367\n",
      "[3,  4000] loss: 1.187\n",
      "[3,  6000] loss: 0.789\n",
      "[3,  8000] loss: 0.593\n",
      "[3, 10000] loss: 0.473\n",
      "[3, 12000] loss: 0.394\n",
      "[3, 14000] loss: 0.338\n",
      "[3, 16000] loss: 0.296\n",
      "[3, 18000] loss: 0.263\n",
      "[3, 20000] loss: 0.236\n",
      "[4,  2000] loss: 2.363\n",
      "[4,  4000] loss: 1.183\n",
      "[4,  6000] loss: 0.787\n",
      "[4,  8000] loss: 0.591\n",
      "[4, 10000] loss: 0.472\n",
      "[4, 12000] loss: 0.395\n",
      "[4, 14000] loss: 0.338\n",
      "[4, 16000] loss: 0.295\n",
      "[4, 18000] loss: 0.262\n",
      "[4, 20000] loss: 0.236\n",
      "[5,  2000] loss: 2.364\n",
      "[5,  4000] loss: 1.180\n",
      "[5,  6000] loss: 0.788\n",
      "[5,  8000] loss: 0.591\n",
      "[5, 10000] loss: 0.474\n",
      "[5, 12000] loss: 0.393\n",
      "[5, 14000] loss: 0.338\n",
      "[5, 16000] loss: 0.296\n",
      "[5, 18000] loss: 0.262\n",
      "[5, 20000] loss: 0.236\n",
      "[6,  2000] loss: 2.364\n",
      "[6,  4000] loss: 1.179\n",
      "[6,  6000] loss: 0.789\n",
      "[6,  8000] loss: 0.593\n",
      "[6, 10000] loss: 0.473\n",
      "[6, 12000] loss: 0.394\n",
      "[6, 14000] loss: 0.337\n",
      "[6, 16000] loss: 0.296\n",
      "[6, 18000] loss: 0.262\n",
      "[6, 20000] loss: 0.236\n",
      "[7,  2000] loss: 2.368\n",
      "[7,  4000] loss: 1.180\n",
      "[7,  6000] loss: 0.788\n",
      "[7,  8000] loss: 0.591\n",
      "[7, 10000] loss: 0.472\n",
      "[7, 12000] loss: 0.394\n",
      "[7, 14000] loss: 0.338\n",
      "[7, 16000] loss: 0.296\n",
      "[7, 18000] loss: 0.262\n",
      "[7, 20000] loss: 0.237\n",
      "[8,  2000] loss: 2.368\n",
      "[8,  4000] loss: 1.182\n",
      "[8,  6000] loss: 0.788\n",
      "[8,  8000] loss: 0.592\n",
      "[8, 10000] loss: 0.474\n",
      "[8, 12000] loss: 0.394\n",
      "[8, 14000] loss: 0.337\n",
      "[8, 16000] loss: 0.295\n",
      "[8, 18000] loss: 0.262\n",
      "[8, 20000] loss: 0.237\n",
      "Accuracy of the network on the validation data: 0.1004\n",
      "Using mps device\n",
      "[1,  2000] loss: 1.966\n",
      "[1,  4000] loss: 0.795\n",
      "[2,  2000] loss: 1.398\n",
      "[2,  4000] loss: 0.673\n",
      "[3,  2000] loss: 1.231\n",
      "[3,  4000] loss: 0.615\n",
      "[4,  2000] loss: 1.117\n",
      "[4,  4000] loss: 0.567\n",
      "[5,  2000] loss: 1.036\n",
      "[5,  4000] loss: 0.532\n",
      "[6,  2000] loss: 0.960\n",
      "[6,  4000] loss: 0.509\n",
      "[7,  2000] loss: 0.888\n",
      "[7,  4000] loss: 0.487\n",
      "[8,  2000] loss: 0.845\n",
      "[8,  4000] loss: 0.466\n",
      "[9,  2000] loss: 0.815\n",
      "[9,  4000] loss: 0.446\n",
      "[10,  2000] loss: 0.787\n",
      "[10,  4000] loss: 0.423\n",
      "[11,  2000] loss: 0.756\n",
      "[11,  4000] loss: 0.421\n",
      "[12,  2000] loss: 0.727\n",
      "[12,  4000] loss: 0.405\n",
      "[13,  2000] loss: 0.741\n",
      "[13,  4000] loss: 0.400\n",
      "[14,  2000] loss: 0.716\n",
      "[14,  4000] loss: 0.385\n",
      "[15,  2000] loss: 0.692\n",
      "[15,  4000] loss: 0.382\n",
      "[16,  2000] loss: 0.687\n",
      "[16,  4000] loss: 0.383\n",
      "Accuracy of the network on the validation data: 0.5665\n",
      "Using mps device\n",
      "[1,  2000] loss: 2.301\n",
      "[1,  4000] loss: 1.162\n",
      "[1,  6000] loss: 0.774\n",
      "[1,  8000] loss: 0.581\n",
      "[1, 10000] loss: 0.465\n",
      "[2,  2000] loss: 2.321\n",
      "[2,  4000] loss: 1.162\n",
      "[2,  6000] loss: 0.774\n",
      "[2,  8000] loss: 0.581\n",
      "[2, 10000] loss: 0.465\n",
      "[3,  2000] loss: 2.319\n",
      "[3,  4000] loss: 1.162\n",
      "[3,  6000] loss: 0.774\n",
      "[3,  8000] loss: 0.581\n",
      "[3, 10000] loss: 0.464\n",
      "[4,  2000] loss: 2.322\n",
      "[4,  4000] loss: 1.162\n",
      "[4,  6000] loss: 0.775\n",
      "[4,  8000] loss: 0.580\n",
      "[4, 10000] loss: 0.464\n",
      "Accuracy of the network on the validation data: 0.1004\n",
      "Using mps device\n",
      "[1,  2000] loss: 2.183\n",
      "[2,  2000] loss: 2.129\n",
      "Accuracy of the network on the validation data: 0.2105\n",
      "Using mps device\n",
      "[1,  2000] loss: 1.879\n",
      "[1,  4000] loss: 0.781\n",
      "[2,  2000] loss: 1.401\n",
      "[2,  4000] loss: 0.688\n",
      "[3,  2000] loss: 1.260\n",
      "[3,  4000] loss: 0.634\n",
      "[4,  2000] loss: 1.172\n",
      "[4,  4000] loss: 0.585\n",
      "[5,  2000] loss: 1.082\n",
      "[5,  4000] loss: 0.567\n",
      "[6,  2000] loss: 1.001\n",
      "[6,  4000] loss: 0.541\n",
      "[7,  2000] loss: 0.972\n",
      "[7,  4000] loss: 0.511\n",
      "[8,  2000] loss: 0.928\n",
      "[8,  4000] loss: 0.497\n",
      "[9,  2000] loss: 0.896\n",
      "[9,  4000] loss: 0.475\n",
      "[10,  2000] loss: 0.867\n",
      "[10,  4000] loss: 0.479\n",
      "[11,  2000] loss: 0.840\n",
      "[11,  4000] loss: 0.462\n",
      "[12,  2000] loss: 0.839\n",
      "[12,  4000] loss: 0.461\n",
      "[13,  2000] loss: 0.821\n",
      "[13,  4000] loss: 0.454\n",
      "[14,  2000] loss: 0.824\n",
      "[14,  4000] loss: 0.443\n",
      "[15,  2000] loss: 0.814\n",
      "[15,  4000] loss: 0.453\n",
      "[16,  2000] loss: 0.800\n",
      "[16,  4000] loss: 0.451\n",
      "Accuracy of the network on the validation data: 0.568\n",
      "spotPython tuning: [##########] 100.00% Done...\n",
      "\r"
     ]
    },
    {
     "data": {
      "text/plain": [
       "<spotPython.spot.spot.Spot at 0x2a7487a30>"
      ]
     },
     "execution_count": 23,
     "metadata": {},
     "output_type": "execute_result"
    }
   ],
   "source": [
    "spot_torch = spot.Spot(fun=fun,\n",
    "                   lower = lower,\n",
    "                   upper = upper,\n",
    "                   fun_evals = inf,\n",
    "                   fun_repeats = 1,\n",
    "                   max_time = MAX_TIME,\n",
    "                   noise = False,\n",
    "                   tolerance_x = np.sqrt(np.spacing(1)),\n",
    "                   var_type = var_type,\n",
    "                   var_name = var_name,\n",
    "                   infill_criterion = \"y\",\n",
    "                   n_points = 1,\n",
    "                   seed=123,\n",
    "                   log_level = 50,\n",
    "                   show_models= False,\n",
    "                   show_progress= True,\n",
    "                   fun_control = fun_control,\n",
    "                   design_control={\"init_size\": INIT_SIZE,\n",
    "                                   \"repeats\": 1},\n",
    "                   surrogate_control={\"noise\": True,\n",
    "                                      \"cod_type\": \"norm\",\n",
    "                                      \"min_theta\": -4,\n",
    "                                      \"max_theta\": 3,\n",
    "                                      \"n_theta\": len(var_name),\n",
    "                                      \"model_optimizer\": differential_evolution,\n",
    "                                      \"model_fun_evals\": 10_000,\n",
    "                                      \"log_level\": 50\n",
    "                                      })\n",
    "spot_torch.run()"
   ]
  },
  {
   "attachments": {},
   "cell_type": "markdown",
   "metadata": {},
   "source": [
    "### 4 Results"
   ]
  },
  {
   "cell_type": "code",
   "execution_count": 24,
   "metadata": {},
   "outputs": [],
   "source": [
    "SAVE = True\n",
    "LOAD = False\n",
    "\n",
    "if SAVE:\n",
    "    result_file_name = \"res_\" + experiment_name + \".pkl\"\n",
    "    with open(result_file_name, 'wb') as f:\n",
    "        pickle.dump(spot_torch, f)\n",
    "\n",
    "if LOAD:\n",
    "    result_file_name = \"res_ch10-friedman-hpt-0_maans03_60min_20init_1K_2023-04-14_10-11-19.pkl\"\n",
    "    with open(result_file_name, 'rb') as f:\n",
    "        spot_torch =  pickle.load(f)"
   ]
  },
  {
   "attachments": {},
   "cell_type": "markdown",
   "metadata": {},
   "source": [
    "* Show the Progress of the hyperparameter tuning:"
   ]
  },
  {
   "cell_type": "code",
   "execution_count": 25,
   "metadata": {},
   "outputs": [
    {
     "data": {
      "image/png": "[encoded data removed]",
      "text/plain": [
       "<Figure size 900x600 with 1 Axes>"
      ]
     },
     "metadata": {},
     "output_type": "display_data"
    }
   ],
   "source": [
    "spot_torch.plot_progress(log_y=False, filename=\"../Figures.d/\" + experiment_name+\"_progress.pdf\")"
   ]
  },
  {
   "cell_type": "markdown",
   "metadata": {},
   "source": [
    "\n",
    "\n",
    "* Print the Results"
   ]
  },
  {
   "cell_type": "code",
   "execution_count": 26,
   "metadata": {},
   "outputs": [
    {
     "name": "stdout",
     "output_type": "stream",
     "text": [
      "| Parameter   |      Value |\n",
      "|-------------|------------|\n",
      "| l1          |          8 |\n",
      "| l2          |          7 |\n",
      "| lr          | 0.00361165 |\n",
      "| batch_size  |          3 |\n",
      "| epochs      |          4 |\n"
     ]
    }
   ],
   "source": [
    "res = spot_torch.print_results(print_screen=False)\n",
    "print(tabulate(\n",
    "   res,\n",
    "   headers=[\"Parameter\", \"Value\"],\n",
    "   numalign=\"right\",\n",
    "   tablefmt=\"github\")\n",
    ")"
   ]
  },
  {
   "attachments": {},
   "cell_type": "markdown",
   "metadata": {},
   "source": [
    "## Show variable importance"
   ]
  },
  {
   "cell_type": "code",
   "execution_count": 27,
   "metadata": {},
   "outputs": [
    {
     "data": {
      "image/png": "[encoded data removed]",
      "text/plain": [
       "<Figure size 640x480 with 1 Axes>"
      ]
     },
     "metadata": {},
     "output_type": "display_data"
    }
   ],
   "source": [
    "spot_torch.plot_importance(threshold=0.025, filename=\"../Figures.d/\" + experiment_name+\"_importance.pdf\")"
   ]
  },
  {
   "cell_type": "code",
   "execution_count": 28,
   "metadata": {},
   "outputs": [
    {
     "name": "stdout",
     "output_type": "stream",
     "text": [
      "| name       | type   |   default |   lower |   upper |                tuned |   importance | stars   |\n",
      "|------------|--------|-----------|---------|---------|----------------------|--------------|---------|\n",
      "| l1         | int    |       5.0 |     2.0 |     9.0 |                  8.0 |         0.00 |         |\n",
      "| l2         | int    |       5.0 |     2.0 |     9.0 |                  7.0 |         0.00 |         |\n",
      "| lr         | float  |     0.001 |  0.0001 |     0.1 | 0.003611652909973722 |         0.00 |         |\n",
      "| batch_size | int    |       4.0 |     1.0 |     4.0 |                  3.0 |         0.00 |         |\n",
      "| epochs     | int    |       3.0 |     1.0 |     4.0 |                  4.0 |       100.00 | ***     |\n"
     ]
    }
   ],
   "source": [
    "print(gen_design_table(fun_control=fun_control, spot=spot_torch))"
   ]
  },
  {
   "attachments": {},
   "cell_type": "markdown",
   "metadata": {},
   "source": [
    "## Get Default Hyperparameters"
   ]
  },
  {
   "cell_type": "code",
   "execution_count": 29,
   "metadata": {},
   "outputs": [
    {
     "data": {
      "text/plain": [
       "{'l1': 32, 'l2': 32, 'lr': 0.001, 'batch_size': 16, 'epochs': 8}"
      ]
     },
     "execution_count": 29,
     "metadata": {},
     "output_type": "execute_result"
    }
   ],
   "source": [
    "values_default = get_default_hyperparameters_for_core_model(fun_control=fun_control,\n",
    "                                                   hyper_dict=TorchHyperDict)\n",
    "values_default"
   ]
  },
  {
   "cell_type": "code",
   "execution_count": 30,
   "metadata": {},
   "outputs": [],
   "source": [
    "model_default = fun_control[\"core_model\"](**values_default)\n"
   ]
  },
  {
   "attachments": {},
   "cell_type": "markdown",
   "metadata": {},
   "source": [
    "## Get SPOT Results"
   ]
  },
  {
   "cell_type": "code",
   "execution_count": 31,
   "metadata": {},
   "outputs": [],
   "source": [
    "X = spot_torch.to_all_dim(spot_torch.min_X.reshape(1,-1))\n",
    "model_spot = get_one_sklearn_model_from_X(X, fun_control)"
   ]
  },
  {
   "attachments": {},
   "cell_type": "markdown",
   "metadata": {},
   "source": [
    "## Test Set Accuracy"
   ]
  },
  {
   "cell_type": "code",
   "execution_count": 32,
   "metadata": {},
   "outputs": [
    {
     "name": "stdout",
     "output_type": "stream",
     "text": [
      "Using mps device\n"
     ]
    },
    {
     "data": {
      "text/plain": [
       "0.0929"
      ]
     },
     "execution_count": 32,
     "metadata": {},
     "output_type": "execute_result"
    }
   ],
   "source": [
    "model_default.test_accuracy(fun_control=fun_control)"
   ]
  },
  {
   "cell_type": "code",
   "execution_count": 33,
   "metadata": {},
   "outputs": [
    {
     "name": "stdout",
     "output_type": "stream",
     "text": [
      "Using mps device\n"
     ]
    },
    {
     "data": {
      "text/plain": [
       "0.1106"
      ]
     },
     "execution_count": 33,
     "metadata": {},
     "output_type": "execute_result"
    }
   ],
   "source": [
    "model_spot.test_accuracy(fun_control=fun_control)"
   ]
  },
  {
   "cell_type": "code",
   "execution_count": 34,
   "metadata": {},
   "outputs": [
    {
     "data": {
      "text/plain": [
       "(1.5344858591496944, 2.3616226649522782)"
      ]
     },
     "execution_count": 34,
     "metadata": {},
     "output_type": "execute_result"
    }
   ],
   "source": [
    "min(spot_torch.y), max(spot_torch.y)"
   ]
  },
  {
   "attachments": {},
   "cell_type": "markdown",
   "metadata": {},
   "source": [
    "## Detailed Hyperparameter Plots"
   ]
  },
  {
   "attachments": {},
   "cell_type": "markdown",
   "metadata": {},
   "source": [
    "* For productive use, you might want to select:\n",
    "  * `min_z=min(spot_torch.y)` and\n",
    "  * `max_z = max(spot_torch.y)`\n",
    "* These settings are not so colorful as visualizations that use `None` for the ranges, but give better insights."
   ]
  },
  {
   "cell_type": "code",
   "execution_count": 35,
   "metadata": {},
   "outputs": [
    {
     "name": "stdout",
     "output_type": "stream",
     "text": [
      "epochs:  100.00000000000001\n"
     ]
    }
   ],
   "source": [
    "threshold = 0.025\n",
    "impo = spot_torch.print_importance(threshold=threshold, print_screen=True)\n",
    "var_plots = [i for i, x in enumerate(impo) if x[1] > threshold]\n",
    "min_z = min(spot_torch.y)\n",
    "max_z = max(spot_torch.y)\n",
    "n = spot_torch.k\n",
    "for i in var_plots:\n",
    "    for j in var_plots:\n",
    "        if j > i:\n",
    "            filename = \"../Figures.d/\" + experiment_name+\"_contour_\"+str(i)+\"_\"+str(j)+\".pdf\"\n",
    "            spot_torch.plot_contour(i=i, j=j, min_z=min_z, max_z = max_z, filename=filename)"
   ]
  },
  {
   "attachments": {},
   "cell_type": "markdown",
   "metadata": {},
   "source": [
    "## Plot all Combinations of Hyperparameters\n",
    "\n",
    "* Warning: this may take a while."
   ]
  },
  {
   "cell_type": "code",
   "execution_count": 36,
   "metadata": {},
   "outputs": [],
   "source": [
    "PLOT_ALL = False\n",
    "if PLOT_ALL:\n",
    "    n = spot_torch.k\n",
    "    for i in range(n-1):\n",
    "        for j in range(i+1, n):\n",
    "            spot_torch.plot_contour(i=i, j=j, min_z=min_z, max_z = max_z)"
   ]
  },
  {
   "cell_type": "code",
   "execution_count": null,
   "metadata": {},
   "outputs": [],
   "source": []
  }
 ],
 "metadata": {
  "kernelspec": {
   "display_name": "spotCondaEnv",
   "language": "python",
   "name": "python3"
  },
  "language_info": {
   "codemirror_mode": {
    "name": "ipython",
    "version": 3
   },
   "file_extension": ".py",
   "mimetype": "text/x-python",
   "name": "python",
   "nbconvert_exporter": "python",
   "pygments_lexer": "ipython3",
   "version": "3.10.6"
  },
  "vscode": {
   "interpreter": {
    "hash": "81c77de872def749acd68d9955e19f0df6803301f4c1f66c3444af66334112ae"
   }
  }
 },
 "nbformat": 4,
 "nbformat_minor": 4
}
