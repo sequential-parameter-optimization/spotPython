{
 "cells": [
  {
   "cell_type": "raw",
   "metadata": {},
   "source": [
    "---\n",
    "title: \"Gaussian Process Models in SPOT\"\n",
    "format: html\n",
    "---"
   ]
  },
  {
   "attachments": {},
   "cell_type": "markdown",
   "metadata": {},
   "source": [
    "# Sequential Parameter Optimization\n",
    "## Gaussian Process Models\n",
    "\n",
    "* This notebook analyzes differences between \n",
    "  * the `Kriging` implementation in `spotPython` and \n",
    "  * the `GaussianProcessRegressor` in `scikit-learn`."
   ]
  },
  {
   "cell_type": "code",
   "execution_count": null,
   "metadata": {},
   "outputs": [],
   "source": [
    "import numpy as np\n",
    "from math import inf\n",
    "from spotPython.fun.objectivefunctions import analytical\n",
    "from spotPython.design.spacefilling import spacefilling\n",
    "from spotPython.spot import spot\n",
    "from spotPython.build.kriging import Kriging\n",
    "from scipy.optimize import shgo\n",
    "from scipy.optimize import direct\n",
    "from scipy.optimize import differential_evolution\n",
    "import matplotlib.pyplot as plt\n",
    "import math as m\n",
    "from sklearn.gaussian_process import GaussianProcessRegressor\n",
    "from sklearn.gaussian_process.kernels import RBF"
   ]
  },
  {
   "attachments": {},
   "cell_type": "markdown",
   "metadata": {},
   "source": [
    "## 1 Gaussian Processes Regression: Basic Introductory `scikit-learn` Example\n",
    "\n",
    "* This is the example from [scikit-learn: https://scikit-learn.org/stable/auto_examples/gaussian_process/plot_gpr_noisy_targets.html](https://scikit-learn.org/stable/auto_examples/gaussian_process/plot_gpr_noisy_targets.html)"
   ]
  },
  {
   "attachments": {},
   "cell_type": "markdown",
   "metadata": {},
   "source": [
    "* After fitting our model, we see that the hyperparameters of the kernel have been optimized. \n",
    "* Now, we will use our kernel to compute the mean prediction of the full dataset and plot the 95% confidence interval."
   ]
  },
  {
   "attachments": {},
   "cell_type": "markdown",
   "metadata": {},
   "source": [
    "### Train and Test Data"
   ]
  },
  {
   "cell_type": "code",
   "execution_count": null,
   "metadata": {},
   "outputs": [],
   "source": [
    "X = np.linspace(start=0, stop=10, num=1_000).reshape(-1, 1)\n",
    "y = np.squeeze(X * np.sin(X))\n",
    "rng = np.random.RandomState(1)\n",
    "training_indices = rng.choice(np.arange(y.size), size=6, replace=False)\n",
    "X_train, y_train = X[training_indices], y[training_indices]"
   ]
  },
  {
   "attachments": {},
   "cell_type": "markdown",
   "metadata": {},
   "source": [
    "### Building the Surrogate With `Sklearn`\n",
    "\n",
    "* The model building with `sklearn` consisits of three steps:\n",
    "    1. Instantiating the model, then\n",
    "    2. fitting the model (using `fit`), and\n",
    "    3. making predictions (using `predict`)"
   ]
  },
  {
   "cell_type": "code",
   "execution_count": null,
   "metadata": {},
   "outputs": [],
   "source": [
    "kernel = 1 * RBF(length_scale=1.0, length_scale_bounds=(1e-2, 1e2))\n",
    "gaussian_process = GaussianProcessRegressor(kernel=kernel, n_restarts_optimizer=9)\n",
    "gaussian_process.fit(X_train, y_train)\n",
    "mean_prediction, std_prediction = gaussian_process.predict(X, return_std=True)"
   ]
  },
  {
   "attachments": {},
   "cell_type": "markdown",
   "metadata": {},
   "source": [
    "### Plotting the `Sklearn`Model"
   ]
  },
  {
   "cell_type": "code",
   "execution_count": null,
   "metadata": {},
   "outputs": [],
   "source": [
    "plt.plot(X, y, label=r\"$f(x) = x \\sin(x)$\", linestyle=\"dotted\")\n",
    "plt.scatter(X_train, y_train, label=\"Observations\")\n",
    "plt.plot(X, mean_prediction, label=\"Mean prediction\")\n",
    "plt.fill_between(\n",
    "    X.ravel(),\n",
    "    mean_prediction - 1.96 * std_prediction,\n",
    "    mean_prediction + 1.96 * std_prediction,\n",
    "    alpha=0.5,\n",
    "    label=r\"95% confidence interval\",\n",
    ")\n",
    "plt.legend()\n",
    "plt.xlabel(\"$x$\")\n",
    "plt.ylabel(\"$f(x)$\")\n",
    "_ = plt.title(\"sk-learn Version: Gaussian process regression on noise-free dataset\")"
   ]
  },
  {
   "attachments": {},
   "cell_type": "markdown",
   "metadata": {},
   "source": [
    "### The `spotPython` Version"
   ]
  },
  {
   "attachments": {},
   "cell_type": "markdown",
   "metadata": {},
   "source": [
    "* The `spotPython` version is very similar:\n",
    "    1. Instantiating the model, then\n",
    "    2. fitting the model and\n",
    "    3. making predictions (using `predict`)."
   ]
  },
  {
   "cell_type": "code",
   "execution_count": null,
   "metadata": {},
   "outputs": [],
   "source": [
    "S = Kriging(name='kriging',  seed=123, log_level=50, cod_type=\"norm\")\n",
    "S.fit(X_train, y_train)\n",
    "S_mean_prediction, S_std_prediction, S_ei = S.predict(X, return_val=\"all\")"
   ]
  },
  {
   "cell_type": "code",
   "execution_count": null,
   "metadata": {},
   "outputs": [],
   "source": [
    "plt.plot(X, y, label=r\"$f(x) = x \\sin(x)$\", linestyle=\"dotted\")\n",
    "plt.scatter(X_train, y_train, label=\"Observations\")\n",
    "plt.plot(X, S_mean_prediction, label=\"Mean prediction\")\n",
    "plt.fill_between(\n",
    "    X.ravel(),\n",
    "    S_mean_prediction - 1.96 * S_std_prediction,\n",
    "    S_mean_prediction + 1.96 * S_std_prediction,\n",
    "    alpha=0.5,\n",
    "    label=r\"95% confidence interval\",\n",
    ")\n",
    "plt.legend()\n",
    "plt.xlabel(\"$x$\")\n",
    "plt.ylabel(\"$f(x)$\")\n",
    "_ = plt.title(\"spotPython Version: Gaussian process regression on noise-free dataset\")"
   ]
  },
  {
   "attachments": {},
   "cell_type": "markdown",
   "metadata": {},
   "source": [
    "### Visualizing the Differences Between the `spotPython` and the `sklearn` Model Fits"
   ]
  },
  {
   "cell_type": "code",
   "execution_count": null,
   "metadata": {},
   "outputs": [],
   "source": [
    "plt.plot(X, y, label=r\"$f(x) = x \\sin(x)$\", linestyle=\"dotted\")\n",
    "plt.scatter(X_train, y_train, label=\"Observations\")\n",
    "plt.plot(X, S_mean_prediction, label=\"spotPython Mean prediction\")\n",
    "plt.plot(X, mean_prediction, label=\"Sklearn Mean Prediction\")\n",
    "plt.legend()\n",
    "plt.xlabel(\"$x$\")\n",
    "plt.ylabel(\"$f(x)$\")\n",
    "_ = plt.title(\"Comparing Mean Predictions\")"
   ]
  },
  {
   "attachments": {},
   "cell_type": "markdown",
   "metadata": {},
   "source": [
    "# Exercises\n",
    "\n",
    "* Important:\n",
    "    * Results from these exercises should be added to this document, i.e., you should submit an updated version of this notebook.\n",
    "    * Please combine your results using this notebook.\n",
    "    * Only one notebook from each group!\n",
    "    * Presentation is based on this notebook. No addtional slides are required!\n",
    "    * spotPython version `0.16.11` (or greater) is required (see http://www.gm.fh-koeln.de/~bartz/site/download/)"
   ]
  },
  {
   "attachments": {},
   "cell_type": "markdown",
   "metadata": {},
   "source": [
    "## Exercise 1\n",
    "\n",
    "* Each team member should choose one of the following functions and repeat the experiments from above.\n",
    "* Please add your name to the section title!"
   ]
  },
  {
   "attachments": {},
   "cell_type": "markdown",
   "metadata": {},
   "source": [
    "### 1. `Schonlau Example Function`\n",
    "\n",
    "* The Schonlau Example Function is based on sample points only (there is no analytical function description available):"
   ]
  },
  {
   "cell_type": "code",
   "execution_count": null,
   "metadata": {},
   "outputs": [],
   "source": [
    "X = np.linspace(start=0, stop=13, num=1_000).reshape(-1, 1)\n",
    "X_train = np.array([1., 2., 3., 4., 12.]).reshape(-1,1)\n",
    "y_train = np.array([0., -1.75, -2, -0.5, 5.])"
   ]
  },
  {
   "attachments": {},
   "cell_type": "markdown",
   "metadata": {},
   "source": [
    "* Describe the function.\n",
    "* Compare the two models that were build using the `spotPython` and the `sklearn` surrogate.\n",
    "* Note: Since there is no analytical function available, you might be interested in adding some points and describe the effects."
   ]
  },
  {
   "attachments": {},
   "cell_type": "markdown",
   "metadata": {},
   "source": [
    "### 2. `Forrester Example Function`\n",
    "\n",
    "* The Forrester Example Function is defined as follows:\n",
    "\n",
    "    `f(x) = (6x- 2)^2 sin(12x-4) for x in [0,1].`\n",
    "\n",
    "* Data points are generated as follows:\n"
   ]
  },
  {
   "cell_type": "code",
   "execution_count": null,
   "metadata": {},
   "outputs": [],
   "source": [
    "X = np.linspace(start=-0.5, stop=1.5, num=1_000).reshape(-1, 1)\n",
    "X_train = np.array([0.0, 0.175, 0.225, 0.3, 0.35, 0.375, 0.5,1]).reshape(-1,1)\n",
    "fun = analytical().fun_forrester\n",
    "fun_control = {\"sigma\": 0.1,\n",
    "               \"seed\": 123}\n",
    "y = fun(X, fun_control=fun_control)\n",
    "y_train = fun(X_train, fun_control=fun_control)"
   ]
  },
  {
   "attachments": {},
   "cell_type": "markdown",
   "metadata": {},
   "source": [
    "* Describe the function.\n",
    "* Compare the two models that were build using the `spotPython` and the `sklearn` surrogate.\n",
    "* Note: Modify the noise level (`\"sigma\"`), e.g., use a value of `0.2`, and compare the two models."
   ]
  },
  {
   "cell_type": "code",
   "execution_count": null,
   "metadata": {},
   "outputs": [],
   "source": [
    "fun_control = {\"sigma\": 0.2}"
   ]
  },
  {
   "attachments": {},
   "cell_type": "markdown",
   "metadata": {},
   "source": [
    "### 3.`fun_runge Function (1-dim)`\n",
    "\n",
    "* The Runge function is defined as follows:\n",
    "\n",
    "  `f(x) = 1/ (1 + sum(x_i))^2`\n",
    "\n",
    "* Data points are generated as follows:"
   ]
  },
  {
   "cell_type": "code",
   "execution_count": null,
   "metadata": {},
   "outputs": [],
   "source": [
    "gen = spacefilling(1)\n",
    "rng = np.random.RandomState(1)\n",
    "lower = np.array([-10])\n",
    "upper = np.array([10])\n",
    "fun = analytical().fun_runge\n",
    "fun_control = {\"sigma\": 0.025,\n",
    "               \"seed\": 123}\n",
    "X_train = gen.scipy_lhd(10, lower=lower, upper = upper).reshape(-1,1)\n",
    "y_train = fun(X, fun_control=fun_control)\n",
    "X = np.linspace(start=-13, stop=13, num=1000).reshape(-1, 1)\n",
    "y = fun(X, fun_control=fun_control)"
   ]
  },
  {
   "attachments": {},
   "cell_type": "markdown",
   "metadata": {},
   "source": [
    "* Describe the function.\n",
    "* Compare the two models that were build using the `spotPython` and the `sklearn` surrogate.\n",
    "* Note: Modify the noise level (`\"sigma\"`), e.g., use a value of `0.05`, and compare the two models."
   ]
  },
  {
   "cell_type": "code",
   "execution_count": null,
   "metadata": {},
   "outputs": [],
   "source": [
    "fun_control = {\"sigma\": 0.5}"
   ]
  },
  {
   "attachments": {},
   "cell_type": "markdown",
   "metadata": {},
   "source": [
    "### 4. `fun_cubed (1-dim)`\n",
    "\n",
    "* The Cubed function is defined as follows:\n",
    "\n",
    "    `np.sum(X[i]** 3)`"
   ]
  },
  {
   "attachments": {},
   "cell_type": "markdown",
   "metadata": {},
   "source": [
    "* Data points are generated as follows:"
   ]
  },
  {
   "cell_type": "code",
   "execution_count": null,
   "metadata": {},
   "outputs": [],
   "source": [
    "gen = spacefilling(1)\n",
    "rng = np.random.RandomState(1)\n",
    "lower = np.array([-10])\n",
    "upper = np.array([10])\n",
    "fun = analytical().fun_cubed\n",
    "fun_control = {\"sigma\": 0.025,\n",
    "               \"seed\": 123}\n",
    "X_train = gen.scipy_lhd(10, lower=lower, upper = upper).reshape(-1,1)\n",
    "y_train = fun(X, fun_control=fun_control)\n",
    "X = np.linspace(start=-13, stop=13, num=1000).reshape(-1, 1)\n",
    "y = fun(X, fun_control=fun_control)"
   ]
  },
  {
   "attachments": {},
   "cell_type": "markdown",
   "metadata": {},
   "source": [
    "* Describe the function.\n",
    "* Compare the two models that were build using the `spotPython` and the `sklearn` surrogate.\n",
    "* Note: Modify the noise level (`\"sigma\"`), e.g., use a value of `0.05`, and compare the two models."
   ]
  },
  {
   "cell_type": "code",
   "execution_count": null,
   "metadata": {},
   "outputs": [],
   "source": [
    "fun_control = {\"sigma\": 0.05}"
   ]
  },
  {
   "attachments": {},
   "cell_type": "markdown",
   "metadata": {},
   "source": [
    "## Exercise 2\n",
    "\n",
    "* How does the behavior of the `spotPython` fit changes when the argument `noise` is set to `True`, i.e.,\n",
    "    \n",
    "    `S = Kriging(name='kriging',  seed=123, n_theta=1, noise=True)`\n",
    "\n",
    "is used?"
   ]
  },
  {
   "attachments": {},
   "cell_type": "markdown",
   "metadata": {},
   "source": [
    "# Solutions"
   ]
  },
  {
   "attachments": {},
   "cell_type": "markdown",
   "metadata": {},
   "source": [
    "### 1. `Schonlau Example Function`"
   ]
  },
  {
   "attachments": {},
   "cell_type": "markdown",
   "metadata": {},
   "source": [
    "### 2. `Forrester Example Function`"
   ]
  },
  {
   "attachments": {},
   "cell_type": "markdown",
   "metadata": {},
   "source": [
    "### 3.`fun_runge Function (1-dim)`"
   ]
  },
  {
   "attachments": {},
   "cell_type": "markdown",
   "metadata": {},
   "source": [
    "### 4. `fun_cubed (1-dim)`"
   ]
  }
 ],
 "metadata": {
  "kernelspec": {
   "display_name": "spotCondaEnv",
   "language": "python",
   "name": "python3"
  },
  "language_info": {
   "codemirror_mode": {
    "name": "ipython",
    "version": 3
   },
   "file_extension": ".py",
   "mimetype": "text/x-python",
   "name": "python",
   "nbconvert_exporter": "python",
   "pygments_lexer": "ipython3",
   "version": "3.10.6"
  },
  "orig_nbformat": 4,
  "vscode": {
   "interpreter": {
    "hash": "81c77de872def749acd68d9955e19f0df6803301f4c1f66c3444af66334112ae"
   }
  }
 },
 "nbformat": 4,
 "nbformat_minor": 2
}
