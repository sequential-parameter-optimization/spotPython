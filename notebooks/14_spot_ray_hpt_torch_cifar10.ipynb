{
  "cells": [
    {
      "cell_type": "raw",
      "metadata": {},
      "source": [
        "---\n",
        "title: PyTorch Hyperparameter Tuning --- A Tutorial for spotPython\n",
        "subtitle: Version 0.1.3\n",
        "format:\n",
        "  pdf:\n",
        "    template: bart23e_template.tex\n",
        "    fig-width: 7\n",
        "    fig-height: 5\n",
        "    keep-tex: true\n",
        "    linenumbers: false\n",
        "    doublespacing: false\n",
        "    number-sections: true\n",
        "    runninghead: PyTorch Hyperparameter Tuning With spotPython\n",
        "  html:\n",
        "    fig-width: 7\n",
        "    fig-height: 5\n",
        "author:\n",
        "  - name: Thomas Bartz-Beielstein\n",
        "    affiliations:\n",
        "      - name: SpotSeven Lab\n",
        "      - city: Gummersbach\n",
        "        country: Germany\n",
        "        postal-code: 51643\n",
        "    orcid: 0000-0002-5938-5158\n",
        "    email: bartzbeielstein@gmail.com\n",
        "    url: 'https://www.spotseven.de'\n",
        "abstract: |\n",
        "  The goal of hyperparameter tuning (or hyperparameter optimization) is to optimize the hyperparameters to improve the performance of the machine or deep learning model. spotPython (\"Sequential Parameter Optimization Toolbox in Python\") is the Python version of the well-known hyperparameter tuner SPOT, which has been developed in the R programming environment for statistical analysis for over a decade. PyTorch is an optimized tensor library for deep learning using GPUs and CPUs. This document shows how to integrate the spotPython hyperparameter tuner into the PyTorch training workflow.  As an example, the results of the CIFAR10 image classifier are used. In addition to an introduction to spotPython, this tutorial also includes a brief comparison with Ray Tune, a Python library for running experiments and tuning hyperparameters. This comparison is based on the PyTorch hyperparameter tuning tutorial. The advantages and disadvantages of both approaches are discussed. We show that spotPython achieves similar or even better results while being more flexible and transparent than Ray Tune.\n",
        "keywords:\n",
        "  - hyperparameter tuning\n",
        "  - hyperparameter optimization\n",
        "  - spotPython\n",
        "  - PyTorch\n",
        "  - CIFAR10\n",
        "  - optimization\n",
        "  - deep learning\n",
        "  - machine learning\n",
        "bibliography: bart23e.bib\n",
        "execute:\n",
        "  cache: false\n",
        "  eval: false\n",
        "  echo: true\n",
        "  warning: false\n",
        "---"
      ]
    },
    {
      "attachments": {},
      "cell_type": "markdown",
      "metadata": {},
      "source": [
        "# Hyperparameter Tuning {#sec-hyperparameter-tuning}\n",
        "\n",
        "Hyperparameter tuning is an important, but often difficult and computationally intensive task.\n",
        "Changing the architecture of a neural network or the learning rate of an optimizer can have a significant impact on the performance .\n",
        "\n",
        "The goal of hyperparameter tuning is to optimize the hyperparameters in a way that improves the performance of the machine learning or deep learning model.\n",
        "The simplest, but also most computationally expensive, approach uses manual search (or trial-and-error [@Meignan:2015vp]).\n",
        "Commonly encountered is simple random search, i.e., random and repeated selection of hyperparameters for evaluation, and lattice search (\"grid search\").\n",
        "In addition, methods that perform directed search  and other model-free algorithms, i.e., algorithms that do not explicitly rely on a model, e.g., evolution strategies [@Bart13j] or pattern search [@Torczon00] play an important role.\n",
        "Also, \"hyperband\", i.e., a multi-armed bandit strategy that dynamically allocates resources to a set of random configurations and uses successive bisections to stop configurations with poor performance [@Li16a], is very common in hyperparameter tuning.\n",
        "The most sophisticated and efficient approaches are the Bayesian optimization and surrogate model based optimization methods, which are based on the optimization of cost functions determined by simulations or experiments.\n",
        "\n",
        "We consider below a surrogate model based optimization-based hyperparameter tuning approach based on the Python version of the SPOT (\"Sequential Parameter Optimization Toolbox\") [@BLP05], which is suitable for situations where only limited resources are available. This may be due to limited availability and cost of hardware, or due to the fact that confidential data may only be processed locally, e.g., due to legal requirements.\n",
        "Furthermore, in our approach, the understanding of algorithms is seen as a key tool for enabling transparency and explainability. This can be enabled, for example, by quantifying the contribution of machine learning and deep learning components (nodes, layers, split decisions, activation functions, etc.).\n",
        "Understanding the importance of hyperparameters and the interactions between multiple hyperparameters plays a major role in the interpretability and explainability of machine learning models.\n",
        "SPOT provides statistical tools for understanding hyperparameters and their interactions. Last but not least, it should be noted that the SPOT software code is available in the open source `spotPython` package on github^[[https://github.com/sequential-parameter-optimization](https://github.com/sequential-parameter-optimization)], allowing replicability of the results.\n",
        "This tutorial descries the Python variant of SPOT, which is called `spotPython`. The R implementation is described in @bart21i.\n",
        "SPOT is an established open source software that has been maintained for more than 15 years [@BLP05] [@bart21i].\n",
        "\n",
        "This tutorial is structured as follows. The concept of the hyperparameter tuning software `spotPython` is described in @sec-spot. @sec-hyperparameter-tuning-for-pytorch describes the integration of `spotPython` into the ``PyTorch`` training workflow and presents the results. Finally, @sec-summary presents a summary and an outlook.\n",
        "\n",
        "::: {.callout-note}\n",
        "The corresponding ` .ipynb` notebook [@bart23e] is updated regularly and reflects updates and changes in the `spotPython` package.\n",
        "It can be downloaded from [https://github.com/sequential-parameter-optimization/spotPython/blob/main/notebooks/14_spot_ray_hpt_torch_cifar10.ipynb](https://github.com/sequential-parameter-optimization/spotPython/blob/main/notebooks/14_spot_ray_hpt_torch_cifar10.ipynb).\n",
        ":::\n",
        "\n",
        "\n",
        "# The Hyperparameter Tuning Software SPOT {#sec-spot}\n",
        "\n",
        "Surrogate model based optimization methods are common approaches in simulation and optimization. SPOT was developed because there is a great need for sound statistical analysis of simulation and optimization algorithms. SPOT includes methods for tuning based on classical regression and analysis of variance techniques.\n",
        "It presents tree-based models such as classification and regression trees and random forests as well as Bayesian optimization (Gaussian process models, also known as Kriging). Combinations of different meta-modeling approaches are possible. SPOT comes with a sophisticated surrogate model based optimization method, that can handle discrete and continuous inputs. Furthermore, any model implemented in `scikit-learn` can be used out-of-the-box as a surrogate in `spotPython`.\n",
        "\n",
        "SPOT implements key techniques such as exploratory fitness landscape analysis and sensitivity analysis. It can be used to understand the performance of various algorithms, while simultaneously giving insights into their algorithmic behavior.\n",
        "In addition, SPOT can be used as an optimizer and for automatic and interactive tuning. Details on SPOT and its use in practice are given by @bart21i.\n",
        "\n",
        "A typical hyperparameter tuning process with `spotPython` consists of the following steps:\n",
        "\n",
        "1. Loading the data (training and test datasets), see @sec-data-loading.\n",
        "2. Specification of the preprocessing model, see @sec-specification-of-preprocessing-model. This model is called `prep_model` (\"preparation\" or pre-processing).\n",
        "The information required for the hyperparameter tuning is stored in the dictionary `fun_control`. Thus, the information needed for the execution of the hyperparameter tuning is available in a readable form.\n",
        "3. Selection of the machine learning or deep learning model to be tuned, see @sec-selection-of-the-algorithm. This is called the `core_model`. Once the `core_model` is defined, then the associated hyperparameters are stored in the `fun_control` dictionary. First, the hyperparameters of the `core_model` are initialized with the default values of the `core_model`.\n",
        "As default values we use the default values contained in the `spotPython` package for the algorithms of the `torch` package.\n",
        "4. Modification of the default values for the hyperparameters used in `core_model`, see @sec-modification-of-default-values. This step is optional.\n",
        "   1. numeric parameters are modified by changing the bounds.\n",
        "   2. categorical parameters are modified by changing the categories (\"levels\").\n",
        "5. Selection of target function (loss function) for the optimizer, see @sec-selection-of-target-function.\n",
        "6. Calling SPOT with the corresponding parameters, see @sec-call-the-hyperparameter-tuner. The results are stored in a dictionary and are available for further analysis.\n",
        "7. Presentation, visualization and interpretation of the results, see @sec-results-tuning.\n",
        "\n",
        "# Hyperparameter Tuning for PyTorch With `spotPython` {#sec-hyperparameter-tuning-for-pytorch}\n",
        "\n",
        "In this tutorial, we will show how `spotPython` can be integrated into the `PyTorch`\n",
        "training workflow. It is based on the tutorial \"Hyperparameter Tuning with Ray Tune\" from the `PyTorch` documentation [@pyto23a], which is an extension of the tutorial \"Training a Classifier\" [@pyto23b] for training a CIFAR10 image classifier.\n",
        "\n",
        "This document refers to the following software versions:\n",
        "\n",
        "- ``python``: 3.10.10\n",
        "- ``torch``: 2.0.1\n",
        "- ``torchvision``: 0.15.0\n",
        "- ``spotPython``: 0.1.3\n",
        "\n",
        "`spotPython` can be installed via pip^[Alternatively, the source code can be downloaded from gitHub: [https://github.com/sequential-parameter-optimization/spotPython](https://github.com/sequential-parameter-optimization/spotPython).].\n",
        "\n",
        "```{raw}\n",
        "!pip install spotPython\n",
        "```\n",
        "\n",
        "Results that refer to the `Ray Tune` package are taken from [https://PyTorch.org/tutorials/beginner/hyperparameter_tuning_tutorial.html](https://PyTorch.org/tutorials/beginner/hyperparameter_tuning_tutorial.html)^[We were not able to install `Ray Tune` on our system. Therefore, we used the results from the `PyTorch` tutorial.].\n",
        "\n",
        "## Setup {#sec-setup}\n",
        "\n",
        "Before we consider the detailed experimental setup, we select the parameters that affect run time, initial design size and the device that is used."
      ]
    },
    {
      "cell_type": "code",
      "execution_count": 1,
      "metadata": {},
      "outputs": [],
      "source": [
        "MAX_TIME = 60\n",
        "INIT_SIZE = 10\n",
        "DEVICE = \"cpu\" # \"cuda:0\""
      ]
    },
    {
      "cell_type": "code",
      "execution_count": 2,
      "metadata": {},
      "outputs": [
        {
          "name": "stdout",
          "output_type": "stream",
          "text": [
            "14-torch_maans03_60min_10init_2023-05-19_16-34-33\n"
          ]
        }
      ],
      "source": [
        "#| echo: false\n",
        "import os\n",
        "import copy\n",
        "import pickle\n",
        "import socket\n",
        "from datetime import datetime\n",
        "from dateutil.tz import tzlocal\n",
        "start_time = datetime.now(tzlocal())\n",
        "HOSTNAME = socket.gethostname().split(\".\")[0]\n",
        "experiment_name = '14-torch' + \"_\" + HOSTNAME + \"_\" + str(MAX_TIME) + \"min_\" + str(INIT_SIZE) + \"init_\" + str(start_time).split(\".\", 1)[0].replace(' ', '_')\n",
        "experiment_name = experiment_name.replace(':', '-')\n",
        "print(experiment_name)\n",
        "if not os.path.exists('./figures'):\n",
        "    os.makedirs('./figures')"
      ]
    },
    {
      "cell_type": "code",
      "execution_count": 3,
      "metadata": {},
      "outputs": [],
      "source": [
        "#| echo: false\n",
        "from tabulate import tabulate\n",
        "import warnings\n",
        "import json\n",
        "import numpy as np\n",
        "from math import inf\n",
        "import pandas as pd\n",
        "\n",
        "from scipy.optimize import differential_evolution\n",
        "\n",
        "import torch\n",
        "from torch import nn\n",
        "from torch.nn import CrossEntropyLoss\n",
        "from torch.utils.data import DataLoader\n",
        "import torch.nn.functional as F\n",
        "import torch.optim as optim\n",
        "from torch.utils.data import random_split\n",
        "import torchvision\n",
        "from torchvision import datasets\n",
        "import torchvision.transforms as transforms\n",
        "from torchvision.transforms import ToTensor\n",
        "\n",
        "from spotPython.spot import spot\n",
        "from spotPython.hyperparameters.values import (\n",
        "    add_core_model_to_fun_control,\n",
        "    assign_values,\n",
        "    get_bound_values,\n",
        "    get_default_values,\n",
        "    get_default_hyperparameters_as_array,\n",
        "    get_var_name,\n",
        "    get_var_type,\n",
        "    modify_hyper_parameter_levels,\n",
        "    modify_hyper_parameter_bounds,\n",
        "    return_conf_list_from_var_dict,\n",
        "    get_one_core_model_from_X,\n",
        ")\n",
        "from spotPython.torch.traintest import (\n",
        "    evaluate_cv,\n",
        "    evaluate_hold_out,\n",
        "    train_save,\n",
        "    test_saved,\n",
        "    )\n",
        "from spotPython.utils.eda import gen_design_table\n",
        "from spotPython.utils.transform import transform_hyper_parameter_values\n",
        "from spotPython.utils.init import fun_control_init\n",
        "\n",
        "from spotPython.data.torch_hyper_dict import TorchHyperDict\n",
        "from spotPython.fun.hypertorch import HyperTorch\n",
        "from spotPython.torch.netcifar10 import Net_CIFAR10\n",
        "\n",
        "warnings.filterwarnings(\"ignore\")"
      ]
    },
    {
      "cell_type": "markdown",
      "metadata": {},
      "source": [
        "## Initialization of the `fun_control` Dictionary\n",
        "\n",
        "`spotPython` uses a Python dictionary for storing the information required for the hyperparameter tuning process. This dictionary is called `fun_control` and is initialized with the function `fun_control_init`. The function `fun_control_init` returns a skeleton  dictionary. The dictionary is filled with the required information for the hyperparameter tuning process. It stores the hyperparameter tuning settings, e.g., the deep learning network architecture that should be tuned, the classification (or regression) problem, and the data that is used for the tuning.\n",
        "The dictionary is used as an input for the SPOT function.\n"
      ]
    },
    {
      "cell_type": "code",
      "execution_count": 4,
      "metadata": {},
      "outputs": [],
      "source": [
        "#| echo: true\n",
        "fun_control = fun_control_init()"
      ]
    },
    {
      "cell_type": "markdown",
      "metadata": {},
      "source": [
        "## Data Loading {#sec-data-loading}\n",
        "\n",
        "The data loading process is implemented in the same manner as described in the Section \"Data loaders\" in @pyto23a.\n",
        "The data loaders are wrapped into the function `load_data`. A global data directory is used, which allows sharing the data directory between different trials."
      ]
    },
    {
      "cell_type": "code",
      "execution_count": 5,
      "metadata": {},
      "outputs": [],
      "source": [
        "#| echo: true\n",
        "def load_data(data_dir=\"./data\"):\n",
        "    transform = transforms.Compose([\n",
        "        transforms.ToTensor(),\n",
        "        transforms.Normalize((0.5, 0.5, 0.5), (0.5, 0.5, 0.5))\n",
        "    ])\n",
        "\n",
        "    trainset = torchvision.datasets.CIFAR10(\n",
        "        root=data_dir, train=True, download=True, transform=transform)\n",
        "\n",
        "    testset = torchvision.datasets.CIFAR10(\n",
        "        root=data_dir, train=False, download=True, transform=transform)\n",
        "\n",
        "    return trainset, testset"
      ]
    },
    {
      "cell_type": "markdown",
      "metadata": {},
      "source": [
        "The test and train data are added to the dictionary `fun_control`.\n"
      ]
    },
    {
      "cell_type": "code",
      "execution_count": 6,
      "metadata": {},
      "outputs": [
        {
          "name": "stdout",
          "output_type": "stream",
          "text": [
            "Files already downloaded and verified\n",
            "Files already downloaded and verified\n"
          ]
        }
      ],
      "source": [
        "#| echo: true\n",
        "train, test = load_data()\n",
        "n_samples = len(train)\n",
        "# add the dataset to the fun_control\n",
        "fun_control.update({\n",
        "    \"train\": train,\n",
        "    \"test\": test,\n",
        "    \"n_samples\": n_samples})"
      ]
    },
    {
      "cell_type": "markdown",
      "metadata": {},
      "source": [
        "## Specification of the Preprocessing Model {#sec-specification-of-preprocessing-model}\n",
        "\n",
        "After the training and test data are specified and added to the `fun_control` dictionary, `spotPython` allows the specification of a data preprocessing pipeline, e.g., for the scaling of the data or for the one-hot encoding of categorical variables. The preprocessing model is called `prep_model` (\"preparation\" or pre-processing) and includes steps that are not subject to the hyperparameter tuning process. The preprocessing model is specified in the `fun_control` dictionary. The preprocessing model can be implemented as a `sklearn` pipeline. The following code shows a typical preprocessing pipeline:\n",
        "\n",
        "```{raw}\n",
        "categorical_columns = [\"cities\", \"colors\"]\n",
        "one_hot_encoder = OneHotEncoder(handle_unknown=\"ignore\",\n",
        "                                    sparse_output=False)\n",
        "prep_model = ColumnTransformer(\n",
        "        transformers=[\n",
        "             (\"categorical\", one_hot_encoder, categorical_columns),\n",
        "         ],\n",
        "         remainder=StandardScaler(),\n",
        "     )\n",
        "```\n",
        "\n",
        "Because the Ray Tune (`ray[tune]`) hyperparameter tuning as described in @pyto23a does not use a preprocessing model, the preprocessing model is set to `None` here."
      ]
    },
    {
      "cell_type": "code",
      "execution_count": 7,
      "metadata": {},
      "outputs": [],
      "source": [
        "#| echo: true\n",
        "prep_model = None\n",
        "fun_control.update({\"prep_model\": prep_model})"
      ]
    },
    {
      "cell_type": "markdown",
      "metadata": {},
      "source": [
        "## Select `algorithm` and `core_model_hyper_dict` {#sec-selection-of-the-algorithm}\n",
        "\n",
        "The same neural network model as implemented in the section \"Configurable neural network\" of the `PyTorch` tutorial [@pyto23a] is used here.\n",
        "We will show the implementation from @pyto23a in @sec-implementation-with-raytune first, before the extended implementation with `spotPython` is shown in @sec-implementation-with-spotpython.\n",
        "\n",
        "\n",
        "### Implementing a Configurable Neural Network With Ray Tune{#sec-implementation-with-raytune}\n",
        "\n",
        "We used the same hyperparameters that are implemented as configurable in the `PyTorch` tutorial. We specify the layer sizes, namely `l1` and `l2`, of the fully connected layers:\n",
        "\n",
        "```{raw}\n",
        "class Net(nn.Module):\n",
        "    def __init__(self, l1=120, l2=84):\n",
        "        super(Net, self).__init__()\n",
        "        self.conv1 = nn.Conv2d(3, 6, 5)\n",
        "        self.pool = nn.MaxPool2d(2, 2)\n",
        "        self.conv2 = nn.Conv2d(6, 16, 5)\n",
        "        self.fc1 = nn.Linear(16 * 5 * 5, l1)\n",
        "        self.fc2 = nn.Linear(l1, l2)\n",
        "        self.fc3 = nn.Linear(l2, 10)\n",
        "\n",
        "    def forward(self, x):\n",
        "        x = self.pool(F.relu(self.conv1(x)))\n",
        "        x = self.pool(F.relu(self.conv2(x)))\n",
        "        x = x.view(-1, 16 * 5 * 5)\n",
        "        x = F.relu(self.fc1(x))\n",
        "        x = F.relu(self.fc2(x))\n",
        "        x = self.fc3(x)\n",
        "        return x\n",
        "\n",
        "```\n",
        "\n",
        "The learning rate, i.e., `lr`,  of the optimizer is made configurable, too:\n",
        "\n",
        "```{raw}\n",
        "optimizer = optim.SGD(net.parameters(), lr=config[\"lr\"], momentum=0.9)\n",
        "```\n",
        "\n",
        "### Implementing a Configurable Neural Network With spotPython {#sec-implementation-with-spotpython}\n",
        "\n",
        "`spotPython` implements a class which is similar to the class described in the `PyTorch` tutorial. The class is called `Net_CIFAR10` and is implemented in the file `netcifar10.py`.\n",
        "\n",
        "```{raw}\n",
        "import spotPython.torch.netcore as netcore\n",
        "class Net_CIFAR10(netcore.Net_Core):\n",
        "    def __init__(self, l1, l2, lr, batch_size, epochs, k_folds, patience):\n",
        "        super(Net_CIFAR10, self).__init__(\n",
        "            lr=lr, batch_size=batch_size, epochs=epochs, k_folds=k_folds,\n",
        "            patience=patience\n",
        "        )\n",
        "        self.conv1 = nn.Conv2d(3, 6, 5)\n",
        "        self.pool = nn.MaxPool2d(2, 2)\n",
        "        self.conv2 = nn.Conv2d(6, 16, 5)\n",
        "        self.fc1 = nn.Linear(16 * 5 * 5, l1)\n",
        "        self.fc2 = nn.Linear(l1, l2)\n",
        "        self.fc3 = nn.Linear(l2, 10)\n",
        "\n",
        "    def forward(self, x):\n",
        "        x = self.pool(F.relu(self.conv1(x)))\n",
        "        x = self.pool(F.relu(self.conv2(x)))\n",
        "        x = x.view(-1, 16 * 5 * 5)\n",
        "        x = F.relu(self.fc1(x))\n",
        "        x = F.relu(self.fc2(x))\n",
        "        x = self.fc3(x)\n",
        "        return x\n",
        "```\n",
        "\n",
        "`Net_CIFAR10` inherits from the class `Net_Core` which is implemented in the file `netcore.py`.  It implements the additional attributes that are common to all neural network models. The attributes are the learning rate `lr`, the batch size `batch_size`, the number of epochs `epochs`, the number of folds `k_folds` for the cross validation, and the patience `patience` for the early stopping. The class `Net_Core` is shown below.\n",
        "\n",
        "```{raw}\n",
        "from torch import nn\n",
        "\n",
        "\n",
        "class Net_Core(nn.Module):\n",
        "    def __init__(self, lr, batch_size, epochs, k_folds, patience):\n",
        "        super(Net_Core, self).__init__()\n",
        "        self.lr = lr\n",
        "        self.batch_size = batch_size\n",
        "        self.epochs = epochs\n",
        "        self.k_folds = k_folds\n",
        "        self.patience = patience\n",
        "```\n",
        "\n",
        "### Comparison of the Approach Described in the PyTorch Tutorial With spotPython {#sec-comparison}\n",
        "\n",
        "Comparing the class `Net` from the `PyTorch` tutorial and the class `Net_CIFAR10` from `spotPython`, we see that the class `Net_CIFAR10` has additional attributes and does not inherit from `nn` directly. It adds an additional class, `Net_core`, that takes care of additional attributes that are common to all neural network models, e.g., the learning rate `lr` or the batch size `batch_size`.\n",
        "\n",
        "`spotPython`'s `core_model` implements an instance of the `Net_CIFAR10` class. In addition to the basic neural network model, the `core_model` can use these additional attributes.\n",
        "`spotPython` provides methods for handling these additional attributes to guarantee 100% compatibility with the `PyTorch` classes. The method `add_core_model_to_fun_control` adds the hyperparameters and additional attributes to the `fun_control` dictionary. The method is shown below."
      ]
    },
    {
      "cell_type": "code",
      "execution_count": 8,
      "metadata": {},
      "outputs": [],
      "source": [
        "#| echo: true\n",
        "core_model = Net_CIFAR10\n",
        "fun_control = add_core_model_to_fun_control(core_model=core_model,\n",
        "                              fun_control=fun_control,\n",
        "                              hyper_dict=TorchHyperDict,\n",
        "                              filename=None)"
      ]
    },
    {
      "cell_type": "markdown",
      "metadata": {},
      "source": [
        "::: {.callout-note}\n",
        "In addition to the class Net from the `PyTorch` tutorial, the class Net_CIFAR10 has additional attributes, e.g.:\n",
        "\n",
        "* learning rate (`lr`),\n",
        "* batch size (`batch_size`),\n",
        "* epochs (`epochs`),\n",
        "* k_folds (`k_folds`), and\n",
        "* early stopping criterion \"patience\" (`patience`)\n",
        "\n",
        "Further attributes can be easily added to the class, e.g., `optimizer` or `loss_function`.\n",
        ":::\n",
        "\n",
        "## The Search Space {#sec-search-space}\n",
        "\n",
        "In @sec-configuring-the-search-space-with-ray-tune, we first describe how to configure the search space with `ray[tune]`  (as shown in @pyto23a) \n",
        "and then how to configure the search space with `spotPython` in @sec-configuring-the-search-space-with-spotpython.\n",
        "\n",
        "### Configuring the Search Space With Ray Tune {#sec-configuring-the-search-space-with-ray-tune}\n",
        "\n",
        " Ray Tune's search space can be configured as follows [@pyto23a]:\n",
        "\n",
        "```{raw}\n",
        "config = {\n",
        "    \"l1\": tune.sample_from(lambda _: 2**np.random.randint(2, 9)),\n",
        "    \"l2\": tune.sample_from(lambda _: 2**np.random.randint(2, 9)),\n",
        "    \"lr\": tune.loguniform(1e-4, 1e-1),\n",
        "    \"batch_size\": tune.choice([2, 4, 8, 16])\n",
        "}\n",
        "```\n",
        "The ``tune.sample_from()`` function enables the user to define sample\n",
        "methods to obtain hyperparameters. In this example, the ``l1`` and ``l2`` parameters\n",
        "should be powers of 2 between 4 and 256, so either 4, 8, 16, 32, 64, 128, or 256.\n",
        "The ``lr`` (learning rate) should be uniformly sampled between 0.0001 and 0.1. Lastly,\n",
        "the batch size is a choice between 2, 4, 8, and 16.\n",
        "\n",
        "At each trial, `ray[tune]` will randomly sample a combination of parameters from these\n",
        "search spaces. It will then train a number of models in parallel and find the best\n",
        "performing one among these. `ray[tune]` uses the ``ASHAScheduler`` which will terminate bad\n",
        "performing trials early.\n",
        "\n",
        "### Configuring the Search Space With spotPython {#sec-configuring-the-search-space-with-spotpython}\n",
        "\n",
        "#### The `hyper_dict` Hyperparameters for the Selected Algorithm\n",
        "\n",
        "`spotPython` uses simple `JSON` files for the specification of the hyperparameters.\n",
        "Users can specify their individual  `JSON` files, or they can use the `JSON` files provided by `spotPython`.\n",
        "The `JSON` file for the `core_model` is called `torch_hyper_dict.json`.\n",
        "\n",
        "Each entry in the `JSON` file represents one hyperparameter with the following structure:\n",
        "`type`, `default`, `transform`, `lower`, and `upper`.\n",
        "The corresponding entries for the `Net_CIFAR10` class are shown below.\n",
        "\n",
        "```json\n",
        "{\"Net_CIFAR10\":\n",
        "    {\n",
        "        \"l1\": {\n",
        "            \"type\": \"int\",\n",
        "            \"default\": 5,\n",
        "            \"transform\": \"transform_power_2_int\",\n",
        "            \"lower\": 2,\n",
        "            \"upper\": 9},\n",
        "        \"l2\": {\n",
        "            \"type\": \"int\",\n",
        "            \"default\": 5,\n",
        "            \"transform\": \"transform_power_2_int\",\n",
        "            \"lower\": 2,\n",
        "            \"upper\": 9},\n",
        "        \"lr\": {\n",
        "            \"type\": \"float\",\n",
        "            \"default\": 1e-03,\n",
        "            \"transform\": \"None\",\n",
        "            \"lower\": 1e-05,\n",
        "            \"upper\": 1e-02},\n",
        "        \"batch_size\": {\n",
        "            \"type\": \"int\",\n",
        "            \"default\": 4,\n",
        "            \"transform\": \"transform_power_2_int\",\n",
        "            \"lower\": 1,\n",
        "            \"upper\": 4},\n",
        "        \"epochs\": {\n",
        "            \"type\": \"int\",\n",
        "            \"default\": 3,\n",
        "            \"transform\": \"transform_power_2_int\",\n",
        "            \"lower\": 1,\n",
        "            \"upper\": 4},\n",
        "        \"k_folds\": {\n",
        "            \"type\": \"int\",\n",
        "            \"default\": 2,\n",
        "            \"transform\": \"None\",\n",
        "            \"lower\": 2,\n",
        "            \"upper\": 3},\n",
        "        \"patience\": {\n",
        "            \"type\": \"int\",\n",
        "            \"default\": 5,\n",
        "            \"transform\": \"None\",\n",
        "            \"lower\": 2,\n",
        "            \"upper\": 10},\n",
        "        \"optimizer\": {\n",
        "            \"levels\": [\"Adadelta\",\n",
        "                       \"Adagrad\",\n",
        "                       \"Adam\",\n",
        "                       \"AdamW\",\n",
        "                       \"SparseAdam\",\n",
        "                       \"Adamax\",\n",
        "                       \"ASGD\",\n",
        "                       \"LBFGS\",\n",
        "                       \"NAdam\",\n",
        "                       \"RAdam\",\n",
        "                       \"RMSprop\",\n",
        "                       \"Rprop\",\n",
        "                       \"SGD\"],\n",
        "            \"type\": \"factor\",\n",
        "            \"default\": \"SGD\",\n",
        "            \"transform\": \"None\",\n",
        "            \"class_name\": \"torch.optim\",\n",
        "            \"core_model_parameter_type\": \"str\",\n",
        "            \"lower\": 0,\n",
        "            \"upper\": 12},\n",
        "        \"criterion\": {\n",
        "            \"levels\": [\"L1Loss\",\n",
        "                       \"MSELoss\",\n",
        "                       \"CrossEntropyLoss\",\n",
        "                       \"CTCLoss\",\n",
        "                       \"NLLLoss\",\n",
        "                       \"PoissonNLLLoss\",\n",
        "                       \"GaussianNLLLoss\",\n",
        "                       \"KLDivLoss\",\n",
        "                       \"BCELoss\",\n",
        "                       \"BCEWithLogitsLoss\",\n",
        "                       \"MarginRankingLoss\",\n",
        "                       \"HingeEmbeddingLoss\",\n",
        "                       \"MultiLabelMarginLoss\",\n",
        "                       \"HuberLoss\",\n",
        "                       \"SmoothL1Loss\",\n",
        "                       \"SoftMarginLoss\",\n",
        "                       \"MultiLabelSoftMarginLoss\",\n",
        "                       \"CosineEmbeddingLoss\",\n",
        "                       \"MultiMarginLoss\",\n",
        "                       \"TripletMarginLoss\",\n",
        "                       \"TripletMarginWithDistanceLoss\"],\n",
        "            \"type\": \"factor\",\n",
        "            \"default\": \"CrossEntropyLoss\",\n",
        "            \"transform\": \"None\",\n",
        "            \"class_name\": \"torch.nn\",\n",
        "            \"core_model_parameter_type\": \"instance()\",\n",
        "            \"lower\": 0,\n",
        "            \"upper\": 20}\n",
        "    }\n",
        "}\n",
        "```\n",
        "\n",
        "\n",
        "#### Categorical Hyperparameters\n",
        "\n",
        "In contrast to `ray[tune]`, `spotPython` can handle numerical, boolean, and categorical hyperparameters. Since `ray[tune]` does not tune categorical hyperparameters, they are not used here. However, they can be specified in the `JSON` file in a similar way as the numerical hyperparameters as shown below:\n",
        "\n",
        "```json\n",
        "\"factor_hyperparameter\": {\n",
        "    \"levels\": [\"A\", \"B\", \"C\"],\n",
        "    \"type\": \"factor\",\n",
        "    \"default\": \"B\",\n",
        "    \"transform\": \"None\",\n",
        "    \"core_model_parameter_type\": \"str\",\n",
        "    \"lower\": 0,\n",
        "    \"upper\": 2},\n",
        "```\n",
        "\n",
        "## Modifying the Hyperparameters {#sec-modification-of-hyperparameters}\n",
        "\n",
        "Ray tune [@pyto23a] does not provide a way to change the specified hyperparameters without re-compilation. However, `spotPython` provides functions for modifying the hyperparameters, their bounds and factors as well as for activating and de-activating hyperparameters without re-compilation of the Python source code. These functions are described in the following.\n",
        "\n",
        "### Modify `hyper_dict` Hyperparameters for the Selected Algorithm aka `core_model` {#sec-modification-of-default-values}\n",
        "\n",
        "After specifying the model, the corresponding hyperparameters, their types and bounds are loaded from the `JSON` file `torch_hyper_dict.json`. After loading, the user can modify the hyperparameters, e.g., the bounds.\n",
        "`spotPython` provides a simple rule for de-activating hyperparameters: If the lower and the upper bound are set to identical values, the hyperparameter is de-activated. This is useful for the hyperparameter tuning, because it allows to specify a hyperparameter in the `JSON` file, but to de-activate it in the `fun_control` dictionary. This is done in the next step.\n",
        "\n",
        "\n",
        "### Modify Hyperparameters of Type numeric and integer (boolean)\n",
        "\n",
        "Since the hyperparameter `k_folds` is not used in the `PyTorch` tutorial, it is de-activated here by setting the lower and upper bound to the same value. Note, `k_folds` is of type \"integer\"."
      ]
    },
    {
      "cell_type": "code",
      "execution_count": 9,
      "metadata": {},
      "outputs": [
        {
          "data": {
            "text/plain": [
              "{'l1': {'type': 'int',\n",
              "  'default': 5,\n",
              "  'transform': 'transform_power_2_int',\n",
              "  'lower': 2,\n",
              "  'upper': 9},\n",
              " 'l2': {'type': 'int',\n",
              "  'default': 5,\n",
              "  'transform': 'transform_power_2_int',\n",
              "  'lower': 2,\n",
              "  'upper': 9},\n",
              " 'lr': {'type': 'float',\n",
              "  'default': 0.001,\n",
              "  'transform': 'None',\n",
              "  'lower': 1e-05,\n",
              "  'upper': 0.01},\n",
              " 'batch_size': {'type': 'int',\n",
              "  'default': 4,\n",
              "  'transform': 'transform_power_2_int',\n",
              "  'lower': 1,\n",
              "  'upper': 5},\n",
              " 'epochs': {'type': 'int',\n",
              "  'default': 3,\n",
              "  'transform': 'transform_power_2_int',\n",
              "  'lower': 3,\n",
              "  'upper': 4},\n",
              " 'k_folds': {'type': 'int',\n",
              "  'default': 2,\n",
              "  'transform': 'None',\n",
              "  'lower': 0,\n",
              "  'upper': 0},\n",
              " 'patience': {'type': 'int',\n",
              "  'default': 5,\n",
              "  'transform': 'None',\n",
              "  'lower': 3,\n",
              "  'upper': 3},\n",
              " 'optimizer': {'levels': ['Adadelta',\n",
              "   'Adagrad',\n",
              "   'Adam',\n",
              "   'AdamW',\n",
              "   'SparseAdam',\n",
              "   'Adamax',\n",
              "   'ASGD',\n",
              "   'LBFGS',\n",
              "   'NAdam',\n",
              "   'RAdam',\n",
              "   'RMSprop',\n",
              "   'Rprop',\n",
              "   'SGD'],\n",
              "  'type': 'factor',\n",
              "  'default': 'SGD',\n",
              "  'transform': 'None',\n",
              "  'class_name': 'torch.optim',\n",
              "  'core_model_parameter_type': 'str',\n",
              "  'lower': 0,\n",
              "  'upper': 12},\n",
              " 'criterion': {'levels': ['L1Loss',\n",
              "   'MSELoss',\n",
              "   'CrossEntropyLoss',\n",
              "   'CTCLoss',\n",
              "   'NLLLoss',\n",
              "   'PoissonNLLLoss',\n",
              "   'GaussianNLLLoss',\n",
              "   'KLDivLoss',\n",
              "   'BCELoss',\n",
              "   'BCEWithLogitsLoss',\n",
              "   'MarginRankingLoss',\n",
              "   'HingeEmbeddingLoss',\n",
              "   'MultiLabelMarginLoss',\n",
              "   'HuberLoss',\n",
              "   'SmoothL1Loss',\n",
              "   'SoftMarginLoss',\n",
              "   'MultiLabelSoftMarginLoss',\n",
              "   'CosineEmbeddingLoss',\n",
              "   'MultiMarginLoss',\n",
              "   'TripletMarginLoss',\n",
              "   'TripletMarginWithDistanceLoss'],\n",
              "  'type': 'factor',\n",
              "  'default': 'CrossEntropyLoss',\n",
              "  'transform': 'None',\n",
              "  'class_name': 'torch.nn',\n",
              "  'core_model_parameter_type': 'instance()',\n",
              "  'lower': 0,\n",
              "  'upper': 20}}"
            ]
          },
          "execution_count": 9,
          "metadata": {},
          "output_type": "execute_result"
        }
      ],
      "source": [
        "#| echo: true\n",
        "fun_control = modify_hyper_parameter_bounds(fun_control, \"batch_size\", bounds=[1, 5])\n",
        "fun_control = modify_hyper_parameter_bounds(fun_control, \"k_folds\", bounds=[0, 0])\n",
        "fun_control = modify_hyper_parameter_bounds(fun_control, \"patience\", bounds=[3, 3])\n",
        "fun_control[\"core_model_hyper_dict\"]"
      ]
    },
    {
      "cell_type": "markdown",
      "metadata": {},
      "source": [
        "### Modify Hyperparameter of Type factor\n",
        "\n",
        "In a similar manner as for the numerical hyperparameters, the categorical hyperparameters can be modified.\n",
        "New configurations can be chosen by adding or deleting levels. For example, the hyperparameter `optimizer` can be re-configured as follows:\n",
        "\n",
        "In the following setting, two optimizers (`\"SGD\"` and `\"Adam\"`) will be compared during the `spotPython` hyperparameter tuning. The hyperparameter `optimizer` is active."
      ]
    },
    {
      "cell_type": "code",
      "execution_count": 10,
      "metadata": {},
      "outputs": [],
      "source": [
        "#| echo: true\n",
        "fun_control = modify_hyper_parameter_levels(fun_control, \"optimizer\", [\"SGD\", \"Adam\"])"
      ]
    },
    {
      "cell_type": "markdown",
      "metadata": {},
      "source": [
        "The hyperparameter `optimizer` can be de-activated by choosing only one value (level), here: `\"SGD\"`."
      ]
    },
    {
      "cell_type": "code",
      "execution_count": 11,
      "metadata": {},
      "outputs": [],
      "source": [
        "#| echo: true\n",
        "fun_control = modify_hyper_parameter_levels(fun_control, \"optimizer\", [\"SGD\"])"
      ]
    },
    {
      "attachments": {},
      "cell_type": "markdown",
      "metadata": {},
      "source": [
        "* As discussed in @sec-optimizers, there are some issues with the LBFGS optimizer. Therefore, the usage of the LBFGS optimizer is not  deactivated in `spotPython` by default. However, the LBFGS optimizer can be activated by adding it to the list of optimizers.\n",
        "* Rprop  was remmoved, because it does perform very poorly (as some pre-tests have shown). However, it can also be activated by adding it to the list of optimizers.\n",
        "* Therefore, there are elevendefault optimizers:"
      ]
    },
    {
      "cell_type": "code",
      "execution_count": 12,
      "metadata": {},
      "outputs": [],
      "source": [
        "#| echo: true\n",
        "fun_control = modify_hyper_parameter_levels(fun_control, \"optimizer\",[\"Adadelta\",\n",
        "     \"Adagrad\", \"Adam\", \"AdamW\", \"Adamax\", \"ASGD\", \"NAdam\", \"RAdam\",\n",
        "      \"RMSprop\", \"SGD\"])"
      ]
    },
    {
      "attachments": {},
      "cell_type": "markdown",
      "metadata": {},
      "source": [
        "### Optimizers {#sec-optimizers}\n",
        "\n",
        "@tbl-optimizers shows some of the optimizers available in `PyTorch`:\n",
        "\n",
        "| Optimizer | lr  | mom | weight | damp | nest | rho | lr_sc | lr_decay | betas |\n",
        "| :----- | :--- | :--- | :--- | :--- | :--- | :--- | :--- | :---| :---- |\n",
        "| SGD | required | float: 0 | float: 0 | float: 0 | bool: False | - | -| -| -|\n",
        "| Adadelta | - | - | float: 0 | - | - | float: 0.9 | float: 1.0| - | -|\n",
        "| Adagrad | float: 1e-2 | - | float: 0 | - | - | - | - | float: 0  | -|\n",
        "| Adam | float: 1e-3 | - | float: 0 | - | - | - | - | -| Tuple[float, float]: (0.9, 0.999) |\n",
        "| AdamW | float: 1e-3 | - | float: 1e-2 | - | - | - | - | -| Tuple[float, float]: (0.9, 0.999) |\n",
        "| SparseAdam | float: 1e-3 | - | - | - | - | - | - | -| Tuple[float, float]: (0.9, 0.999) |\n",
        "\n",
        ": Optimizers available in PyTorch (selection). \"mom\" denotes `momentum`, \"weight\" `weight_decay`, \"damp\" `dampening`, \"nest\" `nesterov`, and  \"lr_sc\" `learning rate for scaling delta`.  The default values are shown in the table. {#tbl-optimizers}\n",
        "\n",
        "`spotPython` implements an `optimization` handler that maps the optimizer names to the corresponding `PyTorch` optimizers.\n",
        "\n",
        "::: {.callout-note}\n",
        "### A note on LBFGS\n",
        "\n",
        "`PyTorch`'s LBFGS optimizer is deactivated in `spotPython` by default, because it does not perform very well. The  `PyTorch` documentation, see [https://pytorch.org/docs/stable/generated/torch.optim.LBFGS.html#torch.optim.LBFGS](https://pytorch.org/docs/stable/generated/torch.optim.LBFGS.html#torch.optim.LBFGS), states:\n",
        "\n",
        "> This is a very memory intensive optimizer (it requires additional `param_bytes * (history_size + 1)` bytes). If it doesn’t fit in memory try reducing the history size, or use a different algorithm.\n",
        "\n",
        "\n",
        "Furthermore, the LBFGS optimizer is not compatible with the `PyTorch` tutorial. The reason is that the LBFGS optimizer requires the `closure` function, which is not implemented in the `PyTorch` tutorial. Therefore, the `LBFGS` optimizer is recommended here.\n",
        ":::\n",
        "\n",
        "Since there are 10 optimizers in the portfolio, it is not recommended tuning the hyperparameters that effect one single optimizer only.\n",
        "Thus, the learning rate, which affects only the `SGD` optimizer, will be set to a fixed value. We choose the default value of `1e-3` for the learning rate, because this value can befound in `PyTorch` examples."
      ]
    },
    {
      "cell_type": "code",
      "execution_count": 13,
      "metadata": {},
      "outputs": [],
      "source": [
        "#| echo: true\n",
        "fun_control = modify_hyper_parameter_bounds(fun_control, \"lr\", bounds=[1e-3, 1e-3])"
      ]
    },
    {
      "attachments": {},
      "cell_type": "markdown",
      "metadata": {},
      "source": [
        "## Evaluation  {#sec-selection-of-target-function}\n",
        "\n",
        "The evaluation procedure requires the specification of two elements:\n",
        "\n",
        "1. the way how the data is split into a train and a test set and\n",
        "2. the loss function (and a metric).\n",
        "\n",
        "### Hold-out Data Split and Cross-Validation\n",
        "\n",
        "As a default, `spotPython` provides a standard hold-out data split and cross validation.\n",
        "\n",
        "#### Hold-out Data Split\n",
        "\n",
        "If a hold-out data split is used, the data will be partitioned into a training, a validation, and a test data set.\n",
        "The split depends on the setting of the `eval` parameter. If `eval` is set to `train_hold_out`, one data set, usually the original training data set, is split into a new training and a validation data set. The training data set is used for training the model. The validation data set is used for the evaluation of the hyperparameter configuration and early stopping to prevent overfitting. In this case, the original test data set is not used.\n",
        "The following splits are performed in the hold-out setting:\n",
        "$\\{\\text{train}_0, \\text{test}\\} \\rightarrow \\{\\text{train}_1, \\text{validation}_1, \\text{test}\\}$, where $\\text{train}_1 \\cup \\text{validation}_1 = \\text{train}_0$.\n",
        "\n",
        "\n",
        "::: {.callout-note}\n",
        "`spotPython` returns the hyperparameters of the machine learning and deep learning models, e.g., number of layers, learning rate, or optimizer, but not the model weights. Therefore, after the SPOT run is finished, the corresponding model has to be trained again with the best hyperparameter configuration. The training is performed on the training data set. The test data set is used for the final evaluation of the model.\n",
        "\n",
        "Summarizing, the following splits are performed in the hold-out setting:\n",
        "\n",
        "1. Run `spotPython` with `eval` set to `train_hold_out` to determine the best hyperparameter configuration.\n",
        "2. Train the model with the best hyperparameter configuration on the training data set:\n",
        "   * `train_save(model_spot, train, \"model_spot.pt\")`.\n",
        "3. Test the model on the test data:\n",
        "   * `test_saved(model_spot, test, \"model_spot.pt\")`\n",
        "\n",
        "These steps will be exemplified in the following sections.\n",
        ":::\n",
        "\n",
        "In addition to this `hold-out` setting, `spotPython` provides another hold-out setting, where an explicit test data is specified by the user that will be used as the validation set. To choose this option, the `eval` parameter is set to `test_hold_out`. In this case, the training data set is used for the model training. Then, the explicitly defined test data set is used for the evaluation of the hyperparameter configuration (the validation).\n",
        "\n",
        "#### Cross-Validation\n",
        "\n",
        "The cross validation setting is used by setting the `eval` parameter to `train_cv` or `test_cv`. In both  cases, the data set is split into $k$ folds. The model is trained on $k-1$ folds and evaluated on the remaining fold. This is repeated $k$ times, so that each fold is used exactly once for evaluation. The final evaluation is performed on the test data set. The cross validation setting is useful for small data sets, because it allows to use all data for training and evaluation. However, it is computationally expensive, because the model has to be trained $k$ times.\n",
        "\n",
        "::: {.callout-note}\n",
        "Combinations of the above settings are possible, e.g., cross validation can be used for training and hold-out for evaluation or \\emph{vice versa}. Also, cross validation can be used for training and testing. Because cross validation is not used in the `PyTorch` tutorial [@pyto23a], it is not considered further here.\n",
        ":::\n",
        "\n",
        "### Loss Functions and Metrics\n",
        "\n",
        "::: {.callout-warning}\n",
        "#### Use of the Key `\"criterion\"` is deprecated as of `v.0.1.5`\n",
        "Starting with version `v.0.1.5` `spotPython` uses the key `\"loss_function\"` for loss functions instead of `\"criterion\"`.\n",
        ":::\n",
        "\n",
        "The key `\"loss_function\"` specifies the loss function which is used during the optimization. There are several different loss functions under `PyTorch`'s nn package. For example, a simple loss is `MSELoss`, which computes the mean-squared error between the output and the target. In this tutorial we will use `CrossEntropyLoss`, because it is also used in the `PyTorch` tutorial."
      ]
    },
    {
      "cell_type": "code",
      "execution_count": 14,
      "metadata": {},
      "outputs": [],
      "source": [
        "fun_control = modify_hyper_parameter_levels(fun_control, \"loss_function\", [\"CrossEntropyLoss\"])"
      ]
    },
    {
      "cell_type": "markdown",
      "metadata": {},
      "source": [
        "In addition to the loss function, `spotPython` provides access to a large number of metrics. The key `\"metric_sklearn\"` is used for metrics that follow the `scikit-learn` conventions^[The key `\"metric\"` is used for the river based evaluation [@mont20a] via `eval_oml_iter_progressive`.].\n",
        "Because the `PyTorch` tutorial uses the accuracy as metric, we use the same metric here. Currently, accuracy is computed in the tutorial's example code. Therefore, we will use the same implementation here and set the key `\"metric_sklearn\"` to `None`."
      ]
    },
    {
      "cell_type": "code",
      "execution_count": 15,
      "metadata": {},
      "outputs": [],
      "source": [
        "#| echo: true\n",
        "weights = 1.0\n",
        "loss_function = CrossEntropyLoss\n",
        "shuffle = True\n",
        "eval = \"train_hold_out\"\n",
        "device = DEVICE\n",
        "show_batch_interval = 100_000\n",
        "save_model = True\n",
        "path=\"torch_model.pt\"\n",
        "\n",
        "fun_control.update({\n",
        "               \"data_dir\": None,\n",
        "               \"checkpoint_dir\": None,\n",
        "               \"horizon\": None,\n",
        "               \"oml_grace_period\": None,\n",
        "               \"weights\": weights,\n",
        "               \"step\": None,\n",
        "               \"log_level\": 50,\n",
        "               \"weight_coeff\": None,\n",
        "               \"metric\": None,\n",
        "               \"metric_sklearn\": None,\n",
        "               \"loss_function\": loss_function,\n",
        "               \"shuffle\": shuffle,\n",
        "               \"eval\": eval,\n",
        "               \"device\": device,\n",
        "               \"show_batch_interval\": show_batch_interval,\n",
        "               \"save_model\": save_model,\n",
        "               \"path\": path,\n",
        "               })"
      ]
    },
    {
      "cell_type": "markdown",
      "metadata": {},
      "source": [
        "## Calling the SPOT Function {#sec-call-the-hyperparameter-tuner}"
      ]
    },
    {
      "cell_type": "code",
      "execution_count": 16,
      "metadata": {},
      "outputs": [],
      "source": [
        "#| echo: false\n",
        "var_type = get_var_type(fun_control)\n",
        "var_name = get_var_name(fun_control)\n",
        "fun_control.update({\"var_type\": var_type,\n",
        "                    \"var_name\": var_name})\n",
        "\n",
        "lower = get_bound_values(fun_control, \"lower\")\n",
        "upper = get_bound_values(fun_control, \"upper\")"
      ]
    },
    {
      "cell_type": "markdown",
      "metadata": {},
      "source": [
        "Now, the dictionary `fun_control` contains all information needed for the hyperparameter tuning. Before the hyperparameter tuning is started, it is recommended to take a look at the experimental design. The method `gen_design_table` generates a design table as follows:"
      ]
    },
    {
      "cell_type": "code",
      "execution_count": 17,
      "metadata": {},
      "outputs": [
        {
          "name": "stdout",
          "output_type": "stream",
          "text": [
            "| name       | type   | default          |   lower |   upper | transform             |\n",
            "|------------|--------|------------------|---------|---------|-----------------------|\n",
            "| l1         | int    | 5                |   2     |   9     | transform_power_2_int |\n",
            "| l2         | int    | 5                |   2     |   9     | transform_power_2_int |\n",
            "| lr         | float  | 0.001            |   0.001 |   0.001 | None                  |\n",
            "| batch_size | int    | 4                |   1     |   5     | transform_power_2_int |\n",
            "| epochs     | int    | 3                |   3     |   4     | transform_power_2_int |\n",
            "| k_folds    | int    | 2                |   0     |   0     | None                  |\n",
            "| patience   | int    | 5                |   3     |   3     | None                  |\n",
            "| optimizer  | factor | SGD              |   0     |   9     | None                  |\n",
            "| criterion  | factor | CrossEntropyLoss |   0     |   0     | None                  |\n"
          ]
        }
      ],
      "source": [
        "#| echo: true\n",
        "print(gen_design_table(fun_control))"
      ]
    },
    {
      "cell_type": "markdown",
      "metadata": {},
      "source": [
        "This allows to check if all information is available and if the information is correct.  @tbl-design shows the experimental design for the hyperparameter tuning. Hyperparameter transformations are shown in the column \"transform\", e.g., the `l1` default is `5`, which results in the value $2^5 = 32$ for the network, because the transformation ` transform_power_2_int` was selected in the `JSON` file. The default value of the `batch_size` is set to `4`, which results in a batch size of $2^4 = 16$. \n",
        "\n",
        "\n",
        "| name       | type   |   default |   lower |   upper | transform             |\n",
        "|------------|--------|-----------|---------|---------|-----------------------|\n",
        "| l1         | int    |     5     |   2     |    9    | transform_power_2_int |\n",
        "| l2         | int    |     5     |   2     |    9    | transform_power_2_int |\n",
        "| lr         | float  |     0.001 |   1e-05 |    0.01 | None                  |\n",
        "| batch_size | int    |     4     |   1     |    4    | transform_power_2_int |\n",
        "| epochs     | int    |     3     |   3     |    4    | transform_power_2_int |\n",
        "| k_folds    | int    |     2     |   0     |    0    | None                  |\n",
        ": Experimental design for the hyperparameter tuning. The table shows the hyperparameters, their types, default values, lower and upper bounds, and the transformation function. The transformation function is used to transform the hyperparameter values from the unit hypercube to the original domain. The transformation function is applied to the hyperparameter values before the evaluation of the objective function. {#tbl-design}\n",
        "\n",
        "The objective function `fun_torch` is selected next. It implements an interface from `PyTorch`'s training, validation, and  testing methods to `spotPython`."
      ]
    },
    {
      "cell_type": "code",
      "execution_count": 18,
      "metadata": {},
      "outputs": [],
      "source": [
        "#| echo: true\n",
        "fun = HyperTorch().fun_torch"
      ]
    },
    {
      "cell_type": "code",
      "execution_count": 19,
      "metadata": {},
      "outputs": [],
      "source": [
        "#| echo: false\n",
        "hyper_dict=TorchHyperDict().load()\n",
        "X_start = get_default_hyperparameters_as_array(fun_control, hyper_dict)"
      ]
    },
    {
      "cell_type": "markdown",
      "metadata": {},
      "source": [
        "The `spotPython` hyperparameter tuning is started by calling the `Spot` function. Here, we will run the tuner for  approx. 30 minutes (`max_time`). Note: the initial design is always evaluated in the `spotPython` run. As a consequence, the run may take longer than specified by `max_time`, because the evaluation time of initial design (here: `init_size`, 10 points) is performed independently of `max_time`."
      ]
    },
    {
      "cell_type": "code",
      "execution_count": 20,
      "metadata": {},
      "outputs": [
        {
          "name": "stdout",
          "output_type": "stream",
          "text": [
            "config: {'l1': 64, 'l2': 16, 'lr': 0.001, 'batch_size': 16, 'epochs': 16, 'k_folds': 0, 'patience': 3, 'optimizer': 'NAdam', 'criterion': CrossEntropyLoss()}\n",
            "Removed attributes: {'optimizer': 'NAdam', 'epochs': 16, 'lr': 0.001, 'k_folds': 0, 'batch_size': 16, 'patience': 3}\n",
            "Optimizer_instatance: NAdam\n",
            "Epoch: 1\n",
            "Loss on hold-out set: 1.4985492342948914\n",
            "Accuracy on hold-out set: 0.4467\n",
            "Epoch: 2\n",
            "Loss on hold-out set: 1.3705900368213653\n",
            "Accuracy on hold-out set: 0.4968\n",
            "Epoch: 3\n",
            "Loss on hold-out set: 1.2838016384601594\n",
            "Accuracy on hold-out set: 0.5377\n",
            "Epoch: 4\n",
            "Loss on hold-out set: 1.2764706592082977\n",
            "Accuracy on hold-out set: 0.54435\n",
            "Epoch: 5\n",
            "Loss on hold-out set: 1.2380333470344544\n",
            "Accuracy on hold-out set: 0.56285\n",
            "Epoch: 6\n",
            "Loss on hold-out set: 1.2965874748706818\n",
            "Accuracy on hold-out set: 0.5457\n",
            "Epoch: 7\n",
            "Loss on hold-out set: 1.2765530243635177\n",
            "Accuracy on hold-out set: 0.5622\n",
            "Epoch: 8\n",
            "Loss on hold-out set: 1.2093945737838745\n",
            "Accuracy on hold-out set: 0.57635\n",
            "Epoch: 9\n",
            "Loss on hold-out set: 1.24994396276474\n",
            "Accuracy on hold-out set: 0.56985\n",
            "Epoch: 10\n",
            "Loss on hold-out set: 1.2908458409667014\n",
            "Accuracy on hold-out set: 0.5684\n",
            "Epoch: 11\n",
            "Loss on hold-out set: 1.2268005335330963\n",
            "Accuracy on hold-out set: 0.57555\n",
            "Early stopping at epoch 10\n",
            "Returned to Spot: Validation loss: 1.2268005335330963\n",
            "----------------------------------------------\n",
            "config: {'l1': 16, 'l2': 128, 'lr': 0.001, 'batch_size': 4, 'epochs': 16, 'k_folds': 0, 'patience': 3, 'optimizer': 'NAdam', 'criterion': CrossEntropyLoss()}\n",
            "Removed attributes: {'optimizer': 'NAdam', 'epochs': 16, 'lr': 0.001, 'k_folds': 0, 'batch_size': 4, 'patience': 3}\n",
            "Optimizer_instatance: NAdam\n",
            "Epoch: 1\n",
            "Loss on hold-out set: 1.5694425056636334\n",
            "Accuracy on hold-out set: 0.43765\n",
            "Epoch: 2\n",
            "Loss on hold-out set: 1.486721638983488\n",
            "Accuracy on hold-out set: 0.4624\n",
            "Epoch: 3\n",
            "Loss on hold-out set: 1.4489770098403096\n",
            "Accuracy on hold-out set: 0.49795\n",
            "Epoch: 4\n",
            "Loss on hold-out set: 1.454141622440517\n",
            "Accuracy on hold-out set: 0.5039\n",
            "Epoch: 5\n",
            "Loss on hold-out set: 1.4286332738161087\n",
            "Accuracy on hold-out set: 0.51665\n",
            "Epoch: 6\n",
            "Loss on hold-out set: 1.4023080104161054\n",
            "Accuracy on hold-out set: 0.52\n",
            "Epoch: 7\n",
            "Loss on hold-out set: 1.4389540469877422\n",
            "Accuracy on hold-out set: 0.5192\n",
            "Epoch: 8\n",
            "Loss on hold-out set: 1.5223144532436506\n",
            "Accuracy on hold-out set: 0.51815\n",
            "Epoch: 9\n",
            "Loss on hold-out set: 1.382052511068061\n",
            "Accuracy on hold-out set: 0.54345\n",
            "Epoch: 10\n",
            "Loss on hold-out set: 1.3634615516197868\n",
            "Accuracy on hold-out set: 0.549\n",
            "Epoch: 11\n",
            "Loss on hold-out set: 1.406648549699597\n",
            "Accuracy on hold-out set: 0.5432\n",
            "Epoch: 12\n",
            "Loss on hold-out set: 1.414583374435408\n",
            "Accuracy on hold-out set: 0.53\n",
            "Epoch: 13\n",
            "Loss on hold-out set: 1.5354660189662128\n",
            "Accuracy on hold-out set: 0.513\n",
            "Early stopping at epoch 12\n",
            "Returned to Spot: Validation loss: 1.5354660189662128\n",
            "----------------------------------------------\n",
            "config: {'l1': 32, 'l2': 8, 'lr': 0.001, 'batch_size': 8, 'epochs': 8, 'k_folds': 0, 'patience': 3, 'optimizer': 'ASGD', 'criterion': CrossEntropyLoss()}\n",
            "Removed attributes: {'optimizer': 'ASGD', 'epochs': 8, 'lr': 0.001, 'k_folds': 0, 'batch_size': 8, 'patience': 3}\n",
            "Optimizer_instatance: ASGD\n",
            "Epoch: 1\n",
            "Loss on hold-out set: 1.9915539154052735\n",
            "Accuracy on hold-out set: 0.237\n",
            "Epoch: 2\n",
            "Loss on hold-out set: 1.8315829869747162\n",
            "Accuracy on hold-out set: 0.29995\n",
            "Epoch: 3\n",
            "Loss on hold-out set: 1.7365212283611298\n",
            "Accuracy on hold-out set: 0.34425\n",
            "Epoch: 4\n",
            "Loss on hold-out set: 1.6509147552967072\n",
            "Accuracy on hold-out set: 0.39055\n",
            "Epoch: 5\n",
            "Loss on hold-out set: 1.603022783946991\n",
            "Accuracy on hold-out set: 0.41435\n",
            "Epoch: 6\n",
            "Loss on hold-out set: 1.5728592849254608\n",
            "Accuracy on hold-out set: 0.42855\n",
            "Epoch: 7\n",
            "Loss on hold-out set: 1.528235963344574\n",
            "Accuracy on hold-out set: 0.4399\n",
            "Epoch: 8\n",
            "Loss on hold-out set: 1.4950236817359925\n",
            "Accuracy on hold-out set: 0.45255\n",
            "Returned to Spot: Validation loss: 1.4950236817359925\n",
            "----------------------------------------------\n",
            "config: {'l1': 8, 'l2': 64, 'lr': 0.001, 'batch_size': 4, 'epochs': 8, 'k_folds': 0, 'patience': 3, 'optimizer': 'Adamax', 'criterion': CrossEntropyLoss()}\n",
            "Removed attributes: {'optimizer': 'Adamax', 'epochs': 8, 'lr': 0.001, 'k_folds': 0, 'batch_size': 4, 'patience': 3}\n",
            "Optimizer_instatance: Adamax\n",
            "Epoch: 1\n",
            "Loss on hold-out set: 1.8046849559783935\n",
            "Accuracy on hold-out set: 0.32725\n",
            "Epoch: 2\n",
            "Loss on hold-out set: 1.4873409510940314\n",
            "Accuracy on hold-out set: 0.4563\n",
            "Epoch: 3\n",
            "Loss on hold-out set: 1.4380508481085301\n",
            "Accuracy on hold-out set: 0.48\n",
            "Epoch: 4\n",
            "Loss on hold-out set: 1.3775821729272604\n",
            "Accuracy on hold-out set: 0.49685\n",
            "Epoch: 5\n",
            "Loss on hold-out set: 1.3630600078552961\n",
            "Accuracy on hold-out set: 0.51745\n",
            "Epoch: 6\n",
            "Loss on hold-out set: 1.3317628471486271\n",
            "Accuracy on hold-out set: 0.526\n",
            "Epoch: 7\n",
            "Loss on hold-out set: 1.2950928108274937\n",
            "Accuracy on hold-out set: 0.5427\n",
            "Epoch: 8\n",
            "Loss on hold-out set: 1.242925238135457\n",
            "Accuracy on hold-out set: 0.5648\n",
            "Returned to Spot: Validation loss: 1.242925238135457\n",
            "----------------------------------------------\n",
            "config: {'l1': 128, 'l2': 32, 'lr': 0.001, 'batch_size': 8, 'epochs': 16, 'k_folds': 0, 'patience': 3, 'optimizer': 'AdamW', 'criterion': CrossEntropyLoss()}\n",
            "Removed attributes: {'optimizer': 'AdamW', 'epochs': 16, 'lr': 0.001, 'k_folds': 0, 'batch_size': 8, 'patience': 3}\n",
            "Optimizer_instatance: AdamW\n",
            "Epoch: 1\n",
            "Loss on hold-out set: 1.4651422307133675\n",
            "Accuracy on hold-out set: 0.45705\n",
            "Epoch: 2\n",
            "Loss on hold-out set: 1.3303900108456612\n",
            "Accuracy on hold-out set: 0.52305\n",
            "Epoch: 3\n",
            "Loss on hold-out set: 1.2884286110639571\n",
            "Accuracy on hold-out set: 0.5424\n",
            "Epoch: 4\n",
            "Loss on hold-out set: 1.2894585674643517\n",
            "Accuracy on hold-out set: 0.54945\n",
            "Epoch: 5\n",
            "Loss on hold-out set: 1.2822652153909206\n",
            "Accuracy on hold-out set: 0.5615\n",
            "Epoch: 6\n",
            "Loss on hold-out set: 1.1943123170733452\n",
            "Accuracy on hold-out set: 0.58715\n",
            "Epoch: 7\n",
            "Loss on hold-out set: 1.1932732748508454\n",
            "Accuracy on hold-out set: 0.59275\n",
            "Epoch: 8\n",
            "Loss on hold-out set: 1.1868006338834762\n",
            "Accuracy on hold-out set: 0.6015\n",
            "Epoch: 9\n",
            "Loss on hold-out set: 1.223305384248495\n",
            "Accuracy on hold-out set: 0.5992\n",
            "Epoch: 10\n",
            "Loss on hold-out set: 1.1935160420179367\n",
            "Accuracy on hold-out set: 0.60105\n",
            "Epoch: 11\n",
            "Loss on hold-out set: 1.2004224770486356\n",
            "Accuracy on hold-out set: 0.607\n",
            "Early stopping at epoch 10\n",
            "Returned to Spot: Validation loss: 1.2004224770486356\n",
            "----------------------------------------------\n",
            "config: {'l1': 512, 'l2': 16, 'lr': 0.001, 'batch_size': 4, 'epochs': 16, 'k_folds': 0, 'patience': 3, 'optimizer': 'RMSprop', 'criterion': CrossEntropyLoss()}\n",
            "Removed attributes: {'optimizer': 'RMSprop', 'epochs': 16, 'lr': 0.001, 'k_folds': 0, 'batch_size': 4, 'patience': 3}\n",
            "Optimizer_instatance: RMSprop\n",
            "Epoch: 1\n",
            "Loss on hold-out set: 2.306759458732605\n",
            "Accuracy on hold-out set: 0.09965\n",
            "Epoch: 2\n",
            "Loss on hold-out set: 2.305768052816391\n",
            "Accuracy on hold-out set: 0.0993\n",
            "Epoch: 3\n",
            "Loss on hold-out set: 2.3047231949329374\n",
            "Accuracy on hold-out set: 0.10105\n",
            "Epoch: 4\n",
            "Loss on hold-out set: 2.3042673836231233\n",
            "Accuracy on hold-out set: 0.1005\n",
            "Epoch: 5\n",
            "Loss on hold-out set: 2.306247552394867\n",
            "Accuracy on hold-out set: 0.10105\n",
            "Epoch: 6\n",
            "Loss on hold-out set: 2.304693287420273\n",
            "Accuracy on hold-out set: 0.10055\n",
            "Epoch: 7\n",
            "Loss on hold-out set: 2.305121554136276\n",
            "Accuracy on hold-out set: 0.0985\n",
            "Early stopping at epoch 6\n",
            "Returned to Spot: Validation loss: 2.305121554136276\n",
            "----------------------------------------------\n",
            "config: {'l1': 8, 'l2': 8, 'lr': 0.001, 'batch_size': 16, 'epochs': 8, 'k_folds': 0, 'patience': 3, 'optimizer': 'Adagrad', 'criterion': CrossEntropyLoss()}\n",
            "Removed attributes: {'optimizer': 'Adagrad', 'epochs': 8, 'lr': 0.001, 'k_folds': 0, 'batch_size': 16, 'patience': 3}\n",
            "Optimizer_instatance: Adagrad\n",
            "Epoch: 1\n",
            "Loss on hold-out set: 1.89633187084198\n",
            "Accuracy on hold-out set: 0.2474\n",
            "Epoch: 2\n",
            "Loss on hold-out set: 1.8309821944236755\n",
            "Accuracy on hold-out set: 0.2802\n",
            "Epoch: 3\n",
            "Loss on hold-out set: 1.8099789774894715\n",
            "Accuracy on hold-out set: 0.2903\n",
            "Epoch: 4\n",
            "Loss on hold-out set: 1.7749423562049866\n",
            "Accuracy on hold-out set: 0.29925\n",
            "Epoch: 5\n",
            "Loss on hold-out set: 1.752938599872589\n",
            "Accuracy on hold-out set: 0.30675\n",
            "Epoch: 6\n",
            "Loss on hold-out set: 1.7484306207656861\n",
            "Accuracy on hold-out set: 0.3076\n",
            "Epoch: 7\n",
            "Loss on hold-out set: 1.7266108326911926\n",
            "Accuracy on hold-out set: 0.31495\n",
            "Epoch: 8\n",
            "Loss on hold-out set: 1.7116932819366455\n",
            "Accuracy on hold-out set: 0.32845\n",
            "Returned to Spot: Validation loss: 1.7116932819366455\n",
            "----------------------------------------------\n",
            "config: {'l1': 256, 'l2': 64, 'lr': 0.001, 'batch_size': 16, 'epochs': 8, 'k_folds': 0, 'patience': 3, 'optimizer': 'RMSprop', 'criterion': CrossEntropyLoss()}\n",
            "Removed attributes: {'optimizer': 'RMSprop', 'epochs': 8, 'lr': 0.001, 'k_folds': 0, 'batch_size': 16, 'patience': 3}\n",
            "Optimizer_instatance: RMSprop\n",
            "Epoch: 1\n",
            "Loss on hold-out set: 2.3062240089416504\n",
            "Accuracy on hold-out set: 0.1018\n",
            "Epoch: 2\n",
            "Loss on hold-out set: 2.3039214460372923\n",
            "Accuracy on hold-out set: 0.0993\n",
            "Epoch: 3\n",
            "Loss on hold-out set: 2.3063871572494508\n",
            "Accuracy on hold-out set: 0.09815\n",
            "Epoch: 4\n",
            "Loss on hold-out set: 2.304836145210266\n",
            "Accuracy on hold-out set: 0.0993\n",
            "Epoch: 5\n",
            "Loss on hold-out set: 2.305143057632446\n",
            "Accuracy on hold-out set: 0.1018\n",
            "Early stopping at epoch 4\n",
            "Returned to Spot: Validation loss: 2.305143057632446\n",
            "----------------------------------------------\n",
            "config: {'l1': 256, 'l2': 512, 'lr': 0.001, 'batch_size': 2, 'epochs': 8, 'k_folds': 0, 'patience': 3, 'optimizer': 'AdamW', 'criterion': CrossEntropyLoss()}\n",
            "Removed attributes: {'optimizer': 'AdamW', 'epochs': 8, 'lr': 0.001, 'k_folds': 0, 'batch_size': 2, 'patience': 3}\n",
            "Optimizer_instatance: AdamW\n",
            "Epoch: 1\n",
            "Loss on hold-out set: 1.725798688032363\n",
            "Accuracy on hold-out set: 0.44265\n",
            "Epoch: 2\n",
            "Loss on hold-out set: 1.5565906939410494\n",
            "Accuracy on hold-out set: 0.5056\n",
            "Epoch: 3\n",
            "Loss on hold-out set: 2.0390839348598226\n",
            "Accuracy on hold-out set: 0.4514\n",
            "Epoch: 4\n",
            "Loss on hold-out set: 1.4412008458990548\n",
            "Accuracy on hold-out set: 0.52865\n",
            "Epoch: 5\n",
            "Loss on hold-out set: 1.6060942712580686\n",
            "Accuracy on hold-out set: 0.5345\n",
            "Epoch: 6\n",
            "Loss on hold-out set: 1.5237368599816392\n",
            "Accuracy on hold-out set: 0.5333\n",
            "Epoch: 7\n",
            "Loss on hold-out set: 1.6665395986077884\n",
            "Accuracy on hold-out set: 0.5471\n",
            "Early stopping at epoch 6\n",
            "Returned to Spot: Validation loss: 1.6665395986077884\n",
            "----------------------------------------------\n",
            "config: {'l1': 4, 'l2': 256, 'lr': 0.001, 'batch_size': 32, 'epochs': 16, 'k_folds': 0, 'patience': 3, 'optimizer': 'Adadelta', 'criterion': CrossEntropyLoss()}\n",
            "Removed attributes: {'optimizer': 'Adadelta', 'epochs': 16, 'lr': 0.001, 'k_folds': 0, 'batch_size': 32, 'patience': 3}\n",
            "Optimizer_instatance: Adadelta\n",
            "Epoch: 1\n",
            "Loss on hold-out set: 1.5473502585411072\n",
            "Accuracy on hold-out set: 0.4403\n",
            "Epoch: 2\n",
            "Loss on hold-out set: 1.5025789762496948\n",
            "Accuracy on hold-out set: 0.4489\n",
            "Epoch: 3\n",
            "Loss on hold-out set: 1.4645593276023865\n",
            "Accuracy on hold-out set: 0.4612\n",
            "Epoch: 4\n",
            "Loss on hold-out set: 1.42257048664093\n",
            "Accuracy on hold-out set: 0.4831\n",
            "Epoch: 5\n",
            "Loss on hold-out set: 1.4468936079025267\n",
            "Accuracy on hold-out set: 0.48135\n",
            "Epoch: 6\n",
            "Loss on hold-out set: 1.3637117023468017\n",
            "Accuracy on hold-out set: 0.5073\n",
            "Epoch: 7\n",
            "Loss on hold-out set: 1.3300329021453858\n",
            "Accuracy on hold-out set: 0.5185\n",
            "Epoch: 8\n",
            "Loss on hold-out set: 1.390501800918579\n",
            "Accuracy on hold-out set: 0.49835\n",
            "Epoch: 9\n",
            "Loss on hold-out set: 1.3345499380111694\n",
            "Accuracy on hold-out set: 0.51915\n",
            "Epoch: 10\n",
            "Loss on hold-out set: 1.3238537635803223\n",
            "Accuracy on hold-out set: 0.52485\n",
            "Epoch: 11\n",
            "Loss on hold-out set: 1.4226496198654175\n",
            "Accuracy on hold-out set: 0.50195\n",
            "Epoch: 12\n",
            "Loss on hold-out set: 1.3254948320388793\n",
            "Accuracy on hold-out set: 0.52875\n",
            "Epoch: 13\n",
            "Loss on hold-out set: 1.281626351070404\n",
            "Accuracy on hold-out set: 0.53925\n",
            "Epoch: 14\n",
            "Loss on hold-out set: 1.29848408203125\n",
            "Accuracy on hold-out set: 0.53805\n",
            "Epoch: 15\n",
            "Loss on hold-out set: 1.3303682819366456\n",
            "Accuracy on hold-out set: 0.52895\n",
            "Epoch: 16\n",
            "Loss on hold-out set: 1.3026278582572937\n",
            "Accuracy on hold-out set: 0.5333\n",
            "Early stopping at epoch 15\n",
            "Returned to Spot: Validation loss: 1.3026278582572937\n",
            "----------------------------------------------\n",
            "config: {'l1': 64, 'l2': 16, 'lr': 0.001, 'batch_size': 16, 'epochs': 16, 'k_folds': 0, 'patience': 3, 'optimizer': 'AdamW', 'criterion': CrossEntropyLoss()}\n",
            "Removed attributes: {'optimizer': 'AdamW', 'epochs': 16, 'lr': 0.001, 'k_folds': 0, 'batch_size': 16, 'patience': 3}\n",
            "Optimizer_instatance: AdamW\n",
            "Epoch: 1\n",
            "Loss on hold-out set: 1.4921520120620728\n",
            "Accuracy on hold-out set: 0.4531\n",
            "Epoch: 2\n",
            "Loss on hold-out set: 1.3829667480945587\n",
            "Accuracy on hold-out set: 0.50255\n",
            "Epoch: 3\n",
            "Loss on hold-out set: 1.3190655752658844\n",
            "Accuracy on hold-out set: 0.5285\n",
            "Epoch: 4\n",
            "Loss on hold-out set: 1.2930708069324492\n",
            "Accuracy on hold-out set: 0.53785\n",
            "Epoch: 5\n",
            "Loss on hold-out set: 1.2293801126241684\n",
            "Accuracy on hold-out set: 0.56545\n",
            "Epoch: 6\n",
            "Loss on hold-out set: 1.2227248066186904\n",
            "Accuracy on hold-out set: 0.57155\n",
            "Epoch: 7\n",
            "Loss on hold-out set: 1.1969305526971816\n",
            "Accuracy on hold-out set: 0.58045\n",
            "Epoch: 8\n",
            "Loss on hold-out set: 1.2083770780324936\n",
            "Accuracy on hold-out set: 0.58005\n",
            "Epoch: 9\n",
            "Loss on hold-out set: 1.1668990106582642\n",
            "Accuracy on hold-out set: 0.59525\n",
            "Epoch: 10\n",
            "Loss on hold-out set: 1.2056610369205474\n",
            "Accuracy on hold-out set: 0.57945\n",
            "Epoch: 11\n",
            "Loss on hold-out set: 1.2179242756843567\n",
            "Accuracy on hold-out set: 0.58675\n",
            "Epoch: 12\n",
            "Loss on hold-out set: 1.15887021484375\n",
            "Accuracy on hold-out set: 0.5999\n",
            "Epoch: 13\n",
            "Loss on hold-out set: 1.1629119591951371\n",
            "Accuracy on hold-out set: 0.60165\n",
            "Epoch: 14\n",
            "Loss on hold-out set: 1.2084353013038636\n",
            "Accuracy on hold-out set: 0.5949\n",
            "Epoch: 15\n",
            "Loss on hold-out set: 1.176743764424324\n",
            "Accuracy on hold-out set: 0.6012\n",
            "Early stopping at epoch 14\n",
            "Returned to Spot: Validation loss: 1.176743764424324\n",
            "----------------------------------------------\n",
            "config: {'l1': 64, 'l2': 16, 'lr': 0.001, 'batch_size': 8, 'epochs': 16, 'k_folds': 0, 'patience': 3, 'optimizer': 'AdamW', 'criterion': CrossEntropyLoss()}\n",
            "Removed attributes: {'optimizer': 'AdamW', 'epochs': 16, 'lr': 0.001, 'k_folds': 0, 'batch_size': 8, 'patience': 3}\n",
            "Optimizer_instatance: AdamW\n",
            "Epoch: 1\n",
            "Loss on hold-out set: 1.5180055988430976\n",
            "Accuracy on hold-out set: 0.4465\n",
            "Epoch: 2\n",
            "Loss on hold-out set: 1.3917506502866746\n",
            "Accuracy on hold-out set: 0.49555\n",
            "Epoch: 3\n",
            "Loss on hold-out set: 1.3512948830127716\n",
            "Accuracy on hold-out set: 0.51665\n",
            "Epoch: 4\n",
            "Loss on hold-out set: 1.3577564815878869\n",
            "Accuracy on hold-out set: 0.52295\n",
            "Epoch: 5\n",
            "Loss on hold-out set: 1.2163851026892663\n",
            "Accuracy on hold-out set: 0.5687\n",
            "Epoch: 6\n",
            "Loss on hold-out set: 1.241780155813694\n",
            "Accuracy on hold-out set: 0.5698\n",
            "Epoch: 7\n",
            "Loss on hold-out set: 1.2226207380115985\n",
            "Accuracy on hold-out set: 0.5738\n",
            "Epoch: 8\n",
            "Loss on hold-out set: 1.2007728824973107\n",
            "Accuracy on hold-out set: 0.5824\n",
            "Epoch: 9\n",
            "Loss on hold-out set: 1.1691998428761958\n",
            "Accuracy on hold-out set: 0.59645\n",
            "Epoch: 10\n",
            "Loss on hold-out set: 1.2553237755775453\n",
            "Accuracy on hold-out set: 0.58215\n",
            "Epoch: 11\n",
            "Loss on hold-out set: 1.1778445860266686\n",
            "Accuracy on hold-out set: 0.5938\n",
            "Epoch: 12\n",
            "Loss on hold-out set: 1.2080936607956887\n",
            "Accuracy on hold-out set: 0.59655\n",
            "Early stopping at epoch 11\n",
            "Returned to Spot: Validation loss: 1.2080936607956887\n",
            "----------------------------------------------\n",
            "config: {'l1': 256, 'l2': 32, 'lr': 0.001, 'batch_size': 32, 'epochs': 16, 'k_folds': 0, 'patience': 3, 'optimizer': 'AdamW', 'criterion': CrossEntropyLoss()}\n",
            "Removed attributes: {'optimizer': 'AdamW', 'epochs': 16, 'lr': 0.001, 'k_folds': 0, 'batch_size': 32, 'patience': 3}\n",
            "Optimizer_instatance: AdamW\n",
            "Epoch: 1\n",
            "Loss on hold-out set: 1.521830765914917\n",
            "Accuracy on hold-out set: 0.4455\n",
            "Epoch: 2\n",
            "Loss on hold-out set: 1.39177560005188\n",
            "Accuracy on hold-out set: 0.50145\n",
            "Epoch: 3\n",
            "Loss on hold-out set: 1.3179470748901367\n",
            "Accuracy on hold-out set: 0.53245\n",
            "Epoch: 4\n",
            "Loss on hold-out set: 1.2245364727973937\n",
            "Accuracy on hold-out set: 0.56835\n",
            "Epoch: 5\n",
            "Loss on hold-out set: 1.1793322526931762\n",
            "Accuracy on hold-out set: 0.58925\n",
            "Epoch: 6\n",
            "Loss on hold-out set: 1.153798351097107\n",
            "Accuracy on hold-out set: 0.597\n",
            "Epoch: 7\n",
            "Loss on hold-out set: 1.1623785562515259\n",
            "Accuracy on hold-out set: 0.60255\n",
            "Epoch: 8\n",
            "Loss on hold-out set: 1.1036559752464294\n",
            "Accuracy on hold-out set: 0.6182\n",
            "Epoch: 9\n",
            "Loss on hold-out set: 1.130096775817871\n",
            "Accuracy on hold-out set: 0.61065\n",
            "Epoch: 10\n",
            "Loss on hold-out set: 1.119307299041748\n",
            "Accuracy on hold-out set: 0.6237\n",
            "Epoch: 11\n",
            "Loss on hold-out set: 1.1757034311771393\n",
            "Accuracy on hold-out set: 0.61005\n",
            "Early stopping at epoch 10\n",
            "Returned to Spot: Validation loss: 1.1757034311771393\n",
            "----------------------------------------------\n",
            "config: {'l1': 64, 'l2': 16, 'lr': 0.001, 'batch_size': 32, 'epochs': 16, 'k_folds': 0, 'patience': 3, 'optimizer': 'AdamW', 'criterion': CrossEntropyLoss()}\n",
            "Removed attributes: {'optimizer': 'AdamW', 'epochs': 16, 'lr': 0.001, 'k_folds': 0, 'batch_size': 32, 'patience': 3}\n",
            "Optimizer_instatance: AdamW\n",
            "Epoch: 1\n",
            "Loss on hold-out set: 1.5990258769989014\n",
            "Accuracy on hold-out set: 0.4161\n",
            "Epoch: 2\n",
            "Loss on hold-out set: 1.500099745464325\n",
            "Accuracy on hold-out set: 0.4531\n",
            "Epoch: 3\n",
            "Loss on hold-out set: 1.361167723083496\n",
            "Accuracy on hold-out set: 0.50465\n",
            "Epoch: 4\n",
            "Loss on hold-out set: 1.357907120704651\n",
            "Accuracy on hold-out set: 0.50905\n",
            "Epoch: 5\n",
            "Loss on hold-out set: 1.2780603511810302\n",
            "Accuracy on hold-out set: 0.5422\n",
            "Epoch: 6\n",
            "Loss on hold-out set: 1.256750087738037\n",
            "Accuracy on hold-out set: 0.5526\n",
            "Epoch: 7\n",
            "Loss on hold-out set: 1.2188023448944092\n",
            "Accuracy on hold-out set: 0.5673\n",
            "Epoch: 8\n",
            "Loss on hold-out set: 1.2572857509613038\n",
            "Accuracy on hold-out set: 0.5511\n",
            "Epoch: 9\n",
            "Loss on hold-out set: 1.2123680506706238\n",
            "Accuracy on hold-out set: 0.5714\n",
            "Epoch: 10\n",
            "Loss on hold-out set: 1.2144603608131408\n",
            "Accuracy on hold-out set: 0.57735\n",
            "Epoch: 11\n",
            "Loss on hold-out set: 1.194492885684967\n",
            "Accuracy on hold-out set: 0.5812\n",
            "Epoch: 12\n",
            "Loss on hold-out set: 1.211895966529846\n",
            "Accuracy on hold-out set: 0.5735\n",
            "Epoch: 13\n",
            "Loss on hold-out set: 1.1791599917411804\n",
            "Accuracy on hold-out set: 0.5883\n",
            "Epoch: 14\n",
            "Loss on hold-out set: 1.1849294241905213\n",
            "Accuracy on hold-out set: 0.59375\n",
            "Epoch: 15\n",
            "Loss on hold-out set: 1.1851794583320618\n",
            "Accuracy on hold-out set: 0.59075\n",
            "Epoch: 16\n",
            "Loss on hold-out set: 1.2105202855110169\n",
            "Accuracy on hold-out set: 0.5825\n",
            "Early stopping at epoch 15\n",
            "Returned to Spot: Validation loss: 1.2105202855110169\n",
            "----------------------------------------------\n",
            "config: {'l1': 512, 'l2': 32, 'lr': 0.001, 'batch_size': 32, 'epochs': 16, 'k_folds': 0, 'patience': 3, 'optimizer': 'AdamW', 'criterion': CrossEntropyLoss()}\n",
            "Removed attributes: {'optimizer': 'AdamW', 'epochs': 16, 'lr': 0.001, 'k_folds': 0, 'batch_size': 32, 'patience': 3}\n",
            "Optimizer_instatance: AdamW\n",
            "Epoch: 1\n",
            "Loss on hold-out set: 1.5323240454673768\n",
            "Accuracy on hold-out set: 0.4401\n",
            "Epoch: 2\n",
            "Loss on hold-out set: 1.3273530611991882\n",
            "Accuracy on hold-out set: 0.52395\n",
            "Epoch: 3\n",
            "Loss on hold-out set: 1.2402106235504151\n",
            "Accuracy on hold-out set: 0.56275\n",
            "Epoch: 4\n",
            "Loss on hold-out set: 1.2034731689453124\n",
            "Accuracy on hold-out set: 0.5712\n",
            "Epoch: 5\n",
            "Loss on hold-out set: 1.1630765810966492\n",
            "Accuracy on hold-out set: 0.5938\n",
            "Epoch: 6\n",
            "Loss on hold-out set: 1.1523510684013367\n",
            "Accuracy on hold-out set: 0.5972\n",
            "Epoch: 7\n",
            "Loss on hold-out set: 1.1013770758628845\n",
            "Accuracy on hold-out set: 0.62185\n",
            "Epoch: 8\n",
            "Loss on hold-out set: 1.1601766660690307\n",
            "Accuracy on hold-out set: 0.61865\n",
            "Epoch: 9\n",
            "Loss on hold-out set: 1.130121937274933\n",
            "Accuracy on hold-out set: 0.62925\n",
            "Epoch: 10\n",
            "Loss on hold-out set: 1.2097784239768983\n",
            "Accuracy on hold-out set: 0.61745\n",
            "Early stopping at epoch 9\n",
            "Returned to Spot: Validation loss: 1.2097784239768983\n",
            "----------------------------------------------\n",
            "config: {'l1': 4, 'l2': 32, 'lr': 0.001, 'batch_size': 32, 'epochs': 16, 'k_folds': 0, 'patience': 3, 'optimizer': 'AdamW', 'criterion': CrossEntropyLoss()}\n",
            "Removed attributes: {'optimizer': 'AdamW', 'epochs': 16, 'lr': 0.001, 'k_folds': 0, 'batch_size': 32, 'patience': 3}\n",
            "Optimizer_instatance: AdamW\n",
            "Epoch: 1\n",
            "Loss on hold-out set: 1.8159916625976562\n",
            "Accuracy on hold-out set: 0.27865\n",
            "Epoch: 2\n",
            "Loss on hold-out set: 1.7248530145645142\n",
            "Accuracy on hold-out set: 0.3117\n",
            "Epoch: 3\n",
            "Loss on hold-out set: 1.6712540447235107\n",
            "Accuracy on hold-out set: 0.3425\n",
            "Epoch: 4\n",
            "Loss on hold-out set: 1.63638123588562\n",
            "Accuracy on hold-out set: 0.35355\n",
            "Epoch: 5\n",
            "Loss on hold-out set: 1.5969520036697387\n",
            "Accuracy on hold-out set: 0.373\n",
            "Epoch: 6\n",
            "Loss on hold-out set: 1.59855285320282\n",
            "Accuracy on hold-out set: 0.3695\n",
            "Epoch: 7\n",
            "Loss on hold-out set: 1.5918492292404174\n",
            "Accuracy on hold-out set: 0.37965\n",
            "Epoch: 8\n",
            "Loss on hold-out set: 1.5727404495239259\n",
            "Accuracy on hold-out set: 0.38545\n",
            "Epoch: 9\n",
            "Loss on hold-out set: 1.5365070593833923\n",
            "Accuracy on hold-out set: 0.40385\n",
            "Epoch: 10\n",
            "Loss on hold-out set: 1.527940378189087\n",
            "Accuracy on hold-out set: 0.40925\n",
            "Epoch: 11\n",
            "Loss on hold-out set: 1.512786497116089\n",
            "Accuracy on hold-out set: 0.4146\n",
            "Epoch: 12\n",
            "Loss on hold-out set: 1.526740559577942\n",
            "Accuracy on hold-out set: 0.4012\n",
            "Epoch: 13\n",
            "Loss on hold-out set: 1.5022753831863402\n",
            "Accuracy on hold-out set: 0.4185\n",
            "Epoch: 14\n",
            "Loss on hold-out set: 1.496105174255371\n",
            "Accuracy on hold-out set: 0.41905\n",
            "Epoch: 15\n",
            "Loss on hold-out set: 1.500543186187744\n",
            "Accuracy on hold-out set: 0.42185\n",
            "Epoch: 16\n",
            "Loss on hold-out set: 1.5250449809074402\n",
            "Accuracy on hold-out set: 0.40985\n",
            "Returned to Spot: Validation loss: 1.5250449809074402\n",
            "----------------------------------------------\n",
            "config: {'l1': 256, 'l2': 8, 'lr': 0.001, 'batch_size': 32, 'epochs': 16, 'k_folds': 0, 'patience': 3, 'optimizer': 'AdamW', 'criterion': CrossEntropyLoss()}\n",
            "Removed attributes: {'optimizer': 'AdamW', 'epochs': 16, 'lr': 0.001, 'k_folds': 0, 'batch_size': 32, 'patience': 3}\n",
            "Optimizer_instatance: AdamW\n",
            "Epoch: 1\n",
            "Loss on hold-out set: 1.7139213676452636\n",
            "Accuracy on hold-out set: 0.3568\n",
            "Epoch: 2\n",
            "Loss on hold-out set: 1.5959938642501832\n",
            "Accuracy on hold-out set: 0.42405\n",
            "Epoch: 3\n",
            "Loss on hold-out set: 1.4116322575569153\n",
            "Accuracy on hold-out set: 0.4865\n",
            "Epoch: 4\n",
            "Loss on hold-out set: 1.3585659386634827\n",
            "Accuracy on hold-out set: 0.5127\n",
            "Epoch: 5\n",
            "Loss on hold-out set: 1.280472308254242\n",
            "Accuracy on hold-out set: 0.54125\n",
            "Epoch: 6\n",
            "Loss on hold-out set: 1.2444024002075196\n",
            "Accuracy on hold-out set: 0.55475\n",
            "Epoch: 7\n",
            "Loss on hold-out set: 1.221683363723755\n",
            "Accuracy on hold-out set: 0.56405\n",
            "Epoch: 8\n",
            "Loss on hold-out set: 1.1766979121208192\n",
            "Accuracy on hold-out set: 0.5813\n",
            "Epoch: 9\n",
            "Loss on hold-out set: 1.2552536123275757\n",
            "Accuracy on hold-out set: 0.55785\n",
            "Epoch: 10\n",
            "Loss on hold-out set: 1.207470273399353\n",
            "Accuracy on hold-out set: 0.5757\n",
            "Epoch: 11\n",
            "Loss on hold-out set: 1.1697378124237061\n",
            "Accuracy on hold-out set: 0.593\n",
            "Epoch: 12\n",
            "Loss on hold-out set: 1.2129174233436584\n",
            "Accuracy on hold-out set: 0.5913\n",
            "Epoch: 13\n",
            "Loss on hold-out set: 1.2188736106872557\n",
            "Accuracy on hold-out set: 0.57715\n",
            "Epoch: 14\n",
            "Loss on hold-out set: 1.177742660999298\n",
            "Accuracy on hold-out set: 0.60005\n",
            "Early stopping at epoch 13\n",
            "Returned to Spot: Validation loss: 1.177742660999298\n",
            "----------------------------------------------\n",
            "config: {'l1': 128, 'l2': 512, 'lr': 0.001, 'batch_size': 16, 'epochs': 16, 'k_folds': 0, 'patience': 3, 'optimizer': 'AdamW', 'criterion': CrossEntropyLoss()}\n",
            "Removed attributes: {'optimizer': 'AdamW', 'epochs': 16, 'lr': 0.001, 'k_folds': 0, 'batch_size': 16, 'patience': 3}\n",
            "Optimizer_instatance: AdamW\n",
            "Epoch: 1\n",
            "Loss on hold-out set: 1.4190987349033355\n",
            "Accuracy on hold-out set: 0.47635\n",
            "Epoch: 2\n",
            "Loss on hold-out set: 1.2780888248443603\n",
            "Accuracy on hold-out set: 0.5383\n",
            "Epoch: 3\n",
            "Loss on hold-out set: 1.276727697467804\n",
            "Accuracy on hold-out set: 0.54405\n",
            "Epoch: 4\n",
            "Loss on hold-out set: 1.2005664977550508\n",
            "Accuracy on hold-out set: 0.5772\n",
            "Epoch: 5\n",
            "Loss on hold-out set: 1.1889719974279405\n",
            "Accuracy on hold-out set: 0.58495\n",
            "Epoch: 6\n",
            "Loss on hold-out set: 1.195612802863121\n",
            "Accuracy on hold-out set: 0.58815\n",
            "Epoch: 7\n",
            "Loss on hold-out set: 1.173674939751625\n",
            "Accuracy on hold-out set: 0.5993\n",
            "Epoch: 8\n",
            "Loss on hold-out set: 1.2233471366167068\n",
            "Accuracy on hold-out set: 0.59535\n",
            "Epoch: 9\n",
            "Loss on hold-out set: 1.2264972450733185\n",
            "Accuracy on hold-out set: 0.5992\n",
            "Epoch: 10\n",
            "Loss on hold-out set: 1.2484223432540893\n",
            "Accuracy on hold-out set: 0.59505\n",
            "Early stopping at epoch 9\n",
            "Returned to Spot: Validation loss: 1.2484223432540893\n",
            "----------------------------------------------\n",
            "config: {'l1': 128, 'l2': 8, 'lr': 0.001, 'batch_size': 16, 'epochs': 16, 'k_folds': 0, 'patience': 3, 'optimizer': 'AdamW', 'criterion': CrossEntropyLoss()}\n",
            "Removed attributes: {'optimizer': 'AdamW', 'epochs': 16, 'lr': 0.001, 'k_folds': 0, 'batch_size': 16, 'patience': 3}\n",
            "Optimizer_instatance: AdamW\n",
            "Epoch: 1\n",
            "Loss on hold-out set: 1.6230372360229492\n",
            "Accuracy on hold-out set: 0.3873\n",
            "Epoch: 2\n",
            "Loss on hold-out set: 1.440545555305481\n",
            "Accuracy on hold-out set: 0.46295\n",
            "Epoch: 3\n",
            "Loss on hold-out set: 1.3238915126800537\n",
            "Accuracy on hold-out set: 0.5199\n",
            "Epoch: 4\n",
            "Loss on hold-out set: 1.2686077623605727\n",
            "Accuracy on hold-out set: 0.5494\n",
            "Epoch: 5\n",
            "Loss on hold-out set: 1.280724727153778\n",
            "Accuracy on hold-out set: 0.54485\n",
            "Epoch: 6\n",
            "Loss on hold-out set: 1.1871312802553178\n",
            "Accuracy on hold-out set: 0.58485\n",
            "Epoch: 7\n",
            "Loss on hold-out set: 1.195671919298172\n",
            "Accuracy on hold-out set: 0.57775\n",
            "Epoch: 8\n",
            "Loss on hold-out set: 1.139883088541031\n",
            "Accuracy on hold-out set: 0.60605\n",
            "Epoch: 9\n",
            "Loss on hold-out set: 1.1738827343940734\n",
            "Accuracy on hold-out set: 0.5936\n",
            "Epoch: 10\n",
            "Loss on hold-out set: 1.139987276673317\n",
            "Accuracy on hold-out set: 0.60925\n",
            "Epoch: 11\n",
            "Loss on hold-out set: 1.1593797496080398\n",
            "Accuracy on hold-out set: 0.60335\n",
            "Early stopping at epoch 10\n",
            "Returned to Spot: Validation loss: 1.1593797496080398\n",
            "----------------------------------------------\n",
            "config: {'l1': 128, 'l2': 16, 'lr': 0.001, 'batch_size': 16, 'epochs': 16, 'k_folds': 0, 'patience': 3, 'optimizer': 'AdamW', 'criterion': CrossEntropyLoss()}\n",
            "Removed attributes: {'optimizer': 'AdamW', 'epochs': 16, 'lr': 0.001, 'k_folds': 0, 'batch_size': 16, 'patience': 3}\n",
            "Optimizer_instatance: AdamW\n",
            "Epoch: 1\n",
            "Loss on hold-out set: 1.5126761931419372\n",
            "Accuracy on hold-out set: 0.4499\n",
            "Epoch: 2\n",
            "Loss on hold-out set: 1.3839476634979249\n",
            "Accuracy on hold-out set: 0.49525\n",
            "Epoch: 3\n",
            "Loss on hold-out set: 1.3317656896591186\n",
            "Accuracy on hold-out set: 0.5184\n",
            "Epoch: 4\n",
            "Loss on hold-out set: 1.3262654591083527\n",
            "Accuracy on hold-out set: 0.53145\n",
            "Epoch: 5\n",
            "Loss on hold-out set: 1.2209319344043732\n",
            "Accuracy on hold-out set: 0.5662\n",
            "Epoch: 6\n",
            "Loss on hold-out set: 1.2059812700510024\n",
            "Accuracy on hold-out set: 0.5771\n",
            "Epoch: 7\n",
            "Loss on hold-out set: 1.1823828160047531\n",
            "Accuracy on hold-out set: 0.59085\n",
            "Epoch: 8\n",
            "Loss on hold-out set: 1.177219835138321\n",
            "Accuracy on hold-out set: 0.5914\n",
            "Epoch: 9\n",
            "Loss on hold-out set: 1.1562165623903276\n",
            "Accuracy on hold-out set: 0.60245\n",
            "Epoch: 10\n",
            "Loss on hold-out set: 1.1566784442424773\n",
            "Accuracy on hold-out set: 0.60495\n",
            "Epoch: 11\n",
            "Loss on hold-out set: 1.2048674190044404\n",
            "Accuracy on hold-out set: 0.5963\n",
            "Epoch: 12\n",
            "Loss on hold-out set: 1.1730104093790055\n",
            "Accuracy on hold-out set: 0.6118\n",
            "Early stopping at epoch 11\n",
            "Returned to Spot: Validation loss: 1.1730104093790055\n",
            "----------------------------------------------\n",
            "config: {'l1': 128, 'l2': 4, 'lr': 0.001, 'batch_size': 32, 'epochs': 16, 'k_folds': 0, 'patience': 3, 'optimizer': 'NAdam', 'criterion': CrossEntropyLoss()}\n",
            "Removed attributes: {'optimizer': 'NAdam', 'epochs': 16, 'lr': 0.001, 'k_folds': 0, 'batch_size': 32, 'patience': 3}\n",
            "Optimizer_instatance: NAdam\n",
            "Epoch: 1\n",
            "Loss on hold-out set: 2.3028519832611085\n",
            "Accuracy on hold-out set: 0.09815\n",
            "Epoch: 2\n",
            "Loss on hold-out set: 2.302948124694824\n",
            "Accuracy on hold-out set: 0.09815\n",
            "Epoch: 3\n",
            "Loss on hold-out set: 2.3029249240875242\n",
            "Accuracy on hold-out set: 0.09755\n",
            "Epoch: 4\n",
            "Loss on hold-out set: 2.30302861289978\n",
            "Accuracy on hold-out set: 0.09755\n",
            "Early stopping at epoch 3\n",
            "Returned to Spot: Validation loss: 2.30302861289978\n",
            "----------------------------------------------\n",
            "config: {'l1': 32, 'l2': 8, 'lr': 0.001, 'batch_size': 8, 'epochs': 16, 'k_folds': 0, 'patience': 3, 'optimizer': 'NAdam', 'criterion': CrossEntropyLoss()}\n",
            "Removed attributes: {'optimizer': 'NAdam', 'epochs': 16, 'lr': 0.001, 'k_folds': 0, 'batch_size': 8, 'patience': 3}\n",
            "Optimizer_instatance: NAdam\n",
            "Epoch: 1\n",
            "Loss on hold-out set: 1.5025646552443503\n",
            "Accuracy on hold-out set: 0.45855\n",
            "Epoch: 2\n",
            "Loss on hold-out set: 1.416817685163021\n",
            "Accuracy on hold-out set: 0.4907\n",
            "Epoch: 3\n",
            "Loss on hold-out set: 1.4695017365932466\n",
            "Accuracy on hold-out set: 0.48785\n",
            "Epoch: 4\n",
            "Loss on hold-out set: 1.3841449299693107\n",
            "Accuracy on hold-out set: 0.5141\n",
            "Epoch: 5\n",
            "Loss on hold-out set: 1.2806296348035335\n",
            "Accuracy on hold-out set: 0.5514\n",
            "Epoch: 6\n",
            "Loss on hold-out set: 1.3130700274884701\n",
            "Accuracy on hold-out set: 0.53285\n",
            "Epoch: 7\n",
            "Loss on hold-out set: 1.359649189889431\n",
            "Accuracy on hold-out set: 0.53635\n",
            "Epoch: 8\n",
            "Loss on hold-out set: 1.2684757771134376\n",
            "Accuracy on hold-out set: 0.5613\n",
            "Epoch: 9\n",
            "Loss on hold-out set: 1.2803979201316833\n",
            "Accuracy on hold-out set: 0.5596\n",
            "Epoch: 10\n",
            "Loss on hold-out set: 1.2971806005001068\n",
            "Accuracy on hold-out set: 0.5584\n",
            "Epoch: 11\n",
            "Loss on hold-out set: 1.2655618793308734\n",
            "Accuracy on hold-out set: 0.57625\n",
            "Epoch: 12\n",
            "Loss on hold-out set: 1.3258406756341456\n",
            "Accuracy on hold-out set: 0.5632\n",
            "Epoch: 13\n",
            "Loss on hold-out set: 1.2765798720091581\n",
            "Accuracy on hold-out set: 0.57385\n",
            "Epoch: 14\n",
            "Loss on hold-out set: 1.2827038172483445\n",
            "Accuracy on hold-out set: 0.57365\n",
            "Early stopping at epoch 13\n",
            "Returned to Spot: Validation loss: 1.2827038172483445\n",
            "----------------------------------------------\n",
            "config: {'l1': 128, 'l2': 4, 'lr': 0.001, 'batch_size': 32, 'epochs': 16, 'k_folds': 0, 'patience': 3, 'optimizer': 'AdamW', 'criterion': CrossEntropyLoss()}\n",
            "Removed attributes: {'optimizer': 'AdamW', 'epochs': 16, 'lr': 0.001, 'k_folds': 0, 'batch_size': 32, 'patience': 3}\n",
            "Optimizer_instatance: AdamW\n",
            "Epoch: 1\n",
            "Loss on hold-out set: 1.7680886638641358\n",
            "Accuracy on hold-out set: 0.36715\n",
            "Epoch: 2\n",
            "Loss on hold-out set: 1.6338232774734498\n",
            "Accuracy on hold-out set: 0.4055\n",
            "Epoch: 3\n",
            "Loss on hold-out set: 1.5379185676574707\n",
            "Accuracy on hold-out set: 0.43685\n",
            "Epoch: 4\n",
            "Loss on hold-out set: 1.529275001335144\n",
            "Accuracy on hold-out set: 0.45445\n",
            "Epoch: 5\n",
            "Loss on hold-out set: 1.4596381247520447\n",
            "Accuracy on hold-out set: 0.48825\n",
            "Epoch: 6\n",
            "Loss on hold-out set: 1.461801530265808\n",
            "Accuracy on hold-out set: 0.4863\n",
            "Epoch: 7\n",
            "Loss on hold-out set: 1.375503136920929\n",
            "Accuracy on hold-out set: 0.51365\n",
            "Epoch: 8\n",
            "Loss on hold-out set: 1.359184511756897\n",
            "Accuracy on hold-out set: 0.52635\n",
            "Epoch: 9\n",
            "Loss on hold-out set: 1.3760408862113953\n",
            "Accuracy on hold-out set: 0.5187\n",
            "Epoch: 10\n",
            "Loss on hold-out set: 1.3573473329544068\n",
            "Accuracy on hold-out set: 0.53165\n",
            "Epoch: 11\n",
            "Loss on hold-out set: 1.368196086025238\n",
            "Accuracy on hold-out set: 0.53265\n",
            "Epoch: 12\n",
            "Loss on hold-out set: 1.3206848110198974\n",
            "Accuracy on hold-out set: 0.54615\n",
            "Epoch: 13\n",
            "Loss on hold-out set: 1.4574092668533325\n",
            "Accuracy on hold-out set: 0.53375\n",
            "Epoch: 14\n",
            "Loss on hold-out set: 1.3193613452911377\n",
            "Accuracy on hold-out set: 0.55845\n",
            "Epoch: 15\n",
            "Loss on hold-out set: 1.3022579891204833\n",
            "Accuracy on hold-out set: 0.56405\n",
            "Epoch: 16\n",
            "Loss on hold-out set: 1.3002337231636047\n",
            "Accuracy on hold-out set: 0.5615\n",
            "Returned to Spot: Validation loss: 1.3002337231636047\n",
            "----------------------------------------------\n",
            "config: {'l1': 512, 'l2': 512, 'lr': 0.001, 'batch_size': 32, 'epochs': 16, 'k_folds': 0, 'patience': 3, 'optimizer': 'AdamW', 'criterion': CrossEntropyLoss()}\n",
            "Removed attributes: {'optimizer': 'AdamW', 'epochs': 16, 'lr': 0.001, 'k_folds': 0, 'batch_size': 32, 'patience': 3}\n",
            "Optimizer_instatance: AdamW\n",
            "Epoch: 1\n",
            "Loss on hold-out set: 1.3729281777381896\n",
            "Accuracy on hold-out set: 0.50335\n",
            "Epoch: 2\n",
            "Loss on hold-out set: 1.2789577325820922\n",
            "Accuracy on hold-out set: 0.5474\n",
            "Epoch: 3\n",
            "Loss on hold-out set: 1.1949503607749938\n",
            "Accuracy on hold-out set: 0.5755\n",
            "Epoch: 4\n",
            "Loss on hold-out set: 1.1591001006126405\n",
            "Accuracy on hold-out set: 0.59885\n",
            "Epoch: 5\n",
            "Loss on hold-out set: 1.164086614704132\n",
            "Accuracy on hold-out set: 0.603\n",
            "Epoch: 6\n",
            "Loss on hold-out set: 1.1484413997650147\n",
            "Accuracy on hold-out set: 0.6091\n",
            "Epoch: 7\n",
            "Loss on hold-out set: 1.1406940610408782\n",
            "Accuracy on hold-out set: 0.6278\n",
            "Epoch: 8\n",
            "Loss on hold-out set: 1.2402940750122071\n",
            "Accuracy on hold-out set: 0.61705\n",
            "Epoch: 9\n",
            "Loss on hold-out set: 1.3984215119361878\n",
            "Accuracy on hold-out set: 0.6056\n",
            "Epoch: 10\n",
            "Loss on hold-out set: 1.470010299873352\n",
            "Accuracy on hold-out set: 0.6131\n",
            "Early stopping at epoch 9\n",
            "Returned to Spot: Validation loss: 1.470010299873352\n",
            "----------------------------------------------\n",
            "config: {'l1': 8, 'l2': 16, 'lr': 0.001, 'batch_size': 2, 'epochs': 16, 'k_folds': 0, 'patience': 3, 'optimizer': 'NAdam', 'criterion': CrossEntropyLoss()}\n",
            "Removed attributes: {'optimizer': 'NAdam', 'epochs': 16, 'lr': 0.001, 'k_folds': 0, 'batch_size': 2, 'patience': 3}\n",
            "Optimizer_instatance: NAdam\n",
            "Epoch: 1\n",
            "Loss on hold-out set: 1.798599960240349\n",
            "Accuracy on hold-out set: 0.38035\n",
            "Epoch: 2\n",
            "Loss on hold-out set: 1.681505929086823\n",
            "Accuracy on hold-out set: 0.4163\n",
            "Epoch: 3\n",
            "Loss on hold-out set: 1.6875325478885324\n",
            "Accuracy on hold-out set: 0.42245\n",
            "Epoch: 4\n",
            "Loss on hold-out set: 1.6695034023197601\n",
            "Accuracy on hold-out set: 0.45265\n",
            "Epoch: 5\n",
            "Loss on hold-out set: 1.6984369342865335\n",
            "Accuracy on hold-out set: 0.45085\n",
            "Epoch: 6\n",
            "Loss on hold-out set: 1.6061365829033545\n",
            "Accuracy on hold-out set: 0.4527\n",
            "Epoch: 7\n",
            "Loss on hold-out set: 1.7061124059396433\n",
            "Accuracy on hold-out set: 0.4566\n",
            "Epoch: 8\n",
            "Loss on hold-out set: 1.7162298802530742\n",
            "Accuracy on hold-out set: 0.4504\n",
            "Epoch: 9\n",
            "Loss on hold-out set: 1.6683832777252945\n",
            "Accuracy on hold-out set: 0.47205\n",
            "Early stopping at epoch 8\n",
            "Returned to Spot: Validation loss: 1.6683832777252945\n",
            "----------------------------------------------\n",
            "config: {'l1': 256, 'l2': 16, 'lr': 0.001, 'batch_size': 32, 'epochs': 16, 'k_folds': 0, 'patience': 3, 'optimizer': 'AdamW', 'criterion': CrossEntropyLoss()}\n",
            "Removed attributes: {'optimizer': 'AdamW', 'epochs': 16, 'lr': 0.001, 'k_folds': 0, 'batch_size': 32, 'patience': 3}\n",
            "Optimizer_instatance: AdamW\n",
            "Epoch: 1\n",
            "Loss on hold-out set: 1.518202630996704\n",
            "Accuracy on hold-out set: 0.4467\n",
            "Epoch: 2\n",
            "Loss on hold-out set: 1.3887779866218566\n",
            "Accuracy on hold-out set: 0.4947\n",
            "Epoch: 3\n",
            "Loss on hold-out set: 1.3238572347640991\n",
            "Accuracy on hold-out set: 0.526\n",
            "Epoch: 4\n",
            "Loss on hold-out set: 1.225386078453064\n",
            "Accuracy on hold-out set: 0.55795\n",
            "Epoch: 5\n",
            "Loss on hold-out set: 1.2376933782577515\n",
            "Accuracy on hold-out set: 0.5572\n",
            "Epoch: 6\n",
            "Loss on hold-out set: 1.1860547595977784\n",
            "Accuracy on hold-out set: 0.58265\n",
            "Epoch: 7\n",
            "Loss on hold-out set: 1.1799282444000243\n",
            "Accuracy on hold-out set: 0.58565\n",
            "Epoch: 8\n",
            "Loss on hold-out set: 1.165451936483383\n",
            "Accuracy on hold-out set: 0.5925\n",
            "Epoch: 9\n",
            "Loss on hold-out set: 1.1738809432029724\n",
            "Accuracy on hold-out set: 0.5953\n",
            "Epoch: 10\n",
            "Loss on hold-out set: 1.1495334550857543\n",
            "Accuracy on hold-out set: 0.60365\n",
            "Epoch: 11\n",
            "Loss on hold-out set: 1.1586657468795776\n",
            "Accuracy on hold-out set: 0.6068\n",
            "Epoch: 12\n",
            "Loss on hold-out set: 1.1629733488559724\n",
            "Accuracy on hold-out set: 0.612\n",
            "Epoch: 13\n",
            "Loss on hold-out set: 1.2127695735931396\n",
            "Accuracy on hold-out set: 0.60535\n",
            "Early stopping at epoch 12\n",
            "Returned to Spot: Validation loss: 1.2127695735931396\n",
            "----------------------------------------------\n",
            "config: {'l1': 256, 'l2': 128, 'lr': 0.001, 'batch_size': 16, 'epochs': 8, 'k_folds': 0, 'patience': 3, 'optimizer': 'ASGD', 'criterion': CrossEntropyLoss()}\n",
            "Removed attributes: {'optimizer': 'ASGD', 'epochs': 8, 'lr': 0.001, 'k_folds': 0, 'batch_size': 16, 'patience': 3}\n",
            "Optimizer_instatance: ASGD\n",
            "Epoch: 1\n",
            "Loss on hold-out set: 1.9388678844451905\n",
            "Accuracy on hold-out set: 0.2928\n",
            "Epoch: 2\n",
            "Loss on hold-out set: 1.8051898463249207\n",
            "Accuracy on hold-out set: 0.3412\n",
            "Epoch: 3\n",
            "Loss on hold-out set: 1.7183704893112182\n",
            "Accuracy on hold-out set: 0.37125\n",
            "Epoch: 4\n",
            "Loss on hold-out set: 1.6630806496620179\n",
            "Accuracy on hold-out set: 0.39345\n",
            "Epoch: 5\n",
            "Loss on hold-out set: 1.6048417897224427\n",
            "Accuracy on hold-out set: 0.41115\n",
            "Epoch: 6\n",
            "Loss on hold-out set: 1.5685939036846162\n",
            "Accuracy on hold-out set: 0.4279\n",
            "Epoch: 7\n",
            "Loss on hold-out set: 1.5420778688907624\n",
            "Accuracy on hold-out set: 0.43605\n",
            "Epoch: 8\n",
            "Loss on hold-out set: 1.511863587808609\n",
            "Accuracy on hold-out set: 0.4485\n",
            "Returned to Spot: Validation loss: 1.511863587808609\n",
            "----------------------------------------------\n",
            "config: {'l1': 128, 'l2': 32, 'lr': 0.001, 'batch_size': 16, 'epochs': 16, 'k_folds': 0, 'patience': 3, 'optimizer': 'AdamW', 'criterion': CrossEntropyLoss()}\n",
            "Removed attributes: {'optimizer': 'AdamW', 'epochs': 16, 'lr': 0.001, 'k_folds': 0, 'batch_size': 16, 'patience': 3}\n",
            "Optimizer_instatance: AdamW\n",
            "Epoch: 1\n",
            "Loss on hold-out set: 1.4772193532943725\n",
            "Accuracy on hold-out set: 0.45725\n",
            "Epoch: 2\n",
            "Loss on hold-out set: 1.3794260301113128\n",
            "Accuracy on hold-out set: 0.5015\n",
            "Epoch: 3\n",
            "Loss on hold-out set: 1.2703616439819336\n",
            "Accuracy on hold-out set: 0.54755\n",
            "Epoch: 4\n",
            "Loss on hold-out set: 1.2393855036020278\n",
            "Accuracy on hold-out set: 0.56325\n",
            "Epoch: 5\n",
            "Loss on hold-out set: 1.184773910856247\n",
            "Accuracy on hold-out set: 0.58995\n",
            "Epoch: 6\n",
            "Loss on hold-out set: 1.205906653571129\n",
            "Accuracy on hold-out set: 0.58505\n",
            "Epoch: 7\n",
            "Loss on hold-out set: 1.153747418642044\n",
            "Accuracy on hold-out set: 0.6022\n",
            "Epoch: 8\n",
            "Loss on hold-out set: 1.191202663040161\n",
            "Accuracy on hold-out set: 0.594\n",
            "Epoch: 9\n",
            "Loss on hold-out set: 1.170937834429741\n",
            "Accuracy on hold-out set: 0.6014\n",
            "Epoch: 10\n",
            "Loss on hold-out set: 1.1534791174411774\n",
            "Accuracy on hold-out set: 0.6095\n",
            "Epoch: 11\n",
            "Loss on hold-out set: 1.1540323867559432\n",
            "Accuracy on hold-out set: 0.6132\n",
            "Epoch: 12\n",
            "Loss on hold-out set: 1.2024183451533317\n",
            "Accuracy on hold-out set: 0.60635\n",
            "Epoch: 13\n",
            "Loss on hold-out set: 1.221157395195961\n",
            "Accuracy on hold-out set: 0.59955\n",
            "Early stopping at epoch 12\n",
            "Returned to Spot: Validation loss: 1.221157395195961\n",
            "----------------------------------------------\n",
            "config: {'l1': 64, 'l2': 4, 'lr': 0.001, 'batch_size': 16, 'epochs': 16, 'k_folds': 0, 'patience': 3, 'optimizer': 'AdamW', 'criterion': CrossEntropyLoss()}\n",
            "Removed attributes: {'optimizer': 'AdamW', 'epochs': 16, 'lr': 0.001, 'k_folds': 0, 'batch_size': 16, 'patience': 3}\n",
            "Optimizer_instatance: AdamW\n",
            "Epoch: 1\n",
            "Loss on hold-out set: 1.8804105129241944\n",
            "Accuracy on hold-out set: 0.28\n",
            "Epoch: 2\n",
            "Loss on hold-out set: 1.7336095640182496\n",
            "Accuracy on hold-out set: 0.33315\n",
            "Epoch: 3\n",
            "Loss on hold-out set: 1.665463032722473\n",
            "Accuracy on hold-out set: 0.36605\n",
            "Epoch: 4\n",
            "Loss on hold-out set: 1.6121204371452331\n",
            "Accuracy on hold-out set: 0.3819\n",
            "Epoch: 5\n",
            "Loss on hold-out set: 1.5897112627983094\n",
            "Accuracy on hold-out set: 0.4069\n",
            "Epoch: 6\n",
            "Loss on hold-out set: 1.5839846778392792\n",
            "Accuracy on hold-out set: 0.4112\n",
            "Epoch: 7\n",
            "Loss on hold-out set: 1.5137604043006896\n",
            "Accuracy on hold-out set: 0.4379\n",
            "Epoch: 8\n",
            "Loss on hold-out set: 1.5219759882450103\n",
            "Accuracy on hold-out set: 0.4326\n",
            "Epoch: 9\n",
            "Loss on hold-out set: 1.4942354040145873\n",
            "Accuracy on hold-out set: 0.4477\n",
            "Epoch: 10\n",
            "Loss on hold-out set: 1.4993006494045258\n",
            "Accuracy on hold-out set: 0.45075\n",
            "Epoch: 11\n",
            "Loss on hold-out set: 1.472572626876831\n",
            "Accuracy on hold-out set: 0.4633\n",
            "Epoch: 12\n",
            "Loss on hold-out set: 1.503491439986229\n",
            "Accuracy on hold-out set: 0.45595\n",
            "Epoch: 13\n",
            "Loss on hold-out set: 1.4766540060997009\n",
            "Accuracy on hold-out set: 0.45555\n",
            "Epoch: 14\n",
            "Loss on hold-out set: 1.4572197691440583\n",
            "Accuracy on hold-out set: 0.46475\n",
            "Epoch: 15\n",
            "Loss on hold-out set: 1.4379975437164307\n",
            "Accuracy on hold-out set: 0.47155\n",
            "Epoch: 16\n",
            "Loss on hold-out set: 1.4155752116203308\n",
            "Accuracy on hold-out set: 0.4802\n",
            "Returned to Spot: Validation loss: 1.4155752116203308\n",
            "----------------------------------------------\n",
            "spotPython tuning: [##########] 100.00% Done...\n",
            "\r"
          ]
        },
        {
          "data": {
            "text/plain": [
              "<spotPython.spot.spot.Spot at 0x16d8499c0>"
            ]
          },
          "execution_count": 20,
          "metadata": {},
          "output_type": "execute_result"
        }
      ],
      "source": [
        "#| echo: true\n",
        "spot_tuner = spot.Spot(fun=fun,\n",
        "                   lower = lower,\n",
        "                   upper = upper,\n",
        "                   fun_evals = inf,\n",
        "                   fun_repeats = 1,\n",
        "                   max_time = MAX_TIME,\n",
        "                   noise = False,\n",
        "                   tolerance_x = np.sqrt(np.spacing(1)),\n",
        "                   var_type = var_type,\n",
        "                   var_name = var_name,\n",
        "                   infill_criterion = \"y\",\n",
        "                   n_points = 1,\n",
        "                   seed=123,\n",
        "                   log_level = 50,\n",
        "                   show_models= False,\n",
        "                   show_progress= True,\n",
        "                   fun_control = fun_control,\n",
        "                   design_control={\"init_size\": INIT_SIZE,\n",
        "                                   \"repeats\": 1},\n",
        "                   surrogate_control={\"noise\": True,\n",
        "                                      \"cod_type\": \"norm\",\n",
        "                                      \"min_theta\": -4,\n",
        "                                      \"max_theta\": 3,\n",
        "                                      \"n_theta\": len(var_name),\n",
        "                                      \"model_optimizer\": differential_evolution,\n",
        "                                      \"model_fun_evals\": 10_000,\n",
        "                                      \"log_level\": 50\n",
        "                                      })\n",
        "spot_tuner.run(X_start=X_start)"
      ]
    },
    {
      "attachments": {},
      "cell_type": "markdown",
      "metadata": {},
      "source": [
        "During the run, the following output is shown:\n",
        "\n",
        "```{raw}\n",
        "config: {'l1': 64, 'l2': 32, 'lr': 0.008391430243550081, \n",
        "    'batch_size': 4, 'epochs': 16, 'k_folds': 0, 'patience': 3,\n",
        "    'optimizer': 'Adam', 'loss_function': CrossEntropyLoss()}\n",
        "Epoch: 9\n",
        "Batch:  1000. Batch Size: 4. Training Loss (running): 2.308\n",
        "Batch:  2000. Batch Size: 4. Training Loss (running): 1.153\n",
        "Batch:  3000. Batch Size: 4. Training Loss (running): 0.769\n",
        "Batch:  4000. Batch Size: 4. Training Loss (running): 0.576\n",
        "Batch:  5000. Batch Size: 4. Training Loss (running): 0.461\n",
        "Batch:  6000. Batch Size: 4. Training Loss (running): 0.384\n",
        "Batch:  7000. Batch Size: 4. Training Loss (running): 0.330\n",
        "Loss on hold-out set: 2.306006399059296\n",
        "Accuracy on hold-out set: 0.1007\n",
        "Early stopping at epoch 8\n",
        "Returned to Spot: Validation loss: 2.306006399059296\n",
        "```\n",
        "\n",
        "\n",
        "## Results {#sec-results-tuning}"
      ]
    },
    {
      "cell_type": "code",
      "execution_count": 21,
      "metadata": {},
      "outputs": [],
      "source": [
        "#| echo: true\n",
        "SAVE = False\n",
        "LOAD = False\n",
        "\n",
        "if SAVE:\n",
        "    result_file_name = \"res_\" + experiment_name + \".pkl\"\n",
        "    with open(result_file_name, 'wb') as f:\n",
        "        pickle.dump(spot_tuner, f)\n",
        "\n",
        "if LOAD:\n",
        "    result_file_name = \"res_ch10-friedman-hpt-0_maans03_60min_20init_1K_2023-04-14_10-11-19.pkl\"\n",
        "    with open(result_file_name, 'rb') as f:\n",
        "        spot_tuner =  pickle.load(f)"
      ]
    },
    {
      "cell_type": "markdown",
      "metadata": {},
      "source": [
        "After the hyperparameter tuning run is finished, the progress of the hyperparameter tuning can be visualized. The following code generates the progress plot from @fig-progress."
      ]
    },
    {
      "cell_type": "code",
      "execution_count": 22,
      "metadata": {},
      "outputs": [
        {
          "data": {
            "image/png": "[encoded data removed]",
            "text/plain": [
              "<Figure size 900x600 with 1 Axes>"
            ]
          },
          "metadata": {},
          "output_type": "display_data"
        }
      ],
      "source": [
        "#| echo: true\n",
        "#| label: fig-progress\n",
        "#| fig-cap: \"Progress plot. *Black* dots denote results from the initial design. *Red* dots  illustrate the improvement found by the surrogate model based optimization.\"\n",
        "spot_tuner.plot_progress(log_y=False, filename=\"./figures\" + experiment_name+\"_progress.pdf\")"
      ]
    },
    {
      "cell_type": "markdown",
      "metadata": {},
      "source": [
        "![Progress plot. `Black` dots denote results from the initial design. `Red` dots  illustrate the improvement found by the surrogate model based optimization (surrogate model based optimization).](./figures/14-torch_bartz09_30min_10init_2023-05-14_14-45-25_progress.png){#fig-progress}\n",
        "\n",
        "@fig-progress shows a typical behaviour that can be observed in many hyperparameter studies [@bart21i]: the largest improvement is obtained during the evaluation of the initial design. The surrogate model based optimization-optimization with the surrogate refines the results. @fig-progress also illustrates one major difference between `ray[tune]` as used in @pyto23a and `spotPython`: the `ray[tune]` uses a random search and will generate results similar to the *black* dots, whereas `spotPython` uses a surrogate model based optimization and presents results represented by *red* dots in @fig-progress. The surrogate model based optimization is considered to be more efficient than a random search, because the surrogate model guides the search towards promising regions in the hyperparameter space.\n",
        "\n",
        "In addition to the improved (\"optimized\") hyperparameter values, `spotPython` allows a statistical analysis, e.g., a sensitivity analysis, of the results. We can print the results of the hyperparameter tuning, see @tbl-results."
      ]
    },
    {
      "cell_type": "code",
      "execution_count": 23,
      "metadata": {},
      "outputs": [
        {
          "name": "stdout",
          "output_type": "stream",
          "text": [
            "| name       | type   | default          |   lower |   upper |   tuned | transform             |   importance | stars   |\n",
            "|------------|--------|------------------|---------|---------|---------|-----------------------|--------------|---------|\n",
            "| l1         | int    | 5                |     2.0 |     9.0 |     7.0 | transform_power_2_int |       100.00 | ***     |\n",
            "| l2         | int    | 5                |     2.0 |     9.0 |     3.0 | transform_power_2_int |        96.29 | ***     |\n",
            "| lr         | float  | 0.001            |   0.001 |   0.001 |   0.001 | None                  |         0.00 |         |\n",
            "| batch_size | int    | 4                |     1.0 |     5.0 |     4.0 | transform_power_2_int |         0.00 |         |\n",
            "| epochs     | int    | 3                |     3.0 |     4.0 |     4.0 | transform_power_2_int |         4.18 | *       |\n",
            "| k_folds    | int    | 2                |     0.0 |     0.0 |     0.0 | None                  |         0.00 |         |\n",
            "| patience   | int    | 5                |     3.0 |     3.0 |     3.0 | None                  |         0.00 |         |\n",
            "| optimizer  | factor | SGD              |     0.0 |     9.0 |     3.0 | None                  |         0.16 | .       |\n",
            "| criterion  | factor | CrossEntropyLoss |     0.0 |     0.0 |     0.0 | None                  |         0.00 |         |\n"
          ]
        }
      ],
      "source": [
        "#| echo: true\n",
        "print(gen_design_table(fun_control=fun_control, spot=spot_tuner))"
      ]
    },
    {
      "cell_type": "markdown",
      "metadata": {},
      "source": [
        "| name       | type   |   default |   lower |   upper |      tuned | transform             |   importance | stars   |\n",
        "|------------|--------|-----------|---------|---------|------|-----------------------|--------------|---------|\n",
        "| l1         | int    |       5.0 |     2.0 |     9.0 |                  6.0 | power_2_int |        74.93 | **      |\n",
        "| l2         | int    |       5.0 |     2.0 |     9.0 |                  5.0 | power_2_int |         0.00 |         |\n",
        "| lr         | float  |     0.001 |   1e-05 |    0.01 | 0.0038 | None                  |       100.00 | ***     |\n",
        "| batch_size | int    |       4.0 |     1.0 |     5.0 |                  4.0 | power_2_int |        75.39 | **      |\n",
        "| epochs     | int    |       3.0 |     3.0 |     4.0 |                  4.0 | power_2_int |         0.00 |         |\n",
        "| k_folds    | int    |       2.0 |     0.0 |     0.0 |                  0.0 | None                  |         0.00 |         |\n",
        "| patience   | int    |       5.0 |     5.0 |     5.0 |                  5.0 | None                  |         0.00 |         |\n",
        ": Results of the hyperparameter tuning. The table shows the hyperparameters, their types, default values, lower and upper bounds, and the transformation function. The column \"tuned\" shows the tuned values. The column \"importance\" shows the importance of the hyperparameters. The column \"stars\" shows the importance of the hyperparameters in stars. The importance is computed by the SPOT software. {#tbl-results}\n",
        "\n",
        "To visualize the most important hyperparameters, `spotPython` provides the function `plot_importance`. The following code generates the importance plot from @fig-importance."
      ]
    },
    {
      "cell_type": "code",
      "execution_count": 24,
      "metadata": {},
      "outputs": [
        {
          "data": {
            "image/png": "[encoded data removed]",
            "text/plain": [
              "<Figure size 640x480 with 1 Axes>"
            ]
          },
          "metadata": {},
          "output_type": "display_data"
        }
      ],
      "source": [
        "#| echo: true\n",
        "spot_tuner.plot_importance(threshold=0.025, filename=\"./figures\" + experiment_name+\"_importance.pdf\")"
      ]
    },
    {
      "cell_type": "markdown",
      "metadata": {},
      "source": [
        "![Variable importance](./figures/14-torch_bartz09_30min_10init_2023-05-14_14-45-25_importance.png){#fig-importance width=\"50%\"}\n",
        "\n",
        "\n",
        "## Get SPOT Results {#sec-get-spot-results}\n",
        "\n",
        "The architecture of the `spotPython` model can be obtained by the following code:"
      ]
    },
    {
      "cell_type": "code",
      "execution_count": 25,
      "metadata": {},
      "outputs": [
        {
          "data": {
            "text/plain": [
              "Net_CIFAR10(\n",
              "  (criterion): CrossEntropyLoss()\n",
              "  (conv1): Conv2d(3, 6, kernel_size=(5, 5), stride=(1, 1))\n",
              "  (pool): MaxPool2d(kernel_size=2, stride=2, padding=0, dilation=1, ceil_mode=False)\n",
              "  (conv2): Conv2d(6, 16, kernel_size=(5, 5), stride=(1, 1))\n",
              "  (fc1): Linear(in_features=400, out_features=128, bias=True)\n",
              "  (fc2): Linear(in_features=128, out_features=8, bias=True)\n",
              "  (fc3): Linear(in_features=8, out_features=10, bias=True)\n",
              ")"
            ]
          },
          "execution_count": 25,
          "metadata": {},
          "output_type": "execute_result"
        }
      ],
      "source": [
        "#| echo: true\n",
        "X = spot_tuner.to_all_dim(spot_tuner.min_X.reshape(1,-1))\n",
        "model_spot = get_one_core_model_from_X(X, fun_control)\n",
        "model_spot"
      ]
    },
    {
      "cell_type": "markdown",
      "metadata": {},
      "source": [
        "First, the numerical representation of the hyperparameters are obtained, i.e., the numpy array `X` is generated. This array is then used to generate the model `model_spot` by the function `get_one_core_model_from_X`. The model `model_spot` has the following architecture:\n",
        "\n",
        "\n",
        "```{raw}\n",
        "Net_CIFAR10(\n",
        "  (conv1): Conv2d(3, 6, kernel_size=(5, 5), stride=(1, 1))\n",
        "  (pool): MaxPool2d(kernel_size=2, stride=2, padding=0, dilation=1, ceil_mode=False)\n",
        "  (conv2): Conv2d(6, 16, kernel_size=(5, 5), stride=(1, 1))\n",
        "  (fc1): Linear(in_features=400, out_features=64, bias=True)\n",
        "  (fc2): Linear(in_features=64, out_features=32, bias=True)\n",
        "  (fc3): Linear(in_features=32, out_features=10, bias=True)\n",
        ")\n",
        "```\n",
        "\n",
        "## Get Default Hyperparameters\n",
        "\n",
        "In a similar manner as in @sec-get-spot-results, the default hyperparameters can be obtained."
      ]
    },
    {
      "cell_type": "code",
      "execution_count": 26,
      "metadata": {},
      "outputs": [],
      "source": [
        "#| echo: true\n",
        "# fun_control was modified, we generate a new one with the original default hyperparameters\n",
        "fc = copy.deepcopy(fun_control)\n",
        "fc.update({\"core_model_hyper_dict\": hyper_dict[fun_control[\"core_model\"].__name__]})\n",
        "model_default = get_one_core_model_from_X(X_start, fun_control=fc)"
      ]
    },
    {
      "cell_type": "markdown",
      "metadata": {},
      "source": [
        "The corresponding default model has the following architecture:\n",
        "\n",
        "```{raw}\n",
        "Net_CIFAR10(\n",
        "  (conv1): Conv2d(3, 6, kernel_size=(5, 5), stride=(1, 1))\n",
        "  (pool): MaxPool2d(kernel_size=2, stride=2, padding=0, dilation=1, ceil_mode=False)\n",
        "  (conv2): Conv2d(6, 16, kernel_size=(5, 5), stride=(1, 1))\n",
        "  (fc1): Linear(in_features=400, out_features=32, bias=True)\n",
        "  (fc2): Linear(in_features=32, out_features=32, bias=True)\n",
        "  (fc3): Linear(in_features=32, out_features=10, bias=True)\n",
        ")\n",
        "```\n",
        "\n",
        "\n",
        "\n",
        "## Evaluation of the Tuned Architecture\n",
        "\n",
        "The method `train_save` takes a model architecture without trained weights and trains this model with the train data. The train data is split into train and validation data. The validation data is used for early stopping. The trained model weights are saved as a dictionary.\n",
        "\n",
        " This evaluation is similar to the final evaluation in @pyto23a. \n"
      ]
    },
    {
      "cell_type": "code",
      "execution_count": 27,
      "metadata": {
        "md-indent": " "
      },
      "outputs": [
        {
          "name": "stdout",
          "output_type": "stream",
          "text": [
            "Epoch: 1\n",
            "Batch:  1000. Batch Size: 16. Training Loss (running): 2.309\n",
            "Loss on hold-out set: 2.30505225982666\n",
            "Accuracy on hold-out set: 0.0933\n",
            "Epoch: 2\n",
            "Batch:  1000. Batch Size: 16. Training Loss (running): 2.305\n",
            "Loss on hold-out set: 2.302273603439331\n",
            "Accuracy on hold-out set: 0.10575\n",
            "Epoch: 3\n",
            "Batch:  1000. Batch Size: 16. Training Loss (running): 2.302\n",
            "Loss on hold-out set: 2.298274313735962\n",
            "Accuracy on hold-out set: 0.1198\n",
            "Epoch: 4\n",
            "Batch:  1000. Batch Size: 16. Training Loss (running): 2.297\n",
            "Loss on hold-out set: 2.285705845451355\n",
            "Accuracy on hold-out set: 0.1248\n",
            "Epoch: 5\n",
            "Batch:  1000. Batch Size: 16. Training Loss (running): 2.277\n",
            "Loss on hold-out set: 2.2493539297103884\n",
            "Accuracy on hold-out set: 0.12905\n",
            "Epoch: 6\n",
            "Batch:  1000. Batch Size: 16. Training Loss (running): 2.236\n",
            "Loss on hold-out set: 2.20610922498703\n",
            "Accuracy on hold-out set: 0.1699\n",
            "Epoch: 7\n",
            "Batch:  1000. Batch Size: 16. Training Loss (running): 2.189\n",
            "Loss on hold-out set: 2.1623984344482423\n",
            "Accuracy on hold-out set: 0.22245\n",
            "Epoch: 8\n",
            "Batch:  1000. Batch Size: 16. Training Loss (running): 2.150\n",
            "Loss on hold-out set: 2.1221409523010255\n",
            "Accuracy on hold-out set: 0.2452\n",
            "Returned to Spot: Validation loss: 2.1221409523010255\n",
            "----------------------------------------------\n",
            "Loss on hold-out set: 2.118220252227783\n",
            "Accuracy on hold-out set: 0.2425\n",
            "Returned to Spot: Validation loss: 2.118220252227783\n",
            "----------------------------------------------\n"
          ]
        },
        {
          "data": {
            "text/plain": [
              "(2.118220252227783, nan)"
            ]
          },
          "execution_count": 27,
          "metadata": {},
          "output_type": "execute_result"
        }
      ],
      "source": [
        "#|echo: true\n",
        "train_save(net=model_default,train_dataset=train, shuffle=True, device = \"cpu\", show_batch_interval=1_000, path=\"model_default_trained.pt\", save_model=True)\n",
        "test_saved(net=model_default,test_dataset=test, shuffle=False, device = \"cpu\", path=\"model_default_trained.pt\")"
      ]
    },
    {
      "cell_type": "markdown",
      "metadata": {},
      "source": [
        " The following code trains the model `model_spot` and saves the weights of the trained model to the file `model_spot_trained.pt`.\n"
      ]
    },
    {
      "cell_type": "code",
      "execution_count": 28,
      "metadata": {},
      "outputs": [
        {
          "name": "stdout",
          "output_type": "stream",
          "text": [
            "Epoch: 1\n",
            "Loss on hold-out set: 1.609377156829834\n",
            "Accuracy on hold-out set: 0.3965\n",
            "Epoch: 2\n",
            "Loss on hold-out set: 1.4782255734443666\n",
            "Accuracy on hold-out set: 0.45055\n",
            "Epoch: 3\n",
            "Loss on hold-out set: 1.3603773032665252\n",
            "Accuracy on hold-out set: 0.50185\n",
            "Epoch: 4\n",
            "Loss on hold-out set: 1.3327916693210602\n",
            "Accuracy on hold-out set: 0.51955\n",
            "Epoch: 5\n",
            "Loss on hold-out set: 1.2735837899684905\n",
            "Accuracy on hold-out set: 0.54105\n",
            "Epoch: 6\n",
            "Loss on hold-out set: 1.2628570571660995\n",
            "Accuracy on hold-out set: 0.5467\n",
            "Epoch: 7\n",
            "Loss on hold-out set: 1.2253513166427612\n",
            "Accuracy on hold-out set: 0.5613\n",
            "Epoch: 8\n",
            "Loss on hold-out set: 1.2290408061742784\n",
            "Accuracy on hold-out set: 0.5602\n",
            "Epoch: 9\n",
            "Loss on hold-out set: 1.2233493249177934\n",
            "Accuracy on hold-out set: 0.57855\n",
            "Epoch: 10\n",
            "Loss on hold-out set: 1.2161749539613724\n",
            "Accuracy on hold-out set: 0.5812\n",
            "Epoch: 11\n",
            "Loss on hold-out set: 1.1782471472501754\n",
            "Accuracy on hold-out set: 0.59\n",
            "Epoch: 12\n",
            "Loss on hold-out set: 1.189301056933403\n",
            "Accuracy on hold-out set: 0.59425\n",
            "Epoch: 13\n",
            "Loss on hold-out set: 1.2054243752002716\n",
            "Accuracy on hold-out set: 0.5905\n",
            "Epoch: 14\n",
            "Loss on hold-out set: 1.2267619131326675\n",
            "Accuracy on hold-out set: 0.58955\n",
            "Early stopping at epoch 13\n",
            "Returned to Spot: Validation loss: 1.2267619131326675\n",
            "----------------------------------------------\n"
          ]
        },
        {
          "data": {
            "text/plain": [
              "(1.2267619131326675, nan)"
            ]
          },
          "execution_count": 28,
          "metadata": {},
          "output_type": "execute_result"
        }
      ],
      "source": [
        "#| echo: true\n",
        "train_save(net=model_spot, train_dataset=train,\n",
        "                shuffle=True, path=\"model_spot_trained.pt\", save_model=True)"
      ]
    },
    {
      "cell_type": "markdown",
      "metadata": {},
      "source": [
        "```{raw}\n",
        "Loss on hold-out set: 1.1649643966913223\n",
        "Accuracy on hold-out set: 0.5948\n",
        "```"
      ]
    },
    {
      "cell_type": "code",
      "execution_count": 29,
      "metadata": {},
      "outputs": [
        {
          "name": "stdout",
          "output_type": "stream",
          "text": [
            "Loss on hold-out set: 1.242568492603302\n",
            "Accuracy on hold-out set: 0.5957\n",
            "Returned to Spot: Validation loss: 1.242568492603302\n",
            "----------------------------------------------\n"
          ]
        },
        {
          "data": {
            "text/plain": [
              "(1.242568492603302, nan)"
            ]
          },
          "execution_count": 29,
          "metadata": {},
          "output_type": "execute_result"
        }
      ],
      "source": [
        "#| echo: true\n",
        "test_saved(net=model_spot, test_dataset=test,\n",
        "            shuffle=False, path=\"model_spot_trained.pt\")"
      ]
    },
    {
      "cell_type": "markdown",
      "metadata": {},
      "source": [
        "```{raw}\n",
        "Loss on hold-out set: 1.1034918918132781\n",
        "Accuracy on hold-out set: 0.6184\n",
        "```\n",
        "\n",
        "\n",
        "## Comparison with Default Hyperparameters and Ray Tune\n",
        "\n",
        "@tbl-comparison shows the loss and accuracy of the default model, the model with the hyperparameters from SPOT, and the model with the hyperparameters from `ray[tune]`.\n",
        "\n",
        "| Model     | Validation Loss | Validation Accuracy | Loss    | Accuracy |\n",
        "|:----------|----------------:|--------------------:|--------:|---------:|\n",
        "| Default   | 1.3152          | 0.5316              | 1.1561  | 0.5934   |\n",
        "| `spotPython`      | 1.0686          | 0.6291             | 1.1035  | 0.6184   |\n",
        "| `ray[tune]`  | 1.1815          | 0.5836              | -       | 0.5806   |\n",
        ": Comparison of the loss and accuracy of the default model, the model with the hyperparameters from SPOT, and the model with the hyperparameters from `ray[tune]`. `ray[tune]` only shows the validation loss, because training loss is not reported by `ray[tune]`. {#tbl-comparison}\n",
        "\n",
        "\n",
        "## Detailed Hyperparameter Plots\n",
        "\n",
        "The contour plots in this section visualize the interactions of the three most important hyperparameters, `lr`, `batch_size`,  and `l1` of the surrogate model used to optimize the hyperparameters. Since these hyperparameters take integer values, a step-like fitness landcape (or response surface) is generated.\n",
        "SPOT draws the interactions of the main hyperparameters by default. It is also possible to visualize all interactions. For this, again refer to the notebook [@bart23e].\n"
      ]
    },
    {
      "cell_type": "code",
      "execution_count": 30,
      "metadata": {},
      "outputs": [
        {
          "name": "stdout",
          "output_type": "stream",
          "text": [
            "l1:  99.99999999999999\n",
            "l2:  96.29169355627103\n",
            "epochs:  4.181941624789322\n",
            "optimizer:  0.16219114233665102\n"
          ]
        },
        {
          "data": {
            "image/png": "[encoded data removed]",
            "text/plain": [
              "<Figure size 900x600 with 3 Axes>"
            ]
          },
          "metadata": {},
          "output_type": "display_data"
        },
        {
          "data": {
            "image/png": "[encoded data removed]",
            "text/plain": [
              "<Figure size 900x600 with 3 Axes>"
            ]
          },
          "metadata": {},
          "output_type": "display_data"
        },
        {
          "data": {
            "image/png": "[encoded data removed]",
            "text/plain": [
              "<Figure size 900x600 with 3 Axes>"
            ]
          },
          "metadata": {},
          "output_type": "display_data"
        },
        {
          "data": {
            "image/png": "[encoded data removed]",
            "text/plain": [
              "<Figure size 900x600 with 3 Axes>"
            ]
          },
          "metadata": {},
          "output_type": "display_data"
        },
        {
          "data": {
            "image/png": "[encoded data removed]",
            "text/plain": [
              "<Figure size 900x600 with 3 Axes>"
            ]
          },
          "metadata": {},
          "output_type": "display_data"
        },
        {
          "data": {
            "image/png": "[encoded data removed]",
            "text/plain": [
              "<Figure size 900x600 with 3 Axes>"
            ]
          },
          "metadata": {},
          "output_type": "display_data"
        }
      ],
      "source": [
        "#| echo: true\n",
        "#| label: fig-contour\n",
        "threshold = 0.025\n",
        "impo = spot_tuner.print_importance(threshold=threshold, print_screen=True)\n",
        "var_plots = [i for i, x in enumerate(impo) if x[1] > threshold]\n",
        "min_z = min(spot_tuner.y)\n",
        "max_z = max(spot_tuner.y)\n",
        "n = spot_tuner.k\n",
        "for i in var_plots:\n",
        "    for j in var_plots:\n",
        "        if j > i:\n",
        "            filename = \"./figures\" + experiment_name+\"_contour_\"+str(i)+\"_\"+str(j)+\".pdf\"\n",
        "            spot_tuner.plot_contour(i=i, j=j, min_z=min_z, max_z = max_z, filename=filename)"
      ]
    },
    {
      "cell_type": "markdown",
      "metadata": {},
      "source": [
        "![Contour plot. Learning rate versus number of neurons in layer `l1`.](./figures/14-torch_bartz09_30min_10init_2023-05-14_14-45-25_contour_0_2.png){#fig-contour-0-2}\n",
        "\n",
        "![Contour plot. Batch size versus number of neurons in layer `l1`.](./figures/14-torch_bartz09_30min_10init_2023-05-14_14-45-25_contour_0_3.png){#fig-contour-0-3}\n",
        "\n",
        "![Contour plot. Batch size versus learning rate.](./figures/14-torch_bartz09_30min_10init_2023-05-14_14-45-25_contour_2_3.png){#fig-contour-2-3}\n",
        "\n",
        "@fig-contour-0-2 shows the contour plot of the loss as a function of the learning rate and the number of neurons in layer `l1`. The contour plot shows that the learning rate has a strong influence on the performance of the model. Too large values of the learning rate decrease the performance of the neural network. @fig-contour-0-3 and @fig-contour-2-3 indicate that the batch size should be increased. The batch size has a strong influence on the performance of the model. Too small values of the batch size decrease the performance of the neural network.\n",
        "\n",
        " `spotPython` provides additional tools for a visual inspection of the results and give valuable insights into the hyperparameter tuning process.\n",
        " This is especially useful for model explainability, transparency, and trustworthiness.\n",
        "In addition to the contour plots, @fig-parallel shows the parallel plot of the hyperparameters."
      ]
    },
    {
      "cell_type": "code",
      "execution_count": 31,
      "metadata": {},
      "outputs": [
        {
          "data": {
            "application/vnd.plotly.v1+json": {
              "config": {
                "plotlyServerURL": "https://plot.ly"
              },
              "data": [
                {
                  "dimensions": [
                    {
                      "label": "l1",
                      "range": [
                        2,
                        9
                      ],
                      "values": [
                        6,
                        4,
                        5,
                        3,
                        7,
                        9,
                        3,
                        8,
                        8,
                        2,
                        6,
                        6,
                        8,
                        6,
                        9,
                        2,
                        8,
                        7,
                        7,
                        7,
                        7,
                        5,
                        7,
                        9,
                        3,
                        8,
                        8,
                        7,
                        6
                      ]
                    },
                    {
                      "label": "l2",
                      "range": [
                        2,
                        9
                      ],
                      "values": [
                        4,
                        7,
                        3,
                        6,
                        5,
                        4,
                        3,
                        6,
                        9,
                        8,
                        4,
                        4,
                        5,
                        4,
                        5,
                        5,
                        3,
                        9,
                        3,
                        4,
                        2,
                        3,
                        2,
                        9,
                        4,
                        4,
                        7,
                        5,
                        2
                      ]
                    },
                    {
                      "label": "batch_size",
                      "range": [
                        1,
                        5
                      ],
                      "values": [
                        4,
                        2,
                        3,
                        2,
                        3,
                        2,
                        4,
                        4,
                        1,
                        5,
                        4,
                        3,
                        5,
                        5,
                        5,
                        5,
                        5,
                        4,
                        4,
                        4,
                        5,
                        3,
                        5,
                        5,
                        1,
                        5,
                        4,
                        4,
                        4
                      ]
                    },
                    {
                      "label": "epochs",
                      "range": [
                        3,
                        4
                      ],
                      "values": [
                        4,
                        4,
                        3,
                        3,
                        4,
                        4,
                        3,
                        3,
                        3,
                        4,
                        4,
                        4,
                        4,
                        4,
                        4,
                        4,
                        4,
                        4,
                        4,
                        4,
                        4,
                        4,
                        4,
                        4,
                        4,
                        4,
                        3,
                        4,
                        4
                      ]
                    },
                    {
                      "label": "optimizer",
                      "range": [
                        0,
                        8
                      ],
                      "values": [
                        6,
                        6,
                        5,
                        4,
                        3,
                        8,
                        1,
                        8,
                        3,
                        0,
                        3,
                        3,
                        3,
                        3,
                        3,
                        3,
                        3,
                        3,
                        3,
                        3,
                        6,
                        6,
                        3,
                        3,
                        6,
                        3,
                        5,
                        3,
                        3
                      ]
                    }
                  ],
                  "line": {
                    "cmax": 2.305143057632446,
                    "cmin": 1.1593797496080398,
                    "color": [
                      1.2268005335330963,
                      1.5354660189662128,
                      1.4950236817359925,
                      1.242925238135457,
                      1.2004224770486356,
                      2.305121554136276,
                      1.7116932819366455,
                      2.305143057632446,
                      1.6665395986077884,
                      1.3026278582572937,
                      1.176743764424324,
                      1.2080936607956887,
                      1.1757034311771393,
                      1.2105202855110169,
                      1.2097784239768983,
                      1.5250449809074402,
                      1.177742660999298,
                      1.2484223432540893,
                      1.1593797496080398,
                      1.1730104093790055,
                      2.30302861289978,
                      1.2827038172483445,
                      1.3002337231636047,
                      1.470010299873352,
                      1.6683832777252945,
                      1.2127695735931396,
                      1.511863587808609,
                      1.221157395195961,
                      1.4155752116203308
                    ],
                    "colorscale": [
                      [
                        0,
                        "rgb(0,0,131)"
                      ],
                      [
                        0.2,
                        "rgb(0,60,170)"
                      ],
                      [
                        0.4,
                        "rgb(5,255,255)"
                      ],
                      [
                        0.6,
                        "rgb(255,255,0)"
                      ],
                      [
                        0.8,
                        "rgb(250,0,0)"
                      ],
                      [
                        1,
                        "rgb(128,0,0)"
                      ]
                    ],
                    "showscale": true
                  },
                  "type": "parcoords"
                }
              ],
              "layout": {
                "template": {
                  "data": {
                    "bar": [
                      {
                        "error_x": {
                          "color": "#2a3f5f"
                        },
                        "error_y": {
                          "color": "#2a3f5f"
                        },
                        "marker": {
                          "line": {
                            "color": "#E5ECF6",
                            "width": 0.5
                          },
                          "pattern": {
                            "fillmode": "overlay",
                            "size": 10,
                            "solidity": 0.2
                          }
                        },
                        "type": "bar"
                      }
                    ],
                    "barpolar": [
                      {
                        "marker": {
                          "line": {
                            "color": "#E5ECF6",
                            "width": 0.5
                          },
                          "pattern": {
                            "fillmode": "overlay",
                            "size": 10,
                            "solidity": 0.2
                          }
                        },
                        "type": "barpolar"
                      }
                    ],
                    "carpet": [
                      {
                        "aaxis": {
                          "endlinecolor": "#2a3f5f",
                          "gridcolor": "white",
                          "linecolor": "white",
                          "minorgridcolor": "white",
                          "startlinecolor": "#2a3f5f"
                        },
                        "baxis": {
                          "endlinecolor": "#2a3f5f",
                          "gridcolor": "white",
                          "linecolor": "white",
                          "minorgridcolor": "white",
                          "startlinecolor": "#2a3f5f"
                        },
                        "type": "carpet"
                      }
                    ],
                    "choropleth": [
                      {
                        "colorbar": {
                          "outlinewidth": 0,
                          "ticks": ""
                        },
                        "type": "choropleth"
                      }
                    ],
                    "contour": [
                      {
                        "colorbar": {
                          "outlinewidth": 0,
                          "ticks": ""
                        },
                        "colorscale": [
                          [
                            0,
                            "#0d0887"
                          ],
                          [
                            0.1111111111111111,
                            "#46039f"
                          ],
                          [
                            0.2222222222222222,
                            "#7201a8"
                          ],
                          [
                            0.3333333333333333,
                            "#9c179e"
                          ],
                          [
                            0.4444444444444444,
                            "#bd3786"
                          ],
                          [
                            0.5555555555555556,
                            "#d8576b"
                          ],
                          [
                            0.6666666666666666,
                            "#ed7953"
                          ],
                          [
                            0.7777777777777778,
                            "#fb9f3a"
                          ],
                          [
                            0.8888888888888888,
                            "#fdca26"
                          ],
                          [
                            1,
                            "#f0f921"
                          ]
                        ],
                        "type": "contour"
                      }
                    ],
                    "contourcarpet": [
                      {
                        "colorbar": {
                          "outlinewidth": 0,
                          "ticks": ""
                        },
                        "type": "contourcarpet"
                      }
                    ],
                    "heatmap": [
                      {
                        "colorbar": {
                          "outlinewidth": 0,
                          "ticks": ""
                        },
                        "colorscale": [
                          [
                            0,
                            "#0d0887"
                          ],
                          [
                            0.1111111111111111,
                            "#46039f"
                          ],
                          [
                            0.2222222222222222,
                            "#7201a8"
                          ],
                          [
                            0.3333333333333333,
                            "#9c179e"
                          ],
                          [
                            0.4444444444444444,
                            "#bd3786"
                          ],
                          [
                            0.5555555555555556,
                            "#d8576b"
                          ],
                          [
                            0.6666666666666666,
                            "#ed7953"
                          ],
                          [
                            0.7777777777777778,
                            "#fb9f3a"
                          ],
                          [
                            0.8888888888888888,
                            "#fdca26"
                          ],
                          [
                            1,
                            "#f0f921"
                          ]
                        ],
                        "type": "heatmap"
                      }
                    ],
                    "heatmapgl": [
                      {
                        "colorbar": {
                          "outlinewidth": 0,
                          "ticks": ""
                        },
                        "colorscale": [
                          [
                            0,
                            "#0d0887"
                          ],
                          [
                            0.1111111111111111,
                            "#46039f"
                          ],
                          [
                            0.2222222222222222,
                            "#7201a8"
                          ],
                          [
                            0.3333333333333333,
                            "#9c179e"
                          ],
                          [
                            0.4444444444444444,
                            "#bd3786"
                          ],
                          [
                            0.5555555555555556,
                            "#d8576b"
                          ],
                          [
                            0.6666666666666666,
                            "#ed7953"
                          ],
                          [
                            0.7777777777777778,
                            "#fb9f3a"
                          ],
                          [
                            0.8888888888888888,
                            "#fdca26"
                          ],
                          [
                            1,
                            "#f0f921"
                          ]
                        ],
                        "type": "heatmapgl"
                      }
                    ],
                    "histogram": [
                      {
                        "marker": {
                          "pattern": {
                            "fillmode": "overlay",
                            "size": 10,
                            "solidity": 0.2
                          }
                        },
                        "type": "histogram"
                      }
                    ],
                    "histogram2d": [
                      {
                        "colorbar": {
                          "outlinewidth": 0,
                          "ticks": ""
                        },
                        "colorscale": [
                          [
                            0,
                            "#0d0887"
                          ],
                          [
                            0.1111111111111111,
                            "#46039f"
                          ],
                          [
                            0.2222222222222222,
                            "#7201a8"
                          ],
                          [
                            0.3333333333333333,
                            "#9c179e"
                          ],
                          [
                            0.4444444444444444,
                            "#bd3786"
                          ],
                          [
                            0.5555555555555556,
                            "#d8576b"
                          ],
                          [
                            0.6666666666666666,
                            "#ed7953"
                          ],
                          [
                            0.7777777777777778,
                            "#fb9f3a"
                          ],
                          [
                            0.8888888888888888,
                            "#fdca26"
                          ],
                          [
                            1,
                            "#f0f921"
                          ]
                        ],
                        "type": "histogram2d"
                      }
                    ],
                    "histogram2dcontour": [
                      {
                        "colorbar": {
                          "outlinewidth": 0,
                          "ticks": ""
                        },
                        "colorscale": [
                          [
                            0,
                            "#0d0887"
                          ],
                          [
                            0.1111111111111111,
                            "#46039f"
                          ],
                          [
                            0.2222222222222222,
                            "#7201a8"
                          ],
                          [
                            0.3333333333333333,
                            "#9c179e"
                          ],
                          [
                            0.4444444444444444,
                            "#bd3786"
                          ],
                          [
                            0.5555555555555556,
                            "#d8576b"
                          ],
                          [
                            0.6666666666666666,
                            "#ed7953"
                          ],
                          [
                            0.7777777777777778,
                            "#fb9f3a"
                          ],
                          [
                            0.8888888888888888,
                            "#fdca26"
                          ],
                          [
                            1,
                            "#f0f921"
                          ]
                        ],
                        "type": "histogram2dcontour"
                      }
                    ],
                    "mesh3d": [
                      {
                        "colorbar": {
                          "outlinewidth": 0,
                          "ticks": ""
                        },
                        "type": "mesh3d"
                      }
                    ],
                    "parcoords": [
                      {
                        "line": {
                          "colorbar": {
                            "outlinewidth": 0,
                            "ticks": ""
                          }
                        },
                        "type": "parcoords"
                      }
                    ],
                    "pie": [
                      {
                        "automargin": true,
                        "type": "pie"
                      }
                    ],
                    "scatter": [
                      {
                        "fillpattern": {
                          "fillmode": "overlay",
                          "size": 10,
                          "solidity": 0.2
                        },
                        "type": "scatter"
                      }
                    ],
                    "scatter3d": [
                      {
                        "line": {
                          "colorbar": {
                            "outlinewidth": 0,
                            "ticks": ""
                          }
                        },
                        "marker": {
                          "colorbar": {
                            "outlinewidth": 0,
                            "ticks": ""
                          }
                        },
                        "type": "scatter3d"
                      }
                    ],
                    "scattercarpet": [
                      {
                        "marker": {
                          "colorbar": {
                            "outlinewidth": 0,
                            "ticks": ""
                          }
                        },
                        "type": "scattercarpet"
                      }
                    ],
                    "scattergeo": [
                      {
                        "marker": {
                          "colorbar": {
                            "outlinewidth": 0,
                            "ticks": ""
                          }
                        },
                        "type": "scattergeo"
                      }
                    ],
                    "scattergl": [
                      {
                        "marker": {
                          "colorbar": {
                            "outlinewidth": 0,
                            "ticks": ""
                          }
                        },
                        "type": "scattergl"
                      }
                    ],
                    "scattermapbox": [
                      {
                        "marker": {
                          "colorbar": {
                            "outlinewidth": 0,
                            "ticks": ""
                          }
                        },
                        "type": "scattermapbox"
                      }
                    ],
                    "scatterpolar": [
                      {
                        "marker": {
                          "colorbar": {
                            "outlinewidth": 0,
                            "ticks": ""
                          }
                        },
                        "type": "scatterpolar"
                      }
                    ],
                    "scatterpolargl": [
                      {
                        "marker": {
                          "colorbar": {
                            "outlinewidth": 0,
                            "ticks": ""
                          }
                        },
                        "type": "scatterpolargl"
                      }
                    ],
                    "scatterternary": [
                      {
                        "marker": {
                          "colorbar": {
                            "outlinewidth": 0,
                            "ticks": ""
                          }
                        },
                        "type": "scatterternary"
                      }
                    ],
                    "surface": [
                      {
                        "colorbar": {
                          "outlinewidth": 0,
                          "ticks": ""
                        },
                        "colorscale": [
                          [
                            0,
                            "#0d0887"
                          ],
                          [
                            0.1111111111111111,
                            "#46039f"
                          ],
                          [
                            0.2222222222222222,
                            "#7201a8"
                          ],
                          [
                            0.3333333333333333,
                            "#9c179e"
                          ],
                          [
                            0.4444444444444444,
                            "#bd3786"
                          ],
                          [
                            0.5555555555555556,
                            "#d8576b"
                          ],
                          [
                            0.6666666666666666,
                            "#ed7953"
                          ],
                          [
                            0.7777777777777778,
                            "#fb9f3a"
                          ],
                          [
                            0.8888888888888888,
                            "#fdca26"
                          ],
                          [
                            1,
                            "#f0f921"
                          ]
                        ],
                        "type": "surface"
                      }
                    ],
                    "table": [
                      {
                        "cells": {
                          "fill": {
                            "color": "#EBF0F8"
                          },
                          "line": {
                            "color": "white"
                          }
                        },
                        "header": {
                          "fill": {
                            "color": "#C8D4E3"
                          },
                          "line": {
                            "color": "white"
                          }
                        },
                        "type": "table"
                      }
                    ]
                  },
                  "layout": {
                    "annotationdefaults": {
                      "arrowcolor": "#2a3f5f",
                      "arrowhead": 0,
                      "arrowwidth": 1
                    },
                    "autotypenumbers": "strict",
                    "coloraxis": {
                      "colorbar": {
                        "outlinewidth": 0,
                        "ticks": ""
                      }
                    },
                    "colorscale": {
                      "diverging": [
                        [
                          0,
                          "#8e0152"
                        ],
                        [
                          0.1,
                          "#c51b7d"
                        ],
                        [
                          0.2,
                          "#de77ae"
                        ],
                        [
                          0.3,
                          "#f1b6da"
                        ],
                        [
                          0.4,
                          "#fde0ef"
                        ],
                        [
                          0.5,
                          "#f7f7f7"
                        ],
                        [
                          0.6,
                          "#e6f5d0"
                        ],
                        [
                          0.7,
                          "#b8e186"
                        ],
                        [
                          0.8,
                          "#7fbc41"
                        ],
                        [
                          0.9,
                          "#4d9221"
                        ],
                        [
                          1,
                          "#276419"
                        ]
                      ],
                      "sequential": [
                        [
                          0,
                          "#0d0887"
                        ],
                        [
                          0.1111111111111111,
                          "#46039f"
                        ],
                        [
                          0.2222222222222222,
                          "#7201a8"
                        ],
                        [
                          0.3333333333333333,
                          "#9c179e"
                        ],
                        [
                          0.4444444444444444,
                          "#bd3786"
                        ],
                        [
                          0.5555555555555556,
                          "#d8576b"
                        ],
                        [
                          0.6666666666666666,
                          "#ed7953"
                        ],
                        [
                          0.7777777777777778,
                          "#fb9f3a"
                        ],
                        [
                          0.8888888888888888,
                          "#fdca26"
                        ],
                        [
                          1,
                          "#f0f921"
                        ]
                      ],
                      "sequentialminus": [
                        [
                          0,
                          "#0d0887"
                        ],
                        [
                          0.1111111111111111,
                          "#46039f"
                        ],
                        [
                          0.2222222222222222,
                          "#7201a8"
                        ],
                        [
                          0.3333333333333333,
                          "#9c179e"
                        ],
                        [
                          0.4444444444444444,
                          "#bd3786"
                        ],
                        [
                          0.5555555555555556,
                          "#d8576b"
                        ],
                        [
                          0.6666666666666666,
                          "#ed7953"
                        ],
                        [
                          0.7777777777777778,
                          "#fb9f3a"
                        ],
                        [
                          0.8888888888888888,
                          "#fdca26"
                        ],
                        [
                          1,
                          "#f0f921"
                        ]
                      ]
                    },
                    "colorway": [
                      "#636efa",
                      "#EF553B",
                      "#00cc96",
                      "#ab63fa",
                      "#FFA15A",
                      "#19d3f3",
                      "#FF6692",
                      "#B6E880",
                      "#FF97FF",
                      "#FECB52"
                    ],
                    "font": {
                      "color": "#2a3f5f"
                    },
                    "geo": {
                      "bgcolor": "white",
                      "lakecolor": "white",
                      "landcolor": "#E5ECF6",
                      "showlakes": true,
                      "showland": true,
                      "subunitcolor": "white"
                    },
                    "hoverlabel": {
                      "align": "left"
                    },
                    "hovermode": "closest",
                    "mapbox": {
                      "style": "light"
                    },
                    "paper_bgcolor": "white",
                    "plot_bgcolor": "#E5ECF6",
                    "polar": {
                      "angularaxis": {
                        "gridcolor": "white",
                        "linecolor": "white",
                        "ticks": ""
                      },
                      "bgcolor": "#E5ECF6",
                      "radialaxis": {
                        "gridcolor": "white",
                        "linecolor": "white",
                        "ticks": ""
                      }
                    },
                    "scene": {
                      "xaxis": {
                        "backgroundcolor": "#E5ECF6",
                        "gridcolor": "white",
                        "gridwidth": 2,
                        "linecolor": "white",
                        "showbackground": true,
                        "ticks": "",
                        "zerolinecolor": "white"
                      },
                      "yaxis": {
                        "backgroundcolor": "#E5ECF6",
                        "gridcolor": "white",
                        "gridwidth": 2,
                        "linecolor": "white",
                        "showbackground": true,
                        "ticks": "",
                        "zerolinecolor": "white"
                      },
                      "zaxis": {
                        "backgroundcolor": "#E5ECF6",
                        "gridcolor": "white",
                        "gridwidth": 2,
                        "linecolor": "white",
                        "showbackground": true,
                        "ticks": "",
                        "zerolinecolor": "white"
                      }
                    },
                    "shapedefaults": {
                      "line": {
                        "color": "#2a3f5f"
                      }
                    },
                    "ternary": {
                      "aaxis": {
                        "gridcolor": "white",
                        "linecolor": "white",
                        "ticks": ""
                      },
                      "baxis": {
                        "gridcolor": "white",
                        "linecolor": "white",
                        "ticks": ""
                      },
                      "bgcolor": "#E5ECF6",
                      "caxis": {
                        "gridcolor": "white",
                        "linecolor": "white",
                        "ticks": ""
                      }
                    },
                    "title": {
                      "x": 0.05
                    },
                    "xaxis": {
                      "automargin": true,
                      "gridcolor": "white",
                      "linecolor": "white",
                      "ticks": "",
                      "title": {
                        "standoff": 15
                      },
                      "zerolinecolor": "white",
                      "zerolinewidth": 2
                    },
                    "yaxis": {
                      "automargin": true,
                      "gridcolor": "white",
                      "linecolor": "white",
                      "ticks": "",
                      "title": {
                        "standoff": 15
                      },
                      "zerolinecolor": "white",
                      "zerolinewidth": 2
                    }
                  }
                }
              }
            }
          },
          "metadata": {},
          "output_type": "display_data"
        }
      ],
      "source": [
        "#| echo: true\n",
        "#| label: fig-parallel\n",
        "spot_tuner.parallel_plot()"
      ]
    },
    {
      "cell_type": "markdown",
      "metadata": {},
      "source": [
        "![Parallel plot](./figures/parallel.png){#fig-parallel}\n",
        "\n",
        "\n",
        "# Summary and Outlook {#sec-summary}\n",
        "\n",
        "This tutorial presents the hyperparameter tuning open source software `spotPython` for `PyTorch`. To show its basic features, a comparison with the \"official\" `PyTorch` hyperparameter tuning tutorial [@pyto23a] is presented.\n",
        "Some of the advantages of `spotPython` are:\n",
        "\n",
        "- Numerical and categorical hyperparameters.\n",
        "- Powerful surrogate models.\n",
        "- Flexible approach and easy to use.\n",
        "- Simple JSON files for the specification of the hyperparameters.\n",
        "- Extension of default and user specified network classes.\n",
        "- Noise handling techniques.\n",
        "\n",
        "Currently, only rudimentary parallel and distributed neural network training is possible, but these capabilities will be extended in the future. The next version of `spotPython` will also include a more detailed documentation and more examples.\n",
        "\n",
        "::: {.callout-important}\n",
        "Important: This tutorial does not present a complete benchmarking study [@bart20gArxiv]. The results are only preliminary and highly dependent on the local configuration (hard- and software). Our goal is to provide a first impression of the performance of the hyperparameter tuning package `spotPython`. To demonstrate its capabilities, a quick comparison with `ray[tune]` was performed. `ray[tune]` was chosen, because it is presented as \"an industry standard tool for distributed hyperparameter tuning.\"  The results should be interpreted with care.\n",
        ":::\n",
        "\n",
        "\n",
        "# Appendix {#sec-appendix}\n",
        "\n",
        "## Sample Output From Ray Tune's Run {.unnumbered}\n",
        "\n",
        "The output from `ray[tune]` could look like this [@pyto23b]:\n",
        "\n",
        "```{raw}\n",
        "Number of trials: 10 (10 TERMINATED)\n",
        "------+------+-------------+--------------+---------+------------+--------------------+\n",
        "|   l1 |   l2 |          lr |   batch_size |    loss |   accuracy | training_iteration |\n",
        "+------+------+-------------+--------------+---------+------------+--------------------|\n",
        "|   64 |    4 | 0.00011629  |            2 | 1.87273 |     0.244  |                  2 |\n",
        "|   32 |   64 | 0.000339763 |            8 | 1.23603 |     0.567  |                  8 |\n",
        "|    8 |   16 | 0.00276249  |           16 | 1.1815  |     0.5836 |                 10 |\n",
        "|    4 |   64 | 0.000648721 |            4 | 1.31131 |     0.5224 |                  8 |\n",
        "|   32 |   16 | 0.000340753 |            8 | 1.26454 |     0.5444 |                  8 |\n",
        "|    8 |    4 | 0.000699775 |            8 | 1.99594 |     0.1983 |                  2 |\n",
        "|  256 |    8 | 0.0839654   |           16 | 2.3119  |     0.0993 |                  1 |\n",
        "|   16 |  128 | 0.0758154   |           16 | 2.33575 |     0.1327 |                  1 |\n",
        "|   16 |    8 | 0.0763312   |           16 | 2.31129 |     0.1042 |                  4 |\n",
        "|  128 |   16 | 0.000124903 |            4 | 2.26917 |     0.1945 |                  1 |\n",
        "+-----+------+------+-------------+--------------+---------+------------+--------------------+\n",
        "Best trial config: {'l1': 8, 'l2': 16, 'lr': 0.00276249, 'batch_size': 16, 'data_dir': '...'}\n",
        "Best trial final validation loss: 1.181501\n",
        "Best trial final validation accuracy: 0.5836\n",
        "Best trial test set accuracy: 0.5806\n",
        "```\n",
        "\n",
        "\n",
        "\n",
        "{{< pagebreak >}}\n",
        "\n",
        "# References {.unnumbered}\n",
        "\n",
        "::: {#refs}\n",
        ":::"
      ]
    }
  ],
  "metadata": {
    "kernelspec": {
      "display_name": "Python 3 (ipykernel)",
      "language": "python",
      "name": "python3"
    },
    "language_info": {
      "codemirror_mode": {
        "name": "ipython",
        "version": 3
      },
      "file_extension": ".py",
      "mimetype": "text/x-python",
      "name": "python",
      "nbconvert_exporter": "python",
      "pygments_lexer": "ipython3",
      "version": "3.10.10"
    }
  },
  "nbformat": 4,
  "nbformat_minor": 4
}
