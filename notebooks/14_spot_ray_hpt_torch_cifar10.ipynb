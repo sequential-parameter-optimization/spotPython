{
 "cells": [
  {
   "cell_type": "raw",
   "metadata": {},
   "source": [
    "---\n",
    "title: \"pytorch Hyperparameter Tuning with SPOT: Comparison with ray tuner on cifar10\"\n",
    "format: html\n",
    "---"
   ]
  },
  {
   "cell_type": "code",
   "execution_count": 1,
   "metadata": {},
   "outputs": [],
   "source": [
    "MAX_TIME = 1\n",
    "INIT_SIZE = 5\n",
    "DEVICE = \"cpu\" # \"cuda:0\""
   ]
  },
  {
   "cell_type": "code",
   "execution_count": 2,
   "metadata": {},
   "outputs": [
    {
     "data": {
      "text/plain": [
       "'12-torch_p040025_1min_5init_2023-05-12_09-51-55'"
      ]
     },
     "execution_count": 2,
     "metadata": {},
     "output_type": "execute_result"
    }
   ],
   "source": [
    "import pickle\n",
    "import socket\n",
    "from datetime import datetime\n",
    "from dateutil.tz import tzlocal\n",
    "start_time = datetime.now(tzlocal())\n",
    "HOSTNAME = socket.gethostname().split(\".\")[0]\n",
    "experiment_name = '12-torch' + \"_\" + HOSTNAME + \"_\" + str(MAX_TIME) + \"min_\" + str(INIT_SIZE) + \"init_\" + str(start_time).split(\".\", 1)[0].replace(' ', '_')\n",
    "experiment_name = experiment_name.replace(':', '-')\n",
    "experiment_name"
   ]
  },
  {
   "attachments": {},
   "cell_type": "markdown",
   "metadata": {},
   "source": [
    "# Chapter 14: Sequential Parameter Optimization Compared to Ray Tune\n",
    "## Hyperparameter Tuning: pytorch wth cifar10 Data"
   ]
  },
  {
   "attachments": {},
   "cell_type": "markdown",
   "metadata": {},
   "source": [
    "* This notebook exemplifies hyperparameter tuning with SPOT (spotPython).\n",
    "* The hyperparameter software SPOT was developed in R (statistical programming language), see Open Access book \"Hyperparameter Tuning for Machine and Deep Learning with R - A Practical Guide\", available here: [https://link.springer.com/book/10.1007/978-981-19-5170-1](https://link.springer.com/book/10.1007/978-981-19-5170-1).\n"
   ]
  },
  {
   "cell_type": "code",
   "execution_count": 3,
   "metadata": {},
   "outputs": [
    {
     "name": "stdout",
     "output_type": "stream",
     "text": [
      "spotPython               0.0.68\n",
      "Note: you may need to restart the kernel to use updated packages.\n"
     ]
    }
   ],
   "source": [
    "pip list | grep  \"spot[RiverPython]\""
   ]
  },
  {
   "cell_type": "code",
   "execution_count": 4,
   "metadata": {},
   "outputs": [],
   "source": [
    "# import sys\n",
    "# !{sys.executable} -m pip install --upgrade build\n",
    "# !{sys.executable} -m pip install --upgrade --force-reinstall spotPython\n"
   ]
  },
  {
   "cell_type": "code",
   "execution_count": 5,
   "metadata": {},
   "outputs": [],
   "source": [
    "from tabulate import tabulate\n",
    "import copy\n",
    "import warnings\n",
    "import numbers\n",
    "import json\n",
    "import calendar\n",
    "import math\n",
    "import datetime as dt\n",
    "import numpy as np\n",
    "from math import inf\n",
    "import pandas as pd\n",
    "\n",
    "from scipy.optimize import differential_evolution\n",
    "\n",
    "import matplotlib.pyplot as plt\n",
    "\n",
    "from functools import partial\n",
    "\n",
    "import torch\n",
    "from torch import nn\n",
    "from torch.utils.data import DataLoader\n",
    "import torch.nn.functional as F\n",
    "import torch.optim as optim\n",
    "from torch.utils.data import random_split\n",
    "from torchvision import datasets\n",
    "import torchvision\n",
    "import torchvision.transforms as transforms\n",
    "from torchvision.transforms import ToTensor\n",
    "\n",
    "from spotPython.spot import spot\n",
    "from spotPython.hyperparameters.values import (\n",
    "    add_core_model_to_fun_control,\n",
    "    assign_values,\n",
    "    convert_keys,\n",
    "    get_bound_values,\n",
    "    get_default_hyperparameters_for_core_model,\n",
    "    get_default_values,\n",
    "    get_dict_with_levels_and_types,\n",
    "    get_values_from_dict,\n",
    "    get_var_name,\n",
    "    get_var_type,\n",
    "    iterate_dict_values,\n",
    "    modify_hyper_parameter_levels,\n",
    "    modify_hyper_parameter_bounds,\n",
    "    replace_levels_with_positions,\n",
    "    return_conf_list_from_var_dict,\n",
    "    get_one_core_model_from_X,\n",
    "    transform_hyper_parameter_values,\n",
    "    get_dict_with_levels_and_types,\n",
    "    convert_keys,\n",
    "    iterate_dict_values,\n",
    ")\n",
    "\n",
    "from spotPython.torch.traintest import evaluate_cv, evaluate_hold_out\n",
    "from spotPython.utils.convert import class_for_name\n",
    "from spotPython.utils.eda import (\n",
    "    get_stars,\n",
    "    gen_design_table)\n",
    "from spotPython.utils.transform import transform_hyper_parameter_values\n",
    "from spotPython.utils.convert import get_Xy_from_df\n",
    "from spotPython.utils.init import fun_control_init\n",
    "from spotPython.plot.validation import plot_cv_predictions, plot_roc, plot_confusion_matrix\n",
    "\n",
    "from spotPython.data.torch_hyper_dict import TorchHyperDict\n",
    "from spotPython.fun.hypertorch import HyperTorch\n",
    "\n",
    "warnings.filterwarnings(\"ignore\")\n",
    "\n",
    "from spotPython.torch.netcifar10 import Net_CIFAR10"
   ]
  },
  {
   "cell_type": "code",
   "execution_count": 6,
   "metadata": {},
   "outputs": [
    {
     "name": "stdout",
     "output_type": "stream",
     "text": [
      "2.0.1\n",
      "MPS device:  mps\n"
     ]
    }
   ],
   "source": [
    "print(torch.__version__)\n",
    "# Check that MPS is available\n",
    "if not torch.backends.mps.is_available():\n",
    "    if not torch.backends.mps.is_built():\n",
    "        print(\"MPS not available because the current PyTorch install was not \"\n",
    "              \"built with MPS enabled.\")\n",
    "    else:\n",
    "        print(\"MPS not available because the current MacOS version is not 12.3+ \"\n",
    "              \"and/or you do not have an MPS-enabled device on this machine.\")\n",
    "\n",
    "else:\n",
    "    mps_device = torch.device(\"mps\")\n",
    "    print(\"MPS device: \", mps_device)"
   ]
  },
  {
   "attachments": {},
   "cell_type": "markdown",
   "metadata": {},
   "source": [
    "## 0. Initialization of the Empty `fun_control` Dictionary"
   ]
  },
  {
   "cell_type": "code",
   "execution_count": 7,
   "metadata": {},
   "outputs": [],
   "source": [
    "fun_control = fun_control_init()"
   ]
  },
  {
   "attachments": {},
   "cell_type": "markdown",
   "metadata": {},
   "source": [
    "## 1. Load Cifar10 Data "
   ]
  },
  {
   "attachments": {},
   "cell_type": "markdown",
   "metadata": {},
   "source": [
    "The data loading is implemented as in the Section \"Data loaders\" in the PyTorch tutorial [Hyperparameter Tuning  with Ray Tune](https://pytorch.org/tutorials/beginner/hyperparameter_tuning_tutorial.html)."
   ]
  },
  {
   "cell_type": "code",
   "execution_count": 8,
   "metadata": {},
   "outputs": [],
   "source": [
    "def load_data(data_dir=\"./data\"):\n",
    "    transform = transforms.Compose([\n",
    "        transforms.ToTensor(),\n",
    "        transforms.Normalize((0.5, 0.5, 0.5), (0.5, 0.5, 0.5))\n",
    "    ])\n",
    "\n",
    "    trainset = torchvision.datasets.CIFAR10(\n",
    "        root=data_dir, train=True, download=True, transform=transform)\n",
    "\n",
    "    testset = torchvision.datasets.CIFAR10(\n",
    "        root=data_dir, train=False, download=True, transform=transform)\n",
    "\n",
    "    return trainset, testset"
   ]
  },
  {
   "cell_type": "code",
   "execution_count": 9,
   "metadata": {},
   "outputs": [
    {
     "name": "stdout",
     "output_type": "stream",
     "text": [
      "Files already downloaded and verified\n",
      "Files already downloaded and verified\n"
     ]
    },
    {
     "data": {
      "text/plain": [
       "((50000, 32, 32, 3), (10000, 32, 32, 3))"
      ]
     },
     "execution_count": 9,
     "metadata": {},
     "output_type": "execute_result"
    }
   ],
   "source": [
    "train, test = load_data()\n",
    "train.data.shape, test.data.shape"
   ]
  },
  {
   "cell_type": "code",
   "execution_count": 10,
   "metadata": {},
   "outputs": [],
   "source": [
    "n_samples = len(train)\n",
    "# add the dataset to the fun_control\n",
    "fun_control.update({\"data\": None, # dataset,\n",
    "               \"train\": train,\n",
    "               \"test\": test,\n",
    "               \"n_samples\": n_samples,\n",
    "               \"target_column\": None})"
   ]
  },
  {
   "attachments": {},
   "cell_type": "markdown",
   "metadata": {},
   "source": [
    "## 2. Specification of the Preprocessing Model\n",
    "\n",
    "Because the Ray Tune hyperparameter tuning does not use a preprocessing model, the preprocessing model is set to `None` here."
   ]
  },
  {
   "cell_type": "code",
   "execution_count": 11,
   "metadata": {},
   "outputs": [],
   "source": [
    "# categorical_columns = []\n",
    "# one_hot_encoder = OneHotEncoder(handle_unknown=\"ignore\", sparse_output=False)\n",
    "# prep_model = ColumnTransformer(\n",
    "#         transformers=[\n",
    "#             (\"categorical\", one_hot_encoder, categorical_columns),\n",
    "#         ],\n",
    "#         remainder=StandardScaler(),\n",
    "#     )\n",
    "prep_model = None\n",
    "fun_control.update({\"prep_model\": prep_model})"
   ]
  },
  {
   "attachments": {},
   "cell_type": "markdown",
   "metadata": {},
   "source": [
    "## 3. Select `algorithm` and `core_model_hyper_dict`"
   ]
  },
  {
   "attachments": {},
   "cell_type": "markdown",
   "metadata": {},
   "source": [
    "The same model as implemented as in the Section \"Configurable neural network\" in the PyTorch tutorial [Hyperparameter Tuning  with Ray Tune](https://pytorch.org/tutorials/beginner/hyperparameter_tuning_tutorial.html) is used here. `spotPython` implements a class which is similar to the class described in the PyTorch tutorial. The class is called `Net_CIFAR10`   and is implemented in the file `netcifar10.py`. The class is imported here.\n",
    "\n",
    "Note: In addition to the class Net from the PyTorch tutorial, the class Net_CIFAR10 has additional attributes, namely:\n",
    "\n",
    "* learning rate (`lr`),\n",
    "* batchsize (`batch_size`),\n",
    "* epochs (`epochs`), and\n",
    "* k_folds (`k_folds`).\n",
    "\n",
    "Further attributes can be easily added to the class, e.g., `optimizer` or `loss_function`."
   ]
  },
  {
   "cell_type": "code",
   "execution_count": 12,
   "metadata": {},
   "outputs": [],
   "source": [
    "core_model = Net_CIFAR10\n",
    "fun_control = add_core_model_to_fun_control(core_model=core_model,\n",
    "                              fun_control=fun_control,\n",
    "                              hyper_dict=TorchHyperDict,\n",
    "                              filename=None)"
   ]
  },
  {
   "attachments": {},
   "cell_type": "markdown",
   "metadata": {},
   "source": [
    "### The `hyper_dict` Hyperparameters for the Selected Algorithm"
   ]
  },
  {
   "attachments": {},
   "cell_type": "markdown",
   "metadata": {},
   "source": [
    "`spotPython` uses simple `JSON` files for the specification of the hyperparameters. The `JSON` file for the `core_model` is called `torch_hyper_dict.json`. The corresponding entries for the `Net_CIFAR10` class are shown below.\n",
    "\n",
    "```json\n",
    "{\"Net_CIFAR10\":\n",
    "    {\n",
    "        \"l1\": {\n",
    "            \"type\": \"int\",\n",
    "            \"default\": 5,\n",
    "            \"transform\": \"transform_power_2_int\",\n",
    "            \"lower\": 2,\n",
    "            \"upper\": 9},\n",
    "        \"l2\": {\n",
    "            \"type\": \"int\",\n",
    "            \"default\": 5,\n",
    "            \"transform\": \"transform_power_2_int\",\n",
    "            \"lower\": 2,\n",
    "            \"upper\": 9},\n",
    "        \"lr\": {\n",
    "            \"type\": \"float\",\n",
    "            \"default\": 1e-03,\n",
    "            \"transform\": \"None\",\n",
    "            \"lower\": 1e-05,\n",
    "            \"upper\": 1e-02},\n",
    "        \"batch_size\": {\n",
    "            \"type\": \"int\",\n",
    "            \"default\": 4,\n",
    "            \"transform\": \"transform_power_2_int\",\n",
    "            \"lower\": 1,\n",
    "            \"upper\": 4},\n",
    "        \"epochs\": {\n",
    "                \"type\": \"int\",\n",
    "                \"default\": 3,\n",
    "                \"transform\": \"transform_power_2_int\",\n",
    "                \"lower\": 1,\n",
    "                \"upper\": 4},\n",
    "        \"k_folds\": {\n",
    "            \"type\": \"int\",\n",
    "            \"default\": 2,\n",
    "            \"transform\": \"None\",\n",
    "            \"lower\": 2,\n",
    "            \"upper\": 3}\n",
    "    }\n",
    "}\n",
    "```\n",
    "\n",
    "Each entry in the `JSON` file represents one hyperparameter with the following structure:\n",
    "`type`, `default`, `transform`, `lower`, and `upper`.\n"
   ]
  },
  {
   "attachments": {},
   "cell_type": "markdown",
   "metadata": {},
   "source": [
    "### Categorical Hyperparameters"
   ]
  },
  {
   "cell_type": "markdown",
   "metadata": {},
   "source": [
    "\n",
    "In contrast to Ray Tune, `spotPython` can handle numerical, boolean, and categorical hyperparameters. Since `Ray Tune` does not tune categorical hyperparameters, they are not used here. However, they can be specified in the `JSON` file in a similar way as the numerical hyperparameters as shown below:\n",
    "\n",
    "```json\n",
    "\"factor_hyperparameter\": {\n",
    "    \"levels\": [\"A\", \"B\", \"C\"],\n",
    "    \"type\": \"factor\",\n",
    "    \"default\": \"B\",\n",
    "    \"transform\": \"None\",\n",
    "    \"core_model_parameter_type\": \"str\",\n",
    "    \"lower\": 0,\n",
    "    \"upper\": 2},\n",
    "```"
   ]
  },
  {
   "attachments": {},
   "cell_type": "markdown",
   "metadata": {},
   "source": [
    "## 4. Modify `hyper_dict` Hyperparameters for the Selected Algorithm aka `core_model`"
   ]
  },
  {
   "attachments": {},
   "cell_type": "markdown",
   "metadata": {},
   "source": [
    "After specifying the model, the corresponding hyperparameters, their types and bounds are loaded from the `JSON` file `torch_hyper_dict.json`. After loading, the user can modify the hyperparameters, e.g., the bounds.\n",
    "`spotPython` provides a clever rule for de-activating hyperparameters. If the lower and the upper bound are set to identical values, the hyperparameter is de-activated. This is useful for the hyperparameter tuning, because it allows to specify a hyperparameter in the `JSON` file, but to de-activate it in the `fun_control` dictionary. This is done in the next step."
   ]
  },
  {
   "attachments": {},
   "cell_type": "markdown",
   "metadata": {},
   "source": [
    "### Modify hyperparameter of type numeric and integer (boolean)\n",
    "\n",
    "Since the hyperparameter `k_folds` is not used in the PyTorch tutorial, it is de-activated here by setting the lower and upper bound to the same value."
   ]
  },
  {
   "cell_type": "code",
   "execution_count": 13,
   "metadata": {},
   "outputs": [
    {
     "data": {
      "text/plain": [
       "{'l1': {'type': 'int',\n",
       "  'default': 5,\n",
       "  'transform': 'transform_power_2_int',\n",
       "  'lower': 2,\n",
       "  'upper': 9},\n",
       " 'l2': {'type': 'int',\n",
       "  'default': 5,\n",
       "  'transform': 'transform_power_2_int',\n",
       "  'lower': 2,\n",
       "  'upper': 9},\n",
       " 'lr': {'type': 'float',\n",
       "  'default': 0.001,\n",
       "  'transform': 'None',\n",
       "  'lower': 1e-05,\n",
       "  'upper': 0.01},\n",
       " 'batch_size': {'type': 'int',\n",
       "  'default': 4,\n",
       "  'transform': 'transform_power_2_int',\n",
       "  'lower': 1,\n",
       "  'upper': 4},\n",
       " 'epochs': {'type': 'int',\n",
       "  'default': 3,\n",
       "  'transform': 'transform_power_2_int',\n",
       "  'lower': 3,\n",
       "  'upper': 4},\n",
       " 'k_folds': {'type': 'int',\n",
       "  'default': 2,\n",
       "  'transform': 'None',\n",
       "  'lower': 0,\n",
       "  'upper': 0}}"
      ]
     },
     "execution_count": 13,
     "metadata": {},
     "output_type": "execute_result"
    }
   ],
   "source": [
    "fun_control = modify_hyper_parameter_bounds(fun_control, \"k_folds\", bounds=[0, 0])\n",
    "fun_control[\"core_model_hyper_dict\"]"
   ]
  },
  {
   "attachments": {},
   "cell_type": "markdown",
   "metadata": {},
   "source": [
    "### Modify hyperparameter of type factor"
   ]
  },
  {
   "attachments": {},
   "cell_type": "markdown",
   "metadata": {},
   "source": [
    "In a similar manner as for the numerical hyperparameters, the categorical hyperparameters can be modified. For example, the hyperparameter `leaf_model` is de-activated here by choosing only one value `\"LinearRegression\"`."
   ]
  },
  {
   "cell_type": "code",
   "execution_count": 14,
   "metadata": {},
   "outputs": [],
   "source": [
    "# fun_control = modify_hyper_parameter_levels(fun_control, \"leaf_model\", [\"LinearRegression\"])"
   ]
  },
  {
   "attachments": {},
   "cell_type": "markdown",
   "metadata": {},
   "source": [
    "## 5. Selection of the Objective (Loss) Function"
   ]
  },
  {
   "attachments": {},
   "cell_type": "markdown",
   "metadata": {},
   "source": [
    "There are two metrics:\n",
    "\n",
    "    1. `metric` is used for the river based evaluation via `eval_oml_iter_progressive`.\n",
    "    2. `metric_sklearn` is used for the sklearn based evaluation."
   ]
  },
  {
   "attachments": {},
   "cell_type": "markdown",
   "metadata": {},
   "source": [
    "**Important**:\n",
    "\n",
    "* `spotPython` performs minimization by default.\n",
    "* If accuracy should be maximized, then the objective function has to be multiplied by -1. Therefore, `weights` is set to -1 in this case."
   ]
  },
  {
   "cell_type": "code",
   "execution_count": 15,
   "metadata": {},
   "outputs": [],
   "source": [
    "fun = HyperTorch(seed=123, log_level=50).fun_torch\n",
    "weights = 1.0\n",
    "shuffle = True\n",
    "eval = \"train_hold_out\"\n",
    "device = DEVICE\n",
    "\n",
    "fun_control.update({\n",
    "               \"data_dir\": None,\n",
    "               \"checkpoint_dir\": None,\n",
    "               \"horizon\": None,\n",
    "               \"oml_grace_period\": None,\n",
    "               \"weights\": weights,\n",
    "               \"step\": None,\n",
    "               \"log_level\": 50,\n",
    "               \"weight_coeff\": None,\n",
    "               \"metric\": None,\n",
    "               \"metric_sklearn\": None,\n",
    "               \"shuffle\": shuffle,\n",
    "               \"eval\": eval,\n",
    "               \"device\": device,\n",
    "               })"
   ]
  },
  {
   "attachments": {},
   "cell_type": "markdown",
   "metadata": {},
   "source": [
    "## 6. Calling the SPOT Function"
   ]
  },
  {
   "attachments": {},
   "cell_type": "markdown",
   "metadata": {},
   "source": [
    "### Prepare the SPOT Parameters"
   ]
  },
  {
   "attachments": {},
   "cell_type": "markdown",
   "metadata": {},
   "source": [
    "* Get types and variable names as well as lower and upper bounds for the hyperparameters."
   ]
  },
  {
   "cell_type": "code",
   "execution_count": 16,
   "metadata": {},
   "outputs": [],
   "source": [
    "var_type = get_var_type(fun_control)\n",
    "var_name = get_var_name(fun_control)\n",
    "fun_control.update({\"var_type\": var_type,\n",
    "                    \"var_name\": var_name})\n",
    "\n",
    "lower = get_bound_values(fun_control, \"lower\")\n",
    "upper = get_bound_values(fun_control, \"upper\")"
   ]
  },
  {
   "cell_type": "code",
   "execution_count": 17,
   "metadata": {},
   "outputs": [
    {
     "name": "stdout",
     "output_type": "stream",
     "text": [
      "| name       | type   |   default |   lower |   upper | transform             |\n",
      "|------------|--------|-----------|---------|---------|-----------------------|\n",
      "| l1         | int    |     5     |   2     |    9    | transform_power_2_int |\n",
      "| l2         | int    |     5     |   2     |    9    | transform_power_2_int |\n",
      "| lr         | float  |     0.001 |   1e-05 |    0.01 | None                  |\n",
      "| batch_size | int    |     4     |   1     |    4    | transform_power_2_int |\n",
      "| epochs     | int    |     3     |   3     |    4    | transform_power_2_int |\n",
      "| k_folds    | int    |     2     |   0     |    0    | None                  |\n"
     ]
    }
   ],
   "source": [
    "print(gen_design_table(fun_control))"
   ]
  },
  {
   "attachments": {},
   "cell_type": "markdown",
   "metadata": {},
   "source": [
    "### Run the `Spot` Optimizer\n",
    "\n",
    "* Run SPOT for approx. x mins (`max_time`).\n",
    "* Note: the run takes longer, because the evaluation time of initial design (here: `initi_size`, 20 points) is not considered."
   ]
  },
  {
   "cell_type": "code",
   "execution_count": 18,
   "metadata": {},
   "outputs": [
    {
     "data": {
      "text/plain": [
       "array([[5.e+00, 5.e+00, 1.e-03, 4.e+00, 3.e+00, 2.e+00]])"
      ]
     },
     "execution_count": 18,
     "metadata": {},
     "output_type": "execute_result"
    }
   ],
   "source": [
    "from spotPython.hyperparameters.values import get_default_hyperparameters_as_array\n",
    "hyper_dict=TorchHyperDict().load()\n",
    "X_start = get_default_hyperparameters_as_array(fun_control, hyper_dict)\n",
    "X_start"
   ]
  },
  {
   "cell_type": "code",
   "execution_count": 19,
   "metadata": {},
   "outputs": [
    {
     "name": "stdout",
     "output_type": "stream",
     "text": [
      "Additional attributes: {'lr', 'k_folds', 'batch_size', 'epochs'}\n",
      "Removed attributes: {'lr', 'k_folds', 'batch_size', 'epochs'}\n",
      "Epoch: 1\n",
      "Batch:  1000. Batch Size: 8. Training Loss (running): 2.122\n",
      "Batch:  2000. Batch Size: 8. Training Loss (running): 0.973\n",
      "Batch:  3000. Batch Size: 8. Training Loss (running): 0.630\n",
      "Loss on hold-out set: 1.8861168183326722\n",
      "Accuracy on hold-out set: 0.2788\n",
      "Epoch: 2\n",
      "Batch:  1000. Batch Size: 8. Training Loss (running): 1.782\n",
      "Batch:  2000. Batch Size: 8. Training Loss (running): 0.846\n",
      "Batch:  3000. Batch Size: 8. Training Loss (running): 0.536\n",
      "Loss on hold-out set: 1.4985425176858902\n",
      "Accuracy on hold-out set: 0.4653\n",
      "Epoch: 3\n",
      "Batch:  1000. Batch Size: 8. Training Loss (running): 1.491\n",
      "Batch:  2000. Batch Size: 8. Training Loss (running): 0.722\n",
      "Batch:  3000. Batch Size: 8. Training Loss (running): 0.474\n",
      "Loss on hold-out set: 1.4222391223669053\n",
      "Accuracy on hold-out set: 0.5013\n",
      "Epoch: 4\n",
      "Batch:  1000. Batch Size: 8. Training Loss (running): 1.313\n",
      "Batch:  2000. Batch Size: 8. Training Loss (running): 0.658\n",
      "Batch:  3000. Batch Size: 8. Training Loss (running): 0.444\n",
      "Loss on hold-out set: 1.3793102706730365\n",
      "Accuracy on hold-out set: 0.5221\n",
      "Epoch: 5\n",
      "Batch:  1000. Batch Size: 8. Training Loss (running): 1.223\n",
      "Batch:  2000. Batch Size: 8. Training Loss (running): 0.620\n",
      "Batch:  3000. Batch Size: 8. Training Loss (running): 0.405\n",
      "Loss on hold-out set: 1.3549889790594578\n",
      "Accuracy on hold-out set: 0.53025\n",
      "Epoch: 6\n",
      "Batch:  1000. Batch Size: 8. Training Loss (running): 1.134\n",
      "Batch:  2000. Batch Size: 8. Training Loss (running): 0.571\n",
      "Batch:  3000. Batch Size: 8. Training Loss (running): 0.388\n",
      "Loss on hold-out set: 1.2537142738997937\n",
      "Accuracy on hold-out set: 0.57065\n",
      "Epoch: 7\n",
      "Batch:  1000. Batch Size: 8. Training Loss (running): 1.064\n",
      "Batch:  2000. Batch Size: 8. Training Loss (running): 0.539\n",
      "Batch:  3000. Batch Size: 8. Training Loss (running): 0.361\n",
      "Loss on hold-out set: 1.2652561492860317\n",
      "Accuracy on hold-out set: 0.56455\n",
      "Epoch: 8\n",
      "Batch:  1000. Batch Size: 8. Training Loss (running): 0.998\n",
      "Batch:  2000. Batch Size: 8. Training Loss (running): 0.504\n",
      "Batch:  3000. Batch Size: 8. Training Loss (running): 0.339\n",
      "Loss on hold-out set: 1.3375477729842067\n",
      "Accuracy on hold-out set: 0.56285\n",
      "Returned to Spot: Validation loss: 1.3375477729842067\n",
      "----------------------------------------------\n",
      "Additional attributes: {'lr', 'k_folds', 'batch_size', 'epochs'}\n",
      "Removed attributes: {'lr', 'k_folds', 'batch_size', 'epochs'}\n",
      "Epoch: 1\n",
      "Batch:  1000. Batch Size: 2. Training Loss (running): 2.215\n",
      "Batch:  2000. Batch Size: 2. Training Loss (running): 1.037\n",
      "Batch:  3000. Batch Size: 2. Training Loss (running): 0.649\n",
      "Batch:  4000. Batch Size: 2. Training Loss (running): 0.462\n",
      "Batch:  5000. Batch Size: 2. Training Loss (running): 0.364\n",
      "Batch:  6000. Batch Size: 2. Training Loss (running): 0.294\n",
      "Batch:  7000. Batch Size: 2. Training Loss (running): 0.251\n",
      "Batch:  8000. Batch Size: 2. Training Loss (running): 0.219\n",
      "Batch:  9000. Batch Size: 2. Training Loss (running): 0.189\n",
      "Batch: 10000. Batch Size: 2. Training Loss (running): 0.170\n",
      "Batch: 11000. Batch Size: 2. Training Loss (running): 0.149\n",
      "Batch: 12000. Batch Size: 2. Training Loss (running): 0.135\n",
      "Batch: 13000. Batch Size: 2. Training Loss (running): 0.129\n",
      "Batch: 14000. Batch Size: 2. Training Loss (running): 0.116\n",
      "Batch: 15000. Batch Size: 2. Training Loss (running): 0.105\n",
      "Loss on hold-out set: 1.618834169845283\n",
      "Accuracy on hold-out set: 0.43355\n",
      "Epoch: 2\n",
      "Batch:  1000. Batch Size: 2. Training Loss (running): 1.616\n",
      "Batch:  2000. Batch Size: 2. Training Loss (running): 0.787\n",
      "Batch:  3000. Batch Size: 2. Training Loss (running): 0.524\n",
      "Batch:  4000. Batch Size: 2. Training Loss (running): 0.393\n",
      "Batch:  5000. Batch Size: 2. Training Loss (running): 0.313\n",
      "Batch:  6000. Batch Size: 2. Training Loss (running): 0.252\n",
      "Batch:  7000. Batch Size: 2. Training Loss (running): 0.221\n",
      "Batch:  8000. Batch Size: 2. Training Loss (running): 0.192\n",
      "Batch:  9000. Batch Size: 2. Training Loss (running): 0.172\n",
      "Batch: 10000. Batch Size: 2. Training Loss (running): 0.150\n",
      "Batch: 11000. Batch Size: 2. Training Loss (running): 0.141\n",
      "Batch: 12000. Batch Size: 2. Training Loss (running): 0.125\n",
      "Batch: 13000. Batch Size: 2. Training Loss (running): 0.118\n",
      "Batch: 14000. Batch Size: 2. Training Loss (running): 0.108\n",
      "Batch: 15000. Batch Size: 2. Training Loss (running): 0.099\n",
      "Loss on hold-out set: 1.482833242544043\n",
      "Accuracy on hold-out set: 0.48585\n",
      "Epoch: 3\n",
      "Batch:  1000. Batch Size: 2. Training Loss (running): 1.466\n",
      "Batch:  2000. Batch Size: 2. Training Loss (running): 0.750\n",
      "Batch:  3000. Batch Size: 2. Training Loss (running): 0.489\n",
      "Batch:  4000. Batch Size: 2. Training Loss (running): 0.357\n",
      "Batch:  5000. Batch Size: 2. Training Loss (running): 0.286\n",
      "Batch:  6000. Batch Size: 2. Training Loss (running): 0.249\n",
      "Batch:  7000. Batch Size: 2. Training Loss (running): 0.206\n",
      "Batch:  8000. Batch Size: 2. Training Loss (running): 0.183\n",
      "Batch:  9000. Batch Size: 2. Training Loss (running): 0.166\n",
      "Batch: 10000. Batch Size: 2. Training Loss (running): 0.149\n",
      "Batch: 11000. Batch Size: 2. Training Loss (running): 0.139\n",
      "Batch: 12000. Batch Size: 2. Training Loss (running): 0.121\n",
      "Batch: 13000. Batch Size: 2. Training Loss (running): 0.113\n",
      "Batch: 14000. Batch Size: 2. Training Loss (running): 0.104\n",
      "Batch: 15000. Batch Size: 2. Training Loss (running): 0.094\n",
      "Loss on hold-out set: 1.4805907481426372\n",
      "Accuracy on hold-out set: 0.508\n",
      "Epoch: 4\n",
      "Batch:  1000. Batch Size: 2. Training Loss (running): 1.417\n",
      "Batch:  2000. Batch Size: 2. Training Loss (running): 0.697\n",
      "Batch:  3000. Batch Size: 2. Training Loss (running): 0.489\n",
      "Batch:  4000. Batch Size: 2. Training Loss (running): 0.347\n",
      "Batch:  5000. Batch Size: 2. Training Loss (running): 0.269\n",
      "Batch:  6000. Batch Size: 2. Training Loss (running): 0.236\n",
      "Batch:  7000. Batch Size: 2. Training Loss (running): 0.200\n",
      "Batch:  8000. Batch Size: 2. Training Loss (running): 0.172\n",
      "Batch:  9000. Batch Size: 2. Training Loss (running): 0.160\n",
      "Batch: 10000. Batch Size: 2. Training Loss (running): 0.145\n",
      "Batch: 11000. Batch Size: 2. Training Loss (running): 0.127\n",
      "Batch: 12000. Batch Size: 2. Training Loss (running): 0.116\n",
      "Batch: 13000. Batch Size: 2. Training Loss (running): 0.111\n",
      "Batch: 14000. Batch Size: 2. Training Loss (running): 0.101\n",
      "Batch: 15000. Batch Size: 2. Training Loss (running): 0.097\n",
      "Loss on hold-out set: 1.4475836343324946\n",
      "Accuracy on hold-out set: 0.5145\n",
      "Epoch: 5\n",
      "Batch:  1000. Batch Size: 2. Training Loss (running): 1.344\n",
      "Batch:  2000. Batch Size: 2. Training Loss (running): 0.711\n",
      "Batch:  3000. Batch Size: 2. Training Loss (running): 0.448\n",
      "Batch:  4000. Batch Size: 2. Training Loss (running): 0.346\n",
      "Batch:  5000. Batch Size: 2. Training Loss (running): 0.267\n",
      "Batch:  6000. Batch Size: 2. Training Loss (running): 0.220\n",
      "Batch:  7000. Batch Size: 2. Training Loss (running): 0.203\n",
      "Batch:  8000. Batch Size: 2. Training Loss (running): 0.176\n",
      "Batch:  9000. Batch Size: 2. Training Loss (running): 0.152\n",
      "Batch: 10000. Batch Size: 2. Training Loss (running): 0.139\n",
      "Batch: 11000. Batch Size: 2. Training Loss (running): 0.128\n",
      "Batch: 12000. Batch Size: 2. Training Loss (running): 0.112\n",
      "Batch: 13000. Batch Size: 2. Training Loss (running): 0.104\n",
      "Batch: 14000. Batch Size: 2. Training Loss (running): 0.099\n",
      "Batch: 15000. Batch Size: 2. Training Loss (running): 0.094\n",
      "Loss on hold-out set: 1.4596360417544028\n",
      "Accuracy on hold-out set: 0.53095\n",
      "Epoch: 6\n",
      "Batch:  1000. Batch Size: 2. Training Loss (running): 1.294\n",
      "Batch:  2000. Batch Size: 2. Training Loss (running): 0.640\n",
      "Batch:  3000. Batch Size: 2. Training Loss (running): 0.445\n",
      "Batch:  4000. Batch Size: 2. Training Loss (running): 0.337\n",
      "Batch:  5000. Batch Size: 2. Training Loss (running): 0.272\n",
      "Batch:  6000. Batch Size: 2. Training Loss (running): 0.226\n",
      "Batch:  7000. Batch Size: 2. Training Loss (running): 0.198\n",
      "Batch:  8000. Batch Size: 2. Training Loss (running): 0.165\n",
      "Batch:  9000. Batch Size: 2. Training Loss (running): 0.153\n",
      "Batch: 10000. Batch Size: 2. Training Loss (running): 0.134\n",
      "Batch: 11000. Batch Size: 2. Training Loss (running): 0.125\n",
      "Batch: 12000. Batch Size: 2. Training Loss (running): 0.116\n",
      "Batch: 13000. Batch Size: 2. Training Loss (running): 0.112\n",
      "Batch: 14000. Batch Size: 2. Training Loss (running): 0.100\n",
      "Batch: 15000. Batch Size: 2. Training Loss (running): 0.091\n",
      "Loss on hold-out set: 1.3977474852711254\n",
      "Accuracy on hold-out set: 0.5422\n",
      "Epoch: 7\n",
      "Batch:  1000. Batch Size: 2. Training Loss (running): 1.325\n",
      "Batch:  2000. Batch Size: 2. Training Loss (running): 0.653\n",
      "Batch:  3000. Batch Size: 2. Training Loss (running): 0.432\n",
      "Batch:  4000. Batch Size: 2. Training Loss (running): 0.330\n",
      "Batch:  5000. Batch Size: 2. Training Loss (running): 0.278\n",
      "Batch:  6000. Batch Size: 2. Training Loss (running): 0.225\n",
      "Batch:  7000. Batch Size: 2. Training Loss (running): 0.194\n",
      "Batch:  8000. Batch Size: 2. Training Loss (running): 0.159\n",
      "Batch:  9000. Batch Size: 2. Training Loss (running): 0.146\n",
      "Batch: 10000. Batch Size: 2. Training Loss (running): 0.132\n",
      "Batch: 11000. Batch Size: 2. Training Loss (running): 0.122\n",
      "Batch: 12000. Batch Size: 2. Training Loss (running): 0.107\n",
      "Batch: 13000. Batch Size: 2. Training Loss (running): 0.106\n",
      "Batch: 14000. Batch Size: 2. Training Loss (running): 0.097\n",
      "Batch: 15000. Batch Size: 2. Training Loss (running): 0.089\n",
      "Loss on hold-out set: 1.4306136989454454\n",
      "Accuracy on hold-out set: 0.54985\n",
      "Epoch: 8\n",
      "Batch:  1000. Batch Size: 2. Training Loss (running): 1.293\n",
      "Batch:  2000. Batch Size: 2. Training Loss (running): 0.633\n",
      "Batch:  3000. Batch Size: 2. Training Loss (running): 0.437\n",
      "Batch:  4000. Batch Size: 2. Training Loss (running): 0.337\n",
      "Batch:  5000. Batch Size: 2. Training Loss (running): 0.258\n",
      "Batch:  6000. Batch Size: 2. Training Loss (running): 0.207\n",
      "Batch:  7000. Batch Size: 2. Training Loss (running): 0.188\n",
      "Batch:  8000. Batch Size: 2. Training Loss (running): 0.167\n",
      "Batch:  9000. Batch Size: 2. Training Loss (running): 0.149\n",
      "Batch: 10000. Batch Size: 2. Training Loss (running): 0.133\n",
      "Batch: 11000. Batch Size: 2. Training Loss (running): 0.121\n",
      "Batch: 12000. Batch Size: 2. Training Loss (running): 0.110\n",
      "Batch: 13000. Batch Size: 2. Training Loss (running): 0.104\n",
      "Batch: 14000. Batch Size: 2. Training Loss (running): 0.094\n",
      "Batch: 15000. Batch Size: 2. Training Loss (running): 0.090\n",
      "Loss on hold-out set: 1.3577219380824073\n",
      "Accuracy on hold-out set: 0.56125\n",
      "Epoch: 9\n",
      "Batch:  1000. Batch Size: 2. Training Loss (running): 1.278\n",
      "Batch:  2000. Batch Size: 2. Training Loss (running): 0.639\n",
      "Batch:  3000. Batch Size: 2. Training Loss (running): 0.420\n",
      "Batch:  4000. Batch Size: 2. Training Loss (running): 0.336\n",
      "Batch:  5000. Batch Size: 2. Training Loss (running): 0.251\n",
      "Batch:  6000. Batch Size: 2. Training Loss (running): 0.211\n",
      "Batch:  7000. Batch Size: 2. Training Loss (running): 0.190\n",
      "Batch:  8000. Batch Size: 2. Training Loss (running): 0.164\n",
      "Batch:  9000. Batch Size: 2. Training Loss (running): 0.150\n",
      "Batch: 10000. Batch Size: 2. Training Loss (running): 0.129\n",
      "Batch: 11000. Batch Size: 2. Training Loss (running): 0.119\n",
      "Batch: 12000. Batch Size: 2. Training Loss (running): 0.112\n",
      "Batch: 13000. Batch Size: 2. Training Loss (running): 0.103\n",
      "Batch: 14000. Batch Size: 2. Training Loss (running): 0.094\n",
      "Batch: 15000. Batch Size: 2. Training Loss (running): 0.085\n",
      "Loss on hold-out set: 1.4042696415176077\n",
      "Accuracy on hold-out set: 0.5619\n",
      "Epoch: 10\n",
      "Batch:  1000. Batch Size: 2. Training Loss (running): 1.175\n",
      "Batch:  2000. Batch Size: 2. Training Loss (running): 0.630\n",
      "Batch:  3000. Batch Size: 2. Training Loss (running): 0.428\n",
      "Batch:  4000. Batch Size: 2. Training Loss (running): 0.330\n",
      "Batch:  5000. Batch Size: 2. Training Loss (running): 0.261\n",
      "Batch:  6000. Batch Size: 2. Training Loss (running): 0.215\n",
      "Batch:  7000. Batch Size: 2. Training Loss (running): 0.182\n",
      "Batch:  8000. Batch Size: 2. Training Loss (running): 0.169\n",
      "Batch:  9000. Batch Size: 2. Training Loss (running): 0.143\n",
      "Batch: 10000. Batch Size: 2. Training Loss (running): 0.134\n",
      "Batch: 11000. Batch Size: 2. Training Loss (running): 0.121\n",
      "Batch: 12000. Batch Size: 2. Training Loss (running): 0.107\n",
      "Batch: 13000. Batch Size: 2. Training Loss (running): 0.098\n",
      "Batch: 14000. Batch Size: 2. Training Loss (running): 0.093\n",
      "Batch: 15000. Batch Size: 2. Training Loss (running): 0.089\n",
      "Loss on hold-out set: 1.493847637738157\n",
      "Accuracy on hold-out set: 0.5678\n",
      "Epoch: 11\n",
      "Batch:  1000. Batch Size: 2. Training Loss (running): 1.291\n",
      "Batch:  2000. Batch Size: 2. Training Loss (running): 0.611\n",
      "Batch:  3000. Batch Size: 2. Training Loss (running): 0.420\n",
      "Batch:  4000. Batch Size: 2. Training Loss (running): 0.322\n",
      "Batch:  5000. Batch Size: 2. Training Loss (running): 0.256\n",
      "Batch:  6000. Batch Size: 2. Training Loss (running): 0.219\n",
      "Batch:  7000. Batch Size: 2. Training Loss (running): 0.182\n",
      "Batch:  8000. Batch Size: 2. Training Loss (running): 0.154\n",
      "Batch:  9000. Batch Size: 2. Training Loss (running): 0.146\n",
      "Batch: 10000. Batch Size: 2. Training Loss (running): 0.125\n",
      "Batch: 11000. Batch Size: 2. Training Loss (running): 0.120\n",
      "Batch: 12000. Batch Size: 2. Training Loss (running): 0.108\n",
      "Batch: 13000. Batch Size: 2. Training Loss (running): 0.100\n",
      "Batch: 14000. Batch Size: 2. Training Loss (running): 0.092\n",
      "Batch: 15000. Batch Size: 2. Training Loss (running): 0.088\n",
      "Loss on hold-out set: 1.4136865722089096\n",
      "Accuracy on hold-out set: 0.5746\n",
      "Epoch: 12\n",
      "Batch:  1000. Batch Size: 2. Training Loss (running): 1.232\n",
      "Batch:  2000. Batch Size: 2. Training Loss (running): 0.615\n",
      "Batch:  3000. Batch Size: 2. Training Loss (running): 0.407\n",
      "Batch:  4000. Batch Size: 2. Training Loss (running): 0.316\n",
      "Batch:  5000. Batch Size: 2. Training Loss (running): 0.248\n",
      "Batch:  6000. Batch Size: 2. Training Loss (running): 0.211\n",
      "Batch:  7000. Batch Size: 2. Training Loss (running): 0.190\n",
      "Batch:  8000. Batch Size: 2. Training Loss (running): 0.160\n",
      "Batch:  9000. Batch Size: 2. Training Loss (running): 0.145\n",
      "Batch: 10000. Batch Size: 2. Training Loss (running): 0.135\n",
      "Batch: 11000. Batch Size: 2. Training Loss (running): 0.117\n",
      "Batch: 12000. Batch Size: 2. Training Loss (running): 0.108\n",
      "Batch: 13000. Batch Size: 2. Training Loss (running): 0.095\n",
      "Batch: 14000. Batch Size: 2. Training Loss (running): 0.095\n",
      "Batch: 15000. Batch Size: 2. Training Loss (running): 0.084\n",
      "Loss on hold-out set: 1.490105201890975\n",
      "Accuracy on hold-out set: 0.5631\n",
      "Epoch: 13\n",
      "Batch:  1000. Batch Size: 2. Training Loss (running): 1.221\n",
      "Batch:  2000. Batch Size: 2. Training Loss (running): 0.603\n",
      "Batch:  3000. Batch Size: 2. Training Loss (running): 0.401\n",
      "Batch:  4000. Batch Size: 2. Training Loss (running): 0.320\n",
      "Batch:  5000. Batch Size: 2. Training Loss (running): 0.258\n",
      "Batch:  6000. Batch Size: 2. Training Loss (running): 0.210\n",
      "Batch:  7000. Batch Size: 2. Training Loss (running): 0.184\n",
      "Batch:  8000. Batch Size: 2. Training Loss (running): 0.160\n",
      "Batch:  9000. Batch Size: 2. Training Loss (running): 0.148\n",
      "Batch: 10000. Batch Size: 2. Training Loss (running): 0.124\n",
      "Batch: 11000. Batch Size: 2. Training Loss (running): 0.116\n",
      "Batch: 12000. Batch Size: 2. Training Loss (running): 0.105\n",
      "Batch: 13000. Batch Size: 2. Training Loss (running): 0.101\n",
      "Batch: 14000. Batch Size: 2. Training Loss (running): 0.089\n",
      "Batch: 15000. Batch Size: 2. Training Loss (running): 0.086\n",
      "Loss on hold-out set: 1.4878966762268866\n",
      "Accuracy on hold-out set: 0.563\n",
      "Early stopping at epoch 12\n",
      "Returned to Spot: Validation loss: 1.4878966762268866\n",
      "----------------------------------------------\n",
      "Additional attributes: {'lr', 'k_folds', 'batch_size', 'epochs'}\n",
      "Removed attributes: {'lr', 'k_folds', 'batch_size', 'epochs'}\n",
      "Epoch: 1\n",
      "Batch:  1000. Batch Size: 8. Training Loss (running): 2.298\n",
      "Batch:  2000. Batch Size: 8. Training Loss (running): 1.128\n",
      "Batch:  3000. Batch Size: 8. Training Loss (running): 0.728\n",
      "Loss on hold-out set: 2.099528301525116\n",
      "Accuracy on hold-out set: 0.2382\n",
      "Epoch: 2\n",
      "Batch:  1000. Batch Size: 8. Training Loss (running): 2.064\n",
      "Batch:  2000. Batch Size: 8. Training Loss (running): 1.013\n",
      "Batch:  3000. Batch Size: 8. Training Loss (running): 0.664\n",
      "Loss on hold-out set: 1.9806892954826354\n",
      "Accuracy on hold-out set: 0.27515\n",
      "Epoch: 3\n",
      "Batch:  1000. Batch Size: 8. Training Loss (running): 1.957\n",
      "Batch:  2000. Batch Size: 8. Training Loss (running): 0.971\n",
      "Batch:  3000. Batch Size: 8. Training Loss (running): 0.640\n",
      "Loss on hold-out set: 1.913341413116455\n",
      "Accuracy on hold-out set: 0.29545\n",
      "Epoch: 4\n",
      "Batch:  1000. Batch Size: 8. Training Loss (running): 1.882\n",
      "Batch:  2000. Batch Size: 8. Training Loss (running): 0.939\n",
      "Batch:  3000. Batch Size: 8. Training Loss (running): 0.621\n",
      "Loss on hold-out set: 1.8414077214241027\n",
      "Accuracy on hold-out set: 0.31985\n",
      "Epoch: 5\n",
      "Batch:  1000. Batch Size: 8. Training Loss (running): 1.813\n",
      "Batch:  2000. Batch Size: 8. Training Loss (running): 0.901\n",
      "Batch:  3000. Batch Size: 8. Training Loss (running): 0.595\n",
      "Loss on hold-out set: 1.773477600979805\n",
      "Accuracy on hold-out set: 0.3553\n",
      "Epoch: 6\n",
      "Batch:  1000. Batch Size: 8. Training Loss (running): 1.743\n",
      "Batch:  2000. Batch Size: 8. Training Loss (running): 0.874\n",
      "Batch:  3000. Batch Size: 8. Training Loss (running): 0.575\n",
      "Loss on hold-out set: 1.7224788812875749\n",
      "Accuracy on hold-out set: 0.3722\n",
      "Epoch: 7\n",
      "Batch:  1000. Batch Size: 8. Training Loss (running): 1.691\n",
      "Batch:  2000. Batch Size: 8. Training Loss (running): 0.847\n",
      "Batch:  3000. Batch Size: 8. Training Loss (running): 0.560\n",
      "Loss on hold-out set: 1.6839108657360078\n",
      "Accuracy on hold-out set: 0.3763\n",
      "Epoch: 8\n",
      "Batch:  1000. Batch Size: 8. Training Loss (running): 1.652\n",
      "Batch:  2000. Batch Size: 8. Training Loss (running): 0.824\n",
      "Batch:  3000. Batch Size: 8. Training Loss (running): 0.543\n",
      "Loss on hold-out set: 1.6448612998723984\n",
      "Accuracy on hold-out set: 0.3979\n",
      "Epoch: 9\n",
      "Batch:  1000. Batch Size: 8. Training Loss (running): 1.612\n",
      "Batch:  2000. Batch Size: 8. Training Loss (running): 0.804\n",
      "Batch:  3000. Batch Size: 8. Training Loss (running): 0.536\n",
      "Loss on hold-out set: 1.6273481239557266\n",
      "Accuracy on hold-out set: 0.4048\n",
      "Epoch: 10\n",
      "Batch:  1000. Batch Size: 8. Training Loss (running): 1.600\n",
      "Batch:  2000. Batch Size: 8. Training Loss (running): 0.794\n",
      "Batch:  3000. Batch Size: 8. Training Loss (running): 0.527\n",
      "Loss on hold-out set: 1.5983053438425063\n",
      "Accuracy on hold-out set: 0.41575\n",
      "Epoch: 11\n",
      "Batch:  1000. Batch Size: 8. Training Loss (running): 1.571\n",
      "Batch:  2000. Batch Size: 8. Training Loss (running): 0.787\n",
      "Batch:  3000. Batch Size: 8. Training Loss (running): 0.517\n",
      "Loss on hold-out set: 1.5847597555160522\n",
      "Accuracy on hold-out set: 0.42035\n",
      "Epoch: 12\n",
      "Batch:  1000. Batch Size: 8. Training Loss (running): 1.557\n",
      "Batch:  2000. Batch Size: 8. Training Loss (running): 0.775\n",
      "Batch:  3000. Batch Size: 8. Training Loss (running): 0.519\n",
      "Loss on hold-out set: 1.576494225883484\n",
      "Accuracy on hold-out set: 0.42195\n",
      "Epoch: 13\n",
      "Batch:  1000. Batch Size: 8. Training Loss (running): 1.535\n",
      "Batch:  2000. Batch Size: 8. Training Loss (running): 0.765\n",
      "Batch:  3000. Batch Size: 8. Training Loss (running): 0.510\n",
      "Loss on hold-out set: 1.5617762117862701\n",
      "Accuracy on hold-out set: 0.43175\n",
      "Epoch: 14\n",
      "Batch:  1000. Batch Size: 8. Training Loss (running): 1.536\n",
      "Batch:  2000. Batch Size: 8. Training Loss (running): 0.757\n",
      "Batch:  3000. Batch Size: 8. Training Loss (running): 0.510\n",
      "Loss on hold-out set: 1.55294640583992\n",
      "Accuracy on hold-out set: 0.4312\n",
      "Epoch: 15\n",
      "Batch:  1000. Batch Size: 8. Training Loss (running): 1.516\n",
      "Batch:  2000. Batch Size: 8. Training Loss (running): 0.752\n",
      "Batch:  3000. Batch Size: 8. Training Loss (running): 0.502\n",
      "Loss on hold-out set: 1.5374084731817246\n",
      "Accuracy on hold-out set: 0.4383\n",
      "Epoch: 16\n",
      "Batch:  1000. Batch Size: 8. Training Loss (running): 1.505\n",
      "Batch:  2000. Batch Size: 8. Training Loss (running): 0.753\n",
      "Batch:  3000. Batch Size: 8. Training Loss (running): 0.501\n",
      "Loss on hold-out set: 1.529802003145218\n",
      "Accuracy on hold-out set: 0.44425\n",
      "Returned to Spot: Validation loss: 1.529802003145218\n",
      "----------------------------------------------\n",
      "Additional attributes: {'lr', 'k_folds', 'batch_size', 'epochs'}\n",
      "Removed attributes: {'lr', 'k_folds', 'batch_size', 'epochs'}\n",
      "Epoch: 1\n",
      "Batch:  1000. Batch Size: 4. Training Loss (running): 2.186\n",
      "Batch:  2000. Batch Size: 4. Training Loss (running): 1.011\n",
      "Batch:  3000. Batch Size: 4. Training Loss (running): 0.646\n",
      "Batch:  4000. Batch Size: 4. Training Loss (running): 0.463\n",
      "Batch:  5000. Batch Size: 4. Training Loss (running): 0.356\n",
      "Batch:  6000. Batch Size: 4. Training Loss (running): 0.287\n",
      "Batch:  7000. Batch Size: 4. Training Loss (running): 0.239\n",
      "Loss on hold-out set: 1.6760459349930286\n",
      "Accuracy on hold-out set: 0.3884\n",
      "Epoch: 2\n",
      "Batch:  1000. Batch Size: 4. Training Loss (running): 1.653\n",
      "Batch:  2000. Batch Size: 4. Training Loss (running): 0.801\n",
      "Batch:  3000. Batch Size: 4. Training Loss (running): 0.526\n",
      "Batch:  4000. Batch Size: 4. Training Loss (running): 0.390\n",
      "Batch:  5000. Batch Size: 4. Training Loss (running): 0.303\n",
      "Batch:  6000. Batch Size: 4. Training Loss (running): 0.253\n",
      "Batch:  7000. Batch Size: 4. Training Loss (running): 0.215\n",
      "Loss on hold-out set: 1.485590391394496\n",
      "Accuracy on hold-out set: 0.457\n",
      "Epoch: 3\n",
      "Batch:  1000. Batch Size: 4. Training Loss (running): 1.476\n",
      "Batch:  2000. Batch Size: 4. Training Loss (running): 0.721\n",
      "Batch:  3000. Batch Size: 4. Training Loss (running): 0.484\n",
      "Batch:  4000. Batch Size: 4. Training Loss (running): 0.369\n",
      "Batch:  5000. Batch Size: 4. Training Loss (running): 0.286\n",
      "Batch:  6000. Batch Size: 4. Training Loss (running): 0.242\n",
      "Batch:  7000. Batch Size: 4. Training Loss (running): 0.205\n",
      "Loss on hold-out set: 1.437237834265828\n",
      "Accuracy on hold-out set: 0.48095\n",
      "Epoch: 4\n",
      "Batch:  1000. Batch Size: 4. Training Loss (running): 1.398\n",
      "Batch:  2000. Batch Size: 4. Training Loss (running): 0.697\n",
      "Batch:  3000. Batch Size: 4. Training Loss (running): 0.470\n",
      "Batch:  4000. Batch Size: 4. Training Loss (running): 0.335\n",
      "Batch:  5000. Batch Size: 4. Training Loss (running): 0.276\n",
      "Batch:  6000. Batch Size: 4. Training Loss (running): 0.233\n",
      "Batch:  7000. Batch Size: 4. Training Loss (running): 0.194\n",
      "Loss on hold-out set: 1.3736976908773184\n",
      "Accuracy on hold-out set: 0.50495\n",
      "Epoch: 5\n",
      "Batch:  1000. Batch Size: 4. Training Loss (running): 1.338\n",
      "Batch:  2000. Batch Size: 4. Training Loss (running): 0.651\n",
      "Batch:  3000. Batch Size: 4. Training Loss (running): 0.448\n",
      "Batch:  4000. Batch Size: 4. Training Loss (running): 0.336\n",
      "Batch:  5000. Batch Size: 4. Training Loss (running): 0.269\n",
      "Batch:  6000. Batch Size: 4. Training Loss (running): 0.226\n",
      "Batch:  7000. Batch Size: 4. Training Loss (running): 0.192\n",
      "Loss on hold-out set: 1.30414845289886\n",
      "Accuracy on hold-out set: 0.5308\n",
      "Epoch: 6\n",
      "Batch:  1000. Batch Size: 4. Training Loss (running): 1.283\n",
      "Batch:  2000. Batch Size: 4. Training Loss (running): 0.667\n",
      "Batch:  3000. Batch Size: 4. Training Loss (running): 0.419\n",
      "Batch:  4000. Batch Size: 4. Training Loss (running): 0.331\n",
      "Batch:  5000. Batch Size: 4. Training Loss (running): 0.256\n",
      "Batch:  6000. Batch Size: 4. Training Loss (running): 0.207\n",
      "Batch:  7000. Batch Size: 4. Training Loss (running): 0.189\n",
      "Loss on hold-out set: 1.309614099052921\n",
      "Accuracy on hold-out set: 0.5367\n",
      "Epoch: 7\n",
      "Batch:  1000. Batch Size: 4. Training Loss (running): 1.263\n",
      "Batch:  2000. Batch Size: 4. Training Loss (running): 0.622\n",
      "Batch:  3000. Batch Size: 4. Training Loss (running): 0.429\n",
      "Batch:  4000. Batch Size: 4. Training Loss (running): 0.317\n",
      "Batch:  5000. Batch Size: 4. Training Loss (running): 0.255\n",
      "Batch:  6000. Batch Size: 4. Training Loss (running): 0.209\n",
      "Batch:  7000. Batch Size: 4. Training Loss (running): 0.177\n",
      "Loss on hold-out set: 1.3316269076317548\n",
      "Accuracy on hold-out set: 0.5322\n",
      "Epoch: 8\n",
      "Batch:  1000. Batch Size: 4. Training Loss (running): 1.230\n",
      "Batch:  2000. Batch Size: 4. Training Loss (running): 0.610\n",
      "Batch:  3000. Batch Size: 4. Training Loss (running): 0.412\n",
      "Batch:  4000. Batch Size: 4. Training Loss (running): 0.308\n",
      "Batch:  5000. Batch Size: 4. Training Loss (running): 0.244\n",
      "Batch:  6000. Batch Size: 4. Training Loss (running): 0.205\n",
      "Batch:  7000. Batch Size: 4. Training Loss (running): 0.177\n",
      "Loss on hold-out set: 1.2840431863600388\n",
      "Accuracy on hold-out set: 0.54785\n",
      "Returned to Spot: Validation loss: 1.2840431863600388\n",
      "----------------------------------------------\n",
      "Additional attributes: {'lr', 'k_folds', 'batch_size', 'epochs'}\n",
      "Removed attributes: {'lr', 'k_folds', 'batch_size', 'epochs'}\n",
      "Epoch: 1\n",
      "Batch:  1000. Batch Size: 16. Training Loss (running): 1.955\n",
      "Loss on hold-out set: 1.5701508983135224\n",
      "Accuracy on hold-out set: 0.421\n",
      "Epoch: 2\n",
      "Batch:  1000. Batch Size: 16. Training Loss (running): 1.503\n",
      "Loss on hold-out set: 1.4374265141487121\n",
      "Accuracy on hold-out set: 0.48305\n",
      "Epoch: 3\n",
      "Batch:  1000. Batch Size: 16. Training Loss (running): 1.368\n",
      "Loss on hold-out set: 1.3843255792617797\n",
      "Accuracy on hold-out set: 0.5074\n",
      "Epoch: 4\n",
      "Batch:  1000. Batch Size: 16. Training Loss (running): 1.273\n",
      "Loss on hold-out set: 1.288221527147293\n",
      "Accuracy on hold-out set: 0.5458\n",
      "Epoch: 5\n",
      "Batch:  1000. Batch Size: 16. Training Loss (running): 1.189\n",
      "Loss on hold-out set: 1.2575619560003282\n",
      "Accuracy on hold-out set: 0.5521\n",
      "Epoch: 6\n",
      "Batch:  1000. Batch Size: 16. Training Loss (running): 1.121\n",
      "Loss on hold-out set: 1.2615908757686616\n",
      "Accuracy on hold-out set: 0.55945\n",
      "Epoch: 7\n",
      "Batch:  1000. Batch Size: 16. Training Loss (running): 1.078\n",
      "Loss on hold-out set: 1.3112098669528962\n",
      "Accuracy on hold-out set: 0.5421\n",
      "Epoch: 8\n",
      "Batch:  1000. Batch Size: 16. Training Loss (running): 1.038\n",
      "Loss on hold-out set: 1.1709545459032058\n",
      "Accuracy on hold-out set: 0.58925\n",
      "Returned to Spot: Validation loss: 1.1709545459032058\n",
      "----------------------------------------------\n",
      "Additional attributes: {'lr', 'k_folds', 'batch_size', 'epochs'}\n",
      "Removed attributes: {'lr', 'k_folds', 'batch_size', 'epochs'}\n",
      "Epoch: 1\n",
      "Batch:  1000. Batch Size: 16. Training Loss (running): 1.879\n",
      "Loss on hold-out set: 1.4899668609142303\n",
      "Accuracy on hold-out set: 0.4548\n",
      "Epoch: 2\n",
      "Batch:  1000. Batch Size: 16. Training Loss (running): 1.446\n",
      "Loss on hold-out set: 1.3469657073497772\n",
      "Accuracy on hold-out set: 0.51205\n",
      "Epoch: 3\n",
      "Batch:  1000. Batch Size: 16. Training Loss (running): 1.290\n",
      "Loss on hold-out set: 1.2638264091014861\n",
      "Accuracy on hold-out set: 0.5503\n",
      "Epoch: 4\n",
      "Batch:  1000. Batch Size: 16. Training Loss (running): 1.194\n",
      "Loss on hold-out set: 1.2392916701316834\n",
      "Accuracy on hold-out set: 0.56075\n",
      "Epoch: 5\n",
      "Batch:  1000. Batch Size: 16. Training Loss (running): 1.085\n",
      "Loss on hold-out set: 1.188331791138649\n",
      "Accuracy on hold-out set: 0.5781\n",
      "Epoch: 6\n",
      "Batch:  1000. Batch Size: 16. Training Loss (running): 0.994\n",
      "Loss on hold-out set: 1.2043347143888474\n",
      "Accuracy on hold-out set: 0.579\n",
      "Epoch: 7\n",
      "Batch:  1000. Batch Size: 16. Training Loss (running): 0.903\n",
      "Loss on hold-out set: 1.1565920320272445\n",
      "Accuracy on hold-out set: 0.5964\n",
      "Epoch: 8\n",
      "Batch:  1000. Batch Size: 16. Training Loss (running): 0.824\n",
      "Loss on hold-out set: 1.1681457759618759\n",
      "Accuracy on hold-out set: 0.60825\n",
      "Returned to Spot: Validation loss: 1.1681457759618759\n",
      "----------------------------------------------\n",
      "spotPython tuning: [##########] 100.00% Done...\n",
      "\r"
     ]
    },
    {
     "data": {
      "text/plain": [
       "<spotPython.spot.spot.Spot at 0x103466d40>"
      ]
     },
     "execution_count": 19,
     "metadata": {},
     "output_type": "execute_result"
    }
   ],
   "source": [
    "spot_tuner = spot.Spot(fun=fun,\n",
    "                   lower = lower,\n",
    "                   upper = upper,\n",
    "                   fun_evals = inf,\n",
    "                   fun_repeats = 1,\n",
    "                   max_time = MAX_TIME,\n",
    "                   noise = False,\n",
    "                   tolerance_x = np.sqrt(np.spacing(1)),\n",
    "                   var_type = var_type,\n",
    "                   var_name = var_name,\n",
    "                   infill_criterion = \"y\",\n",
    "                   n_points = 1,\n",
    "                   seed=123,\n",
    "                   log_level = 50,\n",
    "                   show_models= False,\n",
    "                   show_progress= True,\n",
    "                   fun_control = fun_control,\n",
    "                   design_control={\"init_size\": INIT_SIZE,\n",
    "                                   \"repeats\": 1},\n",
    "                   surrogate_control={\"noise\": True,\n",
    "                                      \"cod_type\": \"norm\",\n",
    "                                      \"min_theta\": -4,\n",
    "                                      \"max_theta\": 3,\n",
    "                                      \"n_theta\": len(var_name),\n",
    "                                      \"model_optimizer\": differential_evolution,\n",
    "                                      \"model_fun_evals\": 10_000,\n",
    "                                      \"log_level\": 50\n",
    "                                      })\n",
    "spot_tuner.run(X_start=X_start)"
   ]
  },
  {
   "attachments": {},
   "cell_type": "markdown",
   "metadata": {},
   "source": [
    "### 4 Results"
   ]
  },
  {
   "cell_type": "code",
   "execution_count": 20,
   "metadata": {},
   "outputs": [],
   "source": [
    "SAVE = False\n",
    "LOAD = False\n",
    "\n",
    "if SAVE:\n",
    "    result_file_name = \"res_\" + experiment_name + \".pkl\"\n",
    "    with open(result_file_name, 'wb') as f:\n",
    "        pickle.dump(spot_tuner, f)\n",
    "\n",
    "if LOAD:\n",
    "    result_file_name = \"res_ch10-friedman-hpt-0_maans03_60min_20init_1K_2023-04-14_10-11-19.pkl\"\n",
    "    with open(result_file_name, 'rb') as f:\n",
    "        spot_tuner =  pickle.load(f)"
   ]
  },
  {
   "attachments": {},
   "cell_type": "markdown",
   "metadata": {},
   "source": [
    "* Show the Progress of the hyperparameter tuning:"
   ]
  },
  {
   "cell_type": "code",
   "execution_count": 21,
   "metadata": {},
   "outputs": [
    {
     "data": {
      "text/plain": [
       "array([1.33754777, 1.48789668, 1.529802  , 1.28404319, 1.17095455,\n",
       "       1.16814578])"
      ]
     },
     "execution_count": 21,
     "metadata": {},
     "output_type": "execute_result"
    }
   ],
   "source": [
    "spot_tuner.y"
   ]
  },
  {
   "cell_type": "code",
   "execution_count": 22,
   "metadata": {},
   "outputs": [
    {
     "data": {
      "image/png": "[encoded data removed]",
      "text/plain": [
       "<Figure size 900x600 with 1 Axes>"
      ]
     },
     "metadata": {},
     "output_type": "display_data"
    }
   ],
   "source": [
    "spot_tuner.plot_progress(log_y=False, filename=\"../Figures.d/\" + experiment_name+\"_progress.pdf\")"
   ]
  },
  {
   "attachments": {},
   "cell_type": "markdown",
   "metadata": {},
   "source": [
    "\n",
    "\n",
    "* Print the Results"
   ]
  },
  {
   "cell_type": "code",
   "execution_count": 23,
   "metadata": {},
   "outputs": [
    {
     "name": "stdout",
     "output_type": "stream",
     "text": [
      "| name       | type   |   default |   lower |   upper |   tuned | transform             |   importance | stars   |\n",
      "|------------|--------|-----------|---------|---------|---------|-----------------------|--------------|---------|\n",
      "| l1         | int    |       5.0 |     2.0 |     9.0 |     9.0 | transform_power_2_int |         0.00 |         |\n",
      "| l2         | int    |       5.0 |     2.0 |     9.0 |     9.0 | transform_power_2_int |         0.08 |         |\n",
      "| lr         | float  |     0.001 |   1e-05 |    0.01 |    0.01 | None                  |         0.00 |         |\n",
      "| batch_size | int    |       4.0 |     1.0 |     4.0 |     4.0 | transform_power_2_int |         0.00 |         |\n",
      "| epochs     | int    |       3.0 |     3.0 |     4.0 |     3.0 | transform_power_2_int |       100.00 | ***     |\n",
      "| k_folds    | int    |       2.0 |     0.0 |     0.0 |     0.0 | None                  |         0.00 |         |\n"
     ]
    }
   ],
   "source": [
    "print(gen_design_table(fun_control=fun_control, spot=spot_tuner))"
   ]
  },
  {
   "attachments": {},
   "cell_type": "markdown",
   "metadata": {},
   "source": [
    "## Show variable importance"
   ]
  },
  {
   "cell_type": "code",
   "execution_count": 24,
   "metadata": {},
   "outputs": [
    {
     "data": {
      "image/png": "[encoded data removed]",
      "text/plain": [
       "<Figure size 640x480 with 1 Axes>"
      ]
     },
     "metadata": {},
     "output_type": "display_data"
    }
   ],
   "source": [
    "spot_tuner.plot_importance(threshold=0.025, filename=\"../Figures.d/\" + experiment_name+\"_importance.pdf\")"
   ]
  },
  {
   "attachments": {},
   "cell_type": "markdown",
   "metadata": {},
   "source": [
    "## Get Default Hyperparameters"
   ]
  },
  {
   "cell_type": "code",
   "execution_count": 25,
   "metadata": {},
   "outputs": [
    {
     "data": {
      "text/plain": [
       "{'l1': 32, 'l2': 32, 'lr': 0.001, 'batch_size': 16, 'epochs': 8, 'k_folds': 2}"
      ]
     },
     "execution_count": 25,
     "metadata": {},
     "output_type": "execute_result"
    }
   ],
   "source": [
    "values_default = get_default_values(fun_control)\n",
    "values_default = transform_hyper_parameter_values(fun_control=fun_control, hyper_parameter_values=values_default)\n",
    "values_default"
   ]
  },
  {
   "cell_type": "code",
   "execution_count": 26,
   "metadata": {},
   "outputs": [
    {
     "data": {
      "text/plain": [
       "Net_CIFAR10(\n",
       "  (conv1): Conv2d(3, 6, kernel_size=(5, 5), stride=(1, 1))\n",
       "  (pool): MaxPool2d(kernel_size=2, stride=2, padding=0, dilation=1, ceil_mode=False)\n",
       "  (conv2): Conv2d(6, 16, kernel_size=(5, 5), stride=(1, 1))\n",
       "  (fc1): Linear(in_features=400, out_features=32, bias=True)\n",
       "  (fc2): Linear(in_features=32, out_features=32, bias=True)\n",
       "  (fc3): Linear(in_features=32, out_features=10, bias=True)\n",
       ")"
      ]
     },
     "execution_count": 26,
     "metadata": {},
     "output_type": "execute_result"
    }
   ],
   "source": [
    "model_default = fun_control[\"core_model\"](**values_default)\n",
    "model_default"
   ]
  },
  {
   "attachments": {},
   "cell_type": "markdown",
   "metadata": {},
   "source": [
    "## Get SPOT Results"
   ]
  },
  {
   "cell_type": "code",
   "execution_count": 27,
   "metadata": {},
   "outputs": [
    {
     "name": "stdout",
     "output_type": "stream",
     "text": [
      "[[9.   9.   0.01 4.   3.   0.  ]]\n"
     ]
    }
   ],
   "source": [
    "X = spot_tuner.to_all_dim(spot_tuner.min_X.reshape(1,-1))\n",
    "print(X)"
   ]
  },
  {
   "cell_type": "code",
   "execution_count": 28,
   "metadata": {},
   "outputs": [
    {
     "data": {
      "text/plain": [
       "[{'l1': 512,\n",
       "  'l2': 512,\n",
       "  'lr': 0.01,\n",
       "  'batch_size': 16,\n",
       "  'epochs': 8,\n",
       "  'k_folds': 0}]"
      ]
     },
     "execution_count": 28,
     "metadata": {},
     "output_type": "execute_result"
    }
   ],
   "source": [
    "v_dict = assign_values(X, fun_control[\"var_name\"])\n",
    "return_conf_list_from_var_dict(var_dict=v_dict, fun_control=fun_control)"
   ]
  },
  {
   "cell_type": "code",
   "execution_count": 29,
   "metadata": {},
   "outputs": [
    {
     "data": {
      "text/plain": [
       "Net_CIFAR10(\n",
       "  (conv1): Conv2d(3, 6, kernel_size=(5, 5), stride=(1, 1))\n",
       "  (pool): MaxPool2d(kernel_size=2, stride=2, padding=0, dilation=1, ceil_mode=False)\n",
       "  (conv2): Conv2d(6, 16, kernel_size=(5, 5), stride=(1, 1))\n",
       "  (fc1): Linear(in_features=400, out_features=512, bias=True)\n",
       "  (fc2): Linear(in_features=512, out_features=512, bias=True)\n",
       "  (fc3): Linear(in_features=512, out_features=10, bias=True)\n",
       ")"
      ]
     },
     "execution_count": 29,
     "metadata": {},
     "output_type": "execute_result"
    }
   ],
   "source": [
    "model_spot = get_one_core_model_from_X(X, fun_control)\n",
    "model_spot"
   ]
  },
  {
   "attachments": {},
   "cell_type": "markdown",
   "metadata": {},
   "source": [
    "## Test Set Accuracy"
   ]
  },
  {
   "cell_type": "code",
   "execution_count": 30,
   "metadata": {},
   "outputs": [
    {
     "data": {
      "text/plain": [
       "(10000, 32, 32, 3)"
      ]
     },
     "execution_count": 30,
     "metadata": {},
     "output_type": "execute_result"
    }
   ],
   "source": [
    "testset = fun_control[\"test\"]\n",
    "testset.data.shape"
   ]
  },
  {
   "cell_type": "code",
   "execution_count": 31,
   "metadata": {},
   "outputs": [
    {
     "name": "stdout",
     "output_type": "stream",
     "text": [
      "Additional attributes: {'lr', 'k_folds', 'batch_size', 'epochs'}\n",
      "Removed attributes: {'lr', 'k_folds', 'batch_size', 'epochs'}\n",
      "Epoch: 1\n",
      "Loss on hold-out set: 2.305149890899658\n",
      "Accuracy on hold-out set: 0.11\n",
      "Epoch: 2\n",
      "Loss on hold-out set: 2.300952822685242\n",
      "Accuracy on hold-out set: 0.101\n",
      "Epoch: 3\n",
      "Loss on hold-out set: 2.2938323802947997\n",
      "Accuracy on hold-out set: 0.12475\n",
      "Epoch: 4\n",
      "Loss on hold-out set: 2.2675148048400877\n",
      "Accuracy on hold-out set: 0.19225\n",
      "Epoch: 5\n",
      "Loss on hold-out set: 2.1344538054466247\n",
      "Accuracy on hold-out set: 0.19825\n",
      "Epoch: 6\n",
      "Loss on hold-out set: 2.033152611255646\n",
      "Accuracy on hold-out set: 0.261\n",
      "Epoch: 7\n",
      "Loss on hold-out set: 1.980378553390503\n",
      "Accuracy on hold-out set: 0.27675\n",
      "Epoch: 8\n",
      "Loss on hold-out set: 1.941396812438965\n",
      "Accuracy on hold-out set: 0.28925\n",
      "Returned to Spot: Validation loss: 1.941396812438965\n",
      "----------------------------------------------\n"
     ]
    },
    {
     "data": {
      "text/plain": [
       "(1.941396812438965, nan)"
      ]
     },
     "execution_count": 31,
     "metadata": {},
     "output_type": "execute_result"
    }
   ],
   "source": [
    "evaluate_hold_out(model_default, dataset = testset, shuffle=False)"
   ]
  },
  {
   "cell_type": "code",
   "execution_count": 32,
   "metadata": {},
   "outputs": [
    {
     "name": "stdout",
     "output_type": "stream",
     "text": [
      "Additional attributes: {'lr', 'k_folds', 'batch_size', 'epochs'}\n",
      "Removed attributes: {'lr', 'k_folds', 'batch_size', 'epochs'}\n",
      "Epoch: 1\n",
      "Loss on hold-out set: 1.8876134452819824\n",
      "Accuracy on hold-out set: 0.31575\n",
      "Epoch: 2\n",
      "Loss on hold-out set: 1.6805806043148042\n",
      "Accuracy on hold-out set: 0.385\n",
      "Epoch: 3\n",
      "Loss on hold-out set: 1.5773407397270203\n",
      "Accuracy on hold-out set: 0.424\n",
      "Epoch: 4\n",
      "Loss on hold-out set: 1.519951206445694\n",
      "Accuracy on hold-out set: 0.447\n",
      "Epoch: 5\n",
      "Loss on hold-out set: 1.48941446018219\n",
      "Accuracy on hold-out set: 0.46125\n",
      "Epoch: 6\n",
      "Loss on hold-out set: 1.4695759365558625\n",
      "Accuracy on hold-out set: 0.4715\n",
      "Epoch: 7\n",
      "Loss on hold-out set: 1.4576543579101562\n",
      "Accuracy on hold-out set: 0.48325\n",
      "Epoch: 8\n",
      "Loss on hold-out set: 1.4600139577388764\n",
      "Accuracy on hold-out set: 0.49425\n",
      "Returned to Spot: Validation loss: 1.4600139577388764\n",
      "----------------------------------------------\n"
     ]
    },
    {
     "data": {
      "text/plain": [
       "(1.4600139577388764, nan)"
      ]
     },
     "execution_count": 32,
     "metadata": {},
     "output_type": "execute_result"
    }
   ],
   "source": [
    "evaluate_hold_out(model_spot, dataset = testset, shuffle=False)"
   ]
  },
  {
   "attachments": {},
   "cell_type": "markdown",
   "metadata": {},
   "source": [
    "## Train on Train Data and Test on Test Data (Hold-Out)\n",
    "\n",
    "Final Evaluation as in the Pytorch tutorial [Hyperparameter Tuning  with Ray Tune](https://pytorch.org/tutorials/beginner/hyperparameter_tuning_tutorial.html)."
   ]
  },
  {
   "cell_type": "code",
   "execution_count": 33,
   "metadata": {},
   "outputs": [],
   "source": [
    "trainset = fun_control[\"train\"]"
   ]
  },
  {
   "cell_type": "code",
   "execution_count": 34,
   "metadata": {},
   "outputs": [
    {
     "name": "stdout",
     "output_type": "stream",
     "text": [
      "Additional attributes: {'lr', 'batch_size', 'epochs'}\n",
      "Removed attributes: {'lr', 'batch_size', 'epochs'}\n",
      "Epoch: 1\n",
      "Batch:  1000. Batch Size: 16. Training Loss (running): 1.926\n",
      "Batch:  2000. Batch Size: 16. Training Loss (running): 0.915\n",
      "Batch:  3000. Batch Size: 16. Training Loss (running): 0.592\n",
      "Loss on hold-out set: 1.7232282470703124\n",
      "Accuracy on hold-out set: 0.3661\n",
      "Epoch: 2\n",
      "Batch:  1000. Batch Size: 16. Training Loss (running): 1.718\n",
      "Batch:  2000. Batch Size: 16. Training Loss (running): 0.833\n",
      "Batch:  3000. Batch Size: 16. Training Loss (running): 0.551\n",
      "Loss on hold-out set: 1.612297631263733\n",
      "Accuracy on hold-out set: 0.4095\n",
      "Epoch: 3\n",
      "Batch:  1000. Batch Size: 16. Training Loss (running): 1.620\n",
      "Batch:  2000. Batch Size: 16. Training Loss (running): 0.790\n",
      "Batch:  3000. Batch Size: 16. Training Loss (running): 0.529\n",
      "Loss on hold-out set: 1.5494951904296874\n",
      "Accuracy on hold-out set: 0.4388\n",
      "Epoch: 4\n",
      "Batch:  1000. Batch Size: 16. Training Loss (running): 1.560\n",
      "Batch:  2000. Batch Size: 16. Training Loss (running): 0.762\n",
      "Batch:  3000. Batch Size: 16. Training Loss (running): 0.514\n",
      "Loss on hold-out set: 1.5064064367294312\n",
      "Accuracy on hold-out set: 0.4559\n",
      "Epoch: 5\n",
      "Batch:  1000. Batch Size: 16. Training Loss (running): 1.515\n",
      "Batch:  2000. Batch Size: 16. Training Loss (running): 0.741\n",
      "Batch:  3000. Batch Size: 16. Training Loss (running): 0.503\n",
      "Loss on hold-out set: 1.4754031636238099\n",
      "Accuracy on hold-out set: 0.4659\n",
      "Epoch: 6\n",
      "Batch:  1000. Batch Size: 16. Training Loss (running): 1.483\n",
      "Batch:  2000. Batch Size: 16. Training Loss (running): 0.725\n",
      "Batch:  3000. Batch Size: 16. Training Loss (running): 0.493\n",
      "Loss on hold-out set: 1.4490624819755553\n",
      "Accuracy on hold-out set: 0.4758\n",
      "Epoch: 7\n",
      "Batch:  1000. Batch Size: 16. Training Loss (running): 1.456\n",
      "Batch:  2000. Batch Size: 16. Training Loss (running): 0.711\n",
      "Batch:  3000. Batch Size: 16. Training Loss (running): 0.485\n",
      "Loss on hold-out set: 1.424337624645233\n",
      "Accuracy on hold-out set: 0.484\n",
      "Epoch: 8\n",
      "Batch:  1000. Batch Size: 16. Training Loss (running): 1.433\n",
      "Batch:  2000. Batch Size: 16. Training Loss (running): 0.699\n",
      "Batch:  3000. Batch Size: 16. Training Loss (running): 0.478\n",
      "Loss on hold-out set: 1.403739463710785\n",
      "Accuracy on hold-out set: 0.4948\n",
      "Returned to Spot: Validation loss: 1.403739463710785\n",
      "----------------------------------------------\n"
     ]
    },
    {
     "data": {
      "text/plain": [
       "(1.403739463710785, nan)"
      ]
     },
     "execution_count": 34,
     "metadata": {},
     "output_type": "execute_result"
    }
   ],
   "source": [
    "evaluate_hold_out(net=model_default, dataset=trainset, shuffle=False, test_dataset=testset)"
   ]
  },
  {
   "cell_type": "code",
   "execution_count": 35,
   "metadata": {},
   "outputs": [
    {
     "name": "stdout",
     "output_type": "stream",
     "text": [
      "Additional attributes: {'lr', 'batch_size', 'epochs'}\n",
      "Removed attributes: {'lr', 'batch_size', 'epochs'}\n",
      "Epoch: 1\n",
      "Batch:  1000. Batch Size: 16. Training Loss (running): 1.389\n",
      "Batch:  2000. Batch Size: 16. Training Loss (running): 0.653\n",
      "Batch:  3000. Batch Size: 16. Training Loss (running): 0.428\n",
      "Loss on hold-out set: 1.1986869143486023\n",
      "Accuracy on hold-out set: 0.5706\n",
      "Epoch: 2\n",
      "Batch:  1000. Batch Size: 16. Training Loss (running): 1.197\n",
      "Batch:  2000. Batch Size: 16. Training Loss (running): 0.573\n",
      "Batch:  3000. Batch Size: 16. Training Loss (running): 0.379\n",
      "Loss on hold-out set: 1.105046222257614\n",
      "Accuracy on hold-out set: 0.6056\n",
      "Epoch: 3\n",
      "Batch:  1000. Batch Size: 16. Training Loss (running): 1.072\n",
      "Batch:  2000. Batch Size: 16. Training Loss (running): 0.518\n",
      "Batch:  3000. Batch Size: 16. Training Loss (running): 0.342\n",
      "Loss on hold-out set: 1.0653665244579316\n",
      "Accuracy on hold-out set: 0.6262\n",
      "Epoch: 4\n",
      "Batch:  1000. Batch Size: 16. Training Loss (running): 0.971\n",
      "Batch:  2000. Batch Size: 16. Training Loss (running): 0.468\n",
      "Batch:  3000. Batch Size: 16. Training Loss (running): 0.308\n",
      "Loss on hold-out set: 1.0624482007503508\n",
      "Accuracy on hold-out set: 0.6323\n",
      "Epoch: 5\n",
      "Batch:  1000. Batch Size: 16. Training Loss (running): 0.875\n",
      "Batch:  2000. Batch Size: 16. Training Loss (running): 0.422\n",
      "Batch:  3000. Batch Size: 16. Training Loss (running): 0.276\n",
      "Loss on hold-out set: 1.097171301317215\n",
      "Accuracy on hold-out set: 0.6359\n",
      "Epoch: 6\n",
      "Batch:  1000. Batch Size: 16. Training Loss (running): 0.780\n",
      "Batch:  2000. Batch Size: 16. Training Loss (running): 0.377\n",
      "Batch:  3000. Batch Size: 16. Training Loss (running): 0.244\n",
      "Loss on hold-out set: 1.1404737978935242\n",
      "Accuracy on hold-out set: 0.6344\n",
      "Epoch: 7\n",
      "Batch:  1000. Batch Size: 16. Training Loss (running): 0.690\n",
      "Batch:  2000. Batch Size: 16. Training Loss (running): 0.332\n",
      "Batch:  3000. Batch Size: 16. Training Loss (running): 0.211\n",
      "Loss on hold-out set: 1.228148742723465\n",
      "Accuracy on hold-out set: 0.6315\n",
      "Epoch: 8\n",
      "Batch:  1000. Batch Size: 16. Training Loss (running): 0.601\n",
      "Batch:  2000. Batch Size: 16. Training Loss (running): 0.288\n",
      "Batch:  3000. Batch Size: 16. Training Loss (running): 0.181\n",
      "Loss on hold-out set: 1.3419267430305482\n",
      "Accuracy on hold-out set: 0.6258\n",
      "Returned to Spot: Validation loss: 1.3419267430305482\n",
      "----------------------------------------------\n"
     ]
    },
    {
     "data": {
      "text/plain": [
       "(1.3419267430305482, nan)"
      ]
     },
     "execution_count": 35,
     "metadata": {},
     "output_type": "execute_result"
    }
   ],
   "source": [
    "evaluate_hold_out(net=model_spot, dataset=trainset, shuffle=False, test_dataset=testset)"
   ]
  },
  {
   "attachments": {},
   "cell_type": "markdown",
   "metadata": {},
   "source": [
    "## Detailed Hyperparameter Plots"
   ]
  },
  {
   "attachments": {},
   "cell_type": "markdown",
   "metadata": {},
   "source": [
    "* For productive use, you might want to select:\n",
    "  * `min_z=min(spot_tuner.y)` and\n",
    "  * `max_z = max(spot_tuner.y)`\n",
    "* These settings are not so colorful as visualizations that use `None` for the ranges, but give better insights."
   ]
  },
  {
   "cell_type": "code",
   "execution_count": 36,
   "metadata": {},
   "outputs": [
    {
     "name": "stdout",
     "output_type": "stream",
     "text": [
      "l2:  0.08198171999129575\n",
      "epochs:  100.0\n"
     ]
    },
    {
     "data": {
      "image/png": "[encoded data removed]",
      "text/plain": [
       "<Figure size 900x600 with 3 Axes>"
      ]
     },
     "metadata": {},
     "output_type": "display_data"
    }
   ],
   "source": [
    "threshold = 0.025\n",
    "impo = spot_tuner.print_importance(threshold=threshold, print_screen=True)\n",
    "var_plots = [i for i, x in enumerate(impo) if x[1] > threshold]\n",
    "min_z = min(spot_tuner.y)\n",
    "max_z = max(spot_tuner.y)\n",
    "n = spot_tuner.k\n",
    "for i in var_plots:\n",
    "    for j in var_plots:\n",
    "        if j > i:\n",
    "            filename = \"../Figures.d/\" + experiment_name+\"_contour_\"+str(i)+\"_\"+str(j)+\".pdf\"\n",
    "            spot_tuner.plot_contour(i=i, j=j, min_z=min_z, max_z = max_z, filename=filename)"
   ]
  },
  {
   "attachments": {},
   "cell_type": "markdown",
   "metadata": {},
   "source": [
    "## Parallel Coordinates Plot"
   ]
  },
  {
   "cell_type": "code",
   "execution_count": 37,
   "metadata": {},
   "outputs": [
    {
     "data": {
      "application/vnd.plotly.v1+json": {
       "config": {
        "plotlyServerURL": "https://plot.ly"
       },
       "data": [
        {
         "dimensions": [
          {
           "label": "l1",
           "range": [
            3,
            9
           ],
           "values": [
            7,
            4,
            8,
            3,
            6,
            9
           ]
          },
          {
           "label": "l2",
           "range": [
            3,
            9
           ],
           "values": [
            3,
            4,
            7,
            5,
            9,
            9
           ]
          },
          {
           "label": "lr",
           "range": [
            0.00036116529099737224,
            0.01
           ],
           "values": [
            0.009559720974200322,
            0.005451404353201381,
            0.00036116529099737224,
            0.0035426474391643753,
            0.007007417640941408,
            0.01
           ]
          },
          {
           "label": "batch_size",
           "range": [
            1,
            4
           ],
           "values": [
            3,
            1,
            3,
            2,
            4,
            4
           ]
          },
          {
           "label": "epochs",
           "range": [
            3,
            4
           ],
           "values": [
            3,
            4,
            4,
            3,
            3,
            3
           ]
          }
         ],
         "line": {
          "cmax": 1.529802003145218,
          "cmin": 1.1681457759618759,
          "color": [
           1.3375477729842067,
           1.4878966762268866,
           1.529802003145218,
           1.2840431863600388,
           1.1709545459032058,
           1.1681457759618759
          ],
          "colorscale": [
           [
            0,
            "rgb(0,0,131)"
           ],
           [
            0.2,
            "rgb(0,60,170)"
           ],
           [
            0.4,
            "rgb(5,255,255)"
           ],
           [
            0.6,
            "rgb(255,255,0)"
           ],
           [
            0.8,
            "rgb(250,0,0)"
           ],
           [
            1,
            "rgb(128,0,0)"
           ]
          ],
          "showscale": true
         },
         "type": "parcoords"
        }
       ],
       "layout": {
        "template": {
         "data": {
          "bar": [
           {
            "error_x": {
             "color": "#2a3f5f"
            },
            "error_y": {
             "color": "#2a3f5f"
            },
            "marker": {
             "line": {
              "color": "#E5ECF6",
              "width": 0.5
             },
             "pattern": {
              "fillmode": "overlay",
              "size": 10,
              "solidity": 0.2
             }
            },
            "type": "bar"
           }
          ],
          "barpolar": [
           {
            "marker": {
             "line": {
              "color": "#E5ECF6",
              "width": 0.5
             },
             "pattern": {
              "fillmode": "overlay",
              "size": 10,
              "solidity": 0.2
             }
            },
            "type": "barpolar"
           }
          ],
          "carpet": [
           {
            "aaxis": {
             "endlinecolor": "#2a3f5f",
             "gridcolor": "white",
             "linecolor": "white",
             "minorgridcolor": "white",
             "startlinecolor": "#2a3f5f"
            },
            "baxis": {
             "endlinecolor": "#2a3f5f",
             "gridcolor": "white",
             "linecolor": "white",
             "minorgridcolor": "white",
             "startlinecolor": "#2a3f5f"
            },
            "type": "carpet"
           }
          ],
          "choropleth": [
           {
            "colorbar": {
             "outlinewidth": 0,
             "ticks": ""
            },
            "type": "choropleth"
           }
          ],
          "contour": [
           {
            "colorbar": {
             "outlinewidth": 0,
             "ticks": ""
            },
            "colorscale": [
             [
              0,
              "#0d0887"
             ],
             [
              0.1111111111111111,
              "#46039f"
             ],
             [
              0.2222222222222222,
              "#7201a8"
             ],
             [
              0.3333333333333333,
              "#9c179e"
             ],
             [
              0.4444444444444444,
              "#bd3786"
             ],
             [
              0.5555555555555556,
              "#d8576b"
             ],
             [
              0.6666666666666666,
              "#ed7953"
             ],
             [
              0.7777777777777778,
              "#fb9f3a"
             ],
             [
              0.8888888888888888,
              "#fdca26"
             ],
             [
              1,
              "#f0f921"
             ]
            ],
            "type": "contour"
           }
          ],
          "contourcarpet": [
           {
            "colorbar": {
             "outlinewidth": 0,
             "ticks": ""
            },
            "type": "contourcarpet"
           }
          ],
          "heatmap": [
           {
            "colorbar": {
             "outlinewidth": 0,
             "ticks": ""
            },
            "colorscale": [
             [
              0,
              "#0d0887"
             ],
             [
              0.1111111111111111,
              "#46039f"
             ],
             [
              0.2222222222222222,
              "#7201a8"
             ],
             [
              0.3333333333333333,
              "#9c179e"
             ],
             [
              0.4444444444444444,
              "#bd3786"
             ],
             [
              0.5555555555555556,
              "#d8576b"
             ],
             [
              0.6666666666666666,
              "#ed7953"
             ],
             [
              0.7777777777777778,
              "#fb9f3a"
             ],
             [
              0.8888888888888888,
              "#fdca26"
             ],
             [
              1,
              "#f0f921"
             ]
            ],
            "type": "heatmap"
           }
          ],
          "heatmapgl": [
           {
            "colorbar": {
             "outlinewidth": 0,
             "ticks": ""
            },
            "colorscale": [
             [
              0,
              "#0d0887"
             ],
             [
              0.1111111111111111,
              "#46039f"
             ],
             [
              0.2222222222222222,
              "#7201a8"
             ],
             [
              0.3333333333333333,
              "#9c179e"
             ],
             [
              0.4444444444444444,
              "#bd3786"
             ],
             [
              0.5555555555555556,
              "#d8576b"
             ],
             [
              0.6666666666666666,
              "#ed7953"
             ],
             [
              0.7777777777777778,
              "#fb9f3a"
             ],
             [
              0.8888888888888888,
              "#fdca26"
             ],
             [
              1,
              "#f0f921"
             ]
            ],
            "type": "heatmapgl"
           }
          ],
          "histogram": [
           {
            "marker": {
             "pattern": {
              "fillmode": "overlay",
              "size": 10,
              "solidity": 0.2
             }
            },
            "type": "histogram"
           }
          ],
          "histogram2d": [
           {
            "colorbar": {
             "outlinewidth": 0,
             "ticks": ""
            },
            "colorscale": [
             [
              0,
              "#0d0887"
             ],
             [
              0.1111111111111111,
              "#46039f"
             ],
             [
              0.2222222222222222,
              "#7201a8"
             ],
             [
              0.3333333333333333,
              "#9c179e"
             ],
             [
              0.4444444444444444,
              "#bd3786"
             ],
             [
              0.5555555555555556,
              "#d8576b"
             ],
             [
              0.6666666666666666,
              "#ed7953"
             ],
             [
              0.7777777777777778,
              "#fb9f3a"
             ],
             [
              0.8888888888888888,
              "#fdca26"
             ],
             [
              1,
              "#f0f921"
             ]
            ],
            "type": "histogram2d"
           }
          ],
          "histogram2dcontour": [
           {
            "colorbar": {
             "outlinewidth": 0,
             "ticks": ""
            },
            "colorscale": [
             [
              0,
              "#0d0887"
             ],
             [
              0.1111111111111111,
              "#46039f"
             ],
             [
              0.2222222222222222,
              "#7201a8"
             ],
             [
              0.3333333333333333,
              "#9c179e"
             ],
             [
              0.4444444444444444,
              "#bd3786"
             ],
             [
              0.5555555555555556,
              "#d8576b"
             ],
             [
              0.6666666666666666,
              "#ed7953"
             ],
             [
              0.7777777777777778,
              "#fb9f3a"
             ],
             [
              0.8888888888888888,
              "#fdca26"
             ],
             [
              1,
              "#f0f921"
             ]
            ],
            "type": "histogram2dcontour"
           }
          ],
          "mesh3d": [
           {
            "colorbar": {
             "outlinewidth": 0,
             "ticks": ""
            },
            "type": "mesh3d"
           }
          ],
          "parcoords": [
           {
            "line": {
             "colorbar": {
              "outlinewidth": 0,
              "ticks": ""
             }
            },
            "type": "parcoords"
           }
          ],
          "pie": [
           {
            "automargin": true,
            "type": "pie"
           }
          ],
          "scatter": [
           {
            "fillpattern": {
             "fillmode": "overlay",
             "size": 10,
             "solidity": 0.2
            },
            "type": "scatter"
           }
          ],
          "scatter3d": [
           {
            "line": {
             "colorbar": {
              "outlinewidth": 0,
              "ticks": ""
             }
            },
            "marker": {
             "colorbar": {
              "outlinewidth": 0,
              "ticks": ""
             }
            },
            "type": "scatter3d"
           }
          ],
          "scattercarpet": [
           {
            "marker": {
             "colorbar": {
              "outlinewidth": 0,
              "ticks": ""
             }
            },
            "type": "scattercarpet"
           }
          ],
          "scattergeo": [
           {
            "marker": {
             "colorbar": {
              "outlinewidth": 0,
              "ticks": ""
             }
            },
            "type": "scattergeo"
           }
          ],
          "scattergl": [
           {
            "marker": {
             "colorbar": {
              "outlinewidth": 0,
              "ticks": ""
             }
            },
            "type": "scattergl"
           }
          ],
          "scattermapbox": [
           {
            "marker": {
             "colorbar": {
              "outlinewidth": 0,
              "ticks": ""
             }
            },
            "type": "scattermapbox"
           }
          ],
          "scatterpolar": [
           {
            "marker": {
             "colorbar": {
              "outlinewidth": 0,
              "ticks": ""
             }
            },
            "type": "scatterpolar"
           }
          ],
          "scatterpolargl": [
           {
            "marker": {
             "colorbar": {
              "outlinewidth": 0,
              "ticks": ""
             }
            },
            "type": "scatterpolargl"
           }
          ],
          "scatterternary": [
           {
            "marker": {
             "colorbar": {
              "outlinewidth": 0,
              "ticks": ""
             }
            },
            "type": "scatterternary"
           }
          ],
          "surface": [
           {
            "colorbar": {
             "outlinewidth": 0,
             "ticks": ""
            },
            "colorscale": [
             [
              0,
              "#0d0887"
             ],
             [
              0.1111111111111111,
              "#46039f"
             ],
             [
              0.2222222222222222,
              "#7201a8"
             ],
             [
              0.3333333333333333,
              "#9c179e"
             ],
             [
              0.4444444444444444,
              "#bd3786"
             ],
             [
              0.5555555555555556,
              "#d8576b"
             ],
             [
              0.6666666666666666,
              "#ed7953"
             ],
             [
              0.7777777777777778,
              "#fb9f3a"
             ],
             [
              0.8888888888888888,
              "#fdca26"
             ],
             [
              1,
              "#f0f921"
             ]
            ],
            "type": "surface"
           }
          ],
          "table": [
           {
            "cells": {
             "fill": {
              "color": "#EBF0F8"
             },
             "line": {
              "color": "white"
             }
            },
            "header": {
             "fill": {
              "color": "#C8D4E3"
             },
             "line": {
              "color": "white"
             }
            },
            "type": "table"
           }
          ]
         },
         "layout": {
          "annotationdefaults": {
           "arrowcolor": "#2a3f5f",
           "arrowhead": 0,
           "arrowwidth": 1
          },
          "autotypenumbers": "strict",
          "coloraxis": {
           "colorbar": {
            "outlinewidth": 0,
            "ticks": ""
           }
          },
          "colorscale": {
           "diverging": [
            [
             0,
             "#8e0152"
            ],
            [
             0.1,
             "#c51b7d"
            ],
            [
             0.2,
             "#de77ae"
            ],
            [
             0.3,
             "#f1b6da"
            ],
            [
             0.4,
             "#fde0ef"
            ],
            [
             0.5,
             "#f7f7f7"
            ],
            [
             0.6,
             "#e6f5d0"
            ],
            [
             0.7,
             "#b8e186"
            ],
            [
             0.8,
             "#7fbc41"
            ],
            [
             0.9,
             "#4d9221"
            ],
            [
             1,
             "#276419"
            ]
           ],
           "sequential": [
            [
             0,
             "#0d0887"
            ],
            [
             0.1111111111111111,
             "#46039f"
            ],
            [
             0.2222222222222222,
             "#7201a8"
            ],
            [
             0.3333333333333333,
             "#9c179e"
            ],
            [
             0.4444444444444444,
             "#bd3786"
            ],
            [
             0.5555555555555556,
             "#d8576b"
            ],
            [
             0.6666666666666666,
             "#ed7953"
            ],
            [
             0.7777777777777778,
             "#fb9f3a"
            ],
            [
             0.8888888888888888,
             "#fdca26"
            ],
            [
             1,
             "#f0f921"
            ]
           ],
           "sequentialminus": [
            [
             0,
             "#0d0887"
            ],
            [
             0.1111111111111111,
             "#46039f"
            ],
            [
             0.2222222222222222,
             "#7201a8"
            ],
            [
             0.3333333333333333,
             "#9c179e"
            ],
            [
             0.4444444444444444,
             "#bd3786"
            ],
            [
             0.5555555555555556,
             "#d8576b"
            ],
            [
             0.6666666666666666,
             "#ed7953"
            ],
            [
             0.7777777777777778,
             "#fb9f3a"
            ],
            [
             0.8888888888888888,
             "#fdca26"
            ],
            [
             1,
             "#f0f921"
            ]
           ]
          },
          "colorway": [
           "#636efa",
           "#EF553B",
           "#00cc96",
           "#ab63fa",
           "#FFA15A",
           "#19d3f3",
           "#FF6692",
           "#B6E880",
           "#FF97FF",
           "#FECB52"
          ],
          "font": {
           "color": "#2a3f5f"
          },
          "geo": {
           "bgcolor": "white",
           "lakecolor": "white",
           "landcolor": "#E5ECF6",
           "showlakes": true,
           "showland": true,
           "subunitcolor": "white"
          },
          "hoverlabel": {
           "align": "left"
          },
          "hovermode": "closest",
          "mapbox": {
           "style": "light"
          },
          "paper_bgcolor": "white",
          "plot_bgcolor": "#E5ECF6",
          "polar": {
           "angularaxis": {
            "gridcolor": "white",
            "linecolor": "white",
            "ticks": ""
           },
           "bgcolor": "#E5ECF6",
           "radialaxis": {
            "gridcolor": "white",
            "linecolor": "white",
            "ticks": ""
           }
          },
          "scene": {
           "xaxis": {
            "backgroundcolor": "#E5ECF6",
            "gridcolor": "white",
            "gridwidth": 2,
            "linecolor": "white",
            "showbackground": true,
            "ticks": "",
            "zerolinecolor": "white"
           },
           "yaxis": {
            "backgroundcolor": "#E5ECF6",
            "gridcolor": "white",
            "gridwidth": 2,
            "linecolor": "white",
            "showbackground": true,
            "ticks": "",
            "zerolinecolor": "white"
           },
           "zaxis": {
            "backgroundcolor": "#E5ECF6",
            "gridcolor": "white",
            "gridwidth": 2,
            "linecolor": "white",
            "showbackground": true,
            "ticks": "",
            "zerolinecolor": "white"
           }
          },
          "shapedefaults": {
           "line": {
            "color": "#2a3f5f"
           }
          },
          "ternary": {
           "aaxis": {
            "gridcolor": "white",
            "linecolor": "white",
            "ticks": ""
           },
           "baxis": {
            "gridcolor": "white",
            "linecolor": "white",
            "ticks": ""
           },
           "bgcolor": "#E5ECF6",
           "caxis": {
            "gridcolor": "white",
            "linecolor": "white",
            "ticks": ""
           }
          },
          "title": {
           "x": 0.05
          },
          "xaxis": {
           "automargin": true,
           "gridcolor": "white",
           "linecolor": "white",
           "ticks": "",
           "title": {
            "standoff": 15
           },
           "zerolinecolor": "white",
           "zerolinewidth": 2
          },
          "yaxis": {
           "automargin": true,
           "gridcolor": "white",
           "linecolor": "white",
           "ticks": "",
           "title": {
            "standoff": 15
           },
           "zerolinecolor": "white",
           "zerolinewidth": 2
          }
         }
        }
       }
      }
     },
     "metadata": {},
     "output_type": "display_data"
    }
   ],
   "source": [
    "spot_tuner.parallel_plot()"
   ]
  },
  {
   "attachments": {},
   "cell_type": "markdown",
   "metadata": {},
   "source": [
    "## Plot all Combinations of Hyperparameters\n",
    "\n",
    "* Warning: this may take a while."
   ]
  },
  {
   "cell_type": "code",
   "execution_count": 38,
   "metadata": {},
   "outputs": [],
   "source": [
    "PLOT_ALL = False\n",
    "if PLOT_ALL:\n",
    "    n = spot_tuner.k\n",
    "    for i in range(n-1):\n",
    "        for j in range(i+1, n):\n",
    "            spot_tuner.plot_contour(i=i, j=j, min_z=min_z, max_z = max_z)"
   ]
  },
  {
   "cell_type": "code",
   "execution_count": null,
   "metadata": {},
   "outputs": [],
   "source": []
  }
 ],
 "metadata": {
  "kernelspec": {
   "display_name": "spotCondaEnv",
   "language": "python",
   "name": "python3"
  },
  "language_info": {
   "codemirror_mode": {
    "name": "ipython",
    "version": 3
   },
   "file_extension": ".py",
   "mimetype": "text/x-python",
   "name": "python",
   "nbconvert_exporter": "python",
   "pygments_lexer": "ipython3",
   "version": "3.10.10"
  },
  "vscode": {
   "interpreter": {
    "hash": "81c77de872def749acd68d9955e19f0df6803301f4c1f66c3444af66334112ae"
   }
  }
 },
 "nbformat": 4,
 "nbformat_minor": 4
}
