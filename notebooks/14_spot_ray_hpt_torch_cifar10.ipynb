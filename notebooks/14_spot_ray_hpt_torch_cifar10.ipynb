{
  "cells": [
    {
      "cell_type": "raw",
      "metadata": {},
      "source": [
        "---\n",
        "execute:\n",
        "  cache: false\n",
        "  eval: true\n",
        "  echo: true\n",
        "  warning: false\n",
        "---"
      ]
    },
    {
      "cell_type": "markdown",
      "metadata": {},
      "source": [
        "# Hyperparameter Tuning for PyTorch With `spotPython` {#sec-hyperparameter-tuning-for-pytorch-14}\n",
        "\n",
        "In this tutorial, we will show how `spotPython` can be integrated into the `PyTorch`\n",
        "training workflow. It is based on the tutorial \"Hyperparameter Tuning with Ray Tune\" from the `PyTorch` documentation [@pyto23a], which is an extension of the tutorial \"Training a Classifier\" [@pyto23b] for training a CIFAR10 image classifier.\n",
        "\n",
        "This document refers to the following software versions:\n",
        "\n",
        "- ``python``: 3.10.10\n",
        "- ``torch``: 2.0.1\n",
        "- ``torchvision``: 0.15.0"
      ]
    },
    {
      "cell_type": "code",
      "execution_count": null,
      "metadata": {},
      "outputs": [],
      "source": [
        "pip list | grep  \"spot[RiverPython]\""
      ]
    },
    {
      "cell_type": "markdown",
      "metadata": {},
      "source": [
        "`spotPython` can be installed via pip^[Alternatively, the source code can be downloaded from gitHub: [https://github.com/sequential-parameter-optimization/spotPython](https://github.com/sequential-parameter-optimization/spotPython).].\n",
        "\n",
        "```{raw}\n",
        "!pip install spotPython\n",
        "```\n",
        "\n",
        "* Uncomment the following lines if you want to for (re-)installation the latest version of `spotPython` from gitHub."
      ]
    },
    {
      "cell_type": "code",
      "execution_count": null,
      "metadata": {},
      "outputs": [],
      "source": [
        "# import sys\n",
        "# !{sys.executable} -m pip install --upgrade build\n",
        "# !{sys.executable} -m pip install --upgrade --force-reinstall spotPython"
      ]
    },
    {
      "cell_type": "markdown",
      "metadata": {},
      "source": [
        "Results that refer to the `Ray Tune` package are taken from [https://PyTorch.org/tutorials/beginner/hyperparameter_tuning_tutorial.html](https://PyTorch.org/tutorials/beginner/hyperparameter_tuning_tutorial.html)^[We were not able to install `Ray Tune` on our system. Therefore, we used the results from the `PyTorch` tutorial.].\n",
        "\n",
        "## Setup {#sec-setup-14}\n",
        "\n",
        "Before we consider the detailed experimental setup, we select the parameters that affect run time, initial design size and the device that is used."
      ]
    },
    {
      "cell_type": "code",
      "execution_count": null,
      "metadata": {},
      "outputs": [],
      "source": [
        "MAX_TIME = 30\n",
        "INIT_SIZE = 10\n",
        "DEVICE = \"cpu\" # \"cuda:0\""
      ]
    },
    {
      "cell_type": "code",
      "execution_count": null,
      "metadata": {},
      "outputs": [],
      "source": [
        "from spotPython.utils.device import getDevice\n",
        "DEVICE = getDevice(DEVICE)\n",
        "print(DEVICE)"
      ]
    },
    {
      "cell_type": "code",
      "execution_count": null,
      "metadata": {},
      "outputs": [],
      "source": [
        "import os\n",
        "import copy\n",
        "import socket\n",
        "import warnings\n",
        "from datetime import datetime\n",
        "from dateutil.tz import tzlocal\n",
        "start_time = datetime.now(tzlocal())\n",
        "HOSTNAME = socket.gethostname().split(\".\")[0]\n",
        "experiment_name = '14-torch' + \"_\" + HOSTNAME + \"_\" + str(MAX_TIME) + \"min_\" + str(INIT_SIZE) + \"init_\" + str(start_time).split(\".\", 1)[0].replace(' ', '_')\n",
        "experiment_name = experiment_name.replace(':', '-')\n",
        "print(experiment_name)\n",
        "if not os.path.exists('./figures'):\n",
        "    os.makedirs('./figures')\n",
        "warnings.filterwarnings(\"ignore\")"
      ]
    },
    {
      "cell_type": "markdown",
      "metadata": {},
      "source": [
        "## Initialization of the `fun_control` Dictionary {#sec-initialization-fun-control-14}\n",
        "\n",
        "`spotPython` uses a Python dictionary for storing the information required for the hyperparameter tuning process. This dictionary is called `fun_control` and is initialized with the function `fun_control_init`. The function `fun_control_init` returns a skeleton  dictionary. The dictionary is filled with the required information for the hyperparameter tuning process. It stores the hyperparameter tuning settings, e.g., the deep learning network architecture that should be tuned, the classification (or regression) problem, and the data that is used for the tuning.\n",
        "The dictionary is used as an input for the SPOT function.\n"
      ]
    },
    {
      "cell_type": "code",
      "execution_count": null,
      "metadata": {},
      "outputs": [],
      "source": [
        "from spotPython.utils.init import fun_control_init\n",
        "fun_control = fun_control_init(task=\"classification\",\n",
        "    tensorboard_path=\"runs/14_spot_ray_hpt_torch_cifar10\",\n",
        "    device=DEVICE,)"
      ]
    },
    {
      "cell_type": "markdown",
      "metadata": {},
      "source": [
        "## PyTorch Data Loading {#sec-data-loading-14}\n",
        "\n",
        "The data loading process is implemented in the same manner as described in the Section \"Data loaders\" in @pyto23a.\n",
        "The data loaders are wrapped into the function `load_data_cifar10` which is identical to the function `load_data` in @pyto23a. A global data directory is used, which allows sharing the data directory between different trials.\n",
        "The method `load_data_cifar10` is part of the `spotPython` package and can be imported from `spotPython.data.torchdata`.\n",
        "\n",
        "In the following step, the test and train data are added to the dictionary `fun_control`."
      ]
    },
    {
      "cell_type": "code",
      "execution_count": null,
      "metadata": {},
      "outputs": [],
      "source": [
        "from spotPython.data.torchdata import load_data_cifar10\n",
        "train, test = load_data_cifar10()\n",
        "n_samples = len(train)\n",
        "# add the dataset to the fun_control\n",
        "fun_control.update({\n",
        "    \"train\": train,\n",
        "    \"test\": test,\n",
        "    \"n_samples\": n_samples})"
      ]
    },
    {
      "cell_type": "markdown",
      "metadata": {},
      "source": [
        "## The Model (Algorithm) to be Tuned {#sec-the-model-to-be-tuned-14}\n",
        "\n",
        "### Specification of the Preprocessing Model {#sec-specification-of-preprocessing-model-14}\n",
        "\n",
        "After the training and test data are specified and added to the `fun_control` dictionary, `spotPython` allows the specification of a data preprocessing pipeline, e.g., for the scaling of the data or for the one-hot encoding of categorical variables. The preprocessing model is called `prep_model` (\"preparation\" or pre-processing) and includes steps that are not subject to the hyperparameter tuning process. The preprocessing model is specified in the `fun_control` dictionary. The preprocessing model can be implemented as a `sklearn` pipeline. The following code shows a typical preprocessing pipeline:\n",
        "\n",
        "```{raw}\n",
        "categorical_columns = [\"cities\", \"colors\"]\n",
        "one_hot_encoder = OneHotEncoder(handle_unknown=\"ignore\",\n",
        "                                    sparse_output=False)\n",
        "prep_model = ColumnTransformer(\n",
        "        transformers=[\n",
        "             (\"categorical\", one_hot_encoder, categorical_columns),\n",
        "         ],\n",
        "         remainder=StandardScaler(),\n",
        "     )\n",
        "```\n",
        "\n",
        "Because the Ray Tune (`ray[tune]`) hyperparameter tuning as described in @pyto23a does not use a preprocessing model, the preprocessing model is set to `None` here."
      ]
    },
    {
      "cell_type": "code",
      "execution_count": null,
      "metadata": {},
      "outputs": [],
      "source": [
        "prep_model = None\n",
        "fun_control.update({\"prep_model\": prep_model})"
      ]
    },
    {
      "attachments": {},
      "cell_type": "markdown",
      "metadata": {},
      "source": [
        "### Select `algorithm` and `core_model_hyper_dict` {#sec-selection-of-the-algorithm}\n",
        "\n",
        "The same neural network model as implemented in the section \"Configurable neural network\" of the `PyTorch` tutorial [@pyto23a] is used here.\n",
        "We will show the implementation from @pyto23a in @sec-implementation-with-raytune first, before the extended implementation with `spotPython` is shown in @sec-implementation-with-spotpython-14.\n",
        "\n",
        "\n",
        "#### Implementing a Configurable Neural Network With Ray Tune{#sec-implementation-with-raytune}\n",
        "\n",
        "We used the same hyperparameters that are implemented as configurable in the `PyTorch` tutorial. We specify the layer sizes, namely `l1` and `l2`, of the fully connected layers:\n",
        "\n",
        "```{raw}\n",
        "class Net(nn.Module):\n",
        "    def __init__(self, l1=120, l2=84):\n",
        "        super(Net, self).__init__()\n",
        "        self.conv1 = nn.Conv2d(3, 6, 5)\n",
        "        self.pool = nn.MaxPool2d(2, 2)\n",
        "        self.conv2 = nn.Conv2d(6, 16, 5)\n",
        "        self.fc1 = nn.Linear(16 * 5 * 5, l1)\n",
        "        self.fc2 = nn.Linear(l1, l2)\n",
        "        self.fc3 = nn.Linear(l2, 10)\n",
        "\n",
        "    def forward(self, x):\n",
        "        x = self.pool(F.relu(self.conv1(x)))\n",
        "        x = self.pool(F.relu(self.conv2(x)))\n",
        "        x = x.view(-1, 16 * 5 * 5)\n",
        "        x = F.relu(self.fc1(x))\n",
        "        x = F.relu(self.fc2(x))\n",
        "        x = self.fc3(x)\n",
        "        return x\n",
        "\n",
        "```\n",
        "\n",
        "The learning rate, i.e., `lr`,  of the optimizer is made configurable, too:\n",
        "\n",
        "```{raw}\n",
        "optimizer = optim.SGD(net.parameters(), lr=config[\"lr\"], momentum=0.9)\n",
        "```\n",
        "\n",
        "#### Implementing a Configurable Neural Network With spotPython {#sec-implementation-with-spotpython-14}\n",
        "\n",
        "`spotPython` implements a class which is similar to the class described in the `PyTorch` tutorial. The class is called `Net_CIFAR10` and is implemented in the file `netcifar10.py`.\n",
        "\n",
        "```{raw}\n",
        "from torch import nn\n",
        "import torch.nn.functional as F\n",
        "import spotPython.torch.netcore as netcore\n",
        "\n",
        "\n",
        "class Net_CIFAR10(netcore.Net_Core):\n",
        "    def __init__(self, l1, l2, lr_mult, batch_size, epochs, k_folds, patience,\n",
        "    optimizer, sgd_momentum):\n",
        "        super(Net_CIFAR10, self).__init__(\n",
        "            lr_mult=lr_mult,\n",
        "            batch_size=batch_size,\n",
        "            epochs=epochs,\n",
        "            k_folds=k_folds,\n",
        "            patience=patience,\n",
        "            optimizer=optimizer,\n",
        "            sgd_momentum=sgd_momentum,\n",
        "        )\n",
        "        self.conv1 = nn.Conv2d(3, 6, 5)\n",
        "        self.pool = nn.MaxPool2d(2, 2)\n",
        "        self.conv2 = nn.Conv2d(6, 16, 5)\n",
        "        self.fc1 = nn.Linear(16 * 5 * 5, l1)\n",
        "        self.fc2 = nn.Linear(l1, l2)\n",
        "        self.fc3 = nn.Linear(l2, 10)\n",
        "\n",
        "    def forward(self, x):\n",
        "        x = self.pool(F.relu(self.conv1(x)))\n",
        "        x = self.pool(F.relu(self.conv2(x)))\n",
        "        x = x.view(-1, 16 * 5 * 5)\n",
        "        x = F.relu(self.fc1(x))\n",
        "        x = F.relu(self.fc2(x))\n",
        "        x = self.fc3(x)\n",
        "        return x\n",
        "```\n",
        "\n",
        "### The `Net_Core` class {#sec-the-netcore-class-14}\n",
        "\n",
        "`Net_CIFAR10` inherits from the class `Net_Core` which is implemented in the file `netcore.py`.  It implements the additional attributes that are common to all neural network models. The `Net_Core` class is implemented in the file `netcore.py`. It implements hyperparameters as attributes, that are not used by the `core_model`, e.g.:\n",
        "\n",
        "* optimizer (`optimizer`),\n",
        "* learning rate (`lr`),\n",
        "* batch size (`batch_size`),\n",
        "* epochs (`epochs`),\n",
        "* k_folds (`k_folds`), and\n",
        "* early stopping criterion \"patience\" (`patience`).\n",
        "\n",
        "Users can add further attributes to the class. The class `Net_Core` is shown below.\n",
        "\n",
        "```{raw}\n",
        "from torch import nn\n",
        "\n",
        "\n",
        "class Net_Core(nn.Module):\n",
        "    def __init__(self, lr_mult, batch_size, epochs, k_folds, patience,\n",
        "        optimizer, sgd_momentum):\n",
        "        super(Net_Core, self).__init__()\n",
        "        self.lr_mult = lr_mult\n",
        "        self.batch_size = batch_size\n",
        "        self.epochs = epochs\n",
        "        self.k_folds = k_folds\n",
        "        self.patience = patience\n",
        "        self.optimizer = optimizer\n",
        "        self.sgd_momentum = sgd_momentum\n",
        "```\n",
        "\n",
        "\n",
        "### Comparison of the Approach Described in the PyTorch Tutorial With spotPython {#sec-comparison}\n",
        "\n",
        "Comparing the class `Net` from the `PyTorch` tutorial and the class `Net_CIFAR10` from `spotPython`, we see that the class `Net_CIFAR10` has additional attributes and does not inherit from `nn` directly. It adds an additional class, `Net_core`, that takes care of additional attributes that are common to all neural network models, e.g., the learning rate multiplier `lr_mult` or the batch size `batch_size`.\n",
        "\n",
        "`spotPython`'s `core_model` implements an instance of the `Net_CIFAR10` class. In addition to the basic neural network model, the `core_model` can use these additional attributes.\n",
        "`spotPython` provides methods for handling these additional attributes to guarantee 100% compatibility with the `PyTorch` classes. The method `add_core_model_to_fun_control` adds the hyperparameters and additional attributes to the `fun_control` dictionary. The method is shown below."
      ]
    },
    {
      "cell_type": "code",
      "execution_count": null,
      "metadata": {},
      "outputs": [],
      "source": [
        "from spotPython.torch.netcifar10 import Net_CIFAR10\n",
        "from spotPython.data.torch_hyper_dict import TorchHyperDict\n",
        "from spotPython.hyperparameters.values import add_core_model_to_fun_control\n",
        "core_model = Net_CIFAR10\n",
        "fun_control = add_core_model_to_fun_control(core_model=core_model,\n",
        "                              fun_control=fun_control,\n",
        "                              hyper_dict=TorchHyperDict,\n",
        "                              filename=None)"
      ]
    },
    {
      "cell_type": "markdown",
      "metadata": {},
      "source": [
        "## The Search Space: Hyperparameters {#sec-search-space-14}\n",
        "\n",
        "In @sec-configuring-the-search-space-with-ray-tune, we first describe how to configure the search space with `ray[tune]` (as shown in @pyto23a) \n",
        "and then how to configure the search space with `spotPython` in @sec-configuring-the-search-space-with-spotpython.\n",
        "\n",
        "### Configuring the Search Space With Ray Tune {#sec-configuring-the-search-space-with-ray-tune}\n",
        "\n",
        " Ray Tune's search space can be configured as follows [@pyto23a]:\n",
        "\n",
        "```{raw}\n",
        "config = {\n",
        "    \"l1\": tune.sample_from(lambda _: 2**np.random.randint(2, 9)),\n",
        "    \"l2\": tune.sample_from(lambda _: 2**np.random.randint(2, 9)),\n",
        "    \"lr\": tune.loguniform(1e-4, 1e-1),\n",
        "    \"batch_size\": tune.choice([2, 4, 8, 16])\n",
        "}\n",
        "```\n",
        "The ``tune.sample_from()`` function enables the user to define sample\n",
        "methods to obtain hyperparameters. In this example, the ``l1`` and ``l2`` parameters\n",
        "should be powers of 2 between 4 and 256, so either 4, 8, 16, 32, 64, 128, or 256.\n",
        "The ``lr`` (learning rate) should be uniformly sampled between 0.0001 and 0.1. Lastly,\n",
        "the batch size is a choice between 2, 4, 8, and 16.\n",
        "\n",
        "At each trial, `ray[tune]` will randomly sample a combination of parameters from these\n",
        "search spaces. It will then train a number of models in parallel and find the best\n",
        "performing one among these. `ray[tune]` uses the ``ASHAScheduler`` which will terminate bad\n",
        "performing trials early.\n",
        "\n",
        "### Configuring the Search Space With spotPython {#sec-configuring-search-space-spotpython-14}\n",
        "\n",
        "#### The `hyper_dict` Hyperparameters for the Selected Algorithm\n",
        "\n",
        "`spotPython` uses `JSON` files for the specification of the hyperparameters.\n",
        "Users can specify their individual `JSON` files, or they can use the `JSON` files provided by `spotPython`.\n",
        "The `JSON` file for the `core_model` is called `torch_hyper_dict.json`.\n",
        "\n",
        "In contrast to `ray[tune]`, `spotPython` can handle numerical, boolean, and categorical hyperparameters. They can be specified in the `JSON` file in a similar way as the numerical hyperparameters as shown below.\n",
        "Each entry in the `JSON` file represents one hyperparameter with the following structure:\n",
        "`type`, `default`, `transform`, `lower`, and `upper`.\n",
        "\n",
        "\n",
        "```json\n",
        "\"factor_hyperparameter\": {\n",
        "    \"levels\": [\"A\", \"B\", \"C\"],\n",
        "    \"type\": \"factor\",\n",
        "    \"default\": \"B\",\n",
        "    \"transform\": \"None\",\n",
        "    \"core_model_parameter_type\": \"str\",\n",
        "    \"lower\": 0,\n",
        "    \"upper\": 2},\n",
        "```\n",
        "\n",
        "The corresponding entries for the `Net_CIFAR10` class are shown below.\n",
        "\n",
        "```json\n",
        "{\"Net_CIFAR10\":\n",
        "    {\n",
        "        \"l1\": {\n",
        "            \"type\": \"int\",\n",
        "            \"default\": 5,\n",
        "            \"transform\": \"transform_power_2_int\",\n",
        "            \"lower\": 2,\n",
        "            \"upper\": 9},\n",
        "        \"l2\": {\n",
        "            \"type\": \"int\",\n",
        "            \"default\": 5,\n",
        "            \"transform\": \"transform_power_2_int\",\n",
        "            \"lower\": 2,\n",
        "            \"upper\": 9},\n",
        "        \"lr_mult\": {\n",
        "            \"type\": \"float\",\n",
        "            \"default\": 1.0,\n",
        "            \"transform\": \"None\",\n",
        "            \"lower\": 0.1,\n",
        "            \"upper\": 10},\n",
        "        \"batch_size\": {\n",
        "            \"type\": \"int\",\n",
        "            \"default\": 4,\n",
        "            \"transform\": \"transform_power_2_int\",\n",
        "            \"lower\": 1,\n",
        "            \"upper\": 4},\n",
        "        \"epochs\": {\n",
        "            \"type\": \"int\",\n",
        "            \"default\": 3,\n",
        "            \"transform\": \"transform_power_2_int\",\n",
        "            \"lower\": 1,\n",
        "            \"upper\": 4},\n",
        "        \"k_folds\": {\n",
        "            \"type\": \"int\",\n",
        "            \"default\": 2,\n",
        "            \"transform\": \"None\",\n",
        "            \"lower\": 2,\n",
        "            \"upper\": 3},\n",
        "        \"patience\": {\n",
        "            \"type\": \"int\",\n",
        "            \"default\": 5,\n",
        "            \"transform\": \"None\",\n",
        "            \"lower\": 2,\n",
        "            \"upper\": 10},\n",
        "        \"optimizer\": {\n",
        "            \"levels\": [\"Adadelta\",\n",
        "                       \"Adagrad\",\n",
        "                       \"Adam\",\n",
        "                       \"AdamW\",\n",
        "                       \"SparseAdam\",\n",
        "                       \"Adamax\",\n",
        "                       \"ASGD\",\n",
        "                       \"LBFGS\",\n",
        "                       \"NAdam\",\n",
        "                       \"RAdam\",\n",
        "                       \"RMSprop\",\n",
        "                       \"Rprop\",\n",
        "                       \"SGD\"],\n",
        "            \"type\": \"factor\",\n",
        "            \"default\": \"SGD\",\n",
        "            \"transform\": \"None\",\n",
        "            \"class_name\": \"torch.optim\",\n",
        "            \"core_model_parameter_type\": \"str\",\n",
        "            \"lower\": 0,\n",
        "            \"upper\": 12},\n",
        "        \"sgd_momentum\": {\n",
        "            \"type\": \"float\",\n",
        "            \"default\": 0.0,\n",
        "            \"transform\": \"None\",\n",
        "            \"lower\": 0.0,\n",
        "            \"upper\": 1.0}\n",
        "    }\n",
        "}\n",
        "```\n",
        "\n",
        "### Modifying the Hyperparameters {#sec-modification-of-hyperparameters-14}\n",
        "\n",
        "Ray tune [@pyto23a] does not provide a way to change the specified hyperparameters without re-compilation. However, `spotPython` provides functions for modifying the hyperparameters, their bounds and factors as well as for activating and de-activating hyperparameters without re-compilation of the Python source code. These functions are described in the following.\n",
        "\n",
        "#### Modify `hyper_dict` Hyperparameters for the Selected Algorithm aka `core_model` {#sec-modification-of-default-values}\n",
        "\n",
        "After specifying the model, the corresponding hyperparameters, their types and bounds are loaded from the `JSON` file `torch_hyper_dict.json`. After loading, the user can modify the hyperparameters, e.g., the bounds.\n",
        "`spotPython` provides a simple rule for de-activating hyperparameters: If the lower and the upper bound are set to identical values, the hyperparameter is de-activated. This is useful for the hyperparameter tuning, because it allows to specify a hyperparameter in the `JSON` file, but to de-activate it in the `fun_control` dictionary. This is done in the next step.\n",
        "\n",
        "\n",
        "#### Modify Hyperparameters of Type numeric and integer (boolean)\n",
        "\n",
        "Since the hyperparameter `k_folds` is not used in the `PyTorch` tutorial, it is de-activated here by setting the lower and upper bound to the same value. Note, `k_folds` is of type \"integer\"."
      ]
    },
    {
      "cell_type": "code",
      "execution_count": null,
      "metadata": {},
      "outputs": [],
      "source": [
        "from spotPython.hyperparameters.values import modify_hyper_parameter_bounds\n",
        "fun_control = modify_hyper_parameter_bounds(fun_control, \n",
        "    \"batch_size\", bounds=[1, 5])\n",
        "fun_control = modify_hyper_parameter_bounds(fun_control, \n",
        "    \"k_folds\", bounds=[0, 0])\n",
        "fun_control = modify_hyper_parameter_bounds(fun_control, \n",
        "    \"patience\", bounds=[3, 3])"
      ]
    },
    {
      "cell_type": "markdown",
      "metadata": {},
      "source": [
        "#### Modify Hyperparameter of Type factor\n",
        "\n",
        "In a similar manner as for the numerical hyperparameters, the categorical hyperparameters can be modified.\n",
        "New configurations can be chosen by adding or deleting levels. For example, the hyperparameter `optimizer` can be re-configured as follows:\n",
        "\n",
        "In the following setting, two optimizers (`\"SGD\"` and `\"Adam\"`) will be compared during the `spotPython` hyperparameter tuning. The hyperparameter `optimizer` is active."
      ]
    },
    {
      "cell_type": "code",
      "execution_count": null,
      "metadata": {},
      "outputs": [],
      "source": [
        "from spotPython.hyperparameters.values import modify_hyper_parameter_levels\n",
        "fun_control = modify_hyper_parameter_levels(fun_control,\n",
        "     \"optimizer\", [\"SGD\", \"Adam\"])"
      ]
    },
    {
      "cell_type": "markdown",
      "metadata": {},
      "source": [
        "The hyperparameter `optimizer` can be de-activated by choosing only one value (level), here: `\"SGD\"`."
      ]
    },
    {
      "cell_type": "code",
      "execution_count": null,
      "metadata": {},
      "outputs": [],
      "source": [
        "fun_control = modify_hyper_parameter_levels(fun_control, \"optimizer\", [\"SGD\"])"
      ]
    },
    {
      "cell_type": "markdown",
      "metadata": {},
      "source": [
        "As discussed in @sec-optimizers, there are some issues with the LBFGS optimizer. Therefore, the usage of the LBFGS optimizer is not  deactivated in `spotPython` by default. However, the LBFGS optimizer can be activated by adding it to the list of optimizers.\n",
        "`Rprop`  was removed, because it does perform very poorly (as some pre-tests have shown). However, it can also be activated by adding it to the list of optimizers.\n",
        "Since `SparseAdam` does not support dense gradients, `Adam` was used instead.\n",
        "Therefore, there are 10 default optimizers:"
      ]
    },
    {
      "cell_type": "code",
      "execution_count": null,
      "metadata": {},
      "outputs": [],
      "source": [
        "fun_control = modify_hyper_parameter_levels(fun_control, \"optimizer\",\n",
        "    [\"Adadelta\", \"Adagrad\", \"Adam\", \"AdamW\", \"Adamax\", \"ASGD\", \n",
        "    \"NAdam\", \"RAdam\", \"RMSprop\", \"SGD\"])"
      ]
    },
    {
      "cell_type": "markdown",
      "metadata": {},
      "source": [
        "## Optimizers {#sec-optimizers-14}\n",
        "\n",
        "@tbl-optimizers shows some of the optimizers available in `PyTorch`:\n",
        "\n",
        "$a$ denotes (0.9,0.999), $b$ (0.5,1.2), and $c$ (1e-6, 50), respectively.\n",
        "$R$ denotes `required, but unspecified`.\n",
        "\"m\" denotes `momentum`, \"w_d\" `weight_decay`, \"d\" `dampening`, \"n\" `nesterov`, \"r\" `rho`,  \"l_s\" `learning rate for scaling delta`, \"l_d\" `lr_decay`, \"b\" `betas`, \"l\" `lambd`, \"a\" `alpha`, \"m_d\" for `momentum_decay`, \"e\" `etas`, and \"s_s\" for `step_sizes`. \n",
        "\n",
        "| Optimizer | lr  | m | w_d | d | n | r | l_s | l_d | b | l | a | m_d | e | s_s|\n",
        "| :-------    |:-- |:- | :--   | :- | :- |:- | :-  | :-  | :- |:--  |:-  | :-  | :- | :- |\n",
        "| Adadelta  | -   | -   |  0.    | -    | -    | 0.9 | 1.   | -        | -     | -     |-      |    -      |   -  | -    |\n",
        "| Adagrad   |1e-2 | -   | 0.     | -    | -    | -   | -     | 0.       | -     | -     |-      | -         |   -  | -    |\n",
        "| Adam      |1e-3 | -   | 0.     | -    | -    | -   | -     | -        |$a$| - |-      |   -       |   -  | -    |\n",
        "| AdamW     |1e-3 | -   | 1e-2   | -    | -    | -   | -     | -        |$a$| - |  -    |       -   |   -  | -    |\n",
        "| SparseAdam | 1e-3| -  | -      | -    | -    | -   | -     | -        |$a$|-  |-      | -         |   -  | -    |\n",
        "| Adamax | 2e-3    | -  | 0.     | -    | -    | -   | -     | -        | $a$   |- |-      | -         |   -  | -    |\n",
        "| ASGD   | 1e-2 |  .9  | 0.     | -    | F| -   | -     | -        | -        |1e-4| .75  |  -        |  -   | -    |\n",
        "| LBFGS |  1.   | -     | -      | -    | -    | -   | -     | -        | -        | -  |-      | -         |  -   |   -  |\n",
        "| NAdam | 2e-3  | -     | 0.     | -    | -    | -   | -     | -        |$a$| - |-      | 0         |   -  | -    |\n",
        "| RAdam | 1e-3  | -     | 0.     | -    | -    | -   | -     | -        |$a$| - |-      | -         |   -  | -    |\n",
        "| RMSprop | 1e-2| 0. |   0.      |  -   | -    | -   | -     | -        |$a$| - |-      | -         |   -  | -    |\n",
        "| Rprop |  1e-2 | -  | -         | -    | -    | -   | -     | -        | -         | -| $b$| $c$ | -   | -   |\n",
        "| SGD   | $R$ | 0.| 0.      | 0.   | F | -  | -     | -        | -         |- |-       | -         |   -  | -    |\n",
        "\n",
        ": Optimizers available in PyTorch (selection).  The default values are shown in the table. {#tbl-optimizers}\n",
        "\n",
        "`spotPython` implements an `optimization` handler that maps the optimizer names to the corresponding `PyTorch` optimizers.\n",
        "\n",
        ":::{.callout-note}\n",
        "## A note on LBFGS\n",
        "\n",
        "We recommend deactivating `PyTorch`'s LBFGS optimizer, because it does not perform very well.\n",
        "The  `PyTorch` documentation, see [https://pytorch.org/docs/stable/generated/torch.optim.LBFGS.html#torch.optim.LBFGS](https://pytorch.org/docs/stable/generated/torch.optim.LBFGS.html#torch.optim.LBFGS), states:\n",
        "\n",
        "> This is a very memory intensive optimizer (it requires additional `param_bytes * (history_size + 1)` bytes). If it doesn’t fit in memory try reducing the history size, or use a different algorithm.\n",
        "\n",
        "Furthermore, the LBFGS optimizer is not compatible with the `PyTorch` tutorial. The reason is that the LBFGS optimizer requires the `closure` function, which is not implemented in the `PyTorch` tutorial. Therefore, the `LBFGS` optimizer is recommended here.\n",
        "Since there are ten optimizers in the portfolio, it is not recommended tuning the hyperparameters that effect one single optimizer only.\n",
        ":::\n",
        "\n",
        ":::{.callout-note}\n",
        "## A note on the learning rate\n",
        "\n",
        "`spotPython` provides a multiplier for the default learning rates, `lr_mult`, because optimizers use different learning rates. Using a multiplier for the learning rates might enable a simultaneous tuning of the learning rates for all optimizers. However, this is not recommended, because the learning rates are not comparable across optimizers. Therefore, we recommend fixing the learning rate for all optimizers if multiple optimizers are used. This can be done by setting the lower and upper bounds of the learning rate multiplier to the same value as shown below.\n",
        "\n",
        "Thus, the learning rate, which affects the `SGD` optimizer, will be set to a fixed value. We choose the default value of `1e-3` for the learning rate, because it is used in other `PyTorch` examples (it is also the default value used by `spotPython` as defined in the `optimizer_handler()` method). We recommend tuning the learning rate later, when a reduced set of optimizers is fixed.\n",
        "Here, we will demonstrate how to select in a screening phase the optimizers that should be used for the hyperparameter tuning.\n",
        ":::\n",
        "\n",
        "\n",
        "For the same reason, we will fix the `sgd_momentum` to `0.9`. "
      ]
    },
    {
      "cell_type": "code",
      "execution_count": null,
      "metadata": {},
      "outputs": [],
      "source": [
        "fun_control = modify_hyper_parameter_bounds(fun_control,\n",
        "    \"lr_mult\", bounds=[1.0, 1.0])\n",
        "fun_control = modify_hyper_parameter_bounds(fun_control,\n",
        "    \"sgd_momentum\", bounds=[0.9, 0.9])"
      ]
    },
    {
      "cell_type": "markdown",
      "metadata": {},
      "source": [
        "## Evaluation: Data Splitting {#sec-data-splitting-14}\n",
        "\n",
        "The evaluation procedure requires the specification of the way how the data is split into a train and a test set and the loss function (and a metric).\n",
        "As a default, `spotPython` provides a standard hold-out data split and cross validation.\n",
        "\n",
        "### Hold-out Data Split\n",
        "\n",
        "If a hold-out data split is used, the data will be partitioned into a training, a validation, and a test data set.\n",
        "The split depends on the setting of the `eval` parameter. If `eval` is set to `train_hold_out`, one data set, usually the original training data set, is split into a new training and a validation data set. The training data set is used for training the model. The validation data set is used for the evaluation of the hyperparameter configuration and early stopping to prevent overfitting. In this case, the original test data set is not used.\n",
        "\n",
        "::: {.callout-note}\n",
        "`spotPython` returns the hyperparameters of the machine learning and deep learning models, e.g., number of layers, learning rate, or optimizer, but not the model weights. Therefore, after the SPOT run is finished, the corresponding model with the optimized architecture has to be trained again with the best hyperparameter configuration. The training is performed on the training data set. The test data set is used for the final evaluation of the model.\n",
        "\n",
        "Summarizing, the following splits are performed in the hold-out setting:\n",
        "\n",
        "1. Run `spotPython` with `eval` set to `train_hold_out` to determine the best hyperparameter configuration.\n",
        "2. Train the model with the best hyperparameter configuration (\"architecture\")  on the training data set:  `train_tuned(model_spot, train, \"model_spot.pt\")`.\n",
        "3. Test the model on the test data: `test_tuned(model_spot, test, \"model_spot.pt\")`\n",
        "\n",
        "These steps will be exemplified in the following sections.\n",
        ":::\n",
        "\n",
        "In addition to this `hold-out` setting, `spotPython` provides another hold-out setting, where an explicit test data is specified by the user that will be used as the validation set. To choose this option, the `eval` parameter is set to `test_hold_out`. In this case, the training data set is used for the model training. Then, the explicitly defined test data set is used for the evaluation of the hyperparameter configuration (the validation).\n",
        "\n",
        "### Cross-Validation\n",
        "\n",
        "The cross validation setting is used by setting the `eval` parameter to `train_cv` or `test_cv`. In both  cases, the data set is split into $k$ folds. The model is trained on $k-1$ folds and evaluated on the remaining fold. This is repeated $k$ times, so that each fold is used exactly once for evaluation. The final evaluation is performed on the test data set. The cross validation setting is useful for small data sets, because it allows to use all data for training and evaluation. However, it is computationally expensive, because the model has to be trained $k$ times.\n",
        "\n",
        "::: {.callout-note}\n",
        "Combinations of the above settings are possible, e.g., cross validation can be used for training and hold-out for evaluation or *vice versa*. Also, cross validation can be used for training and testing. Because cross validation is not used in the `PyTorch` tutorial [@pyto23a], it is not considered further here.\n",
        ":::\n",
        "\n",
        "### Overview of the Evaluation Settings\n",
        "\n",
        "#### Settings for the Hyperparameter Tuning\n",
        "\n",
        "An overview of the training evaluations is shown in @tbl-eval-settings.\n",
        "`\"train_cv\"` and `\"test_cv\"` use `sklearn.model_selection.KFold()` internally.\n",
        "More details on the data splitting are provided in @sec-detailed-data-splitting (in the Appendix).\n",
        "\n",
        "| `eval` | `train` | `test` | function | comment |\n",
        "| --- | :-: | :-: | :----- | :----- |\n",
        "| `\"train_hold_out\"` | $\\checkmark$ |  |  `train_one_epoch()`, `validate_one_epoch()` for early stopping|  splits the `train` data set internally|\n",
        "| `\"test_hold_out\"` | $\\checkmark$ | $\\checkmark$ | `train_one_epoch()`, `validate_one_epoch()` for early stopping  |use the `test data set` for `validate_one_epoch()` |\n",
        "| `\"train_cv\"` | $\\checkmark$ |              |  `evaluate_cv(net, train)`  | CV using the  `train` data set |\n",
        "| `\"test_cv\"` |               | $\\checkmark$ |  `evaluate_cv(net, test)` | CV using the  `test` data set . Identical to `\"train_cv\"`, uses only test data.|\n",
        "\n",
        ": Overview of the evaluation settings. {#tbl-eval-settings}\n",
        "\n",
        "#### Settings for the Final Evaluation of the Tuned Architecture\n",
        "\n",
        "##### Training of the Tuned Architecture\n",
        "\n",
        "`train_tuned(model, train)`: train the model with the best hyperparameter configuration (or simply the default) on the training data set. It splits the `train`data into new `train` and `validation` sets using  `create_train_val_data_loaders()`, which calls `torch.utils.data.random_split()` internally. Currently, 60% of the data is used for training and 40% for validation. The `train` data is used for training the model with `train_hold_out()`. The `validation` data is used for early stopping using `validate_fold_or_hold_out()` on the `validation` data set.\n",
        "\n",
        "##### Testing of the Tuned Architecture\n",
        "\n",
        "`test_tuned(model, test)`: test the model on the test data set. No data splitting is performed. The (trained) model is evaluated using the `validate_fold_or_hold_out()` function.\n",
        "Note: During training, `\"shuffle\"` is set to `True`, whereas during testing, `\"shuffle\"` is set to `False`.\n",
        "\n",
        "@sec-final-model-evaluation describes the final evaluation of the tuned architecture."
      ]
    },
    {
      "cell_type": "code",
      "execution_count": null,
      "metadata": {},
      "outputs": [],
      "source": [
        "fun_control.update({\n",
        "    \"eval\": \"train_hold_out\",\n",
        "    \"path\": \"torch_model.pt\",\n",
        "    \"shuffle\": True})"
      ]
    },
    {
      "cell_type": "markdown",
      "metadata": {},
      "source": [
        "## Evaluation: Loss Functions and Metrics {#sec-loss-functions-14}\n",
        "\n",
        "The key `\"loss_function\"` specifies the loss function which is used during the optimization. There are several different loss functions under `PyTorch`'s `nn` package. For example, a simple loss is `MSELoss`, which computes the mean-squared error between the output and the target. In this tutorial we will use `CrossEntropyLoss`, because it is also used in the `PyTorch` tutorial."
      ]
    },
    {
      "cell_type": "code",
      "execution_count": null,
      "metadata": {},
      "outputs": [],
      "source": [
        "from torch.nn import CrossEntropyLoss\n",
        "loss_function = CrossEntropyLoss()\n",
        "fun_control.update({\"loss_function\": loss_function})"
      ]
    },
    {
      "cell_type": "markdown",
      "metadata": {},
      "source": [
        "In addition to the loss functions, `spotPython` provides access to a large number of metrics.\n",
        "\n",
        "* The key `\"metric_sklearn\"` is used for metrics that follow the `scikit-learn` conventions.\n",
        "* The key `\"river_metric\"` is used for the river based evaluation [@mont20a] via `eval_oml_iter_progressive`, and \n",
        "* the key `\"metric_torch\"` is used for the metrics from `TorchMetrics`. \n",
        "\n",
        "`TorchMetrics` is a collection of more than 90 PyTorch metrics, see [https://torchmetrics.readthedocs.io/en/latest/](https://torchmetrics.readthedocs.io/en/latest/).\n",
        "Because the `PyTorch` tutorial uses the accuracy as metric, we use the same metric here. Currently, accuracy is computed in the tutorial's example code. We will use `TorchMetrics` instead, because it offers more flexibilty, e.g., it can be used for regression and classification. Furthermore, `TorchMetrics` offers the following advantages:\n",
        "\n",
        "    * A standardized interface to increase reproducibility\n",
        "    * Reduces Boilerplate\n",
        "    * Distributed-training compatible\n",
        "    * Rigorously tested\n",
        "    * Automatic accumulation over batches\n",
        "    * Automatic synchronization between multiple devices\n",
        "\n",
        "Therefore, we set "
      ]
    },
    {
      "cell_type": "code",
      "execution_count": null,
      "metadata": {},
      "outputs": [],
      "source": [
        "import torchmetrics\n",
        "metric_torch = torchmetrics.Accuracy(task=\"multiclass\", num_classes=10).to(fun_control[\"device\"])\n",
        "fun_control.update({\"metric_torch\": metric_torch})"
      ]
    },
    {
      "cell_type": "markdown",
      "metadata": {},
      "source": [
        "## Preparing the SPOT Call {#sec-prepare-spot-call-14}\n",
        "\n",
        "The following code passes the information about the parameter ranges and bounds to `spot`."
      ]
    },
    {
      "cell_type": "code",
      "execution_count": null,
      "metadata": {},
      "outputs": [],
      "source": [
        "from spotPython.hyperparameters.values import (\n",
        "    get_var_type,\n",
        "    get_var_name,\n",
        "    get_bound_values    \n",
        "    )\n",
        "var_type = get_var_type(fun_control)\n",
        "var_name = get_var_name(fun_control)\n",
        "fun_control.update({\"var_type\": var_type,\n",
        "                    \"var_name\": var_name})\n",
        "\n",
        "lower = get_bound_values(fun_control, \"lower\")\n",
        "upper = get_bound_values(fun_control, \"upper\")"
      ]
    },
    {
      "cell_type": "markdown",
      "metadata": {},
      "source": [
        "Now, the dictionary `fun_control` contains all information needed for the hyperparameter tuning. Before the hyperparameter tuning is started, it is recommended to take a look at the experimental design. The method `gen_design_table` generates a design table as follows:"
      ]
    },
    {
      "cell_type": "code",
      "execution_count": null,
      "metadata": {
        "fig-label": "tbl-design"
      },
      "outputs": [],
      "source": [
        "#| fig-cap: Experimental design for the hyperparameter tuning.\n",
        "from spotPython.utils.eda import gen_design_table\n",
        "print(gen_design_table(fun_control))"
      ]
    },
    {
      "cell_type": "markdown",
      "metadata": {},
      "source": [
        "This allows to check if all information is available and if the information is correct.  @tbl-design shows the experimental design for the hyperparameter tuning. The table shows the hyperparameters, their types, default values, lower and upper bounds, and the transformation function. The transformation function is used to transform the hyperparameter values from the unit hypercube to the original domain. The transformation function is applied to the hyperparameter values before the evaluation of the objective function.  Hyperparameter transformations are shown in the column \"transform\", e.g., the `l1` default is `5`, which results in the value $2^5 = 32$ for the network, because the transformation ` transform_power_2_int` was selected in the `JSON` file. The default value of the `batch_size` is set to `4`, which results in a batch size of $2^4 = 16$. \n",
        "\n",
        "## The Objective Function `fun_torch` {#sec-the-objective-function-14}\n",
        "\n",
        "The objective function `fun_torch` is selected next. It implements an interface from `PyTorch`'s training, validation, and  testing methods to `spotPython`."
      ]
    },
    {
      "cell_type": "code",
      "execution_count": null,
      "metadata": {},
      "outputs": [],
      "source": [
        "from spotPython.fun.hypertorch import HyperTorch\n",
        "fun = HyperTorch().fun_torch"
      ]
    },
    {
      "cell_type": "markdown",
      "metadata": {},
      "source": [
        "## Using Default Hyperparameters or Results from Previous Runs {#sec-default-hyperparameters}\n",
        "\n",
        "We add the default setting to the initial design:"
      ]
    },
    {
      "cell_type": "code",
      "execution_count": null,
      "metadata": {},
      "outputs": [],
      "source": [
        "from spotPython.hyperparameters.values import get_default_hyperparameters_as_array\n",
        "hyper_dict=TorchHyperDict().load()\n",
        "X_start = get_default_hyperparameters_as_array(fun_control, hyper_dict)"
      ]
    },
    {
      "cell_type": "markdown",
      "metadata": {},
      "source": [
        "## Starting the Hyperparameter Tuning {#sec-call-the-hyperparameter-tuner-14}\n",
        "\n",
        "The `spotPython` hyperparameter tuning is started by calling the `Spot` function. Here, we will run the tuner for approximately 30 minutes (`max_time`). Note: the initial design is always evaluated in the `spotPython` run. As a consequence, the run may take longer than specified by `max_time`, because the evaluation time of initial design (here: `init_size`, 10 points) is performed independently of `max_time`.\n",
        "During the run, results from the training is shown. These results can be visualized with Tensorboard as will be shown in @sec-tensorboard-14."
      ]
    },
    {
      "cell_type": "code",
      "execution_count": null,
      "metadata": {},
      "outputs": [],
      "source": [
        "from spotPython.spot import spot\n",
        "from math import inf\n",
        "import numpy as np\n",
        "spot_tuner = spot.Spot(fun=fun,\n",
        "                   lower = lower,\n",
        "                   upper = upper,\n",
        "                   fun_evals = inf,\n",
        "                   fun_repeats = 1,\n",
        "                   max_time = MAX_TIME,\n",
        "                   noise = False,\n",
        "                   tolerance_x = np.sqrt(np.spacing(1)),\n",
        "                   var_type = var_type,\n",
        "                   var_name = var_name,\n",
        "                   infill_criterion = \"y\",\n",
        "                   n_points = 1,\n",
        "                   seed=123,\n",
        "                   log_level = 50,\n",
        "                   show_models= False,\n",
        "                   show_progress= True,\n",
        "                   fun_control = fun_control,\n",
        "                   design_control={\"init_size\": INIT_SIZE,\n",
        "                                   \"repeats\": 1},\n",
        "                   surrogate_control={\"noise\": True,\n",
        "                                      \"cod_type\": \"norm\",\n",
        "                                      \"min_theta\": -4,\n",
        "                                      \"max_theta\": 3,\n",
        "                                      \"n_theta\": len(var_name),\n",
        "                                      \"model_fun_evals\": 10_000,\n",
        "                                      \"log_level\": 50\n",
        "                                      })\n",
        "spot_tuner.run(X_start=X_start)"
      ]
    },
    {
      "cell_type": "markdown",
      "metadata": {},
      "source": [
        "## Tensorboard {#sec-tensorboard-14}\n",
        "\n",
        "The textual output shown in the console (or code cell) can be visualized with Tensorboard.\n",
        "\n",
        "### Tensorboard: Start Tensorboard\n",
        "\n",
        "Start TensorBoard through the command line to visualize data you logged. \n",
        "Specify the root log directory as used in `fun_control = fun_control_init(task=\"regression\", tensorboard_path=\"runs/24_spot_torch_regression\")` as the `tensorboard_path`. The argument logdir points to directory where TensorBoard will look to find event files that it can display. TensorBoard will recursively walk the directory structure rooted at logdir, looking for .*tfevents.* files.\n",
        "\n",
        "```{raw}\n",
        "tensorboard --logdir=runs\n",
        "```\n",
        "\n",
        "Go to the URL it provides or to [http://localhost:6006/](http://localhost:6006/).\n",
        "The following figures show some screenshots of Tensorboard.\n",
        "\n",
        "![Tensorboard](./figures/14-torch_p040025_10min_5init_2023-06-07_12-41-06_tensorboard_01.png){#fig-tensorboard_0}\n",
        "\n",
        "![Tensorboard](./figures/14-torch_p040025_10min_5init_2023-06-07_12-41-06_tensorboard_02.png){#fig-tensorboard_hdparams}\n",
        "\n",
        "\n",
        "### Saving the State of the Notebook {#sec-saving-the-state-of-the-notebook}\n",
        "\n",
        "The state of the notebook can be saved and reloaded as follows:"
      ]
    },
    {
      "cell_type": "code",
      "execution_count": null,
      "metadata": {},
      "outputs": [],
      "source": [
        "import pickle\n",
        "SAVE = False\n",
        "LOAD = False\n",
        "\n",
        "if SAVE:\n",
        "    result_file_name = \"res_\" + experiment_name + \".pkl\"\n",
        "    with open(result_file_name, 'wb') as f:\n",
        "        pickle.dump(spot_tuner, f)\n",
        "\n",
        "if LOAD:\n",
        "    result_file_name = \"add_the_name_of_the_result_file_here.pkl\"\n",
        "    with open(result_file_name, 'rb') as f:\n",
        "        spot_tuner =  pickle.load(f)"
      ]
    },
    {
      "cell_type": "markdown",
      "metadata": {},
      "source": [
        "## Results {#sec-results-14}\n",
        "\n",
        "After the hyperparameter tuning run is finished, the progress of the hyperparameter tuning can be visualized. The following code generates the progress plot from @fig-progress."
      ]
    },
    {
      "cell_type": "code",
      "execution_count": null,
      "metadata": {
        "fig-label": "fig-progress"
      },
      "outputs": [],
      "source": [
        "#| fig-cap: Progress plot. *Black* dots denote results from the initial design. *Red* dots  illustrate the improvement found by the surrogate model based optimization.\n",
        "spot_tuner.plot_progress(log_y=False, \n",
        "    filename=\"./figures/\" + experiment_name+\"_progress.png\")"
      ]
    },
    {
      "cell_type": "markdown",
      "metadata": {},
      "source": [
        "@fig-progress shows a typical behaviour that can be observed in many hyperparameter studies [@bart21i]: the largest improvement is obtained during the evaluation of the initial design. The surrogate model based optimization-optimization with the surrogate refines the results. @fig-progress also illustrates one major difference between `ray[tune]` as used in @pyto23a and `spotPython`: the `ray[tune]` uses a random search and will generate results similar to the *black* dots, whereas `spotPython` uses a surrogate model based optimization and presents results represented by *red* dots in @fig-progress. The surrogate model based optimization is considered to be more efficient than a random search, because the surrogate model guides the search towards promising regions in the hyperparameter space.\n",
        "\n",
        "In addition to the improved (\"optimized\") hyperparameter values, `spotPython` allows a statistical analysis, e.g., a sensitivity analysis, of the results. We can print the results of the hyperparameter tuning, see @tbl-results. The table shows the hyperparameters, their types, default values, lower and upper bounds, and the transformation function. The column \"tuned\" shows the tuned values. The column \"importance\" shows the importance of the hyperparameters. The column \"stars\" shows the importance of the hyperparameters in stars. The importance is computed by the SPOT software. "
      ]
    },
    {
      "cell_type": "code",
      "execution_count": null,
      "metadata": {
        "fig-label": "tbl-results"
      },
      "outputs": [],
      "source": [
        "#| fig-cap: Results of the hyperparameter tuning.\n",
        "from spotPython.utils.eda import gen_design_table\n",
        "print(gen_design_table(fun_control=fun_control, spot=spot_tuner))"
      ]
    },
    {
      "cell_type": "markdown",
      "metadata": {},
      "source": [
        "To visualize the most important hyperparameters, `spotPython` provides the function `plot_importance`. The following code generates the importance plot from @fig-importance."
      ]
    },
    {
      "cell_type": "code",
      "execution_count": null,
      "metadata": {
        "fig-label": "fig-importance"
      },
      "outputs": [],
      "source": [
        "#| fig-cap: 'Variable importance plot, threshold 0.025.'\n",
        "spot_tuner.plot_importance(threshold=0.025,\n",
        "    filename=\"./figures/\" + experiment_name+\"_importance.png\")"
      ]
    },
    {
      "cell_type": "markdown",
      "metadata": {},
      "source": [
        "### Get the Tuned Architecture (SPOT Results) {#sec-get-spot-results-14}\n",
        "\n",
        "The architecture of the `spotPython` model can be obtained as follows.\n",
        "First, the numerical representation of the hyperparameters are obtained, i.e., the numpy array `X` is generated. This array is then used to generate the model `model_spot` by the function `get_one_core_model_from_X`. The model `model_spot` has the following architecture:"
      ]
    },
    {
      "cell_type": "code",
      "execution_count": null,
      "metadata": {},
      "outputs": [],
      "source": [
        "from spotPython.hyperparameters.values import get_one_core_model_from_X\n",
        "X = spot_tuner.to_all_dim(spot_tuner.min_X.reshape(1,-1))\n",
        "model_spot = get_one_core_model_from_X(X, fun_control)\n",
        "model_spot"
      ]
    },
    {
      "cell_type": "markdown",
      "metadata": {},
      "source": [
        "### Get Default Hyperparameters\n",
        "\n",
        "In a similar manner as in @sec-get-spot-results, the default hyperparameters can be obtained."
      ]
    },
    {
      "cell_type": "code",
      "execution_count": null,
      "metadata": {},
      "outputs": [],
      "source": [
        "# fun_control was modified, we generate a new one with the original \n",
        "# default hyperparameters\n",
        "from spotPython.hyperparameters.values import get_one_core_model_from_X\n",
        "fc = fun_control\n",
        "fc.update({\"core_model_hyper_dict\":\n",
        "    hyper_dict[fun_control[\"core_model\"].__name__]})\n",
        "model_default = get_one_core_model_from_X(X_start, fun_control=fc)\n",
        "model_default"
      ]
    },
    {
      "cell_type": "markdown",
      "metadata": {},
      "source": [
        "### Evaluation of the Default Architecture \n",
        "\n",
        "The method `train_tuned` takes a model architecture without trained weights and trains this model with the train data.\n",
        "The train data is split into train and validation data. The validation data is used for early stopping. The trained model weights are saved as a dictionary.\n",
        "\n",
        "This evaluation is similar to the final evaluation in @pyto23a. \n"
      ]
    },
    {
      "cell_type": "code",
      "execution_count": null,
      "metadata": {},
      "outputs": [],
      "source": [
        "from spotPython.torch.traintest import (\n",
        "    train_tuned,\n",
        "    test_tuned,\n",
        "    )\n",
        "train_tuned(net=model_default, train_dataset=train, shuffle=True,\n",
        "        loss_function=fun_control[\"loss_function\"],\n",
        "        metric=fun_control[\"metric_torch\"],\n",
        "        device = fun_control[\"device\"], show_batch_interval=1_000_000,\n",
        "        path=None,\n",
        "        task=fun_control[\"task\"],)\n",
        "\n",
        "test_tuned(net=model_default, test_dataset=test, \n",
        "        loss_function=fun_control[\"loss_function\"],\n",
        "        metric=fun_control[\"metric_torch\"],\n",
        "        shuffle=False, \n",
        "        device = fun_control[\"device\"],\n",
        "        task=fun_control[\"task\"],)        "
      ]
    },
    {
      "cell_type": "markdown",
      "metadata": {},
      "source": [
        "### Evaluation of the Tuned Architecture \n",
        "\n",
        "The following code trains the model `model_spot`.\n",
        "\n",
        "If `path` is set to a filename, e.g., `path = \"model_spot_trained.pt\"`, the weights of the trained model will be saved to this file.\n",
        "\n",
        "If `path` is set to a filename, e.g., `path = \"model_spot_trained.pt\"`, the weights of the trained model will be loaded from this file."
      ]
    },
    {
      "cell_type": "code",
      "execution_count": null,
      "metadata": {},
      "outputs": [],
      "source": [
        "train_tuned(net=model_spot, train_dataset=train,\n",
        "        loss_function=fun_control[\"loss_function\"],\n",
        "        metric=fun_control[\"metric_torch\"],\n",
        "        shuffle=True,\n",
        "        device = fun_control[\"device\"],\n",
        "        path=None,\n",
        "        task=fun_control[\"task\"],)\n",
        "test_tuned(net=model_spot, test_dataset=test,\n",
        "            shuffle=False,\n",
        "            loss_function=fun_control[\"loss_function\"],\n",
        "            metric=fun_control[\"metric_torch\"],\n",
        "            device = fun_control[\"device\"],\n",
        "            task=fun_control[\"task\"],)"
      ]
    },
    {
      "cell_type": "markdown",
      "metadata": {},
      "source": [
        "### Detailed Hyperparameter Plots\n",
        "\n",
        "The contour plots in this section visualize the interactions of the three most important hyperparameters. Since some of these hyperparameters take fatorial or integer values, sometimes step-like fitness landcapes (or response surfaces) are generated.\n",
        "SPOT draws the interactions of the main hyperparameters by default. It is also possible to visualize all interactions. "
      ]
    },
    {
      "cell_type": "code",
      "execution_count": null,
      "metadata": {
        "fig-label": "fig-contour"
      },
      "outputs": [],
      "source": [
        "#| fig-cap: Contour plots.\n",
        "filename = \"./figures/\" + experiment_name\n",
        "spot_tuner.plot_important_hyperparameter_contour(filename=filename)"
      ]
    },
    {
      "cell_type": "markdown",
      "metadata": {},
      "source": [
        "The figures (@fig-contour) show the contour plots of the loss as a function of the hyperparameters.\n",
        "These plots are very helpful for benchmark studies and for understanding neural networks.\n",
        " `spotPython` provides additional tools for a visual inspection of the results and give valuable insights into the hyperparameter tuning process.\n",
        " This is especially useful for model explainability, transparency, and trustworthiness.\n",
        "In addition to the contour plots, @fig-parallel shows the parallel plot of the hyperparameters."
      ]
    },
    {
      "cell_type": "code",
      "execution_count": null,
      "metadata": {
        "fig-label": "fig-parallel"
      },
      "outputs": [],
      "source": [
        "#| fig-cap: Parallel coordinates plots\n",
        "spot_tuner.parallel_plot()"
      ]
    },
    {
      "cell_type": "markdown",
      "metadata": {},
      "source": [
        "## Summary and Outlook {#sec-summary}\n",
        "\n",
        "This tutorial presents the hyperparameter tuning open source software `spotPython` for `PyTorch`.\n",
        "To show its basic features, a comparison with the \"official\" `PyTorch` hyperparameter tuning tutorial [@pyto23a] is presented.\n",
        "Some of the advantages of `spotPython` are:\n",
        "\n",
        "* Numerical and categorical hyperparameters.\n",
        "* Powerful surrogate models.\n",
        "* Flexible approach and easy to use.\n",
        "* Simple JSON files for the specification of the hyperparameters.\n",
        "* Extension of default and user specified network classes.\n",
        "* Noise handling techniques.\n",
        "* Interaction with `tensorboard`.\n",
        "\n",
        "Currently, only rudimentary parallel and distributed neural network training is possible,\n",
        "but these capabilities will be extended in the future. The next version of `spotPython` will also include a more detailed documentation and more examples.\n",
        "\n",
        "::: {.callout-important}\n",
        "Important: This tutorial does not present a complete benchmarking study [@bart20gArxiv]. The results are only preliminary and highly dependent on the local configuration (hard- and software). Our goal is to provide a first impression of the performance of the hyperparameter tuning package `spotPython`. To demonstrate its capabilities, a quick comparison with `ray[tune]` was performed. `ray[tune]` was chosen, because it is presented as \"an industry standard tool for distributed hyperparameter tuning.\"  The results should be interpreted with care.\n",
        ":::\n",
        "\n",
        "\n",
        "## Appendix {#sec-appendix}\n",
        "\n",
        "### Sample Output From Ray Tune's Run\n",
        "\n",
        "The output from `ray[tune]` could look like this [@pyto23b]:\n",
        "\n",
        "```{raw}\n",
        "Number of trials: 10 (10 TERMINATED)\n",
        "------+------+-------------+--------------+---------+------------+--------------------+\n",
        "|   l1 |   l2 |          lr |   batch_size |    loss |   accuracy | training_iteration |\n",
        "+------+------+-------------+--------------+---------+------------+--------------------|\n",
        "|   64 |    4 | 0.00011629  |            2 | 1.87273 |     0.244  |                  2 |\n",
        "|   32 |   64 | 0.000339763 |            8 | 1.23603 |     0.567  |                  8 |\n",
        "|    8 |   16 | 0.00276249  |           16 | 1.1815  |     0.5836 |                 10 |\n",
        "|    4 |   64 | 0.000648721 |            4 | 1.31131 |     0.5224 |                  8 |\n",
        "|   32 |   16 | 0.000340753 |            8 | 1.26454 |     0.5444 |                  8 |\n",
        "|    8 |    4 | 0.000699775 |            8 | 1.99594 |     0.1983 |                  2 |\n",
        "|  256 |    8 | 0.0839654   |           16 | 2.3119  |     0.0993 |                  1 |\n",
        "|   16 |  128 | 0.0758154   |           16 | 2.33575 |     0.1327 |                  1 |\n",
        "|   16 |    8 | 0.0763312   |           16 | 2.31129 |     0.1042 |                  4 |\n",
        "|  128 |   16 | 0.000124903 |            4 | 2.26917 |     0.1945 |                  1 |\n",
        "+-----+------+------+-------------+--------------+---------+------------+--------------------+\n",
        "Best trial config: {'l1': 8, 'l2': 16, 'lr': 0.00276249, 'batch_size': 16, 'data_dir': '...'}\n",
        "Best trial final validation loss: 1.181501\n",
        "Best trial final validation accuracy: 0.5836\n",
        "Best trial test set accuracy: 0.5806\n",
        "```\n"
      ]
    }
  ],
  "metadata": {
    "kernelspec": {
      "display_name": "Python 3",
      "language": "python",
      "name": "python3"
    },
    "language_info": {
      "codemirror_mode": {
        "name": "ipython",
        "version": 3
      },
      "file_extension": ".py",
      "mimetype": "text/x-python",
      "name": "python",
      "nbconvert_exporter": "python",
      "pygments_lexer": "ipython3",
      "version": "3.10.10"
    }
  },
  "nbformat": 4,
  "nbformat_minor": 4
}
