{
 "cells": [
  {
   "cell_type": "raw",
   "metadata": {},
   "source": [
    "---\n",
    "title: \"pytorch Hyperparameter Tuning with SPOT: Comparison with ray tuner on cifar10\"\n",
    "format: html\n",
    "---"
   ]
  },
  {
   "cell_type": "code",
   "execution_count": 1,
   "metadata": {},
   "outputs": [],
   "source": [
    "MAX_TIME = 30\n",
    "INIT_SIZE = 10\n",
    "DEVICE = \"cpu\" # \"cuda:0\""
   ]
  },
  {
   "cell_type": "code",
   "execution_count": 2,
   "metadata": {},
   "outputs": [
    {
     "data": {
      "text/plain": [
       "'14-torch_bartz09_30min_10init_2023-05-14_14-45-25'"
      ]
     },
     "execution_count": 2,
     "metadata": {},
     "output_type": "execute_result"
    }
   ],
   "source": [
    "import pickle\n",
    "import socket\n",
    "from datetime import datetime\n",
    "from dateutil.tz import tzlocal\n",
    "start_time = datetime.now(tzlocal())\n",
    "HOSTNAME = socket.gethostname().split(\".\")[0]\n",
    "experiment_name = '14-torch' + \"_\" + HOSTNAME + \"_\" + str(MAX_TIME) + \"min_\" + str(INIT_SIZE) + \"init_\" + str(start_time).split(\".\", 1)[0].replace(' ', '_')\n",
    "experiment_name = experiment_name.replace(':', '-')\n",
    "experiment_name"
   ]
  },
  {
   "attachments": {},
   "cell_type": "markdown",
   "metadata": {},
   "source": [
    "# Chapter 14: Sequential Parameter Optimization Compared to Ray Tune\n",
    "## Hyperparameter Tuning: pytorch wth cifar10 Data"
   ]
  },
  {
   "attachments": {},
   "cell_type": "markdown",
   "metadata": {},
   "source": [
    "* This notebook exemplifies hyperparameter tuning with SPOT (spotPython).\n",
    "* The hyperparameter software SPOT was developed in R (statistical programming language), see Open Access book \"Hyperparameter Tuning for Machine and Deep Learning with R - A Practical Guide\", available here: [https://link.springer.com/book/10.1007/978-981-19-5170-1](https://link.springer.com/book/10.1007/978-981-19-5170-1).\n"
   ]
  },
  {
   "cell_type": "code",
   "execution_count": 3,
   "metadata": {},
   "outputs": [
    {
     "name": "stdout",
     "output_type": "stream",
     "text": [
      "spotPython               0.1.0\n",
      "Note: you may need to restart the kernel to use updated packages.\n"
     ]
    }
   ],
   "source": [
    "pip list | grep  \"spot[RiverPython]\""
   ]
  },
  {
   "cell_type": "code",
   "execution_count": 4,
   "metadata": {},
   "outputs": [
    {
     "name": "stdout",
     "output_type": "stream",
     "text": [
      "torch                    2.0.1\n",
      "torchvision              0.15.2\n",
      "Note: you may need to restart the kernel to use updated packages.\n"
     ]
    }
   ],
   "source": [
    "pip list | grep  \"torch\""
   ]
  },
  {
   "cell_type": "code",
   "execution_count": 5,
   "metadata": {},
   "outputs": [
    {
     "name": "stdout",
     "output_type": "stream",
     "text": [
      "Python 3.10.10\n"
     ]
    }
   ],
   "source": [
    "import sys\n",
    "!{sys.executable} --version"
   ]
  },
  {
   "cell_type": "code",
   "execution_count": 6,
   "metadata": {},
   "outputs": [],
   "source": [
    "# import sys\n",
    "# !{sys.executable} -m pip install --upgrade build\n",
    "# !{sys.executable} -m pip install --upgrade --force-reinstall spotPython\n"
   ]
  },
  {
   "cell_type": "code",
   "execution_count": 7,
   "metadata": {},
   "outputs": [],
   "source": [
    "from tabulate import tabulate\n",
    "import warnings\n",
    "import json\n",
    "import numpy as np\n",
    "from math import inf\n",
    "import pandas as pd\n",
    "\n",
    "from scipy.optimize import differential_evolution\n",
    "\n",
    "import torch\n",
    "from torch import nn\n",
    "from torch.utils.data import DataLoader\n",
    "import torch.nn.functional as F\n",
    "import torch.optim as optim\n",
    "from torch.utils.data import random_split\n",
    "import torchvision\n",
    "from torchvision import datasets\n",
    "import torchvision.transforms as transforms\n",
    "from torchvision.transforms import ToTensor\n",
    "\n",
    "from spotPython.spot import spot\n",
    "from spotPython.hyperparameters.values import (\n",
    "    add_core_model_to_fun_control,\n",
    "    assign_values,\n",
    "    get_bound_values,\n",
    "    get_default_values,\n",
    "    get_var_name,\n",
    "    get_var_type,\n",
    "    modify_hyper_parameter_levels,\n",
    "    modify_hyper_parameter_bounds,\n",
    "    return_conf_list_from_var_dict,\n",
    "    get_one_core_model_from_X,\n",
    ")\n",
    "from spotPython.torch.traintest import (\n",
    "    evaluate_cv,\n",
    "    evaluate_hold_out,\n",
    "    train_save,\n",
    "    test_saved,\n",
    "    )\n",
    "from spotPython.utils.eda import gen_design_table\n",
    "from spotPython.utils.transform import transform_hyper_parameter_values\n",
    "from spotPython.utils.init import fun_control_init\n",
    "\n",
    "from spotPython.data.torch_hyper_dict import TorchHyperDict\n",
    "from spotPython.fun.hypertorch import HyperTorch\n",
    "from spotPython.torch.netcifar10 import Net_CIFAR10\n",
    "\n",
    "warnings.filterwarnings(\"ignore\")"
   ]
  },
  {
   "cell_type": "code",
   "execution_count": 8,
   "metadata": {},
   "outputs": [
    {
     "name": "stdout",
     "output_type": "stream",
     "text": [
      "2.0.1\n",
      "MPS device:  mps\n"
     ]
    }
   ],
   "source": [
    "print(torch.__version__)\n",
    "# Check that MPS is available\n",
    "if not torch.backends.mps.is_available():\n",
    "    if not torch.backends.mps.is_built():\n",
    "        print(\"MPS not available because the current PyTorch install was not \"\n",
    "              \"built with MPS enabled.\")\n",
    "    else:\n",
    "        print(\"MPS not available because the current MacOS version is not 12.3+ \"\n",
    "              \"and/or you do not have an MPS-enabled device on this machine.\")\n",
    "\n",
    "else:\n",
    "    mps_device = torch.device(\"mps\")\n",
    "    print(\"MPS device: \", mps_device)"
   ]
  },
  {
   "attachments": {},
   "cell_type": "markdown",
   "metadata": {},
   "source": [
    "## 0. Initialization of the Empty `fun_control` Dictionary"
   ]
  },
  {
   "cell_type": "code",
   "execution_count": 9,
   "metadata": {},
   "outputs": [],
   "source": [
    "fun_control = fun_control_init()"
   ]
  },
  {
   "attachments": {},
   "cell_type": "markdown",
   "metadata": {},
   "source": [
    "## 1. Load Cifar10 Data "
   ]
  },
  {
   "attachments": {},
   "cell_type": "markdown",
   "metadata": {},
   "source": [
    "The data loading is implemented as in the Section \"Data loaders\" in the PyTorch tutorial [Hyperparameter Tuning  with Ray Tune](https://pytorch.org/tutorials/beginner/hyperparameter_tuning_tutorial.html)."
   ]
  },
  {
   "cell_type": "code",
   "execution_count": 10,
   "metadata": {},
   "outputs": [],
   "source": [
    "def load_data(data_dir=\"./data\"):\n",
    "    transform = transforms.Compose([\n",
    "        transforms.ToTensor(),\n",
    "        transforms.Normalize((0.5, 0.5, 0.5), (0.5, 0.5, 0.5))\n",
    "    ])\n",
    "\n",
    "    trainset = torchvision.datasets.CIFAR10(\n",
    "        root=data_dir, train=True, download=True, transform=transform)\n",
    "\n",
    "    testset = torchvision.datasets.CIFAR10(\n",
    "        root=data_dir, train=False, download=True, transform=transform)\n",
    "\n",
    "    return trainset, testset"
   ]
  },
  {
   "cell_type": "code",
   "execution_count": 11,
   "metadata": {},
   "outputs": [
    {
     "name": "stdout",
     "output_type": "stream",
     "text": [
      "Files already downloaded and verified\n",
      "Files already downloaded and verified\n"
     ]
    },
    {
     "data": {
      "text/plain": [
       "((50000, 32, 32, 3), (10000, 32, 32, 3))"
      ]
     },
     "execution_count": 11,
     "metadata": {},
     "output_type": "execute_result"
    }
   ],
   "source": [
    "train, test = load_data()\n",
    "train.data.shape, test.data.shape"
   ]
  },
  {
   "cell_type": "code",
   "execution_count": 12,
   "metadata": {},
   "outputs": [],
   "source": [
    "n_samples = len(train)\n",
    "# add the dataset to the fun_control\n",
    "fun_control.update({\"data\": None, # dataset,\n",
    "               \"train\": train,\n",
    "               \"test\": test,\n",
    "               \"n_samples\": n_samples,\n",
    "               \"target_column\": None})"
   ]
  },
  {
   "attachments": {},
   "cell_type": "markdown",
   "metadata": {},
   "source": [
    "## 2. Specification of the Preprocessing Model\n",
    "\n",
    "Because the Ray Tune hyperparameter tuning does not use a preprocessing model, the preprocessing model is set to `None` here."
   ]
  },
  {
   "cell_type": "code",
   "execution_count": 13,
   "metadata": {},
   "outputs": [],
   "source": [
    "# categorical_columns = []\n",
    "# one_hot_encoder = OneHotEncoder(handle_unknown=\"ignore\", sparse_output=False)\n",
    "# prep_model = ColumnTransformer(\n",
    "#         transformers=[\n",
    "#             (\"categorical\", one_hot_encoder, categorical_columns),\n",
    "#         ],\n",
    "#         remainder=StandardScaler(),\n",
    "#     )\n",
    "prep_model = None\n",
    "fun_control.update({\"prep_model\": prep_model})"
   ]
  },
  {
   "attachments": {},
   "cell_type": "markdown",
   "metadata": {},
   "source": [
    "## 3. Select `algorithm` and `core_model_hyper_dict`"
   ]
  },
  {
   "attachments": {},
   "cell_type": "markdown",
   "metadata": {},
   "source": [
    "The same model as implemented as in the Section \"Configurable neural network\" in the PyTorch tutorial [Hyperparameter Tuning  with Ray Tune](https://pytorch.org/tutorials/beginner/hyperparameter_tuning_tutorial.html) is used here. `spotPython` implements a class which is similar to the class described in the PyTorch tutorial. The class is called `Net_CIFAR10`   and is implemented in the file `netcifar10.py`. The class is imported here.\n",
    "\n",
    "Note: In addition to the class Net from the PyTorch tutorial, the class Net_CIFAR10 has additional attributes, namely:\n",
    "\n",
    "* learning rate (`lr`),\n",
    "* batchsize (`batch_size`),\n",
    "* epochs (`epochs`), and\n",
    "* k_folds (`k_folds`).\n",
    "\n",
    "Further attributes can be easily added to the class, e.g., `optimizer` or `loss_function`."
   ]
  },
  {
   "cell_type": "code",
   "execution_count": 14,
   "metadata": {},
   "outputs": [],
   "source": [
    "core_model = Net_CIFAR10\n",
    "fun_control = add_core_model_to_fun_control(core_model=core_model,\n",
    "                              fun_control=fun_control,\n",
    "                              hyper_dict=TorchHyperDict,\n",
    "                              filename=None)"
   ]
  },
  {
   "attachments": {},
   "cell_type": "markdown",
   "metadata": {},
   "source": [
    "### The `hyper_dict` Hyperparameters for the Selected Algorithm"
   ]
  },
  {
   "attachments": {},
   "cell_type": "markdown",
   "metadata": {},
   "source": [
    "`spotPython` uses simple `JSON` files for the specification of the hyperparameters. The `JSON` file for the `core_model` is called `torch_hyper_dict.json`. The corresponding entries for the `Net_CIFAR10` class are shown below.\n",
    "\n",
    "```json\n",
    "{\"Net_CIFAR10\":\n",
    "    {\n",
    "        \"l1\": {\n",
    "            \"type\": \"int\",\n",
    "            \"default\": 5,\n",
    "            \"transform\": \"transform_power_2_int\",\n",
    "            \"lower\": 2,\n",
    "            \"upper\": 9},\n",
    "        \"l2\": {\n",
    "            \"type\": \"int\",\n",
    "            \"default\": 5,\n",
    "            \"transform\": \"transform_power_2_int\",\n",
    "            \"lower\": 2,\n",
    "            \"upper\": 9},\n",
    "        \"lr\": {\n",
    "            \"type\": \"float\",\n",
    "            \"default\": 1e-03,\n",
    "            \"transform\": \"None\",\n",
    "            \"lower\": 1e-05,\n",
    "            \"upper\": 1e-02},\n",
    "        \"batch_size\": {\n",
    "            \"type\": \"int\",\n",
    "            \"default\": 4,\n",
    "            \"transform\": \"transform_power_2_int\",\n",
    "            \"lower\": 1,\n",
    "            \"upper\": 4},\n",
    "        \"epochs\": {\n",
    "                \"type\": \"int\",\n",
    "                \"default\": 3,\n",
    "                \"transform\": \"transform_power_2_int\",\n",
    "                \"lower\": 1,\n",
    "                \"upper\": 4},\n",
    "        \"k_folds\": {\n",
    "            \"type\": \"int\",\n",
    "            \"default\": 2,\n",
    "            \"transform\": \"None\",\n",
    "            \"lower\": 2,\n",
    "            \"upper\": 3},\n",
    "        \"patience\": {\n",
    "            \"type\": \"int\",\n",
    "            \"default\": 5,\n",
    "            \"transform\": \"None\",\n",
    "            \"lower\": 2,\n",
    "            \"upper\": 10},\n",
    "    }\n",
    "}\n",
    "```\n",
    "\n",
    "Each entry in the `JSON` file represents one hyperparameter with the following structure:\n",
    "`type`, `default`, `transform`, `lower`, and `upper`.\n"
   ]
  },
  {
   "attachments": {},
   "cell_type": "markdown",
   "metadata": {},
   "source": [
    "### Categorical Hyperparameters"
   ]
  },
  {
   "attachments": {},
   "cell_type": "markdown",
   "metadata": {},
   "source": [
    "In contrast to Ray Tune, `spotPython` can handle numerical, boolean, and categorical hyperparameters. Since `Ray Tune` does not tune categorical hyperparameters, they are not used here. However, they can be specified in the `JSON` file in a similar way as the numerical hyperparameters as shown below:\n",
    "\n",
    "```json\n",
    "\"factor_hyperparameter\": {\n",
    "    \"levels\": [\"A\", \"B\", \"C\"],\n",
    "    \"type\": \"factor\",\n",
    "    \"default\": \"B\",\n",
    "    \"transform\": \"None\",\n",
    "    \"core_model_parameter_type\": \"str\",\n",
    "    \"lower\": 0,\n",
    "    \"upper\": 2},\n",
    "```"
   ]
  },
  {
   "attachments": {},
   "cell_type": "markdown",
   "metadata": {},
   "source": [
    "## 4. Modify `hyper_dict` Hyperparameters for the Selected Algorithm aka `core_model`"
   ]
  },
  {
   "attachments": {},
   "cell_type": "markdown",
   "metadata": {},
   "source": [
    "After specifying the model, the corresponding hyperparameters, their types and bounds are loaded from the `JSON` file `torch_hyper_dict.json`. After loading, the user can modify the hyperparameters, e.g., the bounds.\n",
    "`spotPython` provides a clever rule for de-activating hyperparameters. If the lower and the upper bound are set to identical values, the hyperparameter is de-activated. This is useful for the hyperparameter tuning, because it allows to specify a hyperparameter in the `JSON` file, but to de-activate it in the `fun_control` dictionary. This is done in the next step."
   ]
  },
  {
   "attachments": {},
   "cell_type": "markdown",
   "metadata": {},
   "source": [
    "### Modify hyperparameter of type numeric and integer (boolean)\n",
    "\n",
    "Since the hyperparameter `k_folds` is not used in the PyTorch tutorial, it is de-activated here by setting the lower and upper bound to the same value."
   ]
  },
  {
   "cell_type": "code",
   "execution_count": 15,
   "metadata": {},
   "outputs": [
    {
     "data": {
      "text/plain": [
       "{'l1': {'type': 'int',\n",
       "  'default': 5,\n",
       "  'transform': 'transform_power_2_int',\n",
       "  'lower': 2,\n",
       "  'upper': 9},\n",
       " 'l2': {'type': 'int',\n",
       "  'default': 5,\n",
       "  'transform': 'transform_power_2_int',\n",
       "  'lower': 2,\n",
       "  'upper': 9},\n",
       " 'lr': {'type': 'float',\n",
       "  'default': 0.001,\n",
       "  'transform': 'None',\n",
       "  'lower': 1e-05,\n",
       "  'upper': 0.01},\n",
       " 'batch_size': {'type': 'int',\n",
       "  'default': 4,\n",
       "  'transform': 'transform_power_2_int',\n",
       "  'lower': 1,\n",
       "  'upper': 5},\n",
       " 'epochs': {'type': 'int',\n",
       "  'default': 3,\n",
       "  'transform': 'transform_power_2_int',\n",
       "  'lower': 3,\n",
       "  'upper': 4},\n",
       " 'k_folds': {'type': 'int',\n",
       "  'default': 2,\n",
       "  'transform': 'None',\n",
       "  'lower': 0,\n",
       "  'upper': 0},\n",
       " 'patience': {'type': 'int',\n",
       "  'default': 5,\n",
       "  'transform': 'None',\n",
       "  'lower': 5,\n",
       "  'upper': 5}}"
      ]
     },
     "execution_count": 15,
     "metadata": {},
     "output_type": "execute_result"
    }
   ],
   "source": [
    "fun_control = modify_hyper_parameter_bounds(fun_control, \"batch_size\", bounds=[1, 5])\n",
    "fun_control = modify_hyper_parameter_bounds(fun_control, \"k_folds\", bounds=[0, 0])\n",
    "fun_control = modify_hyper_parameter_bounds(fun_control, \"patience\", bounds=[5, 5])\n",
    "fun_control[\"core_model_hyper_dict\"]"
   ]
  },
  {
   "attachments": {},
   "cell_type": "markdown",
   "metadata": {},
   "source": [
    "### Modify hyperparameter of type factor"
   ]
  },
  {
   "attachments": {},
   "cell_type": "markdown",
   "metadata": {},
   "source": [
    "In a similar manner as for the numerical hyperparameters, the categorical hyperparameters can be modified. For example, the hyperparameter `leaf_model` is de-activated here by choosing only one value `\"LinearRegression\"`."
   ]
  },
  {
   "cell_type": "code",
   "execution_count": 16,
   "metadata": {},
   "outputs": [],
   "source": [
    "# fun_control = modify_hyper_parameter_levels(fun_control, \"leaf_model\", [\"LinearRegression\"])"
   ]
  },
  {
   "attachments": {},
   "cell_type": "markdown",
   "metadata": {},
   "source": [
    "## 5. Selection of the Objective (Loss) Function"
   ]
  },
  {
   "attachments": {},
   "cell_type": "markdown",
   "metadata": {},
   "source": [
    "There are two metrics:\n",
    "\n",
    "    1. `metric` is used for the river based evaluation via `eval_oml_iter_progressive`.\n",
    "    2. `metric_sklearn` is used for the sklearn based evaluation."
   ]
  },
  {
   "attachments": {},
   "cell_type": "markdown",
   "metadata": {},
   "source": [
    "**Important**:\n",
    "\n",
    "* `spotPython` performs minimization by default.\n",
    "* If accuracy should be maximized, then the objective function has to be multiplied by -1. Therefore, `weights` is set to -1 in this case."
   ]
  },
  {
   "cell_type": "code",
   "execution_count": 17,
   "metadata": {},
   "outputs": [],
   "source": [
    "fun = HyperTorch(seed=123, log_level=50).fun_torch\n",
    "weights = 1.0\n",
    "shuffle = True\n",
    "eval = \"train_hold_out\"\n",
    "device = DEVICE\n",
    "show_batch_interval = 100_000\n",
    "save_model = True\n",
    "path=\"torch_model.pt\"\n",
    "\n",
    "fun_control.update({\n",
    "               \"data_dir\": None,\n",
    "               \"checkpoint_dir\": None,\n",
    "               \"horizon\": None,\n",
    "               \"oml_grace_period\": None,\n",
    "               \"weights\": weights,\n",
    "               \"step\": None,\n",
    "               \"log_level\": 50,\n",
    "               \"weight_coeff\": None,\n",
    "               \"metric\": None,\n",
    "               \"metric_sklearn\": None,\n",
    "               \"shuffle\": shuffle,\n",
    "               \"eval\": eval,\n",
    "               \"device\": device,\n",
    "               \"show_batch_interval\": show_batch_interval,\n",
    "               \"save_model\": save_model,\n",
    "               \"path\": path,\n",
    "               })"
   ]
  },
  {
   "attachments": {},
   "cell_type": "markdown",
   "metadata": {},
   "source": [
    "## 6. Calling the SPOT Function"
   ]
  },
  {
   "attachments": {},
   "cell_type": "markdown",
   "metadata": {},
   "source": [
    "### Prepare the SPOT Parameters"
   ]
  },
  {
   "attachments": {},
   "cell_type": "markdown",
   "metadata": {},
   "source": [
    "* Get types and variable names as well as lower and upper bounds for the hyperparameters.\n",
    "* This step is necessary, because some parameters from the `fun_control` dictionary are explicitly required by the SPOT function."
   ]
  },
  {
   "cell_type": "code",
   "execution_count": 18,
   "metadata": {},
   "outputs": [],
   "source": [
    "var_type = get_var_type(fun_control)\n",
    "var_name = get_var_name(fun_control)\n",
    "fun_control.update({\"var_type\": var_type,\n",
    "                    \"var_name\": var_name})\n",
    "\n",
    "lower = get_bound_values(fun_control, \"lower\")\n",
    "upper = get_bound_values(fun_control, \"upper\")"
   ]
  },
  {
   "cell_type": "code",
   "execution_count": 19,
   "metadata": {},
   "outputs": [
    {
     "name": "stdout",
     "output_type": "stream",
     "text": [
      "| name       | type   |   default |   lower |   upper | transform             |\n",
      "|------------|--------|-----------|---------|---------|-----------------------|\n",
      "| l1         | int    |     5     |   2     |    9    | transform_power_2_int |\n",
      "| l2         | int    |     5     |   2     |    9    | transform_power_2_int |\n",
      "| lr         | float  |     0.001 |   1e-05 |    0.01 | None                  |\n",
      "| batch_size | int    |     4     |   1     |    5    | transform_power_2_int |\n",
      "| epochs     | int    |     3     |   3     |    4    | transform_power_2_int |\n",
      "| k_folds    | int    |     2     |   0     |    0    | None                  |\n",
      "| patience   | int    |     5     |   5     |    5    | None                  |\n"
     ]
    }
   ],
   "source": [
    "print(gen_design_table(fun_control))"
   ]
  },
  {
   "attachments": {},
   "cell_type": "markdown",
   "metadata": {},
   "source": [
    "### Run the `Spot` Optimizer\n",
    "\n",
    "* Run SPOT for approx. x mins (`max_time`).\n",
    "* Note: the run takes longer, because the evaluation time of initial design (here: `initi_size`, 20 points) is not considered."
   ]
  },
  {
   "cell_type": "code",
   "execution_count": 20,
   "metadata": {},
   "outputs": [
    {
     "data": {
      "text/plain": [
       "array([[5.e+00, 5.e+00, 1.e-03, 4.e+00, 3.e+00, 2.e+00, 5.e+00]])"
      ]
     },
     "execution_count": 20,
     "metadata": {},
     "output_type": "execute_result"
    }
   ],
   "source": [
    "from spotPython.hyperparameters.values import get_default_hyperparameters_as_array\n",
    "hyper_dict=TorchHyperDict().load()\n",
    "X_start = get_default_hyperparameters_as_array(fun_control, hyper_dict)\n",
    "X_start"
   ]
  },
  {
   "cell_type": "code",
   "execution_count": 21,
   "metadata": {},
   "outputs": [
    {
     "name": "stdout",
     "output_type": "stream",
     "text": [
      "Epoch: 1\n",
      "Loss on hold-out set: 1.6353180953025819\n",
      "Accuracy on hold-out set: 0.3911\n",
      "Epoch: 2\n",
      "Loss on hold-out set: 1.4820956779479981\n",
      "Accuracy on hold-out set: 0.46695\n",
      "Epoch: 3\n",
      "Loss on hold-out set: 1.3938081372737885\n",
      "Accuracy on hold-out set: 0.5009\n",
      "Epoch: 4\n",
      "Loss on hold-out set: 1.3035346683502198\n",
      "Accuracy on hold-out set: 0.5398\n",
      "Epoch: 5\n",
      "Loss on hold-out set: 1.2625244483947753\n",
      "Accuracy on hold-out set: 0.5537\n",
      "Epoch: 6\n",
      "Loss on hold-out set: 1.2672124380588532\n",
      "Accuracy on hold-out set: 0.5577\n",
      "Epoch: 7\n",
      "Loss on hold-out set: 1.2238256118774413\n",
      "Accuracy on hold-out set: 0.5713\n",
      "Epoch: 8\n",
      "Loss on hold-out set: 1.1821977684020997\n",
      "Accuracy on hold-out set: 0.5859\n",
      "Epoch: 9\n",
      "Loss on hold-out set: 1.1672988702297211\n",
      "Accuracy on hold-out set: 0.58965\n",
      "Epoch: 10\n",
      "Loss on hold-out set: 1.2051970479488372\n",
      "Accuracy on hold-out set: 0.57935\n",
      "Epoch: 11\n",
      "Loss on hold-out set: 1.1606332218170166\n",
      "Accuracy on hold-out set: 0.5967\n",
      "Epoch: 12\n",
      "Loss on hold-out set: 1.1754896848678589\n",
      "Accuracy on hold-out set: 0.5988\n",
      "Epoch: 13\n",
      "Loss on hold-out set: 1.19219343791008\n",
      "Accuracy on hold-out set: 0.5948\n",
      "Epoch: 14\n",
      "Loss on hold-out set: 1.2215171540498733\n",
      "Accuracy on hold-out set: 0.59365\n",
      "Epoch: 15\n",
      "Loss on hold-out set: 1.2030498923778534\n",
      "Accuracy on hold-out set: 0.60245\n",
      "Epoch: 16\n",
      "Loss on hold-out set: 1.1939653575897218\n",
      "Accuracy on hold-out set: 0.60495\n",
      "Early stopping at epoch 15\n",
      "Returned to Spot: Validation loss: 1.1939653575897218\n",
      "----------------------------------------------\n",
      "Epoch: 1\n",
      "Loss on hold-out set: 1.9191055357933045\n",
      "Accuracy on hold-out set: 0.26925\n",
      "Epoch: 2\n",
      "Loss on hold-out set: 1.7209192553520203\n",
      "Accuracy on hold-out set: 0.34895\n",
      "Epoch: 3\n",
      "Loss on hold-out set: 1.6119194713592528\n",
      "Accuracy on hold-out set: 0.3971\n",
      "Epoch: 4\n",
      "Loss on hold-out set: 1.544175301361084\n",
      "Accuracy on hold-out set: 0.42125\n",
      "Epoch: 5\n",
      "Loss on hold-out set: 1.4887533783912659\n",
      "Accuracy on hold-out set: 0.44655\n",
      "Epoch: 6\n",
      "Loss on hold-out set: 1.4861320707798005\n",
      "Accuracy on hold-out set: 0.44925\n",
      "Epoch: 7\n",
      "Loss on hold-out set: 1.4569668212413789\n",
      "Accuracy on hold-out set: 0.46575\n",
      "Epoch: 8\n",
      "Loss on hold-out set: 1.4188519758701323\n",
      "Accuracy on hold-out set: 0.47955\n",
      "Epoch: 9\n",
      "Loss on hold-out set: 1.3791828262329102\n",
      "Accuracy on hold-out set: 0.4979\n",
      "Epoch: 10\n",
      "Loss on hold-out set: 1.3501547187805176\n",
      "Accuracy on hold-out set: 0.5085\n",
      "Epoch: 11\n",
      "Loss on hold-out set: 1.3324683804512023\n",
      "Accuracy on hold-out set: 0.51695\n",
      "Epoch: 12\n",
      "Loss on hold-out set: 1.335943972492218\n",
      "Accuracy on hold-out set: 0.5183\n",
      "Epoch: 13\n",
      "Loss on hold-out set: 1.296693949174881\n",
      "Accuracy on hold-out set: 0.533\n",
      "Epoch: 14\n",
      "Loss on hold-out set: 1.3121322376728057\n",
      "Accuracy on hold-out set: 0.52355\n",
      "Epoch: 15\n",
      "Loss on hold-out set: 1.2742091259479522\n",
      "Accuracy on hold-out set: 0.5424\n",
      "Epoch: 16\n",
      "Loss on hold-out set: 1.271131972026825\n",
      "Accuracy on hold-out set: 0.54545\n",
      "Returned to Spot: Validation loss: 1.271131972026825\n",
      "----------------------------------------------\n",
      "Epoch: 1\n",
      "Loss on hold-out set: 1.7016958532333375\n",
      "Accuracy on hold-out set: 0.3542\n",
      "Epoch: 2\n",
      "Loss on hold-out set: 1.516454700857401\n",
      "Accuracy on hold-out set: 0.4464\n",
      "Epoch: 3\n",
      "Loss on hold-out set: 1.4162358125656844\n",
      "Accuracy on hold-out set: 0.49335\n",
      "Epoch: 4\n",
      "Loss on hold-out set: 1.4391912922173737\n",
      "Accuracy on hold-out set: 0.49505\n",
      "Epoch: 5\n",
      "Loss on hold-out set: 1.3665350450143219\n",
      "Accuracy on hold-out set: 0.51395\n",
      "Epoch: 6\n",
      "Loss on hold-out set: 1.3453110647067428\n",
      "Accuracy on hold-out set: 0.53205\n",
      "Epoch: 7\n",
      "Loss on hold-out set: 1.310161397895217\n",
      "Accuracy on hold-out set: 0.54945\n",
      "Epoch: 8\n",
      "Loss on hold-out set: 1.324634154119715\n",
      "Accuracy on hold-out set: 0.55165\n",
      "Epoch: 9\n",
      "Loss on hold-out set: 1.303674748922512\n",
      "Accuracy on hold-out set: 0.5623\n",
      "Epoch: 10\n",
      "Loss on hold-out set: 1.2394043211519719\n",
      "Accuracy on hold-out set: 0.57835\n",
      "Epoch: 11\n",
      "Loss on hold-out set: 1.2276402463119478\n",
      "Accuracy on hold-out set: 0.5832\n",
      "Epoch: 12\n",
      "Loss on hold-out set: 1.3104722015291452\n",
      "Accuracy on hold-out set: 0.5788\n",
      "Epoch: 13\n",
      "Loss on hold-out set: 1.2804519717182965\n",
      "Accuracy on hold-out set: 0.58815\n",
      "Epoch: 14\n",
      "Loss on hold-out set: 1.289586353564472\n",
      "Accuracy on hold-out set: 0.57955\n",
      "Epoch: 15\n",
      "Loss on hold-out set: 1.2457197821588255\n",
      "Accuracy on hold-out set: 0.6008\n",
      "Epoch: 16\n",
      "Loss on hold-out set: 1.2455770353815518\n",
      "Accuracy on hold-out set: 0.6023\n",
      "Early stopping at epoch 15\n",
      "Returned to Spot: Validation loss: 1.2455770353815518\n",
      "----------------------------------------------\n",
      "Epoch: 1\n",
      "Loss on hold-out set: 1.676099386024475\n",
      "Accuracy on hold-out set: 0.3729\n",
      "Epoch: 2\n",
      "Loss on hold-out set: 1.5582540079593659\n",
      "Accuracy on hold-out set: 0.4229\n",
      "Epoch: 3\n",
      "Loss on hold-out set: 1.4881567221403122\n",
      "Accuracy on hold-out set: 0.4481\n",
      "Epoch: 4\n",
      "Loss on hold-out set: 1.4706732199549675\n",
      "Accuracy on hold-out set: 0.45315\n",
      "Epoch: 5\n",
      "Loss on hold-out set: 1.5132097747087478\n",
      "Accuracy on hold-out set: 0.45555\n",
      "Epoch: 6\n",
      "Loss on hold-out set: 1.3518798064589501\n",
      "Accuracy on hold-out set: 0.50905\n",
      "Epoch: 7\n",
      "Loss on hold-out set: 1.347728444802761\n",
      "Accuracy on hold-out set: 0.50925\n",
      "Epoch: 8\n",
      "Loss on hold-out set: 1.284083797299862\n",
      "Accuracy on hold-out set: 0.53815\n",
      "Returned to Spot: Validation loss: 1.284083797299862\n",
      "----------------------------------------------\n",
      "Epoch: 1\n",
      "Loss on hold-out set: 1.6907442019462586\n",
      "Accuracy on hold-out set: 0.37575\n",
      "Epoch: 2\n",
      "Loss on hold-out set: 1.4890891255378722\n",
      "Accuracy on hold-out set: 0.45435\n",
      "Epoch: 3\n",
      "Loss on hold-out set: 1.4049045365810395\n",
      "Accuracy on hold-out set: 0.49\n",
      "Epoch: 4\n",
      "Loss on hold-out set: 1.3426470928668977\n",
      "Accuracy on hold-out set: 0.51485\n",
      "Epoch: 5\n",
      "Loss on hold-out set: 1.3666164987325669\n",
      "Accuracy on hold-out set: 0.5107\n",
      "Epoch: 6\n",
      "Loss on hold-out set: 1.2801056299209594\n",
      "Accuracy on hold-out set: 0.54335\n",
      "Epoch: 7\n",
      "Loss on hold-out set: 1.2566581913948058\n",
      "Accuracy on hold-out set: 0.5556\n",
      "Epoch: 8\n",
      "Loss on hold-out set: 1.2234895650863646\n",
      "Accuracy on hold-out set: 0.56275\n",
      "Returned to Spot: Validation loss: 1.2234895650863646\n",
      "----------------------------------------------\n",
      "Epoch: 1\n",
      "Loss on hold-out set: 1.7277230251550675\n",
      "Accuracy on hold-out set: 0.37025\n",
      "Epoch: 2\n",
      "Loss on hold-out set: 1.507260275387764\n",
      "Accuracy on hold-out set: 0.4473\n",
      "Epoch: 3\n",
      "Loss on hold-out set: 1.4902602382063865\n",
      "Accuracy on hold-out set: 0.46225\n",
      "Epoch: 4\n",
      "Loss on hold-out set: 1.3680458063125611\n",
      "Accuracy on hold-out set: 0.51135\n",
      "Epoch: 5\n",
      "Loss on hold-out set: 1.3487183717012405\n",
      "Accuracy on hold-out set: 0.5139\n",
      "Epoch: 6\n",
      "Loss on hold-out set: 1.323101977968216\n",
      "Accuracy on hold-out set: 0.52935\n",
      "Epoch: 7\n",
      "Loss on hold-out set: 1.276727050513029\n",
      "Accuracy on hold-out set: 0.5538\n",
      "Epoch: 8\n",
      "Loss on hold-out set: 1.213384804582596\n",
      "Accuracy on hold-out set: 0.5753\n",
      "Epoch: 9\n",
      "Loss on hold-out set: 1.2053755081951618\n",
      "Accuracy on hold-out set: 0.58255\n",
      "Epoch: 10\n",
      "Loss on hold-out set: 1.2043024800777435\n",
      "Accuracy on hold-out set: 0.5878\n",
      "Epoch: 11\n",
      "Loss on hold-out set: 1.2087785354912282\n",
      "Accuracy on hold-out set: 0.5859\n",
      "Epoch: 12\n",
      "Loss on hold-out set: 1.1722950853705407\n",
      "Accuracy on hold-out set: 0.5987\n",
      "Epoch: 13\n",
      "Loss on hold-out set: 1.182120413890481\n",
      "Accuracy on hold-out set: 0.6064\n",
      "Epoch: 14\n",
      "Loss on hold-out set: 1.1810384804010392\n",
      "Accuracy on hold-out set: 0.60915\n",
      "Epoch: 15\n",
      "Loss on hold-out set: 1.1934323726266622\n",
      "Accuracy on hold-out set: 0.6073\n",
      "Epoch: 16\n",
      "Loss on hold-out set: 1.2377790609121322\n",
      "Accuracy on hold-out set: 0.6066\n",
      "Returned to Spot: Validation loss: 1.2377790609121322\n",
      "----------------------------------------------\n",
      "Epoch: 1\n",
      "Loss on hold-out set: 1.5882922129131853\n",
      "Accuracy on hold-out set: 0.44195\n",
      "Epoch: 2\n",
      "Loss on hold-out set: 1.572057825526921\n",
      "Accuracy on hold-out set: 0.4548\n",
      "Epoch: 3\n",
      "Loss on hold-out set: 1.5261642696669238\n",
      "Accuracy on hold-out set: 0.4831\n",
      "Epoch: 4\n",
      "Loss on hold-out set: 1.466066981154721\n",
      "Accuracy on hold-out set: 0.50285\n",
      "Epoch: 5\n",
      "Loss on hold-out set: 1.6261529841966071\n",
      "Accuracy on hold-out set: 0.4921\n",
      "Epoch: 6\n",
      "Loss on hold-out set: 1.5605321495797757\n",
      "Accuracy on hold-out set: 0.5129\n",
      "Epoch: 7\n",
      "Loss on hold-out set: 1.5794383172750923\n",
      "Accuracy on hold-out set: 0.51075\n",
      "Epoch: 8\n",
      "Loss on hold-out set: 1.5009692699231674\n",
      "Accuracy on hold-out set: 0.5084\n",
      "Returned to Spot: Validation loss: 1.5009692699231674\n",
      "----------------------------------------------\n",
      "Epoch: 1\n",
      "Loss on hold-out set: 1.4805760071516036\n",
      "Accuracy on hold-out set: 0.4617\n",
      "Epoch: 2\n",
      "Loss on hold-out set: 1.3848123685702682\n",
      "Accuracy on hold-out set: 0.5148\n",
      "Epoch: 3\n",
      "Loss on hold-out set: 1.245139455370605\n",
      "Accuracy on hold-out set: 0.56405\n",
      "Epoch: 4\n",
      "Loss on hold-out set: 1.22264027441442\n",
      "Accuracy on hold-out set: 0.57585\n",
      "Epoch: 5\n",
      "Loss on hold-out set: 1.2552817651434802\n",
      "Accuracy on hold-out set: 0.5872\n",
      "Epoch: 6\n",
      "Loss on hold-out set: 1.2230581265261862\n",
      "Accuracy on hold-out set: 0.5998\n",
      "Epoch: 7\n",
      "Loss on hold-out set: 1.2198836176016368\n",
      "Accuracy on hold-out set: 0.60545\n",
      "Epoch: 8\n",
      "Loss on hold-out set: 1.3071822185704542\n",
      "Accuracy on hold-out set: 0.60945\n",
      "Epoch: 9\n",
      "Loss on hold-out set: 1.4320438791289563\n",
      "Accuracy on hold-out set: 0.6019\n",
      "Epoch: 10\n",
      "Loss on hold-out set: 1.5615537534986896\n",
      "Accuracy on hold-out set: 0.607\n",
      "Epoch: 11\n",
      "Loss on hold-out set: 1.708617112264855\n",
      "Accuracy on hold-out set: 0.60775\n",
      "Epoch: 12\n",
      "Loss on hold-out set: 2.1209755219076625\n",
      "Accuracy on hold-out set: 0.57275\n",
      "Early stopping at epoch 11\n",
      "Returned to Spot: Validation loss: 2.1209755219076625\n",
      "----------------------------------------------\n",
      "Epoch: 1\n",
      "Loss on hold-out set: 1.8437746249899267\n",
      "Accuracy on hold-out set: 0.33395\n",
      "Epoch: 2\n",
      "Loss on hold-out set: 1.673482632728666\n",
      "Accuracy on hold-out set: 0.39685\n",
      "Epoch: 3\n",
      "Loss on hold-out set: 1.594247111414373\n",
      "Accuracy on hold-out set: 0.4261\n",
      "Epoch: 4\n",
      "Loss on hold-out set: 1.56549127603136\n",
      "Accuracy on hold-out set: 0.44425\n",
      "Epoch: 5\n",
      "Loss on hold-out set: 1.491891538984701\n",
      "Accuracy on hold-out set: 0.47255\n",
      "Epoch: 6\n",
      "Loss on hold-out set: 1.474142962560011\n",
      "Accuracy on hold-out set: 0.4831\n",
      "Epoch: 7\n",
      "Loss on hold-out set: 1.4351532916538416\n",
      "Accuracy on hold-out set: 0.49985\n",
      "Epoch: 8\n",
      "Loss on hold-out set: 1.3995470375584438\n",
      "Accuracy on hold-out set: 0.5111\n",
      "Returned to Spot: Validation loss: 1.3995470375584438\n",
      "----------------------------------------------\n",
      "Epoch: 1\n",
      "Loss on hold-out set: 1.665874054145813\n",
      "Accuracy on hold-out set: 0.3879\n",
      "Epoch: 2\n",
      "Loss on hold-out set: 1.5224209423065185\n",
      "Accuracy on hold-out set: 0.441\n",
      "Epoch: 3\n",
      "Loss on hold-out set: 1.4783668643951415\n",
      "Accuracy on hold-out set: 0.4545\n",
      "Epoch: 4\n",
      "Loss on hold-out set: 1.4741760730743407\n",
      "Accuracy on hold-out set: 0.45945\n",
      "Epoch: 5\n",
      "Loss on hold-out set: 1.448049326992035\n",
      "Accuracy on hold-out set: 0.4763\n",
      "Epoch: 6\n",
      "Loss on hold-out set: 1.3659859036445618\n",
      "Accuracy on hold-out set: 0.5078\n",
      "Epoch: 7\n",
      "Loss on hold-out set: 1.324009544277191\n",
      "Accuracy on hold-out set: 0.51565\n",
      "Epoch: 8\n",
      "Loss on hold-out set: 1.331481462097168\n",
      "Accuracy on hold-out set: 0.5148\n",
      "Returned to Spot: Validation loss: 1.331481462097168\n",
      "----------------------------------------------\n",
      "Epoch: 1\n",
      "Loss on hold-out set: 1.7564402606964111\n",
      "Accuracy on hold-out set: 0.32\n",
      "Epoch: 2\n",
      "Loss on hold-out set: 1.6286100358963014\n",
      "Accuracy on hold-out set: 0.38195\n",
      "Epoch: 3\n",
      "Loss on hold-out set: 1.5326136804580688\n",
      "Accuracy on hold-out set: 0.40915\n",
      "Epoch: 4\n",
      "Loss on hold-out set: 1.4932803500175476\n",
      "Accuracy on hold-out set: 0.43435\n",
      "Epoch: 5\n",
      "Loss on hold-out set: 1.4403398309707642\n",
      "Accuracy on hold-out set: 0.4649\n",
      "Epoch: 6\n",
      "Loss on hold-out set: 1.3792478609085084\n",
      "Accuracy on hold-out set: 0.4914\n",
      "Epoch: 7\n",
      "Loss on hold-out set: 1.3532597735404968\n",
      "Accuracy on hold-out set: 0.50165\n",
      "Epoch: 8\n",
      "Loss on hold-out set: 1.34687793340683\n",
      "Accuracy on hold-out set: 0.5043\n",
      "Epoch: 9\n",
      "Loss on hold-out set: 1.314379927921295\n",
      "Accuracy on hold-out set: 0.51815\n",
      "Epoch: 10\n",
      "Loss on hold-out set: 1.345615850543976\n",
      "Accuracy on hold-out set: 0.50355\n",
      "Epoch: 11\n",
      "Loss on hold-out set: 1.3141511549949647\n",
      "Accuracy on hold-out set: 0.52205\n",
      "Epoch: 12\n",
      "Loss on hold-out set: 1.2874490550994873\n",
      "Accuracy on hold-out set: 0.5313\n",
      "Epoch: 13\n",
      "Loss on hold-out set: 1.3031890040397645\n",
      "Accuracy on hold-out set: 0.5275\n",
      "Epoch: 14\n",
      "Loss on hold-out set: 1.2838246293067932\n",
      "Accuracy on hold-out set: 0.5366\n",
      "Epoch: 15\n",
      "Loss on hold-out set: 1.2829319063186646\n",
      "Accuracy on hold-out set: 0.5306\n",
      "Epoch: 16\n",
      "Loss on hold-out set: 1.303737349510193\n",
      "Accuracy on hold-out set: 0.52895\n",
      "Returned to Spot: Validation loss: 1.303737349510193\n",
      "----------------------------------------------\n",
      "Epoch: 1on tuning: [#---------] 10.12% \n",
      "Loss on hold-out set: 1.9628143028259277\n",
      "Accuracy on hold-out set: 0.2078\n",
      "Epoch: 2\n",
      "Loss on hold-out set: 1.6639023827552795\n",
      "Accuracy on hold-out set: 0.3768\n",
      "Epoch: 3\n",
      "Loss on hold-out set: 1.5537511518001557\n",
      "Accuracy on hold-out set: 0.4145\n",
      "Epoch: 4\n",
      "Loss on hold-out set: 1.4753035079956054\n",
      "Accuracy on hold-out set: 0.4561\n",
      "Epoch: 5\n",
      "Loss on hold-out set: 1.4000662252426148\n",
      "Accuracy on hold-out set: 0.4916\n",
      "Epoch: 6\n",
      "Loss on hold-out set: 1.3834181465148925\n",
      "Accuracy on hold-out set: 0.49885\n",
      "Epoch: 7\n",
      "Loss on hold-out set: 1.336514692401886\n",
      "Accuracy on hold-out set: 0.51405\n",
      "Epoch: 8\n",
      "Loss on hold-out set: 1.3027749744415282\n",
      "Accuracy on hold-out set: 0.5336\n",
      "Epoch: 9\n",
      "Loss on hold-out set: 1.2872171609401704\n",
      "Accuracy on hold-out set: 0.54335\n",
      "Epoch: 10\n",
      "Loss on hold-out set: 1.275984046626091\n",
      "Accuracy on hold-out set: 0.54485\n",
      "Epoch: 11\n",
      "Loss on hold-out set: 1.3225896308183671\n",
      "Accuracy on hold-out set: 0.5357\n",
      "Epoch: 12\n",
      "Loss on hold-out set: 1.2600020198822022\n",
      "Accuracy on hold-out set: 0.56685\n",
      "Epoch: 13\n",
      "Loss on hold-out set: 1.2269903690338135\n",
      "Accuracy on hold-out set: 0.5755\n",
      "Epoch: 14\n",
      "Loss on hold-out set: 1.2331011884212495\n",
      "Accuracy on hold-out set: 0.5775\n",
      "Epoch: 15\n",
      "Loss on hold-out set: 1.258385298895836\n",
      "Accuracy on hold-out set: 0.56675\n",
      "Epoch: 16\n",
      "Loss on hold-out set: 1.2700150827646255\n",
      "Accuracy on hold-out set: 0.5754\n",
      "Returned to Spot: Validation loss: 1.2700150827646255\n",
      "----------------------------------------------\n",
      "Epoch: 1on tuning: [##--------] 21.59% \n",
      "Loss on hold-out set: 1.7027786275863648\n",
      "Accuracy on hold-out set: 0.38275\n",
      "Epoch: 2\n",
      "Loss on hold-out set: 1.4816873930931092\n",
      "Accuracy on hold-out set: 0.461\n",
      "Epoch: 3\n",
      "Loss on hold-out set: 1.3999600127220153\n",
      "Accuracy on hold-out set: 0.49595\n",
      "Epoch: 4\n",
      "Loss on hold-out set: 1.3291274097919463\n",
      "Accuracy on hold-out set: 0.5271\n",
      "Epoch: 5\n",
      "Loss on hold-out set: 1.3343278270721435\n",
      "Accuracy on hold-out set: 0.5263\n",
      "Epoch: 6\n",
      "Loss on hold-out set: 1.2526155301094055\n",
      "Accuracy on hold-out set: 0.5569\n",
      "Epoch: 7\n",
      "Loss on hold-out set: 1.215529528403282\n",
      "Accuracy on hold-out set: 0.5739\n",
      "Epoch: 8\n",
      "Loss on hold-out set: 1.236813681745529\n",
      "Accuracy on hold-out set: 0.56975\n",
      "Epoch: 9\n",
      "Loss on hold-out set: 1.2984987270832062\n",
      "Accuracy on hold-out set: 0.54995\n",
      "Epoch: 10\n",
      "Loss on hold-out set: 1.186150104212761\n",
      "Accuracy on hold-out set: 0.58285\n",
      "Epoch: 11\n",
      "Loss on hold-out set: 1.2007976449012756\n",
      "Accuracy on hold-out set: 0.5848\n",
      "Epoch: 12\n",
      "Loss on hold-out set: 1.1647181514501572\n",
      "Accuracy on hold-out set: 0.5993\n",
      "Epoch: 13\n",
      "Loss on hold-out set: 1.1842613759756089\n",
      "Accuracy on hold-out set: 0.59585\n",
      "Epoch: 14\n",
      "Loss on hold-out set: 1.1945014967441558\n",
      "Accuracy on hold-out set: 0.58885\n",
      "Epoch: 15\n",
      "Loss on hold-out set: 1.1539022975444793\n",
      "Accuracy on hold-out set: 0.6038\n",
      "Epoch: 16\n",
      "Loss on hold-out set: 1.1938176196336747\n",
      "Accuracy on hold-out set: 0.5988\n",
      "Returned to Spot: Validation loss: 1.1938176196336747\n",
      "----------------------------------------------\n",
      "Epoch: 1on tuning: [###-------] 33.15% \n",
      "Loss on hold-out set: 1.5407153022289277\n",
      "Accuracy on hold-out set: 0.43565\n",
      "Epoch: 2\n",
      "Loss on hold-out set: 1.4236275135040284\n",
      "Accuracy on hold-out set: 0.47735\n",
      "Epoch: 3\n",
      "Loss on hold-out set: 1.3647273842334748\n",
      "Accuracy on hold-out set: 0.5101\n",
      "Epoch: 4\n",
      "Loss on hold-out set: 1.2984621206760407\n",
      "Accuracy on hold-out set: 0.5317\n",
      "Epoch: 5\n",
      "Loss on hold-out set: 1.2265199638843536\n",
      "Accuracy on hold-out set: 0.5606\n",
      "Epoch: 6\n",
      "Loss on hold-out set: 1.2115553647041322\n",
      "Accuracy on hold-out set: 0.57155\n",
      "Epoch: 7\n",
      "Loss on hold-out set: 1.2394136128902435\n",
      "Accuracy on hold-out set: 0.56585\n",
      "Epoch: 8\n",
      "Loss on hold-out set: 1.2050608993053435\n",
      "Accuracy on hold-out set: 0.5797\n",
      "Epoch: 9\n",
      "Loss on hold-out set: 1.19621207549572\n",
      "Accuracy on hold-out set: 0.58505\n",
      "Epoch: 10\n",
      "Loss on hold-out set: 1.1898272356986999\n",
      "Accuracy on hold-out set: 0.5913\n",
      "Epoch: 11\n",
      "Loss on hold-out set: 1.1512437720298767\n",
      "Accuracy on hold-out set: 0.60005\n",
      "Epoch: 12\n",
      "Loss on hold-out set: 1.1974393819332123\n",
      "Accuracy on hold-out set: 0.5901\n",
      "Epoch: 13\n",
      "Loss on hold-out set: 1.1586786768198014\n",
      "Accuracy on hold-out set: 0.59905\n",
      "Epoch: 14\n",
      "Loss on hold-out set: 1.1313913877487183\n",
      "Accuracy on hold-out set: 0.61575\n",
      "Epoch: 15\n",
      "Loss on hold-out set: 1.1460032985925674\n",
      "Accuracy on hold-out set: 0.60975\n",
      "Epoch: 16\n",
      "Loss on hold-out set: 1.1541183723449706\n",
      "Accuracy on hold-out set: 0.60585\n",
      "Returned to Spot: Validation loss: 1.1541183723449706\n",
      "----------------------------------------------\n",
      "Epoch: 1on tuning: [#####-----] 45.12% \n",
      "Loss on hold-out set: 1.5828715881347657\n",
      "Accuracy on hold-out set: 0.4213\n",
      "Epoch: 2\n",
      "Loss on hold-out set: 1.435279584312439\n",
      "Accuracy on hold-out set: 0.4731\n",
      "Epoch: 3\n",
      "Loss on hold-out set: 1.3708428637981416\n",
      "Accuracy on hold-out set: 0.4989\n",
      "Epoch: 4\n",
      "Loss on hold-out set: 1.2993847153186797\n",
      "Accuracy on hold-out set: 0.5408\n",
      "Epoch: 5\n",
      "Loss on hold-out set: 1.239014314031601\n",
      "Accuracy on hold-out set: 0.5579\n",
      "Epoch: 6\n",
      "Loss on hold-out set: 1.212399707198143\n",
      "Accuracy on hold-out set: 0.56675\n",
      "Epoch: 7\n",
      "Loss on hold-out set: 1.2224298350334168\n",
      "Accuracy on hold-out set: 0.56725\n",
      "Epoch: 8\n",
      "Loss on hold-out set: 1.2111549084424973\n",
      "Accuracy on hold-out set: 0.57245\n",
      "Epoch: 9\n",
      "Loss on hold-out set: 1.2020250328063964\n",
      "Accuracy on hold-out set: 0.57685\n",
      "Epoch: 10\n",
      "Loss on hold-out set: 1.1874081072092055\n",
      "Accuracy on hold-out set: 0.5821\n",
      "Epoch: 11\n",
      "Loss on hold-out set: 1.1693494080066682\n",
      "Accuracy on hold-out set: 0.594\n",
      "Epoch: 12\n",
      "Loss on hold-out set: 1.1434422876834869\n",
      "Accuracy on hold-out set: 0.60415\n",
      "Epoch: 13\n",
      "Loss on hold-out set: 1.1385424894571303\n",
      "Accuracy on hold-out set: 0.6027\n",
      "Epoch: 14\n",
      "Loss on hold-out set: 1.1339225345373154\n",
      "Accuracy on hold-out set: 0.60815\n",
      "Epoch: 15\n",
      "Loss on hold-out set: 1.1474833911180495\n",
      "Accuracy on hold-out set: 0.60415\n",
      "Epoch: 16\n",
      "Loss on hold-out set: 1.1665813969612122\n",
      "Accuracy on hold-out set: 0.60385\n",
      "Returned to Spot: Validation loss: 1.1665813969612122\n",
      "----------------------------------------------\n",
      "Epoch: 1on tuning: [######----] 56.99% \n",
      "Loss on hold-out set: 1.5809840334892273\n",
      "Accuracy on hold-out set: 0.41215\n",
      "Epoch: 2\n",
      "Loss on hold-out set: 1.4636666313171387\n",
      "Accuracy on hold-out set: 0.4633\n",
      "Epoch: 3\n",
      "Loss on hold-out set: 1.388519749403\n",
      "Accuracy on hold-out set: 0.5004\n",
      "Epoch: 4\n",
      "Loss on hold-out set: 1.3618117135047914\n",
      "Accuracy on hold-out set: 0.5045\n",
      "Epoch: 5\n",
      "Loss on hold-out set: 1.3044895195961\n",
      "Accuracy on hold-out set: 0.5345\n",
      "Epoch: 6\n",
      "Loss on hold-out set: 1.2241200704097748\n",
      "Accuracy on hold-out set: 0.56455\n",
      "Epoch: 7\n",
      "Loss on hold-out set: 1.2762661537647246\n",
      "Accuracy on hold-out set: 0.5505\n",
      "Epoch: 8\n",
      "Loss on hold-out set: 1.1779819524288178\n",
      "Accuracy on hold-out set: 0.5812\n",
      "Epoch: 9\n",
      "Loss on hold-out set: 1.1762094312906266\n",
      "Accuracy on hold-out set: 0.58135\n",
      "Epoch: 10\n",
      "Loss on hold-out set: 1.1531397578001021\n",
      "Accuracy on hold-out set: 0.5942\n",
      "Epoch: 11\n",
      "Loss on hold-out set: 1.1994648800849914\n",
      "Accuracy on hold-out set: 0.5754\n",
      "Epoch: 12\n",
      "Loss on hold-out set: 1.2599092375278473\n",
      "Accuracy on hold-out set: 0.56545\n",
      "Epoch: 13\n",
      "Loss on hold-out set: 1.1667766340017318\n",
      "Accuracy on hold-out set: 0.5898\n",
      "Epoch: 14\n",
      "Loss on hold-out set: 1.2180531663179397\n",
      "Accuracy on hold-out set: 0.58075\n",
      "Epoch: 15\n",
      "Loss on hold-out set: 1.153250550198555\n",
      "Accuracy on hold-out set: 0.5952\n",
      "Early stopping at epoch 14\n",
      "Returned to Spot: Validation loss: 1.153250550198555\n",
      "----------------------------------------------\n",
      "Epoch: 1on tuning: [#######---] 68.06% \n",
      "Loss on hold-out set: 1.7484783376693727\n",
      "Accuracy on hold-out set: 0.31395\n",
      "Epoch: 2\n",
      "Loss on hold-out set: 1.6178069252490996\n",
      "Accuracy on hold-out set: 0.38485\n",
      "Epoch: 3\n",
      "Loss on hold-out set: 1.5350962610244752\n",
      "Accuracy on hold-out set: 0.41575\n",
      "Epoch: 4\n",
      "Loss on hold-out set: 1.4495379304885865\n",
      "Accuracy on hold-out set: 0.45625\n",
      "Epoch: 5\n",
      "Loss on hold-out set: 1.4306060154914857\n",
      "Accuracy on hold-out set: 0.46745\n",
      "Epoch: 6\n",
      "Loss on hold-out set: 1.3681851357936858\n",
      "Accuracy on hold-out set: 0.4911\n",
      "Epoch: 7\n",
      "Loss on hold-out set: 1.4441088799476625\n",
      "Accuracy on hold-out set: 0.47485\n",
      "Epoch: 8\n",
      "Loss on hold-out set: 1.359564811182022\n",
      "Accuracy on hold-out set: 0.49885\n",
      "Epoch: 9\n",
      "Loss on hold-out set: 1.3579490916252137\n",
      "Accuracy on hold-out set: 0.502\n",
      "Epoch: 10\n",
      "Loss on hold-out set: 1.3326703523159027\n",
      "Accuracy on hold-out set: 0.51055\n",
      "Epoch: 11\n",
      "Loss on hold-out set: 1.3139717991352082\n",
      "Accuracy on hold-out set: 0.51475\n",
      "Epoch: 12\n",
      "Loss on hold-out set: 1.3589226114273072\n",
      "Accuracy on hold-out set: 0.50405\n",
      "Epoch: 13\n",
      "Loss on hold-out set: 1.3926866359710692\n",
      "Accuracy on hold-out set: 0.48735\n",
      "Epoch: 14\n",
      "Loss on hold-out set: 1.4193748819828034\n",
      "Accuracy on hold-out set: 0.49085\n",
      "Epoch: 15\n",
      "Loss on hold-out set: 1.3170894848823547\n",
      "Accuracy on hold-out set: 0.5186\n",
      "Epoch: 16\n",
      "Loss on hold-out set: 1.3547856958389282\n",
      "Accuracy on hold-out set: 0.5109\n",
      "Early stopping at epoch 15\n",
      "Returned to Spot: Validation loss: 1.3547856958389282\n",
      "----------------------------------------------\n",
      "Epoch: 1on tuning: [########--] 79.86% \n",
      "Loss on hold-out set: 1.5912149544239045\n",
      "Accuracy on hold-out set: 0.41295\n",
      "Epoch: 2\n",
      "Loss on hold-out set: 1.460657978630066\n",
      "Accuracy on hold-out set: 0.465\n",
      "Epoch: 3\n",
      "Loss on hold-out set: 1.4041879982471466\n",
      "Accuracy on hold-out set: 0.4983\n",
      "Epoch: 4\n",
      "Loss on hold-out set: 1.345708053302765\n",
      "Accuracy on hold-out set: 0.51645\n",
      "Epoch: 5\n",
      "Loss on hold-out set: 1.2557876447200775\n",
      "Accuracy on hold-out set: 0.55455\n",
      "Epoch: 6\n",
      "Loss on hold-out set: 1.2540092736721038\n",
      "Accuracy on hold-out set: 0.55495\n",
      "Epoch: 7\n",
      "Loss on hold-out set: 1.177983277964592\n",
      "Accuracy on hold-out set: 0.58675\n",
      "Epoch: 8\n",
      "Loss on hold-out set: 1.1815622043371201\n",
      "Accuracy on hold-out set: 0.58545\n",
      "Epoch: 9\n",
      "Loss on hold-out set: 1.1851091733694077\n",
      "Accuracy on hold-out set: 0.5829\n",
      "Epoch: 10\n",
      "Loss on hold-out set: 1.164276359629631\n",
      "Accuracy on hold-out set: 0.5919\n",
      "Epoch: 11\n",
      "Loss on hold-out set: 1.1541609736204148\n",
      "Accuracy on hold-out set: 0.6018\n",
      "Epoch: 12\n",
      "Loss on hold-out set: 1.1299000601053237\n",
      "Accuracy on hold-out set: 0.60415\n",
      "Epoch: 13\n",
      "Loss on hold-out set: 1.1598524245977402\n",
      "Accuracy on hold-out set: 0.6043\n",
      "Epoch: 14\n",
      "Loss on hold-out set: 1.2315141133785248\n",
      "Accuracy on hold-out set: 0.5875\n",
      "Epoch: 15\n",
      "Loss on hold-out set: 1.1373909613370896\n",
      "Accuracy on hold-out set: 0.6114\n",
      "Epoch: 16\n",
      "Loss on hold-out set: 1.1623107004642486\n",
      "Accuracy on hold-out set: 0.6055\n",
      "Returned to Spot: Validation loss: 1.1623107004642486\n",
      "----------------------------------------------\n",
      "Epoch: 1on tuning: [#########-] 91.86% \n",
      "Loss on hold-out set: 1.7427149835586548\n",
      "Accuracy on hold-out set: 0.3605\n",
      "Epoch: 2\n",
      "Loss on hold-out set: 1.581594966506958\n",
      "Accuracy on hold-out set: 0.42485\n",
      "Epoch: 3\n",
      "Loss on hold-out set: 1.4876192827701569\n",
      "Accuracy on hold-out set: 0.4528\n",
      "Epoch: 4\n",
      "Loss on hold-out set: 1.4089258432388305\n",
      "Accuracy on hold-out set: 0.49165\n",
      "Epoch: 5\n",
      "Loss on hold-out set: 1.3468101036071778\n",
      "Accuracy on hold-out set: 0.518\n",
      "Epoch: 6\n",
      "Loss on hold-out set: 1.3471761674880982\n",
      "Accuracy on hold-out set: 0.5168\n",
      "Epoch: 7\n",
      "Loss on hold-out set: 1.2807206997871399\n",
      "Accuracy on hold-out set: 0.54155\n",
      "Epoch: 8\n",
      "Loss on hold-out set: 1.2528562668323517\n",
      "Accuracy on hold-out set: 0.54745\n",
      "Epoch: 9\n",
      "Loss on hold-out set: 1.2112168378353119\n",
      "Accuracy on hold-out set: 0.56565\n",
      "Epoch: 10\n",
      "Loss on hold-out set: 1.1960644395589828\n",
      "Accuracy on hold-out set: 0.5712\n",
      "Epoch: 11\n",
      "Loss on hold-out set: 1.1681375535964966\n",
      "Accuracy on hold-out set: 0.58485\n",
      "Epoch: 12\n",
      "Loss on hold-out set: 1.1598922919034957\n",
      "Accuracy on hold-out set: 0.5911\n",
      "Epoch: 13\n",
      "Loss on hold-out set: 1.1503959769248961\n",
      "Accuracy on hold-out set: 0.5956\n",
      "Epoch: 14\n",
      "Loss on hold-out set: 1.1543698456048965\n",
      "Accuracy on hold-out set: 0.59855\n",
      "Epoch: 15\n",
      "Loss on hold-out set: 1.1401531591653824\n",
      "Accuracy on hold-out set: 0.60475\n",
      "Epoch: 16\n",
      "Loss on hold-out set: 1.1217430978298186\n",
      "Accuracy on hold-out set: 0.60915\n",
      "Returned to Spot: Validation loss: 1.1217430978298186\n",
      "----------------------------------------------\n",
      "spotPython tuning: [##########] 100.00% Done...\n",
      "\r"
     ]
    },
    {
     "data": {
      "text/plain": [
       "<spotPython.spot.spot.Spot at 0x111fcd9f0>"
      ]
     },
     "execution_count": 21,
     "metadata": {},
     "output_type": "execute_result"
    }
   ],
   "source": [
    "spot_tuner = spot.Spot(fun=fun,\n",
    "                   lower = lower,\n",
    "                   upper = upper,\n",
    "                   fun_evals = inf,\n",
    "                   fun_repeats = 1,\n",
    "                   max_time = MAX_TIME,\n",
    "                   noise = False,\n",
    "                   tolerance_x = np.sqrt(np.spacing(1)),\n",
    "                   var_type = var_type,\n",
    "                   var_name = var_name,\n",
    "                   infill_criterion = \"y\",\n",
    "                   n_points = 1,\n",
    "                   seed=123,\n",
    "                   log_level = 50,\n",
    "                   show_models= False,\n",
    "                   show_progress= True,\n",
    "                   fun_control = fun_control,\n",
    "                   design_control={\"init_size\": INIT_SIZE,\n",
    "                                   \"repeats\": 1},\n",
    "                   surrogate_control={\"noise\": True,\n",
    "                                      \"cod_type\": \"norm\",\n",
    "                                      \"min_theta\": -4,\n",
    "                                      \"max_theta\": 3,\n",
    "                                      \"n_theta\": len(var_name),\n",
    "                                      \"model_optimizer\": differential_evolution,\n",
    "                                      \"model_fun_evals\": 10_000,\n",
    "                                      \"log_level\": 50\n",
    "                                      })\n",
    "spot_tuner.run(X_start=X_start)"
   ]
  },
  {
   "attachments": {},
   "cell_type": "markdown",
   "metadata": {},
   "source": [
    "### 4 Results"
   ]
  },
  {
   "cell_type": "code",
   "execution_count": 22,
   "metadata": {},
   "outputs": [],
   "source": [
    "SAVE = False\n",
    "LOAD = False\n",
    "\n",
    "if SAVE:\n",
    "    result_file_name = \"res_\" + experiment_name + \".pkl\"\n",
    "    with open(result_file_name, 'wb') as f:\n",
    "        pickle.dump(spot_tuner, f)\n",
    "\n",
    "if LOAD:\n",
    "    result_file_name = \"res_ch10-friedman-hpt-0_maans03_60min_20init_1K_2023-04-14_10-11-19.pkl\"\n",
    "    with open(result_file_name, 'rb') as f:\n",
    "        spot_tuner =  pickle.load(f)"
   ]
  },
  {
   "attachments": {},
   "cell_type": "markdown",
   "metadata": {},
   "source": [
    "* Show the Progress of the hyperparameter tuning:"
   ]
  },
  {
   "cell_type": "code",
   "execution_count": 23,
   "metadata": {},
   "outputs": [
    {
     "data": {
      "text/plain": [
       "array([1.19396536, 1.27113197, 1.24557704, 1.2840838 , 1.22348957,\n",
       "       1.23777906, 1.50096927, 2.12097552, 1.39954704, 1.33148146,\n",
       "       1.30373735, 1.27001508, 1.19381762, 1.15411837, 1.1665814 ,\n",
       "       1.15325055, 1.3547857 , 1.1623107 , 1.1217431 ])"
      ]
     },
     "execution_count": 23,
     "metadata": {},
     "output_type": "execute_result"
    }
   ],
   "source": [
    "spot_tuner.y"
   ]
  },
  {
   "cell_type": "code",
   "execution_count": 24,
   "metadata": {},
   "outputs": [
    {
     "data": {
      "image/png": "[encoded data removed]",
      "text/plain": [
       "<Figure size 900x600 with 1 Axes>"
      ]
     },
     "metadata": {},
     "output_type": "display_data"
    }
   ],
   "source": [
    "spot_tuner.plot_progress(log_y=False, filename=\"../Figures.d/\" + experiment_name+\"_progress.pdf\")"
   ]
  },
  {
   "attachments": {},
   "cell_type": "markdown",
   "metadata": {},
   "source": [
    "* Print the Results"
   ]
  },
  {
   "cell_type": "code",
   "execution_count": 25,
   "metadata": {},
   "outputs": [
    {
     "name": "stdout",
     "output_type": "stream",
     "text": [
      "| name       | type   |   default |   lower |   upper |                tuned | transform             |   importance | stars   |\n",
      "|------------|--------|-----------|---------|---------|----------------------|-----------------------|--------------|---------|\n",
      "| l1         | int    |       5.0 |     2.0 |     9.0 |                  6.0 | transform_power_2_int |        74.93 | **      |\n",
      "| l2         | int    |       5.0 |     2.0 |     9.0 |                  5.0 | transform_power_2_int |         0.00 |         |\n",
      "| lr         | float  |     0.001 |   1e-05 |    0.01 | 0.003810130210141329 | None                  |       100.00 | ***     |\n",
      "| batch_size | int    |       4.0 |     1.0 |     5.0 |                  4.0 | transform_power_2_int |        75.39 | **      |\n",
      "| epochs     | int    |       3.0 |     3.0 |     4.0 |                  4.0 | transform_power_2_int |         0.00 |         |\n",
      "| k_folds    | int    |       2.0 |     0.0 |     0.0 |                  0.0 | None                  |         0.00 |         |\n",
      "| patience   | int    |       5.0 |     5.0 |     5.0 |                  5.0 | None                  |         0.00 |         |\n"
     ]
    }
   ],
   "source": [
    "print(gen_design_table(fun_control=fun_control, spot=spot_tuner))"
   ]
  },
  {
   "attachments": {},
   "cell_type": "markdown",
   "metadata": {},
   "source": [
    "## Show variable importance"
   ]
  },
  {
   "cell_type": "code",
   "execution_count": 26,
   "metadata": {},
   "outputs": [
    {
     "data": {
      "image/png": "[encoded data removed]",
      "text/plain": [
       "<Figure size 640x480 with 1 Axes>"
      ]
     },
     "metadata": {},
     "output_type": "display_data"
    }
   ],
   "source": [
    "spot_tuner.plot_importance(threshold=0.025, filename=\"../Figures.d/\" + experiment_name+\"_importance.pdf\")"
   ]
  },
  {
   "attachments": {},
   "cell_type": "markdown",
   "metadata": {},
   "source": [
    "## Get Default Hyperparameters"
   ]
  },
  {
   "cell_type": "code",
   "execution_count": 27,
   "metadata": {},
   "outputs": [
    {
     "data": {
      "text/plain": [
       "{'l1': 32,\n",
       " 'l2': 32,\n",
       " 'lr': 0.001,\n",
       " 'batch_size': 16,\n",
       " 'epochs': 8,\n",
       " 'k_folds': 2,\n",
       " 'patience': 5}"
      ]
     },
     "execution_count": 27,
     "metadata": {},
     "output_type": "execute_result"
    }
   ],
   "source": [
    "values_default = get_default_values(fun_control)\n",
    "values_default = transform_hyper_parameter_values(fun_control=fun_control, hyper_parameter_values=values_default)\n",
    "values_default"
   ]
  },
  {
   "cell_type": "code",
   "execution_count": 28,
   "metadata": {},
   "outputs": [
    {
     "data": {
      "text/plain": [
       "Net_CIFAR10(\n",
       "  (conv1): Conv2d(3, 6, kernel_size=(5, 5), stride=(1, 1))\n",
       "  (pool): MaxPool2d(kernel_size=2, stride=2, padding=0, dilation=1, ceil_mode=False)\n",
       "  (conv2): Conv2d(6, 16, kernel_size=(5, 5), stride=(1, 1))\n",
       "  (fc1): Linear(in_features=400, out_features=32, bias=True)\n",
       "  (fc2): Linear(in_features=32, out_features=32, bias=True)\n",
       "  (fc3): Linear(in_features=32, out_features=10, bias=True)\n",
       ")"
      ]
     },
     "execution_count": 28,
     "metadata": {},
     "output_type": "execute_result"
    }
   ],
   "source": [
    "model_default = fun_control[\"core_model\"](**values_default)\n",
    "model_default"
   ]
  },
  {
   "attachments": {},
   "cell_type": "markdown",
   "metadata": {},
   "source": [
    "## Get SPOT Results"
   ]
  },
  {
   "cell_type": "code",
   "execution_count": 29,
   "metadata": {},
   "outputs": [
    {
     "name": "stdout",
     "output_type": "stream",
     "text": [
      "[[6.00000000e+00 5.00000000e+00 3.81013021e-03 4.00000000e+00\n",
      "  4.00000000e+00 0.00000000e+00 5.00000000e+00]]\n"
     ]
    }
   ],
   "source": [
    "X = spot_tuner.to_all_dim(spot_tuner.min_X.reshape(1,-1))\n",
    "print(X)"
   ]
  },
  {
   "cell_type": "code",
   "execution_count": 30,
   "metadata": {},
   "outputs": [
    {
     "data": {
      "text/plain": [
       "[{'l1': 64,\n",
       "  'l2': 32,\n",
       "  'lr': 0.003810130210141329,\n",
       "  'batch_size': 16,\n",
       "  'epochs': 16,\n",
       "  'k_folds': 0,\n",
       "  'patience': 5}]"
      ]
     },
     "execution_count": 30,
     "metadata": {},
     "output_type": "execute_result"
    }
   ],
   "source": [
    "v_dict = assign_values(X, fun_control[\"var_name\"])\n",
    "return_conf_list_from_var_dict(var_dict=v_dict, fun_control=fun_control)"
   ]
  },
  {
   "cell_type": "code",
   "execution_count": 31,
   "metadata": {},
   "outputs": [
    {
     "data": {
      "text/plain": [
       "Net_CIFAR10(\n",
       "  (conv1): Conv2d(3, 6, kernel_size=(5, 5), stride=(1, 1))\n",
       "  (pool): MaxPool2d(kernel_size=2, stride=2, padding=0, dilation=1, ceil_mode=False)\n",
       "  (conv2): Conv2d(6, 16, kernel_size=(5, 5), stride=(1, 1))\n",
       "  (fc1): Linear(in_features=400, out_features=64, bias=True)\n",
       "  (fc2): Linear(in_features=64, out_features=32, bias=True)\n",
       "  (fc3): Linear(in_features=32, out_features=10, bias=True)\n",
       ")"
      ]
     },
     "execution_count": 31,
     "metadata": {},
     "output_type": "execute_result"
    }
   ],
   "source": [
    "model_spot = get_one_core_model_from_X(X, fun_control)\n",
    "model_spot"
   ]
  },
  {
   "attachments": {},
   "cell_type": "markdown",
   "metadata": {},
   "source": [
    "## Evaluations\n",
    "\n",
    "The method `train_save` takes a model architecture without trained weights and trains this model with the train data. The train data is split into train and validation data. The validation data is used for early stopping. The trained model model_state_dict is saved.\n",
    "\n",
    " This evaluation is similar to the final Evaluation as in the Pytorch tutorial [Hyperparameter Tuning  with Ray Tune](https://pytorch.org/tutorials/beginner/hyperparameter_tuning_tutorial.html)."
   ]
  },
  {
   "cell_type": "code",
   "execution_count": 32,
   "metadata": {},
   "outputs": [
    {
     "data": {
      "text/plain": [
       "Net_CIFAR10(\n",
       "  (conv1): Conv2d(3, 6, kernel_size=(5, 5), stride=(1, 1))\n",
       "  (pool): MaxPool2d(kernel_size=2, stride=2, padding=0, dilation=1, ceil_mode=False)\n",
       "  (conv2): Conv2d(6, 16, kernel_size=(5, 5), stride=(1, 1))\n",
       "  (fc1): Linear(in_features=400, out_features=32, bias=True)\n",
       "  (fc2): Linear(in_features=32, out_features=32, bias=True)\n",
       "  (fc3): Linear(in_features=32, out_features=10, bias=True)\n",
       ")"
      ]
     },
     "execution_count": 32,
     "metadata": {},
     "output_type": "execute_result"
    }
   ],
   "source": [
    "model_default"
   ]
  },
  {
   "cell_type": "code",
   "execution_count": 45,
   "metadata": {},
   "outputs": [
    {
     "name": "stdout",
     "output_type": "stream",
     "text": [
      "Epoch: 1\n",
      "Batch:  1000. Batch Size: 16. Training Loss (running): 1.399\n",
      "Loss on hold-out set: 1.3988841579437257\n",
      "Accuracy on hold-out set: 0.4957\n",
      "Epoch: 2\n",
      "Batch:  1000. Batch Size: 16. Training Loss (running): 1.393\n",
      "Loss on hold-out set: 1.3932536019325257\n",
      "Accuracy on hold-out set: 0.50145\n",
      "Epoch: 3\n",
      "Batch:  1000. Batch Size: 16. Training Loss (running): 1.363\n",
      "Loss on hold-out set: 1.3770612518310548\n",
      "Accuracy on hold-out set: 0.50675\n",
      "Epoch: 4\n",
      "Batch:  1000. Batch Size: 16. Training Loss (running): 1.360\n",
      "Loss on hold-out set: 1.357368537378311\n",
      "Accuracy on hold-out set: 0.51465\n",
      "Epoch: 5\n",
      "Batch:  1000. Batch Size: 16. Training Loss (running): 1.336\n",
      "Loss on hold-out set: 1.3437017423152924\n",
      "Accuracy on hold-out set: 0.51995\n",
      "Epoch: 6\n",
      "Batch:  1000. Batch Size: 16. Training Loss (running): 1.335\n",
      "Loss on hold-out set: 1.3492213349342346\n",
      "Accuracy on hold-out set: 0.5155\n",
      "Epoch: 7\n",
      "Batch:  1000. Batch Size: 16. Training Loss (running): 1.303\n",
      "Loss on hold-out set: 1.3277261384487151\n",
      "Accuracy on hold-out set: 0.5243\n",
      "Epoch: 8\n",
      "Batch:  1000. Batch Size: 16. Training Loss (running): 1.303\n",
      "Loss on hold-out set: 1.3151872980117798\n",
      "Accuracy on hold-out set: 0.5316\n",
      "Returned to Spot: Validation loss: 1.3151872980117798\n",
      "----------------------------------------------\n"
     ]
    },
    {
     "data": {
      "text/plain": [
       "(1.3151872980117798, nan)"
      ]
     },
     "execution_count": 45,
     "metadata": {},
     "output_type": "execute_result"
    }
   ],
   "source": [
    "train_save(net=model_default, train_dataset=train, shuffle=True, device = \"cpu\", show_batch_interval=1_000, path=\"model_default_trained.pt\", save_model=True)"
   ]
  },
  {
   "cell_type": "code",
   "execution_count": 34,
   "metadata": {},
   "outputs": [
    {
     "name": "stdout",
     "output_type": "stream",
     "text": [
      "Loss on hold-out set: 1.1560633163452148\n",
      "Accuracy on hold-out set: 0.5934\n",
      "Returned to Spot: Validation loss: 1.1560633163452148\n",
      "----------------------------------------------\n"
     ]
    },
    {
     "data": {
      "text/plain": [
       "(1.1560633163452148, nan)"
      ]
     },
     "execution_count": 34,
     "metadata": {},
     "output_type": "execute_result"
    }
   ],
   "source": [
    "test_saved(net=model_default, test_dataset=test, shuffle=False, device = \"cpu\", show_batch_interval=1_000, path=\"model_default_trained.pt\")"
   ]
  },
  {
   "cell_type": "code",
   "execution_count": 35,
   "metadata": {},
   "outputs": [
    {
     "data": {
      "text/plain": [
       "Net_CIFAR10(\n",
       "  (conv1): Conv2d(3, 6, kernel_size=(5, 5), stride=(1, 1))\n",
       "  (pool): MaxPool2d(kernel_size=2, stride=2, padding=0, dilation=1, ceil_mode=False)\n",
       "  (conv2): Conv2d(6, 16, kernel_size=(5, 5), stride=(1, 1))\n",
       "  (fc1): Linear(in_features=400, out_features=64, bias=True)\n",
       "  (fc2): Linear(in_features=64, out_features=32, bias=True)\n",
       "  (fc3): Linear(in_features=32, out_features=10, bias=True)\n",
       ")"
      ]
     },
     "execution_count": 35,
     "metadata": {},
     "output_type": "execute_result"
    }
   ],
   "source": [
    "model_spot"
   ]
  },
  {
   "cell_type": "code",
   "execution_count": 36,
   "metadata": {},
   "outputs": [
    {
     "name": "stdout",
     "output_type": "stream",
     "text": [
      "Epoch: 1\n",
      "Batch:  1000. Batch Size: 16. Training Loss (running): 1.069\n",
      "Loss on hold-out set: 1.104799135541916\n",
      "Accuracy on hold-out set: 0.6138\n",
      "Epoch: 2\n",
      "Batch:  1000. Batch Size: 16. Training Loss (running): 1.042\n",
      "Loss on hold-out set: 1.0727831973075868\n",
      "Accuracy on hold-out set: 0.6229\n",
      "Epoch: 3\n",
      "Batch:  1000. Batch Size: 16. Training Loss (running): 1.017\n",
      "Loss on hold-out set: 1.072711392402649\n",
      "Accuracy on hold-out set: 0.6251\n",
      "Epoch: 4\n",
      "Batch:  1000. Batch Size: 16. Training Loss (running): 0.989\n",
      "Loss on hold-out set: 1.0525790733218192\n",
      "Accuracy on hold-out set: 0.6269\n",
      "Epoch: 5\n",
      "Batch:  1000. Batch Size: 16. Training Loss (running): 0.951\n",
      "Loss on hold-out set: 1.0658962021827698\n",
      "Accuracy on hold-out set: 0.629\n",
      "Epoch: 6\n",
      "Batch:  1000. Batch Size: 16. Training Loss (running): 0.936\n",
      "Loss on hold-out set: 1.1321928074836731\n",
      "Accuracy on hold-out set: 0.6074\n",
      "Epoch: 7\n",
      "Batch:  1000. Batch Size: 16. Training Loss (running): 0.935\n",
      "Loss on hold-out set: 1.0893589721441268\n",
      "Accuracy on hold-out set: 0.62015\n",
      "Epoch: 8\n",
      "Batch:  1000. Batch Size: 16. Training Loss (running): 0.904\n",
      "Loss on hold-out set: 1.1007610570907593\n",
      "Accuracy on hold-out set: 0.61965\n",
      "Epoch: 9\n",
      "Batch:  1000. Batch Size: 16. Training Loss (running): 0.900\n",
      "Loss on hold-out set: 1.0685887334108353\n",
      "Accuracy on hold-out set: 0.62905\n",
      "Early stopping at epoch 8\n",
      "Returned to Spot: Validation loss: 1.0685887334108353\n",
      "----------------------------------------------\n"
     ]
    },
    {
     "data": {
      "text/plain": [
       "(1.0685887334108353, nan)"
      ]
     },
     "execution_count": 36,
     "metadata": {},
     "output_type": "execute_result"
    }
   ],
   "source": [
    "\n",
    "train_save(net=model_spot, train_dataset=train, shuffle=True, device = \"cpu\", show_batch_interval=1_000, path=\"model_spot_trained.pt\", save_model=True)"
   ]
  },
  {
   "cell_type": "code",
   "execution_count": 37,
   "metadata": {},
   "outputs": [
    {
     "name": "stdout",
     "output_type": "stream",
     "text": [
      "Loss on hold-out set: 1.1034918918132781\n",
      "Accuracy on hold-out set: 0.6184\n",
      "Returned to Spot: Validation loss: 1.1034918918132781\n",
      "----------------------------------------------\n"
     ]
    },
    {
     "data": {
      "text/plain": [
       "(1.1034918918132781, nan)"
      ]
     },
     "execution_count": 37,
     "metadata": {},
     "output_type": "execute_result"
    }
   ],
   "source": [
    "test_saved(net=model_spot, test_dataset=test, shuffle=False, device = \"cpu\", show_batch_interval=1_000, path=\"model_spot_trained.pt\")"
   ]
  },
  {
   "attachments": {},
   "cell_type": "markdown",
   "metadata": {},
   "source": [
    "## Detailed Hyperparameter Plots"
   ]
  },
  {
   "attachments": {},
   "cell_type": "markdown",
   "metadata": {},
   "source": [
    "* For productive use, you might want to select:\n",
    "  * `min_z=min(spot_tuner.y)` and\n",
    "  * `max_z = max(spot_tuner.y)`\n",
    "* These settings are not so colorful as visualizations that use `None` for the ranges, but give better insights."
   ]
  },
  {
   "cell_type": "code",
   "execution_count": 38,
   "metadata": {},
   "outputs": [
    {
     "name": "stdout",
     "output_type": "stream",
     "text": [
      "l1:  74.92973581202024\n",
      "lr:  100.0\n",
      "batch_size:  75.38533972506202\n"
     ]
    },
    {
     "data": {
      "image/png": "[encoded data removed]",
      "text/plain": [
       "<Figure size 900x600 with 3 Axes>"
      ]
     },
     "metadata": {},
     "output_type": "display_data"
    },
    {
     "data": {
      "image/png": "[encoded data removed]",
      "text/plain": [
       "<Figure size 900x600 with 3 Axes>"
      ]
     },
     "metadata": {},
     "output_type": "display_data"
    },
    {
     "data": {
      "image/png": "[encoded data removed]",
      "text/plain": [
       "<Figure size 900x600 with 3 Axes>"
      ]
     },
     "metadata": {},
     "output_type": "display_data"
    }
   ],
   "source": [
    "threshold = 0.025\n",
    "impo = spot_tuner.print_importance(threshold=threshold, print_screen=True)\n",
    "var_plots = [i for i, x in enumerate(impo) if x[1] > threshold]\n",
    "min_z = min(spot_tuner.y)\n",
    "max_z = max(spot_tuner.y)\n",
    "n = spot_tuner.k\n",
    "for i in var_plots:\n",
    "    for j in var_plots:\n",
    "        if j > i:\n",
    "            filename = \"../Figures.d/\" + experiment_name+\"_contour_\"+str(i)+\"_\"+str(j)+\".pdf\"\n",
    "            spot_tuner.plot_contour(i=i, j=j, min_z=min_z, max_z = max_z, filename=filename)"
   ]
  },
  {
   "attachments": {},
   "cell_type": "markdown",
   "metadata": {},
   "source": [
    "## Parallel Coordinates Plot"
   ]
  },
  {
   "cell_type": "code",
   "execution_count": 39,
   "metadata": {},
   "outputs": [
    {
     "data": {
      "application/vnd.plotly.v1+json": {
       "config": {
        "plotlyServerURL": "https://plot.ly"
       },
       "data": [
        {
         "dimensions": [
          {
           "label": "l1",
           "range": [
            2,
            9
           ],
           "values": [
            6,
            4,
            5,
            3,
            7,
            9,
            3,
            8,
            8,
            2,
            2,
            6,
            5,
            5,
            5,
            3,
            2,
            6,
            6
           ]
          },
          {
           "label": "l2",
           "range": [
            2,
            9
           ],
           "values": [
            4,
            7,
            3,
            6,
            5,
            4,
            3,
            6,
            9,
            8,
            4,
            2,
            7,
            9,
            9,
            9,
            9,
            9,
            5
           ]
          },
          {
           "label": "lr",
           "range": [
            0.000771331506770012,
            0.01
           ],
           "values": [
            0.006782860487100161,
            0.001731702176600691,
            0.004181582645498685,
            0.0027753237195821882,
            0.005506708820470704,
            0.0032784849151449216,
            0.007784075269623262,
            0.008136643508869107,
            0.000771331506770012,
            0.009967480630315018,
            0.01,
            0.00695753881868606,
            0.005997374203178249,
            0.006072592003622387,
            0.006350046645068176,
            0.006296677310693949,
            0.006379168425630465,
            0.00561333502597949,
            0.003810130210141329
           ]
          },
          {
           "label": "batch_size",
           "range": [
            1,
            5
           ],
           "values": [
            4,
            4,
            2,
            3,
            4,
            3,
            1,
            2,
            1,
            5,
            5,
            4,
            4,
            4,
            4,
            4,
            4,
            4,
            4
           ]
          },
          {
           "label": "epochs",
           "range": [
            3,
            4
           ],
           "values": [
            4,
            4,
            4,
            3,
            3,
            4,
            3,
            4,
            3,
            3,
            4,
            4,
            4,
            4,
            4,
            4,
            4,
            4,
            4
           ]
          }
         ],
         "line": {
          "cmax": 2.1209755219076625,
          "cmin": 1.1217430978298186,
          "color": [
           1.1939653575897218,
           1.271131972026825,
           1.2455770353815518,
           1.284083797299862,
           1.2234895650863646,
           1.2377790609121322,
           1.5009692699231674,
           2.1209755219076625,
           1.3995470375584438,
           1.331481462097168,
           1.303737349510193,
           1.2700150827646255,
           1.1938176196336747,
           1.1541183723449706,
           1.1665813969612122,
           1.153250550198555,
           1.3547856958389282,
           1.1623107004642486,
           1.1217430978298186
          ],
          "colorscale": [
           [
            0,
            "rgb(0,0,131)"
           ],
           [
            0.2,
            "rgb(0,60,170)"
           ],
           [
            0.4,
            "rgb(5,255,255)"
           ],
           [
            0.6,
            "rgb(255,255,0)"
           ],
           [
            0.8,
            "rgb(250,0,0)"
           ],
           [
            1,
            "rgb(128,0,0)"
           ]
          ],
          "showscale": true
         },
         "type": "parcoords"
        }
       ],
       "layout": {
        "template": {
         "data": {
          "bar": [
           {
            "error_x": {
             "color": "#2a3f5f"
            },
            "error_y": {
             "color": "#2a3f5f"
            },
            "marker": {
             "line": {
              "color": "#E5ECF6",
              "width": 0.5
             },
             "pattern": {
              "fillmode": "overlay",
              "size": 10,
              "solidity": 0.2
             }
            },
            "type": "bar"
           }
          ],
          "barpolar": [
           {
            "marker": {
             "line": {
              "color": "#E5ECF6",
              "width": 0.5
             },
             "pattern": {
              "fillmode": "overlay",
              "size": 10,
              "solidity": 0.2
             }
            },
            "type": "barpolar"
           }
          ],
          "carpet": [
           {
            "aaxis": {
             "endlinecolor": "#2a3f5f",
             "gridcolor": "white",
             "linecolor": "white",
             "minorgridcolor": "white",
             "startlinecolor": "#2a3f5f"
            },
            "baxis": {
             "endlinecolor": "#2a3f5f",
             "gridcolor": "white",
             "linecolor": "white",
             "minorgridcolor": "white",
             "startlinecolor": "#2a3f5f"
            },
            "type": "carpet"
           }
          ],
          "choropleth": [
           {
            "colorbar": {
             "outlinewidth": 0,
             "ticks": ""
            },
            "type": "choropleth"
           }
          ],
          "contour": [
           {
            "colorbar": {
             "outlinewidth": 0,
             "ticks": ""
            },
            "colorscale": [
             [
              0,
              "#0d0887"
             ],
             [
              0.1111111111111111,
              "#46039f"
             ],
             [
              0.2222222222222222,
              "#7201a8"
             ],
             [
              0.3333333333333333,
              "#9c179e"
             ],
             [
              0.4444444444444444,
              "#bd3786"
             ],
             [
              0.5555555555555556,
              "#d8576b"
             ],
             [
              0.6666666666666666,
              "#ed7953"
             ],
             [
              0.7777777777777778,
              "#fb9f3a"
             ],
             [
              0.8888888888888888,
              "#fdca26"
             ],
             [
              1,
              "#f0f921"
             ]
            ],
            "type": "contour"
           }
          ],
          "contourcarpet": [
           {
            "colorbar": {
             "outlinewidth": 0,
             "ticks": ""
            },
            "type": "contourcarpet"
           }
          ],
          "heatmap": [
           {
            "colorbar": {
             "outlinewidth": 0,
             "ticks": ""
            },
            "colorscale": [
             [
              0,
              "#0d0887"
             ],
             [
              0.1111111111111111,
              "#46039f"
             ],
             [
              0.2222222222222222,
              "#7201a8"
             ],
             [
              0.3333333333333333,
              "#9c179e"
             ],
             [
              0.4444444444444444,
              "#bd3786"
             ],
             [
              0.5555555555555556,
              "#d8576b"
             ],
             [
              0.6666666666666666,
              "#ed7953"
             ],
             [
              0.7777777777777778,
              "#fb9f3a"
             ],
             [
              0.8888888888888888,
              "#fdca26"
             ],
             [
              1,
              "#f0f921"
             ]
            ],
            "type": "heatmap"
           }
          ],
          "heatmapgl": [
           {
            "colorbar": {
             "outlinewidth": 0,
             "ticks": ""
            },
            "colorscale": [
             [
              0,
              "#0d0887"
             ],
             [
              0.1111111111111111,
              "#46039f"
             ],
             [
              0.2222222222222222,
              "#7201a8"
             ],
             [
              0.3333333333333333,
              "#9c179e"
             ],
             [
              0.4444444444444444,
              "#bd3786"
             ],
             [
              0.5555555555555556,
              "#d8576b"
             ],
             [
              0.6666666666666666,
              "#ed7953"
             ],
             [
              0.7777777777777778,
              "#fb9f3a"
             ],
             [
              0.8888888888888888,
              "#fdca26"
             ],
             [
              1,
              "#f0f921"
             ]
            ],
            "type": "heatmapgl"
           }
          ],
          "histogram": [
           {
            "marker": {
             "pattern": {
              "fillmode": "overlay",
              "size": 10,
              "solidity": 0.2
             }
            },
            "type": "histogram"
           }
          ],
          "histogram2d": [
           {
            "colorbar": {
             "outlinewidth": 0,
             "ticks": ""
            },
            "colorscale": [
             [
              0,
              "#0d0887"
             ],
             [
              0.1111111111111111,
              "#46039f"
             ],
             [
              0.2222222222222222,
              "#7201a8"
             ],
             [
              0.3333333333333333,
              "#9c179e"
             ],
             [
              0.4444444444444444,
              "#bd3786"
             ],
             [
              0.5555555555555556,
              "#d8576b"
             ],
             [
              0.6666666666666666,
              "#ed7953"
             ],
             [
              0.7777777777777778,
              "#fb9f3a"
             ],
             [
              0.8888888888888888,
              "#fdca26"
             ],
             [
              1,
              "#f0f921"
             ]
            ],
            "type": "histogram2d"
           }
          ],
          "histogram2dcontour": [
           {
            "colorbar": {
             "outlinewidth": 0,
             "ticks": ""
            },
            "colorscale": [
             [
              0,
              "#0d0887"
             ],
             [
              0.1111111111111111,
              "#46039f"
             ],
             [
              0.2222222222222222,
              "#7201a8"
             ],
             [
              0.3333333333333333,
              "#9c179e"
             ],
             [
              0.4444444444444444,
              "#bd3786"
             ],
             [
              0.5555555555555556,
              "#d8576b"
             ],
             [
              0.6666666666666666,
              "#ed7953"
             ],
             [
              0.7777777777777778,
              "#fb9f3a"
             ],
             [
              0.8888888888888888,
              "#fdca26"
             ],
             [
              1,
              "#f0f921"
             ]
            ],
            "type": "histogram2dcontour"
           }
          ],
          "mesh3d": [
           {
            "colorbar": {
             "outlinewidth": 0,
             "ticks": ""
            },
            "type": "mesh3d"
           }
          ],
          "parcoords": [
           {
            "line": {
             "colorbar": {
              "outlinewidth": 0,
              "ticks": ""
             }
            },
            "type": "parcoords"
           }
          ],
          "pie": [
           {
            "automargin": true,
            "type": "pie"
           }
          ],
          "scatter": [
           {
            "fillpattern": {
             "fillmode": "overlay",
             "size": 10,
             "solidity": 0.2
            },
            "type": "scatter"
           }
          ],
          "scatter3d": [
           {
            "line": {
             "colorbar": {
              "outlinewidth": 0,
              "ticks": ""
             }
            },
            "marker": {
             "colorbar": {
              "outlinewidth": 0,
              "ticks": ""
             }
            },
            "type": "scatter3d"
           }
          ],
          "scattercarpet": [
           {
            "marker": {
             "colorbar": {
              "outlinewidth": 0,
              "ticks": ""
             }
            },
            "type": "scattercarpet"
           }
          ],
          "scattergeo": [
           {
            "marker": {
             "colorbar": {
              "outlinewidth": 0,
              "ticks": ""
             }
            },
            "type": "scattergeo"
           }
          ],
          "scattergl": [
           {
            "marker": {
             "colorbar": {
              "outlinewidth": 0,
              "ticks": ""
             }
            },
            "type": "scattergl"
           }
          ],
          "scattermapbox": [
           {
            "marker": {
             "colorbar": {
              "outlinewidth": 0,
              "ticks": ""
             }
            },
            "type": "scattermapbox"
           }
          ],
          "scatterpolar": [
           {
            "marker": {
             "colorbar": {
              "outlinewidth": 0,
              "ticks": ""
             }
            },
            "type": "scatterpolar"
           }
          ],
          "scatterpolargl": [
           {
            "marker": {
             "colorbar": {
              "outlinewidth": 0,
              "ticks": ""
             }
            },
            "type": "scatterpolargl"
           }
          ],
          "scatterternary": [
           {
            "marker": {
             "colorbar": {
              "outlinewidth": 0,
              "ticks": ""
             }
            },
            "type": "scatterternary"
           }
          ],
          "surface": [
           {
            "colorbar": {
             "outlinewidth": 0,
             "ticks": ""
            },
            "colorscale": [
             [
              0,
              "#0d0887"
             ],
             [
              0.1111111111111111,
              "#46039f"
             ],
             [
              0.2222222222222222,
              "#7201a8"
             ],
             [
              0.3333333333333333,
              "#9c179e"
             ],
             [
              0.4444444444444444,
              "#bd3786"
             ],
             [
              0.5555555555555556,
              "#d8576b"
             ],
             [
              0.6666666666666666,
              "#ed7953"
             ],
             [
              0.7777777777777778,
              "#fb9f3a"
             ],
             [
              0.8888888888888888,
              "#fdca26"
             ],
             [
              1,
              "#f0f921"
             ]
            ],
            "type": "surface"
           }
          ],
          "table": [
           {
            "cells": {
             "fill": {
              "color": "#EBF0F8"
             },
             "line": {
              "color": "white"
             }
            },
            "header": {
             "fill": {
              "color": "#C8D4E3"
             },
             "line": {
              "color": "white"
             }
            },
            "type": "table"
           }
          ]
         },
         "layout": {
          "annotationdefaults": {
           "arrowcolor": "#2a3f5f",
           "arrowhead": 0,
           "arrowwidth": 1
          },
          "autotypenumbers": "strict",
          "coloraxis": {
           "colorbar": {
            "outlinewidth": 0,
            "ticks": ""
           }
          },
          "colorscale": {
           "diverging": [
            [
             0,
             "#8e0152"
            ],
            [
             0.1,
             "#c51b7d"
            ],
            [
             0.2,
             "#de77ae"
            ],
            [
             0.3,
             "#f1b6da"
            ],
            [
             0.4,
             "#fde0ef"
            ],
            [
             0.5,
             "#f7f7f7"
            ],
            [
             0.6,
             "#e6f5d0"
            ],
            [
             0.7,
             "#b8e186"
            ],
            [
             0.8,
             "#7fbc41"
            ],
            [
             0.9,
             "#4d9221"
            ],
            [
             1,
             "#276419"
            ]
           ],
           "sequential": [
            [
             0,
             "#0d0887"
            ],
            [
             0.1111111111111111,
             "#46039f"
            ],
            [
             0.2222222222222222,
             "#7201a8"
            ],
            [
             0.3333333333333333,
             "#9c179e"
            ],
            [
             0.4444444444444444,
             "#bd3786"
            ],
            [
             0.5555555555555556,
             "#d8576b"
            ],
            [
             0.6666666666666666,
             "#ed7953"
            ],
            [
             0.7777777777777778,
             "#fb9f3a"
            ],
            [
             0.8888888888888888,
             "#fdca26"
            ],
            [
             1,
             "#f0f921"
            ]
           ],
           "sequentialminus": [
            [
             0,
             "#0d0887"
            ],
            [
             0.1111111111111111,
             "#46039f"
            ],
            [
             0.2222222222222222,
             "#7201a8"
            ],
            [
             0.3333333333333333,
             "#9c179e"
            ],
            [
             0.4444444444444444,
             "#bd3786"
            ],
            [
             0.5555555555555556,
             "#d8576b"
            ],
            [
             0.6666666666666666,
             "#ed7953"
            ],
            [
             0.7777777777777778,
             "#fb9f3a"
            ],
            [
             0.8888888888888888,
             "#fdca26"
            ],
            [
             1,
             "#f0f921"
            ]
           ]
          },
          "colorway": [
           "#636efa",
           "#EF553B",
           "#00cc96",
           "#ab63fa",
           "#FFA15A",
           "#19d3f3",
           "#FF6692",
           "#B6E880",
           "#FF97FF",
           "#FECB52"
          ],
          "font": {
           "color": "#2a3f5f"
          },
          "geo": {
           "bgcolor": "white",
           "lakecolor": "white",
           "landcolor": "#E5ECF6",
           "showlakes": true,
           "showland": true,
           "subunitcolor": "white"
          },
          "hoverlabel": {
           "align": "left"
          },
          "hovermode": "closest",
          "mapbox": {
           "style": "light"
          },
          "paper_bgcolor": "white",
          "plot_bgcolor": "#E5ECF6",
          "polar": {
           "angularaxis": {
            "gridcolor": "white",
            "linecolor": "white",
            "ticks": ""
           },
           "bgcolor": "#E5ECF6",
           "radialaxis": {
            "gridcolor": "white",
            "linecolor": "white",
            "ticks": ""
           }
          },
          "scene": {
           "xaxis": {
            "backgroundcolor": "#E5ECF6",
            "gridcolor": "white",
            "gridwidth": 2,
            "linecolor": "white",
            "showbackground": true,
            "ticks": "",
            "zerolinecolor": "white"
           },
           "yaxis": {
            "backgroundcolor": "#E5ECF6",
            "gridcolor": "white",
            "gridwidth": 2,
            "linecolor": "white",
            "showbackground": true,
            "ticks": "",
            "zerolinecolor": "white"
           },
           "zaxis": {
            "backgroundcolor": "#E5ECF6",
            "gridcolor": "white",
            "gridwidth": 2,
            "linecolor": "white",
            "showbackground": true,
            "ticks": "",
            "zerolinecolor": "white"
           }
          },
          "shapedefaults": {
           "line": {
            "color": "#2a3f5f"
           }
          },
          "ternary": {
           "aaxis": {
            "gridcolor": "white",
            "linecolor": "white",
            "ticks": ""
           },
           "baxis": {
            "gridcolor": "white",
            "linecolor": "white",
            "ticks": ""
           },
           "bgcolor": "#E5ECF6",
           "caxis": {
            "gridcolor": "white",
            "linecolor": "white",
            "ticks": ""
           }
          },
          "title": {
           "x": 0.05
          },
          "xaxis": {
           "automargin": true,
           "gridcolor": "white",
           "linecolor": "white",
           "ticks": "",
           "title": {
            "standoff": 15
           },
           "zerolinecolor": "white",
           "zerolinewidth": 2
          },
          "yaxis": {
           "automargin": true,
           "gridcolor": "white",
           "linecolor": "white",
           "ticks": "",
           "title": {
            "standoff": 15
           },
           "zerolinecolor": "white",
           "zerolinewidth": 2
          }
         }
        }
       }
      }
     },
     "metadata": {},
     "output_type": "display_data"
    }
   ],
   "source": [
    "spot_tuner.parallel_plot()"
   ]
  },
  {
   "attachments": {},
   "cell_type": "markdown",
   "metadata": {},
   "source": [
    "# Additional Evaluations\n",
    "\n",
    "Two evaluations are performed: First, the test data is used only: the test data is used for training the model and for evaluating the model. Second, the train and test data are used: the model is trained with the train data and evaluated with the test data."
   ]
  },
  {
   "attachments": {},
   "cell_type": "markdown",
   "metadata": {},
   "source": [
    "## Test Set Accuracy\n",
    "\n",
    "The tuned model architecture (i.e., the model without pre-trained weights) is used for training and testing the model with the test data.\n",
    "The default model is considered first."
   ]
  },
  {
   "cell_type": "code",
   "execution_count": 40,
   "metadata": {},
   "outputs": [
    {
     "name": "stdout",
     "output_type": "stream",
     "text": [
      "Epoch: 1\n",
      "Loss on hold-out set: 2.3025950508117674\n",
      "Accuracy on hold-out set: 0.1025\n",
      "Epoch: 2\n",
      "Loss on hold-out set: 2.297680314064026\n",
      "Accuracy on hold-out set: 0.15225\n",
      "Epoch: 3\n",
      "Loss on hold-out set: 2.2824411163330076\n",
      "Accuracy on hold-out set: 0.179\n",
      "Epoch: 4\n",
      "Loss on hold-out set: 2.1628748540878298\n",
      "Accuracy on hold-out set: 0.20175\n",
      "Epoch: 5\n",
      "Loss on hold-out set: 2.032757287979126\n",
      "Accuracy on hold-out set: 0.25125\n",
      "Epoch: 6\n",
      "Loss on hold-out set: 1.9711315383911132\n",
      "Accuracy on hold-out set: 0.273\n",
      "Epoch: 7\n",
      "Loss on hold-out set: 1.9307509570121766\n",
      "Accuracy on hold-out set: 0.29\n",
      "Epoch: 8\n",
      "Loss on hold-out set: 1.9013607020378114\n",
      "Accuracy on hold-out set: 0.30625\n",
      "Returned to Spot: Validation loss: 1.9013607020378114\n",
      "----------------------------------------------\n"
     ]
    },
    {
     "data": {
      "text/plain": [
       "(1.9013607020378114, nan)"
      ]
     },
     "execution_count": 40,
     "metadata": {},
     "output_type": "execute_result"
    }
   ],
   "source": [
    "evaluate_hold_out(net=model_default, train_dataset=test, shuffle=False, show_batch_interval=1_000)"
   ]
  },
  {
   "cell_type": "code",
   "execution_count": 41,
   "metadata": {},
   "outputs": [
    {
     "name": "stdout",
     "output_type": "stream",
     "text": [
      "Epoch: 1\n",
      "Loss on hold-out set: 1.107497502565384\n",
      "Accuracy on hold-out set: 0.6155\n",
      "Epoch: 2\n",
      "Loss on hold-out set: 1.1100917348861694\n",
      "Accuracy on hold-out set: 0.6135\n",
      "Epoch: 3\n",
      "Loss on hold-out set: 1.1102623360157013\n",
      "Accuracy on hold-out set: 0.61225\n",
      "Epoch: 4\n",
      "Loss on hold-out set: 1.1181481244564055\n",
      "Accuracy on hold-out set: 0.61525\n",
      "Epoch: 5\n",
      "Loss on hold-out set: 1.1333141725063325\n",
      "Accuracy on hold-out set: 0.6125\n",
      "Epoch: 6\n",
      "Loss on hold-out set: 1.147283921957016\n",
      "Accuracy on hold-out set: 0.61275\n",
      "Early stopping at epoch 5\n",
      "Returned to Spot: Validation loss: 1.147283921957016\n",
      "----------------------------------------------\n"
     ]
    },
    {
     "data": {
      "text/plain": [
       "(1.147283921957016, nan)"
      ]
     },
     "execution_count": 41,
     "metadata": {},
     "output_type": "execute_result"
    }
   ],
   "source": [
    "evaluate_hold_out(net=model_spot, train_dataset=test, shuffle=False, show_batch_interval=1_000)"
   ]
  },
  {
   "attachments": {},
   "cell_type": "markdown",
   "metadata": {},
   "source": [
    "## Train on Train Data and Test on Test Data (Hold-Out)\n",
    "\n",
    "The final evaluation is performed with the train and test data. The model (without pre-trained weights) is trained with the train data and evaluated with the test data."
   ]
  },
  {
   "cell_type": "code",
   "execution_count": 42,
   "metadata": {},
   "outputs": [
    {
     "name": "stdout",
     "output_type": "stream",
     "text": [
      "Epoch: 1\n",
      "Batch:  1000. Batch Size: 16. Training Loss (running): 1.894\n",
      "Batch:  2000. Batch Size: 16. Training Loss (running): 0.916\n",
      "Batch:  3000. Batch Size: 16. Training Loss (running): 0.600\n",
      "Loss on hold-out set: 1.7551928733825684\n",
      "Accuracy on hold-out set: 0.3616\n",
      "Epoch: 2\n",
      "Batch:  1000. Batch Size: 16. Training Loss (running): 1.762\n",
      "Batch:  2000. Batch Size: 16. Training Loss (running): 0.857\n",
      "Batch:  3000. Batch Size: 16. Training Loss (running): 0.569\n",
      "Loss on hold-out set: 1.6654648836135864\n",
      "Accuracy on hold-out set: 0.3891\n",
      "Epoch: 3\n",
      "Batch:  1000. Batch Size: 16. Training Loss (running): 1.679\n",
      "Batch:  2000. Batch Size: 16. Training Loss (running): 0.821\n",
      "Batch:  3000. Batch Size: 16. Training Loss (running): 0.548\n",
      "Loss on hold-out set: 1.6047151784896851\n",
      "Accuracy on hold-out set: 0.4094\n",
      "Epoch: 4\n",
      "Batch:  1000. Batch Size: 16. Training Loss (running): 1.615\n",
      "Batch:  2000. Batch Size: 16. Training Loss (running): 0.789\n",
      "Batch:  3000. Batch Size: 16. Training Loss (running): 0.530\n",
      "Loss on hold-out set: 1.551913671875\n",
      "Accuracy on hold-out set: 0.4286\n",
      "Epoch: 5\n",
      "Batch:  1000. Batch Size: 16. Training Loss (running): 1.559\n",
      "Batch:  2000. Batch Size: 16. Training Loss (running): 0.762\n",
      "Batch:  3000. Batch Size: 16. Training Loss (running): 0.515\n",
      "Loss on hold-out set: 1.510981457233429\n",
      "Accuracy on hold-out set: 0.4489\n",
      "Epoch: 6\n",
      "Batch:  1000. Batch Size: 16. Training Loss (running): 1.514\n",
      "Batch:  2000. Batch Size: 16. Training Loss (running): 0.739\n",
      "Batch:  3000. Batch Size: 16. Training Loss (running): 0.502\n",
      "Loss on hold-out set: 1.4770031777381898\n",
      "Accuracy on hold-out set: 0.4635\n",
      "Epoch: 7\n",
      "Batch:  1000. Batch Size: 16. Training Loss (running): 1.476\n",
      "Batch:  2000. Batch Size: 16. Training Loss (running): 0.720\n",
      "Batch:  3000. Batch Size: 16. Training Loss (running): 0.491\n",
      "Loss on hold-out set: 1.4455593111991882\n",
      "Accuracy on hold-out set: 0.475\n",
      "Epoch: 8\n",
      "Batch:  1000. Batch Size: 16. Training Loss (running): 1.441\n",
      "Batch:  2000. Batch Size: 16. Training Loss (running): 0.703\n",
      "Batch:  3000. Batch Size: 16. Training Loss (running): 0.481\n",
      "Loss on hold-out set: 1.4165556290626526\n",
      "Accuracy on hold-out set: 0.4894\n",
      "Returned to Spot: Validation loss: 1.4165556290626526\n",
      "----------------------------------------------\n"
     ]
    },
    {
     "data": {
      "text/plain": [
       "(1.4165556290626526, nan)"
      ]
     },
     "execution_count": 42,
     "metadata": {},
     "output_type": "execute_result"
    }
   ],
   "source": [
    "evaluate_hold_out(net=model_default, train_dataset=train, shuffle=False, test_dataset=test, show_batch_interval=1_000) "
   ]
  },
  {
   "cell_type": "code",
   "execution_count": 43,
   "metadata": {},
   "outputs": [
    {
     "name": "stdout",
     "output_type": "stream",
     "text": [
      "Epoch: 1\n",
      "Batch:  1000. Batch Size: 16. Training Loss (running): 1.000\n",
      "Batch:  2000. Batch Size: 16. Training Loss (running): 0.488\n",
      "Batch:  3000. Batch Size: 16. Training Loss (running): 0.332\n",
      "Loss on hold-out set: 0.9955151764154434\n",
      "Accuracy on hold-out set: 0.6492\n",
      "Epoch: 2\n",
      "Batch:  1000. Batch Size: 16. Training Loss (running): 0.947\n",
      "Batch:  2000. Batch Size: 16. Training Loss (running): 0.468\n",
      "Batch:  3000. Batch Size: 16. Training Loss (running): 0.321\n",
      "Loss on hold-out set: 1.0077301990509033\n",
      "Accuracy on hold-out set: 0.6478\n",
      "Epoch: 3\n",
      "Batch:  1000. Batch Size: 16. Training Loss (running): 0.925\n",
      "Batch:  2000. Batch Size: 16. Training Loss (running): 0.456\n",
      "Batch:  3000. Batch Size: 16. Training Loss (running): 0.313\n",
      "Loss on hold-out set: 1.0184763174057008\n",
      "Accuracy on hold-out set: 0.6458\n",
      "Epoch: 4\n",
      "Batch:  1000. Batch Size: 16. Training Loss (running): 0.908\n",
      "Batch:  2000. Batch Size: 16. Training Loss (running): 0.448\n",
      "Batch:  3000. Batch Size: 16. Training Loss (running): 0.307\n",
      "Loss on hold-out set: 1.026848169207573\n",
      "Accuracy on hold-out set: 0.6456\n",
      "Epoch: 5\n",
      "Batch:  1000. Batch Size: 16. Training Loss (running): 0.892\n",
      "Batch:  2000. Batch Size: 16. Training Loss (running): 0.439\n",
      "Batch:  3000. Batch Size: 16. Training Loss (running): 0.302\n",
      "Loss on hold-out set: 1.0363890354394913\n",
      "Accuracy on hold-out set: 0.643\n",
      "Epoch: 6\n",
      "Batch:  1000. Batch Size: 16. Training Loss (running): 0.877\n",
      "Batch:  2000. Batch Size: 16. Training Loss (running): 0.432\n",
      "Batch:  3000. Batch Size: 16. Training Loss (running): 0.297\n",
      "Loss on hold-out set: 1.042384707903862\n",
      "Accuracy on hold-out set: 0.6441\n",
      "Early stopping at epoch 5\n",
      "Returned to Spot: Validation loss: 1.042384707903862\n",
      "----------------------------------------------\n"
     ]
    },
    {
     "data": {
      "text/plain": [
       "(1.042384707903862, nan)"
      ]
     },
     "execution_count": 43,
     "metadata": {},
     "output_type": "execute_result"
    }
   ],
   "source": [
    "evaluate_hold_out(net=model_spot, train_dataset=train, shuffle=False, test_dataset=test, show_batch_interval=1_000)"
   ]
  },
  {
   "attachments": {},
   "cell_type": "markdown",
   "metadata": {},
   "source": [
    "## Plot all Combinations of Hyperparameters\n",
    "\n",
    "* Warning: this may take a while."
   ]
  },
  {
   "cell_type": "code",
   "execution_count": 44,
   "metadata": {},
   "outputs": [],
   "source": [
    "PLOT_ALL = False\n",
    "if PLOT_ALL:\n",
    "    n = spot_tuner.k\n",
    "    for i in range(n-1):\n",
    "        for j in range(i+1, n):\n",
    "            spot_tuner.plot_contour(i=i, j=j, min_z=min_z, max_z = max_z)"
   ]
  }
 ],
 "metadata": {
  "kernelspec": {
   "display_name": "spotCondaEnv",
   "language": "python",
   "name": "python3"
  },
  "language_info": {
   "codemirror_mode": {
    "name": "ipython",
    "version": 3
   },
   "file_extension": ".py",
   "mimetype": "text/x-python",
   "name": "python",
   "nbconvert_exporter": "python",
   "pygments_lexer": "ipython3",
   "version": "3.10.10"
  },
  "vscode": {
   "interpreter": {
    "hash": "81c77de872def749acd68d9955e19f0df6803301f4c1f66c3444af66334112ae"
   }
  }
 },
 "nbformat": 4,
 "nbformat_minor": 4
}
