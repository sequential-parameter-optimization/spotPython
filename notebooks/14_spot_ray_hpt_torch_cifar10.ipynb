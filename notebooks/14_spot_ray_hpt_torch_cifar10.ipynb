{
 "cells": [
  {
   "cell_type": "raw",
   "metadata": {},
   "source": [
    "---\n",
    "title: \"pytorch Hyperparameter Tuning with SPOT: Comparison with ray tuner on cifar10\"\n",
    "format: html\n",
    "---"
   ]
  },
  {
   "cell_type": "code",
   "execution_count": 61,
   "metadata": {},
   "outputs": [],
   "source": [
    "MAX_TIME = 30\n",
    "INIT_SIZE = 10\n",
    "DEVICE = \"cpu\" # \"cuda:0\""
   ]
  },
  {
   "cell_type": "code",
   "execution_count": 62,
   "metadata": {},
   "outputs": [
    {
     "data": {
      "text/plain": [
       "'14-torch_bartz08-2_1min_5init_2023-05-18_20-22-10'"
      ]
     },
     "execution_count": 62,
     "metadata": {},
     "output_type": "execute_result"
    }
   ],
   "source": [
    "import pickle\n",
    "import socket\n",
    "from datetime import datetime\n",
    "from dateutil.tz import tzlocal\n",
    "start_time = datetime.now(tzlocal())\n",
    "HOSTNAME = socket.gethostname().split(\".\")[0]\n",
    "experiment_name = '14-torch' + \"_\" + HOSTNAME + \"_\" + str(MAX_TIME) + \"min_\" + str(INIT_SIZE) + \"init_\" + str(start_time).split(\".\", 1)[0].replace(' ', '_')\n",
    "experiment_name = experiment_name.replace(':', '-')\n",
    "experiment_name"
   ]
  },
  {
   "attachments": {},
   "cell_type": "markdown",
   "metadata": {},
   "source": [
    "# Chapter 14: Sequential Parameter Optimization Compared to Ray Tune\n",
    "## Hyperparameter Tuning: pytorch wth cifar10 Data"
   ]
  },
  {
   "attachments": {},
   "cell_type": "markdown",
   "metadata": {},
   "source": [
    "* This notebook exemplifies hyperparameter tuning with SPOT (spotPython).\n",
    "* The hyperparameter software SPOT was developed in R (statistical programming language), see Open Access book \"Hyperparameter Tuning for Machine and Deep Learning with R - A Practical Guide\", available here: [https://link.springer.com/book/10.1007/978-981-19-5170-1](https://link.springer.com/book/10.1007/978-981-19-5170-1).\n"
   ]
  },
  {
   "cell_type": "code",
   "execution_count": 63,
   "metadata": {},
   "outputs": [
    {
     "name": "stdout",
     "output_type": "stream",
     "text": [
      "spotPython                                0.1.1\n",
      "spotRiver                                 0.0.81\n",
      "Note: you may need to restart the kernel to use updated packages.\n"
     ]
    }
   ],
   "source": [
    "pip list | grep  \"spot[RiverPython]\""
   ]
  },
  {
   "cell_type": "code",
   "execution_count": 64,
   "metadata": {},
   "outputs": [
    {
     "name": "stdout",
     "output_type": "stream",
     "text": [
      "torch                                     2.0.0\n",
      "torchvision                               0.15.1\n",
      "Note: you may need to restart the kernel to use updated packages.\n"
     ]
    }
   ],
   "source": [
    "pip list | grep  \"torch\""
   ]
  },
  {
   "cell_type": "code",
   "execution_count": 65,
   "metadata": {},
   "outputs": [
    {
     "name": "stdout",
     "output_type": "stream",
     "text": [
      "Python 3.10.6\n"
     ]
    }
   ],
   "source": [
    "import sys\n",
    "!{sys.executable} --version"
   ]
  },
  {
   "cell_type": "code",
   "execution_count": 66,
   "metadata": {},
   "outputs": [],
   "source": [
    "# import sys\n",
    "# !{sys.executable} -m pip install --upgrade build\n",
    "# !{sys.executable} -m pip install --upgrade --force-reinstall spotPython\n"
   ]
  },
  {
   "cell_type": "code",
   "execution_count": 67,
   "metadata": {},
   "outputs": [],
   "source": [
    "from tabulate import tabulate\n",
    "import warnings\n",
    "import json\n",
    "import numpy as np\n",
    "from math import inf\n",
    "import pandas as pd\n",
    "\n",
    "from scipy.optimize import differential_evolution\n",
    "\n",
    "import torch\n",
    "from torch import nn\n",
    "from torch.utils.data import DataLoader\n",
    "import torch.nn.functional as F\n",
    "import torch.optim as optim\n",
    "from torch.utils.data import random_split\n",
    "import torchvision\n",
    "from torchvision import datasets\n",
    "import torchvision.transforms as transforms\n",
    "from torchvision.transforms import ToTensor\n",
    "\n",
    "from spotPython.spot import spot\n",
    "from spotPython.hyperparameters.values import (\n",
    "    add_core_model_to_fun_control,\n",
    "    assign_values,\n",
    "    get_bound_values,\n",
    "    get_default_values,\n",
    "    get_var_name,\n",
    "    get_var_type,\n",
    "    modify_hyper_parameter_levels,\n",
    "    modify_hyper_parameter_bounds,\n",
    "    return_conf_list_from_var_dict,\n",
    "    get_one_core_model_from_X,\n",
    ")\n",
    "from spotPython.torch.traintest import (\n",
    "    evaluate_cv,\n",
    "    evaluate_hold_out,\n",
    "    train_save,\n",
    "    test_saved,\n",
    "    )\n",
    "from spotPython.utils.eda import gen_design_table\n",
    "from spotPython.utils.transform import transform_hyper_parameter_values\n",
    "from spotPython.utils.init import fun_control_init\n",
    "\n",
    "from spotPython.data.torch_hyper_dict import TorchHyperDict\n",
    "from spotPython.fun.hypertorch import HyperTorch\n",
    "from spotPython.torch.netcifar10 import Net_CIFAR10\n",
    "\n",
    "warnings.filterwarnings(\"ignore\")"
   ]
  },
  {
   "cell_type": "code",
   "execution_count": 68,
   "metadata": {},
   "outputs": [
    {
     "name": "stdout",
     "output_type": "stream",
     "text": [
      "2.0.0\n",
      "MPS device:  mps\n"
     ]
    }
   ],
   "source": [
    "print(torch.__version__)\n",
    "# Check that MPS is available\n",
    "if not torch.backends.mps.is_available():\n",
    "    if not torch.backends.mps.is_built():\n",
    "        print(\"MPS not available because the current PyTorch install was not \"\n",
    "              \"built with MPS enabled.\")\n",
    "    else:\n",
    "        print(\"MPS not available because the current MacOS version is not 12.3+ \"\n",
    "              \"and/or you do not have an MPS-enabled device on this machine.\")\n",
    "\n",
    "else:\n",
    "    mps_device = torch.device(\"mps\")\n",
    "    print(\"MPS device: \", mps_device)"
   ]
  },
  {
   "attachments": {},
   "cell_type": "markdown",
   "metadata": {},
   "source": [
    "## 0. Initialization of the Empty `fun_control` Dictionary"
   ]
  },
  {
   "cell_type": "code",
   "execution_count": 69,
   "metadata": {},
   "outputs": [],
   "source": [
    "fun_control = fun_control_init()"
   ]
  },
  {
   "attachments": {},
   "cell_type": "markdown",
   "metadata": {},
   "source": [
    "## 1. Load Cifar10 Data "
   ]
  },
  {
   "attachments": {},
   "cell_type": "markdown",
   "metadata": {},
   "source": [
    "The data loading is implemented as in the Section \"Data loaders\" in the PyTorch tutorial [Hyperparameter Tuning  with Ray Tune](https://pytorch.org/tutorials/beginner/hyperparameter_tuning_tutorial.html)."
   ]
  },
  {
   "cell_type": "code",
   "execution_count": 70,
   "metadata": {},
   "outputs": [],
   "source": [
    "def load_data(data_dir=\"./data\"):\n",
    "    transform = transforms.Compose([\n",
    "        transforms.ToTensor(),\n",
    "        transforms.Normalize((0.5, 0.5, 0.5), (0.5, 0.5, 0.5))\n",
    "    ])\n",
    "\n",
    "    trainset = torchvision.datasets.CIFAR10(\n",
    "        root=data_dir, train=True, download=True, transform=transform)\n",
    "\n",
    "    testset = torchvision.datasets.CIFAR10(\n",
    "        root=data_dir, train=False, download=True, transform=transform)\n",
    "\n",
    "    return trainset, testset"
   ]
  },
  {
   "cell_type": "code",
   "execution_count": 71,
   "metadata": {},
   "outputs": [
    {
     "name": "stdout",
     "output_type": "stream",
     "text": [
      "Files already downloaded and verified\n",
      "Files already downloaded and verified\n"
     ]
    },
    {
     "data": {
      "text/plain": [
       "((50000, 32, 32, 3), (10000, 32, 32, 3))"
      ]
     },
     "execution_count": 71,
     "metadata": {},
     "output_type": "execute_result"
    }
   ],
   "source": [
    "train, test = load_data()\n",
    "train.data.shape, test.data.shape"
   ]
  },
  {
   "cell_type": "code",
   "execution_count": 72,
   "metadata": {},
   "outputs": [],
   "source": [
    "n_samples = len(train)\n",
    "# add the dataset to the fun_control\n",
    "fun_control.update({\"data\": None, # dataset,\n",
    "               \"train\": train,\n",
    "               \"test\": test,\n",
    "               \"n_samples\": n_samples,\n",
    "               \"target_column\": None})"
   ]
  },
  {
   "attachments": {},
   "cell_type": "markdown",
   "metadata": {},
   "source": [
    "## 2. Specification of the Preprocessing Model\n",
    "\n",
    "Because the Ray Tune hyperparameter tuning does not use a preprocessing model, the preprocessing model is set to `None` here."
   ]
  },
  {
   "cell_type": "code",
   "execution_count": 73,
   "metadata": {},
   "outputs": [],
   "source": [
    "# categorical_columns = []\n",
    "# one_hot_encoder = OneHotEncoder(handle_unknown=\"ignore\", sparse_output=False)\n",
    "# prep_model = ColumnTransformer(\n",
    "#         transformers=[\n",
    "#             (\"categorical\", one_hot_encoder, categorical_columns),\n",
    "#         ],\n",
    "#         remainder=StandardScaler(),\n",
    "#     )\n",
    "prep_model = None\n",
    "fun_control.update({\"prep_model\": prep_model})"
   ]
  },
  {
   "attachments": {},
   "cell_type": "markdown",
   "metadata": {},
   "source": [
    "## 3. Select `algorithm` and `core_model_hyper_dict`"
   ]
  },
  {
   "attachments": {},
   "cell_type": "markdown",
   "metadata": {},
   "source": [
    "The same model as implemented as in the Section \"Configurable neural network\" in the PyTorch tutorial [Hyperparameter Tuning  with Ray Tune](https://pytorch.org/tutorials/beginner/hyperparameter_tuning_tutorial.html) is used here. `spotPython` implements a class which is similar to the class described in the PyTorch tutorial. The class is called `Net_CIFAR10`   and is implemented in the file `netcifar10.py`. The class is imported here.\n",
    "\n",
    "Note: In addition to the class Net from the PyTorch tutorial, the class Net_CIFAR10 has additional attributes, namely:\n",
    "\n",
    "* learning rate (`lr`),\n",
    "* batchsize (`batch_size`),\n",
    "* epochs (`epochs`), and\n",
    "* k_folds (`k_folds`).\n",
    "\n",
    "Further attributes can be easily added to the class, e.g., `optimizer` or `loss_function`."
   ]
  },
  {
   "cell_type": "code",
   "execution_count": 74,
   "metadata": {},
   "outputs": [],
   "source": [
    "core_model = Net_CIFAR10\n",
    "fun_control = add_core_model_to_fun_control(core_model=core_model,\n",
    "                              fun_control=fun_control,\n",
    "                              hyper_dict=TorchHyperDict,\n",
    "                              filename=None)"
   ]
  },
  {
   "attachments": {},
   "cell_type": "markdown",
   "metadata": {},
   "source": [
    "### The `hyper_dict` Hyperparameters for the Selected Algorithm"
   ]
  },
  {
   "attachments": {},
   "cell_type": "markdown",
   "metadata": {},
   "source": [
    "`spotPython` uses simple `JSON` files for the specification of the hyperparameters. The `JSON` file for the `core_model` is called `torch_hyper_dict.json`. The corresponding entries for the `Net_CIFAR10` class are shown below.\n",
    "\n",
    "```json\n",
    "{\"Net_CIFAR10\":\n",
    "    {\n",
    "        \"l1\": {\n",
    "            \"type\": \"int\",\n",
    "            \"default\": 5,\n",
    "            \"transform\": \"transform_power_2_int\",\n",
    "            \"lower\": 2,\n",
    "            \"upper\": 9},\n",
    "        \"l2\": {\n",
    "            \"type\": \"int\",\n",
    "            \"default\": 5,\n",
    "            \"transform\": \"transform_power_2_int\",\n",
    "            \"lower\": 2,\n",
    "            \"upper\": 9},\n",
    "        \"lr\": {\n",
    "            \"type\": \"float\",\n",
    "            \"default\": 1e-03,\n",
    "            \"transform\": \"None\",\n",
    "            \"lower\": 1e-05,\n",
    "            \"upper\": 1e-02},\n",
    "        \"batch_size\": {\n",
    "            \"type\": \"int\",\n",
    "            \"default\": 4,\n",
    "            \"transform\": \"transform_power_2_int\",\n",
    "            \"lower\": 1,\n",
    "            \"upper\": 4},\n",
    "        \"epochs\": {\n",
    "                \"type\": \"int\",\n",
    "                \"default\": 3,\n",
    "                \"transform\": \"transform_power_2_int\",\n",
    "                \"lower\": 1,\n",
    "                \"upper\": 4},\n",
    "        \"k_folds\": {\n",
    "            \"type\": \"int\",\n",
    "            \"default\": 2,\n",
    "            \"transform\": \"None\",\n",
    "            \"lower\": 2,\n",
    "            \"upper\": 3},\n",
    "        \"patience\": {\n",
    "            \"type\": \"int\",\n",
    "            \"default\": 5,\n",
    "            \"transform\": \"None\",\n",
    "            \"lower\": 2,\n",
    "            \"upper\": 10},\n",
    "    }\n",
    "}\n",
    "```\n",
    "\n",
    "Each entry in the `JSON` file represents one hyperparameter with the following structure:\n",
    "`type`, `default`, `transform`, `lower`, and `upper`.\n"
   ]
  },
  {
   "attachments": {},
   "cell_type": "markdown",
   "metadata": {},
   "source": [
    "### Categorical Hyperparameters"
   ]
  },
  {
   "attachments": {},
   "cell_type": "markdown",
   "metadata": {},
   "source": [
    "In contrast to Ray Tune, `spotPython` can handle numerical, boolean, and categorical hyperparameters. Since `Ray Tune` does not tune categorical hyperparameters, they are not used here. However, they can be specified in the `JSON` file in a similar way as the numerical hyperparameters as shown below:\n",
    "\n",
    "```json\n",
    "\"factor_hyperparameter\": {\n",
    "    \"levels\": [\"A\", \"B\", \"C\"],\n",
    "    \"type\": \"factor\",\n",
    "    \"default\": \"B\",\n",
    "    \"transform\": \"None\",\n",
    "    \"core_model_parameter_type\": \"str\",\n",
    "    \"lower\": 0,\n",
    "    \"upper\": 2},\n",
    "```"
   ]
  },
  {
   "attachments": {},
   "cell_type": "markdown",
   "metadata": {},
   "source": [
    "## 4. Modify `hyper_dict` Hyperparameters for the Selected Algorithm aka `core_model`"
   ]
  },
  {
   "attachments": {},
   "cell_type": "markdown",
   "metadata": {},
   "source": [
    "After specifying the model, the corresponding hyperparameters, their types and bounds are loaded from the `JSON` file `torch_hyper_dict.json`. After loading, the user can modify the hyperparameters, e.g., the bounds.\n",
    "`spotPython` provides a clever rule for de-activating hyperparameters. If the lower and the upper bound are set to identical values, the hyperparameter is de-activated. This is useful for the hyperparameter tuning, because it allows to specify a hyperparameter in the `JSON` file, but to de-activate it in the `fun_control` dictionary. This is done in the next step."
   ]
  },
  {
   "attachments": {},
   "cell_type": "markdown",
   "metadata": {},
   "source": [
    "### Modify hyperparameter of type numeric and integer (boolean)\n",
    "\n",
    "Since the hyperparameter `k_folds` is not used in the PyTorch tutorial, it is de-activated here by setting the lower and upper bound to the same value."
   ]
  },
  {
   "cell_type": "code",
   "execution_count": 75,
   "metadata": {},
   "outputs": [
    {
     "data": {
      "text/plain": [
       "{'l1': {'type': 'int',\n",
       "  'default': 5,\n",
       "  'transform': 'transform_power_2_int',\n",
       "  'lower': 2,\n",
       "  'upper': 9},\n",
       " 'l2': {'type': 'int',\n",
       "  'default': 5,\n",
       "  'transform': 'transform_power_2_int',\n",
       "  'lower': 2,\n",
       "  'upper': 9},\n",
       " 'lr': {'type': 'float',\n",
       "  'default': 0.001,\n",
       "  'transform': 'None',\n",
       "  'lower': 1e-05,\n",
       "  'upper': 0.01},\n",
       " 'batch_size': {'type': 'int',\n",
       "  'default': 4,\n",
       "  'transform': 'transform_power_2_int',\n",
       "  'lower': 1,\n",
       "  'upper': 5},\n",
       " 'epochs': {'type': 'int',\n",
       "  'default': 3,\n",
       "  'transform': 'transform_power_2_int',\n",
       "  'lower': 3,\n",
       "  'upper': 4},\n",
       " 'k_folds': {'type': 'int',\n",
       "  'default': 2,\n",
       "  'transform': 'None',\n",
       "  'lower': 0,\n",
       "  'upper': 0},\n",
       " 'patience': {'type': 'int',\n",
       "  'default': 5,\n",
       "  'transform': 'None',\n",
       "  'lower': 5,\n",
       "  'upper': 5},\n",
       " 'optimizer': {'levels': ['Adadelta',\n",
       "   'Adagrad',\n",
       "   'Adam',\n",
       "   'AdamW',\n",
       "   'SparseAdam',\n",
       "   'Adamax',\n",
       "   'ASGD',\n",
       "   'LBFGS',\n",
       "   'NAdam',\n",
       "   'RAdam',\n",
       "   'RMSprop',\n",
       "   'Rprop',\n",
       "   'SGD'],\n",
       "  'type': 'factor',\n",
       "  'default': 'SGD',\n",
       "  'transform': 'None',\n",
       "  'class_name': 'torch.optim',\n",
       "  'core_model_parameter_type': 'instance',\n",
       "  'lower': 0,\n",
       "  'upper': 12},\n",
       " 'criterion': {'levels': ['L1Loss',\n",
       "   'MSELoss',\n",
       "   'CrossEntropyLoss',\n",
       "   'CTCLoss',\n",
       "   'NLLLoss',\n",
       "   'PoissonNLLLoss',\n",
       "   'GaussianNLLLoss',\n",
       "   'KLDivLoss',\n",
       "   'BCELoss',\n",
       "   'BCEWithLogitsLoss',\n",
       "   'MarginRankingLoss',\n",
       "   'HingeEmbeddingLoss',\n",
       "   'MultiLabelMarginLoss',\n",
       "   'HuberLoss',\n",
       "   'SmoothL1Loss',\n",
       "   'SoftMarginLoss',\n",
       "   'MultiLabelSoftMarginLoss',\n",
       "   'CosineEmbeddingLoss',\n",
       "   'MultiMarginLoss',\n",
       "   'TripletMarginLoss',\n",
       "   'TripletMarginWithDistanceLoss'],\n",
       "  'type': 'factor',\n",
       "  'default': 'CrossEntropyLoss',\n",
       "  'transform': 'None',\n",
       "  'class_name': 'torch.nn',\n",
       "  'core_model_parameter_type': 'instance()',\n",
       "  'lower': 0,\n",
       "  'upper': 20}}"
      ]
     },
     "execution_count": 75,
     "metadata": {},
     "output_type": "execute_result"
    }
   ],
   "source": [
    "fun_control = modify_hyper_parameter_bounds(fun_control, \"batch_size\", bounds=[1, 5])\n",
    "fun_control = modify_hyper_parameter_bounds(fun_control, \"k_folds\", bounds=[0, 0])\n",
    "fun_control = modify_hyper_parameter_bounds(fun_control, \"patience\", bounds=[5, 5])\n",
    "fun_control[\"core_model_hyper_dict\"]"
   ]
  },
  {
   "attachments": {},
   "cell_type": "markdown",
   "metadata": {},
   "source": [
    "### Modify hyperparameter of type factor"
   ]
  },
  {
   "attachments": {},
   "cell_type": "markdown",
   "metadata": {},
   "source": [
    "In a similar manner as for the numerical hyperparameters, the categorical hyperparameters can be modified. For example, the hyperparameter `optimizer` is de-activated here by choosing only one value `\"SGD\"`."
   ]
  },
  {
   "cell_type": "code",
   "execution_count": 76,
   "metadata": {},
   "outputs": [],
   "source": [
    "fun_control = modify_hyper_parameter_levels(fun_control, \"optimizer\", [\"SGD\", \"Adam\"])\n",
    "# fun_control = modify_hyper_parameter_levels(fun_control, \"optimizer\", [\"SGD\"])"
   ]
  },
  {
   "attachments": {},
   "cell_type": "markdown",
   "metadata": {},
   "source": [
    "## 5. Selection of the Objective (Loss) Function"
   ]
  },
  {
   "cell_type": "code",
   "execution_count": 77,
   "metadata": {},
   "outputs": [],
   "source": [
    "# fun_control = modify_hyper_parameter_levels(fun_control, \"criterion\", [\"CrossEntropyLoss\", \"L1Loss\", \"MSELoss\"])\n",
    "fun_control = modify_hyper_parameter_levels(fun_control, \"criterion\", [\"CrossEntropyLoss\"])"
   ]
  },
  {
   "attachments": {},
   "cell_type": "markdown",
   "metadata": {},
   "source": [
    "There are two metrics:\n",
    "\n",
    "    1. `metric` is used for the river based evaluation via `eval_oml_iter_progressive`.\n",
    "    2. `metric_sklearn` is used for the sklearn based evaluation."
   ]
  },
  {
   "attachments": {},
   "cell_type": "markdown",
   "metadata": {},
   "source": [
    "**Important**:\n",
    "\n",
    "* `spotPython` performs minimization by default.\n",
    "* If accuracy should be maximized, then the objective function has to be multiplied by -1. Therefore, `weights` is set to -1 in this case."
   ]
  },
  {
   "cell_type": "code",
   "execution_count": 78,
   "metadata": {},
   "outputs": [],
   "source": [
    "fun = HyperTorch(seed=123, log_level=50).fun_torch\n",
    "weights = 1.0\n",
    "shuffle = True\n",
    "eval = \"train_hold_out\"\n",
    "device = DEVICE\n",
    "show_batch_interval = 100_000\n",
    "save_model = True\n",
    "path=\"torch_model.pt\"\n",
    "\n",
    "fun_control.update({\n",
    "               \"data_dir\": None,\n",
    "               \"checkpoint_dir\": None,\n",
    "               \"horizon\": None,\n",
    "               \"oml_grace_period\": None,\n",
    "               \"weights\": weights,\n",
    "               \"step\": None,\n",
    "               \"log_level\": 50,\n",
    "               \"weight_coeff\": None,\n",
    "               \"metric\": None,\n",
    "               \"metric_sklearn\": None,\n",
    "               \"shuffle\": shuffle,\n",
    "               \"eval\": eval,\n",
    "               \"device\": device,\n",
    "               \"show_batch_interval\": show_batch_interval,\n",
    "               \"save_model\": save_model,\n",
    "               \"path\": path,\n",
    "               })"
   ]
  },
  {
   "attachments": {},
   "cell_type": "markdown",
   "metadata": {},
   "source": [
    "## 6. Calling the SPOT Function"
   ]
  },
  {
   "attachments": {},
   "cell_type": "markdown",
   "metadata": {},
   "source": [
    "### Prepare the SPOT Parameters"
   ]
  },
  {
   "attachments": {},
   "cell_type": "markdown",
   "metadata": {},
   "source": [
    "* Get types and variable names as well as lower and upper bounds for the hyperparameters.\n",
    "* This step is necessary, because some parameters from the `fun_control` dictionary are explicitly required by the SPOT function."
   ]
  },
  {
   "cell_type": "code",
   "execution_count": 79,
   "metadata": {},
   "outputs": [],
   "source": [
    "var_type = get_var_type(fun_control)\n",
    "var_name = get_var_name(fun_control)\n",
    "fun_control.update({\"var_type\": var_type,\n",
    "                    \"var_name\": var_name})\n",
    "\n",
    "lower = get_bound_values(fun_control, \"lower\")\n",
    "upper = get_bound_values(fun_control, \"upper\")"
   ]
  },
  {
   "cell_type": "code",
   "execution_count": 80,
   "metadata": {},
   "outputs": [
    {
     "name": "stdout",
     "output_type": "stream",
     "text": [
      "| name       | type   | default          |   lower |   upper | transform             |\n",
      "|------------|--------|------------------|---------|---------|-----------------------|\n",
      "| l1         | int    | 5                |   2     |    9    | transform_power_2_int |\n",
      "| l2         | int    | 5                |   2     |    9    | transform_power_2_int |\n",
      "| lr         | float  | 0.001            |   1e-05 |    0.01 | None                  |\n",
      "| batch_size | int    | 4                |   1     |    5    | transform_power_2_int |\n",
      "| epochs     | int    | 3                |   3     |    4    | transform_power_2_int |\n",
      "| k_folds    | int    | 2                |   0     |    0    | None                  |\n",
      "| patience   | int    | 5                |   5     |    5    | None                  |\n",
      "| optimizer  | factor | SGD              |   0     |    1    | None                  |\n",
      "| criterion  | factor | CrossEntropyLoss |   0     |    0    | None                  |\n"
     ]
    }
   ],
   "source": [
    "print(gen_design_table(fun_control))"
   ]
  },
  {
   "attachments": {},
   "cell_type": "markdown",
   "metadata": {},
   "source": [
    "### Run the `Spot` Optimizer\n",
    "\n",
    "* Run SPOT for approx. x mins (`max_time`).\n",
    "* Note: the run takes longer, because the evaluation time of initial design (here: `initi_size`, 20 points) is not considered."
   ]
  },
  {
   "cell_type": "code",
   "execution_count": 21,
   "metadata": {},
   "outputs": [
    {
     "data": {
      "text/plain": [
       "array([[5.0e+00, 5.0e+00, 1.0e-03, 4.0e+00, 3.0e+00, 2.0e+00, 5.0e+00,\n",
       "        1.2e+01, 2.0e+00]])"
      ]
     },
     "execution_count": 21,
     "metadata": {},
     "output_type": "execute_result"
    }
   ],
   "source": [
    "from spotPython.hyperparameters.values import get_default_hyperparameters_as_array\n",
    "hyper_dict=TorchHyperDict().load()\n",
    "X_start = get_default_hyperparameters_as_array(fun_control, hyper_dict)\n",
    "X_start"
   ]
  },
  {
   "cell_type": "code",
   "execution_count": 22,
   "metadata": {},
   "outputs": [
    {
     "name": "stdout",
     "output_type": "stream",
     "text": [
      "Epoch: 1\n",
      "Loss on hold-out set: 2.0417706483364104\n",
      "Accuracy on hold-out set: 0.26735\n",
      "Epoch: 2\n",
      "Loss on hold-out set: 1.9618312449932098\n",
      "Accuracy on hold-out set: 0.29435\n",
      "Epoch: 3\n",
      "Loss on hold-out set: 1.8746776345014573\n",
      "Accuracy on hold-out set: 0.33055\n",
      "Epoch: 4\n",
      "Loss on hold-out set: 1.8051693865299225\n",
      "Accuracy on hold-out set: 0.3503\n",
      "Epoch: 5\n",
      "Loss on hold-out set: 1.7358257170200349\n",
      "Accuracy on hold-out set: 0.37425\n",
      "Epoch: 6\n",
      "Loss on hold-out set: 1.677817623847723\n",
      "Accuracy on hold-out set: 0.38745\n",
      "Epoch: 7\n",
      "Loss on hold-out set: 1.6218374612927438\n",
      "Accuracy on hold-out set: 0.41105\n",
      "Epoch: 8\n",
      "Loss on hold-out set: 1.6023075541079044\n",
      "Accuracy on hold-out set: 0.41565\n",
      "Epoch: 9\n",
      "Loss on hold-out set: 1.5626135360062123\n",
      "Accuracy on hold-out set: 0.43465\n",
      "Epoch: 10\n",
      "Loss on hold-out set: 1.5370195542931557\n",
      "Accuracy on hold-out set: 0.4434\n",
      "Epoch: 11\n",
      "Loss on hold-out set: 1.5294573112547398\n",
      "Accuracy on hold-out set: 0.44715\n",
      "Epoch: 12\n",
      "Loss on hold-out set: 1.4980561873853206\n",
      "Accuracy on hold-out set: 0.45905\n",
      "Epoch: 13\n",
      "Loss on hold-out set: 1.52270298974514\n",
      "Accuracy on hold-out set: 0.44775\n",
      "Epoch: 14\n",
      "Loss on hold-out set: 1.4836400701969863\n",
      "Accuracy on hold-out set: 0.46605\n",
      "Epoch: 15\n",
      "Loss on hold-out set: 1.4660057265222073\n",
      "Accuracy on hold-out set: 0.46755\n",
      "Epoch: 16\n",
      "Loss on hold-out set: 1.4637750842928887\n",
      "Accuracy on hold-out set: 0.48095\n",
      "Returned to Spot: Validation loss: 1.4637750842928887\n",
      "----------------------------------------------\n",
      "Epoch: 1\n",
      "Loss on hold-out set: 2.1291130910396574\n",
      "Accuracy on hold-out set: 0.20625\n",
      "Epoch: 2\n",
      "Loss on hold-out set: 1.9386497313976288\n",
      "Accuracy on hold-out set: 0.26015\n",
      "Epoch: 3\n",
      "Loss on hold-out set: 1.8321254197120667\n",
      "Accuracy on hold-out set: 0.30725\n",
      "Epoch: 4\n",
      "Loss on hold-out set: 1.7618952473402023\n",
      "Accuracy on hold-out set: 0.3362\n",
      "Epoch: 5\n",
      "Loss on hold-out set: 1.7292432537317275\n",
      "Accuracy on hold-out set: 0.35215\n",
      "Epoch: 6\n",
      "Loss on hold-out set: 1.6948116336345673\n",
      "Accuracy on hold-out set: 0.3713\n",
      "Epoch: 7\n",
      "Loss on hold-out set: 1.6393584147930145\n",
      "Accuracy on hold-out set: 0.39045\n",
      "Epoch: 8\n",
      "Loss on hold-out set: 1.6121412122249603\n",
      "Accuracy on hold-out set: 0.40075\n",
      "Epoch: 9\n",
      "Loss on hold-out set: 1.5838644255161285\n",
      "Accuracy on hold-out set: 0.4123\n",
      "Epoch: 10\n",
      "Loss on hold-out set: 1.562895852303505\n",
      "Accuracy on hold-out set: 0.42255\n",
      "Epoch: 11\n",
      "Loss on hold-out set: 1.5630812236070633\n",
      "Accuracy on hold-out set: 0.4195\n",
      "Epoch: 12\n",
      "Loss on hold-out set: 1.5346503359079362\n",
      "Accuracy on hold-out set: 0.4351\n",
      "Epoch: 13\n",
      "Loss on hold-out set: 1.5189016464233398\n",
      "Accuracy on hold-out set: 0.4396\n",
      "Epoch: 14\n",
      "Loss on hold-out set: 1.4994713426589965\n",
      "Accuracy on hold-out set: 0.4497\n",
      "Epoch: 15\n",
      "Loss on hold-out set: 1.493762929224968\n",
      "Accuracy on hold-out set: 0.4519\n",
      "Epoch: 16\n",
      "Loss on hold-out set: 1.4810722801208496\n",
      "Accuracy on hold-out set: 0.45685\n",
      "Returned to Spot: Validation loss: 1.4810722801208496\n",
      "----------------------------------------------\n",
      "Epoch: 1\n",
      "Loss on hold-out set: 1.930686691379547\n",
      "Accuracy on hold-out set: 0.2651\n",
      "Epoch: 2\n",
      "Loss on hold-out set: 1.8548827894210815\n",
      "Accuracy on hold-out set: 0.2988\n",
      "Epoch: 3\n",
      "Loss on hold-out set: 1.8290329035758972\n",
      "Accuracy on hold-out set: 0.3218\n",
      "Epoch: 4\n",
      "Loss on hold-out set: 1.7852773713111878\n",
      "Accuracy on hold-out set: 0.32705\n",
      "Epoch: 5\n",
      "Loss on hold-out set: 1.7461593722343445\n",
      "Accuracy on hold-out set: 0.3441\n",
      "Epoch: 6\n",
      "Loss on hold-out set: 1.816641439151764\n",
      "Accuracy on hold-out set: 0.34535\n",
      "Epoch: 7\n",
      "Loss on hold-out set: 1.7601372165679932\n",
      "Accuracy on hold-out set: 0.33555\n",
      "Epoch: 8\n",
      "Loss on hold-out set: 1.7458072060585021\n",
      "Accuracy on hold-out set: 0.3396\n",
      "Returned to Spot: Validation loss: 1.7458072060585021\n",
      "----------------------------------------------\n",
      "Epoch: 1\n",
      "Loss on hold-out set: 1.762540311205387\n",
      "Accuracy on hold-out set: 0.32605\n",
      "Epoch: 2\n",
      "Loss on hold-out set: 1.8135836119771003\n",
      "Accuracy on hold-out set: 0.33785\n",
      "Epoch: 3\n",
      "Loss on hold-out set: 1.7739266958296298\n",
      "Accuracy on hold-out set: 0.34765\n",
      "Epoch: 4\n",
      "Loss on hold-out set: 1.7740023300766945\n",
      "Accuracy on hold-out set: 0.4006\n",
      "Epoch: 5\n",
      "Loss on hold-out set: 1.931704453867674\n",
      "Accuracy on hold-out set: 0.34685\n",
      "Epoch: 6\n",
      "Loss on hold-out set: 1.8304199458926915\n",
      "Accuracy on hold-out set: 0.3692\n",
      "Early stopping at epoch 5\n",
      "Returned to Spot: Validation loss: 1.8304199458926915\n",
      "----------------------------------------------\n",
      "Epoch: 1\n",
      "Loss on hold-out set: 2.2938265546798706\n",
      "Accuracy on hold-out set: 0.1472\n",
      "Epoch: 2\n",
      "Loss on hold-out set: 2.255171677017212\n",
      "Accuracy on hold-out set: 0.14865\n",
      "Epoch: 3\n",
      "Loss on hold-out set: 2.1787957139968874\n",
      "Accuracy on hold-out set: 0.21865\n",
      "Epoch: 4\n",
      "Loss on hold-out set: 2.105408958530426\n",
      "Accuracy on hold-out set: 0.24035\n",
      "Epoch: 5\n",
      "Loss on hold-out set: 2.0579044948577883\n",
      "Accuracy on hold-out set: 0.2497\n",
      "Epoch: 6\n",
      "Loss on hold-out set: 2.0259621668815613\n",
      "Accuracy on hold-out set: 0.25925\n",
      "Epoch: 7\n",
      "Loss on hold-out set: 2.00137245759964\n",
      "Accuracy on hold-out set: 0.26915\n",
      "Epoch: 8\n",
      "Loss on hold-out set: 1.9804815719604492\n",
      "Accuracy on hold-out set: 0.2755\n",
      "Returned to Spot: Validation loss: 1.9804815719604492\n",
      "----------------------------------------------\n",
      "Epoch: 1\n",
      "Loss on hold-out set: 2.3039259560108185\n",
      "Accuracy on hold-out set: 0.10595\n",
      "Epoch: 2\n",
      "Loss on hold-out set: 2.3036624182462693\n",
      "Accuracy on hold-out set: 0.1078\n",
      "Epoch: 3\n",
      "Loss on hold-out set: 2.3034028465509415\n",
      "Accuracy on hold-out set: 0.11\n",
      "Epoch: 4\n",
      "Loss on hold-out set: 2.3031470452308653\n",
      "Accuracy on hold-out set: 0.11415\n",
      "Epoch: 5\n",
      "Loss on hold-out set: 2.3028933759212493\n",
      "Accuracy on hold-out set: 0.11835\n",
      "Epoch: 6\n",
      "Loss on hold-out set: 2.302642331504822\n",
      "Accuracy on hold-out set: 0.12225\n",
      "Epoch: 7\n",
      "Loss on hold-out set: 2.302388526773453\n",
      "Accuracy on hold-out set: 0.1256\n",
      "Epoch: 8\n",
      "Loss on hold-out set: 2.302132712674141\n",
      "Accuracy on hold-out set: 0.1298\n",
      "Epoch: 9\n",
      "Loss on hold-out set: 2.301875968313217\n",
      "Accuracy on hold-out set: 0.13395\n",
      "Epoch: 10\n",
      "Loss on hold-out set: 2.301614873290062\n",
      "Accuracy on hold-out set: 0.13705\n",
      "Epoch: 11\n",
      "Loss on hold-out set: 2.301348867416382\n",
      "Accuracy on hold-out set: 0.13985\n",
      "Epoch: 12\n",
      "Loss on hold-out set: 2.3010756412506104\n",
      "Accuracy on hold-out set: 0.1427\n",
      "Epoch: 13\n",
      "Loss on hold-out set: 2.3007934745550154\n",
      "Accuracy on hold-out set: 0.14675\n",
      "Epoch: 14\n",
      "Loss on hold-out set: 2.300503716444969\n",
      "Accuracy on hold-out set: 0.14945\n",
      "Epoch: 15\n",
      "Loss on hold-out set: 2.3002014835357665\n",
      "Accuracy on hold-out set: 0.1509\n",
      "Epoch: 16\n",
      "Loss on hold-out set: 2.29988829703331\n",
      "Accuracy on hold-out set: 0.15335\n",
      "Returned to Spot: Validation loss: 2.29988829703331\n",
      "----------------------------------------------\n",
      "spotPython tuning: [##########] 100.00% Done...\n",
      "\r"
     ]
    },
    {
     "data": {
      "text/plain": [
       "<spotPython.spot.spot.Spot at 0x104f18760>"
      ]
     },
     "execution_count": 22,
     "metadata": {},
     "output_type": "execute_result"
    }
   ],
   "source": [
    "spot_tuner = spot.Spot(fun=fun,\n",
    "                   lower = lower,\n",
    "                   upper = upper,\n",
    "                   fun_evals = inf,\n",
    "                   fun_repeats = 1,\n",
    "                   max_time = MAX_TIME,\n",
    "                   noise = False,\n",
    "                   tolerance_x = np.sqrt(np.spacing(1)),\n",
    "                   var_type = var_type,\n",
    "                   var_name = var_name,\n",
    "                   infill_criterion = \"y\",\n",
    "                   n_points = 1,\n",
    "                   seed=123,\n",
    "                   log_level = 50,\n",
    "                   show_models= False,\n",
    "                   show_progress= True,\n",
    "                   fun_control = fun_control,\n",
    "                   design_control={\"init_size\": INIT_SIZE,\n",
    "                                   \"repeats\": 1},\n",
    "                   surrogate_control={\"noise\": True,\n",
    "                                      \"cod_type\": \"norm\",\n",
    "                                      \"min_theta\": -4,\n",
    "                                      \"max_theta\": 3,\n",
    "                                      \"n_theta\": len(var_name),\n",
    "                                      \"model_optimizer\": differential_evolution,\n",
    "                                      \"model_fun_evals\": 10_000,\n",
    "                                      \"log_level\": 50\n",
    "                                      })\n",
    "spot_tuner.run(X_start=X_start)"
   ]
  },
  {
   "attachments": {},
   "cell_type": "markdown",
   "metadata": {},
   "source": [
    "### 4 Results"
   ]
  },
  {
   "cell_type": "code",
   "execution_count": 23,
   "metadata": {},
   "outputs": [],
   "source": [
    "SAVE = False\n",
    "LOAD = False\n",
    "\n",
    "if SAVE:\n",
    "    result_file_name = \"res_\" + experiment_name + \".pkl\"\n",
    "    with open(result_file_name, 'wb') as f:\n",
    "        pickle.dump(spot_tuner, f)\n",
    "\n",
    "if LOAD:\n",
    "    result_file_name = \"res_ch10-friedman-hpt-0_maans03_60min_20init_1K_2023-04-14_10-11-19.pkl\"\n",
    "    with open(result_file_name, 'rb') as f:\n",
    "        spot_tuner =  pickle.load(f)"
   ]
  },
  {
   "attachments": {},
   "cell_type": "markdown",
   "metadata": {},
   "source": [
    "* Show the Progress of the hyperparameter tuning:"
   ]
  },
  {
   "cell_type": "code",
   "execution_count": 24,
   "metadata": {},
   "outputs": [
    {
     "data": {
      "text/plain": [
       "array([1.46377508, 1.48107228, 1.74580721, 1.83041995, 1.98048157,\n",
       "       2.2998883 ])"
      ]
     },
     "execution_count": 24,
     "metadata": {},
     "output_type": "execute_result"
    }
   ],
   "source": [
    "spot_tuner.y"
   ]
  },
  {
   "cell_type": "code",
   "execution_count": 25,
   "metadata": {},
   "outputs": [
    {
     "data": {
      "image/png": "[encoded data removed]",
      "text/plain": [
       "<Figure size 900x600 with 1 Axes>"
      ]
     },
     "metadata": {},
     "output_type": "display_data"
    }
   ],
   "source": [
    "spot_tuner.plot_progress(log_y=False, filename=\"../Figures.d/\" + experiment_name+\"_progress.pdf\")"
   ]
  },
  {
   "attachments": {},
   "cell_type": "markdown",
   "metadata": {},
   "source": [
    "* Print the Results"
   ]
  },
  {
   "cell_type": "code",
   "execution_count": 26,
   "metadata": {},
   "outputs": [
    {
     "name": "stdout",
     "output_type": "stream",
     "text": [
      "| name       | type   | default          |   lower |   upper |                tuned | transform             |   importance | stars   |\n",
      "|------------|--------|------------------|---------|---------|----------------------|-----------------------|--------------|---------|\n",
      "| l1         | int    | 5                |     2.0 |     9.0 |                  8.0 | transform_power_2_int |         0.00 |         |\n",
      "| l2         | int    | 5                |     2.0 |     9.0 |                  8.0 | transform_power_2_int |         0.00 |         |\n",
      "| lr         | float  | 0.001            |   1e-05 |    0.01 | 0.003565720974200323 | None                  |       100.00 | ***     |\n",
      "| batch_size | int    | 4                |     1.0 |     5.0 |                  2.0 | transform_power_2_int |         0.64 | .       |\n",
      "| epochs     | int    | 3                |     3.0 |     4.0 |                  4.0 | transform_power_2_int |         0.00 |         |\n",
      "| k_folds    | int    | 2                |     0.0 |     0.0 |                  0.0 | None                  |         0.00 |         |\n",
      "| patience   | int    | 5                |     5.0 |     5.0 |                  5.0 | None                  |         0.00 |         |\n",
      "| optimizer  | factor | SGD              |     0.0 |     1.0 |                  0.0 | None                  |         0.13 | .       |\n",
      "| criterion  | factor | CrossEntropyLoss |     0.0 |     0.0 |                  0.0 | None                  |         0.00 |         |\n"
     ]
    }
   ],
   "source": [
    "print(gen_design_table(fun_control=fun_control, spot=spot_tuner))"
   ]
  },
  {
   "attachments": {},
   "cell_type": "markdown",
   "metadata": {},
   "source": [
    "## Show variable importance"
   ]
  },
  {
   "cell_type": "code",
   "execution_count": 27,
   "metadata": {},
   "outputs": [
    {
     "data": {
      "image/png": "[encoded data removed]",
      "text/plain": [
       "<Figure size 640x480 with 1 Axes>"
      ]
     },
     "metadata": {},
     "output_type": "display_data"
    }
   ],
   "source": [
    "spot_tuner.plot_importance(threshold=0.025, filename=\"../Figures.d/\" + experiment_name+\"_importance.pdf\")"
   ]
  },
  {
   "attachments": {},
   "cell_type": "markdown",
   "metadata": {},
   "source": [
    "## Get Default Hyperparameters"
   ]
  },
  {
   "cell_type": "code",
   "execution_count": 81,
   "metadata": {},
   "outputs": [],
   "source": [
    "# from spotPython.hyperparameters.values import get_dict_with_levels_and_types\n",
    "# values_default = get_default_values(fun_control)\n",
    "# values_default = transform_hyper_parameter_values(fun_control=fun_control, hyper_parameter_values=values_default)\n",
    "# get_dict_with_levels_and_types(fun_control, values_default)\n",
    "# values_default"
   ]
  },
  {
   "cell_type": "code",
   "execution_count": 82,
   "metadata": {},
   "outputs": [
    {
     "data": {
      "text/plain": [
       "array([[5.0e+00, 5.0e+00, 1.0e-03, 4.0e+00, 3.0e+00, 2.0e+00, 5.0e+00,\n",
       "        1.2e+01, 2.0e+00]])"
      ]
     },
     "execution_count": 82,
     "metadata": {},
     "output_type": "execute_result"
    }
   ],
   "source": [
    "fc = fun_control.copy()\n",
    "fc.update({\"core_model_hyper_dict\": hyper_dict[fun_control[\"core_model\"].__name__]})\n",
    "X_default = get_default_hyperparameters_as_array(fc, hyper_dict)\n",
    "X_default\n"
   ]
  },
  {
   "cell_type": "code",
   "execution_count": 83,
   "metadata": {},
   "outputs": [
    {
     "data": {
      "text/plain": [
       "Net_CIFAR10(\n",
       "  (criterion): CrossEntropyLoss()\n",
       "  (conv1): Conv2d(3, 6, kernel_size=(5, 5), stride=(1, 1))\n",
       "  (pool): MaxPool2d(kernel_size=2, stride=2, padding=0, dilation=1, ceil_mode=False)\n",
       "  (conv2): Conv2d(6, 16, kernel_size=(5, 5), stride=(1, 1))\n",
       "  (fc1): Linear(in_features=400, out_features=32, bias=True)\n",
       "  (fc2): Linear(in_features=32, out_features=32, bias=True)\n",
       "  (fc3): Linear(in_features=32, out_features=10, bias=True)\n",
       ")"
      ]
     },
     "execution_count": 83,
     "metadata": {},
     "output_type": "execute_result"
    }
   ],
   "source": [
    "model_default = get_one_core_model_from_X(X_start, fc)\n",
    "model_default"
   ]
  },
  {
   "cell_type": "code",
   "execution_count": 84,
   "metadata": {},
   "outputs": [
    {
     "data": {
      "text/plain": [
       "torch.optim.sgd.SGD"
      ]
     },
     "execution_count": 84,
     "metadata": {},
     "output_type": "execute_result"
    }
   ],
   "source": [
    "model_default.optimizer"
   ]
  },
  {
   "cell_type": "code",
   "execution_count": 85,
   "metadata": {},
   "outputs": [
    {
     "data": {
      "text/plain": [
       "CrossEntropyLoss()"
      ]
     },
     "execution_count": 85,
     "metadata": {},
     "output_type": "execute_result"
    }
   ],
   "source": [
    "model_default.criterion"
   ]
  },
  {
   "cell_type": "code",
   "execution_count": 86,
   "metadata": {},
   "outputs": [],
   "source": [
    "\n",
    "# v_dict_default = assign_values(X_default, fun_control[\"var_name\"])\n",
    "# v_dict_default\n",
    "# #return_conf_list_from_var_dict(var_dict=v_dict_default, fun_control=fun_control)"
   ]
  },
  {
   "cell_type": "code",
   "execution_count": 87,
   "metadata": {},
   "outputs": [],
   "source": [
    "# fc = fun_control\n",
    "# fc.update({\"core_model_hyper_dict\": hyper_dict[fun_control[\"core_model\"].__name__]})\n",
    "# fc"
   ]
  },
  {
   "cell_type": "code",
   "execution_count": 88,
   "metadata": {},
   "outputs": [],
   "source": [
    "# values_default=return_conf_list_from_var_dict(var_dict=v_dict_default, fun_control=fc)\n",
    "# values_default"
   ]
  },
  {
   "cell_type": "code",
   "execution_count": 89,
   "metadata": {},
   "outputs": [],
   "source": [
    "# model_default = fun_control[\"core_model\"](**values_default)\n",
    "# model_default"
   ]
  },
  {
   "attachments": {},
   "cell_type": "markdown",
   "metadata": {},
   "source": [
    "## Get SPOT Results"
   ]
  },
  {
   "cell_type": "code",
   "execution_count": 90,
   "metadata": {},
   "outputs": [
    {
     "name": "stdout",
     "output_type": "stream",
     "text": [
      "[[8.00000000e+00 8.00000000e+00 3.56572097e-03 2.00000000e+00\n",
      "  4.00000000e+00 0.00000000e+00 5.00000000e+00 0.00000000e+00\n",
      "  0.00000000e+00]]\n"
     ]
    }
   ],
   "source": [
    "X = spot_tuner.to_all_dim(spot_tuner.min_X.reshape(1,-1))\n",
    "print(X)"
   ]
  },
  {
   "cell_type": "code",
   "execution_count": 91,
   "metadata": {},
   "outputs": [
    {
     "data": {
      "text/plain": [
       "{'l1': array([8.]),\n",
       " 'l2': array([8.]),\n",
       " 'lr': array([0.00356572]),\n",
       " 'batch_size': array([2.]),\n",
       " 'epochs': array([4.]),\n",
       " 'k_folds': array([0.]),\n",
       " 'patience': array([5.]),\n",
       " 'optimizer': array([0.]),\n",
       " 'criterion': array([0.])}"
      ]
     },
     "execution_count": 91,
     "metadata": {},
     "output_type": "execute_result"
    }
   ],
   "source": [
    "v_dict = assign_values(X, fun_control[\"var_name\"])\n",
    "v_dict\n"
   ]
  },
  {
   "cell_type": "code",
   "execution_count": 92,
   "metadata": {},
   "outputs": [
    {
     "data": {
      "text/plain": [
       "[{'l1': 256,\n",
       "  'l2': 256,\n",
       "  'lr': 0.003565720974200323,\n",
       "  'batch_size': 4,\n",
       "  'epochs': 16,\n",
       "  'k_folds': 0,\n",
       "  'patience': 5,\n",
       "  'optimizer': torch.optim.sgd.SGD,\n",
       "  'criterion': CrossEntropyLoss()}]"
      ]
     },
     "execution_count": 92,
     "metadata": {},
     "output_type": "execute_result"
    }
   ],
   "source": [
    "return_conf_list_from_var_dict(var_dict=v_dict, fun_control=fun_control)"
   ]
  },
  {
   "cell_type": "code",
   "execution_count": 93,
   "metadata": {},
   "outputs": [
    {
     "data": {
      "text/plain": [
       "Net_CIFAR10(\n",
       "  (criterion): CrossEntropyLoss()\n",
       "  (conv1): Conv2d(3, 6, kernel_size=(5, 5), stride=(1, 1))\n",
       "  (pool): MaxPool2d(kernel_size=2, stride=2, padding=0, dilation=1, ceil_mode=False)\n",
       "  (conv2): Conv2d(6, 16, kernel_size=(5, 5), stride=(1, 1))\n",
       "  (fc1): Linear(in_features=400, out_features=256, bias=True)\n",
       "  (fc2): Linear(in_features=256, out_features=256, bias=True)\n",
       "  (fc3): Linear(in_features=256, out_features=10, bias=True)\n",
       ")"
      ]
     },
     "execution_count": 93,
     "metadata": {},
     "output_type": "execute_result"
    }
   ],
   "source": [
    "model_spot = get_one_core_model_from_X(X, fun_control)\n",
    "model_spot"
   ]
  },
  {
   "attachments": {},
   "cell_type": "markdown",
   "metadata": {},
   "source": [
    "## Evaluations\n",
    "\n",
    "The method `train_save` takes a model architecture without trained weights and trains this model with the train data. The train data is split into train and validation data. The validation data is used for early stopping. The trained model model_state_dict is saved.\n",
    "\n",
    " This evaluation is similar to the final Evaluation as in the Pytorch tutorial [Hyperparameter Tuning  with Ray Tune](https://pytorch.org/tutorials/beginner/hyperparameter_tuning_tutorial.html)."
   ]
  },
  {
   "cell_type": "code",
   "execution_count": 94,
   "metadata": {},
   "outputs": [
    {
     "data": {
      "text/plain": [
       "Net_CIFAR10(\n",
       "  (criterion): CrossEntropyLoss()\n",
       "  (conv1): Conv2d(3, 6, kernel_size=(5, 5), stride=(1, 1))\n",
       "  (pool): MaxPool2d(kernel_size=2, stride=2, padding=0, dilation=1, ceil_mode=False)\n",
       "  (conv2): Conv2d(6, 16, kernel_size=(5, 5), stride=(1, 1))\n",
       "  (fc1): Linear(in_features=400, out_features=32, bias=True)\n",
       "  (fc2): Linear(in_features=32, out_features=32, bias=True)\n",
       "  (fc3): Linear(in_features=32, out_features=10, bias=True)\n",
       ")"
      ]
     },
     "execution_count": 94,
     "metadata": {},
     "output_type": "execute_result"
    }
   ],
   "source": [
    "model_default"
   ]
  },
  {
   "cell_type": "code",
   "execution_count": 95,
   "metadata": {},
   "outputs": [
    {
     "name": "stdout",
     "output_type": "stream",
     "text": [
      "Epoch: 1\n",
      "Batch:  1000. Batch Size: 16. Training Loss (running): 2.308\n",
      "Loss on hold-out set: 2.3063798971176146\n",
      "Accuracy on hold-out set: 0.0984\n",
      "Epoch: 2\n",
      "Batch:  1000. Batch Size: 16. Training Loss (running): 2.305\n",
      "Loss on hold-out set: 2.3040632904052734\n",
      "Accuracy on hold-out set: 0.09325\n",
      "Epoch: 3\n",
      "Batch:  1000. Batch Size: 16. Training Loss (running): 2.303\n",
      "Loss on hold-out set: 2.302003882598877\n",
      "Accuracy on hold-out set: 0.1062\n",
      "Epoch: 4\n",
      "Batch:  1000. Batch Size: 16. Training Loss (running): 2.301\n",
      "Loss on hold-out set: 2.299362413215637\n",
      "Accuracy on hold-out set: 0.11115\n",
      "Epoch: 5\n",
      "Batch:  1000. Batch Size: 16. Training Loss (running): 2.298\n",
      "Loss on hold-out set: 2.295009426879883\n",
      "Accuracy on hold-out set: 0.1419\n",
      "Epoch: 6\n",
      "Batch:  1000. Batch Size: 16. Training Loss (running): 2.293\n",
      "Loss on hold-out set: 2.2859293588638305\n",
      "Accuracy on hold-out set: 0.16755\n",
      "Epoch: 7\n",
      "Batch:  1000. Batch Size: 16. Training Loss (running): 2.282\n",
      "Loss on hold-out set: 2.2624968313217164\n",
      "Accuracy on hold-out set: 0.1839\n",
      "Epoch: 8\n",
      "Batch:  1000. Batch Size: 16. Training Loss (running): 2.249\n",
      "Loss on hold-out set: 2.190771304321289\n",
      "Accuracy on hold-out set: 0.19065\n",
      "Returned to Spot: Validation loss: 2.190771304321289\n",
      "----------------------------------------------\n"
     ]
    },
    {
     "data": {
      "text/plain": [
       "(2.190771304321289, nan)"
      ]
     },
     "execution_count": 95,
     "metadata": {},
     "output_type": "execute_result"
    }
   ],
   "source": [
    "train_save(net=model_default, train_dataset=train, shuffle=True, device = \"cpu\", show_batch_interval=1_000, path=\"model_default_trained.pt\", save_model=True)"
   ]
  },
  {
   "cell_type": "code",
   "execution_count": 96,
   "metadata": {},
   "outputs": [
    {
     "name": "stdout",
     "output_type": "stream",
     "text": [
      "Loss on hold-out set: 2.1896024574279784\n",
      "Accuracy on hold-out set: 0.1902\n",
      "Returned to Spot: Validation loss: 2.1896024574279784\n",
      "----------------------------------------------\n"
     ]
    },
    {
     "data": {
      "text/plain": [
       "(2.1896024574279784, nan)"
      ]
     },
     "execution_count": 96,
     "metadata": {},
     "output_type": "execute_result"
    }
   ],
   "source": [
    "test_saved(net=model_default, test_dataset=test, shuffle=False, device = \"cpu\", show_batch_interval=1_000, path=\"model_default_trained.pt\")"
   ]
  },
  {
   "cell_type": "code",
   "execution_count": 97,
   "metadata": {},
   "outputs": [
    {
     "data": {
      "text/plain": [
       "Net_CIFAR10(\n",
       "  (criterion): CrossEntropyLoss()\n",
       "  (conv1): Conv2d(3, 6, kernel_size=(5, 5), stride=(1, 1))\n",
       "  (pool): MaxPool2d(kernel_size=2, stride=2, padding=0, dilation=1, ceil_mode=False)\n",
       "  (conv2): Conv2d(6, 16, kernel_size=(5, 5), stride=(1, 1))\n",
       "  (fc1): Linear(in_features=400, out_features=256, bias=True)\n",
       "  (fc2): Linear(in_features=256, out_features=256, bias=True)\n",
       "  (fc3): Linear(in_features=256, out_features=10, bias=True)\n",
       ")"
      ]
     },
     "execution_count": 97,
     "metadata": {},
     "output_type": "execute_result"
    }
   ],
   "source": [
    "model_spot"
   ]
  },
  {
   "cell_type": "code",
   "execution_count": 98,
   "metadata": {},
   "outputs": [
    {
     "name": "stdout",
     "output_type": "stream",
     "text": [
      "Epoch: 1\n",
      "Batch:  1000. Batch Size: 4. Training Loss (running): 2.300\n",
      "Batch:  2000. Batch Size: 4. Training Loss (running): 1.142\n",
      "Batch:  3000. Batch Size: 4. Training Loss (running): 0.734\n",
      "Batch:  4000. Batch Size: 4. Training Loss (running): 0.527\n",
      "Batch:  5000. Batch Size: 4. Training Loss (running): 0.407\n",
      "Batch:  6000. Batch Size: 4. Training Loss (running): 0.336\n",
      "Batch:  7000. Batch Size: 4. Training Loss (running): 0.283\n",
      "Loss on hold-out set: 1.9725347606420518\n",
      "Accuracy on hold-out set: 0.2826\n",
      "Epoch: 2\n",
      "Batch:  1000. Batch Size: 4. Training Loss (running): 1.975\n",
      "Batch:  2000. Batch Size: 4. Training Loss (running): 0.973\n",
      "Batch:  3000. Batch Size: 4. Training Loss (running): 0.641\n",
      "Batch:  4000. Batch Size: 4. Training Loss (running): 0.483\n",
      "Batch:  5000. Batch Size: 4. Training Loss (running): 0.380\n",
      "Batch:  6000. Batch Size: 4. Training Loss (running): 0.321\n",
      "Batch:  7000. Batch Size: 4. Training Loss (running): 0.269\n",
      "Loss on hold-out set: 1.890852786719799\n",
      "Accuracy on hold-out set: 0.31065\n",
      "Epoch: 3\n",
      "Batch:  1000. Batch Size: 4. Training Loss (running): 1.873\n",
      "Batch:  2000. Batch Size: 4. Training Loss (running): 0.922\n",
      "Batch:  3000. Batch Size: 4. Training Loss (running): 0.619\n",
      "Batch:  4000. Batch Size: 4. Training Loss (running): 0.461\n",
      "Batch:  5000. Batch Size: 4. Training Loss (running): 0.371\n",
      "Batch:  6000. Batch Size: 4. Training Loss (running): 0.301\n",
      "Batch:  7000. Batch Size: 4. Training Loss (running): 0.257\n",
      "Loss on hold-out set: 1.8086326429247856\n",
      "Accuracy on hold-out set: 0.34375\n",
      "Epoch: 4\n",
      "Batch:  1000. Batch Size: 4. Training Loss (running): 1.798\n",
      "Batch:  2000. Batch Size: 4. Training Loss (running): 0.888\n",
      "Batch:  3000. Batch Size: 4. Training Loss (running): 0.597\n",
      "Batch:  4000. Batch Size: 4. Training Loss (running): 0.440\n",
      "Batch:  5000. Batch Size: 4. Training Loss (running): 0.351\n",
      "Batch:  6000. Batch Size: 4. Training Loss (running): 0.296\n",
      "Batch:  7000. Batch Size: 4. Training Loss (running): 0.247\n",
      "Loss on hold-out set: 1.7394320211410523\n",
      "Accuracy on hold-out set: 0.3749\n",
      "Epoch: 5\n",
      "Batch:  1000. Batch Size: 4. Training Loss (running): 1.731\n",
      "Batch:  2000. Batch Size: 4. Training Loss (running): 0.863\n",
      "Batch:  3000. Batch Size: 4. Training Loss (running): 0.563\n",
      "Batch:  4000. Batch Size: 4. Training Loss (running): 0.432\n",
      "Batch:  5000. Batch Size: 4. Training Loss (running): 0.340\n",
      "Batch:  6000. Batch Size: 4. Training Loss (running): 0.287\n",
      "Batch:  7000. Batch Size: 4. Training Loss (running): 0.239\n",
      "Loss on hold-out set: 1.687582548671961\n",
      "Accuracy on hold-out set: 0.39045\n",
      "Epoch: 6\n",
      "Batch:  1000. Batch Size: 4. Training Loss (running): 1.681\n",
      "Batch:  2000. Batch Size: 4. Training Loss (running): 0.835\n",
      "Batch:  3000. Batch Size: 4. Training Loss (running): 0.564\n",
      "Batch:  4000. Batch Size: 4. Training Loss (running): 0.416\n",
      "Batch:  5000. Batch Size: 4. Training Loss (running): 0.329\n",
      "Batch:  6000. Batch Size: 4. Training Loss (running): 0.275\n",
      "Batch:  7000. Batch Size: 4. Training Loss (running): 0.235\n",
      "Loss on hold-out set: 1.650835947817564\n",
      "Accuracy on hold-out set: 0.4029\n",
      "Epoch: 7\n",
      "Batch:  1000. Batch Size: 4. Training Loss (running): 1.667\n",
      "Batch:  2000. Batch Size: 4. Training Loss (running): 0.810\n",
      "Batch:  3000. Batch Size: 4. Training Loss (running): 0.544\n",
      "Batch:  4000. Batch Size: 4. Training Loss (running): 0.404\n",
      "Batch:  5000. Batch Size: 4. Training Loss (running): 0.322\n",
      "Batch:  6000. Batch Size: 4. Training Loss (running): 0.272\n",
      "Batch:  7000. Batch Size: 4. Training Loss (running): 0.233\n",
      "Loss on hold-out set: 1.6278196694552898\n",
      "Accuracy on hold-out set: 0.41\n",
      "Epoch: 8\n",
      "Batch:  1000. Batch Size: 4. Training Loss (running): 1.641\n",
      "Batch:  2000. Batch Size: 4. Training Loss (running): 0.804\n",
      "Batch:  3000. Batch Size: 4. Training Loss (running): 0.535\n",
      "Batch:  4000. Batch Size: 4. Training Loss (running): 0.394\n",
      "Batch:  5000. Batch Size: 4. Training Loss (running): 0.316\n",
      "Batch:  6000. Batch Size: 4. Training Loss (running): 0.265\n",
      "Batch:  7000. Batch Size: 4. Training Loss (running): 0.228\n",
      "Loss on hold-out set: 1.5866046396791935\n",
      "Accuracy on hold-out set: 0.4243\n",
      "Epoch: 9\n",
      "Batch:  1000. Batch Size: 4. Training Loss (running): 1.576\n",
      "Batch:  2000. Batch Size: 4. Training Loss (running): 0.789\n",
      "Batch:  3000. Batch Size: 4. Training Loss (running): 0.518\n",
      "Batch:  4000. Batch Size: 4. Training Loss (running): 0.398\n",
      "Batch:  5000. Batch Size: 4. Training Loss (running): 0.315\n",
      "Batch:  6000. Batch Size: 4. Training Loss (running): 0.261\n",
      "Batch:  7000. Batch Size: 4. Training Loss (running): 0.225\n",
      "Loss on hold-out set: 1.5677501470655202\n",
      "Accuracy on hold-out set: 0.4318\n",
      "Epoch: 10\n",
      "Batch:  1000. Batch Size: 4. Training Loss (running): 1.527\n",
      "Batch:  2000. Batch Size: 4. Training Loss (running): 0.770\n",
      "Batch:  3000. Batch Size: 4. Training Loss (running): 0.515\n",
      "Batch:  4000. Batch Size: 4. Training Loss (running): 0.392\n",
      "Batch:  5000. Batch Size: 4. Training Loss (running): 0.313\n",
      "Batch:  6000. Batch Size: 4. Training Loss (running): 0.261\n",
      "Batch:  7000. Batch Size: 4. Training Loss (running): 0.220\n",
      "Loss on hold-out set: 1.5621211805224418\n",
      "Accuracy on hold-out set: 0.44065\n",
      "Epoch: 11\n",
      "Batch:  1000. Batch Size: 4. Training Loss (running): 1.539\n",
      "Batch:  2000. Batch Size: 4. Training Loss (running): 0.769\n",
      "Batch:  3000. Batch Size: 4. Training Loss (running): 0.511\n",
      "Batch:  4000. Batch Size: 4. Training Loss (running): 0.382\n",
      "Batch:  5000. Batch Size: 4. Training Loss (running): 0.305\n",
      "Batch:  6000. Batch Size: 4. Training Loss (running): 0.251\n",
      "Batch:  7000. Batch Size: 4. Training Loss (running): 0.221\n",
      "Loss on hold-out set: 1.538091471350193\n",
      "Accuracy on hold-out set: 0.44105\n",
      "Epoch: 12\n",
      "Batch:  1000. Batch Size: 4. Training Loss (running): 1.489\n",
      "Batch:  2000. Batch Size: 4. Training Loss (running): 0.769\n",
      "Batch:  3000. Batch Size: 4. Training Loss (running): 0.515\n",
      "Batch:  4000. Batch Size: 4. Training Loss (running): 0.376\n",
      "Batch:  5000. Batch Size: 4. Training Loss (running): 0.302\n",
      "Batch:  6000. Batch Size: 4. Training Loss (running): 0.251\n",
      "Batch:  7000. Batch Size: 4. Training Loss (running): 0.214\n",
      "Loss on hold-out set: 1.5417571936607362\n",
      "Accuracy on hold-out set: 0.4456\n",
      "Epoch: 13\n",
      "Batch:  1000. Batch Size: 4. Training Loss (running): 1.499\n",
      "Batch:  2000. Batch Size: 4. Training Loss (running): 0.731\n",
      "Batch:  3000. Batch Size: 4. Training Loss (running): 0.503\n",
      "Batch:  4000. Batch Size: 4. Training Loss (running): 0.379\n",
      "Batch:  5000. Batch Size: 4. Training Loss (running): 0.302\n",
      "Batch:  6000. Batch Size: 4. Training Loss (running): 0.251\n",
      "Batch:  7000. Batch Size: 4. Training Loss (running): 0.213\n",
      "Loss on hold-out set: 1.51196342574358\n",
      "Accuracy on hold-out set: 0.45445\n",
      "Epoch: 14\n",
      "Batch:  1000. Batch Size: 4. Training Loss (running): 1.474\n",
      "Batch:  2000. Batch Size: 4. Training Loss (running): 0.734\n",
      "Batch:  3000. Batch Size: 4. Training Loss (running): 0.492\n",
      "Batch:  4000. Batch Size: 4. Training Loss (running): 0.371\n",
      "Batch:  5000. Batch Size: 4. Training Loss (running): 0.298\n",
      "Batch:  6000. Batch Size: 4. Training Loss (running): 0.255\n",
      "Batch:  7000. Batch Size: 4. Training Loss (running): 0.210\n",
      "Loss on hold-out set: 1.4866930854022502\n",
      "Accuracy on hold-out set: 0.46575\n",
      "Epoch: 15\n",
      "Batch:  1000. Batch Size: 4. Training Loss (running): 1.497\n",
      "Batch:  2000. Batch Size: 4. Training Loss (running): 0.739\n",
      "Batch:  3000. Batch Size: 4. Training Loss (running): 0.489\n",
      "Batch:  4000. Batch Size: 4. Training Loss (running): 0.363\n",
      "Batch:  5000. Batch Size: 4. Training Loss (running): 0.296\n",
      "Batch:  6000. Batch Size: 4. Training Loss (running): 0.240\n",
      "Batch:  7000. Batch Size: 4. Training Loss (running): 0.209\n",
      "Loss on hold-out set: 1.4736943762257695\n",
      "Accuracy on hold-out set: 0.46905\n",
      "Epoch: 16\n",
      "Batch:  1000. Batch Size: 4. Training Loss (running): 1.481\n",
      "Batch:  2000. Batch Size: 4. Training Loss (running): 0.738\n",
      "Batch:  3000. Batch Size: 4. Training Loss (running): 0.485\n",
      "Batch:  4000. Batch Size: 4. Training Loss (running): 0.364\n",
      "Batch:  5000. Batch Size: 4. Training Loss (running): 0.292\n",
      "Batch:  6000. Batch Size: 4. Training Loss (running): 0.240\n",
      "Batch:  7000. Batch Size: 4. Training Loss (running): 0.203\n",
      "Loss on hold-out set: 1.4803974281966685\n",
      "Accuracy on hold-out set: 0.46855\n",
      "Returned to Spot: Validation loss: 1.4803974281966685\n",
      "----------------------------------------------\n"
     ]
    },
    {
     "data": {
      "text/plain": [
       "(1.4803974281966685, nan)"
      ]
     },
     "execution_count": 98,
     "metadata": {},
     "output_type": "execute_result"
    }
   ],
   "source": [
    "\n",
    "train_save(net=model_spot, train_dataset=train, shuffle=True, device = \"cpu\", show_batch_interval=1_000, path=\"model_spot_trained.pt\", save_model=True)"
   ]
  },
  {
   "cell_type": "code",
   "execution_count": 99,
   "metadata": {},
   "outputs": [
    {
     "name": "stdout",
     "output_type": "stream",
     "text": [
      "Loss on hold-out set: 1.477110841304064\n",
      "Accuracy on hold-out set: 0.4698\n",
      "Returned to Spot: Validation loss: 1.477110841304064\n",
      "----------------------------------------------\n"
     ]
    },
    {
     "data": {
      "text/plain": [
       "(1.477110841304064, nan)"
      ]
     },
     "execution_count": 99,
     "metadata": {},
     "output_type": "execute_result"
    }
   ],
   "source": [
    "test_saved(net=model_spot, test_dataset=test, shuffle=False, device = \"cpu\", show_batch_interval=1_000, path=\"model_spot_trained.pt\")"
   ]
  },
  {
   "cell_type": "code",
   "execution_count": 100,
   "metadata": {},
   "outputs": [
    {
     "data": {
      "text/plain": [
       "torch.optim.sgd.SGD"
      ]
     },
     "execution_count": 100,
     "metadata": {},
     "output_type": "execute_result"
    }
   ],
   "source": [
    "model_spot.optimizer"
   ]
  },
  {
   "cell_type": "code",
   "execution_count": 101,
   "metadata": {},
   "outputs": [
    {
     "data": {
      "text/plain": [
       "torch.optim.sgd.SGD"
      ]
     },
     "execution_count": 101,
     "metadata": {},
     "output_type": "execute_result"
    }
   ],
   "source": [
    "model_default.optimizer"
   ]
  },
  {
   "attachments": {},
   "cell_type": "markdown",
   "metadata": {},
   "source": [
    "## Detailed Hyperparameter Plots"
   ]
  },
  {
   "attachments": {},
   "cell_type": "markdown",
   "metadata": {},
   "source": [
    "* For productive use, you might want to select:\n",
    "  * `min_z=min(spot_tuner.y)` and\n",
    "  * `max_z = max(spot_tuner.y)`\n",
    "* These settings are not so colorful as visualizations that use `None` for the ranges, but give better insights."
   ]
  },
  {
   "cell_type": "code",
   "execution_count": 102,
   "metadata": {},
   "outputs": [
    {
     "name": "stdout",
     "output_type": "stream",
     "text": [
      "lr:  100.0\n",
      "batch_size:  0.6432994226785285\n",
      "optimizer:  0.13161986873373838\n"
     ]
    },
    {
     "data": {
      "image/png": "[encoded data removed]",
      "text/plain": [
       "<Figure size 900x600 with 3 Axes>"
      ]
     },
     "metadata": {},
     "output_type": "display_data"
    },
    {
     "data": {
      "image/png": "[encoded data removed]",
      "text/plain": [
       "<Figure size 900x600 with 3 Axes>"
      ]
     },
     "metadata": {},
     "output_type": "display_data"
    },
    {
     "data": {
      "image/png": "[encoded data removed]",
      "text/plain": [
       "<Figure size 900x600 with 3 Axes>"
      ]
     },
     "metadata": {},
     "output_type": "display_data"
    }
   ],
   "source": [
    "threshold = 0.025\n",
    "impo = spot_tuner.print_importance(threshold=threshold, print_screen=True)\n",
    "var_plots = [i for i, x in enumerate(impo) if x[1] > threshold]\n",
    "min_z = min(spot_tuner.y)\n",
    "max_z = max(spot_tuner.y)\n",
    "n = spot_tuner.k\n",
    "for i in var_plots:\n",
    "    for j in var_plots:\n",
    "        if j > i:\n",
    "            filename = \"../Figures.d/\" + experiment_name+\"_contour_\"+str(i)+\"_\"+str(j)+\".pdf\"\n",
    "            spot_tuner.plot_contour(i=i, j=j, min_z=min_z, max_z = max_z, filename=filename)"
   ]
  },
  {
   "attachments": {},
   "cell_type": "markdown",
   "metadata": {},
   "source": [
    "## Parallel Coordinates Plot"
   ]
  },
  {
   "cell_type": "code",
   "execution_count": 103,
   "metadata": {},
   "outputs": [
    {
     "data": {
      "application/vnd.plotly.v1+json": {
       "config": {
        "plotlyServerURL": "https://plot.ly"
       },
       "data": [
        {
         "dimensions": [
          {
           "label": "l1",
           "range": [
            2,
            9
           ],
           "values": [
            8,
            5,
            2,
            4,
            7,
            9
           ]
          },
          {
           "label": "l2",
           "range": [
            3,
            9
           ],
           "values": [
            8,
            3,
            6,
            4,
            9,
            9
           ]
          },
          {
           "label": "lr",
           "range": [
            0.00001,
            0.008518548829635049
           ],
           "values": [
            0.003565720974200323,
            0.0063641303859371815,
            0.008518548829635049,
            0.0055413518616154985,
            0.0010666758086768594,
            0.00001
           ]
          },
          {
           "label": "batch_size",
           "range": [
            1,
            4
           ],
           "values": [
            2,
            3,
            4,
            2,
            4,
            1
           ]
          },
          {
           "label": "epochs",
           "range": [
            3,
            4
           ],
           "values": [
            4,
            4,
            3,
            3,
            3,
            4
           ]
          },
          {
           "label": "optimizer",
           "range": [
            0,
            1
           ],
           "values": [
            0,
            0,
            1,
            1,
            0,
            0
           ]
          }
         ],
         "line": {
          "cmax": 2.29988829703331,
          "cmin": 1.4637750842928887,
          "color": [
           1.4637750842928887,
           1.4810722801208496,
           1.7458072060585021,
           1.8304199458926915,
           1.9804815719604492,
           2.29988829703331
          ],
          "colorscale": [
           [
            0,
            "rgb(0,0,131)"
           ],
           [
            0.2,
            "rgb(0,60,170)"
           ],
           [
            0.4,
            "rgb(5,255,255)"
           ],
           [
            0.6,
            "rgb(255,255,0)"
           ],
           [
            0.8,
            "rgb(250,0,0)"
           ],
           [
            1,
            "rgb(128,0,0)"
           ]
          ],
          "showscale": true
         },
         "type": "parcoords"
        }
       ],
       "layout": {
        "template": {
         "data": {
          "bar": [
           {
            "error_x": {
             "color": "#2a3f5f"
            },
            "error_y": {
             "color": "#2a3f5f"
            },
            "marker": {
             "line": {
              "color": "#E5ECF6",
              "width": 0.5
             },
             "pattern": {
              "fillmode": "overlay",
              "size": 10,
              "solidity": 0.2
             }
            },
            "type": "bar"
           }
          ],
          "barpolar": [
           {
            "marker": {
             "line": {
              "color": "#E5ECF6",
              "width": 0.5
             },
             "pattern": {
              "fillmode": "overlay",
              "size": 10,
              "solidity": 0.2
             }
            },
            "type": "barpolar"
           }
          ],
          "carpet": [
           {
            "aaxis": {
             "endlinecolor": "#2a3f5f",
             "gridcolor": "white",
             "linecolor": "white",
             "minorgridcolor": "white",
             "startlinecolor": "#2a3f5f"
            },
            "baxis": {
             "endlinecolor": "#2a3f5f",
             "gridcolor": "white",
             "linecolor": "white",
             "minorgridcolor": "white",
             "startlinecolor": "#2a3f5f"
            },
            "type": "carpet"
           }
          ],
          "choropleth": [
           {
            "colorbar": {
             "outlinewidth": 0,
             "ticks": ""
            },
            "type": "choropleth"
           }
          ],
          "contour": [
           {
            "colorbar": {
             "outlinewidth": 0,
             "ticks": ""
            },
            "colorscale": [
             [
              0,
              "#0d0887"
             ],
             [
              0.1111111111111111,
              "#46039f"
             ],
             [
              0.2222222222222222,
              "#7201a8"
             ],
             [
              0.3333333333333333,
              "#9c179e"
             ],
             [
              0.4444444444444444,
              "#bd3786"
             ],
             [
              0.5555555555555556,
              "#d8576b"
             ],
             [
              0.6666666666666666,
              "#ed7953"
             ],
             [
              0.7777777777777778,
              "#fb9f3a"
             ],
             [
              0.8888888888888888,
              "#fdca26"
             ],
             [
              1,
              "#f0f921"
             ]
            ],
            "type": "contour"
           }
          ],
          "contourcarpet": [
           {
            "colorbar": {
             "outlinewidth": 0,
             "ticks": ""
            },
            "type": "contourcarpet"
           }
          ],
          "heatmap": [
           {
            "colorbar": {
             "outlinewidth": 0,
             "ticks": ""
            },
            "colorscale": [
             [
              0,
              "#0d0887"
             ],
             [
              0.1111111111111111,
              "#46039f"
             ],
             [
              0.2222222222222222,
              "#7201a8"
             ],
             [
              0.3333333333333333,
              "#9c179e"
             ],
             [
              0.4444444444444444,
              "#bd3786"
             ],
             [
              0.5555555555555556,
              "#d8576b"
             ],
             [
              0.6666666666666666,
              "#ed7953"
             ],
             [
              0.7777777777777778,
              "#fb9f3a"
             ],
             [
              0.8888888888888888,
              "#fdca26"
             ],
             [
              1,
              "#f0f921"
             ]
            ],
            "type": "heatmap"
           }
          ],
          "heatmapgl": [
           {
            "colorbar": {
             "outlinewidth": 0,
             "ticks": ""
            },
            "colorscale": [
             [
              0,
              "#0d0887"
             ],
             [
              0.1111111111111111,
              "#46039f"
             ],
             [
              0.2222222222222222,
              "#7201a8"
             ],
             [
              0.3333333333333333,
              "#9c179e"
             ],
             [
              0.4444444444444444,
              "#bd3786"
             ],
             [
              0.5555555555555556,
              "#d8576b"
             ],
             [
              0.6666666666666666,
              "#ed7953"
             ],
             [
              0.7777777777777778,
              "#fb9f3a"
             ],
             [
              0.8888888888888888,
              "#fdca26"
             ],
             [
              1,
              "#f0f921"
             ]
            ],
            "type": "heatmapgl"
           }
          ],
          "histogram": [
           {
            "marker": {
             "pattern": {
              "fillmode": "overlay",
              "size": 10,
              "solidity": 0.2
             }
            },
            "type": "histogram"
           }
          ],
          "histogram2d": [
           {
            "colorbar": {
             "outlinewidth": 0,
             "ticks": ""
            },
            "colorscale": [
             [
              0,
              "#0d0887"
             ],
             [
              0.1111111111111111,
              "#46039f"
             ],
             [
              0.2222222222222222,
              "#7201a8"
             ],
             [
              0.3333333333333333,
              "#9c179e"
             ],
             [
              0.4444444444444444,
              "#bd3786"
             ],
             [
              0.5555555555555556,
              "#d8576b"
             ],
             [
              0.6666666666666666,
              "#ed7953"
             ],
             [
              0.7777777777777778,
              "#fb9f3a"
             ],
             [
              0.8888888888888888,
              "#fdca26"
             ],
             [
              1,
              "#f0f921"
             ]
            ],
            "type": "histogram2d"
           }
          ],
          "histogram2dcontour": [
           {
            "colorbar": {
             "outlinewidth": 0,
             "ticks": ""
            },
            "colorscale": [
             [
              0,
              "#0d0887"
             ],
             [
              0.1111111111111111,
              "#46039f"
             ],
             [
              0.2222222222222222,
              "#7201a8"
             ],
             [
              0.3333333333333333,
              "#9c179e"
             ],
             [
              0.4444444444444444,
              "#bd3786"
             ],
             [
              0.5555555555555556,
              "#d8576b"
             ],
             [
              0.6666666666666666,
              "#ed7953"
             ],
             [
              0.7777777777777778,
              "#fb9f3a"
             ],
             [
              0.8888888888888888,
              "#fdca26"
             ],
             [
              1,
              "#f0f921"
             ]
            ],
            "type": "histogram2dcontour"
           }
          ],
          "mesh3d": [
           {
            "colorbar": {
             "outlinewidth": 0,
             "ticks": ""
            },
            "type": "mesh3d"
           }
          ],
          "parcoords": [
           {
            "line": {
             "colorbar": {
              "outlinewidth": 0,
              "ticks": ""
             }
            },
            "type": "parcoords"
           }
          ],
          "pie": [
           {
            "automargin": true,
            "type": "pie"
           }
          ],
          "scatter": [
           {
            "fillpattern": {
             "fillmode": "overlay",
             "size": 10,
             "solidity": 0.2
            },
            "type": "scatter"
           }
          ],
          "scatter3d": [
           {
            "line": {
             "colorbar": {
              "outlinewidth": 0,
              "ticks": ""
             }
            },
            "marker": {
             "colorbar": {
              "outlinewidth": 0,
              "ticks": ""
             }
            },
            "type": "scatter3d"
           }
          ],
          "scattercarpet": [
           {
            "marker": {
             "colorbar": {
              "outlinewidth": 0,
              "ticks": ""
             }
            },
            "type": "scattercarpet"
           }
          ],
          "scattergeo": [
           {
            "marker": {
             "colorbar": {
              "outlinewidth": 0,
              "ticks": ""
             }
            },
            "type": "scattergeo"
           }
          ],
          "scattergl": [
           {
            "marker": {
             "colorbar": {
              "outlinewidth": 0,
              "ticks": ""
             }
            },
            "type": "scattergl"
           }
          ],
          "scattermapbox": [
           {
            "marker": {
             "colorbar": {
              "outlinewidth": 0,
              "ticks": ""
             }
            },
            "type": "scattermapbox"
           }
          ],
          "scatterpolar": [
           {
            "marker": {
             "colorbar": {
              "outlinewidth": 0,
              "ticks": ""
             }
            },
            "type": "scatterpolar"
           }
          ],
          "scatterpolargl": [
           {
            "marker": {
             "colorbar": {
              "outlinewidth": 0,
              "ticks": ""
             }
            },
            "type": "scatterpolargl"
           }
          ],
          "scatterternary": [
           {
            "marker": {
             "colorbar": {
              "outlinewidth": 0,
              "ticks": ""
             }
            },
            "type": "scatterternary"
           }
          ],
          "surface": [
           {
            "colorbar": {
             "outlinewidth": 0,
             "ticks": ""
            },
            "colorscale": [
             [
              0,
              "#0d0887"
             ],
             [
              0.1111111111111111,
              "#46039f"
             ],
             [
              0.2222222222222222,
              "#7201a8"
             ],
             [
              0.3333333333333333,
              "#9c179e"
             ],
             [
              0.4444444444444444,
              "#bd3786"
             ],
             [
              0.5555555555555556,
              "#d8576b"
             ],
             [
              0.6666666666666666,
              "#ed7953"
             ],
             [
              0.7777777777777778,
              "#fb9f3a"
             ],
             [
              0.8888888888888888,
              "#fdca26"
             ],
             [
              1,
              "#f0f921"
             ]
            ],
            "type": "surface"
           }
          ],
          "table": [
           {
            "cells": {
             "fill": {
              "color": "#EBF0F8"
             },
             "line": {
              "color": "white"
             }
            },
            "header": {
             "fill": {
              "color": "#C8D4E3"
             },
             "line": {
              "color": "white"
             }
            },
            "type": "table"
           }
          ]
         },
         "layout": {
          "annotationdefaults": {
           "arrowcolor": "#2a3f5f",
           "arrowhead": 0,
           "arrowwidth": 1
          },
          "autotypenumbers": "strict",
          "coloraxis": {
           "colorbar": {
            "outlinewidth": 0,
            "ticks": ""
           }
          },
          "colorscale": {
           "diverging": [
            [
             0,
             "#8e0152"
            ],
            [
             0.1,
             "#c51b7d"
            ],
            [
             0.2,
             "#de77ae"
            ],
            [
             0.3,
             "#f1b6da"
            ],
            [
             0.4,
             "#fde0ef"
            ],
            [
             0.5,
             "#f7f7f7"
            ],
            [
             0.6,
             "#e6f5d0"
            ],
            [
             0.7,
             "#b8e186"
            ],
            [
             0.8,
             "#7fbc41"
            ],
            [
             0.9,
             "#4d9221"
            ],
            [
             1,
             "#276419"
            ]
           ],
           "sequential": [
            [
             0,
             "#0d0887"
            ],
            [
             0.1111111111111111,
             "#46039f"
            ],
            [
             0.2222222222222222,
             "#7201a8"
            ],
            [
             0.3333333333333333,
             "#9c179e"
            ],
            [
             0.4444444444444444,
             "#bd3786"
            ],
            [
             0.5555555555555556,
             "#d8576b"
            ],
            [
             0.6666666666666666,
             "#ed7953"
            ],
            [
             0.7777777777777778,
             "#fb9f3a"
            ],
            [
             0.8888888888888888,
             "#fdca26"
            ],
            [
             1,
             "#f0f921"
            ]
           ],
           "sequentialminus": [
            [
             0,
             "#0d0887"
            ],
            [
             0.1111111111111111,
             "#46039f"
            ],
            [
             0.2222222222222222,
             "#7201a8"
            ],
            [
             0.3333333333333333,
             "#9c179e"
            ],
            [
             0.4444444444444444,
             "#bd3786"
            ],
            [
             0.5555555555555556,
             "#d8576b"
            ],
            [
             0.6666666666666666,
             "#ed7953"
            ],
            [
             0.7777777777777778,
             "#fb9f3a"
            ],
            [
             0.8888888888888888,
             "#fdca26"
            ],
            [
             1,
             "#f0f921"
            ]
           ]
          },
          "colorway": [
           "#636efa",
           "#EF553B",
           "#00cc96",
           "#ab63fa",
           "#FFA15A",
           "#19d3f3",
           "#FF6692",
           "#B6E880",
           "#FF97FF",
           "#FECB52"
          ],
          "font": {
           "color": "#2a3f5f"
          },
          "geo": {
           "bgcolor": "white",
           "lakecolor": "white",
           "landcolor": "#E5ECF6",
           "showlakes": true,
           "showland": true,
           "subunitcolor": "white"
          },
          "hoverlabel": {
           "align": "left"
          },
          "hovermode": "closest",
          "mapbox": {
           "style": "light"
          },
          "paper_bgcolor": "white",
          "plot_bgcolor": "#E5ECF6",
          "polar": {
           "angularaxis": {
            "gridcolor": "white",
            "linecolor": "white",
            "ticks": ""
           },
           "bgcolor": "#E5ECF6",
           "radialaxis": {
            "gridcolor": "white",
            "linecolor": "white",
            "ticks": ""
           }
          },
          "scene": {
           "xaxis": {
            "backgroundcolor": "#E5ECF6",
            "gridcolor": "white",
            "gridwidth": 2,
            "linecolor": "white",
            "showbackground": true,
            "ticks": "",
            "zerolinecolor": "white"
           },
           "yaxis": {
            "backgroundcolor": "#E5ECF6",
            "gridcolor": "white",
            "gridwidth": 2,
            "linecolor": "white",
            "showbackground": true,
            "ticks": "",
            "zerolinecolor": "white"
           },
           "zaxis": {
            "backgroundcolor": "#E5ECF6",
            "gridcolor": "white",
            "gridwidth": 2,
            "linecolor": "white",
            "showbackground": true,
            "ticks": "",
            "zerolinecolor": "white"
           }
          },
          "shapedefaults": {
           "line": {
            "color": "#2a3f5f"
           }
          },
          "ternary": {
           "aaxis": {
            "gridcolor": "white",
            "linecolor": "white",
            "ticks": ""
           },
           "baxis": {
            "gridcolor": "white",
            "linecolor": "white",
            "ticks": ""
           },
           "bgcolor": "#E5ECF6",
           "caxis": {
            "gridcolor": "white",
            "linecolor": "white",
            "ticks": ""
           }
          },
          "title": {
           "x": 0.05
          },
          "xaxis": {
           "automargin": true,
           "gridcolor": "white",
           "linecolor": "white",
           "ticks": "",
           "title": {
            "standoff": 15
           },
           "zerolinecolor": "white",
           "zerolinewidth": 2
          },
          "yaxis": {
           "automargin": true,
           "gridcolor": "white",
           "linecolor": "white",
           "ticks": "",
           "title": {
            "standoff": 15
           },
           "zerolinecolor": "white",
           "zerolinewidth": 2
          }
         }
        }
       }
      }
     },
     "metadata": {},
     "output_type": "display_data"
    }
   ],
   "source": [
    "spot_tuner.parallel_plot()"
   ]
  },
  {
   "attachments": {},
   "cell_type": "markdown",
   "metadata": {},
   "source": [
    "# Additional Evaluations\n",
    "\n",
    "Two evaluations are performed: First, the test data is used only: the test data is used for training the model and for evaluating the model. Second, the train and test data are used: the model is trained with the train data and evaluated with the test data."
   ]
  },
  {
   "attachments": {},
   "cell_type": "markdown",
   "metadata": {},
   "source": [
    "## Test Set Accuracy\n",
    "\n",
    "The tuned model architecture (i.e., the model without pre-trained weights) is used for training and testing the model with the test data.\n",
    "The default model is considered first."
   ]
  },
  {
   "cell_type": "code",
   "execution_count": 104,
   "metadata": {},
   "outputs": [
    {
     "name": "stdout",
     "output_type": "stream",
     "text": [
      "Epoch: 1\n",
      "Loss on hold-out set: 2.1705886907577514\n",
      "Accuracy on hold-out set: 0.2015\n",
      "Epoch: 2\n",
      "Loss on hold-out set: 2.152968276977539\n",
      "Accuracy on hold-out set: 0.2065\n",
      "Epoch: 3\n",
      "Loss on hold-out set: 2.1363483033180235\n",
      "Accuracy on hold-out set: 0.21025\n",
      "Epoch: 4\n",
      "Loss on hold-out set: 2.120564787864685\n",
      "Accuracy on hold-out set: 0.2165\n",
      "Epoch: 5\n",
      "Loss on hold-out set: 2.105536873817444\n",
      "Accuracy on hold-out set: 0.23475\n",
      "Epoch: 6\n",
      "Loss on hold-out set: 2.0912453145980834\n",
      "Accuracy on hold-out set: 0.23875\n",
      "Epoch: 7\n",
      "Loss on hold-out set: 2.078020172595978\n",
      "Accuracy on hold-out set: 0.241\n",
      "Epoch: 8\n",
      "Loss on hold-out set: 2.066112644195557\n",
      "Accuracy on hold-out set: 0.242\n",
      "Returned to Spot: Validation loss: 2.066112644195557\n",
      "----------------------------------------------\n"
     ]
    },
    {
     "data": {
      "text/plain": [
       "(2.066112644195557, nan)"
      ]
     },
     "execution_count": 104,
     "metadata": {},
     "output_type": "execute_result"
    }
   ],
   "source": [
    "evaluate_hold_out(net=model_default, train_dataset=test, shuffle=False, show_batch_interval=1_000)"
   ]
  },
  {
   "cell_type": "code",
   "execution_count": 105,
   "metadata": {},
   "outputs": [
    {
     "name": "stdout",
     "output_type": "stream",
     "text": [
      "Epoch: 1\n",
      "Batch:  1000. Batch Size: 4. Training Loss (running): 1.476\n",
      "Loss on hold-out set: 1.4558526830375194\n",
      "Accuracy on hold-out set: 0.478\n",
      "Epoch: 2\n",
      "Batch:  1000. Batch Size: 4. Training Loss (running): 1.463\n",
      "Loss on hold-out set: 1.4547708805203439\n",
      "Accuracy on hold-out set: 0.47925\n",
      "Epoch: 3\n",
      "Batch:  1000. Batch Size: 4. Training Loss (running): 1.454\n",
      "Loss on hold-out set: 1.4536838866472244\n",
      "Accuracy on hold-out set: 0.4785\n",
      "Epoch: 4\n",
      "Batch:  1000. Batch Size: 4. Training Loss (running): 1.447\n",
      "Loss on hold-out set: 1.4532251760661603\n",
      "Accuracy on hold-out set: 0.47725\n",
      "Epoch: 5\n",
      "Batch:  1000. Batch Size: 4. Training Loss (running): 1.441\n",
      "Loss on hold-out set: 1.452761049926281\n",
      "Accuracy on hold-out set: 0.477\n",
      "Epoch: 6\n",
      "Batch:  1000. Batch Size: 4. Training Loss (running): 1.435\n",
      "Loss on hold-out set: 1.4519900446534157\n",
      "Accuracy on hold-out set: 0.4775\n",
      "Epoch: 7\n",
      "Batch:  1000. Batch Size: 4. Training Loss (running): 1.429\n",
      "Loss on hold-out set: 1.451197703167796\n",
      "Accuracy on hold-out set: 0.47775\n",
      "Epoch: 8\n",
      "Batch:  1000. Batch Size: 4. Training Loss (running): 1.424\n",
      "Loss on hold-out set: 1.450427553847432\n",
      "Accuracy on hold-out set: 0.479\n",
      "Epoch: 9\n",
      "Batch:  1000. Batch Size: 4. Training Loss (running): 1.419\n",
      "Loss on hold-out set: 1.449508542686701\n",
      "Accuracy on hold-out set: 0.482\n",
      "Epoch: 10\n",
      "Batch:  1000. Batch Size: 4. Training Loss (running): 1.414\n",
      "Loss on hold-out set: 1.4489461967647075\n",
      "Accuracy on hold-out set: 0.4835\n",
      "Epoch: 11\n",
      "Batch:  1000. Batch Size: 4. Training Loss (running): 1.410\n",
      "Loss on hold-out set: 1.4483453376293183\n",
      "Accuracy on hold-out set: 0.48325\n",
      "Epoch: 12\n",
      "Batch:  1000. Batch Size: 4. Training Loss (running): 1.405\n",
      "Loss on hold-out set: 1.4472657970786094\n",
      "Accuracy on hold-out set: 0.48475\n",
      "Epoch: 13\n",
      "Batch:  1000. Batch Size: 4. Training Loss (running): 1.401\n",
      "Loss on hold-out set: 1.4468411420583724\n",
      "Accuracy on hold-out set: 0.4855\n",
      "Epoch: 14\n",
      "Batch:  1000. Batch Size: 4. Training Loss (running): 1.396\n",
      "Loss on hold-out set: 1.4462494767308236\n",
      "Accuracy on hold-out set: 0.48575\n",
      "Epoch: 15\n",
      "Batch:  1000. Batch Size: 4. Training Loss (running): 1.392\n",
      "Loss on hold-out set: 1.445954847291112\n",
      "Accuracy on hold-out set: 0.4865\n",
      "Epoch: 16\n",
      "Batch:  1000. Batch Size: 4. Training Loss (running): 1.387\n",
      "Loss on hold-out set: 1.445540370747447\n",
      "Accuracy on hold-out set: 0.48625\n",
      "Returned to Spot: Validation loss: 1.445540370747447\n",
      "----------------------------------------------\n"
     ]
    },
    {
     "data": {
      "text/plain": [
       "(1.445540370747447, nan)"
      ]
     },
     "execution_count": 105,
     "metadata": {},
     "output_type": "execute_result"
    }
   ],
   "source": [
    "evaluate_hold_out(net=model_spot, train_dataset=test, shuffle=False, show_batch_interval=1_000)"
   ]
  },
  {
   "attachments": {},
   "cell_type": "markdown",
   "metadata": {},
   "source": [
    "## Train on Train Data and Test on Test Data (Hold-Out)\n",
    "\n",
    "The final evaluation is performed with the train and test data. The model (without pre-trained weights) is trained with the train data and evaluated with the test data."
   ]
  },
  {
   "cell_type": "code",
   "execution_count": 106,
   "metadata": {},
   "outputs": [
    {
     "name": "stdout",
     "output_type": "stream",
     "text": [
      "Epoch: 1\n",
      "Batch:  1000. Batch Size: 16. Training Loss (running): 2.050\n",
      "Batch:  2000. Batch Size: 16. Training Loss (running): 1.015\n",
      "Batch:  3000. Batch Size: 16. Training Loss (running): 0.673\n",
      "Loss on hold-out set: 2.002215056037903\n",
      "Accuracy on hold-out set: 0.2707\n",
      "Epoch: 2\n",
      "Batch:  1000. Batch Size: 16. Training Loss (running): 2.003\n",
      "Batch:  2000. Batch Size: 16. Training Loss (running): 0.995\n",
      "Batch:  3000. Batch Size: 16. Training Loss (running): 0.662\n",
      "Loss on hold-out set: 1.9723062437057495\n",
      "Accuracy on hold-out set: 0.2872\n",
      "Epoch: 3\n",
      "Batch:  1000. Batch Size: 16. Training Loss (running): 1.975\n",
      "Batch:  2000. Batch Size: 16. Training Loss (running): 0.982\n",
      "Batch:  3000. Batch Size: 16. Training Loss (running): 0.654\n",
      "Loss on hold-out set: 1.9474575384140014\n",
      "Accuracy on hold-out set: 0.302\n",
      "Epoch: 4\n",
      "Batch:  1000. Batch Size: 16. Training Loss (running): 1.951\n",
      "Batch:  2000. Batch Size: 16. Training Loss (running): 0.970\n",
      "Batch:  3000. Batch Size: 16. Training Loss (running): 0.647\n",
      "Loss on hold-out set: 1.9270587169647218\n",
      "Accuracy on hold-out set: 0.3104\n",
      "Epoch: 5\n",
      "Batch:  1000. Batch Size: 16. Training Loss (running): 1.932\n",
      "Batch:  2000. Batch Size: 16. Training Loss (running): 0.960\n",
      "Batch:  3000. Batch Size: 16. Training Loss (running): 0.642\n",
      "Loss on hold-out set: 1.9101892204284667\n",
      "Accuracy on hold-out set: 0.3142\n",
      "Epoch: 6\n",
      "Batch:  1000. Batch Size: 16. Training Loss (running): 1.916\n",
      "Batch:  2000. Batch Size: 16. Training Loss (running): 0.952\n",
      "Batch:  3000. Batch Size: 16. Training Loss (running): 0.637\n",
      "Loss on hold-out set: 1.8955123294830323\n",
      "Accuracy on hold-out set: 0.319\n",
      "Epoch: 7\n",
      "Batch:  1000. Batch Size: 16. Training Loss (running): 1.902\n",
      "Batch:  2000. Batch Size: 16. Training Loss (running): 0.945\n",
      "Batch:  3000. Batch Size: 16. Training Loss (running): 0.633\n",
      "Loss on hold-out set: 1.8821007974624633\n",
      "Accuracy on hold-out set: 0.3274\n",
      "Epoch: 8\n",
      "Batch:  1000. Batch Size: 16. Training Loss (running): 1.889\n",
      "Batch:  2000. Batch Size: 16. Training Loss (running): 0.938\n",
      "Batch:  3000. Batch Size: 16. Training Loss (running): 0.628\n",
      "Loss on hold-out set: 1.8693161859512328\n",
      "Accuracy on hold-out set: 0.3314\n",
      "Returned to Spot: Validation loss: 1.8693161859512328\n",
      "----------------------------------------------\n"
     ]
    },
    {
     "data": {
      "text/plain": [
       "(1.8693161859512328, nan)"
      ]
     },
     "execution_count": 106,
     "metadata": {},
     "output_type": "execute_result"
    }
   ],
   "source": [
    "evaluate_hold_out(net=model_default, train_dataset=train, shuffle=False, test_dataset=test, show_batch_interval=1_000) "
   ]
  },
  {
   "cell_type": "code",
   "execution_count": 107,
   "metadata": {},
   "outputs": [
    {
     "name": "stdout",
     "output_type": "stream",
     "text": [
      "Epoch: 1\n",
      "Batch:  1000. Batch Size: 4. Training Loss (running): 1.419\n",
      "Batch:  2000. Batch Size: 4. Training Loss (running): 0.713\n",
      "Batch:  3000. Batch Size: 4. Training Loss (running): 0.481\n",
      "Batch:  4000. Batch Size: 4. Training Loss (running): 0.367\n",
      "Batch:  5000. Batch Size: 4. Training Loss (running): 0.283\n",
      "Batch:  6000. Batch Size: 4. Training Loss (running): 0.234\n",
      "Batch:  7000. Batch Size: 4. Training Loss (running): 0.200\n",
      "Batch:  8000. Batch Size: 4. Training Loss (running): 0.176\n",
      "Batch:  9000. Batch Size: 4. Training Loss (running): 0.165\n",
      "Batch: 10000. Batch Size: 4. Training Loss (running): 0.143\n",
      "Batch: 11000. Batch Size: 4. Training Loss (running): 0.130\n",
      "Batch: 12000. Batch Size: 4. Training Loss (running): 0.118\n",
      "Loss on hold-out set: 1.3902002653837204\n",
      "Accuracy on hold-out set: 0.4993\n",
      "Epoch: 2\n",
      "Batch:  1000. Batch Size: 4. Training Loss (running): 1.384\n",
      "Batch:  2000. Batch Size: 4. Training Loss (running): 0.698\n",
      "Batch:  3000. Batch Size: 4. Training Loss (running): 0.472\n",
      "Batch:  4000. Batch Size: 4. Training Loss (running): 0.361\n",
      "Batch:  5000. Batch Size: 4. Training Loss (running): 0.278\n",
      "Batch:  6000. Batch Size: 4. Training Loss (running): 0.231\n",
      "Batch:  7000. Batch Size: 4. Training Loss (running): 0.197\n",
      "Batch:  8000. Batch Size: 4. Training Loss (running): 0.173\n",
      "Batch:  9000. Batch Size: 4. Training Loss (running): 0.163\n",
      "Batch: 10000. Batch Size: 4. Training Loss (running): 0.141\n",
      "Batch: 11000. Batch Size: 4. Training Loss (running): 0.129\n",
      "Batch: 12000. Batch Size: 4. Training Loss (running): 0.116\n",
      "Loss on hold-out set: 1.3801956834197044\n",
      "Accuracy on hold-out set: 0.5044\n",
      "Epoch: 3\n",
      "Batch:  1000. Batch Size: 4. Training Loss (running): 1.365\n",
      "Batch:  2000. Batch Size: 4. Training Loss (running): 0.689\n",
      "Batch:  3000. Batch Size: 4. Training Loss (running): 0.466\n",
      "Batch:  4000. Batch Size: 4. Training Loss (running): 0.356\n",
      "Batch:  5000. Batch Size: 4. Training Loss (running): 0.275\n",
      "Batch:  6000. Batch Size: 4. Training Loss (running): 0.228\n",
      "Batch:  7000. Batch Size: 4. Training Loss (running): 0.195\n",
      "Batch:  8000. Batch Size: 4. Training Loss (running): 0.171\n",
      "Batch:  9000. Batch Size: 4. Training Loss (running): 0.161\n",
      "Batch: 10000. Batch Size: 4. Training Loss (running): 0.140\n",
      "Batch: 11000. Batch Size: 4. Training Loss (running): 0.127\n",
      "Batch: 12000. Batch Size: 4. Training Loss (running): 0.115\n",
      "Loss on hold-out set: 1.3698922805130482\n",
      "Accuracy on hold-out set: 0.5086\n",
      "Epoch: 4\n",
      "Batch:  1000. Batch Size: 4. Training Loss (running): 1.349\n",
      "Batch:  2000. Batch Size: 4. Training Loss (running): 0.682\n",
      "Batch:  3000. Batch Size: 4. Training Loss (running): 0.461\n",
      "Batch:  4000. Batch Size: 4. Training Loss (running): 0.352\n",
      "Batch:  5000. Batch Size: 4. Training Loss (running): 0.272\n",
      "Batch:  6000. Batch Size: 4. Training Loss (running): 0.225\n",
      "Batch:  7000. Batch Size: 4. Training Loss (running): 0.192\n",
      "Batch:  8000. Batch Size: 4. Training Loss (running): 0.170\n",
      "Batch:  9000. Batch Size: 4. Training Loss (running): 0.160\n",
      "Batch: 10000. Batch Size: 4. Training Loss (running): 0.138\n",
      "Batch: 11000. Batch Size: 4. Training Loss (running): 0.126\n",
      "Batch: 12000. Batch Size: 4. Training Loss (running): 0.114\n",
      "Loss on hold-out set: 1.3598280818104744\n",
      "Accuracy on hold-out set: 0.5134\n",
      "Epoch: 5\n",
      "Batch:  1000. Batch Size: 4. Training Loss (running): 1.334\n",
      "Batch:  2000. Batch Size: 4. Training Loss (running): 0.675\n",
      "Batch:  3000. Batch Size: 4. Training Loss (running): 0.456\n",
      "Batch:  4000. Batch Size: 4. Training Loss (running): 0.349\n",
      "Batch:  5000. Batch Size: 4. Training Loss (running): 0.269\n",
      "Batch:  6000. Batch Size: 4. Training Loss (running): 0.223\n",
      "Batch:  7000. Batch Size: 4. Training Loss (running): 0.190\n",
      "Batch:  8000. Batch Size: 4. Training Loss (running): 0.168\n",
      "Batch:  9000. Batch Size: 4. Training Loss (running): 0.158\n",
      "Batch: 10000. Batch Size: 4. Training Loss (running): 0.137\n",
      "Batch: 11000. Batch Size: 4. Training Loss (running): 0.125\n",
      "Batch: 12000. Batch Size: 4. Training Loss (running): 0.112\n",
      "Loss on hold-out set: 1.350349235188961\n",
      "Accuracy on hold-out set: 0.5177\n",
      "Epoch: 6\n",
      "Batch:  1000. Batch Size: 4. Training Loss (running): 1.321\n",
      "Batch:  2000. Batch Size: 4. Training Loss (running): 0.669\n",
      "Batch:  3000. Batch Size: 4. Training Loss (running): 0.452\n",
      "Batch:  4000. Batch Size: 4. Training Loss (running): 0.346\n",
      "Batch:  5000. Batch Size: 4. Training Loss (running): 0.267\n",
      "Batch:  6000. Batch Size: 4. Training Loss (running): 0.221\n",
      "Batch:  7000. Batch Size: 4. Training Loss (running): 0.188\n",
      "Batch:  8000. Batch Size: 4. Training Loss (running): 0.166\n",
      "Batch:  9000. Batch Size: 4. Training Loss (running): 0.157\n",
      "Batch: 10000. Batch Size: 4. Training Loss (running): 0.136\n",
      "Batch: 11000. Batch Size: 4. Training Loss (running): 0.124\n",
      "Batch: 12000. Batch Size: 4. Training Loss (running): 0.111\n",
      "Loss on hold-out set: 1.3416858905553817\n",
      "Accuracy on hold-out set: 0.5225\n",
      "Epoch: 7\n",
      "Batch:  1000. Batch Size: 4. Training Loss (running): 1.308\n",
      "Batch:  2000. Batch Size: 4. Training Loss (running): 0.662\n",
      "Batch:  3000. Batch Size: 4. Training Loss (running): 0.447\n",
      "Batch:  4000. Batch Size: 4. Training Loss (running): 0.343\n",
      "Batch:  5000. Batch Size: 4. Training Loss (running): 0.264\n",
      "Batch:  6000. Batch Size: 4. Training Loss (running): 0.219\n",
      "Batch:  7000. Batch Size: 4. Training Loss (running): 0.187\n",
      "Batch:  8000. Batch Size: 4. Training Loss (running): 0.165\n",
      "Batch:  9000. Batch Size: 4. Training Loss (running): 0.156\n",
      "Batch: 10000. Batch Size: 4. Training Loss (running): 0.134\n",
      "Batch: 11000. Batch Size: 4. Training Loss (running): 0.123\n",
      "Batch: 12000. Batch Size: 4. Training Loss (running): 0.110\n",
      "Loss on hold-out set: 1.332697869950533\n",
      "Accuracy on hold-out set: 0.5254\n",
      "Epoch: 8\n",
      "Batch:  1000. Batch Size: 4. Training Loss (running): 1.297\n",
      "Batch:  2000. Batch Size: 4. Training Loss (running): 0.657\n",
      "Batch:  3000. Batch Size: 4. Training Loss (running): 0.443\n",
      "Batch:  4000. Batch Size: 4. Training Loss (running): 0.340\n",
      "Batch:  5000. Batch Size: 4. Training Loss (running): 0.262\n",
      "Batch:  6000. Batch Size: 4. Training Loss (running): 0.217\n",
      "Batch:  7000. Batch Size: 4. Training Loss (running): 0.185\n",
      "Batch:  8000. Batch Size: 4. Training Loss (running): 0.163\n",
      "Batch:  9000. Batch Size: 4. Training Loss (running): 0.154\n",
      "Batch: 10000. Batch Size: 4. Training Loss (running): 0.133\n",
      "Batch: 11000. Batch Size: 4. Training Loss (running): 0.122\n",
      "Batch: 12000. Batch Size: 4. Training Loss (running): 0.109\n",
      "Loss on hold-out set: 1.3237902867913247\n",
      "Accuracy on hold-out set: 0.5279\n",
      "Epoch: 9\n",
      "Batch:  1000. Batch Size: 4. Training Loss (running): 1.286\n",
      "Batch:  2000. Batch Size: 4. Training Loss (running): 0.651\n",
      "Batch:  3000. Batch Size: 4. Training Loss (running): 0.440\n",
      "Batch:  4000. Batch Size: 4. Training Loss (running): 0.337\n",
      "Batch:  5000. Batch Size: 4. Training Loss (running): 0.260\n",
      "Batch:  6000. Batch Size: 4. Training Loss (running): 0.216\n",
      "Batch:  7000. Batch Size: 4. Training Loss (running): 0.183\n",
      "Batch:  8000. Batch Size: 4. Training Loss (running): 0.162\n",
      "Batch:  9000. Batch Size: 4. Training Loss (running): 0.153\n",
      "Batch: 10000. Batch Size: 4. Training Loss (running): 0.132\n",
      "Batch: 11000. Batch Size: 4. Training Loss (running): 0.120\n",
      "Batch: 12000. Batch Size: 4. Training Loss (running): 0.108\n",
      "Loss on hold-out set: 1.3159384103953837\n",
      "Accuracy on hold-out set: 0.5311\n",
      "Epoch: 10\n",
      "Batch:  1000. Batch Size: 4. Training Loss (running): 1.275\n",
      "Batch:  2000. Batch Size: 4. Training Loss (running): 0.646\n",
      "Batch:  3000. Batch Size: 4. Training Loss (running): 0.436\n",
      "Batch:  4000. Batch Size: 4. Training Loss (running): 0.334\n",
      "Batch:  5000. Batch Size: 4. Training Loss (running): 0.257\n",
      "Batch:  6000. Batch Size: 4. Training Loss (running): 0.214\n",
      "Batch:  7000. Batch Size: 4. Training Loss (running): 0.182\n",
      "Batch:  8000. Batch Size: 4. Training Loss (running): 0.161\n",
      "Batch:  9000. Batch Size: 4. Training Loss (running): 0.152\n",
      "Batch: 10000. Batch Size: 4. Training Loss (running): 0.131\n",
      "Batch: 11000. Batch Size: 4. Training Loss (running): 0.120\n",
      "Batch: 12000. Batch Size: 4. Training Loss (running): 0.107\n",
      "Loss on hold-out set: 1.308061270350218\n",
      "Accuracy on hold-out set: 0.5349\n",
      "Epoch: 11\n",
      "Batch:  1000. Batch Size: 4. Training Loss (running): 1.265\n",
      "Batch:  2000. Batch Size: 4. Training Loss (running): 0.641\n",
      "Batch:  3000. Batch Size: 4. Training Loss (running): 0.432\n",
      "Batch:  4000. Batch Size: 4. Training Loss (running): 0.331\n",
      "Batch:  5000. Batch Size: 4. Training Loss (running): 0.255\n",
      "Batch:  6000. Batch Size: 4. Training Loss (running): 0.212\n",
      "Batch:  7000. Batch Size: 4. Training Loss (running): 0.180\n",
      "Batch:  8000. Batch Size: 4. Training Loss (running): 0.159\n",
      "Batch:  9000. Batch Size: 4. Training Loss (running): 0.150\n",
      "Batch: 10000. Batch Size: 4. Training Loss (running): 0.130\n",
      "Batch: 11000. Batch Size: 4. Training Loss (running): 0.119\n",
      "Batch: 12000. Batch Size: 4. Training Loss (running): 0.107\n",
      "Loss on hold-out set: 1.3004668758034705\n",
      "Accuracy on hold-out set: 0.5385\n",
      "Epoch: 12\n",
      "Batch:  1000. Batch Size: 4. Training Loss (running): 1.254\n",
      "Batch:  2000. Batch Size: 4. Training Loss (running): 0.636\n",
      "Batch:  3000. Batch Size: 4. Training Loss (running): 0.429\n",
      "Batch:  4000. Batch Size: 4. Training Loss (running): 0.329\n",
      "Batch:  5000. Batch Size: 4. Training Loss (running): 0.253\n",
      "Batch:  6000. Batch Size: 4. Training Loss (running): 0.211\n",
      "Batch:  7000. Batch Size: 4. Training Loss (running): 0.179\n",
      "Batch:  8000. Batch Size: 4. Training Loss (running): 0.158\n",
      "Batch:  9000. Batch Size: 4. Training Loss (running): 0.149\n",
      "Batch: 10000. Batch Size: 4. Training Loss (running): 0.128\n",
      "Batch: 11000. Batch Size: 4. Training Loss (running): 0.118\n",
      "Batch: 12000. Batch Size: 4. Training Loss (running): 0.106\n",
      "Loss on hold-out set: 1.2931672484993935\n",
      "Accuracy on hold-out set: 0.5413\n",
      "Epoch: 13\n",
      "Batch:  1000. Batch Size: 4. Training Loss (running): 1.245\n",
      "Batch:  2000. Batch Size: 4. Training Loss (running): 0.631\n",
      "Batch:  3000. Batch Size: 4. Training Loss (running): 0.425\n",
      "Batch:  4000. Batch Size: 4. Training Loss (running): 0.326\n",
      "Batch:  5000. Batch Size: 4. Training Loss (running): 0.251\n",
      "Batch:  6000. Batch Size: 4. Training Loss (running): 0.209\n",
      "Batch:  7000. Batch Size: 4. Training Loss (running): 0.177\n",
      "Batch:  8000. Batch Size: 4. Training Loss (running): 0.157\n",
      "Batch:  9000. Batch Size: 4. Training Loss (running): 0.148\n",
      "Batch: 10000. Batch Size: 4. Training Loss (running): 0.127\n",
      "Batch: 11000. Batch Size: 4. Training Loss (running): 0.117\n",
      "Batch: 12000. Batch Size: 4. Training Loss (running): 0.105\n",
      "Loss on hold-out set: 1.2864433175265788\n",
      "Accuracy on hold-out set: 0.5449\n",
      "Epoch: 14\n",
      "Batch:  1000. Batch Size: 4. Training Loss (running): 1.235\n",
      "Batch:  2000. Batch Size: 4. Training Loss (running): 0.626\n"
     ]
    }
   ],
   "source": [
    "evaluate_hold_out(net=model_spot, train_dataset=train, shuffle=False, test_dataset=test, show_batch_interval=1_000)"
   ]
  },
  {
   "attachments": {},
   "cell_type": "markdown",
   "metadata": {},
   "source": [
    "## Plot all Combinations of Hyperparameters\n",
    "\n",
    "* Warning: this may take a while."
   ]
  },
  {
   "cell_type": "code",
   "execution_count": null,
   "metadata": {},
   "outputs": [],
   "source": [
    "PLOT_ALL = False\n",
    "if PLOT_ALL:\n",
    "    n = spot_tuner.k\n",
    "    for i in range(n-1):\n",
    "        for j in range(i+1, n):\n",
    "            spot_tuner.plot_contour(i=i, j=j, min_z=min_z, max_z = max_z)"
   ]
  }
 ],
 "metadata": {
  "kernelspec": {
   "display_name": "spotCondaEnv",
   "language": "python",
   "name": "python3"
  },
  "language_info": {
   "codemirror_mode": {
    "name": "ipython",
    "version": 3
   },
   "file_extension": ".py",
   "mimetype": "text/x-python",
   "name": "python",
   "nbconvert_exporter": "python",
   "pygments_lexer": "ipython3",
   "version": "3.10.6"
  },
  "vscode": {
   "interpreter": {
    "hash": "81c77de872def749acd68d9955e19f0df6803301f4c1f66c3444af66334112ae"
   }
  }
 },
 "nbformat": 4,
 "nbformat_minor": 4
}
