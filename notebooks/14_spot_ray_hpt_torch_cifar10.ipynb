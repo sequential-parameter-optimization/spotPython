{
 "cells": [
  {
   "cell_type": "raw",
   "metadata": {},
   "source": [
    "---\n",
    "title: \"pytorch Hyperparameter Tuning with SPOT: Comparison with ray tuner on cifar10\"\n",
    "format: html\n",
    "---"
   ]
  },
  {
   "cell_type": "code",
   "execution_count": 1,
   "metadata": {},
   "outputs": [],
   "source": [
    "MAX_TIME = 30\n",
    "INIT_SIZE = 10\n",
    "DEVICE = \"cpu\" # \"cuda:0\""
   ]
  },
  {
   "cell_type": "code",
   "execution_count": 2,
   "metadata": {},
   "outputs": [
    {
     "data": {
      "text/plain": [
       "'14-torch_bartz09_30min_10init_2023-05-14_09-01-29'"
      ]
     },
     "execution_count": 2,
     "metadata": {},
     "output_type": "execute_result"
    }
   ],
   "source": [
    "import pickle\n",
    "import socket\n",
    "from datetime import datetime\n",
    "from dateutil.tz import tzlocal\n",
    "start_time = datetime.now(tzlocal())\n",
    "HOSTNAME = socket.gethostname().split(\".\")[0]\n",
    "experiment_name = '14-torch' + \"_\" + HOSTNAME + \"_\" + str(MAX_TIME) + \"min_\" + str(INIT_SIZE) + \"init_\" + str(start_time).split(\".\", 1)[0].replace(' ', '_')\n",
    "experiment_name = experiment_name.replace(':', '-')\n",
    "experiment_name"
   ]
  },
  {
   "attachments": {},
   "cell_type": "markdown",
   "metadata": {},
   "source": [
    "# Chapter 14: Sequential Parameter Optimization Compared to Ray Tune\n",
    "## Hyperparameter Tuning: pytorch wth cifar10 Data"
   ]
  },
  {
   "attachments": {},
   "cell_type": "markdown",
   "metadata": {},
   "source": [
    "* This notebook exemplifies hyperparameter tuning with SPOT (spotPython).\n",
    "* The hyperparameter software SPOT was developed in R (statistical programming language), see Open Access book \"Hyperparameter Tuning for Machine and Deep Learning with R - A Practical Guide\", available here: [https://link.springer.com/book/10.1007/978-981-19-5170-1](https://link.springer.com/book/10.1007/978-981-19-5170-1).\n"
   ]
  },
  {
   "cell_type": "code",
   "execution_count": 3,
   "metadata": {},
   "outputs": [
    {
     "name": "stdout",
     "output_type": "stream",
     "text": [
      "spotPython               0.0.70\n",
      "Note: you may need to restart the kernel to use updated packages.\n"
     ]
    }
   ],
   "source": [
    "pip list | grep  \"spot[RiverPython]\""
   ]
  },
  {
   "cell_type": "code",
   "execution_count": 4,
   "metadata": {},
   "outputs": [],
   "source": [
    "# import sys\n",
    "# !{sys.executable} -m pip install --upgrade build\n",
    "# !{sys.executable} -m pip install --upgrade --force-reinstall spotPython\n"
   ]
  },
  {
   "cell_type": "code",
   "execution_count": 5,
   "metadata": {},
   "outputs": [],
   "source": [
    "from tabulate import tabulate\n",
    "import copy\n",
    "import warnings\n",
    "import numbers\n",
    "import json\n",
    "import calendar\n",
    "import math\n",
    "import datetime as dt\n",
    "import numpy as np\n",
    "from math import inf\n",
    "import pandas as pd\n",
    "\n",
    "from scipy.optimize import differential_evolution\n",
    "\n",
    "import matplotlib.pyplot as plt\n",
    "\n",
    "from functools import partial\n",
    "\n",
    "import torch\n",
    "from torch import nn\n",
    "from torch.utils.data import DataLoader\n",
    "import torch.nn.functional as F\n",
    "import torch.optim as optim\n",
    "from torch.utils.data import random_split\n",
    "from torchvision import datasets\n",
    "import torchvision\n",
    "import torchvision.transforms as transforms\n",
    "from torchvision.transforms import ToTensor\n",
    "\n",
    "from spotPython.spot import spot\n",
    "from spotPython.hyperparameters.values import (\n",
    "    add_core_model_to_fun_control,\n",
    "    assign_values,\n",
    "    convert_keys,\n",
    "    get_bound_values,\n",
    "    get_default_hyperparameters_for_core_model,\n",
    "    get_default_values,\n",
    "    get_dict_with_levels_and_types,\n",
    "    get_values_from_dict,\n",
    "    get_var_name,\n",
    "    get_var_type,\n",
    "    iterate_dict_values,\n",
    "    modify_hyper_parameter_levels,\n",
    "    modify_hyper_parameter_bounds,\n",
    "    replace_levels_with_positions,\n",
    "    return_conf_list_from_var_dict,\n",
    "    get_one_core_model_from_X,\n",
    "    transform_hyper_parameter_values,\n",
    "    get_dict_with_levels_and_types,\n",
    "    convert_keys,\n",
    "    iterate_dict_values,\n",
    ")\n",
    "\n",
    "from spotPython.torch.traintest import evaluate_cv, evaluate_hold_out\n",
    "from spotPython.utils.convert import class_for_name\n",
    "from spotPython.utils.eda import (\n",
    "    get_stars,\n",
    "    gen_design_table)\n",
    "from spotPython.utils.transform import transform_hyper_parameter_values\n",
    "from spotPython.utils.convert import get_Xy_from_df\n",
    "from spotPython.utils.init import fun_control_init\n",
    "from spotPython.plot.validation import plot_cv_predictions, plot_roc, plot_confusion_matrix\n",
    "\n",
    "from spotPython.data.torch_hyper_dict import TorchHyperDict\n",
    "from spotPython.fun.hypertorch import HyperTorch\n",
    "\n",
    "warnings.filterwarnings(\"ignore\")\n",
    "\n",
    "from spotPython.torch.netcifar10 import Net_CIFAR10"
   ]
  },
  {
   "cell_type": "code",
   "execution_count": 6,
   "metadata": {},
   "outputs": [
    {
     "name": "stdout",
     "output_type": "stream",
     "text": [
      "2.0.1\n",
      "MPS device:  mps\n"
     ]
    }
   ],
   "source": [
    "print(torch.__version__)\n",
    "# Check that MPS is available\n",
    "if not torch.backends.mps.is_available():\n",
    "    if not torch.backends.mps.is_built():\n",
    "        print(\"MPS not available because the current PyTorch install was not \"\n",
    "              \"built with MPS enabled.\")\n",
    "    else:\n",
    "        print(\"MPS not available because the current MacOS version is not 12.3+ \"\n",
    "              \"and/or you do not have an MPS-enabled device on this machine.\")\n",
    "\n",
    "else:\n",
    "    mps_device = torch.device(\"mps\")\n",
    "    print(\"MPS device: \", mps_device)"
   ]
  },
  {
   "attachments": {},
   "cell_type": "markdown",
   "metadata": {},
   "source": [
    "## 0. Initialization of the Empty `fun_control` Dictionary"
   ]
  },
  {
   "cell_type": "code",
   "execution_count": 7,
   "metadata": {},
   "outputs": [],
   "source": [
    "fun_control = fun_control_init()"
   ]
  },
  {
   "attachments": {},
   "cell_type": "markdown",
   "metadata": {},
   "source": [
    "## 1. Load Cifar10 Data "
   ]
  },
  {
   "attachments": {},
   "cell_type": "markdown",
   "metadata": {},
   "source": [
    "The data loading is implemented as in the Section \"Data loaders\" in the PyTorch tutorial [Hyperparameter Tuning  with Ray Tune](https://pytorch.org/tutorials/beginner/hyperparameter_tuning_tutorial.html)."
   ]
  },
  {
   "cell_type": "code",
   "execution_count": 8,
   "metadata": {},
   "outputs": [],
   "source": [
    "def load_data(data_dir=\"./data\"):\n",
    "    transform = transforms.Compose([\n",
    "        transforms.ToTensor(),\n",
    "        transforms.Normalize((0.5, 0.5, 0.5), (0.5, 0.5, 0.5))\n",
    "    ])\n",
    "\n",
    "    trainset = torchvision.datasets.CIFAR10(\n",
    "        root=data_dir, train=True, download=True, transform=transform)\n",
    "\n",
    "    testset = torchvision.datasets.CIFAR10(\n",
    "        root=data_dir, train=False, download=True, transform=transform)\n",
    "\n",
    "    return trainset, testset"
   ]
  },
  {
   "cell_type": "code",
   "execution_count": 9,
   "metadata": {},
   "outputs": [
    {
     "name": "stdout",
     "output_type": "stream",
     "text": [
      "Files already downloaded and verified\n",
      "Files already downloaded and verified\n"
     ]
    },
    {
     "data": {
      "text/plain": [
       "((50000, 32, 32, 3), (10000, 32, 32, 3))"
      ]
     },
     "execution_count": 9,
     "metadata": {},
     "output_type": "execute_result"
    }
   ],
   "source": [
    "train, test = load_data()\n",
    "train.data.shape, test.data.shape"
   ]
  },
  {
   "cell_type": "code",
   "execution_count": 10,
   "metadata": {},
   "outputs": [],
   "source": [
    "n_samples = len(train)\n",
    "# add the dataset to the fun_control\n",
    "fun_control.update({\"data\": None, # dataset,\n",
    "               \"train\": train,\n",
    "               \"test\": test,\n",
    "               \"n_samples\": n_samples,\n",
    "               \"target_column\": None})"
   ]
  },
  {
   "attachments": {},
   "cell_type": "markdown",
   "metadata": {},
   "source": [
    "## 2. Specification of the Preprocessing Model\n",
    "\n",
    "Because the Ray Tune hyperparameter tuning does not use a preprocessing model, the preprocessing model is set to `None` here."
   ]
  },
  {
   "cell_type": "code",
   "execution_count": 11,
   "metadata": {},
   "outputs": [],
   "source": [
    "# categorical_columns = []\n",
    "# one_hot_encoder = OneHotEncoder(handle_unknown=\"ignore\", sparse_output=False)\n",
    "# prep_model = ColumnTransformer(\n",
    "#         transformers=[\n",
    "#             (\"categorical\", one_hot_encoder, categorical_columns),\n",
    "#         ],\n",
    "#         remainder=StandardScaler(),\n",
    "#     )\n",
    "prep_model = None\n",
    "fun_control.update({\"prep_model\": prep_model})"
   ]
  },
  {
   "attachments": {},
   "cell_type": "markdown",
   "metadata": {},
   "source": [
    "## 3. Select `algorithm` and `core_model_hyper_dict`"
   ]
  },
  {
   "attachments": {},
   "cell_type": "markdown",
   "metadata": {},
   "source": [
    "The same model as implemented as in the Section \"Configurable neural network\" in the PyTorch tutorial [Hyperparameter Tuning  with Ray Tune](https://pytorch.org/tutorials/beginner/hyperparameter_tuning_tutorial.html) is used here. `spotPython` implements a class which is similar to the class described in the PyTorch tutorial. The class is called `Net_CIFAR10`   and is implemented in the file `netcifar10.py`. The class is imported here.\n",
    "\n",
    "Note: In addition to the class Net from the PyTorch tutorial, the class Net_CIFAR10 has additional attributes, namely:\n",
    "\n",
    "* learning rate (`lr`),\n",
    "* batchsize (`batch_size`),\n",
    "* epochs (`epochs`), and\n",
    "* k_folds (`k_folds`).\n",
    "\n",
    "Further attributes can be easily added to the class, e.g., `optimizer` or `loss_function`."
   ]
  },
  {
   "cell_type": "code",
   "execution_count": 12,
   "metadata": {},
   "outputs": [],
   "source": [
    "core_model = Net_CIFAR10\n",
    "fun_control = add_core_model_to_fun_control(core_model=core_model,\n",
    "                              fun_control=fun_control,\n",
    "                              hyper_dict=TorchHyperDict,\n",
    "                              filename=None)"
   ]
  },
  {
   "attachments": {},
   "cell_type": "markdown",
   "metadata": {},
   "source": [
    "### The `hyper_dict` Hyperparameters for the Selected Algorithm"
   ]
  },
  {
   "attachments": {},
   "cell_type": "markdown",
   "metadata": {},
   "source": [
    "`spotPython` uses simple `JSON` files for the specification of the hyperparameters. The `JSON` file for the `core_model` is called `torch_hyper_dict.json`. The corresponding entries for the `Net_CIFAR10` class are shown below.\n",
    "\n",
    "```json\n",
    "{\"Net_CIFAR10\":\n",
    "    {\n",
    "        \"l1\": {\n",
    "            \"type\": \"int\",\n",
    "            \"default\": 5,\n",
    "            \"transform\": \"transform_power_2_int\",\n",
    "            \"lower\": 2,\n",
    "            \"upper\": 9},\n",
    "        \"l2\": {\n",
    "            \"type\": \"int\",\n",
    "            \"default\": 5,\n",
    "            \"transform\": \"transform_power_2_int\",\n",
    "            \"lower\": 2,\n",
    "            \"upper\": 9},\n",
    "        \"lr\": {\n",
    "            \"type\": \"float\",\n",
    "            \"default\": 1e-03,\n",
    "            \"transform\": \"None\",\n",
    "            \"lower\": 1e-05,\n",
    "            \"upper\": 1e-02},\n",
    "        \"batch_size\": {\n",
    "            \"type\": \"int\",\n",
    "            \"default\": 4,\n",
    "            \"transform\": \"transform_power_2_int\",\n",
    "            \"lower\": 1,\n",
    "            \"upper\": 4},\n",
    "        \"epochs\": {\n",
    "                \"type\": \"int\",\n",
    "                \"default\": 3,\n",
    "                \"transform\": \"transform_power_2_int\",\n",
    "                \"lower\": 1,\n",
    "                \"upper\": 4},\n",
    "        \"k_folds\": {\n",
    "            \"type\": \"int\",\n",
    "            \"default\": 2,\n",
    "            \"transform\": \"None\",\n",
    "            \"lower\": 2,\n",
    "            \"upper\": 3},\n",
    "        \"patience\": {\n",
    "            \"type\": \"int\",\n",
    "            \"default\": 5,\n",
    "            \"transform\": \"None\",\n",
    "            \"lower\": 2,\n",
    "            \"upper\": 10},\n",
    "    }\n",
    "}\n",
    "```\n",
    "\n",
    "Each entry in the `JSON` file represents one hyperparameter with the following structure:\n",
    "`type`, `default`, `transform`, `lower`, and `upper`.\n"
   ]
  },
  {
   "attachments": {},
   "cell_type": "markdown",
   "metadata": {},
   "source": [
    "### Categorical Hyperparameters"
   ]
  },
  {
   "attachments": {},
   "cell_type": "markdown",
   "metadata": {},
   "source": [
    "In contrast to Ray Tune, `spotPython` can handle numerical, boolean, and categorical hyperparameters. Since `Ray Tune` does not tune categorical hyperparameters, they are not used here. However, they can be specified in the `JSON` file in a similar way as the numerical hyperparameters as shown below:\n",
    "\n",
    "```json\n",
    "\"factor_hyperparameter\": {\n",
    "    \"levels\": [\"A\", \"B\", \"C\"],\n",
    "    \"type\": \"factor\",\n",
    "    \"default\": \"B\",\n",
    "    \"transform\": \"None\",\n",
    "    \"core_model_parameter_type\": \"str\",\n",
    "    \"lower\": 0,\n",
    "    \"upper\": 2},\n",
    "```"
   ]
  },
  {
   "attachments": {},
   "cell_type": "markdown",
   "metadata": {},
   "source": [
    "## 4. Modify `hyper_dict` Hyperparameters for the Selected Algorithm aka `core_model`"
   ]
  },
  {
   "attachments": {},
   "cell_type": "markdown",
   "metadata": {},
   "source": [
    "After specifying the model, the corresponding hyperparameters, their types and bounds are loaded from the `JSON` file `torch_hyper_dict.json`. After loading, the user can modify the hyperparameters, e.g., the bounds.\n",
    "`spotPython` provides a clever rule for de-activating hyperparameters. If the lower and the upper bound are set to identical values, the hyperparameter is de-activated. This is useful for the hyperparameter tuning, because it allows to specify a hyperparameter in the `JSON` file, but to de-activate it in the `fun_control` dictionary. This is done in the next step."
   ]
  },
  {
   "attachments": {},
   "cell_type": "markdown",
   "metadata": {},
   "source": [
    "### Modify hyperparameter of type numeric and integer (boolean)\n",
    "\n",
    "Since the hyperparameter `k_folds` is not used in the PyTorch tutorial, it is de-activated here by setting the lower and upper bound to the same value."
   ]
  },
  {
   "cell_type": "code",
   "execution_count": 13,
   "metadata": {},
   "outputs": [
    {
     "data": {
      "text/plain": [
       "{'l1': {'type': 'int',\n",
       "  'default': 5,\n",
       "  'transform': 'transform_power_2_int',\n",
       "  'lower': 2,\n",
       "  'upper': 9},\n",
       " 'l2': {'type': 'int',\n",
       "  'default': 5,\n",
       "  'transform': 'transform_power_2_int',\n",
       "  'lower': 2,\n",
       "  'upper': 9},\n",
       " 'lr': {'type': 'float',\n",
       "  'default': 0.001,\n",
       "  'transform': 'None',\n",
       "  'lower': 1e-05,\n",
       "  'upper': 0.01},\n",
       " 'batch_size': {'type': 'int',\n",
       "  'default': 4,\n",
       "  'transform': 'transform_power_2_int',\n",
       "  'lower': 1,\n",
       "  'upper': 5},\n",
       " 'epochs': {'type': 'int',\n",
       "  'default': 3,\n",
       "  'transform': 'transform_power_2_int',\n",
       "  'lower': 3,\n",
       "  'upper': 4},\n",
       " 'k_folds': {'type': 'int',\n",
       "  'default': 2,\n",
       "  'transform': 'None',\n",
       "  'lower': 0,\n",
       "  'upper': 0},\n",
       " 'patience': {'type': 'int',\n",
       "  'default': 5,\n",
       "  'transform': 'None',\n",
       "  'lower': 2,\n",
       "  'upper': 2}}"
      ]
     },
     "execution_count": 13,
     "metadata": {},
     "output_type": "execute_result"
    }
   ],
   "source": [
    "fun_control = modify_hyper_parameter_bounds(fun_control, \"batch_size\", bounds=[1, 5])\n",
    "fun_control = modify_hyper_parameter_bounds(fun_control, \"k_folds\", bounds=[0, 0])\n",
    "fun_control = modify_hyper_parameter_bounds(fun_control, \"patience\", bounds=[2, 2])\n",
    "fun_control[\"core_model_hyper_dict\"]"
   ]
  },
  {
   "attachments": {},
   "cell_type": "markdown",
   "metadata": {},
   "source": [
    "### Modify hyperparameter of type factor"
   ]
  },
  {
   "attachments": {},
   "cell_type": "markdown",
   "metadata": {},
   "source": [
    "In a similar manner as for the numerical hyperparameters, the categorical hyperparameters can be modified. For example, the hyperparameter `leaf_model` is de-activated here by choosing only one value `\"LinearRegression\"`."
   ]
  },
  {
   "cell_type": "code",
   "execution_count": 14,
   "metadata": {},
   "outputs": [],
   "source": [
    "# fun_control = modify_hyper_parameter_levels(fun_control, \"leaf_model\", [\"LinearRegression\"])"
   ]
  },
  {
   "attachments": {},
   "cell_type": "markdown",
   "metadata": {},
   "source": [
    "## 5. Selection of the Objective (Loss) Function"
   ]
  },
  {
   "attachments": {},
   "cell_type": "markdown",
   "metadata": {},
   "source": [
    "There are two metrics:\n",
    "\n",
    "    1. `metric` is used for the river based evaluation via `eval_oml_iter_progressive`.\n",
    "    2. `metric_sklearn` is used for the sklearn based evaluation."
   ]
  },
  {
   "attachments": {},
   "cell_type": "markdown",
   "metadata": {},
   "source": [
    "**Important**:\n",
    "\n",
    "* `spotPython` performs minimization by default.\n",
    "* If accuracy should be maximized, then the objective function has to be multiplied by -1. Therefore, `weights` is set to -1 in this case."
   ]
  },
  {
   "cell_type": "code",
   "execution_count": 15,
   "metadata": {},
   "outputs": [],
   "source": [
    "fun = HyperTorch(seed=123, log_level=50).fun_torch\n",
    "weights = 1.0\n",
    "shuffle = True\n",
    "eval = \"train_hold_out\"\n",
    "device = DEVICE\n",
    "show_batch_interval = 100_000\n",
    "save_model = True\n",
    "path=\"torch_model.pt\"\n",
    "\n",
    "fun_control.update({\n",
    "               \"data_dir\": None,\n",
    "               \"checkpoint_dir\": None,\n",
    "               \"horizon\": None,\n",
    "               \"oml_grace_period\": None,\n",
    "               \"weights\": weights,\n",
    "               \"step\": None,\n",
    "               \"log_level\": 50,\n",
    "               \"weight_coeff\": None,\n",
    "               \"metric\": None,\n",
    "               \"metric_sklearn\": None,\n",
    "               \"shuffle\": shuffle,\n",
    "               \"eval\": eval,\n",
    "               \"device\": device,\n",
    "               \"show_batch_interval\": show_batch_interval,\n",
    "               \"save_model\": save_model,\n",
    "               \"path\": path,\n",
    "               })"
   ]
  },
  {
   "attachments": {},
   "cell_type": "markdown",
   "metadata": {},
   "source": [
    "## 6. Calling the SPOT Function"
   ]
  },
  {
   "attachments": {},
   "cell_type": "markdown",
   "metadata": {},
   "source": [
    "### Prepare the SPOT Parameters"
   ]
  },
  {
   "attachments": {},
   "cell_type": "markdown",
   "metadata": {},
   "source": [
    "* Get types and variable names as well as lower and upper bounds for the hyperparameters."
   ]
  },
  {
   "cell_type": "code",
   "execution_count": 17,
   "metadata": {},
   "outputs": [],
   "source": [
    "var_type = get_var_type(fun_control)\n",
    "var_name = get_var_name(fun_control)\n",
    "fun_control.update({\"var_type\": var_type,\n",
    "                    \"var_name\": var_name})\n",
    "\n",
    "lower = get_bound_values(fun_control, \"lower\")\n",
    "upper = get_bound_values(fun_control, \"upper\")"
   ]
  },
  {
   "cell_type": "code",
   "execution_count": 18,
   "metadata": {},
   "outputs": [
    {
     "name": "stdout",
     "output_type": "stream",
     "text": [
      "| name       | type   |   default |   lower |   upper | transform             |\n",
      "|------------|--------|-----------|---------|---------|-----------------------|\n",
      "| l1         | int    |     5     |   2     |    9    | transform_power_2_int |\n",
      "| l2         | int    |     5     |   2     |    9    | transform_power_2_int |\n",
      "| lr         | float  |     0.001 |   1e-05 |    0.01 | None                  |\n",
      "| batch_size | int    |     4     |   1     |    5    | transform_power_2_int |\n",
      "| epochs     | int    |     3     |   3     |    4    | transform_power_2_int |\n",
      "| k_folds    | int    |     2     |   0     |    0    | None                  |\n",
      "| patience   | int    |     5     |   2     |    2    | None                  |\n"
     ]
    }
   ],
   "source": [
    "print(gen_design_table(fun_control))"
   ]
  },
  {
   "attachments": {},
   "cell_type": "markdown",
   "metadata": {},
   "source": [
    "### Run the `Spot` Optimizer\n",
    "\n",
    "* Run SPOT for approx. x mins (`max_time`).\n",
    "* Note: the run takes longer, because the evaluation time of initial design (here: `initi_size`, 20 points) is not considered."
   ]
  },
  {
   "cell_type": "code",
   "execution_count": 19,
   "metadata": {},
   "outputs": [
    {
     "data": {
      "text/plain": [
       "array([[5.e+00, 5.e+00, 1.e-03, 4.e+00, 3.e+00, 2.e+00, 5.e+00]])"
      ]
     },
     "execution_count": 19,
     "metadata": {},
     "output_type": "execute_result"
    }
   ],
   "source": [
    "from spotPython.hyperparameters.values import get_default_hyperparameters_as_array\n",
    "hyper_dict=TorchHyperDict().load()\n",
    "X_start = get_default_hyperparameters_as_array(fun_control, hyper_dict)\n",
    "X_start"
   ]
  },
  {
   "cell_type": "code",
   "execution_count": 20,
   "metadata": {},
   "outputs": [
    {
     "name": "stdout",
     "output_type": "stream",
     "text": [
      "Epoch: 1\n",
      "Loss on hold-out set: 1.6233964078903198\n",
      "Accuracy on hold-out set: 0.38105\n",
      "Epoch: 2\n",
      "Loss on hold-out set: 1.4671174495697021\n",
      "Accuracy on hold-out set: 0.4661\n",
      "Epoch: 3\n",
      "Loss on hold-out set: 1.3931800443649291\n",
      "Accuracy on hold-out set: 0.48835\n",
      "Epoch: 4\n",
      "Loss on hold-out set: 1.292147557067871\n",
      "Accuracy on hold-out set: 0.53945\n",
      "Epoch: 5\n",
      "Loss on hold-out set: 1.2439146033763886\n",
      "Accuracy on hold-out set: 0.5612\n",
      "Epoch: 6\n",
      "Loss on hold-out set: 1.229163365507126\n",
      "Accuracy on hold-out set: 0.56355\n",
      "Epoch: 7\n",
      "Loss on hold-out set: 1.2038760988712311\n",
      "Accuracy on hold-out set: 0.57745\n",
      "Epoch: 8\n",
      "Loss on hold-out set: 1.1792098928928376\n",
      "Accuracy on hold-out set: 0.58755\n",
      "Epoch: 9\n",
      "Loss on hold-out set: 1.1812366831302643\n",
      "Accuracy on hold-out set: 0.5961\n",
      "Epoch: 10\n",
      "Loss on hold-out set: 1.2029704758405686\n",
      "Accuracy on hold-out set: 0.58735\n",
      "Early stopping at epoch 9\n",
      "Returned to Spot: Validation loss: 1.2029704758405686\n",
      "----------------------------------------------\n",
      "Epoch: 1\n",
      "Loss on hold-out set: 1.937881033706665\n",
      "Accuracy on hold-out set: 0.2948\n",
      "Epoch: 2\n",
      "Loss on hold-out set: 1.7710864140510558\n",
      "Accuracy on hold-out set: 0.35045\n",
      "Epoch: 3\n",
      "Loss on hold-out set: 1.6792387600898742\n",
      "Accuracy on hold-out set: 0.37875\n",
      "Epoch: 4\n",
      "Loss on hold-out set: 1.5770267806053162\n",
      "Accuracy on hold-out set: 0.4267\n",
      "Epoch: 5\n",
      "Loss on hold-out set: 1.5194163127422333\n",
      "Accuracy on hold-out set: 0.44915\n",
      "Epoch: 6\n",
      "Loss on hold-out set: 1.4882849304676056\n",
      "Accuracy on hold-out set: 0.46865\n",
      "Epoch: 7\n",
      "Loss on hold-out set: 1.450839730644226\n",
      "Accuracy on hold-out set: 0.4771\n",
      "Epoch: 8\n",
      "Loss on hold-out set: 1.4433879662513733\n",
      "Accuracy on hold-out set: 0.48395\n",
      "Epoch: 9\n",
      "Loss on hold-out set: 1.3826006323337554\n",
      "Accuracy on hold-out set: 0.5066\n",
      "Epoch: 10\n",
      "Loss on hold-out set: 1.3861534931659698\n",
      "Accuracy on hold-out set: 0.5055\n",
      "Epoch: 11\n",
      "Loss on hold-out set: 1.3348039914608\n",
      "Accuracy on hold-out set: 0.5237\n",
      "Epoch: 12\n",
      "Loss on hold-out set: 1.3213311203956604\n",
      "Accuracy on hold-out set: 0.52605\n",
      "Epoch: 13\n",
      "Loss on hold-out set: 1.3125387513637543\n",
      "Accuracy on hold-out set: 0.52905\n",
      "Epoch: 14\n",
      "Loss on hold-out set: 1.295912788105011\n",
      "Accuracy on hold-out set: 0.53505\n",
      "Epoch: 15\n",
      "Loss on hold-out set: 1.2729134831428528\n",
      "Accuracy on hold-out set: 0.5498\n",
      "Epoch: 16\n",
      "Loss on hold-out set: 1.2539512080192565\n",
      "Accuracy on hold-out set: 0.55535\n",
      "Returned to Spot: Validation loss: 1.2539512080192565\n",
      "----------------------------------------------\n",
      "Epoch: 1\n",
      "Loss on hold-out set: 1.6327599298596382\n",
      "Accuracy on hold-out set: 0.3965\n",
      "Epoch: 2\n",
      "Loss on hold-out set: 1.5152800834715365\n",
      "Accuracy on hold-out set: 0.4427\n",
      "Epoch: 3\n",
      "Loss on hold-out set: 1.391811407086253\n",
      "Accuracy on hold-out set: 0.50145\n",
      "Epoch: 4\n",
      "Loss on hold-out set: 1.381068726284802\n",
      "Accuracy on hold-out set: 0.5131\n",
      "Epoch: 5\n",
      "Loss on hold-out set: 1.298838869406283\n",
      "Accuracy on hold-out set: 0.55335\n",
      "Epoch: 6\n",
      "Loss on hold-out set: 1.263535743867606\n",
      "Accuracy on hold-out set: 0.5615\n",
      "Epoch: 7\n",
      "Loss on hold-out set: 1.2297694083746522\n",
      "Accuracy on hold-out set: 0.57995\n",
      "Epoch: 8\n",
      "Loss on hold-out set: 1.2467471339330076\n",
      "Accuracy on hold-out set: 0.57475\n",
      "Epoch: 9\n",
      "Loss on hold-out set: 1.245574654397741\n",
      "Accuracy on hold-out set: 0.58055\n",
      "Early stopping at epoch 8\n",
      "Returned to Spot: Validation loss: 1.245574654397741\n",
      "----------------------------------------------\n",
      "Epoch: 1\n",
      "Loss on hold-out set: 1.6833224299907685\n",
      "Accuracy on hold-out set: 0.36215\n",
      "Epoch: 2\n",
      "Loss on hold-out set: 1.5497559356689452\n",
      "Accuracy on hold-out set: 0.42515\n",
      "Epoch: 3\n",
      "Loss on hold-out set: 1.4452173892021178\n",
      "Accuracy on hold-out set: 0.473\n",
      "Epoch: 4\n",
      "Loss on hold-out set: 1.4191592187047004\n",
      "Accuracy on hold-out set: 0.4932\n",
      "Epoch: 5\n",
      "Loss on hold-out set: 1.3635968051075935\n",
      "Accuracy on hold-out set: 0.5058\n",
      "Epoch: 6\n",
      "Loss on hold-out set: 1.362025194966793\n",
      "Accuracy on hold-out set: 0.50855\n",
      "Epoch: 7\n",
      "Loss on hold-out set: 1.3030266811490059\n",
      "Accuracy on hold-out set: 0.5319\n",
      "Epoch: 8\n",
      "Loss on hold-out set: 1.2725774227201938\n",
      "Accuracy on hold-out set: 0.5412\n",
      "Returned to Spot: Validation loss: 1.2725774227201938\n",
      "----------------------------------------------\n",
      "Epoch: 1\n",
      "Loss on hold-out set: 1.6263902270317077\n",
      "Accuracy on hold-out set: 0.4062\n",
      "Epoch: 2\n",
      "Loss on hold-out set: 1.4820850454807282\n",
      "Accuracy on hold-out set: 0.458\n",
      "Epoch: 3\n",
      "Loss on hold-out set: 1.3932246748924255\n",
      "Accuracy on hold-out set: 0.49565\n",
      "Epoch: 4\n",
      "Loss on hold-out set: 1.3304857987880707\n",
      "Accuracy on hold-out set: 0.52325\n",
      "Epoch: 5\n",
      "Loss on hold-out set: 1.2755126443862914\n",
      "Accuracy on hold-out set: 0.5448\n",
      "Epoch: 6\n",
      "Loss on hold-out set: 1.2741500918626785\n",
      "Accuracy on hold-out set: 0.5541\n",
      "Epoch: 7\n",
      "Loss on hold-out set: 1.2514450020074845\n",
      "Accuracy on hold-out set: 0.5561\n",
      "Epoch: 8\n",
      "Loss on hold-out set: 1.2138829980134964\n",
      "Accuracy on hold-out set: 0.57305\n",
      "Returned to Spot: Validation loss: 1.2138829980134964\n",
      "----------------------------------------------\n",
      "Epoch: 1\n",
      "Loss on hold-out set: 1.6429910239458083\n",
      "Accuracy on hold-out set: 0.3978\n",
      "Epoch: 2\n",
      "Loss on hold-out set: 1.5126889547109603\n",
      "Accuracy on hold-out set: 0.4554\n",
      "Epoch: 3\n",
      "Loss on hold-out set: 1.418367373895645\n",
      "Accuracy on hold-out set: 0.48885\n",
      "Epoch: 4\n",
      "Loss on hold-out set: 1.404870358276367\n",
      "Accuracy on hold-out set: 0.49845\n",
      "Epoch: 5\n",
      "Loss on hold-out set: 1.3142913648605348\n",
      "Accuracy on hold-out set: 0.5317\n",
      "Epoch: 6\n",
      "Loss on hold-out set: 1.2858197134256364\n",
      "Accuracy on hold-out set: 0.54595\n",
      "Epoch: 7\n",
      "Loss on hold-out set: 1.223055574309826\n",
      "Accuracy on hold-out set: 0.5705\n",
      "Epoch: 8\n",
      "Loss on hold-out set: 1.222232828629017\n",
      "Accuracy on hold-out set: 0.5736\n",
      "Epoch: 9\n",
      "Loss on hold-out set: 1.1589168319821357\n",
      "Accuracy on hold-out set: 0.59545\n",
      "Epoch: 10\n",
      "Loss on hold-out set: 1.1373554665803909\n",
      "Accuracy on hold-out set: 0.60385\n",
      "Epoch: 11\n",
      "Loss on hold-out set: 1.161867321306467\n",
      "Accuracy on hold-out set: 0.6003\n",
      "Epoch: 12\n",
      "Loss on hold-out set: 1.1320952492952348\n",
      "Accuracy on hold-out set: 0.6147\n",
      "Epoch: 13\n",
      "Loss on hold-out set: 1.1478971531331539\n",
      "Accuracy on hold-out set: 0.60745\n",
      "Epoch: 14\n",
      "Loss on hold-out set: 1.1490158455610275\n",
      "Accuracy on hold-out set: 0.6164\n",
      "Early stopping at epoch 13\n",
      "Returned to Spot: Validation loss: 1.1490158455610275\n",
      "----------------------------------------------\n",
      "Epoch: 1\n",
      "Loss on hold-out set: 1.8174390849903226\n",
      "Accuracy on hold-out set: 0.35825\n",
      "Epoch: 2\n",
      "Loss on hold-out set: 1.600451938202139\n",
      "Accuracy on hold-out set: 0.43495\n",
      "Epoch: 3\n",
      "Loss on hold-out set: 1.5921363250328229\n",
      "Accuracy on hold-out set: 0.43395\n",
      "Epoch: 4\n",
      "Loss on hold-out set: 1.6136161933531052\n",
      "Accuracy on hold-out set: 0.45115\n",
      "Epoch: 5\n",
      "Loss on hold-out set: 1.6682929895512302\n",
      "Accuracy on hold-out set: 0.4721\n",
      "Early stopping at epoch 4\n",
      "Returned to Spot: Validation loss: 1.6682929895512302\n",
      "----------------------------------------------\n",
      "Epoch: 1\n",
      "Loss on hold-out set: 1.5221771258205175\n",
      "Accuracy on hold-out set: 0.44145\n",
      "Epoch: 2\n",
      "Loss on hold-out set: 1.2982594036966562\n",
      "Accuracy on hold-out set: 0.53935\n",
      "Epoch: 3\n",
      "Loss on hold-out set: 1.274106799009349\n",
      "Accuracy on hold-out set: 0.56135\n",
      "Epoch: 4\n",
      "Loss on hold-out set: 1.281924227393046\n",
      "Accuracy on hold-out set: 0.57575\n",
      "Epoch: 5\n",
      "Loss on hold-out set: 1.3186386157506145\n",
      "Accuracy on hold-out set: 0.57225\n",
      "Early stopping at epoch 4\n",
      "Returned to Spot: Validation loss: 1.3186386157506145\n",
      "----------------------------------------------\n",
      "Epoch: 1\n",
      "Loss on hold-out set: 1.7876750892579556\n",
      "Accuracy on hold-out set: 0.34845\n",
      "Epoch: 2\n",
      "Loss on hold-out set: 1.7102719130396844\n",
      "Accuracy on hold-out set: 0.38965\n",
      "Epoch: 3\n",
      "Loss on hold-out set: 1.6062060984633864\n",
      "Accuracy on hold-out set: 0.4295\n",
      "Epoch: 4\n",
      "Loss on hold-out set: 1.5590815575357526\n",
      "Accuracy on hold-out set: 0.44715\n",
      "Epoch: 5\n",
      "Loss on hold-out set: 1.5315123750884085\n",
      "Accuracy on hold-out set: 0.4667\n",
      "Epoch: 6\n",
      "Loss on hold-out set: 1.4814053182993083\n",
      "Accuracy on hold-out set: 0.47995\n",
      "Epoch: 7\n",
      "Loss on hold-out set: 1.4645927671616896\n",
      "Accuracy on hold-out set: 0.49405\n",
      "Epoch: 8\n",
      "Loss on hold-out set: 1.4654792146733961\n",
      "Accuracy on hold-out set: 0.50055\n",
      "Returned to Spot: Validation loss: 1.4654792146733961\n",
      "----------------------------------------------\n",
      "Epoch: 1\n",
      "Loss on hold-out set: 1.6329359634399414\n",
      "Accuracy on hold-out set: 0.3774\n",
      "Epoch: 2\n",
      "Loss on hold-out set: 1.4965655256271362\n",
      "Accuracy on hold-out set: 0.43205\n",
      "Epoch: 3\n",
      "Loss on hold-out set: 1.453753478240967\n",
      "Accuracy on hold-out set: 0.4675\n",
      "Epoch: 4\n",
      "Loss on hold-out set: 1.387698952960968\n",
      "Accuracy on hold-out set: 0.4895\n",
      "Epoch: 5\n",
      "Loss on hold-out set: 1.364726571559906\n",
      "Accuracy on hold-out set: 0.4996\n",
      "Epoch: 6\n",
      "Loss on hold-out set: 1.380336937046051\n",
      "Accuracy on hold-out set: 0.497\n",
      "Epoch: 7\n",
      "Loss on hold-out set: 1.3893416478157044\n",
      "Accuracy on hold-out set: 0.4932\n",
      "Early stopping at epoch 6\n",
      "Returned to Spot: Validation loss: 1.3893416478157044\n",
      "----------------------------------------------\n",
      "Epoch: 1\n",
      "Loss on hold-out set: 1.8546319846153259\n",
      "Accuracy on hold-out set: 0.2668\n",
      "Epoch: 2\n",
      "Loss on hold-out set: 1.7090257125377655\n",
      "Accuracy on hold-out set: 0.3453\n",
      "Epoch: 3\n",
      "Loss on hold-out set: 1.5620386635541916\n",
      "Accuracy on hold-out set: 0.40145\n",
      "Epoch: 4\n",
      "Loss on hold-out set: 1.5276553916692734\n",
      "Accuracy on hold-out set: 0.4194\n",
      "Epoch: 5\n",
      "Loss on hold-out set: 1.4760956898212434\n",
      "Accuracy on hold-out set: 0.44625\n",
      "Epoch: 6\n",
      "Loss on hold-out set: 1.5052957747936249\n",
      "Accuracy on hold-out set: 0.4417\n",
      "Epoch: 7\n",
      "Loss on hold-out set: 1.4461446768760682\n",
      "Accuracy on hold-out set: 0.4764\n",
      "Epoch: 8\n",
      "Loss on hold-out set: 1.4159511090159416\n",
      "Accuracy on hold-out set: 0.48905\n",
      "Epoch: 9\n",
      "Loss on hold-out set: 1.4017171993851663\n",
      "Accuracy on hold-out set: 0.49875\n",
      "Epoch: 10\n",
      "Loss on hold-out set: 1.49473130556345\n",
      "Accuracy on hold-out set: 0.4806\n",
      "Epoch: 11\n",
      "Loss on hold-out set: 1.3816763359189033\n",
      "Accuracy on hold-out set: 0.51585\n",
      "Epoch: 12\n",
      "Loss on hold-out set: 1.3734627583622931\n",
      "Accuracy on hold-out set: 0.5192\n",
      "Epoch: 13\n",
      "Loss on hold-out set: 1.413439791715145\n",
      "Accuracy on hold-out set: 0.52195\n",
      "Epoch: 14\n",
      "Loss on hold-out set: 1.4983092753350735\n",
      "Accuracy on hold-out set: 0.5099\n",
      "Early stopping at epoch 13\n",
      "Returned to Spot: Validation loss: 1.4983092753350735\n",
      "----------------------------------------------\n",
      "Epoch: 1on tuning: [#---------] 8.98% \n",
      "Loss on hold-out set: 2.309652611780167\n",
      "Accuracy on hold-out set: 0.09985\n",
      "Epoch: 2\n",
      "Loss on hold-out set: 2.307936700105667\n",
      "Accuracy on hold-out set: 0.1001\n",
      "Epoch: 3\n",
      "Loss on hold-out set: 2.30641310839653\n",
      "Accuracy on hold-out set: 0.1011\n",
      "Epoch: 4\n",
      "Loss on hold-out set: 2.3049701109409333\n",
      "Accuracy on hold-out set: 0.1039\n",
      "Epoch: 5\n",
      "Loss on hold-out set: 2.303527966403961\n",
      "Accuracy on hold-out set: 0.10545\n",
      "Epoch: 6\n",
      "Loss on hold-out set: 2.3020104492664335\n",
      "Accuracy on hold-out set: 0.10355\n",
      "Epoch: 7\n",
      "Loss on hold-out set: 2.3002982392311098\n",
      "Accuracy on hold-out set: 0.1005\n",
      "Epoch: 8\n",
      "Loss on hold-out set: 2.2981439243793487\n",
      "Accuracy on hold-out set: 0.09875\n",
      "Epoch: 9\n",
      "Loss on hold-out set: 2.2952362648487092\n",
      "Accuracy on hold-out set: 0.10235\n",
      "Epoch: 10\n",
      "Loss on hold-out set: 2.2915321053028106\n",
      "Accuracy on hold-out set: 0.1282\n",
      "Epoch: 11\n",
      "Loss on hold-out set: 2.2866279806613923\n",
      "Accuracy on hold-out set: 0.14785\n",
      "Epoch: 12\n",
      "Loss on hold-out set: 2.2801688180446624\n",
      "Accuracy on hold-out set: 0.15775\n",
      "Epoch: 13\n",
      "Loss on hold-out set: 2.271777235460281\n",
      "Accuracy on hold-out set: 0.16915\n",
      "Epoch: 14\n",
      "Loss on hold-out set: 2.2613540428638457\n",
      "Accuracy on hold-out set: 0.17775\n",
      "Epoch: 15\n",
      "Loss on hold-out set: 2.2496904024124147\n",
      "Accuracy on hold-out set: 0.18485\n",
      "Epoch: 16\n",
      "Loss on hold-out set: 2.2369117472171784\n",
      "Accuracy on hold-out set: 0.19125\n",
      "Returned to Spot: Validation loss: 2.2369117472171784\n",
      "----------------------------------------------\n",
      "Epoch: 1on tuning: [##--------] 22.41% \n",
      "Loss on hold-out set: 1.8366578552246093\n",
      "Accuracy on hold-out set: 0.33855\n",
      "Epoch: 2\n",
      "Loss on hold-out set: 1.593073234939575\n",
      "Accuracy on hold-out set: 0.4153\n",
      "Epoch: 3\n",
      "Loss on hold-out set: 1.4880866313934327\n",
      "Accuracy on hold-out set: 0.4599\n",
      "Epoch: 4\n",
      "Loss on hold-out set: 1.4846512765884399\n",
      "Accuracy on hold-out set: 0.4641\n",
      "Epoch: 5\n",
      "Loss on hold-out set: 1.392513538455963\n",
      "Accuracy on hold-out set: 0.49725\n",
      "Epoch: 6\n",
      "Loss on hold-out set: 1.3376230607032775\n",
      "Accuracy on hold-out set: 0.51985\n",
      "Epoch: 7\n",
      "Loss on hold-out set: 1.3116502825737\n",
      "Accuracy on hold-out set: 0.52945\n",
      "Epoch: 8\n",
      "Loss on hold-out set: 1.2767317113876342\n",
      "Accuracy on hold-out set: 0.5431\n",
      "Epoch: 9\n",
      "Loss on hold-out set: 1.2443235550880432\n",
      "Accuracy on hold-out set: 0.55445\n",
      "Epoch: 10\n",
      "Loss on hold-out set: 1.2333414156913758\n",
      "Accuracy on hold-out set: 0.56195\n",
      "Epoch: 11\n",
      "Loss on hold-out set: 1.2180069253921508\n",
      "Accuracy on hold-out set: 0.5665\n",
      "Epoch: 12\n",
      "Loss on hold-out set: 1.1896986115455628\n",
      "Accuracy on hold-out set: 0.5771\n",
      "Epoch: 13\n",
      "Loss on hold-out set: 1.1656923307418823\n",
      "Accuracy on hold-out set: 0.5892\n",
      "Epoch: 14\n",
      "Loss on hold-out set: 1.2057832782745361\n",
      "Accuracy on hold-out set: 0.5738\n",
      "Epoch: 15\n",
      "Loss on hold-out set: 1.1649536589622498\n",
      "Accuracy on hold-out set: 0.59155\n",
      "Epoch: 16\n",
      "Loss on hold-out set: 1.1833801189422608\n",
      "Accuracy on hold-out set: 0.5877\n",
      "Returned to Spot: Validation loss: 1.1833801189422608\n",
      "----------------------------------------------\n",
      "Epoch: 1on tuning: [###-------] 33.29% \n",
      "Loss on hold-out set: 1.8895241994857788\n",
      "Accuracy on hold-out set: 0.30635\n",
      "Epoch: 2\n",
      "Loss on hold-out set: 1.6365551820755004\n",
      "Accuracy on hold-out set: 0.39875\n",
      "Epoch: 3\n",
      "Loss on hold-out set: 1.540235265159607\n",
      "Accuracy on hold-out set: 0.4342\n",
      "Epoch: 4\n",
      "Loss on hold-out set: 1.4967138495445251\n",
      "Accuracy on hold-out set: 0.4559\n",
      "Epoch: 5\n",
      "Loss on hold-out set: 1.4232247363090516\n",
      "Accuracy on hold-out set: 0.4756\n",
      "Epoch: 6\n",
      "Loss on hold-out set: 1.371519140434265\n",
      "Accuracy on hold-out set: 0.49985\n",
      "Epoch: 7\n",
      "Loss on hold-out set: 1.3481714827537536\n",
      "Accuracy on hold-out set: 0.5071\n",
      "Epoch: 8\n",
      "Loss on hold-out set: 1.3245400238037108\n",
      "Accuracy on hold-out set: 0.52255\n",
      "Epoch: 9\n",
      "Loss on hold-out set: 1.2907172589302063\n",
      "Accuracy on hold-out set: 0.5336\n",
      "Epoch: 10\n",
      "Loss on hold-out set: 1.2603349704742433\n",
      "Accuracy on hold-out set: 0.5476\n",
      "Epoch: 11\n",
      "Loss on hold-out set: 1.260443814754486\n",
      "Accuracy on hold-out set: 0.54605\n",
      "Epoch: 12\n",
      "Loss on hold-out set: 1.236588345336914\n",
      "Accuracy on hold-out set: 0.55725\n",
      "Epoch: 13\n",
      "Loss on hold-out set: 1.2324892356872559\n",
      "Accuracy on hold-out set: 0.5663\n",
      "Epoch: 14\n",
      "Loss on hold-out set: 1.1850805751800537\n",
      "Accuracy on hold-out set: 0.5782\n",
      "Epoch: 15\n",
      "Loss on hold-out set: 1.1916588592529296\n",
      "Accuracy on hold-out set: 0.5765\n",
      "Epoch: 16\n",
      "Loss on hold-out set: 1.1849744527816772\n",
      "Accuracy on hold-out set: 0.5772\n",
      "Returned to Spot: Validation loss: 1.1849744527816772\n",
      "----------------------------------------------\n",
      "Epoch: 1on tuning: [####------] 43.83% \n",
      "Loss on hold-out set: 1.5529922372162341\n",
      "Accuracy on hold-out set: 0.4318\n",
      "Epoch: 2\n",
      "Loss on hold-out set: 1.421989746838808\n",
      "Accuracy on hold-out set: 0.48725\n",
      "Epoch: 3\n",
      "Loss on hold-out set: 1.3063659080892802\n",
      "Accuracy on hold-out set: 0.53145\n",
      "Epoch: 4\n",
      "Loss on hold-out set: 1.265267988743633\n",
      "Accuracy on hold-out set: 0.5515\n",
      "Epoch: 5\n",
      "Loss on hold-out set: 1.2618533965364098\n",
      "Accuracy on hold-out set: 0.57015\n",
      "Epoch: 6\n",
      "Loss on hold-out set: 1.1934642640096136\n",
      "Accuracy on hold-out set: 0.5916\n",
      "Epoch: 7\n",
      "Loss on hold-out set: 1.2543655144995078\n",
      "Accuracy on hold-out set: 0.5868\n",
      "Epoch: 8\n",
      "Loss on hold-out set: 1.1691271568133497\n",
      "Accuracy on hold-out set: 0.6076\n",
      "Epoch: 9\n",
      "Loss on hold-out set: 1.2522204138332047\n",
      "Accuracy on hold-out set: 0.60295\n",
      "Epoch: 10\n",
      "Loss on hold-out set: 1.3000917904641944\n",
      "Accuracy on hold-out set: 0.60715\n",
      "Early stopping at epoch 9\n",
      "Returned to Spot: Validation loss: 1.3000917904641944\n",
      "----------------------------------------------\n",
      "Epoch: 1on tuning: [#####-----] 52.30% \n",
      "Loss on hold-out set: 1.961191155052185\n",
      "Accuracy on hold-out set: 0.2668\n",
      "Epoch: 2\n",
      "Loss on hold-out set: 1.7020071830749512\n",
      "Accuracy on hold-out set: 0.3678\n",
      "Epoch: 3\n",
      "Loss on hold-out set: 1.6199704233169556\n",
      "Accuracy on hold-out set: 0.3992\n",
      "Epoch: 4\n",
      "Loss on hold-out set: 1.5562118099212647\n",
      "Accuracy on hold-out set: 0.4331\n",
      "Epoch: 5\n",
      "Loss on hold-out set: 1.4840281729698181\n",
      "Accuracy on hold-out set: 0.4621\n",
      "Epoch: 6\n",
      "Loss on hold-out set: 1.4240882943153381\n",
      "Accuracy on hold-out set: 0.48625\n",
      "Epoch: 7\n",
      "Loss on hold-out set: 1.4013976271629334\n",
      "Accuracy on hold-out set: 0.4957\n",
      "Epoch: 8\n",
      "Loss on hold-out set: 1.382088231563568\n",
      "Accuracy on hold-out set: 0.504\n",
      "Epoch: 9\n",
      "Loss on hold-out set: 1.347336493873596\n",
      "Accuracy on hold-out set: 0.5201\n",
      "Epoch: 10\n",
      "Loss on hold-out set: 1.3140373206138611\n",
      "Accuracy on hold-out set: 0.5303\n",
      "Epoch: 11\n",
      "Loss on hold-out set: 1.3136487449645997\n",
      "Accuracy on hold-out set: 0.533\n",
      "Epoch: 12\n",
      "Loss on hold-out set: 1.2755843609809876\n",
      "Accuracy on hold-out set: 0.54845\n",
      "Epoch: 13\n",
      "Loss on hold-out set: 1.2663446928024291\n",
      "Accuracy on hold-out set: 0.5508\n",
      "Epoch: 14\n",
      "Loss on hold-out set: 1.2373064818382262\n",
      "Accuracy on hold-out set: 0.56345\n",
      "Epoch: 15\n",
      "Loss on hold-out set: 1.22058931722641\n",
      "Accuracy on hold-out set: 0.5707\n",
      "Epoch: 16\n",
      "Loss on hold-out set: 1.2302417872428895\n",
      "Accuracy on hold-out set: 0.5678\n",
      "Returned to Spot: Validation loss: 1.2302417872428895\n",
      "----------------------------------------------\n",
      "Epoch: 1on tuning: [######----] 62.73% \n",
      "Loss on hold-out set: 1.5920126732110977\n",
      "Accuracy on hold-out set: 0.41715\n",
      "Epoch: 2\n",
      "Loss on hold-out set: 1.43839835832119\n",
      "Accuracy on hold-out set: 0.48155\n",
      "Epoch: 3\n",
      "Loss on hold-out set: 1.3337045916080474\n",
      "Accuracy on hold-out set: 0.528\n",
      "Epoch: 4\n",
      "Loss on hold-out set: 1.2825437538981437\n",
      "Accuracy on hold-out set: 0.54885\n",
      "Epoch: 5\n",
      "Loss on hold-out set: 1.2314091753005982\n",
      "Accuracy on hold-out set: 0.56525\n",
      "Epoch: 6\n",
      "Loss on hold-out set: 1.1813497343361379\n",
      "Accuracy on hold-out set: 0.58555\n",
      "Epoch: 7\n",
      "Loss on hold-out set: 1.1835524428606032\n",
      "Accuracy on hold-out set: 0.596\n",
      "Epoch: 8\n",
      "Loss on hold-out set: 1.142025077879429\n",
      "Accuracy on hold-out set: 0.6018\n",
      "Epoch: 9\n",
      "Loss on hold-out set: 1.2054292867124081\n",
      "Accuracy on hold-out set: 0.592\n",
      "Epoch: 10\n",
      "Loss on hold-out set: 1.1260411954969167\n",
      "Accuracy on hold-out set: 0.61475\n",
      "Epoch: 11\n",
      "Loss on hold-out set: 1.1810951839774848\n",
      "Accuracy on hold-out set: 0.6104\n",
      "Epoch: 12\n",
      "Loss on hold-out set: 1.1407964166373015\n",
      "Accuracy on hold-out set: 0.6152\n",
      "Early stopping at epoch 11\n",
      "Returned to Spot: Validation loss: 1.1407964166373015\n",
      "----------------------------------------------\n",
      "Epoch: 1on tuning: [#######---] 69.59% \n",
      "Loss on hold-out set: 1.7611560285568237\n",
      "Accuracy on hold-out set: 0.3482\n",
      "Epoch: 2\n",
      "Loss on hold-out set: 1.653071181678772\n",
      "Accuracy on hold-out set: 0.3935\n",
      "Epoch: 3\n",
      "Loss on hold-out set: 1.5496749383926391\n",
      "Accuracy on hold-out set: 0.4198\n",
      "Epoch: 4\n",
      "Loss on hold-out set: 1.457609991836548\n",
      "Accuracy on hold-out set: 0.4643\n",
      "Epoch: 5\n",
      "Loss on hold-out set: 1.413944269657135\n",
      "Accuracy on hold-out set: 0.4804\n",
      "Epoch: 6\n",
      "Loss on hold-out set: 1.345082958984375\n",
      "Accuracy on hold-out set: 0.5065\n",
      "Epoch: 7\n",
      "Loss on hold-out set: 1.3140026762962342\n",
      "Accuracy on hold-out set: 0.5167\n",
      "Epoch: 8\n",
      "Loss on hold-out set: 1.3270861457824707\n",
      "Accuracy on hold-out set: 0.5088\n",
      "Epoch: 9\n",
      "Loss on hold-out set: 1.3102391452789306\n",
      "Accuracy on hold-out set: 0.5198\n",
      "Epoch: 10\n",
      "Loss on hold-out set: 1.2958546934127808\n",
      "Accuracy on hold-out set: 0.5299\n",
      "Epoch: 11\n",
      "Loss on hold-out set: 1.251337338733673\n",
      "Accuracy on hold-out set: 0.54395\n",
      "Epoch: 12\n",
      "Loss on hold-out set: 1.250333172225952\n",
      "Accuracy on hold-out set: 0.54635\n",
      "Epoch: 13\n",
      "Loss on hold-out set: 1.224747631072998\n",
      "Accuracy on hold-out set: 0.5566\n",
      "Epoch: 14\n",
      "Loss on hold-out set: 1.2180653944015503\n",
      "Accuracy on hold-out set: 0.56175\n",
      "Epoch: 15\n",
      "Loss on hold-out set: 1.2174757608413695\n",
      "Accuracy on hold-out set: 0.5621\n",
      "Epoch: 16\n",
      "Loss on hold-out set: 1.2118580545425415\n",
      "Accuracy on hold-out set: 0.5691\n",
      "Returned to Spot: Validation loss: 1.2118580545425415\n",
      "----------------------------------------------\n",
      "Epoch: 1on tuning: [########--] 80.10% \n",
      "Loss on hold-out set: 1.6759718901634217\n",
      "Accuracy on hold-out set: 0.37825\n",
      "Epoch: 2\n",
      "Loss on hold-out set: 1.5181587886333465\n",
      "Accuracy on hold-out set: 0.44685\n",
      "Epoch: 3\n",
      "Loss on hold-out set: 1.4511737131595612\n",
      "Accuracy on hold-out set: 0.47555\n",
      "Epoch: 4\n",
      "Loss on hold-out set: 1.3545475339889526\n",
      "Accuracy on hold-out set: 0.5145\n",
      "Epoch: 5\n",
      "Loss on hold-out set: 1.3506105617046356\n",
      "Accuracy on hold-out set: 0.52225\n",
      "Epoch: 6\n",
      "Loss on hold-out set: 1.2566859090328217\n",
      "Accuracy on hold-out set: 0.5488\n",
      "Epoch: 7\n",
      "Loss on hold-out set: 1.229527222776413\n",
      "Accuracy on hold-out set: 0.5663\n",
      "Epoch: 8\n",
      "Loss on hold-out set: 1.2150641138315201\n",
      "Accuracy on hold-out set: 0.5675\n",
      "Epoch: 9\n",
      "Loss on hold-out set: 1.208549745988846\n",
      "Accuracy on hold-out set: 0.57225\n",
      "Epoch: 10\n",
      "Loss on hold-out set: 1.1926404361724854\n",
      "Accuracy on hold-out set: 0.58015\n",
      "Epoch: 11\n",
      "Loss on hold-out set: 1.1489065936803817\n",
      "Accuracy on hold-out set: 0.59465\n",
      "Epoch: 12\n",
      "Loss on hold-out set: 1.233829035949707\n",
      "Accuracy on hold-out set: 0.5686\n",
      "Epoch: 13\n",
      "Loss on hold-out set: 1.160774112844467\n",
      "Accuracy on hold-out set: 0.5918\n",
      "Early stopping at epoch 12\n",
      "Returned to Spot: Validation loss: 1.160774112844467\n",
      "----------------------------------------------\n",
      "Epoch: 1on tuning: [#########-] 90.26% \n",
      "Loss on hold-out set: 1.7272409017562866\n",
      "Accuracy on hold-out set: 0.36985\n",
      "Epoch: 2\n",
      "Loss on hold-out set: 1.5671690313339233\n",
      "Accuracy on hold-out set: 0.42835\n",
      "Epoch: 3\n",
      "Loss on hold-out set: 1.463942790031433\n",
      "Accuracy on hold-out set: 0.46615\n",
      "Epoch: 4\n",
      "Loss on hold-out set: 1.3954842856407166\n",
      "Accuracy on hold-out set: 0.4938\n",
      "Epoch: 5\n",
      "Loss on hold-out set: 1.355865106678009\n",
      "Accuracy on hold-out set: 0.51055\n",
      "Epoch: 6\n",
      "Loss on hold-out set: 1.3212208696365357\n",
      "Accuracy on hold-out set: 0.52585\n",
      "Epoch: 7\n",
      "Loss on hold-out set: 1.2744208820343017\n",
      "Accuracy on hold-out set: 0.53755\n",
      "Epoch: 8\n",
      "Loss on hold-out set: 1.250282580471039\n",
      "Accuracy on hold-out set: 0.5547\n",
      "Epoch: 9\n",
      "Loss on hold-out set: 1.2303389207839965\n",
      "Accuracy on hold-out set: 0.56715\n",
      "Epoch: 10\n",
      "Loss on hold-out set: 1.2109129725456238\n",
      "Accuracy on hold-out set: 0.5757\n",
      "Epoch: 11\n",
      "Loss on hold-out set: 1.1902311613082885\n",
      "Accuracy on hold-out set: 0.5826\n",
      "Epoch: 12\n",
      "Loss on hold-out set: 1.214291944503784\n",
      "Accuracy on hold-out set: 0.58045\n",
      "Epoch: 13\n",
      "Loss on hold-out set: 1.1653760972976686\n",
      "Accuracy on hold-out set: 0.59535\n",
      "Epoch: 14\n",
      "Loss on hold-out set: 1.1450188413619995\n",
      "Accuracy on hold-out set: 0.6013\n",
      "Epoch: 15\n",
      "Loss on hold-out set: 1.1839484583854676\n",
      "Accuracy on hold-out set: 0.59545\n",
      "Epoch: 16\n",
      "Loss on hold-out set: 1.1937286531448363\n",
      "Accuracy on hold-out set: 0.59335\n",
      "Early stopping at epoch 15\n",
      "Returned to Spot: Validation loss: 1.1937286531448363\n",
      "----------------------------------------------\n",
      "spotPython tuning: [##########] 100.00% Done...\n",
      "\r"
     ]
    },
    {
     "data": {
      "text/plain": [
       "<spotPython.spot.spot.Spot at 0x107ecb7f0>"
      ]
     },
     "execution_count": 20,
     "metadata": {},
     "output_type": "execute_result"
    }
   ],
   "source": [
    "spot_tuner = spot.Spot(fun=fun,\n",
    "                   lower = lower,\n",
    "                   upper = upper,\n",
    "                   fun_evals = inf,\n",
    "                   fun_repeats = 1,\n",
    "                   max_time = MAX_TIME,\n",
    "                   noise = False,\n",
    "                   tolerance_x = np.sqrt(np.spacing(1)),\n",
    "                   var_type = var_type,\n",
    "                   var_name = var_name,\n",
    "                   infill_criterion = \"y\",\n",
    "                   n_points = 1,\n",
    "                   seed=123,\n",
    "                   log_level = 50,\n",
    "                   show_models= False,\n",
    "                   show_progress= True,\n",
    "                   fun_control = fun_control,\n",
    "                   design_control={\"init_size\": INIT_SIZE,\n",
    "                                   \"repeats\": 1},\n",
    "                   surrogate_control={\"noise\": True,\n",
    "                                      \"cod_type\": \"norm\",\n",
    "                                      \"min_theta\": -4,\n",
    "                                      \"max_theta\": 3,\n",
    "                                      \"n_theta\": len(var_name),\n",
    "                                      \"model_optimizer\": differential_evolution,\n",
    "                                      \"model_fun_evals\": 10_000,\n",
    "                                      \"log_level\": 50\n",
    "                                      })\n",
    "spot_tuner.run(X_start=X_start)"
   ]
  },
  {
   "attachments": {},
   "cell_type": "markdown",
   "metadata": {},
   "source": [
    "### 4 Results"
   ]
  },
  {
   "cell_type": "code",
   "execution_count": 21,
   "metadata": {},
   "outputs": [],
   "source": [
    "SAVE = False\n",
    "LOAD = False\n",
    "\n",
    "if SAVE:\n",
    "    result_file_name = \"res_\" + experiment_name + \".pkl\"\n",
    "    with open(result_file_name, 'wb') as f:\n",
    "        pickle.dump(spot_tuner, f)\n",
    "\n",
    "if LOAD:\n",
    "    result_file_name = \"res_ch10-friedman-hpt-0_maans03_60min_20init_1K_2023-04-14_10-11-19.pkl\"\n",
    "    with open(result_file_name, 'rb') as f:\n",
    "        spot_tuner =  pickle.load(f)"
   ]
  },
  {
   "attachments": {},
   "cell_type": "markdown",
   "metadata": {},
   "source": [
    "* Show the Progress of the hyperparameter tuning:"
   ]
  },
  {
   "cell_type": "code",
   "execution_count": 22,
   "metadata": {},
   "outputs": [
    {
     "data": {
      "text/plain": [
       "array([1.20297048, 1.25395121, 1.24557465, 1.27257742, 1.213883  ,\n",
       "       1.14901585, 1.66829299, 1.31863862, 1.46547921, 1.38934165,\n",
       "       1.49830928, 2.23691175, 1.18338012, 1.18497445, 1.30009179,\n",
       "       1.23024179, 1.14079642, 1.21185805, 1.16077411, 1.19372865])"
      ]
     },
     "execution_count": 22,
     "metadata": {},
     "output_type": "execute_result"
    }
   ],
   "source": [
    "spot_tuner.y"
   ]
  },
  {
   "cell_type": "code",
   "execution_count": 23,
   "metadata": {},
   "outputs": [
    {
     "data": {
      "image/png": "[encoded data removed]",
      "text/plain": [
       "<Figure size 900x600 with 1 Axes>"
      ]
     },
     "metadata": {},
     "output_type": "display_data"
    }
   ],
   "source": [
    "spot_tuner.plot_progress(log_y=False, filename=\"../Figures.d/\" + experiment_name+\"_progress.pdf\")"
   ]
  },
  {
   "attachments": {},
   "cell_type": "markdown",
   "metadata": {},
   "source": [
    "* Print the Results"
   ]
  },
  {
   "cell_type": "code",
   "execution_count": 24,
   "metadata": {},
   "outputs": [
    {
     "name": "stdout",
     "output_type": "stream",
     "text": [
      "| name       | type   |   default |   lower |   upper |                 tuned | transform             |   importance | stars   |\n",
      "|------------|--------|-----------|---------|---------|-----------------------|-----------------------|--------------|---------|\n",
      "| l1         | int    |       5.0 |     2.0 |     9.0 |                   5.0 | transform_power_2_int |         0.00 |         |\n",
      "| l2         | int    |       5.0 |     2.0 |     9.0 |                   6.0 | transform_power_2_int |        59.72 | **      |\n",
      "| lr         | float  |     0.001 |   1e-05 |    0.01 | 0.0061938511645919245 | None                  |       100.00 | ***     |\n",
      "| batch_size | int    |       4.0 |     1.0 |     5.0 |                   3.0 | transform_power_2_int |         0.00 |         |\n",
      "| epochs     | int    |       3.0 |     3.0 |     4.0 |                   4.0 | transform_power_2_int |         0.00 |         |\n",
      "| k_folds    | int    |       2.0 |     0.0 |     0.0 |                   0.0 | None                  |         0.00 |         |\n",
      "| patience   | int    |       5.0 |     2.0 |     2.0 |                   2.0 | None                  |         0.00 |         |\n"
     ]
    }
   ],
   "source": [
    "print(gen_design_table(fun_control=fun_control, spot=spot_tuner))"
   ]
  },
  {
   "attachments": {},
   "cell_type": "markdown",
   "metadata": {},
   "source": [
    "## Show variable importance"
   ]
  },
  {
   "cell_type": "code",
   "execution_count": 25,
   "metadata": {},
   "outputs": [
    {
     "data": {
      "image/png": "[encoded data removed]",
      "text/plain": [
       "<Figure size 640x480 with 1 Axes>"
      ]
     },
     "metadata": {},
     "output_type": "display_data"
    }
   ],
   "source": [
    "spot_tuner.plot_importance(threshold=0.025, filename=\"../Figures.d/\" + experiment_name+\"_importance.pdf\")"
   ]
  },
  {
   "attachments": {},
   "cell_type": "markdown",
   "metadata": {},
   "source": [
    "## Get Default Hyperparameters"
   ]
  },
  {
   "cell_type": "code",
   "execution_count": 26,
   "metadata": {},
   "outputs": [
    {
     "data": {
      "text/plain": [
       "{'l1': 32,\n",
       " 'l2': 32,\n",
       " 'lr': 0.001,\n",
       " 'batch_size': 16,\n",
       " 'epochs': 8,\n",
       " 'k_folds': 2,\n",
       " 'patience': 5}"
      ]
     },
     "execution_count": 26,
     "metadata": {},
     "output_type": "execute_result"
    }
   ],
   "source": [
    "values_default = get_default_values(fun_control)\n",
    "values_default = transform_hyper_parameter_values(fun_control=fun_control, hyper_parameter_values=values_default)\n",
    "values_default"
   ]
  },
  {
   "cell_type": "code",
   "execution_count": 27,
   "metadata": {},
   "outputs": [
    {
     "data": {
      "text/plain": [
       "Net_CIFAR10(\n",
       "  (conv1): Conv2d(3, 6, kernel_size=(5, 5), stride=(1, 1))\n",
       "  (pool): MaxPool2d(kernel_size=2, stride=2, padding=0, dilation=1, ceil_mode=False)\n",
       "  (conv2): Conv2d(6, 16, kernel_size=(5, 5), stride=(1, 1))\n",
       "  (fc1): Linear(in_features=400, out_features=32, bias=True)\n",
       "  (fc2): Linear(in_features=32, out_features=32, bias=True)\n",
       "  (fc3): Linear(in_features=32, out_features=10, bias=True)\n",
       ")"
      ]
     },
     "execution_count": 27,
     "metadata": {},
     "output_type": "execute_result"
    }
   ],
   "source": [
    "model_default = fun_control[\"core_model\"](**values_default)\n",
    "model_default"
   ]
  },
  {
   "attachments": {},
   "cell_type": "markdown",
   "metadata": {},
   "source": [
    "## Get SPOT Results"
   ]
  },
  {
   "cell_type": "code",
   "execution_count": 28,
   "metadata": {},
   "outputs": [
    {
     "name": "stdout",
     "output_type": "stream",
     "text": [
      "[[5.         6.         0.00619385 3.         4.         0.\n",
      "  2.        ]]\n"
     ]
    }
   ],
   "source": [
    "X = spot_tuner.to_all_dim(spot_tuner.min_X.reshape(1,-1))\n",
    "print(X)"
   ]
  },
  {
   "cell_type": "code",
   "execution_count": 29,
   "metadata": {},
   "outputs": [
    {
     "data": {
      "text/plain": [
       "[{'l1': 32,\n",
       "  'l2': 64,\n",
       "  'lr': 0.0061938511645919245,\n",
       "  'batch_size': 8,\n",
       "  'epochs': 16,\n",
       "  'k_folds': 0,\n",
       "  'patience': 2}]"
      ]
     },
     "execution_count": 29,
     "metadata": {},
     "output_type": "execute_result"
    }
   ],
   "source": [
    "v_dict = assign_values(X, fun_control[\"var_name\"])\n",
    "return_conf_list_from_var_dict(var_dict=v_dict, fun_control=fun_control)"
   ]
  },
  {
   "cell_type": "code",
   "execution_count": 30,
   "metadata": {},
   "outputs": [
    {
     "data": {
      "text/plain": [
       "Net_CIFAR10(\n",
       "  (conv1): Conv2d(3, 6, kernel_size=(5, 5), stride=(1, 1))\n",
       "  (pool): MaxPool2d(kernel_size=2, stride=2, padding=0, dilation=1, ceil_mode=False)\n",
       "  (conv2): Conv2d(6, 16, kernel_size=(5, 5), stride=(1, 1))\n",
       "  (fc1): Linear(in_features=400, out_features=32, bias=True)\n",
       "  (fc2): Linear(in_features=32, out_features=64, bias=True)\n",
       "  (fc3): Linear(in_features=64, out_features=10, bias=True)\n",
       ")"
      ]
     },
     "execution_count": 30,
     "metadata": {},
     "output_type": "execute_result"
    }
   ],
   "source": [
    "model_spot = get_one_core_model_from_X(X, fun_control)\n",
    "model_spot"
   ]
  },
  {
   "attachments": {},
   "cell_type": "markdown",
   "metadata": {},
   "source": [
    "# Evaluations\n",
    "\n",
    "Two evaluations are performed: First, the test data is used only: the test data is used for training the model and for evaluating the model. Second, the train and test data are used: the model is trained with the train data and evaluated with the test data."
   ]
  },
  {
   "attachments": {},
   "cell_type": "markdown",
   "metadata": {},
   "source": [
    "## Test Set Accuracy"
   ]
  },
  {
   "attachments": {},
   "cell_type": "markdown",
   "metadata": {},
   "source": [
    "The tuned model architecture (i.e., the model without pre-trained weights) is used for training and testing the model with the test data."
   ]
  },
  {
   "cell_type": "code",
   "execution_count": 31,
   "metadata": {},
   "outputs": [
    {
     "data": {
      "text/plain": [
       "(10000, 32, 32, 3)"
      ]
     },
     "execution_count": 31,
     "metadata": {},
     "output_type": "execute_result"
    }
   ],
   "source": [
    "testset = fun_control[\"test\"]\n",
    "testset.data.shape"
   ]
  },
  {
   "attachments": {},
   "cell_type": "markdown",
   "metadata": {},
   "source": [
    "The default model is considered first."
   ]
  },
  {
   "cell_type": "code",
   "execution_count": 32,
   "metadata": {},
   "outputs": [
    {
     "name": "stdout",
     "output_type": "stream",
     "text": [
      "Epoch: 1\n",
      "Loss on hold-out set: 2.3050656270980836\n",
      "Accuracy on hold-out set: 0.09975\n",
      "Epoch: 2\n",
      "Loss on hold-out set: 2.2965300445556642\n",
      "Accuracy on hold-out set: 0.11775\n",
      "Epoch: 3\n",
      "Loss on hold-out set: 2.258738248825073\n",
      "Accuracy on hold-out set: 0.17375\n",
      "Epoch: 4\n",
      "Loss on hold-out set: 2.1725740132331848\n",
      "Accuracy on hold-out set: 0.22125\n",
      "Epoch: 5\n",
      "Loss on hold-out set: 2.1180462989807127\n",
      "Accuracy on hold-out set: 0.244\n",
      "Epoch: 6\n",
      "Loss on hold-out set: 2.0713137321472166\n",
      "Accuracy on hold-out set: 0.26125\n",
      "Epoch: 7\n",
      "Loss on hold-out set: 2.0193002371788027\n",
      "Accuracy on hold-out set: 0.2845\n",
      "Epoch: 8\n",
      "Loss on hold-out set: 1.9716885032653808\n",
      "Accuracy on hold-out set: 0.29625\n",
      "Returned to Spot: Validation loss: 1.9716885032653808\n",
      "----------------------------------------------\n"
     ]
    },
    {
     "data": {
      "text/plain": [
       "(1.9716885032653808, nan)"
      ]
     },
     "execution_count": 32,
     "metadata": {},
     "output_type": "execute_result"
    }
   ],
   "source": [
    "evaluate_hold_out(model_default, train_dataset = testset, shuffle=False, show_batch_interval=1_000)"
   ]
  },
  {
   "attachments": {},
   "cell_type": "markdown",
   "metadata": {},
   "source": [
    "Next, the tuned spot model is evaluated:"
   ]
  },
  {
   "cell_type": "code",
   "execution_count": 33,
   "metadata": {},
   "outputs": [
    {
     "name": "stdout",
     "output_type": "stream",
     "text": [
      "Epoch: 1\n",
      "Loss on hold-out set: 1.9347917926311493\n",
      "Accuracy on hold-out set: 0.295\n",
      "Epoch: 2\n",
      "Loss on hold-out set: 1.792825924396515\n",
      "Accuracy on hold-out set: 0.3525\n",
      "Epoch: 3\n",
      "Loss on hold-out set: 1.706874286532402\n",
      "Accuracy on hold-out set: 0.37875\n",
      "Epoch: 4\n",
      "Loss on hold-out set: 1.6501392506361008\n",
      "Accuracy on hold-out set: 0.398\n",
      "Epoch: 5\n",
      "Loss on hold-out set: 1.5971985567808151\n",
      "Accuracy on hold-out set: 0.42125\n",
      "Epoch: 6\n",
      "Loss on hold-out set: 1.5571587350368499\n",
      "Accuracy on hold-out set: 0.43675\n",
      "Epoch: 7\n",
      "Loss on hold-out set: 1.5368325031995773\n",
      "Accuracy on hold-out set: 0.448\n",
      "Epoch: 8\n",
      "Loss on hold-out set: 1.5133848513364792\n",
      "Accuracy on hold-out set: 0.4585\n",
      "Epoch: 9\n",
      "Loss on hold-out set: 1.5058273146152497\n",
      "Accuracy on hold-out set: 0.4635\n",
      "Epoch: 10\n",
      "Loss on hold-out set: 1.4967313861250877\n",
      "Accuracy on hold-out set: 0.47225\n",
      "Epoch: 11\n",
      "Loss on hold-out set: 1.4995892196893692\n",
      "Accuracy on hold-out set: 0.47525\n",
      "Epoch: 12\n",
      "Loss on hold-out set: 1.5011296877264977\n",
      "Accuracy on hold-out set: 0.48325\n",
      "Early stopping at epoch 11\n",
      "Returned to Spot: Validation loss: 1.5011296877264977\n",
      "----------------------------------------------\n"
     ]
    },
    {
     "data": {
      "text/plain": [
       "(1.5011296877264977, nan)"
      ]
     },
     "execution_count": 33,
     "metadata": {},
     "output_type": "execute_result"
    }
   ],
   "source": [
    "evaluate_hold_out(model_spot, train_dataset = testset, shuffle=False, show_batch_interval=1_000)"
   ]
  },
  {
   "attachments": {},
   "cell_type": "markdown",
   "metadata": {},
   "source": [
    "## Train on Train Data and Test on Test Data (Hold-Out)\n",
    "\n",
    "The final evaluation is performed with the train and test data. The model (without pre-trained weights) is trained with the train data and evaluated with the test data."
   ]
  },
  {
   "cell_type": "code",
   "execution_count": 34,
   "metadata": {},
   "outputs": [],
   "source": [
    "trainset = fun_control[\"train\"]"
   ]
  },
  {
   "cell_type": "code",
   "execution_count": 35,
   "metadata": {},
   "outputs": [
    {
     "name": "stdout",
     "output_type": "stream",
     "text": [
      "Epoch: 1\n",
      "Batch:  1000. Batch Size: 16. Training Loss (running): 1.949\n",
      "Batch:  2000. Batch Size: 16. Training Loss (running): 0.927\n",
      "Batch:  3000. Batch Size: 16. Training Loss (running): 0.602\n",
      "Loss on hold-out set: 1.7496077575683593\n",
      "Accuracy on hold-out set: 0.3541\n",
      "Epoch: 2\n",
      "Batch:  1000. Batch Size: 16. Training Loss (running): 1.745\n",
      "Batch:  2000. Batch Size: 16. Training Loss (running): 0.844\n",
      "Batch:  3000. Batch Size: 16. Training Loss (running): 0.558\n",
      "Loss on hold-out set: 1.6321999143600463\n",
      "Accuracy on hold-out set: 0.3948\n",
      "Epoch: 3\n",
      "Batch:  1000. Batch Size: 16. Training Loss (running): 1.640\n",
      "Batch:  2000. Batch Size: 16. Training Loss (running): 0.803\n",
      "Batch:  3000. Batch Size: 16. Training Loss (running): 0.536\n",
      "Loss on hold-out set: 1.5757465740203858\n",
      "Accuracy on hold-out set: 0.4182\n",
      "Epoch: 4\n",
      "Batch:  1000. Batch Size: 16. Training Loss (running): 1.582\n",
      "Batch:  2000. Batch Size: 16. Training Loss (running): 0.775\n",
      "Batch:  3000. Batch Size: 16. Training Loss (running): 0.520\n",
      "Loss on hold-out set: 1.5322948657035829\n",
      "Accuracy on hold-out set: 0.4392\n",
      "Epoch: 5\n",
      "Batch:  1000. Batch Size: 16. Training Loss (running): 1.537\n",
      "Batch:  2000. Batch Size: 16. Training Loss (running): 0.753\n",
      "Batch:  3000. Batch Size: 16. Training Loss (running): 0.507\n",
      "Loss on hold-out set: 1.4981100024223328\n",
      "Accuracy on hold-out set: 0.4534\n",
      "Epoch: 6\n",
      "Batch:  1000. Batch Size: 16. Training Loss (running): 1.502\n",
      "Batch:  2000. Batch Size: 16. Training Loss (running): 0.736\n",
      "Batch:  3000. Batch Size: 16. Training Loss (running): 0.496\n",
      "Loss on hold-out set: 1.4699868322372436\n",
      "Accuracy on hold-out set: 0.4683\n",
      "Epoch: 7\n",
      "Batch:  1000. Batch Size: 16. Training Loss (running): 1.474\n",
      "Batch:  2000. Batch Size: 16. Training Loss (running): 0.721\n",
      "Batch:  3000. Batch Size: 16. Training Loss (running): 0.487\n",
      "Loss on hold-out set: 1.4435616290092468\n",
      "Accuracy on hold-out set: 0.4779\n",
      "Epoch: 8\n",
      "Batch:  1000. Batch Size: 16. Training Loss (running): 1.448\n",
      "Batch:  2000. Batch Size: 16. Training Loss (running): 0.708\n",
      "Batch:  3000. Batch Size: 16. Training Loss (running): 0.479\n",
      "Loss on hold-out set: 1.4194196988105774\n",
      "Accuracy on hold-out set: 0.4882\n",
      "Returned to Spot: Validation loss: 1.4194196988105774\n",
      "----------------------------------------------\n"
     ]
    },
    {
     "data": {
      "text/plain": [
       "(1.4194196988105774, nan)"
      ]
     },
     "execution_count": 35,
     "metadata": {},
     "output_type": "execute_result"
    }
   ],
   "source": [
    "evaluate_hold_out(net=model_default, train_dataset=trainset, shuffle=False, test_dataset=testset, show_batch_interval=1_000) "
   ]
  },
  {
   "cell_type": "code",
   "execution_count": 36,
   "metadata": {},
   "outputs": [
    {
     "name": "stdout",
     "output_type": "stream",
     "text": [
      "Epoch: 1\n",
      "Batch:  1000. Batch Size: 8. Training Loss (running): 1.435\n",
      "Batch:  2000. Batch Size: 8. Training Loss (running): 0.708\n",
      "Batch:  3000. Batch Size: 8. Training Loss (running): 0.455\n",
      "Batch:  4000. Batch Size: 8. Training Loss (running): 0.330\n",
      "Batch:  5000. Batch Size: 8. Training Loss (running): 0.272\n",
      "Batch:  6000. Batch Size: 8. Training Loss (running): 0.221\n",
      "Loss on hold-out set: 1.263848412847519\n",
      "Accuracy on hold-out set: 0.5475\n",
      "Epoch: 2\n",
      "Batch:  1000. Batch Size: 8. Training Loss (running): 1.257\n",
      "Batch:  2000. Batch Size: 8. Training Loss (running): 0.639\n",
      "Batch:  3000. Batch Size: 8. Training Loss (running): 0.414\n",
      "Batch:  4000. Batch Size: 8. Training Loss (running): 0.303\n",
      "Batch:  5000. Batch Size: 8. Training Loss (running): 0.250\n",
      "Batch:  6000. Batch Size: 8. Training Loss (running): 0.204\n",
      "Loss on hold-out set: 1.2044066270589828\n",
      "Accuracy on hold-out set: 0.571\n",
      "Epoch: 3\n",
      "Batch:  1000. Batch Size: 8. Training Loss (running): 1.169\n",
      "Batch:  2000. Batch Size: 8. Training Loss (running): 0.597\n",
      "Batch:  3000. Batch Size: 8. Training Loss (running): 0.389\n",
      "Batch:  4000. Batch Size: 8. Training Loss (running): 0.287\n",
      "Batch:  5000. Batch Size: 8. Training Loss (running): 0.236\n",
      "Batch:  6000. Batch Size: 8. Training Loss (running): 0.192\n",
      "Loss on hold-out set: 1.1714361130833626\n",
      "Accuracy on hold-out set: 0.5909\n",
      "Epoch: 4\n",
      "Batch:  1000. Batch Size: 8. Training Loss (running): 1.112\n",
      "Batch:  2000. Batch Size: 8. Training Loss (running): 0.566\n",
      "Batch:  3000. Batch Size: 8. Training Loss (running): 0.371\n",
      "Batch:  4000. Batch Size: 8. Training Loss (running): 0.273\n",
      "Batch:  5000. Batch Size: 8. Training Loss (running): 0.226\n",
      "Batch:  6000. Batch Size: 8. Training Loss (running): 0.183\n",
      "Loss on hold-out set: 1.1705623172879218\n",
      "Accuracy on hold-out set: 0.5985\n",
      "Epoch: 5\n",
      "Batch:  1000. Batch Size: 8. Training Loss (running): 1.066\n",
      "Batch:  2000. Batch Size: 8. Training Loss (running): 0.542\n",
      "Batch:  3000. Batch Size: 8. Training Loss (running): 0.355\n",
      "Batch:  4000. Batch Size: 8. Training Loss (running): 0.263\n",
      "Batch:  5000. Batch Size: 8. Training Loss (running): 0.217\n",
      "Batch:  6000. Batch Size: 8. Training Loss (running): 0.176\n",
      "Loss on hold-out set: 1.1591973423719406\n",
      "Accuracy on hold-out set: 0.6045\n",
      "Epoch: 6\n",
      "Batch:  1000. Batch Size: 8. Training Loss (running): 1.030\n",
      "Batch:  2000. Batch Size: 8. Training Loss (running): 0.524\n",
      "Batch:  3000. Batch Size: 8. Training Loss (running): 0.345\n",
      "Batch:  4000. Batch Size: 8. Training Loss (running): 0.254\n",
      "Batch:  5000. Batch Size: 8. Training Loss (running): 0.211\n",
      "Batch:  6000. Batch Size: 8. Training Loss (running): 0.171\n",
      "Loss on hold-out set: 1.164271339905262\n",
      "Accuracy on hold-out set: 0.6057\n",
      "Epoch: 7\n",
      "Batch:  1000. Batch Size: 8. Training Loss (running): 1.004\n",
      "Batch:  2000. Batch Size: 8. Training Loss (running): 0.511\n",
      "Batch:  3000. Batch Size: 8. Training Loss (running): 0.336\n",
      "Batch:  4000. Batch Size: 8. Training Loss (running): 0.247\n",
      "Batch:  5000. Batch Size: 8. Training Loss (running): 0.205\n",
      "Batch:  6000. Batch Size: 8. Training Loss (running): 0.168\n",
      "Loss on hold-out set: 1.155211122763157\n",
      "Accuracy on hold-out set: 0.6131\n",
      "Epoch: 8\n",
      "Batch:  1000. Batch Size: 8. Training Loss (running): 0.978\n",
      "Batch:  2000. Batch Size: 8. Training Loss (running): 0.501\n",
      "Batch:  3000. Batch Size: 8. Training Loss (running): 0.326\n",
      "Batch:  4000. Batch Size: 8. Training Loss (running): 0.241\n",
      "Batch:  5000. Batch Size: 8. Training Loss (running): 0.200\n",
      "Batch:  6000. Batch Size: 8. Training Loss (running): 0.165\n",
      "Loss on hold-out set: 1.161519508910179\n",
      "Accuracy on hold-out set: 0.6148\n",
      "Epoch: 9\n",
      "Batch:  1000. Batch Size: 8. Training Loss (running): 0.959\n",
      "Batch:  2000. Batch Size: 8. Training Loss (running): 0.493\n",
      "Batch:  3000. Batch Size: 8. Training Loss (running): 0.320\n",
      "Batch:  4000. Batch Size: 8. Training Loss (running): 0.236\n",
      "Batch:  5000. Batch Size: 8. Training Loss (running): 0.197\n",
      "Batch:  6000. Batch Size: 8. Training Loss (running): 0.162\n",
      "Loss on hold-out set: 1.1619986588835716\n",
      "Accuracy on hold-out set: 0.6137\n",
      "Early stopping at epoch 8\n",
      "Returned to Spot: Validation loss: 1.1619986588835716\n",
      "----------------------------------------------\n"
     ]
    },
    {
     "data": {
      "text/plain": [
       "(1.1619986588835716, nan)"
      ]
     },
     "execution_count": 36,
     "metadata": {},
     "output_type": "execute_result"
    }
   ],
   "source": [
    "evaluate_hold_out(net=model_spot, train_dataset=trainset, shuffle=False, test_dataset=testset, show_batch_interval=1_000)"
   ]
  },
  {
   "attachments": {},
   "cell_type": "markdown",
   "metadata": {},
   "source": [
    "## Additional Evaluations\n",
    "\n",
    "The method `train_save` takes a model architecture without trained weights and trains this model with the train data. The train data is split into train and validation data. The validation data is used for early stopping. The trained model model_state_dict is saved.\n",
    "\n",
    " This evaluation is similar to the final Evaluation as in the Pytorch tutorial [Hyperparameter Tuning  with Ray Tune](https://pytorch.org/tutorials/beginner/hyperparameter_tuning_tutorial.html)."
   ]
  },
  {
   "cell_type": "code",
   "execution_count": 37,
   "metadata": {},
   "outputs": [
    {
     "data": {
      "text/plain": [
       "Net_CIFAR10(\n",
       "  (conv1): Conv2d(3, 6, kernel_size=(5, 5), stride=(1, 1))\n",
       "  (pool): MaxPool2d(kernel_size=2, stride=2, padding=0, dilation=1, ceil_mode=False)\n",
       "  (conv2): Conv2d(6, 16, kernel_size=(5, 5), stride=(1, 1))\n",
       "  (fc1): Linear(in_features=400, out_features=32, bias=True)\n",
       "  (fc2): Linear(in_features=32, out_features=64, bias=True)\n",
       "  (fc3): Linear(in_features=64, out_features=10, bias=True)\n",
       ")"
      ]
     },
     "execution_count": 37,
     "metadata": {},
     "output_type": "execute_result"
    }
   ],
   "source": [
    "model_spot"
   ]
  },
  {
   "cell_type": "code",
   "execution_count": 38,
   "metadata": {},
   "outputs": [
    {
     "name": "stdout",
     "output_type": "stream",
     "text": [
      "Epoch: 1\n",
      "Batch:  1000. Batch Size: 8. Training Loss (running): 0.968\n",
      "Batch:  2000. Batch Size: 8. Training Loss (running): 0.482\n",
      "Batch:  3000. Batch Size: 8. Training Loss (running): 0.316\n",
      "Loss on hold-out set: 0.9548656731963158\n",
      "Accuracy on hold-out set: 0.6684\n",
      "Epoch: 2\n",
      "Batch:  1000. Batch Size: 8. Training Loss (running): 0.897\n",
      "Batch:  2000. Batch Size: 8. Training Loss (running): 0.468\n",
      "Batch:  3000. Batch Size: 8. Training Loss (running): 0.318\n",
      "Loss on hold-out set: 0.9443260886669159\n",
      "Accuracy on hold-out set: 0.67345\n",
      "Epoch: 3\n",
      "Batch:  1000. Batch Size: 8. Training Loss (running): 0.883\n",
      "Batch:  2000. Batch Size: 8. Training Loss (running): 0.460\n",
      "Batch:  3000. Batch Size: 8. Training Loss (running): 0.306\n",
      "Loss on hold-out set: 0.9774431721895933\n",
      "Accuracy on hold-out set: 0.6632\n",
      "Epoch: 4\n",
      "Batch:  1000. Batch Size: 8. Training Loss (running): 0.869\n",
      "Batch:  2000. Batch Size: 8. Training Loss (running): 0.440\n",
      "Batch:  3000. Batch Size: 8. Training Loss (running): 0.297\n",
      "Loss on hold-out set: 0.9829420218974352\n",
      "Accuracy on hold-out set: 0.6617\n",
      "Early stopping at epoch 3\n",
      "Returned to Spot: Validation loss: 0.9829420218974352\n",
      "----------------------------------------------\n"
     ]
    },
    {
     "data": {
      "text/plain": [
       "(0.9829420218974352, nan)"
      ]
     },
     "execution_count": 38,
     "metadata": {},
     "output_type": "execute_result"
    }
   ],
   "source": [
    "from spotPython.torch.traintest import train_save\n",
    "train_save(net=model_spot, train_dataset=train, shuffle=True, device = \"cpu\", show_batch_interval=1_000, path=\"model_spot_trained.pt\", save_model=True)"
   ]
  },
  {
   "cell_type": "code",
   "execution_count": 39,
   "metadata": {},
   "outputs": [
    {
     "name": "stdout",
     "output_type": "stream",
     "text": [
      "Loss on hold-out set: 1.0764226425528527\n",
      "Accuracy on hold-out set: 0.6414\n",
      "Returned to Spot: Validation loss: 1.0764226425528527\n",
      "----------------------------------------------\n"
     ]
    },
    {
     "data": {
      "text/plain": [
       "(1.0764226425528527, nan)"
      ]
     },
     "execution_count": 39,
     "metadata": {},
     "output_type": "execute_result"
    }
   ],
   "source": [
    "from spotPython.torch.traintest import  test_saved\n",
    "test_saved(net=model_spot, test_dataset=test, shuffle=False, device = \"cpu\", show_batch_interval=1_000, path=\"model_spot_trained.pt\")"
   ]
  },
  {
   "attachments": {},
   "cell_type": "markdown",
   "metadata": {},
   "source": [
    "## Detailed Hyperparameter Plots"
   ]
  },
  {
   "attachments": {},
   "cell_type": "markdown",
   "metadata": {},
   "source": [
    "* For productive use, you might want to select:\n",
    "  * `min_z=min(spot_tuner.y)` and\n",
    "  * `max_z = max(spot_tuner.y)`\n",
    "* These settings are not so colorful as visualizations that use `None` for the ranges, but give better insights."
   ]
  },
  {
   "cell_type": "code",
   "execution_count": 40,
   "metadata": {},
   "outputs": [
    {
     "name": "stdout",
     "output_type": "stream",
     "text": [
      "l2:  59.72029949358751\n",
      "lr:  100.0\n"
     ]
    },
    {
     "data": {
      "image/png": "[encoded data removed]",
      "text/plain": [
       "<Figure size 900x600 with 3 Axes>"
      ]
     },
     "metadata": {},
     "output_type": "display_data"
    }
   ],
   "source": [
    "threshold = 0.025\n",
    "impo = spot_tuner.print_importance(threshold=threshold, print_screen=True)\n",
    "var_plots = [i for i, x in enumerate(impo) if x[1] > threshold]\n",
    "min_z = min(spot_tuner.y)\n",
    "max_z = max(spot_tuner.y)\n",
    "n = spot_tuner.k\n",
    "for i in var_plots:\n",
    "    for j in var_plots:\n",
    "        if j > i:\n",
    "            filename = \"../Figures.d/\" + experiment_name+\"_contour_\"+str(i)+\"_\"+str(j)+\".pdf\"\n",
    "            spot_tuner.plot_contour(i=i, j=j, min_z=min_z, max_z = max_z, filename=filename)"
   ]
  },
  {
   "attachments": {},
   "cell_type": "markdown",
   "metadata": {},
   "source": [
    "## Parallel Coordinates Plot"
   ]
  },
  {
   "cell_type": "code",
   "execution_count": 41,
   "metadata": {},
   "outputs": [
    {
     "data": {
      "application/vnd.plotly.v1+json": {
       "config": {
        "plotlyServerURL": "https://plot.ly"
       },
       "data": [
        {
         "dimensions": [
          {
           "label": "l1",
           "range": [
            2,
            9
           ],
           "values": [
            6,
            4,
            5,
            3,
            7,
            9,
            3,
            8,
            8,
            2,
            9,
            9,
            9,
            6,
            9,
            6,
            5,
            3,
            5,
            8
           ]
          },
          {
           "label": "l2",
           "range": [
            2,
            9
           ],
           "values": [
            4,
            7,
            3,
            6,
            5,
            4,
            3,
            6,
            9,
            8,
            2,
            4,
            6,
            5,
            5,
            4,
            6,
            6,
            5,
            5
           ]
          },
          {
           "label": "lr",
           "range": [
            0.00001,
            0.009967480630315018
           ],
           "values": [
            0.006782860487100161,
            0.001731702176600691,
            0.004181582645498685,
            0.0027753237195821882,
            0.005506708820470704,
            0.0032784849151449216,
            0.007784075269623262,
            0.008136643508869107,
            0.000771331506770012,
            0.009967480630315018,
            0.0039835822660117225,
            0.00001,
            0.004426673073853149,
            0.004229915018395894,
            0.003983775319861825,
            0.0038111055951224894,
            0.0061938511645919245,
            0.006225225281029511,
            0.0059171957568077025,
            0.0059410881687373745
           ]
          },
          {
           "label": "batch_size",
           "range": [
            1,
            5
           ],
           "values": [
            4,
            4,
            2,
            3,
            4,
            3,
            1,
            2,
            1,
            5,
            3,
            2,
            5,
            5,
            2,
            5,
            3,
            5,
            4,
            5
           ]
          },
          {
           "label": "epochs",
           "range": [
            3,
            4
           ],
           "values": [
            4,
            4,
            4,
            3,
            3,
            4,
            3,
            4,
            3,
            3,
            4,
            4,
            4,
            4,
            4,
            4,
            4,
            4,
            4,
            4
           ]
          }
         ],
         "line": {
          "cmax": 2.2369117472171784,
          "cmin": 1.1407964166373015,
          "color": [
           1.2029704758405686,
           1.2539512080192565,
           1.245574654397741,
           1.2725774227201938,
           1.2138829980134964,
           1.1490158455610275,
           1.6682929895512302,
           1.3186386157506145,
           1.4654792146733961,
           1.3893416478157044,
           1.4983092753350735,
           2.2369117472171784,
           1.1833801189422608,
           1.1849744527816772,
           1.3000917904641944,
           1.2302417872428895,
           1.1407964166373015,
           1.2118580545425415,
           1.160774112844467,
           1.1937286531448363
          ],
          "colorscale": [
           [
            0,
            "rgb(0,0,131)"
           ],
           [
            0.2,
            "rgb(0,60,170)"
           ],
           [
            0.4,
            "rgb(5,255,255)"
           ],
           [
            0.6,
            "rgb(255,255,0)"
           ],
           [
            0.8,
            "rgb(250,0,0)"
           ],
           [
            1,
            "rgb(128,0,0)"
           ]
          ],
          "showscale": true
         },
         "type": "parcoords"
        }
       ],
       "layout": {
        "template": {
         "data": {
          "bar": [
           {
            "error_x": {
             "color": "#2a3f5f"
            },
            "error_y": {
             "color": "#2a3f5f"
            },
            "marker": {
             "line": {
              "color": "#E5ECF6",
              "width": 0.5
             },
             "pattern": {
              "fillmode": "overlay",
              "size": 10,
              "solidity": 0.2
             }
            },
            "type": "bar"
           }
          ],
          "barpolar": [
           {
            "marker": {
             "line": {
              "color": "#E5ECF6",
              "width": 0.5
             },
             "pattern": {
              "fillmode": "overlay",
              "size": 10,
              "solidity": 0.2
             }
            },
            "type": "barpolar"
           }
          ],
          "carpet": [
           {
            "aaxis": {
             "endlinecolor": "#2a3f5f",
             "gridcolor": "white",
             "linecolor": "white",
             "minorgridcolor": "white",
             "startlinecolor": "#2a3f5f"
            },
            "baxis": {
             "endlinecolor": "#2a3f5f",
             "gridcolor": "white",
             "linecolor": "white",
             "minorgridcolor": "white",
             "startlinecolor": "#2a3f5f"
            },
            "type": "carpet"
           }
          ],
          "choropleth": [
           {
            "colorbar": {
             "outlinewidth": 0,
             "ticks": ""
            },
            "type": "choropleth"
           }
          ],
          "contour": [
           {
            "colorbar": {
             "outlinewidth": 0,
             "ticks": ""
            },
            "colorscale": [
             [
              0,
              "#0d0887"
             ],
             [
              0.1111111111111111,
              "#46039f"
             ],
             [
              0.2222222222222222,
              "#7201a8"
             ],
             [
              0.3333333333333333,
              "#9c179e"
             ],
             [
              0.4444444444444444,
              "#bd3786"
             ],
             [
              0.5555555555555556,
              "#d8576b"
             ],
             [
              0.6666666666666666,
              "#ed7953"
             ],
             [
              0.7777777777777778,
              "#fb9f3a"
             ],
             [
              0.8888888888888888,
              "#fdca26"
             ],
             [
              1,
              "#f0f921"
             ]
            ],
            "type": "contour"
           }
          ],
          "contourcarpet": [
           {
            "colorbar": {
             "outlinewidth": 0,
             "ticks": ""
            },
            "type": "contourcarpet"
           }
          ],
          "heatmap": [
           {
            "colorbar": {
             "outlinewidth": 0,
             "ticks": ""
            },
            "colorscale": [
             [
              0,
              "#0d0887"
             ],
             [
              0.1111111111111111,
              "#46039f"
             ],
             [
              0.2222222222222222,
              "#7201a8"
             ],
             [
              0.3333333333333333,
              "#9c179e"
             ],
             [
              0.4444444444444444,
              "#bd3786"
             ],
             [
              0.5555555555555556,
              "#d8576b"
             ],
             [
              0.6666666666666666,
              "#ed7953"
             ],
             [
              0.7777777777777778,
              "#fb9f3a"
             ],
             [
              0.8888888888888888,
              "#fdca26"
             ],
             [
              1,
              "#f0f921"
             ]
            ],
            "type": "heatmap"
           }
          ],
          "heatmapgl": [
           {
            "colorbar": {
             "outlinewidth": 0,
             "ticks": ""
            },
            "colorscale": [
             [
              0,
              "#0d0887"
             ],
             [
              0.1111111111111111,
              "#46039f"
             ],
             [
              0.2222222222222222,
              "#7201a8"
             ],
             [
              0.3333333333333333,
              "#9c179e"
             ],
             [
              0.4444444444444444,
              "#bd3786"
             ],
             [
              0.5555555555555556,
              "#d8576b"
             ],
             [
              0.6666666666666666,
              "#ed7953"
             ],
             [
              0.7777777777777778,
              "#fb9f3a"
             ],
             [
              0.8888888888888888,
              "#fdca26"
             ],
             [
              1,
              "#f0f921"
             ]
            ],
            "type": "heatmapgl"
           }
          ],
          "histogram": [
           {
            "marker": {
             "pattern": {
              "fillmode": "overlay",
              "size": 10,
              "solidity": 0.2
             }
            },
            "type": "histogram"
           }
          ],
          "histogram2d": [
           {
            "colorbar": {
             "outlinewidth": 0,
             "ticks": ""
            },
            "colorscale": [
             [
              0,
              "#0d0887"
             ],
             [
              0.1111111111111111,
              "#46039f"
             ],
             [
              0.2222222222222222,
              "#7201a8"
             ],
             [
              0.3333333333333333,
              "#9c179e"
             ],
             [
              0.4444444444444444,
              "#bd3786"
             ],
             [
              0.5555555555555556,
              "#d8576b"
             ],
             [
              0.6666666666666666,
              "#ed7953"
             ],
             [
              0.7777777777777778,
              "#fb9f3a"
             ],
             [
              0.8888888888888888,
              "#fdca26"
             ],
             [
              1,
              "#f0f921"
             ]
            ],
            "type": "histogram2d"
           }
          ],
          "histogram2dcontour": [
           {
            "colorbar": {
             "outlinewidth": 0,
             "ticks": ""
            },
            "colorscale": [
             [
              0,
              "#0d0887"
             ],
             [
              0.1111111111111111,
              "#46039f"
             ],
             [
              0.2222222222222222,
              "#7201a8"
             ],
             [
              0.3333333333333333,
              "#9c179e"
             ],
             [
              0.4444444444444444,
              "#bd3786"
             ],
             [
              0.5555555555555556,
              "#d8576b"
             ],
             [
              0.6666666666666666,
              "#ed7953"
             ],
             [
              0.7777777777777778,
              "#fb9f3a"
             ],
             [
              0.8888888888888888,
              "#fdca26"
             ],
             [
              1,
              "#f0f921"
             ]
            ],
            "type": "histogram2dcontour"
           }
          ],
          "mesh3d": [
           {
            "colorbar": {
             "outlinewidth": 0,
             "ticks": ""
            },
            "type": "mesh3d"
           }
          ],
          "parcoords": [
           {
            "line": {
             "colorbar": {
              "outlinewidth": 0,
              "ticks": ""
             }
            },
            "type": "parcoords"
           }
          ],
          "pie": [
           {
            "automargin": true,
            "type": "pie"
           }
          ],
          "scatter": [
           {
            "fillpattern": {
             "fillmode": "overlay",
             "size": 10,
             "solidity": 0.2
            },
            "type": "scatter"
           }
          ],
          "scatter3d": [
           {
            "line": {
             "colorbar": {
              "outlinewidth": 0,
              "ticks": ""
             }
            },
            "marker": {
             "colorbar": {
              "outlinewidth": 0,
              "ticks": ""
             }
            },
            "type": "scatter3d"
           }
          ],
          "scattercarpet": [
           {
            "marker": {
             "colorbar": {
              "outlinewidth": 0,
              "ticks": ""
             }
            },
            "type": "scattercarpet"
           }
          ],
          "scattergeo": [
           {
            "marker": {
             "colorbar": {
              "outlinewidth": 0,
              "ticks": ""
             }
            },
            "type": "scattergeo"
           }
          ],
          "scattergl": [
           {
            "marker": {
             "colorbar": {
              "outlinewidth": 0,
              "ticks": ""
             }
            },
            "type": "scattergl"
           }
          ],
          "scattermapbox": [
           {
            "marker": {
             "colorbar": {
              "outlinewidth": 0,
              "ticks": ""
             }
            },
            "type": "scattermapbox"
           }
          ],
          "scatterpolar": [
           {
            "marker": {
             "colorbar": {
              "outlinewidth": 0,
              "ticks": ""
             }
            },
            "type": "scatterpolar"
           }
          ],
          "scatterpolargl": [
           {
            "marker": {
             "colorbar": {
              "outlinewidth": 0,
              "ticks": ""
             }
            },
            "type": "scatterpolargl"
           }
          ],
          "scatterternary": [
           {
            "marker": {
             "colorbar": {
              "outlinewidth": 0,
              "ticks": ""
             }
            },
            "type": "scatterternary"
           }
          ],
          "surface": [
           {
            "colorbar": {
             "outlinewidth": 0,
             "ticks": ""
            },
            "colorscale": [
             [
              0,
              "#0d0887"
             ],
             [
              0.1111111111111111,
              "#46039f"
             ],
             [
              0.2222222222222222,
              "#7201a8"
             ],
             [
              0.3333333333333333,
              "#9c179e"
             ],
             [
              0.4444444444444444,
              "#bd3786"
             ],
             [
              0.5555555555555556,
              "#d8576b"
             ],
             [
              0.6666666666666666,
              "#ed7953"
             ],
             [
              0.7777777777777778,
              "#fb9f3a"
             ],
             [
              0.8888888888888888,
              "#fdca26"
             ],
             [
              1,
              "#f0f921"
             ]
            ],
            "type": "surface"
           }
          ],
          "table": [
           {
            "cells": {
             "fill": {
              "color": "#EBF0F8"
             },
             "line": {
              "color": "white"
             }
            },
            "header": {
             "fill": {
              "color": "#C8D4E3"
             },
             "line": {
              "color": "white"
             }
            },
            "type": "table"
           }
          ]
         },
         "layout": {
          "annotationdefaults": {
           "arrowcolor": "#2a3f5f",
           "arrowhead": 0,
           "arrowwidth": 1
          },
          "autotypenumbers": "strict",
          "coloraxis": {
           "colorbar": {
            "outlinewidth": 0,
            "ticks": ""
           }
          },
          "colorscale": {
           "diverging": [
            [
             0,
             "#8e0152"
            ],
            [
             0.1,
             "#c51b7d"
            ],
            [
             0.2,
             "#de77ae"
            ],
            [
             0.3,
             "#f1b6da"
            ],
            [
             0.4,
             "#fde0ef"
            ],
            [
             0.5,
             "#f7f7f7"
            ],
            [
             0.6,
             "#e6f5d0"
            ],
            [
             0.7,
             "#b8e186"
            ],
            [
             0.8,
             "#7fbc41"
            ],
            [
             0.9,
             "#4d9221"
            ],
            [
             1,
             "#276419"
            ]
           ],
           "sequential": [
            [
             0,
             "#0d0887"
            ],
            [
             0.1111111111111111,
             "#46039f"
            ],
            [
             0.2222222222222222,
             "#7201a8"
            ],
            [
             0.3333333333333333,
             "#9c179e"
            ],
            [
             0.4444444444444444,
             "#bd3786"
            ],
            [
             0.5555555555555556,
             "#d8576b"
            ],
            [
             0.6666666666666666,
             "#ed7953"
            ],
            [
             0.7777777777777778,
             "#fb9f3a"
            ],
            [
             0.8888888888888888,
             "#fdca26"
            ],
            [
             1,
             "#f0f921"
            ]
           ],
           "sequentialminus": [
            [
             0,
             "#0d0887"
            ],
            [
             0.1111111111111111,
             "#46039f"
            ],
            [
             0.2222222222222222,
             "#7201a8"
            ],
            [
             0.3333333333333333,
             "#9c179e"
            ],
            [
             0.4444444444444444,
             "#bd3786"
            ],
            [
             0.5555555555555556,
             "#d8576b"
            ],
            [
             0.6666666666666666,
             "#ed7953"
            ],
            [
             0.7777777777777778,
             "#fb9f3a"
            ],
            [
             0.8888888888888888,
             "#fdca26"
            ],
            [
             1,
             "#f0f921"
            ]
           ]
          },
          "colorway": [
           "#636efa",
           "#EF553B",
           "#00cc96",
           "#ab63fa",
           "#FFA15A",
           "#19d3f3",
           "#FF6692",
           "#B6E880",
           "#FF97FF",
           "#FECB52"
          ],
          "font": {
           "color": "#2a3f5f"
          },
          "geo": {
           "bgcolor": "white",
           "lakecolor": "white",
           "landcolor": "#E5ECF6",
           "showlakes": true,
           "showland": true,
           "subunitcolor": "white"
          },
          "hoverlabel": {
           "align": "left"
          },
          "hovermode": "closest",
          "mapbox": {
           "style": "light"
          },
          "paper_bgcolor": "white",
          "plot_bgcolor": "#E5ECF6",
          "polar": {
           "angularaxis": {
            "gridcolor": "white",
            "linecolor": "white",
            "ticks": ""
           },
           "bgcolor": "#E5ECF6",
           "radialaxis": {
            "gridcolor": "white",
            "linecolor": "white",
            "ticks": ""
           }
          },
          "scene": {
           "xaxis": {
            "backgroundcolor": "#E5ECF6",
            "gridcolor": "white",
            "gridwidth": 2,
            "linecolor": "white",
            "showbackground": true,
            "ticks": "",
            "zerolinecolor": "white"
           },
           "yaxis": {
            "backgroundcolor": "#E5ECF6",
            "gridcolor": "white",
            "gridwidth": 2,
            "linecolor": "white",
            "showbackground": true,
            "ticks": "",
            "zerolinecolor": "white"
           },
           "zaxis": {
            "backgroundcolor": "#E5ECF6",
            "gridcolor": "white",
            "gridwidth": 2,
            "linecolor": "white",
            "showbackground": true,
            "ticks": "",
            "zerolinecolor": "white"
           }
          },
          "shapedefaults": {
           "line": {
            "color": "#2a3f5f"
           }
          },
          "ternary": {
           "aaxis": {
            "gridcolor": "white",
            "linecolor": "white",
            "ticks": ""
           },
           "baxis": {
            "gridcolor": "white",
            "linecolor": "white",
            "ticks": ""
           },
           "bgcolor": "#E5ECF6",
           "caxis": {
            "gridcolor": "white",
            "linecolor": "white",
            "ticks": ""
           }
          },
          "title": {
           "x": 0.05
          },
          "xaxis": {
           "automargin": true,
           "gridcolor": "white",
           "linecolor": "white",
           "ticks": "",
           "title": {
            "standoff": 15
           },
           "zerolinecolor": "white",
           "zerolinewidth": 2
          },
          "yaxis": {
           "automargin": true,
           "gridcolor": "white",
           "linecolor": "white",
           "ticks": "",
           "title": {
            "standoff": 15
           },
           "zerolinecolor": "white",
           "zerolinewidth": 2
          }
         }
        }
       }
      }
     },
     "metadata": {},
     "output_type": "display_data"
    }
   ],
   "source": [
    "spot_tuner.parallel_plot()"
   ]
  },
  {
   "attachments": {},
   "cell_type": "markdown",
   "metadata": {},
   "source": [
    "## Plot all Combinations of Hyperparameters\n",
    "\n",
    "* Warning: this may take a while."
   ]
  },
  {
   "cell_type": "code",
   "execution_count": 42,
   "metadata": {},
   "outputs": [],
   "source": [
    "PLOT_ALL = False\n",
    "if PLOT_ALL:\n",
    "    n = spot_tuner.k\n",
    "    for i in range(n-1):\n",
    "        for j in range(i+1, n):\n",
    "            spot_tuner.plot_contour(i=i, j=j, min_z=min_z, max_z = max_z)"
   ]
  }
 ],
 "metadata": {
  "kernelspec": {
   "display_name": "spotCondaEnv",
   "language": "python",
   "name": "python3"
  },
  "language_info": {
   "codemirror_mode": {
    "name": "ipython",
    "version": 3
   },
   "file_extension": ".py",
   "mimetype": "text/x-python",
   "name": "python",
   "nbconvert_exporter": "python",
   "pygments_lexer": "ipython3",
   "version": "3.10.10"
  },
  "vscode": {
   "interpreter": {
    "hash": "81c77de872def749acd68d9955e19f0df6803301f4c1f66c3444af66334112ae"
   }
  }
 },
 "nbformat": 4,
 "nbformat_minor": 4
}
