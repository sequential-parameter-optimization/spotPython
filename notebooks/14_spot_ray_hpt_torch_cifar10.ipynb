{
  "cells": [
    {
      "cell_type": "raw",
      "metadata": {},
      "source": [
        "---\n",
        "title: PyTorch Hyperparameter Tuning --- A Tutorial for spotPython\n",
        "subtitle: Version 0.2.0\n",
        "format:\n",
        "  pdf:\n",
        "    template: bart23e_template.tex\n",
        "    fig-width: 7\n",
        "    fig-height: 5\n",
        "    keep-tex: true\n",
        "    linenumbers: false\n",
        "    doublespacing: false\n",
        "    number-sections: true\n",
        "    runninghead: PyTorch Hyperparameter Tuning With spotPython\n",
        "  html:\n",
        "    fig-width: 7\n",
        "    fig-height: 5\n",
        "author:\n",
        "  - name: Thomas Bartz-Beielstein\n",
        "    affiliations:\n",
        "      - name: SpotSeven Lab\n",
        "      - city: Gummersbach\n",
        "        country: Germany\n",
        "        postal-code: 51643\n",
        "    orcid: 0000-0002-5938-5158\n",
        "    email: bartzbeielstein@gmail.com\n",
        "    url: 'https://www.spotseven.de'\n",
        "abstract: |\n",
        "  The goal of hyperparameter tuning (or hyperparameter optimization) is to optimize the hyperparameters to improve the performance of the machine or deep learning model. spotPython (\"Sequential Parameter Optimization Toolbox in Python\") is the Python version of the well-known hyperparameter tuner SPOT, which has been developed in the R programming environment for statistical analysis for over a decade. PyTorch is an optimized tensor library for deep learning using GPUs and CPUs. This document shows how to integrate the spotPython hyperparameter tuner into the PyTorch training workflow.  As an example, the results of the CIFAR10 image classifier are used. In addition to an introduction to spotPython, this tutorial also includes a brief comparison with Ray Tune, a Python library for running experiments and tuning hyperparameters. This comparison is based on the PyTorch hyperparameter tuning tutorial. The advantages and disadvantages of both approaches are discussed. We show that spotPython achieves similar or even better results while being more flexible and transparent than Ray Tune.\n",
        "keywords:\n",
        "  - hyperparameter tuning\n",
        "  - hyperparameter optimization\n",
        "  - spotPython\n",
        "  - PyTorch\n",
        "  - CIFAR10\n",
        "  - optimization\n",
        "  - deep learning\n",
        "  - machine learning\n",
        "bibliography: bart23e.bib\n",
        "execute:\n",
        "  cache: false\n",
        "  eval: false\n",
        "  echo: true\n",
        "  warning: false\n",
        "---"
      ]
    },
    {
      "attachments": {},
      "cell_type": "markdown",
      "metadata": {},
      "source": [
        "# Hyperparameter Tuning {#sec-hyperparameter-tuning}\n",
        "\n",
        "Hyperparameter tuning is an important, but often difficult and computationally intensive task.\n",
        "Changing the architecture of a neural network or the learning rate of an optimizer can have a significant impact on the performance.\n",
        "\n",
        "The goal of hyperparameter tuning is to optimize the hyperparameters in a way that improves the performance of the machine learning or deep learning model.\n",
        "The simplest, but also most computationally expensive, approach uses manual search (or trial-and-error [@Meignan:2015vp]).\n",
        "Commonly encountered is simple random search, i.e., random and repeated selection of hyperparameters for evaluation, and lattice search (\"grid search\").\n",
        "In addition, methods that perform directed search  and other model-free algorithms, i.e., algorithms that do not explicitly rely on a model, e.g., evolution strategies [@Bart13j] or pattern search [@Torczon00] play an important role.\n",
        "Also, \"hyperband\", i.e., a multi-armed bandit strategy that dynamically allocates resources to a set of random configurations and uses successive bisections to stop configurations with poor performance [@Li16a], is very common in hyperparameter tuning.\n",
        "The most sophisticated and efficient approaches are the Bayesian optimization and surrogate model based optimization methods, which are based on the optimization of cost functions determined by simulations or experiments.\n",
        "\n",
        "We consider below a surrogate model based optimization-based hyperparameter tuning approach based on the Python version of the SPOT (\"Sequential Parameter Optimization Toolbox\") [@BLP05], which is suitable for situations where only limited resources are available. This may be due to limited availability and cost of hardware, or due to the fact that confidential data may only be processed locally, e.g., due to legal requirements.\n",
        "Furthermore, in our approach, the understanding of algorithms is seen as a key tool for enabling transparency and explainability. This can be enabled, for example, by quantifying the contribution of machine learning and deep learning components (nodes, layers, split decisions, activation functions, etc.).\n",
        "Understanding the importance of hyperparameters and the interactions between multiple hyperparameters plays a major role in the interpretability and explainability of machine learning models.\n",
        "SPOT provides statistical tools for understanding hyperparameters and their interactions. Last but not least, it should be noted that the SPOT software code is available in the open source `spotPython` package on github^[[https://github.com/sequential-parameter-optimization](https://github.com/sequential-parameter-optimization)], allowing replicability of the results.\n",
        "This tutorial descries the Python variant of SPOT, which is called `spotPython`. The R implementation is described in @bart21i.\n",
        "SPOT is an established open source software that has been maintained for more than 15 years [@BLP05] [@bart21i].\n",
        "\n",
        "This tutorial is structured as follows. The concept of the hyperparameter tuning software `spotPython` is described in @sec-spot. @sec-hyperparameter-tuning-for-pytorch describes the integration of `spotPython` into the ``PyTorch`` training workflow and presents the results. Finally, @sec-summary presents a summary and an outlook.\n",
        "\n",
        "::: {.callout-note}\n",
        "The corresponding ` .ipynb` notebook [@bart23e] is updated regularly and reflects updates and changes in the `spotPython` package.\n",
        "It can be downloaded from [https://github.com/sequential-parameter-optimization/spotPython/blob/main/notebooks/14_spot_ray_hpt_torch_cifar10.ipynb](https://github.com/sequential-parameter-optimization/spotPython/blob/main/notebooks/14_spot_ray_hpt_torch_cifar10.ipynb).\n",
        ":::\n",
        "\n",
        "\n",
        "# The Hyperparameter Tuning Software SPOT {#sec-spot}\n",
        "\n",
        "Surrogate model based optimization methods are common approaches in simulation and optimization. SPOT was developed because there is a great need for sound statistical analysis of simulation and optimization algorithms. SPOT includes methods for tuning based on classical regression and analysis of variance techniques.\n",
        "It presents tree-based models such as classification and regression trees and random forests as well as Bayesian optimization (Gaussian process models, also known as Kriging). Combinations of different meta-modeling approaches are possible. SPOT comes with a sophisticated surrogate model based optimization method, that can handle discrete and continuous inputs. Furthermore, any model implemented in `scikit-learn` can be used out-of-the-box as a surrogate in `spotPython`.\n",
        "\n",
        "SPOT implements key techniques such as exploratory fitness landscape analysis and sensitivity analysis. It can be used to understand the performance of various algorithms, while simultaneously giving insights into their algorithmic behavior.\n",
        "In addition, SPOT can be used as an optimizer and for automatic and interactive tuning. Details on SPOT and its use in practice are given by @bart21i.\n",
        "\n",
        "A typical hyperparameter tuning process with `spotPython` consists of the following steps:\n",
        "\n",
        "1. Loading the data (training and test datasets), see @sec-data-loading.\n",
        "2. Specification of the preprocessing model, see @sec-specification-of-preprocessing-model. This model is called `prep_model` (\"preparation\" or pre-processing).\n",
        "The information required for the hyperparameter tuning is stored in the dictionary `fun_control`. Thus, the information needed for the execution of the hyperparameter tuning is available in a readable form.\n",
        "3. Selection of the machine learning or deep learning model to be tuned, see @sec-selection-of-the-algorithm. This is called the `core_model`. Once the `core_model` is defined, then the associated hyperparameters are stored in the `fun_control` dictionary. First, the hyperparameters of the `core_model` are initialized with the default values of the `core_model`.\n",
        "As default values we use the default values contained in the `spotPython` package for the algorithms of the `torch` package.\n",
        "4. Modification of the default values for the hyperparameters used in `core_model`, see @sec-modification-of-default-values. This step is optional.\n",
        "   1. numeric parameters are modified by changing the bounds.\n",
        "   2. categorical parameters are modified by changing the categories (\"levels\").\n",
        "5. Selection of target function (loss function) for the optimizer, see @sec-selection-of-target-function.\n",
        "6. Calling SPOT with the corresponding parameters, see @sec-call-the-hyperparameter-tuner. The results are stored in a dictionary and are available for further analysis.\n",
        "7. Presentation, visualization and interpretation of the results, see @sec-results-tuning.\n",
        "\n",
        "# Hyperparameter Tuning for PyTorch With `spotPython` {#sec-hyperparameter-tuning-for-pytorch}\n",
        "\n",
        "In this tutorial, we will show how `spotPython` can be integrated into the `PyTorch`\n",
        "training workflow. It is based on the tutorial \"Hyperparameter Tuning with Ray Tune\" from the `PyTorch` documentation [@pyto23a], which is an extension of the tutorial \"Training a Classifier\" [@pyto23b] for training a CIFAR10 image classifier.\n",
        "\n",
        "This document refers to the following software versions:\n",
        "\n",
        "- ``python``: 3.10.10\n",
        "- ``torch``: 2.0.1\n",
        "- ``torchvision``: 0.15.0\n",
        "- ``spotPython``: 0.2.0\n",
        "`spotPython` can be installed via pip^[Alternatively, the source code can be downloaded from gitHub: [https://github.com/sequential-parameter-optimization/spotPython](https://github.com/sequential-parameter-optimization/spotPython).].\n",
        "\n",
        "```{raw}\n",
        "!pip install spotPython\n",
        "```\n",
        "\n",
        "Results that refer to the `Ray Tune` package are taken from [https://PyTorch.org/tutorials/beginner/hyperparameter_tuning_tutorial.html](https://PyTorch.org/tutorials/beginner/hyperparameter_tuning_tutorial.html)^[We were not able to install `Ray Tune` on our system. Therefore, we used the results from the `PyTorch` tutorial.].\n",
        "\n",
        "## Setup {#sec-setup}\n",
        "\n",
        "Before we consider the detailed experimental setup, we select the parameters that affect run time, initial design size and the device that is used."
      ]
    },
    {
      "cell_type": "code",
      "execution_count": null,
      "metadata": {
        "vscode": {
          "languageId": "python"
        }
      },
      "outputs": [],
      "source": [
        "MAX_TIME = 60\n",
        "INIT_SIZE = 20\n",
        "DEVICE = \"cpu\" # \"cuda:0\""
      ]
    },
    {
      "cell_type": "code",
      "execution_count": null,
      "metadata": {
        "vscode": {
          "languageId": "python"
        }
      },
      "outputs": [],
      "source": [
        "#| echo: false\n",
        "import os\n",
        "import copy\n",
        "import pickle\n",
        "import socket\n",
        "from datetime import datetime\n",
        "from dateutil.tz import tzlocal\n",
        "start_time = datetime.now(tzlocal())\n",
        "HOSTNAME = socket.gethostname().split(\".\")[0]\n",
        "experiment_name = '14-torch' + \"_\" + HOSTNAME + \"_\" + str(MAX_TIME) + \"min_\" + str(INIT_SIZE) + \"init_\" + str(start_time).split(\".\", 1)[0].replace(' ', '_')\n",
        "experiment_name = experiment_name.replace(':', '-')\n",
        "print(experiment_name)\n",
        "if not os.path.exists('./figures'):\n",
        "    os.makedirs('./figures')"
      ]
    },
    {
      "cell_type": "code",
      "execution_count": null,
      "metadata": {
        "vscode": {
          "languageId": "python"
        }
      },
      "outputs": [],
      "source": [
        "#| echo: false\n",
        "from tabulate import tabulate\n",
        "import warnings\n",
        "import json\n",
        "import numpy as np\n",
        "from math import inf\n",
        "import pandas as pd\n",
        "\n",
        "from scipy.optimize import differential_evolution\n",
        "\n",
        "import torch\n",
        "import torchmetrics\n",
        "from torch import nn\n",
        "from torch.nn import CrossEntropyLoss\n",
        "from torch.utils.data import DataLoader\n",
        "import torch.nn.functional as F\n",
        "import torch.optim as optim\n",
        "from torch.utils.data import random_split\n",
        "import torchvision\n",
        "from torchvision import datasets\n",
        "import torchvision.transforms as transforms\n",
        "from torchvision.transforms import ToTensor\n",
        "\n",
        "from spotPython.spot import spot\n",
        "from spotPython.hyperparameters.values import (\n",
        "    add_core_model_to_fun_control,\n",
        "    assign_values,\n",
        "    get_bound_values,\n",
        "    get_default_values,\n",
        "    get_default_hyperparameters_as_array,\n",
        "    get_var_name,\n",
        "    get_var_type,\n",
        "    modify_hyper_parameter_levels,\n",
        "    modify_hyper_parameter_bounds,\n",
        "    return_conf_list_from_var_dict,\n",
        "    get_one_core_model_from_X,\n",
        ")\n",
        "from spotPython.torch.traintest import (\n",
        "    evaluate_cv,\n",
        "    evaluate_hold_out,\n",
        "    train_tuned,\n",
        "    test_tuned,\n",
        "    )\n",
        "from spotPython.utils.eda import gen_design_table\n",
        "from spotPython.utils.transform import transform_hyper_parameter_values\n",
        "from spotPython.utils.init import fun_control_init\n",
        "\n",
        "from spotPython.data.torch_hyper_dict import TorchHyperDict\n",
        "from spotPython.fun.hypertorch import HyperTorch\n",
        "from spotPython.torch.netcifar10 import Net_CIFAR10\n",
        "\n",
        "warnings.filterwarnings(\"ignore\")"
      ]
    },
    {
      "attachments": {},
      "cell_type": "markdown",
      "metadata": {},
      "source": [
        "## Initialization of the `fun_control` Dictionary\n",
        "\n",
        "`spotPython` uses a Python dictionary for storing the information required for the hyperparameter tuning process. This dictionary is called `fun_control` and is initialized with the function `fun_control_init`. The function `fun_control_init` returns a skeleton  dictionary. The dictionary is filled with the required information for the hyperparameter tuning process. It stores the hyperparameter tuning settings, e.g., the deep learning network architecture that should be tuned, the classification (or regression) problem, and the data that is used for the tuning.\n",
        "The dictionary is used as an input for the SPOT function.\n"
      ]
    },
    {
      "cell_type": "code",
      "execution_count": null,
      "metadata": {
        "vscode": {
          "languageId": "python"
        }
      },
      "outputs": [],
      "source": [
        "\n",
        "fun_control = fun_control_init()"
      ]
    },
    {
      "attachments": {},
      "cell_type": "markdown",
      "metadata": {},
      "source": [
        "## Data Loading {#sec-data-loading}\n",
        "\n",
        "The data loading process is implemented in the same manner as described in the Section \"Data loaders\" in @pyto23a.\n",
        "The data loaders are wrapped into the function `load_data`. A global data directory is used, which allows sharing the data directory between different trials."
      ]
    },
    {
      "cell_type": "code",
      "execution_count": null,
      "metadata": {
        "vscode": {
          "languageId": "python"
        }
      },
      "outputs": [],
      "source": [
        "\n",
        "def load_data(data_dir=\"./data\"):\n",
        "    transform = transforms.Compose([\n",
        "        transforms.ToTensor(),\n",
        "        transforms.Normalize((0.5, 0.5, 0.5), (0.5, 0.5, 0.5))\n",
        "    ])\n",
        "\n",
        "    trainset = torchvision.datasets.CIFAR10(\n",
        "        root=data_dir, train=True, download=True, transform=transform)\n",
        "\n",
        "    testset = torchvision.datasets.CIFAR10(\n",
        "        root=data_dir, train=False, download=True, transform=transform)\n",
        "\n",
        "    return trainset, testset"
      ]
    },
    {
      "attachments": {},
      "cell_type": "markdown",
      "metadata": {},
      "source": [
        "The test and train data are added to the dictionary `fun_control`.\n"
      ]
    },
    {
      "cell_type": "code",
      "execution_count": null,
      "metadata": {
        "vscode": {
          "languageId": "python"
        }
      },
      "outputs": [],
      "source": [
        "\n",
        "train, test = load_data()\n",
        "n_samples = len(train)\n",
        "# add the dataset to the fun_control\n",
        "fun_control.update({\n",
        "    \"train\": train,\n",
        "    \"test\": test,\n",
        "    \"n_samples\": n_samples})"
      ]
    },
    {
      "attachments": {},
      "cell_type": "markdown",
      "metadata": {},
      "source": [
        "## Specification of the Preprocessing Model {#sec-specification-of-preprocessing-model}\n",
        "\n",
        "After the training and test data are specified and added to the `fun_control` dictionary, `spotPython` allows the specification of a data preprocessing pipeline, e.g., for the scaling of the data or for the one-hot encoding of categorical variables. The preprocessing model is called `prep_model` (\"preparation\" or pre-processing) and includes steps that are not subject to the hyperparameter tuning process. The preprocessing model is specified in the `fun_control` dictionary. The preprocessing model can be implemented as a `sklearn` pipeline. The following code shows a typical preprocessing pipeline:\n",
        "\n",
        "```{raw}\n",
        "categorical_columns = [\"cities\", \"colors\"]\n",
        "one_hot_encoder = OneHotEncoder(handle_unknown=\"ignore\",\n",
        "                                    sparse_output=False)\n",
        "prep_model = ColumnTransformer(\n",
        "        transformers=[\n",
        "             (\"categorical\", one_hot_encoder, categorical_columns),\n",
        "         ],\n",
        "         remainder=StandardScaler(),\n",
        "     )\n",
        "```\n",
        "\n",
        "Because the Ray Tune (`ray[tune]`) hyperparameter tuning as described in @pyto23a does not use a preprocessing model, the preprocessing model is set to `None` here."
      ]
    },
    {
      "cell_type": "code",
      "execution_count": null,
      "metadata": {
        "vscode": {
          "languageId": "python"
        }
      },
      "outputs": [],
      "source": [
        "\n",
        "prep_model = None\n",
        "fun_control.update({\"prep_model\": prep_model})"
      ]
    },
    {
      "attachments": {},
      "cell_type": "markdown",
      "metadata": {},
      "source": [
        "## Select `algorithm` and `core_model_hyper_dict` {#sec-selection-of-the-algorithm}\n",
        "\n",
        "The same neural network model as implemented in the section \"Configurable neural network\" of the `PyTorch` tutorial [@pyto23a] is used here.\n",
        "We will show the implementation from @pyto23a in @sec-implementation-with-raytune first, before the extended implementation with `spotPython` is shown in @sec-implementation-with-spotpython.\n",
        "\n",
        "\n",
        "### Implementing a Configurable Neural Network With Ray Tune{#sec-implementation-with-raytune}\n",
        "\n",
        "We used the same hyperparameters that are implemented as configurable in the `PyTorch` tutorial. We specify the layer sizes, namely `l1` and `l2`, of the fully connected layers:\n",
        "\n",
        "```{raw}\n",
        "class Net(nn.Module):\n",
        "    def __init__(self, l1=120, l2=84):\n",
        "        super(Net, self).__init__()\n",
        "        self.conv1 = nn.Conv2d(3, 6, 5)\n",
        "        self.pool = nn.MaxPool2d(2, 2)\n",
        "        self.conv2 = nn.Conv2d(6, 16, 5)\n",
        "        self.fc1 = nn.Linear(16 * 5 * 5, l1)\n",
        "        self.fc2 = nn.Linear(l1, l2)\n",
        "        self.fc3 = nn.Linear(l2, 10)\n",
        "\n",
        "    def forward(self, x):\n",
        "        x = self.pool(F.relu(self.conv1(x)))\n",
        "        x = self.pool(F.relu(self.conv2(x)))\n",
        "        x = x.view(-1, 16 * 5 * 5)\n",
        "        x = F.relu(self.fc1(x))\n",
        "        x = F.relu(self.fc2(x))\n",
        "        x = self.fc3(x)\n",
        "        return x\n",
        "\n",
        "```\n",
        "\n",
        "The learning rate, i.e., `lr`,  of the optimizer is made configurable, too:\n",
        "\n",
        "```{raw}\n",
        "optimizer = optim.SGD(net.parameters(), lr=config[\"lr\"], momentum=0.9)\n",
        "```\n",
        "\n",
        "### Implementing a Configurable Neural Network With spotPython {#sec-implementation-with-spotpython}\n",
        "\n",
        "`spotPython` implements a class which is similar to the class described in the `PyTorch` tutorial. The class is called `Net_CIFAR10` and is implemented in the file `netcifar10.py`.\n",
        "\n",
        "```{raw}\n",
        "import spotPython.torch.netcore as netcore\n",
        "class Net_CIFAR10(netcore.Net_Core):\n",
        "    def __init__(self, l1, l2, lr_mult, batch_size, epochs, k_folds, patience):\n",
        "        super(Net_CIFAR10, self).__init__(\n",
        "            lr_mult=lr_mult, batch_size=batch_size, epochs=epochs, k_folds=k_folds,\n",
        "            patience=patience\n",
        "        )\n",
        "        self.conv1 = nn.Conv2d(3, 6, 5)\n",
        "        self.pool = nn.MaxPool2d(2, 2)\n",
        "        self.conv2 = nn.Conv2d(6, 16, 5)\n",
        "        self.fc1 = nn.Linear(16 * 5 * 5, l1)\n",
        "        self.fc2 = nn.Linear(l1, l2)\n",
        "        self.fc3 = nn.Linear(l2, 10)\n",
        "\n",
        "    def forward(self, x):\n",
        "        x = self.pool(F.relu(self.conv1(x)))\n",
        "        x = self.pool(F.relu(self.conv2(x)))\n",
        "        x = x.view(-1, 16 * 5 * 5)\n",
        "        x = F.relu(self.fc1(x))\n",
        "        x = F.relu(self.fc2(x))\n",
        "        x = self.fc3(x)\n",
        "        return x\n",
        "```\n",
        "\n",
        "`Net_CIFAR10` inherits from the class `Net_Core` which is implemented in the file `netcore.py`.  It implements the additional attributes that are common to all neural network models. The attributes are the learning rate multiplier `lr_mult`, the batch size `batch_size`, the number of epochs `epochs`, the number of folds `k_folds` for the cross validation, and the patience `patience` for the early stopping. The class `Net_Core` is shown below.\n",
        "\n",
        "```{raw}\n",
        "from torch import nn\n",
        "\n",
        "\n",
        "class Net_Core(nn.Module):\n",
        "    def __init__(self, lr_mult, batch_size, epochs, k_folds, patience):\n",
        "        super(Net_Core, self).__init__()\n",
        "        self.lr_mult = lr_mult\n",
        "        self.batch_size = batch_size\n",
        "        self.epochs = epochs\n",
        "        self.k_folds = k_folds\n",
        "        self.patience = patience\n",
        "```\n",
        "\n",
        "### Comparison of the Approach Described in the PyTorch Tutorial With spotPython {#sec-comparison}\n",
        "\n",
        "Comparing the class `Net` from the `PyTorch` tutorial and the class `Net_CIFAR10` from `spotPython`, we see that the class `Net_CIFAR10` has additional attributes and does not inherit from `nn` directly. It adds an additional class, `Net_core`, that takes care of additional attributes that are common to all neural network models, e.g., the learning rate multiplier `lr_mult` or the batch size `batch_size`.\n",
        "\n",
        "`spotPython`'s `core_model` implements an instance of the `Net_CIFAR10` class. In addition to the basic neural network model, the `core_model` can use these additional attributes.\n",
        "`spotPython` provides methods for handling these additional attributes to guarantee 100% compatibility with the `PyTorch` classes. The method `add_core_model_to_fun_control` adds the hyperparameters and additional attributes to the `fun_control` dictionary. The method is shown below."
      ]
    },
    {
      "cell_type": "code",
      "execution_count": null,
      "metadata": {
        "vscode": {
          "languageId": "python"
        }
      },
      "outputs": [],
      "source": [
        "\n",
        "core_model = Net_CIFAR10\n",
        "fun_control = add_core_model_to_fun_control(core_model=core_model,\n",
        "                              fun_control=fun_control,\n",
        "                              hyper_dict=TorchHyperDict,\n",
        "                              filename=None)"
      ]
    },
    {
      "attachments": {},
      "cell_type": "markdown",
      "metadata": {},
      "source": [
        "::: {.callout-note}\n",
        "In addition to the class Net from the `PyTorch` tutorial, the class Net_CIFAR10 has additional attributes, e.g.:\n",
        "\n",
        "* learning rate (`lr`),\n",
        "* batch size (`batch_size`),\n",
        "* epochs (`epochs`),\n",
        "* k_folds (`k_folds`), and\n",
        "* early stopping criterion \"patience\" (`patience`)\n",
        "\n",
        "Further attributes can be easily added to the class, e.g., `optimizer`.\n",
        ":::\n",
        "\n",
        "## The Search Space {#sec-search-space}\n",
        "\n",
        "In @sec-configuring-the-search-space-with-ray-tune, we first describe how to configure the search space with `ray[tune]`  (as shown in @pyto23a) \n",
        "and then how to configure the search space with `spotPython` in @sec-configuring-the-search-space-with-spotpython.\n",
        "\n",
        "### Configuring the Search Space With Ray Tune {#sec-configuring-the-search-space-with-ray-tune}\n",
        "\n",
        " Ray Tune's search space can be configured as follows [@pyto23a]:\n",
        "\n",
        "```{raw}\n",
        "config = {\n",
        "    \"l1\": tune.sample_from(lambda _: 2**np.random.randint(2, 9)),\n",
        "    \"l2\": tune.sample_from(lambda _: 2**np.random.randint(2, 9)),\n",
        "    \"lr\": tune.loguniform(1e-4, 1e-1),\n",
        "    \"batch_size\": tune.choice([2, 4, 8, 16])\n",
        "}\n",
        "```\n",
        "The ``tune.sample_from()`` function enables the user to define sample\n",
        "methods to obtain hyperparameters. In this example, the ``l1`` and ``l2`` parameters\n",
        "should be powers of 2 between 4 and 256, so either 4, 8, 16, 32, 64, 128, or 256.\n",
        "The ``lr`` (learning rate) should be uniformly sampled between 0.0001 and 0.1. Lastly,\n",
        "the batch size is a choice between 2, 4, 8, and 16.\n",
        "\n",
        "At each trial, `ray[tune]` will randomly sample a combination of parameters from these\n",
        "search spaces. It will then train a number of models in parallel and find the best\n",
        "performing one among these. `ray[tune]` uses the ``ASHAScheduler`` which will terminate bad\n",
        "performing trials early.\n",
        "\n",
        "### Configuring the Search Space With spotPython {#sec-configuring-the-search-space-with-spotpython}\n",
        "\n",
        "#### The `hyper_dict` Hyperparameters for the Selected Algorithm\n",
        "\n",
        "`spotPython` uses simple `JSON` files for the specification of the hyperparameters.\n",
        "Users can specify their individual  `JSON` files, or they can use the `JSON` files provided by `spotPython`.\n",
        "The `JSON` file for the `core_model` is called `torch_hyper_dict.json`.\n",
        "\n",
        "In contrast to `ray[tune]`, `spotPython` can handle numerical, boolean, and categorical hyperparameters. They can be specified in the `JSON` file in a similar way as the numerical hyperparameters as shown below:\n",
        "\n",
        "```json\n",
        "\"factor_hyperparameter\": {\n",
        "    \"levels\": [\"A\", \"B\", \"C\"],\n",
        "    \"type\": \"factor\",\n",
        "    \"default\": \"B\",\n",
        "    \"transform\": \"None\",\n",
        "    \"core_model_parameter_type\": \"str\",\n",
        "    \"lower\": 0,\n",
        "    \"upper\": 2},\n",
        "```\n",
        "\n",
        "Each entry in the `JSON` file represents one hyperparameter with the following structure:\n",
        "`type`, `default`, `transform`, `lower`, and `upper`.\n",
        "The corresponding entries for the `Net_CIFAR10` class are shown below.\n",
        "\n",
        "```json\n",
        "{\"Net_CIFAR10\":\n",
        "    {\n",
        "        \"l1\": {\n",
        "            \"type\": \"int\",\n",
        "            \"default\": 5,\n",
        "            \"transform\": \"transform_power_2_int\",\n",
        "            \"lower\": 2,\n",
        "            \"upper\": 9},\n",
        "        \"l2\": {\n",
        "            \"type\": \"int\",\n",
        "            \"default\": 5,\n",
        "            \"transform\": \"transform_power_2_int\",\n",
        "            \"lower\": 2,\n",
        "            \"upper\": 9},\n",
        "        \"lr_mult\": {\n",
        "            \"type\": \"float\",\n",
        "            \"default\": 1.0,\n",
        "            \"transform\": \"None\",\n",
        "            \"lower\": 0.1,\n",
        "            \"upper\": 10},\n",
        "        \"batch_size\": {\n",
        "            \"type\": \"int\",\n",
        "            \"default\": 4,\n",
        "            \"transform\": \"transform_power_2_int\",\n",
        "            \"lower\": 1,\n",
        "            \"upper\": 4},\n",
        "        \"epochs\": {\n",
        "            \"type\": \"int\",\n",
        "            \"default\": 3,\n",
        "            \"transform\": \"transform_power_2_int\",\n",
        "            \"lower\": 1,\n",
        "            \"upper\": 4},\n",
        "        \"k_folds\": {\n",
        "            \"type\": \"int\",\n",
        "            \"default\": 2,\n",
        "            \"transform\": \"None\",\n",
        "            \"lower\": 2,\n",
        "            \"upper\": 3},\n",
        "        \"patience\": {\n",
        "            \"type\": \"int\",\n",
        "            \"default\": 5,\n",
        "            \"transform\": \"None\",\n",
        "            \"lower\": 2,\n",
        "            \"upper\": 10},\n",
        "        \"optimizer\": {\n",
        "            \"levels\": [\"Adadelta\",\n",
        "                       \"Adagrad\",\n",
        "                       \"Adam\",\n",
        "                       \"AdamW\",\n",
        "                       \"SparseAdam\",\n",
        "                       \"Adamax\",\n",
        "                       \"ASGD\",\n",
        "                       \"LBFGS\",\n",
        "                       \"NAdam\",\n",
        "                       \"RAdam\",\n",
        "                       \"RMSprop\",\n",
        "                       \"Rprop\",\n",
        "                       \"SGD\"],\n",
        "            \"type\": \"factor\",\n",
        "            \"default\": \"SGD\",\n",
        "            \"transform\": \"None\",\n",
        "            \"class_name\": \"torch.optim\",\n",
        "            \"core_model_parameter_type\": \"str\",\n",
        "            \"lower\": 0,\n",
        "            \"upper\": 12},\n",
        "        \"sgd_momentum\": {\n",
        "            \"type\": \"float\",\n",
        "            \"default\": 0.0,\n",
        "            \"transform\": \"None\",\n",
        "            \"lower\": 0.0,\n",
        "            \"upper\": 1.0}\n",
        "    }\n",
        "}\n",
        "```\n",
        "\n",
        "\n",
        "## Modifying the Hyperparameters {#sec-modification-of-hyperparameters}\n",
        "\n",
        "Ray tune [@pyto23a] does not provide a way to change the specified hyperparameters without re-compilation. However, `spotPython` provides functions for modifying the hyperparameters, their bounds and factors as well as for activating and de-activating hyperparameters without re-compilation of the Python source code. These functions are described in the following.\n",
        "\n",
        "### Modify `hyper_dict` Hyperparameters for the Selected Algorithm aka `core_model` {#sec-modification-of-default-values}\n",
        "\n",
        "After specifying the model, the corresponding hyperparameters, their types and bounds are loaded from the `JSON` file `torch_hyper_dict.json`. After loading, the user can modify the hyperparameters, e.g., the bounds.\n",
        "`spotPython` provides a simple rule for de-activating hyperparameters: If the lower and the upper bound are set to identical values, the hyperparameter is de-activated. This is useful for the hyperparameter tuning, because it allows to specify a hyperparameter in the `JSON` file, but to de-activate it in the `fun_control` dictionary. This is done in the next step.\n",
        "\n",
        "\n",
        "### Modify Hyperparameters of Type numeric and integer (boolean)\n",
        "\n",
        "Since the hyperparameter `k_folds` is not used in the `PyTorch` tutorial, it is de-activated here by setting the lower and upper bound to the same value. Note, `k_folds` is of type \"integer\"."
      ]
    },
    {
      "cell_type": "code",
      "execution_count": null,
      "metadata": {
        "vscode": {
          "languageId": "python"
        }
      },
      "outputs": [],
      "source": [
        "\n",
        "fun_control = modify_hyper_parameter_bounds(fun_control, \"batch_size\", bounds=[1, 5])\n",
        "fun_control = modify_hyper_parameter_bounds(fun_control, \"k_folds\", bounds=[0, 0])\n",
        "fun_control = modify_hyper_parameter_bounds(fun_control, \"patience\", bounds=[3, 3])\n",
        "fun_control[\"core_model_hyper_dict\"]"
      ]
    },
    {
      "attachments": {},
      "cell_type": "markdown",
      "metadata": {},
      "source": [
        "### Modify Hyperparameter of Type factor\n",
        "\n",
        "In a similar manner as for the numerical hyperparameters, the categorical hyperparameters can be modified.\n",
        "New configurations can be chosen by adding or deleting levels. For example, the hyperparameter `optimizer` can be re-configured as follows:\n",
        "\n",
        "In the following setting, two optimizers (`\"SGD\"` and `\"Adam\"`) will be compared during the `spotPython` hyperparameter tuning. The hyperparameter `optimizer` is active."
      ]
    },
    {
      "cell_type": "code",
      "execution_count": null,
      "metadata": {
        "vscode": {
          "languageId": "python"
        }
      },
      "outputs": [],
      "source": [
        "\n",
        "fun_control = modify_hyper_parameter_levels(fun_control, \"optimizer\", [\"SGD\", \"Adam\"])"
      ]
    },
    {
      "attachments": {},
      "cell_type": "markdown",
      "metadata": {},
      "source": [
        "The hyperparameter `optimizer` can be de-activated by choosing only one value (level), here: `\"SGD\"`."
      ]
    },
    {
      "cell_type": "code",
      "execution_count": null,
      "metadata": {
        "vscode": {
          "languageId": "python"
        }
      },
      "outputs": [],
      "source": [
        "\n",
        "fun_control = modify_hyper_parameter_levels(fun_control, \"optimizer\", [\"SGD\"])"
      ]
    },
    {
      "attachments": {},
      "cell_type": "markdown",
      "metadata": {},
      "source": [
        "As discussed in @sec-optimizers, there are some issues with the LBFGS optimizer. Therefore, the usage of the LBFGS optimizer is not  deactivated in `spotPython` by default. However, the LBFGS optimizer can be activated by adding it to the list of optimizers.\n",
        "`Rprop`  was removed, because it does perform very poorly (as some pre-tests have shown). However, it can also be activated by adding it to the list of optimizers.\n",
        "Since `SparseAdam` does not support dense gradients, `Adam` was used instead.\n",
        "Therefore, there are 10 default optimizers:"
      ]
    },
    {
      "cell_type": "code",
      "execution_count": null,
      "metadata": {
        "vscode": {
          "languageId": "python"
        }
      },
      "outputs": [],
      "source": [
        "\n",
        "fun_control = modify_hyper_parameter_levels(fun_control, \"optimizer\",[\"Adadelta\",\n",
        "     \"Adagrad\", \"Adam\", \"AdamW\", \"Adamax\", \"ASGD\", \"NAdam\", \"RAdam\",\n",
        "      \"RMSprop\", \"SGD\"])"
      ]
    },
    {
      "attachments": {},
      "cell_type": "markdown",
      "metadata": {},
      "source": [
        "### Optimizers {#sec-optimizers}\n",
        "\n",
        "@tbl-optimizers shows some of the optimizers available in `PyTorch`:\n",
        "\n",
        "| Optimizer | lr  | mom | weight | damp | nest | rho | lr_sc | lr_decay | betas | lambd | alpha | mom_decay | etas | step_s|\n",
        "| :-----    |:--- |:--- | :---   | :--- | :--- |:--- | :---  | :---     | :---- |:----  |:----  | :----     | :--- | :--- |\n",
        "| Adadelta  | -   | -   |  0.    | -    | -    | 0.9 | 1.0   | -        | -     | -     |-      |    -      |   -  | -    |\n",
        "| Adagrad   |1e-2 | -   | 0.     | -    | -    | -   | -     | 0.       | -     | -     |-      | -         |   -  | -    |\n",
        "| Adam      |1e-3 | -   | 0.     | -    | -    | -   | -     | -        |(0.9,0.999)| - |-      |   -       |   -  | -    |\n",
        "| AdamW     |1e-3 | -   | 1e-2   | -    | -    | -   | -     | -        |(0.9,0.999)| - |  -    |       -   |   -  | -    |\n",
        "| SparseAdam | 1e-3| -  | -      | -    | -    | -   | -     | -        |(0.9,0.999)|-  |-      | -         |   -  | -    |\n",
        "| Adamax | 2e-3    | -  | 0.     | -    | -    | -   | -     | -        |(0.9, 0.999)|- |-      | -         |   -  | -    |\n",
        "| ASGD   | 1e-2 |  0.9  | 0.     | -    | False| -   | -     | -        | -        |1e-4| 0.75  |  -        |  -   | -    |\n",
        "| LBFGS |  1.   | -     | -      | -    | -    | -   | -     | -        | -        | -  |-      | -         |  -   |   -  |\n",
        "| NAdam | 2e-3  | -     | 0.     | -    | -    | -   | -     | -        |(0.9,0.999)| - |-      | 0         |   -  | -    |\n",
        "| RAdam | 1e-3  | -     | 0.     | -    | -    | -   | -     | -        |(0.9,0.999)| - |-      | -         |   -  | -    |\n",
        "| RMSprop | 1e-2| 0. |   0.      |  -   | -    | -   | -     | -        |(0.9,0.999)| - |-      | -         |   -  | -    |\n",
        "| Rprop |  1e-2 | -  | -         | -    | -    | -   | -     | -        | -         | -| (0.5,1.2)| (1e-6, 50)| -   | -   |\n",
        "| SGD   | required | 0.| 0.      | 0.   | False | -  | -     | -        | -         |- |-       | -         |   -  | -    |\n",
        "\n",
        ": Optimizers available in PyTorch (selection). \"mom\" denotes `momentum`, \"weight\" `weight_decay`, \"damp\" `dampening`, \"nest\" `nesterov`,  \"lr_sc\" `learning rate for scaling delta`, \"mom_dec\" for `momentum_decay`, and \"step_s\" for `step_sizes`.  The default values are shown in the table. {#tbl-optimizers}\n",
        "\n",
        "`spotPython` implements an `optimization` handler that maps the optimizer names to the corresponding `PyTorch` optimizers.\n",
        "\n",
        "::: {.callout-note}\n",
        "### A note on LBFGS\n",
        "\n",
        "We recommend deactivating `PyTorch`'s LBFGS optimizer, because it does not perform very well. The  `PyTorch` documentation, see [https://pytorch.org/docs/stable/generated/torch.optim.LBFGS.html#torch.optim.LBFGS](https://pytorch.org/docs/stable/generated/torch.optim.LBFGS.html#torch.optim.LBFGS), states:\n",
        "\n",
        "> This is a very memory intensive optimizer (it requires additional `param_bytes * (history_size + 1)` bytes). If it doesn’t fit in memory try reducing the history size, or use a different algorithm.\n",
        "\n",
        "\n",
        "Furthermore, the LBFGS optimizer is not compatible with the `PyTorch` tutorial. The reason is that the LBFGS optimizer requires the `closure` function, which is not implemented in the `PyTorch` tutorial. Therefore, the `LBFGS` optimizer is recommended here.\n",
        ":::\n",
        "\n",
        "Since there are 10 optimizers in the portfolio, it is not recommended tuning the hyperparameters that effect one single optimizer only.\n",
        "\n",
        "::: {.callout-note}\n",
        "#### A note on the learning rate\n",
        "`spotPython` provides a multiplier for the default learning rates, because optimizers use different learning rates. Using a multiplier for the learning rates might enable a simultaneous tuning of the learning rates for all optimizers. However, this is not recommended, because the learning rates are not comparable across optimizers. Therefore, we recommend fixing the learning rate for all optimizers if multiple optimizers are used. This can be done by setting the lower and upper bounds of the learning rate multiplier to the same value as shown below.\n",
        ":::\n",
        "\n",
        "Thus, the learning rate, which affects the `SGD` optimizer, will be set to a fixed value. We choose the default value of `1e-3` for the learning rate, because it is used in other `PyTorch` examples (it is also the default value used by `spotPython` as defined in the `optimizer_handler()` method). We recommend tuning the learning rate later, when a reduced set of optimizers is fixed.\n",
        "Here, we will demonstrate how to select in a screening phase the optimizers that should be used for the hyperparameter tuning.\n",
        "\n",
        "For the same reason, we will fix the `momentum` to `0.9`. "
      ]
    },
    {
      "cell_type": "code",
      "execution_count": null,
      "metadata": {
        "vscode": {
          "languageId": "python"
        }
      },
      "outputs": [],
      "source": [
        "\n",
        "fun_control = modify_hyper_parameter_bounds(fun_control, \"lr_mult\", bounds=[1.0, 1.0])\n",
        "fun_control = modify_hyper_parameter_bounds(fun_control, \"sgd_momentum\", bounds=[0.9, 0.9])"
      ]
    },
    {
      "attachments": {},
      "cell_type": "markdown",
      "metadata": {},
      "source": [
        "## Evaluation  {#sec-selection-of-target-function}\n",
        "\n",
        "The evaluation procedure requires the specification of two elements:\n",
        "\n",
        "1. the way how the data is split into a train and a test set and\n",
        "2. the loss function (and a metric).\n",
        "\n",
        "### Hold-out Data Split and Cross-Validation\n",
        "\n",
        "As a default, `spotPython` provides a standard hold-out data split and cross validation.\n",
        "\n",
        "#### Hold-out Data Split\n",
        "\n",
        "If a hold-out data split is used, the data will be partitioned into a training, a validation, and a test data set.\n",
        "The split depends on the setting of the `eval` parameter. If `eval` is set to `train_hold_out`, one data set, usually the original training data set, is split into a new training and a validation data set. The training data set is used for training the model. The validation data set is used for the evaluation of the hyperparameter configuration and early stopping to prevent overfitting. In this case, the original test data set is not used.\n",
        "The following splits are performed in the hold-out setting:\n",
        "$\\{\\text{train}_0, \\text{test}\\} \\rightarrow \\{\\text{train}_1, \\text{validation}_1, \\text{test}\\}$, where $\\text{train}_1 \\cup \\text{validation}_1 = \\text{train}_0$.\n",
        "\n",
        "\n",
        "::: {.callout-note}\n",
        "`spotPython` returns the hyperparameters of the machine learning and deep learning models, e.g., number of layers, learning rate, or optimizer, but not the model weights. Therefore, after the SPOT run is finished, the corresponding model has to be trained again with the best hyperparameter configuration. The training is performed on the training data set. The test data set is used for the final evaluation of the model.\n",
        "\n",
        "Summarizing, the following splits are performed in the hold-out setting:\n",
        "\n",
        "1. Run `spotPython` with `eval` set to `train_hold_out` to determine the best hyperparameter configuration.\n",
        "2. Train the model with the best hyperparameter configuration on the training data set:\n",
        "   * `train_tuned(model_spot, train, \"model_spot.pt\")`.\n",
        "3. Test the model on the test data:\n",
        "   * `test_tuned(model_spot, test, \"model_spot.pt\")`\n",
        "\n",
        "These steps will be exemplified in the following sections.\n",
        ":::\n",
        "\n",
        "In addition to this `hold-out` setting, `spotPython` provides another hold-out setting, where an explicit test data is specified by the user that will be used as the validation set. To choose this option, the `eval` parameter is set to `test_hold_out`. In this case, the training data set is used for the model training. Then, the explicitly defined test data set is used for the evaluation of the hyperparameter configuration (the validation).\n",
        "\n",
        "#### Cross-Validation\n",
        "\n",
        "The cross validation setting is used by setting the `eval` parameter to `train_cv` or `test_cv`. In both  cases, the data set is split into $k$ folds. The model is trained on $k-1$ folds and evaluated on the remaining fold. This is repeated $k$ times, so that each fold is used exactly once for evaluation. The final evaluation is performed on the test data set. The cross validation setting is useful for small data sets, because it allows to use all data for training and evaluation. However, it is computationally expensive, because the model has to be trained $k$ times.\n",
        "\n",
        "::: {.callout-note}\n",
        "Combinations of the above settings are possible, e.g., cross validation can be used for training and hold-out for evaluation or *vice versa*. Also, cross validation can be used for training and testing. Because cross validation is not used in the `PyTorch` tutorial [@pyto23a], it is not considered further here.\n",
        ":::\n",
        "\n",
        "#### Overview of the Evaluation Settings\n",
        "\n",
        "##### Settings for the Hyperparameter Tuning\n",
        "\n",
        "@tbl-eval-settings provides an overview of the training evaluations.\n",
        "\n",
        "| `eval` | `train` | `test` | function | comment |\n",
        "| --- | :---: | :---: |     --- | --- |\n",
        "| `\"train_hold_out\"` | $\\checkmark$ |  |  `train_hold_out()`, `validate_fold_or_hold_out()` for early stopping|  splits the `train` data set internally|\n",
        "| `\"test_hold_out\"` | $\\checkmark$ | $\\checkmark$ | `train_hold_out()`, `validate_fold_or_hold_out()` for early stopping  |use the `test data set` for `validate_fold_or_hold_out()` |\n",
        "| `\"train_cv\"` | $\\checkmark$ |              |  `evaluate_cv(net, train)`  | CV using the  `train` data set |\n",
        "| `\"test_cv\"` |               | $\\checkmark$ |  `evaluate_cv(net, test)` | CV using the  `test` data set . Identical to `\"train_cv\"`, uses only test data.|\n",
        ": Overview of the evaluation settings. {#tbl-eval-settings}\n",
        "\n",
        "* `\"train_cv\"` and `\"test_cv\"` use `sklearn.model_selection.KFold()` internally.\n",
        "\n",
        "#### Detailed Description of the `\"train_hold_out\"` Setting\n",
        "\n",
        "The `\"train_hold_out\"` setting is used by default. \n",
        "It uses the loss function specfied in `fun_control` and the metric specified in `fun_control`.\n",
        "\n",
        "1. First, the method `HyperTorch().fun_torch` is called. \n",
        "2. `fun_torc()` calls `spotPython.torch.traintest.evaluate_hold_out()` as follows:"
      ]
    },
    {
      "cell_type": "code",
      "execution_count": null,
      "metadata": {
        "vscode": {
          "languageId": "python"
        }
      },
      "outputs": [],
      "source": [
        "%%script echo skipping\n",
        "df_eval, _ = evaluate_hold_out(\n",
        "    model,\n",
        "    train_dataset=fun_control[\"train\"],\n",
        "    shuffle=self.fun_control[\"shuffle\"],\n",
        "    loss_function=self.fun_control[\"loss_function\"],\n",
        "    metric=self.fun_control[\"metric_torch\"],\n",
        "    device=self.fun_control[\"device\"],\n",
        "    show_batch_interval=self.fun_control[\"show_batch_interval\"],\n",
        "    path=self.fun_control[\"path\"],\n",
        ") "
      ]
    },
    {
      "attachments": {},
      "cell_type": "markdown",
      "metadata": {},
      "source": [
        "Note: Only the data set `fun_control[\"train\"]` is used for training and validation.\n",
        "It is used as follows:"
      ]
    },
    {
      "cell_type": "code",
      "execution_count": null,
      "metadata": {
        "vscode": {
          "languageId": "python"
        }
      },
      "outputs": [],
      "source": [
        "%%script echo skipping\n",
        "trainloader, valloader = create_train_val_data_loaders(\n",
        "                dataset=train_dataset, batch_size=batch_size_instance, shuffle=shuffle\n",
        "            )"
      ]
    },
    {
      "attachments": {},
      "cell_type": "markdown",
      "metadata": {},
      "source": [
        "`create_train_val_data_loaders()` splits the `train_dataset` into `trainloader` and `valloader` using `torch.utils.data.random_split()` as follows:"
      ]
    },
    {
      "cell_type": "code",
      "execution_count": null,
      "metadata": {
        "vscode": {
          "languageId": "python"
        }
      },
      "outputs": [],
      "source": [
        "%%script echo skipping\n",
        "def create_train_val_data_loaders(dataset, batch_size, shuffle, num_workers=0):\n",
        "    test_abs = int(len(dataset) * 0.6)\n",
        "    train_subset, val_subset = random_split(dataset, [test_abs, len(dataset) - test_abs])\n",
        "    trainloader = torch.utils.data.DataLoader(\n",
        "        train_subset, batch_size=int(batch_size), shuffle=shuffle, num_workers=num_workers\n",
        "    )\n",
        "    valloader = torch.utils.data.DataLoader(\n",
        "        val_subset, batch_size=int(batch_size), shuffle=shuffle, num_workers=num_workers\n",
        "    )\n",
        "    return trainloader, valloader"
      ]
    },
    {
      "attachments": {},
      "cell_type": "markdown",
      "metadata": {},
      "source": [
        "The optimizer is set up as follows:"
      ]
    },
    {
      "cell_type": "code",
      "execution_count": null,
      "metadata": {
        "vscode": {
          "languageId": "python"
        }
      },
      "outputs": [],
      "source": [
        "%%script echo skipping\n",
        "lr_mult_instance = net.lr_mult\n",
        "optimizer = optimizer_handler(optimizer_name=optimizer_instance, params=net.parameters(), lr_mult=lr_mult_instance)"
      ]
    },
    {
      "attachments": {},
      "cell_type": "markdown",
      "metadata": {},
      "source": [
        "3. `evaluate_hold_out()` sets the `net` attributes such as `epochs`, `batch_size`, `optimizer`, and `patience`. For each epoch, \n",
        "the methods `train_hold_out()` and `validate_fold_or_hold_out()` are called, the former for training and the latter for validation and early stopping. The validation loss from the last epoch (not the best validation loss) is returned from `evaluate_hold_out`.\n",
        "4. The method `train_hold_out()` is implemented as follows:"
      ]
    },
    {
      "cell_type": "code",
      "execution_count": null,
      "metadata": {
        "vscode": {
          "languageId": "python"
        }
      },
      "outputs": [],
      "source": [
        "%%script echo skipping\n",
        "def train_hold_out(net, trainloader, batch_size, loss_function, optimizer, device, show_batch_interval=10_000):\n",
        "    running_loss = 0.0\n",
        "    epoch_steps = 0\n",
        "    for i, data in enumerate(trainloader, 0):\n",
        "        inputs, labels = data\n",
        "        inputs, labels = inputs.to(device), labels.to(device)\n",
        "        optimizer.zero_grad()\n",
        "        outputs = net(inputs)\n",
        "        loss = loss_function(outputs, labels)\n",
        "        loss.backward()\n",
        "        torch.nn.utils.clip_grad_norm_(net.parameters(), max_norm=1.0)\n",
        "        optimizer.step()\n",
        "        running_loss += loss.item()\n",
        "        epoch_steps += 1\n",
        "        if i % show_batch_interval == (show_batch_interval - 1):  # print every show_batch_interval mini-batches\n",
        "            print(\n",
        "                \"Batch: %5d. Batch Size: %d. Training Loss (running): %.3f\"\n",
        "                % (i + 1, int(batch_size), running_loss / epoch_steps)\n",
        "            )\n",
        "            running_loss = 0.0\n",
        "    return loss.item()"
      ]
    },
    {
      "attachments": {},
      "cell_type": "markdown",
      "metadata": {},
      "source": [
        "5. The method `validate_fold_or_hold_out()` is implemented as follows:"
      ]
    },
    {
      "cell_type": "code",
      "execution_count": null,
      "metadata": {
        "vscode": {
          "languageId": "python"
        }
      },
      "outputs": [],
      "source": [
        "%%script echo skipping\n",
        "def validate_fold_or_hold_out(net, valloader, loss_function, metric, device):\n",
        "    val_loss = 0.0\n",
        "    val_steps = 0\n",
        "    metric.reset()\n",
        "    for i, data in enumerate(valloader, 0):\n",
        "        with torch.no_grad():\n",
        "            inputs, labels = data\n",
        "            inputs, labels = inputs.to(device), labels.to(device)\n",
        "            outputs = net(inputs)\n",
        "            _, predicted = torch.max(outputs.data, 1)\n",
        "            metric_value = metric(predicted, labels).to(device)\n",
        "            loss = loss_function(outputs, labels)\n",
        "            val_loss += loss.cpu().numpy()\n",
        "            val_steps += 1\n",
        "    loss = val_loss / val_steps\n",
        "    metric_value = metric.compute()\n",
        "    return metric_value, loss"
      ]
    },
    {
      "attachments": {},
      "cell_type": "markdown",
      "metadata": {},
      "source": [
        "#### Detailed Description of the `\"test_hold_out\"` Setting\n",
        "\n",
        "It uses the loss function specfied in `fun_control` and the metric specified in `fun_control`.\n",
        "\n",
        "1. First, the method `HyperTorch().fun_torch` is called. \n",
        "2. `fun_torc()` calls `spotPython.torch.traintest.evaluate_hold_out()` similar to the `\"train_hold_out\"` setting with one exception:\n",
        "It passes an additional `test` data set to `evaluate_hold_out()` as follows:"
      ]
    },
    {
      "cell_type": "code",
      "execution_count": null,
      "metadata": {
        "vscode": {
          "languageId": "python"
        }
      },
      "outputs": [],
      "source": [
        "%%script echo skipping\n",
        "test_dataset=fun_control[\"test\"]"
      ]
    },
    {
      "attachments": {},
      "cell_type": "markdown",
      "metadata": {},
      "source": [
        "`evaluate_hold_out()` calls `create_train_test_data_loaders` instead of `create_train_val_data_loaders` as follows:\n",
        "The two data sets are used in `create_train_test_data_loaders` as follows:"
      ]
    },
    {
      "cell_type": "code",
      "execution_count": null,
      "metadata": {
        "vscode": {
          "languageId": "python"
        }
      },
      "outputs": [],
      "source": [
        "%%script echo skipping\n",
        "def create_train_test_data_loaders(dataset, batch_size, shuffle, test_dataset, num_workers=0):\n",
        "    trainloader = torch.utils.data.DataLoader(\n",
        "        dataset, batch_size=int(batch_size), shuffle=shuffle, num_workers=num_workers\n",
        "    )\n",
        "    testloader = torch.utils.data.DataLoader(\n",
        "        test_dataset, batch_size=int(batch_size), shuffle=shuffle, num_workers=num_workers\n",
        "    )\n",
        "    return trainloader, testloader"
      ]
    },
    {
      "attachments": {},
      "cell_type": "markdown",
      "metadata": {},
      "source": [
        "3. The following steps are identical to the `\"train_hold_out\"` setting. Only a different data loader is used for testing.\n",
        "\n",
        "\n",
        "#### Detailed Description of the `\"train_cv\"` Setting\n",
        "\n",
        "It uses the loss function specfied in `fun_control` and the metric specified in `fun_control`.\n",
        "\n",
        "1. First, the method `HyperTorch().fun_torch` is called. \n",
        "2. `fun_torc()` calls `spotPython.torch.traintest.evaluate_cv()` as follows:"
      ]
    },
    {
      "cell_type": "code",
      "execution_count": null,
      "metadata": {
        "vscode": {
          "languageId": "python"
        }
      },
      "outputs": [],
      "source": [
        "%%script echo skipping\n",
        "df_eval, _ = evaluate_cv(\n",
        "    model,\n",
        "    dataset=fun_control[\"train\"],\n",
        "    shuffle=self.fun_control[\"shuffle\"],\n",
        "    device=self.fun_control[\"device\"],\n",
        "    show_batch_interval=self.fun_control[\"show_batch_interval\"],\n",
        ")"
      ]
    },
    {
      "attachments": {},
      "cell_type": "markdown",
      "metadata": {},
      "source": [
        "Note: Only the data set `fun_control[\"train\"]` is used for CV.\n",
        "3. In `evaluate_cv(), the following steps are performed:\n",
        "The optimizer is set up as follows:"
      ]
    },
    {
      "cell_type": "code",
      "execution_count": null,
      "metadata": {
        "vscode": {
          "languageId": "python"
        }
      },
      "outputs": [],
      "source": [
        "%%script echo skipping\n",
        "lr_instance = net.lr\n",
        "optimizer = optimizer_handler(optimizer_name=optimizer_instance, params=net.parameters(), lr_mult=lr_mult_instance)"
      ]
    },
    {
      "attachments": {},
      "cell_type": "markdown",
      "metadata": {},
      "source": [
        "`evaluate_cv()` sets the `net` attributes such as `epochs`, `batch_size`, `optimizer`, and `patience`. \n",
        "CV is implemented as follows:"
      ]
    },
    {
      "cell_type": "code",
      "execution_count": null,
      "metadata": {
        "vscode": {
          "languageId": "python"
        }
      },
      "outputs": [],
      "source": [
        "%%script echo skipping\n",
        "kfold = KFold(n_splits=k_folds_instance, shuffle=shuffle)\n",
        "for fold, (train_ids, val_ids) in enumerate(kfold.split(dataset)):\n",
        "    train_subsampler = torch.utils.data.SubsetRandomSampler(train_ids)\n",
        "    val_subsampler = torch.utils.data.SubsetRandomSampler(val_ids)\n",
        "    trainloader = torch.utils.data.DataLoader(\n",
        "        dataset, batch_size=batch_size_instance, sampler=train_subsampler, num_workers=num_workers\n",
        "    )\n",
        "    valloader = torch.utils.data.DataLoader(\n",
        "        dataset, batch_size=batch_size_instance, sampler=val_subsampler, num_workers=num_workers\n",
        "    )\n",
        "    reset_weights(net)\n",
        "    # Train fold for several epochs:\n",
        "    train_fold(\n",
        "        net,\n",
        "        trainloader,\n",
        "        epochs_instance,\n",
        "        loss_function,\n",
        "        optimizer,\n",
        "        device,\n",
        "        show_batch_interval=show_batch_interval,\n",
        "    )\n",
        "    # Validate fold: use only loss for tuning\n",
        "    metric_values[fold], loss_values[fold] = validate_fold_or_hold_out(net, valloader, loss_function, device)\n",
        "df_eval = sum(loss_values.values()) / len(loss_values.values())"
      ]
    },
    {
      "attachments": {},
      "cell_type": "markdown",
      "metadata": {},
      "source": [
        "4. The method `train_fold()` is implemented as follows:"
      ]
    },
    {
      "cell_type": "code",
      "execution_count": null,
      "metadata": {
        "vscode": {
          "languageId": "python"
        }
      },
      "outputs": [],
      "source": [
        "%%script echo skipping\n",
        "def train_fold(net, trainloader, epochs, loss_function, optimizer, device, show_batch_interval=10_000):\n",
        "    for epoch in range(epochs):\n",
        "        print(f\"Epoch: {epoch + 1}\")\n",
        "        running_loss = 0.0\n",
        "        epoch_steps = 0\n",
        "        for i, data in enumerate(trainloader, 0):\n",
        "            inputs, labels = data\n",
        "            inputs, labels = inputs.to(device), labels.to(device)\n",
        "            optimizer.zero_grad()\n",
        "            outputs = net(inputs)\n",
        "            loss = loss_function(outputs, labels)\n",
        "            loss.backward()\n",
        "            torch.nn.utils.clip_grad_norm_(net.parameters(), max_norm=1.0)\n",
        "            optimizer.step()\n",
        "            # the following is for printing the statistic only\n",
        "            running_loss += loss.item()\n",
        "            epoch_steps += 1\n",
        "            if i % show_batch_interval == (show_batch_interval - 1):  # print every show_batch_interval mini-batches\n",
        "                print(\"Batch: %5d. Training Loss (running): %.3f\" % (i + 1, running_loss / epoch_steps))\n",
        "                running_loss = 0.0"
      ]
    },
    {
      "attachments": {},
      "cell_type": "markdown",
      "metadata": {},
      "source": [
        "5. The method `validate_fold_or_hold_out()` is implemented as shown above. In contrast to the hold-out setting, it is called for each of the $k$ folds. The results are stored in a dictionaries `metric_values`  and `loss_values` as follows:"
      ]
    },
    {
      "cell_type": "code",
      "execution_count": null,
      "metadata": {
        "vscode": {
          "languageId": "python"
        }
      },
      "outputs": [],
      "source": [
        "%%script echo skipping\n",
        "    # Validate fold: use only loss for tuning\n",
        "    metric_values[fold], loss_values[fold] = validate_fold_or_hold_out(net, valloader, loss_function, device)\n",
        "df_eval = sum(loss_values.values()) / len(loss_values.values())"
      ]
    },
    {
      "attachments": {},
      "cell_type": "markdown",
      "metadata": {},
      "source": [
        "The results are averaged over the $k$ folds and returned as `df_eval`.\n",
        "\n",
        "#### Detailed Description of the `\"test_cv\"` Setting\n",
        "\n",
        "It uses the loss function specfied in `fun_control` and the metric specified in `fun_control`.\n",
        "\n",
        "1. First, the method `HyperTorch().fun_torch` is called. \n",
        "2. `fun_torc()` calls `spotPython.torch.traintest.evaluate_cv()` as follows:"
      ]
    },
    {
      "cell_type": "code",
      "execution_count": null,
      "metadata": {
        "vscode": {
          "languageId": "python"
        }
      },
      "outputs": [],
      "source": [
        "%%script echo skipping\n",
        "df_eval, _ = evaluate_cv(\n",
        "    model,\n",
        "    dataset=fun_control[\"test\"],\n",
        "    shuffle=self.fun_control[\"shuffle\"],\n",
        "    device=self.fun_control[\"device\"],\n",
        "    show_batch_interval=self.fun_control[\"show_batch_interval\"],\n",
        ")"
      ]
    },
    {
      "attachments": {},
      "cell_type": "markdown",
      "metadata": {},
      "source": [
        "Note: The data set `fun_control[\"test\"]` is used for CV. The rest is the same as for the `\"train_cv\"` setting.\n",
        "\n",
        "\n",
        "#### Settings for the Final Evaluation of the Tuned Architecture\n",
        "\n",
        "##### Training of the Tuned Architecture\n",
        "`train_tuned(model, train)`: train the model with the best hyperparameter configuration (or simply the default) on the training data set. It splits the `train`data into new `train` and `validation` sets using  `create_train_val_data_loaders()`, which calls `torch.utils.data.random_split()` internally. Currently, 60% of the data is used for training and 40% for validation. The `train` data is used for training the model with `train_hold_out()`. The `validation` data is used for early stopping using `validate_fold_or_hold_out()` on the `validation` data set.\n",
        "\n",
        "`train_tuned()` is just a wrapper to `evaluate_hold_out` using the `train` data set. It is implemented as follows:"
      ]
    },
    {
      "cell_type": "code",
      "execution_count": null,
      "metadata": {
        "vscode": {
          "languageId": "python"
        }
      },
      "outputs": [],
      "source": [
        "%%script echo skipping\n",
        "def train_tuned(net, train_dataset, shuffle, loss_function, metric, device=None, show_batch_interval=10_000, path=None):\n",
        "    evaluate_hold_out(\n",
        "        net=net,\n",
        "        train_dataset=train_dataset,\n",
        "        shuffle=shuffle,\n",
        "        test_dataset=None,\n",
        "        loss_function=loss_function,\n",
        "        metric=metric,\n",
        "        device=device,\n",
        "        show_batch_interval=show_batch_interval,\n",
        "        path=path,\n",
        "    )"
      ]
    },
    {
      "attachments": {},
      "cell_type": "markdown",
      "metadata": {},
      "source": [
        "Note: During training, `shuffle` is set to `True`, whereas during testing, `shuffle` is set to `False`.\n",
        "\n",
        "##### Testing of the Tuned Architecture\n",
        "\n",
        "`test_tuned(model, test)`: test the model on the test data set. No data splitting is performed. The (trained) model is evaluated using the `validate_fold_or_hold_out()` function.\n",
        "\n",
        "Note: During training, `shuffle` is set to `True`, whereas during testing, `shuffle` is set to `False`."
      ]
    },
    {
      "cell_type": "code",
      "execution_count": null,
      "metadata": {
        "vscode": {
          "languageId": "python"
        }
      },
      "outputs": [],
      "source": [
        "%%script echo skipping\n",
        "def test_tuned(net, shuffle, test_dataset=None, loss_function=None, metric=None, device=None, path=None):\n",
        "    batch_size_instance = net.batch_size\n",
        "    removed_attributes, net = get_removed_attributes_and_base_net(net)\n",
        "    if path is not None:\n",
        "        net.load_state_dict(torch.load(path))\n",
        "        net.eval()\n",
        "    try:\n",
        "        device = getDevice(device=device)\n",
        "        if torch.cuda.is_available():\n",
        "            device = \"cuda:0\"\n",
        "            if torch.cuda.device_count() > 1:\n",
        "                print(\"We will use\", torch.cuda.device_count(), \"GPUs!\")\n",
        "                net = nn.DataParallel(net)\n",
        "        net.to(device)\n",
        "        valloader = torch.utils.data.DataLoader(\n",
        "            test_dataset, batch_size=int(batch_size_instance), shuffle=shuffle, num_workers=0\n",
        "        )\n",
        "        metric_value, loss = validate_fold_or_hold_out(\n",
        "            net, valloader=valloader, loss_function=loss_function, metric=metric, device=device\n",
        "        )\n",
        "        df_eval = loss\n",
        "        df_metric = metric_value\n",
        "        df_preds = np.nan\n",
        "    except Exception as err:\n",
        "        print(f\"Error in Net_Core. Call to test_tuned() failed. {err=}, {type(err)=}\")\n",
        "        df_eval = np.nan\n",
        "        df_metric = np.nan\n",
        "        df_preds = np.nan\n",
        "    add_attributes(net, removed_attributes)\n",
        "    print(f\"Final evaluation: Validation loss: {df_eval}\")\n",
        "    print(f\"Final evaluation: Validation metric: {df_metric}\")\n",
        "    print(\"----------------------------------------------\")\n",
        "    return df_eval, df_preds, df_metric"
      ]
    },
    {
      "attachments": {},
      "cell_type": "markdown",
      "metadata": {},
      "source": [
        "### Loss Functions and Metrics\n",
        "\n",
        "The key `\"loss_function\"` specifies the loss function which is used during the optimization. There are several different loss functions under `PyTorch`'s `nn` package. For example, a simple loss is `MSELoss`, which computes the mean-squared error between the output and the target. In this tutorial we will use `CrossEntropyLoss`, because it is also used in the `PyTorch` tutorial."
      ]
    },
    {
      "cell_type": "code",
      "execution_count": null,
      "metadata": {
        "vscode": {
          "languageId": "python"
        }
      },
      "outputs": [],
      "source": [
        "\n",
        "from torch.nn import CrossEntropyLoss\n",
        "loss_function = CrossEntropyLoss()\n",
        "fun_control.update({\"loss_function\": loss_function})"
      ]
    },
    {
      "attachments": {},
      "cell_type": "markdown",
      "metadata": {},
      "source": [
        "In addition to the loss functions, `spotPython` provides access to a large number of metrics. The key `\"metric_sklearn\"` is used for metrics that follow the `scikit-learn` conventions. The key `\"river_metric\"` is used for the river based evaluation [@mont20a] via `eval_oml_iter_progressive`, and the key `\"metric_torch\"` is used for the metrics from `TorchMetrics`. `TorchMetrics` is a collection of more than 90 PyTorch metrics^[[https://torchmetrics.readthedocs.io/en/latest/.](https://torchmetrics.readthedocs.io/en/latest/)].\n",
        "Because the `PyTorch` tutorial uses the accuracy as metric, we use the same metric here. Currently, accuracy is computed in the tutorial's example code. We will use `TorchMetrics` instead, because it offers:\n",
        "\n",
        "* A standardized interface to increase reproducibility\n",
        "* Reduces Boilerplate\n",
        "* Distributed-training compatible\n",
        "* Rigorously tested\n",
        "* Automatic accumulation over batches\n",
        "* Automatic synchronization between multiple devices\n",
        "\n",
        "Therefore, we set "
      ]
    },
    {
      "cell_type": "code",
      "execution_count": null,
      "metadata": {
        "vscode": {
          "languageId": "python"
        }
      },
      "outputs": [],
      "source": [
        "\n",
        "metric_torch = torchmetrics.Accuracy(task=\"multiclass\", num_classes=10)"
      ]
    },
    {
      "cell_type": "code",
      "execution_count": null,
      "metadata": {
        "vscode": {
          "languageId": "python"
        }
      },
      "outputs": [],
      "source": [
        "\n",
        "loss_function = CrossEntropyLoss()\n",
        "weights = 1.0\n",
        "metric_torch = torchmetrics.Accuracy(task=\"multiclass\", num_classes=10)\n",
        "shuffle = True\n",
        "eval = \"train_hold_out\"\n",
        "device = DEVICE\n",
        "show_batch_interval = 100_000\n",
        "path=\"torch_model.pt\"\n",
        "\n",
        "fun_control.update({\n",
        "               \"data_dir\": None,\n",
        "               \"checkpoint_dir\": None,\n",
        "               \"horizon\": None,\n",
        "               \"oml_grace_period\": None,\n",
        "               \"weights\": weights,\n",
        "               \"step\": None,\n",
        "               \"log_level\": 50,\n",
        "               \"weight_coeff\": None,\n",
        "               \"metric_torch\": metric_torch,\n",
        "               \"metric_river\": None,\n",
        "               \"metric_sklearn\": None,\n",
        "               \"loss_function\": loss_function,\n",
        "               \"shuffle\": shuffle,\n",
        "               \"eval\": eval,\n",
        "               \"device\": device,\n",
        "               \"show_batch_interval\": show_batch_interval,\n",
        "               \"path\": path,\n",
        "               })"
      ]
    },
    {
      "attachments": {},
      "cell_type": "markdown",
      "metadata": {},
      "source": [
        "## Calling the SPOT Function {#sec-call-the-hyperparameter-tuner}"
      ]
    },
    {
      "cell_type": "code",
      "execution_count": null,
      "metadata": {
        "vscode": {
          "languageId": "python"
        }
      },
      "outputs": [],
      "source": [
        "#| echo: false\n",
        "var_type = get_var_type(fun_control)\n",
        "var_name = get_var_name(fun_control)\n",
        "fun_control.update({\"var_type\": var_type,\n",
        "                    \"var_name\": var_name})\n",
        "\n",
        "lower = get_bound_values(fun_control, \"lower\")\n",
        "upper = get_bound_values(fun_control, \"upper\")"
      ]
    },
    {
      "attachments": {},
      "cell_type": "markdown",
      "metadata": {},
      "source": [
        "Now, the dictionary `fun_control` contains all information needed for the hyperparameter tuning. Before the hyperparameter tuning is started, it is recommended to take a look at the experimental design. The method `gen_design_table` generates a design table as follows:"
      ]
    },
    {
      "cell_type": "code",
      "execution_count": null,
      "metadata": {
        "vscode": {
          "languageId": "python"
        }
      },
      "outputs": [],
      "source": [
        "\n",
        "print(gen_design_table(fun_control))"
      ]
    },
    {
      "attachments": {},
      "cell_type": "markdown",
      "metadata": {},
      "source": [
        "This allows to check if all information is available and if the information is correct.  @tbl-design shows the experimental design for the hyperparameter tuning. Hyperparameter transformations are shown in the column \"transform\", e.g., the `l1` default is `5`, which results in the value $2^5 = 32$ for the network, because the transformation ` transform_power_2_int` was selected in the `JSON` file. The default value of the `batch_size` is set to `4`, which results in a batch size of $2^4 = 16$. \n",
        "\n",
        "\n",
        "| name       | type   | default          |   lower |   upper | transform             |\n",
        "|------------|--------|------------------|---------|---------|-----------------------|\n",
        "| l1         | int    | 5                |   2     |   9     | transform_power_2_int |\n",
        "| l2         | int    | 5                |   2     |   9     | transform_power_2_int |\n",
        "| lr         | float  | 0.001            |   0.001 |   0.001 | None                  |\n",
        "| batch_size | int    | 4                |   1     |   5     | transform_power_2_int |\n",
        "| epochs     | int    | 3                |   3     |   4     | transform_power_2_int |\n",
        "| k_folds    | int    | 2                |   0     |   0     | None                  |\n",
        "| patience   | int    | 5                |   3     |   3     | None                  |\n",
        "| optimizer  | factor | SGD              |   0     |   9     | None                  |\n",
        "\n",
        ": Experimental design for the hyperparameter tuning. The table shows the hyperparameters, their types, default values, lower and upper bounds, and the transformation function. The transformation function is used to transform the hyperparameter values from the unit hypercube to the original domain. The transformation function is applied to the hyperparameter values before the evaluation of the objective function. {#tbl-design}\n",
        "\n",
        "The objective function `fun_torch` is selected next. It implements an interface from `PyTorch`'s training, validation, and  testing methods to `spotPython`."
      ]
    },
    {
      "cell_type": "code",
      "execution_count": null,
      "metadata": {
        "vscode": {
          "languageId": "python"
        }
      },
      "outputs": [],
      "source": [
        "\n",
        "fun = HyperTorch().fun_torch"
      ]
    },
    {
      "cell_type": "code",
      "execution_count": null,
      "metadata": {
        "vscode": {
          "languageId": "python"
        }
      },
      "outputs": [],
      "source": [
        "#| echo: false\n",
        "hyper_dict=TorchHyperDict().load()\n",
        "X_start = get_default_hyperparameters_as_array(fun_control, hyper_dict)"
      ]
    },
    {
      "attachments": {},
      "cell_type": "markdown",
      "metadata": {},
      "source": [
        "The `spotPython` hyperparameter tuning is started by calling the `Spot` function. Here, we will run the tuner for approximately 30 minutes (`max_time`). Note: the initial design is always evaluated in the `spotPython` run. As a consequence, the run may take longer than specified by `max_time`, because the evaluation time of initial design (here: `init_size`, 10 points) is performed independently of `max_time`."
      ]
    },
    {
      "cell_type": "code",
      "execution_count": null,
      "metadata": {
        "vscode": {
          "languageId": "python"
        }
      },
      "outputs": [],
      "source": [
        "\n",
        "spot_tuner = spot.Spot(fun=fun,\n",
        "                   lower = lower,\n",
        "                   upper = upper,\n",
        "                   fun_evals = inf,\n",
        "                   fun_repeats = 1,\n",
        "                   max_time = MAX_TIME,\n",
        "                   noise = False,\n",
        "                   tolerance_x = np.sqrt(np.spacing(1)),\n",
        "                   var_type = var_type,\n",
        "                   var_name = var_name,\n",
        "                   infill_criterion = \"y\",\n",
        "                   n_points = 1,\n",
        "                   seed=123,\n",
        "                   log_level = 50,\n",
        "                   show_models= False,\n",
        "                   show_progress= True,\n",
        "                   fun_control = fun_control,\n",
        "                   design_control={\"init_size\": INIT_SIZE,\n",
        "                                   \"repeats\": 1},\n",
        "                   surrogate_control={\"noise\": True,\n",
        "                                      \"cod_type\": \"norm\",\n",
        "                                      \"min_theta\": -4,\n",
        "                                      \"max_theta\": 3,\n",
        "                                      \"n_theta\": len(var_name),\n",
        "                                      \"model_optimizer\": differential_evolution,\n",
        "                                      \"model_fun_evals\": 10_000,\n",
        "                                      \"log_level\": 50\n",
        "                                      })\n",
        "spot_tuner.run(X_start=X_start)"
      ]
    },
    {
      "attachments": {},
      "cell_type": "markdown",
      "metadata": {},
      "source": [
        "## Results {#sec-results-tuning}"
      ]
    },
    {
      "cell_type": "code",
      "execution_count": null,
      "metadata": {
        "vscode": {
          "languageId": "python"
        }
      },
      "outputs": [],
      "source": [
        "SAVE = False\n",
        "LOAD = False\n",
        "\n",
        "if SAVE:\n",
        "    result_file_name = \"res_\" + experiment_name + \".pkl\"\n",
        "    with open(result_file_name, 'wb') as f:\n",
        "        pickle.dump(spot_tuner, f)\n",
        "\n",
        "if LOAD:\n",
        "    result_file_name = \"add_the_name_of_the_result_file_here.pkl\"\n",
        "    with open(result_file_name, 'rb') as f:\n",
        "        spot_tuner =  pickle.load(f)"
      ]
    },
    {
      "attachments": {},
      "cell_type": "markdown",
      "metadata": {},
      "source": [
        "After the hyperparameter tuning run is finished, the progress of the hyperparameter tuning can be visualized. The following code generates the progress plot from @fig-progress."
      ]
    },
    {
      "cell_type": "code",
      "execution_count": null,
      "metadata": {
        "vscode": {
          "languageId": "python"
        }
      },
      "outputs": [],
      "source": [
        "#| label: fig-progress\n",
        "#| fig-cap: \"Progress plot. *Black* dots denote results from the initial design. *Red* dots  illustrate the improvement found by the surrogate model based optimization.\"\n",
        "spot_tuner.plot_progress(log_y=False, filename=\"./figures\" + experiment_name+\"_progress.png\")"
      ]
    },
    {
      "attachments": {},
      "cell_type": "markdown",
      "metadata": {},
      "source": [
        "@fig-progress shows a typical behaviour that can be observed in many hyperparameter studies [@bart21i]: the largest improvement is obtained during the evaluation of the initial design. The surrogate model based optimization-optimization with the surrogate refines the results. @fig-progress also illustrates one major difference between `ray[tune]` as used in @pyto23a and `spotPython`: the `ray[tune]` uses a random search and will generate results similar to the *black* dots, whereas `spotPython` uses a surrogate model based optimization and presents results represented by *red* dots in @fig-progress. The surrogate model based optimization is considered to be more efficient than a random search, because the surrogate model guides the search towards promising regions in the hyperparameter space.\n",
        "\n",
        "In addition to the improved (\"optimized\") hyperparameter values, `spotPython` allows a statistical analysis, e.g., a sensitivity analysis, of the results. We can print the results of the hyperparameter tuning, see @tbl-results."
      ]
    },
    {
      "cell_type": "code",
      "execution_count": null,
      "metadata": {
        "vscode": {
          "languageId": "python"
        }
      },
      "outputs": [],
      "source": [
        "\n",
        "print(gen_design_table(fun_control=fun_control, spot=spot_tuner))"
      ]
    },
    {
      "attachments": {},
      "cell_type": "markdown",
      "metadata": {},
      "source": [
        "| name       | type   | default          |   lower |   upper |   tuned | transform             |   importance | stars   |\n",
        "|------------|--------|------------------|---------:|---------:|---------:|--------------------|--------------:|---------|\n",
        "| l1         | int    | 5                |     2.0 |     9.0 |     7.0 | pow_2_int |       100.00 | ***     |\n",
        "| l2         | int    | 5                |     2.0 |     9.0 |     3.0 | pow_2_int |        96.29 | ***     |\n",
        "| lr_mult         | float  | 1.0            |   0.1 |   10.0 |   0.1 | None                  |         0.00 |         |\n",
        "| batchsize | int    | 4                |     1.0 |     5.0 |     4.0 | pow_2_int |         0.00 |         |\n",
        "| epochs     | int    | 3                |     3.0 |     4.0 |     4.0 | pow_2_int |         4.18 | *       |\n",
        "| k_folds    | int    | 2                |     0.0 |     0.0 |     0.0 | None                  |         0.00 |         |\n",
        "| patience   | int    | 5                |     3.0 |     3.0 |     3.0 | None                  |         0.00 |         |\n",
        "| optimizer  | factor | SGD              |     0.0 |     9.0 |     3.0 | None                  |         0.16 | .       |\n",
        ": Results of the hyperparameter tuning. The table shows the hyperparameters, their types, default values, lower and upper bounds, and the transformation function. The column \"tuned\" shows the tuned values. The column \"importance\" shows the importance of the hyperparameters. The column \"stars\" shows the importance of the hyperparameters in stars. The importance is computed by the SPOT software. {#tbl-results}\n",
        "\n",
        "To visualize the most important hyperparameters, `spotPython` provides the function `plot_importance`. The following code generates the importance plot from @fig-importance."
      ]
    },
    {
      "cell_type": "code",
      "execution_count": null,
      "metadata": {
        "vscode": {
          "languageId": "python"
        }
      },
      "outputs": [],
      "source": [
        "\n",
        "spot_tuner.plot_importance(threshold=0.025, filename=\"./figures\" + experiment_name+\"_importance.png\")"
      ]
    },
    {
      "attachments": {},
      "cell_type": "markdown",
      "metadata": {},
      "source": [
        "## Get SPOT Results {#sec-get-spot-results}\n",
        "\n",
        "The architecture of the `spotPython` model can be obtained by the following code:"
      ]
    },
    {
      "cell_type": "code",
      "execution_count": null,
      "metadata": {
        "vscode": {
          "languageId": "python"
        }
      },
      "outputs": [],
      "source": [
        "\n",
        "X = spot_tuner.to_all_dim(spot_tuner.min_X.reshape(1,-1))\n",
        "model_spot = get_one_core_model_from_X(X, fun_control)\n",
        "model_spot"
      ]
    },
    {
      "attachments": {},
      "cell_type": "markdown",
      "metadata": {},
      "source": [
        "First, the numerical representation of the hyperparameters are obtained, i.e., the numpy array `X` is generated. This array is then used to generate the model `model_spot` by the function `get_one_core_model_from_X`. The model `model_spot` has the following architecture:\n",
        "\n",
        "\n",
        "```{raw}\n",
        "Net_CIFAR10(\n",
        "  (conv1): Conv2d(3, 6, kernel_size=(5, 5), stride=(1, 1))\n",
        "  (pool): MaxPool2d(kernel_size=2, stride=2, padding=0, dilation=1, ceil_mode=False)\n",
        "  (conv2): Conv2d(6, 16, kernel_size=(5, 5), stride=(1, 1))\n",
        "  (fc1): Linear(in_features=400, out_features=64, bias=True)\n",
        "  (fc2): Linear(in_features=64, out_features=32, bias=True)\n",
        "  (fc3): Linear(in_features=32, out_features=10, bias=True)\n",
        ")\n",
        "```\n",
        "\n",
        "## Get Default Hyperparameters\n",
        "\n",
        "In a similar manner as in @sec-get-spot-results, the default hyperparameters can be obtained."
      ]
    },
    {
      "cell_type": "code",
      "execution_count": null,
      "metadata": {
        "vscode": {
          "languageId": "python"
        }
      },
      "outputs": [],
      "source": [
        "\n",
        "# fun_control was modified, we generate a new one with the original default hyperparameters\n",
        "fc = copy.deepcopy(fun_control)\n",
        "fc.update({\"core_model_hyper_dict\": hyper_dict[fun_control[\"core_model\"].__name__]})\n",
        "model_default = get_one_core_model_from_X(X_start, fun_control=fc)"
      ]
    },
    {
      "attachments": {},
      "cell_type": "markdown",
      "metadata": {},
      "source": [
        "The corresponding default model has the following architecture:\n",
        "\n",
        "```{raw}\n",
        "Net_CIFAR10(\n",
        "  (conv1): Conv2d(3, 6, kernel_size=(5, 5), stride=(1, 1))\n",
        "  (pool): MaxPool2d(kernel_size=2, stride=2, padding=0, dilation=1, ceil_mode=False)\n",
        "  (conv2): Conv2d(6, 16, kernel_size=(5, 5), stride=(1, 1))\n",
        "  (fc1): Linear(in_features=400, out_features=32, bias=True)\n",
        "  (fc2): Linear(in_features=32, out_features=32, bias=True)\n",
        "  (fc3): Linear(in_features=32, out_features=10, bias=True)\n",
        ")\n",
        "```\n",
        "\n",
        "\n",
        "\n",
        "## Evaluation of the Tuned Architecture\n",
        "\n",
        "The method `train_tuned` takes a model architecture without trained weights and trains this model with the train data. The train data is split into train and validation data. The validation data is used for early stopping. The trained model weights are saved as a dictionary.\n",
        "\n",
        " This evaluation is similar to the final evaluation in @pyto23a. \n"
      ]
    },
    {
      "cell_type": "code",
      "execution_count": null,
      "metadata": {
        "vscode": {
          "languageId": "python"
        }
      },
      "outputs": [],
      "source": [
        "train_tuned(net=model_default, train_dataset=train, shuffle=True,\n",
        "        loss_function=fun_control[\"loss_function\"],\n",
        "        metric=fun_control[\"metric_torch\"],\n",
        "        device = DEVICE, show_batch_interval=1_000,)\n",
        "test_tuned(net=model_default, test_dataset=test, \n",
        "        loss_function=fun_control[\"loss_function\"],\n",
        "        metric=fun_control[\"metric_torch\"],\n",
        "        shuffle=False, \n",
        "        device = DEVICE)"
      ]
    },
    {
      "attachments": {},
      "cell_type": "markdown",
      "metadata": {},
      "source": [
        " The following code trains the model `model_spot`. If `path` is set to a filename, e.g., `path = \"model_spot_trained.pt\"`, the weights of the trained model will be saved to this file.\n"
      ]
    },
    {
      "cell_type": "code",
      "execution_count": null,
      "metadata": {
        "vscode": {
          "languageId": "python"
        }
      },
      "outputs": [],
      "source": [
        "train_tuned(net=model_spot, train_dataset=train,\n",
        "        loss_function=fun_control[\"loss_function\"],\n",
        "        metric=fun_control[\"metric_torch\"],\n",
        "        shuffle=True,\n",
        "        device = DEVICE,\n",
        "        path=None)"
      ]
    },
    {
      "attachments": {},
      "cell_type": "markdown",
      "metadata": {},
      "source": [
        "If `path` is set to a filename, e.g., `path = \"model_spot_trained.pt\"`, the weights of the trained model will be loaded from this file."
      ]
    },
    {
      "cell_type": "code",
      "execution_count": null,
      "metadata": {
        "vscode": {
          "languageId": "python"
        }
      },
      "outputs": [],
      "source": [
        "test_tuned(net=model_spot, test_dataset=test,\n",
        "            shuffle=False,\n",
        "            loss_function=fun_control[\"loss_function\"],\n",
        "            metric=fun_control[\"metric_torch\"],\n",
        "            device = DEVICE)"
      ]
    },
    {
      "attachments": {},
      "cell_type": "markdown",
      "metadata": {},
      "source": [
        "```{raw}\n",
        "Loss on hold-out set: 1.242568492603302\n",
        "Accuracy on hold-out set: 0.5957\n",
        "```\n",
        "\n",
        "\n",
        "## Comparison with Default Hyperparameters and Ray Tune\n",
        "\n",
        "@tbl-comparison shows the loss and accuracy of the default model, the model with the hyperparameters from SPOT, and the model with the hyperparameters from `ray[tune]`.\n",
        "\n",
        "| Model     | Validation Loss | Validation Accuracy | Loss    | Accuracy |\n",
        "|:----------|----------------:|--------------------:|--------:|---------:|\n",
        "| Default   | 2.1221          | 0.2452              | 2.1182  | 0.2425   |\n",
        "| `spotPython`      |1.2268         | 0.5896            | 1.2426  | 0.5957   |\n",
        "| `ray[tune]`  | 1.1815          | 0.5836              | -       | 0.5806   |\n",
        ": Comparison of the loss and accuracy of the default model, the model with the hyperparameters from SPOT, and the model with the hyperparameters from `ray[tune]`. `ray[tune]` only shows the validation loss, because training loss is not reported by `ray[tune]`. {#tbl-comparison}\n",
        "\n",
        "\n",
        "## Detailed Hyperparameter Plots\n",
        "\n",
        "The contour plots in this section visualize the interactions of the three most important hyperparameters, `l1`, `l2`,  and `epochs`, and `optimizer` of the surrogate model used to optimize the hyperparameters. Since some of these hyperparameters take fatorial or integer values, sometimes step-like fitness landcapes (or response surfaces) are generated.\n",
        "SPOT draws the interactions of the main hyperparameters by default. It is also possible to visualize all interactions. For this, again refer to the notebook [@bart23e].\n"
      ]
    },
    {
      "cell_type": "code",
      "execution_count": null,
      "metadata": {
        "vscode": {
          "languageId": "python"
        }
      },
      "outputs": [],
      "source": [
        "\n",
        "#| label: fig-contour\n",
        "threshold = 0.025\n",
        "impo = spot_tuner.print_importance(threshold=threshold, print_screen=True)\n",
        "var_plots = [i for i, x in enumerate(impo) if x[1] > threshold]\n",
        "min_z = min(spot_tuner.y)\n",
        "max_z = max(spot_tuner.y)\n",
        "n = spot_tuner.k\n",
        "for i in var_plots:\n",
        "    for j in var_plots:\n",
        "        if j > i:\n",
        "            filename = \"./figures\" + experiment_name+\"_contour_\"+str(i)+\"_\"+str(j)+\".png\"\n",
        "            spot_tuner.plot_contour(i=i, j=j, min_z=min_z, max_z = max_z, filename=filename)"
      ]
    },
    {
      "attachments": {},
      "cell_type": "markdown",
      "metadata": {},
      "source": [
        "The figures above show the contour plots of the loss as a function of the hyperparameters. These plots are very helpful for benchmark studies and for understanding neural networks.\n",
        "`spotPython` provides additional tools for a visual inspection of the results and give valuable insights into the hyperparameter tuning process.\n",
        "This is especially useful for model explainability, transparency, and trustworthiness.\n",
        "In addition to the contour plots, @fig-parallel shows the parallel plot of the hyperparameters."
      ]
    },
    {
      "cell_type": "code",
      "execution_count": null,
      "metadata": {
        "vscode": {
          "languageId": "python"
        }
      },
      "outputs": [],
      "source": [
        "\n",
        "#| label: fig-parallel\n",
        "spot_tuner.parallel_plot()"
      ]
    },
    {
      "attachments": {},
      "cell_type": "markdown",
      "metadata": {},
      "source": [
        "# Summary and Outlook {#sec-summary}\n",
        "\n",
        "This tutorial presents the hyperparameter tuning open source software `spotPython` for `PyTorch`. To show its basic features, a comparison with the \"official\" `PyTorch` hyperparameter tuning tutorial [@pyto23a] is presented.\n",
        "Some of the advantages of `spotPython` are:\n",
        "\n",
        "- Numerical and categorical hyperparameters.\n",
        "- Powerful surrogate models.\n",
        "- Flexible approach and easy to use.\n",
        "- Simple JSON files for the specification of the hyperparameters.\n",
        "- Extension of default and user specified network classes.\n",
        "- Noise handling techniques.\n",
        "\n",
        "Currently, only rudimentary parallel and distributed neural network training is possible, but these capabilities will be extended in the future. The next version of `spotPython` will also include a more detailed documentation and more examples.\n",
        "\n",
        "::: {.callout-important}\n",
        "Important: This tutorial does not present a complete benchmarking study [@bart20gArxiv]. The results are only preliminary and highly dependent on the local configuration (hard- and software). Our goal is to provide a first impression of the performance of the hyperparameter tuning package `spotPython`. To demonstrate its capabilities, a quick comparison with `ray[tune]` was performed. `ray[tune]` was chosen, because it is presented as \"an industry standard tool for distributed hyperparameter tuning.\"  The results should be interpreted with care.\n",
        ":::\n",
        "\n",
        "\n",
        "# Appendix {#sec-appendix}\n",
        "\n",
        "## Sample Output From Ray Tune's Run {.unnumbered}\n",
        "\n",
        "The output from `ray[tune]` could look like this [@pyto23b]:\n",
        "\n",
        "```{raw}\n",
        "Number of trials: 10 (10 TERMINATED)\n",
        "------+------+-------------+--------------+---------+------------+--------------------+\n",
        "|   l1 |   l2 |          lr |   batch_size |    loss |   accuracy | training_iteration |\n",
        "+------+------+-------------+--------------+---------+------------+--------------------|\n",
        "|   64 |    4 | 0.00011629  |            2 | 1.87273 |     0.244  |                  2 |\n",
        "|   32 |   64 | 0.000339763 |            8 | 1.23603 |     0.567  |                  8 |\n",
        "|    8 |   16 | 0.00276249  |           16 | 1.1815  |     0.5836 |                 10 |\n",
        "|    4 |   64 | 0.000648721 |            4 | 1.31131 |     0.5224 |                  8 |\n",
        "|   32 |   16 | 0.000340753 |            8 | 1.26454 |     0.5444 |                  8 |\n",
        "|    8 |    4 | 0.000699775 |            8 | 1.99594 |     0.1983 |                  2 |\n",
        "|  256 |    8 | 0.0839654   |           16 | 2.3119  |     0.0993 |                  1 |\n",
        "|   16 |  128 | 0.0758154   |           16 | 2.33575 |     0.1327 |                  1 |\n",
        "|   16 |    8 | 0.0763312   |           16 | 2.31129 |     0.1042 |                  4 |\n",
        "|  128 |   16 | 0.000124903 |            4 | 2.26917 |     0.1945 |                  1 |\n",
        "+-----+------+------+-------------+--------------+---------+------------+--------------------+\n",
        "Best trial config: {'l1': 8, 'l2': 16, 'lr': 0.00276249, 'batch_size': 16, 'data_dir': '...'}\n",
        "Best trial final validation loss: 1.181501\n",
        "Best trial final validation accuracy: 0.5836\n",
        "Best trial test set accuracy: 0.5806\n",
        "```\n",
        "\n",
        "\n",
        "\n",
        "{{< pagebreak >}}\n",
        "\n",
        "# References {.unnumbered}\n",
        "\n",
        "::: {#refs}\n",
        ":::"
      ]
    }
  ],
  "metadata": {
    "kernelspec": {
      "display_name": "Python 3 (ipykernel)",
      "language": "python",
      "name": "python3"
    }
  },
  "nbformat": 4,
  "nbformat_minor": 4
}
