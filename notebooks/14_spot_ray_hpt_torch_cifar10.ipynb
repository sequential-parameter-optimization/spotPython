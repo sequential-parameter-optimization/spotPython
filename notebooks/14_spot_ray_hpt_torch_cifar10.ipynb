{
  "cells": [
    {
      "cell_type": "raw",
      "metadata": {},
      "source": [
        "---\n",
        "title: PyTorch Hyperparameter Tuning --- A Tutorial for spotPython\n",
        "subtitle: Version 0.2.0\n",
        "format:\n",
        "  pdf:\n",
        "    template: bart23e_template.tex\n",
        "    fig-width: 7\n",
        "    fig-height: 5\n",
        "    keep-tex: true\n",
        "    linenumbers: false\n",
        "    doublespacing: false\n",
        "    number-sections: true\n",
        "    runninghead: PyTorch Hyperparameter Tuning With spotPython\n",
        "  html:\n",
        "    fig-width: 7\n",
        "    fig-height: 5\n",
        "author:\n",
        "  - name: Thomas Bartz-Beielstein\n",
        "    affiliations:\n",
        "      - name: SpotSeven Lab\n",
        "      - city: Gummersbach\n",
        "        country: Germany\n",
        "        postal-code: 51643\n",
        "    orcid: 0000-0002-5938-5158\n",
        "    email: bartzbeielstein@gmail.com\n",
        "    url: 'https://www.spotseven.de'\n",
        "abstract: |\n",
        "  The goal of hyperparameter tuning (or hyperparameter optimization) is to optimize the hyperparameters to improve the performance of the machine or deep learning model. spotPython (\"Sequential Parameter Optimization Toolbox in Python\") is the Python version of the well-known hyperparameter tuner SPOT, which has been developed in the R programming environment for statistical analysis for over a decade. PyTorch is an optimized tensor library for deep learning using GPUs and CPUs. This document shows how to integrate the spotPython hyperparameter tuner into the PyTorch training workflow.  As an example, the results of the CIFAR10 image classifier are used. In addition to an introduction to spotPython, this tutorial also includes a brief comparison with Ray Tune, a Python library for running experiments and tuning hyperparameters. This comparison is based on the PyTorch hyperparameter tuning tutorial. The advantages and disadvantages of both approaches are discussed. We show that spotPython achieves similar or even better results while being more flexible and transparent than Ray Tune.\n",
        "keywords:\n",
        "  - hyperparameter tuning\n",
        "  - hyperparameter optimization\n",
        "  - spotPython\n",
        "  - PyTorch\n",
        "  - CIFAR10\n",
        "  - optimization\n",
        "  - deep learning\n",
        "  - machine learning\n",
        "bibliography: bart23e.bib\n",
        "execute:\n",
        "  cache: false\n",
        "  eval: false\n",
        "  echo: true\n",
        "  warning: false\n",
        "---"
      ]
    },
    {
      "attachments": {},
      "cell_type": "markdown",
      "metadata": {},
      "source": [
        "# Hyperparameter Tuning {#sec-hyperparameter-tuning}\n",
        "\n",
        "Hyperparameter tuning is an important, but often difficult and computationally intensive task.\n",
        "Changing the architecture of a neural network or the learning rate of an optimizer can have a significant impact on the performance.\n",
        "\n",
        "The goal of hyperparameter tuning is to optimize the hyperparameters in a way that improves the performance of the machine learning or deep learning model.\n",
        "The simplest, but also most computationally expensive, approach uses manual search (or trial-and-error [@Meignan:2015vp]).\n",
        "Commonly encountered is simple random search, i.e., random and repeated selection of hyperparameters for evaluation, and lattice search (\"grid search\").\n",
        "In addition, methods that perform directed search  and other model-free algorithms, i.e., algorithms that do not explicitly rely on a model, e.g., evolution strategies [@Bart13j] or pattern search [@Torczon00] play an important role.\n",
        "Also, \"hyperband\", i.e., a multi-armed bandit strategy that dynamically allocates resources to a set of random configurations and uses successive bisections to stop configurations with poor performance [@Li16a], is very common in hyperparameter tuning.\n",
        "The most sophisticated and efficient approaches are the Bayesian optimization and surrogate model based optimization methods, which are based on the optimization of cost functions determined by simulations or experiments.\n",
        "\n",
        "We consider below a surrogate model based optimization-based hyperparameter tuning approach based on the Python version of the SPOT (\"Sequential Parameter Optimization Toolbox\") [@BLP05], which is suitable for situations where only limited resources are available. This may be due to limited availability and cost of hardware, or due to the fact that confidential data may only be processed locally, e.g., due to legal requirements.\n",
        "Furthermore, in our approach, the understanding of algorithms is seen as a key tool for enabling transparency and explainability. This can be enabled, for example, by quantifying the contribution of machine learning and deep learning components (nodes, layers, split decisions, activation functions, etc.).\n",
        "Understanding the importance of hyperparameters and the interactions between multiple hyperparameters plays a major role in the interpretability and explainability of machine learning models.\n",
        "SPOT provides statistical tools for understanding hyperparameters and their interactions. Last but not least, it should be noted that the SPOT software code is available in the open source `spotPython` package on github^[[https://github.com/sequential-parameter-optimization](https://github.com/sequential-parameter-optimization)], allowing replicability of the results.\n",
        "This tutorial descries the Python variant of SPOT, which is called `spotPython`. The R implementation is described in @bart21i.\n",
        "SPOT is an established open source software that has been maintained for more than 15 years [@BLP05] [@bart21i].\n",
        "\n",
        "This tutorial is structured as follows. The concept of the hyperparameter tuning software `spotPython` is described in @sec-spot. @sec-hyperparameter-tuning-for-pytorch describes the integration of `spotPython` into the ``PyTorch`` training workflow and presents the results. Finally, @sec-summary presents a summary and an outlook.\n",
        "\n",
        "::: {.callout-note}\n",
        "The corresponding ` .ipynb` notebook [@bart23e] is updated regularly and reflects updates and changes in the `spotPython` package.\n",
        "It can be downloaded from [https://github.com/sequential-parameter-optimization/spotPython/blob/main/notebooks/14_spot_ray_hpt_torch_cifar10.ipynb](https://github.com/sequential-parameter-optimization/spotPython/blob/main/notebooks/14_spot_ray_hpt_torch_cifar10.ipynb).\n",
        ":::\n",
        "\n",
        "\n",
        "# The Hyperparameter Tuning Software SPOT {#sec-spot}\n",
        "\n",
        "Surrogate model based optimization methods are common approaches in simulation and optimization. SPOT was developed because there is a great need for sound statistical analysis of simulation and optimization algorithms. SPOT includes methods for tuning based on classical regression and analysis of variance techniques.\n",
        "It presents tree-based models such as classification and regression trees and random forests as well as Bayesian optimization (Gaussian process models, also known as Kriging). Combinations of different meta-modeling approaches are possible. SPOT comes with a sophisticated surrogate model based optimization method, that can handle discrete and continuous inputs. Furthermore, any model implemented in `scikit-learn` can be used out-of-the-box as a surrogate in `spotPython`.\n",
        "\n",
        "SPOT implements key techniques such as exploratory fitness landscape analysis and sensitivity analysis. It can be used to understand the performance of various algorithms, while simultaneously giving insights into their algorithmic behavior.\n",
        "In addition, SPOT can be used as an optimizer and for automatic and interactive tuning. Details on SPOT and its use in practice are given by @bart21i.\n",
        "\n",
        "A typical hyperparameter tuning process with `spotPython` consists of the following steps:\n",
        "\n",
        "1. Loading the data (training and test datasets), see @sec-data-loading.\n",
        "2. Specification of the preprocessing model, see @sec-specification-of-preprocessing-model. This model is called `prep_model` (\"preparation\" or pre-processing).\n",
        "The information required for the hyperparameter tuning is stored in the dictionary `fun_control`. Thus, the information needed for the execution of the hyperparameter tuning is available in a readable form.\n",
        "3. Selection of the machine learning or deep learning model to be tuned, see @sec-selection-of-the-algorithm. This is called the `core_model`. Once the `core_model` is defined, then the associated hyperparameters are stored in the `fun_control` dictionary. First, the hyperparameters of the `core_model` are initialized with the default values of the `core_model`.\n",
        "As default values we use the default values contained in the `spotPython` package for the algorithms of the `torch` package.\n",
        "4. Modification of the default values for the hyperparameters used in `core_model`, see @sec-modification-of-default-values. This step is optional.\n",
        "   1. numeric parameters are modified by changing the bounds.\n",
        "   2. categorical parameters are modified by changing the categories (\"levels\").\n",
        "5. Selection of target function (loss function) for the optimizer, see @sec-selection-of-target-function.\n",
        "6. Calling SPOT with the corresponding parameters, see @sec-call-the-hyperparameter-tuner. The results are stored in a dictionary and are available for further analysis.\n",
        "7. Presentation, visualization and interpretation of the results, see @sec-results-tuning.\n",
        "\n",
        "# Hyperparameter Tuning for PyTorch With `spotPython` {#sec-hyperparameter-tuning-for-pytorch}\n",
        "\n",
        "In this tutorial, we will show how `spotPython` can be integrated into the `PyTorch`\n",
        "training workflow. It is based on the tutorial \"Hyperparameter Tuning with Ray Tune\" from the `PyTorch` documentation [@pyto23a], which is an extension of the tutorial \"Training a Classifier\" [@pyto23b] for training a CIFAR10 image classifier.\n",
        "\n",
        "This document refers to the following software versions:\n",
        "\n",
        "- ``python``: 3.10.10\n",
        "- ``torch``: 2.0.1\n",
        "- ``torchvision``: 0.15.0\n",
        "- ``spotPython``: 0.2.0\n",
        "`spotPython` can be installed via pip^[Alternatively, the source code can be downloaded from gitHub: [https://github.com/sequential-parameter-optimization/spotPython](https://github.com/sequential-parameter-optimization/spotPython).].\n",
        "\n",
        "```{raw}\n",
        "!pip install spotPython\n",
        "```\n",
        "\n",
        "Results that refer to the `Ray Tune` package are taken from [https://PyTorch.org/tutorials/beginner/hyperparameter_tuning_tutorial.html](https://PyTorch.org/tutorials/beginner/hyperparameter_tuning_tutorial.html)^[We were not able to install `Ray Tune` on our system. Therefore, we used the results from the `PyTorch` tutorial.].\n",
        "\n",
        "## Setup {#sec-setup}\n",
        "\n",
        "Before we consider the detailed experimental setup, we select the parameters that affect run time, initial design size and the device that is used."
      ]
    },
    {
      "cell_type": "code",
      "execution_count": 1,
      "metadata": {
        "vscode": {
          "languageId": "python"
        }
      },
      "outputs": [],
      "source": [
        "MAX_TIME = 60\n",
        "INIT_SIZE = 20\n",
        "DEVICE = \"cpu\" # \"cuda:0\""
      ]
    },
    {
      "cell_type": "code",
      "execution_count": 2,
      "metadata": {
        "vscode": {
          "languageId": "python"
        }
      },
      "outputs": [
        {
          "name": "stdout",
          "output_type": "stream",
          "text": [
            "14-torch_maans03_60min_20init_2023-05-27_23-10-01\n"
          ]
        }
      ],
      "source": [
        "#| echo: false\n",
        "import os\n",
        "import copy\n",
        "import pickle\n",
        "import socket\n",
        "from datetime import datetime\n",
        "from dateutil.tz import tzlocal\n",
        "start_time = datetime.now(tzlocal())\n",
        "HOSTNAME = socket.gethostname().split(\".\")[0]\n",
        "experiment_name = '14-torch' + \"_\" + HOSTNAME + \"_\" + str(MAX_TIME) + \"min_\" + str(INIT_SIZE) + \"init_\" + str(start_time).split(\".\", 1)[0].replace(' ', '_')\n",
        "experiment_name = experiment_name.replace(':', '-')\n",
        "print(experiment_name)\n",
        "if not os.path.exists('./figures'):\n",
        "    os.makedirs('./figures')"
      ]
    },
    {
      "cell_type": "code",
      "execution_count": 3,
      "metadata": {
        "vscode": {
          "languageId": "python"
        }
      },
      "outputs": [],
      "source": [
        "#| echo: false\n",
        "from tabulate import tabulate\n",
        "import warnings\n",
        "import json\n",
        "import numpy as np\n",
        "from math import inf\n",
        "import pandas as pd\n",
        "\n",
        "from scipy.optimize import differential_evolution\n",
        "\n",
        "import torch\n",
        "import torchmetrics\n",
        "from torch import nn\n",
        "from torch.nn import CrossEntropyLoss\n",
        "from torch.utils.data import DataLoader\n",
        "import torch.nn.functional as F\n",
        "import torch.optim as optim\n",
        "from torch.utils.data import random_split\n",
        "import torchvision\n",
        "from torchvision import datasets\n",
        "import torchvision.transforms as transforms\n",
        "from torchvision.transforms import ToTensor\n",
        "\n",
        "from spotPython.spot import spot\n",
        "from spotPython.hyperparameters.values import (\n",
        "    add_core_model_to_fun_control,\n",
        "    assign_values,\n",
        "    get_bound_values,\n",
        "    get_default_values,\n",
        "    get_default_hyperparameters_as_array,\n",
        "    get_var_name,\n",
        "    get_var_type,\n",
        "    modify_hyper_parameter_levels,\n",
        "    modify_hyper_parameter_bounds,\n",
        "    return_conf_list_from_var_dict,\n",
        "    get_one_core_model_from_X,\n",
        ")\n",
        "from spotPython.torch.traintest import (\n",
        "    evaluate_cv,\n",
        "    evaluate_hold_out,\n",
        "    train_tuned,\n",
        "    test_tuned,\n",
        "    )\n",
        "from spotPython.utils.eda import gen_design_table\n",
        "from spotPython.utils.transform import transform_hyper_parameter_values\n",
        "from spotPython.utils.init import fun_control_init\n",
        "\n",
        "from spotPython.data.torch_hyper_dict import TorchHyperDict\n",
        "from spotPython.fun.hypertorch import HyperTorch\n",
        "from spotPython.torch.netcifar10 import Net_CIFAR10\n",
        "\n",
        "warnings.filterwarnings(\"ignore\")"
      ]
    },
    {
      "attachments": {},
      "cell_type": "markdown",
      "metadata": {},
      "source": [
        "## Initialization of the `fun_control` Dictionary\n",
        "\n",
        "`spotPython` uses a Python dictionary for storing the information required for the hyperparameter tuning process. This dictionary is called `fun_control` and is initialized with the function `fun_control_init`. The function `fun_control_init` returns a skeleton  dictionary. The dictionary is filled with the required information for the hyperparameter tuning process. It stores the hyperparameter tuning settings, e.g., the deep learning network architecture that should be tuned, the classification (or regression) problem, and the data that is used for the tuning.\n",
        "The dictionary is used as an input for the SPOT function.\n"
      ]
    },
    {
      "cell_type": "code",
      "execution_count": 4,
      "metadata": {
        "vscode": {
          "languageId": "python"
        }
      },
      "outputs": [],
      "source": [
        "\n",
        "fun_control = fun_control_init()"
      ]
    },
    {
      "attachments": {},
      "cell_type": "markdown",
      "metadata": {},
      "source": [
        "## Data Loading {#sec-data-loading}\n",
        "\n",
        "The data loading process is implemented in the same manner as described in the Section \"Data loaders\" in @pyto23a.\n",
        "The data loaders are wrapped into the function `load_data`. A global data directory is used, which allows sharing the data directory between different trials."
      ]
    },
    {
      "cell_type": "code",
      "execution_count": 5,
      "metadata": {
        "vscode": {
          "languageId": "python"
        }
      },
      "outputs": [],
      "source": [
        "\n",
        "def load_data(data_dir=\"./data\"):\n",
        "    transform = transforms.Compose([\n",
        "        transforms.ToTensor(),\n",
        "        transforms.Normalize((0.5, 0.5, 0.5), (0.5, 0.5, 0.5))\n",
        "    ])\n",
        "\n",
        "    trainset = torchvision.datasets.CIFAR10(\n",
        "        root=data_dir, train=True, download=True, transform=transform)\n",
        "\n",
        "    testset = torchvision.datasets.CIFAR10(\n",
        "        root=data_dir, train=False, download=True, transform=transform)\n",
        "\n",
        "    return trainset, testset"
      ]
    },
    {
      "attachments": {},
      "cell_type": "markdown",
      "metadata": {},
      "source": [
        "The test and train data are added to the dictionary `fun_control`.\n"
      ]
    },
    {
      "cell_type": "code",
      "execution_count": 6,
      "metadata": {
        "vscode": {
          "languageId": "python"
        }
      },
      "outputs": [
        {
          "name": "stdout",
          "output_type": "stream",
          "text": [
            "Files already downloaded and verified\n",
            "Files already downloaded and verified\n"
          ]
        }
      ],
      "source": [
        "\n",
        "train, test = load_data()\n",
        "n_samples = len(train)\n",
        "# add the dataset to the fun_control\n",
        "fun_control.update({\n",
        "    \"train\": train,\n",
        "    \"test\": test,\n",
        "    \"n_samples\": n_samples})"
      ]
    },
    {
      "attachments": {},
      "cell_type": "markdown",
      "metadata": {},
      "source": [
        "## Specification of the Preprocessing Model {#sec-specification-of-preprocessing-model}\n",
        "\n",
        "After the training and test data are specified and added to the `fun_control` dictionary, `spotPython` allows the specification of a data preprocessing pipeline, e.g., for the scaling of the data or for the one-hot encoding of categorical variables. The preprocessing model is called `prep_model` (\"preparation\" or pre-processing) and includes steps that are not subject to the hyperparameter tuning process. The preprocessing model is specified in the `fun_control` dictionary. The preprocessing model can be implemented as a `sklearn` pipeline. The following code shows a typical preprocessing pipeline:\n",
        "\n",
        "```{raw}\n",
        "categorical_columns = [\"cities\", \"colors\"]\n",
        "one_hot_encoder = OneHotEncoder(handle_unknown=\"ignore\",\n",
        "                                    sparse_output=False)\n",
        "prep_model = ColumnTransformer(\n",
        "        transformers=[\n",
        "             (\"categorical\", one_hot_encoder, categorical_columns),\n",
        "         ],\n",
        "         remainder=StandardScaler(),\n",
        "     )\n",
        "```\n",
        "\n",
        "Because the Ray Tune (`ray[tune]`) hyperparameter tuning as described in @pyto23a does not use a preprocessing model, the preprocessing model is set to `None` here."
      ]
    },
    {
      "cell_type": "code",
      "execution_count": 7,
      "metadata": {
        "vscode": {
          "languageId": "python"
        }
      },
      "outputs": [],
      "source": [
        "\n",
        "prep_model = None\n",
        "fun_control.update({\"prep_model\": prep_model})"
      ]
    },
    {
      "attachments": {},
      "cell_type": "markdown",
      "metadata": {},
      "source": [
        "## Select `algorithm` and `core_model_hyper_dict` {#sec-selection-of-the-algorithm}\n",
        "\n",
        "The same neural network model as implemented in the section \"Configurable neural network\" of the `PyTorch` tutorial [@pyto23a] is used here.\n",
        "We will show the implementation from @pyto23a in @sec-implementation-with-raytune first, before the extended implementation with `spotPython` is shown in @sec-implementation-with-spotpython.\n",
        "\n",
        "\n",
        "### Implementing a Configurable Neural Network With Ray Tune{#sec-implementation-with-raytune}\n",
        "\n",
        "We used the same hyperparameters that are implemented as configurable in the `PyTorch` tutorial. We specify the layer sizes, namely `l1` and `l2`, of the fully connected layers:\n",
        "\n",
        "```{raw}\n",
        "class Net(nn.Module):\n",
        "    def __init__(self, l1=120, l2=84):\n",
        "        super(Net, self).__init__()\n",
        "        self.conv1 = nn.Conv2d(3, 6, 5)\n",
        "        self.pool = nn.MaxPool2d(2, 2)\n",
        "        self.conv2 = nn.Conv2d(6, 16, 5)\n",
        "        self.fc1 = nn.Linear(16 * 5 * 5, l1)\n",
        "        self.fc2 = nn.Linear(l1, l2)\n",
        "        self.fc3 = nn.Linear(l2, 10)\n",
        "\n",
        "    def forward(self, x):\n",
        "        x = self.pool(F.relu(self.conv1(x)))\n",
        "        x = self.pool(F.relu(self.conv2(x)))\n",
        "        x = x.view(-1, 16 * 5 * 5)\n",
        "        x = F.relu(self.fc1(x))\n",
        "        x = F.relu(self.fc2(x))\n",
        "        x = self.fc3(x)\n",
        "        return x\n",
        "\n",
        "```\n",
        "\n",
        "The learning rate, i.e., `lr`,  of the optimizer is made configurable, too:\n",
        "\n",
        "```{raw}\n",
        "optimizer = optim.SGD(net.parameters(), lr=config[\"lr\"], momentum=0.9)\n",
        "```\n",
        "\n",
        "### Implementing a Configurable Neural Network With spotPython {#sec-implementation-with-spotpython}\n",
        "\n",
        "`spotPython` implements a class which is similar to the class described in the `PyTorch` tutorial. The class is called `Net_CIFAR10` and is implemented in the file `netcifar10.py`.\n",
        "\n",
        "```{raw}\n",
        "import spotPython.torch.netcore as netcore\n",
        "class Net_CIFAR10(netcore.Net_Core):\n",
        "    def __init__(self, l1, l2, lr_mult, batch_size, epochs, k_folds, patience):\n",
        "        super(Net_CIFAR10, self).__init__(\n",
        "            lr_mult=lr_mult, batch_size=batch_size, epochs=epochs, k_folds=k_folds,\n",
        "            patience=patience\n",
        "        )\n",
        "        self.conv1 = nn.Conv2d(3, 6, 5)\n",
        "        self.pool = nn.MaxPool2d(2, 2)\n",
        "        self.conv2 = nn.Conv2d(6, 16, 5)\n",
        "        self.fc1 = nn.Linear(16 * 5 * 5, l1)\n",
        "        self.fc2 = nn.Linear(l1, l2)\n",
        "        self.fc3 = nn.Linear(l2, 10)\n",
        "\n",
        "    def forward(self, x):\n",
        "        x = self.pool(F.relu(self.conv1(x)))\n",
        "        x = self.pool(F.relu(self.conv2(x)))\n",
        "        x = x.view(-1, 16 * 5 * 5)\n",
        "        x = F.relu(self.fc1(x))\n",
        "        x = F.relu(self.fc2(x))\n",
        "        x = self.fc3(x)\n",
        "        return x\n",
        "```\n",
        "\n",
        "`Net_CIFAR10` inherits from the class `Net_Core` which is implemented in the file `netcore.py`.  It implements the additional attributes that are common to all neural network models. The attributes are the learning rate multiplier `lr_mult`, the batch size `batch_size`, the number of epochs `epochs`, the number of folds `k_folds` for the cross validation, and the patience `patience` for the early stopping. The class `Net_Core` is shown below.\n",
        "\n",
        "```{raw}\n",
        "from torch import nn\n",
        "\n",
        "\n",
        "class Net_Core(nn.Module):\n",
        "    def __init__(self, lr_mult, batch_size, epochs, k_folds, patience):\n",
        "        super(Net_Core, self).__init__()\n",
        "        self.lr_mult = lr_mult\n",
        "        self.batch_size = batch_size\n",
        "        self.epochs = epochs\n",
        "        self.k_folds = k_folds\n",
        "        self.patience = patience\n",
        "```\n",
        "\n",
        "### Comparison of the Approach Described in the PyTorch Tutorial With spotPython {#sec-comparison}\n",
        "\n",
        "Comparing the class `Net` from the `PyTorch` tutorial and the class `Net_CIFAR10` from `spotPython`, we see that the class `Net_CIFAR10` has additional attributes and does not inherit from `nn` directly. It adds an additional class, `Net_core`, that takes care of additional attributes that are common to all neural network models, e.g., the learning rate multiplier `lr_mult` or the batch size `batch_size`.\n",
        "\n",
        "`spotPython`'s `core_model` implements an instance of the `Net_CIFAR10` class. In addition to the basic neural network model, the `core_model` can use these additional attributes.\n",
        "`spotPython` provides methods for handling these additional attributes to guarantee 100% compatibility with the `PyTorch` classes. The method `add_core_model_to_fun_control` adds the hyperparameters and additional attributes to the `fun_control` dictionary. The method is shown below."
      ]
    },
    {
      "cell_type": "code",
      "execution_count": 8,
      "metadata": {
        "vscode": {
          "languageId": "python"
        }
      },
      "outputs": [],
      "source": [
        "\n",
        "core_model = Net_CIFAR10\n",
        "fun_control = add_core_model_to_fun_control(core_model=core_model,\n",
        "                              fun_control=fun_control,\n",
        "                              hyper_dict=TorchHyperDict,\n",
        "                              filename=None)"
      ]
    },
    {
      "attachments": {},
      "cell_type": "markdown",
      "metadata": {},
      "source": [
        "::: {.callout-note}\n",
        "In addition to the class Net from the `PyTorch` tutorial, the class Net_CIFAR10 has additional attributes, e.g.:\n",
        "\n",
        "* learning rate (`lr`),\n",
        "* batch size (`batch_size`),\n",
        "* epochs (`epochs`),\n",
        "* k_folds (`k_folds`), and\n",
        "* early stopping criterion \"patience\" (`patience`)\n",
        "\n",
        "Further attributes can be easily added to the class, e.g., `optimizer`.\n",
        ":::\n",
        "\n",
        "## The Search Space {#sec-search-space}\n",
        "\n",
        "In @sec-configuring-the-search-space-with-ray-tune, we first describe how to configure the search space with `ray[tune]`  (as shown in @pyto23a) \n",
        "and then how to configure the search space with `spotPython` in @sec-configuring-the-search-space-with-spotpython.\n",
        "\n",
        "### Configuring the Search Space With Ray Tune {#sec-configuring-the-search-space-with-ray-tune}\n",
        "\n",
        " Ray Tune's search space can be configured as follows [@pyto23a]:\n",
        "\n",
        "```{raw}\n",
        "config = {\n",
        "    \"l1\": tune.sample_from(lambda _: 2**np.random.randint(2, 9)),\n",
        "    \"l2\": tune.sample_from(lambda _: 2**np.random.randint(2, 9)),\n",
        "    \"lr\": tune.loguniform(1e-4, 1e-1),\n",
        "    \"batch_size\": tune.choice([2, 4, 8, 16])\n",
        "}\n",
        "```\n",
        "The ``tune.sample_from()`` function enables the user to define sample\n",
        "methods to obtain hyperparameters. In this example, the ``l1`` and ``l2`` parameters\n",
        "should be powers of 2 between 4 and 256, so either 4, 8, 16, 32, 64, 128, or 256.\n",
        "The ``lr`` (learning rate) should be uniformly sampled between 0.0001 and 0.1. Lastly,\n",
        "the batch size is a choice between 2, 4, 8, and 16.\n",
        "\n",
        "At each trial, `ray[tune]` will randomly sample a combination of parameters from these\n",
        "search spaces. It will then train a number of models in parallel and find the best\n",
        "performing one among these. `ray[tune]` uses the ``ASHAScheduler`` which will terminate bad\n",
        "performing trials early.\n",
        "\n",
        "### Configuring the Search Space With spotPython {#sec-configuring-the-search-space-with-spotpython}\n",
        "\n",
        "#### The `hyper_dict` Hyperparameters for the Selected Algorithm\n",
        "\n",
        "`spotPython` uses simple `JSON` files for the specification of the hyperparameters.\n",
        "Users can specify their individual  `JSON` files, or they can use the `JSON` files provided by `spotPython`.\n",
        "The `JSON` file for the `core_model` is called `torch_hyper_dict.json`.\n",
        "\n",
        "In contrast to `ray[tune]`, `spotPython` can handle numerical, boolean, and categorical hyperparameters. They can be specified in the `JSON` file in a similar way as the numerical hyperparameters as shown below:\n",
        "\n",
        "```json\n",
        "\"factor_hyperparameter\": {\n",
        "    \"levels\": [\"A\", \"B\", \"C\"],\n",
        "    \"type\": \"factor\",\n",
        "    \"default\": \"B\",\n",
        "    \"transform\": \"None\",\n",
        "    \"core_model_parameter_type\": \"str\",\n",
        "    \"lower\": 0,\n",
        "    \"upper\": 2},\n",
        "```\n",
        "\n",
        "Each entry in the `JSON` file represents one hyperparameter with the following structure:\n",
        "`type`, `default`, `transform`, `lower`, and `upper`.\n",
        "The corresponding entries for the `Net_CIFAR10` class are shown below.\n",
        "\n",
        "```json\n",
        "{\"Net_CIFAR10\":\n",
        "    {\n",
        "        \"l1\": {\n",
        "            \"type\": \"int\",\n",
        "            \"default\": 5,\n",
        "            \"transform\": \"transform_power_2_int\",\n",
        "            \"lower\": 2,\n",
        "            \"upper\": 9},\n",
        "        \"l2\": {\n",
        "            \"type\": \"int\",\n",
        "            \"default\": 5,\n",
        "            \"transform\": \"transform_power_2_int\",\n",
        "            \"lower\": 2,\n",
        "            \"upper\": 9},\n",
        "        \"lr_mult\": {\n",
        "            \"type\": \"float\",\n",
        "            \"default\": 1.0,\n",
        "            \"transform\": \"None\",\n",
        "            \"lower\": 0.1,\n",
        "            \"upper\": 10},\n",
        "        \"batch_size\": {\n",
        "            \"type\": \"int\",\n",
        "            \"default\": 4,\n",
        "            \"transform\": \"transform_power_2_int\",\n",
        "            \"lower\": 1,\n",
        "            \"upper\": 4},\n",
        "        \"epochs\": {\n",
        "            \"type\": \"int\",\n",
        "            \"default\": 3,\n",
        "            \"transform\": \"transform_power_2_int\",\n",
        "            \"lower\": 1,\n",
        "            \"upper\": 4},\n",
        "        \"k_folds\": {\n",
        "            \"type\": \"int\",\n",
        "            \"default\": 2,\n",
        "            \"transform\": \"None\",\n",
        "            \"lower\": 2,\n",
        "            \"upper\": 3},\n",
        "        \"patience\": {\n",
        "            \"type\": \"int\",\n",
        "            \"default\": 5,\n",
        "            \"transform\": \"None\",\n",
        "            \"lower\": 2,\n",
        "            \"upper\": 10},\n",
        "        \"optimizer\": {\n",
        "            \"levels\": [\"Adadelta\",\n",
        "                       \"Adagrad\",\n",
        "                       \"Adam\",\n",
        "                       \"AdamW\",\n",
        "                       \"SparseAdam\",\n",
        "                       \"Adamax\",\n",
        "                       \"ASGD\",\n",
        "                       \"LBFGS\",\n",
        "                       \"NAdam\",\n",
        "                       \"RAdam\",\n",
        "                       \"RMSprop\",\n",
        "                       \"Rprop\",\n",
        "                       \"SGD\"],\n",
        "            \"type\": \"factor\",\n",
        "            \"default\": \"SGD\",\n",
        "            \"transform\": \"None\",\n",
        "            \"class_name\": \"torch.optim\",\n",
        "            \"core_model_parameter_type\": \"str\",\n",
        "            \"lower\": 0,\n",
        "            \"upper\": 12},\n",
        "        \"sgd_momentum\": {\n",
        "            \"type\": \"float\",\n",
        "            \"default\": 0.0,\n",
        "            \"transform\": \"None\",\n",
        "            \"lower\": 0.0,\n",
        "            \"upper\": 1.0}\n",
        "    }\n",
        "}\n",
        "```\n",
        "\n",
        "\n",
        "## Modifying the Hyperparameters {#sec-modification-of-hyperparameters}\n",
        "\n",
        "Ray tune [@pyto23a] does not provide a way to change the specified hyperparameters without re-compilation. However, `spotPython` provides functions for modifying the hyperparameters, their bounds and factors as well as for activating and de-activating hyperparameters without re-compilation of the Python source code. These functions are described in the following.\n",
        "\n",
        "### Modify `hyper_dict` Hyperparameters for the Selected Algorithm aka `core_model` {#sec-modification-of-default-values}\n",
        "\n",
        "After specifying the model, the corresponding hyperparameters, their types and bounds are loaded from the `JSON` file `torch_hyper_dict.json`. After loading, the user can modify the hyperparameters, e.g., the bounds.\n",
        "`spotPython` provides a simple rule for de-activating hyperparameters: If the lower and the upper bound are set to identical values, the hyperparameter is de-activated. This is useful for the hyperparameter tuning, because it allows to specify a hyperparameter in the `JSON` file, but to de-activate it in the `fun_control` dictionary. This is done in the next step.\n",
        "\n",
        "\n",
        "### Modify Hyperparameters of Type numeric and integer (boolean)\n",
        "\n",
        "Since the hyperparameter `k_folds` is not used in the `PyTorch` tutorial, it is de-activated here by setting the lower and upper bound to the same value. Note, `k_folds` is of type \"integer\"."
      ]
    },
    {
      "cell_type": "code",
      "execution_count": 9,
      "metadata": {
        "vscode": {
          "languageId": "python"
        }
      },
      "outputs": [
        {
          "data": {
            "text/plain": [
              "{'l1': {'type': 'int',\n",
              "  'default': 5,\n",
              "  'transform': 'transform_power_2_int',\n",
              "  'lower': 2,\n",
              "  'upper': 9},\n",
              " 'l2': {'type': 'int',\n",
              "  'default': 5,\n",
              "  'transform': 'transform_power_2_int',\n",
              "  'lower': 2,\n",
              "  'upper': 9},\n",
              " 'lr_mult': {'type': 'float',\n",
              "  'default': 1.0,\n",
              "  'transform': 'None',\n",
              "  'lower': 0.1,\n",
              "  'upper': 10.0},\n",
              " 'batch_size': {'type': 'int',\n",
              "  'default': 4,\n",
              "  'transform': 'transform_power_2_int',\n",
              "  'lower': 1,\n",
              "  'upper': 5},\n",
              " 'epochs': {'type': 'int',\n",
              "  'default': 3,\n",
              "  'transform': 'transform_power_2_int',\n",
              "  'lower': 3,\n",
              "  'upper': 4},\n",
              " 'k_folds': {'type': 'int',\n",
              "  'default': 2,\n",
              "  'transform': 'None',\n",
              "  'lower': 0,\n",
              "  'upper': 0},\n",
              " 'patience': {'type': 'int',\n",
              "  'default': 5,\n",
              "  'transform': 'None',\n",
              "  'lower': 3,\n",
              "  'upper': 3},\n",
              " 'optimizer': {'levels': ['Adadelta',\n",
              "   'Adagrad',\n",
              "   'Adam',\n",
              "   'AdamW',\n",
              "   'SparseAdam',\n",
              "   'Adamax',\n",
              "   'ASGD',\n",
              "   'NAdam',\n",
              "   'RAdam',\n",
              "   'RMSprop',\n",
              "   'Rprop',\n",
              "   'SGD'],\n",
              "  'type': 'factor',\n",
              "  'default': 'SGD',\n",
              "  'transform': 'None',\n",
              "  'class_name': 'torch.optim',\n",
              "  'core_model_parameter_type': 'str',\n",
              "  'lower': 0,\n",
              "  'upper': 12},\n",
              " 'sgd_momentum': {'type': 'float',\n",
              "  'default': 0.0,\n",
              "  'transform': 'None',\n",
              "  'lower': 0.0,\n",
              "  'upper': 1.0}}"
            ]
          },
          "execution_count": 9,
          "metadata": {},
          "output_type": "execute_result"
        }
      ],
      "source": [
        "\n",
        "fun_control = modify_hyper_parameter_bounds(fun_control, \"batch_size\", bounds=[1, 5])\n",
        "fun_control = modify_hyper_parameter_bounds(fun_control, \"k_folds\", bounds=[0, 0])\n",
        "fun_control = modify_hyper_parameter_bounds(fun_control, \"patience\", bounds=[3, 3])\n",
        "fun_control[\"core_model_hyper_dict\"]"
      ]
    },
    {
      "attachments": {},
      "cell_type": "markdown",
      "metadata": {},
      "source": [
        "### Modify Hyperparameter of Type factor\n",
        "\n",
        "In a similar manner as for the numerical hyperparameters, the categorical hyperparameters can be modified.\n",
        "New configurations can be chosen by adding or deleting levels. For example, the hyperparameter `optimizer` can be re-configured as follows:\n",
        "\n",
        "In the following setting, two optimizers (`\"SGD\"` and `\"Adam\"`) will be compared during the `spotPython` hyperparameter tuning. The hyperparameter `optimizer` is active."
      ]
    },
    {
      "cell_type": "code",
      "execution_count": 10,
      "metadata": {
        "vscode": {
          "languageId": "python"
        }
      },
      "outputs": [],
      "source": [
        "\n",
        "fun_control = modify_hyper_parameter_levels(fun_control, \"optimizer\", [\"SGD\", \"Adam\"])"
      ]
    },
    {
      "attachments": {},
      "cell_type": "markdown",
      "metadata": {},
      "source": [
        "The hyperparameter `optimizer` can be de-activated by choosing only one value (level), here: `\"SGD\"`."
      ]
    },
    {
      "cell_type": "code",
      "execution_count": 11,
      "metadata": {
        "vscode": {
          "languageId": "python"
        }
      },
      "outputs": [],
      "source": [
        "\n",
        "fun_control = modify_hyper_parameter_levels(fun_control, \"optimizer\", [\"SGD\"])"
      ]
    },
    {
      "attachments": {},
      "cell_type": "markdown",
      "metadata": {},
      "source": [
        "As discussed in @sec-optimizers, there are some issues with the LBFGS optimizer. Therefore, the usage of the LBFGS optimizer is not  deactivated in `spotPython` by default. However, the LBFGS optimizer can be activated by adding it to the list of optimizers.\n",
        "`Rprop`  was removed, because it does perform very poorly (as some pre-tests have shown). However, it can also be activated by adding it to the list of optimizers.\n",
        "Since `SparseAdam` does not support dense gradients, `Adam` was used instead.\n",
        "Therefore, there are 10 default optimizers:"
      ]
    },
    {
      "cell_type": "code",
      "execution_count": 12,
      "metadata": {
        "vscode": {
          "languageId": "python"
        }
      },
      "outputs": [],
      "source": [
        "\n",
        "fun_control = modify_hyper_parameter_levels(fun_control, \"optimizer\",[\"Adadelta\",\n",
        "     \"Adagrad\", \"Adam\", \"AdamW\", \"Adamax\", \"ASGD\", \"NAdam\", \"RAdam\",\n",
        "      \"RMSprop\", \"SGD\"])"
      ]
    },
    {
      "attachments": {},
      "cell_type": "markdown",
      "metadata": {},
      "source": [
        "### Optimizers {#sec-optimizers}\n",
        "\n",
        "@tbl-optimizers shows some of the optimizers available in `PyTorch`:\n",
        "\n",
        "| Optimizer | lr  | mom | weight | damp | nest | rho | lr_sc | lr_decay | betas | lambd | alpha | mom_decay | etas | step_s|\n",
        "| :-----    |:--- |:--- | :---   | :--- | :--- |:--- | :---  | :---     | :---- |:----  |:----  | :----     | :--- | :--- |\n",
        "| Adadelta  | -   | -   |  0.    | -    | -    | 0.9 | 1.0   | -        | -     | -     |-      |    -      |   -  | -    |\n",
        "| Adagrad   |1e-2 | -   | 0.     | -    | -    | -   | -     | 0.       | -     | -     |-      | -         |   -  | -    |\n",
        "| Adam      |1e-3 | -   | 0.     | -    | -    | -   | -     | -        |(0.9,0.999)| - |-      |   -       |   -  | -    |\n",
        "| AdamW     |1e-3 | -   | 1e-2   | -    | -    | -   | -     | -        |(0.9,0.999)| - |  -    |       -   |   -  | -    |\n",
        "| SparseAdam | 1e-3| -  | -      | -    | -    | -   | -     | -        |(0.9,0.999)|-  |-      | -         |   -  | -    |\n",
        "| Adamax | 2e-3    | -  | 0.     | -    | -    | -   | -     | -        |(0.9, 0.999)|- |-      | -         |   -  | -    |\n",
        "| ASGD   | 1e-2 |  0.9  | 0.     | -    | False| -   | -     | -        | -        |1e-4| 0.75  |  -        |  -   | -    |\n",
        "| LBFGS |  1.   | -     | -      | -    | -    | -   | -     | -        | -        | -  |-      | -         |  -   |   -  |\n",
        "| NAdam | 2e-3  | -     | 0.     | -    | -    | -   | -     | -        |(0.9,0.999)| - |-      | 0         |   -  | -    |\n",
        "| RAdam | 1e-3  | -     | 0.     | -    | -    | -   | -     | -        |(0.9,0.999)| - |-      | -         |   -  | -    |\n",
        "| RMSprop | 1e-2| 0. |   0.      |  -   | -    | -   | -     | -        |(0.9,0.999)| - |-      | -         |   -  | -    |\n",
        "| Rprop |  1e-2 | -  | -         | -    | -    | -   | -     | -        | -         | -| (0.5,1.2)| (1e-6, 50)| -   | -   |\n",
        "| SGD   | required | 0.| 0.      | 0.   | False | -  | -     | -        | -         |- |-       | -         |   -  | -    |\n",
        "\n",
        ": Optimizers available in PyTorch (selection). \"mom\" denotes `momentum`, \"weight\" `weight_decay`, \"damp\" `dampening`, \"nest\" `nesterov`,  \"lr_sc\" `learning rate for scaling delta`, \"mom_dec\" for `momentum_decay`, and \"step_s\" for `step_sizes`.  The default values are shown in the table. {#tbl-optimizers}\n",
        "\n",
        "`spotPython` implements an `optimization` handler that maps the optimizer names to the corresponding `PyTorch` optimizers.\n",
        "\n",
        "::: {.callout-note}\n",
        "### A note on LBFGS\n",
        "\n",
        "We recommend deactivating `PyTorch`'s LBFGS optimizer, because it does not perform very well. The  `PyTorch` documentation, see [https://pytorch.org/docs/stable/generated/torch.optim.LBFGS.html#torch.optim.LBFGS](https://pytorch.org/docs/stable/generated/torch.optim.LBFGS.html#torch.optim.LBFGS), states:\n",
        "\n",
        "> This is a very memory intensive optimizer (it requires additional `param_bytes * (history_size + 1)` bytes). If it doesn’t fit in memory try reducing the history size, or use a different algorithm.\n",
        "\n",
        "\n",
        "Furthermore, the LBFGS optimizer is not compatible with the `PyTorch` tutorial. The reason is that the LBFGS optimizer requires the `closure` function, which is not implemented in the `PyTorch` tutorial. Therefore, the `LBFGS` optimizer is recommended here.\n",
        ":::\n",
        "\n",
        "Since there are 10 optimizers in the portfolio, it is not recommended tuning the hyperparameters that effect one single optimizer only.\n",
        "\n",
        "::: {.callout-note}\n",
        "#### A note on the learning rate\n",
        "`spotPython` provides a multiplier for the default learning rates, because optimizers use different learning rates. Using a multiplier for the learning rates might enable a simultaneous tuning of the learning rates for all optimizers. However, this is not recommended, because the learning rates are not comparable across optimizers. Therefore, we recommend fixing the learning rate for all optimizers if multiple optimizers are used. This can be done by setting the lower and upper bounds of the learning rate multiplier to the same value as shown below.\n",
        ":::\n",
        "\n",
        "Thus, the learning rate, which affects the `SGD` optimizer, will be set to a fixed value. We choose the default value of `1e-3` for the learning rate, because it is used in other `PyTorch` examples (it is also the default value used by `spotPython` as defined in the `optimizer_handler()` method). We recommend tuning the learning rate later, when a reduced set of optimizers is fixed.\n",
        "Here, we will demonstrate how to select in a screening phase the optimizers that should be used for the hyperparameter tuning.\n",
        "\n",
        "For the same reason, we will fix the `momentum` to `0.9`. "
      ]
    },
    {
      "cell_type": "code",
      "execution_count": 13,
      "metadata": {
        "vscode": {
          "languageId": "python"
        }
      },
      "outputs": [],
      "source": [
        "\n",
        "fun_control = modify_hyper_parameter_bounds(fun_control, \"lr_mult\", bounds=[1.0, 1.0])\n",
        "fun_control = modify_hyper_parameter_bounds(fun_control, \"sgd_momentum\", bounds=[0.9, 0.9])"
      ]
    },
    {
      "attachments": {},
      "cell_type": "markdown",
      "metadata": {},
      "source": [
        "## Evaluation  {#sec-selection-of-target-function}\n",
        "\n",
        "The evaluation procedure requires the specification of two elements:\n",
        "\n",
        "1. the way how the data is split into a train and a test set and\n",
        "2. the loss function (and a metric).\n",
        "\n",
        "### Hold-out Data Split and Cross-Validation\n",
        "\n",
        "As a default, `spotPython` provides a standard hold-out data split and cross validation.\n",
        "\n",
        "#### Hold-out Data Split\n",
        "\n",
        "If a hold-out data split is used, the data will be partitioned into a training, a validation, and a test data set.\n",
        "The split depends on the setting of the `eval` parameter. If `eval` is set to `train_hold_out`, one data set, usually the original training data set, is split into a new training and a validation data set. The training data set is used for training the model. The validation data set is used for the evaluation of the hyperparameter configuration and early stopping to prevent overfitting. In this case, the original test data set is not used.\n",
        "The following splits are performed in the hold-out setting:\n",
        "$\\{\\text{train}_0, \\text{test}\\} \\rightarrow \\{\\text{train}_1, \\text{validation}_1, \\text{test}\\}$, where $\\text{train}_1 \\cup \\text{validation}_1 = \\text{train}_0$.\n",
        "\n",
        "\n",
        "::: {.callout-note}\n",
        "`spotPython` returns the hyperparameters of the machine learning and deep learning models, e.g., number of layers, learning rate, or optimizer, but not the model weights. Therefore, after the SPOT run is finished, the corresponding model has to be trained again with the best hyperparameter configuration. The training is performed on the training data set. The test data set is used for the final evaluation of the model.\n",
        "\n",
        "Summarizing, the following splits are performed in the hold-out setting:\n",
        "\n",
        "1. Run `spotPython` with `eval` set to `train_hold_out` to determine the best hyperparameter configuration.\n",
        "2. Train the model with the best hyperparameter configuration on the training data set:\n",
        "   * `train_tuned(model_spot, train, \"model_spot.pt\")`.\n",
        "3. Test the model on the test data:\n",
        "   * `test_tuned(model_spot, test, \"model_spot.pt\")`\n",
        "\n",
        "These steps will be exemplified in the following sections.\n",
        ":::\n",
        "\n",
        "In addition to this `hold-out` setting, `spotPython` provides another hold-out setting, where an explicit test data is specified by the user that will be used as the validation set. To choose this option, the `eval` parameter is set to `test_hold_out`. In this case, the training data set is used for the model training. Then, the explicitly defined test data set is used for the evaluation of the hyperparameter configuration (the validation).\n",
        "\n",
        "#### Cross-Validation\n",
        "\n",
        "The cross validation setting is used by setting the `eval` parameter to `train_cv` or `test_cv`. In both  cases, the data set is split into $k$ folds. The model is trained on $k-1$ folds and evaluated on the remaining fold. This is repeated $k$ times, so that each fold is used exactly once for evaluation. The final evaluation is performed on the test data set. The cross validation setting is useful for small data sets, because it allows to use all data for training and evaluation. However, it is computationally expensive, because the model has to be trained $k$ times.\n",
        "\n",
        "::: {.callout-note}\n",
        "Combinations of the above settings are possible, e.g., cross validation can be used for training and hold-out for evaluation or *vice versa*. Also, cross validation can be used for training and testing. Because cross validation is not used in the `PyTorch` tutorial [@pyto23a], it is not considered further here.\n",
        ":::\n",
        "\n",
        "#### Overview of the Evaluation Settings\n",
        "\n",
        "##### Settings for the Hyperparameter Tuning\n",
        "\n",
        "@tbl-eval-settings provides an overview of the training evaluations.\n",
        "\n",
        "| `eval` | `train` | `test` | function | comment |\n",
        "| --- | :---: | :---: |     --- | --- |\n",
        "| `\"train_hold_out\"` | $\\checkmark$ |  |  `train_hold_out()`, `validate_fold_or_hold_out()` for early stopping|  splits the `train` data set internally|\n",
        "| `\"test_hold_out\"` | $\\checkmark$ | $\\checkmark$ | `train_hold_out()`, `validate_fold_or_hold_out()` for early stopping  |use the `test data set` for `validate_fold_or_hold_out()` |\n",
        "| `\"train_cv\"` | $\\checkmark$ |              |  `evaluate_cv(net, train)`  | CV using the  `train` data set |\n",
        "| `\"test_cv\"` |               | $\\checkmark$ |  `evaluate_cv(net, test)` | CV using the  `test` data set . Identical to `\"train_cv\"`, uses only test data.|\n",
        ": Overview of the evaluation settings. {#tbl-eval-settings}\n",
        "\n",
        "* `\"train_cv\"` and `\"test_cv\"` use `sklearn.model_selection.KFold()` internally.\n",
        "\n",
        "#### Detailed Description of the `\"train_hold_out\"` Setting\n",
        "\n",
        "The `\"train_hold_out\"` setting is used by default. \n",
        "It uses the loss function specfied in `fun_control` and the metric specified in `fun_control`.\n",
        "\n",
        "1. First, the method `HyperTorch().fun_torch` is called. \n",
        "2. `fun_torc()` calls `spotPython.torch.traintest.evaluate_hold_out()` as follows:"
      ]
    },
    {
      "cell_type": "code",
      "execution_count": 14,
      "metadata": {
        "vscode": {
          "languageId": "python"
        }
      },
      "outputs": [
        {
          "name": "stdout",
          "output_type": "stream",
          "text": [
            "skipping\n"
          ]
        }
      ],
      "source": [
        "%%script echo skipping\n",
        "df_eval, _ = evaluate_hold_out(\n",
        "    model,\n",
        "    train_dataset=fun_control[\"train\"],\n",
        "    shuffle=self.fun_control[\"shuffle\"],\n",
        "    loss_function=self.fun_control[\"loss_function\"],\n",
        "    metric=self.fun_control[\"metric_torch\"],\n",
        "    device=self.fun_control[\"device\"],\n",
        "    show_batch_interval=self.fun_control[\"show_batch_interval\"],\n",
        "    path=self.fun_control[\"path\"],\n",
        ") "
      ]
    },
    {
      "attachments": {},
      "cell_type": "markdown",
      "metadata": {},
      "source": [
        "Note: Only the data set `fun_control[\"train\"]` is used for training and validation.\n",
        "It is used as follows:"
      ]
    },
    {
      "cell_type": "code",
      "execution_count": 15,
      "metadata": {
        "vscode": {
          "languageId": "python"
        }
      },
      "outputs": [
        {
          "name": "stdout",
          "output_type": "stream",
          "text": [
            "skipping\n"
          ]
        }
      ],
      "source": [
        "%%script echo skipping\n",
        "trainloader, valloader = create_train_val_data_loaders(\n",
        "                dataset=train_dataset, batch_size=batch_size_instance, shuffle=shuffle\n",
        "            )"
      ]
    },
    {
      "attachments": {},
      "cell_type": "markdown",
      "metadata": {},
      "source": [
        "`create_train_val_data_loaders()` splits the `train_dataset` into `trainloader` and `valloader` using `torch.utils.data.random_split()` as follows:"
      ]
    },
    {
      "cell_type": "code",
      "execution_count": 16,
      "metadata": {
        "vscode": {
          "languageId": "python"
        }
      },
      "outputs": [
        {
          "name": "stdout",
          "output_type": "stream",
          "text": [
            "skipping\n"
          ]
        }
      ],
      "source": [
        "%%script echo skipping\n",
        "def create_train_val_data_loaders(dataset, batch_size, shuffle, num_workers=0):\n",
        "    test_abs = int(len(dataset) * 0.6)\n",
        "    train_subset, val_subset = random_split(dataset, [test_abs, len(dataset) - test_abs])\n",
        "    trainloader = torch.utils.data.DataLoader(\n",
        "        train_subset, batch_size=int(batch_size), shuffle=shuffle, num_workers=num_workers\n",
        "    )\n",
        "    valloader = torch.utils.data.DataLoader(\n",
        "        val_subset, batch_size=int(batch_size), shuffle=shuffle, num_workers=num_workers\n",
        "    )\n",
        "    return trainloader, valloader"
      ]
    },
    {
      "attachments": {},
      "cell_type": "markdown",
      "metadata": {},
      "source": [
        "The optimizer is set up as follows:"
      ]
    },
    {
      "cell_type": "code",
      "execution_count": 17,
      "metadata": {
        "vscode": {
          "languageId": "python"
        }
      },
      "outputs": [
        {
          "name": "stdout",
          "output_type": "stream",
          "text": [
            "skipping\n"
          ]
        }
      ],
      "source": [
        "%%script echo skipping\n",
        "lr_mult_instance = net.lr_mult\n",
        "optimizer = optimizer_handler(optimizer_name=optimizer_instance, params=net.parameters(), lr_mult=lr_mult_instance)"
      ]
    },
    {
      "attachments": {},
      "cell_type": "markdown",
      "metadata": {},
      "source": [
        "3. `evaluate_hold_out()` sets the `net` attributes such as `epochs`, `batch_size`, `optimizer`, and `patience`. For each epoch, \n",
        "the methods `train_hold_out()` and `validate_fold_or_hold_out()` are called, the former for training and the latter for validation and early stopping. The validation loss from the last epoch (not the best validation loss) is returned from `evaluate_hold_out`.\n",
        "4. The method `train_hold_out()` is implemented as follows:"
      ]
    },
    {
      "cell_type": "code",
      "execution_count": 18,
      "metadata": {
        "vscode": {
          "languageId": "python"
        }
      },
      "outputs": [
        {
          "name": "stdout",
          "output_type": "stream",
          "text": [
            "skipping\n"
          ]
        }
      ],
      "source": [
        "%%script echo skipping\n",
        "def train_hold_out(net, trainloader, batch_size, loss_function, optimizer, device, show_batch_interval=10_000):\n",
        "    running_loss = 0.0\n",
        "    epoch_steps = 0\n",
        "    for i, data in enumerate(trainloader, 0):\n",
        "        inputs, labels = data\n",
        "        inputs, labels = inputs.to(device), labels.to(device)\n",
        "        optimizer.zero_grad()\n",
        "        outputs = net(inputs)\n",
        "        loss = loss_function(outputs, labels)\n",
        "        loss.backward()\n",
        "        torch.nn.utils.clip_grad_norm_(net.parameters(), max_norm=1.0)\n",
        "        optimizer.step()\n",
        "        running_loss += loss.item()\n",
        "        epoch_steps += 1\n",
        "        if i % show_batch_interval == (show_batch_interval - 1):  # print every show_batch_interval mini-batches\n",
        "            print(\n",
        "                \"Batch: %5d. Batch Size: %d. Training Loss (running): %.3f\"\n",
        "                % (i + 1, int(batch_size), running_loss / epoch_steps)\n",
        "            )\n",
        "            running_loss = 0.0\n",
        "    return loss.item()"
      ]
    },
    {
      "attachments": {},
      "cell_type": "markdown",
      "metadata": {},
      "source": [
        "5. The method `validate_fold_or_hold_out()` is implemented as follows:"
      ]
    },
    {
      "cell_type": "code",
      "execution_count": 19,
      "metadata": {
        "vscode": {
          "languageId": "python"
        }
      },
      "outputs": [
        {
          "name": "stdout",
          "output_type": "stream",
          "text": [
            "skipping\n"
          ]
        }
      ],
      "source": [
        "%%script echo skipping\n",
        "def validate_fold_or_hold_out(net, valloader, loss_function, metric, device):\n",
        "    val_loss = 0.0\n",
        "    val_steps = 0\n",
        "    metric.reset()\n",
        "    for i, data in enumerate(valloader, 0):\n",
        "        with torch.no_grad():\n",
        "            inputs, labels = data\n",
        "            inputs, labels = inputs.to(device), labels.to(device)\n",
        "            outputs = net(inputs)\n",
        "            _, predicted = torch.max(outputs.data, 1)\n",
        "            metric_value = metric(predicted, labels).to(device)\n",
        "            loss = loss_function(outputs, labels)\n",
        "            val_loss += loss.cpu().numpy()\n",
        "            val_steps += 1\n",
        "    loss = val_loss / val_steps\n",
        "    metric_value = metric.compute()\n",
        "    return metric_value, loss"
      ]
    },
    {
      "attachments": {},
      "cell_type": "markdown",
      "metadata": {},
      "source": [
        "#### Detailed Description of the `\"test_hold_out\"` Setting\n",
        "\n",
        "It uses the loss function specfied in `fun_control` and the metric specified in `fun_control`.\n",
        "\n",
        "1. First, the method `HyperTorch().fun_torch` is called. \n",
        "2. `fun_torc()` calls `spotPython.torch.traintest.evaluate_hold_out()` similar to the `\"train_hold_out\"` setting with one exception:\n",
        "It passes an additional `test` data set to `evaluate_hold_out()` as follows:"
      ]
    },
    {
      "cell_type": "code",
      "execution_count": 20,
      "metadata": {
        "vscode": {
          "languageId": "python"
        }
      },
      "outputs": [
        {
          "name": "stdout",
          "output_type": "stream",
          "text": [
            "skipping\n"
          ]
        }
      ],
      "source": [
        "%%script echo skipping\n",
        "test_dataset=fun_control[\"test\"]"
      ]
    },
    {
      "attachments": {},
      "cell_type": "markdown",
      "metadata": {},
      "source": [
        "`evaluate_hold_out()` calls `create_train_test_data_loaders` instead of `create_train_val_data_loaders` as follows:\n",
        "The two data sets are used in `create_train_test_data_loaders` as follows:"
      ]
    },
    {
      "cell_type": "code",
      "execution_count": 21,
      "metadata": {
        "vscode": {
          "languageId": "python"
        }
      },
      "outputs": [
        {
          "name": "stdout",
          "output_type": "stream",
          "text": [
            "skipping\n"
          ]
        }
      ],
      "source": [
        "%%script echo skipping\n",
        "def create_train_test_data_loaders(dataset, batch_size, shuffle, test_dataset, num_workers=0):\n",
        "    trainloader = torch.utils.data.DataLoader(\n",
        "        dataset, batch_size=int(batch_size), shuffle=shuffle, num_workers=num_workers\n",
        "    )\n",
        "    testloader = torch.utils.data.DataLoader(\n",
        "        test_dataset, batch_size=int(batch_size), shuffle=shuffle, num_workers=num_workers\n",
        "    )\n",
        "    return trainloader, testloader"
      ]
    },
    {
      "attachments": {},
      "cell_type": "markdown",
      "metadata": {},
      "source": [
        "3. The following steps are identical to the `\"train_hold_out\"` setting. Only a different data loader is used for testing.\n",
        "\n",
        "\n",
        "#### Detailed Description of the `\"train_cv\"` Setting\n",
        "\n",
        "It uses the loss function specfied in `fun_control` and the metric specified in `fun_control`.\n",
        "\n",
        "1. First, the method `HyperTorch().fun_torch` is called. \n",
        "2. `fun_torc()` calls `spotPython.torch.traintest.evaluate_cv()` as follows:"
      ]
    },
    {
      "cell_type": "code",
      "execution_count": 22,
      "metadata": {
        "vscode": {
          "languageId": "python"
        }
      },
      "outputs": [
        {
          "name": "stdout",
          "output_type": "stream",
          "text": [
            "skipping\n"
          ]
        }
      ],
      "source": [
        "%%script echo skipping\n",
        "df_eval, _ = evaluate_cv(\n",
        "    model,\n",
        "    dataset=fun_control[\"train\"],\n",
        "    shuffle=self.fun_control[\"shuffle\"],\n",
        "    device=self.fun_control[\"device\"],\n",
        "    show_batch_interval=self.fun_control[\"show_batch_interval\"],\n",
        ")"
      ]
    },
    {
      "attachments": {},
      "cell_type": "markdown",
      "metadata": {},
      "source": [
        "Note: Only the data set `fun_control[\"train\"]` is used for CV.\n",
        "3. In `evaluate_cv(), the following steps are performed:\n",
        "The optimizer is set up as follows:"
      ]
    },
    {
      "cell_type": "code",
      "execution_count": 23,
      "metadata": {
        "vscode": {
          "languageId": "python"
        }
      },
      "outputs": [
        {
          "name": "stdout",
          "output_type": "stream",
          "text": [
            "skipping\n"
          ]
        }
      ],
      "source": [
        "%%script echo skipping\n",
        "lr_instance = net.lr\n",
        "optimizer = optimizer_handler(optimizer_name=optimizer_instance, params=net.parameters(), lr_mult=lr_mult_instance)"
      ]
    },
    {
      "attachments": {},
      "cell_type": "markdown",
      "metadata": {},
      "source": [
        "`evaluate_cv()` sets the `net` attributes such as `epochs`, `batch_size`, `optimizer`, and `patience`. \n",
        "CV is implemented as follows:"
      ]
    },
    {
      "cell_type": "code",
      "execution_count": 24,
      "metadata": {
        "vscode": {
          "languageId": "python"
        }
      },
      "outputs": [
        {
          "name": "stdout",
          "output_type": "stream",
          "text": [
            "skipping\n"
          ]
        }
      ],
      "source": [
        "%%script echo skipping\n",
        "kfold = KFold(n_splits=k_folds_instance, shuffle=shuffle)\n",
        "for fold, (train_ids, val_ids) in enumerate(kfold.split(dataset)):\n",
        "    train_subsampler = torch.utils.data.SubsetRandomSampler(train_ids)\n",
        "    val_subsampler = torch.utils.data.SubsetRandomSampler(val_ids)\n",
        "    trainloader = torch.utils.data.DataLoader(\n",
        "        dataset, batch_size=batch_size_instance, sampler=train_subsampler, num_workers=num_workers\n",
        "    )\n",
        "    valloader = torch.utils.data.DataLoader(\n",
        "        dataset, batch_size=batch_size_instance, sampler=val_subsampler, num_workers=num_workers\n",
        "    )\n",
        "    reset_weights(net)\n",
        "    # Train fold for several epochs:\n",
        "    train_fold(\n",
        "        net,\n",
        "        trainloader,\n",
        "        epochs_instance,\n",
        "        loss_function,\n",
        "        optimizer,\n",
        "        device,\n",
        "        show_batch_interval=show_batch_interval,\n",
        "    )\n",
        "    # Validate fold: use only loss for tuning\n",
        "    metric_values[fold], loss_values[fold] = validate_fold_or_hold_out(net, valloader, loss_function, device)\n",
        "df_eval = sum(loss_values.values()) / len(loss_values.values())"
      ]
    },
    {
      "attachments": {},
      "cell_type": "markdown",
      "metadata": {},
      "source": [
        "4. The method `train_fold()` is implemented as follows:"
      ]
    },
    {
      "cell_type": "code",
      "execution_count": 25,
      "metadata": {
        "vscode": {
          "languageId": "python"
        }
      },
      "outputs": [
        {
          "name": "stdout",
          "output_type": "stream",
          "text": [
            "skipping\n"
          ]
        }
      ],
      "source": [
        "%%script echo skipping\n",
        "def train_fold(net, trainloader, epochs, loss_function, optimizer, device, show_batch_interval=10_000):\n",
        "    for epoch in range(epochs):\n",
        "        print(f\"Epoch: {epoch + 1}\")\n",
        "        running_loss = 0.0\n",
        "        epoch_steps = 0\n",
        "        for i, data in enumerate(trainloader, 0):\n",
        "            inputs, labels = data\n",
        "            inputs, labels = inputs.to(device), labels.to(device)\n",
        "            optimizer.zero_grad()\n",
        "            outputs = net(inputs)\n",
        "            loss = loss_function(outputs, labels)\n",
        "            loss.backward()\n",
        "            torch.nn.utils.clip_grad_norm_(net.parameters(), max_norm=1.0)\n",
        "            optimizer.step()\n",
        "            # the following is for printing the statistic only\n",
        "            running_loss += loss.item()\n",
        "            epoch_steps += 1\n",
        "            if i % show_batch_interval == (show_batch_interval - 1):  # print every show_batch_interval mini-batches\n",
        "                print(\"Batch: %5d. Training Loss (running): %.3f\" % (i + 1, running_loss / epoch_steps))\n",
        "                running_loss = 0.0"
      ]
    },
    {
      "attachments": {},
      "cell_type": "markdown",
      "metadata": {},
      "source": [
        "5. The method `validate_fold_or_hold_out()` is implemented as shown above. In contrast to the hold-out setting, it is called for each of the $k$ folds. The results are stored in a dictionaries `metric_values`  and `loss_values` as follows:"
      ]
    },
    {
      "cell_type": "code",
      "execution_count": 26,
      "metadata": {
        "vscode": {
          "languageId": "python"
        }
      },
      "outputs": [
        {
          "name": "stdout",
          "output_type": "stream",
          "text": [
            "skipping\n"
          ]
        }
      ],
      "source": [
        "%%script echo skipping\n",
        "    # Validate fold: use only loss for tuning\n",
        "    metric_values[fold], loss_values[fold] = validate_fold_or_hold_out(net, valloader, loss_function, device)\n",
        "df_eval = sum(loss_values.values()) / len(loss_values.values())"
      ]
    },
    {
      "attachments": {},
      "cell_type": "markdown",
      "metadata": {},
      "source": [
        "The results are averaged over the $k$ folds and returned as `df_eval`.\n",
        "\n",
        "#### Detailed Description of the `\"test_cv\"` Setting\n",
        "\n",
        "It uses the loss function specfied in `fun_control` and the metric specified in `fun_control`.\n",
        "\n",
        "1. First, the method `HyperTorch().fun_torch` is called. \n",
        "2. `fun_torc()` calls `spotPython.torch.traintest.evaluate_cv()` as follows:"
      ]
    },
    {
      "cell_type": "code",
      "execution_count": 27,
      "metadata": {
        "vscode": {
          "languageId": "python"
        }
      },
      "outputs": [
        {
          "name": "stdout",
          "output_type": "stream",
          "text": [
            "skipping\n"
          ]
        }
      ],
      "source": [
        "%%script echo skipping\n",
        "df_eval, _ = evaluate_cv(\n",
        "    model,\n",
        "    dataset=fun_control[\"test\"],\n",
        "    shuffle=self.fun_control[\"shuffle\"],\n",
        "    device=self.fun_control[\"device\"],\n",
        "    show_batch_interval=self.fun_control[\"show_batch_interval\"],\n",
        ")"
      ]
    },
    {
      "attachments": {},
      "cell_type": "markdown",
      "metadata": {},
      "source": [
        "Note: The data set `fun_control[\"test\"]` is used for CV. The rest is the same as for the `\"train_cv\"` setting.\n",
        "\n",
        "\n",
        "#### Settings for the Final Evaluation of the Tuned Architecture\n",
        "\n",
        "##### Training of the Tuned Architecture\n",
        "`train_tuned(model, train)`: train the model with the best hyperparameter configuration (or simply the default) on the training data set. It splits the `train`data into new `train` and `validation` sets using  `create_train_val_data_loaders()`, which calls `torch.utils.data.random_split()` internally. Currently, 60% of the data is used for training and 40% for validation. The `train` data is used for training the model with `train_hold_out()`. The `validation` data is used for early stopping using `validate_fold_or_hold_out()` on the `validation` data set.\n",
        "\n",
        "`train_tuned()` is just a wrapper to `evaluate_hold_out` using the `train` data set. It is implemented as follows:"
      ]
    },
    {
      "cell_type": "code",
      "execution_count": 28,
      "metadata": {
        "vscode": {
          "languageId": "python"
        }
      },
      "outputs": [
        {
          "name": "stdout",
          "output_type": "stream",
          "text": [
            "skipping\n"
          ]
        }
      ],
      "source": [
        "%%script echo skipping\n",
        "def train_tuned(net, train_dataset, shuffle, loss_function, metric, device=None, show_batch_interval=10_000, path=None):\n",
        "    evaluate_hold_out(\n",
        "        net=net,\n",
        "        train_dataset=train_dataset,\n",
        "        shuffle=shuffle,\n",
        "        test_dataset=None,\n",
        "        loss_function=loss_function,\n",
        "        metric=metric,\n",
        "        device=device,\n",
        "        show_batch_interval=show_batch_interval,\n",
        "        path=path,\n",
        "    )"
      ]
    },
    {
      "attachments": {},
      "cell_type": "markdown",
      "metadata": {},
      "source": [
        "Note: During training, `shuffle` is set to `True`, whereas during testing, `shuffle` is set to `False`.\n",
        "\n",
        "##### Testing of the Tuned Architecture\n",
        "\n",
        "`test_tuned(model, test)`: test the model on the test data set. No data splitting is performed. The (trained) model is evaluated using the `validate_fold_or_hold_out()` function.\n",
        "\n",
        "Note: During training, `shuffle` is set to `True`, whereas during testing, `shuffle` is set to `False`."
      ]
    },
    {
      "cell_type": "code",
      "execution_count": 29,
      "metadata": {
        "vscode": {
          "languageId": "python"
        }
      },
      "outputs": [
        {
          "name": "stdout",
          "output_type": "stream",
          "text": [
            "skipping\n"
          ]
        }
      ],
      "source": [
        "%%script echo skipping\n",
        "def test_tuned(net, shuffle, test_dataset=None, loss_function=None, metric=None, device=None, path=None):\n",
        "    batch_size_instance = net.batch_size\n",
        "    removed_attributes, net = get_removed_attributes_and_base_net(net)\n",
        "    if path is not None:\n",
        "        net.load_state_dict(torch.load(path))\n",
        "        net.eval()\n",
        "    try:\n",
        "        device = getDevice(device=device)\n",
        "        if torch.cuda.is_available():\n",
        "            device = \"cuda:0\"\n",
        "            if torch.cuda.device_count() > 1:\n",
        "                print(\"We will use\", torch.cuda.device_count(), \"GPUs!\")\n",
        "                net = nn.DataParallel(net)\n",
        "        net.to(device)\n",
        "        valloader = torch.utils.data.DataLoader(\n",
        "            test_dataset, batch_size=int(batch_size_instance), shuffle=shuffle, num_workers=0\n",
        "        )\n",
        "        metric_value, loss = validate_fold_or_hold_out(\n",
        "            net, valloader=valloader, loss_function=loss_function, metric=metric, device=device\n",
        "        )\n",
        "        df_eval = loss\n",
        "        df_metric = metric_value\n",
        "        df_preds = np.nan\n",
        "    except Exception as err:\n",
        "        print(f\"Error in Net_Core. Call to test_tuned() failed. {err=}, {type(err)=}\")\n",
        "        df_eval = np.nan\n",
        "        df_metric = np.nan\n",
        "        df_preds = np.nan\n",
        "    add_attributes(net, removed_attributes)\n",
        "    print(f\"Final evaluation: Validation loss: {df_eval}\")\n",
        "    print(f\"Final evaluation: Validation metric: {df_metric}\")\n",
        "    print(\"----------------------------------------------\")\n",
        "    return df_eval, df_preds, df_metric"
      ]
    },
    {
      "attachments": {},
      "cell_type": "markdown",
      "metadata": {},
      "source": [
        "### Loss Functions and Metrics\n",
        "\n",
        "The key `\"loss_function\"` specifies the loss function which is used during the optimization. There are several different loss functions under `PyTorch`'s `nn` package. For example, a simple loss is `MSELoss`, which computes the mean-squared error between the output and the target. In this tutorial we will use `CrossEntropyLoss`, because it is also used in the `PyTorch` tutorial."
      ]
    },
    {
      "cell_type": "code",
      "execution_count": 30,
      "metadata": {
        "vscode": {
          "languageId": "python"
        }
      },
      "outputs": [],
      "source": [
        "\n",
        "from torch.nn import CrossEntropyLoss\n",
        "loss_function = CrossEntropyLoss()\n",
        "fun_control.update({\"loss_function\": loss_function})"
      ]
    },
    {
      "attachments": {},
      "cell_type": "markdown",
      "metadata": {},
      "source": [
        "In addition to the loss functions, `spotPython` provides access to a large number of metrics. The key `\"metric_sklearn\"` is used for metrics that follow the `scikit-learn` conventions. The key `\"river_metric\"` is used for the river based evaluation [@mont20a] via `eval_oml_iter_progressive`, and the key `\"metric_torch\"` is used for the metrics from `TorchMetrics`. `TorchMetrics` is a collection of more than 90 PyTorch metrics^[[https://torchmetrics.readthedocs.io/en/latest/.](https://torchmetrics.readthedocs.io/en/latest/)].\n",
        "Because the `PyTorch` tutorial uses the accuracy as metric, we use the same metric here. Currently, accuracy is computed in the tutorial's example code. We will use `TorchMetrics` instead, because it offers:\n",
        "\n",
        "* A standardized interface to increase reproducibility\n",
        "* Reduces Boilerplate\n",
        "* Distributed-training compatible\n",
        "* Rigorously tested\n",
        "* Automatic accumulation over batches\n",
        "* Automatic synchronization between multiple devices\n",
        "\n",
        "Therefore, we set "
      ]
    },
    {
      "cell_type": "code",
      "execution_count": 31,
      "metadata": {
        "vscode": {
          "languageId": "python"
        }
      },
      "outputs": [],
      "source": [
        "\n",
        "metric_torch = torchmetrics.Accuracy(task=\"multiclass\", num_classes=10)"
      ]
    },
    {
      "cell_type": "code",
      "execution_count": 32,
      "metadata": {
        "vscode": {
          "languageId": "python"
        }
      },
      "outputs": [],
      "source": [
        "\n",
        "loss_function = CrossEntropyLoss()\n",
        "weights = 1.0\n",
        "metric_torch = torchmetrics.Accuracy(task=\"multiclass\", num_classes=10)\n",
        "shuffle = True\n",
        "eval = \"train_hold_out\"\n",
        "device = DEVICE\n",
        "show_batch_interval = 100_000\n",
        "path=\"torch_model.pt\"\n",
        "\n",
        "fun_control.update({\n",
        "               \"data_dir\": None,\n",
        "               \"checkpoint_dir\": None,\n",
        "               \"horizon\": None,\n",
        "               \"oml_grace_period\": None,\n",
        "               \"weights\": weights,\n",
        "               \"step\": None,\n",
        "               \"log_level\": 50,\n",
        "               \"weight_coeff\": None,\n",
        "               \"metric_torch\": metric_torch,\n",
        "               \"metric_river\": None,\n",
        "               \"metric_sklearn\": None,\n",
        "               \"loss_function\": loss_function,\n",
        "               \"shuffle\": shuffle,\n",
        "               \"eval\": eval,\n",
        "               \"device\": device,\n",
        "               \"show_batch_interval\": show_batch_interval,\n",
        "               \"path\": path,\n",
        "               })"
      ]
    },
    {
      "attachments": {},
      "cell_type": "markdown",
      "metadata": {},
      "source": [
        "## Calling the SPOT Function {#sec-call-the-hyperparameter-tuner}"
      ]
    },
    {
      "cell_type": "code",
      "execution_count": 33,
      "metadata": {
        "vscode": {
          "languageId": "python"
        }
      },
      "outputs": [],
      "source": [
        "#| echo: false\n",
        "var_type = get_var_type(fun_control)\n",
        "var_name = get_var_name(fun_control)\n",
        "fun_control.update({\"var_type\": var_type,\n",
        "                    \"var_name\": var_name})\n",
        "\n",
        "lower = get_bound_values(fun_control, \"lower\")\n",
        "upper = get_bound_values(fun_control, \"upper\")"
      ]
    },
    {
      "attachments": {},
      "cell_type": "markdown",
      "metadata": {},
      "source": [
        "Now, the dictionary `fun_control` contains all information needed for the hyperparameter tuning. Before the hyperparameter tuning is started, it is recommended to take a look at the experimental design. The method `gen_design_table` generates a design table as follows:"
      ]
    },
    {
      "cell_type": "code",
      "execution_count": 34,
      "metadata": {
        "vscode": {
          "languageId": "python"
        }
      },
      "outputs": [
        {
          "name": "stdout",
          "output_type": "stream",
          "text": [
            "| name         | type   | default   |   lower |   upper | transform             |\n",
            "|--------------|--------|-----------|---------|---------|-----------------------|\n",
            "| l1           | int    | 5         |     2   |     9   | transform_power_2_int |\n",
            "| l2           | int    | 5         |     2   |     9   | transform_power_2_int |\n",
            "| lr_mult      | float  | 1.0       |     1   |     1   | None                  |\n",
            "| batch_size   | int    | 4         |     1   |     5   | transform_power_2_int |\n",
            "| epochs       | int    | 3         |     3   |     4   | transform_power_2_int |\n",
            "| k_folds      | int    | 2         |     0   |     0   | None                  |\n",
            "| patience     | int    | 5         |     3   |     3   | None                  |\n",
            "| optimizer    | factor | SGD       |     0   |     9   | None                  |\n",
            "| sgd_momentum | float  | 0.0       |     0.9 |     0.9 | None                  |\n"
          ]
        }
      ],
      "source": [
        "\n",
        "print(gen_design_table(fun_control))"
      ]
    },
    {
      "attachments": {},
      "cell_type": "markdown",
      "metadata": {},
      "source": [
        "This allows to check if all information is available and if the information is correct.  @tbl-design shows the experimental design for the hyperparameter tuning. Hyperparameter transformations are shown in the column \"transform\", e.g., the `l1` default is `5`, which results in the value $2^5 = 32$ for the network, because the transformation ` transform_power_2_int` was selected in the `JSON` file. The default value of the `batch_size` is set to `4`, which results in a batch size of $2^4 = 16$. \n",
        "\n",
        "\n",
        "| name       | type   | default          |   lower |   upper | transform             |\n",
        "|------------|--------|------------------|---------|---------|-----------------------|\n",
        "| l1         | int    | 5                |   2     |   9     | transform_power_2_int |\n",
        "| l2         | int    | 5                |   2     |   9     | transform_power_2_int |\n",
        "| lr         | float  | 0.001            |   0.001 |   0.001 | None                  |\n",
        "| batch_size | int    | 4                |   1     |   5     | transform_power_2_int |\n",
        "| epochs     | int    | 3                |   3     |   4     | transform_power_2_int |\n",
        "| k_folds    | int    | 2                |   0     |   0     | None                  |\n",
        "| patience   | int    | 5                |   3     |   3     | None                  |\n",
        "| optimizer  | factor | SGD              |   0     |   9     | None                  |\n",
        "\n",
        ": Experimental design for the hyperparameter tuning. The table shows the hyperparameters, their types, default values, lower and upper bounds, and the transformation function. The transformation function is used to transform the hyperparameter values from the unit hypercube to the original domain. The transformation function is applied to the hyperparameter values before the evaluation of the objective function. {#tbl-design}\n",
        "\n",
        "The objective function `fun_torch` is selected next. It implements an interface from `PyTorch`'s training, validation, and  testing methods to `spotPython`."
      ]
    },
    {
      "cell_type": "code",
      "execution_count": 35,
      "metadata": {
        "vscode": {
          "languageId": "python"
        }
      },
      "outputs": [],
      "source": [
        "\n",
        "fun = HyperTorch().fun_torch"
      ]
    },
    {
      "cell_type": "code",
      "execution_count": 36,
      "metadata": {
        "vscode": {
          "languageId": "python"
        }
      },
      "outputs": [],
      "source": [
        "#| echo: false\n",
        "hyper_dict=TorchHyperDict().load()\n",
        "X_start = get_default_hyperparameters_as_array(fun_control, hyper_dict)"
      ]
    },
    {
      "attachments": {},
      "cell_type": "markdown",
      "metadata": {},
      "source": [
        "The `spotPython` hyperparameter tuning is started by calling the `Spot` function. Here, we will run the tuner for approximately 30 minutes (`max_time`). Note: the initial design is always evaluated in the `spotPython` run. As a consequence, the run may take longer than specified by `max_time`, because the evaluation time of initial design (here: `init_size`, 10 points) is performed independently of `max_time`."
      ]
    },
    {
      "cell_type": "code",
      "execution_count": 37,
      "metadata": {
        "vscode": {
          "languageId": "python"
        }
      },
      "outputs": [
        {
          "name": "stdout",
          "output_type": "stream",
          "text": [
            "\n",
            "config: {'l1': 64, 'l2': 4, 'lr_mult': 1.0, 'batch_size': 16, 'epochs': 8, 'k_folds': 0, 'patience': 3, 'optimizer': 'ASGD', 'sgd_momentum': 0.9}\n",
            "Epoch: 1\n",
            "Loss on hold-out set: 2.150741243839264\n",
            "Accuracy on hold-out set: 0.1844\n",
            "Metric value on hold-out data: 0.18440000712871552\n",
            "Epoch: 2\n",
            "Loss on hold-out set: 1.965285662841797\n",
            "Accuracy on hold-out set: 0.23075\n",
            "Metric value on hold-out data: 0.23074999451637268\n",
            "Epoch: 3\n",
            "Loss on hold-out set: 1.904635459804535\n",
            "Accuracy on hold-out set: 0.2516\n",
            "Metric value on hold-out data: 0.2515999972820282\n",
            "Epoch: 4\n",
            "Loss on hold-out set: 1.8578215883255005\n",
            "Accuracy on hold-out set: 0.2765\n",
            "Metric value on hold-out data: 0.27649998664855957\n",
            "Epoch: 5\n",
            "Loss on hold-out set: 1.8296879804611206\n",
            "Accuracy on hold-out set: 0.2917\n",
            "Metric value on hold-out data: 0.29170000553131104\n",
            "Epoch: 6\n",
            "Loss on hold-out set: 1.784709170818329\n",
            "Accuracy on hold-out set: 0.3213\n",
            "Metric value on hold-out data: 0.3212999999523163\n",
            "Epoch: 7\n",
            "Loss on hold-out set: 1.7562643281936645\n",
            "Accuracy on hold-out set: 0.32945\n",
            "Metric value on hold-out data: 0.32945001125335693\n",
            "Epoch: 8\n",
            "Loss on hold-out set: 1.7321136079788209\n",
            "Accuracy on hold-out set: 0.33425\n",
            "Metric value on hold-out data: 0.33425000309944153\n",
            "Returned to Spot: Validation loss: 1.7321136079788209\n",
            "----------------------------------------------\n",
            "\n",
            "config: {'l1': 64, 'l2': 64, 'lr_mult': 1.0, 'batch_size': 8, 'epochs': 16, 'k_folds': 0, 'patience': 3, 'optimizer': 'ASGD', 'sgd_momentum': 0.9}\n",
            "Epoch: 1\n",
            "Loss on hold-out set: 1.868404385662079\n",
            "Accuracy on hold-out set: 0.31315\n",
            "Metric value on hold-out data: 0.31314998865127563\n",
            "Epoch: 2\n",
            "Loss on hold-out set: 1.7320659720659255\n",
            "Accuracy on hold-out set: 0.35915\n",
            "Metric value on hold-out data: 0.3591499924659729\n",
            "Epoch: 3\n",
            "Loss on hold-out set: 1.654571364736557\n",
            "Accuracy on hold-out set: 0.3877\n",
            "Metric value on hold-out data: 0.38769999146461487\n",
            "Epoch: 4\n",
            "Loss on hold-out set: 1.6173340678453445\n",
            "Accuracy on hold-out set: 0.40865\n",
            "Metric value on hold-out data: 0.4086500108242035\n",
            "Epoch: 5\n",
            "Loss on hold-out set: 1.5503236832857132\n",
            "Accuracy on hold-out set: 0.43165\n",
            "Metric value on hold-out data: 0.4316500127315521\n",
            "Epoch: 6\n",
            "Loss on hold-out set: 1.520894382405281\n",
            "Accuracy on hold-out set: 0.4464\n",
            "Metric value on hold-out data: 0.446399986743927\n",
            "Epoch: 7\n",
            "Loss on hold-out set: 1.5092559089183808\n",
            "Accuracy on hold-out set: 0.45125\n",
            "Metric value on hold-out data: 0.45124998688697815\n",
            "Epoch: 8\n",
            "Loss on hold-out set: 1.5002096829652787\n",
            "Accuracy on hold-out set: 0.4537\n",
            "Metric value on hold-out data: 0.4537000060081482\n",
            "Epoch: 9\n",
            "Loss on hold-out set: 1.4462086721420289\n",
            "Accuracy on hold-out set: 0.47695\n",
            "Metric value on hold-out data: 0.4769499897956848\n",
            "Epoch: 10\n",
            "Loss on hold-out set: 1.4450271758913993\n",
            "Accuracy on hold-out set: 0.4787\n",
            "Metric value on hold-out data: 0.47870001196861267\n",
            "Epoch: 11\n",
            "Loss on hold-out set: 1.4091172867774964\n",
            "Accuracy on hold-out set: 0.4911\n",
            "Metric value on hold-out data: 0.491100013256073\n",
            "Epoch: 12\n",
            "Loss on hold-out set: 1.4017060295939445\n",
            "Accuracy on hold-out set: 0.49845\n",
            "Metric value on hold-out data: 0.49845001101493835\n",
            "Epoch: 13\n",
            "Loss on hold-out set: 1.3970493686914445\n",
            "Accuracy on hold-out set: 0.4977\n",
            "Metric value on hold-out data: 0.4977000057697296\n",
            "Epoch: 14\n",
            "Loss on hold-out set: 1.375039091563225\n",
            "Accuracy on hold-out set: 0.50575\n",
            "Metric value on hold-out data: 0.5057500004768372\n",
            "Epoch: 15\n",
            "Loss on hold-out set: 1.3699581730127335\n",
            "Accuracy on hold-out set: 0.5061\n",
            "Metric value on hold-out data: 0.5060999989509583\n",
            "Epoch: 16\n",
            "Loss on hold-out set: 1.348625540459156\n",
            "Accuracy on hold-out set: 0.5143\n",
            "Metric value on hold-out data: 0.5142999887466431\n",
            "Returned to Spot: Validation loss: 1.348625540459156\n",
            "----------------------------------------------\n",
            "\n",
            "config: {'l1': 256, 'l2': 16, 'lr_mult': 1.0, 'batch_size': 8, 'epochs': 8, 'k_folds': 0, 'patience': 3, 'optimizer': 'Adagrad', 'sgd_momentum': 0.9}\n",
            "Epoch: 1\n",
            "Loss on hold-out set: 1.5751952963352203\n",
            "Accuracy on hold-out set: 0.42305\n",
            "Metric value on hold-out data: 0.4230499863624573\n",
            "Epoch: 2\n",
            "Loss on hold-out set: 1.4921626955509186\n",
            "Accuracy on hold-out set: 0.4589\n",
            "Metric value on hold-out data: 0.45890000462532043\n",
            "Epoch: 3\n",
            "Loss on hold-out set: 1.4625151372313498\n",
            "Accuracy on hold-out set: 0.47335\n",
            "Metric value on hold-out data: 0.47334998846054077\n",
            "Epoch: 4\n",
            "Loss on hold-out set: 1.4171289767146111\n",
            "Accuracy on hold-out set: 0.4905\n",
            "Metric value on hold-out data: 0.49050000309944153\n",
            "Epoch: 5\n",
            "Loss on hold-out set: 1.3963581912755967\n",
            "Accuracy on hold-out set: 0.49825\n",
            "Metric value on hold-out data: 0.49825000762939453\n",
            "Epoch: 6\n",
            "Loss on hold-out set: 1.4041612021446228\n",
            "Accuracy on hold-out set: 0.4985\n",
            "Metric value on hold-out data: 0.4984999895095825\n",
            "Epoch: 7\n",
            "Loss on hold-out set: 1.373092699599266\n",
            "Accuracy on hold-out set: 0.50815\n",
            "Metric value on hold-out data: 0.5081499814987183\n",
            "Epoch: 8\n",
            "Loss on hold-out set: 1.3627557481765746\n",
            "Accuracy on hold-out set: 0.5161\n",
            "Metric value on hold-out data: 0.5160999894142151\n",
            "Returned to Spot: Validation loss: 1.3627557481765746\n",
            "----------------------------------------------\n",
            "\n",
            "config: {'l1': 32, 'l2': 512, 'lr_mult': 1.0, 'batch_size': 4, 'epochs': 8, 'k_folds': 0, 'patience': 3, 'optimizer': 'SGD', 'sgd_momentum': 0.9}\n",
            "Epoch: 1\n",
            "Loss on hold-out set: 1.7786365242958069\n",
            "Accuracy on hold-out set: 0.35385\n",
            "Metric value on hold-out data: 0.35385000705718994\n",
            "Epoch: 2\n",
            "Loss on hold-out set: 1.631542159050703\n",
            "Accuracy on hold-out set: 0.40035\n",
            "Metric value on hold-out data: 0.40035000443458557\n",
            "Epoch: 3\n",
            "Loss on hold-out set: 1.5583208340644836\n",
            "Accuracy on hold-out set: 0.43265\n",
            "Metric value on hold-out data: 0.43264999985694885\n",
            "Epoch: 4\n",
            "Loss on hold-out set: 1.5103615626096725\n",
            "Accuracy on hold-out set: 0.44635\n",
            "Metric value on hold-out data: 0.44635000824928284\n",
            "Epoch: 5\n",
            "Loss on hold-out set: 1.4515847336769103\n",
            "Accuracy on hold-out set: 0.4749\n",
            "Metric value on hold-out data: 0.4749000072479248\n",
            "Epoch: 6\n",
            "Loss on hold-out set: 1.417098584845662\n",
            "Accuracy on hold-out set: 0.48395\n",
            "Metric value on hold-out data: 0.4839499890804291\n",
            "Epoch: 7\n",
            "Loss on hold-out set: 1.3980088605940342\n",
            "Accuracy on hold-out set: 0.4983\n",
            "Metric value on hold-out data: 0.4982999861240387\n",
            "Epoch: 8\n",
            "Loss on hold-out set: 1.3764030919969081\n",
            "Accuracy on hold-out set: 0.49605\n",
            "Metric value on hold-out data: 0.49605000019073486\n",
            "Returned to Spot: Validation loss: 1.3764030919969081\n",
            "----------------------------------------------\n",
            "\n",
            "config: {'l1': 256, 'l2': 256, 'lr_mult': 1.0, 'batch_size': 8, 'epochs': 16, 'k_folds': 0, 'patience': 3, 'optimizer': 'RAdam', 'sgd_momentum': 0.9}\n",
            "Epoch: 1\n",
            "Loss on hold-out set: 1.413604645574093\n",
            "Accuracy on hold-out set: 0.4876\n",
            "Metric value on hold-out data: 0.4875999987125397\n",
            "Epoch: 2\n",
            "Loss on hold-out set: 1.2707056303620339\n",
            "Accuracy on hold-out set: 0.54455\n",
            "Metric value on hold-out data: 0.5445500016212463\n",
            "Epoch: 3\n",
            "Loss on hold-out set: 1.3136998632729053\n",
            "Accuracy on hold-out set: 0.54885\n",
            "Metric value on hold-out data: 0.5488499999046326\n",
            "Epoch: 4\n",
            "Loss on hold-out set: 1.1571258584558963\n",
            "Accuracy on hold-out set: 0.59645\n",
            "Metric value on hold-out data: 0.5964499711990356\n",
            "Epoch: 5\n",
            "Loss on hold-out set: 1.1881713505923748\n",
            "Accuracy on hold-out set: 0.6034\n",
            "Metric value on hold-out data: 0.6033999919891357\n",
            "Epoch: 6\n",
            "Loss on hold-out set: 1.328235748435557\n",
            "Accuracy on hold-out set: 0.5866\n",
            "Metric value on hold-out data: 0.5866000056266785\n",
            "Epoch: 7\n",
            "Loss on hold-out set: 1.3411163100227714\n",
            "Accuracy on hold-out set: 0.5956\n",
            "Metric value on hold-out data: 0.5956000089645386\n",
            "Early stopping at epoch 6\n",
            "Returned to Spot: Validation loss: 1.3411163100227714\n",
            "----------------------------------------------\n",
            "\n",
            "config: {'l1': 16, 'l2': 8, 'lr_mult': 1.0, 'batch_size': 16, 'epochs': 16, 'k_folds': 0, 'patience': 3, 'optimizer': 'NAdam', 'sgd_momentum': 0.9}\n",
            "Epoch: 1\n",
            "Loss on hold-out set: 1.5100089006423951\n",
            "Accuracy on hold-out set: 0.43875\n",
            "Metric value on hold-out data: 0.4387499988079071\n",
            "Epoch: 2\n",
            "Loss on hold-out set: 1.3482177037715912\n",
            "Accuracy on hold-out set: 0.516\n",
            "Metric value on hold-out data: 0.515999972820282\n",
            "Epoch: 3\n",
            "Loss on hold-out set: 1.3272422414302827\n",
            "Accuracy on hold-out set: 0.51605\n",
            "Metric value on hold-out data: 0.5160499811172485\n",
            "Epoch: 4\n",
            "Loss on hold-out set: 1.3047662338733672\n",
            "Accuracy on hold-out set: 0.532\n",
            "Metric value on hold-out data: 0.5320000052452087\n",
            "Epoch: 5\n",
            "Loss on hold-out set: 1.2483111650943757\n",
            "Accuracy on hold-out set: 0.5517\n",
            "Metric value on hold-out data: 0.5516999959945679\n",
            "Epoch: 6\n",
            "Loss on hold-out set: 1.2503517334461212\n",
            "Accuracy on hold-out set: 0.5466\n",
            "Metric value on hold-out data: 0.5465999841690063\n",
            "Epoch: 7\n",
            "Loss on hold-out set: 1.245668736743927\n",
            "Accuracy on hold-out set: 0.5551\n",
            "Metric value on hold-out data: 0.5551000237464905\n",
            "Epoch: 8\n",
            "Loss on hold-out set: 1.2656788907527923\n",
            "Accuracy on hold-out set: 0.5551\n",
            "Metric value on hold-out data: 0.5551000237464905\n",
            "Epoch: 9\n",
            "Loss on hold-out set: 1.217155592393875\n",
            "Accuracy on hold-out set: 0.573\n",
            "Metric value on hold-out data: 0.5730000138282776\n",
            "Epoch: 10\n",
            "Loss on hold-out set: 1.2352756950855255\n",
            "Accuracy on hold-out set: 0.5654\n",
            "Metric value on hold-out data: 0.5654000043869019\n",
            "Epoch: 11\n",
            "Loss on hold-out set: 1.2241946451187133\n",
            "Accuracy on hold-out set: 0.5717\n",
            "Metric value on hold-out data: 0.5716999769210815\n",
            "Epoch: 12\n",
            "Loss on hold-out set: 1.1898162286758422\n",
            "Accuracy on hold-out set: 0.583\n",
            "Metric value on hold-out data: 0.5830000042915344\n",
            "Epoch: 13\n",
            "Loss on hold-out set: 1.1877180807113648\n",
            "Accuracy on hold-out set: 0.591\n",
            "Metric value on hold-out data: 0.5910000205039978\n",
            "Epoch: 14\n",
            "Loss on hold-out set: 1.2571509562969208\n",
            "Accuracy on hold-out set: 0.5749\n",
            "Metric value on hold-out data: 0.5748999714851379\n",
            "Epoch: 15\n",
            "Loss on hold-out set: 1.2006551874637603\n",
            "Accuracy on hold-out set: 0.584\n",
            "Metric value on hold-out data: 0.5839999914169312\n",
            "Epoch: 16\n",
            "Loss on hold-out set: 1.1697924949884415\n",
            "Accuracy on hold-out set: 0.59415\n",
            "Metric value on hold-out data: 0.5941500067710876\n",
            "Returned to Spot: Validation loss: 1.1697924949884415\n",
            "----------------------------------------------\n",
            "\n",
            "config: {'l1': 8, 'l2': 256, 'lr_mult': 1.0, 'batch_size': 16, 'epochs': 16, 'k_folds': 0, 'patience': 3, 'optimizer': 'ASGD', 'sgd_momentum': 0.9}\n",
            "Epoch: 1\n",
            "Loss on hold-out set: 1.9963805648803712\n",
            "Accuracy on hold-out set: 0.2414\n",
            "Metric value on hold-out data: 0.24140000343322754\n",
            "Epoch: 2\n",
            "Loss on hold-out set: 1.8813135106086731\n",
            "Accuracy on hold-out set: 0.29905\n",
            "Metric value on hold-out data: 0.2990500032901764\n",
            "Epoch: 3\n",
            "Loss on hold-out set: 1.7779405285835266\n",
            "Accuracy on hold-out set: 0.34435\n",
            "Metric value on hold-out data: 0.34435001015663147\n",
            "Epoch: 4\n",
            "Loss on hold-out set: 1.7133031975746156\n",
            "Accuracy on hold-out set: 0.37445\n",
            "Metric value on hold-out data: 0.3744499981403351\n",
            "Epoch: 5\n",
            "Loss on hold-out set: 1.651136376953125\n",
            "Accuracy on hold-out set: 0.3918\n",
            "Metric value on hold-out data: 0.3917999863624573\n",
            "Epoch: 6\n",
            "Loss on hold-out set: 1.6086151634693147\n",
            "Accuracy on hold-out set: 0.41365\n",
            "Metric value on hold-out data: 0.4136500060558319\n",
            "Epoch: 7\n",
            "Loss on hold-out set: 1.562630424308777\n",
            "Accuracy on hold-out set: 0.4295\n",
            "Metric value on hold-out data: 0.429500013589859\n",
            "Epoch: 8\n",
            "Loss on hold-out set: 1.5245761180877686\n",
            "Accuracy on hold-out set: 0.44345\n",
            "Metric value on hold-out data: 0.443450003862381\n",
            "Epoch: 9\n",
            "Loss on hold-out set: 1.5145470602512359\n",
            "Accuracy on hold-out set: 0.4506\n",
            "Metric value on hold-out data: 0.4505999982357025\n",
            "Epoch: 10\n",
            "Loss on hold-out set: 1.4645381720542907\n",
            "Accuracy on hold-out set: 0.4618\n",
            "Metric value on hold-out data: 0.4618000090122223\n",
            "Epoch: 11\n",
            "Loss on hold-out set: 1.4685315117835998\n",
            "Accuracy on hold-out set: 0.4633\n",
            "Metric value on hold-out data: 0.4632999897003174\n",
            "Epoch: 12\n",
            "Loss on hold-out set: 1.4238434554100037\n",
            "Accuracy on hold-out set: 0.48125\n",
            "Metric value on hold-out data: 0.48124998807907104\n",
            "Epoch: 13\n",
            "Loss on hold-out set: 1.4096686784744263\n",
            "Accuracy on hold-out set: 0.48455\n",
            "Metric value on hold-out data: 0.48454999923706055\n",
            "Epoch: 14\n",
            "Loss on hold-out set: 1.3993499710083008\n",
            "Accuracy on hold-out set: 0.4874\n",
            "Metric value on hold-out data: 0.48739999532699585\n",
            "Epoch: 15\n",
            "Loss on hold-out set: 1.3813529585838318\n",
            "Accuracy on hold-out set: 0.49245\n",
            "Metric value on hold-out data: 0.4924499988555908\n",
            "Epoch: 16\n",
            "Loss on hold-out set: 1.3718050142288207\n",
            "Accuracy on hold-out set: 0.49605\n",
            "Metric value on hold-out data: 0.49605000019073486\n",
            "Returned to Spot: Validation loss: 1.3718050142288207\n",
            "----------------------------------------------\n",
            "\n",
            "config: {'l1': 512, 'l2': 128, 'lr_mult': 1.0, 'batch_size': 16, 'epochs': 8, 'k_folds': 0, 'patience': 3, 'optimizer': 'RAdam', 'sgd_momentum': 0.9}\n",
            "Epoch: 1\n",
            "Loss on hold-out set: 1.529306022310257\n",
            "Accuracy on hold-out set: 0.4453\n",
            "Metric value on hold-out data: 0.44530001282691956\n",
            "Epoch: 2\n",
            "Loss on hold-out set: 1.3265570468902588\n",
            "Accuracy on hold-out set: 0.52395\n",
            "Metric value on hold-out data: 0.5239499807357788\n",
            "Epoch: 3\n",
            "Loss on hold-out set: 1.2409195862531661\n",
            "Accuracy on hold-out set: 0.5622\n",
            "Metric value on hold-out data: 0.5622000098228455\n",
            "Epoch: 4\n",
            "Loss on hold-out set: 1.2136913645505905\n",
            "Accuracy on hold-out set: 0.5728\n",
            "Metric value on hold-out data: 0.5727999806404114\n",
            "Epoch: 5\n",
            "Loss on hold-out set: 1.2211229023694992\n",
            "Accuracy on hold-out set: 0.58425\n",
            "Metric value on hold-out data: 0.5842499732971191\n",
            "Epoch: 6\n",
            "Loss on hold-out set: 1.228124245095253\n",
            "Accuracy on hold-out set: 0.5901\n",
            "Metric value on hold-out data: 0.5900999903678894\n",
            "Epoch: 7\n",
            "Loss on hold-out set: 1.2025524654150008\n",
            "Accuracy on hold-out set: 0.6108\n",
            "Metric value on hold-out data: 0.61080002784729\n",
            "Epoch: 8\n",
            "Loss on hold-out set: 1.413106104874611\n",
            "Accuracy on hold-out set: 0.59585\n",
            "Metric value on hold-out data: 0.5958499908447266\n",
            "Returned to Spot: Validation loss: 1.413106104874611\n",
            "----------------------------------------------\n",
            "\n",
            "config: {'l1': 128, 'l2': 64, 'lr_mult': 1.0, 'batch_size': 16, 'epochs': 8, 'k_folds': 0, 'patience': 3, 'optimizer': 'Adamax', 'sgd_momentum': 0.9}\n",
            "Epoch: 1\n",
            "Loss on hold-out set: 1.4909985179901124\n",
            "Accuracy on hold-out set: 0.46195\n",
            "Metric value on hold-out data: 0.46195000410079956\n",
            "Epoch: 2\n",
            "Loss on hold-out set: 1.4031450769901275\n",
            "Accuracy on hold-out set: 0.49305\n",
            "Metric value on hold-out data: 0.4930500090122223\n",
            "Epoch: 3\n",
            "Loss on hold-out set: 1.289018450832367\n",
            "Accuracy on hold-out set: 0.5357\n",
            "Metric value on hold-out data: 0.5357000231742859\n",
            "Epoch: 4\n",
            "Loss on hold-out set: 1.2288144186019898\n",
            "Accuracy on hold-out set: 0.556\n",
            "Metric value on hold-out data: 0.5559999942779541\n",
            "Epoch: 5\n",
            "Loss on hold-out set: 1.2037386803865433\n",
            "Accuracy on hold-out set: 0.57105\n",
            "Metric value on hold-out data: 0.5710499882698059\n",
            "Epoch: 6\n",
            "Loss on hold-out set: 1.18019978992939\n",
            "Accuracy on hold-out set: 0.5868\n",
            "Metric value on hold-out data: 0.5867999792098999\n",
            "Epoch: 7\n",
            "Loss on hold-out set: 1.1424919300317764\n",
            "Accuracy on hold-out set: 0.5993\n",
            "Metric value on hold-out data: 0.5993000268936157\n",
            "Epoch: 8\n",
            "Loss on hold-out set: 1.1828785536527633\n",
            "Accuracy on hold-out set: 0.59025\n",
            "Metric value on hold-out data: 0.5902500152587891\n",
            "Returned to Spot: Validation loss: 1.1828785536527633\n",
            "----------------------------------------------\n",
            "\n",
            "config: {'l1': 256, 'l2': 8, 'lr_mult': 1.0, 'batch_size': 4, 'epochs': 8, 'k_folds': 0, 'patience': 3, 'optimizer': 'Adadelta', 'sgd_momentum': 0.9}\n",
            "Epoch: 1\n",
            "Loss on hold-out set: 1.5812720422193407\n",
            "Accuracy on hold-out set: 0.4374\n",
            "Metric value on hold-out data: 0.4374000132083893\n",
            "Epoch: 2\n",
            "Loss on hold-out set: 1.5685407359808683\n",
            "Accuracy on hold-out set: 0.4584\n",
            "Metric value on hold-out data: 0.45840001106262207\n",
            "Epoch: 3\n",
            "Loss on hold-out set: 1.5436992482230067\n",
            "Accuracy on hold-out set: 0.49275\n",
            "Metric value on hold-out data: 0.49274998903274536\n",
            "Epoch: 4\n",
            "Loss on hold-out set: 1.5746074140884914\n",
            "Accuracy on hold-out set: 0.4922\n",
            "Metric value on hold-out data: 0.49219998717308044\n",
            "Epoch: 5\n",
            "Loss on hold-out set: 1.513112261414621\n",
            "Accuracy on hold-out set: 0.51055\n",
            "Metric value on hold-out data: 0.5105500221252441\n",
            "Epoch: 6\n",
            "Loss on hold-out set: 1.6784836213774048\n",
            "Accuracy on hold-out set: 0.48945\n",
            "Metric value on hold-out data: 0.48945000767707825\n",
            "Epoch: 7\n",
            "Loss on hold-out set: 1.639091829852335\n",
            "Accuracy on hold-out set: 0.53835\n",
            "Metric value on hold-out data: 0.538349986076355\n",
            "Epoch: 8\n",
            "Loss on hold-out set: 1.7369757526786067\n",
            "Accuracy on hold-out set: 0.4907\n",
            "Metric value on hold-out data: 0.49070000648498535\n",
            "Early stopping at epoch 7\n",
            "Returned to Spot: Validation loss: 1.7369757526786067\n",
            "----------------------------------------------\n",
            "\n",
            "config: {'l1': 32, 'l2': 8, 'lr_mult': 1.0, 'batch_size': 8, 'epochs': 16, 'k_folds': 0, 'patience': 3, 'optimizer': 'Adam', 'sgd_momentum': 0.9}\n",
            "Epoch: 1\n",
            "Loss on hold-out set: 1.6357997244119644\n",
            "Accuracy on hold-out set: 0.39395\n",
            "Metric value on hold-out data: 0.3939499855041504\n",
            "Epoch: 2\n",
            "Loss on hold-out set: 1.4940471045970918\n",
            "Accuracy on hold-out set: 0.45545\n",
            "Metric value on hold-out data: 0.45544999837875366\n",
            "Epoch: 3\n",
            "Loss on hold-out set: 1.4035842352032661\n",
            "Accuracy on hold-out set: 0.49095\n",
            "Metric value on hold-out data: 0.49094998836517334\n",
            "Epoch: 4\n",
            "Loss on hold-out set: 1.4178176800966262\n",
            "Accuracy on hold-out set: 0.4943\n",
            "Metric value on hold-out data: 0.4943000078201294\n",
            "Epoch: 5\n",
            "Loss on hold-out set: 1.3354739188551903\n",
            "Accuracy on hold-out set: 0.52385\n",
            "Metric value on hold-out data: 0.5238500237464905\n",
            "Epoch: 6\n",
            "Loss on hold-out set: 1.2990121293663979\n",
            "Accuracy on hold-out set: 0.5292\n",
            "Metric value on hold-out data: 0.52920001745224\n",
            "Epoch: 7\n",
            "Loss on hold-out set: 1.2702288015723229\n",
            "Accuracy on hold-out set: 0.54445\n",
            "Metric value on hold-out data: 0.5444499850273132\n",
            "Epoch: 8\n",
            "Loss on hold-out set: 1.2730215957641602\n",
            "Accuracy on hold-out set: 0.5462\n",
            "Metric value on hold-out data: 0.5461999773979187\n",
            "Epoch: 9\n",
            "Loss on hold-out set: 1.2514637345790862\n",
            "Accuracy on hold-out set: 0.5531\n",
            "Metric value on hold-out data: 0.5530999898910522\n",
            "Epoch: 10\n",
            "Loss on hold-out set: 1.2554490251243116\n",
            "Accuracy on hold-out set: 0.55615\n",
            "Metric value on hold-out data: 0.5561500191688538\n",
            "Epoch: 11\n",
            "Loss on hold-out set: 1.2901469555020333\n",
            "Accuracy on hold-out set: 0.5485\n",
            "Metric value on hold-out data: 0.5485000014305115\n",
            "Epoch: 12\n",
            "Loss on hold-out set: 1.2914710389196873\n",
            "Accuracy on hold-out set: 0.55645\n",
            "Metric value on hold-out data: 0.5564500093460083\n",
            "Early stopping at epoch 11\n",
            "Returned to Spot: Validation loss: 1.2914710389196873\n",
            "----------------------------------------------\n",
            "\n",
            "config: {'l1': 128, 'l2': 16, 'lr_mult': 1.0, 'batch_size': 4, 'epochs': 8, 'k_folds': 0, 'patience': 3, 'optimizer': 'Adam', 'sgd_momentum': 0.9}\n",
            "Epoch: 1\n",
            "Loss on hold-out set: 1.4867250874251128\n",
            "Accuracy on hold-out set: 0.4703\n",
            "Metric value on hold-out data: 0.47029998898506165\n",
            "Epoch: 2\n",
            "Loss on hold-out set: 1.434956729465723\n",
            "Accuracy on hold-out set: 0.488\n",
            "Metric value on hold-out data: 0.4880000054836273\n",
            "Epoch: 3\n",
            "Loss on hold-out set: 1.3053810834344477\n",
            "Accuracy on hold-out set: 0.5459\n",
            "Metric value on hold-out data: 0.5458999872207642\n",
            "Epoch: 4\n",
            "Loss on hold-out set: 1.358469253685698\n",
            "Accuracy on hold-out set: 0.53385\n",
            "Metric value on hold-out data: 0.5338500142097473\n",
            "Epoch: 5\n",
            "Loss on hold-out set: 1.2786246530022471\n",
            "Accuracy on hold-out set: 0.56495\n",
            "Metric value on hold-out data: 0.5649499893188477\n",
            "Epoch: 6\n",
            "Loss on hold-out set: 1.273624644011818\n",
            "Accuracy on hold-out set: 0.5788\n",
            "Metric value on hold-out data: 0.5788000226020813\n",
            "Epoch: 7\n",
            "Loss on hold-out set: 1.3286149361255113\n",
            "Accuracy on hold-out set: 0.5715\n",
            "Metric value on hold-out data: 0.5715000033378601\n",
            "Epoch: 8\n",
            "Loss on hold-out set: 1.2991277334888465\n",
            "Accuracy on hold-out set: 0.58375\n",
            "Metric value on hold-out data: 0.5837500095367432\n",
            "Returned to Spot: Validation loss: 1.2991277334888465\n",
            "----------------------------------------------\n",
            "\n",
            "config: {'l1': 4, 'l2': 256, 'lr_mult': 1.0, 'batch_size': 4, 'epochs': 16, 'k_folds': 0, 'patience': 3, 'optimizer': 'RMSprop', 'sgd_momentum': 0.9}\n",
            "Epoch: 1\n",
            "Loss on hold-out set: 2.3065932488918306\n",
            "Accuracy on hold-out set: 0.09475\n",
            "Metric value on hold-out data: 0.09475000202655792\n",
            "Epoch: 2\n",
            "Loss on hold-out set: 2.3048538721084593\n",
            "Accuracy on hold-out set: 0.09715\n",
            "Metric value on hold-out data: 0.09714999794960022\n",
            "Epoch: 3\n",
            "Loss on hold-out set: 2.3060045645713805\n",
            "Accuracy on hold-out set: 0.09965\n",
            "Metric value on hold-out data: 0.09965000301599503\n",
            "Epoch: 4\n",
            "Loss on hold-out set: 2.309344748592377\n",
            "Accuracy on hold-out set: 0.10125\n",
            "Metric value on hold-out data: 0.10125000029802322\n",
            "Epoch: 5\n",
            "Loss on hold-out set: 2.308117345333099\n",
            "Accuracy on hold-out set: 0.09965\n",
            "Metric value on hold-out data: 0.09965000301599503\n",
            "Early stopping at epoch 4\n",
            "Returned to Spot: Validation loss: 2.308117345333099\n",
            "----------------------------------------------\n",
            "\n",
            "config: {'l1': 32, 'l2': 32, 'lr_mult': 1.0, 'batch_size': 32, 'epochs': 16, 'k_folds': 0, 'patience': 3, 'optimizer': 'RAdam', 'sgd_momentum': 0.9}\n",
            "Epoch: 1\n",
            "Loss on hold-out set: 1.6911674964904786\n",
            "Accuracy on hold-out set: 0.3843\n",
            "Metric value on hold-out data: 0.38429999351501465\n",
            "Epoch: 2\n",
            "Loss on hold-out set: 1.540838247871399\n",
            "Accuracy on hold-out set: 0.4408\n",
            "Metric value on hold-out data: 0.4408000111579895\n",
            "Epoch: 3\n",
            "Loss on hold-out set: 1.4305335961341858\n",
            "Accuracy on hold-out set: 0.4867\n",
            "Metric value on hold-out data: 0.48669999837875366\n",
            "Epoch: 4\n",
            "Loss on hold-out set: 1.3407916935920716\n",
            "Accuracy on hold-out set: 0.52415\n",
            "Metric value on hold-out data: 0.524150013923645\n",
            "Epoch: 5\n",
            "Loss on hold-out set: 1.3050999183654786\n",
            "Accuracy on hold-out set: 0.53195\n",
            "Metric value on hold-out data: 0.5319499969482422\n",
            "Epoch: 6\n",
            "Loss on hold-out set: 1.2947772864341736\n",
            "Accuracy on hold-out set: 0.53985\n",
            "Metric value on hold-out data: 0.5398499965667725\n",
            "Epoch: 7\n",
            "Loss on hold-out set: 1.2285580247879029\n",
            "Accuracy on hold-out set: 0.5673\n",
            "Metric value on hold-out data: 0.567300021648407\n",
            "Epoch: 8\n",
            "Loss on hold-out set: 1.2008829906463623\n",
            "Accuracy on hold-out set: 0.5736\n",
            "Metric value on hold-out data: 0.5735999941825867\n",
            "Epoch: 9\n",
            "Loss on hold-out set: 1.2487043053627014\n",
            "Accuracy on hold-out set: 0.5602\n",
            "Metric value on hold-out data: 0.5601999759674072\n",
            "Epoch: 10\n",
            "Loss on hold-out set: 1.1975363381385804\n",
            "Accuracy on hold-out set: 0.58055\n",
            "Metric value on hold-out data: 0.5805500149726868\n",
            "Epoch: 11\n",
            "Loss on hold-out set: 1.187125588130951\n",
            "Accuracy on hold-out set: 0.58415\n",
            "Metric value on hold-out data: 0.5841500163078308\n",
            "Epoch: 12\n",
            "Loss on hold-out set: 1.1652003973007201\n",
            "Accuracy on hold-out set: 0.5959\n",
            "Metric value on hold-out data: 0.5958999991416931\n",
            "Epoch: 13\n",
            "Loss on hold-out set: 1.17251097946167\n",
            "Accuracy on hold-out set: 0.594\n",
            "Metric value on hold-out data: 0.593999981880188\n",
            "Epoch: 14\n",
            "Loss on hold-out set: 1.1672794868469238\n",
            "Accuracy on hold-out set: 0.59265\n",
            "Metric value on hold-out data: 0.5926499962806702\n",
            "Epoch: 15\n",
            "Loss on hold-out set: 1.2151279229164123\n",
            "Accuracy on hold-out set: 0.58205\n",
            "Metric value on hold-out data: 0.5820500254631042\n",
            "Early stopping at epoch 14\n",
            "Returned to Spot: Validation loss: 1.2151279229164123\n",
            "----------------------------------------------\n",
            "\n",
            "config: {'l1': 64, 'l2': 64, 'lr_mult': 1.0, 'batch_size': 2, 'epochs': 8, 'k_folds': 0, 'patience': 3, 'optimizer': 'Adamax', 'sgd_momentum': 0.9}\n",
            "Epoch: 1\n",
            "Loss on hold-out set: 1.5382876087042503\n",
            "Accuracy on hold-out set: 0.4525\n",
            "Metric value on hold-out data: 0.45249998569488525\n",
            "Epoch: 2\n",
            "Loss on hold-out set: 1.361257896349521\n",
            "Accuracy on hold-out set: 0.5294\n",
            "Metric value on hold-out data: 0.5293999910354614\n",
            "Epoch: 3\n",
            "Loss on hold-out set: 1.3163842301950848\n",
            "Accuracy on hold-out set: 0.55775\n",
            "Metric value on hold-out data: 0.5577499866485596\n",
            "Epoch: 4\n",
            "Loss on hold-out set: 1.2896621458081343\n",
            "Accuracy on hold-out set: 0.58085\n",
            "Metric value on hold-out data: 0.5808500051498413\n",
            "Epoch: 5\n",
            "Loss on hold-out set: 1.3953112650625044\n",
            "Accuracy on hold-out set: 0.5731\n",
            "Metric value on hold-out data: 0.5730999708175659\n",
            "Epoch: 6\n",
            "Loss on hold-out set: 1.4193303553904444\n",
            "Accuracy on hold-out set: 0.592\n",
            "Metric value on hold-out data: 0.5920000076293945\n",
            "Epoch: 7\n",
            "Loss on hold-out set: 1.4209389567013053\n",
            "Accuracy on hold-out set: 0.59925\n",
            "Metric value on hold-out data: 0.5992500185966492\n",
            "Early stopping at epoch 6\n",
            "Returned to Spot: Validation loss: 1.4209389567013053\n",
            "----------------------------------------------\n",
            "\n",
            "config: {'l1': 512, 'l2': 128, 'lr_mult': 1.0, 'batch_size': 4, 'epochs': 16, 'k_folds': 0, 'patience': 3, 'optimizer': 'Adagrad', 'sgd_momentum': 0.9}\n",
            "Epoch: 1\n",
            "Loss on hold-out set: 1.4937667487591506\n",
            "Accuracy on hold-out set: 0.4563\n",
            "Metric value on hold-out data: 0.4562999904155731\n",
            "Epoch: 2\n",
            "Loss on hold-out set: 1.3811525394201278\n",
            "Accuracy on hold-out set: 0.50255\n",
            "Metric value on hold-out data: 0.5025500059127808\n",
            "Epoch: 3\n",
            "Loss on hold-out set: 1.3332209562316537\n",
            "Accuracy on hold-out set: 0.5284\n",
            "Metric value on hold-out data: 0.5284000039100647\n",
            "Epoch: 4\n",
            "Loss on hold-out set: 1.270944023963064\n",
            "Accuracy on hold-out set: 0.5548\n",
            "Metric value on hold-out data: 0.5547999739646912\n",
            "Epoch: 5\n",
            "Loss on hold-out set: 1.2628589585199952\n",
            "Accuracy on hold-out set: 0.56115\n",
            "Metric value on hold-out data: 0.5611500144004822\n",
            "Epoch: 6\n",
            "Loss on hold-out set: 1.2464824630878866\n",
            "Accuracy on hold-out set: 0.56535\n",
            "Metric value on hold-out data: 0.5653499960899353\n",
            "Epoch: 7\n",
            "Loss on hold-out set: 1.2225997087061404\n",
            "Accuracy on hold-out set: 0.5753\n",
            "Metric value on hold-out data: 0.5752999782562256\n",
            "Epoch: 8\n",
            "Loss on hold-out set: 1.2108298006266356\n",
            "Accuracy on hold-out set: 0.5787\n",
            "Metric value on hold-out data: 0.5787000060081482\n",
            "Epoch: 9\n",
            "Loss on hold-out set: 1.1927208297938108\n",
            "Accuracy on hold-out set: 0.5874\n",
            "Metric value on hold-out data: 0.5874000191688538\n",
            "Epoch: 10\n",
            "Loss on hold-out set: 1.1948270414102822\n",
            "Accuracy on hold-out set: 0.5876\n",
            "Metric value on hold-out data: 0.5875999927520752\n",
            "Epoch: 11\n",
            "Loss on hold-out set: 1.1832670203119517\n",
            "Accuracy on hold-out set: 0.59425\n",
            "Metric value on hold-out data: 0.5942500233650208\n",
            "Epoch: 12\n",
            "Loss on hold-out set: 1.1767655227348208\n",
            "Accuracy on hold-out set: 0.5975\n",
            "Metric value on hold-out data: 0.5975000262260437\n",
            "Epoch: 13\n",
            "Loss on hold-out set: 1.1871967025220393\n",
            "Accuracy on hold-out set: 0.5967\n",
            "Metric value on hold-out data: 0.5967000126838684\n",
            "Epoch: 14\n",
            "Loss on hold-out set: 1.1726725486278533\n",
            "Accuracy on hold-out set: 0.6023\n",
            "Metric value on hold-out data: 0.6022999882698059\n",
            "Epoch: 15\n",
            "Loss on hold-out set: 1.168936653739959\n",
            "Accuracy on hold-out set: 0.60395\n",
            "Metric value on hold-out data: 0.603950023651123\n",
            "Epoch: 16\n",
            "Loss on hold-out set: 1.1603315925713629\n",
            "Accuracy on hold-out set: 0.60625\n",
            "Metric value on hold-out data: 0.606249988079071\n",
            "Returned to Spot: Validation loss: 1.1603315925713629\n",
            "----------------------------------------------\n",
            "\n",
            "config: {'l1': 16, 'l2': 32, 'lr_mult': 1.0, 'batch_size': 2, 'epochs': 16, 'k_folds': 0, 'patience': 3, 'optimizer': 'Adam', 'sgd_momentum': 0.9}\n",
            "Epoch: 1\n",
            "Loss on hold-out set: 1.6773878526845598\n",
            "Accuracy on hold-out set: 0.4188\n",
            "Metric value on hold-out data: 0.4187999963760376\n",
            "Epoch: 2\n",
            "Loss on hold-out set: 1.639725772495719\n",
            "Accuracy on hold-out set: 0.468\n",
            "Metric value on hold-out data: 0.46799999475479126\n",
            "Epoch: 3\n",
            "Loss on hold-out set: 1.6333952387114055\n",
            "Accuracy on hold-out set: 0.4569\n",
            "Metric value on hold-out data: 0.4569000005722046\n",
            "Epoch: 4\n",
            "Loss on hold-out set: 1.4593936632924946\n",
            "Accuracy on hold-out set: 0.5099\n",
            "Metric value on hold-out data: 0.5098999738693237\n",
            "Epoch: 5\n",
            "Loss on hold-out set: 1.459310568414182\n",
            "Accuracy on hold-out set: 0.51965\n",
            "Metric value on hold-out data: 0.5196499824523926\n",
            "Epoch: 6\n",
            "Loss on hold-out set: 1.461560301639076\n",
            "Accuracy on hold-out set: 0.51475\n",
            "Metric value on hold-out data: 0.5147500038146973\n",
            "Epoch: 7\n",
            "Loss on hold-out set: 1.5876563918440774\n",
            "Accuracy on hold-out set: 0.507\n",
            "Metric value on hold-out data: 0.5070000290870667\n",
            "Epoch: 8\n",
            "Loss on hold-out set: 1.584195220859281\n",
            "Accuracy on hold-out set: 0.5238\n",
            "Metric value on hold-out data: 0.5238000154495239\n",
            "Early stopping at epoch 7\n",
            "Returned to Spot: Validation loss: 1.584195220859281\n",
            "----------------------------------------------\n",
            "\n",
            "config: {'l1': 8, 'l2': 16, 'lr_mult': 1.0, 'batch_size': 32, 'epochs': 16, 'k_folds': 0, 'patience': 3, 'optimizer': 'RMSprop', 'sgd_momentum': 0.9}\n",
            "Epoch: 1\n",
            "Loss on hold-out set: 2.3052922424316407\n",
            "Accuracy on hold-out set: 0.09425\n",
            "Metric value on hold-out data: 0.09425000101327896\n",
            "Epoch: 2\n",
            "Loss on hold-out set: 2.3045441593170164\n",
            "Accuracy on hold-out set: 0.10135\n",
            "Metric value on hold-out data: 0.10135000199079514\n",
            "Epoch: 3\n",
            "Loss on hold-out set: 2.3032587352752687\n",
            "Accuracy on hold-out set: 0.0973\n",
            "Metric value on hold-out data: 0.09730000048875809\n",
            "Epoch: 4\n",
            "Loss on hold-out set: 2.3075335651397704\n",
            "Accuracy on hold-out set: 0.09425\n",
            "Metric value on hold-out data: 0.09425000101327896\n",
            "Epoch: 5\n",
            "Loss on hold-out set: 2.304865683364868\n",
            "Accuracy on hold-out set: 0.098\n",
            "Metric value on hold-out data: 0.09799999743700027\n",
            "Epoch: 6\n",
            "Loss on hold-out set: 2.3052316745758055\n",
            "Accuracy on hold-out set: 0.0977\n",
            "Metric value on hold-out data: 0.09769999980926514\n",
            "Early stopping at epoch 5\n",
            "Returned to Spot: Validation loss: 2.3052316745758055\n",
            "----------------------------------------------\n",
            "\n",
            "config: {'l1': 4, 'l2': 256, 'lr_mult': 1.0, 'batch_size': 8, 'epochs': 8, 'k_folds': 0, 'patience': 3, 'optimizer': 'Adamax', 'sgd_momentum': 0.9}\n",
            "Epoch: 1\n",
            "Loss on hold-out set: 1.7040440522432327\n",
            "Accuracy on hold-out set: 0.31705\n",
            "Metric value on hold-out data: 0.3170500099658966\n",
            "Epoch: 2\n",
            "Loss on hold-out set: 1.6766933378458022\n",
            "Accuracy on hold-out set: 0.3481\n",
            "Metric value on hold-out data: 0.3481000065803528\n",
            "Epoch: 3\n",
            "Loss on hold-out set: 1.5701667033433915\n",
            "Accuracy on hold-out set: 0.39285\n",
            "Metric value on hold-out data: 0.39285001158714294\n",
            "Epoch: 4\n",
            "Loss on hold-out set: 1.4756938196659088\n",
            "Accuracy on hold-out set: 0.4456\n",
            "Metric value on hold-out data: 0.4456000030040741\n",
            "Epoch: 5\n",
            "Loss on hold-out set: 1.4476998493909836\n",
            "Accuracy on hold-out set: 0.45565\n",
            "Metric value on hold-out data: 0.4556500017642975\n",
            "Epoch: 6\n",
            "Loss on hold-out set: 1.436604968893528\n",
            "Accuracy on hold-out set: 0.4629\n",
            "Metric value on hold-out data: 0.4629000127315521\n",
            "Epoch: 7\n",
            "Loss on hold-out set: 1.3788424988865853\n",
            "Accuracy on hold-out set: 0.50475\n",
            "Metric value on hold-out data: 0.5047500133514404\n",
            "Epoch: 8\n",
            "Loss on hold-out set: 1.3423013261675836\n",
            "Accuracy on hold-out set: 0.5089\n",
            "Metric value on hold-out data: 0.508899986743927\n",
            "Returned to Spot: Validation loss: 1.3423013261675836\n",
            "----------------------------------------------\n",
            "\n",
            "config: {'l1': 16, 'l2': 16, 'lr_mult': 1.0, 'batch_size': 8, 'epochs': 8, 'k_folds': 0, 'patience': 3, 'optimizer': 'AdamW', 'sgd_momentum': 0.9}\n",
            "Epoch: 1\n",
            "Loss on hold-out set: 1.5501825080394744\n",
            "Accuracy on hold-out set: 0.41795\n",
            "Metric value on hold-out data: 0.41795000433921814\n",
            "Epoch: 2\n",
            "Loss on hold-out set: 1.4139616301298141\n",
            "Accuracy on hold-out set: 0.4768\n",
            "Metric value on hold-out data: 0.47679999470710754\n",
            "Epoch: 3\n",
            "Loss on hold-out set: 1.3830398765563965\n",
            "Accuracy on hold-out set: 0.50195\n",
            "Metric value on hold-out data: 0.5019500255584717\n",
            "Epoch: 4\n",
            "Loss on hold-out set: 1.3320747370123862\n",
            "Accuracy on hold-out set: 0.51335\n",
            "Metric value on hold-out data: 0.5133500099182129\n",
            "Epoch: 5\n",
            "Loss on hold-out set: 1.2960366334438325\n",
            "Accuracy on hold-out set: 0.5376\n",
            "Metric value on hold-out data: 0.5375999808311462\n",
            "Epoch: 6\n",
            "Loss on hold-out set: 1.2954760854125023\n",
            "Accuracy on hold-out set: 0.5355\n",
            "Metric value on hold-out data: 0.5354999899864197\n",
            "Epoch: 7\n",
            "Loss on hold-out set: 1.2539066087961197\n",
            "Accuracy on hold-out set: 0.55165\n",
            "Metric value on hold-out data: 0.5516499876976013\n",
            "Epoch: 8\n",
            "Loss on hold-out set: 1.2570785471975803\n",
            "Accuracy on hold-out set: 0.55405\n",
            "Metric value on hold-out data: 0.5540500283241272\n",
            "Returned to Spot: Validation loss: 1.2570785471975803\n",
            "----------------------------------------------\n",
            "\n",
            "config: {'l1': 512, 'l2': 4, 'lr_mult': 1.0, 'batch_size': 32, 'epochs': 8, 'k_folds': 0, 'patience': 3, 'optimizer': 'Adam', 'sgd_momentum': 0.9}\n",
            "Epoch: 1\n",
            "Loss on hold-out set: 1.9302821794509888\n",
            "Accuracy on hold-out set: 0.2448\n",
            "Metric value on hold-out data: 0.24480000138282776\n",
            "Epoch: 2\n",
            "Loss on hold-out set: 1.6888893026351928\n",
            "Accuracy on hold-out set: 0.3378\n",
            "Metric value on hold-out data: 0.337799996137619\n",
            "Epoch: 3\n",
            "Loss on hold-out set: 1.6358532945632935\n",
            "Accuracy on hold-out set: 0.3484\n",
            "Metric value on hold-out data: 0.3483999967575073\n",
            "Epoch: 4\n",
            "Loss on hold-out set: 1.4913533729553223\n",
            "Accuracy on hold-out set: 0.44115\n",
            "Metric value on hold-out data: 0.4411500096321106\n",
            "Epoch: 5\n",
            "Loss on hold-out set: 1.466777606678009\n",
            "Accuracy on hold-out set: 0.4739\n",
            "Metric value on hold-out data: 0.4738999903202057\n",
            "Epoch: 6\n",
            "Loss on hold-out set: 1.3775128520965576\n",
            "Accuracy on hold-out set: 0.5028\n",
            "Metric value on hold-out data: 0.5027999877929688\n",
            "Epoch: 7\n",
            "Loss on hold-out set: 1.3363315556526185\n",
            "Accuracy on hold-out set: 0.5136\n",
            "Metric value on hold-out data: 0.5135999917984009\n",
            "Epoch: 8\n",
            "Loss on hold-out set: 1.3256290981292724\n",
            "Accuracy on hold-out set: 0.5233\n",
            "Metric value on hold-out data: 0.5232999920845032\n",
            "Returned to Spot: Validation loss: 1.3256290981292724\n",
            "----------------------------------------------\n",
            "spotPython tuning: [----------] 2.60% \n",
            "config: {'l1': 512, 'l2': 256, 'lr_mult': 1.0, 'batch_size': 32, 'epochs': 16, 'k_folds': 0, 'patience': 3, 'optimizer': 'Adagrad', 'sgd_momentum': 0.9}\n",
            "Epoch: 1\n",
            "Loss on hold-out set: 1.435316597366333\n",
            "Accuracy on hold-out set: 0.47685\n",
            "Metric value on hold-out data: 0.4768500030040741\n",
            "Epoch: 2\n",
            "Loss on hold-out set: 1.3446754857063294\n",
            "Accuracy on hold-out set: 0.50925\n",
            "Metric value on hold-out data: 0.5092499852180481\n",
            "Epoch: 3\n",
            "Loss on hold-out set: 1.3069581431388855\n",
            "Accuracy on hold-out set: 0.52515\n",
            "Metric value on hold-out data: 0.5251500010490417\n",
            "Epoch: 4\n",
            "Loss on hold-out set: 1.2593844440460205\n",
            "Accuracy on hold-out set: 0.5485\n",
            "Metric value on hold-out data: 0.5485000014305115\n",
            "Epoch: 5\n",
            "Loss on hold-out set: 1.2636357932090758\n",
            "Accuracy on hold-out set: 0.54515\n",
            "Metric value on hold-out data: 0.5451499819755554\n",
            "Epoch: 6\n",
            "Loss on hold-out set: 1.2121718804359436\n",
            "Accuracy on hold-out set: 0.568\n",
            "Metric value on hold-out data: 0.5680000185966492\n",
            "Epoch: 7\n",
            "Loss on hold-out set: 1.203432350254059\n",
            "Accuracy on hold-out set: 0.57425\n",
            "Metric value on hold-out data: 0.5742499828338623\n",
            "Epoch: 8\n",
            "Loss on hold-out set: 1.220766090965271\n",
            "Accuracy on hold-out set: 0.57135\n",
            "Metric value on hold-out data: 0.5713499784469604\n",
            "Epoch: 9\n",
            "Loss on hold-out set: 1.1893294228553772\n",
            "Accuracy on hold-out set: 0.58285\n",
            "Metric value on hold-out data: 0.5828499794006348\n",
            "Epoch: 10\n",
            "Loss on hold-out set: 1.166650779724121\n",
            "Accuracy on hold-out set: 0.5924\n",
            "Metric value on hold-out data: 0.5924000144004822\n",
            "Epoch: 11\n",
            "Loss on hold-out set: 1.1601218777656555\n",
            "Accuracy on hold-out set: 0.5935\n",
            "Metric value on hold-out data: 0.593500018119812\n",
            "Epoch: 12\n",
            "Loss on hold-out set: 1.1458739351272582\n",
            "Accuracy on hold-out set: 0.59955\n",
            "Metric value on hold-out data: 0.5995500087738037\n",
            "Epoch: 13\n",
            "Loss on hold-out set: 1.1824911904335023\n",
            "Accuracy on hold-out set: 0.58995\n",
            "Metric value on hold-out data: 0.5899500250816345\n",
            "Epoch: 14\n",
            "Loss on hold-out set: 1.1508271956443787\n",
            "Accuracy on hold-out set: 0.6033\n",
            "Metric value on hold-out data: 0.6032999753952026\n",
            "Epoch: 15\n",
            "Loss on hold-out set: 1.1482384911537171\n",
            "Accuracy on hold-out set: 0.60635\n",
            "Metric value on hold-out data: 0.6063500046730042\n",
            "Early stopping at epoch 14\n",
            "Returned to Spot: Validation loss: 1.1482384911537171\n",
            "----------------------------------------------\n",
            "spotPython tuning: [#---------] 7.37% \n",
            "config: {'l1': 32, 'l2': 128, 'lr_mult': 1.0, 'batch_size': 4, 'epochs': 16, 'k_folds': 0, 'patience': 3, 'optimizer': 'Adagrad', 'sgd_momentum': 0.9}\n",
            "Epoch: 1\n",
            "Loss on hold-out set: 1.553107136875391\n",
            "Accuracy on hold-out set: 0.43285\n",
            "Metric value on hold-out data: 0.4328500032424927\n",
            "Epoch: 2\n",
            "Loss on hold-out set: 1.4841331057310105\n",
            "Accuracy on hold-out set: 0.46225\n",
            "Metric value on hold-out data: 0.4622499942779541\n",
            "Epoch: 3\n",
            "Loss on hold-out set: 1.4300586433768272\n",
            "Accuracy on hold-out set: 0.48375\n",
            "Metric value on hold-out data: 0.48374998569488525\n",
            "Epoch: 4\n",
            "Loss on hold-out set: 1.4057926258146762\n",
            "Accuracy on hold-out set: 0.4889\n",
            "Metric value on hold-out data: 0.48890000581741333\n",
            "Epoch: 5\n",
            "Loss on hold-out set: 1.3819287328645586\n",
            "Accuracy on hold-out set: 0.5016\n",
            "Metric value on hold-out data: 0.5016000270843506\n",
            "Epoch: 6\n",
            "Loss on hold-out set: 1.371784684768319\n",
            "Accuracy on hold-out set: 0.5064\n",
            "Metric value on hold-out data: 0.5063999891281128\n",
            "Epoch: 7\n",
            "Loss on hold-out set: 1.348964696444571\n",
            "Accuracy on hold-out set: 0.51225\n",
            "Metric value on hold-out data: 0.5122500061988831\n",
            "Epoch: 8\n",
            "Loss on hold-out set: 1.3453629785716534\n",
            "Accuracy on hold-out set: 0.517\n",
            "Metric value on hold-out data: 0.5170000195503235\n",
            "Epoch: 9\n",
            "Loss on hold-out set: 1.3213468696549535\n",
            "Accuracy on hold-out set: 0.5247\n",
            "Metric value on hold-out data: 0.5246999859809875\n",
            "Epoch: 10\n",
            "Loss on hold-out set: 1.3143211027763784\n",
            "Accuracy on hold-out set: 0.5278\n",
            "Metric value on hold-out data: 0.5278000235557556\n",
            "Epoch: 11\n",
            "Loss on hold-out set: 1.3086083181574941\n",
            "Accuracy on hold-out set: 0.53285\n",
            "Metric value on hold-out data: 0.5328500270843506\n",
            "Epoch: 12\n",
            "Loss on hold-out set: 1.3034357034668327\n",
            "Accuracy on hold-out set: 0.5352\n",
            "Metric value on hold-out data: 0.5351999998092651\n",
            "Epoch: 13\n",
            "Loss on hold-out set: 1.299680847363174\n",
            "Accuracy on hold-out set: 0.5374\n",
            "Metric value on hold-out data: 0.5374000072479248\n",
            "Epoch: 14\n",
            "Loss on hold-out set: 1.2860187510728835\n",
            "Accuracy on hold-out set: 0.5425\n",
            "Metric value on hold-out data: 0.5425000190734863\n",
            "Epoch: 15\n",
            "Loss on hold-out set: 1.2906331252992154\n",
            "Accuracy on hold-out set: 0.54265\n",
            "Metric value on hold-out data: 0.5426499843597412\n",
            "Epoch: 16\n",
            "Loss on hold-out set: 1.2774594602406024\n",
            "Accuracy on hold-out set: 0.5471\n",
            "Metric value on hold-out data: 0.5471000075340271\n",
            "Returned to Spot: Validation loss: 1.2774594602406024\n",
            "----------------------------------------------\n",
            "spotPython tuning: [##--------] 20.86% \n",
            "config: {'l1': 512, 'l2': 512, 'lr_mult': 1.0, 'batch_size': 32, 'epochs': 16, 'k_folds': 0, 'patience': 3, 'optimizer': 'Adagrad', 'sgd_momentum': 0.9}\n",
            "Epoch: 1\n",
            "Loss on hold-out set: 1.4799803713798523\n",
            "Accuracy on hold-out set: 0.45705\n",
            "Metric value on hold-out data: 0.45704999566078186\n",
            "Epoch: 2\n",
            "Loss on hold-out set: 1.3562898255348206\n",
            "Accuracy on hold-out set: 0.5081\n",
            "Metric value on hold-out data: 0.5080999732017517\n",
            "Epoch: 3\n",
            "Loss on hold-out set: 1.2876613327026367\n",
            "Accuracy on hold-out set: 0.53845\n",
            "Metric value on hold-out data: 0.5384500026702881\n",
            "Epoch: 4\n",
            "Loss on hold-out set: 1.2832336627960206\n",
            "Accuracy on hold-out set: 0.5436\n",
            "Metric value on hold-out data: 0.5436000227928162\n",
            "Epoch: 5\n",
            "Loss on hold-out set: 1.2193241832733155\n",
            "Accuracy on hold-out set: 0.56805\n",
            "Metric value on hold-out data: 0.5680500268936157\n",
            "Epoch: 6\n",
            "Loss on hold-out set: 1.1910010946273804\n",
            "Accuracy on hold-out set: 0.57955\n",
            "Metric value on hold-out data: 0.57955002784729\n",
            "Epoch: 7\n",
            "Loss on hold-out set: 1.1645348050117492\n",
            "Accuracy on hold-out set: 0.58765\n",
            "Metric value on hold-out data: 0.5876500010490417\n",
            "Epoch: 8\n",
            "Loss on hold-out set: 1.1535511536598206\n",
            "Accuracy on hold-out set: 0.59825\n",
            "Metric value on hold-out data: 0.5982499718666077\n",
            "Epoch: 9\n",
            "Loss on hold-out set: 1.1572393858909606\n",
            "Accuracy on hold-out set: 0.59995\n",
            "Metric value on hold-out data: 0.5999500155448914\n",
            "Epoch: 10\n",
            "Loss on hold-out set: 1.1378637431144714\n",
            "Accuracy on hold-out set: 0.60735\n",
            "Metric value on hold-out data: 0.6073499917984009\n",
            "Epoch: 11\n",
            "Loss on hold-out set: 1.1434619352340698\n",
            "Accuracy on hold-out set: 0.6044\n",
            "Metric value on hold-out data: 0.6043999791145325\n",
            "Epoch: 12\n",
            "Loss on hold-out set: 1.1324411531448364\n",
            "Accuracy on hold-out set: 0.61205\n",
            "Metric value on hold-out data: 0.6120499968528748\n",
            "Epoch: 13\n",
            "Loss on hold-out set: 1.143154224538803\n",
            "Accuracy on hold-out set: 0.6136\n",
            "Metric value on hold-out data: 0.6136000156402588\n",
            "Epoch: 14\n",
            "Loss on hold-out set: 1.148034081363678\n",
            "Accuracy on hold-out set: 0.61095\n",
            "Metric value on hold-out data: 0.6109499931335449\n",
            "Epoch: 15\n",
            "Loss on hold-out set: 1.1749372687339783\n",
            "Accuracy on hold-out set: 0.6082\n",
            "Metric value on hold-out data: 0.6082000136375427\n",
            "Early stopping at epoch 14\n",
            "Returned to Spot: Validation loss: 1.1749372687339783\n",
            "----------------------------------------------\n",
            "spotPython tuning: [###-------] 25.77% \n",
            "config: {'l1': 32, 'l2': 4, 'lr_mult': 1.0, 'batch_size': 32, 'epochs': 16, 'k_folds': 0, 'patience': 3, 'optimizer': 'NAdam', 'sgd_momentum': 0.9}\n",
            "Epoch: 1\n",
            "Loss on hold-out set: 2.302764191818237\n",
            "Accuracy on hold-out set: 0.09835\n",
            "Metric value on hold-out data: 0.09835000336170197\n",
            "Epoch: 2\n",
            "Loss on hold-out set: 2.302795477294922\n",
            "Accuracy on hold-out set: 0.0992\n",
            "Metric value on hold-out data: 0.09920000284910202\n",
            "Epoch: 3\n",
            "Loss on hold-out set: 2.3029438510894775\n",
            "Accuracy on hold-out set: 0.09985\n",
            "Metric value on hold-out data: 0.09984999895095825\n",
            "Epoch: 4\n",
            "Loss on hold-out set: 2.3028977855682373\n",
            "Accuracy on hold-out set: 0.09905\n",
            "Metric value on hold-out data: 0.09905000030994415\n",
            "Early stopping at epoch 3\n",
            "Returned to Spot: Validation loss: 2.3028977855682373\n",
            "----------------------------------------------\n",
            "spotPython tuning: [###-------] 27.12% \n",
            "config: {'l1': 512, 'l2': 4, 'lr_mult': 1.0, 'batch_size': 2, 'epochs': 16, 'k_folds': 0, 'patience': 3, 'optimizer': 'Adagrad', 'sgd_momentum': 0.9}\n",
            "Epoch: 1\n",
            "Loss on hold-out set: 2.3049250260829925\n",
            "Accuracy on hold-out set: 0.0992\n",
            "Metric value on hold-out data: 0.09920000284910202\n",
            "Epoch: 2\n",
            "Loss on hold-out set: 2.303620624041557\n",
            "Accuracy on hold-out set: 0.0992\n",
            "Metric value on hold-out data: 0.09920000284910202\n",
            "Epoch: 3\n",
            "Loss on hold-out set: 2.303183578848839\n",
            "Accuracy on hold-out set: 0.0992\n",
            "Metric value on hold-out data: 0.09920000284910202\n",
            "Epoch: 4\n",
            "Loss on hold-out set: 2.3030015623569486\n",
            "Accuracy on hold-out set: 0.0992\n",
            "Metric value on hold-out data: 0.09920000284910202\n",
            "Epoch: 5\n",
            "Loss on hold-out set: 2.30291454102993\n",
            "Accuracy on hold-out set: 0.0992\n",
            "Metric value on hold-out data: 0.09920000284910202\n",
            "Epoch: 6\n",
            "Loss on hold-out set: 2.30286986386776\n",
            "Accuracy on hold-out set: 0.0992\n",
            "Metric value on hold-out data: 0.09920000284910202\n",
            "Epoch: 7\n",
            "Loss on hold-out set: 2.3028416281700133\n",
            "Accuracy on hold-out set: 0.09785\n",
            "Metric value on hold-out data: 0.097850002348423\n",
            "Epoch: 8\n",
            "Loss on hold-out set: 2.302825842165947\n",
            "Accuracy on hold-out set: 0.09785\n",
            "Metric value on hold-out data: 0.097850002348423\n",
            "Epoch: 9\n",
            "Loss on hold-out set: 2.3028162907123564\n",
            "Accuracy on hold-out set: 0.09785\n",
            "Metric value on hold-out data: 0.097850002348423\n",
            "Epoch: 10\n",
            "Loss on hold-out set: 2.302810894656181\n",
            "Accuracy on hold-out set: 0.09785\n",
            "Metric value on hold-out data: 0.097850002348423\n",
            "Epoch: 11\n",
            "Loss on hold-out set: 2.3028091055154802\n",
            "Accuracy on hold-out set: 0.09785\n",
            "Metric value on hold-out data: 0.097850002348423\n",
            "Epoch: 12\n",
            "Loss on hold-out set: 2.3028070600509642\n",
            "Accuracy on hold-out set: 0.09785\n",
            "Metric value on hold-out data: 0.097850002348423\n",
            "Epoch: 13\n",
            "Loss on hold-out set: 2.3028049781322477\n",
            "Accuracy on hold-out set: 0.09785\n",
            "Metric value on hold-out data: 0.097850002348423\n",
            "Epoch: 14\n",
            "Loss on hold-out set: 2.302803110098839\n",
            "Accuracy on hold-out set: 0.09785\n",
            "Metric value on hold-out data: 0.097850002348423\n",
            "Epoch: 15\n",
            "Loss on hold-out set: 2.302802568745613\n",
            "Accuracy on hold-out set: 0.09785\n",
            "Metric value on hold-out data: 0.097850002348423\n",
            "Epoch: 16\n",
            "Loss on hold-out set: 2.3028015782117843\n",
            "Accuracy on hold-out set: 0.09785\n",
            "Metric value on hold-out data: 0.097850002348423\n",
            "Returned to Spot: Validation loss: 2.3028015782117843\n",
            "----------------------------------------------\n",
            "spotPython tuning: [#####-----] 51.52% \n",
            "config: {'l1': 256, 'l2': 256, 'lr_mult': 1.0, 'batch_size': 4, 'epochs': 16, 'k_folds': 0, 'patience': 3, 'optimizer': 'Adagrad', 'sgd_momentum': 0.9}\n",
            "Epoch: 1\n",
            "Loss on hold-out set: 1.5030209769904614\n",
            "Accuracy on hold-out set: 0.4489\n",
            "Metric value on hold-out data: 0.4489000141620636\n",
            "Epoch: 2\n",
            "Loss on hold-out set: 1.396793807566166\n",
            "Accuracy on hold-out set: 0.4957\n",
            "Metric value on hold-out data: 0.49570000171661377\n",
            "Epoch: 3\n",
            "Loss on hold-out set: 1.3470216663390397\n",
            "Accuracy on hold-out set: 0.51395\n",
            "Metric value on hold-out data: 0.513949990272522\n",
            "Epoch: 4\n",
            "Loss on hold-out set: 1.3175550079733134\n",
            "Accuracy on hold-out set: 0.53195\n",
            "Metric value on hold-out data: 0.5319499969482422\n",
            "Epoch: 5\n",
            "Loss on hold-out set: 1.3022637398734689\n",
            "Accuracy on hold-out set: 0.53885\n",
            "Metric value on hold-out data: 0.5388500094413757\n",
            "Epoch: 6\n",
            "Loss on hold-out set: 1.2745065702341496\n",
            "Accuracy on hold-out set: 0.5483\n",
            "Metric value on hold-out data: 0.54830002784729\n",
            "Epoch: 7\n",
            "Loss on hold-out set: 1.2621786046102643\n",
            "Accuracy on hold-out set: 0.55065\n",
            "Metric value on hold-out data: 0.5506500005722046\n",
            "Epoch: 8\n",
            "Loss on hold-out set: 1.2393458742044867\n",
            "Accuracy on hold-out set: 0.56605\n",
            "Metric value on hold-out data: 0.5660499930381775\n",
            "Epoch: 9\n",
            "Loss on hold-out set: 1.2354269600659609\n",
            "Accuracy on hold-out set: 0.5697\n",
            "Metric value on hold-out data: 0.5697000026702881\n",
            "Epoch: 10\n",
            "Loss on hold-out set: 1.2197983815319837\n",
            "Accuracy on hold-out set: 0.5753\n",
            "Metric value on hold-out data: 0.5752999782562256\n",
            "Epoch: 11\n",
            "Loss on hold-out set: 1.2126501576669515\n",
            "Accuracy on hold-out set: 0.5777\n",
            "Metric value on hold-out data: 0.5777000188827515\n",
            "Epoch: 12\n",
            "Loss on hold-out set: 1.2113257051814348\n",
            "Accuracy on hold-out set: 0.582\n",
            "Metric value on hold-out data: 0.5820000171661377\n",
            "Epoch: 13\n",
            "Loss on hold-out set: 1.2078244487989693\n",
            "Accuracy on hold-out set: 0.5853\n",
            "Metric value on hold-out data: 0.5853000283241272\n",
            "Epoch: 14\n",
            "Loss on hold-out set: 1.2061564063932746\n",
            "Accuracy on hold-out set: 0.5902\n",
            "Metric value on hold-out data: 0.5902000069618225\n",
            "Epoch: 15\n",
            "Loss on hold-out set: 1.1915745536252855\n",
            "Accuracy on hold-out set: 0.59485\n",
            "Metric value on hold-out data: 0.5948500037193298\n",
            "Epoch: 16\n",
            "Loss on hold-out set: 1.1991534560561181\n",
            "Accuracy on hold-out set: 0.5937\n",
            "Metric value on hold-out data: 0.5936999917030334\n",
            "Returned to Spot: Validation loss: 1.1991534560561181\n",
            "----------------------------------------------\n",
            "spotPython tuning: [#######---] 66.14% \n",
            "config: {'l1': 32, 'l2': 256, 'lr_mult': 1.0, 'batch_size': 16, 'epochs': 16, 'k_folds': 0, 'patience': 3, 'optimizer': 'Adamax', 'sgd_momentum': 0.9}\n",
            "Epoch: 1\n",
            "Loss on hold-out set: 1.518764384174347\n",
            "Accuracy on hold-out set: 0.43735\n",
            "Metric value on hold-out data: 0.43735000491142273\n",
            "Epoch: 2\n",
            "Loss on hold-out set: 1.3805967596530915\n",
            "Accuracy on hold-out set: 0.49845\n",
            "Metric value on hold-out data: 0.49845001101493835\n",
            "Epoch: 3\n",
            "Loss on hold-out set: 1.3005352862834931\n",
            "Accuracy on hold-out set: 0.52845\n",
            "Metric value on hold-out data: 0.5284500122070312\n",
            "Epoch: 4\n",
            "Loss on hold-out set: 1.2452344863891602\n",
            "Accuracy on hold-out set: 0.5551\n",
            "Metric value on hold-out data: 0.5551000237464905\n",
            "Epoch: 5\n",
            "Loss on hold-out set: 1.212539716553688\n",
            "Accuracy on hold-out set: 0.57145\n",
            "Metric value on hold-out data: 0.5714499950408936\n",
            "Epoch: 6\n",
            "Loss on hold-out set: 1.1749344638824464\n",
            "Accuracy on hold-out set: 0.57925\n",
            "Metric value on hold-out data: 0.5792499780654907\n",
            "Epoch: 7\n",
            "Loss on hold-out set: 1.1704736840009689\n",
            "Accuracy on hold-out set: 0.5874\n",
            "Metric value on hold-out data: 0.5874000191688538\n",
            "Epoch: 8\n",
            "Loss on hold-out set: 1.1559248034000398\n",
            "Accuracy on hold-out set: 0.5923\n",
            "Metric value on hold-out data: 0.5922999978065491\n",
            "Epoch: 9\n",
            "Loss on hold-out set: 1.124675419640541\n",
            "Accuracy on hold-out set: 0.60805\n",
            "Metric value on hold-out data: 0.6080499887466431\n",
            "Epoch: 10\n",
            "Loss on hold-out set: 1.126592750287056\n",
            "Accuracy on hold-out set: 0.6096\n",
            "Metric value on hold-out data: 0.6096000075340271\n",
            "Epoch: 11\n",
            "Loss on hold-out set: 1.14170412940979\n",
            "Accuracy on hold-out set: 0.6005\n",
            "Metric value on hold-out data: 0.6004999876022339\n",
            "Epoch: 12\n",
            "Loss on hold-out set: 1.1316928357839584\n",
            "Accuracy on hold-out set: 0.6132\n",
            "Metric value on hold-out data: 0.6132000088691711\n",
            "Early stopping at epoch 11\n",
            "Returned to Spot: Validation loss: 1.1316928357839584\n",
            "----------------------------------------------\n",
            "spotPython tuning: [#######---] 71.06% \n",
            "config: {'l1': 16, 'l2': 512, 'lr_mult': 1.0, 'batch_size': 16, 'epochs': 16, 'k_folds': 0, 'patience': 3, 'optimizer': 'Adamax', 'sgd_momentum': 0.9}\n",
            "Epoch: 1\n",
            "Loss on hold-out set: 1.5167267605781556\n",
            "Accuracy on hold-out set: 0.44655\n",
            "Metric value on hold-out data: 0.44655001163482666\n",
            "Epoch: 2\n",
            "Loss on hold-out set: 1.3898938025474548\n",
            "Accuracy on hold-out set: 0.49285\n",
            "Metric value on hold-out data: 0.49285000562667847\n",
            "Epoch: 3\n",
            "Loss on hold-out set: 1.309014742898941\n",
            "Accuracy on hold-out set: 0.53025\n",
            "Metric value on hold-out data: 0.5302500128746033\n",
            "Epoch: 4\n",
            "Loss on hold-out set: 1.3446278085231782\n",
            "Accuracy on hold-out set: 0.5164\n",
            "Metric value on hold-out data: 0.5163999795913696\n",
            "Epoch: 5\n",
            "Loss on hold-out set: 1.2764105908870698\n",
            "Accuracy on hold-out set: 0.55075\n",
            "Metric value on hold-out data: 0.5507500171661377\n",
            "Epoch: 6\n",
            "Loss on hold-out set: 1.2364846986293794\n",
            "Accuracy on hold-out set: 0.5607\n",
            "Metric value on hold-out data: 0.560699999332428\n",
            "Epoch: 7\n",
            "Loss on hold-out set: 1.277480085372925\n",
            "Accuracy on hold-out set: 0.5454\n",
            "Metric value on hold-out data: 0.5454000234603882\n",
            "Epoch: 8\n",
            "Loss on hold-out set: 1.2078255004405976\n",
            "Accuracy on hold-out set: 0.57425\n",
            "Metric value on hold-out data: 0.5742499828338623\n",
            "Epoch: 9\n",
            "Loss on hold-out set: 1.2360563046455384\n",
            "Accuracy on hold-out set: 0.5672\n",
            "Metric value on hold-out data: 0.5672000050544739\n",
            "Epoch: 10\n",
            "Loss on hold-out set: 1.235951714658737\n",
            "Accuracy on hold-out set: 0.56335\n",
            "Metric value on hold-out data: 0.5633500218391418\n",
            "Epoch: 11\n",
            "Loss on hold-out set: 1.1749658187150955\n",
            "Accuracy on hold-out set: 0.58965\n",
            "Metric value on hold-out data: 0.5896499752998352\n",
            "Epoch: 12\n",
            "Loss on hold-out set: 1.1744624527454377\n",
            "Accuracy on hold-out set: 0.5883\n",
            "Metric value on hold-out data: 0.5882999897003174\n",
            "Epoch: 13\n",
            "Loss on hold-out set: 1.1812826827287675\n",
            "Accuracy on hold-out set: 0.58945\n",
            "Metric value on hold-out data: 0.5894500017166138\n",
            "Epoch: 14\n",
            "Loss on hold-out set: 1.153845055294037\n",
            "Accuracy on hold-out set: 0.59965\n",
            "Metric value on hold-out data: 0.5996500253677368\n",
            "Epoch: 15\n",
            "Loss on hold-out set: 1.1837445482254028\n",
            "Accuracy on hold-out set: 0.5891\n",
            "Metric value on hold-out data: 0.5891000032424927\n",
            "Epoch: 16\n",
            "Loss on hold-out set: 1.1814053332567216\n",
            "Accuracy on hold-out set: 0.5967\n",
            "Metric value on hold-out data: 0.5967000126838684\n",
            "Returned to Spot: Validation loss: 1.1814053332567216\n",
            "----------------------------------------------\n",
            "spotPython tuning: [########--] 77.69% \n",
            "config: {'l1': 512, 'l2': 4, 'lr_mult': 1.0, 'batch_size': 16, 'epochs': 16, 'k_folds': 0, 'patience': 3, 'optimizer': 'Adamax', 'sgd_momentum': 0.9}\n",
            "Epoch: 1\n",
            "Loss on hold-out set: 1.894377402305603\n",
            "Accuracy on hold-out set: 0.24465\n",
            "Metric value on hold-out data: 0.2446500062942505\n",
            "Epoch: 2\n",
            "Loss on hold-out set: 1.7066812858581544\n",
            "Accuracy on hold-out set: 0.3496\n",
            "Metric value on hold-out data: 0.3495999872684479\n",
            "Epoch: 3\n",
            "Loss on hold-out set: 1.6352562589645385\n",
            "Accuracy on hold-out set: 0.3775\n",
            "Metric value on hold-out data: 0.3774999976158142\n",
            "Epoch: 4\n",
            "Loss on hold-out set: 1.58498129196167\n",
            "Accuracy on hold-out set: 0.3955\n",
            "Metric value on hold-out data: 0.3955000042915344\n",
            "Epoch: 5\n",
            "Loss on hold-out set: 1.5374847245693206\n",
            "Accuracy on hold-out set: 0.41025\n",
            "Metric value on hold-out data: 0.4102500081062317\n",
            "Epoch: 6\n",
            "Loss on hold-out set: 1.461202159166336\n",
            "Accuracy on hold-out set: 0.4744\n",
            "Metric value on hold-out data: 0.47440001368522644\n",
            "Epoch: 7\n",
            "Loss on hold-out set: 1.3081801302433014\n",
            "Accuracy on hold-out set: 0.5351\n",
            "Metric value on hold-out data: 0.535099983215332\n",
            "Epoch: 8\n",
            "Loss on hold-out set: 1.306528939318657\n",
            "Accuracy on hold-out set: 0.5431\n",
            "Metric value on hold-out data: 0.5430999994277954\n",
            "Epoch: 9\n",
            "Loss on hold-out set: 1.2521316507577895\n",
            "Accuracy on hold-out set: 0.57215\n",
            "Metric value on hold-out data: 0.5721499919891357\n",
            "Epoch: 10\n",
            "Loss on hold-out set: 1.254925669503212\n",
            "Accuracy on hold-out set: 0.5866\n",
            "Metric value on hold-out data: 0.5866000056266785\n",
            "Epoch: 11\n",
            "Loss on hold-out set: 1.2473216305494308\n",
            "Accuracy on hold-out set: 0.57905\n",
            "Metric value on hold-out data: 0.5790500044822693\n",
            "Epoch: 12\n",
            "Loss on hold-out set: 1.2717359053373336\n",
            "Accuracy on hold-out set: 0.5884\n",
            "Metric value on hold-out data: 0.5884000062942505\n",
            "Epoch: 13\n",
            "Loss on hold-out set: 1.3194327040672302\n",
            "Accuracy on hold-out set: 0.58195\n",
            "Metric value on hold-out data: 0.5819500088691711\n",
            "Epoch: 14\n",
            "Loss on hold-out set: 1.3855798065662384\n",
            "Accuracy on hold-out set: 0.58595\n",
            "Metric value on hold-out data: 0.5859500169754028\n",
            "Early stopping at epoch 13\n",
            "Returned to Spot: Validation loss: 1.3855798065662384\n",
            "----------------------------------------------\n",
            "spotPython tuning: [########--] 83.60% \n",
            "config: {'l1': 64, 'l2': 512, 'lr_mult': 1.0, 'batch_size': 16, 'epochs': 16, 'k_folds': 0, 'patience': 3, 'optimizer': 'Adamax', 'sgd_momentum': 0.9}\n",
            "Epoch: 1\n",
            "Loss on hold-out set: 1.524293507528305\n",
            "Accuracy on hold-out set: 0.44335\n",
            "Metric value on hold-out data: 0.4433499872684479\n",
            "Epoch: 2\n",
            "Loss on hold-out set: 1.4073708810806274\n",
            "Accuracy on hold-out set: 0.4948\n",
            "Metric value on hold-out data: 0.49480000138282776\n",
            "Epoch: 3\n",
            "Loss on hold-out set: 1.340272273874283\n",
            "Accuracy on hold-out set: 0.51845\n",
            "Metric value on hold-out data: 0.5184500217437744\n",
            "Epoch: 4\n",
            "Loss on hold-out set: 1.267277663230896\n",
            "Accuracy on hold-out set: 0.54565\n",
            "Metric value on hold-out data: 0.5456500053405762\n",
            "Epoch: 5\n",
            "Loss on hold-out set: 1.2285311397075653\n",
            "Accuracy on hold-out set: 0.56665\n",
            "Metric value on hold-out data: 0.5666499733924866\n",
            "Epoch: 6\n",
            "Loss on hold-out set: 1.214962945985794\n",
            "Accuracy on hold-out set: 0.57155\n",
            "Metric value on hold-out data: 0.5715500116348267\n",
            "Epoch: 7\n",
            "Loss on hold-out set: 1.1622985949516296\n",
            "Accuracy on hold-out set: 0.5955\n",
            "Metric value on hold-out data: 0.5954999923706055\n",
            "Epoch: 8\n",
            "Loss on hold-out set: 1.1829749881029128\n",
            "Accuracy on hold-out set: 0.5882\n",
            "Metric value on hold-out data: 0.5881999731063843\n",
            "Epoch: 9\n",
            "Loss on hold-out set: 1.1847763062953949\n",
            "Accuracy on hold-out set: 0.5937\n",
            "Metric value on hold-out data: 0.5936999917030334\n",
            "Epoch: 10\n",
            "Loss on hold-out set: 1.1414791838407516\n",
            "Accuracy on hold-out set: 0.60815\n",
            "Metric value on hold-out data: 0.6081500053405762\n",
            "Epoch: 11\n",
            "Loss on hold-out set: 1.1540795821428298\n",
            "Accuracy on hold-out set: 0.6054\n",
            "Metric value on hold-out data: 0.605400025844574\n",
            "Epoch: 12\n",
            "Loss on hold-out set: 1.174271537256241\n",
            "Accuracy on hold-out set: 0.60985\n",
            "Metric value on hold-out data: 0.6098499894142151\n",
            "Epoch: 13\n",
            "Loss on hold-out set: 1.2139886532068254\n",
            "Accuracy on hold-out set: 0.60325\n",
            "Metric value on hold-out data: 0.6032500267028809\n",
            "Early stopping at epoch 12\n",
            "Returned to Spot: Validation loss: 1.2139886532068254\n",
            "----------------------------------------------\n",
            "spotPython tuning: [#########-] 89.12% \n",
            "config: {'l1': 16, 'l2': 8, 'lr_mult': 1.0, 'batch_size': 16, 'epochs': 16, 'k_folds': 0, 'patience': 3, 'optimizer': 'Adamax', 'sgd_momentum': 0.9}\n",
            "Epoch: 1\n",
            "Loss on hold-out set: 1.7474945813179017\n",
            "Accuracy on hold-out set: 0.347\n",
            "Metric value on hold-out data: 0.34700000286102295\n",
            "Epoch: 2\n",
            "Loss on hold-out set: 1.5885029982089995\n",
            "Accuracy on hold-out set: 0.41055\n",
            "Metric value on hold-out data: 0.41054999828338623\n",
            "Epoch: 3\n",
            "Loss on hold-out set: 1.4794500433921813\n",
            "Accuracy on hold-out set: 0.45555\n",
            "Metric value on hold-out data: 0.4555499851703644\n",
            "Epoch: 4\n",
            "Loss on hold-out set: 1.417621279811859\n",
            "Accuracy on hold-out set: 0.4788\n",
            "Metric value on hold-out data: 0.4787999987602234\n",
            "Epoch: 5\n",
            "Loss on hold-out set: 1.361213594532013\n",
            "Accuracy on hold-out set: 0.50525\n",
            "Metric value on hold-out data: 0.5052499771118164\n",
            "Epoch: 6\n",
            "Loss on hold-out set: 1.3350650045871735\n",
            "Accuracy on hold-out set: 0.51715\n",
            "Metric value on hold-out data: 0.5171499848365784\n",
            "Epoch: 7\n",
            "Loss on hold-out set: 1.2904721675395965\n",
            "Accuracy on hold-out set: 0.5374\n",
            "Metric value on hold-out data: 0.5374000072479248\n",
            "Epoch: 8\n",
            "Loss on hold-out set: 1.2956352697849274\n",
            "Accuracy on hold-out set: 0.53665\n",
            "Metric value on hold-out data: 0.5366500020027161\n",
            "Epoch: 9\n",
            "Loss on hold-out set: 1.278590477180481\n",
            "Accuracy on hold-out set: 0.5391\n",
            "Metric value on hold-out data: 0.5390999913215637\n",
            "Epoch: 10\n",
            "Loss on hold-out set: 1.2386094047784806\n",
            "Accuracy on hold-out set: 0.5574\n",
            "Metric value on hold-out data: 0.5573999881744385\n",
            "Epoch: 11\n",
            "Loss on hold-out set: 1.225942229628563\n",
            "Accuracy on hold-out set: 0.5605\n",
            "Metric value on hold-out data: 0.5605000257492065\n",
            "Epoch: 12\n",
            "Loss on hold-out set: 1.2902692641019822\n",
            "Accuracy on hold-out set: 0.5492\n",
            "Metric value on hold-out data: 0.5491999983787537\n",
            "Epoch: 13\n",
            "Loss on hold-out set: 1.2150172483921051\n",
            "Accuracy on hold-out set: 0.5703\n",
            "Metric value on hold-out data: 0.5702999830245972\n",
            "Epoch: 14\n",
            "Loss on hold-out set: 1.2179292926073075\n",
            "Accuracy on hold-out set: 0.5679\n",
            "Metric value on hold-out data: 0.5679000020027161\n",
            "Epoch: 15\n",
            "Loss on hold-out set: 1.2804823126077651\n",
            "Accuracy on hold-out set: 0.5503\n",
            "Metric value on hold-out data: 0.5503000020980835\n",
            "Epoch: 16\n",
            "Loss on hold-out set: 1.1810553413629532\n",
            "Accuracy on hold-out set: 0.5848\n",
            "Metric value on hold-out data: 0.5848000049591064\n",
            "Returned to Spot: Validation loss: 1.1810553413629532\n",
            "----------------------------------------------\n",
            "spotPython tuning: [##########] 95.59% \n",
            "config: {'l1': 256, 'l2': 64, 'lr_mult': 1.0, 'batch_size': 32, 'epochs': 16, 'k_folds': 0, 'patience': 3, 'optimizer': 'RAdam', 'sgd_momentum': 0.9}\n",
            "Epoch: 1\n",
            "Loss on hold-out set: 1.578014458847046\n",
            "Accuracy on hold-out set: 0.42275\n",
            "Metric value on hold-out data: 0.42274999618530273\n",
            "Epoch: 2\n",
            "Loss on hold-out set: 1.4641384937286377\n",
            "Accuracy on hold-out set: 0.4736\n",
            "Metric value on hold-out data: 0.47360000014305115\n",
            "Epoch: 3\n",
            "Loss on hold-out set: 1.3619766417503356\n",
            "Accuracy on hold-out set: 0.50795\n",
            "Metric value on hold-out data: 0.5079500079154968\n",
            "Epoch: 4\n",
            "Loss on hold-out set: 1.2998278557777405\n",
            "Accuracy on hold-out set: 0.532\n",
            "Metric value on hold-out data: 0.5320000052452087\n",
            "Epoch: 5\n",
            "Loss on hold-out set: 1.217912488937378\n",
            "Accuracy on hold-out set: 0.56805\n",
            "Metric value on hold-out data: 0.5680500268936157\n",
            "Epoch: 6\n",
            "Loss on hold-out set: 1.1703669239997865\n",
            "Accuracy on hold-out set: 0.5895\n",
            "Metric value on hold-out data: 0.5895000100135803\n",
            "Epoch: 7\n",
            "Loss on hold-out set: 1.1340228748321532\n",
            "Accuracy on hold-out set: 0.6035\n",
            "Metric value on hold-out data: 0.6035000085830688\n",
            "Epoch: 8\n",
            "Loss on hold-out set: 1.1045489515304565\n",
            "Accuracy on hold-out set: 0.61455\n",
            "Metric value on hold-out data: 0.614549994468689\n",
            "Epoch: 9\n",
            "Loss on hold-out set: 1.1336908000946044\n",
            "Accuracy on hold-out set: 0.6125\n",
            "Metric value on hold-out data: 0.612500011920929\n",
            "Epoch: 10\n",
            "Loss on hold-out set: 1.1388457258224487\n",
            "Accuracy on hold-out set: 0.618\n",
            "Metric value on hold-out data: 0.6179999709129333\n",
            "Epoch: 11\n",
            "Loss on hold-out set: 1.1668721603870391\n",
            "Accuracy on hold-out set: 0.6137\n",
            "Metric value on hold-out data: 0.6136999726295471\n",
            "Early stopping at epoch 10\n",
            "Returned to Spot: Validation loss: 1.1668721603870391\n",
            "----------------------------------------------\n",
            "spotPython tuning: [##########] 99.31% \n",
            "config: {'l1': 32, 'l2': 512, 'lr_mult': 1.0, 'batch_size': 16, 'epochs': 8, 'k_folds': 0, 'patience': 3, 'optimizer': 'Adamax', 'sgd_momentum': 0.9}\n",
            "Epoch: 1\n",
            "Loss on hold-out set: 1.5804028995990753\n",
            "Accuracy on hold-out set: 0.42075\n",
            "Metric value on hold-out data: 0.4207499921321869\n",
            "Epoch: 2\n",
            "Loss on hold-out set: 1.3823550746917725\n",
            "Accuracy on hold-out set: 0.50055\n",
            "Metric value on hold-out data: 0.5005499720573425\n",
            "Epoch: 3\n",
            "Loss on hold-out set: 1.325119697713852\n",
            "Accuracy on hold-out set: 0.51835\n",
            "Metric value on hold-out data: 0.5183500051498413\n",
            "Epoch: 4\n",
            "Loss on hold-out set: 1.2208237689971924\n",
            "Accuracy on hold-out set: 0.56515\n",
            "Metric value on hold-out data: 0.5651500225067139\n",
            "Epoch: 5\n",
            "Loss on hold-out set: 1.2236062495708466\n",
            "Accuracy on hold-out set: 0.5637\n",
            "Metric value on hold-out data: 0.5637000203132629\n",
            "Epoch: 6\n",
            "Loss on hold-out set: 1.220871846461296\n",
            "Accuracy on hold-out set: 0.57405\n",
            "Metric value on hold-out data: 0.5740500092506409\n",
            "Epoch: 7\n",
            "Loss on hold-out set: 1.186980559015274\n",
            "Accuracy on hold-out set: 0.58175\n",
            "Metric value on hold-out data: 0.5817499756813049\n",
            "Epoch: 8\n",
            "Loss on hold-out set: 1.1249081416606903\n",
            "Accuracy on hold-out set: 0.6095\n",
            "Metric value on hold-out data: 0.609499990940094\n",
            "Returned to Spot: Validation loss: 1.1249081416606903\n",
            "----------------------------------------------\n",
            "spotPython tuning: [##########] 100.00% Done...\n",
            "\r"
          ]
        },
        {
          "data": {
            "text/plain": [
              "<spotPython.spot.spot.Spot at 0x1759f5a80>"
            ]
          },
          "execution_count": 37,
          "metadata": {},
          "output_type": "execute_result"
        }
      ],
      "source": [
        "\n",
        "spot_tuner = spot.Spot(fun=fun,\n",
        "                   lower = lower,\n",
        "                   upper = upper,\n",
        "                   fun_evals = inf,\n",
        "                   fun_repeats = 1,\n",
        "                   max_time = MAX_TIME,\n",
        "                   noise = False,\n",
        "                   tolerance_x = np.sqrt(np.spacing(1)),\n",
        "                   var_type = var_type,\n",
        "                   var_name = var_name,\n",
        "                   infill_criterion = \"y\",\n",
        "                   n_points = 1,\n",
        "                   seed=123,\n",
        "                   log_level = 50,\n",
        "                   show_models= False,\n",
        "                   show_progress= True,\n",
        "                   fun_control = fun_control,\n",
        "                   design_control={\"init_size\": INIT_SIZE,\n",
        "                                   \"repeats\": 1},\n",
        "                   surrogate_control={\"noise\": True,\n",
        "                                      \"cod_type\": \"norm\",\n",
        "                                      \"min_theta\": -4,\n",
        "                                      \"max_theta\": 3,\n",
        "                                      \"n_theta\": len(var_name),\n",
        "                                      \"model_optimizer\": differential_evolution,\n",
        "                                      \"model_fun_evals\": 10_000,\n",
        "                                      \"log_level\": 50\n",
        "                                      })\n",
        "spot_tuner.run(X_start=X_start)"
      ]
    },
    {
      "attachments": {},
      "cell_type": "markdown",
      "metadata": {},
      "source": [
        "## Results {#sec-results-tuning}"
      ]
    },
    {
      "cell_type": "code",
      "execution_count": 38,
      "metadata": {
        "vscode": {
          "languageId": "python"
        }
      },
      "outputs": [],
      "source": [
        "SAVE = False\n",
        "LOAD = False\n",
        "\n",
        "if SAVE:\n",
        "    result_file_name = \"res_\" + experiment_name + \".pkl\"\n",
        "    with open(result_file_name, 'wb') as f:\n",
        "        pickle.dump(spot_tuner, f)\n",
        "\n",
        "if LOAD:\n",
        "    result_file_name = \"add_the_name_of_the_result_file_here.pkl\"\n",
        "    with open(result_file_name, 'rb') as f:\n",
        "        spot_tuner =  pickle.load(f)"
      ]
    },
    {
      "attachments": {},
      "cell_type": "markdown",
      "metadata": {},
      "source": [
        "After the hyperparameter tuning run is finished, the progress of the hyperparameter tuning can be visualized. The following code generates the progress plot from @fig-progress."
      ]
    },
    {
      "cell_type": "code",
      "execution_count": 39,
      "metadata": {
        "vscode": {
          "languageId": "python"
        }
      },
      "outputs": [
        {
          "data": {
            "image/png": "[encoded data removed]",
            "text/plain": [
              "<Figure size 900x600 with 1 Axes>"
            ]
          },
          "metadata": {},
          "output_type": "display_data"
        }
      ],
      "source": [
        "#| label: fig-progress\n",
        "#| fig-cap: \"Progress plot. *Black* dots denote results from the initial design. *Red* dots  illustrate the improvement found by the surrogate model based optimization.\"\n",
        "spot_tuner.plot_progress(log_y=False, filename=\"./figures\" + experiment_name+\"_progress.png\")"
      ]
    },
    {
      "attachments": {},
      "cell_type": "markdown",
      "metadata": {},
      "source": [
        "@fig-progress shows a typical behaviour that can be observed in many hyperparameter studies [@bart21i]: the largest improvement is obtained during the evaluation of the initial design. The surrogate model based optimization-optimization with the surrogate refines the results. @fig-progress also illustrates one major difference between `ray[tune]` as used in @pyto23a and `spotPython`: the `ray[tune]` uses a random search and will generate results similar to the *black* dots, whereas `spotPython` uses a surrogate model based optimization and presents results represented by *red* dots in @fig-progress. The surrogate model based optimization is considered to be more efficient than a random search, because the surrogate model guides the search towards promising regions in the hyperparameter space.\n",
        "\n",
        "In addition to the improved (\"optimized\") hyperparameter values, `spotPython` allows a statistical analysis, e.g., a sensitivity analysis, of the results. We can print the results of the hyperparameter tuning, see @tbl-results."
      ]
    },
    {
      "cell_type": "code",
      "execution_count": 40,
      "metadata": {
        "vscode": {
          "languageId": "python"
        }
      },
      "outputs": [
        {
          "name": "stdout",
          "output_type": "stream",
          "text": [
            "| name         | type   | default   |   lower |   upper |   tuned | transform             |   importance | stars   |\n",
            "|--------------|--------|-----------|---------|---------|---------|-----------------------|--------------|---------|\n",
            "| l1           | int    | 5         |     2.0 |     9.0 |     5.0 | transform_power_2_int |         0.20 | .       |\n",
            "| l2           | int    | 5         |     2.0 |     9.0 |     9.0 | transform_power_2_int |         0.00 |         |\n",
            "| lr_mult      | float  | 1.0       |     1.0 |     1.0 |     1.0 | None                  |         0.00 |         |\n",
            "| batch_size   | int    | 4         |     1.0 |     5.0 |     4.0 | transform_power_2_int |       100.00 | ***     |\n",
            "| epochs       | int    | 3         |     3.0 |     4.0 |     3.0 | transform_power_2_int |         0.00 |         |\n",
            "| k_folds      | int    | 2         |     0.0 |     0.0 |     0.0 | None                  |         0.00 |         |\n",
            "| patience     | int    | 5         |     3.0 |     3.0 |     3.0 | None                  |         0.00 |         |\n",
            "| optimizer    | factor | SGD       |     0.0 |     9.0 |     4.0 | None                  |         0.00 |         |\n",
            "| sgd_momentum | float  | 0.0       |     0.9 |     0.9 |     0.9 | None                  |         0.00 |         |\n"
          ]
        }
      ],
      "source": [
        "\n",
        "print(gen_design_table(fun_control=fun_control, spot=spot_tuner))"
      ]
    },
    {
      "attachments": {},
      "cell_type": "markdown",
      "metadata": {},
      "source": [
        "| name       | type   | default          |   lower |   upper |   tuned | transform             |   importance | stars   |\n",
        "|------------|--------|------------------|---------:|---------:|---------:|--------------------|--------------:|---------|\n",
        "| l1         | int    | 5                |     2.0 |     9.0 |     7.0 | pow_2_int |       100.00 | ***     |\n",
        "| l2         | int    | 5                |     2.0 |     9.0 |     3.0 | pow_2_int |        96.29 | ***     |\n",
        "| lr_mult         | float  | 1.0            |   0.1 |   10.0 |   0.1 | None                  |         0.00 |         |\n",
        "| batchsize | int    | 4                |     1.0 |     5.0 |     4.0 | pow_2_int |         0.00 |         |\n",
        "| epochs     | int    | 3                |     3.0 |     4.0 |     4.0 | pow_2_int |         4.18 | *       |\n",
        "| k_folds    | int    | 2                |     0.0 |     0.0 |     0.0 | None                  |         0.00 |         |\n",
        "| patience   | int    | 5                |     3.0 |     3.0 |     3.0 | None                  |         0.00 |         |\n",
        "| optimizer  | factor | SGD              |     0.0 |     9.0 |     3.0 | None                  |         0.16 | .       |\n",
        ": Results of the hyperparameter tuning. The table shows the hyperparameters, their types, default values, lower and upper bounds, and the transformation function. The column \"tuned\" shows the tuned values. The column \"importance\" shows the importance of the hyperparameters. The column \"stars\" shows the importance of the hyperparameters in stars. The importance is computed by the SPOT software. {#tbl-results}\n",
        "\n",
        "To visualize the most important hyperparameters, `spotPython` provides the function `plot_importance`. The following code generates the importance plot from @fig-importance."
      ]
    },
    {
      "cell_type": "code",
      "execution_count": 41,
      "metadata": {
        "vscode": {
          "languageId": "python"
        }
      },
      "outputs": [
        {
          "data": {
            "image/png": "[encoded data removed]",
            "text/plain": [
              "<Figure size 640x480 with 1 Axes>"
            ]
          },
          "metadata": {},
          "output_type": "display_data"
        }
      ],
      "source": [
        "\n",
        "spot_tuner.plot_importance(threshold=0.025, filename=\"./figures\" + experiment_name+\"_importance.png\")"
      ]
    },
    {
      "attachments": {},
      "cell_type": "markdown",
      "metadata": {},
      "source": [
        "## Get SPOT Results {#sec-get-spot-results}\n",
        "\n",
        "The architecture of the `spotPython` model can be obtained by the following code:"
      ]
    },
    {
      "cell_type": "code",
      "execution_count": 42,
      "metadata": {
        "vscode": {
          "languageId": "python"
        }
      },
      "outputs": [
        {
          "data": {
            "text/plain": [
              "Net_CIFAR10(\n",
              "  (conv1): Conv2d(3, 6, kernel_size=(5, 5), stride=(1, 1))\n",
              "  (pool): MaxPool2d(kernel_size=2, stride=2, padding=0, dilation=1, ceil_mode=False)\n",
              "  (conv2): Conv2d(6, 16, kernel_size=(5, 5), stride=(1, 1))\n",
              "  (fc1): Linear(in_features=400, out_features=32, bias=True)\n",
              "  (fc2): Linear(in_features=32, out_features=512, bias=True)\n",
              "  (fc3): Linear(in_features=512, out_features=10, bias=True)\n",
              ")"
            ]
          },
          "execution_count": 42,
          "metadata": {},
          "output_type": "execute_result"
        }
      ],
      "source": [
        "\n",
        "X = spot_tuner.to_all_dim(spot_tuner.min_X.reshape(1,-1))\n",
        "model_spot = get_one_core_model_from_X(X, fun_control)\n",
        "model_spot"
      ]
    },
    {
      "attachments": {},
      "cell_type": "markdown",
      "metadata": {},
      "source": [
        "First, the numerical representation of the hyperparameters are obtained, i.e., the numpy array `X` is generated. This array is then used to generate the model `model_spot` by the function `get_one_core_model_from_X`. The model `model_spot` has the following architecture:\n",
        "\n",
        "\n",
        "```{raw}\n",
        "Net_CIFAR10(\n",
        "  (conv1): Conv2d(3, 6, kernel_size=(5, 5), stride=(1, 1))\n",
        "  (pool): MaxPool2d(kernel_size=2, stride=2, padding=0, dilation=1, ceil_mode=False)\n",
        "  (conv2): Conv2d(6, 16, kernel_size=(5, 5), stride=(1, 1))\n",
        "  (fc1): Linear(in_features=400, out_features=64, bias=True)\n",
        "  (fc2): Linear(in_features=64, out_features=32, bias=True)\n",
        "  (fc3): Linear(in_features=32, out_features=10, bias=True)\n",
        ")\n",
        "```\n",
        "\n",
        "## Get Default Hyperparameters\n",
        "\n",
        "In a similar manner as in @sec-get-spot-results, the default hyperparameters can be obtained."
      ]
    },
    {
      "cell_type": "code",
      "execution_count": 43,
      "metadata": {
        "vscode": {
          "languageId": "python"
        }
      },
      "outputs": [],
      "source": [
        "\n",
        "# fun_control was modified, we generate a new one with the original default hyperparameters\n",
        "fc = copy.deepcopy(fun_control)\n",
        "fc.update({\"core_model_hyper_dict\": hyper_dict[fun_control[\"core_model\"].__name__]})\n",
        "model_default = get_one_core_model_from_X(X_start, fun_control=fc)"
      ]
    },
    {
      "attachments": {},
      "cell_type": "markdown",
      "metadata": {},
      "source": [
        "The corresponding default model has the following architecture:\n",
        "\n",
        "```{raw}\n",
        "Net_CIFAR10(\n",
        "  (conv1): Conv2d(3, 6, kernel_size=(5, 5), stride=(1, 1))\n",
        "  (pool): MaxPool2d(kernel_size=2, stride=2, padding=0, dilation=1, ceil_mode=False)\n",
        "  (conv2): Conv2d(6, 16, kernel_size=(5, 5), stride=(1, 1))\n",
        "  (fc1): Linear(in_features=400, out_features=32, bias=True)\n",
        "  (fc2): Linear(in_features=32, out_features=32, bias=True)\n",
        "  (fc3): Linear(in_features=32, out_features=10, bias=True)\n",
        ")\n",
        "```\n",
        "\n",
        "\n",
        "\n",
        "## Evaluation of the Tuned Architecture\n",
        "\n",
        "The method `train_tuned` takes a model architecture without trained weights and trains this model with the train data. The train data is split into train and validation data. The validation data is used for early stopping. The trained model weights are saved as a dictionary.\n",
        "\n",
        " This evaluation is similar to the final evaluation in @pyto23a. \n"
      ]
    },
    {
      "cell_type": "code",
      "execution_count": 44,
      "metadata": {
        "vscode": {
          "languageId": "python"
        }
      },
      "outputs": [
        {
          "name": "stdout",
          "output_type": "stream",
          "text": [
            "Epoch: 1\n",
            "Batch:  1000. Batch Size: 16. Training Loss (running): 2.309\n",
            "Loss on hold-out set: 2.304589412307739\n",
            "Accuracy on hold-out set: 0.11655\n",
            "Metric value on hold-out data: 0.11654999852180481\n",
            "Epoch: 2\n",
            "Batch:  1000. Batch Size: 16. Training Loss (running): 2.305\n",
            "Loss on hold-out set: 2.3019731157302856\n",
            "Accuracy on hold-out set: 0.12475\n",
            "Metric value on hold-out data: 0.12475000321865082\n",
            "Epoch: 3\n",
            "Batch:  1000. Batch Size: 16. Training Loss (running): 2.303\n",
            "Loss on hold-out set: 2.2994499362945557\n",
            "Accuracy on hold-out set: 0.1431\n",
            "Metric value on hold-out data: 0.14309999346733093\n",
            "Epoch: 4\n",
            "Batch:  1000. Batch Size: 16. Training Loss (running): 2.299\n",
            "Loss on hold-out set: 2.2961568408966064\n",
            "Accuracy on hold-out set: 0.1556\n",
            "Metric value on hold-out data: 0.15559999644756317\n",
            "Epoch: 5\n",
            "Batch:  1000. Batch Size: 16. Training Loss (running): 2.296\n",
            "Loss on hold-out set: 2.2900343395233156\n",
            "Accuracy on hold-out set: 0.15595\n",
            "Metric value on hold-out data: 0.15594999492168427\n",
            "Epoch: 6\n",
            "Batch:  1000. Batch Size: 16. Training Loss (running): 2.287\n",
            "Loss on hold-out set: 2.2729942804336547\n",
            "Accuracy on hold-out set: 0.15495\n",
            "Metric value on hold-out data: 0.15494999289512634\n",
            "Epoch: 7\n",
            "Batch:  1000. Batch Size: 16. Training Loss (running): 2.262\n",
            "Loss on hold-out set: 2.210036797142029\n",
            "Accuracy on hold-out set: 0.1817\n",
            "Metric value on hold-out data: 0.18170000612735748\n",
            "Epoch: 8\n",
            "Batch:  1000. Batch Size: 16. Training Loss (running): 2.177\n",
            "Loss on hold-out set: 2.1062395105361937\n",
            "Accuracy on hold-out set: 0.2093\n",
            "Metric value on hold-out data: 0.2092999964952469\n",
            "Returned to Spot: Validation loss: 2.1062395105361937\n",
            "----------------------------------------------\n",
            "Loss on hold-out set: 2.099417648887634\n",
            "Accuracy on hold-out set: 0.2147\n",
            "Metric value on hold-out data: 0.21469999849796295\n",
            "Final evaluation: Validation loss: 2.099417648887634\n",
            "Final evaluation: Validation metric: 0.21469999849796295\n",
            "----------------------------------------------\n"
          ]
        },
        {
          "data": {
            "text/plain": [
              "(2.099417648887634, nan, tensor(0.2147))"
            ]
          },
          "execution_count": 44,
          "metadata": {},
          "output_type": "execute_result"
        }
      ],
      "source": [
        "train_tuned(net=model_default, train_dataset=train, shuffle=True,\n",
        "        loss_function=fun_control[\"loss_function\"],\n",
        "        metric=fun_control[\"metric_torch\"],\n",
        "        device = DEVICE, show_batch_interval=1_000,)\n",
        "test_tuned(net=model_default, test_dataset=test, \n",
        "        loss_function=fun_control[\"loss_function\"],\n",
        "        metric=fun_control[\"metric_torch\"],\n",
        "        shuffle=False, \n",
        "        device = DEVICE)"
      ]
    },
    {
      "attachments": {},
      "cell_type": "markdown",
      "metadata": {},
      "source": [
        " The following code trains the model `model_spot`. If `path` is set to a filename, e.g., `path = \"model_spot_trained.pt\"`, the weights of the trained model will be saved to this file.\n"
      ]
    },
    {
      "cell_type": "code",
      "execution_count": 45,
      "metadata": {
        "vscode": {
          "languageId": "python"
        }
      },
      "outputs": [
        {
          "name": "stdout",
          "output_type": "stream",
          "text": [
            "Epoch: 1\n",
            "Loss on hold-out set: 1.4960761651992798\n",
            "Accuracy on hold-out set: 0.45405\n",
            "Metric value on hold-out data: 0.4540500044822693\n",
            "Epoch: 2\n",
            "Loss on hold-out set: 1.341151428747177\n",
            "Accuracy on hold-out set: 0.51295\n",
            "Metric value on hold-out data: 0.5129500031471252\n",
            "Epoch: 3\n",
            "Loss on hold-out set: 1.272660139274597\n",
            "Accuracy on hold-out set: 0.54595\n",
            "Metric value on hold-out data: 0.5459499955177307\n",
            "Epoch: 4\n",
            "Loss on hold-out set: 1.2223041974544526\n",
            "Accuracy on hold-out set: 0.5636\n",
            "Metric value on hold-out data: 0.5636000037193298\n",
            "Epoch: 5\n",
            "Loss on hold-out set: 1.1832676507949829\n",
            "Accuracy on hold-out set: 0.57855\n",
            "Metric value on hold-out data: 0.5785499811172485\n",
            "Epoch: 6\n",
            "Loss on hold-out set: 1.1899413429737091\n",
            "Accuracy on hold-out set: 0.57625\n",
            "Metric value on hold-out data: 0.5762500166893005\n",
            "Epoch: 7\n",
            "Loss on hold-out set: 1.1607564134836197\n",
            "Accuracy on hold-out set: 0.5918\n",
            "Metric value on hold-out data: 0.5917999744415283\n",
            "Epoch: 8\n",
            "Loss on hold-out set: 1.1686393126249313\n",
            "Accuracy on hold-out set: 0.58965\n",
            "Metric value on hold-out data: 0.5896499752998352\n",
            "Returned to Spot: Validation loss: 1.1686393126249313\n",
            "----------------------------------------------\n"
          ]
        }
      ],
      "source": [
        "train_tuned(net=model_spot, train_dataset=train,\n",
        "        loss_function=fun_control[\"loss_function\"],\n",
        "        metric=fun_control[\"metric_torch\"],\n",
        "        shuffle=True,\n",
        "        device = DEVICE,\n",
        "        path=None)"
      ]
    },
    {
      "attachments": {},
      "cell_type": "markdown",
      "metadata": {},
      "source": [
        "If `path` is set to a filename, e.g., `path = \"model_spot_trained.pt\"`, the weights of the trained model will be loaded from this file."
      ]
    },
    {
      "cell_type": "code",
      "execution_count": 46,
      "metadata": {
        "vscode": {
          "languageId": "python"
        }
      },
      "outputs": [
        {
          "name": "stdout",
          "output_type": "stream",
          "text": [
            "Loss on hold-out set: 1.1777440647125244\n",
            "Accuracy on hold-out set: 0.5892\n",
            "Metric value on hold-out data: 0.5892000198364258\n",
            "Final evaluation: Validation loss: 1.1777440647125244\n",
            "Final evaluation: Validation metric: 0.5892000198364258\n",
            "----------------------------------------------\n"
          ]
        },
        {
          "data": {
            "text/plain": [
              "(1.1777440647125244, nan, tensor(0.5892))"
            ]
          },
          "execution_count": 46,
          "metadata": {},
          "output_type": "execute_result"
        }
      ],
      "source": [
        "test_tuned(net=model_spot, test_dataset=test,\n",
        "            shuffle=False,\n",
        "            loss_function=fun_control[\"loss_function\"],\n",
        "            metric=fun_control[\"metric_torch\"],\n",
        "            device = DEVICE)"
      ]
    },
    {
      "attachments": {},
      "cell_type": "markdown",
      "metadata": {},
      "source": [
        "```{raw}\n",
        "Loss on hold-out set: 1.242568492603302\n",
        "Accuracy on hold-out set: 0.5957\n",
        "```\n",
        "\n",
        "\n",
        "## Comparison with Default Hyperparameters and Ray Tune\n",
        "\n",
        "@tbl-comparison shows the loss and accuracy of the default model, the model with the hyperparameters from SPOT, and the model with the hyperparameters from `ray[tune]`.\n",
        "\n",
        "| Model     | Validation Loss | Validation Accuracy | Loss    | Accuracy |\n",
        "|:----------|----------------:|--------------------:|--------:|---------:|\n",
        "| Default   | 2.1221          | 0.2452              | 2.1182  | 0.2425   |\n",
        "| `spotPython`      |1.2268         | 0.5896            | 1.2426  | 0.5957   |\n",
        "| `ray[tune]`  | 1.1815          | 0.5836              | -       | 0.5806   |\n",
        ": Comparison of the loss and accuracy of the default model, the model with the hyperparameters from SPOT, and the model with the hyperparameters from `ray[tune]`. `ray[tune]` only shows the validation loss, because training loss is not reported by `ray[tune]`. {#tbl-comparison}\n",
        "\n",
        "\n",
        "## Detailed Hyperparameter Plots\n",
        "\n",
        "The contour plots in this section visualize the interactions of the three most important hyperparameters, `l1`, `l2`,  and `epochs`, and `optimizer` of the surrogate model used to optimize the hyperparameters. Since some of these hyperparameters take fatorial or integer values, sometimes step-like fitness landcapes (or response surfaces) are generated.\n",
        "SPOT draws the interactions of the main hyperparameters by default. It is also possible to visualize all interactions. For this, again refer to the notebook [@bart23e].\n"
      ]
    },
    {
      "cell_type": "code",
      "execution_count": 47,
      "metadata": {
        "vscode": {
          "languageId": "python"
        }
      },
      "outputs": [
        {
          "name": "stdout",
          "output_type": "stream",
          "text": [
            "l1:  0.20166975389643976\n",
            "batch_size:  100.0\n"
          ]
        },
        {
          "data": {
            "image/png": "[encoded data removed]",
            "text/plain": [
              "<Figure size 900x600 with 3 Axes>"
            ]
          },
          "metadata": {},
          "output_type": "display_data"
        }
      ],
      "source": [
        "\n",
        "#| label: fig-contour\n",
        "threshold = 0.025\n",
        "impo = spot_tuner.print_importance(threshold=threshold, print_screen=True)\n",
        "var_plots = [i for i, x in enumerate(impo) if x[1] > threshold]\n",
        "min_z = min(spot_tuner.y)\n",
        "max_z = max(spot_tuner.y)\n",
        "n = spot_tuner.k\n",
        "for i in var_plots:\n",
        "    for j in var_plots:\n",
        "        if j > i:\n",
        "            filename = \"./figures\" + experiment_name+\"_contour_\"+str(i)+\"_\"+str(j)+\".png\"\n",
        "            spot_tuner.plot_contour(i=i, j=j, min_z=min_z, max_z = max_z, filename=filename)"
      ]
    },
    {
      "attachments": {},
      "cell_type": "markdown",
      "metadata": {},
      "source": [
        "The figures above show the contour plots of the loss as a function of the hyperparameters. These plots are very helpful for benchmark studies and for understanding neural networks.\n",
        "`spotPython` provides additional tools for a visual inspection of the results and give valuable insights into the hyperparameter tuning process.\n",
        "This is especially useful for model explainability, transparency, and trustworthiness.\n",
        "In addition to the contour plots, @fig-parallel shows the parallel plot of the hyperparameters."
      ]
    },
    {
      "cell_type": "code",
      "execution_count": 48,
      "metadata": {
        "vscode": {
          "languageId": "python"
        }
      },
      "outputs": [
        {
          "data": {
            "application/vnd.plotly.v1+json": {
              "config": {
                "plotlyServerURL": "https://plot.ly"
              },
              "data": [
                {
                  "dimensions": [
                    {
                      "label": "l1",
                      "range": [
                        2,
                        9
                      ],
                      "values": [
                        6,
                        6,
                        8,
                        5,
                        8,
                        4,
                        3,
                        9,
                        7,
                        8,
                        5,
                        7,
                        2,
                        5,
                        6,
                        9,
                        4,
                        3,
                        2,
                        4,
                        9,
                        9,
                        5,
                        9,
                        5,
                        9,
                        8,
                        5,
                        4,
                        9,
                        6,
                        4,
                        8,
                        5
                      ]
                    },
                    {
                      "label": "l2",
                      "range": [
                        2,
                        9
                      ],
                      "values": [
                        2,
                        6,
                        4,
                        9,
                        8,
                        3,
                        8,
                        7,
                        6,
                        3,
                        3,
                        4,
                        8,
                        5,
                        6,
                        7,
                        5,
                        4,
                        8,
                        4,
                        2,
                        8,
                        7,
                        9,
                        2,
                        2,
                        8,
                        8,
                        9,
                        2,
                        9,
                        3,
                        6,
                        9
                      ]
                    },
                    {
                      "label": "batch_size",
                      "range": [
                        1,
                        5
                      ],
                      "values": [
                        4,
                        3,
                        3,
                        2,
                        3,
                        4,
                        4,
                        4,
                        4,
                        2,
                        3,
                        2,
                        2,
                        5,
                        1,
                        2,
                        1,
                        5,
                        3,
                        3,
                        5,
                        5,
                        2,
                        5,
                        5,
                        1,
                        2,
                        4,
                        4,
                        4,
                        4,
                        4,
                        5,
                        4
                      ]
                    },
                    {
                      "label": "epochs",
                      "range": [
                        3,
                        4
                      ],
                      "values": [
                        3,
                        4,
                        3,
                        3,
                        4,
                        4,
                        4,
                        3,
                        3,
                        3,
                        4,
                        3,
                        4,
                        4,
                        3,
                        4,
                        4,
                        4,
                        3,
                        3,
                        3,
                        4,
                        4,
                        4,
                        4,
                        4,
                        4,
                        4,
                        4,
                        4,
                        4,
                        4,
                        4,
                        3
                      ]
                    },
                    {
                      "label": "optimizer",
                      "range": [
                        0,
                        9
                      ],
                      "values": [
                        5,
                        5,
                        1,
                        9,
                        7,
                        6,
                        5,
                        7,
                        4,
                        0,
                        2,
                        2,
                        8,
                        7,
                        4,
                        1,
                        2,
                        8,
                        4,
                        3,
                        2,
                        1,
                        1,
                        1,
                        6,
                        1,
                        1,
                        4,
                        4,
                        4,
                        4,
                        4,
                        7,
                        4
                      ]
                    }
                  ],
                  "line": {
                    "cmax": 2.308117345333099,
                    "cmin": 1.1249081416606903,
                    "color": [
                      1.7321136079788209,
                      1.348625540459156,
                      1.3627557481765746,
                      1.3764030919969081,
                      1.3411163100227714,
                      1.1697924949884415,
                      1.3718050142288207,
                      1.413106104874611,
                      1.1828785536527633,
                      1.7369757526786067,
                      1.2914710389196873,
                      1.2991277334888465,
                      2.308117345333099,
                      1.2151279229164123,
                      1.4209389567013053,
                      1.1603315925713629,
                      1.584195220859281,
                      2.3052316745758055,
                      1.3423013261675836,
                      1.2570785471975803,
                      1.3256290981292724,
                      1.1482384911537171,
                      1.2774594602406024,
                      1.1749372687339783,
                      2.3028977855682373,
                      2.3028015782117843,
                      1.1991534560561181,
                      1.1316928357839584,
                      1.1814053332567216,
                      1.3855798065662384,
                      1.2139886532068254,
                      1.1810553413629532,
                      1.1668721603870391,
                      1.1249081416606903
                    ],
                    "colorscale": [
                      [
                        0,
                        "rgb(0,0,131)"
                      ],
                      [
                        0.2,
                        "rgb(0,60,170)"
                      ],
                      [
                        0.4,
                        "rgb(5,255,255)"
                      ],
                      [
                        0.6,
                        "rgb(255,255,0)"
                      ],
                      [
                        0.8,
                        "rgb(250,0,0)"
                      ],
                      [
                        1,
                        "rgb(128,0,0)"
                      ]
                    ],
                    "showscale": true
                  },
                  "type": "parcoords"
                }
              ],
              "layout": {
                "template": {
                  "data": {
                    "bar": [
                      {
                        "error_x": {
                          "color": "#2a3f5f"
                        },
                        "error_y": {
                          "color": "#2a3f5f"
                        },
                        "marker": {
                          "line": {
                            "color": "#E5ECF6",
                            "width": 0.5
                          },
                          "pattern": {
                            "fillmode": "overlay",
                            "size": 10,
                            "solidity": 0.2
                          }
                        },
                        "type": "bar"
                      }
                    ],
                    "barpolar": [
                      {
                        "marker": {
                          "line": {
                            "color": "#E5ECF6",
                            "width": 0.5
                          },
                          "pattern": {
                            "fillmode": "overlay",
                            "size": 10,
                            "solidity": 0.2
                          }
                        },
                        "type": "barpolar"
                      }
                    ],
                    "carpet": [
                      {
                        "aaxis": {
                          "endlinecolor": "#2a3f5f",
                          "gridcolor": "white",
                          "linecolor": "white",
                          "minorgridcolor": "white",
                          "startlinecolor": "#2a3f5f"
                        },
                        "baxis": {
                          "endlinecolor": "#2a3f5f",
                          "gridcolor": "white",
                          "linecolor": "white",
                          "minorgridcolor": "white",
                          "startlinecolor": "#2a3f5f"
                        },
                        "type": "carpet"
                      }
                    ],
                    "choropleth": [
                      {
                        "colorbar": {
                          "outlinewidth": 0,
                          "ticks": ""
                        },
                        "type": "choropleth"
                      }
                    ],
                    "contour": [
                      {
                        "colorbar": {
                          "outlinewidth": 0,
                          "ticks": ""
                        },
                        "colorscale": [
                          [
                            0,
                            "#0d0887"
                          ],
                          [
                            0.1111111111111111,
                            "#46039f"
                          ],
                          [
                            0.2222222222222222,
                            "#7201a8"
                          ],
                          [
                            0.3333333333333333,
                            "#9c179e"
                          ],
                          [
                            0.4444444444444444,
                            "#bd3786"
                          ],
                          [
                            0.5555555555555556,
                            "#d8576b"
                          ],
                          [
                            0.6666666666666666,
                            "#ed7953"
                          ],
                          [
                            0.7777777777777778,
                            "#fb9f3a"
                          ],
                          [
                            0.8888888888888888,
                            "#fdca26"
                          ],
                          [
                            1,
                            "#f0f921"
                          ]
                        ],
                        "type": "contour"
                      }
                    ],
                    "contourcarpet": [
                      {
                        "colorbar": {
                          "outlinewidth": 0,
                          "ticks": ""
                        },
                        "type": "contourcarpet"
                      }
                    ],
                    "heatmap": [
                      {
                        "colorbar": {
                          "outlinewidth": 0,
                          "ticks": ""
                        },
                        "colorscale": [
                          [
                            0,
                            "#0d0887"
                          ],
                          [
                            0.1111111111111111,
                            "#46039f"
                          ],
                          [
                            0.2222222222222222,
                            "#7201a8"
                          ],
                          [
                            0.3333333333333333,
                            "#9c179e"
                          ],
                          [
                            0.4444444444444444,
                            "#bd3786"
                          ],
                          [
                            0.5555555555555556,
                            "#d8576b"
                          ],
                          [
                            0.6666666666666666,
                            "#ed7953"
                          ],
                          [
                            0.7777777777777778,
                            "#fb9f3a"
                          ],
                          [
                            0.8888888888888888,
                            "#fdca26"
                          ],
                          [
                            1,
                            "#f0f921"
                          ]
                        ],
                        "type": "heatmap"
                      }
                    ],
                    "heatmapgl": [
                      {
                        "colorbar": {
                          "outlinewidth": 0,
                          "ticks": ""
                        },
                        "colorscale": [
                          [
                            0,
                            "#0d0887"
                          ],
                          [
                            0.1111111111111111,
                            "#46039f"
                          ],
                          [
                            0.2222222222222222,
                            "#7201a8"
                          ],
                          [
                            0.3333333333333333,
                            "#9c179e"
                          ],
                          [
                            0.4444444444444444,
                            "#bd3786"
                          ],
                          [
                            0.5555555555555556,
                            "#d8576b"
                          ],
                          [
                            0.6666666666666666,
                            "#ed7953"
                          ],
                          [
                            0.7777777777777778,
                            "#fb9f3a"
                          ],
                          [
                            0.8888888888888888,
                            "#fdca26"
                          ],
                          [
                            1,
                            "#f0f921"
                          ]
                        ],
                        "type": "heatmapgl"
                      }
                    ],
                    "histogram": [
                      {
                        "marker": {
                          "pattern": {
                            "fillmode": "overlay",
                            "size": 10,
                            "solidity": 0.2
                          }
                        },
                        "type": "histogram"
                      }
                    ],
                    "histogram2d": [
                      {
                        "colorbar": {
                          "outlinewidth": 0,
                          "ticks": ""
                        },
                        "colorscale": [
                          [
                            0,
                            "#0d0887"
                          ],
                          [
                            0.1111111111111111,
                            "#46039f"
                          ],
                          [
                            0.2222222222222222,
                            "#7201a8"
                          ],
                          [
                            0.3333333333333333,
                            "#9c179e"
                          ],
                          [
                            0.4444444444444444,
                            "#bd3786"
                          ],
                          [
                            0.5555555555555556,
                            "#d8576b"
                          ],
                          [
                            0.6666666666666666,
                            "#ed7953"
                          ],
                          [
                            0.7777777777777778,
                            "#fb9f3a"
                          ],
                          [
                            0.8888888888888888,
                            "#fdca26"
                          ],
                          [
                            1,
                            "#f0f921"
                          ]
                        ],
                        "type": "histogram2d"
                      }
                    ],
                    "histogram2dcontour": [
                      {
                        "colorbar": {
                          "outlinewidth": 0,
                          "ticks": ""
                        },
                        "colorscale": [
                          [
                            0,
                            "#0d0887"
                          ],
                          [
                            0.1111111111111111,
                            "#46039f"
                          ],
                          [
                            0.2222222222222222,
                            "#7201a8"
                          ],
                          [
                            0.3333333333333333,
                            "#9c179e"
                          ],
                          [
                            0.4444444444444444,
                            "#bd3786"
                          ],
                          [
                            0.5555555555555556,
                            "#d8576b"
                          ],
                          [
                            0.6666666666666666,
                            "#ed7953"
                          ],
                          [
                            0.7777777777777778,
                            "#fb9f3a"
                          ],
                          [
                            0.8888888888888888,
                            "#fdca26"
                          ],
                          [
                            1,
                            "#f0f921"
                          ]
                        ],
                        "type": "histogram2dcontour"
                      }
                    ],
                    "mesh3d": [
                      {
                        "colorbar": {
                          "outlinewidth": 0,
                          "ticks": ""
                        },
                        "type": "mesh3d"
                      }
                    ],
                    "parcoords": [
                      {
                        "line": {
                          "colorbar": {
                            "outlinewidth": 0,
                            "ticks": ""
                          }
                        },
                        "type": "parcoords"
                      }
                    ],
                    "pie": [
                      {
                        "automargin": true,
                        "type": "pie"
                      }
                    ],
                    "scatter": [
                      {
                        "fillpattern": {
                          "fillmode": "overlay",
                          "size": 10,
                          "solidity": 0.2
                        },
                        "type": "scatter"
                      }
                    ],
                    "scatter3d": [
                      {
                        "line": {
                          "colorbar": {
                            "outlinewidth": 0,
                            "ticks": ""
                          }
                        },
                        "marker": {
                          "colorbar": {
                            "outlinewidth": 0,
                            "ticks": ""
                          }
                        },
                        "type": "scatter3d"
                      }
                    ],
                    "scattercarpet": [
                      {
                        "marker": {
                          "colorbar": {
                            "outlinewidth": 0,
                            "ticks": ""
                          }
                        },
                        "type": "scattercarpet"
                      }
                    ],
                    "scattergeo": [
                      {
                        "marker": {
                          "colorbar": {
                            "outlinewidth": 0,
                            "ticks": ""
                          }
                        },
                        "type": "scattergeo"
                      }
                    ],
                    "scattergl": [
                      {
                        "marker": {
                          "colorbar": {
                            "outlinewidth": 0,
                            "ticks": ""
                          }
                        },
                        "type": "scattergl"
                      }
                    ],
                    "scattermapbox": [
                      {
                        "marker": {
                          "colorbar": {
                            "outlinewidth": 0,
                            "ticks": ""
                          }
                        },
                        "type": "scattermapbox"
                      }
                    ],
                    "scatterpolar": [
                      {
                        "marker": {
                          "colorbar": {
                            "outlinewidth": 0,
                            "ticks": ""
                          }
                        },
                        "type": "scatterpolar"
                      }
                    ],
                    "scatterpolargl": [
                      {
                        "marker": {
                          "colorbar": {
                            "outlinewidth": 0,
                            "ticks": ""
                          }
                        },
                        "type": "scatterpolargl"
                      }
                    ],
                    "scatterternary": [
                      {
                        "marker": {
                          "colorbar": {
                            "outlinewidth": 0,
                            "ticks": ""
                          }
                        },
                        "type": "scatterternary"
                      }
                    ],
                    "surface": [
                      {
                        "colorbar": {
                          "outlinewidth": 0,
                          "ticks": ""
                        },
                        "colorscale": [
                          [
                            0,
                            "#0d0887"
                          ],
                          [
                            0.1111111111111111,
                            "#46039f"
                          ],
                          [
                            0.2222222222222222,
                            "#7201a8"
                          ],
                          [
                            0.3333333333333333,
                            "#9c179e"
                          ],
                          [
                            0.4444444444444444,
                            "#bd3786"
                          ],
                          [
                            0.5555555555555556,
                            "#d8576b"
                          ],
                          [
                            0.6666666666666666,
                            "#ed7953"
                          ],
                          [
                            0.7777777777777778,
                            "#fb9f3a"
                          ],
                          [
                            0.8888888888888888,
                            "#fdca26"
                          ],
                          [
                            1,
                            "#f0f921"
                          ]
                        ],
                        "type": "surface"
                      }
                    ],
                    "table": [
                      {
                        "cells": {
                          "fill": {
                            "color": "#EBF0F8"
                          },
                          "line": {
                            "color": "white"
                          }
                        },
                        "header": {
                          "fill": {
                            "color": "#C8D4E3"
                          },
                          "line": {
                            "color": "white"
                          }
                        },
                        "type": "table"
                      }
                    ]
                  },
                  "layout": {
                    "annotationdefaults": {
                      "arrowcolor": "#2a3f5f",
                      "arrowhead": 0,
                      "arrowwidth": 1
                    },
                    "autotypenumbers": "strict",
                    "coloraxis": {
                      "colorbar": {
                        "outlinewidth": 0,
                        "ticks": ""
                      }
                    },
                    "colorscale": {
                      "diverging": [
                        [
                          0,
                          "#8e0152"
                        ],
                        [
                          0.1,
                          "#c51b7d"
                        ],
                        [
                          0.2,
                          "#de77ae"
                        ],
                        [
                          0.3,
                          "#f1b6da"
                        ],
                        [
                          0.4,
                          "#fde0ef"
                        ],
                        [
                          0.5,
                          "#f7f7f7"
                        ],
                        [
                          0.6,
                          "#e6f5d0"
                        ],
                        [
                          0.7,
                          "#b8e186"
                        ],
                        [
                          0.8,
                          "#7fbc41"
                        ],
                        [
                          0.9,
                          "#4d9221"
                        ],
                        [
                          1,
                          "#276419"
                        ]
                      ],
                      "sequential": [
                        [
                          0,
                          "#0d0887"
                        ],
                        [
                          0.1111111111111111,
                          "#46039f"
                        ],
                        [
                          0.2222222222222222,
                          "#7201a8"
                        ],
                        [
                          0.3333333333333333,
                          "#9c179e"
                        ],
                        [
                          0.4444444444444444,
                          "#bd3786"
                        ],
                        [
                          0.5555555555555556,
                          "#d8576b"
                        ],
                        [
                          0.6666666666666666,
                          "#ed7953"
                        ],
                        [
                          0.7777777777777778,
                          "#fb9f3a"
                        ],
                        [
                          0.8888888888888888,
                          "#fdca26"
                        ],
                        [
                          1,
                          "#f0f921"
                        ]
                      ],
                      "sequentialminus": [
                        [
                          0,
                          "#0d0887"
                        ],
                        [
                          0.1111111111111111,
                          "#46039f"
                        ],
                        [
                          0.2222222222222222,
                          "#7201a8"
                        ],
                        [
                          0.3333333333333333,
                          "#9c179e"
                        ],
                        [
                          0.4444444444444444,
                          "#bd3786"
                        ],
                        [
                          0.5555555555555556,
                          "#d8576b"
                        ],
                        [
                          0.6666666666666666,
                          "#ed7953"
                        ],
                        [
                          0.7777777777777778,
                          "#fb9f3a"
                        ],
                        [
                          0.8888888888888888,
                          "#fdca26"
                        ],
                        [
                          1,
                          "#f0f921"
                        ]
                      ]
                    },
                    "colorway": [
                      "#636efa",
                      "#EF553B",
                      "#00cc96",
                      "#ab63fa",
                      "#FFA15A",
                      "#19d3f3",
                      "#FF6692",
                      "#B6E880",
                      "#FF97FF",
                      "#FECB52"
                    ],
                    "font": {
                      "color": "#2a3f5f"
                    },
                    "geo": {
                      "bgcolor": "white",
                      "lakecolor": "white",
                      "landcolor": "#E5ECF6",
                      "showlakes": true,
                      "showland": true,
                      "subunitcolor": "white"
                    },
                    "hoverlabel": {
                      "align": "left"
                    },
                    "hovermode": "closest",
                    "mapbox": {
                      "style": "light"
                    },
                    "paper_bgcolor": "white",
                    "plot_bgcolor": "#E5ECF6",
                    "polar": {
                      "angularaxis": {
                        "gridcolor": "white",
                        "linecolor": "white",
                        "ticks": ""
                      },
                      "bgcolor": "#E5ECF6",
                      "radialaxis": {
                        "gridcolor": "white",
                        "linecolor": "white",
                        "ticks": ""
                      }
                    },
                    "scene": {
                      "xaxis": {
                        "backgroundcolor": "#E5ECF6",
                        "gridcolor": "white",
                        "gridwidth": 2,
                        "linecolor": "white",
                        "showbackground": true,
                        "ticks": "",
                        "zerolinecolor": "white"
                      },
                      "yaxis": {
                        "backgroundcolor": "#E5ECF6",
                        "gridcolor": "white",
                        "gridwidth": 2,
                        "linecolor": "white",
                        "showbackground": true,
                        "ticks": "",
                        "zerolinecolor": "white"
                      },
                      "zaxis": {
                        "backgroundcolor": "#E5ECF6",
                        "gridcolor": "white",
                        "gridwidth": 2,
                        "linecolor": "white",
                        "showbackground": true,
                        "ticks": "",
                        "zerolinecolor": "white"
                      }
                    },
                    "shapedefaults": {
                      "line": {
                        "color": "#2a3f5f"
                      }
                    },
                    "ternary": {
                      "aaxis": {
                        "gridcolor": "white",
                        "linecolor": "white",
                        "ticks": ""
                      },
                      "baxis": {
                        "gridcolor": "white",
                        "linecolor": "white",
                        "ticks": ""
                      },
                      "bgcolor": "#E5ECF6",
                      "caxis": {
                        "gridcolor": "white",
                        "linecolor": "white",
                        "ticks": ""
                      }
                    },
                    "title": {
                      "x": 0.05
                    },
                    "xaxis": {
                      "automargin": true,
                      "gridcolor": "white",
                      "linecolor": "white",
                      "ticks": "",
                      "title": {
                        "standoff": 15
                      },
                      "zerolinecolor": "white",
                      "zerolinewidth": 2
                    },
                    "yaxis": {
                      "automargin": true,
                      "gridcolor": "white",
                      "linecolor": "white",
                      "ticks": "",
                      "title": {
                        "standoff": 15
                      },
                      "zerolinecolor": "white",
                      "zerolinewidth": 2
                    }
                  }
                }
              }
            }
          },
          "metadata": {},
          "output_type": "display_data"
        }
      ],
      "source": [
        "\n",
        "#| label: fig-parallel\n",
        "spot_tuner.parallel_plot()"
      ]
    },
    {
      "attachments": {},
      "cell_type": "markdown",
      "metadata": {},
      "source": [
        "# Summary and Outlook {#sec-summary}\n",
        "\n",
        "This tutorial presents the hyperparameter tuning open source software `spotPython` for `PyTorch`. To show its basic features, a comparison with the \"official\" `PyTorch` hyperparameter tuning tutorial [@pyto23a] is presented.\n",
        "Some of the advantages of `spotPython` are:\n",
        "\n",
        "- Numerical and categorical hyperparameters.\n",
        "- Powerful surrogate models.\n",
        "- Flexible approach and easy to use.\n",
        "- Simple JSON files for the specification of the hyperparameters.\n",
        "- Extension of default and user specified network classes.\n",
        "- Noise handling techniques.\n",
        "\n",
        "Currently, only rudimentary parallel and distributed neural network training is possible, but these capabilities will be extended in the future. The next version of `spotPython` will also include a more detailed documentation and more examples.\n",
        "\n",
        "::: {.callout-important}\n",
        "Important: This tutorial does not present a complete benchmarking study [@bart20gArxiv]. The results are only preliminary and highly dependent on the local configuration (hard- and software). Our goal is to provide a first impression of the performance of the hyperparameter tuning package `spotPython`. To demonstrate its capabilities, a quick comparison with `ray[tune]` was performed. `ray[tune]` was chosen, because it is presented as \"an industry standard tool for distributed hyperparameter tuning.\"  The results should be interpreted with care.\n",
        ":::\n",
        "\n",
        "\n",
        "# Appendix {#sec-appendix}\n",
        "\n",
        "## Sample Output From Ray Tune's Run {.unnumbered}\n",
        "\n",
        "The output from `ray[tune]` could look like this [@pyto23b]:\n",
        "\n",
        "```{raw}\n",
        "Number of trials: 10 (10 TERMINATED)\n",
        "------+------+-------------+--------------+---------+------------+--------------------+\n",
        "|   l1 |   l2 |          lr |   batch_size |    loss |   accuracy | training_iteration |\n",
        "+------+------+-------------+--------------+---------+------------+--------------------|\n",
        "|   64 |    4 | 0.00011629  |            2 | 1.87273 |     0.244  |                  2 |\n",
        "|   32 |   64 | 0.000339763 |            8 | 1.23603 |     0.567  |                  8 |\n",
        "|    8 |   16 | 0.00276249  |           16 | 1.1815  |     0.5836 |                 10 |\n",
        "|    4 |   64 | 0.000648721 |            4 | 1.31131 |     0.5224 |                  8 |\n",
        "|   32 |   16 | 0.000340753 |            8 | 1.26454 |     0.5444 |                  8 |\n",
        "|    8 |    4 | 0.000699775 |            8 | 1.99594 |     0.1983 |                  2 |\n",
        "|  256 |    8 | 0.0839654   |           16 | 2.3119  |     0.0993 |                  1 |\n",
        "|   16 |  128 | 0.0758154   |           16 | 2.33575 |     0.1327 |                  1 |\n",
        "|   16 |    8 | 0.0763312   |           16 | 2.31129 |     0.1042 |                  4 |\n",
        "|  128 |   16 | 0.000124903 |            4 | 2.26917 |     0.1945 |                  1 |\n",
        "+-----+------+------+-------------+--------------+---------+------------+--------------------+\n",
        "Best trial config: {'l1': 8, 'l2': 16, 'lr': 0.00276249, 'batch_size': 16, 'data_dir': '...'}\n",
        "Best trial final validation loss: 1.181501\n",
        "Best trial final validation accuracy: 0.5836\n",
        "Best trial test set accuracy: 0.5806\n",
        "```\n",
        "\n",
        "\n",
        "\n",
        "{{< pagebreak >}}\n",
        "\n",
        "# References {.unnumbered}\n",
        "\n",
        "::: {#refs}\n",
        ":::"
      ]
    }
  ],
  "metadata": {
    "kernelspec": {
      "display_name": "Python 3 (ipykernel)",
      "language": "python",
      "name": "python3"
    }
  },
  "nbformat": 4,
  "nbformat_minor": 4
}
