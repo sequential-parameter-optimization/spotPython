{
 "cells": [
  {
   "cell_type": "raw",
   "metadata": {},
   "source": [
    "---\n",
    "title: \"pytorch Hyperparameter Tuning with SPOT: cifar10\"\n",
    "format: html\n",
    "---"
   ]
  },
  {
   "cell_type": "code",
   "execution_count": 1,
   "metadata": {},
   "outputs": [],
   "source": [
    "MAX_TIME = 60\n",
    "INIT_SIZE = 20\n",
    "CLASSIFICATION = True\n",
    "REGRESSION = False\n",
    "MOONS = False\n",
    "MAKE_CLF = False"
   ]
  },
  {
   "cell_type": "code",
   "execution_count": 2,
   "metadata": {},
   "outputs": [
    {
     "data": {
      "text/plain": [
       "'12-torch_maans04_60min_20init_2023-05-07_12-08-13'"
      ]
     },
     "execution_count": 2,
     "metadata": {},
     "output_type": "execute_result"
    }
   ],
   "source": [
    "import pickle\n",
    "import socket\n",
    "from datetime import datetime\n",
    "from dateutil.tz import tzlocal\n",
    "start_time = datetime.now(tzlocal())\n",
    "HOSTNAME = socket.gethostname().split(\".\")[0]\n",
    "experiment_name = '12-torch' + \"_\" + HOSTNAME + \"_\" + str(MAX_TIME) + \"min_\" + str(INIT_SIZE) + \"init_\" + str(start_time).split(\".\", 1)[0].replace(' ', '_')\n",
    "experiment_name = experiment_name.replace(':', '-')\n",
    "experiment_name"
   ]
  },
  {
   "attachments": {},
   "cell_type": "markdown",
   "metadata": {},
   "source": [
    "# Chapter 12: Sequential Parameter Optimization\n",
    "## Hyperparameter Tuning: pytorch wth cifar10 Data"
   ]
  },
  {
   "attachments": {},
   "cell_type": "markdown",
   "metadata": {},
   "source": [
    "* This notebook exemplifies hyperparameter tuning with SPOT (spotPython).\n",
    "* The hyperparameter software SPOT was developed in R (statistical programming language), see Open Access book \"Hyperparameter Tuning for Machine and Deep Learning with R - A Practical Guide\", available here: [https://link.springer.com/book/10.1007/978-981-19-5170-1](https://link.springer.com/book/10.1007/978-981-19-5170-1).\n"
   ]
  },
  {
   "cell_type": "code",
   "execution_count": 3,
   "metadata": {},
   "outputs": [
    {
     "name": "stdout",
     "output_type": "stream",
     "text": [
      "spotPython               0.0.56\n",
      "spotRiver                0.0.86\n",
      "Note: you may need to restart the kernel to use updated packages.\n"
     ]
    }
   ],
   "source": [
    "pip list | grep  \"spot[RiverPython]\""
   ]
  },
  {
   "cell_type": "code",
   "execution_count": 4,
   "metadata": {},
   "outputs": [],
   "source": [
    "# import sys\n",
    "# !{sys.executable} -m pip install --upgrade build\n",
    "# !{sys.executable} -m pip install --upgrade --force-reinstall spotPython\n"
   ]
  },
  {
   "cell_type": "code",
   "execution_count": 5,
   "metadata": {},
   "outputs": [],
   "source": [
    "from tabulate import tabulate\n",
    "import copy\n",
    "import warnings\n",
    "import numbers\n",
    "import json\n",
    "import calendar\n",
    "import math\n",
    "import datetime as dt\n",
    "import numpy as np\n",
    "from math import inf\n",
    "import pandas as pd\n",
    "\n",
    "from scipy.optimize import differential_evolution\n",
    "\n",
    "import matplotlib.pyplot as plt\n",
    "\n",
    "from functools import partial\n",
    "\n",
    "import torch\n",
    "from torch import nn\n",
    "from torch.utils.data import DataLoader\n",
    "import torch.nn.functional as F\n",
    "import torch.optim as optim\n",
    "from torch.utils.data import random_split\n",
    "from torchvision import datasets\n",
    "import torchvision\n",
    "import torchvision.transforms as transforms\n",
    "from torchvision.transforms import ToTensor\n",
    "\n",
    "from spotPython.spot import spot\n",
    "from spotPython.hyperparameters.values import (\n",
    "    add_core_model_to_fun_control,\n",
    "    assign_values,\n",
    "    convert_keys,\n",
    "    get_bound_values,\n",
    "    get_default_hyperparameters_for_core_model,\n",
    "    get_default_values,\n",
    "    get_dict_with_levels_and_types,\n",
    "    get_values_from_dict,\n",
    "    get_var_name,\n",
    "    get_var_type,\n",
    "    iterate_dict_values,\n",
    "    modify_hyper_parameter_levels,\n",
    "    modify_hyper_parameter_bounds,\n",
    "    replace_levels_with_positions,\n",
    "    return_conf_list_from_var_dict,\n",
    "    get_one_core_model_from_X,\n",
    "    transform_hyper_parameter_values,\n",
    "    get_dict_with_levels_and_types,\n",
    "    convert_keys,\n",
    "    iterate_dict_values,\n",
    ")\n",
    "\n",
    "from spotPython.utils.convert import class_for_name\n",
    "from spotPython.utils.eda import (\n",
    "    get_stars,\n",
    "    gen_design_table)\n",
    "from spotPython.utils.transform import transform_hyper_parameter_values\n",
    "\n",
    "from spotPython.utils.convert import get_Xy_from_df\n",
    "from spotPython.utils.init import fun_control_init\n",
    "from spotPython.plot.validation import plot_cv_predictions, plot_roc, plot_confusion_matrix\n",
    "\n",
    "from spotPython.data.torch_hyper_dict import TorchHyperDict\n",
    "from spotPython.fun.hypertorch import HyperTorch\n",
    "\n",
    "warnings.filterwarnings(\"ignore\")\n",
    "\n",
    "from spotPython.torch.netcifar10 import Net_CIFAR10"
   ]
  },
  {
   "cell_type": "code",
   "execution_count": 6,
   "metadata": {},
   "outputs": [
    {
     "name": "stdout",
     "output_type": "stream",
     "text": [
      "2.0.0+cu117\n",
      "MPS not available because the current PyTorch install was not built with MPS enabled.\n"
     ]
    }
   ],
   "source": [
    "print(torch.__version__)\n",
    "# Check that MPS is available\n",
    "if not torch.backends.mps.is_available():\n",
    "    if not torch.backends.mps.is_built():\n",
    "        print(\"MPS not available because the current PyTorch install was not \"\n",
    "              \"built with MPS enabled.\")\n",
    "    else:\n",
    "        print(\"MPS not available because the current MacOS version is not 12.3+ \"\n",
    "              \"and/or you do not have an MPS-enabled device on this machine.\")\n",
    "\n",
    "else:\n",
    "    mps_device = torch.device(\"mps\")\n",
    "    print(\"MPS device: \", mps_device)"
   ]
  },
  {
   "attachments": {},
   "cell_type": "markdown",
   "metadata": {},
   "source": [
    "## 0. Initialization of the Empty `fun_control` Dictionary"
   ]
  },
  {
   "cell_type": "code",
   "execution_count": 7,
   "metadata": {},
   "outputs": [],
   "source": [
    "fun_control = fun_control_init()"
   ]
  },
  {
   "attachments": {},
   "cell_type": "markdown",
   "metadata": {},
   "source": [
    "## 1. Load Data: Random Data"
   ]
  },
  {
   "attachments": {},
   "cell_type": "markdown",
   "metadata": {},
   "source": [
    "## Regression"
   ]
  },
  {
   "cell_type": "code",
   "execution_count": 8,
   "metadata": {},
   "outputs": [],
   "source": [
    "if REGRESSION:\n",
    "    n_samples = 250\n",
    "    target_column = \"y\"\n",
    "    n_train = 0.6 * n_samples\n",
    "    n_features = 50\n",
    "    # Create a random dataset\n",
    "    X, y = make_regression(n_samples=n_samples, n_features=n_features, noise=1, random_state=42)\n",
    "    # take X and y and make a pandas dataframe with column names X1, X2, y\n",
    "    df = pd.DataFrame(np.hstack((X, y.reshape(-1, 1))))\n",
    "    df.columns = [f\"x{i}\" for i in range(1, n_features+1)] + [target_column]\n",
    "    # split into train and test\n",
    "    train = df.iloc[:int(n_train), :]\n",
    "    test = df.iloc[int(n_train):, :]"
   ]
  },
  {
   "attachments": {},
   "cell_type": "markdown",
   "metadata": {},
   "source": [
    "## Classification"
   ]
  },
  {
   "cell_type": "code",
   "execution_count": 9,
   "metadata": {},
   "outputs": [],
   "source": [
    "if MOONS:\n",
    "    n_features = 2\n",
    "    n_samples = 250\n",
    "    ds =  make_moons(n_samples, noise=0.5, random_state=0)\n",
    "    X, y = ds\n",
    "    X_train, X_test, y_train, y_test = train_test_split(\n",
    "        X, y, test_size=0.4, random_state=42\n",
    "    )\n",
    "    train = pd.DataFrame(np.hstack((X_train, y_train.reshape(-1, 1))))\n",
    "    test = pd.DataFrame(np.hstack((X_test, y_test.reshape(-1, 1))))\n",
    "    train.columns = [f\"x{i}\" for i in range(1, n_features+1)] + [target_column]\n",
    "    test.columns = [f\"x{i}\" for i in range(1, n_features+1)] + [target_column]\n",
    "    train.head()"
   ]
  },
  {
   "cell_type": "code",
   "execution_count": 10,
   "metadata": {},
   "outputs": [],
   "source": [
    "if MAKE_CLF:\n",
    "    X, y = make_classification(\n",
    "        n_samples=n_samples,\n",
    "        n_features=n_features,\n",
    "        n_informative=40,\n",
    "        n_redundant=2,\n",
    "        n_repeated=1,\n",
    "        n_classes=2,\n",
    "        flip_y=0.25,\n",
    "        random_state=0,\n",
    "        class_sep=0.025,\n",
    "        shuffle=False,\n",
    "    )\n",
    "    X_train, X_test, y_train, y_test = train_test_split(X, y, stratify=y, random_state=42)\n",
    "\n",
    "    train = pd.DataFrame(np.hstack((X_train, y_train.reshape(-1, 1))))\n",
    "    test = pd.DataFrame(np.hstack((X_test, y_test.reshape(-1, 1))))\n",
    "    train.columns = [f\"x{i}\" for i in range(1, n_features+1)] + [target_column]\n",
    "    test.columns = [f\"x{i}\" for i in range(1, n_features+1)] + [target_column]\n",
    "    train.head()\n"
   ]
  },
  {
   "attachments": {},
   "cell_type": "markdown",
   "metadata": {},
   "source": [
    "## Load CIFAR Data "
   ]
  },
  {
   "cell_type": "code",
   "execution_count": 11,
   "metadata": {},
   "outputs": [],
   "source": [
    "def load_data(data_dir=\"./data\"):\n",
    "    transform = transforms.Compose([\n",
    "        transforms.ToTensor(),\n",
    "        transforms.Normalize((0.5, 0.5, 0.5), (0.5, 0.5, 0.5))\n",
    "    ])\n",
    "\n",
    "    trainset = torchvision.datasets.CIFAR10(\n",
    "        root=data_dir, train=True, download=True, transform=transform)\n",
    "\n",
    "    testset = torchvision.datasets.CIFAR10(\n",
    "        root=data_dir, train=False, download=True, transform=transform)\n",
    "\n",
    "    return trainset, testset"
   ]
  },
  {
   "cell_type": "code",
   "execution_count": 12,
   "metadata": {},
   "outputs": [
    {
     "name": "stdout",
     "output_type": "stream",
     "text": [
      "Files already downloaded and verified\n",
      "Files already downloaded and verified\n"
     ]
    },
    {
     "data": {
      "text/plain": [
       "((50000, 32, 32, 3), (10000, 32, 32, 3))"
      ]
     },
     "execution_count": 12,
     "metadata": {},
     "output_type": "execute_result"
    }
   ],
   "source": [
    "train, test = load_data()\n",
    "train.data.shape, test.data.shape"
   ]
  },
  {
   "cell_type": "code",
   "execution_count": 13,
   "metadata": {},
   "outputs": [],
   "source": [
    "n_samples = len(train)\n",
    "# add the dataset to the fun_control\n",
    "fun_control.update({\"data\": None, # dataset,\n",
    "               \"train\": train,\n",
    "               \"test\": test,\n",
    "               \"n_samples\": n_samples,\n",
    "               \"target_column\": None})"
   ]
  },
  {
   "attachments": {},
   "cell_type": "markdown",
   "metadata": {},
   "source": [
    "## 2. Specification of the Preprocessing Model"
   ]
  },
  {
   "cell_type": "code",
   "execution_count": 14,
   "metadata": {},
   "outputs": [],
   "source": [
    "# categorical_columns = []\n",
    "# one_hot_encoder = OneHotEncoder(handle_unknown=\"ignore\", sparse_output=False)\n",
    "# prep_model = ColumnTransformer(\n",
    "#         transformers=[\n",
    "#             (\"categorical\", one_hot_encoder, categorical_columns),\n",
    "#         ],\n",
    "#         remainder=StandardScaler(),\n",
    "#     )\n",
    "prep_model = None\n",
    "fun_control.update({\"prep_model\": prep_model})"
   ]
  },
  {
   "attachments": {},
   "cell_type": "markdown",
   "metadata": {},
   "source": [
    "## 3. Select `algorithm` and `core_model_hyper_dict`"
   ]
  },
  {
   "cell_type": "code",
   "execution_count": 15,
   "metadata": {},
   "outputs": [],
   "source": [
    "# core_model  = RidgeCV\n",
    "core_model = Net_CIFAR10\n",
    "fun_control = add_core_model_to_fun_control(core_model=core_model,\n",
    "                              fun_control=fun_control,\n",
    "                              hyper_dict=TorchHyperDict,\n",
    "                              filename=None)"
   ]
  },
  {
   "attachments": {},
   "cell_type": "markdown",
   "metadata": {},
   "source": [
    "## 4. Modify `hyper_dict` Hyperparameters for the Selected Algorithm aka `core_model`"
   ]
  },
  {
   "attachments": {},
   "cell_type": "markdown",
   "metadata": {},
   "source": [
    "### Modify hyperparameter of type factor"
   ]
  },
  {
   "cell_type": "code",
   "execution_count": 16,
   "metadata": {},
   "outputs": [],
   "source": [
    "# fun_control = modify_hyper_parameter_levels(fun_control, \"leaf_model\", [\"LinearRegression\"])\n",
    "# fun_control[\"core_model_hyper_dict\"]"
   ]
  },
  {
   "attachments": {},
   "cell_type": "markdown",
   "metadata": {},
   "source": [
    "### Modify hyperparameter of type numeric and integer (boolean)"
   ]
  },
  {
   "cell_type": "code",
   "execution_count": 17,
   "metadata": {},
   "outputs": [],
   "source": [
    "# fun_control = modify_hyper_parameter_bounds(fun_control, \"delta\", bounds=[1e-10, 1e-6])\n",
    "# fun_control = modify_hyper_parameter_bounds(fun_control, \"min_samples_split\", bounds=[3, 20])\n",
    "#fun_control = modify_hyper_parameter_bounds(fun_control, \"merit_preprune\", bounds=[0, 0])\n",
    "# fun_control[\"core_model_hyper_dict\"]\n",
    "fun_control = modify_hyper_parameter_bounds(fun_control, \"k_folds\", bounds=[0, 0])"
   ]
  },
  {
   "attachments": {},
   "cell_type": "markdown",
   "metadata": {},
   "source": [
    "## 5. Selection of the Objective (Loss) Function"
   ]
  },
  {
   "attachments": {},
   "cell_type": "markdown",
   "metadata": {},
   "source": [
    "There are two metrics:\n",
    "\n",
    "    1. `metric` is used for the river based evaluation via `eval_oml_iter_progressive`.\n",
    "    2. `metric_sklearn` is used for the sklearn based evaluation."
   ]
  },
  {
   "attachments": {},
   "cell_type": "markdown",
   "metadata": {},
   "source": [
    "**Important**:\n",
    "\n",
    "* `spotPython` performs minimization by default.\n",
    "* If accuracy should be maximized, then the objective function has to be multiplied by -1. Therefore, `weights` is set to -1 in this case."
   ]
  },
  {
   "cell_type": "code",
   "execution_count": 18,
   "metadata": {},
   "outputs": [],
   "source": [
    "fun = HyperTorch(seed=123, log_level=50).fun_torch\n",
    "weights = 1.0\n",
    "shuffle = True\n",
    "eval = \"train_hold_out\"\n",
    "\n",
    "fun_control.update({\n",
    "               \"data_dir\": None,\n",
    "               \"checkpoint_dir\": None,\n",
    "               \"horizon\": None,\n",
    "               \"oml_grace_period\": None,\n",
    "               \"weights\": weights,\n",
    "               \"step\": None,\n",
    "               \"log_level\": 50,\n",
    "               \"weight_coeff\": None,\n",
    "               \"metric\": None,\n",
    "               \"metric_sklearn\": None,\n",
    "               \"shuffle\": shuffle,\n",
    "               \"eval\": eval\n",
    "               })"
   ]
  },
  {
   "attachments": {},
   "cell_type": "markdown",
   "metadata": {},
   "source": [
    "## 6. Calling the SPOT Function"
   ]
  },
  {
   "attachments": {},
   "cell_type": "markdown",
   "metadata": {},
   "source": [
    "### Prepare the SPOT Parameters"
   ]
  },
  {
   "attachments": {},
   "cell_type": "markdown",
   "metadata": {},
   "source": [
    "* Get types and variable names as well as lower and upper bounds for the hyperparameters."
   ]
  },
  {
   "cell_type": "code",
   "execution_count": 19,
   "metadata": {},
   "outputs": [],
   "source": [
    "var_type = get_var_type(fun_control)\n",
    "var_name = get_var_name(fun_control)\n",
    "fun_control.update({\"var_type\": var_type,\n",
    "                    \"var_name\": var_name})\n",
    "\n",
    "lower = get_bound_values(fun_control, \"lower\")\n",
    "upper = get_bound_values(fun_control, \"upper\")"
   ]
  },
  {
   "cell_type": "code",
   "execution_count": 20,
   "metadata": {},
   "outputs": [
    {
     "name": "stdout",
     "output_type": "stream",
     "text": [
      "| name       | type   |   default |   lower |   upper | transform             |\n",
      "|------------|--------|-----------|---------|---------|-----------------------|\n",
      "| l1         | int    |     5     |   2     |    9    | transform_power_2_int |\n",
      "| l2         | int    |     5     |   2     |    9    | transform_power_2_int |\n",
      "| lr         | float  |     0.001 |   1e-05 |    0.01 | None                  |\n",
      "| batch_size | int    |     4     |   1     |    4    | transform_power_2_int |\n",
      "| epochs     | int    |     3     |   1     |    4    | transform_power_2_int |\n",
      "| k_folds    | int    |     2     |   0     |    0    | None                  |\n"
     ]
    }
   ],
   "source": [
    "print(gen_design_table(fun_control))"
   ]
  },
  {
   "attachments": {},
   "cell_type": "markdown",
   "metadata": {},
   "source": [
    "### Run the `Spot` Optimizer\n",
    "\n",
    "* Run SPOT for approx. x mins (`max_time`).\n",
    "* Note: the run takes longer, because the evaluation time of initial design (here: `initi_size`, 20 points) is not considered."
   ]
  },
  {
   "cell_type": "code",
   "execution_count": 21,
   "metadata": {},
   "outputs": [
    {
     "data": {
      "text/plain": [
       "array([[5.e+00, 5.e+00, 1.e-03, 4.e+00, 3.e+00, 2.e+00]])"
      ]
     },
     "execution_count": 21,
     "metadata": {},
     "output_type": "execute_result"
    }
   ],
   "source": [
    "from spotPython.hyperparameters.values import get_default_hyperparameters_as_array\n",
    "hyper_dict=TorchHyperDict().load()\n",
    "X_start = get_default_hyperparameters_as_array(fun_control, hyper_dict)\n",
    "X_start"
   ]
  },
  {
   "cell_type": "code",
   "execution_count": 22,
   "metadata": {},
   "outputs": [
    {
     "name": "stdout",
     "output_type": "stream",
     "text": [
      "[1,  2000] loss: 2.311\n",
      "[1,  4000] loss: 1.154\n",
      "[1,  6000] loss: 0.768\n",
      "[2,  2000] loss: 2.306\n",
      "[2,  4000] loss: 1.153\n",
      "[2,  6000] loss: 0.769\n",
      "[3,  2000] loss: 2.306\n",
      "[3,  4000] loss: 1.153\n",
      "[3,  6000] loss: 0.769\n",
      "[4,  2000] loss: 2.306\n",
      "[4,  4000] loss: 1.152\n",
      "[4,  6000] loss: 0.769\n",
      "[5,  2000] loss: 2.306\n",
      "[5,  4000] loss: 1.152\n",
      "[5,  6000] loss: 0.769\n",
      "[6,  2000] loss: 2.305\n",
      "[6,  4000] loss: 1.153\n",
      "[6,  6000] loss: 0.768\n",
      "[7,  2000] loss: 2.305\n",
      "[7,  4000] loss: 1.153\n",
      "[7,  6000] loss: 0.769\n",
      "[8,  2000] loss: 2.306\n",
      "[8,  4000] loss: 1.153\n",
      "[8,  6000] loss: 0.769\n",
      "Accuracy on hold-out set: 0.10015\n",
      "Loss on hold-out set: 2.305510416460037\n",
      "Accuracy on hold-out set: 0.5445\n",
      "Loss on hold-out set: 1.33297412981987\n",
      "[1,  2000] loss: 2.127\n",
      "[1,  4000] loss: 0.998\n",
      "[1,  6000] loss: 0.640\n",
      "[2,  2000] loss: 1.882\n",
      "[2,  4000] loss: 0.950\n",
      "[2,  6000] loss: 0.630\n",
      "Accuracy on hold-out set: 0.28925\n",
      "Loss on hold-out set: 1.8507284079670907\n",
      "[1,  2000] loss: 1.955\n",
      "[1,  4000] loss: 0.897\n",
      "[1,  6000] loss: 0.580\n",
      "[2,  2000] loss: 1.650\n",
      "[2,  4000] loss: 0.831\n",
      "[2,  6000] loss: 0.558\n",
      "[3,  2000] loss: 1.605\n",
      "[3,  4000] loss: 0.788\n",
      "[3,  6000] loss: 0.530\n",
      "[4,  2000] loss: 1.531\n",
      "[4,  4000] loss: 0.764\n",
      "[4,  6000] loss: 0.510\n",
      "[5,  2000] loss: 1.518\n",
      "[5,  4000] loss: 0.751\n",
      "[5,  6000] loss: 0.506\n",
      "[6,  2000] loss: 1.474\n",
      "[6,  4000] loss: 0.750\n",
      "[6,  6000] loss: 0.493\n",
      "[7,  2000] loss: 1.451\n",
      "[7,  4000] loss: 0.726\n",
      "[7,  6000] loss: 0.490\n",
      "[8,  2000] loss: 1.441\n",
      "[8,  4000] loss: 0.709\n",
      "[8,  6000] loss: 0.483\n",
      "[9,  2000] loss: 1.428\n",
      "[9,  4000] loss: 0.707\n",
      "[9,  6000] loss: 0.459\n",
      "[10,  2000] loss: 1.362\n",
      "[10,  4000] loss: 0.722\n",
      "[10,  6000] loss: 0.480\n",
      "[11,  2000] loss: 1.392\n",
      "[11,  4000] loss: 0.702\n",
      "[11,  6000] loss: 0.480\n",
      "[12,  2000] loss: 1.373\n",
      "[12,  4000] loss: 0.699\n",
      "[12,  6000] loss: 0.456\n",
      "[13,  2000] loss: 1.330\n",
      "[13,  4000] loss: 0.692\n",
      "[13,  6000] loss: 0.462\n",
      "[14,  2000] loss: 1.346\n",
      "[14,  4000] loss: 0.684\n",
      "[14,  6000] loss: 0.454\n",
      "[15,  2000] loss: 1.342\n",
      "[15,  4000] loss: 0.668\n",
      "[15,  6000] loss: 0.461\n",
      "[16,  2000] loss: 1.338\n",
      "[16,  4000] loss: 0.681\n",
      "[16,  6000] loss: 0.462\n",
      "Accuracy on hold-out set: 0.5119\n",
      "Loss on hold-out set: 1.5513083720184864\n",
      "[1,  2000] loss: 2.008\n",
      "[2,  2000] loss: 1.854\n",
      "[3,  2000] loss: 1.806\n",
      "[4,  2000] loss: 1.767\n",
      "[5,  2000] loss: 1.760\n",
      "[6,  2000] loss: 1.729\n",
      "[7,  2000] loss: 1.728\n",
      "[8,  2000] loss: 1.699\n",
      "Accuracy on hold-out set: 0.3756\n",
      "Loss on hold-out set: 1.8807729154109956\n",
      "[1,  2000] loss: 2.077\n",
      "[2,  2000] loss: 1.973\n",
      "[3,  2000] loss: 1.969\n",
      "[4,  2000] loss: 1.969\n",
      "[5,  2000] loss: 1.954\n",
      "[6,  2000] loss: 1.959\n",
      "[7,  2000] loss: 1.986\n",
      "[8,  2000] loss: 1.975\n",
      "Accuracy on hold-out set: 0.2135\n",
      "Loss on hold-out set: 2.1230066833496095\n",
      "Accuracy on hold-out set: 0.3352\n",
      "Loss on hold-out set: 1.7656214798927308\n",
      "[1,  2000] loss: 2.330\n",
      "[1,  4000] loss: 1.134\n",
      "[1,  6000] loss: 0.731\n",
      "[1,  8000] loss: 0.549\n",
      "[1, 10000] loss: 0.440\n",
      "[1, 12000] loss: 0.372\n",
      "[1, 14000] loss: 0.319\n",
      "[2,  2000] loss: 2.163\n",
      "[2,  4000] loss: 1.101\n",
      "[2,  6000] loss: 0.725\n",
      "[2,  8000] loss: 0.544\n",
      "[2, 10000] loss: 0.431\n",
      "[2, 12000] loss: 0.377\n",
      "[2, 14000] loss: 0.327\n",
      "[3,  2000] loss: 2.274\n",
      "[3,  4000] loss: 1.106\n",
      "[3,  6000] loss: 0.752\n",
      "[3,  8000] loss: 0.560\n",
      "[3, 10000] loss: 0.454\n",
      "[3, 12000] loss: 0.362\n",
      "[3, 14000] loss: 0.308\n",
      "[4,  2000] loss: 2.231\n",
      "[4,  4000] loss: 1.088\n",
      "[4,  6000] loss: 0.724\n",
      "[4,  8000] loss: 0.540\n",
      "[4, 10000] loss: 0.430\n",
      "[4, 12000] loss: 0.374\n",
      "[4, 14000] loss: 0.313\n",
      "[5,  2000] loss: 2.207\n",
      "[5,  4000] loss: 1.173\n",
      "[5,  6000] loss: 0.747\n",
      "[5,  8000] loss: 0.558\n",
      "[5, 10000] loss: 0.467\n",
      "[5, 12000] loss: 0.385\n",
      "[5, 14000] loss: 0.330\n",
      "[6,  2000] loss: 2.305\n",
      "[6,  4000] loss: 1.153\n",
      "[6,  6000] loss: 0.769\n",
      "[6,  8000] loss: 0.577\n",
      "[6, 10000] loss: 0.461\n",
      "[6, 12000] loss: 0.384\n",
      "[6, 14000] loss: 0.330\n",
      "[7,  2000] loss: 2.305\n",
      "[7,  4000] loss: 1.153\n",
      "[7,  6000] loss: 0.769\n",
      "[7,  8000] loss: 0.582\n",
      "[7, 10000] loss: 0.475\n",
      "[7, 12000] loss: 0.390\n",
      "[7, 14000] loss: 0.329\n",
      "[8,  2000] loss: 2.323\n",
      "[8,  4000] loss: 1.152\n",
      "[8,  6000] loss: 0.769\n",
      "[8,  8000] loss: 0.577\n",
      "[8, 10000] loss: 0.462\n",
      "[8, 12000] loss: 0.384\n",
      "[8, 14000] loss: 0.329\n",
      "Accuracy on hold-out set: 0.09995\n",
      "Loss on hold-out set: 2.3110461993455886\n",
      "[1,  2000] loss: 2.310\n",
      "[1,  4000] loss: 1.153\n",
      "[1,  6000] loss: 0.769\n",
      "[2,  2000] loss: 2.305\n",
      "[2,  4000] loss: 1.153\n",
      "[2,  6000] loss: 0.769\n",
      "[3,  2000] loss: 2.306\n",
      "[3,  4000] loss: 1.153\n",
      "[3,  6000] loss: 0.768\n",
      "[4,  2000] loss: 2.306\n",
      "[4,  4000] loss: 1.153\n",
      "[4,  6000] loss: 0.769\n",
      "Accuracy on hold-out set: 0.09855\n",
      "Loss on hold-out set: 2.3051364242076873\n",
      "[1,  2000] loss: 2.030\n",
      "[1,  4000] loss: 0.899\n",
      "[1,  6000] loss: 0.558\n",
      "[2,  2000] loss: 1.582\n",
      "[2,  4000] loss: 0.776\n",
      "[2,  6000] loss: 0.518\n",
      "Accuracy on hold-out set: 0.45585\n",
      "Loss on hold-out set: 1.4977112193971873\n",
      "[1,  2000] loss: 1.937\n",
      "[2,  2000] loss: 1.677\n",
      "[3,  2000] loss: 1.606\n",
      "[4,  2000] loss: 1.576\n",
      "Accuracy on hold-out set: 0.4459\n",
      "Loss on hold-out set: 1.5637164632320404\n",
      "[1,  2000] loss: 2.168\n",
      "[1,  4000] loss: 1.014\n",
      "[1,  6000] loss: 0.660\n",
      "[1,  8000] loss: 0.476\n",
      "[1, 10000] loss: 0.385\n",
      "[1, 12000] loss: 0.315\n",
      "[1, 14000] loss: 0.266\n",
      "[2,  2000] loss: 1.847\n",
      "[2,  4000] loss: 0.927\n",
      "[2,  6000] loss: 0.625\n",
      "[2,  8000] loss: 0.475\n",
      "[2, 10000] loss: 0.368\n",
      "[2, 12000] loss: 0.307\n",
      "[2, 14000] loss: 0.269\n",
      "[3,  2000] loss: 1.819\n",
      "[3,  4000] loss: 0.904\n",
      "[3,  6000] loss: 0.600\n",
      "[3,  8000] loss: 0.461\n",
      "[3, 10000] loss: 0.369\n",
      "[3, 12000] loss: 0.305\n",
      "[3, 14000] loss: 0.261\n",
      "[4,  2000] loss: 1.817\n",
      "[4,  4000] loss: 0.911\n",
      "[4,  6000] loss: 0.602\n",
      "[4,  8000] loss: 0.460\n",
      "[4, 10000] loss: 0.360\n",
      "[4, 12000] loss: 0.299\n",
      "[4, 14000] loss: 0.261\n",
      "Accuracy on hold-out set: 0.33395\n",
      "Loss on hold-out set: 2.058171247297991\n",
      "[1,  2000] loss: 2.309\n",
      "[2,  2000] loss: 2.303\n",
      "[3,  2000] loss: 2.304\n",
      "[4,  2000] loss: 2.303\n",
      "[5,  2000] loss: 2.303\n",
      "[6,  2000] loss: 2.303\n",
      "[7,  2000] loss: 2.304\n",
      "[8,  2000] loss: 2.303\n",
      "[9,  2000] loss: 2.303\n",
      "[10,  2000] loss: 2.304\n",
      "[11,  2000] loss: 2.303\n",
      "[12,  2000] loss: 2.303\n",
      "[13,  2000] loss: 2.303\n",
      "[14,  2000] loss: 2.303\n",
      "[15,  2000] loss: 2.303\n",
      "[16,  2000] loss: 2.303\n",
      "Accuracy on hold-out set: 0.09925\n",
      "Loss on hold-out set: 2.304148620510101\n",
      "Accuracy on hold-out set: 0.36635\n",
      "Loss on hold-out set: 1.6834934818267822\n",
      "[1,  2000] loss: 2.088\n",
      "[1,  4000] loss: 0.940\n",
      "[1,  6000] loss: 0.585\n",
      "[1,  8000] loss: 0.417\n",
      "[1, 10000] loss: 0.328\n",
      "[1, 12000] loss: 0.269\n",
      "[1, 14000] loss: 0.227\n",
      "[2,  2000] loss: 1.541\n",
      "[2,  4000] loss: 0.753\n",
      "[2,  6000] loss: 0.498\n",
      "[2,  8000] loss: 0.369\n",
      "[2, 10000] loss: 0.294\n",
      "[2, 12000] loss: 0.238\n",
      "[2, 14000] loss: 0.205\n",
      "[3,  2000] loss: 1.410\n",
      "[3,  4000] loss: 0.696\n",
      "[3,  6000] loss: 0.453\n",
      "[3,  8000] loss: 0.336\n",
      "[3, 10000] loss: 0.277\n",
      "[3, 12000] loss: 0.230\n",
      "[3, 14000] loss: 0.198\n",
      "[4,  2000] loss: 1.289\n",
      "[4,  4000] loss: 0.673\n",
      "[4,  6000] loss: 0.436\n",
      "[4,  8000] loss: 0.322\n",
      "[4, 10000] loss: 0.263\n",
      "[4, 12000] loss: 0.221\n",
      "[4, 14000] loss: 0.190\n",
      "Accuracy on hold-out set: 0.55145\n",
      "Loss on hold-out set: 1.3644505052756373\n",
      "[1,  2000] loss: 1.729\n",
      "[2,  2000] loss: 1.402\n",
      "Accuracy on hold-out set: 0.5274\n",
      "Loss on hold-out set: 1.3429905967593192\n",
      "[1,  2000] loss: 1.848\n",
      "[2,  2000] loss: 1.489\n",
      "[3,  2000] loss: 1.374\n",
      "[4,  2000] loss: 1.305\n",
      "Accuracy on hold-out set: 0.53155\n",
      "Loss on hold-out set: 1.3054045264303684\n",
      "[1,  2000] loss: 2.057\n",
      "[2,  2000] loss: 1.979\n",
      "[3,  2000] loss: 1.974\n",
      "[4,  2000] loss: 2.159\n",
      "[5,  2000] loss: 2.145\n",
      "[6,  2000] loss: 2.207\n",
      "[7,  2000] loss: 2.250\n",
      "[8,  2000] loss: 2.259\n",
      "[9,  2000] loss: 2.260\n",
      "[10,  2000] loss: 2.259\n",
      "[11,  2000] loss: 2.256\n",
      "[12,  2000] loss: 2.258\n",
      "[13,  2000] loss: 2.258\n",
      "[14,  2000] loss: 2.254\n",
      "[15,  2000] loss: 2.260\n",
      "[16,  2000] loss: 2.260\n",
      "Accuracy on hold-out set: 0.12315\n",
      "Loss on hold-out set: 2.2544203241825103\n",
      "[1,  2000] loss: 2.309\n",
      "[1,  4000] loss: 1.153\n",
      "[1,  6000] loss: 0.768\n",
      "[2,  2000] loss: 2.305\n",
      "[2,  4000] loss: 1.152\n",
      "[2,  6000] loss: 0.768\n",
      "[3,  2000] loss: 2.305\n",
      "[3,  4000] loss: 1.152\n",
      "[3,  6000] loss: 0.768\n",
      "[4,  2000] loss: 2.305\n",
      "[4,  4000] loss: 1.153\n",
      "[4,  6000] loss: 0.768\n",
      "Accuracy on hold-out set: 0.0993\n",
      "Loss on hold-out set: 2.3041422976017\n",
      "[1,  2000] loss: 2.091\n",
      "[1,  4000] loss: 1.002\n",
      "[1,  6000] loss: 0.649\n",
      "[2,  2000] loss: 1.879\n",
      "[2,  4000] loss: 0.938\n",
      "[2,  6000] loss: 0.614\n",
      "[3,  2000] loss: 1.812\n",
      "[3,  4000] loss: 0.902\n",
      "[3,  6000] loss: 0.606\n",
      "[4,  2000] loss: 1.780\n",
      "[4,  4000] loss: 0.888\n",
      "[4,  6000] loss: 0.588\n",
      "Accuracy on hold-out set: 0.35575\n",
      "Loss on hold-out set: 1.7689569781184196\n",
      "Accuracy on hold-out set: 0.2261\n",
      "Loss on hold-out set: 2.0843301080703736\n",
      "[1,  2000] loss: 2.296--------] 0.79% \n",
      "[1,  4000] loss: 1.131\n",
      "[1,  6000] loss: 0.730\n",
      "[2,  2000] loss: 2.094\n",
      "[2,  4000] loss: 1.030\n",
      "[2,  6000] loss: 0.674\n",
      "[3,  2000] loss: 1.988\n",
      "[3,  4000] loss: 0.990\n",
      "[3,  6000] loss: 0.654\n",
      "[4,  2000] loss: 1.936\n",
      "[4,  4000] loss: 0.969\n",
      "[4,  6000] loss: 0.645\n",
      "Accuracy on hold-out set: 0.29945\n",
      "Loss on hold-out set: 1.9233590269207954\n",
      "[1,  2000] loss: 1.823--------] 6.15% \n",
      "[2,  2000] loss: 1.449\n",
      "[3,  2000] loss: 1.295\n",
      "[4,  2000] loss: 1.198\n",
      "Accuracy on hold-out set: 0.56435\n",
      "Loss on hold-out set: 1.2372645280003547\n",
      "[1,  2000] loss: 1.939--------] 8.52% \n",
      "[2,  2000] loss: 1.527\n",
      "Accuracy on hold-out set: 0.48115\n",
      "Loss on hold-out set: 1.4427610938072204\n",
      "[1,  2000] loss: 1.758--------] 9.85% \n",
      "[2,  2000] loss: 1.389\n",
      "[3,  2000] loss: 1.248\n",
      "[4,  2000] loss: 1.146\n",
      "Accuracy on hold-out set: 0.58015\n",
      "Loss on hold-out set: 1.2259274472177029\n",
      "[1,  2000] loss: 1.791--------] 12.31% \n",
      "[2,  2000] loss: 1.358\n",
      "[3,  2000] loss: 1.187\n",
      "[4,  2000] loss: 1.067\n",
      "Accuracy on hold-out set: 0.58675\n",
      "Loss on hold-out set: 1.2088938664078712\n",
      "[1,  2000] loss: 2.167--------] 14.79% \n",
      "[2,  2000] loss: 1.957\n",
      "[3,  2000] loss: 1.721\n",
      "[4,  2000] loss: 1.562\n",
      "Accuracy on hold-out set: 0.4539\n",
      "Loss on hold-out set: 1.4750507969617843\n",
      "[1,  2000] loss: 1.731--------] 17.30% \n",
      "[2,  2000] loss: 1.349\n",
      "Accuracy on hold-out set: 0.5337\n",
      "Loss on hold-out set: 1.3201547752380371\n",
      "[1,  2000] loss: 1.783--------] 18.61% \n",
      "[2,  2000] loss: 1.388\n",
      "Accuracy on hold-out set: 0.5198\n",
      "Loss on hold-out set: 1.353833634710312\n",
      "[1,  2000] loss: 1.719--------] 19.94% \n",
      "[2,  2000] loss: 1.347\n",
      "[3,  2000] loss: 1.176\n",
      "[4,  2000] loss: 1.027\n",
      "Accuracy on hold-out set: 0.58725\n",
      "Loss on hold-out set: 1.2106227020591498\n",
      "[1,  2000] loss: 2.123--------] 22.42% \n",
      "[2,  2000] loss: 1.939\n",
      "[3,  2000] loss: 1.885\n",
      "[4,  2000] loss: 1.842\n",
      "[5,  2000] loss: 1.728\n",
      "[6,  2000] loss: 1.583\n",
      "[7,  2000] loss: 1.519\n",
      "[8,  2000] loss: 1.438\n",
      "[9,  2000] loss: 1.297\n",
      "[10,  2000] loss: 1.190\n",
      "[11,  2000] loss: 1.126\n",
      "[12,  2000] loss: 1.041\n",
      "[13,  2000] loss: 0.966\n",
      "[14,  2000] loss: 0.897\n",
      "[15,  2000] loss: 0.826\n",
      "[16,  2000] loss: 0.786\n",
      "Accuracy on hold-out set: 0.52425\n",
      "Loss on hold-out set: 1.9059494117200375\n",
      "[1,  2000] loss: 1.929#-------] 31.87% \n",
      "[2,  2000] loss: 1.592\n",
      "[3,  2000] loss: 1.465\n",
      "[4,  2000] loss: 1.395\n",
      "Accuracy on hold-out set: 0.5067\n",
      "Loss on hold-out set: 1.3519619722127914\n",
      "[1,  2000] loss: 1.749#-------] 34.37% \n",
      "[2,  2000] loss: 1.383\n",
      "[3,  2000] loss: 1.252\n",
      "[4,  2000] loss: 1.123\n",
      "Accuracy on hold-out set: 0.55915\n",
      "Loss on hold-out set: 1.2927126034379006\n",
      "[1,  2000] loss: 1.739##------] 36.85% \n",
      "[2,  2000] loss: 1.368\n",
      "[3,  2000] loss: 1.200\n",
      "[4,  2000] loss: 1.080\n",
      "Accuracy on hold-out set: 0.58175\n",
      "Loss on hold-out set: 1.2363240721404551\n",
      "[1,  2000] loss: 1.756##------] 39.36% \n",
      "[2,  2000] loss: 1.385\n",
      "[3,  2000] loss: 1.229\n",
      "[4,  2000] loss: 1.115\n",
      "Accuracy on hold-out set: 0.5676\n",
      "Loss on hold-out set: 1.2583134557843207\n",
      "[1,  2000] loss: 1.792##------] 41.88% \n",
      "[2,  2000] loss: 1.390\n",
      "[3,  2000] loss: 1.228\n",
      "[4,  2000] loss: 1.104\n",
      "Accuracy on hold-out set: 0.58665\n",
      "Loss on hold-out set: 1.2118708210766316\n",
      "[1,  2000] loss: 1.736##------] 44.32% \n",
      "[2,  2000] loss: 1.371\n",
      "[3,  2000] loss: 1.219\n",
      "[4,  2000] loss: 1.095\n",
      "Accuracy on hold-out set: 0.56935\n",
      "Loss on hold-out set: 1.251769061550498\n",
      "[1,  2000] loss: 1.753###-----] 46.75% \n",
      "[2,  2000] loss: 1.348\n",
      "[3,  2000] loss: 1.182\n",
      "[4,  2000] loss: 1.056\n",
      "Accuracy on hold-out set: 0.5783\n",
      "Loss on hold-out set: 1.262167734912038\n",
      "[1,  2000] loss: 1.735###-----] 49.25% \n",
      "[2,  2000] loss: 1.358\n",
      "[3,  2000] loss: 1.199\n",
      "[4,  2000] loss: 1.086\n",
      "Accuracy on hold-out set: 0.5892\n",
      "Loss on hold-out set: 1.2176354111164809\n",
      "[1,  2000] loss: 1.752###-----] 51.77% \n",
      "[2,  2000] loss: 1.377\n",
      "[3,  2000] loss: 1.216\n",
      "[4,  2000] loss: 1.095\n",
      "Accuracy on hold-out set: 0.5796\n",
      "Loss on hold-out set: 1.2182111424148083\n",
      "[1,  2000] loss: 1.744###-----] 54.32% \n",
      "[2,  2000] loss: 1.351\n",
      "[3,  2000] loss: 1.194\n",
      "[4,  2000] loss: 1.086\n",
      "Accuracy on hold-out set: 0.5925\n",
      "Loss on hold-out set: 1.1879141518354417\n",
      "[1,  2000] loss: 1.762####----] 56.84% \n",
      "[2,  2000] loss: 1.378\n",
      "[3,  2000] loss: 1.221\n",
      "[4,  2000] loss: 1.114\n",
      "Accuracy on hold-out set: 0.5727\n",
      "Loss on hold-out set: 1.2593449824690819\n",
      "[1,  2000] loss: 1.764####----] 59.39% \n",
      "[2,  2000] loss: 1.361\n",
      "[3,  2000] loss: 1.194\n",
      "[4,  2000] loss: 1.066\n",
      "Accuracy on hold-out set: 0.59735\n",
      "Loss on hold-out set: 1.1639223558306695\n",
      "[1,  2000] loss: 1.774####----] 61.85% \n",
      "[2,  2000] loss: 1.402\n",
      "[3,  2000] loss: 1.244\n",
      "[4,  2000] loss: 1.111\n",
      "Accuracy on hold-out set: 0.57565\n",
      "Loss on hold-out set: 1.2389133441150189\n",
      "[1,  2000] loss: 1.744####----] 64.38% \n",
      "[2,  2000] loss: 1.342\n",
      "[3,  2000] loss: 1.203\n",
      "[4,  2000] loss: 1.084\n",
      "Accuracy on hold-out set: 0.56285\n",
      "Loss on hold-out set: 1.2802095195114613\n",
      "[1,  2000] loss: 1.756#####---] 66.90% \n",
      "[2,  2000] loss: 1.382\n",
      "[3,  2000] loss: 1.201\n",
      "[4,  2000] loss: 1.079\n",
      "Accuracy on hold-out set: 0.5866\n",
      "Loss on hold-out set: 1.1906435170412064\n",
      "[1,  2000] loss: 1.726#####---] 69.43% \n",
      "[2,  2000] loss: 1.351\n",
      "[3,  2000] loss: 1.215\n",
      "[4,  2000] loss: 1.080\n",
      "Accuracy on hold-out set: 0.58075\n",
      "Loss on hold-out set: 1.2312918778330089\n",
      "[1,  2000] loss: 1.722#####---] 71.97% \n",
      "[2,  2000] loss: 1.324\n",
      "[3,  2000] loss: 1.178\n",
      "[4,  2000] loss: 1.038\n",
      "Accuracy on hold-out set: 0.56805\n",
      "Loss on hold-out set: 1.2731095446705818\n",
      "[1,  2000] loss: 1.738#####---] 74.58% \n",
      "[2,  2000] loss: 1.379\n",
      "[3,  2000] loss: 1.211\n",
      "[4,  2000] loss: 1.086\n",
      "Accuracy on hold-out set: 0.5934\n",
      "Loss on hold-out set: 1.1890505406975747\n",
      "[1,  2000] loss: 1.746######--] 77.15% \n",
      "[2,  2000] loss: 1.374\n",
      "[3,  2000] loss: 1.203\n",
      "[4,  2000] loss: 1.065\n",
      "Accuracy on hold-out set: 0.5982\n",
      "Loss on hold-out set: 1.1988325692117214\n",
      "[1,  2000] loss: 1.745######--] 79.77% \n",
      "[2,  2000] loss: 1.350\n",
      "[3,  2000] loss: 1.225\n",
      "[4,  2000] loss: 1.098\n",
      "Accuracy on hold-out set: 0.56135\n",
      "Loss on hold-out set: 1.2735341193735599\n",
      "[1,  2000] loss: 1.762######--] 82.29% \n",
      "[2,  2000] loss: 1.359\n",
      "[3,  2000] loss: 1.225\n",
      "[4,  2000] loss: 1.097\n",
      "Accuracy on hold-out set: 0.58435\n",
      "Loss on hold-out set: 1.2356722233712674\n",
      "Accuracy on hold-out set: 0.100484.83% \n",
      "Loss on hold-out set: 2.304010487365723\n",
      "[1,  2000] loss: 1.830#######-] 90.16% \n",
      "[2,  2000] loss: 1.424\n",
      "[3,  2000] loss: 1.266\n",
      "[4,  2000] loss: 1.138\n",
      "Accuracy on hold-out set: 0.57195\n",
      "Loss on hold-out set: 1.2404073760688306\n",
      "[1,  2000] loss: 1.722#######-] 92.64% \n",
      "[2,  2000] loss: 1.370\n",
      "[3,  2000] loss: 1.214\n",
      "[4,  2000] loss: 1.088\n",
      "Accuracy on hold-out set: 0.58305\n",
      "Loss on hold-out set: 1.212338506168127\n",
      "[1,  2000] loss: 1.780########] 95.24% \n",
      "[2,  2000] loss: 1.368\n",
      "[3,  2000] loss: 1.215\n",
      "[4,  2000] loss: 1.105\n",
      "Accuracy on hold-out set: 0.5718\n",
      "Loss on hold-out set: 1.2868725380420685\n",
      "[1,  2000] loss: 1.728########] 97.81% \n",
      "[2,  2000] loss: 1.377\n",
      "[3,  2000] loss: 1.218\n",
      "[4,  2000] loss: 1.095\n",
      "Accuracy on hold-out set: 0.58185\n",
      "Loss on hold-out set: 1.2008048182785511\n",
      "spotPython tuning: [##########] 100.00% Done...\n",
      "\r"
     ]
    },
    {
     "data": {
      "text/plain": [
       "<spotPython.spot.spot.Spot at 0x7f26b7a72ad0>"
      ]
     },
     "execution_count": 22,
     "metadata": {},
     "output_type": "execute_result"
    }
   ],
   "source": [
    "spot_torch = spot.Spot(fun=fun,\n",
    "                   lower = lower,\n",
    "                   upper = upper,\n",
    "                   fun_evals = inf,\n",
    "                   fun_repeats = 1,\n",
    "                   max_time = MAX_TIME,\n",
    "                   noise = False,\n",
    "                   tolerance_x = np.sqrt(np.spacing(1)),\n",
    "                   var_type = var_type,\n",
    "                   var_name = var_name,\n",
    "                   infill_criterion = \"y\",\n",
    "                   n_points = 1,\n",
    "                   seed=123,\n",
    "                   log_level = 50,\n",
    "                   show_models= False,\n",
    "                   show_progress= True,\n",
    "                   fun_control = fun_control,\n",
    "                   design_control={\"init_size\": INIT_SIZE,\n",
    "                                   \"repeats\": 1},\n",
    "                   surrogate_control={\"noise\": True,\n",
    "                                      \"cod_type\": \"norm\",\n",
    "                                      \"min_theta\": -4,\n",
    "                                      \"max_theta\": 3,\n",
    "                                      \"n_theta\": len(var_name),\n",
    "                                      \"model_optimizer\": differential_evolution,\n",
    "                                      \"model_fun_evals\": 10_000,\n",
    "                                      \"log_level\": 50\n",
    "                                      })\n",
    "spot_torch.run(X_start=X_start)"
   ]
  },
  {
   "attachments": {},
   "cell_type": "markdown",
   "metadata": {},
   "source": [
    "### 4 Results"
   ]
  },
  {
   "cell_type": "code",
   "execution_count": 23,
   "metadata": {},
   "outputs": [],
   "source": [
    "SAVE = False\n",
    "LOAD = False\n",
    "\n",
    "if SAVE:\n",
    "    result_file_name = \"res_\" + experiment_name + \".pkl\"\n",
    "    with open(result_file_name, 'wb') as f:\n",
    "        pickle.dump(spot_torch, f)\n",
    "\n",
    "if LOAD:\n",
    "    result_file_name = \"res_ch10-friedman-hpt-0_maans03_60min_20init_1K_2023-04-14_10-11-19.pkl\"\n",
    "    with open(result_file_name, 'rb') as f:\n",
    "        spot_torch =  pickle.load(f)"
   ]
  },
  {
   "attachments": {},
   "cell_type": "markdown",
   "metadata": {},
   "source": [
    "* Show the Progress of the hyperparameter tuning:"
   ]
  },
  {
   "cell_type": "code",
   "execution_count": 24,
   "metadata": {},
   "outputs": [
    {
     "data": {
      "image/png": "[encoded data removed]",
      "text/plain": [
       "<Figure size 900x600 with 1 Axes>"
      ]
     },
     "metadata": {},
     "output_type": "display_data"
    }
   ],
   "source": [
    "spot_torch.plot_progress(log_y=False, filename=\"../Figures.d/\" + experiment_name+\"_progress.pdf\")"
   ]
  },
  {
   "attachments": {},
   "cell_type": "markdown",
   "metadata": {},
   "source": [
    "\n",
    "\n",
    "* Print the Results"
   ]
  },
  {
   "cell_type": "code",
   "execution_count": 25,
   "metadata": {},
   "outputs": [
    {
     "name": "stdout",
     "output_type": "stream",
     "text": [
      "| name       | type   |   default |   lower |   upper |                 tuned | transform             |   importance | stars   |\n",
      "|------------|--------|-----------|---------|---------|-----------------------|-----------------------|--------------|---------|\n",
      "| l1         | int    |       5.0 |     2.0 |     9.0 |                   9.0 | transform_power_2_int |         0.01 |         |\n",
      "| l2         | int    |       5.0 |     2.0 |     9.0 |                   6.0 | transform_power_2_int |         0.23 | .       |\n",
      "| lr         | float  |     0.001 |   1e-05 |    0.01 | 0.0010976854873314726 | None                  |         4.61 | *       |\n",
      "| batch_size | int    |       4.0 |     1.0 |     4.0 |                   3.0 | transform_power_2_int |       100.00 | ***     |\n",
      "| epochs     | int    |       3.0 |     1.0 |     4.0 |                   2.0 | transform_power_2_int |         1.57 | *       |\n",
      "| k_folds    | int    |       2.0 |     0.0 |     0.0 |                   0.0 | None                  |              |         |\n"
     ]
    }
   ],
   "source": [
    "print(gen_design_table(fun_control=fun_control, spot=spot_torch))"
   ]
  },
  {
   "attachments": {},
   "cell_type": "markdown",
   "metadata": {},
   "source": [
    "## Show variable importance"
   ]
  },
  {
   "cell_type": "code",
   "execution_count": 26,
   "metadata": {},
   "outputs": [
    {
     "data": {
      "image/png": "[encoded data removed]",
      "text/plain": [
       "<Figure size 640x480 with 1 Axes>"
      ]
     },
     "metadata": {},
     "output_type": "display_data"
    }
   ],
   "source": [
    "spot_torch.plot_importance(threshold=0.025, filename=\"../Figures.d/\" + experiment_name+\"_importance.pdf\")"
   ]
  },
  {
   "attachments": {},
   "cell_type": "markdown",
   "metadata": {},
   "source": [
    "## Get Default Hyperparameters"
   ]
  },
  {
   "cell_type": "code",
   "execution_count": 27,
   "metadata": {},
   "outputs": [
    {
     "data": {
      "text/plain": [
       "{'l1': 32, 'l2': 32, 'lr': 0.001, 'batch_size': 16, 'epochs': 8, 'k_folds': 2}"
      ]
     },
     "execution_count": 27,
     "metadata": {},
     "output_type": "execute_result"
    }
   ],
   "source": [
    "values_default = get_default_hyperparameters_for_core_model(fun_control=fun_control)\n",
    "values_default"
   ]
  },
  {
   "cell_type": "code",
   "execution_count": 28,
   "metadata": {},
   "outputs": [
    {
     "data": {
      "text/plain": [
       "Net_CIFAR10(\n",
       "  (conv1): Conv2d(3, 6, kernel_size=(5, 5), stride=(1, 1))\n",
       "  (pool): MaxPool2d(kernel_size=2, stride=2, padding=0, dilation=1, ceil_mode=False)\n",
       "  (conv2): Conv2d(6, 16, kernel_size=(5, 5), stride=(1, 1))\n",
       "  (fc1): Linear(in_features=400, out_features=32, bias=True)\n",
       "  (fc2): Linear(in_features=32, out_features=32, bias=True)\n",
       "  (fc3): Linear(in_features=32, out_features=10, bias=True)\n",
       ")"
      ]
     },
     "execution_count": 28,
     "metadata": {},
     "output_type": "execute_result"
    }
   ],
   "source": [
    "model_default = fun_control[\"core_model\"](**values_default)\n",
    "model_default"
   ]
  },
  {
   "attachments": {},
   "cell_type": "markdown",
   "metadata": {},
   "source": [
    "## Get SPOT Results"
   ]
  },
  {
   "cell_type": "code",
   "execution_count": 29,
   "metadata": {},
   "outputs": [
    {
     "name": "stdout",
     "output_type": "stream",
     "text": [
      "[[9.00000000e+00 6.00000000e+00 1.09768549e-03 3.00000000e+00\n",
      "  2.00000000e+00 0.00000000e+00]]\n"
     ]
    }
   ],
   "source": [
    "X = spot_torch.to_all_dim(spot_torch.min_X.reshape(1,-1))\n",
    "print(X)"
   ]
  },
  {
   "cell_type": "code",
   "execution_count": 30,
   "metadata": {},
   "outputs": [
    {
     "data": {
      "text/plain": [
       "[{'l1': 512,\n",
       "  'l2': 64,\n",
       "  'lr': 0.0010976854873314726,\n",
       "  'batch_size': 8,\n",
       "  'epochs': 4,\n",
       "  'k_folds': 0}]"
      ]
     },
     "execution_count": 30,
     "metadata": {},
     "output_type": "execute_result"
    }
   ],
   "source": [
    "v_dict = assign_values(X, fun_control[\"var_name\"])\n",
    "return_conf_list_from_var_dict(var_dict=v_dict, fun_control=fun_control)"
   ]
  },
  {
   "cell_type": "code",
   "execution_count": 31,
   "metadata": {},
   "outputs": [
    {
     "data": {
      "text/plain": [
       "Net_CIFAR10(\n",
       "  (conv1): Conv2d(3, 6, kernel_size=(5, 5), stride=(1, 1))\n",
       "  (pool): MaxPool2d(kernel_size=2, stride=2, padding=0, dilation=1, ceil_mode=False)\n",
       "  (conv2): Conv2d(6, 16, kernel_size=(5, 5), stride=(1, 1))\n",
       "  (fc1): Linear(in_features=400, out_features=512, bias=True)\n",
       "  (fc2): Linear(in_features=512, out_features=64, bias=True)\n",
       "  (fc3): Linear(in_features=64, out_features=10, bias=True)\n",
       ")"
      ]
     },
     "execution_count": 31,
     "metadata": {},
     "output_type": "execute_result"
    }
   ],
   "source": [
    "model_spot = get_one_core_model_from_X(X, fun_control)\n",
    "model_spot"
   ]
  },
  {
   "attachments": {},
   "cell_type": "markdown",
   "metadata": {},
   "source": [
    "## Test Set Accuracy"
   ]
  },
  {
   "cell_type": "code",
   "execution_count": 32,
   "metadata": {},
   "outputs": [
    {
     "data": {
      "text/plain": [
       "(10000, 32, 32, 3)"
      ]
     },
     "execution_count": 32,
     "metadata": {},
     "output_type": "execute_result"
    }
   ],
   "source": [
    "testset = fun_control[\"test\"]\n",
    "testset.data.shape"
   ]
  },
  {
   "cell_type": "code",
   "execution_count": 33,
   "metadata": {},
   "outputs": [
    {
     "name": "stdout",
     "output_type": "stream",
     "text": [
      "Accuracy on hold-out set: 0.451\n",
      "Loss on hold-out set: 1.5189807441234588\n"
     ]
    },
    {
     "data": {
      "text/plain": [
       "(1.5189807441234588, nan)"
      ]
     },
     "execution_count": 33,
     "metadata": {},
     "output_type": "execute_result"
    }
   ],
   "source": [
    "model_default.evaluate_hold_out(dataset = testset, shuffle=False)"
   ]
  },
  {
   "cell_type": "code",
   "execution_count": 34,
   "metadata": {},
   "outputs": [
    {
     "name": "stdout",
     "output_type": "stream",
     "text": [
      "Accuracy on hold-out set: 0.461\n",
      "Loss on hold-out set: 1.505224102973938\n"
     ]
    },
    {
     "data": {
      "text/plain": [
       "(1.505224102973938, nan)"
      ]
     },
     "execution_count": 34,
     "metadata": {},
     "output_type": "execute_result"
    }
   ],
   "source": [
    "model_spot.evaluate_hold_out(dataset = testset, shuffle=False)"
   ]
  },
  {
   "cell_type": "code",
   "execution_count": 35,
   "metadata": {},
   "outputs": [
    {
     "data": {
      "text/plain": [
       "(1.1639223558306695, 2.3110461993455886)"
      ]
     },
     "execution_count": 35,
     "metadata": {},
     "output_type": "execute_result"
    }
   ],
   "source": [
    "min(spot_torch.y), max(spot_torch.y)"
   ]
  },
  {
   "cell_type": "code",
   "execution_count": 36,
   "metadata": {},
   "outputs": [],
   "source": [
    "trainset = fun_control[\"train\"]"
   ]
  },
  {
   "cell_type": "code",
   "execution_count": 37,
   "metadata": {},
   "outputs": [
    {
     "name": "stdout",
     "output_type": "stream",
     "text": [
      "[1,  2000] loss: 1.395\n",
      "[2,  2000] loss: 1.259\n",
      "[3,  2000] loss: 1.186\n",
      "[4,  2000] loss: 1.138\n",
      "[5,  2000] loss: 1.101\n",
      "[6,  2000] loss: 1.073\n",
      "[7,  2000] loss: 1.051\n",
      "[8,  2000] loss: 1.031\n",
      "Accuracy on hold-out set: 0.6055\n",
      "Loss on hold-out set: 1.1296285688877106\n"
     ]
    },
    {
     "data": {
      "text/plain": [
       "(1.1296285688877106, nan)"
      ]
     },
     "execution_count": 37,
     "metadata": {},
     "output_type": "execute_result"
    }
   ],
   "source": [
    "model_default.evaluate_hold_out(dataset=trainset, shuffle=False, test_dataset=testset)"
   ]
  },
  {
   "cell_type": "code",
   "execution_count": 38,
   "metadata": {},
   "outputs": [
    {
     "name": "stdout",
     "output_type": "stream",
     "text": [
      "[1,  2000] loss: 1.438\n",
      "[1,  4000] loss: 0.664\n",
      "[1,  6000] loss: 0.430\n",
      "[2,  2000] loss: 1.189\n",
      "[2,  4000] loss: 0.565\n",
      "[2,  6000] loss: 0.374\n",
      "[3,  2000] loss: 1.048\n",
      "[3,  4000] loss: 0.505\n",
      "[3,  6000] loss: 0.335\n",
      "[4,  2000] loss: 0.944\n",
      "[4,  4000] loss: 0.455\n",
      "[4,  6000] loss: 0.306\n",
      "Accuracy on hold-out set: 0.6301\n",
      "Loss on hold-out set: 1.1854626206666232\n"
     ]
    },
    {
     "data": {
      "text/plain": [
       "(1.1854626206666232, nan)"
      ]
     },
     "execution_count": 38,
     "metadata": {},
     "output_type": "execute_result"
    }
   ],
   "source": [
    "model_spot.evaluate_hold_out(dataset=trainset, shuffle=False, test_dataset=testset)"
   ]
  },
  {
   "attachments": {},
   "cell_type": "markdown",
   "metadata": {},
   "source": [
    "## Detailed Hyperparameter Plots"
   ]
  },
  {
   "attachments": {},
   "cell_type": "markdown",
   "metadata": {},
   "source": [
    "* For productive use, you might want to select:\n",
    "  * `min_z=min(spot_torch.y)` and\n",
    "  * `max_z = max(spot_torch.y)`\n",
    "* These settings are not so colorful as visualizations that use `None` for the ranges, but give better insights."
   ]
  },
  {
   "cell_type": "code",
   "execution_count": 39,
   "metadata": {},
   "outputs": [
    {
     "name": "stdout",
     "output_type": "stream",
     "text": [
      "l2:  0.2326693652689432\n",
      "lr:  4.614849145627152\n",
      "batch_size:  100.0\n",
      "epochs:  1.5719703531025866\n"
     ]
    },
    {
     "data": {
      "image/png": "[encoded data removed]",
      "text/plain": [
       "<Figure size 900x600 with 3 Axes>"
      ]
     },
     "metadata": {},
     "output_type": "display_data"
    },
    {
     "data": {
      "image/png": "[encoded data removed]",
      "text/plain": [
       "<Figure size 900x600 with 3 Axes>"
      ]
     },
     "metadata": {},
     "output_type": "display_data"
    },
    {
     "data": {
      "image/png": "[encoded data removed]",
      "text/plain": [
       "<Figure size 900x600 with 3 Axes>"
      ]
     },
     "metadata": {},
     "output_type": "display_data"
    },
    {
     "data": {
      "image/png": "[encoded data removed]",
      "text/plain": [
       "<Figure size 900x600 with 3 Axes>"
      ]
     },
     "metadata": {},
     "output_type": "display_data"
    },
    {
     "data": {
      "image/png": "[encoded data removed]",
      "text/plain": [
       "<Figure size 900x600 with 3 Axes>"
      ]
     },
     "metadata": {},
     "output_type": "display_data"
    },
    {
     "data": {
      "image/png": "[encoded data removed]",
      "text/plain": [
       "<Figure size 900x600 with 3 Axes>"
      ]
     },
     "metadata": {},
     "output_type": "display_data"
    }
   ],
   "source": [
    "threshold = 0.025\n",
    "impo = spot_torch.print_importance(threshold=threshold, print_screen=True)\n",
    "var_plots = [i for i, x in enumerate(impo) if x[1] > threshold]\n",
    "min_z = min(spot_torch.y)\n",
    "max_z = max(spot_torch.y)\n",
    "n = spot_torch.k\n",
    "for i in var_plots:\n",
    "    for j in var_plots:\n",
    "        if j > i:\n",
    "            filename = \"../Figures.d/\" + experiment_name+\"_contour_\"+str(i)+\"_\"+str(j)+\".pdf\"\n",
    "            spot_torch.plot_contour(i=i, j=j, min_z=min_z, max_z = max_z, filename=filename)"
   ]
  },
  {
   "attachments": {},
   "cell_type": "markdown",
   "metadata": {},
   "source": [
    "## Parallel Coordinates Plot"
   ]
  },
  {
   "cell_type": "code",
   "execution_count": 40,
   "metadata": {},
   "outputs": [
    {
     "data": {
      "application/vnd.plotly.v1+json": {
       "config": {
        "plotlyServerURL": "https://plot.ly"
       },
       "data": [
        {
         "dimensions": [
          {
           "label": "l1",
           "range": [
            2,
            9
           ],
           "values": [
            6,
            6,
            8,
            5,
            8,
            4,
            3,
            9,
            7,
            8,
            5,
            7,
            2,
            5,
            6,
            9,
            4,
            3,
            2,
            4,
            6,
            5,
            7,
            9,
            9,
            9,
            9,
            8,
            9,
            9,
            9,
            8,
            9,
            9,
            8,
            9,
            9,
            9,
            9,
            9,
            9,
            9,
            9,
            9,
            9,
            9,
            9,
            9,
            9,
            9,
            9,
            9,
            5,
            9,
            9,
            9,
            9
           ]
          },
          {
           "label": "l2",
           "range": [
            2,
            9
           ],
           "values": [
            2,
            6,
            4,
            9,
            8,
            3,
            8,
            7,
            6,
            3,
            3,
            4,
            8,
            5,
            6,
            7,
            5,
            4,
            8,
            4,
            6,
            7,
            4,
            2,
            6,
            5,
            2,
            7,
            5,
            7,
            2,
            6,
            7,
            6,
            6,
            6,
            6,
            6,
            6,
            6,
            6,
            6,
            6,
            6,
            6,
            6,
            6,
            6,
            6,
            6,
            6,
            6,
            5,
            6,
            6,
            6,
            6
           ]
          },
          {
           "label": "lr",
           "range": [
            0.000010004972806566294,
            0.009840722147922174
           ],
           "values": [
            0.00789193024355008,
            0.0038678510883003456,
            0.005592291322749342,
            0.002391661859791094,
            0.005255854410235352,
            0.00863724245757246,
            0.006894037634811631,
            0.007070321754434554,
            0.008382665753385005,
            0.0014922403151575085,
            0.00450391103590799,
            0.0031985626199206104,
            0.002724238501379804,
            0.009189032578122026,
            0.0003054088054939381,
            0.0016364323858938318,
            0.0009702508028858111,
            0.009840722147922174,
            0.006176185054082965,
            0.004568800162080369,
            0.000010004972806566294,
            0.000010107246814015057,
            0.0008670241647807399,
            0.0007282668176913081,
            0.0013765043665978488,
            0.0009794009438284553,
            0.0006924788846396809,
            0.0010534098825748554,
            0.0012880451714698967,
            0.0010495697398907986,
            0.0012101900999244195,
            0.00016674835980651047,
            0.0012968716796374691,
            0.0012208733930975605,
            0.0012132733017942076,
            0.0011836726641108737,
            0.0011826249335890869,
            0.0011139739288750414,
            0.0011800631472566314,
            0.0011291397575584946,
            0.0010732723863953926,
            0.0009795164496472397,
            0.0010976854873314726,
            0.0010545316502576796,
            0.001069570077841582,
            0.0011516074109178352,
            0.0011535540470429594,
            0.0011449988070237056,
            0.0011498164180546754,
            0.0011540026930023637,
            0.0011554624699973458,
            0.0011520024858067033,
            0.009256907756169622,
            0.0012922221356730023,
            0.0012401552250349214,
            0.0012630442402884656,
            0.0011571388034241448
           ]
          },
          {
           "label": "batch_size",
           "range": [
            1,
            4
           ],
           "values": [
            2,
            4,
            2,
            2,
            3,
            3,
            4,
            1,
            2,
            2,
            3,
            1,
            3,
            4,
            1,
            3,
            3,
            3,
            2,
            2,
            4,
            2,
            3,
            3,
            3,
            3,
            3,
            3,
            3,
            3,
            3,
            3,
            3,
            3,
            3,
            3,
            3,
            3,
            3,
            3,
            3,
            3,
            3,
            3,
            3,
            3,
            3,
            3,
            3,
            3,
            3,
            3,
            4,
            3,
            3,
            3,
            3
           ]
          },
          {
           "label": "epochs",
           "range": [
            1,
            4
           ],
           "values": [
            3,
            3,
            1,
            4,
            3,
            3,
            3,
            3,
            2,
            1,
            2,
            2,
            4,
            3,
            2,
            1,
            2,
            4,
            2,
            2,
            1,
            2,
            2,
            1,
            2,
            2,
            2,
            1,
            1,
            2,
            4,
            2,
            2,
            2,
            2,
            2,
            2,
            2,
            2,
            2,
            2,
            2,
            2,
            2,
            2,
            2,
            2,
            2,
            2,
            2,
            2,
            2,
            4,
            2,
            2,
            2,
            2
           ]
          }
         ],
         "line": {
          "cmax": 2.3110461993455886,
          "cmin": 1.1639223558306695,
          "color": [
           2.305510416460037,
           1.33297412981987,
           1.8507284079670907,
           1.5513083720184864,
           1.8807729154109956,
           2.1230066833496095,
           1.7656214798927308,
           2.3110461993455886,
           2.3051364242076873,
           1.4977112193971873,
           1.5637164632320404,
           2.058171247297991,
           2.304148620510101,
           1.6834934818267822,
           1.3644505052756373,
           1.3429905967593192,
           1.3054045264303684,
           2.2544203241825103,
           2.3041422976017,
           1.7689569781184196,
           2.0843301080703736,
           1.9233590269207954,
           1.2372645280003547,
           1.4427610938072204,
           1.2259274472177029,
           1.2088938664078712,
           1.4750507969617843,
           1.3201547752380371,
           1.353833634710312,
           1.2106227020591498,
           1.9059494117200375,
           1.3519619722127914,
           1.2927126034379006,
           1.2363240721404551,
           1.2583134557843207,
           1.2118708210766316,
           1.251769061550498,
           1.262167734912038,
           1.2176354111164809,
           1.2182111424148083,
           1.1879141518354417,
           1.2593449824690819,
           1.1639223558306695,
           1.2389133441150189,
           1.2802095195114613,
           1.1906435170412064,
           1.2312918778330089,
           1.2731095446705818,
           1.1890505406975747,
           1.1988325692117214,
           1.2735341193735599,
           1.2356722233712674,
           2.304010487365723,
           1.2404073760688306,
           1.212338506168127,
           1.2868725380420685,
           1.2008048182785511
          ],
          "colorscale": [
           [
            0,
            "rgb(0,0,131)"
           ],
           [
            0.2,
            "rgb(0,60,170)"
           ],
           [
            0.4,
            "rgb(5,255,255)"
           ],
           [
            0.6,
            "rgb(255,255,0)"
           ],
           [
            0.8,
            "rgb(250,0,0)"
           ],
           [
            1,
            "rgb(128,0,0)"
           ]
          ],
          "showscale": true
         },
         "type": "parcoords"
        }
       ],
       "layout": {
        "template": {
         "data": {
          "bar": [
           {
            "error_x": {
             "color": "#2a3f5f"
            },
            "error_y": {
             "color": "#2a3f5f"
            },
            "marker": {
             "line": {
              "color": "#E5ECF6",
              "width": 0.5
             },
             "pattern": {
              "fillmode": "overlay",
              "size": 10,
              "solidity": 0.2
             }
            },
            "type": "bar"
           }
          ],
          "barpolar": [
           {
            "marker": {
             "line": {
              "color": "#E5ECF6",
              "width": 0.5
             },
             "pattern": {
              "fillmode": "overlay",
              "size": 10,
              "solidity": 0.2
             }
            },
            "type": "barpolar"
           }
          ],
          "carpet": [
           {
            "aaxis": {
             "endlinecolor": "#2a3f5f",
             "gridcolor": "white",
             "linecolor": "white",
             "minorgridcolor": "white",
             "startlinecolor": "#2a3f5f"
            },
            "baxis": {
             "endlinecolor": "#2a3f5f",
             "gridcolor": "white",
             "linecolor": "white",
             "minorgridcolor": "white",
             "startlinecolor": "#2a3f5f"
            },
            "type": "carpet"
           }
          ],
          "choropleth": [
           {
            "colorbar": {
             "outlinewidth": 0,
             "ticks": ""
            },
            "type": "choropleth"
           }
          ],
          "contour": [
           {
            "colorbar": {
             "outlinewidth": 0,
             "ticks": ""
            },
            "colorscale": [
             [
              0,
              "#0d0887"
             ],
             [
              0.1111111111111111,
              "#46039f"
             ],
             [
              0.2222222222222222,
              "#7201a8"
             ],
             [
              0.3333333333333333,
              "#9c179e"
             ],
             [
              0.4444444444444444,
              "#bd3786"
             ],
             [
              0.5555555555555556,
              "#d8576b"
             ],
             [
              0.6666666666666666,
              "#ed7953"
             ],
             [
              0.7777777777777778,
              "#fb9f3a"
             ],
             [
              0.8888888888888888,
              "#fdca26"
             ],
             [
              1,
              "#f0f921"
             ]
            ],
            "type": "contour"
           }
          ],
          "contourcarpet": [
           {
            "colorbar": {
             "outlinewidth": 0,
             "ticks": ""
            },
            "type": "contourcarpet"
           }
          ],
          "heatmap": [
           {
            "colorbar": {
             "outlinewidth": 0,
             "ticks": ""
            },
            "colorscale": [
             [
              0,
              "#0d0887"
             ],
             [
              0.1111111111111111,
              "#46039f"
             ],
             [
              0.2222222222222222,
              "#7201a8"
             ],
             [
              0.3333333333333333,
              "#9c179e"
             ],
             [
              0.4444444444444444,
              "#bd3786"
             ],
             [
              0.5555555555555556,
              "#d8576b"
             ],
             [
              0.6666666666666666,
              "#ed7953"
             ],
             [
              0.7777777777777778,
              "#fb9f3a"
             ],
             [
              0.8888888888888888,
              "#fdca26"
             ],
             [
              1,
              "#f0f921"
             ]
            ],
            "type": "heatmap"
           }
          ],
          "heatmapgl": [
           {
            "colorbar": {
             "outlinewidth": 0,
             "ticks": ""
            },
            "colorscale": [
             [
              0,
              "#0d0887"
             ],
             [
              0.1111111111111111,
              "#46039f"
             ],
             [
              0.2222222222222222,
              "#7201a8"
             ],
             [
              0.3333333333333333,
              "#9c179e"
             ],
             [
              0.4444444444444444,
              "#bd3786"
             ],
             [
              0.5555555555555556,
              "#d8576b"
             ],
             [
              0.6666666666666666,
              "#ed7953"
             ],
             [
              0.7777777777777778,
              "#fb9f3a"
             ],
             [
              0.8888888888888888,
              "#fdca26"
             ],
             [
              1,
              "#f0f921"
             ]
            ],
            "type": "heatmapgl"
           }
          ],
          "histogram": [
           {
            "marker": {
             "pattern": {
              "fillmode": "overlay",
              "size": 10,
              "solidity": 0.2
             }
            },
            "type": "histogram"
           }
          ],
          "histogram2d": [
           {
            "colorbar": {
             "outlinewidth": 0,
             "ticks": ""
            },
            "colorscale": [
             [
              0,
              "#0d0887"
             ],
             [
              0.1111111111111111,
              "#46039f"
             ],
             [
              0.2222222222222222,
              "#7201a8"
             ],
             [
              0.3333333333333333,
              "#9c179e"
             ],
             [
              0.4444444444444444,
              "#bd3786"
             ],
             [
              0.5555555555555556,
              "#d8576b"
             ],
             [
              0.6666666666666666,
              "#ed7953"
             ],
             [
              0.7777777777777778,
              "#fb9f3a"
             ],
             [
              0.8888888888888888,
              "#fdca26"
             ],
             [
              1,
              "#f0f921"
             ]
            ],
            "type": "histogram2d"
           }
          ],
          "histogram2dcontour": [
           {
            "colorbar": {
             "outlinewidth": 0,
             "ticks": ""
            },
            "colorscale": [
             [
              0,
              "#0d0887"
             ],
             [
              0.1111111111111111,
              "#46039f"
             ],
             [
              0.2222222222222222,
              "#7201a8"
             ],
             [
              0.3333333333333333,
              "#9c179e"
             ],
             [
              0.4444444444444444,
              "#bd3786"
             ],
             [
              0.5555555555555556,
              "#d8576b"
             ],
             [
              0.6666666666666666,
              "#ed7953"
             ],
             [
              0.7777777777777778,
              "#fb9f3a"
             ],
             [
              0.8888888888888888,
              "#fdca26"
             ],
             [
              1,
              "#f0f921"
             ]
            ],
            "type": "histogram2dcontour"
           }
          ],
          "mesh3d": [
           {
            "colorbar": {
             "outlinewidth": 0,
             "ticks": ""
            },
            "type": "mesh3d"
           }
          ],
          "parcoords": [
           {
            "line": {
             "colorbar": {
              "outlinewidth": 0,
              "ticks": ""
             }
            },
            "type": "parcoords"
           }
          ],
          "pie": [
           {
            "automargin": true,
            "type": "pie"
           }
          ],
          "scatter": [
           {
            "fillpattern": {
             "fillmode": "overlay",
             "size": 10,
             "solidity": 0.2
            },
            "type": "scatter"
           }
          ],
          "scatter3d": [
           {
            "line": {
             "colorbar": {
              "outlinewidth": 0,
              "ticks": ""
             }
            },
            "marker": {
             "colorbar": {
              "outlinewidth": 0,
              "ticks": ""
             }
            },
            "type": "scatter3d"
           }
          ],
          "scattercarpet": [
           {
            "marker": {
             "colorbar": {
              "outlinewidth": 0,
              "ticks": ""
             }
            },
            "type": "scattercarpet"
           }
          ],
          "scattergeo": [
           {
            "marker": {
             "colorbar": {
              "outlinewidth": 0,
              "ticks": ""
             }
            },
            "type": "scattergeo"
           }
          ],
          "scattergl": [
           {
            "marker": {
             "colorbar": {
              "outlinewidth": 0,
              "ticks": ""
             }
            },
            "type": "scattergl"
           }
          ],
          "scattermapbox": [
           {
            "marker": {
             "colorbar": {
              "outlinewidth": 0,
              "ticks": ""
             }
            },
            "type": "scattermapbox"
           }
          ],
          "scatterpolar": [
           {
            "marker": {
             "colorbar": {
              "outlinewidth": 0,
              "ticks": ""
             }
            },
            "type": "scatterpolar"
           }
          ],
          "scatterpolargl": [
           {
            "marker": {
             "colorbar": {
              "outlinewidth": 0,
              "ticks": ""
             }
            },
            "type": "scatterpolargl"
           }
          ],
          "scatterternary": [
           {
            "marker": {
             "colorbar": {
              "outlinewidth": 0,
              "ticks": ""
             }
            },
            "type": "scatterternary"
           }
          ],
          "surface": [
           {
            "colorbar": {
             "outlinewidth": 0,
             "ticks": ""
            },
            "colorscale": [
             [
              0,
              "#0d0887"
             ],
             [
              0.1111111111111111,
              "#46039f"
             ],
             [
              0.2222222222222222,
              "#7201a8"
             ],
             [
              0.3333333333333333,
              "#9c179e"
             ],
             [
              0.4444444444444444,
              "#bd3786"
             ],
             [
              0.5555555555555556,
              "#d8576b"
             ],
             [
              0.6666666666666666,
              "#ed7953"
             ],
             [
              0.7777777777777778,
              "#fb9f3a"
             ],
             [
              0.8888888888888888,
              "#fdca26"
             ],
             [
              1,
              "#f0f921"
             ]
            ],
            "type": "surface"
           }
          ],
          "table": [
           {
            "cells": {
             "fill": {
              "color": "#EBF0F8"
             },
             "line": {
              "color": "white"
             }
            },
            "header": {
             "fill": {
              "color": "#C8D4E3"
             },
             "line": {
              "color": "white"
             }
            },
            "type": "table"
           }
          ]
         },
         "layout": {
          "annotationdefaults": {
           "arrowcolor": "#2a3f5f",
           "arrowhead": 0,
           "arrowwidth": 1
          },
          "autotypenumbers": "strict",
          "coloraxis": {
           "colorbar": {
            "outlinewidth": 0,
            "ticks": ""
           }
          },
          "colorscale": {
           "diverging": [
            [
             0,
             "#8e0152"
            ],
            [
             0.1,
             "#c51b7d"
            ],
            [
             0.2,
             "#de77ae"
            ],
            [
             0.3,
             "#f1b6da"
            ],
            [
             0.4,
             "#fde0ef"
            ],
            [
             0.5,
             "#f7f7f7"
            ],
            [
             0.6,
             "#e6f5d0"
            ],
            [
             0.7,
             "#b8e186"
            ],
            [
             0.8,
             "#7fbc41"
            ],
            [
             0.9,
             "#4d9221"
            ],
            [
             1,
             "#276419"
            ]
           ],
           "sequential": [
            [
             0,
             "#0d0887"
            ],
            [
             0.1111111111111111,
             "#46039f"
            ],
            [
             0.2222222222222222,
             "#7201a8"
            ],
            [
             0.3333333333333333,
             "#9c179e"
            ],
            [
             0.4444444444444444,
             "#bd3786"
            ],
            [
             0.5555555555555556,
             "#d8576b"
            ],
            [
             0.6666666666666666,
             "#ed7953"
            ],
            [
             0.7777777777777778,
             "#fb9f3a"
            ],
            [
             0.8888888888888888,
             "#fdca26"
            ],
            [
             1,
             "#f0f921"
            ]
           ],
           "sequentialminus": [
            [
             0,
             "#0d0887"
            ],
            [
             0.1111111111111111,
             "#46039f"
            ],
            [
             0.2222222222222222,
             "#7201a8"
            ],
            [
             0.3333333333333333,
             "#9c179e"
            ],
            [
             0.4444444444444444,
             "#bd3786"
            ],
            [
             0.5555555555555556,
             "#d8576b"
            ],
            [
             0.6666666666666666,
             "#ed7953"
            ],
            [
             0.7777777777777778,
             "#fb9f3a"
            ],
            [
             0.8888888888888888,
             "#fdca26"
            ],
            [
             1,
             "#f0f921"
            ]
           ]
          },
          "colorway": [
           "#636efa",
           "#EF553B",
           "#00cc96",
           "#ab63fa",
           "#FFA15A",
           "#19d3f3",
           "#FF6692",
           "#B6E880",
           "#FF97FF",
           "#FECB52"
          ],
          "font": {
           "color": "#2a3f5f"
          },
          "geo": {
           "bgcolor": "white",
           "lakecolor": "white",
           "landcolor": "#E5ECF6",
           "showlakes": true,
           "showland": true,
           "subunitcolor": "white"
          },
          "hoverlabel": {
           "align": "left"
          },
          "hovermode": "closest",
          "mapbox": {
           "style": "light"
          },
          "paper_bgcolor": "white",
          "plot_bgcolor": "#E5ECF6",
          "polar": {
           "angularaxis": {
            "gridcolor": "white",
            "linecolor": "white",
            "ticks": ""
           },
           "bgcolor": "#E5ECF6",
           "radialaxis": {
            "gridcolor": "white",
            "linecolor": "white",
            "ticks": ""
           }
          },
          "scene": {
           "xaxis": {
            "backgroundcolor": "#E5ECF6",
            "gridcolor": "white",
            "gridwidth": 2,
            "linecolor": "white",
            "showbackground": true,
            "ticks": "",
            "zerolinecolor": "white"
           },
           "yaxis": {
            "backgroundcolor": "#E5ECF6",
            "gridcolor": "white",
            "gridwidth": 2,
            "linecolor": "white",
            "showbackground": true,
            "ticks": "",
            "zerolinecolor": "white"
           },
           "zaxis": {
            "backgroundcolor": "#E5ECF6",
            "gridcolor": "white",
            "gridwidth": 2,
            "linecolor": "white",
            "showbackground": true,
            "ticks": "",
            "zerolinecolor": "white"
           }
          },
          "shapedefaults": {
           "line": {
            "color": "#2a3f5f"
           }
          },
          "ternary": {
           "aaxis": {
            "gridcolor": "white",
            "linecolor": "white",
            "ticks": ""
           },
           "baxis": {
            "gridcolor": "white",
            "linecolor": "white",
            "ticks": ""
           },
           "bgcolor": "#E5ECF6",
           "caxis": {
            "gridcolor": "white",
            "linecolor": "white",
            "ticks": ""
           }
          },
          "title": {
           "x": 0.05
          },
          "xaxis": {
           "automargin": true,
           "gridcolor": "white",
           "linecolor": "white",
           "ticks": "",
           "title": {
            "standoff": 15
           },
           "zerolinecolor": "white",
           "zerolinewidth": 2
          },
          "yaxis": {
           "automargin": true,
           "gridcolor": "white",
           "linecolor": "white",
           "ticks": "",
           "title": {
            "standoff": 15
           },
           "zerolinecolor": "white",
           "zerolinewidth": 2
          }
         }
        }
       }
      }
     },
     "metadata": {},
     "output_type": "display_data"
    }
   ],
   "source": [
    "spot_torch.parallel_plot()"
   ]
  },
  {
   "attachments": {},
   "cell_type": "markdown",
   "metadata": {},
   "source": [
    "## Plot all Combinations of Hyperparameters\n",
    "\n",
    "* Warning: this may take a while."
   ]
  },
  {
   "cell_type": "code",
   "execution_count": 41,
   "metadata": {},
   "outputs": [],
   "source": [
    "PLOT_ALL = False\n",
    "if PLOT_ALL:\n",
    "    n = spot_torch.k\n",
    "    for i in range(n-1):\n",
    "        for j in range(i+1, n):\n",
    "            spot_torch.plot_contour(i=i, j=j, min_z=min_z, max_z = max_z)"
   ]
  },
  {
   "cell_type": "code",
   "execution_count": null,
   "metadata": {},
   "outputs": [],
   "source": []
  }
 ],
 "metadata": {
  "kernelspec": {
   "display_name": "spotCondaEnv",
   "language": "python",
   "name": "python3"
  },
  "language_info": {
   "codemirror_mode": {
    "name": "ipython",
    "version": 3
   },
   "file_extension": ".py",
   "mimetype": "text/x-python",
   "name": "python",
   "nbconvert_exporter": "python",
   "pygments_lexer": "ipython3",
   "version": "3.10.7"
  },
  "vscode": {
   "interpreter": {
    "hash": "81c77de872def749acd68d9955e19f0df6803301f4c1f66c3444af66334112ae"
   }
  }
 },
 "nbformat": 4,
 "nbformat_minor": 4
}
